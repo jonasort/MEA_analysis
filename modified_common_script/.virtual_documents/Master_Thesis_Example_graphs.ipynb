import networkx as nx

import matplotlib.pyplot as plt









# Generate a small-world graph with 30 nodes
small_world_graph = nx.watts_strogatz_graph(30, 5, 0.3)

# Draw the graph
plt.figure(figsize=(10, 8))
nx.draw(small_world_graph, with_labels=True, node_color='skyblue', node_size=500, font_size=10, edge_color='gray')
plt.title("Small-World Network with 30 Nodes")
plt.show()



# Find the shortest path from node 1 to node 22
shortest_path = nx.shortest_path(small_world_graph, source=1, target=22)

# Draw the graph with the shortest path highlighted in green
plt.figure(figsize=(10, 8))
pos = nx.spring_layout(small_world_graph)  # Positions for all nodes

# Draw all nodes and edges
nx.draw(small_world_graph, pos, with_labels=True, node_color='skyblue', node_size=500, font_size=10, edge_color='gray')

# Highlight the shortest path in green
path_edges = list(zip(shortest_path, shortest_path[1:]))
nx.draw_networkx_nodes(small_world_graph, pos, nodelist=shortest_path, node_color='lightgreen', node_size=500)
nx.draw_networkx_edges(small_world_graph, pos, edgelist=path_edges, edge_color='green', width=2)

plt.show()



# Redraw the graph without a title, but keeping the same layout
plt.figure(figsize=(10, 8))

# Draw the graph using the same layout and without a title
nx.draw(small_world_graph, pos, with_labels=True, node_color='skyblue', node_size=500, font_size=10, edge_color='gray')

plt.show()



# Find the shortest path from node 1 to node 21 for the updated task
shortest_path_1_to_21 = nx.shortest_path(small_world_graph, source=1, target=21)

# Redraw the graph highlighting the new shortest path from node 1 to node 21
plt.figure(figsize=(10, 8))

# Draw all nodes and edges as before
nx.draw(small_world_graph, pos, with_labels=True, node_color='skyblue', node_size=500, font_size=10, edge_color='gray')

# Highlight the new shortest path in green
path_edges_1_to_21 = list(zip(shortest_path_1_to_21, shortest_path_1_to_21[1:]))
nx.draw_networkx_nodes(small_world_graph, pos, nodelist=shortest_path_1_to_21, node_color='lightgreen', node_size=500)
nx.draw_networkx_edges(small_world_graph, pos, edgelist=path_edges_1_to_21, edge_color='green', width=2)

plt.show()




