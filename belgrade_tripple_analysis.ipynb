{
 "cells": [
  {
   "cell_type": "markdown",
   "id": "df59ba35-d9d0-4e3f-8f9f-9063856454da",
   "metadata": {},
   "source": [
    "Working Plan:"
   ]
  },
  {
   "cell_type": "markdown",
   "id": "f7dba62f-0eb9-4755-8c67-c6e69244b281",
   "metadata": {},
   "source": [
    "- LFP deviations identification: -> lowest measured point of recording of the channel"
   ]
  },
  {
   "cell_type": "markdown",
   "id": "535457f7-3d07-4308-94d6-23ac7df82fe5",
   "metadata": {},
   "source": [
    "- extract the times of these lowpoints"
   ]
  },
  {
   "cell_type": "markdown",
   "id": "3233cf98-1632-45c7-8e62-e8a02f20766f",
   "metadata": {},
   "source": [
    "- find the spiking times in these areas\n"
   ]
  },
  {
   "cell_type": "markdown",
   "id": "e1cfc009-2d02-402d-93a8-7b60aa72331b",
   "metadata": {},
   "source": [
    "Start with the "
   ]
  }
 ],
 "metadata": {
  "kernelspec": {
   "display_name": "Python 3 (ipykernel)",
   "language": "python",
   "name": "python3"
  },
  "language_info": {
   "codemirror_mode": {
    "name": "ipython",
    "version": 3
   },
   "file_extension": ".py",
   "mimetype": "text/x-python",
   "name": "python",
   "nbconvert_exporter": "python",
   "pygments_lexer": "ipython3",
   "version": "3.7.8"
  },
  "widgets": {
   "application/vnd.jupyter.widget-state+json": {
    "state": {},
    "version_major": 2,
    "version_minor": 0
   }
  }
 },
 "nbformat": 4,
 "nbformat_minor": 5
}
