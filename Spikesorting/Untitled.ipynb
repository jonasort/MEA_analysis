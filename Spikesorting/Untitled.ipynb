{
 "cells": [
  {
   "cell_type": "code",
   "execution_count": 28,
   "metadata": {},
   "outputs": [],
   "source": [
    "from herdingspikes.hs2 import HSDetection\n",
    "from herdingspikes.probe import h5py\n",
    "import matplotlib.pyplot as plt\n",
    "import numpy as np\n",
    "%matplotlib inline\n",
    "\n"
   ]
  },
  {
   "cell_type": "code",
   "execution_count": 29,
   "metadata": {},
   "outputs": [],
   "source": [
    "import os\n",
    "import sys\n",
    "import numpy as np\n",
    "import neo\n",
    "import pandas as pd\n",
    "import h5py\n",
    "import McsPy\n",
    "import sys, importlib, os\n",
    "import McsPy.McsData\n",
    "import McsPy.McsCMOS\n",
    "import glob\n",
    "from McsPy import ureg, Q_"
   ]
  },
  {
   "cell_type": "code",
   "execution_count": 30,
   "metadata": {},
   "outputs": [],
   "source": [
    "filedirec = r\"D:/Files_Reutlingen_Jenny/191021_hdf5\"\n",
    "outputdirectory_HS='D:/Files_Reutlingen_Jenny/191021_extra_Spikesorting/output_HS'\n",
    "outputdirectory_HS_phy='D:/Files_Reutlingen_Jenny/191021_extra_Spikesorting/output_HS_exportphy'\n",
    "probe_file=\"C:/Users/User/Documents/JO/gitkraken/MEA_analysis/Spikesorting/MCS_MEA_256_100µM_spacing.prb\""
   ]
  },
  {
   "cell_type": "code",
   "execution_count": 31,
   "metadata": {},
   "outputs": [],
   "source": [
    "os.chdir(filedirec)\n",
    "\n",
    "filelist = glob.glob('*.h5')\n",
    "filename=filelist[0]"
   ]
  },
  {
   "cell_type": "code",
   "execution_count": 32,
   "metadata": {},
   "outputs": [
    {
     "data": {
      "text/plain": [
       "'aCSF_HCxA_Chr2_light_5000_100light_2000stop_position12.h5'"
      ]
     },
     "execution_count": 32,
     "metadata": {},
     "output_type": "execute_result"
    }
   ],
   "source": [
    "filename"
   ]
  },
  {
   "cell_type": "code",
   "execution_count": 33,
   "metadata": {},
   "outputs": [],
   "source": [
    "# raw data location\n",
    "data_file = filename\n",
    "\n",
    "# detection parameters\n",
    "file_directory = outputdirectory_HS\n",
    "file_name = 'processed_'+filename"
   ]
  },
  {
   "cell_type": "code",
   "execution_count": 34,
   "metadata": {},
   "outputs": [
    {
     "ename": "FileNotFoundError",
     "evalue": "[Errno 2] No such file or directory: 'C:\\\\Users\\\\User\\\\anaconda3\\\\lib\\\\site-packages\\\\herdingspikes\\\\probe_info\\\\neighbormatrix_MEA256'",
     "output_type": "error",
     "traceback": [
      "\u001b[1;31m---------------------------------------------------------------------------\u001b[0m",
      "\u001b[1;31mFileNotFoundError\u001b[0m                         Traceback (most recent call last)",
      "\u001b[1;32m<ipython-input-34-803cf8983b56>\u001b[0m in \u001b[0;36m<module>\u001b[1;34m\u001b[0m\n\u001b[1;32m----> 1\u001b[1;33m \u001b[0mprobe\u001b[0m\u001b[1;33m=\u001b[0m\u001b[0mMEA256\u001b[0m\u001b[1;33m(\u001b[0m\u001b[0mdata_file\u001b[0m\u001b[1;33m)\u001b[0m\u001b[1;33m\u001b[0m\u001b[1;33m\u001b[0m\u001b[0m\n\u001b[0m",
      "\u001b[1;32m~\\anaconda3\\lib\\site-packages\\herdingspikes\\probe.py\u001b[0m in \u001b[0;36m__init__\u001b[1;34m(self, data_file_path, fps, num_channels, noise_amp_percent, inner_radius, neighbor_radius, masked_channels, event_length, peak_jitter)\u001b[0m\n\u001b[0;32m    780\u001b[0m         \u001b[0mpositions_file_path\u001b[0m \u001b[1;33m=\u001b[0m \u001b[0min_probe_info_dir\u001b[0m\u001b[1;33m(\u001b[0m\u001b[1;34m\"positions_MEA256\"\u001b[0m\u001b[1;33m)\u001b[0m\u001b[1;33m\u001b[0m\u001b[1;33m\u001b[0m\u001b[0m\n\u001b[0;32m    781\u001b[0m         \u001b[0mneighbors_file_path\u001b[0m \u001b[1;33m=\u001b[0m \u001b[0min_probe_info_dir\u001b[0m\u001b[1;33m(\u001b[0m\u001b[1;34m\"neighbormatrix_MEA256\"\u001b[0m\u001b[1;33m)\u001b[0m\u001b[1;33m\u001b[0m\u001b[1;33m\u001b[0m\u001b[0m\n\u001b[1;32m--> 782\u001b[1;33m         NeuralProbe.__init__(\n\u001b[0m\u001b[0;32m    783\u001b[0m             \u001b[0mself\u001b[0m\u001b[1;33m,\u001b[0m\u001b[1;33m\u001b[0m\u001b[1;33m\u001b[0m\u001b[0m\n\u001b[0;32m    784\u001b[0m             \u001b[0mnum_channels\u001b[0m\u001b[1;33m=\u001b[0m\u001b[0mnum_channels\u001b[0m\u001b[1;33m,\u001b[0m\u001b[1;33m\u001b[0m\u001b[1;33m\u001b[0m\u001b[0m\n",
      "\u001b[1;32m~\\anaconda3\\lib\\site-packages\\herdingspikes\\probe.py\u001b[0m in \u001b[0;36m__init__\u001b[1;34m(self, num_channels, noise_amp_percent, inner_radius, fps, positions_file_path, neighbors_file_path, neighbor_radius, event_length, peak_jitter, masked_channels, spike_peak_duration, noise_duration)\u001b[0m\n\u001b[0;32m     92\u001b[0m \u001b[1;33m\u001b[0m\u001b[0m\n\u001b[0;32m     93\u001b[0m         \u001b[0mself\u001b[0m\u001b[1;33m.\u001b[0m\u001b[0mloadPositions\u001b[0m\u001b[1;33m(\u001b[0m\u001b[0mpositions_file_path\u001b[0m\u001b[1;33m)\u001b[0m\u001b[1;33m\u001b[0m\u001b[1;33m\u001b[0m\u001b[0m\n\u001b[1;32m---> 94\u001b[1;33m         \u001b[0mself\u001b[0m\u001b[1;33m.\u001b[0m\u001b[0mloadNeighbors\u001b[0m\u001b[1;33m(\u001b[0m\u001b[0mneighbors_file_path\u001b[0m\u001b[1;33m)\u001b[0m\u001b[1;33m\u001b[0m\u001b[1;33m\u001b[0m\u001b[0m\n\u001b[0m\u001b[0;32m     95\u001b[0m \u001b[1;33m\u001b[0m\u001b[0m\n\u001b[0;32m     96\u001b[0m     \u001b[1;31m# Load in neighbor and positions files\u001b[0m\u001b[1;33m\u001b[0m\u001b[1;33m\u001b[0m\u001b[1;33m\u001b[0m\u001b[0m\n",
      "\u001b[1;32m~\\anaconda3\\lib\\site-packages\\herdingspikes\\probe.py\u001b[0m in \u001b[0;36mloadNeighbors\u001b[1;34m(self, neighbors_file_path)\u001b[0m\n\u001b[0;32m     96\u001b[0m     \u001b[1;31m# Load in neighbor and positions files\u001b[0m\u001b[1;33m\u001b[0m\u001b[1;33m\u001b[0m\u001b[1;33m\u001b[0m\u001b[0m\n\u001b[0;32m     97\u001b[0m     \u001b[1;32mdef\u001b[0m \u001b[0mloadNeighbors\u001b[0m\u001b[1;33m(\u001b[0m\u001b[0mself\u001b[0m\u001b[1;33m,\u001b[0m \u001b[0mneighbors_file_path\u001b[0m\u001b[1;33m)\u001b[0m\u001b[1;33m:\u001b[0m\u001b[1;33m\u001b[0m\u001b[1;33m\u001b[0m\u001b[0m\n\u001b[1;32m---> 98\u001b[1;33m         \u001b[0mneighbor_file\u001b[0m \u001b[1;33m=\u001b[0m \u001b[0mopen\u001b[0m\u001b[1;33m(\u001b[0m\u001b[0mneighbors_file_path\u001b[0m\u001b[1;33m,\u001b[0m \u001b[1;34m\"r\"\u001b[0m\u001b[1;33m)\u001b[0m\u001b[1;33m\u001b[0m\u001b[1;33m\u001b[0m\u001b[0m\n\u001b[0m\u001b[0;32m     99\u001b[0m         \u001b[0mneighbors\u001b[0m \u001b[1;33m=\u001b[0m \u001b[1;33m[\u001b[0m\u001b[1;33m]\u001b[0m\u001b[1;33m\u001b[0m\u001b[1;33m\u001b[0m\u001b[0m\n\u001b[0;32m    100\u001b[0m         \u001b[1;32mfor\u001b[0m \u001b[0mneighbor\u001b[0m \u001b[1;32min\u001b[0m \u001b[0mneighbor_file\u001b[0m\u001b[1;33m.\u001b[0m\u001b[0mreadlines\u001b[0m\u001b[1;33m(\u001b[0m\u001b[1;33m)\u001b[0m\u001b[1;33m:\u001b[0m\u001b[1;33m\u001b[0m\u001b[1;33m\u001b[0m\u001b[0m\n",
      "\u001b[1;31mFileNotFoundError\u001b[0m: [Errno 2] No such file or directory: 'C:\\\\Users\\\\User\\\\anaconda3\\\\lib\\\\site-packages\\\\herdingspikes\\\\probe_info\\\\neighbormatrix_MEA256'"
     ]
    }
   ],
   "source": [
    "probe=MEA256(data_file)"
   ]
  },
  {
   "cell_type": "code",
   "execution_count": 19,
   "metadata": {},
   "outputs": [
    {
     "name": "stdout",
     "output_type": "stream",
     "text": [
      "Help on class MEA256 in module herdingspikes.probe:\n",
      "\n",
      "class MEA256(NeuralProbe)\n",
      " |  MEA256(data_file_path=None, fps=30000, num_channels=256, noise_amp_percent=1, inner_radius=76, neighbor_radius=None, masked_channels=None, event_length=0.5, peak_jitter=0.2)\n",
      " |  \n",
      " |  Method resolution order:\n",
      " |      MEA256\n",
      " |      NeuralProbe\n",
      " |      builtins.object\n",
      " |  \n",
      " |  Methods defined here:\n",
      " |  \n",
      " |  Read(self, t0, t1)\n",
      " |  \n",
      " |  __init__(self, data_file_path=None, fps=30000, num_channels=256, noise_amp_percent=1, inner_radius=76, neighbor_radius=None, masked_channels=None, event_length=0.5, peak_jitter=0.2)\n",
      " |      Initialize self.  See help(type(self)) for accurate signature.\n",
      " |  \n",
      " |  ----------------------------------------------------------------------\n",
      " |  Methods inherited from NeuralProbe:\n",
      " |  \n",
      " |  getChannelsPositions(self, channels)\n",
      " |  \n",
      " |  loadNeighbors(self, neighbors_file_path)\n",
      " |      # Load in neighbor and positions files\n",
      " |  \n",
      " |  loadPositions(self, positions_file_path)\n",
      " |  \n",
      " |  show(self, show_neighbors=[10], figwidth=3)\n",
      " |      # Show visualization of probe\n",
      " |  \n",
      " |  ----------------------------------------------------------------------\n",
      " |  Data descriptors inherited from NeuralProbe:\n",
      " |  \n",
      " |  __dict__\n",
      " |      dictionary for instance variables (if defined)\n",
      " |  \n",
      " |  __weakref__\n",
      " |      list of weak references to the object (if defined)\n",
      "\n"
     ]
    }
   ],
   "source": [
    "help(MEA256)"
   ]
  },
  {
   "cell_type": "code",
   "execution_count": null,
   "metadata": {},
   "outputs": [],
   "source": []
  }
 ],
 "metadata": {
  "kernelspec": {
   "display_name": "Python 3",
   "language": "python",
   "name": "python3"
  },
  "language_info": {
   "codemirror_mode": {
    "name": "ipython",
    "version": 3
   },
   "file_extension": ".py",
   "mimetype": "text/x-python",
   "name": "python",
   "nbconvert_exporter": "python",
   "pygments_lexer": "ipython3",
   "version": "3.8.3"
  }
 },
 "nbformat": 4,
 "nbformat_minor": 4
}
