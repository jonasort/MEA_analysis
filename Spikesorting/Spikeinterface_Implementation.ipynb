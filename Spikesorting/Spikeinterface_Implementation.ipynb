{
 "cells": [
  {
   "cell_type": "code",
   "execution_count": 2,
   "metadata": {},
   "outputs": [],
   "source": [
    "#import spikeinterface modules\n",
    "import spikeinterface as si\n",
    "import spikeinterface.extractors as se\n",
    "import spikeinterface.toolkit as st\n",
    "import spikeinterface.sorters as ss\n",
    "import spikeinterface.comparison as sc\n",
    "import spikeinterface.widgets as sw\n",
    "import numpy as np\n",
    "\n",
    "#import everything else\n",
    "import os\n",
    "import sys\n",
    "import numpy as np\n",
    "import neo\n",
    "import pandas as pd\n",
    "import h5py\n",
    "import McsPy\n",
    "import sys, importlib, os\n",
    "import McsPy.McsData\n",
    "import McsPy.McsCMOS\n",
    "from McsPy import ureg, Q_"
   ]
  },
  {
   "cell_type": "markdown",
   "metadata": {},
   "source": [
    "    Toy example using the extractors module:\n",
    "    "
   ]
  },
  {
   "cell_type": "code",
   "execution_count": 141,
   "metadata": {},
   "outputs": [],
   "source": [
    "recording, sorting_true = se.example_datasets.toy_example(duration=10, num_channels=4, seed=0)\n"
   ]
  },
  {
   "cell_type": "markdown",
   "metadata": {},
   "source": [
    "The .h5 files to actually try spike sorting. "
   ]
  },
  {
   "cell_type": "code",
   "execution_count": 3,
   "metadata": {},
   "outputs": [],
   "source": [
    "filedirec = \"/Users/jonas/Documents/DATA/TIRAL_H5_fileformat/\"\n",
    "filename = \"HCxA_Chr2_light_5V_100light_2000stop_position8.h5\"\n",
    "scriptdirec=\"/Users/jonas/Documents/CODE/Untitled Folder/\""
   ]
  },
  {
   "cell_type": "markdown",
   "metadata": {},
   "source": [
    "First problem is: We need a probe file, that takes the random configuration of channels of the MCS - MEA System into account. Let us first review the 'order' MCS channeles: "
   ]
  },
  {
   "cell_type": "code",
   "execution_count": 4,
   "metadata": {},
   "outputs": [],
   "source": [
    "channel_raw_data = McsPy.McsData.RawData(os.path.join(filedirec, filename))\n"
   ]
  },
  {
   "cell_type": "code",
   "execution_count": 20,
   "metadata": {},
   "outputs": [],
   "source": [
    "# find out, where our channel labels are hiding\n",
    "channel_raw_data.recordings[0].analog_streams[0].channel_infos[1]\n",
    "analog_stream_0 = channel_raw_data.recordings[0].analog_streams[0]\n",
    "ids = [c.channel_id for c in analog_stream_0.channel_infos.values()]\n"
   ]
  },
  {
   "cell_type": "code",
   "execution_count": 21,
   "metadata": {},
   "outputs": [
    {
     "data": {
      "text/plain": [
       "[0,\n",
       " 1,\n",
       " 2,\n",
       " 3,\n",
       " 4,\n",
       " 5,\n",
       " 6,\n",
       " 7,\n",
       " 8,\n",
       " 9,\n",
       " 10,\n",
       " 11,\n",
       " 12,\n",
       " 13,\n",
       " 14,\n",
       " 15,\n",
       " 16,\n",
       " 17,\n",
       " 18,\n",
       " 19,\n",
       " 20,\n",
       " 21,\n",
       " 22,\n",
       " 23,\n",
       " 24,\n",
       " 25,\n",
       " 26,\n",
       " 27,\n",
       " 28,\n",
       " 29,\n",
       " 30,\n",
       " 31,\n",
       " 32,\n",
       " 33,\n",
       " 34,\n",
       " 35,\n",
       " 36,\n",
       " 37,\n",
       " 38,\n",
       " 39,\n",
       " 40,\n",
       " 41,\n",
       " 42,\n",
       " 43,\n",
       " 44,\n",
       " 45,\n",
       " 46,\n",
       " 47,\n",
       " 48,\n",
       " 49,\n",
       " 50,\n",
       " 51,\n",
       " 52,\n",
       " 53,\n",
       " 54,\n",
       " 55,\n",
       " 56,\n",
       " 57,\n",
       " 58,\n",
       " 59,\n",
       " 60,\n",
       " 61,\n",
       " 62,\n",
       " 63,\n",
       " 64,\n",
       " 65,\n",
       " 66,\n",
       " 67,\n",
       " 68,\n",
       " 69,\n",
       " 70,\n",
       " 71,\n",
       " 72,\n",
       " 73,\n",
       " 74,\n",
       " 75,\n",
       " 76,\n",
       " 77,\n",
       " 78,\n",
       " 79,\n",
       " 80,\n",
       " 81,\n",
       " 82,\n",
       " 83,\n",
       " 84,\n",
       " 85,\n",
       " 86,\n",
       " 87,\n",
       " 88,\n",
       " 89,\n",
       " 90,\n",
       " 91,\n",
       " 92,\n",
       " 93,\n",
       " 94,\n",
       " 95,\n",
       " 96,\n",
       " 97,\n",
       " 98,\n",
       " 99,\n",
       " 100,\n",
       " 101,\n",
       " 102,\n",
       " 103,\n",
       " 104,\n",
       " 105,\n",
       " 106,\n",
       " 107,\n",
       " 108,\n",
       " 109,\n",
       " 110,\n",
       " 111,\n",
       " 112,\n",
       " 113,\n",
       " 114,\n",
       " 115,\n",
       " 116,\n",
       " 117,\n",
       " 118,\n",
       " 119,\n",
       " 120,\n",
       " 121,\n",
       " 122,\n",
       " 123,\n",
       " 124,\n",
       " 125,\n",
       " 128,\n",
       " 129,\n",
       " 130,\n",
       " 131,\n",
       " 132,\n",
       " 133,\n",
       " 134,\n",
       " 135,\n",
       " 136,\n",
       " 137,\n",
       " 138,\n",
       " 139,\n",
       " 140,\n",
       " 141,\n",
       " 142,\n",
       " 143,\n",
       " 144,\n",
       " 145,\n",
       " 146,\n",
       " 147,\n",
       " 148,\n",
       " 149,\n",
       " 150,\n",
       " 151,\n",
       " 152,\n",
       " 153,\n",
       " 154,\n",
       " 155,\n",
       " 156,\n",
       " 157,\n",
       " 158,\n",
       " 159,\n",
       " 160,\n",
       " 161,\n",
       " 162,\n",
       " 163,\n",
       " 164,\n",
       " 165,\n",
       " 166,\n",
       " 167,\n",
       " 168,\n",
       " 169,\n",
       " 170,\n",
       " 171,\n",
       " 172,\n",
       " 173,\n",
       " 174,\n",
       " 175,\n",
       " 176,\n",
       " 177,\n",
       " 178,\n",
       " 179,\n",
       " 180,\n",
       " 181,\n",
       " 182,\n",
       " 183,\n",
       " 184,\n",
       " 185,\n",
       " 186,\n",
       " 187,\n",
       " 188,\n",
       " 189,\n",
       " 190,\n",
       " 191,\n",
       " 192,\n",
       " 193,\n",
       " 194,\n",
       " 195,\n",
       " 196,\n",
       " 197,\n",
       " 198,\n",
       " 199,\n",
       " 200,\n",
       " 201,\n",
       " 202,\n",
       " 203,\n",
       " 204,\n",
       " 205,\n",
       " 206,\n",
       " 207,\n",
       " 208,\n",
       " 209,\n",
       " 210,\n",
       " 211,\n",
       " 212,\n",
       " 213,\n",
       " 214,\n",
       " 215,\n",
       " 216,\n",
       " 217,\n",
       " 218,\n",
       " 219,\n",
       " 220,\n",
       " 221,\n",
       " 222,\n",
       " 223,\n",
       " 224,\n",
       " 225,\n",
       " 226,\n",
       " 227,\n",
       " 228,\n",
       " 229,\n",
       " 230,\n",
       " 231,\n",
       " 232,\n",
       " 233,\n",
       " 234,\n",
       " 235,\n",
       " 236,\n",
       " 237,\n",
       " 238,\n",
       " 239,\n",
       " 240,\n",
       " 241,\n",
       " 242,\n",
       " 243,\n",
       " 244,\n",
       " 245,\n",
       " 246,\n",
       " 247,\n",
       " 248,\n",
       " 249,\n",
       " 250,\n",
       " 251,\n",
       " 252,\n",
       " 253]"
      ]
     },
     "execution_count": 21,
     "metadata": {},
     "output_type": "execute_result"
    }
   ],
   "source": [
    "ids"
   ]
  },
  {
   "cell_type": "markdown",
   "metadata": {},
   "source": [
    "Here is the channel_id"
   ]
  },
  {
   "cell_type": "code",
   "execution_count": 22,
   "metadata": {},
   "outputs": [
    {
     "data": {
      "text/plain": [
       "{'ChannelID': 0,\n",
       " 'RowIndex': 0,\n",
       " 'GroupID': 0,\n",
       " 'ElectrodeGroup': 0,\n",
       " 'Label': 'R12',\n",
       " 'RawDataType': 'Int',\n",
       " 'Unit': 'V',\n",
       " 'Exponent': -12,\n",
       " 'ADZero': 0,\n",
       " 'Tick': 40,\n",
       " 'ConversionFactor': 104166,\n",
       " 'ADCBits': 16,\n",
       " 'HighPassFilterType': '',\n",
       " 'HighPassFilterCutOffFrequency': '-1',\n",
       " 'HighPassFilterOrder': -1,\n",
       " 'LowPassFilterType': '',\n",
       " 'LowPassFilterCutOffFrequency': '-1',\n",
       " 'LowPassFilterOrder': -1}"
      ]
     },
     "execution_count": 22,
     "metadata": {},
     "output_type": "execute_result"
    }
   ],
   "source": [
    "# here we find in the info part of channel infos all we search: info is a dictionary which\n",
    "# has the 'Label' key\n",
    "channel_raw_data.recordings[0].analog_streams[0].channel_infos[0].info\n"
   ]
  },
  {
   "cell_type": "code",
   "execution_count": null,
   "metadata": {},
   "outputs": [],
   "source": [
    "Next, we create a dictionary. As keys we use the "
   ]
  },
  {
   "cell_type": "code",
   "execution_count": null,
   "metadata": {},
   "outputs": [],
   "source": []
  },
  {
   "cell_type": "code",
   "execution_count": null,
   "metadata": {},
   "outputs": [],
   "source": []
  },
  {
   "cell_type": "code",
   "execution_count": null,
   "metadata": {},
   "outputs": [],
   "source": []
  },
  {
   "cell_type": "code",
   "execution_count": null,
   "metadata": {},
   "outputs": [],
   "source": []
  },
  {
   "cell_type": "code",
   "execution_count": 143,
   "metadata": {},
   "outputs": [
    {
     "data": {
      "image/png": "[encoded data removed]",
      "text/plain": [
       "<Figure size 432x288 with 1 Axes>"
      ]
     },
     "metadata": {
      "needs_background": "light"
     },
     "output_type": "display_data"
    },
    {
     "data": {
      "image/png": "[encoded data removed]",
      "text/plain": [
       "<Figure size 432x288 with 1 Axes>"
      ]
     },
     "metadata": {
      "needs_background": "light"
     },
     "output_type": "display_data"
    }
   ],
   "source": [
    "w_ts = sw.plot_timeseries(recording, trange=[0,5])\n",
    "w_rs = sw.plot_rasters(sorting_true, trange=[0,5])\n",
    "#w_wf = sw.plot_unit_waveforms(recording, sorting, max_spikes_per_unit=100)\n"
   ]
  },
  {
   "cell_type": "markdown",
   "metadata": {},
   "source": [
    "Extracting infor from recording:"
   ]
  },
  {
   "cell_type": "code",
   "execution_count": 60,
   "metadata": {},
   "outputs": [],
   "source": [
    "channel_ids = recording.get_channel_ids()\n",
    "fs = recording.get_sampling_frequency()\n",
    "num_chan = recording.get_num_channels()\n"
   ]
  },
  {
   "cell_type": "code",
   "execution_count": 55,
   "metadata": {},
   "outputs": [
    {
     "data": {
      "text/plain": [
       "4"
      ]
     },
     "execution_count": 55,
     "metadata": {},
     "output_type": "execute_result"
    }
   ],
   "source": [
    "num_chan"
   ]
  },
  {
   "cell_type": "code",
   "execution_count": 38,
   "metadata": {},
   "outputs": [],
   "source": [
    "import spikeextractors as se\n"
   ]
  },
  {
   "cell_type": "markdown",
   "metadata": {},
   "source": [
    "\n",
    "\n",
    "# MEA DATA"
   ]
  },
  {
   "cell_type": "code",
   "execution_count": 144,
   "metadata": {},
   "outputs": [],
   "source": [
    "recording=se.MCSH5RecordingExtractor(filedirec+filename)"
   ]
  },
  {
   "cell_type": "code",
   "execution_count": 145,
   "metadata": {},
   "outputs": [],
   "source": [
    "channel_ids = recording_MEA.get_channel_ids()\n",
    "fs = recording_MEA.get_sampling_frequency()\n",
    "num_chan = recording_MEA.get_num_channels()"
   ]
  },
  {
   "cell_type": "code",
   "execution_count": 146,
   "metadata": {},
   "outputs": [
    {
     "data": {
      "text/plain": [
       "24999.999999999996"
      ]
     },
     "execution_count": 146,
     "metadata": {},
     "output_type": "execute_result"
    }
   ],
   "source": [
    "fs"
   ]
  },
  {
   "cell_type": "code",
   "execution_count": 147,
   "metadata": {},
   "outputs": [],
   "source": [
    "recording_f = st.preprocessing.bandpass_filter(recording, freq_min=300, freq_max=6000)\n",
    "recording_cmr = st.preprocessing.common_reference(recording_f, reference='median')\n"
   ]
  },
  {
   "cell_type": "code",
   "execution_count": 148,
   "metadata": {},
   "outputs": [],
   "source": [
    "spike_train = sorting_true.get_unit_spike_train(unit_id=unit_ids[0])\n"
   ]
  },
  {
   "cell_type": "code",
   "execution_count": 149,
   "metadata": {},
   "outputs": [
    {
     "data": {
      "text/plain": [
       "array([ 21478,  36186, 115033, 116600, 124535, 127993, 131277, 159400,\n",
       "       163465, 164645, 183164, 192248, 196081, 214557, 215749, 233858,\n",
       "       234350, 250897, 263249, 267532, 284621, 293768])"
      ]
     },
     "execution_count": 149,
     "metadata": {},
     "output_type": "execute_result"
    }
   ],
   "source": [
    "spike_train"
   ]
  },
  {
   "cell_type": "code",
   "execution_count": 150,
   "metadata": {},
   "outputs": [],
   "source": [
    "recording_f = st.preprocessing.bandpass_filter(recording, freq_min=300, freq_max=6000)\n"
   ]
  },
  {
   "cell_type": "code",
   "execution_count": 151,
   "metadata": {},
   "outputs": [
    {
     "data": {
      "text/plain": [
       "<spiketoolkit.preprocessing.bandpass_filter.BandpassFilterRecording at 0x7f8e417d6490>"
      ]
     },
     "execution_count": 151,
     "metadata": {},
     "output_type": "execute_result"
    }
   ],
   "source": [
    "recording_f"
   ]
  },
  {
   "cell_type": "code",
   "execution_count": 152,
   "metadata": {},
   "outputs": [],
   "source": [
    "recording_cmr = st.preprocessing.common_reference(recording_f, reference='median')\n"
   ]
  },
  {
   "cell_type": "code",
   "execution_count": 153,
   "metadata": {},
   "outputs": [
    {
     "data": {
      "image/png": "[encoded data removed]",
      "text/plain": [
       "<Figure size 432x288 with 1 Axes>"
      ]
     },
     "metadata": {
      "needs_background": "light"
     },
     "output_type": "display_data"
    }
   ],
   "source": [
    "w_ts = sw.plot_timeseries(recording, trange=[0,5])\n",
    "#w_rs = sw.plot_rasters(sorting_true, trange=[0,5])"
   ]
  },
  {
   "cell_type": "code",
   "execution_count": 154,
   "metadata": {},
   "outputs": [
    {
     "name": "stdout",
     "output_type": "stream",
     "text": [
      "Num. channels = 252\n",
      "Sampling frequency = 24999.999999999996 Hz\n",
      "Num. timepoints = 3000000\n",
      "Stdev. on third channel = 4.433668937372476e-06\n",
      "Location of third electrode = [nan nan]\n"
     ]
    }
   ],
   "source": [
    "print('Num. channels = {}'.format(len(recording.get_channel_ids())))\n",
    "print('Sampling frequency = {} Hz'.format(recording.get_sampling_frequency()))\n",
    "print('Num. timepoints = {}'.format(recording.get_num_frames()))\n",
    "print('Stdev. on third channel = {}'.format(np.std(recording.get_traces(channel_ids=2))))\n",
    "print('Location of third electrode = {}'.format(recording.get_channel_property(channel_id=2, property_name='location')))"
   ]
  },
  {
   "cell_type": "code",
   "execution_count": 113,
   "metadata": {},
   "outputs": [
    {
     "data": {
      "text/plain": [
       "(252, 3000000)"
      ]
     },
     "execution_count": 113,
     "metadata": {},
     "output_type": "execute_result"
    }
   ],
   "source": [
    "np.shape(recording.get_traces())"
   ]
  },
  {
   "cell_type": "code",
   "execution_count": 166,
   "metadata": {},
   "outputs": [],
   "source": [
    "recording_mea=recording.load_probe_file(probe_file='/Users/jonas/Documents/CODE/Untitled Folder/small_mea_256.prb')"
   ]
  },
  {
   "cell_type": "code",
   "execution_count": 179,
   "metadata": {},
   "outputs": [
    {
     "data": {
      "text/plain": [
       "array([[450., 330.],\n",
       "       [300., 270.],\n",
       "       [390., 270.],\n",
       "       [420., 300.],\n",
       "       [300., 240.],\n",
       "       [360., 240.],\n",
       "       [330., 210.],\n",
       "       [450., 210.],\n",
       "       [390., 150.],\n",
       "       [360., 180.],\n",
       "       [450.,  90.],\n",
       "       [420., 120.],\n",
       "       [450.,  30.],\n",
       "       [330., 120.],\n",
       "       [270., 150.],\n",
       "       [240., 210.],\n",
       "       [300.,  30.],\n",
       "       [330.,   0.],\n",
       "       [240.,  90.],\n",
       "       [270.,  60.],\n",
       "       [210.,   0.],\n",
       "       [240., 150.],\n",
       "       [180.,  90.],\n",
       "       [210., 120.],\n",
       "       [120.,  30.],\n",
       "       [150.,  60.],\n",
       "       [360., 360.],\n",
       "       [390., 390.],\n",
       "       [450., 360.],\n",
       "       [300., 300.],\n",
       "       [390., 300.],\n",
       "       [420., 330.],\n",
       "       [330., 240.],\n",
       "       [360., 270.],\n",
       "       [300., 210.],\n",
       "       [450., 240.],\n",
       "       [390., 180.],\n",
       "       [360., 210.],\n",
       "       [450., 120.],\n",
       "       [420., 150.],\n",
       "       [270., 180.],\n",
       "       [300., 180.],\n",
       "       [360.,  90.],\n",
       "       [390.,  60.],\n",
       "       [360.,   0.],\n",
       "       [300., 150.],\n",
       "       [300.,  60.],\n",
       "       [330.,  30.],\n",
       "       [240., 120.],\n",
       "       [270.,  90.],\n",
       "       [210., 150.],\n",
       "       [240.,   0.],\n",
       "       [180.,  60.],\n",
       "       [210.,  90.],\n",
       "       [120.,   0.],\n",
       "       [150.,  30.],\n",
       "       [270., 360.],\n",
       "       [300., 450.],\n",
       "       [240., 330.],\n",
       "       [270., 420.],\n",
       "       [240., 450.],\n",
       "       [240., 390.],\n",
       "       [270., 270.],\n",
       "       [390., 450.],\n",
       "       [450., 390.],\n",
       "       [450., 420.],\n",
       "       [390., 330.],\n",
       "       [420., 360.],\n",
       "       [330., 270.],\n",
       "       [360., 300.],\n",
       "       [420., 240.],\n",
       "       [450., 270.],\n",
       "       [390., 210.],\n",
       "       [270., 210.],\n",
       "       [450., 150.],\n",
       "       [420., 180.],\n",
       "       [360., 120.],\n",
       "       [330., 150.],\n",
       "       [420.,  60.],\n",
       "       [390.,  90.],\n",
       "       [390.,   0.],\n",
       "       [420.,   0.],\n",
       "       [330.,  60.],\n",
       "       [360.,  30.],\n",
       "       [270., 120.],\n",
       "       [300.,  90.],\n",
       "       [240.,  30.],\n",
       "       [270.,   0.],\n",
       "       [210.,  60.],\n",
       "       [210., 180.],\n",
       "       [150.,   0.],\n",
       "       [180.,  30.],\n",
       "       [120.,  90.],\n",
       "       [150., 120.],\n",
       "       [420., 390.],\n",
       "       [420., 420.],\n",
       "       [360., 330.],\n",
       "       [390., 360.],\n",
       "       [450., 300.],\n",
       "       [330., 300.],\n",
       "       [390., 240.],\n",
       "       [420., 270.],\n",
       "       [420., 210.],\n",
       "       [270., 240.],\n",
       "       [330., 180.],\n",
       "       [450., 180.],\n",
       "       [390., 120.],\n",
       "       [360., 150.],\n",
       "       [450.,  60.],\n",
       "       [420.,  90.],\n",
       "       [390.,  30.],\n",
       "       [420.,  30.],\n",
       "       [330.,  90.],\n",
       "       [360.,  60.],\n",
       "       [300.,   0.],\n",
       "       [300., 120.],\n",
       "       [240.,  60.],\n",
       "       [270.,  30.],\n",
       "       [210.,  30.],\n",
       "       [240., 180.],\n",
       "       [180., 120.],\n",
       "       [180.,   0.],\n",
       "       [120.,  60.],\n",
       "       [150.,  90.],\n",
       "       [240., 240.],\n",
       "       [420., 450.],\n",
       "       [  0., 120.],\n",
       "       [150., 180.],\n",
       "       [ 60., 180.],\n",
       "       [ 30., 150.],\n",
       "       [150., 210.],\n",
       "       [ 90., 210.],\n",
       "       [120., 240.],\n",
       "       [  0., 240.],\n",
       "       [ 60., 300.],\n",
       "       [ 90., 270.],\n",
       "       [  0., 420.],\n",
       "       [120., 330.],\n",
       "       [  0., 360.],\n",
       "       [ 30., 330.],\n",
       "       [150., 360.],\n",
       "       [270., 450.],\n",
       "       [120., 450.],\n",
       "       [240., 420.],\n",
       "       [240., 360.],\n",
       "       [210., 270.],\n",
       "       [240., 300.],\n",
       "       [210., 390.],\n",
       "       [210., 330.],\n",
       "       [210., 450.],\n",
       "       [180., 180.],\n",
       "       [180., 150.],\n",
       "       [ 90.,  90.],\n",
       "       [ 60.,  60.],\n",
       "       [  0.,  90.],\n",
       "       [150., 150.],\n",
       "       [ 60., 150.],\n",
       "       [ 30., 120.],\n",
       "       [120., 210.],\n",
       "       [ 90., 180.],\n",
       "       [150., 240.],\n",
       "       [  0., 210.],\n",
       "       [ 60., 270.],\n",
       "       [ 90., 240.],\n",
       "       [  0., 330.],\n",
       "       [ 30., 300.],\n",
       "       [ 90., 360.],\n",
       "       [ 60., 390.],\n",
       "       [180., 270.],\n",
       "       [150., 270.],\n",
       "       [180., 360.],\n",
       "       [180., 420.],\n",
       "       [150., 390.],\n",
       "       [150., 450.],\n",
       "       [120., 420.],\n",
       "       [150., 330.],\n",
       "       [ 90., 450.],\n",
       "       [120., 360.],\n",
       "       [150., 300.],\n",
       "       [ 90., 390.],\n",
       "       [210., 300.],\n",
       "       [240., 270.],\n",
       "       [210., 360.],\n",
       "       [210., 420.],\n",
       "       [180., 390.],\n",
       "       [180., 450.],\n",
       "       [150., 420.],\n",
       "       [180., 330.],\n",
       "       [ 60.,  30.],\n",
       "       [ 90.,  60.],\n",
       "       [  0.,  60.],\n",
       "       [  0.,  30.],\n",
       "       [ 60., 120.],\n",
       "       [ 30.,  90.],\n",
       "       [120., 180.],\n",
       "       [ 90., 150.],\n",
       "       [ 30., 210.],\n",
       "       [  0., 180.],\n",
       "       [ 60., 240.],\n",
       "       [180., 240.],\n",
       "       [  0., 300.],\n",
       "       [ 30., 270.],\n",
       "       [ 90., 330.],\n",
       "       [120., 300.],\n",
       "       [ 60., 450.],\n",
       "       [ 30., 450.],\n",
       "       [ 30., 390.],\n",
       "       [ 60., 360.],\n",
       "       [ 90., 420.],\n",
       "       [390., 420.],\n",
       "       [210., 240.],\n",
       "       [360., 390.],\n",
       "       [330., 330.],\n",
       "       [330., 360.],\n",
       "       [360., 450.],\n",
       "       [300., 330.],\n",
       "       [300., 390.],\n",
       "       [330., 420.],\n",
       "       [ 60.,   0.],\n",
       "       [ 90.,  30.],\n",
       "       [ 30.,  60.],\n",
       "       [ 30.,  30.],\n",
       "       [ 90., 120.],\n",
       "       [ 60.,  90.],\n",
       "       [  0., 150.],\n",
       "       [120., 150.],\n",
       "       [ 60., 210.],\n",
       "       [ 30., 180.],\n",
       "       [ 30., 240.],\n",
       "       [180., 210.],\n",
       "       [120., 270.],\n",
       "       [  0., 270.],\n",
       "       [ 60., 330.],\n",
       "       [ 90., 300.],\n",
       "       [ 60., 420.],\n",
       "       [ 30., 420.],\n",
       "       [  0., 390.],\n",
       "       [ 30., 360.],\n",
       "       [120., 390.],\n",
       "       [360., 420.],\n",
       "       [180., 300.],\n",
       "       [330., 390.],\n",
       "       [270., 300.],\n",
       "       [300., 360.],\n",
       "       [330., 450.],\n",
       "       [270., 330.],\n",
       "       [270., 390.],\n",
       "       [300., 420.],\n",
       "       [120., 120.],\n",
       "       [ 90.,   0.],\n",
       "       [ nan,  nan],\n",
       "       [ nan,  nan]])"
      ]
     },
     "execution_count": 179,
     "metadata": {},
     "output_type": "execute_result"
    }
   ],
   "source": [
    "recording_mea.get_channel_locations()"
   ]
  },
  {
   "cell_type": "code",
   "execution_count": null,
   "metadata": {},
   "outputs": [],
   "source": []
  },
  {
   "cell_type": "code",
   "execution_count": null,
   "metadata": {},
   "outputs": [],
   "source": []
  },
  {
   "cell_type": "code",
   "execution_count": 181,
   "metadata": {},
   "outputs": [
    {
     "ename": "AttributeError",
     "evalue": "'location' not found as a property",
     "output_type": "error",
     "traceback": [
      "\u001b[0;31m---------------------------------------------------------------------------\u001b[0m",
      "\u001b[0;31mAttributeError\u001b[0m                            Traceback (most recent call last)",
      "\u001b[0;32m<ipython-input-181-6693b483b702>\u001b[0m in \u001b[0;36m<module>\u001b[0;34m\u001b[0m\n\u001b[0;32m----> 1\u001b[0;31m \u001b[0mw_el_tetrode\u001b[0m \u001b[0;34m=\u001b[0m \u001b[0msw\u001b[0m\u001b[0;34m.\u001b[0m\u001b[0mplot_electrode_geometry\u001b[0m\u001b[0;34m(\u001b[0m\u001b[0mrecording_mea\u001b[0m\u001b[0;34m)\u001b[0m\u001b[0;34m\u001b[0m\u001b[0;34m\u001b[0m\u001b[0m\n\u001b[0m",
      "\u001b[0;32m/opt/anaconda3/lib/python3.7/site-packages/spikewidgets/widgets/electrodegeometrywidget/electrodegeometrywidget.py\u001b[0m in \u001b[0;36mplot_electrode_geometry\u001b[0;34m(recording, color, label_color, figure, ax)\u001b[0m\n\u001b[1;32m     32\u001b[0m         \u001b[0mlabel_color\u001b[0m\u001b[0;34m=\u001b[0m\u001b[0mlabel_color\u001b[0m\u001b[0;34m,\u001b[0m\u001b[0;34m\u001b[0m\u001b[0;34m\u001b[0m\u001b[0m\n\u001b[1;32m     33\u001b[0m         \u001b[0mfigure\u001b[0m\u001b[0;34m=\u001b[0m\u001b[0mfigure\u001b[0m\u001b[0;34m,\u001b[0m\u001b[0;34m\u001b[0m\u001b[0;34m\u001b[0m\u001b[0m\n\u001b[0;32m---> 34\u001b[0;31m         \u001b[0max\u001b[0m\u001b[0;34m=\u001b[0m\u001b[0max\u001b[0m\u001b[0;34m\u001b[0m\u001b[0;34m\u001b[0m\u001b[0m\n\u001b[0m\u001b[1;32m     35\u001b[0m     )\n\u001b[1;32m     36\u001b[0m     \u001b[0mW\u001b[0m\u001b[0;34m.\u001b[0m\u001b[0mplot\u001b[0m\u001b[0;34m(\u001b[0m\u001b[0;34m)\u001b[0m\u001b[0;34m\u001b[0m\u001b[0;34m\u001b[0m\u001b[0m\n",
      "\u001b[0;32m/opt/anaconda3/lib/python3.7/site-packages/spikewidgets/widgets/electrodegeometrywidget/electrodegeometrywidget.py\u001b[0m in \u001b[0;36m__init__\u001b[0;34m(self, recording, color, label_color, figure, ax)\u001b[0m\n\u001b[1;32m     41\u001b[0m     \u001b[0;32mdef\u001b[0m \u001b[0m__init__\u001b[0m\u001b[0;34m(\u001b[0m\u001b[0mself\u001b[0m\u001b[0;34m,\u001b[0m \u001b[0;34m*\u001b[0m\u001b[0;34m,\u001b[0m \u001b[0mrecording\u001b[0m\u001b[0;34m,\u001b[0m \u001b[0mcolor\u001b[0m\u001b[0;34m=\u001b[0m\u001b[0;34m'C0'\u001b[0m\u001b[0;34m,\u001b[0m \u001b[0mlabel_color\u001b[0m\u001b[0;34m=\u001b[0m\u001b[0;34m'r'\u001b[0m\u001b[0;34m,\u001b[0m \u001b[0mfigure\u001b[0m\u001b[0;34m=\u001b[0m\u001b[0;32mNone\u001b[0m\u001b[0;34m,\u001b[0m \u001b[0max\u001b[0m\u001b[0;34m=\u001b[0m\u001b[0;32mNone\u001b[0m\u001b[0;34m)\u001b[0m\u001b[0;34m:\u001b[0m\u001b[0;34m\u001b[0m\u001b[0;34m\u001b[0m\u001b[0m\n\u001b[1;32m     42\u001b[0m         \u001b[0;32mif\u001b[0m \u001b[0;34m'location'\u001b[0m \u001b[0;32mnot\u001b[0m \u001b[0;32min\u001b[0m \u001b[0mrecording\u001b[0m\u001b[0;34m.\u001b[0m\u001b[0mget_shared_channel_property_names\u001b[0m\u001b[0;34m(\u001b[0m\u001b[0;34m)\u001b[0m\u001b[0;34m:\u001b[0m\u001b[0;34m\u001b[0m\u001b[0;34m\u001b[0m\u001b[0m\n\u001b[0;32m---> 43\u001b[0;31m             \u001b[0;32mraise\u001b[0m \u001b[0mAttributeError\u001b[0m\u001b[0;34m(\u001b[0m\u001b[0;34m\"'location' not found as a property\"\u001b[0m\u001b[0;34m)\u001b[0m\u001b[0;34m\u001b[0m\u001b[0;34m\u001b[0m\u001b[0m\n\u001b[0m\u001b[1;32m     44\u001b[0m         \u001b[0mBaseWidget\u001b[0m\u001b[0;34m.\u001b[0m\u001b[0m__init__\u001b[0m\u001b[0;34m(\u001b[0m\u001b[0mself\u001b[0m\u001b[0;34m,\u001b[0m \u001b[0mfigure\u001b[0m\u001b[0;34m,\u001b[0m \u001b[0max\u001b[0m\u001b[0;34m)\u001b[0m\u001b[0;34m\u001b[0m\u001b[0;34m\u001b[0m\u001b[0m\n\u001b[1;32m     45\u001b[0m         \u001b[0mself\u001b[0m\u001b[0;34m.\u001b[0m\u001b[0m_recording\u001b[0m \u001b[0;34m=\u001b[0m \u001b[0mrecording\u001b[0m\u001b[0;34m\u001b[0m\u001b[0;34m\u001b[0m\u001b[0m\n",
      "\u001b[0;31mAttributeError\u001b[0m: 'location' not found as a property"
     ]
    }
   ],
   "source": [
    "w_el_tetrode = sw.plot_electrode_geometry(recording_mea)\n"
   ]
  },
  {
   "cell_type": "code",
   "execution_count": null,
   "metadata": {},
   "outputs": [],
   "source": [
    "probe = "
   ]
  },
  {
   "cell_type": "code",
   "execution_count": null,
   "metadata": {},
   "outputs": [],
   "source": []
  },
  {
   "cell_type": "code",
   "execution_count": null,
   "metadata": {},
   "outputs": [],
   "source": []
  },
  {
   "cell_type": "code",
   "execution_count": null,
   "metadata": {},
   "outputs": [],
   "source": []
  },
  {
   "cell_type": "code",
   "execution_count": null,
   "metadata": {},
   "outputs": [],
   "source": [
    "sorting_hs = ss.run_herdingspikes(recording, probe)"
   ]
  },
  {
   "cell_type": "code",
   "execution_count": 69,
   "metadata": {},
   "outputs": [
    {
     "name": "stdout",
     "output_type": "stream",
     "text": [
      "Available sorters ['combinato', 'hdsort', 'herdingspikes', 'ironclust', 'kilosort', 'kilosort2', 'kilosort2_5', 'klusta', 'mountainsort4', 'spykingcircus', 'tridesclous', 'waveclus']\n",
      "Installed sorters ['herdingspikes', 'mountainsort4', 'spykingcircus', 'tridesclous']\n"
     ]
    }
   ],
   "source": [
    "print('Available sorters', ss.available_sorters())\n",
    "print('Installed sorters', ss.installed_sorters())\n"
   ]
  },
  {
   "cell_type": "code",
   "execution_count": 89,
   "metadata": {},
   "outputs": [
    {
     "name": "stdout",
     "output_type": "stream",
     "text": [
      "{'detect_sign': -1, 'adjacency_radius': 100, 'detect_threshold': 6, 'template_width_ms': 3, 'filter': True, 'merge_spikes': True, 'auto_merge': 0.75, 'num_workers': None, 'whitening_max_elts': 1000, 'clustering_max_elts': 10000}\n"
     ]
    }
   ],
   "source": [
    "print(ss.get_default_params('spykingcircus'))\n"
   ]
  },
  {
   "cell_type": "code",
   "execution_count": 86,
   "metadata": {},
   "outputs": [
    {
     "name": "stdout",
     "output_type": "stream",
     "text": [
      "{'clustering_bandwidth': 5.5, 'clustering_alpha': 5.5, 'clustering_n_jobs': -1, 'clustering_bin_seeding': True, 'clustering_min_bin_freq': 16, 'clustering_subset': None, 'left_cutout_time': 0.3, 'right_cutout_time': 1.8, 'detect_threshold': 20, 'probe_masked_channels': [], 'probe_inner_radius': 70, 'probe_neighbor_radius': 90, 'probe_event_length': 0.26, 'probe_peak_jitter': 0.2, 'num_com_centers': 1, 'maa': 12, 'ahpthr': 11, 'out_file_name': 'HS2_detected', 'decay_filtering': False, 'save_all': False, 'amp_evaluation_time': 0.4, 'spk_evaluation_time': 1.0, 'pca_ncomponents': 2, 'pca_whiten': True, 'freq_min': 300.0, 'freq_max': 6000.0, 'filter': True, 'pre_scale': True, 'pre_scale_value': 20.0, 'filter_duplicates': True}\n"
     ]
    }
   ],
   "source": [
    "print(ss.get_default_params('herdingspikes'))"
   ]
  },
  {
   "cell_type": "code",
   "execution_count": 87,
   "metadata": {},
   "outputs": [
    {
     "name": "stdout",
     "output_type": "stream",
     "text": [
      "{'freq_min': 400.0, 'freq_max': 5000.0, 'detect_sign': -1, 'detect_threshold': 5, 'peak_span_ms': 0.7, 'wf_left_ms': -2.0, 'wf_right_ms': 3.0, 'feature_method': 'auto', 'cluster_method': 'auto', 'clean_catalogue_gui': False, 'chunk_mb': 500, 'n_jobs_bin': 1}\n"
     ]
    }
   ],
   "source": [
    "print(ss.get_default_params('tridesclous'))\n"
   ]
  },
  {
   "cell_type": "code",
   "execution_count": 90,
   "metadata": {},
   "outputs": [
    {
     "name": "stdout",
     "output_type": "stream",
     "text": [
      "Warning! The recording is already filtered, but Spyking-Circus filter is enabled. You can disable filters by setting 'filter' parameter to False\n",
      "RUNNING SHELL SCRIPT: /Users/jonas/Documents/CODE/Untitled Folder/spykingcircus_output/run_spykingcircus.sh\n"
     ]
    },
    {
     "ename": "SpikeSortingError",
     "evalue": "Spike sorting failed: spykingcircus returned a non-zero exit code. You can inspect the runtime trace in the spykingcircus.log of the output folder.'",
     "output_type": "error",
     "traceback": [
      "\u001b[0;31m---------------------------------------------------------------------------\u001b[0m",
      "\u001b[0;31mException\u001b[0m                                 Traceback (most recent call last)",
      "\u001b[0;32m/opt/anaconda3/lib/python3.7/site-packages/spikesorters/basesorter.py\u001b[0m in \u001b[0;36mrun\u001b[0;34m(self, raise_error, parallel, n_jobs, joblib_backend)\u001b[0m\n\u001b[1;32m    157\u001b[0m                 \u001b[0;32mfor\u001b[0m \u001b[0mi\u001b[0m\u001b[0;34m,\u001b[0m \u001b[0mrecording\u001b[0m \u001b[0;32min\u001b[0m \u001b[0menumerate\u001b[0m\u001b[0;34m(\u001b[0m\u001b[0mself\u001b[0m\u001b[0;34m.\u001b[0m\u001b[0mrecording_list\u001b[0m\u001b[0;34m)\u001b[0m\u001b[0;34m:\u001b[0m\u001b[0;34m\u001b[0m\u001b[0;34m\u001b[0m\u001b[0m\n\u001b[0;32m--> 158\u001b[0;31m                     \u001b[0mself\u001b[0m\u001b[0;34m.\u001b[0m\u001b[0m_run\u001b[0m\u001b[0;34m(\u001b[0m\u001b[0mrecording\u001b[0m\u001b[0;34m,\u001b[0m \u001b[0mself\u001b[0m\u001b[0;34m.\u001b[0m\u001b[0moutput_folders\u001b[0m\u001b[0;34m[\u001b[0m\u001b[0mi\u001b[0m\u001b[0;34m]\u001b[0m\u001b[0;34m)\u001b[0m\u001b[0;34m\u001b[0m\u001b[0;34m\u001b[0m\u001b[0m\n\u001b[0m\u001b[1;32m    159\u001b[0m             \u001b[0;32melse\u001b[0m\u001b[0;34m:\u001b[0m\u001b[0;34m\u001b[0m\u001b[0;34m\u001b[0m\u001b[0m\n",
      "\u001b[0;32m/opt/anaconda3/lib/python3.7/site-packages/spikesorters/spyking_circus/spyking_circus.py\u001b[0m in \u001b[0;36m_run\u001b[0;34m(self, recording, output_folder)\u001b[0m\n\u001b[1;32m    152\u001b[0m         \u001b[0;32mif\u001b[0m \u001b[0mretcode\u001b[0m \u001b[0;34m!=\u001b[0m \u001b[0;36m0\u001b[0m\u001b[0;34m:\u001b[0m\u001b[0;34m\u001b[0m\u001b[0;34m\u001b[0m\u001b[0m\n\u001b[0;32m--> 153\u001b[0;31m             \u001b[0;32mraise\u001b[0m \u001b[0mException\u001b[0m\u001b[0;34m(\u001b[0m\u001b[0;34m'spykingcircus returned a non-zero exit code'\u001b[0m\u001b[0;34m)\u001b[0m\u001b[0;34m\u001b[0m\u001b[0;34m\u001b[0m\u001b[0m\n\u001b[0m\u001b[1;32m    154\u001b[0m \u001b[0;34m\u001b[0m\u001b[0m\n",
      "\u001b[0;31mException\u001b[0m: spykingcircus returned a non-zero exit code",
      "\nDuring handling of the above exception, another exception occurred:\n",
      "\u001b[0;31mSpikeSortingError\u001b[0m                         Traceback (most recent call last)",
      "\u001b[0;32m<ipython-input-90-c2aad2522b67>\u001b[0m in \u001b[0;36m<module>\u001b[0;34m\u001b[0m\n\u001b[0;32m----> 1\u001b[0;31m \u001b[0msorting_spykingcircus\u001b[0m\u001b[0;34m=\u001b[0m \u001b[0mss\u001b[0m\u001b[0;34m.\u001b[0m\u001b[0mrun_spykingcircus\u001b[0m\u001b[0;34m(\u001b[0m\u001b[0mrecording_cmr\u001b[0m\u001b[0;34m)\u001b[0m\u001b[0;34m\u001b[0m\u001b[0;34m\u001b[0m\u001b[0m\n\u001b[0m",
      "\u001b[0;32m/opt/anaconda3/lib/python3.7/site-packages/spikesorters/sorterlist.py\u001b[0m in \u001b[0;36mrun_spykingcircus\u001b[0;34m(*args, **kwargs)\u001b[0m\n\u001b[1;32m    521\u001b[0m         \u001b[0mThe\u001b[0m \u001b[0mspike\u001b[0m \u001b[0msorted\u001b[0m \u001b[0mdata\u001b[0m\u001b[0;34m\u001b[0m\u001b[0;34m\u001b[0m\u001b[0m\n\u001b[1;32m    522\u001b[0m     \"\"\"\n\u001b[0;32m--> 523\u001b[0;31m     \u001b[0;32mreturn\u001b[0m \u001b[0mrun_sorter\u001b[0m\u001b[0;34m(\u001b[0m\u001b[0;34m'spykingcircus'\u001b[0m\u001b[0;34m,\u001b[0m \u001b[0;34m*\u001b[0m\u001b[0margs\u001b[0m\u001b[0;34m,\u001b[0m \u001b[0;34m**\u001b[0m\u001b[0mkwargs\u001b[0m\u001b[0;34m)\u001b[0m\u001b[0;34m\u001b[0m\u001b[0;34m\u001b[0m\u001b[0m\n\u001b[0m\u001b[1;32m    524\u001b[0m \u001b[0;34m\u001b[0m\u001b[0m\n\u001b[1;32m    525\u001b[0m \u001b[0;34m\u001b[0m\u001b[0m\n",
      "\u001b[0;32m/opt/anaconda3/lib/python3.7/site-packages/spikesorters/sorterlist.py\u001b[0m in \u001b[0;36mrun_sorter\u001b[0;34m(sorter_name_or_class, recording, output_folder, delete_output_folder, grouping_property, parallel, verbose, raise_error, n_jobs, joblib_backend, **params)\u001b[0m\n\u001b[1;32m     88\u001b[0m                          verbose=verbose, delete_output_folder=delete_output_folder)\n\u001b[1;32m     89\u001b[0m     \u001b[0msorter\u001b[0m\u001b[0;34m.\u001b[0m\u001b[0mset_params\u001b[0m\u001b[0;34m(\u001b[0m\u001b[0;34m**\u001b[0m\u001b[0mparams\u001b[0m\u001b[0;34m)\u001b[0m\u001b[0;34m\u001b[0m\u001b[0;34m\u001b[0m\u001b[0m\n\u001b[0;32m---> 90\u001b[0;31m     \u001b[0msorter\u001b[0m\u001b[0;34m.\u001b[0m\u001b[0mrun\u001b[0m\u001b[0;34m(\u001b[0m\u001b[0mraise_error\u001b[0m\u001b[0;34m=\u001b[0m\u001b[0mraise_error\u001b[0m\u001b[0;34m,\u001b[0m \u001b[0mparallel\u001b[0m\u001b[0;34m=\u001b[0m\u001b[0mparallel\u001b[0m\u001b[0;34m,\u001b[0m \u001b[0mn_jobs\u001b[0m\u001b[0;34m=\u001b[0m\u001b[0mn_jobs\u001b[0m\u001b[0;34m,\u001b[0m \u001b[0mjoblib_backend\u001b[0m\u001b[0;34m=\u001b[0m\u001b[0mjoblib_backend\u001b[0m\u001b[0;34m)\u001b[0m\u001b[0;34m\u001b[0m\u001b[0;34m\u001b[0m\u001b[0m\n\u001b[0m\u001b[1;32m     91\u001b[0m     \u001b[0msortingextractor\u001b[0m \u001b[0;34m=\u001b[0m \u001b[0msorter\u001b[0m\u001b[0;34m.\u001b[0m\u001b[0mget_result\u001b[0m\u001b[0;34m(\u001b[0m\u001b[0;34m)\u001b[0m\u001b[0;34m\u001b[0m\u001b[0;34m\u001b[0m\u001b[0m\n\u001b[1;32m     92\u001b[0m \u001b[0;34m\u001b[0m\u001b[0m\n",
      "\u001b[0;32m/opt/anaconda3/lib/python3.7/site-packages/spikesorters/basesorter.py\u001b[0m in \u001b[0;36mrun\u001b[0;34m(self, raise_error, parallel, n_jobs, joblib_backend)\u001b[0m\n\u001b[1;32m    167\u001b[0m         \u001b[0;32mexcept\u001b[0m \u001b[0mException\u001b[0m \u001b[0;32mas\u001b[0m \u001b[0merr\u001b[0m\u001b[0;34m:\u001b[0m\u001b[0;34m\u001b[0m\u001b[0;34m\u001b[0m\u001b[0m\n\u001b[1;32m    168\u001b[0m             \u001b[0;32mif\u001b[0m \u001b[0mraise_error\u001b[0m\u001b[0;34m:\u001b[0m\u001b[0;34m\u001b[0m\u001b[0;34m\u001b[0m\u001b[0m\n\u001b[0;32m--> 169\u001b[0;31m                 raise SpikeSortingError(f\"Spike sorting failed: {err}. You can inspect the runtime trace in \"\n\u001b[0m\u001b[1;32m    170\u001b[0m                                         f\"the {self.sorter_name}.log of the output folder.'\")\n\u001b[1;32m    171\u001b[0m             \u001b[0;32melse\u001b[0m\u001b[0;34m:\u001b[0m\u001b[0;34m\u001b[0m\u001b[0;34m\u001b[0m\u001b[0m\n",
      "\u001b[0;31mSpikeSortingError\u001b[0m: Spike sorting failed: spykingcircus returned a non-zero exit code. You can inspect the runtime trace in the spykingcircus.log of the output folder.'"
     ]
    }
   ],
   "source": [
    "sorting_spykingcircus= ss.run_spykingcircus(recording_cmr, filter=False, )"
   ]
  },
  {
   "cell_type": "code",
   "execution_count": 77,
   "metadata": {},
   "outputs": [
    {
     "data": {
      "text/plain": [
       "<spikeextractors.extractors.tridescloussortingextractor.tridescloussortingextractor.TridesclousSortingExtractor at 0x7f9293882990>"
      ]
     },
     "execution_count": 77,
     "metadata": {},
     "output_type": "execute_result"
    }
   ],
   "source": [
    "sorting_tridesclous"
   ]
  },
  {
   "cell_type": "code",
   "execution_count": 78,
   "metadata": {},
   "outputs": [
    {
     "name": "stdout",
     "output_type": "stream",
     "text": [
      "Units found by Tridesclous: [0, 1, 2, 3]\n"
     ]
    }
   ],
   "source": [
    "print('Units found by Tridesclous:', sorting_tridesclous.get_unit_ids())\n"
   ]
  },
  {
   "cell_type": "code",
   "execution_count": 79,
   "metadata": {},
   "outputs": [
    {
     "name": "stdout",
     "output_type": "stream",
     "text": [
      "Recomputing info\n"
     ]
    }
   ],
   "source": [
    "st.postprocessing.export_to_phy(recording, sorting_tridesclous, output_folder='phy')\n"
   ]
  },
  {
   "cell_type": "code",
   "execution_count": 80,
   "metadata": {},
   "outputs": [
    {
     "ename": "SyntaxError",
     "evalue": "invalid syntax (<ipython-input-80-56cca5fb1a42>, line 1)",
     "output_type": "error",
     "traceback": [
      "\u001b[0;36m  File \u001b[0;32m\"<ipython-input-80-56cca5fb1a42>\"\u001b[0;36m, line \u001b[0;32m1\u001b[0m\n\u001b[0;31m    phy template-gui phy/params.py\u001b[0m\n\u001b[0m               ^\u001b[0m\n\u001b[0;31mSyntaxError\u001b[0m\u001b[0;31m:\u001b[0m invalid syntax\n"
     ]
    }
   ],
   "source": [
    "phy template-gui phy/params.py"
   ]
  },
  {
   "cell_type": "code",
   "execution_count": null,
   "metadata": {},
   "outputs": [],
   "source": []
  }
 ],
 "metadata": {
  "kernelspec": {
   "display_name": "Python 3",
   "language": "python",
   "name": "python3"
  },
  "language_info": {
   "codemirror_mode": {
    "name": "ipython",
    "version": 3
   },
   "file_extension": ".py",
   "mimetype": "text/x-python",
   "name": "python",
   "nbconvert_exporter": "python",
   "pygments_lexer": "ipython3",
   "version": "3.7.6"
  }
 },
 "nbformat": 4,
 "nbformat_minor": 4
}
