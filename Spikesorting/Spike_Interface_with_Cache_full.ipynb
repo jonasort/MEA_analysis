{
 "cells": [
  {
   "cell_type": "code",
   "execution_count": 1,
   "metadata": {},
   "outputs": [],
   "source": [
    "#import spikeinterface modules\n",
    "import spikeinterface as si\n",
    "import spikeinterface.extractors as se\n",
    "import spikeinterface.toolkit as st\n",
    "import spikeinterface.sorters as ss\n",
    "import spikeinterface.comparison as sc\n",
    "import spikeinterface.widgets as sw\n",
    "import numpy as np\n",
    "import glob\n",
    "\n",
    "#import everything else\n",
    "import os\n",
    "import sys\n",
    "import numpy as np\n",
    "import neo\n",
    "import pandas as pd\n",
    "import h5py\n",
    "import McsPy\n",
    "import sys, importlib, os\n",
    "import McsPy.McsData\n",
    "import McsPy.McsCMOS\n",
    "from McsPy import ureg, Q_\n",
    "import matplotlib.pyplot as plt\n",
    "%matplotlib notebook"
   ]
  },
  {
   "cell_type": "code",
   "execution_count": 2,
   "metadata": {},
   "outputs": [],
   "source": [
    "filedirec = r\"D:\\Files_Reutlingen_Jenny\\191021_extra\"\n",
    "os.chdir(filedirec)"
   ]
  },
  {
   "cell_type": "code",
   "execution_count": null,
   "metadata": {},
   "outputs": [],
   "source": [
    "filelist = glob.glob('*.h5')\n",
    "filelist"
   ]
  }
 ],
 "metadata": {
  "kernelspec": {
   "display_name": "Python 3",
   "language": "python",
   "name": "python3"
  },
  "language_info": {
   "codemirror_mode": {
    "name": "ipython",
    "version": 3
   },
   "file_extension": ".py",
   "mimetype": "text/x-python",
   "name": "python",
   "nbconvert_exporter": "python",
   "pygments_lexer": "ipython3",
   "version": "3.8.3"
  }
 },
 "nbformat": 4,
 "nbformat_minor": 4
}
