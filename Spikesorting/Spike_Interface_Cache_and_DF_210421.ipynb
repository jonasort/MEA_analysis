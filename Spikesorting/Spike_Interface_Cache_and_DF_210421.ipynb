{
 "cells": [
  {
   "cell_type": "code",
   "execution_count": 1,
   "metadata": {},
   "outputs": [],
   "source": [
    "#import spikeinterface modules\n",
    "import spikeinterface as si\n",
    "import spikeinterface.extractors as se\n",
    "import spikeinterface.toolkit as st\n",
    "import spikeinterface.sorters as ss\n",
    "import spikeinterface.comparison as sc\n",
    "import spikeinterface.widgets as sw\n",
    "import numpy as np\n",
    "import glob\n",
    "\n",
    "#import everything else\n",
    "import os\n",
    "import sys\n",
    "import numpy as np\n",
    "import neo\n",
    "import pandas as pd\n",
    "import h5py\n",
    "import McsPy\n",
    "import sys, importlib, os\n",
    "import McsPy.McsData\n",
    "import McsPy.McsCMOS\n",
    "from McsPy import ureg, Q_\n",
    "import matplotlib.pyplot as plt\n",
    "from matplotlib.pyplot import cm\n",
    "import seaborn as sns\n",
    "\n",
    "from time import strftime\n",
    "%matplotlib inline"
   ]
  },
  {
   "cell_type": "code",
   "execution_count": 2,
   "metadata": {},
   "outputs": [],
   "source": [
    "filedirec = r\"D:\\MEA_DATA_Aachen\\ANALYZED\\20210510_cortex_div4\"\n",
    "inputdirectory = r\"D:\\MEA_DATA_Aachen\\PREPROCESSED\\20210510_cortex_div4\"\n",
    "os.chdir(inputdirectory)"
   ]
  },
  {
   "cell_type": "code",
   "execution_count": 3,
   "metadata": {},
   "outputs": [
    {
     "data": {
      "text/plain": [
       "['2021-05-10T13-50-07__cortex_div4_hCSF_ID039_nodrug_spont_1__.h5',\n",
       " '2021-05-10T14-05-26__cortex_div4_hCSF_ID039_30µMCNQX_spont_1__.h5']"
      ]
     },
     "execution_count": 3,
     "metadata": {},
     "output_type": "execute_result"
    }
   ],
   "source": [
    "filelist = glob.glob('*.h5')\n",
    "filelist"
   ]
  },
  {
   "cell_type": "code",
   "execution_count": 4,
   "metadata": {},
   "outputs": [],
   "source": [
    "labeldic = np.load(r'C:\\Users\\User\\Documents\\JO\\gitkraken\\MEA_analysis\\basic_inputs\\labeldictionary_MCS_256MEA.npy', allow_pickle='TRUE').item()"
   ]
  },
  {
   "cell_type": "code",
   "execution_count": 5,
   "metadata": {},
   "outputs": [],
   "source": [
    "filename=filelist[0]\n"
   ]
  },
  {
   "cell_type": "code",
   "execution_count": 6,
   "metadata": {},
   "outputs": [],
   "source": [
    "filebase = filename.split('.')[0]"
   ]
  },
  {
   "cell_type": "code",
   "execution_count": 7,
   "metadata": {},
   "outputs": [
    {
     "data": {
      "text/plain": [
       "'2021-05-10T13-50-07__cortex_div4_hCSF_ID039_nodrug_spont_1__'"
      ]
     },
     "execution_count": 7,
     "metadata": {},
     "output_type": "execute_result"
    }
   ],
   "source": [
    "filebase"
   ]
  },
  {
   "cell_type": "code",
   "execution_count": 8,
   "metadata": {},
   "outputs": [],
   "source": [
    "recording_MEA=se.MCSH5RecordingExtractor(os.path.join(inputdirectory, filename))\n",
    "recording_f = st.preprocessing.bandpass_filter(recording_MEA, freq_min=150, freq_max=5000, filter_type='butter', order=2)\n",
    "recording_cmr = st.preprocessing.common_reference(recording_f, reference='median')\n"
   ]
  },
  {
   "cell_type": "code",
   "execution_count": 10,
   "metadata": {},
   "outputs": [],
   "source": [
    "recording_cmrprobe=recording_MEA.load_probe_file(probe_file=\"C:/Users/User/Documents/JO/gitkraken/MEA_analysis/Spikesorting/MCS_MEA_256_100µM_spacing.prb\")"
   ]
  },
  {
   "cell_type": "code",
   "execution_count": 11,
   "metadata": {},
   "outputs": [],
   "source": [
    "#timestr = strftime(\"%d%m%Y\")\n",
    "#outputdirectory = os.path.join(filedirec, '_output_Spikesorting_'+ timestr).replace('\\\\','/')\n",
    "\n",
    "probe_file=\"C:/Users/User/Documents/JO/gitkraken/MEA_analysis/Spikesorting/MCS_MEA_256_100µM_spacing.prb\"\n",
    "#outputdirectory_SC='D:/Files_Reutlingen_Jenny/main_191021extra/191021_extra_Spikesorting/output_Spykingcirucs'\n",
    "outputdirectory = 'D:/MEA_DATA_Aachen/ANALYZED/20210510_cortex_div4/_output_Spikesorting_02062021'\n"
   ]
  },
  {
   "cell_type": "code",
   "execution_count": 12,
   "metadata": {},
   "outputs": [
    {
     "data": {
      "text/plain": [
       "'D:/MEA_DATA_Aachen/ANALYZED/20210510_cortex_div4/_output_Spikesorting_02062021'"
      ]
     },
     "execution_count": 12,
     "metadata": {},
     "output_type": "execute_result"
    }
   ],
   "source": [
    "outputdirectory"
   ]
  },
  {
   "cell_type": "code",
   "execution_count": 13,
   "metadata": {
    "scrolled": true
   },
   "outputs": [
    {
     "name": "stdout",
     "output_type": "stream",
     "text": [
      "Successfully created the directory D:/MEA_DATA_Aachen/ANALYZED/20210510_cortex_div4/_output_Spikesorting_02062021_2021-05-10T13-50-07__cortex_div4_hCSF_ID039_nodrug_spont_1___spikesorting \n"
     ]
    }
   ],
   "source": [
    "outpath=os.path.join(outputdirectory+'_'+filename.split('.')[0]+'_spikesorting').replace(\"\\\\\",\"/\")\n",
    "try:\n",
    "    os.mkdir(outpath)\n",
    "except OSError:\n",
    "    print (\"Creation of the directory %s failed\" % outpath)\n",
    "else:\n",
    "    print (\"Successfully created the directory %s \" % outpath)"
   ]
  },
  {
   "cell_type": "code",
   "execution_count": 16,
   "metadata": {},
   "outputs": [
    {
     "name": "stdout",
     "output_type": "stream",
     "text": [
      "Successfully created the directory D:/MEA_DATA_Aachen/ANALYZED/20210510_cortex_div4/_output_Spikesorting_02062021_2021-05-10T13-50-07__cortex_div4_hCSF_ID039_nodrug_spont_1___spikesorting \n"
     ]
    }
   ],
   "source": [
    "# outpath_SC=os.path.join(outpath, 'output_spykingcircus').replace(\"\\\\\",\"/\")\n",
    "# try:\n",
    "#     os.mkdir(outpath_SC)\n",
    "# except OSError:\n",
    "#     print (\"Creation of the directory %s failed\" % outpath)\n",
    "# else:\n",
    "#     print (\"Successfully created the directory %s \" % outpath)"
   ]
  },
  {
   "cell_type": "code",
   "execution_count": 16,
   "metadata": {},
   "outputs": [],
   "source": [
    "#outpath = 'D:\\Files_Reutlingen_Jenny\\main_191021extra\\_output_Spikesorting_19042021_aCSF_adult_15min_spont_spikesorting'\n",
    "#outpath = 'D:\\Files_Reutlingen_Jenny\\main_191021extra\\_output_Spikesorting_23042021_hCSF_adult_20min_spont0002_spikesorting'\n",
    "outpath = r'D:\\MEA_DATA_Aachen\\ANALYZED\\20210510_cortex_div4\\_output_Spikesorting_02062021_cortex_div4_hCSF_ID039_nodrug_spont_1_spikesorting'"
   ]
  },
  {
   "cell_type": "code",
   "execution_count": 17,
   "metadata": {},
   "outputs": [],
   "source": [
    "os.chdir(outpath)"
   ]
  },
  {
   "cell_type": "code",
   "execution_count": 15,
   "metadata": {},
   "outputs": [],
   "source": [
    "# cutting out 2 minutes\n",
    "\n",
    "fs = recording_cmrprobe.get_sampling_frequency()\n",
    "fs = np.round(fs)\n",
    "#recording_sub = se.SubRecordingExtractor(recording_cmrprobe, start_frame=200*fs, end_frame=320*fs)"
   ]
  },
  {
   "cell_type": "code",
   "execution_count": 16,
   "metadata": {},
   "outputs": [],
   "source": [
    "# get the recording length, divide it into 120 second frames\n",
    "recording_length = recording_cmrprobe.get_num_frames()\n",
    "recording_seconds = recording_length/fs\n",
    "\n",
    "\n"
   ]
  },
  {
   "cell_type": "code",
   "execution_count": 17,
   "metadata": {},
   "outputs": [],
   "source": [
    "def divide_recording_to_sub(recording, sublength_seconds):\n",
    "    \n",
    "    \n",
    "    subrecording_dic = {}\n",
    "    recording_length = recording.get_num_frames()\n",
    "    recording_seconds = recording_length/fs\n",
    "    end_frame = int(recording_seconds)\n",
    "    \n",
    "    for snippet in range(0, end_frame, sublength_seconds):\n",
    "        sub_start = snippet\n",
    "        sub_end = snippet + sublength_seconds\n",
    "        if sub_end > end_frame:\n",
    "            sub_end = end_frame\n",
    "        sub_str = 'sec_'+str(sub_start)+'-'+str(sub_end)\n",
    "    \n",
    "        subrecording_dic[sub_str] = se.SubRecordingExtractor(\n",
    "            recording_cmrprobe, start_frame = sub_start*fs,\n",
    "            end_frame = sub_end*fs)\n",
    "    \n",
    "    return subrecording_dic\n",
    "    \n",
    "    "
   ]
  },
  {
   "cell_type": "code",
   "execution_count": 18,
   "metadata": {},
   "outputs": [],
   "source": [
    "subrecords = divide_recording_to_sub(recording_cmrprobe, 300)"
   ]
  },
  {
   "cell_type": "code",
   "execution_count": 19,
   "metadata": {},
   "outputs": [
    {
     "data": {
      "text/plain": [
       "{'sec_0-130': <spikeextractors.subrecordingextractor.SubRecordingExtractor at 0x20e05174cd0>}"
      ]
     },
     "execution_count": 19,
     "metadata": {},
     "output_type": "execute_result"
    }
   ],
   "source": [
    "subrecords"
   ]
  },
  {
   "cell_type": "code",
   "execution_count": 20,
   "metadata": {},
   "outputs": [],
   "source": [
    "# make a cache for every part in the dictionary\n",
    "\n",
    "def create_cache_for_subrecordings(subrecording_dic, filebase, outpath):\n",
    "\n",
    "    for key in subrecording_dic:\n",
    "        sub_cache = se.CacheRecordingExtractor(\n",
    "            subrecording_dic[key])\n",
    "        filepath = os.path.join(\n",
    "            outpath, filebase+str(key)+'_filtered_data.dat'\n",
    "            ).replace('\\\\','/')\n",
    "        sub_cache.move_to(filepath) \n",
    "        sub_cache.dump_to_dict()\n",
    "        filepathpickle = os.path.join(\n",
    "            outpath, filebase+str(key)+'_recording.pkl'\n",
    "            ).replace('\\\\','/')\n",
    "        sub_cache.dump_to_pickle(filepathpickle)\n",
    "        \n",
    "    return 'Finished dumping the subrecords. To load, use the load_dumped_recordings function'\n",
    "    "
   ]
  },
  {
   "cell_type": "code",
   "execution_count": 21,
   "metadata": {},
   "outputs": [
    {
     "data": {
      "text/plain": [
       "'Finished dumping the subrecords. To load, use the load_dumped_recordings function'"
      ]
     },
     "execution_count": 21,
     "metadata": {},
     "output_type": "execute_result"
    }
   ],
   "source": [
    "create_cache_for_subrecordings(subrecording_dic=subrecords, filebase=filebase, outpath=outpath)"
   ]
  },
  {
   "cell_type": "code",
   "execution_count": 19,
   "metadata": {},
   "outputs": [],
   "source": [
    "def load_dumped_subrecordings(directory, filebase):\n",
    "\n",
    "    subrecording_dic = {}\n",
    "    filelist = glob.glob('*.pkl')\n",
    "    for file in filelist:\n",
    "        key = file.split(filebase)[1].split('.')[0].split('_recording')[0]\n",
    "        subrecording_dic[key]=se.load_extractor_from_pickle(file)\n",
    "        \n",
    "    return subrecording_dic\n",
    "        \n",
    "    "
   ]
  },
  {
   "cell_type": "code",
   "execution_count": 20,
   "metadata": {},
   "outputs": [
    {
     "ename": "IndexError",
     "evalue": "list index out of range",
     "output_type": "error",
     "traceback": [
      "\u001b[1;31m---------------------------------------------------------------------------\u001b[0m",
      "\u001b[1;31mIndexError\u001b[0m                                Traceback (most recent call last)",
      "\u001b[1;32m<ipython-input-20-cd6626e709df>\u001b[0m in \u001b[0;36m<module>\u001b[1;34m\u001b[0m\n\u001b[1;32m----> 1\u001b[1;33m \u001b[0mloaded\u001b[0m \u001b[1;33m=\u001b[0m \u001b[0mload_dumped_subrecordings\u001b[0m\u001b[1;33m(\u001b[0m\u001b[0moutpath\u001b[0m\u001b[1;33m,\u001b[0m \u001b[0mfilebase\u001b[0m\u001b[1;33m)\u001b[0m\u001b[1;33m\u001b[0m\u001b[1;33m\u001b[0m\u001b[0m\n\u001b[0m",
      "\u001b[1;32m<ipython-input-19-a583f8caae85>\u001b[0m in \u001b[0;36mload_dumped_subrecordings\u001b[1;34m(directory, filebase)\u001b[0m\n\u001b[0;32m      4\u001b[0m     \u001b[0mfilelist\u001b[0m \u001b[1;33m=\u001b[0m \u001b[0mglob\u001b[0m\u001b[1;33m.\u001b[0m\u001b[0mglob\u001b[0m\u001b[1;33m(\u001b[0m\u001b[1;34m'*.pkl'\u001b[0m\u001b[1;33m)\u001b[0m\u001b[1;33m\u001b[0m\u001b[1;33m\u001b[0m\u001b[0m\n\u001b[0;32m      5\u001b[0m     \u001b[1;32mfor\u001b[0m \u001b[0mfile\u001b[0m \u001b[1;32min\u001b[0m \u001b[0mfilelist\u001b[0m\u001b[1;33m:\u001b[0m\u001b[1;33m\u001b[0m\u001b[1;33m\u001b[0m\u001b[0m\n\u001b[1;32m----> 6\u001b[1;33m         \u001b[0mkey\u001b[0m \u001b[1;33m=\u001b[0m \u001b[0mfile\u001b[0m\u001b[1;33m.\u001b[0m\u001b[0msplit\u001b[0m\u001b[1;33m(\u001b[0m\u001b[0mfilebase\u001b[0m\u001b[1;33m)\u001b[0m\u001b[1;33m[\u001b[0m\u001b[1;36m1\u001b[0m\u001b[1;33m]\u001b[0m\u001b[1;33m.\u001b[0m\u001b[0msplit\u001b[0m\u001b[1;33m(\u001b[0m\u001b[1;34m'.'\u001b[0m\u001b[1;33m)\u001b[0m\u001b[1;33m[\u001b[0m\u001b[1;36m0\u001b[0m\u001b[1;33m]\u001b[0m\u001b[1;33m.\u001b[0m\u001b[0msplit\u001b[0m\u001b[1;33m(\u001b[0m\u001b[1;34m'_recording'\u001b[0m\u001b[1;33m)\u001b[0m\u001b[1;33m[\u001b[0m\u001b[1;36m0\u001b[0m\u001b[1;33m]\u001b[0m\u001b[1;33m\u001b[0m\u001b[1;33m\u001b[0m\u001b[0m\n\u001b[0m\u001b[0;32m      7\u001b[0m         \u001b[0msubrecording_dic\u001b[0m\u001b[1;33m[\u001b[0m\u001b[0mkey\u001b[0m\u001b[1;33m]\u001b[0m\u001b[1;33m=\u001b[0m\u001b[0mse\u001b[0m\u001b[1;33m.\u001b[0m\u001b[0mload_extractor_from_pickle\u001b[0m\u001b[1;33m(\u001b[0m\u001b[0mfile\u001b[0m\u001b[1;33m)\u001b[0m\u001b[1;33m\u001b[0m\u001b[1;33m\u001b[0m\u001b[0m\n\u001b[0;32m      8\u001b[0m \u001b[1;33m\u001b[0m\u001b[0m\n",
      "\u001b[1;31mIndexError\u001b[0m: list index out of range"
     ]
    }
   ],
   "source": [
    "loaded = load_dumped_subrecordings(outpath, filebase)"
   ]
  },
  {
   "cell_type": "code",
   "execution_count": 24,
   "metadata": {},
   "outputs": [
    {
     "data": {
      "text/plain": [
       "{'sec_0-130': <spikeextractors.extractors.bindatrecordingextractor.bindatrecordingextractor.BinDatRecordingExtractor at 0x20e5702bc10>}"
      ]
     },
     "execution_count": 24,
     "metadata": {},
     "output_type": "execute_result"
    }
   ],
   "source": [
    "loaded"
   ]
  },
  {
   "cell_type": "code",
   "execution_count": 25,
   "metadata": {},
   "outputs": [
    {
     "ename": "NameError",
     "evalue": "name 'outpath_SC' is not defined",
     "output_type": "error",
     "traceback": [
      "\u001b[1;31m---------------------------------------------------------------------------\u001b[0m",
      "\u001b[1;31mNameError\u001b[0m                                 Traceback (most recent call last)",
      "\u001b[1;32m<ipython-input-25-a1d304a05502>\u001b[0m in \u001b[0;36m<module>\u001b[1;34m\u001b[0m\n\u001b[1;32m----> 1\u001b[1;33m \u001b[0moutpath_SC\u001b[0m\u001b[1;33m\u001b[0m\u001b[1;33m\u001b[0m\u001b[0m\n\u001b[0m",
      "\u001b[1;31mNameError\u001b[0m: name 'outpath_SC' is not defined"
     ]
    }
   ],
   "source": [
    "outpath_SC"
   ]
  },
  {
   "cell_type": "code",
   "execution_count": 148,
   "metadata": {},
   "outputs": [],
   "source": [
    "# to load:\n",
    "#recording_loaded = se.load_extractor_from_pickle('recording.pkl')\n",
    "#recording_cache=recording_loaded"
   ]
  },
  {
   "cell_type": "code",
   "execution_count": 26,
   "metadata": {},
   "outputs": [],
   "source": [
    "# loop to run spikesorter over different subrecordings\n",
    "def run_spykingcircus_on_sub(subrecording_dic, directory):\n",
    "    \n",
    "\n",
    "    sorted_dic={}\n",
    "    for key in loaded:\n",
    "        outpath_SC=os.path.join(outpath, 'sorted_'+str(key)).replace('\\\\', '/')\n",
    "        '''\n",
    "        try:\n",
    "            os.mkdir(outpath_SC)\n",
    "        except OSError:\n",
    "            print (\"Creation of the directory %s failed\" % outpath)\n",
    "        else:\n",
    "            print (\"Successfully created the directory %s \" % outpath)\n",
    "        '''\n",
    "        sorted_dic[key]=ss.run_spykingcircus(\n",
    "            loaded[key], output_folder=outpath_SC)\n",
    "\n",
    "    return sorted_dic\n",
    "    "
   ]
  },
  {
   "cell_type": "code",
   "execution_count": 27,
   "metadata": {},
   "outputs": [
    {
     "name": "stdout",
     "output_type": "stream",
     "text": [
      "RUNNING SHELL SCRIPT: D:\\MEA_DATA_Aachen\\ANALYZED\\20210510_cortex_div4\\_output_Spikesorting_02062021_2021-05-10T13-50-07__cortex_div4_hCSF_ID039_nodrug_spont_1___spikesorting\\sorted_sec_0-130\\run_spykingcircus.bat\n"
     ]
    },
    {
     "ename": "Exception",
     "evalue": "(WindowsPath('D:/MEA_DATA_Aachen/ANALYZED/20210510_cortex_div4/_output_Spikesorting_02062021_2021-05-10T13-50-07__cortex_div4_hCSF_ID039_nodrug_spont_1___spikesorting/sorted_sec_0-130/recording'), ' is not a spyking circus folder')",
     "output_type": "error",
     "traceback": [
      "\u001b[1;31m---------------------------------------------------------------------------\u001b[0m",
      "\u001b[1;31mException\u001b[0m                                 Traceback (most recent call last)",
      "\u001b[1;32m<ipython-input-27-bac0a72bfd48>\u001b[0m in \u001b[0;36m<module>\u001b[1;34m\u001b[0m\n\u001b[1;32m----> 1\u001b[1;33m \u001b[0msorted_dic\u001b[0m \u001b[1;33m=\u001b[0m \u001b[0mrun_spykingcircus_on_sub\u001b[0m\u001b[1;33m(\u001b[0m\u001b[0mloaded\u001b[0m\u001b[1;33m,\u001b[0m \u001b[0moutpath\u001b[0m\u001b[1;33m)\u001b[0m\u001b[1;33m\u001b[0m\u001b[1;33m\u001b[0m\u001b[0m\n\u001b[0m",
      "\u001b[1;32m<ipython-input-26-d5cda8de4315>\u001b[0m in \u001b[0;36mrun_spykingcircus_on_sub\u001b[1;34m(subrecording_dic, directory)\u001b[0m\n\u001b[0;32m     14\u001b[0m             \u001b[0mprint\u001b[0m \u001b[1;33m(\u001b[0m\u001b[1;34m\"Successfully created the directory %s \"\u001b[0m \u001b[1;33m%\u001b[0m \u001b[0moutpath\u001b[0m\u001b[1;33m)\u001b[0m\u001b[1;33m\u001b[0m\u001b[1;33m\u001b[0m\u001b[0m\n\u001b[0;32m     15\u001b[0m         '''\n\u001b[1;32m---> 16\u001b[1;33m         sorted_dic[key]=ss.run_spykingcircus(\n\u001b[0m\u001b[0;32m     17\u001b[0m             loaded[key], output_folder=outpath_SC)\n\u001b[0;32m     18\u001b[0m \u001b[1;33m\u001b[0m\u001b[0m\n",
      "\u001b[1;32m~\\anaconda3\\lib\\site-packages\\spikesorters\\sorterlist.py\u001b[0m in \u001b[0;36mrun_spykingcircus\u001b[1;34m(*args, **kwargs)\u001b[0m\n\u001b[0;32m    521\u001b[0m         \u001b[0mThe\u001b[0m \u001b[0mspike\u001b[0m \u001b[0msorted\u001b[0m \u001b[0mdata\u001b[0m\u001b[1;33m\u001b[0m\u001b[1;33m\u001b[0m\u001b[0m\n\u001b[0;32m    522\u001b[0m     \"\"\"\n\u001b[1;32m--> 523\u001b[1;33m     \u001b[1;32mreturn\u001b[0m \u001b[0mrun_sorter\u001b[0m\u001b[1;33m(\u001b[0m\u001b[1;34m'spykingcircus'\u001b[0m\u001b[1;33m,\u001b[0m \u001b[1;33m*\u001b[0m\u001b[0margs\u001b[0m\u001b[1;33m,\u001b[0m \u001b[1;33m**\u001b[0m\u001b[0mkwargs\u001b[0m\u001b[1;33m)\u001b[0m\u001b[1;33m\u001b[0m\u001b[1;33m\u001b[0m\u001b[0m\n\u001b[0m\u001b[0;32m    524\u001b[0m \u001b[1;33m\u001b[0m\u001b[0m\n\u001b[0;32m    525\u001b[0m \u001b[1;33m\u001b[0m\u001b[0m\n",
      "\u001b[1;32m~\\anaconda3\\lib\\site-packages\\spikesorters\\sorterlist.py\u001b[0m in \u001b[0;36mrun_sorter\u001b[1;34m(sorter_name_or_class, recording, output_folder, delete_output_folder, grouping_property, parallel, verbose, raise_error, n_jobs, joblib_backend, **params)\u001b[0m\n\u001b[0;32m     89\u001b[0m     \u001b[0msorter\u001b[0m\u001b[1;33m.\u001b[0m\u001b[0mset_params\u001b[0m\u001b[1;33m(\u001b[0m\u001b[1;33m**\u001b[0m\u001b[0mparams\u001b[0m\u001b[1;33m)\u001b[0m\u001b[1;33m\u001b[0m\u001b[1;33m\u001b[0m\u001b[0m\n\u001b[0;32m     90\u001b[0m     \u001b[0msorter\u001b[0m\u001b[1;33m.\u001b[0m\u001b[0mrun\u001b[0m\u001b[1;33m(\u001b[0m\u001b[0mraise_error\u001b[0m\u001b[1;33m=\u001b[0m\u001b[0mraise_error\u001b[0m\u001b[1;33m,\u001b[0m \u001b[0mparallel\u001b[0m\u001b[1;33m=\u001b[0m\u001b[0mparallel\u001b[0m\u001b[1;33m,\u001b[0m \u001b[0mn_jobs\u001b[0m\u001b[1;33m=\u001b[0m\u001b[0mn_jobs\u001b[0m\u001b[1;33m,\u001b[0m \u001b[0mjoblib_backend\u001b[0m\u001b[1;33m=\u001b[0m\u001b[0mjoblib_backend\u001b[0m\u001b[1;33m)\u001b[0m\u001b[1;33m\u001b[0m\u001b[1;33m\u001b[0m\u001b[0m\n\u001b[1;32m---> 91\u001b[1;33m     \u001b[0msortingextractor\u001b[0m \u001b[1;33m=\u001b[0m \u001b[0msorter\u001b[0m\u001b[1;33m.\u001b[0m\u001b[0mget_result\u001b[0m\u001b[1;33m(\u001b[0m\u001b[1;33m)\u001b[0m\u001b[1;33m\u001b[0m\u001b[1;33m\u001b[0m\u001b[0m\n\u001b[0m\u001b[0;32m     92\u001b[0m \u001b[1;33m\u001b[0m\u001b[0m\n\u001b[0;32m     93\u001b[0m     \u001b[1;32mreturn\u001b[0m \u001b[0msortingextractor\u001b[0m\u001b[1;33m\u001b[0m\u001b[1;33m\u001b[0m\u001b[0m\n",
      "\u001b[1;32m~\\anaconda3\\lib\\site-packages\\spikesorters\\basesorter.py\u001b[0m in \u001b[0;36mget_result\u001b[1;34m(self)\u001b[0m\n\u001b[0;32m    234\u001b[0m \u001b[1;33m\u001b[0m\u001b[0m\n\u001b[0;32m    235\u001b[0m     \u001b[1;32mdef\u001b[0m \u001b[0mget_result\u001b[0m\u001b[1;33m(\u001b[0m\u001b[0mself\u001b[0m\u001b[1;33m)\u001b[0m\u001b[1;33m:\u001b[0m\u001b[1;33m\u001b[0m\u001b[1;33m\u001b[0m\u001b[0m\n\u001b[1;32m--> 236\u001b[1;33m         \u001b[0msorting_list\u001b[0m \u001b[1;33m=\u001b[0m \u001b[0mself\u001b[0m\u001b[1;33m.\u001b[0m\u001b[0mget_result_list\u001b[0m\u001b[1;33m(\u001b[0m\u001b[1;33m)\u001b[0m\u001b[1;33m\u001b[0m\u001b[1;33m\u001b[0m\u001b[0m\n\u001b[0m\u001b[0;32m    237\u001b[0m         \u001b[1;32mif\u001b[0m \u001b[0mlen\u001b[0m\u001b[1;33m(\u001b[0m\u001b[0msorting_list\u001b[0m\u001b[1;33m)\u001b[0m \u001b[1;33m==\u001b[0m \u001b[1;36m1\u001b[0m\u001b[1;33m:\u001b[0m\u001b[1;33m\u001b[0m\u001b[1;33m\u001b[0m\u001b[0m\n\u001b[0;32m    238\u001b[0m             \u001b[0msorting\u001b[0m \u001b[1;33m=\u001b[0m \u001b[0msorting_list\u001b[0m\u001b[1;33m[\u001b[0m\u001b[1;36m0\u001b[0m\u001b[1;33m]\u001b[0m\u001b[1;33m\u001b[0m\u001b[1;33m\u001b[0m\u001b[0m\n",
      "\u001b[1;32m~\\anaconda3\\lib\\site-packages\\spikesorters\\basesorter.py\u001b[0m in \u001b[0;36mget_result_list\u001b[1;34m(self)\u001b[0m\n\u001b[0;32m    229\u001b[0m         \u001b[0msorting_list\u001b[0m \u001b[1;33m=\u001b[0m \u001b[1;33m[\u001b[0m\u001b[1;33m]\u001b[0m\u001b[1;33m\u001b[0m\u001b[1;33m\u001b[0m\u001b[0m\n\u001b[0;32m    230\u001b[0m         \u001b[1;32mfor\u001b[0m \u001b[0mi\u001b[0m\u001b[1;33m,\u001b[0m \u001b[0m_\u001b[0m \u001b[1;32min\u001b[0m \u001b[0menumerate\u001b[0m\u001b[1;33m(\u001b[0m\u001b[0mself\u001b[0m\u001b[1;33m.\u001b[0m\u001b[0mrecording_list\u001b[0m\u001b[1;33m)\u001b[0m\u001b[1;33m:\u001b[0m\u001b[1;33m\u001b[0m\u001b[1;33m\u001b[0m\u001b[0m\n\u001b[1;32m--> 231\u001b[1;33m             \u001b[0msorting\u001b[0m \u001b[1;33m=\u001b[0m \u001b[0mself\u001b[0m\u001b[1;33m.\u001b[0m\u001b[0mget_result_from_folder\u001b[0m\u001b[1;33m(\u001b[0m\u001b[0mself\u001b[0m\u001b[1;33m.\u001b[0m\u001b[0moutput_folders\u001b[0m\u001b[1;33m[\u001b[0m\u001b[0mi\u001b[0m\u001b[1;33m]\u001b[0m\u001b[1;33m)\u001b[0m\u001b[1;33m\u001b[0m\u001b[1;33m\u001b[0m\u001b[0m\n\u001b[0m\u001b[0;32m    232\u001b[0m             \u001b[0msorting_list\u001b[0m\u001b[1;33m.\u001b[0m\u001b[0mappend\u001b[0m\u001b[1;33m(\u001b[0m\u001b[0msorting\u001b[0m\u001b[1;33m)\u001b[0m\u001b[1;33m\u001b[0m\u001b[1;33m\u001b[0m\u001b[0m\n\u001b[0;32m    233\u001b[0m         \u001b[1;32mreturn\u001b[0m \u001b[0msorting_list\u001b[0m\u001b[1;33m\u001b[0m\u001b[1;33m\u001b[0m\u001b[0m\n",
      "\u001b[1;32m~\\anaconda3\\lib\\site-packages\\spikesorters\\spyking_circus\\spyking_circus.py\u001b[0m in \u001b[0;36mget_result_from_folder\u001b[1;34m(output_folder)\u001b[0m\n\u001b[0;32m    155\u001b[0m     \u001b[1;33m@\u001b[0m\u001b[0mstaticmethod\u001b[0m\u001b[1;33m\u001b[0m\u001b[1;33m\u001b[0m\u001b[0m\n\u001b[0;32m    156\u001b[0m     \u001b[1;32mdef\u001b[0m \u001b[0mget_result_from_folder\u001b[0m\u001b[1;33m(\u001b[0m\u001b[0moutput_folder\u001b[0m\u001b[1;33m)\u001b[0m\u001b[1;33m:\u001b[0m\u001b[1;33m\u001b[0m\u001b[1;33m\u001b[0m\u001b[0m\n\u001b[1;32m--> 157\u001b[1;33m         \u001b[0msorting\u001b[0m \u001b[1;33m=\u001b[0m \u001b[0mse\u001b[0m\u001b[1;33m.\u001b[0m\u001b[0mSpykingCircusSortingExtractor\u001b[0m\u001b[1;33m(\u001b[0m\u001b[0mfolder_path\u001b[0m\u001b[1;33m=\u001b[0m\u001b[0mPath\u001b[0m\u001b[1;33m(\u001b[0m\u001b[0moutput_folder\u001b[0m\u001b[1;33m)\u001b[0m \u001b[1;33m/\u001b[0m \u001b[1;34m'recording'\u001b[0m\u001b[1;33m)\u001b[0m\u001b[1;33m\u001b[0m\u001b[1;33m\u001b[0m\u001b[0m\n\u001b[0m\u001b[0;32m    158\u001b[0m         \u001b[1;32mreturn\u001b[0m \u001b[0msorting\u001b[0m\u001b[1;33m\u001b[0m\u001b[1;33m\u001b[0m\u001b[0m\n",
      "\u001b[1;32m~\\anaconda3\\lib\\site-packages\\spikeextractors\\extractors\\spykingcircusextractors\\spykingcircusextractors.py\u001b[0m in \u001b[0;36m__init__\u001b[1;34m(self, folder_path)\u001b[0m\n\u001b[0;32m    101\u001b[0m \u001b[1;33m\u001b[0m\u001b[0m\n\u001b[0;32m    102\u001b[0m         \u001b[1;32mif\u001b[0m \u001b[0mresults\u001b[0m \u001b[1;32mis\u001b[0m \u001b[1;32mNone\u001b[0m\u001b[1;33m:\u001b[0m\u001b[1;33m\u001b[0m\u001b[1;33m\u001b[0m\u001b[0m\n\u001b[1;32m--> 103\u001b[1;33m             \u001b[1;32mraise\u001b[0m \u001b[0mException\u001b[0m\u001b[1;33m(\u001b[0m\u001b[0mspykingcircus_folder\u001b[0m\u001b[1;33m,\u001b[0m \u001b[1;34m\" is not a spyking circus folder\"\u001b[0m\u001b[1;33m)\u001b[0m\u001b[1;33m\u001b[0m\u001b[1;33m\u001b[0m\u001b[0m\n\u001b[0m\u001b[0;32m    104\u001b[0m         \u001b[0mf_results\u001b[0m \u001b[1;33m=\u001b[0m \u001b[0mh5py\u001b[0m\u001b[1;33m.\u001b[0m\u001b[0mFile\u001b[0m\u001b[1;33m(\u001b[0m\u001b[0mresults\u001b[0m\u001b[1;33m,\u001b[0m \u001b[1;34m'r'\u001b[0m\u001b[1;33m)\u001b[0m\u001b[1;33m\u001b[0m\u001b[1;33m\u001b[0m\u001b[0m\n\u001b[0;32m    105\u001b[0m         \u001b[0mself\u001b[0m\u001b[1;33m.\u001b[0m\u001b[0m_spiketrains\u001b[0m \u001b[1;33m=\u001b[0m \u001b[1;33m[\u001b[0m\u001b[1;33m]\u001b[0m\u001b[1;33m\u001b[0m\u001b[1;33m\u001b[0m\u001b[0m\n",
      "\u001b[1;31mException\u001b[0m: (WindowsPath('D:/MEA_DATA_Aachen/ANALYZED/20210510_cortex_div4/_output_Spikesorting_02062021_2021-05-10T13-50-07__cortex_div4_hCSF_ID039_nodrug_spont_1___spikesorting/sorted_sec_0-130/recording'), ' is not a spyking circus folder')"
     ]
    }
   ],
   "source": [
    "sorted_dic = run_spykingcircus_on_sub(loaded, outpath)"
   ]
  },
  {
   "cell_type": "code",
   "execution_count": 31,
   "metadata": {},
   "outputs": [
    {
     "data": {
      "text/plain": [
       "'Spyking Circus uses a smart clustering and a greedy template matching approach for \\n    spike sorting. For more information see https://doi.org/10.7554/eLife.34518'"
      ]
     },
     "execution_count": 31,
     "metadata": {},
     "output_type": "execute_result"
    }
   ],
   "source": [
    "ss.get_sorter_description('spykingcircus')"
   ]
  },
  {
   "cell_type": "code",
   "execution_count": 151,
   "metadata": {},
   "outputs": [
    {
     "data": {
      "text/plain": [
       "{'sec_0-300': <spikeextractors.extractors.spykingcircusextractors.spykingcircusextractors.SpykingCircusSortingExtractor at 0x1a5a0152b50>,\n",
       " 'sec_300-600': <spikeextractors.extractors.spykingcircusextractors.spykingcircusextractors.SpykingCircusSortingExtractor at 0x1a5a0102c70>,\n",
       " 'sec_600-900': <spikeextractors.extractors.spykingcircusextractors.spykingcircusextractors.SpykingCircusSortingExtractor at 0x1a5a01020a0>,\n",
       " 'sec_900-969': <spikeextractors.extractors.spykingcircusextractors.spykingcircusextractors.SpykingCircusSortingExtractor at 0x1a5a011fca0>}"
      ]
     },
     "execution_count": 151,
     "metadata": {},
     "output_type": "execute_result"
    }
   ],
   "source": [
    "sorted_dic"
   ]
  },
  {
   "cell_type": "code",
   "execution_count": 15,
   "metadata": {},
   "outputs": [],
   "source": [
    "def load_dumped_sorted_dic(outpath):\n",
    "\n",
    "    sorted_dic = {}\n",
    "    filelist = glob.glob('*sorted*')\n",
    "    for file in filelist:\n",
    "        key = file.split('sorted_')[1]\n",
    "        sorted_dic[key]=se.SpykingCircusSortingExtractor(file)\n",
    "        \n",
    "    return sorted_dic"
   ]
  },
  {
   "cell_type": "code",
   "execution_count": 42,
   "metadata": {},
   "outputs": [],
   "source": [
    "sorted_dic = load_dumped_sorted_dic(outpath)"
   ]
  },
  {
   "cell_type": "code",
   "execution_count": 43,
   "metadata": {},
   "outputs": [
    {
     "data": {
      "text/plain": [
       "{'sec_0-300': <spikeextractors.extractors.spykingcircusextractors.spykingcircusextractors.SpykingCircusSortingExtractor at 0x27381e0da30>,\n",
       " 'sec_300-600': <spikeextractors.extractors.spykingcircusextractors.spykingcircusextractors.SpykingCircusSortingExtractor at 0x273819969a0>,\n",
       " 'sec_600-900': <spikeextractors.extractors.spykingcircusextractors.spykingcircusextractors.SpykingCircusSortingExtractor at 0x268eda985b0>,\n",
       " 'sec_900-969': <spikeextractors.extractors.spykingcircusextractors.spykingcircusextractors.SpykingCircusSortingExtractor at 0x27381d65730>}"
      ]
     },
     "execution_count": 43,
     "metadata": {},
     "output_type": "execute_result"
    }
   ],
   "source": [
    "sorted_dic\n"
   ]
  },
  {
   "cell_type": "code",
   "execution_count": 18,
   "metadata": {},
   "outputs": [],
   "source": [
    "waveforms = st.postprocessing.get_unit_waveforms(\n",
    "    loaded['sec_0-300'], sorted_dic['sec_0-300'], memmap = True\n",
    "    )"
   ]
  },
  {
   "cell_type": "code",
   "execution_count": 18,
   "metadata": {},
   "outputs": [],
   "source": [
    "u = 'sec_0-300'"
   ]
  },
  {
   "cell_type": "code",
   "execution_count": null,
   "metadata": {},
   "outputs": [],
   "source": []
  },
  {
   "cell_type": "code",
   "execution_count": 19,
   "metadata": {},
   "outputs": [],
   "source": [
    "layerdic = {'layer1':[], \n",
    "            'layer2-3':['L1', 'M1', 'M2', 'M3', 'M15', 'M16', 'N1', 'N2', 'N3', 'N4', 'N5', 'N6', 'N7',\n",
    "                        'N8', 'N9', 'N10', 'N11', 'N12', 'N13', 'N14', 'N15', 'N16', 'O1', 'O2', 'O3', 'O4', \n",
    "                        'O5', 'O6', 'O7', 'O8', 'O9', 'O10', 'O11', 'O12', 'O13', 'O14', 'O15', 'O16', 'P1', \n",
    "                        'P2', 'P3', 'P4', 'P5', 'P6', 'P7', 'P8', 'P9', 'P10', 'P11', 'P12', 'P13', 'P14', \n",
    "                        'P15', 'P16', 'R2', 'R3', 'R4', 'R5', 'R6', 'R7', 'R8', 'R9', 'R10', 'R11', 'R12', \n",
    "                        'R13', 'R14', 'R15'],\n",
    "           'layer4':['K1', 'K2', 'K14', 'K15', 'K16', 'L2', 'L3', 'L4', 'L5', 'L6', 'L7', 'L8', 'L9', 'L10', 'L11', 'L12', \n",
    "                     'L13', 'L14', 'L15', 'L16', 'M4', 'M5', 'M6', 'M7', 'M8', 'M9', 'M10', 'M11', 'M12', 'M13', 'M14'],\n",
    "           'layer5-6':['K3', 'K4', 'K5', 'K6', 'K7', 'K8', 'K9', 'K10', 'K11', 'K12', 'K13', 'I1', 'I2', 'I3', 'I4', \n",
    "                       'I5', 'I6', 'I7', 'I8', 'I9', 'I10', 'I11', 'I12', 'I13', 'I14', 'I15', 'I16', 'H1', 'H2', 'H3', \n",
    "                       'H4', 'H5', 'H6', 'H7', 'H8', 'H9', 'H10', 'H11', 'H12', 'H13', 'H14', 'H15', 'H16', \n",
    "                      'G1', 'G2', 'G3', 'G4', 'G5', 'G6', 'G7', 'G8', 'G9', 'G10', 'G11', 'G12', 'G13', 'G14', 'G15', 'G16',\n",
    "                       'F1', 'F2', 'F3', 'F4', 'F5', 'F6', 'F7', 'F8', 'F9', 'F10', 'F11', 'F12', 'F13', 'F14', 'F15', 'F16',\n",
    "                       'E1', 'E2', 'E3', 'E4', 'E5', 'E6', 'E7', 'E8', 'E9', 'E10', 'E11', 'E12', 'E13', 'E14', 'E15', 'E16',\n",
    "                       'D1', 'D2', 'D3', 'D4', 'D5', 'D6', 'D7', 'D8', 'D9', 'D10', 'D11'],\n",
    "           'whitematter':['D12', 'D13', 'D14', 'D15', 'D16', 'C1', 'C2', 'C3', 'C4', 'C5', 'C6', 'C7', 'C8', 'C9', 'C10', \n",
    "                          'C11', 'C12', 'C13', 'C14', 'C15', 'C16', 'B1', 'B2', 'B3', 'B4', 'B5', 'B6', 'B7', 'B8', 'B9', \n",
    "                          'B10', 'B11', 'B12', 'B13', 'B14', 'B15', 'B16', 'A2', 'A3', 'A4', 'A5', 'A6', 'A7', 'A8', 'A9', \n",
    "                          'A10', 'A11', 'A12', 'A13', 'A14', 'A15' ]}"
   ]
  },
  {
   "cell_type": "code",
   "execution_count": 20,
   "metadata": {},
   "outputs": [],
   "source": [
    "# loop to invert\n",
    "layerdic_invert = {}\n",
    "\n",
    "for key in layerdic:\n",
    "    for i in layerdic[key]:\n",
    "        layerdic_invert[i]=key"
   ]
  },
  {
   "cell_type": "code",
   "execution_count": 21,
   "metadata": {},
   "outputs": [],
   "source": [
    "labeldic_invert = {}\n",
    "\n",
    "for key in labeldic:\n",
    "    keystring = str(labeldic[key])\n",
    "    labeldic_invert[keystring] = key"
   ]
  },
  {
   "cell_type": "code",
   "execution_count": 22,
   "metadata": {},
   "outputs": [
    {
     "data": {
      "text/plain": [
       "{'R12': 0,\n",
       " 'L10': 1,\n",
       " 'O10': 2,\n",
       " 'P11': 3,\n",
       " 'L9': 4,\n",
       " 'N9': 5,\n",
       " 'M8': 6,\n",
       " 'R8': 7,\n",
       " 'O6': 8,\n",
       " 'N7': 9,\n",
       " 'R4': 10,\n",
       " 'P5': 11,\n",
       " 'R2': 12,\n",
       " 'M5': 13,\n",
       " 'K6': 14,\n",
       " 'I8': 15,\n",
       " 'L2': 16,\n",
       " 'M1': 17,\n",
       " 'I4': 18,\n",
       " 'K3': 19,\n",
       " 'H1': 20,\n",
       " 'I6': 21,\n",
       " 'G4': 22,\n",
       " 'H5': 23,\n",
       " 'E2': 24,\n",
       " 'F3': 25,\n",
       " 'N13': 26,\n",
       " 'O14': 27,\n",
       " 'R13': 28,\n",
       " 'L11': 29,\n",
       " 'O11': 30,\n",
       " 'P12': 31,\n",
       " 'M9': 32,\n",
       " 'N10': 33,\n",
       " 'L8': 34,\n",
       " 'R9': 35,\n",
       " 'O7': 36,\n",
       " 'N8': 37,\n",
       " 'R5': 38,\n",
       " 'P6': 39,\n",
       " 'K7': 40,\n",
       " 'L7': 41,\n",
       " 'N4': 42,\n",
       " 'O3': 43,\n",
       " 'N1': 44,\n",
       " 'L6': 45,\n",
       " 'L3': 46,\n",
       " 'M2': 47,\n",
       " 'I5': 48,\n",
       " 'K4': 49,\n",
       " 'H6': 50,\n",
       " 'I1': 51,\n",
       " 'G3': 52,\n",
       " 'H4': 53,\n",
       " 'E1': 54,\n",
       " 'F2': 55,\n",
       " 'K13': 56,\n",
       " 'L16': 57,\n",
       " 'I12': 58,\n",
       " 'K15': 59,\n",
       " 'I16': 60,\n",
       " 'I14': 61,\n",
       " 'K10': 62,\n",
       " 'O16': 63,\n",
       " 'R14': 64,\n",
       " 'R15': 65,\n",
       " 'O12': 66,\n",
       " 'P13': 67,\n",
       " 'M10': 68,\n",
       " 'N11': 69,\n",
       " 'P9': 70,\n",
       " 'R10': 71,\n",
       " 'O8': 72,\n",
       " 'K8': 73,\n",
       " 'R6': 74,\n",
       " 'P7': 75,\n",
       " 'N5': 76,\n",
       " 'M6': 77,\n",
       " 'P3': 78,\n",
       " 'O4': 79,\n",
       " 'O1': 80,\n",
       " 'P1': 81,\n",
       " 'M3': 82,\n",
       " 'N2': 83,\n",
       " 'K5': 84,\n",
       " 'L4': 85,\n",
       " 'I2': 86,\n",
       " 'K1': 87,\n",
       " 'H3': 88,\n",
       " 'H7': 89,\n",
       " 'F1': 90,\n",
       " 'G2': 91,\n",
       " 'E4': 92,\n",
       " 'F5': 93,\n",
       " 'P14': 94,\n",
       " 'P15': 95,\n",
       " 'N12': 96,\n",
       " 'O13': 97,\n",
       " 'R11': 98,\n",
       " 'M11': 99,\n",
       " 'O9': 100,\n",
       " 'P10': 101,\n",
       " 'P8': 102,\n",
       " 'K9': 103,\n",
       " 'M7': 104,\n",
       " 'R7': 105,\n",
       " 'O5': 106,\n",
       " 'N6': 107,\n",
       " 'R3': 108,\n",
       " 'P4': 109,\n",
       " 'O2': 110,\n",
       " 'P2': 111,\n",
       " 'M4': 112,\n",
       " 'N3': 113,\n",
       " 'L1': 114,\n",
       " 'L5': 115,\n",
       " 'I3': 116,\n",
       " 'K2': 117,\n",
       " 'H2': 118,\n",
       " 'I7': 119,\n",
       " 'G5': 120,\n",
       " 'G1': 121,\n",
       " 'E3': 122,\n",
       " 'F4': 123,\n",
       " 'I9': 124,\n",
       " 'P16': 125,\n",
       " 'H8': 128,\n",
       " 'B1': 129,\n",
       " 'A5': 130,\n",
       " 'F7': 131,\n",
       " 'C7': 132,\n",
       " 'B6': 133,\n",
       " 'F8': 134,\n",
       " 'D8': 135,\n",
       " 'E9': 136,\n",
       " 'A9': 137,\n",
       " 'C11': 138,\n",
       " 'D10': 139,\n",
       " 'A15': 140,\n",
       " 'E12': 141,\n",
       " 'A13': 142,\n",
       " 'B12': 143,\n",
       " 'F13': 144,\n",
       " 'K16': 145,\n",
       " 'E16': 146,\n",
       " 'I15': 147,\n",
       " 'I13': 148,\n",
       " 'H10': 149,\n",
       " 'I11': 150,\n",
       " 'H14': 151,\n",
       " 'H12': 152,\n",
       " 'H16': 153,\n",
       " 'G7': 154,\n",
       " 'G6': 155,\n",
       " 'D4': 156,\n",
       " 'C3': 157,\n",
       " 'A4': 158,\n",
       " 'F6': 159,\n",
       " 'C6': 160,\n",
       " 'B5': 161,\n",
       " 'E8': 162,\n",
       " 'D7': 163,\n",
       " 'F9': 164,\n",
       " 'A8': 165,\n",
       " 'C10': 166,\n",
       " 'D9': 167,\n",
       " 'A12': 168,\n",
       " 'B11': 169,\n",
       " 'D13': 170,\n",
       " 'C14': 171,\n",
       " 'G10': 172,\n",
       " 'F10': 173,\n",
       " 'G13': 174,\n",
       " 'G15': 175,\n",
       " 'F14': 176,\n",
       " 'F16': 177,\n",
       " 'E15': 178,\n",
       " 'F12': 179,\n",
       " 'D16': 180,\n",
       " 'E13': 181,\n",
       " 'F11': 182,\n",
       " 'D14': 183,\n",
       " 'H11': 184,\n",
       " 'I10': 185,\n",
       " 'H13': 186,\n",
       " 'H15': 187,\n",
       " 'G14': 188,\n",
       " 'G16': 189,\n",
       " 'F15': 190,\n",
       " 'G12': 191,\n",
       " 'C2': 192,\n",
       " 'D3': 193,\n",
       " 'A3': 194,\n",
       " 'A2': 195,\n",
       " 'C5': 196,\n",
       " 'B4': 197,\n",
       " 'E7': 198,\n",
       " 'D6': 199,\n",
       " 'B8': 200,\n",
       " 'A7': 201,\n",
       " 'C9': 202,\n",
       " 'G9': 203,\n",
       " 'A11': 204,\n",
       " 'B10': 205,\n",
       " 'D12': 206,\n",
       " 'E11': 207,\n",
       " 'C16': 208,\n",
       " 'B16': 209,\n",
       " 'B14': 210,\n",
       " 'C13': 211,\n",
       " 'D15': 212,\n",
       " 'O15': 213,\n",
       " 'H9': 214,\n",
       " 'N14': 215,\n",
       " 'M12': 216,\n",
       " 'M13': 217,\n",
       " 'N16': 218,\n",
       " 'L12': 219,\n",
       " 'L14': 220,\n",
       " 'M15': 221,\n",
       " 'C1': 222,\n",
       " 'D2': 223,\n",
       " 'B3': 224,\n",
       " 'B2': 225,\n",
       " 'D5': 226,\n",
       " 'C4': 227,\n",
       " 'A6': 228,\n",
       " 'E6': 229,\n",
       " 'C8': 230,\n",
       " 'B7': 231,\n",
       " 'B9': 232,\n",
       " 'G8': 233,\n",
       " 'E10': 234,\n",
       " 'A10': 235,\n",
       " 'C12': 236,\n",
       " 'D11': 237,\n",
       " 'C15': 238,\n",
       " 'B15': 239,\n",
       " 'A14': 240,\n",
       " 'B13': 241,\n",
       " 'E14': 242,\n",
       " 'N15': 243,\n",
       " 'G11': 244,\n",
       " 'M14': 245,\n",
       " 'K11': 246,\n",
       " 'L13': 247,\n",
       " 'M16': 248,\n",
       " 'K12': 249,\n",
       " 'K14': 250,\n",
       " 'L15': 251,\n",
       " 'E5': 252,\n",
       " 'D1': 253}"
      ]
     },
     "execution_count": 22,
     "metadata": {},
     "output_type": "execute_result"
    }
   ],
   "source": [
    "labeldic_invert"
   ]
  },
  {
   "cell_type": "code",
   "execution_count": 23,
   "metadata": {},
   "outputs": [],
   "source": [
    "#load\n",
    "#sorting_SC = se.SpykingCircusSortingExtractor(outpath_SC)\n"
   ]
  },
  {
   "cell_type": "code",
   "execution_count": 44,
   "metadata": {},
   "outputs": [
    {
     "data": {
      "text/plain": [
       "<spikewidgets.widgets.mapswidget.templatemapswidget.UnitTemplateMapsWidget at 0x27381e0db50>"
      ]
     },
     "execution_count": 44,
     "metadata": {},
     "output_type": "execute_result"
    },
    {
     "data": {
      "image/png": "[encoded data removed]",
      "text/plain": [
       "<Figure size 432x288 with 2 Axes>"
      ]
     },
     "metadata": {
      "needs_background": "light"
     },
     "output_type": "display_data"
    }
   ],
   "source": [
    "sw.plot_unit_template_maps(loaded['sec_0-300'],  sorted_dic['sec_0-300'], max_spikes_per_unit=100, unit_ids=[10])"
   ]
  },
  {
   "cell_type": "code",
   "execution_count": 23,
   "metadata": {},
   "outputs": [
    {
     "name": "stdout",
     "output_type": "stream",
     "text": [
      "{}\n"
     ]
    },
    {
     "data": {
      "image/png": "[encoded data removed]",
      "text/plain": [
       "<Figure size 432x288 with 2 Axes>"
      ]
     },
     "metadata": {
      "needs_background": "light"
     },
     "output_type": "display_data"
    }
   ],
   "source": [
    "w_wf = sw.plot_unit_waveforms(loaded['sec_0-300'],  sorted_dic['sec_0-300'], unit_ids=[101], color='#89D1D9')"
   ]
  },
  {
   "cell_type": "code",
   "execution_count": 132,
   "metadata": {},
   "outputs": [
    {
     "data": {
      "application/javascript": [
       "/* Put everything inside the global mpl namespace */\n",
       "window.mpl = {};\n",
       "\n",
       "\n",
       "mpl.get_websocket_type = function() {\n",
       "    if (typeof(WebSocket) !== 'undefined') {\n",
       "        return WebSocket;\n",
       "    } else if (typeof(MozWebSocket) !== 'undefined') {\n",
       "        return MozWebSocket;\n",
       "    } else {\n",
       "        alert('Your browser does not have WebSocket support. ' +\n",
       "              'Please try Chrome, Safari or Firefox ≥ 6. ' +\n",
       "              'Firefox 4 and 5 are also supported but you ' +\n",
       "              'have to enable WebSockets in about:config.');\n",
       "    };\n",
       "}\n",
       "\n",
       "mpl.figure = function(figure_id, websocket, ondownload, parent_element) {\n",
       "    this.id = figure_id;\n",
       "\n",
       "    this.ws = websocket;\n",
       "\n",
       "    this.supports_binary = (this.ws.binaryType != undefined);\n",
       "\n",
       "    if (!this.supports_binary) {\n",
       "        var warnings = document.getElementById(\"mpl-warnings\");\n",
       "        if (warnings) {\n",
       "            warnings.style.display = 'block';\n",
       "            warnings.textContent = (\n",
       "                \"This browser does not support binary websocket messages. \" +\n",
       "                    \"Performance may be slow.\");\n",
       "        }\n",
       "    }\n",
       "\n",
       "    this.imageObj = new Image();\n",
       "\n",
       "    this.context = undefined;\n",
       "    this.message = undefined;\n",
       "    this.canvas = undefined;\n",
       "    this.rubberband_canvas = undefined;\n",
       "    this.rubberband_context = undefined;\n",
       "    this.format_dropdown = undefined;\n",
       "\n",
       "    this.image_mode = 'full';\n",
       "\n",
       "    this.root = $('<div/>');\n",
       "    this._root_extra_style(this.root)\n",
       "    this.root.attr('style', 'display: inline-block');\n",
       "\n",
       "    $(parent_element).append(this.root);\n",
       "\n",
       "    this._init_header(this);\n",
       "    this._init_canvas(this);\n",
       "    this._init_toolbar(this);\n",
       "\n",
       "    var fig = this;\n",
       "\n",
       "    this.waiting = false;\n",
       "\n",
       "    this.ws.onopen =  function () {\n",
       "            fig.send_message(\"supports_binary\", {value: fig.supports_binary});\n",
       "            fig.send_message(\"send_image_mode\", {});\n",
       "            if (mpl.ratio != 1) {\n",
       "                fig.send_message(\"set_dpi_ratio\", {'dpi_ratio': mpl.ratio});\n",
       "            }\n",
       "            fig.send_message(\"refresh\", {});\n",
       "        }\n",
       "\n",
       "    this.imageObj.onload = function() {\n",
       "            if (fig.image_mode == 'full') {\n",
       "                // Full images could contain transparency (where diff images\n",
       "                // almost always do), so we need to clear the canvas so that\n",
       "                // there is no ghosting.\n",
       "                fig.context.clearRect(0, 0, fig.canvas.width, fig.canvas.height);\n",
       "            }\n",
       "            fig.context.drawImage(fig.imageObj, 0, 0);\n",
       "        };\n",
       "\n",
       "    this.imageObj.onunload = function() {\n",
       "        fig.ws.close();\n",
       "    }\n",
       "\n",
       "    this.ws.onmessage = this._make_on_message_function(this);\n",
       "\n",
       "    this.ondownload = ondownload;\n",
       "}\n",
       "\n",
       "mpl.figure.prototype._init_header = function() {\n",
       "    var titlebar = $(\n",
       "        '<div class=\"ui-dialog-titlebar ui-widget-header ui-corner-all ' +\n",
       "        'ui-helper-clearfix\"/>');\n",
       "    var titletext = $(\n",
       "        '<div class=\"ui-dialog-title\" style=\"width: 100%; ' +\n",
       "        'text-align: center; padding: 3px;\"/>');\n",
       "    titlebar.append(titletext)\n",
       "    this.root.append(titlebar);\n",
       "    this.header = titletext[0];\n",
       "}\n",
       "\n",
       "\n",
       "\n",
       "mpl.figure.prototype._canvas_extra_style = function(canvas_div) {\n",
       "\n",
       "}\n",
       "\n",
       "\n",
       "mpl.figure.prototype._root_extra_style = function(canvas_div) {\n",
       "\n",
       "}\n",
       "\n",
       "mpl.figure.prototype._init_canvas = function() {\n",
       "    var fig = this;\n",
       "\n",
       "    var canvas_div = $('<div/>');\n",
       "\n",
       "    canvas_div.attr('style', 'position: relative; clear: both; outline: 0');\n",
       "\n",
       "    function canvas_keyboard_event(event) {\n",
       "        return fig.key_event(event, event['data']);\n",
       "    }\n",
       "\n",
       "    canvas_div.keydown('key_press', canvas_keyboard_event);\n",
       "    canvas_div.keyup('key_release', canvas_keyboard_event);\n",
       "    this.canvas_div = canvas_div\n",
       "    this._canvas_extra_style(canvas_div)\n",
       "    this.root.append(canvas_div);\n",
       "\n",
       "    var canvas = $('<canvas/>');\n",
       "    canvas.addClass('mpl-canvas');\n",
       "    canvas.attr('style', \"left: 0; top: 0; z-index: 0; outline: 0\")\n",
       "\n",
       "    this.canvas = canvas[0];\n",
       "    this.context = canvas[0].getContext(\"2d\");\n",
       "\n",
       "    var backingStore = this.context.backingStorePixelRatio ||\n",
       "\tthis.context.webkitBackingStorePixelRatio ||\n",
       "\tthis.context.mozBackingStorePixelRatio ||\n",
       "\tthis.context.msBackingStorePixelRatio ||\n",
       "\tthis.context.oBackingStorePixelRatio ||\n",
       "\tthis.context.backingStorePixelRatio || 1;\n",
       "\n",
       "    mpl.ratio = (window.devicePixelRatio || 1) / backingStore;\n",
       "\n",
       "    var rubberband = $('<canvas/>');\n",
       "    rubberband.attr('style', \"position: absolute; left: 0; top: 0; z-index: 1;\")\n",
       "\n",
       "    var pass_mouse_events = true;\n",
       "\n",
       "    canvas_div.resizable({\n",
       "        start: function(event, ui) {\n",
       "            pass_mouse_events = false;\n",
       "        },\n",
       "        resize: function(event, ui) {\n",
       "            fig.request_resize(ui.size.width, ui.size.height);\n",
       "        },\n",
       "        stop: function(event, ui) {\n",
       "            pass_mouse_events = true;\n",
       "            fig.request_resize(ui.size.width, ui.size.height);\n",
       "        },\n",
       "    });\n",
       "\n",
       "    function mouse_event_fn(event) {\n",
       "        if (pass_mouse_events)\n",
       "            return fig.mouse_event(event, event['data']);\n",
       "    }\n",
       "\n",
       "    rubberband.mousedown('button_press', mouse_event_fn);\n",
       "    rubberband.mouseup('button_release', mouse_event_fn);\n",
       "    // Throttle sequential mouse events to 1 every 20ms.\n",
       "    rubberband.mousemove('motion_notify', mouse_event_fn);\n",
       "\n",
       "    rubberband.mouseenter('figure_enter', mouse_event_fn);\n",
       "    rubberband.mouseleave('figure_leave', mouse_event_fn);\n",
       "\n",
       "    canvas_div.on(\"wheel\", function (event) {\n",
       "        event = event.originalEvent;\n",
       "        event['data'] = 'scroll'\n",
       "        if (event.deltaY < 0) {\n",
       "            event.step = 1;\n",
       "        } else {\n",
       "            event.step = -1;\n",
       "        }\n",
       "        mouse_event_fn(event);\n",
       "    });\n",
       "\n",
       "    canvas_div.append(canvas);\n",
       "    canvas_div.append(rubberband);\n",
       "\n",
       "    this.rubberband = rubberband;\n",
       "    this.rubberband_canvas = rubberband[0];\n",
       "    this.rubberband_context = rubberband[0].getContext(\"2d\");\n",
       "    this.rubberband_context.strokeStyle = \"#000000\";\n",
       "\n",
       "    this._resize_canvas = function(width, height) {\n",
       "        // Keep the size of the canvas, canvas container, and rubber band\n",
       "        // canvas in synch.\n",
       "        canvas_div.css('width', width)\n",
       "        canvas_div.css('height', height)\n",
       "\n",
       "        canvas.attr('width', width * mpl.ratio);\n",
       "        canvas.attr('height', height * mpl.ratio);\n",
       "        canvas.attr('style', 'width: ' + width + 'px; height: ' + height + 'px;');\n",
       "\n",
       "        rubberband.attr('width', width);\n",
       "        rubberband.attr('height', height);\n",
       "    }\n",
       "\n",
       "    // Set the figure to an initial 600x600px, this will subsequently be updated\n",
       "    // upon first draw.\n",
       "    this._resize_canvas(600, 600);\n",
       "\n",
       "    // Disable right mouse context menu.\n",
       "    $(this.rubberband_canvas).bind(\"contextmenu\",function(e){\n",
       "        return false;\n",
       "    });\n",
       "\n",
       "    function set_focus () {\n",
       "        canvas.focus();\n",
       "        canvas_div.focus();\n",
       "    }\n",
       "\n",
       "    window.setTimeout(set_focus, 100);\n",
       "}\n",
       "\n",
       "mpl.figure.prototype._init_toolbar = function() {\n",
       "    var fig = this;\n",
       "\n",
       "    var nav_element = $('<div/>');\n",
       "    nav_element.attr('style', 'width: 100%');\n",
       "    this.root.append(nav_element);\n",
       "\n",
       "    // Define a callback function for later on.\n",
       "    function toolbar_event(event) {\n",
       "        return fig.toolbar_button_onclick(event['data']);\n",
       "    }\n",
       "    function toolbar_mouse_event(event) {\n",
       "        return fig.toolbar_button_onmouseover(event['data']);\n",
       "    }\n",
       "\n",
       "    for(var toolbar_ind in mpl.toolbar_items) {\n",
       "        var name = mpl.toolbar_items[toolbar_ind][0];\n",
       "        var tooltip = mpl.toolbar_items[toolbar_ind][1];\n",
       "        var image = mpl.toolbar_items[toolbar_ind][2];\n",
       "        var method_name = mpl.toolbar_items[toolbar_ind][3];\n",
       "\n",
       "        if (!name) {\n",
       "            // put a spacer in here.\n",
       "            continue;\n",
       "        }\n",
       "        var button = $('<button/>');\n",
       "        button.addClass('ui-button ui-widget ui-state-default ui-corner-all ' +\n",
       "                        'ui-button-icon-only');\n",
       "        button.attr('role', 'button');\n",
       "        button.attr('aria-disabled', 'false');\n",
       "        button.click(method_name, toolbar_event);\n",
       "        button.mouseover(tooltip, toolbar_mouse_event);\n",
       "\n",
       "        var icon_img = $('<span/>');\n",
       "        icon_img.addClass('ui-button-icon-primary ui-icon');\n",
       "        icon_img.addClass(image);\n",
       "        icon_img.addClass('ui-corner-all');\n",
       "\n",
       "        var tooltip_span = $('<span/>');\n",
       "        tooltip_span.addClass('ui-button-text');\n",
       "        tooltip_span.html(tooltip);\n",
       "\n",
       "        button.append(icon_img);\n",
       "        button.append(tooltip_span);\n",
       "\n",
       "        nav_element.append(button);\n",
       "    }\n",
       "\n",
       "    var fmt_picker_span = $('<span/>');\n",
       "\n",
       "    var fmt_picker = $('<select/>');\n",
       "    fmt_picker.addClass('mpl-toolbar-option ui-widget ui-widget-content');\n",
       "    fmt_picker_span.append(fmt_picker);\n",
       "    nav_element.append(fmt_picker_span);\n",
       "    this.format_dropdown = fmt_picker[0];\n",
       "\n",
       "    for (var ind in mpl.extensions) {\n",
       "        var fmt = mpl.extensions[ind];\n",
       "        var option = $(\n",
       "            '<option/>', {selected: fmt === mpl.default_extension}).html(fmt);\n",
       "        fmt_picker.append(option);\n",
       "    }\n",
       "\n",
       "    // Add hover states to the ui-buttons\n",
       "    $( \".ui-button\" ).hover(\n",
       "        function() { $(this).addClass(\"ui-state-hover\");},\n",
       "        function() { $(this).removeClass(\"ui-state-hover\");}\n",
       "    );\n",
       "\n",
       "    var status_bar = $('<span class=\"mpl-message\"/>');\n",
       "    nav_element.append(status_bar);\n",
       "    this.message = status_bar[0];\n",
       "}\n",
       "\n",
       "mpl.figure.prototype.request_resize = function(x_pixels, y_pixels) {\n",
       "    // Request matplotlib to resize the figure. Matplotlib will then trigger a resize in the client,\n",
       "    // which will in turn request a refresh of the image.\n",
       "    this.send_message('resize', {'width': x_pixels, 'height': y_pixels});\n",
       "}\n",
       "\n",
       "mpl.figure.prototype.send_message = function(type, properties) {\n",
       "    properties['type'] = type;\n",
       "    properties['figure_id'] = this.id;\n",
       "    this.ws.send(JSON.stringify(properties));\n",
       "}\n",
       "\n",
       "mpl.figure.prototype.send_draw_message = function() {\n",
       "    if (!this.waiting) {\n",
       "        this.waiting = true;\n",
       "        this.ws.send(JSON.stringify({type: \"draw\", figure_id: this.id}));\n",
       "    }\n",
       "}\n",
       "\n",
       "\n",
       "mpl.figure.prototype.handle_save = function(fig, msg) {\n",
       "    var format_dropdown = fig.format_dropdown;\n",
       "    var format = format_dropdown.options[format_dropdown.selectedIndex].value;\n",
       "    fig.ondownload(fig, format);\n",
       "}\n",
       "\n",
       "\n",
       "mpl.figure.prototype.handle_resize = function(fig, msg) {\n",
       "    var size = msg['size'];\n",
       "    if (size[0] != fig.canvas.width || size[1] != fig.canvas.height) {\n",
       "        fig._resize_canvas(size[0], size[1]);\n",
       "        fig.send_message(\"refresh\", {});\n",
       "    };\n",
       "}\n",
       "\n",
       "mpl.figure.prototype.handle_rubberband = function(fig, msg) {\n",
       "    var x0 = msg['x0'] / mpl.ratio;\n",
       "    var y0 = (fig.canvas.height - msg['y0']) / mpl.ratio;\n",
       "    var x1 = msg['x1'] / mpl.ratio;\n",
       "    var y1 = (fig.canvas.height - msg['y1']) / mpl.ratio;\n",
       "    x0 = Math.floor(x0) + 0.5;\n",
       "    y0 = Math.floor(y0) + 0.5;\n",
       "    x1 = Math.floor(x1) + 0.5;\n",
       "    y1 = Math.floor(y1) + 0.5;\n",
       "    var min_x = Math.min(x0, x1);\n",
       "    var min_y = Math.min(y0, y1);\n",
       "    var width = Math.abs(x1 - x0);\n",
       "    var height = Math.abs(y1 - y0);\n",
       "\n",
       "    fig.rubberband_context.clearRect(\n",
       "        0, 0, fig.canvas.width / mpl.ratio, fig.canvas.height / mpl.ratio);\n",
       "\n",
       "    fig.rubberband_context.strokeRect(min_x, min_y, width, height);\n",
       "}\n",
       "\n",
       "mpl.figure.prototype.handle_figure_label = function(fig, msg) {\n",
       "    // Updates the figure title.\n",
       "    fig.header.textContent = msg['label'];\n",
       "}\n",
       "\n",
       "mpl.figure.prototype.handle_cursor = function(fig, msg) {\n",
       "    var cursor = msg['cursor'];\n",
       "    switch(cursor)\n",
       "    {\n",
       "    case 0:\n",
       "        cursor = 'pointer';\n",
       "        break;\n",
       "    case 1:\n",
       "        cursor = 'default';\n",
       "        break;\n",
       "    case 2:\n",
       "        cursor = 'crosshair';\n",
       "        break;\n",
       "    case 3:\n",
       "        cursor = 'move';\n",
       "        break;\n",
       "    }\n",
       "    fig.rubberband_canvas.style.cursor = cursor;\n",
       "}\n",
       "\n",
       "mpl.figure.prototype.handle_message = function(fig, msg) {\n",
       "    fig.message.textContent = msg['message'];\n",
       "}\n",
       "\n",
       "mpl.figure.prototype.handle_draw = function(fig, msg) {\n",
       "    // Request the server to send over a new figure.\n",
       "    fig.send_draw_message();\n",
       "}\n",
       "\n",
       "mpl.figure.prototype.handle_image_mode = function(fig, msg) {\n",
       "    fig.image_mode = msg['mode'];\n",
       "}\n",
       "\n",
       "mpl.figure.prototype.updated_canvas_event = function() {\n",
       "    // Called whenever the canvas gets updated.\n",
       "    this.send_message(\"ack\", {});\n",
       "}\n",
       "\n",
       "// A function to construct a web socket function for onmessage handling.\n",
       "// Called in the figure constructor.\n",
       "mpl.figure.prototype._make_on_message_function = function(fig) {\n",
       "    return function socket_on_message(evt) {\n",
       "        if (evt.data instanceof Blob) {\n",
       "            /* FIXME: We get \"Resource interpreted as Image but\n",
       "             * transferred with MIME type text/plain:\" errors on\n",
       "             * Chrome.  But how to set the MIME type?  It doesn't seem\n",
       "             * to be part of the websocket stream */\n",
       "            evt.data.type = \"image/png\";\n",
       "\n",
       "            /* Free the memory for the previous frames */\n",
       "            if (fig.imageObj.src) {\n",
       "                (window.URL || window.webkitURL).revokeObjectURL(\n",
       "                    fig.imageObj.src);\n",
       "            }\n",
       "\n",
       "            fig.imageObj.src = (window.URL || window.webkitURL).createObjectURL(\n",
       "                evt.data);\n",
       "            fig.updated_canvas_event();\n",
       "            fig.waiting = false;\n",
       "            return;\n",
       "        }\n",
       "        else if (typeof evt.data === 'string' && evt.data.slice(0, 21) == \"data:image/png;base64\") {\n",
       "            fig.imageObj.src = evt.data;\n",
       "            fig.updated_canvas_event();\n",
       "            fig.waiting = false;\n",
       "            return;\n",
       "        }\n",
       "\n",
       "        var msg = JSON.parse(evt.data);\n",
       "        var msg_type = msg['type'];\n",
       "\n",
       "        // Call the  \"handle_{type}\" callback, which takes\n",
       "        // the figure and JSON message as its only arguments.\n",
       "        try {\n",
       "            var callback = fig[\"handle_\" + msg_type];\n",
       "        } catch (e) {\n",
       "            console.log(\"No handler for the '\" + msg_type + \"' message type: \", msg);\n",
       "            return;\n",
       "        }\n",
       "\n",
       "        if (callback) {\n",
       "            try {\n",
       "                // console.log(\"Handling '\" + msg_type + \"' message: \", msg);\n",
       "                callback(fig, msg);\n",
       "            } catch (e) {\n",
       "                console.log(\"Exception inside the 'handler_\" + msg_type + \"' callback:\", e, e.stack, msg);\n",
       "            }\n",
       "        }\n",
       "    };\n",
       "}\n",
       "\n",
       "// from http://stackoverflow.com/questions/1114465/getting-mouse-location-in-canvas\n",
       "mpl.findpos = function(e) {\n",
       "    //this section is from http://www.quirksmode.org/js/events_properties.html\n",
       "    var targ;\n",
       "    if (!e)\n",
       "        e = window.event;\n",
       "    if (e.target)\n",
       "        targ = e.target;\n",
       "    else if (e.srcElement)\n",
       "        targ = e.srcElement;\n",
       "    if (targ.nodeType == 3) // defeat Safari bug\n",
       "        targ = targ.parentNode;\n",
       "\n",
       "    // jQuery normalizes the pageX and pageY\n",
       "    // pageX,Y are the mouse positions relative to the document\n",
       "    // offset() returns the position of the element relative to the document\n",
       "    var x = e.pageX - $(targ).offset().left;\n",
       "    var y = e.pageY - $(targ).offset().top;\n",
       "\n",
       "    return {\"x\": x, \"y\": y};\n",
       "};\n",
       "\n",
       "/*\n",
       " * return a copy of an object with only non-object keys\n",
       " * we need this to avoid circular references\n",
       " * http://stackoverflow.com/a/24161582/3208463\n",
       " */\n",
       "function simpleKeys (original) {\n",
       "  return Object.keys(original).reduce(function (obj, key) {\n",
       "    if (typeof original[key] !== 'object')\n",
       "        obj[key] = original[key]\n",
       "    return obj;\n",
       "  }, {});\n",
       "}\n",
       "\n",
       "mpl.figure.prototype.mouse_event = function(event, name) {\n",
       "    var canvas_pos = mpl.findpos(event)\n",
       "\n",
       "    if (name === 'button_press')\n",
       "    {\n",
       "        this.canvas.focus();\n",
       "        this.canvas_div.focus();\n",
       "    }\n",
       "\n",
       "    var x = canvas_pos.x * mpl.ratio;\n",
       "    var y = canvas_pos.y * mpl.ratio;\n",
       "\n",
       "    this.send_message(name, {x: x, y: y, button: event.button,\n",
       "                             step: event.step,\n",
       "                             guiEvent: simpleKeys(event)});\n",
       "\n",
       "    /* This prevents the web browser from automatically changing to\n",
       "     * the text insertion cursor when the button is pressed.  We want\n",
       "     * to control all of the cursor setting manually through the\n",
       "     * 'cursor' event from matplotlib */\n",
       "    event.preventDefault();\n",
       "    return false;\n",
       "}\n",
       "\n",
       "mpl.figure.prototype._key_event_extra = function(event, name) {\n",
       "    // Handle any extra behaviour associated with a key event\n",
       "}\n",
       "\n",
       "mpl.figure.prototype.key_event = function(event, name) {\n",
       "\n",
       "    // Prevent repeat events\n",
       "    if (name == 'key_press')\n",
       "    {\n",
       "        if (event.which === this._key)\n",
       "            return;\n",
       "        else\n",
       "            this._key = event.which;\n",
       "    }\n",
       "    if (name == 'key_release')\n",
       "        this._key = null;\n",
       "\n",
       "    var value = '';\n",
       "    if (event.ctrlKey && event.which != 17)\n",
       "        value += \"ctrl+\";\n",
       "    if (event.altKey && event.which != 18)\n",
       "        value += \"alt+\";\n",
       "    if (event.shiftKey && event.which != 16)\n",
       "        value += \"shift+\";\n",
       "\n",
       "    value += 'k';\n",
       "    value += event.which.toString();\n",
       "\n",
       "    this._key_event_extra(event, name);\n",
       "\n",
       "    this.send_message(name, {key: value,\n",
       "                             guiEvent: simpleKeys(event)});\n",
       "    return false;\n",
       "}\n",
       "\n",
       "mpl.figure.prototype.toolbar_button_onclick = function(name) {\n",
       "    if (name == 'download') {\n",
       "        this.handle_save(this, null);\n",
       "    } else {\n",
       "        this.send_message(\"toolbar_button\", {name: name});\n",
       "    }\n",
       "};\n",
       "\n",
       "mpl.figure.prototype.toolbar_button_onmouseover = function(tooltip) {\n",
       "    this.message.textContent = tooltip;\n",
       "};\n",
       "mpl.toolbar_items = [[\"Home\", \"Reset original view\", \"fa fa-home icon-home\", \"home\"], [\"Back\", \"Back to previous view\", \"fa fa-arrow-left icon-arrow-left\", \"back\"], [\"Forward\", \"Forward to next view\", \"fa fa-arrow-right icon-arrow-right\", \"forward\"], [\"\", \"\", \"\", \"\"], [\"Pan\", \"Pan axes with left mouse, zoom with right\", \"fa fa-arrows icon-move\", \"pan\"], [\"Zoom\", \"Zoom to rectangle\", \"fa fa-square-o icon-check-empty\", \"zoom\"], [\"\", \"\", \"\", \"\"], [\"Download\", \"Download plot\", \"fa fa-floppy-o icon-save\", \"download\"]];\n",
       "\n",
       "mpl.extensions = [\"eps\", \"jpeg\", \"pdf\", \"png\", \"ps\", \"raw\", \"svg\", \"tif\"];\n",
       "\n",
       "mpl.default_extension = \"png\";var comm_websocket_adapter = function(comm) {\n",
       "    // Create a \"websocket\"-like object which calls the given IPython comm\n",
       "    // object with the appropriate methods. Currently this is a non binary\n",
       "    // socket, so there is still some room for performance tuning.\n",
       "    var ws = {};\n",
       "\n",
       "    ws.close = function() {\n",
       "        comm.close()\n",
       "    };\n",
       "    ws.send = function(m) {\n",
       "        //console.log('sending', m);\n",
       "        comm.send(m);\n",
       "    };\n",
       "    // Register the callback with on_msg.\n",
       "    comm.on_msg(function(msg) {\n",
       "        //console.log('receiving', msg['content']['data'], msg);\n",
       "        // Pass the mpl event to the overridden (by mpl) onmessage function.\n",
       "        ws.onmessage(msg['content']['data'])\n",
       "    });\n",
       "    return ws;\n",
       "}\n",
       "\n",
       "mpl.mpl_figure_comm = function(comm, msg) {\n",
       "    // This is the function which gets called when the mpl process\n",
       "    // starts-up an IPython Comm through the \"matplotlib\" channel.\n",
       "\n",
       "    var id = msg.content.data.id;\n",
       "    // Get hold of the div created by the display call when the Comm\n",
       "    // socket was opened in Python.\n",
       "    var element = $(\"#\" + id);\n",
       "    var ws_proxy = comm_websocket_adapter(comm)\n",
       "\n",
       "    function ondownload(figure, format) {\n",
       "        window.open(figure.imageObj.src);\n",
       "    }\n",
       "\n",
       "    var fig = new mpl.figure(id, ws_proxy,\n",
       "                           ondownload,\n",
       "                           element.get(0));\n",
       "\n",
       "    // Call onopen now - mpl needs it, as it is assuming we've passed it a real\n",
       "    // web socket which is closed, not our websocket->open comm proxy.\n",
       "    ws_proxy.onopen();\n",
       "\n",
       "    fig.parent_element = element.get(0);\n",
       "    fig.cell_info = mpl.find_output_cell(\"<div id='\" + id + \"'></div>\");\n",
       "    if (!fig.cell_info) {\n",
       "        console.error(\"Failed to find cell for figure\", id, fig);\n",
       "        return;\n",
       "    }\n",
       "\n",
       "    var output_index = fig.cell_info[2]\n",
       "    var cell = fig.cell_info[0];\n",
       "\n",
       "};\n",
       "\n",
       "mpl.figure.prototype.handle_close = function(fig, msg) {\n",
       "    var width = fig.canvas.width/mpl.ratio\n",
       "    fig.root.unbind('remove')\n",
       "\n",
       "    // Update the output cell to use the data from the current canvas.\n",
       "    fig.push_to_output();\n",
       "    var dataURL = fig.canvas.toDataURL();\n",
       "    // Re-enable the keyboard manager in IPython - without this line, in FF,\n",
       "    // the notebook keyboard shortcuts fail.\n",
       "    IPython.keyboard_manager.enable()\n",
       "    $(fig.parent_element).html('<img src=\"' + dataURL + '\" width=\"' + width + '\">');\n",
       "    fig.close_ws(fig, msg);\n",
       "}\n",
       "\n",
       "mpl.figure.prototype.close_ws = function(fig, msg){\n",
       "    fig.send_message('closing', msg);\n",
       "    // fig.ws.close()\n",
       "}\n",
       "\n",
       "mpl.figure.prototype.push_to_output = function(remove_interactive) {\n",
       "    // Turn the data on the canvas into data in the output cell.\n",
       "    var width = this.canvas.width/mpl.ratio\n",
       "    var dataURL = this.canvas.toDataURL();\n",
       "    this.cell_info[1]['text/html'] = '<img src=\"' + dataURL + '\" width=\"' + width + '\">';\n",
       "}\n",
       "\n",
       "mpl.figure.prototype.updated_canvas_event = function() {\n",
       "    // Tell IPython that the notebook contents must change.\n",
       "    IPython.notebook.set_dirty(true);\n",
       "    this.send_message(\"ack\", {});\n",
       "    var fig = this;\n",
       "    // Wait a second, then push the new image to the DOM so\n",
       "    // that it is saved nicely (might be nice to debounce this).\n",
       "    setTimeout(function () { fig.push_to_output() }, 1000);\n",
       "}\n",
       "\n",
       "mpl.figure.prototype._init_toolbar = function() {\n",
       "    var fig = this;\n",
       "\n",
       "    var nav_element = $('<div/>');\n",
       "    nav_element.attr('style', 'width: 100%');\n",
       "    this.root.append(nav_element);\n",
       "\n",
       "    // Define a callback function for later on.\n",
       "    function toolbar_event(event) {\n",
       "        return fig.toolbar_button_onclick(event['data']);\n",
       "    }\n",
       "    function toolbar_mouse_event(event) {\n",
       "        return fig.toolbar_button_onmouseover(event['data']);\n",
       "    }\n",
       "\n",
       "    for(var toolbar_ind in mpl.toolbar_items){\n",
       "        var name = mpl.toolbar_items[toolbar_ind][0];\n",
       "        var tooltip = mpl.toolbar_items[toolbar_ind][1];\n",
       "        var image = mpl.toolbar_items[toolbar_ind][2];\n",
       "        var method_name = mpl.toolbar_items[toolbar_ind][3];\n",
       "\n",
       "        if (!name) { continue; };\n",
       "\n",
       "        var button = $('<button class=\"btn btn-default\" href=\"#\" title=\"' + name + '\"><i class=\"fa ' + image + ' fa-lg\"></i></button>');\n",
       "        button.click(method_name, toolbar_event);\n",
       "        button.mouseover(tooltip, toolbar_mouse_event);\n",
       "        nav_element.append(button);\n",
       "    }\n",
       "\n",
       "    // Add the status bar.\n",
       "    var status_bar = $('<span class=\"mpl-message\" style=\"text-align:right; float: right;\"/>');\n",
       "    nav_element.append(status_bar);\n",
       "    this.message = status_bar[0];\n",
       "\n",
       "    // Add the close button to the window.\n",
       "    var buttongrp = $('<div class=\"btn-group inline pull-right\"></div>');\n",
       "    var button = $('<button class=\"btn btn-mini btn-primary\" href=\"#\" title=\"Stop Interaction\"><i class=\"fa fa-power-off icon-remove icon-large\"></i></button>');\n",
       "    button.click(function (evt) { fig.handle_close(fig, {}); } );\n",
       "    button.mouseover('Stop Interaction', toolbar_mouse_event);\n",
       "    buttongrp.append(button);\n",
       "    var titlebar = this.root.find($('.ui-dialog-titlebar'));\n",
       "    titlebar.prepend(buttongrp);\n",
       "}\n",
       "\n",
       "mpl.figure.prototype._root_extra_style = function(el){\n",
       "    var fig = this\n",
       "    el.on(\"remove\", function(){\n",
       "\tfig.close_ws(fig, {});\n",
       "    });\n",
       "}\n",
       "\n",
       "mpl.figure.prototype._canvas_extra_style = function(el){\n",
       "    // this is important to make the div 'focusable\n",
       "    el.attr('tabindex', 0)\n",
       "    // reach out to IPython and tell the keyboard manager to turn it's self\n",
       "    // off when our div gets focus\n",
       "\n",
       "    // location in version 3\n",
       "    if (IPython.notebook.keyboard_manager) {\n",
       "        IPython.notebook.keyboard_manager.register_events(el);\n",
       "    }\n",
       "    else {\n",
       "        // location in version 2\n",
       "        IPython.keyboard_manager.register_events(el);\n",
       "    }\n",
       "\n",
       "}\n",
       "\n",
       "mpl.figure.prototype._key_event_extra = function(event, name) {\n",
       "    var manager = IPython.notebook.keyboard_manager;\n",
       "    if (!manager)\n",
       "        manager = IPython.keyboard_manager;\n",
       "\n",
       "    // Check for shift+enter\n",
       "    if (event.shiftKey && event.which == 13) {\n",
       "        this.canvas_div.blur();\n",
       "        // select the cell after this one\n",
       "        var index = IPython.notebook.find_cell_index(this.cell_info[0]);\n",
       "        IPython.notebook.select(index + 1);\n",
       "    }\n",
       "}\n",
       "\n",
       "mpl.figure.prototype.handle_save = function(fig, msg) {\n",
       "    fig.ondownload(fig, null);\n",
       "}\n",
       "\n",
       "\n",
       "mpl.find_output_cell = function(html_output) {\n",
       "    // Return the cell and output element which can be found *uniquely* in the notebook.\n",
       "    // Note - this is a bit hacky, but it is done because the \"notebook_saving.Notebook\"\n",
       "    // IPython event is triggered only after the cells have been serialised, which for\n",
       "    // our purposes (turning an active figure into a static one), is too late.\n",
       "    var cells = IPython.notebook.get_cells();\n",
       "    var ncells = cells.length;\n",
       "    for (var i=0; i<ncells; i++) {\n",
       "        var cell = cells[i];\n",
       "        if (cell.cell_type === 'code'){\n",
       "            for (var j=0; j<cell.output_area.outputs.length; j++) {\n",
       "                var data = cell.output_area.outputs[j];\n",
       "                if (data.data) {\n",
       "                    // IPython >= 3 moved mimebundle to data attribute of output\n",
       "                    data = data.data;\n",
       "                }\n",
       "                if (data['text/html'] == html_output) {\n",
       "                    return [cell, data, j];\n",
       "                }\n",
       "            }\n",
       "        }\n",
       "    }\n",
       "}\n",
       "\n",
       "// Register the function which deals with the matplotlib target/channel.\n",
       "// The kernel may be null if the page has been refreshed.\n",
       "if (IPython.notebook.kernel != null) {\n",
       "    IPython.notebook.kernel.comm_manager.register_target('matplotlib', mpl.mpl_figure_comm);\n",
       "}\n"
      ],
      "text/plain": [
       "<IPython.core.display.Javascript object>"
      ]
     },
     "metadata": {},
     "output_type": "display_data"
    },
    {
     "data": {
      "text/html": [
       "<img src=\"data:image/png;base64,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\" width=\"640\">"
      ],
      "text/plain": [
       "<IPython.core.display.HTML object>"
      ]
     },
     "metadata": {},
     "output_type": "display_data"
    },
    {
     "name": "stdout",
     "output_type": "stream",
     "text": [
      "{}\n"
     ]
    },
    {
     "data": {
      "text/plain": [
       "<spikewidgets.widgets.unitwaveformswidget.unitwaveformswidget.UnitTemplatesWidget at 0x2b8ac1f4e80>"
      ]
     },
     "execution_count": 132,
     "metadata": {},
     "output_type": "execute_result"
    }
   ],
   "source": [
    "sw.plot_unit_templates(loaded['sec_0-300'],  sorted_dic['sec_0-300'], unit_ids=[3], max_channels=1, )"
   ]
  },
  {
   "cell_type": "code",
   "execution_count": 61,
   "metadata": {},
   "outputs": [],
   "source": [
    "def units_to_pandas_DataFrame(sorted_dic, recording_cache, dictkey, layerdic_invert, recordingdate='not given'):\n",
    "    \n",
    "    # creates pandas DataFrame only including the unit ids. the order will be confused because of the unit numbering ('1' instead of '001')\n",
    "    unit_ids = sorted_dic[dictkey].get_unit_ids()\n",
    "    unitframe = pd.DataFrame(\n",
    "        sorted_dic[dictkey].get_unit_ids(), \n",
    "        columns=['unit_ids']\n",
    "        )\n",
    "    \n",
    "    \n",
    "    list_not_empty_spiketrains = []\n",
    "    for i in unit_ids:\n",
    "        st_len = len(sorted_dic[dictkey].get_unit_spike_train(unit_id=i))\n",
    "        if st_len > 0:\n",
    "            list_not_empty_spiketrains.append(i)\n",
    "    \n",
    "    \n",
    "    # calculate as many paramters as possible outside of the loop\n",
    "    recordings_seconds = recording_cache[dictkey].get_num_frames()/recording_cache[dictkey].get_sampling_frequency()\n",
    "    \n",
    "#     features = st.postprocessing.compute_unit_template_features(\n",
    "#         recording_cache[dictkey], \n",
    "#         sorted_dic[dictkey], \n",
    "#         as_dataframe=True\n",
    "#         )\n",
    "    \n",
    "#     quality_metrics = st.validation.compute_quality_metrics(\n",
    "#         sorted_dic[dictkey], \n",
    "#         recording_cache[dictkey], \n",
    "#         metric_names=['firing_rate', 'isi_violation', 'snr', \n",
    "#                       'amplitude_cutoff', 'presence_ratio'],\n",
    "#         as_dataframe=True\n",
    "#         )\n",
    "    \n",
    "    \n",
    "    for i in list_not_empty_spiketrains:  \n",
    "        \n",
    "        # add channel with maximum amplitude\n",
    "        unitframe.loc[(unitframe['unit_ids']==i), 'max_channel']=st.postprocessing.get_unit_max_channels(\n",
    "            recording_cache[dictkey], sorted_dic[dictkey], unit_ids=[i]\n",
    "            )\n",
    "    \n",
    "        # get the channel label as on MCS MEA 256 chips\n",
    "        max_channel = int(unitframe.loc[(unitframe['unit_ids']==i)]['max_channel'])\n",
    "        unitframe.loc[(unitframe['unit_ids']==i), 'channellabel']= labeldic[max_channel]\n",
    "        \n",
    "        # get the number of spiks per unit\n",
    "        unitframe.loc[(unitframe['unit_ids']==i), 'n_spikes']=len(sorted_dic[dictkey].get_unit_spike_train(unit_id=i))\n",
    "        \n",
    "        # add firing rate\n",
    "        unitframe.loc[(unitframe['unit_ids']==i), 'firing_rate']= unitframe.loc[(unitframe['unit_ids']==i)]['n_spikes']/recordings_seconds\n",
    "        \n",
    "        # add layer\n",
    "        labelkey = unitframe.loc[(unitframe['unit_ids']==i), 'channellabel'].values[0]\n",
    "        unitframe.loc[(unitframe['unit_ids']==i), 'layer']= layerdic_invert[labelkey]\n",
    "        \n",
    "        # add features\n",
    "        unitframe.loc[(unitframe['unit_ids']==i), 'ft_peak_to_valley']=features.loc[i]['peak_to_valley']\n",
    "        unitframe.loc[(unitframe['unit_ids']==i), 'ft_halfwidth']=features.loc[i]['halfwidth']\n",
    "        unitframe.loc[(unitframe['unit_ids']==i), 'ft_peak_trough_ratio']=features.loc[i]['peak_trough_ratio']\n",
    "        unitframe.loc[(unitframe['unit_ids']==i), 'ft_repolarization_slope']=features.loc[i]['repolarization_slope']\n",
    "        unitframe.loc[(unitframe['unit_ids']==i), 'ft_recovery_slope']=features.loc[i]['recovery_slope']\n",
    "\n",
    "        # add quality metrics\n",
    "        unitframe.loc[(unitframe['unit_ids']==i), 'qm_firing_rate']=quality_metrics.loc[i]['firing_rate']\n",
    "        unitframe.loc[(unitframe['unit_ids']==i), 'qm_isi_violation']=quality_metrics.loc[i]['isi_violation']\n",
    "        unitframe.loc[(unitframe['unit_ids']==i), 'qm_amplitude_cutoff']=quality_metrics.loc[i]['amplitude_cutoff']\n",
    "        unitframe.loc[(unitframe['unit_ids']==i), 'qm_presence_ratio']=quality_metrics.loc[i]['presence_ratio']\n",
    "        unitframe.loc[(unitframe['unit_ids']==i), 'qm_snr']=quality_metrics.loc[i]['snr']\n",
    "        \n",
    "        \n",
    "        unitframe.loc[(unitframe['unit_ids']==i), 'file']=filebase\n",
    "        unitframe.loc[(unitframe['unit_ids']==i), 'subrecording']=dictkey\n",
    "        unitframe.loc[(unitframe['unit_ids']==i), 'recordingdate']=recordingdate\n",
    "    return unitframe"
   ]
  },
  {
   "cell_type": "code",
   "execution_count": 62,
   "metadata": {},
   "outputs": [
    {
     "ename": "ValueError",
     "evalue": "cannot mmap an empty file",
     "output_type": "error",
     "traceback": [
      "\u001b[1;31m---------------------------------------------------------------------------\u001b[0m",
      "\u001b[1;31mValueError\u001b[0m                                Traceback (most recent call last)",
      "\u001b[1;32m<ipython-input-62-54ab3dd37dfa>\u001b[0m in \u001b[0;36m<module>\u001b[1;34m\u001b[0m\n\u001b[1;32m----> 1\u001b[1;33m unitframe3 = units_to_pandas_DataFrame(\n\u001b[0m\u001b[0;32m      2\u001b[0m     \u001b[0msorted_dic\u001b[0m \u001b[1;33m=\u001b[0m \u001b[0msorted_dic\u001b[0m\u001b[1;33m,\u001b[0m\u001b[1;33m\u001b[0m\u001b[1;33m\u001b[0m\u001b[0m\n\u001b[0;32m      3\u001b[0m     \u001b[0mrecording_cache\u001b[0m \u001b[1;33m=\u001b[0m \u001b[0mloaded\u001b[0m\u001b[1;33m,\u001b[0m\u001b[1;33m\u001b[0m\u001b[1;33m\u001b[0m\u001b[0m\n\u001b[0;32m      4\u001b[0m     \u001b[0mdictkey\u001b[0m\u001b[1;33m=\u001b[0m\u001b[1;34m'sec_600-900'\u001b[0m\u001b[1;33m,\u001b[0m\u001b[1;33m\u001b[0m\u001b[1;33m\u001b[0m\u001b[0m\n\u001b[0;32m      5\u001b[0m     \u001b[0mlayerdic_invert\u001b[0m\u001b[1;33m=\u001b[0m\u001b[0mlayerdic_invert\u001b[0m\u001b[1;33m,\u001b[0m\u001b[1;33m\u001b[0m\u001b[1;33m\u001b[0m\u001b[0m\n",
      "\u001b[1;32m<ipython-input-61-50d131e1361d>\u001b[0m in \u001b[0;36munits_to_pandas_DataFrame\u001b[1;34m(sorted_dic, recording_cache, dictkey, layerdic_invert, recordingdate)\u001b[0m\n\u001b[0;32m     19\u001b[0m     \u001b[0mrecordings_seconds\u001b[0m \u001b[1;33m=\u001b[0m \u001b[0mrecording_cache\u001b[0m\u001b[1;33m[\u001b[0m\u001b[0mdictkey\u001b[0m\u001b[1;33m]\u001b[0m\u001b[1;33m.\u001b[0m\u001b[0mget_num_frames\u001b[0m\u001b[1;33m(\u001b[0m\u001b[1;33m)\u001b[0m\u001b[1;33m/\u001b[0m\u001b[0mrecording_cache\u001b[0m\u001b[1;33m[\u001b[0m\u001b[0mdictkey\u001b[0m\u001b[1;33m]\u001b[0m\u001b[1;33m.\u001b[0m\u001b[0mget_sampling_frequency\u001b[0m\u001b[1;33m(\u001b[0m\u001b[1;33m)\u001b[0m\u001b[1;33m\u001b[0m\u001b[1;33m\u001b[0m\u001b[0m\n\u001b[0;32m     20\u001b[0m \u001b[1;33m\u001b[0m\u001b[0m\n\u001b[1;32m---> 21\u001b[1;33m     features = st.postprocessing.compute_unit_template_features(\n\u001b[0m\u001b[0;32m     22\u001b[0m         \u001b[0mrecording_cache\u001b[0m\u001b[1;33m[\u001b[0m\u001b[0mdictkey\u001b[0m\u001b[1;33m]\u001b[0m\u001b[1;33m,\u001b[0m\u001b[1;33m\u001b[0m\u001b[1;33m\u001b[0m\u001b[0m\n\u001b[0;32m     23\u001b[0m         \u001b[0msorted_dic\u001b[0m\u001b[1;33m[\u001b[0m\u001b[0mdictkey\u001b[0m\u001b[1;33m]\u001b[0m\u001b[1;33m,\u001b[0m\u001b[1;33m\u001b[0m\u001b[1;33m\u001b[0m\u001b[0m\n",
      "\u001b[1;32m~\\anaconda3\\lib\\site-packages\\spiketoolkit\\postprocessing\\features.py\u001b[0m in \u001b[0;36mcompute_unit_template_features\u001b[1;34m(recording, sorting, unit_ids, channel_ids, feature_names, max_channels_per_features, recovery_slope_window, upsampling_factor, invert_waveforms, as_dataframe, **kwargs)\u001b[0m\n\u001b[0;32m    129\u001b[0m                              f\"calculated: {str(sf.all_1D_features)}\")\n\u001b[0;32m    130\u001b[0m \u001b[1;33m\u001b[0m\u001b[0m\n\u001b[1;32m--> 131\u001b[1;33m     templates = np.array(get_unit_templates(recording, sorting, unit_ids=unit_ids, channel_ids=channel_ids,\n\u001b[0m\u001b[0;32m    132\u001b[0m                                             mode='median', **kwargs))\n\u001b[0;32m    133\u001b[0m \u001b[1;33m\u001b[0m\u001b[0m\n",
      "\u001b[1;32m~\\anaconda3\\lib\\site-packages\\spiketoolkit\\postprocessing\\postprocessing_tools.py\u001b[0m in \u001b[0;36mget_unit_templates\u001b[1;34m(recording, sorting, unit_ids, channel_ids, mode, _waveforms, **kwargs)\u001b[0m\n\u001b[0;32m    462\u001b[0m     \u001b[1;32melse\u001b[0m\u001b[1;33m:\u001b[0m\u001b[1;33m\u001b[0m\u001b[1;33m\u001b[0m\u001b[0m\n\u001b[0;32m    463\u001b[0m         \u001b[1;32mif\u001b[0m \u001b[0m_waveforms\u001b[0m \u001b[1;32mis\u001b[0m \u001b[1;32mNone\u001b[0m\u001b[1;33m:\u001b[0m\u001b[1;33m\u001b[0m\u001b[1;33m\u001b[0m\u001b[0m\n\u001b[1;32m--> 464\u001b[1;33m             \u001b[0mwaveforms\u001b[0m \u001b[1;33m=\u001b[0m \u001b[0mget_unit_waveforms\u001b[0m\u001b[1;33m(\u001b[0m\u001b[0mrecording\u001b[0m\u001b[1;33m,\u001b[0m \u001b[0msorting\u001b[0m\u001b[1;33m,\u001b[0m \u001b[0munit_ids\u001b[0m\u001b[1;33m,\u001b[0m \u001b[0mchannel_ids\u001b[0m\u001b[1;33m,\u001b[0m \u001b[0mreturn_idxs\u001b[0m\u001b[1;33m=\u001b[0m\u001b[1;32mFalse\u001b[0m\u001b[1;33m,\u001b[0m \u001b[1;33m**\u001b[0m\u001b[0mkwargs\u001b[0m\u001b[1;33m)\u001b[0m\u001b[1;33m\u001b[0m\u001b[1;33m\u001b[0m\u001b[0m\n\u001b[0m\u001b[0;32m    465\u001b[0m         \u001b[1;32melse\u001b[0m\u001b[1;33m:\u001b[0m\u001b[1;33m\u001b[0m\u001b[1;33m\u001b[0m\u001b[0m\n\u001b[0;32m    466\u001b[0m             \u001b[0mwaveforms\u001b[0m \u001b[1;33m=\u001b[0m \u001b[0m_waveforms\u001b[0m\u001b[1;33m\u001b[0m\u001b[1;33m\u001b[0m\u001b[0m\n",
      "\u001b[1;32m~\\anaconda3\\lib\\site-packages\\spiketoolkit\\postprocessing\\postprocessing_tools.py\u001b[0m in \u001b[0;36mget_unit_waveforms\u001b[1;34m(recording, sorting, unit_ids, channel_ids, return_idxs, chunk_size, chunk_mb, **kwargs)\u001b[0m\n\u001b[0;32m    200\u001b[0m                         \u001b[0mlen_wf\u001b[0m \u001b[1;33m=\u001b[0m \u001b[0mmax_spikes_per_unit\u001b[0m\u001b[1;33m\u001b[0m\u001b[1;33m\u001b[0m\u001b[0m\n\u001b[0;32m    201\u001b[0m                 \u001b[0mshape\u001b[0m \u001b[1;33m=\u001b[0m \u001b[1;33m(\u001b[0m\u001b[0mlen_wf\u001b[0m\u001b[1;33m,\u001b[0m \u001b[0mn_channels\u001b[0m\u001b[1;33m,\u001b[0m \u001b[0msum\u001b[0m\u001b[1;33m(\u001b[0m\u001b[0mn_pad\u001b[0m\u001b[1;33m)\u001b[0m\u001b[1;33m)\u001b[0m\u001b[1;33m\u001b[0m\u001b[1;33m\u001b[0m\u001b[0m\n\u001b[1;32m--> 202\u001b[1;33m                 \u001b[0marr\u001b[0m \u001b[1;33m=\u001b[0m \u001b[0msorting\u001b[0m\u001b[1;33m.\u001b[0m\u001b[0mallocate_array\u001b[0m\u001b[1;33m(\u001b[0m\u001b[0mshape\u001b[0m\u001b[1;33m=\u001b[0m\u001b[0mshape\u001b[0m\u001b[1;33m,\u001b[0m \u001b[0mdtype\u001b[0m\u001b[1;33m=\u001b[0m\u001b[0mdtype\u001b[0m\u001b[1;33m,\u001b[0m \u001b[0mname\u001b[0m\u001b[1;33m=\u001b[0m\u001b[0mfname\u001b[0m\u001b[1;33m,\u001b[0m \u001b[0mmemmap\u001b[0m\u001b[1;33m=\u001b[0m\u001b[0mmemmap\u001b[0m\u001b[1;33m)\u001b[0m\u001b[1;33m\u001b[0m\u001b[1;33m\u001b[0m\u001b[0m\n\u001b[0m\u001b[0;32m    203\u001b[0m                 \u001b[0mall_unit_waveforms\u001b[0m\u001b[1;33m.\u001b[0m\u001b[0mappend\u001b[0m\u001b[1;33m(\u001b[0m\u001b[0marr\u001b[0m\u001b[1;33m)\u001b[0m\u001b[1;33m\u001b[0m\u001b[1;33m\u001b[0m\u001b[0m\n\u001b[0;32m    204\u001b[0m         \u001b[1;32melse\u001b[0m\u001b[1;33m:\u001b[0m\u001b[1;33m\u001b[0m\u001b[1;33m\u001b[0m\u001b[0m\n",
      "\u001b[1;32m~\\anaconda3\\lib\\site-packages\\spikeextractors\\baseextractor.py\u001b[0m in \u001b[0;36mallocate_array\u001b[1;34m(self, memmap, shape, dtype, name, array)\u001b[0m\n\u001b[0;32m    258\u001b[0m             \u001b[1;31m# make sure any open memmap files with same path are deleted\u001b[0m\u001b[1;33m\u001b[0m\u001b[1;33m\u001b[0m\u001b[1;33m\u001b[0m\u001b[0m\n\u001b[0;32m    259\u001b[0m             \u001b[0mself\u001b[0m\u001b[1;33m.\u001b[0m\u001b[0mdel_memmap_file\u001b[0m\u001b[1;33m(\u001b[0m\u001b[0mraw_tmp_file\u001b[0m\u001b[1;33m)\u001b[0m\u001b[1;33m\u001b[0m\u001b[1;33m\u001b[0m\u001b[0m\n\u001b[1;32m--> 260\u001b[1;33m             \u001b[0marr\u001b[0m \u001b[1;33m=\u001b[0m \u001b[0mnp\u001b[0m\u001b[1;33m.\u001b[0m\u001b[0mmemmap\u001b[0m\u001b[1;33m(\u001b[0m\u001b[0mraw_tmp_file\u001b[0m\u001b[1;33m,\u001b[0m \u001b[0mmode\u001b[0m\u001b[1;33m=\u001b[0m\u001b[1;34m'w+'\u001b[0m\u001b[1;33m,\u001b[0m \u001b[0mshape\u001b[0m\u001b[1;33m=\u001b[0m\u001b[0mshape\u001b[0m\u001b[1;33m,\u001b[0m \u001b[0mdtype\u001b[0m\u001b[1;33m=\u001b[0m\u001b[0mdtype\u001b[0m\u001b[1;33m)\u001b[0m\u001b[1;33m\u001b[0m\u001b[1;33m\u001b[0m\u001b[0m\n\u001b[0m\u001b[0;32m    261\u001b[0m             \u001b[1;32mif\u001b[0m \u001b[0marray\u001b[0m \u001b[1;32mis\u001b[0m \u001b[1;32mnot\u001b[0m \u001b[1;32mNone\u001b[0m\u001b[1;33m:\u001b[0m\u001b[1;33m\u001b[0m\u001b[1;33m\u001b[0m\u001b[0m\n\u001b[0;32m    262\u001b[0m                 \u001b[0marr\u001b[0m\u001b[1;33m[\u001b[0m\u001b[1;33m:\u001b[0m\u001b[1;33m]\u001b[0m \u001b[1;33m=\u001b[0m \u001b[0marray\u001b[0m\u001b[1;33m\u001b[0m\u001b[1;33m\u001b[0m\u001b[0m\n",
      "\u001b[1;32m~\\anaconda3\\lib\\site-packages\\numpy\\core\\memmap.py\u001b[0m in \u001b[0;36m__new__\u001b[1;34m(subtype, filename, dtype, mode, offset, shape, order)\u001b[0m\n\u001b[0;32m    262\u001b[0m             \u001b[0mbytes\u001b[0m \u001b[1;33m-=\u001b[0m \u001b[0mstart\u001b[0m\u001b[1;33m\u001b[0m\u001b[1;33m\u001b[0m\u001b[0m\n\u001b[0;32m    263\u001b[0m             \u001b[0marray_offset\u001b[0m \u001b[1;33m=\u001b[0m \u001b[0moffset\u001b[0m \u001b[1;33m-\u001b[0m \u001b[0mstart\u001b[0m\u001b[1;33m\u001b[0m\u001b[1;33m\u001b[0m\u001b[0m\n\u001b[1;32m--> 264\u001b[1;33m             \u001b[0mmm\u001b[0m \u001b[1;33m=\u001b[0m \u001b[0mmmap\u001b[0m\u001b[1;33m.\u001b[0m\u001b[0mmmap\u001b[0m\u001b[1;33m(\u001b[0m\u001b[0mfid\u001b[0m\u001b[1;33m.\u001b[0m\u001b[0mfileno\u001b[0m\u001b[1;33m(\u001b[0m\u001b[1;33m)\u001b[0m\u001b[1;33m,\u001b[0m \u001b[0mbytes\u001b[0m\u001b[1;33m,\u001b[0m \u001b[0maccess\u001b[0m\u001b[1;33m=\u001b[0m\u001b[0macc\u001b[0m\u001b[1;33m,\u001b[0m \u001b[0moffset\u001b[0m\u001b[1;33m=\u001b[0m\u001b[0mstart\u001b[0m\u001b[1;33m)\u001b[0m\u001b[1;33m\u001b[0m\u001b[1;33m\u001b[0m\u001b[0m\n\u001b[0m\u001b[0;32m    265\u001b[0m \u001b[1;33m\u001b[0m\u001b[0m\n\u001b[0;32m    266\u001b[0m             self = ndarray.__new__(subtype, shape, dtype=descr, buffer=mm,\n",
      "\u001b[1;31mValueError\u001b[0m: cannot mmap an empty file"
     ]
    }
   ],
   "source": [
    "unitframe3 = units_to_pandas_DataFrame(\n",
    "    sorted_dic = sorted_dic,\n",
    "    recording_cache = loaded,\n",
    "    dictkey='sec_600-900',\n",
    "    layerdic_invert=layerdic_invert,\n",
    "    recordingdate = '21.10.2019'\n",
    "    )"
   ]
  },
  {
   "cell_type": "code",
   "execution_count": 76,
   "metadata": {},
   "outputs": [
    {
     "name": "stderr",
     "output_type": "stream",
     "text": [
      "C:\\Users\\User\\anaconda3\\lib\\site-packages\\scipy\\stats\\_stats_mstats_common.py:130: RuntimeWarning: invalid value encountered in double_scalars\n",
      "  slope = r_num / ssxm\n",
      "C:\\Users\\User\\anaconda3\\lib\\site-packages\\scipy\\stats\\_stats_mstats_common.py:140: RuntimeWarning: invalid value encountered in sqrt\n",
      "  t = r * np.sqrt(df / ((1.0 - r + TINY)*(1.0 + r + TINY)))\n",
      "C:\\Users\\User\\anaconda3\\lib\\site-packages\\scipy\\stats\\_distn_infrastructure.py:1932: RuntimeWarning: invalid value encountered in less_equal\n",
      "  cond2 = cond0 & (x <= _a)\n",
      "C:\\Users\\User\\anaconda3\\lib\\site-packages\\scipy\\stats\\_stats_mstats_common.py:142: RuntimeWarning: invalid value encountered in double_scalars\n",
      "  sterrest = np.sqrt((1 - r**2) * ssym / ssxm / df)\n"
     ]
    },
    {
     "ename": "IndexError",
     "evalue": "list index out of range",
     "output_type": "error",
     "traceback": [
      "\u001b[1;31m---------------------------------------------------------------------------\u001b[0m",
      "\u001b[1;31mIndexError\u001b[0m                                Traceback (most recent call last)",
      "\u001b[1;32m<ipython-input-76-7b44f9715f53>\u001b[0m in \u001b[0;36m<module>\u001b[1;34m\u001b[0m\n\u001b[1;32m----> 1\u001b[1;33m features = st.postprocessing.compute_unit_template_features(\n\u001b[0m\u001b[0;32m      2\u001b[0m         \u001b[0mloaded\u001b[0m\u001b[1;33m[\u001b[0m\u001b[1;34m'sec_0-300'\u001b[0m\u001b[1;33m]\u001b[0m\u001b[1;33m,\u001b[0m\u001b[1;33m\u001b[0m\u001b[1;33m\u001b[0m\u001b[0m\n\u001b[0;32m      3\u001b[0m         \u001b[0msorted_dic\u001b[0m\u001b[1;33m[\u001b[0m\u001b[1;34m'sec_0-300'\u001b[0m\u001b[1;33m]\u001b[0m\u001b[1;33m,\u001b[0m\u001b[1;33m\u001b[0m\u001b[1;33m\u001b[0m\u001b[0m\n\u001b[0;32m      4\u001b[0m         \u001b[0mas_dataframe\u001b[0m\u001b[1;33m=\u001b[0m\u001b[1;32mTrue\u001b[0m\u001b[1;33m,\u001b[0m\u001b[1;33m\u001b[0m\u001b[1;33m\u001b[0m\u001b[0m\n\u001b[0;32m      5\u001b[0m         \u001b[0munit_ids\u001b[0m \u001b[1;33m=\u001b[0m \u001b[0mlist_not_empty_spiketrains\u001b[0m\u001b[1;33m\u001b[0m\u001b[1;33m\u001b[0m\u001b[0m\n",
      "\u001b[1;32m~\\anaconda3\\lib\\site-packages\\spiketoolkit\\postprocessing\\features.py\u001b[0m in \u001b[0;36mcompute_unit_template_features\u001b[1;34m(recording, sorting, unit_ids, channel_ids, feature_names, max_channels_per_features, recovery_slope_window, upsampling_factor, invert_waveforms, as_dataframe, **kwargs)\u001b[0m\n\u001b[0;32m    178\u001b[0m         \u001b[1;32mfor\u001b[0m \u001b[0mfeat_name\u001b[0m\u001b[1;33m,\u001b[0m \u001b[0mfeat_val\u001b[0m \u001b[1;32min\u001b[0m \u001b[0mfeatures_dict\u001b[0m\u001b[1;33m.\u001b[0m\u001b[0mitems\u001b[0m\u001b[1;33m(\u001b[0m\u001b[1;33m)\u001b[0m\u001b[1;33m:\u001b[0m\u001b[1;33m\u001b[0m\u001b[1;33m\u001b[0m\u001b[0m\n\u001b[0;32m    179\u001b[0m             \u001b[1;32mfor\u001b[0m \u001b[0mi_u\u001b[0m\u001b[1;33m,\u001b[0m \u001b[0munit\u001b[0m \u001b[1;32min\u001b[0m \u001b[0menumerate\u001b[0m\u001b[1;33m(\u001b[0m\u001b[0msorting\u001b[0m\u001b[1;33m.\u001b[0m\u001b[0mget_unit_ids\u001b[0m\u001b[1;33m(\u001b[0m\u001b[1;33m)\u001b[0m\u001b[1;33m)\u001b[0m\u001b[1;33m:\u001b[0m\u001b[1;33m\u001b[0m\u001b[1;33m\u001b[0m\u001b[0m\n\u001b[1;32m--> 180\u001b[1;33m                 \u001b[1;32mif\u001b[0m \u001b[0mlen\u001b[0m\u001b[1;33m(\u001b[0m\u001b[0mfeat_val\u001b[0m\u001b[1;33m[\u001b[0m\u001b[0mi_u\u001b[0m\u001b[1;33m]\u001b[0m\u001b[1;33m)\u001b[0m \u001b[1;33m==\u001b[0m \u001b[1;36m1\u001b[0m\u001b[1;33m:\u001b[0m\u001b[1;33m\u001b[0m\u001b[1;33m\u001b[0m\u001b[0m\n\u001b[0m\u001b[0;32m    181\u001b[0m                     \u001b[0mfeat_val\u001b[0m\u001b[1;33m[\u001b[0m\u001b[0mi_u\u001b[0m\u001b[1;33m]\u001b[0m \u001b[1;33m=\u001b[0m \u001b[0mfeat_val\u001b[0m\u001b[1;33m[\u001b[0m\u001b[0mi_u\u001b[0m\u001b[1;33m]\u001b[0m\u001b[1;33m[\u001b[0m\u001b[1;36m0\u001b[0m\u001b[1;33m]\u001b[0m\u001b[1;33m\u001b[0m\u001b[1;33m\u001b[0m\u001b[0m\n\u001b[0;32m    182\u001b[0m                 sorting.set_unit_property(unit,\n",
      "\u001b[1;31mIndexError\u001b[0m: list index out of range"
     ]
    }
   ],
   "source": [
    "features = st.postprocessing.compute_unit_template_features(\n",
    "        loaded['sec_0-300'], \n",
    "        sorted_dic['sec_0-300'], \n",
    "        as_dataframe=True, \n",
    "        unit_ids = list_not_empty_spiketrains\n",
    "        )"
   ]
  },
  {
   "cell_type": "code",
   "execution_count": 66,
   "metadata": {},
   "outputs": [
    {
     "ename": "ValueError",
     "evalue": "Spike trains must have none zero length. Please remove all zero length spike trains",
     "output_type": "error",
     "traceback": [
      "\u001b[1;31m---------------------------------------------------------------------------\u001b[0m",
      "\u001b[1;31mValueError\u001b[0m                                Traceback (most recent call last)",
      "\u001b[1;32m<ipython-input-66-1b9377e82c3d>\u001b[0m in \u001b[0;36m<module>\u001b[1;34m\u001b[0m\n\u001b[1;32m----> 1\u001b[1;33m quality_metrics = st.validation.compute_quality_metrics(\n\u001b[0m\u001b[0;32m      2\u001b[0m     \u001b[0msorted_dic\u001b[0m\u001b[1;33m[\u001b[0m\u001b[1;34m'sec_0-300'\u001b[0m\u001b[1;33m]\u001b[0m\u001b[1;33m,\u001b[0m\u001b[1;33m\u001b[0m\u001b[1;33m\u001b[0m\u001b[0m\n\u001b[0;32m      3\u001b[0m     \u001b[0mloaded\u001b[0m\u001b[1;33m[\u001b[0m\u001b[1;34m'sec_0-300'\u001b[0m\u001b[1;33m]\u001b[0m\u001b[1;33m,\u001b[0m\u001b[1;33m\u001b[0m\u001b[1;33m\u001b[0m\u001b[0m\n\u001b[0;32m      4\u001b[0m     metric_names=['firing_rate', 'isi_violation', 'snr', \n\u001b[0;32m      5\u001b[0m                   'amplitude_cutoff', 'presence_ratio'],\n",
      "\u001b[1;32m~\\anaconda3\\lib\\site-packages\\spiketoolkit\\validation\\quality_metrics.py\u001b[0m in \u001b[0;36mcompute_quality_metrics\u001b[1;34m(sorting, recording, duration_in_frames, sampling_frequency, metric_names, unit_ids, as_dataframe, isi_threshold, min_isi, snr_mode, snr_noise_duration, max_spikes_per_unit_for_snr, template_mode, max_channel_peak, max_spikes_per_unit_for_noise_overlap, noise_overlap_num_features, noise_overlap_num_knn, drift_metrics_interval_s, drift_metrics_min_spikes_per_interval, max_spikes_for_silhouette, num_channels_to_compare, max_spikes_per_cluster, max_spikes_for_nn, n_neighbors, **kwargs)\u001b[0m\n\u001b[0;32m   1194\u001b[0m         \u001b[0munit_ids\u001b[0m \u001b[1;33m=\u001b[0m \u001b[0msorting\u001b[0m\u001b[1;33m.\u001b[0m\u001b[0mget_unit_ids\u001b[0m\u001b[1;33m(\u001b[0m\u001b[1;33m)\u001b[0m\u001b[1;33m\u001b[0m\u001b[1;33m\u001b[0m\u001b[0m\n\u001b[0;32m   1195\u001b[0m \u001b[1;33m\u001b[0m\u001b[0m\n\u001b[1;32m-> 1196\u001b[1;33m     md = MetricData(sorting=sorting, sampling_frequency=sampling_frequency, recording=recording,\n\u001b[0m\u001b[0;32m   1197\u001b[0m                     \u001b[0mapply_filter\u001b[0m\u001b[1;33m=\u001b[0m\u001b[0mparams_dict\u001b[0m\u001b[1;33m[\u001b[0m\u001b[1;34m\"apply_filter\"\u001b[0m\u001b[1;33m]\u001b[0m\u001b[1;33m,\u001b[0m \u001b[0mfreq_min\u001b[0m\u001b[1;33m=\u001b[0m\u001b[0mparams_dict\u001b[0m\u001b[1;33m[\u001b[0m\u001b[1;34m\"freq_min\"\u001b[0m\u001b[1;33m]\u001b[0m\u001b[1;33m,\u001b[0m\u001b[1;33m\u001b[0m\u001b[1;33m\u001b[0m\u001b[0m\n\u001b[0;32m   1198\u001b[0m                     \u001b[0mfreq_max\u001b[0m\u001b[1;33m=\u001b[0m\u001b[0mparams_dict\u001b[0m\u001b[1;33m[\u001b[0m\u001b[1;34m\"freq_max\"\u001b[0m\u001b[1;33m]\u001b[0m\u001b[1;33m,\u001b[0m \u001b[0munit_ids\u001b[0m\u001b[1;33m=\u001b[0m\u001b[0munit_ids\u001b[0m\u001b[1;33m,\u001b[0m\u001b[1;33m\u001b[0m\u001b[1;33m\u001b[0m\u001b[0m\n",
      "\u001b[1;32m~\\anaconda3\\lib\\site-packages\\spiketoolkit\\validation\\quality_metric_classes\\metric_data.py\u001b[0m in \u001b[0;36m__init__\u001b[1;34m(self, sorting, recording, duration_in_frames, sampling_frequency, apply_filter, freq_min, freq_max, unit_ids, verbose, raise_if_empty)\u001b[0m\n\u001b[0;32m     69\u001b[0m             \u001b[1;32mfor\u001b[0m \u001b[0munit_id\u001b[0m \u001b[1;32min\u001b[0m \u001b[0msorting\u001b[0m\u001b[1;33m.\u001b[0m\u001b[0mget_unit_ids\u001b[0m\u001b[1;33m(\u001b[0m\u001b[1;33m)\u001b[0m\u001b[1;33m:\u001b[0m\u001b[1;33m\u001b[0m\u001b[1;33m\u001b[0m\u001b[0m\n\u001b[0;32m     70\u001b[0m                 \u001b[1;32mif\u001b[0m \u001b[0mlen\u001b[0m\u001b[1;33m(\u001b[0m\u001b[0msorting\u001b[0m\u001b[1;33m.\u001b[0m\u001b[0mget_unit_spike_train\u001b[0m\u001b[1;33m(\u001b[0m\u001b[0munit_id\u001b[0m\u001b[1;33m)\u001b[0m\u001b[1;33m)\u001b[0m \u001b[1;33m==\u001b[0m \u001b[1;36m0\u001b[0m\u001b[1;33m:\u001b[0m\u001b[1;33m\u001b[0m\u001b[1;33m\u001b[0m\u001b[0m\n\u001b[1;32m---> 71\u001b[1;33m                     raise ValueError(\"Spike trains must have none zero length. \"\n\u001b[0m\u001b[0;32m     72\u001b[0m                                      \"Please remove all zero length spike trains\")\n\u001b[0;32m     73\u001b[0m \u001b[1;33m\u001b[0m\u001b[0m\n",
      "\u001b[1;31mValueError\u001b[0m: Spike trains must have none zero length. Please remove all zero length spike trains"
     ]
    }
   ],
   "source": [
    "quality_metrics = st.validation.compute_quality_metrics(\n",
    "    sorted_dic['sec_0-300'], \n",
    "    loaded['sec_0-300'], \n",
    "    metric_names=['firing_rate', 'isi_violation', 'snr', \n",
    "                  'amplitude_cutoff', 'presence_ratio'],\n",
    "    as_dataframe=True,\n",
    "    unit_ids=list_not_empty_spiketrains\n",
    "    )\n",
    "\n"
   ]
  },
  {
   "cell_type": "code",
   "execution_count": 64,
   "metadata": {},
   "outputs": [],
   "source": [
    "list_not_empty_spiketrains = []\n",
    "\n",
    "ids = sorted_dic['sec_0-300'].get_unit_ids()\n",
    "for i in ids:\n",
    "    st_len = len(sorted_dic['sec_0-300'].get_unit_spike_train(unit_id=i))\n",
    "    if st_len > 0:\n",
    "        list_not_empty_spiketrains.append(i)"
   ]
  },
  {
   "cell_type": "code",
   "execution_count": 73,
   "metadata": {},
   "outputs": [
    {
     "data": {
      "text/plain": [
       "966"
      ]
     },
     "execution_count": 73,
     "metadata": {},
     "output_type": "execute_result"
    }
   ],
   "source": [
    "len(ids)"
   ]
  },
  {
   "cell_type": "code",
   "execution_count": 46,
   "metadata": {},
   "outputs": [
    {
     "data": {
      "text/plain": [
       "<spikeextractors.extractors.spykingcircusextractors.spykingcircusextractors.SpykingCircusSortingExtractor at 0x28e34f19ca0>"
      ]
     },
     "execution_count": 46,
     "metadata": {},
     "output_type": "execute_result"
    }
   ],
   "source": [
    "sorted_dic[u]"
   ]
  },
  {
   "cell_type": "code",
   "execution_count": 47,
   "metadata": {},
   "outputs": [
    {
     "name": "stderr",
     "output_type": "stream",
     "text": [
      "C:\\Users\\User\\anaconda3\\lib\\site-packages\\scipy\\stats\\_stats_mstats_common.py:130: RuntimeWarning: invalid value encountered in double_scalars\n",
      "  slope = r_num / ssxm\n",
      "C:\\Users\\User\\anaconda3\\lib\\site-packages\\scipy\\stats\\_stats_mstats_common.py:140: RuntimeWarning: invalid value encountered in sqrt\n",
      "  t = r * np.sqrt(df / ((1.0 - r + TINY)*(1.0 + r + TINY)))\n",
      "C:\\Users\\User\\anaconda3\\lib\\site-packages\\scipy\\stats\\_distn_infrastructure.py:1932: RuntimeWarning: invalid value encountered in less_equal\n",
      "  cond2 = cond0 & (x <= _a)\n",
      "C:\\Users\\User\\anaconda3\\lib\\site-packages\\scipy\\stats\\_stats_mstats_common.py:142: RuntimeWarning: invalid value encountered in double_scalars\n",
      "  sterrest = np.sqrt((1 - r**2) * ssym / ssxm / df)\n"
     ]
    }
   ],
   "source": [
    "features = st.postprocessing.compute_unit_template_features(\n",
    "    loaded[u], \n",
    "    sorted_dic[u], \n",
    "    as_dataframe=True\n",
    "    )\n"
   ]
  },
  {
   "cell_type": "code",
   "execution_count": 37,
   "metadata": {},
   "outputs": [
    {
     "data": {
      "text/html": [
       "<div>\n",
       "<style scoped>\n",
       "    .dataframe tbody tr th:only-of-type {\n",
       "        vertical-align: middle;\n",
       "    }\n",
       "\n",
       "    .dataframe tbody tr th {\n",
       "        vertical-align: top;\n",
       "    }\n",
       "\n",
       "    .dataframe thead th {\n",
       "        text-align: right;\n",
       "    }\n",
       "</style>\n",
       "<table border=\"1\" class=\"dataframe\">\n",
       "  <thead>\n",
       "    <tr style=\"text-align: right;\">\n",
       "      <th></th>\n",
       "      <th>peak_to_valley</th>\n",
       "      <th>halfwidth</th>\n",
       "      <th>peak_trough_ratio</th>\n",
       "      <th>repolarization_slope</th>\n",
       "      <th>recovery_slope</th>\n",
       "    </tr>\n",
       "  </thead>\n",
       "  <tbody>\n",
       "    <tr>\n",
       "      <th>0</th>\n",
       "      <td>0.00132</td>\n",
       "      <td>0.00032</td>\n",
       "      <td>-0.308642</td>\n",
       "      <td>0.032623</td>\n",
       "      <td>-0.003106</td>\n",
       "    </tr>\n",
       "    <tr>\n",
       "      <th>1</th>\n",
       "      <td>0.00112</td>\n",
       "      <td>0.00028</td>\n",
       "      <td>-0.366667</td>\n",
       "      <td>0.017728</td>\n",
       "      <td>-0.002502</td>\n",
       "    </tr>\n",
       "    <tr>\n",
       "      <th>10</th>\n",
       "      <td>0.00120</td>\n",
       "      <td>0.00028</td>\n",
       "      <td>0.116998</td>\n",
       "      <td>NaN</td>\n",
       "      <td>-0.000533</td>\n",
       "    </tr>\n",
       "    <tr>\n",
       "      <th>100</th>\n",
       "      <td>0.00108</td>\n",
       "      <td>0.00044</td>\n",
       "      <td>-0.258162</td>\n",
       "      <td>0.169479</td>\n",
       "      <td>-0.023654</td>\n",
       "    </tr>\n",
       "    <tr>\n",
       "      <th>101</th>\n",
       "      <td>0.00080</td>\n",
       "      <td>0.00036</td>\n",
       "      <td>-0.324324</td>\n",
       "      <td>0.147332</td>\n",
       "      <td>-0.014374</td>\n",
       "    </tr>\n",
       "    <tr>\n",
       "      <th>...</th>\n",
       "      <td>...</td>\n",
       "      <td>...</td>\n",
       "      <td>...</td>\n",
       "      <td>...</td>\n",
       "      <td>...</td>\n",
       "    </tr>\n",
       "    <tr>\n",
       "      <th>95</th>\n",
       "      <td>0.00044</td>\n",
       "      <td>0.00024</td>\n",
       "      <td>-0.263305</td>\n",
       "      <td>0.086346</td>\n",
       "      <td>-0.009415</td>\n",
       "    </tr>\n",
       "    <tr>\n",
       "      <th>96</th>\n",
       "      <td>0.00188</td>\n",
       "      <td>0.00044</td>\n",
       "      <td>0.037855</td>\n",
       "      <td>NaN</td>\n",
       "      <td>-0.009115</td>\n",
       "    </tr>\n",
       "    <tr>\n",
       "      <th>97</th>\n",
       "      <td>0.00184</td>\n",
       "      <td>0.00048</td>\n",
       "      <td>0.013889</td>\n",
       "      <td>NaN</td>\n",
       "      <td>-0.009115</td>\n",
       "    </tr>\n",
       "    <tr>\n",
       "      <th>98</th>\n",
       "      <td>0.00064</td>\n",
       "      <td>0.00036</td>\n",
       "      <td>0.107639</td>\n",
       "      <td>NaN</td>\n",
       "      <td>-0.001133</td>\n",
       "    </tr>\n",
       "    <tr>\n",
       "      <th>99</th>\n",
       "      <td>0.00092</td>\n",
       "      <td>0.00036</td>\n",
       "      <td>-0.375527</td>\n",
       "      <td>0.056385</td>\n",
       "      <td>-0.007519</td>\n",
       "    </tr>\n",
       "  </tbody>\n",
       "</table>\n",
       "<p>844 rows × 5 columns</p>\n",
       "</div>"
      ],
      "text/plain": [
       "     peak_to_valley  halfwidth  peak_trough_ratio  repolarization_slope  \\\n",
       "0           0.00132    0.00032          -0.308642              0.032623   \n",
       "1           0.00112    0.00028          -0.366667              0.017728   \n",
       "10          0.00120    0.00028           0.116998                   NaN   \n",
       "100         0.00108    0.00044          -0.258162              0.169479   \n",
       "101         0.00080    0.00036          -0.324324              0.147332   \n",
       "..              ...        ...                ...                   ...   \n",
       "95          0.00044    0.00024          -0.263305              0.086346   \n",
       "96          0.00188    0.00044           0.037855                   NaN   \n",
       "97          0.00184    0.00048           0.013889                   NaN   \n",
       "98          0.00064    0.00036           0.107639                   NaN   \n",
       "99          0.00092    0.00036          -0.375527              0.056385   \n",
       "\n",
       "     recovery_slope  \n",
       "0         -0.003106  \n",
       "1         -0.002502  \n",
       "10        -0.000533  \n",
       "100       -0.023654  \n",
       "101       -0.014374  \n",
       "..              ...  \n",
       "95        -0.009415  \n",
       "96        -0.009115  \n",
       "97        -0.009115  \n",
       "98        -0.001133  \n",
       "99        -0.007519  \n",
       "\n",
       "[844 rows x 5 columns]"
      ]
     },
     "execution_count": 37,
     "metadata": {},
     "output_type": "execute_result"
    }
   ],
   "source": [
    "features"
   ]
  },
  {
   "cell_type": "code",
   "execution_count": null,
   "metadata": {},
   "outputs": [],
   "source": []
  },
  {
   "cell_type": "code",
   "execution_count": 39,
   "metadata": {},
   "outputs": [
    {
     "data": {
      "text/plain": [
       "248"
      ]
     },
     "execution_count": 39,
     "metadata": {},
     "output_type": "execute_result"
    }
   ],
   "source": [
    "len(unitframe['channellabel'].unique())"
   ]
  },
  {
   "cell_type": "code",
   "execution_count": 66,
   "metadata": {},
   "outputs": [],
   "source": [
    "# get data to compare firingrate\n",
    "unitframe_fr_filtered = unitframe[(unitframe['firing_rate']>=0.5)]\n",
    "\n",
    "layer2_3 = unitframe.loc[unitframe.layer == 'layer2-3', 'firing_rate']\n",
    "layer4 = unitframe.loc[unitframe.layer == 'layer4', 'firing_rate']\n",
    "layer5_6 = unitframe.loc[unitframe.layer == 'layer5-6', 'firing_rate']\n",
    "wm = unitframe.loc[unitframe.layer == 'whitematter', 'firing_rate']"
   ]
  },
  {
   "cell_type": "code",
   "execution_count": null,
   "metadata": {},
   "outputs": [],
   "source": [
    "unitframe_fr_filtered = unitframe[(unitframe['firing_rate']>=0.5)]"
   ]
  },
  {
   "cell_type": "code",
   "execution_count": 107,
   "metadata": {},
   "outputs": [],
   "source": [
    "plt.style.use(\"seaborn\")"
   ]
  },
  {
   "cell_type": "code",
   "execution_count": 95,
   "metadata": {},
   "outputs": [],
   "source": [
    "layer2_3 = unitframe_fr_filtered.loc[unitframe_fr_filtered.layer == 'layer2-3', 'firing_rate']\n",
    "layer4 = unitframe_fr_filtered.loc[unitframe_fr_filtered.layer == 'layer4', 'firing_rate']\n",
    "layer5_6 = unitframe_fr_filtered.loc[unitframe_fr_filtered.layer == 'layer5-6', 'firing_rate']\n",
    "wm = unitframe_fr_filtered.loc[unitframe_fr_filtered.layer == 'whitematter', 'firing_rate']"
   ]
  },
  {
   "cell_type": "code",
   "execution_count": null,
   "metadata": {},
   "outputs": [],
   "source": [
    "plt.hist(x1, **kwargs, color='g', label='Ideal')\n",
    "plt.hist(x2, **kwargs, color='b', label='Fair')\n",
    "plt.hist(x3, **kwargs, color='r', label='Good')\n",
    "plt.gca().set(title='Frequency Histogram of Diamond Depths', ylabel='Frequency')\n",
    "plt.xlim(50,75)\n",
    "plt.legend();"
   ]
  },
  {
   "cell_type": "code",
   "execution_count": 108,
   "metadata": {},
   "outputs": [
    {
     "data": {
      "text/plain": [
       "<matplotlib.legend.Legend at 0x2d5900f1dc0>"
      ]
     },
     "execution_count": 108,
     "metadata": {},
     "output_type": "execute_result"
    },
    {
     "data": {
      "image/png": "[encoded data removed]",
      "text/plain": [
       "<Figure size 576x396 with 1 Axes>"
      ]
     },
     "metadata": {},
     "output_type": "display_data"
    }
   ],
   "source": [
    "kwargs = dict(alpha=0.5, bins=100, density = True, stacked = True)\n",
    "\n",
    "plt.hist(layer2_3, **kwargs, color='g', label='Layer 2/3')\n",
    "plt.hist(layer4, **kwargs, color='b', label = 'Layer 4')\n",
    "plt.hist(layer5_6, **kwargs, color='r', label = 'Layer 5/6')\n",
    "plt.gca().set(title='Probability Histogram of Firingrate by Layer', ylabel='Probability')\n",
    "plt.legend()"
   ]
  },
  {
   "cell_type": "code",
   "execution_count": 98,
   "metadata": {},
   "outputs": [],
   "source": [
    "import seaborn as sns"
   ]
  },
  {
   "cell_type": "code",
   "execution_count": 67,
   "metadata": {},
   "outputs": [
    {
     "data": {
      "text/plain": [
       "<matplotlib.legend.Legend at 0x1a58bd11f10>"
      ]
     },
     "execution_count": 67,
     "metadata": {},
     "output_type": "execute_result"
    },
    {
     "data": {
      "image/png": "[encoded data removed]",
      "text/plain": [
       "<Figure size 800x560 with 1 Axes>"
      ]
     },
     "metadata": {},
     "output_type": "display_data"
    }
   ],
   "source": [
    "\n",
    "kwargs = dict(hist_kws={'alpha':.4}, kde_kws={'linewidth':2}, bins=75)\n",
    "\n",
    "plt.figure(figsize=(10,7), dpi= 80)\n",
    "sns.distplot(layer2_3, **kwargs, color='g', label='Layer 2/3')\n",
    "sns.distplot(layer4, **kwargs, color='b', label = 'Layer 4')\n",
    "sns.distplot(layer5_6, **kwargs, color='r', label = 'Layer 5/6')\n",
    "#sns.distplot(wm, **kwargs, color='y', label = 'Whitematter')\n",
    "plt.gca().set(title='Probability Histogram of Firingrate by Layer', ylabel='Probability')\n",
    "plt.legend()"
   ]
  },
  {
   "cell_type": "code",
   "execution_count": 115,
   "metadata": {},
   "outputs": [],
   "source": [
    "# signal to noise ratio\n",
    "snr_layer2_3 = unitframe.loc[unitframe.layer == 'layer2-3', 'qm_snr']\n",
    "snr_layer4 = unitframe.loc[unitframe.layer == 'layer4', 'qm_snr']\n",
    "snr_layer5_6 = unitframe.loc[unitframe.layer == 'layer5-6', 'qm_snr']\n",
    "snr_wm = unitframe.loc[unitframe.layer == 'whitematter', 'qm_snr']"
   ]
  },
  {
   "cell_type": "code",
   "execution_count": 128,
   "metadata": {},
   "outputs": [
    {
     "data": {
      "text/plain": [
       "<matplotlib.legend.Legend at 0x2d5820c1550>"
      ]
     },
     "execution_count": 128,
     "metadata": {},
     "output_type": "execute_result"
    },
    {
     "data": {
      "image/png": "[encoded data removed]",
      "text/plain": [
       "<Figure size 800x560 with 1 Axes>"
      ]
     },
     "metadata": {},
     "output_type": "display_data"
    }
   ],
   "source": [
    "kwargs = dict(hist_kws={'alpha':.4}, kde_kws={'linewidth':2})\n",
    "\n",
    "plt.figure(figsize=(10,7), dpi= 80)\n",
    "sns.distplot(snr_layer2_3, **kwargs, color='g', label='Layer 2/3')\n",
    "sns.distplot(snr_layer4, **kwargs, color='b', label = 'Layer 4')\n",
    "sns.distplot(snr_layer5_6, **kwargs, color='r', label = 'Layer 5/6')\n",
    "#sns.distplot(snr_wm, **kwargs, color='y', label = 'Whitematter')\n",
    "plt.gca().set(title='Probability Histogram of Signal-to-Noise Ratio by Layer', ylabel='Probability')\n",
    "plt.legend()"
   ]
  },
  {
   "cell_type": "code",
   "execution_count": 131,
   "metadata": {},
   "outputs": [
    {
     "data": {
      "image/png": "[encoded data removed]",
      "text/plain": [
       "<Figure size 576x396 with 1 Axes>"
      ]
     },
     "metadata": {},
     "output_type": "display_data"
    }
   ],
   "source": [
    "ax = sns.boxplot(x=\"layer\", y=\"firing_rate\", data=unitframe)"
   ]
  },
  {
   "cell_type": "code",
   "execution_count": null,
   "metadata": {},
   "outputs": [],
   "source": [
    "ax = sns.boxplot(x=\"layer\", y=\"firing_rate\", data=unitframe)"
   ]
  },
  {
   "cell_type": "code",
   "execution_count": null,
   "metadata": {},
   "outputs": [],
   "source": []
  },
  {
   "cell_type": "code",
   "execution_count": null,
   "metadata": {},
   "outputs": [],
   "source": []
  },
  {
   "cell_type": "code",
   "execution_count": 140,
   "metadata": {},
   "outputs": [
    {
     "data": {
      "text/plain": [
       "<matplotlib.axes._subplots.AxesSubplot at 0x2d594ba3850>"
      ]
     },
     "execution_count": 140,
     "metadata": {},
     "output_type": "execute_result"
    },
    {
     "data": {
      "image/png": "[encoded data removed]",
      "text/plain": [
       "<Figure size 468x468 with 1 Axes>"
      ]
     },
     "metadata": {},
     "output_type": "display_data"
    }
   ],
   "source": [
    "f, ax = plt.subplots(figsize=(6.5, 6.5))\n",
    "sns.despine(f, left=True, bottom=True)\n",
    "sns.scatterplot(x=\"firing_rate\", y=\"qm_presence_ratio\",\n",
    "                hue=\"layer\",\n",
    "                palette=\"ch:r=-.2,d=.3_r\",\n",
    "                sizes=(1, 8), linewidth=0,\n",
    "                data=unitframe, ax=ax)\n"
   ]
  },
  {
   "cell_type": "code",
   "execution_count": null,
   "metadata": {},
   "outputs": [],
   "source": []
  },
  {
   "cell_type": "code",
   "execution_count": null,
   "metadata": {},
   "outputs": [],
   "source": []
  },
  {
   "cell_type": "code",
   "execution_count": 33,
   "metadata": {},
   "outputs": [],
   "source": [
    "u = 'sec_300-600'"
   ]
  },
  {
   "cell_type": "markdown",
   "metadata": {},
   "source": [
    "# Waveforms and Template Plots"
   ]
  },
  {
   "cell_type": "code",
   "execution_count": 34,
   "metadata": {},
   "outputs": [
    {
     "name": "stdout",
     "output_type": "stream",
     "text": [
      "Number of chunks: 31 - Number of jobs: 1\n"
     ]
    },
    {
     "name": "stderr",
     "output_type": "stream",
     "text": [
      "Extracting waveforms in chunks: 100%|##################################################| 31/31 [08:17<00:00, 16.05s/it]\n"
     ]
    }
   ],
   "source": [
    "# calculate waveforms \n",
    "wf = st.postprocessing.get_unit_waveforms(loaded[u], sorted_dic[u], ms_before=1, ms_after=2,\n",
    "                                          save_as_features=True, verbose=True)"
   ]
  },
  {
   "cell_type": "code",
   "execution_count": 48,
   "metadata": {},
   "outputs": [
    {
     "name": "stdout",
     "output_type": "stream",
     "text": [
      "['amplitudes', 'amplitudes_idxs', 'waveforms', 'waveforms_idxs']\n",
      "(52, 252, 148)\n"
     ]
    }
   ],
   "source": [
    "print(sorted_dic[u].get_shared_unit_spike_feature_names())\n",
    "print(wf[0].shape)"
   ]
  },
  {
   "cell_type": "code",
   "execution_count": 49,
   "metadata": {},
   "outputs": [],
   "source": [
    "#fig, ax = plt.subplots()\n",
    "#ax.plot(wf[0][:, 0, :].T, color='k', lw=0.3)"
   ]
  },
  {
   "cell_type": "code",
   "execution_count": 76,
   "metadata": {},
   "outputs": [],
   "source": [
    "templates = st.postprocessing.get_unit_templates(loaded[u], sorted_dic[u], max_spikes_per_unit=200, \n",
    "                                                 save_as_property=True, verbose=True)"
   ]
  },
  {
   "cell_type": "code",
   "execution_count": 51,
   "metadata": {},
   "outputs": [
    {
     "data": {
      "text/plain": [
       "unit_ids                                       10\n",
       "max_channel                                    30\n",
       "channellabel                                  O11\n",
       "n_spikes                                      281\n",
       "firing_rate                              0.936667\n",
       "layer                                    layer2-3\n",
       "ft_peak_to_valley                         0.00084\n",
       "ft_halfwidth                              0.00032\n",
       "ft_peak_trough_ratio                    -0.179012\n",
       "ft_repolarization_slope                  0.042495\n",
       "ft_recovery_slope                      -0.0048764\n",
       "qm_firing_rate                           0.936667\n",
       "qm_isi_violation                          11.5521\n",
       "qm_amplitude_cutoff                   0.000920956\n",
       "qm_presence_ratio                            0.88\n",
       "qm_snr                                    4.33931\n",
       "file                       aCSF_adult_15min_spont\n",
       "Name: 2, dtype: object"
      ]
     },
     "execution_count": 51,
     "metadata": {},
     "output_type": "execute_result"
    }
   ],
   "source": [
    "unitframe.loc[2]"
   ]
  },
  {
   "cell_type": "code",
   "execution_count": 52,
   "metadata": {},
   "outputs": [
    {
     "data": {
      "text/plain": [
       "[<matplotlib.lines.Line2D at 0x1a582516af0>]"
      ]
     },
     "execution_count": 52,
     "metadata": {},
     "output_type": "execute_result"
    },
    {
     "data": {
      "image/png": "[encoded data removed]",
      "text/plain": [
       "<Figure size 432x288 with 1 Axes>"
      ]
     },
     "metadata": {
      "needs_background": "light"
     },
     "output_type": "display_data"
    }
   ],
   "source": [
    "fig, ax = plt.subplots()\n",
    "ax.plot(templates[2][30].T, color='k')\n"
   ]
  },
  {
   "cell_type": "code",
   "execution_count": 49,
   "metadata": {},
   "outputs": [
    {
     "data": {
      "text/plain": [
       "'K7'"
      ]
     },
     "execution_count": 49,
     "metadata": {},
     "output_type": "execute_result"
    }
   ],
   "source": [
    "labeldic[40]"
   ]
  },
  {
   "cell_type": "markdown",
   "metadata": {},
   "source": [
    "idee: templates pro channel darstellen -> also den dataframe nach channel sortieren, dich mit key: channel, value: units"
   ]
  },
  {
   "cell_type": "code",
   "execution_count": 50,
   "metadata": {},
   "outputs": [],
   "source": [
    "unitlist_by_index = list(unitframe.loc[(unitframe['max_channel'])==0].index)"
   ]
  },
  {
   "cell_type": "code",
   "execution_count": 51,
   "metadata": {},
   "outputs": [],
   "source": [
    "unitlist_by_channel = list(unitframe.loc[(unitframe['max_channel'])==1]['unit_ids'])"
   ]
  },
  {
   "cell_type": "code",
   "execution_count": 52,
   "metadata": {},
   "outputs": [
    {
     "data": {
      "text/plain": [
       "[80, 81, 82]"
      ]
     },
     "execution_count": 52,
     "metadata": {},
     "output_type": "execute_result"
    }
   ],
   "source": [
    "unitlist_by_channel"
   ]
  },
  {
   "cell_type": "code",
   "execution_count": 82,
   "metadata": {},
   "outputs": [
    {
     "name": "stdout",
     "output_type": "stream",
     "text": [
      "Int64Index([0], dtype='int64')\n"
     ]
    },
    {
     "data": {
      "text/plain": [
       "'R12'"
      ]
     },
     "execution_count": 82,
     "metadata": {},
     "output_type": "execute_result"
    }
   ],
   "source": [
    "j = 0 #entsprich dem maxchannel\n",
    "#j=labeldic_invert['F8'] \n",
    "unitlist_by_index=unitframe.loc[(unitframe['max_channel']==j)].index\n",
    "unitlist_by_channel = list(unitframe.loc[(unitframe['max_channel'])==j]['unit_ids'])\n",
    "print(unitlist_by_index)\n",
    "unitframe.loc[unitlist_by_index[0]]['channellabel']"
   ]
  },
  {
   "cell_type": "code",
   "execution_count": 83,
   "metadata": {},
   "outputs": [
    {
     "data": {
      "text/plain": [
       "0"
      ]
     },
     "execution_count": 83,
     "metadata": {},
     "output_type": "execute_result"
    }
   ],
   "source": [
    "labeldic_invert[unitframe.loc[unitlist_by_index[0]]['channellabel']]"
   ]
  },
  {
   "cell_type": "code",
   "execution_count": 84,
   "metadata": {},
   "outputs": [
    {
     "data": {
      "text/plain": [
       "Int64Index([0], dtype='int64')"
      ]
     },
     "execution_count": 84,
     "metadata": {},
     "output_type": "execute_result"
    }
   ],
   "source": [
    "unitlist_by_index"
   ]
  },
  {
   "cell_type": "code",
   "execution_count": 87,
   "metadata": {},
   "outputs": [
    {
     "data": {
      "text/plain": [
       "<spikewidgets.widgets.rasterswidget.rasterswidget.RasterWidget at 0x2b9c27bb310>"
      ]
     },
     "execution_count": 87,
     "metadata": {},
     "output_type": "execute_result"
    },
    {
     "data": {
      "image/png": "[encoded data removed]",
      "text/plain": [
       "<Figure size 1440x1440 with 5 Axes>"
      ]
     },
     "metadata": {},
     "output_type": "display_data"
    }
   ],
   "source": [
    "#colourlist = ['#D7D7D9', '#162473', '#449CA6', '#038C73', '#BF4417', '#7EBF88', '#D0F2D3', '#F2CB57']\n",
    "n = len(unitlist_by_index)\n",
    "colors = iter(cm.jet(np.linspace(0, 1, len(unitlist_by_index))))\n",
    "\n",
    "plt.style.use(\"seaborn-white\")\n",
    "\n",
    "#fig, ((ax1, ax2, ax3), (ax4, ax5, ax6)) = plt.subplots(2, 3, figsize=(15,10))\n",
    "\n",
    "fig, ((ax1, ax2), (ax3, ax4)) = plt.subplots(2, 2, figsize=(20, 20))\n",
    "      \n",
    "sw.plot_unit_template_maps(loaded['sec_0-300'],  sorted_dic['sec_0-300'], max_spikes_per_unit=100, unit_ids=[(unitlist_by_channel[0])], ax=ax2)\n",
    "\n",
    "\n",
    "\n",
    "#ax3.plot(loaded['sec_0-300'].get_traces()[j])\n",
    "\n",
    "#sw.plot_timeseries(loaded['sec_0-300'], trange=[5, 8], ax=ax3,)\n",
    "\n",
    "#sw.plot_activity_map(loaded['sec_0-300'], ax=ax3)\n",
    "\n",
    "for i in unitlist_by_index:\n",
    "    colourcode = color=next(colors)\n",
    "    ax1.plot(templates[i][j].T, color=colourcode)\n",
    "    ax1.set_title(str(unitframe.loc[i]['channellabel']) + ' Unit Templates')\n",
    "\n",
    "    ax3.plot(wf[i][:, j, :].T, color=colourcode, lw=0.05)\n",
    "    ax3.set_title(str(unitframe.loc[i]['channellabel']) + ' Waveforms')\n",
    "    \n",
    "#sw.plot_crosscorrelograms(sorted_dic['sec_0-300'], unit_ids=unitlist_by_index, ax=ax4, bin_size=1, window=10)\n",
    "    \n",
    "    \n",
    "sw.plot_rasters(sorted_dic[u], color='k', unit_ids=unitlist_by_channel, ax = ax4)\n",
    "\n",
    "#sw.plot_pca_features(sorting=sorted_dic[u], recording = loaded[u], unit_ids=unitlist_by_channel, ax=ax6)\n",
    "\n"
   ]
  },
  {
   "cell_type": "code",
   "execution_count": 336,
   "metadata": {},
   "outputs": [
    {
     "data": {
      "text/plain": [
       "<spikewidgets.widgets.mapswidget.templatemapswidget.UnitTemplateMapsWidget at 0x1f296e8f9a0>"
      ]
     },
     "execution_count": 336,
     "metadata": {},
     "output_type": "execute_result"
    },
    {
     "data": {
      "image/png": "[encoded data removed]",
      "text/plain": [
       "<Figure size 432x288 with 2 Axes>"
      ]
     },
     "metadata": {
      "needs_background": "light"
     },
     "output_type": "display_data"
    }
   ],
   "source": [
    "sw.plot_unit_template_maps(loaded['sec_0-300'],  sorted_dic['sec_0-300'], max_spikes_per_unit=100, unit_ids=[80], figure=)"
   ]
  },
  {
   "cell_type": "code",
   "execution_count": null,
   "metadata": {},
   "outputs": [],
   "source": [
    "Continue 22/04:\n",
    "    - fill in the dataframe with the other parameters\n",
    "    - dump/pickle the data frame\n",
    "    - make a plot for every unit"
   ]
  },
  {
   "cell_type": "code",
   "execution_count": null,
   "metadata": {},
   "outputs": [],
   "source": [
    "waveforms = st.postprocessing.get_unit_waveforms(loaded['sec_0-300'], sorted_dic['sec_0-300'], ms_before=1, ms_after=2,\n",
    "                                          save_as_features=True, verbose=True)"
   ]
  },
  {
   "cell_type": "code",
   "execution_count": 125,
   "metadata": {},
   "outputs": [],
   "source": [
    "u = 'sec_0-300'"
   ]
  },
  {
   "cell_type": "code",
   "execution_count": 79,
   "metadata": {},
   "outputs": [
    {
     "name": "stdout",
     "output_type": "stream",
     "text": [
      "R12\n",
      "Int64Index([0, 1], dtype='int64')\n",
      "O11\n",
      "Int64Index([2, 13, 430, 725, 736], dtype='int64')\n",
      "F8\n",
      "Int64Index([  3,   8,  41,  72,  74,  75,  76,  80,  96,  97,  98,  99, 100,\n",
      "            107, 171, 207, 223, 340, 512, 531, 532, 549, 603, 682],\n",
      "           dtype='int64')\n",
      "G2\n",
      "Int64Index([4, 5, 6, 7, 746], dtype='int64')\n",
      "P10\n",
      "Int64Index([9, 10, 11, 12], dtype='int64')\n"
     ]
    },
    {
     "data": {
      "image/png": "[encoded data removed]",
      "text/plain": [
       "<Figure size 2160x2160 with 256 Axes>"
      ]
     },
     "metadata": {},
     "output_type": "display_data"
    }
   ],
   "source": [
    "# plots stimmen noch nicht mit den eigentlichen channels überein\n",
    "plt.style.use(\"seaborn\")\n",
    "\n",
    "fig, ax = plt.subplots(nrows=16, ncols=16, sharex=True, \n",
    "                       sharey=True,figsize=(30, 30))\n",
    "\n",
    "#colors = iter(cm.jet(np.linspace(0, 1, len(unitlist_by_index))))\n",
    "unique_labels = unitframe['channellabel'].unique()\n",
    "\n",
    "for channel in unique_labels[:5]:\n",
    "    # get the number of that channel (i.e, the max-channel)\n",
    "    j=labeldic_invert[channel]\n",
    "    print(channel)\n",
    "    \n",
    "    # gets the ax location for that channel m=letter, n=number\n",
    "    m = label_loc_dic[channel][0]\n",
    "    n = label_loc_dic[channel][1]\n",
    "  \n",
    "    unitlist_by_index=unitframe.loc[(unitframe['max_channel']==j)].index\n",
    "    unitlist_by_channel = list(unitframe.loc[(unitframe['max_channel'])==j]['unit_ids'])\n",
    "    print(unitlist_by_index)\n",
    "    unitframe.loc[unitlist_by_index[0]]['channellabel']\n",
    "    for i in unitlist_by_index:\n",
    "        ax[m,n].plot(templates[i][j].T, color='b')\n",
    "        ax[m,n].axis('off')\n",
    "\n",
    "for key in label_loc_dic:\n",
    "    m = label_loc_dic[channel][0]\n",
    "    n = label_loc_dic[channel][1]\n",
    "    ax[m,n].axis('off')\n",
    "    ax[m,n].tick_params(axis = \"x\", which = \"both\", bottom = False, top = False)\n",
    "    ax[m,n].tick_params(axis = \"y\", which = \"both\", bottom = False, top = False)\n",
    "\n",
    "\n",
    "\n",
    "# sw.plot_unit_waveforms(recording=recording_cache, sorting=sorting_SC, unit_ids=[0], color='b', max_channels=1,\n",
    "#                        set_title=None, axis_equal=True, figure=fig, ax=ax[15,15])\n",
    "    \n",
    "#fig.show()"
   ]
  },
  {
   "cell_type": "code",
   "execution_count": 295,
   "metadata": {},
   "outputs": [],
   "source": [
    "j=unitframe.loc[(unitframe['channellabel']==channel)]['max_channel'][:1]"
   ]
  },
  {
   "cell_type": "code",
   "execution_count": 300,
   "metadata": {},
   "outputs": [],
   "source": [
    "j=labeldic_invert[channel]"
   ]
  },
  {
   "cell_type": "code",
   "execution_count": 301,
   "metadata": {},
   "outputs": [
    {
     "data": {
      "text/plain": [
       "30"
      ]
     },
     "execution_count": 301,
     "metadata": {},
     "output_type": "execute_result"
    }
   ],
   "source": [
    "j"
   ]
  },
  {
   "cell_type": "code",
   "execution_count": 274,
   "metadata": {},
   "outputs": [],
   "source": [
    "j = int(unitframe.loc[(unitframe['channellabel']==channel)]['max_channel'][0])"
   ]
  },
  {
   "cell_type": "code",
   "execution_count": 275,
   "metadata": {},
   "outputs": [
    {
     "data": {
      "text/plain": [
       "0"
      ]
     },
     "execution_count": 275,
     "metadata": {},
     "output_type": "execute_result"
    }
   ],
   "source": [
    "j"
   ]
  },
  {
   "cell_type": "code",
   "execution_count": 73,
   "metadata": {},
   "outputs": [],
   "source": [
    "unique_channels = unitframe['max_channel'].unique()\n",
    "unique_labels = unitframe['channellabel'].unique()\n"
   ]
  },
  {
   "cell_type": "code",
   "execution_count": 74,
   "metadata": {},
   "outputs": [],
   "source": [
    "# short function to create ax locations according to MCS MEA Layout\n",
    "\n",
    "label_loc_dic = {}\n",
    "channels = list(labeldic.values())\n",
    "\n",
    "letters= []\n",
    "for key in labeldic:\n",
    "    letter = labeldic[key][:1]\n",
    "    letters.append(letter)\n",
    "letters = list(dict.fromkeys(letters))\n",
    "letters.sort()\n",
    "\n",
    "numbers = []\n",
    "for key in labeldic:\n",
    "    number = labeldic[key][1:]\n",
    "    numbers.append(number)\n",
    "numbers = list(dict.fromkeys(numbers))\n",
    "numbers.sort()\n",
    "    \n",
    "for i in channels:\n",
    "    letter = i[:1]\n",
    "    number = i[1:]\n",
    "    label_loc_dic[i] = [letters.index(letter), numbers.index(number)]"
   ]
  },
  {
   "cell_type": "code",
   "execution_count": 265,
   "metadata": {},
   "outputs": [
    {
     "data": {
      "text/plain": [
       "0.0"
      ]
     },
     "execution_count": 265,
     "metadata": {},
     "output_type": "execute_result"
    }
   ],
   "source": [
    "unitframe.loc[(unitframe['channellabel']=='R12')]['max_channel'][0]"
   ]
  },
  {
   "cell_type": "code",
   "execution_count": 276,
   "metadata": {},
   "outputs": [],
   "source": [
    "unitlist_by_index=unitframe.loc[(unitframe['max_channel']==j)].index"
   ]
  },
  {
   "cell_type": "code",
   "execution_count": 281,
   "metadata": {},
   "outputs": [
    {
     "data": {
      "text/plain": [
       "1"
      ]
     },
     "execution_count": 281,
     "metadata": {},
     "output_type": "execute_result"
    }
   ],
   "source": [
    "unitlist_by_index[1]"
   ]
  },
  {
   "cell_type": "code",
   "execution_count": 84,
   "metadata": {},
   "outputs": [],
   "source": [
    "spiketrains = sorted_dic['sec_0-300'].get_unit_spike_train(101)"
   ]
  },
  {
   "cell_type": "code",
   "execution_count": null,
   "metadata": {},
   "outputs": [],
   "source": []
  },
  {
   "cell_type": "code",
   "execution_count": 89,
   "metadata": {},
   "outputs": [
    {
     "data": {
      "text/plain": [
       "299.89376"
      ]
     },
     "execution_count": 89,
     "metadata": {},
     "output_type": "execute_result"
    }
   ],
   "source": [
    "spiketrains[-1]*40*1e-06"
   ]
  },
  {
   "cell_type": "code",
   "execution_count": 114,
   "metadata": {},
   "outputs": [],
   "source": [
    "def spiketrains_to_spikedictionary_channel(sorting_dic, unitframe, dictkey):\n",
    "    \n",
    "    labels = unitframe['channellabel'].unique()\n",
    "    unit_ids = sorted_dic[dictkey].get_unit_ids()\n",
    "    spikechannellist = []\n",
    "    spikedictionary_channel = {}\n",
    "    spikedictionary_neuron = {}\n",
    "    spikedictionary_channel_neuron = {}\n",
    "    sub_spikedictionary_channel_neuron ={}\n",
    "    \n",
    "    for label in labels:\n",
    "        sub_spikedictionary_channel_neuron ={}\n",
    "        spikechannellist = []\n",
    "        unit_i = list(unitframe.loc[(unitframe['channellabel']==label)]['unit_ids'])\n",
    "        for i in unit_i:\n",
    "            spiketrains = sorted_dic[dictkey].get_unit_spike_train(i)\n",
    "            spikechannellist.append(list(spiketrains))\n",
    "            spikedictionary_neuron[i]=spiketrains\n",
    "            sub_spikedictionary_channel_neuron[i]=spiketrains\n",
    "        spikedictionary_channel[label]=spikechannellist\n",
    "        spikedictionary_channel_neuron[label]=sub_spikedictionary_channel_neuron\n",
    "        \n",
    "    return spikedictionary_channel, spikedictionary_neuron, spikedictionary_channel_neuron\n",
    "    \n",
    "    "
   ]
  },
  {
   "cell_type": "code",
   "execution_count": 116,
   "metadata": {},
   "outputs": [],
   "source": [
    "sd_c, sd_n, sd_cn = spiketrains_to_spikedictionary_channel(\n",
    "    sorting_dic = sorted_dic,\n",
    "    unitframe = unitframe,\n",
    "    dictkey='sec_0-300')"
   ]
  },
  {
   "cell_type": "code",
   "execution_count": 122,
   "metadata": {},
   "outputs": [
    {
     "data": {
      "text/plain": [
       "{11: array([  77907,   78110,  111963,  121767,  155690,  198504,  199240,\n",
       "         199440,  239319,  287912,  384701,  455286,  493784,  564981,\n",
       "         629862,  672895,  673981,  706036,  706138,  744876,  777191,\n",
       "         818198,  855203,  855450,  855875,  971098, 1008891, 1037115,\n",
       "        1087445, 1115678, 1116028, 1116830, 1123766, 1193782, 1227289,\n",
       "        1227509, 1227824, 1305192, 1341253, 1396355, 1430578, 1431529,\n",
       "        1450661, 1476256, 1476750, 1523743, 1610063, 1611054, 1637057,\n",
       "        1653179, 1710781, 1711193, 1824853, 1848425, 1862389, 1900328,\n",
       "        1934541, 1970536, 2057497, 2096187, 2141873, 2177089, 2177674,\n",
       "        2257091, 2293986, 2294387, 2294686, 2294850, 2384549, 2420296,\n",
       "        2462948, 2530064, 2608324, 2608628, 2616582, 2680266, 2680376,\n",
       "        2721783, 2766334, 2766700, 2879726, 2889921, 2928163, 2947474,\n",
       "        2947656, 2948065, 2959200, 3035717, 3036793, 3061760, 3075771,\n",
       "        3087252, 3151769, 3246262, 3246425, 3247819, 3263447, 3284516,\n",
       "        3350537, 3350759, 3351428, 3402516, 3402757, 3538970, 3538996,\n",
       "        3556593, 3577860, 3578314, 3630623, 3696553, 3729737, 3741754,\n",
       "        3784322, 3821399, 3900998, 3970531, 4033137, 4033186, 4069627,\n",
       "        4070796, 4296654, 4341888, 4342408, 4342705, 4342832, 4398770,\n",
       "        4399200, 4435528, 4435583, 4482452, 4482494, 4491500, 4536074,\n",
       "        4576461, 4643356, 4655897, 4663540, 4664518, 4761954, 4799011,\n",
       "        4799381, 4799940, 4860470, 4969791, 4970458, 5004645, 5082480,\n",
       "        5083832, 5084033, 5085435, 5094693, 5119851, 5154583, 5189892,\n",
       "        5220661, 5261007, 5326728, 5396328, 5396552, 5478681, 5501681,\n",
       "        5512165, 5512357, 5592739, 5634160, 5634452, 5635598, 5672078,\n",
       "        5711977, 5719844, 5720350, 5892366, 5897681, 5932661, 5938777,\n",
       "        5969880, 6051195, 6051354, 6104945, 6105189, 6144508, 6176222,\n",
       "        6213652, 6251764, 6252500, 6286316, 6306246, 6366512, 6366562,\n",
       "        6367588, 6442186, 6490360, 6539698, 6539719, 6625600, 6723194,\n",
       "        6770900, 6783592, 6852148, 6948267, 7011256, 7047753, 7090276,\n",
       "        7135361, 7156227, 7171274, 7176277, 7228140, 7238907, 7239279,\n",
       "        7239880, 7269470, 7269653, 7270373, 7270533, 7300982, 7317603,\n",
       "        7338065, 7338306, 7339346, 7398978, 7399161, 7399454, 7444932,\n",
       "        7446079, 7446121, 7474808, 7476038, 7487130], dtype=int64),\n",
       " 12: array([ 899152,  945829, 1304359, 1609792, 2140587, 2815850, 2947717,\n",
       "        3036753, 3152386, 3696354, 5039727, 5635063, 5720227, 6050932,\n",
       "        6051487, 6759149, 7047586, 7445397], dtype=int64),\n",
       " 13: array([  77939,   78144,  121239,  121671,  198542,  198735,  198961,\n",
       "         238257,  286484,  286802,  287120,  287709,  307670,  340516,\n",
       "         340957,  384690,  445640,  445695,  445931,  446508,  580668,\n",
       "         629311,  629361,  672087,  672189,  673082,  707159,  777358,\n",
       "         777529,  777953,  778223,  818447,  855151,  855498,  855942,\n",
       "         899343,  945696,  945740,  945923,  946461, 1007142, 1007187,\n",
       "        1007350, 1086985, 1115846, 1115897, 1116728, 1193832, 1194389,\n",
       "        1227948, 1260232, 1260618, 1304510, 1305427, 1341362, 1341687,\n",
       "        1395596, 1395678, 1396578, 1431467, 1432019, 1475808, 1475869,\n",
       "        1475943, 1476297, 1523604, 1523711, 1523877, 1524145, 1564748,\n",
       "        1565174, 1565479, 1610254, 1610313, 1797804, 1797862, 1798035,\n",
       "        1824913, 1899590, 1970448, 1970762, 1970952, 2001693, 2057518,\n",
       "        2057714, 2058478, 2140880, 2141487, 2177482, 2210069, 2210226,\n",
       "        2256879, 2294871, 2295175, 2384432, 2463213, 2503111, 2529993,\n",
       "        2556749, 2557450, 2608114, 2608723, 2642847, 2643242, 2643578,\n",
       "        2643637, 2679939, 2721548, 2722073, 2722864, 2766149, 2766538,\n",
       "        2815724, 2816367, 2816643, 2816703, 2848912, 2849372, 2889847,\n",
       "        2913731, 2947103, 2947165, 2947604, 3035688, 3036062, 3036697,\n",
       "        3089969, 3151938, 3152085, 3246298, 3285403, 3350159, 3402541,\n",
       "        3402990, 3433869, 3434062, 3510371, 3579218, 3631420, 3657190,\n",
       "        3696049, 3697053, 3729852, 3730263, 3771363, 3771626, 3821327,\n",
       "        3821916, 3970414, 4020410, 4032939, 4033713, 4069097, 4069281,\n",
       "        4069591, 4253890, 4254119, 4254183, 4296351, 4296609, 4342659,\n",
       "        4399469, 4435391, 4481321, 4481578, 4482204, 4535471, 4664246,\n",
       "        4761569, 4798749, 4799161, 4861067, 4895079, 4895181, 4895611,\n",
       "        4930258, 4930393, 4930771, 4970877, 4971441, 5004210, 5004708,\n",
       "        5082890, 5119422, 5119719, 5120527, 5189797, 5189974, 5190034,\n",
       "        5190630, 5220547, 5260172, 5260872, 5326423, 5356866, 5396439,\n",
       "        5396625, 5396794, 5396897, 5397279, 5478479, 5478870, 5511723,\n",
       "        5511986, 5556490, 5556799, 5557754, 5634287, 5634491, 5672105,\n",
       "        5672703, 5719505, 5719985, 5720174, 5745253, 5745639, 5794550,\n",
       "        5846763, 5846803, 5846907, 5847341, 5938598, 5938711, 5938799,\n",
       "        6050677, 6051223, 6051517, 6105099, 6175275, 6175328, 6175553,\n",
       "        6211638, 6211924, 6212587, 6285795, 6401835, 6448269, 6448680,\n",
       "        6488995, 6538728, 6624903, 6683171, 6722816, 6760359, 6799018,\n",
       "        6852068, 6852121, 6852323, 6852442, 6938212, 6966137, 6966508,\n",
       "        7011038, 7011148, 7047535, 7048058, 7090604, 7134538, 7134630,\n",
       "        7134945, 7135177, 7171433, 7239372, 7239663, 7270125, 7270271,\n",
       "        7270546, 7300720, 7300867, 7337846, 7338124, 7338371, 7338433,\n",
       "        7398120, 7398410, 7398910, 7399009, 7399070, 7399170, 7474866,\n",
       "        7475488], dtype=int64),\n",
       " 14: array([  16408,   29849,   49779,   83061,  114453,  120837,  137338,\n",
       "         153546,  180443,  181260,  196585,  200479,  202380,  205828,\n",
       "         237512,  239138,  292924,  389094,  402535,  407830,  415913,\n",
       "         435179,  442739,  445544,  447468,  452146,  475433,  476604,\n",
       "         477652,  526672,  550916,  551153,  621592,  629375,  629847,\n",
       "         672630,  673881,  682347,  689657,  702763,  708380,  711313,\n",
       "         725841,  732155,  751596,  756217,  777612,  779442,  793624,\n",
       "         794725,  816973,  818022,  819187,  832983,  899636,  927967,\n",
       "         946398,  958411,  978620, 1007585, 1034918, 1051995, 1086436,\n",
       "        1086951, 1098903, 1116211, 1116887, 1139223, 1144768, 1180609,\n",
       "        1194044, 1194155, 1194348, 1195557, 1201231, 1211242, 1225400,\n",
       "        1237748, 1251418, 1257874, 1258914, 1294690, 1315989, 1341087,\n",
       "        1341679, 1342014, 1353548, 1362891, 1368608, 1372895, 1395474,\n",
       "        1396305, 1404867, 1429302, 1431196, 1431446, 1433619, 1446256,\n",
       "        1475890, 1500094, 1523326, 1552270, 1565250, 1566361, 1601850,\n",
       "        1610305, 1630611, 1653577, 1653927, 1654253, 1672568, 1673286,\n",
       "        1673964, 1702308, 1710490, 1765255, 1798741, 1800115, 1800230,\n",
       "        1818372, 1828826, 1834654, 1854865, 1862945, 1881415, 1900130,\n",
       "        1928003, 1934938, 1935118, 1935572, 1943912, 1947489, 1965166,\n",
       "        1970373, 1971297, 1973628, 1997845, 2029276, 2039727, 2045219,\n",
       "        2046831, 2050103, 2053284, 2057280, 2066052, 2074841, 2075842,\n",
       "        2097659, 2115293, 2140804, 2150443, 2156669, 2175794, 2209488,\n",
       "        2209860, 2212189, 2257220, 2294557, 2294697, 2294986, 2306720,\n",
       "        2324459, 2328553, 2329053, 2348581, 2367708, 2378125, 2379117,\n",
       "        2423581, 2463807, 2465068, 2501999, 2502028, 2502233, 2502740,\n",
       "        2510941, 2556368, 2599200, 2609734, 2614415, 2619984, 2647812,\n",
       "        2652962, 2663070, 2680610, 2681642, 2699562, 2721487, 2723040,\n",
       "        2766763, 2768977, 2789167, 2839125, 2840629, 2861340, 2866922,\n",
       "        2869258, 2889832, 2893724, 2948121, 2960490, 3013469, 3036080,\n",
       "        3036345, 3036649, 3046352, 3060033, 3080297, 3090120, 3106977,\n",
       "        3114012, 3114248, 3114284, 3145275, 3152490, 3152580, 3152944,\n",
       "        3167809, 3169801, 3194283, 3196777, 3206683, 3209622, 3245093,\n",
       "        3245148, 3246345, 3246372, 3246467, 3248268, 3269646, 3284197,\n",
       "        3284940, 3296969, 3301470, 3332708, 3333175, 3344431, 3344659,\n",
       "        3347141, 3381744, 3402378, 3402650, 3412087, 3423626, 3432930,\n",
       "        3433038, 3433438, 3449742, 3452128, 3468736, 3475290, 3487797,\n",
       "        3490800, 3492650, 3495452, 3500205, 3509338, 3510011, 3510751,\n",
       "        3531561, 3551508, 3551921, 3578776, 3628725, 3630414, 3654450,\n",
       "        3696760, 3696990, 3712732, 3742704, 3756012, 3821672, 3823145,\n",
       "        3850342, 3851041, 3851856, 3852594, 3866481, 3897240, 3899646,\n",
       "        3913307, 3934732, 3970207, 3970448, 3970993, 3977071, 3992440,\n",
       "        3998498, 4021692, 4027340, 4029226, 4033968, 4034211, 4047454,\n",
       "        4066055, 4070482, 4072070, 4077532, 4083496, 4100069, 4113829,\n",
       "        4139358, 4148648, 4165539, 4185157, 4191822, 4250482, 4252849,\n",
       "        4253006, 4254249, 4254528, 4258964, 4288168, 4310105, 4320806,\n",
       "        4325240, 4342356, 4343309, 4345263, 4398314, 4398902, 4423330,\n",
       "        4435146, 4465629, 4469596, 4473754, 4477718, 4481979, 4482217,\n",
       "        4484120, 4540359, 4576929, 4577115, 4605180, 4642128, 4663638,\n",
       "        4679869, 4692521, 4695067, 4703836, 4704765, 4729790, 4735201,\n",
       "        4741572, 4746855, 4798440, 4800166, 4860183, 4861769, 4881077,\n",
       "        4892600, 4894884, 4903949, 4919781, 4920221, 4951220, 4960148,\n",
       "        4970415, 4970923, 4978441, 5000649, 5003768, 5004857, 5015150,\n",
       "        5038214, 5043269, 5050035, 5052981, 5083499, 5087746, 5113878,\n",
       "        5114196, 5119474, 5141142, 5163363, 5172167, 5190080, 5192463,\n",
       "        5249011, 5260265, 5260374, 5260438, 5261841, 5280402, 5288189,\n",
       "        5289614, 5326367, 5327664, 5352227, 5397119, 5421846, 5432604,\n",
       "        5440820, 5469382, 5475670, 5478813, 5479204, 5479548, 5481353,\n",
       "        5517402, 5525052, 5543312, 5555533, 5556832, 5557106, 5564110,\n",
       "        5580039, 5597900, 5634617, 5639119, 5645931, 5662354, 5663267,\n",
       "        5719320, 5719729, 5719792, 5720024, 5731239, 5745222, 5794411,\n",
       "        5834786, 5846796, 5847091, 5898701, 5902704, 5912542, 5939326,\n",
       "        5939652, 5954279, 5978540, 5982717, 5989939, 5990409, 5990971,\n",
       "        6005240, 6005991, 6017707, 6038976, 6041603, 6043336, 6050330,\n",
       "        6054121, 6068116, 6070819, 6091483, 6100809, 6105481, 6105727,\n",
       "        6175444, 6175488, 6187701, 6193320, 6194240, 6196364, 6212623,\n",
       "        6213755, 6221895, 6242241, 6251681, 6266022, 6274399, 6285955,\n",
       "        6286084, 6304229, 6326147, 6361007, 6366891, 6367013, 6367737,\n",
       "        6400429, 6401202, 6402429, 6414366, 6434384, 6439096, 6440026,\n",
       "        6447855, 6448512, 6476076, 6488073, 6488613, 6488733, 6489043,\n",
       "        6495342, 6539173, 6539501, 6574899, 6623687, 6624605, 6625575,\n",
       "        6682656, 6682778, 6683329, 6702284, 6733184, 6737536, 6759466,\n",
       "        6760134, 6790753, 6798645, 6814802, 6822999, 6826357, 6839553,\n",
       "        6850824, 6851398, 6851584, 6851764, 6852172, 6852726, 6877445,\n",
       "        6899101, 6937636, 6937751, 6937904, 6937988, 6950200, 6966111,\n",
       "        6966378, 7046872, 7047263, 7074708, 7075922, 7097130, 7135238,\n",
       "        7136332, 7170650, 7171109, 7175537, 7192861, 7196453, 7238886,\n",
       "        7239029, 7269608, 7269682, 7269842, 7270185, 7286058, 7288759,\n",
       "        7331821, 7355358, 7387137, 7399110, 7445054, 7474974, 7475795,\n",
       "        7499528], dtype=int64),\n",
       " 15: array([  78387,  199047,  384505,  580539,  629155,  629589,  706406,\n",
       "         778093, 1052604, 1052929, 1053177, 1087722, 1087924, 1116646,\n",
       "        1194622, 1261503, 1304297, 1524285, 1654299, 1971115, 2058097,\n",
       "        2177279, 2210040, 2210617, 2257303, 2293940, 2385173, 2607971,\n",
       "        2680313, 2680365, 2765882, 2889787, 3036578, 3090547, 3090911,\n",
       "        3152186, 3510281, 3510569, 3696430, 3696593, 3821529, 4069553,\n",
       "        4296529, 4342995, 4536183, 4664174, 4895328, 4971383, 5190467,\n",
       "        5190861, 5327293, 5478055, 5478330, 5720538, 5847275, 5896157,\n",
       "        6051149, 6051693, 6105382, 6105626, 6212038, 6212326, 6212747,\n",
       "        6366939, 6488758, 6851904, 7270008, 7270483, 7301362, 7301929,\n",
       "        7398829, 7398860, 7475058], dtype=int64),\n",
       " 16: array([  23360,   46963,   77519,   77828,   78795,   80347,  114606,\n",
       "         120681,  121399,  122012,  155665,  198235,  199153,  238860,\n",
       "         271149,  286758,  287382,  340439,  340842,  341293,  342008,\n",
       "         352149,  383910,  383992,  403076,  415675,  415825,  415880,\n",
       "         451265,  476244,  476383,  579108,  579586,  580275,  580377,\n",
       "         629527,  630039,  671862,  672729,  673129,  705924,  706468,\n",
       "         706893,  743110,  778327,  781532,  818343,  818387,  855067,\n",
       "         855082,  855323,  855361,  865911,  898984,  899217,  927540,\n",
       "         933619,  945570,  946434,  946552,  960644, 1007695, 1024468,\n",
       "        1052287, 1052827, 1053325, 1115980, 1117777, 1140162, 1145150,\n",
       "        1146445, 1186320, 1187457, 1194362, 1194432, 1198495, 1208044,\n",
       "        1234157, 1261394, 1303940, 1304063, 1341310, 1395454, 1395757,\n",
       "        1430529, 1431247, 1472341, 1476148, 1476531, 1523485, 1523767,\n",
       "        1529346, 1565760, 1609689, 1610471, 1610548, 1610620, 1610722,\n",
       "        1653084, 1653467, 1710720, 1711151, 1732730, 1750287, 1797758,\n",
       "        1797854, 1798276, 1825318, 1825385, 1825590, 1825657, 1862633,\n",
       "        1863437, 1899535, 1934431, 1970409, 1971348, 1971792, 1974405,\n",
       "        2028044, 2057440, 2068038, 2076459, 2104329, 2115874, 2117022,\n",
       "        2138487, 2142273, 2144046, 2167002, 2169380, 2177160, 2182069,\n",
       "        2210929, 2237170, 2257006, 2257688, 2294135, 2294216, 2294472,\n",
       "        2313036, 2328457, 2329677, 2375463, 2384088, 2384223, 2396018,\n",
       "        2418517, 2463641, 2464420, 2502265, 2502431, 2502601, 2556120,\n",
       "        2556734, 2607815, 2607918, 2608497, 2608586, 2610317, 2643109,\n",
       "        2643663, 2679374, 2692068, 2722565, 2727855, 2756943, 2766277,\n",
       "        2767282, 2815487, 2815858, 2848525, 2848641, 2849757, 2856160,\n",
       "        2889868, 2947845, 2947959, 2990471, 2990808, 3036818, 3040959,\n",
       "        3090656, 3090689, 3151821, 3152299, 3152915, 3241360, 3245874,\n",
       "        3250844, 3283646, 3284184, 3284254, 3284328, 3284759, 3284789,\n",
       "        3284835, 3350008, 3402533, 3402894, 3403028, 3433080, 3496009,\n",
       "        3509966, 3510868, 3517833, 3539700, 3554656, 3578348, 3578635,\n",
       "        3578965, 3631332, 3653368, 3657373, 3668885, 3729968, 3735104,\n",
       "        3772050, 3806693, 3810615, 3815411, 3821181, 3821379, 3821534,\n",
       "        3821631, 3821698, 3822073, 3852638, 3879438, 3911921, 3970027,\n",
       "        3970504, 3988304, 3988444, 3989298, 4057343, 4069388, 4069786,\n",
       "        4069854, 4070225, 4103187, 4105766, 4110331, 4112647, 4120937,\n",
       "        4200668, 4226405, 4253328, 4253575, 4254296, 4296168, 4296236,\n",
       "        4296479, 4296600, 4296696, 4319113, 4341970, 4342377, 4342789,\n",
       "        4343159, 4398325, 4398596, 4398635, 4398695, 4480370, 4482156,\n",
       "        4520049, 4521552, 4524623, 4536560, 4538692, 4576763, 4576923,\n",
       "        4663269, 4663717, 4663892, 4667646, 4684406, 4704008, 4718558,\n",
       "        4761669, 4762083, 4772365, 4799245, 4824472, 4860492, 4860645,\n",
       "        4861012, 4861196, 4895193, 4895534, 4929988, 4930043, 4931214,\n",
       "        4931917, 4970834, 4982383, 5003753, 5004052, 5004296, 5004585,\n",
       "        5004692, 5039244, 5040046, 5082641, 5082738, 5084153, 5119902,\n",
       "        5120232, 5189904, 5189920, 5190314, 5220000, 5220567, 5246585,\n",
       "        5250957, 5315844, 5326034, 5326998, 5327032, 5327164, 5327195,\n",
       "        5327828, 5337759, 5396733, 5396836, 5396866, 5398268, 5436215,\n",
       "        5479050, 5480228, 5480349, 5497832, 5511497, 5511885, 5523923,\n",
       "        5546896, 5556905, 5567845, 5591996, 5593045, 5593181, 5626984,\n",
       "        5634862, 5634927, 5635284, 5636064, 5672155, 5672289, 5672327,\n",
       "        5687363, 5719655, 5720245, 5721180, 5745249, 5749098, 5749217,\n",
       "        5777832, 5794380, 5811431, 5847565, 5847771, 5848778, 5895107,\n",
       "        5937216, 5938282, 5938751, 5959581, 6050389, 6051433, 6072628,\n",
       "        6105010, 6105168, 6105564, 6105826, 6167478, 6212119, 6212673,\n",
       "        6213060, 6220137, 6251439, 6251773, 6252030, 6252102, 6252430,\n",
       "        6252571, 6252624, 6253558, 6281350, 6298324, 6307685, 6367004,\n",
       "        6367237, 6367520, 6367719, 6448164, 6448966, 6488208, 6488376,\n",
       "        6503137, 6507718, 6538985, 6539511, 6539661, 6610906, 6625098,\n",
       "        6682032, 6682223, 6682436, 6683018, 6709948, 6722614, 6722862,\n",
       "        6723277, 6723494, 6724824, 6759593, 6759664, 6760030, 6793121,\n",
       "        6798242, 6804871, 6817463, 6849378, 6851826, 6853954, 6879147,\n",
       "        6938517, 6965923, 6966886, 7011453, 7047351, 7047590, 7068349,\n",
       "        7077524, 7091496, 7134457, 7134855, 7135011, 7135485, 7135601,\n",
       "        7135661, 7157848, 7171104, 7216205, 7239614, 7245564, 7261675,\n",
       "        7270146, 7270297, 7337606, 7338739, 7398175, 7398731, 7398832,\n",
       "        7444568, 7445449, 7456782, 7474489, 7475031, 7497912], dtype=int64),\n",
       " 17: array([  78623,  287334,  341341,  384067,  416306,  579929,  580435,\n",
       "         580632,  672511,  706290,  818537,  819008,  855593,  946182,\n",
       "        1052451, 1052509, 1087177, 1087622, 1116396, 1116443, 1116545,\n",
       "        1194165, 1194532, 1194683, 1227590, 1304917, 1305079, 1341859,\n",
       "        1396428, 1430865, 1431568, 1475544, 1523469, 1565744, 1610875,\n",
       "        1653744, 1710772, 1711547, 1798226, 1798358, 1798461, 1798967,\n",
       "        1825269, 1863126, 1863710, 1900098, 1900400, 1971436, 2141278,\n",
       "        2178270, 2210163, 2210388, 2257564, 2294792, 2295062, 2462998,\n",
       "        2463688, 2502452, 2502655, 2608336, 2608392, 2608504, 2680673,\n",
       "        2722321, 2766096, 2816987, 2970973, 3152648, 3245752, 3284357,\n",
       "        3285000, 3285361, 3403126, 3434364, 3578951, 3772587, 3822007,\n",
       "        3853335, 3899780, 3900388, 3970733, 3970776, 3970931, 4033225,\n",
       "        4033315, 4033513, 4033561, 4033929, 4069451, 4069763, 4253658,\n",
       "        4296738, 4342544, 4343601, 4399235, 4482547, 4536287, 4576961,\n",
       "        4663740, 4663921, 4664274, 4704397, 4762373, 4762558, 4798964,\n",
       "        4799470, 4895966, 4930318, 4971311, 4971681, 5004800, 5004904,\n",
       "        5039195, 5040350, 5082992, 5084141, 5119938, 5220320, 5260237,\n",
       "        5397781, 5512840, 5557453, 5591890, 5592178, 5672487, 5720402,\n",
       "        5746078, 5794865, 5847150, 5895725, 5939199, 6105527, 6176044,\n",
       "        6212848, 6252274, 6286859, 6367182, 6367222, 6448190, 6448520,\n",
       "        6488334, 6539757, 6625494, 6682069, 6683375, 6723053, 6723849,\n",
       "        6724483, 6760656, 6798491, 6852257, 6852662, 6937792, 6938301,\n",
       "        7011527, 7047961, 7048121, 7091019, 7269877, 7302027, 7398976,\n",
       "        7444865, 7474962, 7475671, 7475958], dtype=int64),\n",
       " 18: array([   3774,   15290,   19625,   29762,   35310,   74456,  113320,\n",
       "         120526,  146936,  166530,  167429,  186869,  198166,  198658,\n",
       "         199485,  215373,  251556,  254270,  263876,  289974,  301582,\n",
       "         318248,  340749,  342436,  369599,  370982,  380354,  415786,\n",
       "         419911,  445043,  477361,  484361,  516005,  537284,  554917,\n",
       "         618202,  629235,  637760,  638481,  642601,  647874,  672246,\n",
       "         673454,  713606,  740171,  758826,  770938,  778101,  792019,\n",
       "         840840,  846906,  864364,  869357,  872964,  879016,  888395,\n",
       "         899100,  901744,  939754,  978102,  994691, 1006706, 1016187,\n",
       "        1052575, 1053213, 1087184, 1087929, 1114564, 1115511, 1116898,\n",
       "        1133111, 1145474, 1148605, 1149666, 1160894, 1227718, 1247948,\n",
       "        1250382, 1301563, 1304210, 1310402, 1323295, 1336387, 1341284,\n",
       "        1341625, 1342978, 1382757, 1392385, 1395689, 1396158, 1409239,\n",
       "        1425862, 1428533, 1431173, 1432571, 1441214, 1449724, 1475860,\n",
       "        1476681, 1490569, 1564337, 1565164, 1609874, 1610085, 1623216,\n",
       "        1642154, 1653385, 1654170, 1655997, 1685210, 1728899, 1732834,\n",
       "        1762234, 1765729, 1797742, 1797876, 1798508, 1800005, 1802382,\n",
       "        1819603, 1825494, 1837939, 1838253, 1843822, 1866037, 1880475,\n",
       "        1900289, 1900375, 1934066, 1934271, 1940897, 1957888, 1970958,\n",
       "        1971621, 1978861, 2001721, 2024026, 2026495, 2056876, 2065392,\n",
       "        2105708, 2110924, 2123888, 2138221, 2140448, 2168608, 2173249,\n",
       "        2176482, 2179880, 2221257, 2253756, 2295740, 2323812, 2380546,\n",
       "        2384845, 2385429, 2421592, 2427462, 2463569, 2501078, 2502315,\n",
       "        2539104, 2545100, 2550703, 2559265, 2583426, 2608155, 2609117,\n",
       "        2679481, 2689066, 2707555, 2710388, 2720719, 2724718, 2745142,\n",
       "        2761010, 2766256, 2781568, 2817109, 2833395, 2848513, 2848863,\n",
       "        2858701, 2889953, 2906585, 2910607, 2913478, 2915510, 2947442,\n",
       "        2953696, 2953859, 2980755, 3003883, 3012194, 3020960, 3023487,\n",
       "        3029620, 3037289, 3060182, 3075103, 3076823, 3081073, 3083338,\n",
       "        3164849, 3206278, 3218018, 3225678, 3237027, 3239465, 3245351,\n",
       "        3246101, 3247004, 3251734, 3255245, 3273316, 3284275, 3341122,\n",
       "        3349758, 3391523, 3392811, 3402548, 3415755, 3455063, 3469071,\n",
       "        3481964, 3485018, 3487586, 3502824, 3509938, 3510424, 3525592,\n",
       "        3577913, 3578623, 3578720, 3598299, 3598706, 3623652, 3639642,\n",
       "        3646622, 3672227, 3685938, 3689711, 3753765, 3764658, 3781210,\n",
       "        3821289, 3826498, 3834987, 3840392, 3900112, 4018411, 4033423,\n",
       "        4049705, 4098831, 4102550, 4103098, 4110371, 4120529, 4136479,\n",
       "        4136797, 4167037, 4171318, 4190750, 4192874, 4207503, 4243621,\n",
       "        4244030, 4253596, 4253673, 4253999, 4272353, 4281606, 4283518,\n",
       "        4287494, 4296276, 4298166, 4299945, 4304800, 4311200, 4342262,\n",
       "        4342462, 4355095, 4391120, 4526049, 4535931, 4536569, 4538434,\n",
       "        4545570, 4552405, 4574244, 4578061, 4582467, 4609746, 4633301,\n",
       "        4642918, 4663856, 4663937, 4664049, 4664439, 4678962, 4678983,\n",
       "        4694750, 4704074, 4716576, 4740972, 4752460, 4760970, 4761459,\n",
       "        4761684, 4770969, 4785234, 4792204, 4824348, 4825514, 4833643,\n",
       "        4839559, 4861564, 4865152, 4895441, 4919711, 4962008, 4985851,\n",
       "        5001720, 5003809, 5015719, 5030945, 5038978, 5070915, 5083060,\n",
       "        5083307, 5083873, 5115487, 5119692, 5123754, 5174028, 5190618,\n",
       "        5190694, 5229328, 5261128, 5280565, 5282678, 5302588, 5326567,\n",
       "        5327631, 5361627, 5376421, 5388103, 5389939, 5390896, 5396781,\n",
       "        5397467, 5450342, 5459287, 5474887, 5478257, 5478565, 5510623,\n",
       "        5512459, 5512999, 5523973, 5565676, 5568709, 5580764, 5589891,\n",
       "        5592326, 5596335, 5596559, 5625474, 5630392, 5631164, 5636942,\n",
       "        5668520, 5686951, 5704176, 5719975, 5720799, 5721126, 5732308,\n",
       "        5740171, 5741718, 5791424, 5801831, 5811700, 5895249, 5895432,\n",
       "        5935498, 5963750, 6004602, 6019818, 6045746, 6047833, 6050424,\n",
       "        6053493, 6056968, 6100233, 6105036, 6112673, 6136870, 6144650,\n",
       "        6149756, 6167439, 6174162, 6182658, 6200108, 6211896, 6211914,\n",
       "        6214923, 6215262, 6234366, 6236588, 6241756, 6248131, 6252559,\n",
       "        6260696, 6270402, 6286137, 6286952, 6290564, 6306658, 6365565,\n",
       "        6395919, 6414595, 6441199, 6454926, 6470111, 6473129, 6488504,\n",
       "        6493463, 6533137, 6563957, 6602450, 6605572, 6624952, 6671227,\n",
       "        6681963, 6697400, 6723364, 6730697, 6759529, 6760372, 6798513,\n",
       "        6798980, 6852164, 6876638, 6880045, 6907761, 6937331, 6939504,\n",
       "        6959333, 6966125, 6998702, 7004672, 7043863, 7048390, 7063510,\n",
       "        7067266, 7091700, 7125183, 7142117, 7151127, 7162470, 7171424,\n",
       "        7174010, 7198416, 7199984, 7202084, 7212239, 7217817, 7279500,\n",
       "        7291701, 7294110, 7302278, 7302708, 7303087, 7314989, 7332807,\n",
       "        7363381, 7398678, 7398750, 7422881, 7426813, 7452502, 7463389,\n",
       "        7487111], dtype=int64)}"
      ]
     },
     "execution_count": 122,
     "metadata": {},
     "output_type": "execute_result"
    }
   ],
   "source": []
  },
  {
   "cell_type": "code",
   "execution_count": null,
   "metadata": {},
   "outputs": [],
   "source": []
  },
  {
   "cell_type": "code",
   "execution_count": null,
   "metadata": {},
   "outputs": [],
   "source": []
  },
  {
   "cell_type": "code",
   "execution_count": null,
   "metadata": {},
   "outputs": [],
   "source": []
  },
  {
   "cell_type": "code",
   "execution_count": null,
   "metadata": {},
   "outputs": [],
   "source": []
  },
  {
   "cell_type": "code",
   "execution_count": null,
   "metadata": {},
   "outputs": [],
   "source": []
  },
  {
   "cell_type": "code",
   "execution_count": null,
   "metadata": {},
   "outputs": [],
   "source": [
    "label = unitframe.loc[unitframe.unit_ids == i]"
   ]
  },
  {
   "cell_type": "code",
   "execution_count": 98,
   "metadata": {},
   "outputs": [],
   "source": [
    "labels = unitframe['channellabel'].unique()\n"
   ]
  },
  {
   "cell_type": "code",
   "execution_count": 104,
   "metadata": {},
   "outputs": [],
   "source": [
    "unit_i = unitframe.loc[(unitframe['channellabel']=='P12')]['unit_ids']"
   ]
  },
  {
   "cell_type": "code",
   "execution_count": 110,
   "metadata": {},
   "outputs": [
    {
     "name": "stdout",
     "output_type": "stream",
     "text": [
      "90\n",
      "91\n",
      "92\n",
      "93\n"
     ]
    }
   ],
   "source": [
    "for i in unit_i:\n",
    "    print(i)\n"
   ]
  },
  {
   "cell_type": "code",
   "execution_count": 111,
   "metadata": {},
   "outputs": [
    {
     "data": {
      "text/plain": [
       "[90, 91, 92, 93]"
      ]
     },
     "execution_count": 111,
     "metadata": {},
     "output_type": "execute_result"
    }
   ],
   "source": [
    "list(unit_i)"
   ]
  },
  {
   "cell_type": "code",
   "execution_count": null,
   "metadata": {},
   "outputs": [],
   "source": []
  }
 ],
 "metadata": {
  "kernelspec": {
   "display_name": "Python 3",
   "language": "python",
   "name": "python3"
  },
  "language_info": {
   "codemirror_mode": {
    "name": "ipython",
    "version": 3
   },
   "file_extension": ".py",
   "mimetype": "text/x-python",
   "name": "python",
   "nbconvert_exporter": "python",
   "pygments_lexer": "ipython3",
   "version": "3.8.3"
  }
 },
 "nbformat": 4,
 "nbformat_minor": 4
}
