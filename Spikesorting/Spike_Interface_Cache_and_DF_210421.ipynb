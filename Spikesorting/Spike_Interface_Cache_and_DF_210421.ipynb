{
 "cells": [
  {
   "cell_type": "code",
   "execution_count": 173,
   "metadata": {},
   "outputs": [],
   "source": [
    "#import spikeinterface modules\n",
    "import spikeinterface as si\n",
    "import spikeinterface.extractors as se\n",
    "import spikeinterface.toolkit as st\n",
    "import spikeinterface.sorters as ss\n",
    "import spikeinterface.comparison as sc\n",
    "import spikeinterface.widgets as sw\n",
    "import numpy as np\n",
    "import glob\n",
    "\n",
    "#import everything else\n",
    "import os\n",
    "import sys\n",
    "import numpy as np\n",
    "import neo\n",
    "import pandas as pd\n",
    "import h5py\n",
    "import McsPy\n",
    "import sys, importlib, os\n",
    "import McsPy.McsData\n",
    "import McsPy.McsCMOS\n",
    "from McsPy import ureg, Q_\n",
    "import matplotlib.pyplot as plt\n",
    "from matplotlib.pyplot import cm\n",
    "\n",
    "from time import strftime\n",
    "%matplotlib inline"
   ]
  },
  {
   "cell_type": "code",
   "execution_count": 2,
   "metadata": {},
   "outputs": [],
   "source": [
    "filedirec = r\"D:\\Files_Reutlingen_Jenny\\main_191021extra\"\n",
    "inputdirectory = r\"D:\\Files_Reutlingen_Jenny\\main_191021extra\\191021_extra\"\n",
    "os.chdir(inputdirectory)"
   ]
  },
  {
   "cell_type": "code",
   "execution_count": 3,
   "metadata": {},
   "outputs": [
    {
     "data": {
      "text/plain": [
       "['aCSF_adult_15min_spont.h5',\n",
       " 'hCSF_adult_20min_spont0002.h5',\n",
       " 'hCSF_child_20min_spont.h5']"
      ]
     },
     "execution_count": 3,
     "metadata": {},
     "output_type": "execute_result"
    }
   ],
   "source": [
    "filelist = glob.glob('*.h5')\n",
    "filelist"
   ]
  },
  {
   "cell_type": "code",
   "execution_count": 4,
   "metadata": {},
   "outputs": [],
   "source": [
    "labeldic = np.load('labeldictionary_MCS_256MEA.npy', allow_pickle='TRUE').item()"
   ]
  },
  {
   "cell_type": "code",
   "execution_count": 5,
   "metadata": {},
   "outputs": [],
   "source": [
    "filename=filelist[0]\n"
   ]
  },
  {
   "cell_type": "code",
   "execution_count": 6,
   "metadata": {},
   "outputs": [],
   "source": [
    "filebase = filename.split('.')[0]"
   ]
  },
  {
   "cell_type": "code",
   "execution_count": 6,
   "metadata": {},
   "outputs": [],
   "source": [
    "recording_MEA=se.MCSH5RecordingExtractor(os.path.join(inputdirectory, filename))\n",
    "recording_f = st.preprocessing.bandpass_filter(recording_MEA, freq_min=150, freq_max=5000, filter_type='butter', order=2)\n",
    "recording_cmr = st.preprocessing.common_reference(recording_f, reference='median')\n"
   ]
  },
  {
   "cell_type": "code",
   "execution_count": 7,
   "metadata": {},
   "outputs": [],
   "source": [
    "recording_cmrprobe=recording_MEA.load_probe_file(probe_file=\"C:/Users/User/Documents/JO/gitkraken/MEA_analysis/Spikesorting/MCS_MEA_256_100µM_spacing.prb\")"
   ]
  },
  {
   "cell_type": "code",
   "execution_count": 6,
   "metadata": {},
   "outputs": [],
   "source": [
    "timestr = strftime(\"%d%m%Y\")\n",
    "outputdirectory = os.path.join(filedirec, '_output_Spikesorting_'+ timestr).replace('\\\\','/')\n",
    "\n",
    "probe_file=\"C:/Users/User/Documents/JO/gitkraken/MEA_analysis/Spikesorting/MCS_MEA_256_100µM_spacing.prb\"\n",
    "outputdirectory_SC='D:/Files_Reutlingen_Jenny/main_191021extra/191021_extra_Spikesorting/output_Spykingcirucs'\n"
   ]
  },
  {
   "cell_type": "code",
   "execution_count": 7,
   "metadata": {},
   "outputs": [
    {
     "data": {
      "text/plain": [
       "'D:/Files_Reutlingen_Jenny/main_191021extra/_output_Spikesorting_20042021'"
      ]
     },
     "execution_count": 7,
     "metadata": {},
     "output_type": "execute_result"
    }
   ],
   "source": [
    "outputdirectory"
   ]
  },
  {
   "cell_type": "code",
   "execution_count": 8,
   "metadata": {
    "scrolled": true
   },
   "outputs": [
    {
     "name": "stdout",
     "output_type": "stream",
     "text": [
      "Successfully created the directory D:/Files_Reutlingen_Jenny/main_191021extra/_output_Spikesorting_20042021_aCSF_adult_15min_spont_spikesorting \n"
     ]
    }
   ],
   "source": [
    "outpath=os.path.join(outputdirectory+'_'+filename.split('.')[0]+'_spikesorting').replace(\"\\\\\",\"/\")\n",
    "try:\n",
    "    os.mkdir(outpath)\n",
    "except OSError:\n",
    "    print (\"Creation of the directory %s failed\" % outpath)\n",
    "else:\n",
    "    print (\"Successfully created the directory %s \" % outpath)"
   ]
  },
  {
   "cell_type": "code",
   "execution_count": 9,
   "metadata": {},
   "outputs": [
    {
     "name": "stdout",
     "output_type": "stream",
     "text": [
      "Successfully created the directory D:/Files_Reutlingen_Jenny/main_191021extra/_output_Spikesorting_20042021_aCSF_adult_15min_spont_spikesorting \n"
     ]
    }
   ],
   "source": [
    "outpath_SC=os.path.join(outpath, 'output_spykingcircus').replace(\"\\\\\",\"/\")\n",
    "try:\n",
    "    os.mkdir(outpath_SC)\n",
    "except OSError:\n",
    "    print (\"Creation of the directory %s failed\" % outpath)\n",
    "else:\n",
    "    print (\"Successfully created the directory %s \" % outpath)"
   ]
  },
  {
   "cell_type": "code",
   "execution_count": 7,
   "metadata": {},
   "outputs": [],
   "source": [
    "outpath = 'D:\\Files_Reutlingen_Jenny\\main_191021extra\\_output_Spikesorting_19042021_aCSF_adult_15min_spont_spikesorting'"
   ]
  },
  {
   "cell_type": "code",
   "execution_count": 8,
   "metadata": {},
   "outputs": [],
   "source": [
    "os.chdir(outpath)"
   ]
  },
  {
   "cell_type": "code",
   "execution_count": 13,
   "metadata": {},
   "outputs": [
    {
     "ename": "NameError",
     "evalue": "name 'recording_cmrprobe' is not defined",
     "output_type": "error",
     "traceback": [
      "\u001b[1;31m---------------------------------------------------------------------------\u001b[0m",
      "\u001b[1;31mNameError\u001b[0m                                 Traceback (most recent call last)",
      "\u001b[1;32m<ipython-input-13-3e3fe092edd8>\u001b[0m in \u001b[0;36m<module>\u001b[1;34m\u001b[0m\n\u001b[0;32m      1\u001b[0m \u001b[1;31m# cutting out 2 minutes\u001b[0m\u001b[1;33m\u001b[0m\u001b[1;33m\u001b[0m\u001b[1;33m\u001b[0m\u001b[0m\n\u001b[0;32m      2\u001b[0m \u001b[1;33m\u001b[0m\u001b[0m\n\u001b[1;32m----> 3\u001b[1;33m \u001b[0mfs\u001b[0m \u001b[1;33m=\u001b[0m \u001b[0mrecording_cmrprobe\u001b[0m\u001b[1;33m.\u001b[0m\u001b[0mget_sampling_frequency\u001b[0m\u001b[1;33m(\u001b[0m\u001b[1;33m)\u001b[0m\u001b[1;33m\u001b[0m\u001b[1;33m\u001b[0m\u001b[0m\n\u001b[0m\u001b[0;32m      4\u001b[0m \u001b[0mfs\u001b[0m \u001b[1;33m=\u001b[0m \u001b[0mnp\u001b[0m\u001b[1;33m.\u001b[0m\u001b[0mround\u001b[0m\u001b[1;33m(\u001b[0m\u001b[0mfs\u001b[0m\u001b[1;33m)\u001b[0m\u001b[1;33m\u001b[0m\u001b[1;33m\u001b[0m\u001b[0m\n\u001b[0;32m      5\u001b[0m \u001b[1;31m#recording_sub = se.SubRecordingExtractor(recording_cmrprobe, start_frame=200*fs, end_frame=320*fs)\u001b[0m\u001b[1;33m\u001b[0m\u001b[1;33m\u001b[0m\u001b[1;33m\u001b[0m\u001b[0m\n",
      "\u001b[1;31mNameError\u001b[0m: name 'recording_cmrprobe' is not defined"
     ]
    }
   ],
   "source": [
    "# cutting out 2 minutes\n",
    "\n",
    "fs = recording_cmrprobe.get_sampling_frequency()\n",
    "fs = np.round(fs)\n",
    "#recording_sub = se.SubRecordingExtractor(recording_cmrprobe, start_frame=200*fs, end_frame=320*fs)"
   ]
  },
  {
   "cell_type": "code",
   "execution_count": 22,
   "metadata": {},
   "outputs": [],
   "source": [
    "# get the recording length, divide it into 120 second frames\n",
    "recording_length = recording_cmrprobe.get_num_frames()\n",
    "recording_seconds = recording_length/fs\n",
    "\n",
    "\n"
   ]
  },
  {
   "cell_type": "code",
   "execution_count": 9,
   "metadata": {},
   "outputs": [],
   "source": [
    "def divide_recording_to_sub(recording, sublength_seconds):\n",
    "    \n",
    "    \n",
    "    subrecording_dic = {}\n",
    "    recording_length = recording.get_num_frames()\n",
    "    recording_seconds = recording_length/fs\n",
    "    end_frame = int(recording_seconds)\n",
    "    \n",
    "    for snippet in range(0, end_frame, sublength_seconds):\n",
    "        sub_start = snippet\n",
    "        sub_end = snippet + sublength_seconds\n",
    "        if sub_end > end_frame:\n",
    "            sub_end = end_frame\n",
    "        sub_str = 'sec_'+str(sub_start)+'-'+str(sub_end)\n",
    "    \n",
    "        subrecording_dic[sub_str] = se.SubRecordingExtractor(\n",
    "            recording_cmrprobe, start_frame = sub_start*fs,\n",
    "            end_frame = sub_end*fs)\n",
    "    \n",
    "    return subrecording_dic\n",
    "    \n",
    "    "
   ]
  },
  {
   "cell_type": "code",
   "execution_count": 48,
   "metadata": {},
   "outputs": [
    {
     "data": {
      "text/plain": [
       "{'sec_0-200': <spikeextractors.subrecordingextractor.SubRecordingExtractor at 0x28156a46040>,\n",
       " 'sec_200-400': <spikeextractors.subrecordingextractor.SubRecordingExtractor at 0x28156022370>,\n",
       " 'sec_400-600': <spikeextractors.subrecordingextractor.SubRecordingExtractor at 0x28156a5bb50>,\n",
       " 'sec_600-800': <spikeextractors.subrecordingextractor.SubRecordingExtractor at 0x281567c4e50>,\n",
       " 'sec_800-900': <spikeextractors.subrecordingextractor.SubRecordingExtractor at 0x281567c4b50>}"
      ]
     },
     "execution_count": 48,
     "metadata": {},
     "output_type": "execute_result"
    }
   ],
   "source": [
    "subrecording_dic"
   ]
  },
  {
   "cell_type": "code",
   "execution_count": 51,
   "metadata": {},
   "outputs": [],
   "source": [
    "subrecords = divide_recording_to_sub(recording_cmrprobe, 300)"
   ]
  },
  {
   "cell_type": "code",
   "execution_count": 52,
   "metadata": {},
   "outputs": [
    {
     "data": {
      "text/plain": [
       "{'sec_0-300': <spikeextractors.subrecordingextractor.SubRecordingExtractor at 0x281560b60d0>,\n",
       " 'sec_300-600': <spikeextractors.subrecordingextractor.SubRecordingExtractor at 0x2814e8d1be0>,\n",
       " 'sec_600-900': <spikeextractors.subrecordingextractor.SubRecordingExtractor at 0x281560b6d60>}"
      ]
     },
     "execution_count": 52,
     "metadata": {},
     "output_type": "execute_result"
    }
   ],
   "source": [
    "subrecords"
   ]
  },
  {
   "cell_type": "code",
   "execution_count": 10,
   "metadata": {},
   "outputs": [],
   "source": [
    "# make a cache for every part in the dictionary\n",
    "\n",
    "def create_cache_for_subrecordings(subrecording_dic, filebase, outpath):\n",
    "\n",
    "    for key in subrecording_dic:\n",
    "        sub_cache = se.CacheRecordingExtractor(\n",
    "            subrecording_dic[key])\n",
    "        filepath = os.path.join(\n",
    "            outpath, filebase+str(key)+'_filtered_data.dat'\n",
    "            ).replace('\\\\','/')\n",
    "        sub_cache.move_to(filepath) \n",
    "        sub_cache.dump_to_dict()\n",
    "        filepathpickle = os.path.join(\n",
    "            outpath, filebase+str(key)+'_recording.pkl'\n",
    "            ).replace('\\\\','/')\n",
    "        sub_cache.dump_to_pickle(filepathpickle)\n",
    "        \n",
    "    return 'Finished dumping the subrecords. To load, use the load_dumped_recordings function'\n",
    "    "
   ]
  },
  {
   "cell_type": "code",
   "execution_count": 74,
   "metadata": {},
   "outputs": [
    {
     "data": {
      "text/plain": [
       "'Finished dumping the subrecords. To load, use the load_dumped_recordings function'"
      ]
     },
     "execution_count": 74,
     "metadata": {},
     "output_type": "execute_result"
    }
   ],
   "source": [
    "create_cache_for_subrecordings(subrecording_dic=subrecords, filebase=filebase, outpath=outpath)"
   ]
  },
  {
   "cell_type": "code",
   "execution_count": 11,
   "metadata": {},
   "outputs": [],
   "source": [
    "def load_dumped_subrecordings(directory, filebase):\n",
    "\n",
    "    subrecording_dic = {}\n",
    "    filelist = glob.glob('*.pkl')\n",
    "    for file in filelist:\n",
    "        key = file.split(filebase)[1].split('.')[0].split('_recording')[0]\n",
    "        subrecording_dic[key]=se.load_extractor_from_pickle(file)\n",
    "        \n",
    "    return subrecording_dic\n",
    "        \n",
    "    "
   ]
  },
  {
   "cell_type": "code",
   "execution_count": 12,
   "metadata": {},
   "outputs": [],
   "source": [
    "loaded = load_dumped_subrecordings(outpath, filebase)"
   ]
  },
  {
   "cell_type": "code",
   "execution_count": 13,
   "metadata": {},
   "outputs": [
    {
     "data": {
      "text/plain": [
       "{'sec_0-300': <spikeextractors.extractors.bindatrecordingextractor.bindatrecordingextractor.BinDatRecordingExtractor at 0x1df284dc430>,\n",
       " 'sec_300-600': <spikeextractors.extractors.bindatrecordingextractor.bindatrecordingextractor.BinDatRecordingExtractor at 0x1df284dc910>,\n",
       " 'sec_600-900': <spikeextractors.extractors.bindatrecordingextractor.bindatrecordingextractor.BinDatRecordingExtractor at 0x1df284c8b50>}"
      ]
     },
     "execution_count": 13,
     "metadata": {},
     "output_type": "execute_result"
    }
   ],
   "source": [
    "loaded"
   ]
  },
  {
   "cell_type": "code",
   "execution_count": 24,
   "metadata": {},
   "outputs": [
    {
     "name": "stdout",
     "output_type": "stream",
     "text": [
      "Cached channels: [0, 1, 2, 3, 4, 5, 6, 7, 8, 9, 10, 11, 12, 13, 14, 15, 16, 17, 18, 19, 20, 21, 22, 23, 24, 25, 26, 27, 28, 29, 30, 31, 32, 33, 34, 35, 36, 37, 38, 39, 40, 41, 42, 43, 44, 45, 46, 47, 48, 49, 50, 51, 52, 53, 54, 55, 56, 57, 58, 59, 60, 61, 62, 63, 64, 65, 66, 67, 68, 69, 70, 71, 72, 73, 74, 75, 76, 77, 78, 79, 80, 81, 82, 83, 84, 85, 86, 87, 88, 89, 90, 91, 92, 93, 94, 95, 96, 97, 98, 99, 100, 101, 102, 103, 104, 105, 106, 107, 108, 109, 110, 111, 112, 113, 114, 115, 116, 117, 118, 119, 120, 121, 122, 123, 124, 125, 128, 129, 130, 131, 132, 133, 134, 135, 136, 137, 138, 139, 140, 141, 142, 143, 144, 145, 146, 147, 148, 149, 150, 151, 152, 153, 154, 155, 156, 157, 158, 159, 160, 161, 162, 163, 164, 165, 166, 167, 168, 169, 170, 171, 172, 173, 174, 175, 176, 177, 178, 179, 180, 181, 182, 183, 184, 185, 186, 187, 188, 189, 190, 191, 192, 193, 194, 195, 196, 197, 198, 199, 200, 201, 202, 203, 204, 205, 206, 207, 208, 209, 210, 211, 212, 213, 214, 215, 216, 217, 218, 219, 220, 221, 222, 223, 224, 225, 226, 227, 228, 229, 230, 231, 232, 233, 234, 235, 236, 237, 238, 239, 240, 241, 242, 243, 244, 245, 246, 247, 248, 249, 250, 251, 252, 253]\n",
      "Cached channels ids: [0, 1, 2, 3, 4, 5, 6, 7, 8, 9, 10, 11, 12, 13, 14, 15, 16, 17, 18, 19, 20, 21, 22, 23, 24, 25, 26, 27, 28, 29, 30, 31, 32, 33, 34, 35, 36, 37, 38, 39, 40, 41, 42, 43, 44, 45, 46, 47, 48, 49, 50, 51, 52, 53, 54, 55, 56, 57, 58, 59, 60, 61, 62, 63, 64, 65, 66, 67, 68, 69, 70, 71, 72, 73, 74, 75, 76, 77, 78, 79, 80, 81, 82, 83, 84, 85, 86, 87, 88, 89, 90, 91, 92, 93, 94, 95, 96, 97, 98, 99, 100, 101, 102, 103, 104, 105, 106, 107, 108, 109, 110, 111, 112, 113, 114, 115, 116, 117, 118, 119, 120, 121, 122, 123, 124, 125, 128, 129, 130, 131, 132, 133, 134, 135, 136, 137, 138, 139, 140, 141, 142, 143, 144, 145, 146, 147, 148, 149, 150, 151, 152, 153, 154, 155, 156, 157, 158, 159, 160, 161, 162, 163, 164, 165, 166, 167, 168, 169, 170, 171, 172, 173, 174, 175, 176, 177, 178, 179, 180, 181, 182, 183, 184, 185, 186, 187, 188, 189, 190, 191, 192, 193, 194, 195, 196, 197, 198, 199, 200, 201, 202, 203, 204, 205, 206, 207, 208, 209, 210, 211, 212, 213, 214, 215, 216, 217, 218, 219, 220, 221, 222, 223, 224, 225, 226, 227, 228, 229, 230, 231, 232, 233, 234, 235, 236, 237, 238, 239, 240, 241, 242, 243, 244, 245, 246, 247, 248, 249, 250, 251, 252, 253]\n",
      "Channel groups after caching: [1 1 1 1 1 1 1 1 1 1 1 1 1 1 1 1 1 1 1 1 1 1 1 1 1 1 1 1 1 1 1 1 1 1 1 1 1\n",
      " 1 1 1 1 1 1 1 1 1 1 1 1 1 1 1 1 1 1 1 1 1 1 1 1 1 1 1 1 1 1 1 1 1 1 1 1 1\n",
      " 1 1 1 1 1 1 1 1 1 1 1 1 1 1 1 1 1 1 1 1 1 1 1 1 1 1 1 1 1 1 1 1 1 1 1 1 1\n",
      " 1 1 1 1 1 1 1 1 1 1 1 1 1 1 1 1 1 1 1 1 1 1 1 1 1 1 1 1 1 1 1 1 1 1 1 1 1\n",
      " 1 1 1 1 1 1 1 1 1 1 1 1 1 1 1 1 1 1 1 1 1 1 1 1 1 1 1 1 1 1 1 1 1 1 1 1 1\n",
      " 1 1 1 1 1 1 1 1 1 1 1 1 1 1 1 1 1 1 1 1 1 1 1 1 1 1 1 1 1 1 1 1 1 1 1 1 1\n",
      " 1 1 1 1 1 1 1 1 1 1 1 1 1 1 1 1 1 1 1 1 1 1 1 1 1 1 1 1 1 1]\n"
     ]
    }
   ],
   "source": [
    "\n",
    "print(f'Cached channels: {recording_cache.get_channel_ids()}')\n",
    "print(f'Cached channels ids: {recording_cache.get_channel_ids()}')\n",
    "print(f'Channel groups after caching: {recording_cache.get_channel_groups()}')"
   ]
  },
  {
   "cell_type": "code",
   "execution_count": 20,
   "metadata": {},
   "outputs": [],
   "source": [
    "# to load:\n",
    "#recording_loaded = se.load_extractor_from_pickle('recording.pkl')\n",
    "#recording_cache=recording_loaded"
   ]
  },
  {
   "cell_type": "code",
   "execution_count": 14,
   "metadata": {},
   "outputs": [],
   "source": [
    "# loop to run spikesorter over different subrecordings\n",
    "def run_spykingcircus_on_sub(subrecording_dic, directory):\n",
    "    \n",
    "\n",
    "    sorted_dic={}\n",
    "    for key in loaded:\n",
    "        outpath_SC=os.path.join(outpath, 'sorted_'+str(key)).replace('\\\\', '/')\n",
    "        '''\n",
    "        try:\n",
    "            os.mkdir(outpath_SC)\n",
    "        except OSError:\n",
    "            print (\"Creation of the directory %s failed\" % outpath)\n",
    "        else:\n",
    "            print (\"Successfully created the directory %s \" % outpath)\n",
    "        '''\n",
    "        sorted_dic[key]=ss.run_spykingcircus(\n",
    "            loaded[key], output_folder=outpath_SC)\n",
    "\n",
    "    return sorted_dic\n",
    "    "
   ]
  },
  {
   "cell_type": "code",
   "execution_count": 104,
   "metadata": {},
   "outputs": [
    {
     "name": "stdout",
     "output_type": "stream",
     "text": [
      "Creation of the directory D:/Files_Reutlingen_Jenny/main_191021extra/_output_Spikesorting_19042021_aCSF_adult_15min_spont_spikesorting failed\n",
      "RUNNING SHELL SCRIPT: D:\\Files_Reutlingen_Jenny\\main_191021extra\\_output_Spikesorting_19042021_aCSF_adult_15min_spont_spikesorting\\sorted_sec_0-300\\run_spykingcircus.bat\n",
      "Creation of the directory D:/Files_Reutlingen_Jenny/main_191021extra/_output_Spikesorting_19042021_aCSF_adult_15min_spont_spikesorting failed\n",
      "RUNNING SHELL SCRIPT: D:\\Files_Reutlingen_Jenny\\main_191021extra\\_output_Spikesorting_19042021_aCSF_adult_15min_spont_spikesorting\\sorted_sec_300-600\\run_spykingcircus.bat\n",
      "Creation of the directory D:/Files_Reutlingen_Jenny/main_191021extra/_output_Spikesorting_19042021_aCSF_adult_15min_spont_spikesorting failed\n",
      "RUNNING SHELL SCRIPT: D:\\Files_Reutlingen_Jenny\\main_191021extra\\_output_Spikesorting_19042021_aCSF_adult_15min_spont_spikesorting\\sorted_sec_600-900\\run_spykingcircus.bat\n"
     ]
    }
   ],
   "source": [
    "sorted_dic = run_spykingcircus_on_sub(loaded, outpath)"
   ]
  },
  {
   "cell_type": "code",
   "execution_count": 105,
   "metadata": {},
   "outputs": [
    {
     "data": {
      "text/plain": [
       "{'sec_0-300': <spikeextractors.extractors.spykingcircusextractors.spykingcircusextractors.SpykingCircusSortingExtractor at 0x2815658a040>,\n",
       " 'sec_300-600': <spikeextractors.extractors.spykingcircusextractors.spykingcircusextractors.SpykingCircusSortingExtractor at 0x281563a3370>,\n",
       " 'sec_600-900': <spikeextractors.extractors.spykingcircusextractors.spykingcircusextractors.SpykingCircusSortingExtractor at 0x28155ffcfd0>}"
      ]
     },
     "execution_count": 105,
     "metadata": {},
     "output_type": "execute_result"
    }
   ],
   "source": [
    "sorted_dic"
   ]
  },
  {
   "cell_type": "code",
   "execution_count": 15,
   "metadata": {},
   "outputs": [],
   "source": [
    "def load_dumped_sorted_dic(outpath):\n",
    "\n",
    "    sorted_dic = {}\n",
    "    filelist = glob.glob('*sorted*')\n",
    "    for file in filelist:\n",
    "        key = file.split('sorted_')[1]\n",
    "        sorted_dic[key]=se.SpykingCircusSortingExtractor(file)\n",
    "        \n",
    "    return sorted_dic"
   ]
  },
  {
   "cell_type": "code",
   "execution_count": 16,
   "metadata": {},
   "outputs": [],
   "source": [
    "sorted_dic = load_dumped_sorted_dic(outpath)"
   ]
  },
  {
   "cell_type": "code",
   "execution_count": 17,
   "metadata": {},
   "outputs": [
    {
     "data": {
      "text/plain": [
       "{'sec_0-300': <spikeextractors.extractors.spykingcircusextractors.spykingcircusextractors.SpykingCircusSortingExtractor at 0x1df284e31c0>,\n",
       " 'sec_300-600': <spikeextractors.extractors.spykingcircusextractors.spykingcircusextractors.SpykingCircusSortingExtractor at 0x1df284e3070>,\n",
       " 'sec_600-900': <spikeextractors.extractors.spykingcircusextractors.spykingcircusextractors.SpykingCircusSortingExtractor at 0x1df2ff7d5b0>}"
      ]
     },
     "execution_count": 17,
     "metadata": {},
     "output_type": "execute_result"
    }
   ],
   "source": [
    "sorted_dic\n"
   ]
  },
  {
   "cell_type": "code",
   "execution_count": 18,
   "metadata": {},
   "outputs": [],
   "source": [
    "waveforms = st.postprocessing.get_unit_waveforms(\n",
    "    loaded['sec_0-300'], sorted_dic['sec_0-300'], memmap = True\n",
    "    )"
   ]
  },
  {
   "cell_type": "code",
   "execution_count": 20,
   "metadata": {},
   "outputs": [],
   "source": [
    "u = 'sec_0-300'"
   ]
  },
  {
   "cell_type": "code",
   "execution_count": null,
   "metadata": {},
   "outputs": [],
   "source": []
  },
  {
   "cell_type": "code",
   "execution_count": 86,
   "metadata": {},
   "outputs": [],
   "source": [
    "layerdic = {'layer1':[], \n",
    "            'layer2-3':['L1', 'M1', 'M2', 'M3', 'M15', 'M16', 'N1', 'N2', 'N3', 'N4', 'N5', 'N6', 'N7',\n",
    "                        'N8', 'N9', 'N10', 'N11', 'N12', 'N13', 'N14', 'N15', 'N16', 'O1', 'O2', 'O3', 'O4', \n",
    "                        'O5', 'O6', 'O7', 'O8', 'O9', 'O10', 'O11', 'O12', 'O13', 'O14', 'O15', 'O16', 'P1', \n",
    "                        'P2', 'P3', 'P4', 'P5', 'P6', 'P7', 'P8', 'P9', 'P10', 'P11', 'P12', 'P13', 'P14', \n",
    "                        'P15', 'P16', 'R2', 'R3', 'R4', 'R5', 'R6', 'R7', 'R8', 'R9', 'R10', 'R11', 'R12', \n",
    "                        'R13', 'R14', 'R15'],\n",
    "           'layer4':['K1', 'K2', 'K14', 'K15', 'K16', 'L2', 'L3', 'L4', 'L5', 'L6', 'L7', 'L8', 'L9', 'L10', 'L11', 'L12', \n",
    "                     'L13', 'L14', 'L15', 'L16', 'M4', 'M5', 'M6', 'M7', 'M8', 'M9', 'M10', 'M11', 'M12', 'M13', 'M14'],\n",
    "           'layer5-6':['K3', 'K4', 'K5', 'K6', 'K7', 'K8', 'K9', 'K10', 'K11', 'K12', 'K13', 'I1', 'I2', 'I3', 'I4', \n",
    "                       'I5', 'I6', 'I7', 'I8', 'I9', 'I10', 'I11', 'I12', 'I13', 'I14', 'I15', 'I16', 'H1', 'H2', 'H3', \n",
    "                       'H4', 'H5', 'H6', 'H7', 'H8', 'H9', 'H10', 'H11', 'H12', 'H13', 'H14', 'H15', 'H16', \n",
    "                      'G1', 'G2', 'G3', 'G4', 'G5', 'G6', 'G7', 'G8', 'G9', 'G10', 'G11', 'G12', 'G13', 'G14', 'G15', 'G16',\n",
    "                       'F1', 'F2', 'F3', 'F4', 'F5', 'F6', 'F7', 'F8', 'F9', 'F10', 'F11', 'F12', 'F13', 'F14', 'F15', 'F16',\n",
    "                       'E1', 'E2', 'E3', 'E4', 'E5', 'E6', 'E7', 'E8', 'E9', 'E10', 'E11', 'E12', 'E13', 'E14', 'E15', 'E16',\n",
    "                       'D1', 'D2', 'D3', 'D4', 'D5', 'D6', 'D7', 'D8', 'D9', 'D10', 'D11'],\n",
    "           'whitematter':['D12', 'D13', 'D14', 'D15', 'D16', 'C1', 'C2', 'C3', 'C4', 'C5', 'C6', 'C7', 'C8', 'C9', 'C10', \n",
    "                          'C11', 'C12', 'C13', 'C14', 'C15', 'C16', 'B1', 'B2', 'B3', 'B4', 'B5', 'B6', 'B7', 'B8', 'B9', \n",
    "                          'B10', 'B11', 'B12', 'B13', 'B14', 'B15', 'B16', 'A2', 'A3', 'A4', 'A5', 'A6', 'A7', 'A8', 'A9', \n",
    "                          'A10', 'A11', 'A12', 'A13', 'A14', 'A15' ]}"
   ]
  },
  {
   "cell_type": "code",
   "execution_count": 87,
   "metadata": {},
   "outputs": [],
   "source": [
    "# loop to invert\n",
    "layerdic_invert = {}\n",
    "\n",
    "for key in layerdic:\n",
    "    for i in layerdic[key]:\n",
    "        layerdic_invert[i]=key"
   ]
  },
  {
   "cell_type": "code",
   "execution_count": 148,
   "metadata": {},
   "outputs": [],
   "source": [
    "labeldic_invert = {}\n",
    "\n",
    "for key in labeldic:\n",
    "    keystring = str(labeldic[key])\n",
    "    labeldic_invert[keystring] = key"
   ]
  },
  {
   "cell_type": "code",
   "execution_count": 150,
   "metadata": {},
   "outputs": [
    {
     "data": {
      "text/plain": [
       "{'R12': 0,\n",
       " 'L10': 1,\n",
       " 'O10': 2,\n",
       " 'P11': 3,\n",
       " 'L9': 4,\n",
       " 'N9': 5,\n",
       " 'M8': 6,\n",
       " 'R8': 7,\n",
       " 'O6': 8,\n",
       " 'N7': 9,\n",
       " 'R4': 10,\n",
       " 'P5': 11,\n",
       " 'R2': 12,\n",
       " 'M5': 13,\n",
       " 'K6': 14,\n",
       " 'I8': 15,\n",
       " 'L2': 16,\n",
       " 'M1': 17,\n",
       " 'I4': 18,\n",
       " 'K3': 19,\n",
       " 'H1': 20,\n",
       " 'I6': 21,\n",
       " 'G4': 22,\n",
       " 'H5': 23,\n",
       " 'E2': 24,\n",
       " 'F3': 25,\n",
       " 'N13': 26,\n",
       " 'O14': 27,\n",
       " 'R13': 28,\n",
       " 'L11': 29,\n",
       " 'O11': 30,\n",
       " 'P12': 31,\n",
       " 'M9': 32,\n",
       " 'N10': 33,\n",
       " 'L8': 34,\n",
       " 'R9': 35,\n",
       " 'O7': 36,\n",
       " 'N8': 37,\n",
       " 'R5': 38,\n",
       " 'P6': 39,\n",
       " 'K7': 40,\n",
       " 'L7': 41,\n",
       " 'N4': 42,\n",
       " 'O3': 43,\n",
       " 'N1': 44,\n",
       " 'L6': 45,\n",
       " 'L3': 46,\n",
       " 'M2': 47,\n",
       " 'I5': 48,\n",
       " 'K4': 49,\n",
       " 'H6': 50,\n",
       " 'I1': 51,\n",
       " 'G3': 52,\n",
       " 'H4': 53,\n",
       " 'E1': 54,\n",
       " 'F2': 55,\n",
       " 'K13': 56,\n",
       " 'L16': 57,\n",
       " 'I12': 58,\n",
       " 'K15': 59,\n",
       " 'I16': 60,\n",
       " 'I14': 61,\n",
       " 'K10': 62,\n",
       " 'O16': 63,\n",
       " 'R14': 64,\n",
       " 'R15': 65,\n",
       " 'O12': 66,\n",
       " 'P13': 67,\n",
       " 'M10': 68,\n",
       " 'N11': 69,\n",
       " 'P9': 70,\n",
       " 'R10': 71,\n",
       " 'O8': 72,\n",
       " 'K8': 73,\n",
       " 'R6': 74,\n",
       " 'P7': 75,\n",
       " 'N5': 76,\n",
       " 'M6': 77,\n",
       " 'P3': 78,\n",
       " 'O4': 79,\n",
       " 'O1': 80,\n",
       " 'P1': 81,\n",
       " 'M3': 82,\n",
       " 'N2': 83,\n",
       " 'K5': 84,\n",
       " 'L4': 85,\n",
       " 'I2': 86,\n",
       " 'K1': 87,\n",
       " 'H3': 88,\n",
       " 'H7': 89,\n",
       " 'F1': 90,\n",
       " 'G2': 91,\n",
       " 'E4': 92,\n",
       " 'F5': 93,\n",
       " 'P14': 94,\n",
       " 'P15': 95,\n",
       " 'N12': 96,\n",
       " 'O13': 97,\n",
       " 'R11': 98,\n",
       " 'M11': 99,\n",
       " 'O9': 100,\n",
       " 'P10': 101,\n",
       " 'P8': 102,\n",
       " 'K9': 103,\n",
       " 'M7': 104,\n",
       " 'R7': 105,\n",
       " 'O5': 106,\n",
       " 'N6': 107,\n",
       " 'R3': 108,\n",
       " 'P4': 109,\n",
       " 'O2': 110,\n",
       " 'P2': 111,\n",
       " 'M4': 112,\n",
       " 'N3': 113,\n",
       " 'L1': 114,\n",
       " 'L5': 115,\n",
       " 'I3': 116,\n",
       " 'K2': 117,\n",
       " 'H2': 118,\n",
       " 'I7': 119,\n",
       " 'G5': 120,\n",
       " 'G1': 121,\n",
       " 'E3': 122,\n",
       " 'F4': 123,\n",
       " 'I9': 124,\n",
       " 'P16': 125,\n",
       " 'H8': 128,\n",
       " 'B1': 129,\n",
       " 'A5': 130,\n",
       " 'F7': 131,\n",
       " 'C7': 132,\n",
       " 'B6': 133,\n",
       " 'F8': 134,\n",
       " 'D8': 135,\n",
       " 'E9': 136,\n",
       " 'A9': 137,\n",
       " 'C11': 138,\n",
       " 'D10': 139,\n",
       " 'A15': 140,\n",
       " 'E12': 141,\n",
       " 'A13': 142,\n",
       " 'B12': 143,\n",
       " 'F13': 144,\n",
       " 'K16': 145,\n",
       " 'E16': 146,\n",
       " 'I15': 147,\n",
       " 'I13': 148,\n",
       " 'H10': 149,\n",
       " 'I11': 150,\n",
       " 'H14': 151,\n",
       " 'H12': 152,\n",
       " 'H16': 153,\n",
       " 'G7': 154,\n",
       " 'G6': 155,\n",
       " 'D4': 156,\n",
       " 'C3': 157,\n",
       " 'A4': 158,\n",
       " 'F6': 159,\n",
       " 'C6': 160,\n",
       " 'B5': 161,\n",
       " 'E8': 162,\n",
       " 'D7': 163,\n",
       " 'F9': 164,\n",
       " 'A8': 165,\n",
       " 'C10': 166,\n",
       " 'D9': 167,\n",
       " 'A12': 168,\n",
       " 'B11': 169,\n",
       " 'D13': 170,\n",
       " 'C14': 171,\n",
       " 'G10': 172,\n",
       " 'F10': 173,\n",
       " 'G13': 174,\n",
       " 'G15': 175,\n",
       " 'F14': 176,\n",
       " 'F16': 177,\n",
       " 'E15': 178,\n",
       " 'F12': 179,\n",
       " 'D16': 180,\n",
       " 'E13': 181,\n",
       " 'F11': 182,\n",
       " 'D14': 183,\n",
       " 'H11': 184,\n",
       " 'I10': 185,\n",
       " 'H13': 186,\n",
       " 'H15': 187,\n",
       " 'G14': 188,\n",
       " 'G16': 189,\n",
       " 'F15': 190,\n",
       " 'G12': 191,\n",
       " 'C2': 192,\n",
       " 'D3': 193,\n",
       " 'A3': 194,\n",
       " 'A2': 195,\n",
       " 'C5': 196,\n",
       " 'B4': 197,\n",
       " 'E7': 198,\n",
       " 'D6': 199,\n",
       " 'B8': 200,\n",
       " 'A7': 201,\n",
       " 'C9': 202,\n",
       " 'G9': 203,\n",
       " 'A11': 204,\n",
       " 'B10': 205,\n",
       " 'D12': 206,\n",
       " 'E11': 207,\n",
       " 'C16': 208,\n",
       " 'B16': 209,\n",
       " 'B14': 210,\n",
       " 'C13': 211,\n",
       " 'D15': 212,\n",
       " 'O15': 213,\n",
       " 'H9': 214,\n",
       " 'N14': 215,\n",
       " 'M12': 216,\n",
       " 'M13': 217,\n",
       " 'N16': 218,\n",
       " 'L12': 219,\n",
       " 'L14': 220,\n",
       " 'M15': 221,\n",
       " 'C1': 222,\n",
       " 'D2': 223,\n",
       " 'B3': 224,\n",
       " 'B2': 225,\n",
       " 'D5': 226,\n",
       " 'C4': 227,\n",
       " 'A6': 228,\n",
       " 'E6': 229,\n",
       " 'C8': 230,\n",
       " 'B7': 231,\n",
       " 'B9': 232,\n",
       " 'G8': 233,\n",
       " 'E10': 234,\n",
       " 'A10': 235,\n",
       " 'C12': 236,\n",
       " 'D11': 237,\n",
       " 'C15': 238,\n",
       " 'B15': 239,\n",
       " 'A14': 240,\n",
       " 'B13': 241,\n",
       " 'E14': 242,\n",
       " 'N15': 243,\n",
       " 'G11': 244,\n",
       " 'M14': 245,\n",
       " 'K11': 246,\n",
       " 'L13': 247,\n",
       " 'M16': 248,\n",
       " 'K12': 249,\n",
       " 'K14': 250,\n",
       " 'L15': 251,\n",
       " 'E5': 252,\n",
       " 'D1': 253}"
      ]
     },
     "execution_count": 150,
     "metadata": {},
     "output_type": "execute_result"
    }
   ],
   "source": [
    "labeldic_invert"
   ]
  },
  {
   "cell_type": "code",
   "execution_count": 36,
   "metadata": {},
   "outputs": [],
   "source": [
    "#load\n",
    "#sorting_SC = se.SpykingCircusSortingExtractor(outpath_SC)\n"
   ]
  },
  {
   "cell_type": "code",
   "execution_count": 22,
   "metadata": {},
   "outputs": [
    {
     "data": {
      "text/plain": [
       "<spikewidgets.widgets.mapswidget.templatemapswidget.UnitTemplateMapsWidget at 0x1e9bfb923a0>"
      ]
     },
     "execution_count": 22,
     "metadata": {},
     "output_type": "execute_result"
    },
    {
     "data": {
      "image/png": "[encoded data removed]",
      "text/plain": [
       "<Figure size 432x288 with 2 Axes>"
      ]
     },
     "metadata": {
      "needs_background": "light"
     },
     "output_type": "display_data"
    }
   ],
   "source": [
    "sw.plot_unit_template_maps(loaded['sec_0-300'],  sorted_dic['sec_0-300'], max_spikes_per_unit=100, unit_ids=[1])"
   ]
  },
  {
   "cell_type": "code",
   "execution_count": 23,
   "metadata": {},
   "outputs": [
    {
     "name": "stdout",
     "output_type": "stream",
     "text": [
      "{}\n"
     ]
    },
    {
     "data": {
      "image/png": "[encoded data removed]",
      "text/plain": [
       "<Figure size 432x288 with 2 Axes>"
      ]
     },
     "metadata": {
      "needs_background": "light"
     },
     "output_type": "display_data"
    }
   ],
   "source": [
    "w_wf = sw.plot_unit_waveforms(loaded['sec_0-300'],  sorted_dic['sec_0-300'], unit_ids=[101], color='#89D1D9')"
   ]
  },
  {
   "cell_type": "code",
   "execution_count": 132,
   "metadata": {},
   "outputs": [
    {
     "data": {
      "application/javascript": [
       "/* Put everything inside the global mpl namespace */\n",
       "window.mpl = {};\n",
       "\n",
       "\n",
       "mpl.get_websocket_type = function() {\n",
       "    if (typeof(WebSocket) !== 'undefined') {\n",
       "        return WebSocket;\n",
       "    } else if (typeof(MozWebSocket) !== 'undefined') {\n",
       "        return MozWebSocket;\n",
       "    } else {\n",
       "        alert('Your browser does not have WebSocket support. ' +\n",
       "              'Please try Chrome, Safari or Firefox ≥ 6. ' +\n",
       "              'Firefox 4 and 5 are also supported but you ' +\n",
       "              'have to enable WebSockets in about:config.');\n",
       "    };\n",
       "}\n",
       "\n",
       "mpl.figure = function(figure_id, websocket, ondownload, parent_element) {\n",
       "    this.id = figure_id;\n",
       "\n",
       "    this.ws = websocket;\n",
       "\n",
       "    this.supports_binary = (this.ws.binaryType != undefined);\n",
       "\n",
       "    if (!this.supports_binary) {\n",
       "        var warnings = document.getElementById(\"mpl-warnings\");\n",
       "        if (warnings) {\n",
       "            warnings.style.display = 'block';\n",
       "            warnings.textContent = (\n",
       "                \"This browser does not support binary websocket messages. \" +\n",
       "                    \"Performance may be slow.\");\n",
       "        }\n",
       "    }\n",
       "\n",
       "    this.imageObj = new Image();\n",
       "\n",
       "    this.context = undefined;\n",
       "    this.message = undefined;\n",
       "    this.canvas = undefined;\n",
       "    this.rubberband_canvas = undefined;\n",
       "    this.rubberband_context = undefined;\n",
       "    this.format_dropdown = undefined;\n",
       "\n",
       "    this.image_mode = 'full';\n",
       "\n",
       "    this.root = $('<div/>');\n",
       "    this._root_extra_style(this.root)\n",
       "    this.root.attr('style', 'display: inline-block');\n",
       "\n",
       "    $(parent_element).append(this.root);\n",
       "\n",
       "    this._init_header(this);\n",
       "    this._init_canvas(this);\n",
       "    this._init_toolbar(this);\n",
       "\n",
       "    var fig = this;\n",
       "\n",
       "    this.waiting = false;\n",
       "\n",
       "    this.ws.onopen =  function () {\n",
       "            fig.send_message(\"supports_binary\", {value: fig.supports_binary});\n",
       "            fig.send_message(\"send_image_mode\", {});\n",
       "            if (mpl.ratio != 1) {\n",
       "                fig.send_message(\"set_dpi_ratio\", {'dpi_ratio': mpl.ratio});\n",
       "            }\n",
       "            fig.send_message(\"refresh\", {});\n",
       "        }\n",
       "\n",
       "    this.imageObj.onload = function() {\n",
       "            if (fig.image_mode == 'full') {\n",
       "                // Full images could contain transparency (where diff images\n",
       "                // almost always do), so we need to clear the canvas so that\n",
       "                // there is no ghosting.\n",
       "                fig.context.clearRect(0, 0, fig.canvas.width, fig.canvas.height);\n",
       "            }\n",
       "            fig.context.drawImage(fig.imageObj, 0, 0);\n",
       "        };\n",
       "\n",
       "    this.imageObj.onunload = function() {\n",
       "        fig.ws.close();\n",
       "    }\n",
       "\n",
       "    this.ws.onmessage = this._make_on_message_function(this);\n",
       "\n",
       "    this.ondownload = ondownload;\n",
       "}\n",
       "\n",
       "mpl.figure.prototype._init_header = function() {\n",
       "    var titlebar = $(\n",
       "        '<div class=\"ui-dialog-titlebar ui-widget-header ui-corner-all ' +\n",
       "        'ui-helper-clearfix\"/>');\n",
       "    var titletext = $(\n",
       "        '<div class=\"ui-dialog-title\" style=\"width: 100%; ' +\n",
       "        'text-align: center; padding: 3px;\"/>');\n",
       "    titlebar.append(titletext)\n",
       "    this.root.append(titlebar);\n",
       "    this.header = titletext[0];\n",
       "}\n",
       "\n",
       "\n",
       "\n",
       "mpl.figure.prototype._canvas_extra_style = function(canvas_div) {\n",
       "\n",
       "}\n",
       "\n",
       "\n",
       "mpl.figure.prototype._root_extra_style = function(canvas_div) {\n",
       "\n",
       "}\n",
       "\n",
       "mpl.figure.prototype._init_canvas = function() {\n",
       "    var fig = this;\n",
       "\n",
       "    var canvas_div = $('<div/>');\n",
       "\n",
       "    canvas_div.attr('style', 'position: relative; clear: both; outline: 0');\n",
       "\n",
       "    function canvas_keyboard_event(event) {\n",
       "        return fig.key_event(event, event['data']);\n",
       "    }\n",
       "\n",
       "    canvas_div.keydown('key_press', canvas_keyboard_event);\n",
       "    canvas_div.keyup('key_release', canvas_keyboard_event);\n",
       "    this.canvas_div = canvas_div\n",
       "    this._canvas_extra_style(canvas_div)\n",
       "    this.root.append(canvas_div);\n",
       "\n",
       "    var canvas = $('<canvas/>');\n",
       "    canvas.addClass('mpl-canvas');\n",
       "    canvas.attr('style', \"left: 0; top: 0; z-index: 0; outline: 0\")\n",
       "\n",
       "    this.canvas = canvas[0];\n",
       "    this.context = canvas[0].getContext(\"2d\");\n",
       "\n",
       "    var backingStore = this.context.backingStorePixelRatio ||\n",
       "\tthis.context.webkitBackingStorePixelRatio ||\n",
       "\tthis.context.mozBackingStorePixelRatio ||\n",
       "\tthis.context.msBackingStorePixelRatio ||\n",
       "\tthis.context.oBackingStorePixelRatio ||\n",
       "\tthis.context.backingStorePixelRatio || 1;\n",
       "\n",
       "    mpl.ratio = (window.devicePixelRatio || 1) / backingStore;\n",
       "\n",
       "    var rubberband = $('<canvas/>');\n",
       "    rubberband.attr('style', \"position: absolute; left: 0; top: 0; z-index: 1;\")\n",
       "\n",
       "    var pass_mouse_events = true;\n",
       "\n",
       "    canvas_div.resizable({\n",
       "        start: function(event, ui) {\n",
       "            pass_mouse_events = false;\n",
       "        },\n",
       "        resize: function(event, ui) {\n",
       "            fig.request_resize(ui.size.width, ui.size.height);\n",
       "        },\n",
       "        stop: function(event, ui) {\n",
       "            pass_mouse_events = true;\n",
       "            fig.request_resize(ui.size.width, ui.size.height);\n",
       "        },\n",
       "    });\n",
       "\n",
       "    function mouse_event_fn(event) {\n",
       "        if (pass_mouse_events)\n",
       "            return fig.mouse_event(event, event['data']);\n",
       "    }\n",
       "\n",
       "    rubberband.mousedown('button_press', mouse_event_fn);\n",
       "    rubberband.mouseup('button_release', mouse_event_fn);\n",
       "    // Throttle sequential mouse events to 1 every 20ms.\n",
       "    rubberband.mousemove('motion_notify', mouse_event_fn);\n",
       "\n",
       "    rubberband.mouseenter('figure_enter', mouse_event_fn);\n",
       "    rubberband.mouseleave('figure_leave', mouse_event_fn);\n",
       "\n",
       "    canvas_div.on(\"wheel\", function (event) {\n",
       "        event = event.originalEvent;\n",
       "        event['data'] = 'scroll'\n",
       "        if (event.deltaY < 0) {\n",
       "            event.step = 1;\n",
       "        } else {\n",
       "            event.step = -1;\n",
       "        }\n",
       "        mouse_event_fn(event);\n",
       "    });\n",
       "\n",
       "    canvas_div.append(canvas);\n",
       "    canvas_div.append(rubberband);\n",
       "\n",
       "    this.rubberband = rubberband;\n",
       "    this.rubberband_canvas = rubberband[0];\n",
       "    this.rubberband_context = rubberband[0].getContext(\"2d\");\n",
       "    this.rubberband_context.strokeStyle = \"#000000\";\n",
       "\n",
       "    this._resize_canvas = function(width, height) {\n",
       "        // Keep the size of the canvas, canvas container, and rubber band\n",
       "        // canvas in synch.\n",
       "        canvas_div.css('width', width)\n",
       "        canvas_div.css('height', height)\n",
       "\n",
       "        canvas.attr('width', width * mpl.ratio);\n",
       "        canvas.attr('height', height * mpl.ratio);\n",
       "        canvas.attr('style', 'width: ' + width + 'px; height: ' + height + 'px;');\n",
       "\n",
       "        rubberband.attr('width', width);\n",
       "        rubberband.attr('height', height);\n",
       "    }\n",
       "\n",
       "    // Set the figure to an initial 600x600px, this will subsequently be updated\n",
       "    // upon first draw.\n",
       "    this._resize_canvas(600, 600);\n",
       "\n",
       "    // Disable right mouse context menu.\n",
       "    $(this.rubberband_canvas).bind(\"contextmenu\",function(e){\n",
       "        return false;\n",
       "    });\n",
       "\n",
       "    function set_focus () {\n",
       "        canvas.focus();\n",
       "        canvas_div.focus();\n",
       "    }\n",
       "\n",
       "    window.setTimeout(set_focus, 100);\n",
       "}\n",
       "\n",
       "mpl.figure.prototype._init_toolbar = function() {\n",
       "    var fig = this;\n",
       "\n",
       "    var nav_element = $('<div/>');\n",
       "    nav_element.attr('style', 'width: 100%');\n",
       "    this.root.append(nav_element);\n",
       "\n",
       "    // Define a callback function for later on.\n",
       "    function toolbar_event(event) {\n",
       "        return fig.toolbar_button_onclick(event['data']);\n",
       "    }\n",
       "    function toolbar_mouse_event(event) {\n",
       "        return fig.toolbar_button_onmouseover(event['data']);\n",
       "    }\n",
       "\n",
       "    for(var toolbar_ind in mpl.toolbar_items) {\n",
       "        var name = mpl.toolbar_items[toolbar_ind][0];\n",
       "        var tooltip = mpl.toolbar_items[toolbar_ind][1];\n",
       "        var image = mpl.toolbar_items[toolbar_ind][2];\n",
       "        var method_name = mpl.toolbar_items[toolbar_ind][3];\n",
       "\n",
       "        if (!name) {\n",
       "            // put a spacer in here.\n",
       "            continue;\n",
       "        }\n",
       "        var button = $('<button/>');\n",
       "        button.addClass('ui-button ui-widget ui-state-default ui-corner-all ' +\n",
       "                        'ui-button-icon-only');\n",
       "        button.attr('role', 'button');\n",
       "        button.attr('aria-disabled', 'false');\n",
       "        button.click(method_name, toolbar_event);\n",
       "        button.mouseover(tooltip, toolbar_mouse_event);\n",
       "\n",
       "        var icon_img = $('<span/>');\n",
       "        icon_img.addClass('ui-button-icon-primary ui-icon');\n",
       "        icon_img.addClass(image);\n",
       "        icon_img.addClass('ui-corner-all');\n",
       "\n",
       "        var tooltip_span = $('<span/>');\n",
       "        tooltip_span.addClass('ui-button-text');\n",
       "        tooltip_span.html(tooltip);\n",
       "\n",
       "        button.append(icon_img);\n",
       "        button.append(tooltip_span);\n",
       "\n",
       "        nav_element.append(button);\n",
       "    }\n",
       "\n",
       "    var fmt_picker_span = $('<span/>');\n",
       "\n",
       "    var fmt_picker = $('<select/>');\n",
       "    fmt_picker.addClass('mpl-toolbar-option ui-widget ui-widget-content');\n",
       "    fmt_picker_span.append(fmt_picker);\n",
       "    nav_element.append(fmt_picker_span);\n",
       "    this.format_dropdown = fmt_picker[0];\n",
       "\n",
       "    for (var ind in mpl.extensions) {\n",
       "        var fmt = mpl.extensions[ind];\n",
       "        var option = $(\n",
       "            '<option/>', {selected: fmt === mpl.default_extension}).html(fmt);\n",
       "        fmt_picker.append(option);\n",
       "    }\n",
       "\n",
       "    // Add hover states to the ui-buttons\n",
       "    $( \".ui-button\" ).hover(\n",
       "        function() { $(this).addClass(\"ui-state-hover\");},\n",
       "        function() { $(this).removeClass(\"ui-state-hover\");}\n",
       "    );\n",
       "\n",
       "    var status_bar = $('<span class=\"mpl-message\"/>');\n",
       "    nav_element.append(status_bar);\n",
       "    this.message = status_bar[0];\n",
       "}\n",
       "\n",
       "mpl.figure.prototype.request_resize = function(x_pixels, y_pixels) {\n",
       "    // Request matplotlib to resize the figure. Matplotlib will then trigger a resize in the client,\n",
       "    // which will in turn request a refresh of the image.\n",
       "    this.send_message('resize', {'width': x_pixels, 'height': y_pixels});\n",
       "}\n",
       "\n",
       "mpl.figure.prototype.send_message = function(type, properties) {\n",
       "    properties['type'] = type;\n",
       "    properties['figure_id'] = this.id;\n",
       "    this.ws.send(JSON.stringify(properties));\n",
       "}\n",
       "\n",
       "mpl.figure.prototype.send_draw_message = function() {\n",
       "    if (!this.waiting) {\n",
       "        this.waiting = true;\n",
       "        this.ws.send(JSON.stringify({type: \"draw\", figure_id: this.id}));\n",
       "    }\n",
       "}\n",
       "\n",
       "\n",
       "mpl.figure.prototype.handle_save = function(fig, msg) {\n",
       "    var format_dropdown = fig.format_dropdown;\n",
       "    var format = format_dropdown.options[format_dropdown.selectedIndex].value;\n",
       "    fig.ondownload(fig, format);\n",
       "}\n",
       "\n",
       "\n",
       "mpl.figure.prototype.handle_resize = function(fig, msg) {\n",
       "    var size = msg['size'];\n",
       "    if (size[0] != fig.canvas.width || size[1] != fig.canvas.height) {\n",
       "        fig._resize_canvas(size[0], size[1]);\n",
       "        fig.send_message(\"refresh\", {});\n",
       "    };\n",
       "}\n",
       "\n",
       "mpl.figure.prototype.handle_rubberband = function(fig, msg) {\n",
       "    var x0 = msg['x0'] / mpl.ratio;\n",
       "    var y0 = (fig.canvas.height - msg['y0']) / mpl.ratio;\n",
       "    var x1 = msg['x1'] / mpl.ratio;\n",
       "    var y1 = (fig.canvas.height - msg['y1']) / mpl.ratio;\n",
       "    x0 = Math.floor(x0) + 0.5;\n",
       "    y0 = Math.floor(y0) + 0.5;\n",
       "    x1 = Math.floor(x1) + 0.5;\n",
       "    y1 = Math.floor(y1) + 0.5;\n",
       "    var min_x = Math.min(x0, x1);\n",
       "    var min_y = Math.min(y0, y1);\n",
       "    var width = Math.abs(x1 - x0);\n",
       "    var height = Math.abs(y1 - y0);\n",
       "\n",
       "    fig.rubberband_context.clearRect(\n",
       "        0, 0, fig.canvas.width / mpl.ratio, fig.canvas.height / mpl.ratio);\n",
       "\n",
       "    fig.rubberband_context.strokeRect(min_x, min_y, width, height);\n",
       "}\n",
       "\n",
       "mpl.figure.prototype.handle_figure_label = function(fig, msg) {\n",
       "    // Updates the figure title.\n",
       "    fig.header.textContent = msg['label'];\n",
       "}\n",
       "\n",
       "mpl.figure.prototype.handle_cursor = function(fig, msg) {\n",
       "    var cursor = msg['cursor'];\n",
       "    switch(cursor)\n",
       "    {\n",
       "    case 0:\n",
       "        cursor = 'pointer';\n",
       "        break;\n",
       "    case 1:\n",
       "        cursor = 'default';\n",
       "        break;\n",
       "    case 2:\n",
       "        cursor = 'crosshair';\n",
       "        break;\n",
       "    case 3:\n",
       "        cursor = 'move';\n",
       "        break;\n",
       "    }\n",
       "    fig.rubberband_canvas.style.cursor = cursor;\n",
       "}\n",
       "\n",
       "mpl.figure.prototype.handle_message = function(fig, msg) {\n",
       "    fig.message.textContent = msg['message'];\n",
       "}\n",
       "\n",
       "mpl.figure.prototype.handle_draw = function(fig, msg) {\n",
       "    // Request the server to send over a new figure.\n",
       "    fig.send_draw_message();\n",
       "}\n",
       "\n",
       "mpl.figure.prototype.handle_image_mode = function(fig, msg) {\n",
       "    fig.image_mode = msg['mode'];\n",
       "}\n",
       "\n",
       "mpl.figure.prototype.updated_canvas_event = function() {\n",
       "    // Called whenever the canvas gets updated.\n",
       "    this.send_message(\"ack\", {});\n",
       "}\n",
       "\n",
       "// A function to construct a web socket function for onmessage handling.\n",
       "// Called in the figure constructor.\n",
       "mpl.figure.prototype._make_on_message_function = function(fig) {\n",
       "    return function socket_on_message(evt) {\n",
       "        if (evt.data instanceof Blob) {\n",
       "            /* FIXME: We get \"Resource interpreted as Image but\n",
       "             * transferred with MIME type text/plain:\" errors on\n",
       "             * Chrome.  But how to set the MIME type?  It doesn't seem\n",
       "             * to be part of the websocket stream */\n",
       "            evt.data.type = \"image/png\";\n",
       "\n",
       "            /* Free the memory for the previous frames */\n",
       "            if (fig.imageObj.src) {\n",
       "                (window.URL || window.webkitURL).revokeObjectURL(\n",
       "                    fig.imageObj.src);\n",
       "            }\n",
       "\n",
       "            fig.imageObj.src = (window.URL || window.webkitURL).createObjectURL(\n",
       "                evt.data);\n",
       "            fig.updated_canvas_event();\n",
       "            fig.waiting = false;\n",
       "            return;\n",
       "        }\n",
       "        else if (typeof evt.data === 'string' && evt.data.slice(0, 21) == \"data:image/png;base64\") {\n",
       "            fig.imageObj.src = evt.data;\n",
       "            fig.updated_canvas_event();\n",
       "            fig.waiting = false;\n",
       "            return;\n",
       "        }\n",
       "\n",
       "        var msg = JSON.parse(evt.data);\n",
       "        var msg_type = msg['type'];\n",
       "\n",
       "        // Call the  \"handle_{type}\" callback, which takes\n",
       "        // the figure and JSON message as its only arguments.\n",
       "        try {\n",
       "            var callback = fig[\"handle_\" + msg_type];\n",
       "        } catch (e) {\n",
       "            console.log(\"No handler for the '\" + msg_type + \"' message type: \", msg);\n",
       "            return;\n",
       "        }\n",
       "\n",
       "        if (callback) {\n",
       "            try {\n",
       "                // console.log(\"Handling '\" + msg_type + \"' message: \", msg);\n",
       "                callback(fig, msg);\n",
       "            } catch (e) {\n",
       "                console.log(\"Exception inside the 'handler_\" + msg_type + \"' callback:\", e, e.stack, msg);\n",
       "            }\n",
       "        }\n",
       "    };\n",
       "}\n",
       "\n",
       "// from http://stackoverflow.com/questions/1114465/getting-mouse-location-in-canvas\n",
       "mpl.findpos = function(e) {\n",
       "    //this section is from http://www.quirksmode.org/js/events_properties.html\n",
       "    var targ;\n",
       "    if (!e)\n",
       "        e = window.event;\n",
       "    if (e.target)\n",
       "        targ = e.target;\n",
       "    else if (e.srcElement)\n",
       "        targ = e.srcElement;\n",
       "    if (targ.nodeType == 3) // defeat Safari bug\n",
       "        targ = targ.parentNode;\n",
       "\n",
       "    // jQuery normalizes the pageX and pageY\n",
       "    // pageX,Y are the mouse positions relative to the document\n",
       "    // offset() returns the position of the element relative to the document\n",
       "    var x = e.pageX - $(targ).offset().left;\n",
       "    var y = e.pageY - $(targ).offset().top;\n",
       "\n",
       "    return {\"x\": x, \"y\": y};\n",
       "};\n",
       "\n",
       "/*\n",
       " * return a copy of an object with only non-object keys\n",
       " * we need this to avoid circular references\n",
       " * http://stackoverflow.com/a/24161582/3208463\n",
       " */\n",
       "function simpleKeys (original) {\n",
       "  return Object.keys(original).reduce(function (obj, key) {\n",
       "    if (typeof original[key] !== 'object')\n",
       "        obj[key] = original[key]\n",
       "    return obj;\n",
       "  }, {});\n",
       "}\n",
       "\n",
       "mpl.figure.prototype.mouse_event = function(event, name) {\n",
       "    var canvas_pos = mpl.findpos(event)\n",
       "\n",
       "    if (name === 'button_press')\n",
       "    {\n",
       "        this.canvas.focus();\n",
       "        this.canvas_div.focus();\n",
       "    }\n",
       "\n",
       "    var x = canvas_pos.x * mpl.ratio;\n",
       "    var y = canvas_pos.y * mpl.ratio;\n",
       "\n",
       "    this.send_message(name, {x: x, y: y, button: event.button,\n",
       "                             step: event.step,\n",
       "                             guiEvent: simpleKeys(event)});\n",
       "\n",
       "    /* This prevents the web browser from automatically changing to\n",
       "     * the text insertion cursor when the button is pressed.  We want\n",
       "     * to control all of the cursor setting manually through the\n",
       "     * 'cursor' event from matplotlib */\n",
       "    event.preventDefault();\n",
       "    return false;\n",
       "}\n",
       "\n",
       "mpl.figure.prototype._key_event_extra = function(event, name) {\n",
       "    // Handle any extra behaviour associated with a key event\n",
       "}\n",
       "\n",
       "mpl.figure.prototype.key_event = function(event, name) {\n",
       "\n",
       "    // Prevent repeat events\n",
       "    if (name == 'key_press')\n",
       "    {\n",
       "        if (event.which === this._key)\n",
       "            return;\n",
       "        else\n",
       "            this._key = event.which;\n",
       "    }\n",
       "    if (name == 'key_release')\n",
       "        this._key = null;\n",
       "\n",
       "    var value = '';\n",
       "    if (event.ctrlKey && event.which != 17)\n",
       "        value += \"ctrl+\";\n",
       "    if (event.altKey && event.which != 18)\n",
       "        value += \"alt+\";\n",
       "    if (event.shiftKey && event.which != 16)\n",
       "        value += \"shift+\";\n",
       "\n",
       "    value += 'k';\n",
       "    value += event.which.toString();\n",
       "\n",
       "    this._key_event_extra(event, name);\n",
       "\n",
       "    this.send_message(name, {key: value,\n",
       "                             guiEvent: simpleKeys(event)});\n",
       "    return false;\n",
       "}\n",
       "\n",
       "mpl.figure.prototype.toolbar_button_onclick = function(name) {\n",
       "    if (name == 'download') {\n",
       "        this.handle_save(this, null);\n",
       "    } else {\n",
       "        this.send_message(\"toolbar_button\", {name: name});\n",
       "    }\n",
       "};\n",
       "\n",
       "mpl.figure.prototype.toolbar_button_onmouseover = function(tooltip) {\n",
       "    this.message.textContent = tooltip;\n",
       "};\n",
       "mpl.toolbar_items = [[\"Home\", \"Reset original view\", \"fa fa-home icon-home\", \"home\"], [\"Back\", \"Back to previous view\", \"fa fa-arrow-left icon-arrow-left\", \"back\"], [\"Forward\", \"Forward to next view\", \"fa fa-arrow-right icon-arrow-right\", \"forward\"], [\"\", \"\", \"\", \"\"], [\"Pan\", \"Pan axes with left mouse, zoom with right\", \"fa fa-arrows icon-move\", \"pan\"], [\"Zoom\", \"Zoom to rectangle\", \"fa fa-square-o icon-check-empty\", \"zoom\"], [\"\", \"\", \"\", \"\"], [\"Download\", \"Download plot\", \"fa fa-floppy-o icon-save\", \"download\"]];\n",
       "\n",
       "mpl.extensions = [\"eps\", \"jpeg\", \"pdf\", \"png\", \"ps\", \"raw\", \"svg\", \"tif\"];\n",
       "\n",
       "mpl.default_extension = \"png\";var comm_websocket_adapter = function(comm) {\n",
       "    // Create a \"websocket\"-like object which calls the given IPython comm\n",
       "    // object with the appropriate methods. Currently this is a non binary\n",
       "    // socket, so there is still some room for performance tuning.\n",
       "    var ws = {};\n",
       "\n",
       "    ws.close = function() {\n",
       "        comm.close()\n",
       "    };\n",
       "    ws.send = function(m) {\n",
       "        //console.log('sending', m);\n",
       "        comm.send(m);\n",
       "    };\n",
       "    // Register the callback with on_msg.\n",
       "    comm.on_msg(function(msg) {\n",
       "        //console.log('receiving', msg['content']['data'], msg);\n",
       "        // Pass the mpl event to the overridden (by mpl) onmessage function.\n",
       "        ws.onmessage(msg['content']['data'])\n",
       "    });\n",
       "    return ws;\n",
       "}\n",
       "\n",
       "mpl.mpl_figure_comm = function(comm, msg) {\n",
       "    // This is the function which gets called when the mpl process\n",
       "    // starts-up an IPython Comm through the \"matplotlib\" channel.\n",
       "\n",
       "    var id = msg.content.data.id;\n",
       "    // Get hold of the div created by the display call when the Comm\n",
       "    // socket was opened in Python.\n",
       "    var element = $(\"#\" + id);\n",
       "    var ws_proxy = comm_websocket_adapter(comm)\n",
       "\n",
       "    function ondownload(figure, format) {\n",
       "        window.open(figure.imageObj.src);\n",
       "    }\n",
       "\n",
       "    var fig = new mpl.figure(id, ws_proxy,\n",
       "                           ondownload,\n",
       "                           element.get(0));\n",
       "\n",
       "    // Call onopen now - mpl needs it, as it is assuming we've passed it a real\n",
       "    // web socket which is closed, not our websocket->open comm proxy.\n",
       "    ws_proxy.onopen();\n",
       "\n",
       "    fig.parent_element = element.get(0);\n",
       "    fig.cell_info = mpl.find_output_cell(\"<div id='\" + id + \"'></div>\");\n",
       "    if (!fig.cell_info) {\n",
       "        console.error(\"Failed to find cell for figure\", id, fig);\n",
       "        return;\n",
       "    }\n",
       "\n",
       "    var output_index = fig.cell_info[2]\n",
       "    var cell = fig.cell_info[0];\n",
       "\n",
       "};\n",
       "\n",
       "mpl.figure.prototype.handle_close = function(fig, msg) {\n",
       "    var width = fig.canvas.width/mpl.ratio\n",
       "    fig.root.unbind('remove')\n",
       "\n",
       "    // Update the output cell to use the data from the current canvas.\n",
       "    fig.push_to_output();\n",
       "    var dataURL = fig.canvas.toDataURL();\n",
       "    // Re-enable the keyboard manager in IPython - without this line, in FF,\n",
       "    // the notebook keyboard shortcuts fail.\n",
       "    IPython.keyboard_manager.enable()\n",
       "    $(fig.parent_element).html('<img src=\"' + dataURL + '\" width=\"' + width + '\">');\n",
       "    fig.close_ws(fig, msg);\n",
       "}\n",
       "\n",
       "mpl.figure.prototype.close_ws = function(fig, msg){\n",
       "    fig.send_message('closing', msg);\n",
       "    // fig.ws.close()\n",
       "}\n",
       "\n",
       "mpl.figure.prototype.push_to_output = function(remove_interactive) {\n",
       "    // Turn the data on the canvas into data in the output cell.\n",
       "    var width = this.canvas.width/mpl.ratio\n",
       "    var dataURL = this.canvas.toDataURL();\n",
       "    this.cell_info[1]['text/html'] = '<img src=\"' + dataURL + '\" width=\"' + width + '\">';\n",
       "}\n",
       "\n",
       "mpl.figure.prototype.updated_canvas_event = function() {\n",
       "    // Tell IPython that the notebook contents must change.\n",
       "    IPython.notebook.set_dirty(true);\n",
       "    this.send_message(\"ack\", {});\n",
       "    var fig = this;\n",
       "    // Wait a second, then push the new image to the DOM so\n",
       "    // that it is saved nicely (might be nice to debounce this).\n",
       "    setTimeout(function () { fig.push_to_output() }, 1000);\n",
       "}\n",
       "\n",
       "mpl.figure.prototype._init_toolbar = function() {\n",
       "    var fig = this;\n",
       "\n",
       "    var nav_element = $('<div/>');\n",
       "    nav_element.attr('style', 'width: 100%');\n",
       "    this.root.append(nav_element);\n",
       "\n",
       "    // Define a callback function for later on.\n",
       "    function toolbar_event(event) {\n",
       "        return fig.toolbar_button_onclick(event['data']);\n",
       "    }\n",
       "    function toolbar_mouse_event(event) {\n",
       "        return fig.toolbar_button_onmouseover(event['data']);\n",
       "    }\n",
       "\n",
       "    for(var toolbar_ind in mpl.toolbar_items){\n",
       "        var name = mpl.toolbar_items[toolbar_ind][0];\n",
       "        var tooltip = mpl.toolbar_items[toolbar_ind][1];\n",
       "        var image = mpl.toolbar_items[toolbar_ind][2];\n",
       "        var method_name = mpl.toolbar_items[toolbar_ind][3];\n",
       "\n",
       "        if (!name) { continue; };\n",
       "\n",
       "        var button = $('<button class=\"btn btn-default\" href=\"#\" title=\"' + name + '\"><i class=\"fa ' + image + ' fa-lg\"></i></button>');\n",
       "        button.click(method_name, toolbar_event);\n",
       "        button.mouseover(tooltip, toolbar_mouse_event);\n",
       "        nav_element.append(button);\n",
       "    }\n",
       "\n",
       "    // Add the status bar.\n",
       "    var status_bar = $('<span class=\"mpl-message\" style=\"text-align:right; float: right;\"/>');\n",
       "    nav_element.append(status_bar);\n",
       "    this.message = status_bar[0];\n",
       "\n",
       "    // Add the close button to the window.\n",
       "    var buttongrp = $('<div class=\"btn-group inline pull-right\"></div>');\n",
       "    var button = $('<button class=\"btn btn-mini btn-primary\" href=\"#\" title=\"Stop Interaction\"><i class=\"fa fa-power-off icon-remove icon-large\"></i></button>');\n",
       "    button.click(function (evt) { fig.handle_close(fig, {}); } );\n",
       "    button.mouseover('Stop Interaction', toolbar_mouse_event);\n",
       "    buttongrp.append(button);\n",
       "    var titlebar = this.root.find($('.ui-dialog-titlebar'));\n",
       "    titlebar.prepend(buttongrp);\n",
       "}\n",
       "\n",
       "mpl.figure.prototype._root_extra_style = function(el){\n",
       "    var fig = this\n",
       "    el.on(\"remove\", function(){\n",
       "\tfig.close_ws(fig, {});\n",
       "    });\n",
       "}\n",
       "\n",
       "mpl.figure.prototype._canvas_extra_style = function(el){\n",
       "    // this is important to make the div 'focusable\n",
       "    el.attr('tabindex', 0)\n",
       "    // reach out to IPython and tell the keyboard manager to turn it's self\n",
       "    // off when our div gets focus\n",
       "\n",
       "    // location in version 3\n",
       "    if (IPython.notebook.keyboard_manager) {\n",
       "        IPython.notebook.keyboard_manager.register_events(el);\n",
       "    }\n",
       "    else {\n",
       "        // location in version 2\n",
       "        IPython.keyboard_manager.register_events(el);\n",
       "    }\n",
       "\n",
       "}\n",
       "\n",
       "mpl.figure.prototype._key_event_extra = function(event, name) {\n",
       "    var manager = IPython.notebook.keyboard_manager;\n",
       "    if (!manager)\n",
       "        manager = IPython.keyboard_manager;\n",
       "\n",
       "    // Check for shift+enter\n",
       "    if (event.shiftKey && event.which == 13) {\n",
       "        this.canvas_div.blur();\n",
       "        // select the cell after this one\n",
       "        var index = IPython.notebook.find_cell_index(this.cell_info[0]);\n",
       "        IPython.notebook.select(index + 1);\n",
       "    }\n",
       "}\n",
       "\n",
       "mpl.figure.prototype.handle_save = function(fig, msg) {\n",
       "    fig.ondownload(fig, null);\n",
       "}\n",
       "\n",
       "\n",
       "mpl.find_output_cell = function(html_output) {\n",
       "    // Return the cell and output element which can be found *uniquely* in the notebook.\n",
       "    // Note - this is a bit hacky, but it is done because the \"notebook_saving.Notebook\"\n",
       "    // IPython event is triggered only after the cells have been serialised, which for\n",
       "    // our purposes (turning an active figure into a static one), is too late.\n",
       "    var cells = IPython.notebook.get_cells();\n",
       "    var ncells = cells.length;\n",
       "    for (var i=0; i<ncells; i++) {\n",
       "        var cell = cells[i];\n",
       "        if (cell.cell_type === 'code'){\n",
       "            for (var j=0; j<cell.output_area.outputs.length; j++) {\n",
       "                var data = cell.output_area.outputs[j];\n",
       "                if (data.data) {\n",
       "                    // IPython >= 3 moved mimebundle to data attribute of output\n",
       "                    data = data.data;\n",
       "                }\n",
       "                if (data['text/html'] == html_output) {\n",
       "                    return [cell, data, j];\n",
       "                }\n",
       "            }\n",
       "        }\n",
       "    }\n",
       "}\n",
       "\n",
       "// Register the function which deals with the matplotlib target/channel.\n",
       "// The kernel may be null if the page has been refreshed.\n",
       "if (IPython.notebook.kernel != null) {\n",
       "    IPython.notebook.kernel.comm_manager.register_target('matplotlib', mpl.mpl_figure_comm);\n",
       "}\n"
      ],
      "text/plain": [
       "<IPython.core.display.Javascript object>"
      ]
     },
     "metadata": {},
     "output_type": "display_data"
    },
    {
     "data": {
      "text/html": [
       "<img src=\"data:image/png;base64,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\" width=\"640\">"
      ],
      "text/plain": [
       "<IPython.core.display.HTML object>"
      ]
     },
     "metadata": {},
     "output_type": "display_data"
    },
    {
     "name": "stdout",
     "output_type": "stream",
     "text": [
      "{}\n"
     ]
    },
    {
     "data": {
      "text/plain": [
       "<spikewidgets.widgets.unitwaveformswidget.unitwaveformswidget.UnitTemplatesWidget at 0x2b8ac1f4e80>"
      ]
     },
     "execution_count": 132,
     "metadata": {},
     "output_type": "execute_result"
    }
   ],
   "source": [
    "sw.plot_unit_templates(loaded['sec_0-300'],  sorted_dic['sec_0-300'], unit_ids=[3], max_channels=1, )"
   ]
  },
  {
   "cell_type": "code",
   "execution_count": 283,
   "metadata": {},
   "outputs": [],
   "source": [
    "amplitudes = st.postprocessing.get_unit_amplitudes(loaded['sec_0-300'], sorted_dic['sec_0-300'])"
   ]
  },
  {
   "cell_type": "code",
   "execution_count": 293,
   "metadata": {},
   "outputs": [
    {
     "data": {
      "text/plain": [
       "5.267176434782609e-05"
      ]
     },
     "execution_count": 293,
     "metadata": {},
     "output_type": "execute_result"
    }
   ],
   "source": [
    "np.mean(amplitudes[2])"
   ]
  },
  {
   "cell_type": "code",
   "execution_count": 32,
   "metadata": {},
   "outputs": [],
   "source": [
    "def units_to_pandas_DataFrame(sorted_dic, recording_cache, dictkey, layerdic_invert):\n",
    "    \n",
    "    # creates pandas DataFrame only including the unit ids. the order will be confused because of the unit numbering ('1' instead of '001')\n",
    "    unit_ids = sorted_dic[dictkey].get_unit_ids()\n",
    "    unitframe = pd.DataFrame(\n",
    "        sorted_dic[dictkey].get_unit_ids(), \n",
    "        columns=['unit_ids']\n",
    "        )\n",
    "    \n",
    "    \n",
    "    \n",
    "    # calculate as many paramters as possible outside of the loop\n",
    "    recordings_seconds = recording_cache[dictkey].get_num_frames()/recording_cache[dictkey].get_sampling_frequency()\n",
    "    \n",
    "    features = st.postprocessing.compute_unit_template_features(\n",
    "        recording_cache[dictkey], \n",
    "        sorted_dic[dictkey], \n",
    "        as_dataframe=True\n",
    "        )\n",
    "    \n",
    "    quality_metrics = st.validation.compute_quality_metrics(\n",
    "        sorted_dic[dictkey], \n",
    "        recording_cache[dictkey], \n",
    "        metric_names=['firing_rate', 'isi_violation', 'snr', \n",
    "                      'amplitude_cutoff', 'presence_ratio'],\n",
    "        as_dataframe=True\n",
    "        )\n",
    "    \n",
    "    \n",
    "    for i in unit_ids:  \n",
    "        \n",
    "        # add channel with maximum amplitude\n",
    "        unitframe.loc[(unitframe['unit_ids']==i), 'max_channel']=st.postprocessing.get_unit_max_channels(\n",
    "            recording_cache[dictkey], sorted_dic[dictkey], unit_ids=[i]\n",
    "            )\n",
    "    \n",
    "        # get the channel label as on MCS MEA 256 chips\n",
    "        max_channel = int(unitframe.loc[(unitframe['unit_ids']==i)]['max_channel'])\n",
    "        unitframe.loc[(unitframe['unit_ids']==i), 'channellabel']= labeldic[max_channel]\n",
    "        \n",
    "        # get the number of spiks per unit\n",
    "        unitframe.loc[(unitframe['unit_ids']==i), 'n_spikes']=len(sorted_dic['sec_0-300'].get_unit_spike_train(unit_id=i))\n",
    "        \n",
    "        # add firing rate\n",
    "        unitframe.loc[(unitframe['unit_ids']==i), 'firing_rate']= unitframe.loc[(unitframe['unit_ids']==i)]['n_spikes']/recordings_seconds\n",
    "        \n",
    "        # add layer\n",
    "        labelkey = unitframe.loc[(unitframe['unit_ids']==i), 'channellabel'].values[0]\n",
    "        unitframe.loc[(unitframe['unit_ids']==i), 'layer']= layerdic_invert[labelkey]\n",
    "        \n",
    "        # add features\n",
    "        unitframe.loc[(unitframe['unit_ids']==i), 'ft_peak_to_valley']=features.loc[i]['peak_to_valley']\n",
    "        unitframe.loc[(unitframe['unit_ids']==i), 'ft_halfwidth']=features.loc[i]['halfwidth']\n",
    "        unitframe.loc[(unitframe['unit_ids']==i), 'ft_peak_trough_ratio']=features.loc[i]['peak_trough_ratio']\n",
    "        unitframe.loc[(unitframe['unit_ids']==i), 'ft_repolarization_slope']=features.loc[i]['repolarization_slope']\n",
    "        unitframe.loc[(unitframe['unit_ids']==i), 'ft_recovery_slope']=features.loc[i]['recovery_slope']\n",
    "\n",
    "        # add quality metrics\n",
    "        unitframe.loc[(unitframe['unit_ids']==i), 'qm_firing_rate']=quality_metrics.loc[i]['firing_rate']\n",
    "        unitframe.loc[(unitframe['unit_ids']==i), 'qm_isi_violation']=quality_metrics.loc[i]['isi_violation']\n",
    "        unitframe.loc[(unitframe['unit_ids']==i), 'qm_amplitude_cutoff']=quality_metrics.loc[i]['amplitude_cutoff']\n",
    "        unitframe.loc[(unitframe['unit_ids']==i), 'qm_presence_ratio']=quality_metrics.loc[i]['presence_ratio']\n",
    "        unitframe.loc[(unitframe['unit_ids']==i), 'qm_snr']=quality_metrics.loc[i]['snr']\n",
    "        \n",
    "    return unitframe"
   ]
  },
  {
   "cell_type": "code",
   "execution_count": 33,
   "metadata": {},
   "outputs": [
    {
     "name": "stderr",
     "output_type": "stream",
     "text": [
      "C:\\Users\\User\\anaconda3\\lib\\site-packages\\scipy\\stats\\_stats_mstats_common.py:130: RuntimeWarning: invalid value encountered in double_scalars\n",
      "  slope = r_num / ssxm\n",
      "C:\\Users\\User\\anaconda3\\lib\\site-packages\\scipy\\stats\\_stats_mstats_common.py:140: RuntimeWarning: invalid value encountered in sqrt\n",
      "  t = r * np.sqrt(df / ((1.0 - r + TINY)*(1.0 + r + TINY)))\n",
      "C:\\Users\\User\\anaconda3\\lib\\site-packages\\scipy\\stats\\_distn_infrastructure.py:1932: RuntimeWarning: invalid value encountered in less_equal\n",
      "  cond2 = cond0 & (x <= _a)\n",
      "C:\\Users\\User\\anaconda3\\lib\\site-packages\\scipy\\stats\\_stats_mstats_common.py:142: RuntimeWarning: invalid value encountered in double_scalars\n",
      "  sterrest = np.sqrt((1 - r**2) * ssym / ssxm / df)\n"
     ]
    }
   ],
   "source": [
    "unitframe = units_to_pandas_DataFrame(\n",
    "    sorted_dic = sorted_dic,\n",
    "    recording_cache = loaded,\n",
    "    dictkey='sec_0-300')"
   ]
  },
  {
   "cell_type": "code",
   "execution_count": 38,
   "metadata": {},
   "outputs": [
    {
     "data": {
      "text/html": [
       "<div>\n",
       "<style scoped>\n",
       "    .dataframe tbody tr th:only-of-type {\n",
       "        vertical-align: middle;\n",
       "    }\n",
       "\n",
       "    .dataframe tbody tr th {\n",
       "        vertical-align: top;\n",
       "    }\n",
       "\n",
       "    .dataframe thead th {\n",
       "        text-align: right;\n",
       "    }\n",
       "</style>\n",
       "<table border=\"1\" class=\"dataframe\">\n",
       "  <thead>\n",
       "    <tr style=\"text-align: right;\">\n",
       "      <th></th>\n",
       "      <th>unit_ids</th>\n",
       "      <th>max_channel</th>\n",
       "      <th>channellabel</th>\n",
       "      <th>n_spikes</th>\n",
       "      <th>ft_peak_to_valley</th>\n",
       "      <th>ft_halfwidth</th>\n",
       "      <th>ft_peak_trough_ratio</th>\n",
       "      <th>ft_repolarization_slope</th>\n",
       "      <th>ft_recovery_slope</th>\n",
       "      <th>qm_firing_rate</th>\n",
       "      <th>qm_isi_violation</th>\n",
       "      <th>qm_amplitude_cutoff</th>\n",
       "      <th>qm_presence_ratio</th>\n",
       "      <th>qm_snr</th>\n",
       "    </tr>\n",
       "  </thead>\n",
       "  <tbody>\n",
       "    <tr>\n",
       "      <th>0</th>\n",
       "      <td>0</td>\n",
       "      <td>0.0</td>\n",
       "      <td>R12</td>\n",
       "      <td>471.0</td>\n",
       "      <td>0.00028</td>\n",
       "      <td>0.00016</td>\n",
       "      <td>-0.217778</td>\n",
       "      <td>0.096874</td>\n",
       "      <td>-0.001101</td>\n",
       "      <td>1.570000</td>\n",
       "      <td>1.370594</td>\n",
       "      <td>0.014265</td>\n",
       "      <td>1.00</td>\n",
       "      <td>3.861756</td>\n",
       "    </tr>\n",
       "    <tr>\n",
       "      <th>1</th>\n",
       "      <td>1</td>\n",
       "      <td>0.0</td>\n",
       "      <td>R12</td>\n",
       "      <td>643.0</td>\n",
       "      <td>0.00072</td>\n",
       "      <td>0.00020</td>\n",
       "      <td>-0.406593</td>\n",
       "      <td>0.031730</td>\n",
       "      <td>-0.004369</td>\n",
       "      <td>2.143333</td>\n",
       "      <td>2.696499</td>\n",
       "      <td>0.029983</td>\n",
       "      <td>1.00</td>\n",
       "      <td>3.123731</td>\n",
       "    </tr>\n",
       "    <tr>\n",
       "      <th>2</th>\n",
       "      <td>10</td>\n",
       "      <td>30.0</td>\n",
       "      <td>O11</td>\n",
       "      <td>23.0</td>\n",
       "      <td>0.00104</td>\n",
       "      <td>0.00024</td>\n",
       "      <td>-0.378968</td>\n",
       "      <td>0.198163</td>\n",
       "      <td>-0.015376</td>\n",
       "      <td>0.076667</td>\n",
       "      <td>0.000000</td>\n",
       "      <td>0.011251</td>\n",
       "      <td>0.17</td>\n",
       "      <td>13.500068</td>\n",
       "    </tr>\n",
       "    <tr>\n",
       "      <th>3</th>\n",
       "      <td>100</td>\n",
       "      <td>134.0</td>\n",
       "      <td>F8</td>\n",
       "      <td>197.0</td>\n",
       "      <td>0.00116</td>\n",
       "      <td>0.00576</td>\n",
       "      <td>0.801047</td>\n",
       "      <td>NaN</td>\n",
       "      <td>-0.002177</td>\n",
       "      <td>0.656667</td>\n",
       "      <td>5.223085</td>\n",
       "      <td>0.500000</td>\n",
       "      <td>0.87</td>\n",
       "      <td>4.189232</td>\n",
       "    </tr>\n",
       "    <tr>\n",
       "      <th>4</th>\n",
       "      <td>101</td>\n",
       "      <td>91.0</td>\n",
       "      <td>G2</td>\n",
       "      <td>1136.0</td>\n",
       "      <td>0.00116</td>\n",
       "      <td>0.00020</td>\n",
       "      <td>-0.130909</td>\n",
       "      <td>0.019108</td>\n",
       "      <td>-0.003019</td>\n",
       "      <td>3.786667</td>\n",
       "      <td>5.733182</td>\n",
       "      <td>0.124681</td>\n",
       "      <td>1.00</td>\n",
       "      <td>4.085365</td>\n",
       "    </tr>\n",
       "    <tr>\n",
       "      <th>...</th>\n",
       "      <td>...</td>\n",
       "      <td>...</td>\n",
       "      <td>...</td>\n",
       "      <td>...</td>\n",
       "      <td>...</td>\n",
       "      <td>...</td>\n",
       "      <td>...</td>\n",
       "      <td>...</td>\n",
       "      <td>...</td>\n",
       "      <td>...</td>\n",
       "      <td>...</td>\n",
       "      <td>...</td>\n",
       "      <td>...</td>\n",
       "      <td>...</td>\n",
       "    </tr>\n",
       "    <tr>\n",
       "      <th>742</th>\n",
       "      <td>95</td>\n",
       "      <td>61.0</td>\n",
       "      <td>I14</td>\n",
       "      <td>673.0</td>\n",
       "      <td>0.00088</td>\n",
       "      <td>0.00036</td>\n",
       "      <td>-0.237921</td>\n",
       "      <td>0.144965</td>\n",
       "      <td>-0.014230</td>\n",
       "      <td>2.243333</td>\n",
       "      <td>0.447537</td>\n",
       "      <td>0.054127</td>\n",
       "      <td>0.96</td>\n",
       "      <td>22.870489</td>\n",
       "    </tr>\n",
       "    <tr>\n",
       "      <th>743</th>\n",
       "      <td>96</td>\n",
       "      <td>71.0</td>\n",
       "      <td>R10</td>\n",
       "      <td>357.0</td>\n",
       "      <td>0.00076</td>\n",
       "      <td>0.00024</td>\n",
       "      <td>-0.178694</td>\n",
       "      <td>0.054005</td>\n",
       "      <td>-0.004573</td>\n",
       "      <td>1.190000</td>\n",
       "      <td>1.590461</td>\n",
       "      <td>0.000863</td>\n",
       "      <td>0.98</td>\n",
       "      <td>3.707802</td>\n",
       "    </tr>\n",
       "    <tr>\n",
       "      <th>744</th>\n",
       "      <td>97</td>\n",
       "      <td>71.0</td>\n",
       "      <td>R10</td>\n",
       "      <td>1174.0</td>\n",
       "      <td>0.00028</td>\n",
       "      <td>0.00024</td>\n",
       "      <td>-0.232653</td>\n",
       "      <td>0.065513</td>\n",
       "      <td>-0.006351</td>\n",
       "      <td>3.913333</td>\n",
       "      <td>0.220605</td>\n",
       "      <td>0.000863</td>\n",
       "      <td>1.00</td>\n",
       "      <td>3.121689</td>\n",
       "    </tr>\n",
       "    <tr>\n",
       "      <th>745</th>\n",
       "      <td>98</td>\n",
       "      <td>81.0</td>\n",
       "      <td>P1</td>\n",
       "      <td>470.0</td>\n",
       "      <td>0.00056</td>\n",
       "      <td>0.00016</td>\n",
       "      <td>-0.184000</td>\n",
       "      <td>0.053292</td>\n",
       "      <td>-0.002263</td>\n",
       "      <td>1.566667</td>\n",
       "      <td>0.917622</td>\n",
       "      <td>0.000863</td>\n",
       "      <td>1.00</td>\n",
       "      <td>3.980520</td>\n",
       "    </tr>\n",
       "    <tr>\n",
       "      <th>746</th>\n",
       "      <td>99</td>\n",
       "      <td>91.0</td>\n",
       "      <td>G2</td>\n",
       "      <td>75.0</td>\n",
       "      <td>0.00048</td>\n",
       "      <td>0.00036</td>\n",
       "      <td>-0.309417</td>\n",
       "      <td>0.076512</td>\n",
       "      <td>-0.013180</td>\n",
       "      <td>0.250000</td>\n",
       "      <td>0.000000</td>\n",
       "      <td>0.358568</td>\n",
       "      <td>0.55</td>\n",
       "      <td>6.625720</td>\n",
       "    </tr>\n",
       "  </tbody>\n",
       "</table>\n",
       "<p>747 rows × 14 columns</p>\n",
       "</div>"
      ],
      "text/plain": [
       "     unit_ids  max_channel channellabel  n_spikes  ft_peak_to_valley  \\\n",
       "0           0          0.0          R12     471.0            0.00028   \n",
       "1           1          0.0          R12     643.0            0.00072   \n",
       "2          10         30.0          O11      23.0            0.00104   \n",
       "3         100        134.0           F8     197.0            0.00116   \n",
       "4         101         91.0           G2    1136.0            0.00116   \n",
       "..        ...          ...          ...       ...                ...   \n",
       "742        95         61.0          I14     673.0            0.00088   \n",
       "743        96         71.0          R10     357.0            0.00076   \n",
       "744        97         71.0          R10    1174.0            0.00028   \n",
       "745        98         81.0           P1     470.0            0.00056   \n",
       "746        99         91.0           G2      75.0            0.00048   \n",
       "\n",
       "     ft_halfwidth  ft_peak_trough_ratio  ft_repolarization_slope  \\\n",
       "0         0.00016             -0.217778                 0.096874   \n",
       "1         0.00020             -0.406593                 0.031730   \n",
       "2         0.00024             -0.378968                 0.198163   \n",
       "3         0.00576              0.801047                      NaN   \n",
       "4         0.00020             -0.130909                 0.019108   \n",
       "..            ...                   ...                      ...   \n",
       "742       0.00036             -0.237921                 0.144965   \n",
       "743       0.00024             -0.178694                 0.054005   \n",
       "744       0.00024             -0.232653                 0.065513   \n",
       "745       0.00016             -0.184000                 0.053292   \n",
       "746       0.00036             -0.309417                 0.076512   \n",
       "\n",
       "     ft_recovery_slope  qm_firing_rate  qm_isi_violation  qm_amplitude_cutoff  \\\n",
       "0            -0.001101        1.570000          1.370594             0.014265   \n",
       "1            -0.004369        2.143333          2.696499             0.029983   \n",
       "2            -0.015376        0.076667          0.000000             0.011251   \n",
       "3            -0.002177        0.656667          5.223085             0.500000   \n",
       "4            -0.003019        3.786667          5.733182             0.124681   \n",
       "..                 ...             ...               ...                  ...   \n",
       "742          -0.014230        2.243333          0.447537             0.054127   \n",
       "743          -0.004573        1.190000          1.590461             0.000863   \n",
       "744          -0.006351        3.913333          0.220605             0.000863   \n",
       "745          -0.002263        1.566667          0.917622             0.000863   \n",
       "746          -0.013180        0.250000          0.000000             0.358568   \n",
       "\n",
       "     qm_presence_ratio     qm_snr  \n",
       "0                 1.00   3.861756  \n",
       "1                 1.00   3.123731  \n",
       "2                 0.17  13.500068  \n",
       "3                 0.87   4.189232  \n",
       "4                 1.00   4.085365  \n",
       "..                 ...        ...  \n",
       "742               0.96  22.870489  \n",
       "743               0.98   3.707802  \n",
       "744               1.00   3.121689  \n",
       "745               1.00   3.980520  \n",
       "746               0.55   6.625720  \n",
       "\n",
       "[747 rows x 14 columns]"
      ]
     },
     "execution_count": 38,
     "metadata": {},
     "output_type": "execute_result"
    }
   ],
   "source": [
    "unitframe"
   ]
  },
  {
   "cell_type": "code",
   "execution_count": 36,
   "metadata": {},
   "outputs": [],
   "source": [
    "unit_ids = sorted_dic['sec_0-300'].get_unit_ids()\n",
    "\n",
    "\n"
   ]
  },
  {
   "cell_type": "code",
   "execution_count": 120,
   "metadata": {},
   "outputs": [
    {
     "data": {
      "text/plain": [
       "248"
      ]
     },
     "execution_count": 120,
     "metadata": {},
     "output_type": "execute_result"
    }
   ],
   "source": [
    "len(unitframe['channellabel'].unique())"
   ]
  },
  {
   "cell_type": "markdown",
   "metadata": {},
   "source": [
    "# Waveforms and Template Plots"
   ]
  },
  {
   "cell_type": "code",
   "execution_count": 90,
   "metadata": {},
   "outputs": [],
   "source": [
    "# calculate waveforms \n",
    "wf = st.postprocessing.get_unit_waveforms(loaded[u], sorted_dic[u], ms_before=1, ms_after=2,\n",
    "                                          save_as_features=True, verbose=True)"
   ]
  },
  {
   "cell_type": "code",
   "execution_count": 91,
   "metadata": {},
   "outputs": [
    {
     "name": "stdout",
     "output_type": "stream",
     "text": [
      "['amplitudes', 'amplitudes_idxs', 'waveforms', 'waveforms_idxs']\n",
      "(300, 252, 148)\n"
     ]
    }
   ],
   "source": [
    "print(sorted_dic[u].get_shared_unit_spike_feature_names())\n",
    "print(wf[0].shape)"
   ]
  },
  {
   "cell_type": "code",
   "execution_count": 95,
   "metadata": {},
   "outputs": [],
   "source": [
    "#fig, ax = plt.subplots()\n",
    "#ax.plot(wf[0][:, 0, :].T, color='k', lw=0.3)"
   ]
  },
  {
   "cell_type": "code",
   "execution_count": 96,
   "metadata": {},
   "outputs": [],
   "source": [
    "templates = st.postprocessing.get_unit_templates(loaded[u], sorted_dic[u], max_spikes_per_unit=200, \n",
    "                                                 save_as_property=True, verbose=True)"
   ]
  },
  {
   "cell_type": "code",
   "execution_count": 313,
   "metadata": {},
   "outputs": [
    {
     "data": {
      "text/plain": [
       "unit_ids                          10\n",
       "max_channel                       30\n",
       "n_spikes                          23\n",
       "firing_rate                0.0766667\n",
       "firing_rate_2              0.0766667\n",
       "channellabel                     O11\n",
       "ft_peak_to_valley            0.00104\n",
       "ft_halfwidth                 0.00024\n",
       "ft_peak_trough_ratio       -0.378968\n",
       "ft_repolarization_slope     0.198163\n",
       "ft_recovery_slope          -0.015376\n",
       "qm_firing_rate             0.0766667\n",
       "qm_isi_violation                   0\n",
       "qm_snr                       13.5001\n",
       "qm_amplitude_cutoff        0.0112515\n",
       "qm_presence_ratio               0.17\n",
       "Name: 2, dtype: object"
      ]
     },
     "execution_count": 313,
     "metadata": {},
     "output_type": "execute_result"
    }
   ],
   "source": [
    "unitframe.loc[2]"
   ]
  },
  {
   "cell_type": "code",
   "execution_count": 314,
   "metadata": {},
   "outputs": [
    {
     "data": {
      "text/plain": [
       "[<matplotlib.lines.Line2D at 0x1f2c9100e20>]"
      ]
     },
     "execution_count": 314,
     "metadata": {},
     "output_type": "execute_result"
    },
    {
     "data": {
      "image/png": "[encoded data removed]",
      "text/plain": [
       "<Figure size 432x288 with 1 Axes>"
      ]
     },
     "metadata": {
      "needs_background": "light"
     },
     "output_type": "display_data"
    }
   ],
   "source": [
    "fig, ax = plt.subplots()\n",
    "ax.plot(templates[2][30].T, color='k')\n"
   ]
  },
  {
   "cell_type": "code",
   "execution_count": 308,
   "metadata": {},
   "outputs": [
    {
     "data": {
      "text/plain": [
       "'K7'"
      ]
     },
     "execution_count": 308,
     "metadata": {},
     "output_type": "execute_result"
    }
   ],
   "source": [
    "labeldic[40]"
   ]
  },
  {
   "cell_type": "markdown",
   "metadata": {},
   "source": [
    "idee: templates pro channel darstellen -> also den dataframe nach channel sortieren, dich mit key: channel, value: units"
   ]
  },
  {
   "cell_type": "code",
   "execution_count": 345,
   "metadata": {},
   "outputs": [],
   "source": [
    "unitlist_by_index = list(unitframe.loc[(unitframe['max_channel'])==0].index)"
   ]
  },
  {
   "cell_type": "code",
   "execution_count": 346,
   "metadata": {},
   "outputs": [],
   "source": [
    "unitlist_by_channel = list(unitframe.loc[(unitframe['max_channel'])==1]['unit_ids'])"
   ]
  },
  {
   "cell_type": "code",
   "execution_count": 347,
   "metadata": {},
   "outputs": [
    {
     "data": {
      "text/plain": [
       "[80, 81, 82]"
      ]
     },
     "execution_count": 347,
     "metadata": {},
     "output_type": "execute_result"
    }
   ],
   "source": [
    "unitlist_by_channel"
   ]
  },
  {
   "cell_type": "code",
   "execution_count": 320,
   "metadata": {},
   "outputs": [
    {
     "name": "stdout",
     "output_type": "stream",
     "text": [
      "Int64Index([0, 1], dtype='int64')\n"
     ]
    },
    {
     "data": {
      "text/plain": [
       "'R12'"
      ]
     },
     "execution_count": 320,
     "metadata": {},
     "output_type": "execute_result"
    }
   ],
   "source": [
    "j = 0 #entsprich dem maxchannel\n",
    "#j=labeldic_invert['F8'] \n",
    "unitlist_by_index=unitframe.loc[(unitframe['max_channel']==j)].index\n",
    "unitlist_by_channel = list(unitframe.loc[(unitframe['max_channel'])==j]['unit_ids'])\n",
    "print(unitlist_by_index)\n",
    "unitframe.loc[unitlist_by_index[0]]['channellabel']"
   ]
  },
  {
   "cell_type": "code",
   "execution_count": 321,
   "metadata": {},
   "outputs": [
    {
     "data": {
      "text/plain": [
       "0"
      ]
     },
     "execution_count": 321,
     "metadata": {},
     "output_type": "execute_result"
    }
   ],
   "source": [
    "labeldic_invert[unitframe.loc[unitlist_by_index[0]]['channellabel']]"
   ]
  },
  {
   "cell_type": "code",
   "execution_count": 322,
   "metadata": {},
   "outputs": [
    {
     "data": {
      "text/plain": [
       "<spikewidgets.widgets.rasterswidget.rasterswidget.RasterWidget at 0x1f4de6cb7c0>"
      ]
     },
     "execution_count": 322,
     "metadata": {},
     "output_type": "execute_result"
    },
    {
     "data": {
      "image/png": "[encoded data removed]",
      "text/plain": [
       "<Figure size 1080x720 with 5 Axes>"
      ]
     },
     "metadata": {},
     "output_type": "display_data"
    }
   ],
   "source": [
    "#colourlist = ['#D7D7D9', '#162473', '#449CA6', '#038C73', '#BF4417', '#7EBF88', '#D0F2D3', '#F2CB57']\n",
    "n = len(unitlist_by_index)\n",
    "colors = iter(cm.jet(np.linspace(0, 1, len(unitlist_by_index))))\n",
    "\n",
    "plt.style.use(\"seaborn-white\")\n",
    "\n",
    "#fig, ((ax1, ax2, ax3), (ax4, ax5, ax6)) = plt.subplots(2, 3, figsize=(15,10))\n",
    "\n",
    "fig, ((ax1, ax2), (ax3, ax4)) = plt.subplots(2, 2, figsize=(15,10))\n",
    "      \n",
    "sw.plot_unit_template_maps(loaded['sec_0-300'],  sorted_dic['sec_0-300'], max_spikes_per_unit=100, unit_ids=[(unitlist_by_channel[0])], ax=ax2)\n",
    "\n",
    "\n",
    "\n",
    "#ax3.plot(loaded['sec_0-300'].get_traces()[j])\n",
    "\n",
    "#sw.plot_timeseries(loaded['sec_0-300'], trange=[5, 8], ax=ax3,)\n",
    "\n",
    "#sw.plot_activity_map(loaded['sec_0-300'], ax=ax3)\n",
    "\n",
    "for i in unitlist_by_index:\n",
    "    colourcode = color=next(colors)\n",
    "    ax1.plot(templates[i][j].T, color=colourcode)\n",
    "    ax1.set_title(str(unitframe.loc[i]['channellabel']) + ' Unit Templates')\n",
    "\n",
    "    ax4.plot(wf[i][:, j, :].T, color=colourcode, lw=0.05)\n",
    "    ax4.set_title(str(unitframe.loc[i]['channellabel']) + ' Waveforms')\n",
    "    \n",
    "    \n",
    "sw.plot_rasters(sorted_dic[u], color='k', unit_ids=unitlist_by_channel, ax = ax5)\n",
    "\n",
    "#sw.plot_pca_features(sorting=sorted_dic[u], recording = loaded[u], unit_ids=unitlist_by_channel, ax=ax6)\n",
    "\n"
   ]
  },
  {
   "cell_type": "code",
   "execution_count": 336,
   "metadata": {},
   "outputs": [
    {
     "data": {
      "text/plain": [
       "<spikewidgets.widgets.mapswidget.templatemapswidget.UnitTemplateMapsWidget at 0x1f296e8f9a0>"
      ]
     },
     "execution_count": 336,
     "metadata": {},
     "output_type": "execute_result"
    },
    {
     "data": {
      "image/png": "[encoded data removed]",
      "text/plain": [
       "<Figure size 432x288 with 2 Axes>"
      ]
     },
     "metadata": {
      "needs_background": "light"
     },
     "output_type": "display_data"
    }
   ],
   "source": [
    "sw.plot_unit_template_maps(loaded['sec_0-300'],  sorted_dic['sec_0-300'], max_spikes_per_unit=100, unit_ids=[80], figure=)"
   ]
  },
  {
   "cell_type": "code",
   "execution_count": null,
   "metadata": {},
   "outputs": [],
   "source": [
    "Continue 22/04:\n",
    "    - fill in the dataframe with the other parameters\n",
    "    - dump/pickle the data frame\n",
    "    - make a plot for every unit"
   ]
  },
  {
   "cell_type": "code",
   "execution_count": null,
   "metadata": {},
   "outputs": [],
   "source": [
    "waveforms = st.postprocessing.get_unit_waveforms(loaded['sec_0-300'], sorted_dic['sec_0-300'], ms_before=1, ms_after=2,\n",
    "                                          save_as_features=True, verbose=True)"
   ]
  },
  {
   "cell_type": "code",
   "execution_count": 125,
   "metadata": {},
   "outputs": [],
   "source": [
    "u = 'sec_0-300'"
   ]
  },
  {
   "cell_type": "code",
   "execution_count": 309,
   "metadata": {},
   "outputs": [
    {
     "name": "stdout",
     "output_type": "stream",
     "text": [
      "R12\n",
      "Int64Index([0, 1], dtype='int64')\n",
      "O11\n",
      "Int64Index([2, 13, 430, 725, 736], dtype='int64')\n",
      "F8\n",
      "Int64Index([  3,   8,  41,  72,  74,  75,  76,  80,  96,  97,  98,  99, 100,\n",
      "            107, 171, 207, 223, 340, 512, 531, 532, 549, 603, 682],\n",
      "           dtype='int64')\n",
      "G2\n",
      "Int64Index([4, 5, 6, 7, 746], dtype='int64')\n",
      "P10\n",
      "Int64Index([9, 10, 11, 12], dtype='int64')\n"
     ]
    },
    {
     "data": {
      "text/plain": [
       "<map at 0x1f5b006ee50>"
      ]
     },
     "execution_count": 309,
     "metadata": {},
     "output_type": "execute_result"
    },
    {
     "data": {
      "image/png": "[encoded data removed]",
      "text/plain": [
       "<Figure size 2160x2160 with 256 Axes>"
      ]
     },
     "metadata": {},
     "output_type": "display_data"
    }
   ],
   "source": [
    "# plots stimmen noch nicht mit den eigentlichen channels überein\n",
    "\n",
    "\n",
    "fig, ax = plt.subplots(nrows=16, ncols=16, sharex=True, \n",
    "                       sharey=True,figsize=(30, 30))\n",
    "\n",
    "#colors = iter(cm.jet(np.linspace(0, 1, len(unitlist_by_index))))\n",
    "unique_labels = unitframe['channellabel'].unique()\n",
    "\n",
    "for channel in unique_labels[:5]:\n",
    "    # get the number of that channel (i.e, the max-channel)\n",
    "    j=labeldic_invert[channel]\n",
    "    print(channel)\n",
    "    \n",
    "    # gets the ax location for that channel m=letter, n=number\n",
    "    m = label_loc_dic[channel][0]\n",
    "    n = label_loc_dic[channel][1]\n",
    "  \n",
    "    unitlist_by_index=unitframe.loc[(unitframe['max_channel']==j)].index\n",
    "    unitlist_by_channel = list(unitframe.loc[(unitframe['max_channel'])==j]['unit_ids'])\n",
    "    print(unitlist_by_index)\n",
    "    unitframe.loc[unitlist_by_index[0]]['channellabel']\n",
    "    for i in unitlist_by_index:\n",
    "        ax[m,n].plot(templates[i][j].T, color='k')\n",
    "        ax[m,n].axis('off')\n",
    "\n",
    "ax[0,0].axis('off')\n",
    "ax[0,15].axis('off')\n",
    "ax[15,0].axis('off')\n",
    "ax[15,15].axis('off')\n",
    "\n",
    "map(lambda axi: axi.set_axis_off(), ax.ravel())\n",
    "\n",
    "\n",
    "\n",
    "\n",
    "\n",
    "# sw.plot_unit_waveforms(recording=recording_cache, sorting=sorting_SC, unit_ids=[0], color='b', max_channels=1,\n",
    "#                        set_title=None, axis_equal=True, figure=fig, ax=ax[15,15])\n",
    "    \n",
    "#fig.show()"
   ]
  },
  {
   "cell_type": "code",
   "execution_count": 295,
   "metadata": {},
   "outputs": [],
   "source": [
    "j=unitframe.loc[(unitframe['channellabel']==channel)]['max_channel'][:1]"
   ]
  },
  {
   "cell_type": "code",
   "execution_count": 300,
   "metadata": {},
   "outputs": [],
   "source": [
    "j=labeldic_invert[channel]"
   ]
  },
  {
   "cell_type": "code",
   "execution_count": 301,
   "metadata": {},
   "outputs": [
    {
     "data": {
      "text/plain": [
       "30"
      ]
     },
     "execution_count": 301,
     "metadata": {},
     "output_type": "execute_result"
    }
   ],
   "source": [
    "j"
   ]
  },
  {
   "cell_type": "code",
   "execution_count": 274,
   "metadata": {},
   "outputs": [],
   "source": [
    "j = int(unitframe.loc[(unitframe['channellabel']==channel)]['max_channel'][0])"
   ]
  },
  {
   "cell_type": "code",
   "execution_count": 275,
   "metadata": {},
   "outputs": [
    {
     "data": {
      "text/plain": [
       "0"
      ]
     },
     "execution_count": 275,
     "metadata": {},
     "output_type": "execute_result"
    }
   ],
   "source": [
    "j"
   ]
  },
  {
   "cell_type": "code",
   "execution_count": 216,
   "metadata": {},
   "outputs": [],
   "source": [
    "unique_channels = unitframe['max_channel'].unique()\n",
    "unique_labels = unitframe['channellabel'].unique()\n"
   ]
  },
  {
   "cell_type": "code",
   "execution_count": 255,
   "metadata": {},
   "outputs": [],
   "source": [
    "# short function to create ax locations according to MCS MEA Layout\n",
    "\n",
    "label_loc_dic = {}\n",
    "channels = list(labeldic.values())\n",
    "\n",
    "letters= []\n",
    "for key in labeldic:\n",
    "    letter = labeldic[key][:1]\n",
    "    letters.append(letter)\n",
    "letters = list(dict.fromkeys(letters))\n",
    "letters.sort()\n",
    "\n",
    "numbers = []\n",
    "for key in labeldic:\n",
    "    number = labeldic[key][1:]\n",
    "    numbers.append(number)\n",
    "numbers = list(dict.fromkeys(numbers))\n",
    "numbers.sort()\n",
    "    \n",
    "for i in channels:\n",
    "    letter = i[:1]\n",
    "    number = i[1:]\n",
    "    label_loc_dic[i] = [letters.index(letter), numbers.index(number)]"
   ]
  },
  {
   "cell_type": "code",
   "execution_count": 265,
   "metadata": {},
   "outputs": [
    {
     "data": {
      "text/plain": [
       "0.0"
      ]
     },
     "execution_count": 265,
     "metadata": {},
     "output_type": "execute_result"
    }
   ],
   "source": [
    "unitframe.loc[(unitframe['channellabel']=='R12')]['max_channel'][0]"
   ]
  },
  {
   "cell_type": "code",
   "execution_count": 276,
   "metadata": {},
   "outputs": [],
   "source": [
    "unitlist_by_index=unitframe.loc[(unitframe['max_channel']==j)].index"
   ]
  },
  {
   "cell_type": "code",
   "execution_count": 281,
   "metadata": {},
   "outputs": [
    {
     "data": {
      "text/plain": [
       "1"
      ]
     },
     "execution_count": 281,
     "metadata": {},
     "output_type": "execute_result"
    }
   ],
   "source": [
    "unitlist_by_index[1]"
   ]
  },
  {
   "cell_type": "code",
   "execution_count": null,
   "metadata": {},
   "outputs": [],
   "source": []
  },
  {
   "cell_type": "code",
   "execution_count": null,
   "metadata": {},
   "outputs": [],
   "source": []
  },
  {
   "cell_type": "code",
   "execution_count": null,
   "metadata": {},
   "outputs": [],
   "source": [
    "j = key #entsprich dem maxchannel\n",
    "unitlist_by_index=unitframe.loc[(unitframe['max_channel']==j)].index\n",
    "unitlist_by_channel = list(unitframe.loc[(unitframe['max_channel'])==j]['unit_ids'])\n",
    "print(unitlist_by_index)\n",
    "unitframe.loc[unitlist_by_index[0]]['channellabel']"
   ]
  },
  {
   "cell_type": "code",
   "execution_count": null,
   "metadata": {},
   "outputs": [],
   "source": [
    "colors = iter(cm.jet(np.linspace(0, 1, len(unitlist_by_index))))\n"
   ]
  },
  {
   "cell_type": "code",
   "execution_count": null,
   "metadata": {},
   "outputs": [],
   "source": [
    "for i in unitlist_by_index:\n",
    "    ax1.plot(templates[i][j].T, color=colourcode)\n",
    "    ax1.set_title(str(unitframe.loc[i]['channellabel']) + ' Unit Templates')"
   ]
  },
  {
   "cell_type": "code",
   "execution_count": null,
   "metadata": {},
   "outputs": [],
   "source": []
  },
  {
   "cell_type": "code",
   "execution_count": null,
   "metadata": {},
   "outputs": [],
   "source": []
  },
  {
   "cell_type": "code",
   "execution_count": null,
   "metadata": {},
   "outputs": [],
   "source": []
  },
  {
   "cell_type": "code",
   "execution_count": null,
   "metadata": {},
   "outputs": [],
   "source": []
  },
  {
   "cell_type": "code",
   "execution_count": 299,
   "metadata": {},
   "outputs": [
    {
     "data": {
      "text/plain": [
       "<spikewidgets.widgets.rasterswidget.rasterswidget.RasterWidget at 0x1f295a851c0>"
      ]
     },
     "execution_count": 299,
     "metadata": {},
     "output_type": "execute_result"
    },
    {
     "data": {
      "image/png": "[encoded data removed]",
      "text/plain": [
       "<Figure size 432x288 with 1 Axes>"
      ]
     },
     "metadata": {
      "needs_background": "light"
     },
     "output_type": "display_data"
    }
   ],
   "source": [
    "sw.plot_rasters(sorted_dic[u], color='b', unit_ids=[0, 1], trange=[0,100])"
   ]
  },
  {
   "cell_type": "markdown",
   "metadata": {},
   "source": [
    "NEXT: PANDAS DF mit rows für die unit, columns: channel, number of spikes, firing rate, from channel -> layer, quality metrics, template features, \n",
    "\n"
   ]
  },
  {
   "cell_type": "code",
   "execution_count": 83,
   "metadata": {},
   "outputs": [
    {
     "data": {
      "text/plain": [
       "['num_spikes',\n",
       " 'firing_rate',\n",
       " 'presence_ratio',\n",
       " 'isi_violation',\n",
       " 'amplitude_cutoff',\n",
       " 'snr',\n",
       " 'max_drift',\n",
       " 'cumulative_drift',\n",
       " 'silhouette_score',\n",
       " 'isolation_distance',\n",
       " 'l_ratio',\n",
       " 'd_prime',\n",
       " 'noise_overlap',\n",
       " 'nn_hit_rate',\n",
       " 'nn_miss_rate']"
      ]
     },
     "execution_count": 83,
     "metadata": {},
     "output_type": "execute_result"
    }
   ],
   "source": [
    "st.validation.get_quality_metrics_list()"
   ]
  },
  {
   "cell_type": "code",
   "execution_count": 201,
   "metadata": {},
   "outputs": [
    {
     "ename": "AttributeError",
     "evalue": "'dict' object has no attribute 'get_channel_ids'",
     "output_type": "error",
     "traceback": [
      "\u001b[1;31m---------------------------------------------------------------------------\u001b[0m",
      "\u001b[1;31mAttributeError\u001b[0m                            Traceback (most recent call last)",
      "\u001b[1;32m<ipython-input-201-34a8a4213184>\u001b[0m in \u001b[0;36m<module>\u001b[1;34m\u001b[0m\n\u001b[1;32m----> 1\u001b[1;33m features = st.postprocessing.compute_unit_template_features(\n\u001b[0m\u001b[0;32m      2\u001b[0m     \u001b[0mloaded\u001b[0m\u001b[1;33m,\u001b[0m \u001b[0msorted_dic\u001b[0m\u001b[1;33m[\u001b[0m\u001b[1;34m'sec_0-300'\u001b[0m\u001b[1;33m]\u001b[0m\u001b[1;33m,\u001b[0m \u001b[0mas_dataframe\u001b[0m\u001b[1;33m=\u001b[0m\u001b[1;32mFalse\u001b[0m\u001b[1;33m,\u001b[0m \u001b[0mupsampling_factor\u001b[0m\u001b[1;33m=\u001b[0m\u001b[1;36m10\u001b[0m\u001b[1;33m\u001b[0m\u001b[1;33m\u001b[0m\u001b[0m\n\u001b[0;32m      3\u001b[0m     )\n",
      "\u001b[1;32m~\\anaconda3\\lib\\site-packages\\spiketoolkit\\postprocessing\\features.py\u001b[0m in \u001b[0;36mcompute_unit_template_features\u001b[1;34m(recording, sorting, unit_ids, channel_ids, feature_names, max_channels_per_features, recovery_slope_window, upsampling_factor, invert_waveforms, as_dataframe, **kwargs)\u001b[0m\n\u001b[0;32m    110\u001b[0m \u001b[1;33m\u001b[0m\u001b[0m\n\u001b[0;32m    111\u001b[0m     \u001b[1;32mif\u001b[0m \u001b[0mchannel_ids\u001b[0m \u001b[1;32mis\u001b[0m \u001b[1;32mNone\u001b[0m\u001b[1;33m:\u001b[0m\u001b[1;33m\u001b[0m\u001b[1;33m\u001b[0m\u001b[0m\n\u001b[1;32m--> 112\u001b[1;33m         \u001b[0mchannel_ids\u001b[0m \u001b[1;33m=\u001b[0m \u001b[0mrecording\u001b[0m\u001b[1;33m.\u001b[0m\u001b[0mget_channel_ids\u001b[0m\u001b[1;33m(\u001b[0m\u001b[1;33m)\u001b[0m\u001b[1;33m\u001b[0m\u001b[1;33m\u001b[0m\u001b[0m\n\u001b[0m\u001b[0;32m    113\u001b[0m \u001b[1;33m\u001b[0m\u001b[0m\n\u001b[0;32m    114\u001b[0m     \u001b[1;32massert\u001b[0m \u001b[0mnp\u001b[0m\u001b[1;33m.\u001b[0m\u001b[0mall\u001b[0m\u001b[1;33m(\u001b[0m\u001b[1;33m[\u001b[0m\u001b[0mu\u001b[0m \u001b[1;32min\u001b[0m \u001b[0msorting\u001b[0m\u001b[1;33m.\u001b[0m\u001b[0mget_unit_ids\u001b[0m\u001b[1;33m(\u001b[0m\u001b[1;33m)\u001b[0m \u001b[1;32mfor\u001b[0m \u001b[0mu\u001b[0m \u001b[1;32min\u001b[0m \u001b[0munit_ids\u001b[0m\u001b[1;33m]\u001b[0m\u001b[1;33m)\u001b[0m\u001b[1;33m,\u001b[0m \u001b[1;34m\"Invalid unit_ids\"\u001b[0m\u001b[1;33m\u001b[0m\u001b[1;33m\u001b[0m\u001b[0m\n",
      "\u001b[1;31mAttributeError\u001b[0m: 'dict' object has no attribute 'get_channel_ids'"
     ]
    }
   ],
   "source": [
    "features = st.postprocessing.compute_unit_template_features(\n",
    "    loaded, sorted_dic['sec_0-300'], as_dataframe=False, upsampling_factor=10\n",
    "    )"
   ]
  },
  {
   "cell_type": "code",
   "execution_count": 55,
   "metadata": {},
   "outputs": [
    {
     "data": {
      "text/html": [
       "<div>\n",
       "<style scoped>\n",
       "    .dataframe tbody tr th:only-of-type {\n",
       "        vertical-align: middle;\n",
       "    }\n",
       "\n",
       "    .dataframe tbody tr th {\n",
       "        vertical-align: top;\n",
       "    }\n",
       "\n",
       "    .dataframe thead th {\n",
       "        text-align: right;\n",
       "    }\n",
       "</style>\n",
       "<table border=\"1\" class=\"dataframe\">\n",
       "  <thead>\n",
       "    <tr style=\"text-align: right;\">\n",
       "      <th></th>\n",
       "      <th>peak_to_valley</th>\n",
       "      <th>halfwidth</th>\n",
       "      <th>peak_trough_ratio</th>\n",
       "      <th>repolarization_slope</th>\n",
       "      <th>recovery_slope</th>\n",
       "    </tr>\n",
       "  </thead>\n",
       "  <tbody>\n",
       "    <tr>\n",
       "      <th>0</th>\n",
       "      <td>0.000744</td>\n",
       "      <td>0.000124</td>\n",
       "      <td>-0.265574</td>\n",
       "      <td>0.075042</td>\n",
       "      <td>-0.000977</td>\n",
       "    </tr>\n",
       "    <tr>\n",
       "      <th>1</th>\n",
       "      <td>0.000820</td>\n",
       "      <td>0.000328</td>\n",
       "      <td>-0.474439</td>\n",
       "      <td>0.027238</td>\n",
       "      <td>-0.002525</td>\n",
       "    </tr>\n",
       "    <tr>\n",
       "      <th>10</th>\n",
       "      <td>0.000916</td>\n",
       "      <td>0.000316</td>\n",
       "      <td>-0.314959</td>\n",
       "      <td>0.039820</td>\n",
       "      <td>-0.008185</td>\n",
       "    </tr>\n",
       "    <tr>\n",
       "      <th>100</th>\n",
       "      <td>0.000548</td>\n",
       "      <td>0.000248</td>\n",
       "      <td>-0.086883</td>\n",
       "      <td>0.046373</td>\n",
       "      <td>-0.001005</td>\n",
       "    </tr>\n",
       "    <tr>\n",
       "      <th>101</th>\n",
       "      <td>0.002952</td>\n",
       "      <td>0.000232</td>\n",
       "      <td>0.015183</td>\n",
       "      <td>NaN</td>\n",
       "      <td>NaN</td>\n",
       "    </tr>\n",
       "    <tr>\n",
       "      <th>...</th>\n",
       "      <td>...</td>\n",
       "      <td>...</td>\n",
       "      <td>...</td>\n",
       "      <td>...</td>\n",
       "      <td>...</td>\n",
       "    </tr>\n",
       "    <tr>\n",
       "      <th>95</th>\n",
       "      <td>0.000616</td>\n",
       "      <td>0.000284</td>\n",
       "      <td>-0.342646</td>\n",
       "      <td>0.052901</td>\n",
       "      <td>-0.008465</td>\n",
       "    </tr>\n",
       "    <tr>\n",
       "      <th>96</th>\n",
       "      <td>0.000376</td>\n",
       "      <td>0.000196</td>\n",
       "      <td>-0.217725</td>\n",
       "      <td>0.053803</td>\n",
       "      <td>-0.001766</td>\n",
       "    </tr>\n",
       "    <tr>\n",
       "      <th>97</th>\n",
       "      <td>0.000484</td>\n",
       "      <td>0.000172</td>\n",
       "      <td>-0.412964</td>\n",
       "      <td>0.056041</td>\n",
       "      <td>-0.006332</td>\n",
       "    </tr>\n",
       "    <tr>\n",
       "      <th>98</th>\n",
       "      <td>0.001016</td>\n",
       "      <td>0.000332</td>\n",
       "      <td>-0.178314</td>\n",
       "      <td>0.190320</td>\n",
       "      <td>-0.016595</td>\n",
       "    </tr>\n",
       "    <tr>\n",
       "      <th>99</th>\n",
       "      <td>0.000924</td>\n",
       "      <td>0.000332</td>\n",
       "      <td>-0.159931</td>\n",
       "      <td>0.194649</td>\n",
       "      <td>-0.014851</td>\n",
       "    </tr>\n",
       "  </tbody>\n",
       "</table>\n",
       "<p>502 rows × 5 columns</p>\n",
       "</div>"
      ],
      "text/plain": [
       "     peak_to_valley  halfwidth  peak_trough_ratio  repolarization_slope  \\\n",
       "0          0.000744   0.000124          -0.265574              0.075042   \n",
       "1          0.000820   0.000328          -0.474439              0.027238   \n",
       "10         0.000916   0.000316          -0.314959              0.039820   \n",
       "100        0.000548   0.000248          -0.086883              0.046373   \n",
       "101        0.002952   0.000232           0.015183                   NaN   \n",
       "..              ...        ...                ...                   ...   \n",
       "95         0.000616   0.000284          -0.342646              0.052901   \n",
       "96         0.000376   0.000196          -0.217725              0.053803   \n",
       "97         0.000484   0.000172          -0.412964              0.056041   \n",
       "98         0.001016   0.000332          -0.178314              0.190320   \n",
       "99         0.000924   0.000332          -0.159931              0.194649   \n",
       "\n",
       "     recovery_slope  \n",
       "0         -0.000977  \n",
       "1         -0.002525  \n",
       "10        -0.008185  \n",
       "100       -0.001005  \n",
       "101             NaN  \n",
       "..              ...  \n",
       "95        -0.008465  \n",
       "96        -0.001766  \n",
       "97        -0.006332  \n",
       "98        -0.016595  \n",
       "99        -0.014851  \n",
       "\n",
       "[502 rows x 5 columns]"
      ]
     },
     "execution_count": 55,
     "metadata": {},
     "output_type": "execute_result"
    }
   ],
   "source": [
    "features"
   ]
  },
  {
   "attachments": {
    "image.png": {
     "image/png": "[encoded data removed]"
    }
   },
   "cell_type": "markdown",
   "metadata": {},
   "source": [
    "![image.png](attachment:image.png)"
   ]
  },
  {
   "cell_type": "code",
   "execution_count": 53,
   "metadata": {},
   "outputs": [
    {
     "name": "stdout",
     "output_type": "stream",
     "text": [
      "ISI violations: [1.27377826e+00 0.00000000e+00 0.00000000e+00 3.97387959e+00\n",
      " 4.78976141e+00 0.00000000e+00 3.59827283e+00 1.79616053e+00\n",
      " 3.51914414e-01 0.00000000e+00 1.58361486e+00 0.00000000e+00\n",
      " 2.42349941e-01 4.32457803e-01 0.00000000e+00 3.19881806e-01\n",
      " 1.57278965e+00 0.00000000e+00 0.00000000e+00 0.00000000e+00\n",
      " 0.00000000e+00 0.00000000e+00 0.00000000e+00 6.19348108e+00\n",
      " 0.00000000e+00 0.00000000e+00 0.00000000e+00 0.00000000e+00\n",
      " 0.00000000e+00 2.91155850e+00 3.60251586e+00 9.52475696e+00\n",
      " 3.67714653e+00 0.00000000e+00 0.00000000e+00 1.21621622e+01\n",
      " 0.00000000e+00 0.00000000e+00 1.82654540e-01 0.00000000e+00\n",
      " 0.00000000e+00 2.41169188e-01 6.08846639e-01 3.81035977e-01\n",
      " 0.00000000e+00 0.00000000e+00 5.34887816e+00 1.20512903e+01\n",
      " 1.76544668e+01 0.00000000e+00 4.86036797e+00 0.00000000e+00\n",
      " 0.00000000e+00 0.00000000e+00 3.95903716e+01 0.00000000e+00\n",
      " 7.46754233e-01 8.35294212e+00 3.82133477e+00 0.00000000e+00\n",
      " 1.39850567e+00 0.00000000e+00 6.02564515e+00 1.32883014e+00\n",
      " 0.00000000e+00 6.52792951e+00 0.00000000e+00 0.00000000e+00\n",
      " 8.61739623e+00 0.00000000e+00 1.06631756e+00 0.00000000e+00\n",
      " 0.00000000e+00 1.49512721e+00 0.00000000e+00 5.60254012e-01\n",
      " 4.26527024e-01 3.26851980e+01 4.39865745e+00 0.00000000e+00\n",
      " 0.00000000e+00 1.05874855e+00 0.00000000e+00 0.00000000e+00\n",
      " 3.34758064e-01 4.41257584e-01 0.00000000e+00 0.00000000e+00\n",
      " 0.00000000e+00 0.00000000e+00 1.50730743e+00 9.00587876e+00\n",
      " 2.00200200e+01 3.72273100e+01 4.78479669e+00 1.85889891e-01\n",
      " 0.00000000e+00 0.00000000e+00 0.00000000e+00 4.06050895e+00\n",
      " 0.00000000e+00 5.81676718e-01 0.00000000e+00 2.62561291e+00\n",
      " 4.05405405e+00 3.19895268e+00 3.89663019e+00 0.00000000e+00\n",
      " 0.00000000e+00 4.73145671e-01 4.20576756e+00 1.98251947e+00\n",
      " 0.00000000e+00 1.94966435e-01 1.31830582e+00 7.03825338e-01\n",
      " 6.17901852e+00 9.09710731e+00 3.90352012e+00 0.00000000e+00\n",
      " 2.22444667e+00 1.12050802e+00 7.58270264e-01 4.01948647e+00\n",
      " 1.75469791e+00 0.00000000e+00 1.46842567e+00 6.88445057e-01\n",
      " 4.16910038e-01 5.23509046e+00 4.25756569e+00 0.00000000e+00\n",
      " 1.05464466e+01 3.72273100e+01 3.66773476e+00 0.00000000e+00\n",
      " 2.65572586e+00 0.00000000e+00 0.00000000e+00 0.00000000e+00\n",
      " 0.00000000e+00 3.99312093e+00 0.00000000e+00 1.19744035e+00\n",
      " 0.00000000e+00 9.08559823e+00 0.00000000e+00 2.58805200e+00\n",
      " 4.96811652e+00 5.61502251e+00 6.02922971e+00 9.37461916e+00\n",
      " 0.00000000e+00 0.00000000e+00 6.25601490e+00 1.12610825e+00\n",
      " 0.00000000e+00 0.00000000e+00 3.45903506e+00 2.01801802e+00\n",
      " 1.32462653e+00 1.63467285e-01 2.40501130e+00 2.31865598e+00\n",
      " 0.00000000e+00 0.00000000e+00 5.11810889e+00 0.00000000e+00\n",
      " 0.00000000e+00 3.90345179e+00 3.36714521e-01 1.68818432e+00\n",
      " 0.00000000e+00 0.00000000e+00 2.51351854e+00 4.39893018e+00\n",
      " 0.00000000e+00 1.45363909e+00 1.56400372e+00 0.00000000e+00\n",
      " 0.00000000e+00 0.00000000e+00 0.00000000e+00 2.32670687e+00\n",
      " 7.40331274e+00 1.21195015e+01 3.13778575e+00 2.98792321e-01\n",
      " 0.00000000e+00 0.00000000e+00 1.07717453e+00 0.00000000e+00\n",
      " 0.00000000e+00 4.31994678e+00 0.00000000e+00 1.63659498e+00\n",
      " 0.00000000e+00 0.00000000e+00 5.62983893e-01 9.83778799e+00\n",
      " 0.00000000e+00 0.00000000e+00 2.48575643e+00 1.43780667e-01\n",
      " 1.34036040e+00 2.69113554e+00 0.00000000e+00 3.21643958e+00\n",
      " 0.00000000e+00 0.00000000e+00 0.00000000e+00 1.97869413e+00\n",
      " 2.47439823e+00 5.53794694e+00 0.00000000e+00 0.00000000e+00\n",
      " 4.31994678e+00 2.86249120e+00 0.00000000e+00 2.72993009e+00\n",
      " 8.79786036e+00 0.00000000e+00 6.13794918e-01 5.49246091e+00\n",
      " 0.00000000e+00 0.00000000e+00 0.00000000e+00 1.34018316e+01\n",
      " 1.12894064e+00 0.00000000e+00 0.00000000e+00 4.99760115e+00\n",
      " 0.00000000e+00 2.18889085e+00 0.00000000e+00 4.16729330e+00\n",
      " 0.00000000e+00 0.00000000e+00 0.00000000e+00 0.00000000e+00\n",
      " 5.32195712e+00 2.10472131e+00 0.00000000e+00 0.00000000e+00\n",
      " 0.00000000e+00 3.31199601e+00 6.61886376e+01 0.00000000e+00\n",
      " 0.00000000e+00 0.00000000e+00 0.00000000e+00 0.00000000e+00\n",
      " 1.01793426e+00 0.00000000e+00 0.00000000e+00 1.15932799e+00\n",
      " 0.00000000e+00 0.00000000e+00 0.00000000e+00 2.23393399e-01\n",
      " 3.41883459e+00 1.08950660e+01 0.00000000e+00 0.00000000e+00\n",
      " 0.00000000e+00 1.01014356e+00 1.24724226e+00 0.00000000e+00\n",
      " 0.00000000e+00 4.69126139e+00 1.24778518e+01 1.90330913e+00\n",
      " 1.03288528e+00 4.79769711e+00 1.10403019e+00 0.00000000e+00\n",
      " 9.50941559e-01 0.00000000e+00 1.09973255e+00 6.91519450e-01\n",
      " 3.27926266e-01 0.00000000e+00 4.40559881e+00 0.00000000e+00\n",
      " 1.27678699e+00 1.21737881e+00 0.00000000e+00 0.00000000e+00\n",
      " 0.00000000e+00 1.17221705e+00 1.51868830e+01 0.00000000e+00\n",
      " 3.44588909e-01 5.74771369e+01 9.64676753e-01 8.93573597e-01\n",
      " 3.08095106e-01 0.00000000e+00 0.00000000e+00 0.00000000e+00\n",
      " 1.32900197e+00 1.80180180e+02 2.19077622e+00 0.00000000e+00\n",
      " 0.00000000e+00 4.05990031e-01 0.00000000e+00 6.89177818e-01\n",
      " 0.00000000e+00 0.00000000e+00 0.00000000e+00 0.00000000e+00\n",
      " 4.22072139e+00 2.07820277e-01 3.63409772e-01 1.13048057e+00\n",
      " 5.97412190e-01 0.00000000e+00 5.74771369e-01 0.00000000e+00\n",
      " 4.30142925e-01 8.38298623e-01 0.00000000e+00 0.00000000e+00\n",
      " 0.00000000e+00 0.00000000e+00 0.00000000e+00 2.35392890e-01\n",
      " 4.46727719e+00 3.36690285e+00 0.00000000e+00 0.00000000e+00\n",
      " 0.00000000e+00 5.94755840e+00 0.00000000e+00 4.58148226e+00\n",
      " 8.83463299e-01 4.12490969e-01 0.00000000e+00 9.19286634e+01\n",
      " 0.00000000e+00 0.00000000e+00 0.00000000e+00 2.18670908e+00\n",
      " 2.36115392e-01 1.55255765e+00 0.00000000e+00 0.00000000e+00\n",
      " 4.12641443e+00 5.67460885e-01 0.00000000e+00 0.00000000e+00\n",
      " 1.48909240e+00 0.00000000e+00 0.00000000e+00 6.73803998e+00\n",
      " 0.00000000e+00 0.00000000e+00 2.58522986e-01 8.85241954e-01\n",
      " 2.69176674e+00 0.00000000e+00 0.00000000e+00 0.00000000e+00\n",
      " 1.65523954e+00 0.00000000e+00 0.00000000e+00 1.06492545e-01\n",
      " 0.00000000e+00 2.26096114e+00 0.00000000e+00 0.00000000e+00\n",
      " 1.75405259e+00 3.36690285e-01 5.48393536e-01 0.00000000e+00\n",
      " 6.69516127e+00 3.61243400e-01 0.00000000e+00 8.04216238e+00\n",
      " 5.20812175e-01 0.00000000e+00 0.00000000e+00 1.91467094e-01\n",
      " 1.78378378e+00 0.00000000e+00 3.63409772e-01 0.00000000e+00\n",
      " 1.49928035e+01 1.01351351e+00 0.00000000e+00 3.02640722e-01\n",
      " 6.65684855e-01 5.52015094e-01 4.53146673e-01 0.00000000e+00\n",
      " 2.39372117e+00 7.30855247e+00 0.00000000e+00 0.00000000e+00\n",
      " 2.99856069e+01 2.02702703e+00 0.00000000e+00 5.77294988e-01\n",
      " 4.82051612e-01 0.00000000e+00 7.18226877e+00 7.82032032e+00\n",
      " 2.02702703e+02 5.79150579e+01 5.22308492e-01 6.69914412e-01\n",
      " 2.61154246e-01 5.47013534e-01 1.87410043e+00 0.00000000e+00\n",
      " 1.54682933e+00 0.00000000e+00 3.92104439e-01 0.00000000e+00\n",
      " 0.00000000e+00 1.75957207e+01 0.00000000e+00 0.00000000e+00\n",
      " 8.83149594e-01 0.00000000e+00 9.12903897e-01 0.00000000e+00\n",
      " 4.29424552e+00 1.08393907e+00 1.04461698e+00 2.86978137e-01\n",
      " 3.37085637e+00 0.00000000e+00 0.00000000e+00 0.00000000e+00\n",
      " 3.14557930e-01 0.00000000e+00 0.00000000e+00 1.58278706e+00\n",
      " 8.77348956e-01 0.00000000e+00 0.00000000e+00 9.64103223e-01\n",
      " 0.00000000e+00 0.00000000e+00 0.00000000e+00 0.00000000e+00\n",
      " 2.26454550e+00 3.35045790e+00 0.00000000e+00 0.00000000e+00\n",
      " 9.49773180e+00 6.47992017e+00 2.97818480e+00 0.00000000e+00\n",
      " 0.00000000e+00 0.00000000e+00 2.78518709e+00 0.00000000e+00\n",
      " 0.00000000e+00 3.94288059e+00 2.05858049e+00 0.00000000e+00\n",
      " 0.00000000e+00 6.05281444e-01 0.00000000e+00 0.00000000e+00\n",
      " 0.00000000e+00 1.17221705e+00 0.00000000e+00 0.00000000e+00\n",
      " 8.72961290e-01 2.36236470e+00 0.00000000e+00 0.00000000e+00\n",
      " 1.60683871e+01 0.00000000e+00 0.00000000e+00 2.44140832e+00\n",
      " 5.02703708e+00 0.00000000e+00 8.37393015e-01 8.07966768e-01\n",
      " 6.48648649e+01 0.00000000e+00 0.00000000e+00 0.00000000e+00\n",
      " 6.83534765e+00 0.00000000e+00 1.64518061e+01 2.48401477e+00\n",
      " 7.19469469e+00 9.74262340e+00 0.00000000e+00 1.45363909e+01\n",
      " 0.00000000e+00 3.11082178e-01 1.43623270e+00 1.16013085e+00\n",
      " 0.00000000e+00 0.00000000e+00]\n"
     ]
    }
   ],
   "source": [
    "\n",
    "duration = recording_cache.get_num_frames()\n",
    "isi_violations = st.validation.compute_isi_violations(sorting_SC, duration_in_frames=duration)\n",
    "print('ISI violations:', isi_violations)\n",
    "\n"
   ]
  },
  {
   "cell_type": "code",
   "execution_count": 58,
   "metadata": {},
   "outputs": [
    {
     "name": "stdout",
     "output_type": "stream",
     "text": [
      "SNRs: [ 3.68636627  4.99554308  3.18057177  4.21515235  6.48695524 16.47788306\n",
      "  6.74698088  3.09740276  3.54200631 19.45265132  6.05161192  6.83005729\n",
      "  3.14511229  3.73828337  2.63011315  3.10949338  3.39905298 10.83804256\n",
      "  9.25282723 10.05141044 10.31362115  4.25121935  4.28870312  2.84686789\n",
      "  4.35701429 12.63011502 28.11184901 18.85550848 19.49441414 18.82434235\n",
      "  3.83343396  9.16284214  6.9188808   3.41460294  5.7906752   2.68313285\n",
      " 49.35861244 51.28883751  5.57954422  7.9454734   5.8452368   5.54158814\n",
      "  5.37711178  3.21348321  3.35282604 19.21169203  4.33715866 16.37826537\n",
      "  6.91144262 10.2215205   5.74629521  6.67544271 10.97788751 23.47493722\n",
      " 19.81564139 19.25011385  5.76616313  7.51953204  3.50755759 12.44160584\n",
      "  3.03998822 25.88247795  2.56383036  3.52831893 10.8603286   3.89303387\n",
      "  4.13596312  3.34654212  7.89550864 10.04673394  3.63228073 11.1286899\n",
      "  9.67577761  2.50395523  8.84112586  3.29883371  3.45798832  5.09267642\n",
      "  3.18673465 11.68213013  7.05618529  3.51173838  3.73588247  3.88211033\n",
      "  3.62659602  3.37400255  5.65698837  3.94234034  5.13044291 25.04350375\n",
      "  6.40502997  7.13387659  7.76333629 14.53752163  4.34626935  3.46549528\n",
      " 16.56950144  9.78919973 12.51192023  3.866217   10.02227592  3.58272502\n",
      "  7.1587345   3.89689177  6.68244773  5.05152636  6.85564292 26.77170543\n",
      "  9.58346716  3.2811354   1.89639269  4.3397542  10.41579069  3.03047427\n",
      "  3.40940771  2.91560305  7.46606397  7.97140891  4.25467838 45.66036066\n",
      "  9.61785533  3.87791353  3.28374895  4.06950316  3.07763641  5.54438763\n",
      "  2.82476041  3.01735772  3.27546102 10.71005246  4.83183054 18.0408286\n",
      " 14.55532854  9.00545507  3.39713403  3.90903582  4.19472202  9.98202928\n",
      " 15.6415867  10.55375542  4.27214801  5.79703872 16.45023553 22.91499599\n",
      " 33.75029872  7.75467745  4.17718059 10.59249483  9.19634938  4.4960891\n",
      "  5.48648635  7.51444263  9.9039725   8.37907515  4.88910388  3.78273493\n",
      "  7.85697076  5.66246628  4.02669752  5.51390984  4.20909148  3.20848538\n",
      "  3.61719147  4.44710986 12.55838769  9.20739646  6.16958198  3.49940958\n",
      "  6.84888778  3.47332082  3.71729673  3.82549937 23.89039471  3.90811029\n",
      "  3.88398615  4.66837438  9.57989171  3.26882064  9.0075946   7.60388329\n",
      "  9.74154675  9.10767898 10.34205306  8.50717268  3.90329099  4.15187366\n",
      "  3.86605627  3.22763219  8.03256879  7.21470724  7.6712936   3.3140151\n",
      "  7.23287107  3.86737188  3.87882117  3.13472078  4.56857541 10.74896099\n",
      "  3.03572962  5.54757109  9.39213005  6.87585191  3.97819521  3.15560506\n",
      "  3.69182498  2.80482807  9.38538622  3.75835347 10.57583186 12.44044133\n",
      " 13.89716748  3.70008442  3.61319277  4.58868738  9.8766033   5.48853131\n",
      "  5.71407897  3.34253916  7.01045823  3.60872749 11.25073865 17.94374188\n",
      "  3.61436447  3.10696104  7.32075997  3.56527167  3.74919442  9.7970235\n",
      "  3.80867893  4.00375338  4.83802637  3.80898584  7.46438354  3.47109193\n",
      "  5.0991262   3.95961982  7.81899942  3.99528811  7.62291166  3.59069343\n",
      "  4.06442731  2.52804274  5.64270314  5.69857149  5.71253857  4.09235648\n",
      "  6.2578607   5.11195383  6.11758409  3.14503473 45.25282441  3.66167954\n",
      "  3.39593849 13.37704466  3.45626419  4.01015269  5.37271838  6.12100394\n",
      "  4.09532848  3.44828858  4.59873606  6.53357014  5.2997629  19.88112116\n",
      "  5.38388612  3.22048654  3.79217982 22.88094918 10.57352663  4.61736378\n",
      "  8.47006859  3.88211477  3.78501684  4.4031458   3.86686522 14.86061707\n",
      "  3.95182721 13.22172489  3.44113886  1.78161057  2.99521752 20.25779722\n",
      "  3.79925379 19.1136204   3.88190997  3.3983633  18.41545518 16.1881495\n",
      " 10.73515203  3.96604228  4.44736078 12.17969653  3.78425554 15.6714678\n",
      "  3.89322775  3.89322775  3.56515137  3.95971854  6.12768964  5.83864768\n",
      "  5.92536027  6.72756932  2.89041964  6.64796518  3.12031424  3.53519385\n",
      "  6.54082424  4.20788255 10.21914335  5.78226038  4.23650761  8.50164026\n",
      "  3.65830958  2.75297882  3.77370706  3.35947946  2.95873465  3.30324898\n",
      "  3.81262849  4.28543742  3.55476174  3.00469637  3.45540083  6.82446838\n",
      "  3.90483827  4.7744031   4.10172087  3.57649121  3.90455902  4.5246199\n",
      "  6.78089702  9.26642155 11.89673392  6.7085031  11.81685182  3.95083982\n",
      "  3.64559835  3.20469087  9.82144159  8.20464408  9.8697042  12.08978437\n",
      "  3.96895722  3.48542156  3.11263165  3.31835977  5.84389088 13.14797469\n",
      "  2.72117287  3.65837802  3.67734703 11.65694975  2.03104509  4.83142544\n",
      "  5.69308093  3.8312896   6.55473643  4.16841944  3.63450686  3.56151504\n",
      "  2.99007793  6.87053462  8.40293359  6.07382904  3.74669148  7.93271538\n",
      "  6.88612944  3.13941917  3.85734336  4.20190559 11.73031976  4.20003447\n",
      "  3.34175423  3.5957134   3.46359413  3.77426829  3.86336862  4.0396935\n",
      "  3.7954624   6.27941529  3.70676975  3.25073914  3.62846587  2.85419681\n",
      "  3.32418852 12.02023238  3.64560905  3.61261291  4.95735019  3.67733416\n",
      "  5.87705089  3.57142969  3.43161133  3.94250367  3.45310242  5.28277637\n",
      "  3.65298366  5.56377512  5.95717336 30.65696289 17.07067365  3.59917705\n",
      "  4.45383008  3.29482428  3.61844109  8.18915014  4.32026031  7.74887994\n",
      "  6.30306635 15.08867034  3.93374851  2.29777941  3.66908039  3.23391176\n",
      "  4.7577214   2.67998231  3.71167113  3.71541524  2.98279815 17.14991158\n",
      "  5.90661297  4.21411908  3.74109316 20.99486037  3.12518148  3.1244179\n",
      "  2.99423382  9.20368346  7.29641412  6.21412118  5.59508995  6.78553462\n",
      "  3.69833613  6.2970401  22.65234935  6.11712467  3.56924871  3.66050876\n",
      " 14.3765701   3.11823251  3.6829711  22.35345002  1.95373983  3.43768299\n",
      "  3.4087949  15.452384   23.13984611  3.5260064   3.63664486  7.00518894\n",
      "  7.9809637   5.27209646  5.14102224  6.00028657  6.08766939  6.51818599\n",
      "  6.84284659  6.7430405   3.65016945  8.07002438 11.84421829  4.03501219\n",
      "  4.08103894 13.51652372 11.9055873   3.40597175 10.0129334   4.88285024\n",
      "  3.35309652  3.90912562  9.45665932  6.02630251  3.58980523  4.64238687\n",
      "  4.32573847 21.21773396 21.65074894 22.31692583 23.63262518  3.29757561\n",
      "  7.19739012 20.78471898  3.42820155  4.01726233  4.61996814 12.14979878\n",
      " 14.78133742  6.08591957  4.36823911  3.83570499 10.35005558  4.01260248\n",
      "  3.45969788  4.13371122  8.44097521  6.53189483  3.54697205  3.35921194\n",
      "  3.73494441  2.83944184 23.74552837 23.70377187]\n"
     ]
    }
   ],
   "source": [
    "snrs = st.validation.compute_snrs(sorting_SC, recording_cache)\n",
    "print('SNRs:', snrs)"
   ]
  },
  {
   "cell_type": "code",
   "execution_count": 59,
   "metadata": {},
   "outputs": [
    {
     "data": {
      "text/plain": [
       "502"
      ]
     },
     "execution_count": 59,
     "metadata": {},
     "output_type": "execute_result"
    }
   ],
   "source": [
    "len(snrs)"
   ]
  },
  {
   "cell_type": "code",
   "execution_count": 61,
   "metadata": {},
   "outputs": [
    {
     "data": {
      "text/html": [
       "<div>\n",
       "<style scoped>\n",
       "    .dataframe tbody tr th:only-of-type {\n",
       "        vertical-align: middle;\n",
       "    }\n",
       "\n",
       "    .dataframe tbody tr th {\n",
       "        vertical-align: top;\n",
       "    }\n",
       "\n",
       "    .dataframe thead th {\n",
       "        text-align: right;\n",
       "    }\n",
       "</style>\n",
       "<table border=\"1\" class=\"dataframe\">\n",
       "  <thead>\n",
       "    <tr style=\"text-align: right;\">\n",
       "      <th></th>\n",
       "      <th>firing_rate</th>\n",
       "      <th>isi_violation</th>\n",
       "      <th>snr</th>\n",
       "    </tr>\n",
       "  </thead>\n",
       "  <tbody>\n",
       "    <tr>\n",
       "      <th>0</th>\n",
       "      <td>2.575000</td>\n",
       "      <td>1.273778</td>\n",
       "      <td>3.686366</td>\n",
       "    </tr>\n",
       "    <tr>\n",
       "      <th>1</th>\n",
       "      <td>0.258333</td>\n",
       "      <td>0.000000</td>\n",
       "      <td>4.995543</td>\n",
       "    </tr>\n",
       "    <tr>\n",
       "      <th>10</th>\n",
       "      <td>3.833333</td>\n",
       "      <td>0.000000</td>\n",
       "      <td>3.180572</td>\n",
       "    </tr>\n",
       "    <tr>\n",
       "      <th>100</th>\n",
       "      <td>6.991667</td>\n",
       "      <td>3.973880</td>\n",
       "      <td>4.215152</td>\n",
       "    </tr>\n",
       "    <tr>\n",
       "      <th>101</th>\n",
       "      <td>0.766667</td>\n",
       "      <td>4.789761</td>\n",
       "      <td>6.486955</td>\n",
       "    </tr>\n",
       "    <tr>\n",
       "      <th>...</th>\n",
       "      <td>...</td>\n",
       "      <td>...</td>\n",
       "      <td>...</td>\n",
       "    </tr>\n",
       "    <tr>\n",
       "      <th>95</th>\n",
       "      <td>3.008333</td>\n",
       "      <td>0.311082</td>\n",
       "      <td>3.359212</td>\n",
       "    </tr>\n",
       "    <tr>\n",
       "      <th>96</th>\n",
       "      <td>2.425000</td>\n",
       "      <td>1.436233</td>\n",
       "      <td>3.734944</td>\n",
       "    </tr>\n",
       "    <tr>\n",
       "      <th>97</th>\n",
       "      <td>3.483333</td>\n",
       "      <td>1.160131</td>\n",
       "      <td>2.839442</td>\n",
       "    </tr>\n",
       "    <tr>\n",
       "      <th>98</th>\n",
       "      <td>0.200000</td>\n",
       "      <td>0.000000</td>\n",
       "      <td>23.745528</td>\n",
       "    </tr>\n",
       "    <tr>\n",
       "      <th>99</th>\n",
       "      <td>2.050000</td>\n",
       "      <td>0.000000</td>\n",
       "      <td>23.703772</td>\n",
       "    </tr>\n",
       "  </tbody>\n",
       "</table>\n",
       "<p>502 rows × 3 columns</p>\n",
       "</div>"
      ],
      "text/plain": [
       "     firing_rate  isi_violation        snr\n",
       "0       2.575000       1.273778   3.686366\n",
       "1       0.258333       0.000000   4.995543\n",
       "10      3.833333       0.000000   3.180572\n",
       "100     6.991667       3.973880   4.215152\n",
       "101     0.766667       4.789761   6.486955\n",
       "..           ...            ...        ...\n",
       "95      3.008333       0.311082   3.359212\n",
       "96      2.425000       1.436233   3.734944\n",
       "97      3.483333       1.160131   2.839442\n",
       "98      0.200000       0.000000  23.745528\n",
       "99      2.050000       0.000000  23.703772\n",
       "\n",
       "[502 rows x 3 columns]"
      ]
     },
     "metadata": {},
     "output_type": "display_data"
    }
   ],
   "source": [
    "\n",
    "quality_metrics = st.validation.compute_quality_metrics(sorting_SC, recording_cache, \n",
    "                                                        metric_names=['firing_rate', 'isi_violation', 'snr'], \n",
    "                                                        as_dataframe=True)\n",
    "display(quality_metrics)"
   ]
  },
  {
   "cell_type": "code",
   "execution_count": 66,
   "metadata": {},
   "outputs": [
    {
     "data": {
      "text/plain": [
       "0.0"
      ]
     },
     "execution_count": 66,
     "metadata": {},
     "output_type": "execute_result"
    }
   ],
   "source": [
    "quality_metrics['isi_violation'].min()"
   ]
  },
  {
   "cell_type": "code",
   "execution_count": 54,
   "metadata": {},
   "outputs": [
    {
     "name": "stdout",
     "output_type": "stream",
     "text": [
      "Warning: recording is not filtered! It's recommended to filter the recording before exporting to phy.\n",
      "You can run spiketoolkit.preprocessing.bandpass_filter(recording, cache_to_file=True)\n",
      "Converting to Phy format\n",
      "Recomputing info\n",
      "Number of chunks: 13 - Number of jobs: 1\n"
     ]
    },
    {
     "name": "stderr",
     "output_type": "stream",
     "text": [
      "Extracting waveforms in chunks: 100%|##################################################| 13/13 [00:33<00:00,  2.56s/it]\n"
     ]
    },
    {
     "name": "stdout",
     "output_type": "stream",
     "text": [
      "Fitting PCA of 3 dimensions on 10000 waveforms\n",
      "Projecting waveforms on PC\n",
      "Saving files\n",
      "Saved phy format to:  D:\\Files_Reutlingen_Jenny\\191021_extra\\phy_IC\n",
      "Run:\n",
      "\n",
      "phy template-gui  D:\\Files_Reutlingen_Jenny\\191021_extra\\phy_IC\\params.py\n"
     ]
    }
   ],
   "source": [
    "st.postprocessing.export_to_phy(recording_cache, \n",
    "                                sorting_SC, output_folder='phy_IC', verbose=True, recompute_info=True)"
   ]
  },
  {
   "cell_type": "markdown",
   "metadata": {},
   "source": [
    "# AUTOMATED CURATION\n"
   ]
  },
  {
   "cell_type": "code",
   "execution_count": 55,
   "metadata": {},
   "outputs": [],
   "source": [
    "snr_thresh = 5\n",
    "isi_viol_thresh = 0.5"
   ]
  },
  {
   "cell_type": "code",
   "execution_count": 56,
   "metadata": {},
   "outputs": [],
   "source": [
    "\n",
    "sorting_auto = st.curation.threshold_isi_violations(sorting_SC, isi_viol_thresh, 'greater', duration)"
   ]
  },
  {
   "cell_type": "code",
   "execution_count": 59,
   "metadata": {},
   "outputs": [
    {
     "data": {
      "text/plain": [
       "277"
      ]
     },
     "execution_count": 59,
     "metadata": {},
     "output_type": "execute_result"
    }
   ],
   "source": [
    "len(sorting_auto.get_unit_ids())"
   ]
  },
  {
   "cell_type": "code",
   "execution_count": 61,
   "metadata": {},
   "outputs": [
    {
     "data": {
      "text/plain": [
       "502"
      ]
     },
     "execution_count": 61,
     "metadata": {},
     "output_type": "execute_result"
    }
   ],
   "source": [
    "len(sorting_SC.get_unit_ids())"
   ]
  },
  {
   "cell_type": "code",
   "execution_count": null,
   "metadata": {},
   "outputs": [],
   "source": []
  }
 ],
 "metadata": {
  "kernelspec": {
   "display_name": "Python 3",
   "language": "python",
   "name": "python3"
  },
  "language_info": {
   "codemirror_mode": {
    "name": "ipython",
    "version": 3
   },
   "file_extension": ".py",
   "mimetype": "text/x-python",
   "name": "python",
   "nbconvert_exporter": "python",
   "pygments_lexer": "ipython3",
   "version": "3.8.3"
  }
 },
 "nbformat": 4,
 "nbformat_minor": 4
}
