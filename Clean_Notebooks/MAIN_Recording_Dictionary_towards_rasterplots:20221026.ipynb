{
 "cells": [
  {
   "cell_type": "code",
   "execution_count": 66,
   "id": "30e89081",
   "metadata": {},
   "outputs": [],
   "source": [
    "import os\n",
    "import sys\n",
    "import numpy as np\n",
    "import neo\n",
    "import pandas as pd\n",
    "import h5py\n",
    "import ast\n",
    "import McsPy\n",
    "import sys, importlib, os\n",
    "import McsPy.McsData\n",
    "import McsPy.McsCMOS\n",
    "from McsPy import ureg, Q_\n",
    "import matplotlib.pyplot as plt\n",
    "from scipy.signal import butter, lfilter, freqz, find_peaks, correlate, gaussian, filtfilt\n",
    "from scipy import stats\n",
    "from scipy import signal\n",
    "from scipy import stats\n",
    "from scipy import signal\n",
    "from IPython.core.interactiveshell import InteractiveShell\n",
    "InteractiveShell.ast_node_interactivity = 'all'\n",
    "import numpy as np\n",
    "from sklearn.mixture import GaussianMixture\n",
    "from sklearn.decomposition import PCA\n",
    "from sklearn.preprocessing import StandardScaler\n",
    "import McsPy\n",
    "import McsPy.McsData\n",
    "from McsPy import ureg, Q_\n",
    "import matplotlib.pyplot as plt\n",
    "\n",
    "import warnings\n",
    "warnings.filterwarnings('ignore')\n",
    "\n",
    "import scipy\n",
    "import time\n",
    "import glob\n",
    "from pathlib import Path\n",
    "from datetime import datetime\n",
    "import matplotlib.pyplot as plt\n",
    "import matplotlib.gridspec as gridspec\n",
    "import pandas as pd\n",
    "import seaborn as sns\n",
    "import copy\n",
    "import pickle\n",
    "import fnmatch\n",
    "\n",
    "# Plotting\n",
    "import matplotlib.pyplot as plt\n",
    "from matplotlib.pyplot import cm\n",
    "import seaborn as sns\n",
    "#networkx\n",
    "import plotly.graph_objects as go\n",
    "import networkx as nx\n",
    "import matplotlib.patches as mpatche\n",
    "\n",
    "\n",
    "%matplotlib widget"
   ]
  },
  {
   "cell_type": "code",
   "execution_count": null,
   "id": "31ce5f30",
   "metadata": {},
   "outputs": [],
   "source": []
  },
  {
   "cell_type": "code",
   "execution_count": 67,
   "id": "efe99d8c",
   "metadata": {},
   "outputs": [],
   "source": [
    "working_directory = '/Users/jonas/Documents/DATA/MEA_DATA_Aachen_sample/output/2021-05-17_cortex_div11_aCSF_ID046_30µMNE_spont_1'"
   ]
  },
  {
   "cell_type": "code",
   "execution_count": 68,
   "id": "aaed9139",
   "metadata": {},
   "outputs": [],
   "source": [
    "os.chdir(working_directory)"
   ]
  },
  {
   "cell_type": "code",
   "execution_count": 69,
   "id": "d8b7f30f",
   "metadata": {},
   "outputs": [],
   "source": [
    "filename=working_directory.split('/')[-1]"
   ]
  },
  {
   "cell_type": "code",
   "execution_count": 70,
   "id": "41eb7445",
   "metadata": {},
   "outputs": [
    {
     "data": {
      "text/plain": [
       "['interesting_burst_zoomed_10082021_b25.png',\n",
       " 'divided_burst_spatial_zoomed_10082021_b25.png',\n",
       " 'infodics_2021-05-17_cortex_div11_aCSF_ID046_30µMNE_spont_1.npy',\n",
       " '2021-05-17_cortex_div11_aCSF_ID046_30µMNE_spont_1_burst_starts_dictionary.npy',\n",
       " '2021-05-17_cortex_div11_aCSF_ID046_30µMNE_spont_1__raster_firingrate_plot.eps',\n",
       " '2021-05-17_cortex_div11_aCSF_ID046_30µMNE_spont_1raster_and_FR_plot_10082021_b25.png',\n",
       " 'interesting_burst_10082021_b25.png',\n",
       " 'spike_extraction',\n",
       " '2021-05-17_cortex_div11_aCSF_ID046_30µMNE_spont_1_full_spikedic.npy',\n",
       " '2021-05-17_cortex_div11_aCSF_ID046_30µMNE_spont_1__raster_firingrate_plot.pdf',\n",
       " '2021-05-17_cortex_div11_aCSF_ID046_30µMNE_spont_1whole_MEA_Heatmap.png',\n",
       " 'interesting_burst_10082021_b21.png',\n",
       " '2021-05-17_cortex_div11_aCSF_ID046_30µMNE_spont_1__raster_firingrate_plot.png',\n",
       " '2021-05-17_cortex_div11_aCSF_ID046_30µMNE_spont_1__raster_firingrate_plot.svg',\n",
       " 'MAIN_RECORDING_Dictionary_2021-05-17_cortex_div11_aCSF_ID046_30µMNE_spont_1.pkl']"
      ]
     },
     "execution_count": 70,
     "metadata": {},
     "output_type": "execute_result"
    }
   ],
   "source": [
    "glob.glob('*')"
   ]
  },
  {
   "cell_type": "code",
   "execution_count": 113,
   "id": "c23c5353",
   "metadata": {},
   "outputs": [
    {
     "data": {
      "text/plain": [
       "'MAIN_RECORDING_Dictionary_2021-05-17_cortex_div11_aCSF_ID046_30µMNE_spont_1.pkl'"
      ]
     },
     "execution_count": 113,
     "metadata": {},
     "output_type": "execute_result"
    }
   ],
   "source": [
    "'MAIN_RECORDING_Dictionary_'+filename+'.pkl'"
   ]
  },
  {
   "cell_type": "code",
   "execution_count": 114,
   "id": "747ea74e",
   "metadata": {},
   "outputs": [],
   "source": [
    "MAIN_RECORDING_DICTIONARY = pickle.load(open('MAIN_RECORDING_Dictionary_'+filename+'.pkl', \"rb\"))"
   ]
  },
  {
   "cell_type": "code",
   "execution_count": 115,
   "id": "54706e80",
   "metadata": {},
   "outputs": [
    {
     "data": {
      "text/plain": [
       "dict_keys(['spikedic_MAD', 'network_bursts_seconds', 'fr_dic', 'isi_dictionary', 'isi_average_dic', 'isi_std_dic', 'number_rand_notrand_spikes_per_channel', 'rand_notrand_spikes_per_channel', 'Infos_Recording', 'Infos_Analysis', 'Infos_Anatomy', 'Basics', 'Bursts', 'Interburst-Intervals', 'bursting_time_per_channel', 'bursts_per_channel', 'burst_connections'])"
      ]
     },
     "execution_count": 115,
     "metadata": {},
     "output_type": "execute_result"
    }
   ],
   "source": [
    "MAIN_RECORDING_DICTIONARY.keys()"
   ]
  },
  {
   "cell_type": "code",
   "execution_count": 116,
   "id": "64e6b16b",
   "metadata": {},
   "outputs": [],
   "source": [
    "spikedic_MAD = MAIN_RECORDING_DICTIONARY['spikedic_MAD']\n",
    "tick = MAIN_RECORDING_DICTIONARY['Infos_Recording']['tick']\n",
    "timelengthrecording_s = MAIN_RECORDING_DICTIONARY['Infos_Recording']['timelengthrecording_s']\n",
    "info_dics_subrecordings = MAIN_RECORDING_DICTIONARY['Infos_Recording']['info_dics_subrecordings']\n",
    "first_recording_timepoint = info_dics_subrecordings['0_to_120']['first_recording_timepoint']\n",
    "scale_factor_for_second = MAIN_RECORDING_DICTIONARY['Infos_Recording']['scale_factor_for_second']\n",
    "relevant_factor = timelengthrecording_s*0.05\n"
   ]
  },
  {
   "cell_type": "code",
   "execution_count": 117,
   "id": "0bf3ab37",
   "metadata": {},
   "outputs": [],
   "source": [
    "def remove_artefact_spikes(spikes, recording_length, window=0.02):\n",
    "    \n",
    "    removing_times = []\n",
    "    i = 0\n",
    "    removed_spikes = {} \n",
    "    kicked_out = {}\n",
    "    while i < timelengthrecording_s:\n",
    "        #print(i)\n",
    "        activechannels = 0\n",
    "        for key in spikes:\n",
    "            for s in spikes[key]:\n",
    "                if i <= s*tick*scale_factor_for_second < (i + window):\n",
    "                    activechannels += 1\n",
    "        if activechannels >= 190:\n",
    "            removing_times.append(i)\n",
    "            print(i)\n",
    "        i += window\n",
    "    \n",
    "    print(removing_times)\n",
    "    for key in spikes:\n",
    "        new_spikes = []\n",
    "        kicked_out_list = []\n",
    "\n",
    "        s_list_save = list(spikes[key])\n",
    "        s_list = list(spikes[key])\n",
    "        for s in s_list_save:\n",
    "            for time in removing_times:\n",
    "                if time <= s*tick*scale_factor_for_second < (time + window*4):\n",
    "                    print('time :' + str(time))\n",
    "                    print('spike :' + str(s*tick*scale_factor_for_second))\n",
    "                    kicked_out_list.append(s)\n",
    "                    s_list.remove(s)\n",
    "                    print('removed spike from channel ' + key)\n",
    "                #else:\n",
    "                 #   new_spikes.append(s)\n",
    "        removed_spikes[key] = s_list\n",
    "        kicked_out[key] = kicked_out_list\n",
    "\n",
    "    return removed_spikes, kicked_out"
   ]
  },
  {
   "cell_type": "code",
   "execution_count": 118,
   "id": "ff046ff2",
   "metadata": {},
   "outputs": [
    {
     "name": "stdout",
     "output_type": "stream",
     "text": [
      "62.54000000000418\n",
      "62.840000000004224\n",
      "113.35999999999459\n",
      "118.97999999999347\n",
      "[62.54000000000418, 62.840000000004224, 113.35999999999459, 118.97999999999347]\n",
      "time :62.54000000000418\n",
      "spike :62.546519999999994\n",
      "removed spike from channel G13\n",
      "time :62.54000000000418\n",
      "spike :62.547439999999995\n",
      "removed spike from channel G13\n",
      "time :62.54000000000418\n",
      "spike :62.552\n",
      "removed spike from channel G13\n",
      "time :62.840000000004224\n",
      "spike :62.84872\n",
      "removed spike from channel G13\n",
      "time :113.35999999999459\n",
      "spike :113.36063999999999\n",
      "removed spike from channel G13\n",
      "time :113.35999999999459\n",
      "spike :113.36112\n",
      "removed spike from channel G13\n",
      "time :113.35999999999459\n",
      "spike :113.36972\n",
      "removed spike from channel G13\n",
      "time :113.35999999999459\n",
      "spike :113.3706\n",
      "removed spike from channel G13\n",
      "time :113.35999999999459\n",
      "spike :113.37556\n",
      "removed spike from channel G13\n",
      "time :118.97999999999347\n",
      "spike :118.99199999999999\n",
      "removed spike from channel G13\n",
      "time :118.97999999999347\n",
      "spike :118.99275999999999\n",
      "removed spike from channel G13\n",
      "time :118.97999999999347\n",
      "spike :118.99856\n",
      "removed spike from channel G13\n",
      "time :62.54000000000418\n",
      "spike :62.5464\n",
      "removed spike from channel G12\n",
      "time :62.54000000000418\n",
      "spike :62.54748\n",
      "removed spike from channel G12\n",
      "time :62.840000000004224\n",
      "spike :62.848839999999996\n",
      "removed spike from channel G12\n",
      "time :113.35999999999459\n",
      "spike :113.36027999999999\n",
      "removed spike from channel G12\n",
      "time :113.35999999999459\n",
      "spike :113.36108\n",
      "removed spike from channel G12\n",
      "time :113.35999999999459\n",
      "spike :113.36955999999999\n",
      "removed spike from channel G12\n",
      "time :113.35999999999459\n",
      "spike :113.37052\n",
      "removed spike from channel G12\n",
      "time :113.35999999999459\n",
      "spike :113.37504\n",
      "removed spike from channel G12\n",
      "time :118.97999999999347\n",
      "spike :118.99203999999999\n",
      "removed spike from channel G12\n",
      "time :118.97999999999347\n",
      "spike :118.99271999999999\n",
      "removed spike from channel G12\n",
      "time :62.54000000000418\n",
      "spike :62.546479999999995\n",
      "removed spike from channel F16\n",
      "time :62.54000000000418\n",
      "spike :62.547439999999995\n",
      "removed spike from channel F16\n",
      "time :62.840000000004224\n",
      "spike :62.848839999999996\n",
      "removed spike from channel F16\n",
      "time :113.35999999999459\n",
      "spike :113.36032\n",
      "removed spike from channel F16\n",
      "time :113.35999999999459\n",
      "spike :113.36108\n",
      "removed spike from channel F16\n",
      "time :113.35999999999459\n",
      "spike :113.36972\n",
      "removed spike from channel F16\n",
      "time :113.35999999999459\n",
      "spike :113.37056\n",
      "removed spike from channel F16\n",
      "time :113.35999999999459\n",
      "spike :113.37451999999999\n",
      "removed spike from channel F16\n",
      "time :118.97999999999347\n",
      "spike :118.99159999999999\n",
      "removed spike from channel F16\n",
      "time :118.97999999999347\n",
      "spike :118.99271999999999\n",
      "removed spike from channel F16\n",
      "time :62.54000000000418\n",
      "spike :62.5464\n",
      "removed spike from channel F15\n",
      "time :62.54000000000418\n",
      "spike :62.54748\n",
      "removed spike from channel F15\n",
      "time :62.54000000000418\n",
      "spike :62.552319999999995\n",
      "removed spike from channel F15\n",
      "time :62.840000000004224\n",
      "spike :62.8488\n",
      "removed spike from channel F15\n",
      "time :62.840000000004224\n",
      "spike :62.849639999999994\n",
      "removed spike from channel F15\n",
      "time :113.35999999999459\n",
      "spike :113.36059999999999\n",
      "removed spike from channel F15\n",
      "time :113.35999999999459\n",
      "spike :113.36124\n",
      "removed spike from channel F15\n",
      "time :113.35999999999459\n",
      "spike :113.36955999999999\n",
      "removed spike from channel F15\n",
      "time :113.35999999999459\n",
      "spike :113.3706\n",
      "removed spike from channel F15\n",
      "time :113.35999999999459\n",
      "spike :113.37472\n",
      "removed spike from channel F15\n",
      "time :118.97999999999347\n",
      "spike :118.99192\n",
      "removed spike from channel F15\n",
      "time :118.97999999999347\n",
      "spike :118.99275999999999\n",
      "removed spike from channel F15\n",
      "time :62.54000000000418\n",
      "spike :62.5466\n",
      "removed spike from channel F14\n",
      "time :62.54000000000418\n",
      "spike :62.547399999999996\n",
      "removed spike from channel F14\n",
      "time :62.840000000004224\n",
      "spike :62.8488\n",
      "removed spike from channel F14\n",
      "time :113.35999999999459\n",
      "spike :113.36027999999999\n",
      "removed spike from channel F14\n",
      "time :113.35999999999459\n",
      "spike :113.36124\n",
      "removed spike from channel F14\n",
      "time :113.35999999999459\n",
      "spike :113.36967999999999\n",
      "removed spike from channel F14\n",
      "time :113.35999999999459\n",
      "spike :113.37056\n",
      "removed spike from channel F14\n",
      "time :113.35999999999459\n",
      "spike :113.37504\n",
      "removed spike from channel F14\n",
      "time :118.97999999999347\n",
      "spike :118.99159999999999\n",
      "removed spike from channel F14\n",
      "time :118.97999999999347\n",
      "spike :118.99279999999999\n",
      "removed spike from channel F14\n",
      "time :62.54000000000418\n",
      "spike :62.54656\n",
      "removed spike from channel F13\n",
      "time :62.54000000000418\n",
      "spike :62.54748\n",
      "removed spike from channel F13\n",
      "time :62.54000000000418\n",
      "spike :62.5528\n",
      "removed spike from channel F13\n",
      "time :62.840000000004224\n",
      "spike :62.848839999999996\n",
      "removed spike from channel F13\n",
      "time :62.840000000004224\n",
      "spike :62.849599999999995\n",
      "removed spike from channel F13\n",
      "time :113.35999999999459\n",
      "spike :113.36059999999999\n",
      "removed spike from channel F13\n",
      "time :113.35999999999459\n",
      "spike :113.36124\n",
      "removed spike from channel F13\n",
      "time :113.35999999999459\n",
      "spike :113.36955999999999\n",
      "removed spike from channel F13\n",
      "time :113.35999999999459\n",
      "spike :113.3706\n",
      "removed spike from channel F13\n",
      "time :113.35999999999459\n",
      "spike :113.37491999999999\n",
      "removed spike from channel F13\n",
      "time :113.35999999999459\n",
      "spike :113.37599999999999\n",
      "removed spike from channel F13\n",
      "time :118.97999999999347\n",
      "spike :118.99195999999999\n",
      "removed spike from channel F13\n",
      "time :118.97999999999347\n",
      "spike :118.99279999999999\n",
      "removed spike from channel F13\n",
      "time :118.97999999999347\n",
      "spike :118.99712\n",
      "removed spike from channel F13\n",
      "time :62.54000000000418\n",
      "spike :62.5466\n",
      "removed spike from channel F12\n",
      "time :62.54000000000418\n",
      "spike :62.547439999999995\n",
      "removed spike from channel F12\n",
      "time :62.840000000004224\n",
      "spike :62.8488\n",
      "removed spike from channel F12\n",
      "time :113.35999999999459\n",
      "spike :113.36027999999999\n",
      "removed spike from channel F12\n",
      "time :113.35999999999459\n",
      "spike :113.36116\n",
      "removed spike from channel F12\n",
      "time :113.35999999999459\n",
      "spike :113.36952\n",
      "removed spike from channel F12\n",
      "time :113.35999999999459\n",
      "spike :113.3706\n",
      "removed spike from channel F12\n",
      "time :113.35999999999459\n",
      "spike :113.375\n",
      "removed spike from channel F12\n",
      "time :118.97999999999347\n",
      "spike :118.99203999999999\n",
      "removed spike from channel F12\n",
      "time :118.97999999999347\n",
      "spike :118.99271999999999\n",
      "removed spike from channel F12\n",
      "time :62.54000000000418\n",
      "spike :62.54656\n",
      "removed spike from channel E16\n",
      "time :62.54000000000418\n",
      "spike :62.54748\n",
      "removed spike from channel E16\n",
      "time :62.54000000000418\n",
      "spike :62.553079999999994\n",
      "removed spike from channel E16\n",
      "time :62.840000000004224\n",
      "spike :62.84876\n",
      "removed spike from channel E16\n",
      "time :62.840000000004224\n",
      "spike :62.849639999999994\n",
      "removed spike from channel E16\n",
      "time :113.35999999999459\n",
      "spike :113.36023999999999\n",
      "removed spike from channel E16\n",
      "time :113.35999999999459\n",
      "spike :113.3612\n",
      "removed spike from channel E16\n",
      "time :113.35999999999459\n",
      "spike :113.36955999999999\n",
      "removed spike from channel E16\n",
      "time :113.35999999999459\n",
      "spike :113.37056\n",
      "removed spike from channel E16\n",
      "time :113.35999999999459\n",
      "spike :113.37523999999999\n",
      "removed spike from channel E16\n",
      "time :113.35999999999459\n",
      "spike :113.37567999999999\n",
      "removed spike from channel E16\n",
      "time :118.97999999999347\n",
      "spike :118.99212\n",
      "removed spike from channel E16\n",
      "time :118.97999999999347\n",
      "spike :118.99284\n",
      "removed spike from channel E16\n",
      "time :118.97999999999347\n",
      "spike :118.99776\n",
      "removed spike from channel E16\n",
      "time :62.54000000000418\n",
      "spike :62.5466\n",
      "removed spike from channel E15\n",
      "time :62.54000000000418\n",
      "spike :62.54748\n",
      "removed spike from channel E15\n",
      "time :62.54000000000418\n",
      "spike :62.552839999999996\n",
      "removed spike from channel E15\n",
      "time :62.840000000004224\n",
      "spike :62.84892\n",
      "removed spike from channel E15\n",
      "time :62.840000000004224\n",
      "spike :62.849599999999995\n",
      "removed spike from channel E15\n",
      "time :113.35999999999459\n",
      "spike :113.36032\n",
      "removed spike from channel E15\n",
      "time :113.35999999999459\n",
      "spike :113.3612\n",
      "removed spike from channel E15\n",
      "time :113.35999999999459\n",
      "spike :113.36955999999999\n",
      "removed spike from channel E15\n",
      "time :113.35999999999459\n",
      "spike :113.37052\n",
      "removed spike from channel E15\n",
      "time :113.35999999999459\n",
      "spike :113.37443999999999\n",
      "removed spike from channel E15\n",
      "time :118.97999999999347\n",
      "spike :118.99208\n",
      "removed spike from channel E15\n",
      "time :118.97999999999347\n",
      "spike :118.99279999999999\n",
      "removed spike from channel E15\n",
      "time :62.54000000000418\n",
      "spike :62.5464\n",
      "removed spike from channel E14\n",
      "time :62.54000000000418\n",
      "spike :62.54748\n",
      "removed spike from channel E14\n",
      "time :62.840000000004224\n",
      "spike :62.8488\n",
      "removed spike from channel E14\n",
      "time :62.840000000004224\n",
      "spike :62.849599999999995\n",
      "removed spike from channel E14\n",
      "time :113.35999999999459\n",
      "spike :113.36027999999999\n",
      "removed spike from channel E14\n",
      "time :113.35999999999459\n",
      "spike :113.36124\n",
      "removed spike from channel E14\n",
      "time :113.35999999999459\n",
      "spike :113.36963999999999\n",
      "removed spike from channel E14\n",
      "time :113.35999999999459\n",
      "spike :113.37056\n",
      "removed spike from channel E14\n",
      "time :113.35999999999459\n",
      "spike :113.37443999999999\n",
      "removed spike from channel E14\n",
      "time :118.97999999999347\n",
      "spike :118.99212\n",
      "removed spike from channel E14\n",
      "time :118.97999999999347\n",
      "spike :118.99275999999999\n",
      "removed spike from channel E14\n",
      "time :62.54000000000418\n",
      "spike :62.546519999999994\n",
      "removed spike from channel E13\n",
      "time :62.54000000000418\n",
      "spike :62.54748\n",
      "removed spike from channel E13\n",
      "time :62.840000000004224\n",
      "spike :62.8488\n",
      "removed spike from channel E13\n",
      "time :113.35999999999459\n",
      "spike :113.36032\n",
      "removed spike from channel E13\n",
      "time :113.35999999999459\n",
      "spike :113.36103999999999\n",
      "removed spike from channel E13\n",
      "time :113.35999999999459\n",
      "spike :113.36955999999999\n",
      "removed spike from channel E13\n",
      "time :113.35999999999459\n",
      "spike :113.3706\n",
      "removed spike from channel E13\n",
      "time :113.35999999999459\n",
      "spike :113.37447999999999\n",
      "removed spike from channel E13\n",
      "time :118.97999999999347\n",
      "spike :118.99159999999999\n",
      "removed spike from channel E13\n",
      "time :118.97999999999347\n",
      "spike :118.99275999999999\n",
      "removed spike from channel E13\n",
      "time :62.54000000000418\n",
      "spike :62.546519999999994\n",
      "removed spike from channel G11\n",
      "time :62.54000000000418\n",
      "spike :62.54748\n",
      "removed spike from channel G11\n",
      "time :62.840000000004224\n",
      "spike :62.848879999999994\n",
      "removed spike from channel G11\n",
      "time :62.840000000004224\n",
      "spike :62.849599999999995\n",
      "removed spike from channel G11\n",
      "time :113.35999999999459\n",
      "spike :113.36027999999999\n",
      "removed spike from channel G11\n",
      "time :113.35999999999459\n",
      "spike :113.36112\n",
      "removed spike from channel G11\n",
      "time :113.35999999999459\n",
      "spike :113.36955999999999\n",
      "removed spike from channel G11\n",
      "time :113.35999999999459\n",
      "spike :113.3706\n",
      "removed spike from channel G11\n",
      "time :113.35999999999459\n",
      "spike :113.375\n",
      "removed spike from channel G11\n",
      "time :118.97999999999347\n",
      "spike :118.99208\n",
      "removed spike from channel G11\n",
      "time :118.97999999999347\n",
      "spike :118.99271999999999\n",
      "removed spike from channel G11\n",
      "time :62.54000000000418\n",
      "spike :62.54656\n",
      "removed spike from channel D16\n",
      "time :62.54000000000418\n",
      "spike :62.54756\n",
      "removed spike from channel D16\n",
      "time :62.54000000000418\n",
      "spike :62.552\n",
      "removed spike from channel D16\n",
      "time :62.54000000000418\n",
      "spike :62.55408\n",
      "removed spike from channel D16\n",
      "time :62.840000000004224\n",
      "spike :62.84892\n",
      "removed spike from channel D16\n",
      "time :62.840000000004224\n",
      "spike :62.849759999999996\n",
      "removed spike from channel D16\n",
      "time :62.840000000004224\n",
      "spike :62.854\n",
      "removed spike from channel D16\n",
      "time :62.840000000004224\n",
      "spike :62.854879999999994\n",
      "removed spike from channel D16\n",
      "time :113.35999999999459\n",
      "spike :113.36032\n",
      "removed spike from channel D16\n",
      "time :113.35999999999459\n",
      "spike :113.36148\n",
      "removed spike from channel D16\n",
      "time :113.35999999999459\n",
      "spike :113.36543999999999\n",
      "removed spike from channel D16\n",
      "time :113.35999999999459\n",
      "spike :113.36963999999999\n",
      "removed spike from channel D16\n",
      "time :113.35999999999459\n",
      "spike :113.37068\n",
      "removed spike from channel D16\n",
      "time :113.35999999999459\n",
      "spike :113.375\n",
      "removed spike from channel D16\n",
      "time :113.35999999999459\n",
      "spike :113.3766\n",
      "removed spike from channel D16\n",
      "time :118.97999999999347\n",
      "spike :118.99188\n",
      "removed spike from channel D16\n",
      "time :118.97999999999347\n",
      "spike :118.99288\n",
      "removed spike from channel D16\n",
      "time :118.97999999999347\n",
      "spike :118.99776\n",
      "removed spike from channel D16\n",
      "time :118.97999999999347\n",
      "spike :118.99892\n",
      "removed spike from channel D16\n",
      "time :62.54000000000418\n",
      "spike :62.5466\n",
      "removed spike from channel D15\n",
      "time :62.54000000000418\n",
      "spike :62.54748\n",
      "removed spike from channel D15\n",
      "time :62.54000000000418\n",
      "spike :62.551719999999996\n",
      "removed spike from channel D15\n",
      "time :62.840000000004224\n",
      "spike :62.8488\n",
      "removed spike from channel D15\n",
      "time :62.840000000004224\n",
      "spike :62.849439999999994\n",
      "removed spike from channel D15\n",
      "time :113.35999999999459\n",
      "spike :113.36027999999999\n",
      "removed spike from channel D15\n",
      "time :113.35999999999459\n",
      "spike :113.3612\n",
      "removed spike from channel D15\n",
      "time :113.35999999999459\n",
      "spike :113.36952\n",
      "removed spike from channel D15\n",
      "time :113.35999999999459\n",
      "spike :113.37064\n",
      "removed spike from channel D15\n",
      "time :113.35999999999459\n",
      "spike :113.375\n",
      "removed spike from channel D15\n",
      "time :113.35999999999459\n",
      "spike :113.37556\n",
      "removed spike from channel D15\n",
      "time :118.97999999999347\n",
      "spike :118.99199999999999\n",
      "removed spike from channel D15\n",
      "time :118.97999999999347\n",
      "spike :118.99279999999999\n",
      "removed spike from channel D15\n",
      "time :118.97999999999347\n",
      "spike :118.99716\n",
      "removed spike from channel D15\n",
      "time :62.54000000000418\n",
      "spike :62.546479999999995\n",
      "removed spike from channel D14\n",
      "time :62.54000000000418\n",
      "spike :62.54748\n",
      "removed spike from channel D14\n",
      "time :62.840000000004224\n",
      "spike :62.8488\n",
      "removed spike from channel D14\n",
      "time :62.840000000004224\n",
      "spike :62.849639999999994\n",
      "removed spike from channel D14\n",
      "time :113.35999999999459\n",
      "spike :113.36027999999999\n",
      "removed spike from channel D14\n",
      "time :113.35999999999459\n",
      "spike :113.36124\n",
      "removed spike from channel D14\n",
      "time :113.35999999999459\n",
      "spike :113.36963999999999\n",
      "removed spike from channel D14\n",
      "time :113.35999999999459\n",
      "spike :113.3706\n",
      "removed spike from channel D14\n",
      "time :113.35999999999459\n",
      "spike :113.37443999999999\n",
      "removed spike from channel D14\n",
      "time :113.35999999999459\n",
      "spike :113.37559999999999\n",
      "removed spike from channel D14\n",
      "time :118.97999999999347\n",
      "spike :118.99199999999999\n",
      "removed spike from channel D14\n",
      "time :118.97999999999347\n",
      "spike :118.99275999999999\n",
      "removed spike from channel D14\n",
      "time :118.97999999999347\n",
      "spike :118.99812\n",
      "removed spike from channel D14\n",
      "time :62.54000000000418\n",
      "spike :62.546519999999994\n",
      "removed spike from channel H9\n",
      "time :62.54000000000418\n",
      "spike :62.547239999999995\n",
      "removed spike from channel H9\n",
      "time :62.840000000004224\n",
      "spike :62.8488\n",
      "removed spike from channel H9\n",
      "time :113.35999999999459\n",
      "spike :113.36048\n",
      "removed spike from channel H9\n",
      "time :113.35999999999459\n",
      "spike :113.36955999999999\n",
      "removed spike from channel H9\n",
      "time :113.35999999999459\n",
      "spike :113.37035999999999\n",
      "removed spike from channel H9\n",
      "time :118.97999999999347\n",
      "spike :118.99155999999999\n",
      "removed spike from channel H9\n",
      "time :118.97999999999347\n",
      "spike :118.99252\n",
      "removed spike from channel H9\n",
      "time :62.54000000000418\n",
      "spike :62.546519999999994\n",
      "removed spike from channel F11\n",
      "time :62.54000000000418\n",
      "spike :62.54748\n",
      "removed spike from channel F11\n",
      "time :62.840000000004224\n",
      "spike :62.8488\n",
      "removed spike from channel F11\n",
      "time :113.35999999999459\n",
      "spike :113.36055999999999\n",
      "removed spike from channel F11\n",
      "time :113.35999999999459\n",
      "spike :113.36103999999999\n",
      "removed spike from channel F11\n",
      "time :113.35999999999459\n",
      "spike :113.36955999999999\n",
      "removed spike from channel F11\n",
      "time :113.35999999999459\n",
      "spike :113.37056\n",
      "removed spike from channel F11\n",
      "time :113.35999999999459\n",
      "spike :113.37447999999999\n",
      "removed spike from channel F11\n",
      "time :118.97999999999347\n",
      "spike :118.99195999999999\n",
      "removed spike from channel F11\n",
      "time :118.97999999999347\n",
      "spike :118.99264\n",
      "removed spike from channel F11\n",
      "time :62.54000000000418\n",
      "spike :62.54656\n",
      "removed spike from channel C16\n",
      "time :62.54000000000418\n",
      "spike :62.54712\n",
      "removed spike from channel C16\n",
      "time :113.35999999999459\n",
      "spike :113.36027999999999\n",
      "removed spike from channel C16\n",
      "time :113.35999999999459\n",
      "spike :113.36959999999999\n",
      "removed spike from channel C16\n",
      "time :118.97999999999347\n",
      "spike :118.99159999999999\n",
      "removed spike from channel C16\n",
      "time :62.54000000000418\n",
      "spike :62.54656\n",
      "removed spike from channel C15\n",
      "time :62.54000000000418\n",
      "spike :62.547439999999995\n",
      "removed spike from channel C15\n",
      "time :62.840000000004224\n",
      "spike :62.8488\n",
      "removed spike from channel C15\n",
      "time :113.35999999999459\n",
      "spike :113.36027999999999\n",
      "removed spike from channel C15\n",
      "time :113.35999999999459\n",
      "spike :113.36116\n",
      "removed spike from channel C15\n",
      "time :113.35999999999459\n",
      "spike :113.36955999999999\n",
      "removed spike from channel C15\n",
      "time :113.35999999999459\n",
      "spike :113.3706\n",
      "removed spike from channel C15\n",
      "time :113.35999999999459\n",
      "spike :113.375\n",
      "removed spike from channel C15\n",
      "time :118.97999999999347\n",
      "spike :118.99159999999999\n",
      "removed spike from channel C15\n",
      "time :118.97999999999347\n",
      "spike :118.99275999999999\n",
      "removed spike from channel C15\n",
      "time :62.54000000000418\n",
      "spike :62.54656\n",
      "removed spike from channel D13\n",
      "time :62.54000000000418\n",
      "spike :62.54748\n",
      "removed spike from channel D13\n",
      "time :62.840000000004224\n",
      "spike :62.8488\n",
      "removed spike from channel D13\n",
      "time :62.840000000004224\n",
      "spike :62.849599999999995\n",
      "removed spike from channel D13\n",
      "time :113.35999999999459\n",
      "spike :113.36067999999999\n",
      "removed spike from channel D13\n",
      "time :113.35999999999459\n",
      "spike :113.36112\n",
      "removed spike from channel D13\n",
      "time :113.35999999999459\n",
      "spike :113.36955999999999\n",
      "removed spike from channel D13\n",
      "time :113.35999999999459\n",
      "spike :113.37064\n",
      "removed spike from channel D13\n",
      "time :113.35999999999459\n",
      "spike :113.37443999999999\n",
      "removed spike from channel D13\n",
      "time :118.97999999999347\n",
      "spike :118.99192\n",
      "removed spike from channel D13\n",
      "time :118.97999999999347\n",
      "spike :118.99279999999999\n",
      "removed spike from channel D13\n",
      "time :62.54000000000418\n",
      "spike :62.5466\n",
      "removed spike from channel B16\n",
      "time :62.54000000000418\n",
      "spike :62.54748\n",
      "removed spike from channel B16\n",
      "time :62.54000000000418\n",
      "spike :62.55264\n",
      "removed spike from channel B16\n",
      "time :62.840000000004224\n",
      "spike :62.8488\n",
      "removed spike from channel B16\n",
      "time :113.35999999999459\n",
      "spike :113.36055999999999\n",
      "removed spike from channel B16\n",
      "time :113.35999999999459\n",
      "spike :113.36116\n",
      "removed spike from channel B16\n",
      "time :113.35999999999459\n",
      "spike :113.36959999999999\n",
      "removed spike from channel B16\n",
      "time :113.35999999999459\n",
      "spike :113.3706\n",
      "removed spike from channel B16\n",
      "time :113.35999999999459\n",
      "spike :113.37504\n",
      "removed spike from channel B16\n",
      "time :118.97999999999347\n",
      "spike :118.99184\n",
      "removed spike from channel B16\n",
      "time :118.97999999999347\n",
      "spike :118.99271999999999\n",
      "removed spike from channel B16\n",
      "time :62.54000000000418\n",
      "spike :62.54644\n",
      "removed spike from channel B15\n",
      "time :62.54000000000418\n",
      "spike :62.54748\n",
      "removed spike from channel B15\n",
      "time :62.54000000000418\n",
      "spike :62.552\n",
      "removed spike from channel B15\n",
      "time :62.840000000004224\n",
      "spike :62.848839999999996\n",
      "removed spike from channel B15\n",
      "time :62.840000000004224\n",
      "spike :62.84956\n",
      "removed spike from channel B15\n",
      "time :113.35999999999459\n",
      "spike :113.36059999999999\n",
      "removed spike from channel B15\n",
      "time :113.35999999999459\n",
      "spike :113.36128\n",
      "removed spike from channel B15\n",
      "time :113.35999999999459\n",
      "spike :113.36948\n",
      "removed spike from channel B15\n",
      "time :113.35999999999459\n",
      "spike :113.37056\n",
      "removed spike from channel B15\n",
      "time :113.35999999999459\n",
      "spike :113.37496\n",
      "removed spike from channel B15\n",
      "time :118.97999999999347\n",
      "spike :118.99188\n",
      "removed spike from channel B15\n",
      "time :118.97999999999347\n",
      "spike :118.99275999999999\n",
      "removed spike from channel B15\n",
      "time :62.54000000000418\n",
      "spike :62.54656\n",
      "removed spike from channel C14\n",
      "time :62.54000000000418\n",
      "spike :62.54748\n",
      "removed spike from channel C14\n",
      "time :62.840000000004224\n",
      "spike :62.8488\n",
      "removed spike from channel C14\n",
      "time :113.35999999999459\n",
      "spike :113.36027999999999\n",
      "removed spike from channel C14\n",
      "time :113.35999999999459\n",
      "spike :113.36103999999999\n",
      "removed spike from channel C14\n",
      "time :113.35999999999459\n",
      "spike :113.36952\n",
      "removed spike from channel C14\n",
      "time :113.35999999999459\n",
      "spike :113.37056\n",
      "removed spike from channel C14\n",
      "time :118.97999999999347\n",
      "spike :118.99188\n",
      "removed spike from channel C14\n",
      "time :118.97999999999347\n",
      "spike :118.99271999999999\n",
      "removed spike from channel C14\n",
      "time :62.54000000000418\n",
      "spike :62.54656\n",
      "removed spike from channel A15\n",
      "time :113.35999999999459\n",
      "spike :113.36967999999999\n",
      "removed spike from channel A15\n",
      "time :118.97999999999347\n",
      "spike :118.99155999999999\n",
      "removed spike from channel A15\n",
      "time :62.54000000000418\n",
      "spike :62.546519999999994\n",
      "removed spike from channel A14\n",
      "time :62.54000000000418\n",
      "spike :62.547399999999996\n",
      "removed spike from channel A14\n",
      "time :62.840000000004224\n",
      "spike :62.848839999999996\n",
      "removed spike from channel A14\n",
      "time :113.35999999999459\n",
      "spike :113.36023999999999\n",
      "removed spike from channel A14\n",
      "time :113.35999999999459\n",
      "spike :113.36112\n",
      "removed spike from channel A14\n",
      "time :113.35999999999459\n",
      "spike :113.36959999999999\n",
      "removed spike from channel A14\n",
      "time :113.35999999999459\n",
      "spike :113.37056\n",
      "removed spike from channel A14\n",
      "time :118.97999999999347\n",
      "spike :118.99192\n",
      "removed spike from channel A14\n",
      "time :118.97999999999347\n",
      "spike :118.99268\n",
      "removed spike from channel A14\n",
      "time :62.54000000000418\n",
      "spike :62.54656\n",
      "removed spike from channel B14\n",
      "time :62.54000000000418\n",
      "spike :62.54732\n",
      "removed spike from channel B14\n",
      "time :62.840000000004224\n",
      "spike :62.848839999999996\n",
      "removed spike from channel B14\n",
      "time :113.35999999999459\n",
      "spike :113.36023999999999\n",
      "removed spike from channel B14\n",
      "time :113.35999999999459\n",
      "spike :113.36108\n",
      "removed spike from channel B14\n",
      "time :113.35999999999459\n",
      "spike :113.36959999999999\n",
      "removed spike from channel B14\n",
      "time :113.35999999999459\n",
      "spike :113.3706\n",
      "removed spike from channel B14\n",
      "time :113.35999999999459\n",
      "spike :113.37443999999999\n",
      "removed spike from channel B14\n",
      "time :118.97999999999347\n",
      "spike :118.99212\n",
      "removed spike from channel B14\n",
      "time :118.97999999999347\n",
      "spike :118.99271999999999\n",
      "removed spike from channel B14\n",
      "time :62.54000000000418\n",
      "spike :62.54656\n",
      "removed spike from channel G10\n",
      "time :62.54000000000418\n",
      "spike :62.54712\n",
      "removed spike from channel G10\n",
      "time :113.35999999999459\n",
      "spike :113.36032\n",
      "removed spike from channel G10\n",
      "time :113.35999999999459\n",
      "spike :113.36959999999999\n",
      "removed spike from channel G10\n",
      "time :118.97999999999347\n",
      "spike :118.99159999999999\n",
      "removed spike from channel G10\n",
      "time :62.54000000000418\n",
      "spike :62.54656\n",
      "removed spike from channel E12\n",
      "time :62.54000000000418\n",
      "spike :62.54732\n",
      "removed spike from channel E12\n",
      "time :62.840000000004224\n",
      "spike :62.84892\n",
      "removed spike from channel E12\n",
      "time :113.35999999999459\n",
      "spike :113.36036\n",
      "removed spike from channel E12\n",
      "time :113.35999999999459\n",
      "spike :113.36112\n",
      "removed spike from channel E12\n",
      "time :113.35999999999459\n",
      "spike :113.36955999999999\n",
      "removed spike from channel E12\n",
      "time :113.35999999999459\n",
      "spike :113.3706\n",
      "removed spike from channel E12\n",
      "time :113.35999999999459\n",
      "spike :113.37443999999999\n",
      "removed spike from channel E12\n",
      "time :118.97999999999347\n",
      "spike :118.99195999999999\n",
      "removed spike from channel E12\n",
      "time :118.97999999999347\n",
      "spike :118.99275999999999\n",
      "removed spike from channel E12\n",
      "time :62.54000000000418\n",
      "spike :62.5466\n",
      "removed spike from channel B13\n",
      "time :62.54000000000418\n",
      "spike :62.547239999999995\n",
      "removed spike from channel B13\n",
      "time :62.840000000004224\n",
      "spike :62.8488\n",
      "removed spike from channel B13\n",
      "time :113.35999999999459\n",
      "spike :113.36027999999999\n",
      "removed spike from channel B13\n",
      "time :113.35999999999459\n",
      "spike :113.36959999999999\n",
      "removed spike from channel B13\n",
      "time :113.35999999999459\n",
      "spike :113.37052\n",
      "removed spike from channel B13\n",
      "time :118.97999999999347\n",
      "spike :118.99155999999999\n",
      "removed spike from channel B13\n",
      "time :118.97999999999347\n",
      "spike :118.99268\n",
      "removed spike from channel B13\n",
      "time :62.54000000000418\n",
      "spike :62.546079999999996\n",
      "removed spike from channel C13\n",
      "time :62.54000000000418\n",
      "spike :62.547039999999996\n",
      "removed spike from channel C13\n",
      "time :113.35999999999459\n",
      "spike :113.36023999999999\n",
      "removed spike from channel C13\n",
      "time :113.35999999999459\n",
      "spike :113.36972\n",
      "removed spike from channel C13\n",
      "time :118.97999999999347\n",
      "spike :118.99159999999999\n",
      "removed spike from channel C13\n",
      "time :62.54000000000418\n",
      "spike :62.546519999999994\n",
      "removed spike from channel F10\n",
      "time :62.54000000000418\n",
      "spike :62.54732\n",
      "removed spike from channel F10\n",
      "time :62.840000000004224\n",
      "spike :62.8488\n",
      "removed spike from channel F10\n",
      "time :113.35999999999459\n",
      "spike :113.36032\n",
      "removed spike from channel F10\n",
      "time :113.35999999999459\n",
      "spike :113.36108\n",
      "removed spike from channel F10\n",
      "time :113.35999999999459\n",
      "spike :113.36955999999999\n",
      "removed spike from channel F10\n",
      "time :113.35999999999459\n",
      "spike :113.37056\n",
      "removed spike from channel F10\n",
      "time :118.97999999999347\n",
      "spike :118.99192\n",
      "removed spike from channel F10\n",
      "time :118.97999999999347\n",
      "spike :118.99268\n",
      "removed spike from channel F10\n",
      "time :62.54000000000418\n",
      "spike :62.54644\n",
      "removed spike from channel A13\n",
      "time :62.54000000000418\n",
      "spike :62.547399999999996\n",
      "removed spike from channel A13\n",
      "time :62.840000000004224\n",
      "spike :62.8488\n",
      "removed spike from channel A13\n",
      "time :113.35999999999459\n",
      "spike :113.3604\n",
      "removed spike from channel A13\n",
      "time :113.35999999999459\n",
      "spike :113.36099999999999\n",
      "removed spike from channel A13\n",
      "time :113.35999999999459\n",
      "spike :113.36955999999999\n",
      "removed spike from channel A13\n",
      "time :113.35999999999459\n",
      "spike :113.37056\n",
      "removed spike from channel A13\n",
      "time :118.97999999999347\n",
      "spike :118.99203999999999\n",
      "removed spike from channel A13\n",
      "time :118.97999999999347\n",
      "spike :118.99268\n",
      "removed spike from channel A13\n",
      "time :62.54000000000418\n",
      "spike :62.546519999999994\n",
      "removed spike from channel C12\n",
      "time :62.54000000000418\n",
      "spike :62.547399999999996\n",
      "removed spike from channel C12\n",
      "time :62.840000000004224\n",
      "spike :62.84876\n",
      "removed spike from channel C12\n",
      "time :113.35999999999459\n",
      "spike :113.36027999999999\n",
      "removed spike from channel C12\n",
      "time :113.35999999999459\n",
      "spike :113.36103999999999\n",
      "removed spike from channel C12\n",
      "time :113.35999999999459\n",
      "spike :113.36952\n",
      "removed spike from channel C12\n",
      "time :113.35999999999459\n",
      "spike :113.37052\n",
      "removed spike from channel C12\n",
      "time :113.35999999999459\n",
      "spike :113.37447999999999\n",
      "removed spike from channel C12\n",
      "time :118.97999999999347\n",
      "spike :118.99184\n",
      "removed spike from channel C12\n",
      "time :118.97999999999347\n",
      "spike :118.99268\n",
      "removed spike from channel C12\n",
      "time :62.54000000000418\n",
      "spike :62.546479999999995\n",
      "removed spike from channel A12\n",
      "time :62.54000000000418\n",
      "spike :62.547439999999995\n",
      "removed spike from channel A12\n",
      "time :62.840000000004224\n",
      "spike :62.848879999999994\n",
      "removed spike from channel A12\n",
      "time :113.35999999999459\n",
      "spike :113.36027999999999\n",
      "removed spike from channel A12\n",
      "time :113.35999999999459\n",
      "spike :113.36108\n",
      "removed spike from channel A12\n",
      "time :113.35999999999459\n",
      "spike :113.36955999999999\n",
      "removed spike from channel A12\n",
      "time :113.35999999999459\n",
      "spike :113.3706\n",
      "removed spike from channel A12\n",
      "time :113.35999999999459\n",
      "spike :113.37451999999999\n",
      "removed spike from channel A12\n",
      "time :118.97999999999347\n",
      "spike :118.99163999999999\n",
      "removed spike from channel A12\n",
      "time :118.97999999999347\n",
      "spike :118.99271999999999\n",
      "removed spike from channel A12\n",
      "time :62.54000000000418\n",
      "spike :62.546839999999996\n",
      "removed spike from channel B12\n",
      "time :62.54000000000418\n",
      "spike :62.547439999999995\n",
      "removed spike from channel B12\n",
      "time :62.840000000004224\n",
      "spike :62.8488\n",
      "removed spike from channel B12\n",
      "time :113.35999999999459\n",
      "spike :113.36032\n",
      "removed spike from channel B12\n",
      "time :113.35999999999459\n",
      "spike :113.36955999999999\n",
      "removed spike from channel B12\n",
      "time :113.35999999999459\n",
      "spike :113.37048\n",
      "removed spike from channel B12\n",
      "time :118.97999999999347\n",
      "spike :118.99208\n",
      "removed spike from channel B12\n",
      "time :118.97999999999347\n",
      "spike :118.99264\n",
      "removed spike from channel B12\n",
      "time :62.54000000000418\n",
      "spike :62.54656\n",
      "removed spike from channel D11\n",
      "time :62.54000000000418\n",
      "spike :62.547039999999996\n",
      "removed spike from channel D11\n",
      "time :113.35999999999459\n",
      "spike :113.36027999999999\n",
      "removed spike from channel D11\n",
      "time :113.35999999999459\n",
      "spike :113.36963999999999\n",
      "removed spike from channel D11\n",
      "time :118.97999999999347\n",
      "spike :118.99163999999999\n",
      "removed spike from channel D11\n",
      "time :62.54000000000418\n",
      "spike :62.54656\n",
      "removed spike from channel E11\n",
      "time :62.54000000000418\n",
      "spike :62.54748\n",
      "removed spike from channel E11\n",
      "time :62.840000000004224\n",
      "spike :62.8488\n",
      "removed spike from channel E11\n",
      "time :113.35999999999459\n",
      "spike :113.36059999999999\n",
      "removed spike from channel E11\n",
      "time :113.35999999999459\n",
      "spike :113.3612\n",
      "removed spike from channel E11\n",
      "time :113.35999999999459\n",
      "spike :113.36952\n",
      "removed spike from channel E11\n",
      "time :113.35999999999459\n",
      "spike :113.3706\n",
      "removed spike from channel E11\n",
      "time :113.35999999999459\n",
      "spike :113.37447999999999\n",
      "removed spike from channel E11\n",
      "time :118.97999999999347\n",
      "spike :118.99216\n",
      "removed spike from channel E11\n",
      "time :118.97999999999347\n",
      "spike :118.99271999999999\n",
      "removed spike from channel E11\n",
      "time :62.54000000000418\n",
      "spike :62.54656\n",
      "removed spike from channel B11\n",
      "time :62.54000000000418\n",
      "spike :62.54748\n",
      "removed spike from channel B11\n",
      "time :62.840000000004224\n",
      "spike :62.8488\n",
      "removed spike from channel B11\n",
      "time :62.840000000004224\n",
      "spike :62.84952\n",
      "removed spike from channel B11\n",
      "time :113.35999999999459\n",
      "spike :113.36063999999999\n",
      "removed spike from channel B11\n",
      "time :113.35999999999459\n",
      "spike :113.36108\n",
      "removed spike from channel B11\n",
      "time :113.35999999999459\n",
      "spike :113.36963999999999\n",
      "removed spike from channel B11\n",
      "time :113.35999999999459\n",
      "spike :113.37052\n",
      "removed spike from channel B11\n",
      "time :113.35999999999459\n",
      "spike :113.37443999999999\n",
      "removed spike from channel B11\n",
      "time :118.97999999999347\n",
      "spike :118.99208\n",
      "removed spike from channel B11\n",
      "time :118.97999999999347\n",
      "spike :118.99268\n",
      "removed spike from channel B11\n",
      "time :62.54000000000418\n",
      "spike :62.54656\n",
      "removed spike from channel C11\n",
      "time :62.54000000000418\n",
      "spike :62.54732\n",
      "removed spike from channel C11\n",
      "time :62.840000000004224\n",
      "spike :62.8488\n",
      "removed spike from channel C11\n",
      "time :113.35999999999459\n",
      "spike :113.36023999999999\n",
      "removed spike from channel C11\n",
      "time :113.35999999999459\n",
      "spike :113.36108\n",
      "removed spike from channel C11\n",
      "time :113.35999999999459\n",
      "spike :113.36952\n",
      "removed spike from channel C11\n",
      "time :113.35999999999459\n",
      "spike :113.37056\n",
      "removed spike from channel C11\n",
      "time :118.97999999999347\n",
      "spike :118.9918\n",
      "removed spike from channel C11\n",
      "time :118.97999999999347\n",
      "spike :118.99271999999999\n",
      "removed spike from channel C11\n",
      "time :62.54000000000418\n",
      "spike :62.5466\n",
      "removed spike from channel E10\n",
      "time :62.54000000000418\n",
      "spike :62.547439999999995\n",
      "removed spike from channel E10\n",
      "time :62.840000000004224\n",
      "spike :62.848839999999996\n",
      "removed spike from channel E10\n",
      "time :113.35999999999459\n",
      "spike :113.36027999999999\n",
      "removed spike from channel E10\n",
      "time :113.35999999999459\n",
      "spike :113.36103999999999\n",
      "removed spike from channel E10\n",
      "time :113.35999999999459\n",
      "spike :113.36952\n",
      "removed spike from channel E10\n",
      "time :113.35999999999459\n",
      "spike :113.37056\n",
      "removed spike from channel E10\n",
      "time :113.35999999999459\n",
      "spike :113.37519999999999\n",
      "removed spike from channel E10\n",
      "time :118.97999999999347\n",
      "spike :118.99188\n",
      "removed spike from channel E10\n",
      "time :118.97999999999347\n",
      "spike :118.99271999999999\n",
      "removed spike from channel E10\n",
      "time :62.54000000000418\n",
      "spike :62.54656\n",
      "removed spike from channel A11\n",
      "time :62.54000000000418\n",
      "spike :62.54748\n",
      "removed spike from channel A11\n",
      "time :62.840000000004224\n",
      "spike :62.84892\n",
      "removed spike from channel A11\n",
      "time :113.35999999999459\n",
      "spike :113.36036\n",
      "removed spike from channel A11\n",
      "time :113.35999999999459\n",
      "spike :113.36112\n",
      "removed spike from channel A11\n",
      "time :113.35999999999459\n",
      "spike :113.36955999999999\n",
      "removed spike from channel A11\n",
      "time :113.35999999999459\n",
      "spike :113.37056\n",
      "removed spike from channel A11\n",
      "time :113.35999999999459\n",
      "spike :113.375\n",
      "removed spike from channel A11\n",
      "time :118.97999999999347\n",
      "spike :118.99203999999999\n",
      "removed spike from channel A11\n",
      "time :118.97999999999347\n",
      "spike :118.99275999999999\n",
      "removed spike from channel A11\n",
      "time :118.97999999999347\n",
      "spike :118.9986\n",
      "removed spike from channel A11\n",
      "time :62.54000000000418\n",
      "spike :62.54656\n",
      "removed spike from channel C10\n",
      "time :62.54000000000418\n",
      "spike :62.54748\n",
      "removed spike from channel C10\n",
      "time :62.840000000004224\n",
      "spike :62.848839999999996\n",
      "removed spike from channel C10\n",
      "time :113.35999999999459\n",
      "spike :113.36027999999999\n",
      "removed spike from channel C10\n",
      "time :113.35999999999459\n",
      "spike :113.36108\n",
      "removed spike from channel C10\n",
      "time :113.35999999999459\n",
      "spike :113.36955999999999\n",
      "removed spike from channel C10\n",
      "time :113.35999999999459\n",
      "spike :113.37056\n",
      "removed spike from channel C10\n",
      "time :113.35999999999459\n",
      "spike :113.375\n",
      "removed spike from channel C10\n",
      "time :118.97999999999347\n",
      "spike :118.99208\n",
      "removed spike from channel C10\n",
      "time :118.97999999999347\n",
      "spike :118.99268\n",
      "removed spike from channel C10\n",
      "time :62.54000000000418\n",
      "spike :62.546519999999994\n",
      "removed spike from channel D10\n",
      "time :62.54000000000418\n",
      "spike :62.54748\n",
      "removed spike from channel D10\n",
      "time :62.840000000004224\n",
      "spike :62.84896\n",
      "removed spike from channel D10\n",
      "time :113.35999999999459\n",
      "spike :113.36032\n",
      "removed spike from channel D10\n",
      "time :113.35999999999459\n",
      "spike :113.36103999999999\n",
      "removed spike from channel D10\n",
      "time :113.35999999999459\n",
      "spike :113.36959999999999\n",
      "removed spike from channel D10\n",
      "time :113.35999999999459\n",
      "spike :113.37056\n",
      "removed spike from channel D10\n",
      "time :118.97999999999347\n",
      "spike :118.99159999999999\n",
      "removed spike from channel D10\n",
      "time :118.97999999999347\n",
      "spike :118.99268\n",
      "removed spike from channel D10\n",
      "time :62.54000000000418\n",
      "spike :62.5466\n",
      "removed spike from channel A10\n",
      "time :62.54000000000418\n",
      "spike :62.54748\n",
      "removed spike from channel A10\n",
      "time :62.840000000004224\n",
      "spike :62.848839999999996\n",
      "removed spike from channel A10\n",
      "time :113.35999999999459\n",
      "spike :113.36027999999999\n",
      "removed spike from channel A10\n",
      "time :113.35999999999459\n",
      "spike :113.36112\n",
      "removed spike from channel A10\n",
      "time :113.35999999999459\n",
      "spike :113.36959999999999\n",
      "removed spike from channel A10\n",
      "time :113.35999999999459\n",
      "spike :113.3706\n",
      "removed spike from channel A10\n",
      "time :113.35999999999459\n",
      "spike :113.37451999999999\n",
      "removed spike from channel A10\n",
      "time :118.97999999999347\n",
      "spike :118.99159999999999\n",
      "removed spike from channel A10\n",
      "time :118.97999999999347\n",
      "spike :118.99275999999999\n",
      "removed spike from channel A10\n",
      "time :62.54000000000418\n",
      "spike :62.5466\n",
      "removed spike from channel B10\n",
      "time :62.54000000000418\n",
      "spike :62.547399999999996\n",
      "removed spike from channel B10\n",
      "time :62.840000000004224\n",
      "spike :62.8488\n",
      "removed spike from channel B10\n",
      "time :62.840000000004224\n",
      "spike :62.849599999999995\n",
      "removed spike from channel B10\n",
      "time :113.35999999999459\n",
      "spike :113.36027999999999\n",
      "removed spike from channel B10\n",
      "time :113.35999999999459\n",
      "spike :113.36108\n",
      "removed spike from channel B10\n",
      "time :113.35999999999459\n",
      "spike :113.36955999999999\n",
      "removed spike from channel B10\n",
      "time :113.35999999999459\n",
      "spike :113.37056\n",
      "removed spike from channel B10\n",
      "time :113.35999999999459\n",
      "spike :113.37447999999999\n",
      "removed spike from channel B10\n",
      "time :118.97999999999347\n",
      "spike :118.99159999999999\n",
      "removed spike from channel B10\n",
      "time :118.97999999999347\n",
      "spike :118.99271999999999\n",
      "removed spike from channel B10\n",
      "time :62.54000000000418\n",
      "spike :62.546519999999994\n",
      "removed spike from channel D9\n",
      "time :113.35999999999459\n",
      "spike :113.36967999999999\n",
      "removed spike from channel D9\n",
      "time :118.97999999999347\n",
      "spike :118.99159999999999\n",
      "removed spike from channel D9\n",
      "time :62.54000000000418\n",
      "spike :62.546519999999994\n",
      "removed spike from channel E9\n",
      "time :62.54000000000418\n",
      "spike :62.547239999999995\n",
      "removed spike from channel E9\n",
      "time :62.840000000004224\n",
      "spike :62.84956\n",
      "removed spike from channel E9\n",
      "time :113.35999999999459\n",
      "spike :113.36027999999999\n",
      "removed spike from channel E9\n",
      "time :113.35999999999459\n",
      "spike :113.36952\n",
      "removed spike from channel E9\n",
      "time :113.35999999999459\n",
      "spike :113.37052\n",
      "removed spike from channel E9\n",
      "time :118.97999999999347\n",
      "spike :118.99208\n",
      "removed spike from channel E9\n",
      "time :118.97999999999347\n",
      "spike :118.99268\n",
      "removed spike from channel E9\n",
      "time :62.54000000000418\n",
      "spike :62.54656\n",
      "removed spike from channel B9\n",
      "time :62.54000000000418\n",
      "spike :62.54748\n",
      "removed spike from channel B9\n",
      "time :62.54000000000418\n",
      "spike :62.552519999999994\n",
      "removed spike from channel B9\n",
      "time :62.840000000004224\n",
      "spike :62.848839999999996\n",
      "removed spike from channel B9\n",
      "time :62.840000000004224\n",
      "spike :62.849639999999994\n",
      "removed spike from channel B9\n",
      "time :113.35999999999459\n",
      "spike :113.36032\n",
      "removed spike from channel B9\n",
      "time :113.35999999999459\n",
      "spike :113.36128\n",
      "removed spike from channel B9\n",
      "time :113.35999999999459\n",
      "spike :113.36955999999999\n",
      "removed spike from channel B9\n",
      "time :113.35999999999459\n",
      "spike :113.37064\n",
      "removed spike from channel B9\n",
      "time :113.35999999999459\n",
      "spike :113.37504\n",
      "removed spike from channel B9\n",
      "time :113.35999999999459\n",
      "spike :113.37608\n",
      "removed spike from channel B9\n",
      "time :118.97999999999347\n",
      "spike :118.99203999999999\n",
      "removed spike from channel B9\n",
      "time :118.97999999999347\n",
      "spike :118.99284\n",
      "removed spike from channel B9\n",
      "time :118.97999999999347\n",
      "spike :118.99767999999999\n",
      "removed spike from channel B9\n",
      "time :62.54000000000418\n",
      "spike :62.5466\n",
      "removed spike from channel C9\n",
      "time :62.54000000000418\n",
      "spike :62.54748\n",
      "removed spike from channel C9\n",
      "time :62.840000000004224\n",
      "spike :62.848839999999996\n",
      "removed spike from channel C9\n",
      "time :113.35999999999459\n",
      "spike :113.36036\n",
      "removed spike from channel C9\n",
      "time :113.35999999999459\n",
      "spike :113.36108\n",
      "removed spike from channel C9\n",
      "time :113.35999999999459\n",
      "spike :113.36959999999999\n",
      "removed spike from channel C9\n",
      "time :113.35999999999459\n",
      "spike :113.3706\n",
      "removed spike from channel C9\n",
      "time :113.35999999999459\n",
      "spike :113.37451999999999\n",
      "removed spike from channel C9\n",
      "time :118.97999999999347\n",
      "spike :118.99199999999999\n",
      "removed spike from channel C9\n",
      "time :118.97999999999347\n",
      "spike :118.99275999999999\n",
      "removed spike from channel C9\n",
      "time :62.54000000000418\n",
      "spike :62.546519999999994\n",
      "removed spike from channel F9\n",
      "time :62.54000000000418\n",
      "spike :62.547399999999996\n",
      "removed spike from channel F9\n",
      "time :62.840000000004224\n",
      "spike :62.8488\n",
      "removed spike from channel F9\n",
      "time :113.35999999999459\n",
      "spike :113.36032\n",
      "removed spike from channel F9\n",
      "time :113.35999999999459\n",
      "spike :113.36108\n",
      "removed spike from channel F9\n",
      "time :113.35999999999459\n",
      "spike :113.36955999999999\n",
      "removed spike from channel F9\n",
      "time :113.35999999999459\n",
      "spike :113.3706\n",
      "removed spike from channel F9\n",
      "time :113.35999999999459\n",
      "spike :113.375\n",
      "removed spike from channel F9\n",
      "time :118.97999999999347\n",
      "spike :118.99212\n",
      "removed spike from channel F9\n",
      "time :118.97999999999347\n",
      "spike :118.99271999999999\n",
      "removed spike from channel F9\n",
      "time :62.54000000000418\n",
      "spike :62.54644\n",
      "removed spike from channel A9\n",
      "time :62.54000000000418\n",
      "spike :62.54748\n",
      "removed spike from channel A9\n",
      "time :62.840000000004224\n",
      "spike :62.84892\n",
      "removed spike from channel A9\n",
      "time :113.35999999999459\n",
      "spike :113.3604\n",
      "removed spike from channel A9\n",
      "time :113.35999999999459\n",
      "spike :113.36103999999999\n",
      "removed spike from channel A9\n",
      "time :113.35999999999459\n",
      "spike :113.36967999999999\n",
      "removed spike from channel A9\n",
      "time :113.35999999999459\n",
      "spike :113.3706\n",
      "removed spike from channel A9\n",
      "time :118.97999999999347\n",
      "spike :118.99199999999999\n",
      "removed spike from channel A9\n",
      "time :118.97999999999347\n",
      "spike :118.99275999999999\n",
      "removed spike from channel A9\n",
      "time :62.54000000000418\n",
      "spike :62.5466\n",
      "removed spike from channel G8\n",
      "time :62.54000000000418\n",
      "spike :62.54732\n",
      "removed spike from channel G8\n",
      "time :62.840000000004224\n",
      "spike :62.848839999999996\n",
      "removed spike from channel G8\n",
      "time :113.35999999999459\n",
      "spike :113.36067999999999\n",
      "removed spike from channel G8\n",
      "time :113.35999999999459\n",
      "spike :113.36103999999999\n",
      "removed spike from channel G8\n",
      "time :113.35999999999459\n",
      "spike :113.36955999999999\n",
      "removed spike from channel G8\n",
      "time :113.35999999999459\n",
      "spike :113.37048\n",
      "removed spike from channel G8\n",
      "time :118.97999999999347\n",
      "spike :118.99155999999999\n",
      "removed spike from channel G8\n",
      "time :118.97999999999347\n",
      "spike :118.99264\n",
      "removed spike from channel G8\n",
      "time :62.54000000000418\n",
      "spike :62.5468\n",
      "removed spike from channel G9\n",
      "time :62.54000000000418\n",
      "spike :62.547439999999995\n",
      "removed spike from channel G9\n",
      "time :62.840000000004224\n",
      "spike :62.84876\n",
      "removed spike from channel G9\n",
      "time :113.35999999999459\n",
      "spike :113.36027999999999\n",
      "removed spike from channel G9\n",
      "time :113.35999999999459\n",
      "spike :113.36108\n",
      "removed spike from channel G9\n",
      "time :113.35999999999459\n",
      "spike :113.36967999999999\n",
      "removed spike from channel G9\n",
      "time :113.35999999999459\n",
      "spike :113.3706\n",
      "removed spike from channel G9\n",
      "time :113.35999999999459\n",
      "spike :113.37523999999999\n",
      "removed spike from channel G9\n",
      "time :118.97999999999347\n",
      "spike :118.99184\n",
      "removed spike from channel G9\n",
      "time :118.97999999999347\n",
      "spike :118.99275999999999\n",
      "removed spike from channel G9\n",
      "time :62.54000000000418\n",
      "spike :62.54656\n",
      "removed spike from channel A8\n",
      "time :62.54000000000418\n",
      "spike :62.547399999999996\n",
      "removed spike from channel A8\n",
      "time :62.840000000004224\n",
      "spike :62.8488\n",
      "removed spike from channel A8\n",
      "time :113.35999999999459\n",
      "spike :113.36027999999999\n",
      "removed spike from channel A8\n",
      "time :113.35999999999459\n",
      "spike :113.36108\n",
      "removed spike from channel A8\n",
      "time :113.35999999999459\n",
      "spike :113.36967999999999\n",
      "removed spike from channel A8\n",
      "time :113.35999999999459\n",
      "spike :113.37052\n",
      "removed spike from channel A8\n",
      "time :113.35999999999459\n",
      "spike :113.37496\n",
      "removed spike from channel A8\n",
      "time :118.97999999999347\n",
      "spike :118.99208\n",
      "removed spike from channel A8\n",
      "time :118.97999999999347\n",
      "spike :118.99268\n",
      "removed spike from channel A8\n",
      "time :62.54000000000418\n",
      "spike :62.546519999999994\n",
      "removed spike from channel F8\n",
      "time :62.54000000000418\n",
      "spike :62.547399999999996\n",
      "removed spike from channel F8\n",
      "time :62.840000000004224\n",
      "spike :62.8488\n",
      "removed spike from channel F8\n",
      "time :113.35999999999459\n",
      "spike :113.36027999999999\n",
      "removed spike from channel F8\n",
      "time :113.35999999999459\n",
      "spike :113.36103999999999\n",
      "removed spike from channel F8\n",
      "time :113.35999999999459\n",
      "spike :113.36959999999999\n",
      "removed spike from channel F8\n",
      "time :113.35999999999459\n",
      "spike :113.37056\n",
      "removed spike from channel F8\n",
      "time :113.35999999999459\n",
      "spike :113.37496\n",
      "removed spike from channel F8\n",
      "time :118.97999999999347\n",
      "spike :118.99199999999999\n",
      "removed spike from channel F8\n",
      "time :118.97999999999347\n",
      "spike :118.99268\n",
      "removed spike from channel F8\n",
      "time :62.54000000000418\n",
      "spike :62.546519999999994\n",
      "removed spike from channel C8\n",
      "time :62.54000000000418\n",
      "spike :62.547439999999995\n",
      "removed spike from channel C8\n",
      "time :62.840000000004224\n",
      "spike :62.848839999999996\n",
      "removed spike from channel C8\n",
      "time :113.35999999999459\n",
      "spike :113.36055999999999\n",
      "removed spike from channel C8\n",
      "time :113.35999999999459\n",
      "spike :113.3612\n",
      "removed spike from channel C8\n",
      "time :113.35999999999459\n",
      "spike :113.36955999999999\n",
      "removed spike from channel C8\n",
      "time :113.35999999999459\n",
      "spike :113.37052\n",
      "removed spike from channel C8\n",
      "time :113.35999999999459\n",
      "spike :113.37552\n",
      "removed spike from channel C8\n",
      "time :118.97999999999347\n",
      "spike :118.99212\n",
      "removed spike from channel C8\n",
      "time :118.97999999999347\n",
      "spike :118.99275999999999\n",
      "removed spike from channel C8\n",
      "time :62.54000000000418\n",
      "spike :62.5466\n",
      "removed spike from channel B8\n",
      "time :62.54000000000418\n",
      "spike :62.54736\n",
      "removed spike from channel B8\n",
      "time :62.840000000004224\n",
      "spike :62.8488\n",
      "removed spike from channel B8\n",
      "time :113.35999999999459\n",
      "spike :113.36032\n",
      "removed spike from channel B8\n",
      "time :113.35999999999459\n",
      "spike :113.36112\n",
      "removed spike from channel B8\n",
      "time :113.35999999999459\n",
      "spike :113.36963999999999\n",
      "removed spike from channel B8\n",
      "time :113.35999999999459\n",
      "spike :113.3706\n",
      "removed spike from channel B8\n",
      "time :113.35999999999459\n",
      "spike :113.37487999999999\n",
      "removed spike from channel B8\n",
      "time :118.97999999999347\n",
      "spike :118.99159999999999\n",
      "removed spike from channel B8\n",
      "time :118.97999999999347\n",
      "spike :118.99271999999999\n",
      "removed spike from channel B8\n",
      "time :62.54000000000418\n",
      "spike :62.546519999999994\n",
      "removed spike from channel E8\n",
      "time :62.54000000000418\n",
      "spike :62.54748\n",
      "removed spike from channel E8\n",
      "time :62.840000000004224\n",
      "spike :62.848879999999994\n",
      "removed spike from channel E8\n",
      "time :62.840000000004224\n",
      "spike :62.84952\n",
      "removed spike from channel E8\n",
      "time :113.35999999999459\n",
      "spike :113.36052\n",
      "removed spike from channel E8\n",
      "time :113.35999999999459\n",
      "spike :113.36108\n",
      "removed spike from channel E8\n",
      "time :113.35999999999459\n",
      "spike :113.36955999999999\n",
      "removed spike from channel E8\n",
      "time :113.35999999999459\n",
      "spike :113.3706\n",
      "removed spike from channel E8\n",
      "time :113.35999999999459\n",
      "spike :113.37447999999999\n",
      "removed spike from channel E8\n",
      "time :118.97999999999347\n",
      "spike :118.99199999999999\n",
      "removed spike from channel E8\n",
      "time :118.97999999999347\n",
      "spike :118.99279999999999\n",
      "removed spike from channel E8\n",
      "time :62.54000000000418\n",
      "spike :62.5466\n",
      "removed spike from channel D8\n",
      "time :62.54000000000418\n",
      "spike :62.54748\n",
      "removed spike from channel D8\n",
      "time :62.840000000004224\n",
      "spike :62.848839999999996\n",
      "removed spike from channel D8\n",
      "time :113.35999999999459\n",
      "spike :113.36027999999999\n",
      "removed spike from channel D8\n",
      "time :113.35999999999459\n",
      "spike :113.36112\n",
      "removed spike from channel D8\n",
      "time :113.35999999999459\n",
      "spike :113.36959999999999\n",
      "removed spike from channel D8\n",
      "time :113.35999999999459\n",
      "spike :113.37056\n",
      "removed spike from channel D8\n",
      "time :118.97999999999347\n",
      "spike :118.99208\n",
      "removed spike from channel D8\n",
      "time :118.97999999999347\n",
      "spike :118.99271999999999\n",
      "removed spike from channel D8\n",
      "time :62.54000000000418\n",
      "spike :62.5466\n",
      "removed spike from channel B7\n",
      "time :62.54000000000418\n",
      "spike :62.54736\n",
      "removed spike from channel B7\n",
      "time :62.840000000004224\n",
      "spike :62.8488\n",
      "removed spike from channel B7\n",
      "time :113.35999999999459\n",
      "spike :113.36032\n",
      "removed spike from channel B7\n",
      "time :113.35999999999459\n",
      "spike :113.36103999999999\n",
      "removed spike from channel B7\n",
      "time :113.35999999999459\n",
      "spike :113.36959999999999\n",
      "removed spike from channel B7\n",
      "time :113.35999999999459\n",
      "spike :113.3706\n",
      "removed spike from channel B7\n",
      "time :113.35999999999459\n",
      "spike :113.37443999999999\n",
      "removed spike from channel B7\n",
      "time :118.97999999999347\n",
      "spike :118.99155999999999\n",
      "removed spike from channel B7\n",
      "time :118.97999999999347\n",
      "spike :118.99268\n",
      "removed spike from channel B7\n",
      "time :62.54000000000418\n",
      "spike :62.54656\n",
      "removed spike from channel A7\n",
      "time :62.54000000000418\n",
      "spike :62.547439999999995\n",
      "removed spike from channel A7\n",
      "time :62.840000000004224\n",
      "spike :62.8488\n",
      "removed spike from channel A7\n",
      "time :62.840000000004224\n",
      "spike :62.849639999999994\n",
      "removed spike from channel A7\n",
      "time :113.35999999999459\n",
      "spike :113.36036\n",
      "removed spike from channel A7\n",
      "time :113.35999999999459\n",
      "spike :113.36108\n",
      "removed spike from channel A7\n",
      "time :113.35999999999459\n",
      "spike :113.36967999999999\n",
      "removed spike from channel A7\n",
      "time :113.35999999999459\n",
      "spike :113.37056\n",
      "removed spike from channel A7\n",
      "time :113.35999999999459\n",
      "spike :113.37451999999999\n",
      "removed spike from channel A7\n",
      "time :118.97999999999347\n",
      "spike :118.99188\n",
      "removed spike from channel A7\n",
      "time :118.97999999999347\n",
      "spike :118.99275999999999\n",
      "removed spike from channel A7\n",
      "time :62.54000000000418\n",
      "spike :62.54656\n",
      "removed spike from channel D7\n",
      "time :62.54000000000418\n",
      "spike :62.547399999999996\n",
      "removed spike from channel D7\n",
      "time :62.840000000004224\n",
      "spike :62.84892\n",
      "removed spike from channel D7\n",
      "time :62.840000000004224\n",
      "spike :62.849599999999995\n",
      "removed spike from channel D7\n",
      "time :113.35999999999459\n",
      "spike :113.36027999999999\n",
      "removed spike from channel D7\n",
      "time :113.35999999999459\n",
      "spike :113.36108\n",
      "removed spike from channel D7\n",
      "time :113.35999999999459\n",
      "spike :113.36955999999999\n",
      "removed spike from channel D7\n",
      "time :113.35999999999459\n",
      "spike :113.3706\n",
      "removed spike from channel D7\n",
      "time :113.35999999999459\n",
      "spike :113.37443999999999\n",
      "removed spike from channel D7\n",
      "time :118.97999999999347\n",
      "spike :118.99212\n",
      "removed spike from channel D7\n",
      "time :118.97999999999347\n",
      "spike :118.99264\n",
      "removed spike from channel D7\n",
      "time :62.54000000000418\n",
      "spike :62.546479999999995\n",
      "removed spike from channel C7\n",
      "time :62.54000000000418\n",
      "spike :62.547439999999995\n",
      "removed spike from channel C7\n",
      "time :62.840000000004224\n",
      "spike :62.8488\n",
      "removed spike from channel C7\n",
      "time :113.35999999999459\n",
      "spike :113.36027999999999\n",
      "removed spike from channel C7\n",
      "time :113.35999999999459\n",
      "spike :113.36103999999999\n",
      "removed spike from channel C7\n",
      "time :113.35999999999459\n",
      "spike :113.36972\n",
      "removed spike from channel C7\n",
      "time :113.35999999999459\n",
      "spike :113.3706\n",
      "removed spike from channel C7\n",
      "time :113.35999999999459\n",
      "spike :113.37556\n",
      "removed spike from channel C7\n",
      "time :118.97999999999347\n",
      "spike :118.99199999999999\n",
      "removed spike from channel C7\n",
      "time :118.97999999999347\n",
      "spike :118.99271999999999\n",
      "removed spike from channel C7\n",
      "time :62.54000000000418\n",
      "spike :62.5466\n",
      "removed spike from channel A6\n",
      "time :62.54000000000418\n",
      "spike :62.547439999999995\n",
      "removed spike from channel A6\n",
      "time :62.840000000004224\n",
      "spike :62.8488\n",
      "removed spike from channel A6\n",
      "time :113.35999999999459\n",
      "spike :113.36019999999999\n",
      "removed spike from channel A6\n",
      "time :113.35999999999459\n",
      "spike :113.36963999999999\n",
      "removed spike from channel A6\n",
      "time :113.35999999999459\n",
      "spike :113.37052\n",
      "removed spike from channel A6\n",
      "time :118.97999999999347\n",
      "spike :118.99212\n",
      "removed spike from channel A6\n",
      "time :118.97999999999347\n",
      "spike :118.99268\n",
      "removed spike from channel A6\n",
      "time :62.54000000000418\n",
      "spike :62.546519999999994\n",
      "removed spike from channel E7\n",
      "time :62.54000000000418\n",
      "spike :62.54748\n",
      "removed spike from channel E7\n",
      "time :62.840000000004224\n",
      "spike :62.848839999999996\n",
      "removed spike from channel E7\n",
      "time :113.35999999999459\n",
      "spike :113.36067999999999\n",
      "removed spike from channel E7\n",
      "time :113.35999999999459\n",
      "spike :113.36116\n",
      "removed spike from channel E7\n",
      "time :113.35999999999459\n",
      "spike :113.36963999999999\n",
      "removed spike from channel E7\n",
      "time :113.35999999999459\n",
      "spike :113.37052\n",
      "removed spike from channel E7\n",
      "time :113.35999999999459\n",
      "spike :113.375\n",
      "removed spike from channel E7\n",
      "time :118.97999999999347\n",
      "spike :118.99192\n",
      "removed spike from channel E7\n",
      "time :118.97999999999347\n",
      "spike :118.99275999999999\n",
      "removed spike from channel E7\n",
      "time :62.54000000000418\n",
      "spike :62.546479999999995\n",
      "removed spike from channel C6\n",
      "time :62.54000000000418\n",
      "spike :62.54736\n",
      "removed spike from channel C6\n",
      "time :62.840000000004224\n",
      "spike :62.848879999999994\n",
      "removed spike from channel C6\n",
      "time :113.35999999999459\n",
      "spike :113.36023999999999\n",
      "removed spike from channel C6\n",
      "time :113.35999999999459\n",
      "spike :113.36108\n",
      "removed spike from channel C6\n",
      "time :113.35999999999459\n",
      "spike :113.36963999999999\n",
      "removed spike from channel C6\n",
      "time :113.35999999999459\n",
      "spike :113.37052\n",
      "removed spike from channel C6\n",
      "time :113.35999999999459\n",
      "spike :113.3744\n",
      "removed spike from channel C6\n",
      "time :118.97999999999347\n",
      "spike :118.99159999999999\n",
      "removed spike from channel C6\n",
      "time :118.97999999999347\n",
      "spike :118.99268\n",
      "removed spike from channel C6\n",
      "time :62.54000000000418\n",
      "spike :62.5464\n",
      "removed spike from channel B6\n",
      "time :113.35999999999459\n",
      "spike :113.36027999999999\n",
      "removed spike from channel B6\n",
      "time :113.35999999999459\n",
      "spike :113.36959999999999\n",
      "removed spike from channel B6\n",
      "time :118.97999999999347\n",
      "spike :118.99163999999999\n",
      "removed spike from channel B6\n",
      "time :62.54000000000418\n",
      "spike :62.546519999999994\n",
      "removed spike from channel E6\n",
      "time :62.54000000000418\n",
      "spike :62.54736\n",
      "removed spike from channel E6\n",
      "time :62.840000000004224\n",
      "spike :62.848839999999996\n",
      "removed spike from channel E6\n",
      "time :113.35999999999459\n",
      "spike :113.36055999999999\n",
      "removed spike from channel E6\n",
      "time :113.35999999999459\n",
      "spike :113.36963999999999\n",
      "removed spike from channel E6\n",
      "time :113.35999999999459\n",
      "spike :113.37056\n",
      "removed spike from channel E6\n",
      "time :118.97999999999347\n",
      "spike :118.99203999999999\n",
      "removed spike from channel E6\n",
      "time :118.97999999999347\n",
      "spike :118.99275999999999\n",
      "removed spike from channel E6\n",
      "time :62.54000000000418\n",
      "spike :62.546519999999994\n",
      "removed spike from channel D6\n",
      "time :62.54000000000418\n",
      "spike :62.54736\n",
      "removed spike from channel D6\n",
      "time :62.840000000004224\n",
      "spike :62.84892\n",
      "removed spike from channel D6\n",
      "time :113.35999999999459\n",
      "spike :113.36032\n",
      "removed spike from channel D6\n",
      "time :113.35999999999459\n",
      "spike :113.36108\n",
      "removed spike from channel D6\n",
      "time :113.35999999999459\n",
      "spike :113.36955999999999\n",
      "removed spike from channel D6\n",
      "time :113.35999999999459\n",
      "spike :113.3706\n",
      "removed spike from channel D6\n",
      "time :113.35999999999459\n",
      "spike :113.37508\n",
      "removed spike from channel D6\n",
      "time :118.97999999999347\n",
      "spike :118.9922\n",
      "removed spike from channel D6\n",
      "time :118.97999999999347\n",
      "spike :118.99268\n",
      "removed spike from channel D6\n",
      "time :62.54000000000418\n",
      "spike :62.546519999999994\n",
      "removed spike from channel B5\n",
      "time :62.54000000000418\n",
      "spike :62.54716\n",
      "removed spike from channel B5\n",
      "time :62.840000000004224\n",
      "spike :62.848879999999994\n",
      "removed spike from channel B5\n",
      "time :113.35999999999459\n",
      "spike :113.36027999999999\n",
      "removed spike from channel B5\n",
      "time :113.35999999999459\n",
      "spike :113.36963999999999\n",
      "removed spike from channel B5\n",
      "time :113.35999999999459\n",
      "spike :113.37012\n",
      "removed spike from channel B5\n",
      "time :118.97999999999347\n",
      "spike :118.99155999999999\n",
      "removed spike from channel B5\n",
      "time :118.97999999999347\n",
      "spike :118.99239999999999\n",
      "removed spike from channel B5\n",
      "time :62.54000000000418\n",
      "spike :62.546519999999994\n",
      "removed spike from channel A5\n",
      "time :62.54000000000418\n",
      "spike :62.547439999999995\n",
      "removed spike from channel A5\n",
      "time :62.54000000000418\n",
      "spike :62.552679999999995\n",
      "removed spike from channel A5\n",
      "time :62.840000000004224\n",
      "spike :62.8488\n",
      "removed spike from channel A5\n",
      "time :62.840000000004224\n",
      "spike :62.849599999999995\n",
      "removed spike from channel A5\n",
      "time :113.35999999999459\n",
      "spike :113.36023999999999\n",
      "removed spike from channel A5\n",
      "time :113.35999999999459\n",
      "spike :113.36124\n",
      "removed spike from channel A5\n",
      "time :113.35999999999459\n",
      "spike :113.36955999999999\n",
      "removed spike from channel A5\n",
      "time :113.35999999999459\n",
      "spike :113.3706\n",
      "removed spike from channel A5\n",
      "time :113.35999999999459\n",
      "spike :113.37447999999999\n",
      "removed spike from channel A5\n",
      "time :118.97999999999347\n",
      "spike :118.99203999999999\n",
      "removed spike from channel A5\n",
      "time :118.97999999999347\n",
      "spike :118.99268\n",
      "removed spike from channel A5\n",
      "time :62.54000000000418\n",
      "spike :62.54656\n",
      "removed spike from channel D5\n",
      "time :62.54000000000418\n",
      "spike :62.547399999999996\n",
      "removed spike from channel D5\n",
      "time :62.840000000004224\n",
      "spike :62.848879999999994\n",
      "removed spike from channel D5\n",
      "time :113.35999999999459\n",
      "spike :113.36032\n",
      "removed spike from channel D5\n",
      "time :113.35999999999459\n",
      "spike :113.36108\n",
      "removed spike from channel D5\n",
      "time :113.35999999999459\n",
      "spike :113.36959999999999\n",
      "removed spike from channel D5\n",
      "time :113.35999999999459\n",
      "spike :113.37056\n",
      "removed spike from channel D5\n",
      "time :113.35999999999459\n",
      "spike :113.37519999999999\n",
      "removed spike from channel D5\n",
      "time :118.97999999999347\n",
      "spike :118.99212\n",
      "removed spike from channel D5\n",
      "time :118.97999999999347\n",
      "spike :118.99271999999999\n",
      "removed spike from channel D5\n",
      "time :62.54000000000418\n",
      "spike :62.546519999999994\n",
      "removed spike from channel C5\n",
      "time :62.54000000000418\n",
      "spike :62.54736\n",
      "removed spike from channel C5\n",
      "time :62.840000000004224\n",
      "spike :62.848839999999996\n",
      "removed spike from channel C5\n",
      "time :113.35999999999459\n",
      "spike :113.36032\n",
      "removed spike from channel C5\n",
      "time :113.35999999999459\n",
      "spike :113.36112\n",
      "removed spike from channel C5\n",
      "time :113.35999999999459\n",
      "spike :113.36952\n",
      "removed spike from channel C5\n",
      "time :113.35999999999459\n",
      "spike :113.37056\n",
      "removed spike from channel C5\n",
      "time :118.97999999999347\n",
      "spike :118.99188\n",
      "removed spike from channel C5\n",
      "time :118.97999999999347\n",
      "spike :118.99275999999999\n",
      "removed spike from channel C5\n",
      "time :62.54000000000418\n",
      "spike :62.546519999999994\n",
      "removed spike from channel A4\n",
      "time :62.54000000000418\n",
      "spike :62.547399999999996\n",
      "removed spike from channel A4\n",
      "time :62.840000000004224\n",
      "spike :62.848839999999996\n",
      "removed spike from channel A4\n",
      "time :113.35999999999459\n",
      "spike :113.36067999999999\n",
      "removed spike from channel A4\n",
      "time :113.35999999999459\n",
      "spike :113.36108\n",
      "removed spike from channel A4\n",
      "time :113.35999999999459\n",
      "spike :113.36972\n",
      "removed spike from channel A4\n",
      "time :113.35999999999459\n",
      "spike :113.37052\n",
      "removed spike from channel A4\n",
      "time :113.35999999999459\n",
      "spike :113.37428\n",
      "removed spike from channel A4\n",
      "time :118.97999999999347\n",
      "spike :118.99212\n",
      "removed spike from channel A4\n",
      "time :118.97999999999347\n",
      "spike :118.99268\n",
      "removed spike from channel A4\n",
      "time :62.54000000000418\n",
      "spike :62.546119999999995\n",
      "removed spike from channel F7\n",
      "time :113.35999999999459\n",
      "spike :113.36959999999999\n",
      "removed spike from channel F7\n",
      "time :118.97999999999347\n",
      "spike :118.99159999999999\n",
      "removed spike from channel F7\n",
      "time :62.54000000000418\n",
      "spike :62.5466\n",
      "removed spike from channel C4\n",
      "time :62.54000000000418\n",
      "spike :62.54732\n",
      "removed spike from channel C4\n",
      "time :62.840000000004224\n",
      "spike :62.84896\n",
      "removed spike from channel C4\n",
      "time :113.35999999999459\n",
      "spike :113.36027999999999\n",
      "removed spike from channel C4\n",
      "time :113.35999999999459\n",
      "spike :113.36112\n",
      "removed spike from channel C4\n",
      "time :113.35999999999459\n",
      "spike :113.36955999999999\n",
      "removed spike from channel C4\n",
      "time :113.35999999999459\n",
      "spike :113.37056\n",
      "removed spike from channel C4\n",
      "time :118.97999999999347\n",
      "spike :118.99216\n",
      "removed spike from channel C4\n",
      "time :118.97999999999347\n",
      "spike :118.99268\n",
      "removed spike from channel C4\n",
      "time :62.54000000000418\n",
      "spike :62.54656\n",
      "removed spike from channel B4\n",
      "time :62.54000000000418\n",
      "spike :62.54752\n",
      "removed spike from channel B4\n",
      "time :62.54000000000418\n",
      "spike :62.5516\n",
      "removed spike from channel B4\n",
      "time :62.840000000004224\n",
      "spike :62.848879999999994\n",
      "removed spike from channel B4\n",
      "time :113.35999999999459\n",
      "spike :113.36027999999999\n",
      "removed spike from channel B4\n",
      "time :113.35999999999459\n",
      "spike :113.36135999999999\n",
      "removed spike from channel B4\n",
      "time :113.35999999999459\n",
      "spike :113.36967999999999\n",
      "removed spike from channel B4\n",
      "time :113.35999999999459\n",
      "spike :113.3706\n",
      "removed spike from channel B4\n",
      "time :113.35999999999459\n",
      "spike :113.375\n",
      "removed spike from channel B4\n",
      "time :118.97999999999347\n",
      "spike :118.99203999999999\n",
      "removed spike from channel B4\n",
      "time :118.97999999999347\n",
      "spike :118.99275999999999\n",
      "removed spike from channel B4\n",
      "time :118.97999999999347\n",
      "spike :118.99848\n",
      "removed spike from channel B4\n",
      "time :62.54000000000418\n",
      "spike :62.54656\n",
      "removed spike from channel F6\n",
      "time :62.54000000000418\n",
      "spike :62.54748\n",
      "removed spike from channel F6\n",
      "time :62.840000000004224\n",
      "spike :62.848839999999996\n",
      "removed spike from channel F6\n",
      "time :113.35999999999459\n",
      "spike :113.36023999999999\n",
      "removed spike from channel F6\n",
      "time :113.35999999999459\n",
      "spike :113.36099999999999\n",
      "removed spike from channel F6\n",
      "time :113.35999999999459\n",
      "spike :113.36963999999999\n",
      "removed spike from channel F6\n",
      "time :113.35999999999459\n",
      "spike :113.37056\n",
      "removed spike from channel F6\n",
      "time :118.97999999999347\n",
      "spike :118.99212\n",
      "removed spike from channel F6\n",
      "time :118.97999999999347\n",
      "spike :118.99271999999999\n",
      "removed spike from channel F6\n",
      "time :62.54000000000418\n",
      "spike :62.54656\n",
      "removed spike from channel H8\n",
      "time :62.54000000000418\n",
      "spike :62.547439999999995\n",
      "removed spike from channel H8\n",
      "time :62.840000000004224\n",
      "spike :62.8488\n",
      "removed spike from channel H8\n",
      "time :113.35999999999459\n",
      "spike :113.36027999999999\n",
      "removed spike from channel H8\n",
      "time :113.35999999999459\n",
      "spike :113.36103999999999\n",
      "removed spike from channel H8\n",
      "time :113.35999999999459\n",
      "spike :113.36963999999999\n",
      "removed spike from channel H8\n",
      "time :113.35999999999459\n",
      "spike :113.37048\n",
      "removed spike from channel H8\n",
      "time :118.97999999999347\n",
      "spike :118.99155999999999\n",
      "removed spike from channel H8\n",
      "time :118.97999999999347\n",
      "spike :118.99268\n",
      "removed spike from channel H8\n",
      "time :62.54000000000418\n",
      "spike :62.54656\n",
      "removed spike from channel B3\n",
      "time :62.54000000000418\n",
      "spike :62.54736\n",
      "removed spike from channel B3\n",
      "time :62.840000000004224\n",
      "spike :62.848879999999994\n",
      "removed spike from channel B3\n",
      "time :113.35999999999459\n",
      "spike :113.36063999999999\n",
      "removed spike from channel B3\n",
      "time :113.35999999999459\n",
      "spike :113.36112\n",
      "removed spike from channel B3\n",
      "time :113.35999999999459\n",
      "spike :113.36967999999999\n",
      "removed spike from channel B3\n",
      "time :113.35999999999459\n",
      "spike :113.3706\n",
      "removed spike from channel B3\n",
      "time :118.97999999999347\n",
      "spike :118.99208\n",
      "removed spike from channel B3\n",
      "time :118.97999999999347\n",
      "spike :118.99271999999999\n",
      "removed spike from channel B3\n",
      "time :62.54000000000418\n",
      "spike :62.54656\n",
      "removed spike from channel A3\n",
      "time :62.54000000000418\n",
      "spike :62.54736\n",
      "removed spike from channel A3\n",
      "time :62.840000000004224\n",
      "spike :62.848839999999996\n",
      "removed spike from channel A3\n",
      "time :62.840000000004224\n",
      "spike :62.849599999999995\n",
      "removed spike from channel A3\n",
      "time :113.35999999999459\n",
      "spike :113.36055999999999\n",
      "removed spike from channel A3\n",
      "time :113.35999999999459\n",
      "spike :113.36108\n",
      "removed spike from channel A3\n",
      "time :113.35999999999459\n",
      "spike :113.36955999999999\n",
      "removed spike from channel A3\n",
      "time :113.35999999999459\n",
      "spike :113.37056\n",
      "removed spike from channel A3\n",
      "time :113.35999999999459\n",
      "spike :113.37516\n",
      "removed spike from channel A3\n",
      "time :118.97999999999347\n",
      "spike :118.99199999999999\n",
      "removed spike from channel A3\n",
      "time :118.97999999999347\n",
      "spike :118.99268\n",
      "removed spike from channel A3\n",
      "time :118.97999999999347\n",
      "spike :118.99864\n",
      "removed spike from channel A3\n",
      "time :62.54000000000418\n",
      "spike :62.5466\n",
      "removed spike from channel D4\n",
      "time :62.54000000000418\n",
      "spike :62.54748\n",
      "removed spike from channel D4\n",
      "time :62.840000000004224\n",
      "spike :62.84876\n",
      "removed spike from channel D4\n",
      "time :113.35999999999459\n",
      "spike :113.36059999999999\n",
      "removed spike from channel D4\n",
      "time :113.35999999999459\n",
      "spike :113.36112\n",
      "removed spike from channel D4\n",
      "time :113.35999999999459\n",
      "spike :113.36959999999999\n",
      "removed spike from channel D4\n",
      "time :113.35999999999459\n",
      "spike :113.37052\n",
      "removed spike from channel D4\n",
      "time :113.35999999999459\n",
      "spike :113.37556\n",
      "removed spike from channel D4\n",
      "time :118.97999999999347\n",
      "spike :118.99208\n",
      "removed spike from channel D4\n",
      "time :118.97999999999347\n",
      "spike :118.99275999999999\n",
      "removed spike from channel D4\n",
      "time :62.54000000000418\n",
      "spike :62.54656\n",
      "removed spike from channel A2\n",
      "time :62.54000000000418\n",
      "spike :62.547399999999996\n",
      "removed spike from channel A2\n",
      "time :62.840000000004224\n",
      "spike :62.848839999999996\n",
      "removed spike from channel A2\n",
      "time :113.35999999999459\n",
      "spike :113.36063999999999\n",
      "removed spike from channel A2\n",
      "time :113.35999999999459\n",
      "spike :113.36116\n",
      "removed spike from channel A2\n",
      "time :113.35999999999459\n",
      "spike :113.36963999999999\n",
      "removed spike from channel A2\n",
      "time :113.35999999999459\n",
      "spike :113.3706\n",
      "removed spike from channel A2\n",
      "time :113.35999999999459\n",
      "spike :113.37496\n",
      "removed spike from channel A2\n",
      "time :118.97999999999347\n",
      "spike :118.99199999999999\n",
      "removed spike from channel A2\n",
      "time :118.97999999999347\n",
      "spike :118.99268\n",
      "removed spike from channel A2\n",
      "time :62.54000000000418\n",
      "spike :62.546519999999994\n",
      "removed spike from channel B2\n",
      "time :113.35999999999459\n",
      "spike :113.36967999999999\n",
      "removed spike from channel B2\n",
      "time :118.97999999999347\n",
      "spike :118.99159999999999\n",
      "removed spike from channel B2\n",
      "time :62.54000000000418\n",
      "spike :62.546519999999994\n",
      "removed spike from channel B1\n",
      "time :62.54000000000418\n",
      "spike :62.54752\n",
      "removed spike from channel B1\n",
      "time :62.840000000004224\n",
      "spike :62.8488\n",
      "removed spike from channel B1\n",
      "time :113.35999999999459\n",
      "spike :113.36032\n",
      "removed spike from channel B1\n",
      "time :113.35999999999459\n",
      "spike :113.36108\n",
      "removed spike from channel B1\n",
      "time :113.35999999999459\n",
      "spike :113.36959999999999\n",
      "removed spike from channel B1\n",
      "time :113.35999999999459\n",
      "spike :113.37052\n",
      "removed spike from channel B1\n",
      "time :113.35999999999459\n",
      "spike :113.37487999999999\n",
      "removed spike from channel B1\n",
      "time :118.97999999999347\n",
      "spike :118.99216\n",
      "removed spike from channel B1\n",
      "time :118.97999999999347\n",
      "spike :118.99271999999999\n",
      "removed spike from channel B1\n",
      "time :118.97999999999347\n",
      "spike :118.9978\n",
      "removed spike from channel B1\n",
      "time :62.54000000000418\n",
      "spike :62.54656\n",
      "removed spike from channel C3\n",
      "time :62.54000000000418\n",
      "spike :62.54748\n",
      "removed spike from channel C3\n",
      "time :62.840000000004224\n",
      "spike :62.8488\n",
      "removed spike from channel C3\n",
      "time :113.35999999999459\n",
      "spike :113.36023999999999\n",
      "removed spike from channel C3\n",
      "time :113.35999999999459\n",
      "spike :113.36108\n",
      "removed spike from channel C3\n",
      "time :113.35999999999459\n",
      "spike :113.36963999999999\n",
      "removed spike from channel C3\n",
      "time :113.35999999999459\n",
      "spike :113.37052\n",
      "removed spike from channel C3\n",
      "time :113.35999999999459\n",
      "spike :113.375\n",
      "removed spike from channel C3\n",
      "time :118.97999999999347\n",
      "spike :118.99208\n",
      "removed spike from channel C3\n",
      "time :118.97999999999347\n",
      "spike :118.99271999999999\n",
      "removed spike from channel C3\n",
      "time :62.54000000000418\n",
      "spike :62.54656\n",
      "removed spike from channel C2\n",
      "time :62.54000000000418\n",
      "spike :62.547439999999995\n",
      "removed spike from channel C2\n",
      "time :62.840000000004224\n",
      "spike :62.84876\n",
      "removed spike from channel C2\n",
      "time :113.35999999999459\n",
      "spike :113.36027999999999\n",
      "removed spike from channel C2\n",
      "time :113.35999999999459\n",
      "spike :113.36108\n",
      "removed spike from channel C2\n",
      "time :113.35999999999459\n",
      "spike :113.36952\n",
      "removed spike from channel C2\n",
      "time :113.35999999999459\n",
      "spike :113.37052\n",
      "removed spike from channel C2\n",
      "time :113.35999999999459\n",
      "spike :113.3744\n",
      "removed spike from channel C2\n",
      "time :118.97999999999347\n",
      "spike :118.99199999999999\n",
      "removed spike from channel C2\n",
      "time :118.97999999999347\n",
      "spike :118.9926\n",
      "removed spike from channel C2\n",
      "time :62.54000000000418\n",
      "spike :62.5466\n",
      "removed spike from channel C1\n",
      "time :62.54000000000418\n",
      "spike :62.547439999999995\n",
      "removed spike from channel C1\n",
      "time :62.840000000004224\n",
      "spike :62.8488\n",
      "removed spike from channel C1\n",
      "time :113.35999999999459\n",
      "spike :113.36032\n",
      "removed spike from channel C1\n",
      "time :113.35999999999459\n",
      "spike :113.36959999999999\n",
      "removed spike from channel C1\n",
      "time :113.35999999999459\n",
      "spike :113.37048\n",
      "removed spike from channel C1\n",
      "time :113.35999999999459\n",
      "spike :113.37496\n",
      "removed spike from channel C1\n",
      "time :118.97999999999347\n",
      "spike :118.99159999999999\n",
      "removed spike from channel C1\n",
      "time :118.97999999999347\n",
      "spike :118.99264\n",
      "removed spike from channel C1\n",
      "time :62.54000000000418\n",
      "spike :62.54656\n",
      "removed spike from channel E5\n",
      "time :62.54000000000418\n",
      "spike :62.54728\n",
      "removed spike from channel E5\n",
      "time :62.840000000004224\n",
      "spike :62.8488\n",
      "removed spike from channel E5\n",
      "time :113.35999999999459\n",
      "spike :113.36023999999999\n",
      "removed spike from channel E5\n",
      "time :113.35999999999459\n",
      "spike :113.36108\n",
      "removed spike from channel E5\n",
      "time :113.35999999999459\n",
      "spike :113.36967999999999\n",
      "removed spike from channel E5\n",
      "time :113.35999999999459\n",
      "spike :113.37056\n",
      "removed spike from channel E5\n",
      "time :113.35999999999459\n",
      "spike :113.37447999999999\n",
      "removed spike from channel E5\n",
      "time :118.97999999999347\n",
      "spike :118.99195999999999\n",
      "removed spike from channel E5\n",
      "time :118.97999999999347\n",
      "spike :118.99271999999999\n",
      "removed spike from channel E5\n",
      "time :62.54000000000418\n",
      "spike :62.54656\n",
      "removed spike from channel G7\n",
      "time :62.54000000000418\n",
      "spike :62.54748\n",
      "removed spike from channel G7\n",
      "time :62.840000000004224\n",
      "spike :62.848839999999996\n",
      "removed spike from channel G7\n",
      "time :62.840000000004224\n",
      "spike :62.84956\n",
      "removed spike from channel G7\n",
      "time :62.840000000004224\n",
      "spike :62.853919999999995\n",
      "removed spike from channel G7\n",
      "time :113.35999999999459\n",
      "spike :113.36032\n",
      "removed spike from channel G7\n",
      "time :113.35999999999459\n",
      "spike :113.36116\n",
      "removed spike from channel G7\n",
      "time :113.35999999999459\n",
      "spike :113.36963999999999\n",
      "removed spike from channel G7\n",
      "time :113.35999999999459\n",
      "spike :113.37056\n",
      "removed spike from channel G7\n",
      "time :113.35999999999459\n",
      "spike :113.37552\n",
      "removed spike from channel G7\n",
      "time :118.97999999999347\n",
      "spike :118.99203999999999\n",
      "removed spike from channel G7\n",
      "time :118.97999999999347\n",
      "spike :118.99275999999999\n",
      "removed spike from channel G7\n",
      "time :118.97999999999347\n",
      "spike :118.99664\n",
      "removed spike from channel G7\n",
      "time :62.54000000000418\n",
      "spike :62.54644\n",
      "removed spike from channel D3\n",
      "time :62.54000000000418\n",
      "spike :62.54732\n",
      "removed spike from channel D3\n",
      "time :62.840000000004224\n",
      "spike :62.848839999999996\n",
      "removed spike from channel D3\n",
      "time :113.35999999999459\n",
      "spike :113.36023999999999\n",
      "removed spike from channel D3\n",
      "time :113.35999999999459\n",
      "spike :113.36959999999999\n",
      "removed spike from channel D3\n",
      "time :113.35999999999459\n",
      "spike :113.37048\n",
      "removed spike from channel D3\n",
      "time :118.97999999999347\n",
      "spike :118.99159999999999\n",
      "removed spike from channel D3\n",
      "time :118.97999999999347\n",
      "spike :118.99264\n",
      "removed spike from channel D3\n",
      "time :62.54000000000418\n",
      "spike :62.54656\n",
      "removed spike from channel D2\n",
      "time :62.54000000000418\n",
      "spike :62.547079999999994\n",
      "removed spike from channel D2\n",
      "time :62.840000000004224\n",
      "spike :62.848879999999994\n",
      "removed spike from channel D2\n",
      "time :113.35999999999459\n",
      "spike :113.36027999999999\n",
      "removed spike from channel D2\n",
      "time :113.35999999999459\n",
      "spike :113.36963999999999\n",
      "removed spike from channel D2\n",
      "time :118.97999999999347\n",
      "spike :118.99159999999999\n",
      "removed spike from channel D2\n",
      "time :62.54000000000418\n",
      "spike :62.5466\n",
      "removed spike from channel D1\n",
      "time :62.54000000000418\n",
      "spike :62.54736\n",
      "removed spike from channel D1\n",
      "time :62.840000000004224\n",
      "spike :62.8488\n",
      "removed spike from channel D1\n",
      "time :113.35999999999459\n",
      "spike :113.36023999999999\n",
      "removed spike from channel D1\n",
      "time :113.35999999999459\n",
      "spike :113.36112\n",
      "removed spike from channel D1\n",
      "time :113.35999999999459\n",
      "spike :113.36948\n",
      "removed spike from channel D1\n",
      "time :113.35999999999459\n",
      "spike :113.37052\n",
      "removed spike from channel D1\n",
      "time :118.97999999999347\n",
      "spike :118.99208\n",
      "removed spike from channel D1\n",
      "time :118.97999999999347\n",
      "spike :118.99271999999999\n",
      "removed spike from channel D1\n",
      "time :62.54000000000418\n",
      "spike :62.54636\n",
      "removed spike from channel G6\n",
      "time :113.35999999999459\n",
      "spike :113.36027999999999\n",
      "removed spike from channel G6\n",
      "time :113.35999999999459\n",
      "spike :113.36967999999999\n",
      "removed spike from channel G6\n",
      "time :118.97999999999347\n",
      "spike :118.99159999999999\n",
      "removed spike from channel G6\n",
      "time :62.54000000000418\n",
      "spike :62.5468\n",
      "removed spike from channel E4\n",
      "time :62.54000000000418\n",
      "spike :62.54748\n",
      "removed spike from channel E4\n",
      "time :62.840000000004224\n",
      "spike :62.8488\n",
      "removed spike from channel E4\n",
      "time :113.35999999999459\n",
      "spike :113.36023999999999\n",
      "removed spike from channel E4\n",
      "time :113.35999999999459\n",
      "spike :113.36959999999999\n",
      "removed spike from channel E4\n",
      "time :113.35999999999459\n",
      "spike :113.37048\n",
      "removed spike from channel E4\n",
      "time :118.97999999999347\n",
      "spike :118.99212\n",
      "removed spike from channel E4\n",
      "time :118.97999999999347\n",
      "spike :118.99248\n",
      "removed spike from channel E4\n",
      "time :62.54000000000418\n",
      "spike :62.54656\n",
      "removed spike from channel E3\n",
      "time :62.54000000000418\n",
      "spike :62.54748\n",
      "removed spike from channel E3\n",
      "time :62.840000000004224\n",
      "spike :62.8488\n",
      "removed spike from channel E3\n",
      "time :113.35999999999459\n",
      "spike :113.36023999999999\n",
      "removed spike from channel E3\n",
      "time :113.35999999999459\n",
      "spike :113.36108\n",
      "removed spike from channel E3\n",
      "time :113.35999999999459\n",
      "spike :113.36959999999999\n",
      "removed spike from channel E3\n",
      "time :113.35999999999459\n",
      "spike :113.37056\n",
      "removed spike from channel E3\n",
      "time :113.35999999999459\n",
      "spike :113.375\n",
      "removed spike from channel E3\n",
      "time :118.97999999999347\n",
      "spike :118.99167999999999\n",
      "removed spike from channel E3\n",
      "time :118.97999999999347\n",
      "spike :118.99268\n",
      "removed spike from channel E3\n",
      "time :62.54000000000418\n",
      "spike :62.54656\n",
      "removed spike from channel E2\n",
      "time :62.54000000000418\n",
      "spike :62.5472\n",
      "removed spike from channel E2\n",
      "time :62.840000000004224\n",
      "spike :62.8488\n",
      "removed spike from channel E2\n",
      "time :113.35999999999459\n",
      "spike :113.36023999999999\n",
      "removed spike from channel E2\n",
      "time :113.35999999999459\n",
      "spike :113.36952\n",
      "removed spike from channel E2\n",
      "time :113.35999999999459\n",
      "spike :113.37016\n",
      "removed spike from channel E2\n",
      "time :118.97999999999347\n",
      "spike :118.99159999999999\n",
      "removed spike from channel E2\n",
      "time :62.54000000000418\n",
      "spike :62.54644\n",
      "removed spike from channel E1\n",
      "time :113.35999999999459\n",
      "spike :113.36959999999999\n",
      "removed spike from channel E1\n",
      "time :118.97999999999347\n",
      "spike :118.99163999999999\n",
      "removed spike from channel E1\n",
      "time :62.54000000000418\n",
      "spike :62.5466\n",
      "removed spike from channel F5\n",
      "time :62.54000000000418\n",
      "spike :62.54748\n",
      "removed spike from channel F5\n",
      "time :62.840000000004224\n",
      "spike :62.8488\n",
      "removed spike from channel F5\n",
      "time :113.35999999999459\n",
      "spike :113.36027999999999\n",
      "removed spike from channel F5\n",
      "time :113.35999999999459\n",
      "spike :113.36103999999999\n",
      "removed spike from channel F5\n",
      "time :113.35999999999459\n",
      "spike :113.36972\n",
      "removed spike from channel F5\n",
      "time :113.35999999999459\n",
      "spike :113.37052\n",
      "removed spike from channel F5\n",
      "time :113.35999999999459\n",
      "spike :113.37516\n",
      "removed spike from channel F5\n",
      "time :118.97999999999347\n",
      "spike :118.99212\n",
      "removed spike from channel F5\n",
      "time :118.97999999999347\n",
      "spike :118.99268\n",
      "removed spike from channel F5\n",
      "time :62.54000000000418\n",
      "spike :62.546519999999994\n",
      "removed spike from channel F4\n",
      "time :62.54000000000418\n",
      "spike :62.54736\n",
      "removed spike from channel F4\n",
      "time :62.840000000004224\n",
      "spike :62.848839999999996\n",
      "removed spike from channel F4\n",
      "time :113.35999999999459\n",
      "spike :113.36027999999999\n",
      "removed spike from channel F4\n",
      "time :113.35999999999459\n",
      "spike :113.36112\n",
      "removed spike from channel F4\n",
      "time :113.35999999999459\n",
      "spike :113.36963999999999\n",
      "removed spike from channel F4\n",
      "time :113.35999999999459\n",
      "spike :113.37056\n",
      "removed spike from channel F4\n",
      "time :113.35999999999459\n",
      "spike :113.37496\n",
      "removed spike from channel F4\n",
      "time :118.97999999999347\n",
      "spike :118.99212\n",
      "removed spike from channel F4\n",
      "time :118.97999999999347\n",
      "spike :118.99271999999999\n",
      "removed spike from channel F4\n",
      "time :62.54000000000418\n",
      "spike :62.54656\n",
      "removed spike from channel F3\n",
      "time :62.54000000000418\n",
      "spike :62.547399999999996\n",
      "removed spike from channel F3\n",
      "time :62.840000000004224\n",
      "spike :62.848839999999996\n",
      "removed spike from channel F3\n",
      "time :113.35999999999459\n",
      "spike :113.36027999999999\n",
      "removed spike from channel F3\n",
      "time :113.35999999999459\n",
      "spike :113.36112\n",
      "removed spike from channel F3\n",
      "time :113.35999999999459\n",
      "spike :113.36955999999999\n",
      "removed spike from channel F3\n",
      "time :113.35999999999459\n",
      "spike :113.37052\n",
      "removed spike from channel F3\n",
      "time :113.35999999999459\n",
      "spike :113.37508\n",
      "removed spike from channel F3\n",
      "time :118.97999999999347\n",
      "spike :118.99208\n",
      "removed spike from channel F3\n",
      "time :118.97999999999347\n",
      "spike :118.99271999999999\n",
      "removed spike from channel F3\n",
      "time :62.54000000000418\n",
      "spike :62.54656\n",
      "removed spike from channel F2\n",
      "time :62.54000000000418\n",
      "spike :62.54748\n",
      "removed spike from channel F2\n",
      "time :62.840000000004224\n",
      "spike :62.8488\n",
      "removed spike from channel F2\n",
      "time :113.35999999999459\n",
      "spike :113.36032\n",
      "removed spike from channel F2\n",
      "time :113.35999999999459\n",
      "spike :113.36955999999999\n",
      "removed spike from channel F2\n",
      "time :113.35999999999459\n",
      "spike :113.37043999999999\n",
      "removed spike from channel F2\n",
      "time :118.97999999999347\n",
      "spike :118.99203999999999\n",
      "removed spike from channel F2\n",
      "time :118.97999999999347\n",
      "spike :118.9926\n",
      "removed spike from channel F2\n",
      "time :62.54000000000418\n",
      "spike :62.54656\n",
      "removed spike from channel F1\n",
      "time :62.54000000000418\n",
      "spike :62.54728\n",
      "removed spike from channel F1\n",
      "time :62.840000000004224\n",
      "spike :62.8488\n",
      "removed spike from channel F1\n",
      "time :113.35999999999459\n",
      "spike :113.36023999999999\n",
      "removed spike from channel F1\n",
      "time :113.35999999999459\n",
      "spike :113.36948\n",
      "removed spike from channel F1\n",
      "time :113.35999999999459\n",
      "spike :113.37043999999999\n",
      "removed spike from channel F1\n",
      "time :118.97999999999347\n",
      "spike :118.99203999999999\n",
      "removed spike from channel F1\n",
      "time :118.97999999999347\n",
      "spike :118.99264\n",
      "removed spike from channel F1\n",
      "time :62.54000000000418\n",
      "spike :62.5464\n",
      "removed spike from channel G5\n",
      "time :62.54000000000418\n",
      "spike :62.547399999999996\n",
      "removed spike from channel G5\n",
      "time :62.840000000004224\n",
      "spike :62.848879999999994\n",
      "removed spike from channel G5\n",
      "time :113.35999999999459\n",
      "spike :113.36027999999999\n",
      "removed spike from channel G5\n",
      "time :113.35999999999459\n",
      "spike :113.36108\n",
      "removed spike from channel G5\n",
      "time :113.35999999999459\n",
      "spike :113.36967999999999\n",
      "removed spike from channel G5\n",
      "time :113.35999999999459\n",
      "spike :113.37056\n",
      "removed spike from channel G5\n",
      "time :113.35999999999459\n",
      "spike :113.37436\n",
      "removed spike from channel G5\n",
      "time :118.97999999999347\n",
      "spike :118.99163999999999\n",
      "removed spike from channel G5\n",
      "time :118.97999999999347\n",
      "spike :118.99271999999999\n",
      "removed spike from channel G5\n",
      "time :62.54000000000418\n",
      "spike :62.54636\n",
      "removed spike from channel G4\n",
      "time :62.54000000000418\n",
      "spike :62.54728\n",
      "removed spike from channel G4\n",
      "time :62.840000000004224\n",
      "spike :62.848839999999996\n",
      "removed spike from channel G4\n",
      "time :113.35999999999459\n",
      "spike :113.36052\n",
      "removed spike from channel G4\n",
      "time :113.35999999999459\n",
      "spike :113.36959999999999\n",
      "removed spike from channel G4\n",
      "time :113.35999999999459\n",
      "spike :113.37031999999999\n",
      "removed spike from channel G4\n",
      "time :118.97999999999347\n",
      "spike :118.99155999999999\n",
      "removed spike from channel G4\n",
      "time :118.97999999999347\n",
      "spike :118.99268\n",
      "removed spike from channel G4\n",
      "time :62.54000000000418\n",
      "spike :62.54656\n",
      "removed spike from channel G3\n",
      "time :62.54000000000418\n",
      "spike :62.5472\n",
      "removed spike from channel G3\n",
      "time :62.840000000004224\n",
      "spike :62.848839999999996\n",
      "removed spike from channel G3\n",
      "time :113.35999999999459\n",
      "spike :113.36027999999999\n",
      "removed spike from channel G3\n",
      "time :113.35999999999459\n",
      "spike :113.36967999999999\n",
      "removed spike from channel G3\n",
      "time :113.35999999999459\n",
      "spike :113.3702\n",
      "removed spike from channel G3\n",
      "time :118.97999999999347\n",
      "spike :118.99163999999999\n",
      "removed spike from channel G3\n",
      "time :118.97999999999347\n",
      "spike :118.99248\n",
      "removed spike from channel G3\n",
      "time :62.54000000000418\n",
      "spike :62.5464\n",
      "removed spike from channel G2\n",
      "time :62.54000000000418\n",
      "spike :62.54728\n",
      "removed spike from channel G2\n",
      "time :62.840000000004224\n",
      "spike :62.848839999999996\n",
      "removed spike from channel G2\n",
      "time :113.35999999999459\n",
      "spike :113.36019999999999\n",
      "removed spike from channel G2\n",
      "time :113.35999999999459\n",
      "spike :113.36963999999999\n",
      "removed spike from channel G2\n",
      "time :113.35999999999459\n",
      "spike :113.37035999999999\n",
      "removed spike from channel G2\n",
      "time :118.97999999999347\n",
      "spike :118.99155999999999\n",
      "removed spike from channel G2\n",
      "time :118.97999999999347\n",
      "spike :118.99268\n",
      "removed spike from channel G2\n",
      "time :62.54000000000418\n",
      "spike :62.546519999999994\n",
      "removed spike from channel G1\n",
      "time :62.54000000000418\n",
      "spike :62.54736\n",
      "removed spike from channel G1\n",
      "time :62.840000000004224\n",
      "spike :62.8488\n",
      "removed spike from channel G1\n",
      "time :113.35999999999459\n",
      "spike :113.36059999999999\n",
      "removed spike from channel G1\n",
      "time :113.35999999999459\n",
      "spike :113.3612\n",
      "removed spike from channel G1\n",
      "time :113.35999999999459\n",
      "spike :113.36972\n",
      "removed spike from channel G1\n",
      "time :113.35999999999459\n",
      "spike :113.37064\n",
      "removed spike from channel G1\n",
      "time :113.35999999999459\n",
      "spike :113.375\n",
      "removed spike from channel G1\n",
      "time :118.97999999999347\n",
      "spike :118.99212\n",
      "removed spike from channel G1\n",
      "time :118.97999999999347\n",
      "spike :118.99268\n",
      "removed spike from channel G1\n",
      "time :62.54000000000418\n",
      "spike :62.54656\n",
      "removed spike from channel H5\n",
      "time :62.54000000000418\n",
      "spike :62.54748\n",
      "removed spike from channel H5\n",
      "time :62.840000000004224\n",
      "spike :62.848839999999996\n",
      "removed spike from channel H5\n",
      "time :113.35999999999459\n",
      "spike :113.36052\n",
      "removed spike from channel H5\n",
      "time :113.35999999999459\n",
      "spike :113.36112\n",
      "removed spike from channel H5\n",
      "time :113.35999999999459\n",
      "spike :113.36955999999999\n",
      "removed spike from channel H5\n",
      "time :113.35999999999459\n",
      "spike :113.37048\n",
      "removed spike from channel H5\n",
      "time :118.97999999999347\n",
      "spike :118.99159999999999\n",
      "removed spike from channel H5\n",
      "time :118.97999999999347\n",
      "spike :118.99268\n",
      "removed spike from channel H5\n",
      "time :62.54000000000418\n",
      "spike :62.546479999999995\n",
      "removed spike from channel H4\n",
      "time :62.54000000000418\n",
      "spike :62.547079999999994\n",
      "removed spike from channel H4\n",
      "time :113.35999999999459\n",
      "spike :113.36023999999999\n",
      "removed spike from channel H4\n",
      "time :113.35999999999459\n",
      "spike :113.36963999999999\n",
      "removed spike from channel H4\n",
      "time :113.35999999999459\n",
      "spike :113.37016\n",
      "removed spike from channel H4\n",
      "time :118.97999999999347\n",
      "spike :118.99155999999999\n",
      "removed spike from channel H4\n",
      "time :62.54000000000418\n",
      "spike :62.54644\n",
      "removed spike from channel H3\n",
      "time :62.54000000000418\n",
      "spike :62.547239999999995\n",
      "removed spike from channel H3\n",
      "time :62.840000000004224\n",
      "spike :62.8488\n",
      "removed spike from channel H3\n",
      "time :113.35999999999459\n",
      "spike :113.36023999999999\n",
      "removed spike from channel H3\n",
      "time :113.35999999999459\n",
      "spike :113.36955999999999\n",
      "removed spike from channel H3\n",
      "time :113.35999999999459\n",
      "spike :113.37048\n",
      "removed spike from channel H3\n",
      "time :118.97999999999347\n",
      "spike :118.99208\n",
      "removed spike from channel H3\n",
      "time :118.97999999999347\n",
      "spike :118.9926\n",
      "removed spike from channel H3\n",
      "time :62.54000000000418\n",
      "spike :62.546479999999995\n",
      "removed spike from channel H2\n",
      "time :62.54000000000418\n",
      "spike :62.54732\n",
      "removed spike from channel H2\n",
      "time :62.840000000004224\n",
      "spike :62.848839999999996\n",
      "removed spike from channel H2\n",
      "time :113.35999999999459\n",
      "spike :113.36059999999999\n",
      "removed spike from channel H2\n",
      "time :113.35999999999459\n",
      "spike :113.36955999999999\n",
      "removed spike from channel H2\n",
      "time :113.35999999999459\n",
      "spike :113.37056\n",
      "removed spike from channel H2\n",
      "time :118.97999999999347\n",
      "spike :118.99188\n",
      "removed spike from channel H2\n",
      "time :118.97999999999347\n",
      "spike :118.99264\n",
      "removed spike from channel H2\n",
      "time :62.54000000000418\n",
      "spike :62.5464\n",
      "removed spike from channel H1\n",
      "time :62.54000000000418\n",
      "spike :62.54728\n",
      "removed spike from channel H1\n",
      "time :62.840000000004224\n",
      "spike :62.8488\n",
      "removed spike from channel H1\n",
      "time :113.35999999999459\n",
      "spike :113.36023999999999\n",
      "removed spike from channel H1\n",
      "time :113.35999999999459\n",
      "spike :113.36952\n",
      "removed spike from channel H1\n",
      "time :113.35999999999459\n",
      "spike :113.37043999999999\n",
      "removed spike from channel H1\n",
      "time :118.97999999999347\n",
      "spike :118.99155999999999\n",
      "removed spike from channel H1\n",
      "time :118.97999999999347\n",
      "spike :118.9926\n",
      "removed spike from channel H1\n",
      "time :62.54000000000418\n",
      "spike :62.54636\n",
      "removed spike from channel H6\n",
      "time :62.54000000000418\n",
      "spike :62.54728\n",
      "removed spike from channel H6\n",
      "time :62.840000000004224\n",
      "spike :62.848879999999994\n",
      "removed spike from channel H6\n",
      "time :113.35999999999459\n",
      "spike :113.36063999999999\n",
      "removed spike from channel H6\n",
      "time :113.35999999999459\n",
      "spike :113.36112\n",
      "removed spike from channel H6\n",
      "time :113.35999999999459\n",
      "spike :113.36952\n",
      "removed spike from channel H6\n",
      "time :113.35999999999459\n",
      "spike :113.37043999999999\n",
      "removed spike from channel H6\n",
      "time :118.97999999999347\n",
      "spike :118.99208\n",
      "removed spike from channel H6\n",
      "time :118.97999999999347\n",
      "spike :118.99271999999999\n",
      "removed spike from channel H6\n",
      "time :62.54000000000418\n",
      "spike :62.546479999999995\n",
      "removed spike from channel H7\n",
      "time :62.54000000000418\n",
      "spike :62.54736\n",
      "removed spike from channel H7\n",
      "time :62.840000000004224\n",
      "spike :62.848839999999996\n",
      "removed spike from channel H7\n",
      "time :113.35999999999459\n",
      "spike :113.36027999999999\n",
      "removed spike from channel H7\n",
      "time :113.35999999999459\n",
      "spike :113.36112\n",
      "removed spike from channel H7\n",
      "time :113.35999999999459\n",
      "spike :113.36955999999999\n",
      "removed spike from channel H7\n",
      "time :113.35999999999459\n",
      "spike :113.37052\n",
      "removed spike from channel H7\n",
      "time :118.97999999999347\n",
      "spike :118.99155999999999\n",
      "removed spike from channel H7\n",
      "time :118.97999999999347\n",
      "spike :118.99275999999999\n",
      "removed spike from channel H7\n",
      "time :62.54000000000418\n",
      "spike :62.54656\n",
      "removed spike from channel J7\n",
      "time :62.54000000000418\n",
      "spike :62.547439999999995\n",
      "removed spike from channel J7\n",
      "time :62.840000000004224\n",
      "spike :62.848879999999994\n",
      "removed spike from channel J7\n",
      "time :113.35999999999459\n",
      "spike :113.36055999999999\n",
      "removed spike from channel J7\n",
      "time :113.35999999999459\n",
      "spike :113.36955999999999\n",
      "removed spike from channel J7\n",
      "time :113.35999999999459\n",
      "spike :113.37052\n",
      "removed spike from channel J7\n",
      "time :113.35999999999459\n",
      "spike :113.37559999999999\n",
      "removed spike from channel J7\n",
      "time :118.97999999999347\n",
      "spike :118.99159999999999\n",
      "removed spike from channel J7\n",
      "time :118.97999999999347\n",
      "spike :118.99271999999999\n",
      "removed spike from channel J7\n",
      "time :62.54000000000418\n",
      "spike :62.5466\n",
      "removed spike from channel J6\n",
      "time :62.54000000000418\n",
      "spike :62.5472\n",
      "removed spike from channel J6\n",
      "time :62.840000000004224\n",
      "spike :62.848839999999996\n",
      "removed spike from channel J6\n",
      "time :113.35999999999459\n",
      "spike :113.36027999999999\n",
      "removed spike from channel J6\n",
      "time :113.35999999999459\n",
      "spike :113.36959999999999\n",
      "removed spike from channel J6\n",
      "time :113.35999999999459\n",
      "spike :113.3702\n",
      "removed spike from channel J6\n",
      "time :118.97999999999347\n",
      "spike :118.99159999999999\n",
      "removed spike from channel J6\n",
      "time :118.97999999999347\n",
      "spike :118.99243999999999\n",
      "removed spike from channel J6\n",
      "time :62.54000000000418\n",
      "spike :62.546479999999995\n",
      "removed spike from channel J1\n",
      "time :62.54000000000418\n",
      "spike :62.547239999999995\n",
      "removed spike from channel J1\n",
      "time :62.840000000004224\n",
      "spike :62.8488\n",
      "removed spike from channel J1\n",
      "time :113.35999999999459\n",
      "spike :113.36019999999999\n",
      "removed spike from channel J1\n",
      "time :113.35999999999459\n",
      "spike :113.36967999999999\n",
      "removed spike from channel J1\n",
      "time :113.35999999999459\n",
      "spike :113.37043999999999\n",
      "removed spike from channel J1\n",
      "time :118.97999999999347\n",
      "spike :118.99208\n",
      "removed spike from channel J1\n",
      "time :118.97999999999347\n",
      "spike :118.99268\n",
      "removed spike from channel J1\n",
      "time :62.54000000000418\n",
      "spike :62.54656\n",
      "removed spike from channel J2\n",
      "time :62.54000000000418\n",
      "spike :62.54732\n",
      "removed spike from channel J2\n",
      "time :62.840000000004224\n",
      "spike :62.848839999999996\n",
      "removed spike from channel J2\n",
      "time :113.35999999999459\n",
      "spike :113.36032\n",
      "removed spike from channel J2\n",
      "time :113.35999999999459\n",
      "spike :113.36103999999999\n",
      "removed spike from channel J2\n",
      "time :113.35999999999459\n",
      "spike :113.36955999999999\n",
      "removed spike from channel J2\n",
      "time :113.35999999999459\n",
      "spike :113.37052\n",
      "removed spike from channel J2\n",
      "time :118.97999999999347\n",
      "spike :118.99203999999999\n",
      "removed spike from channel J2\n",
      "time :118.97999999999347\n",
      "spike :118.9926\n",
      "removed spike from channel J2\n",
      "time :62.54000000000418\n",
      "spike :62.5464\n",
      "removed spike from channel J3\n",
      "time :62.54000000000418\n",
      "spike :62.54736\n",
      "removed spike from channel J3\n",
      "time :62.840000000004224\n",
      "spike :62.848879999999994\n",
      "removed spike from channel J3\n",
      "time :113.35999999999459\n",
      "spike :113.36027999999999\n",
      "removed spike from channel J3\n",
      "time :113.35999999999459\n",
      "spike :113.36112\n",
      "removed spike from channel J3\n",
      "time :113.35999999999459\n",
      "spike :113.36955999999999\n",
      "removed spike from channel J3\n",
      "time :113.35999999999459\n",
      "spike :113.37052\n",
      "removed spike from channel J3\n",
      "time :118.97999999999347\n",
      "spike :118.99216\n",
      "removed spike from channel J3\n",
      "time :118.97999999999347\n",
      "spike :118.99264\n",
      "removed spike from channel J3\n",
      "time :62.54000000000418\n",
      "spike :62.54656\n",
      "removed spike from channel J4\n",
      "time :62.54000000000418\n",
      "spike :62.5472\n",
      "removed spike from channel J4\n",
      "time :62.840000000004224\n",
      "spike :62.848839999999996\n",
      "removed spike from channel J4\n",
      "time :113.35999999999459\n",
      "spike :113.36027999999999\n",
      "removed spike from channel J4\n",
      "time :113.35999999999459\n",
      "spike :113.36959999999999\n",
      "removed spike from channel J4\n",
      "time :113.35999999999459\n",
      "spike :113.37016\n",
      "removed spike from channel J4\n",
      "time :118.97999999999347\n",
      "spike :118.99159999999999\n",
      "removed spike from channel J4\n",
      "time :118.97999999999347\n",
      "spike :118.99243999999999\n",
      "removed spike from channel J4\n",
      "time :62.54000000000418\n",
      "spike :62.54664\n",
      "removed spike from channel J5\n",
      "time :62.54000000000418\n",
      "spike :62.54736\n",
      "removed spike from channel J5\n",
      "time :62.840000000004224\n",
      "spike :62.8488\n",
      "removed spike from channel J5\n",
      "time :113.35999999999459\n",
      "spike :113.36027999999999\n",
      "removed spike from channel J5\n",
      "time :113.35999999999459\n",
      "spike :113.36108\n",
      "removed spike from channel J5\n",
      "time :113.35999999999459\n",
      "spike :113.36972\n",
      "removed spike from channel J5\n",
      "time :113.35999999999459\n",
      "spike :113.3706\n",
      "removed spike from channel J5\n",
      "time :118.97999999999347\n",
      "spike :118.99208\n",
      "removed spike from channel J5\n",
      "time :118.97999999999347\n",
      "spike :118.99268\n",
      "removed spike from channel J5\n",
      "time :62.54000000000418\n",
      "spike :62.5466\n",
      "removed spike from channel K1\n",
      "time :62.54000000000418\n",
      "spike :62.54736\n",
      "removed spike from channel K1\n",
      "time :62.840000000004224\n",
      "spike :62.848839999999996\n",
      "removed spike from channel K1\n",
      "time :113.35999999999459\n",
      "spike :113.36023999999999\n",
      "removed spike from channel K1\n",
      "time :113.35999999999459\n",
      "spike :113.36955999999999\n",
      "removed spike from channel K1\n",
      "time :113.35999999999459\n",
      "spike :113.37056\n",
      "removed spike from channel K1\n",
      "time :118.97999999999347\n",
      "spike :118.99208\n",
      "removed spike from channel K1\n",
      "time :118.97999999999347\n",
      "spike :118.99264\n",
      "removed spike from channel K1\n",
      "time :62.54000000000418\n",
      "spike :62.54656\n",
      "removed spike from channel K2\n",
      "time :62.54000000000418\n",
      "spike :62.54748\n",
      "removed spike from channel K2\n",
      "time :62.840000000004224\n",
      "spike :62.848879999999994\n",
      "removed spike from channel K2\n",
      "time :113.35999999999459\n",
      "spike :113.36055999999999\n",
      "removed spike from channel K2\n",
      "time :113.35999999999459\n",
      "spike :113.36108\n",
      "removed spike from channel K2\n",
      "time :113.35999999999459\n",
      "spike :113.36967999999999\n",
      "removed spike from channel K2\n",
      "time :113.35999999999459\n",
      "spike :113.37052\n",
      "removed spike from channel K2\n",
      "time :113.35999999999459\n",
      "spike :113.37443999999999\n",
      "removed spike from channel K2\n",
      "time :118.97999999999347\n",
      "spike :118.99212\n",
      "removed spike from channel K2\n",
      "time :118.97999999999347\n",
      "spike :118.99271999999999\n",
      "removed spike from channel K2\n",
      "time :62.54000000000418\n",
      "spike :62.54664\n",
      "removed spike from channel K3\n",
      "time :62.54000000000418\n",
      "spike :62.54732\n",
      "removed spike from channel K3\n",
      "time :62.840000000004224\n",
      "spike :62.848879999999994\n",
      "removed spike from channel K3\n",
      "time :113.35999999999459\n",
      "spike :113.36027999999999\n",
      "removed spike from channel K3\n",
      "time :113.35999999999459\n",
      "spike :113.36108\n",
      "removed spike from channel K3\n",
      "time :113.35999999999459\n",
      "spike :113.36967999999999\n",
      "removed spike from channel K3\n",
      "time :113.35999999999459\n",
      "spike :113.37052\n",
      "removed spike from channel K3\n",
      "time :118.97999999999347\n",
      "spike :118.99208\n",
      "removed spike from channel K3\n",
      "time :118.97999999999347\n",
      "spike :118.99268\n",
      "removed spike from channel K3\n",
      "time :62.54000000000418\n",
      "spike :62.54636\n",
      "removed spike from channel K4\n",
      "time :62.54000000000418\n",
      "spike :62.547439999999995\n",
      "removed spike from channel K4\n",
      "time :62.54000000000418\n",
      "spike :62.55188\n",
      "removed spike from channel K4\n",
      "time :62.840000000004224\n",
      "spike :62.8488\n",
      "removed spike from channel K4\n",
      "time :113.35999999999459\n",
      "spike :113.36036\n",
      "removed spike from channel K4\n",
      "time :113.35999999999459\n",
      "spike :113.36108\n",
      "removed spike from channel K4\n",
      "time :113.35999999999459\n",
      "spike :113.36967999999999\n",
      "removed spike from channel K4\n",
      "time :113.35999999999459\n",
      "spike :113.3706\n",
      "removed spike from channel K4\n",
      "time :113.35999999999459\n",
      "spike :113.375\n",
      "removed spike from channel K4\n",
      "time :118.97999999999347\n",
      "spike :118.99188\n",
      "removed spike from channel K4\n",
      "time :118.97999999999347\n",
      "spike :118.99271999999999\n",
      "removed spike from channel K4\n",
      "time :118.97999999999347\n",
      "spike :118.9978\n",
      "removed spike from channel K4\n",
      "time :62.54000000000418\n",
      "spike :62.5464\n",
      "removed spike from channel K5\n",
      "time :113.35999999999459\n",
      "spike :113.36959999999999\n",
      "removed spike from channel K5\n",
      "time :118.97999999999347\n",
      "spike :118.99155999999999\n",
      "removed spike from channel K5\n",
      "time :62.54000000000418\n",
      "spike :62.54656\n",
      "removed spike from channel L1\n",
      "time :62.54000000000418\n",
      "spike :62.54748\n",
      "removed spike from channel L1\n",
      "time :62.840000000004224\n",
      "spike :62.848879999999994\n",
      "removed spike from channel L1\n",
      "time :113.35999999999459\n",
      "spike :113.36059999999999\n",
      "removed spike from channel L1\n",
      "time :113.35999999999459\n",
      "spike :113.36112\n",
      "removed spike from channel L1\n",
      "time :113.35999999999459\n",
      "spike :113.36952\n",
      "removed spike from channel L1\n",
      "time :113.35999999999459\n",
      "spike :113.3706\n",
      "removed spike from channel L1\n",
      "time :113.35999999999459\n",
      "spike :113.37496\n",
      "removed spike from channel L1\n",
      "time :118.97999999999347\n",
      "spike :118.99203999999999\n",
      "removed spike from channel L1\n",
      "time :118.97999999999347\n",
      "spike :118.99275999999999\n",
      "removed spike from channel L1\n",
      "time :62.54000000000418\n",
      "spike :62.54656\n",
      "removed spike from channel L2\n",
      "time :62.54000000000418\n",
      "spike :62.54736\n",
      "removed spike from channel L2\n",
      "time :62.840000000004224\n",
      "spike :62.8488\n",
      "removed spike from channel L2\n",
      "time :113.35999999999459\n",
      "spike :113.36023999999999\n",
      "removed spike from channel L2\n",
      "time :113.35999999999459\n",
      "spike :113.36124\n",
      "removed spike from channel L2\n",
      "time :113.35999999999459\n",
      "spike :113.36963999999999\n",
      "removed spike from channel L2\n",
      "time :113.35999999999459\n",
      "spike :113.37056\n",
      "removed spike from channel L2\n",
      "time :113.35999999999459\n",
      "spike :113.37523999999999\n",
      "removed spike from channel L2\n",
      "time :118.97999999999347\n",
      "spike :118.99208\n",
      "removed spike from channel L2\n",
      "time :118.97999999999347\n",
      "spike :118.99271999999999\n",
      "removed spike from channel L2\n",
      "time :62.54000000000418\n",
      "spike :62.54636\n",
      "removed spike from channel L3\n",
      "time :62.54000000000418\n",
      "spike :62.54748\n",
      "removed spike from channel L3\n",
      "time :62.840000000004224\n",
      "spike :62.848879999999994\n",
      "removed spike from channel L3\n",
      "time :113.35999999999459\n",
      "spike :113.36027999999999\n",
      "removed spike from channel L3\n",
      "time :113.35999999999459\n",
      "spike :113.36108\n",
      "removed spike from channel L3\n",
      "time :113.35999999999459\n",
      "spike :113.36955999999999\n",
      "removed spike from channel L3\n",
      "time :113.35999999999459\n",
      "spike :113.37056\n",
      "removed spike from channel L3\n",
      "time :118.97999999999347\n",
      "spike :118.99212\n",
      "removed spike from channel L3\n",
      "time :118.97999999999347\n",
      "spike :118.99271999999999\n",
      "removed spike from channel L3\n",
      "time :118.97999999999347\n",
      "spike :118.99852\n",
      "removed spike from channel L3\n",
      "time :62.54000000000418\n",
      "spike :62.546519999999994\n",
      "removed spike from channel L4\n",
      "time :62.54000000000418\n",
      "spike :62.54728\n",
      "removed spike from channel L4\n",
      "time :62.840000000004224\n",
      "spike :62.848879999999994\n",
      "removed spike from channel L4\n",
      "time :113.35999999999459\n",
      "spike :113.36027999999999\n",
      "removed spike from channel L4\n",
      "time :113.35999999999459\n",
      "spike :113.36959999999999\n",
      "removed spike from channel L4\n",
      "time :113.35999999999459\n",
      "spike :113.37052\n",
      "removed spike from channel L4\n",
      "time :118.97999999999347\n",
      "spike :118.99159999999999\n",
      "removed spike from channel L4\n",
      "time :118.97999999999347\n",
      "spike :118.99252\n",
      "removed spike from channel L4\n",
      "time :62.54000000000418\n",
      "spike :62.54656\n",
      "removed spike from channel L5\n",
      "time :62.54000000000418\n",
      "spike :62.54728\n",
      "removed spike from channel L5\n",
      "time :62.840000000004224\n",
      "spike :62.848839999999996\n",
      "removed spike from channel L5\n",
      "time :113.35999999999459\n",
      "spike :113.36027999999999\n",
      "removed spike from channel L5\n",
      "time :113.35999999999459\n",
      "spike :113.36108\n",
      "removed spike from channel L5\n",
      "time :113.35999999999459\n",
      "spike :113.36955999999999\n",
      "removed spike from channel L5\n",
      "time :113.35999999999459\n",
      "spike :113.37048\n",
      "removed spike from channel L5\n",
      "time :113.35999999999459\n",
      "spike :113.37508\n",
      "removed spike from channel L5\n",
      "time :118.97999999999347\n",
      "spike :118.99216\n",
      "removed spike from channel L5\n",
      "time :118.97999999999347\n",
      "spike :118.99268\n",
      "removed spike from channel L5\n",
      "time :62.54000000000418\n",
      "spike :62.5466\n",
      "removed spike from channel M1\n",
      "time :62.54000000000418\n",
      "spike :62.54728\n",
      "removed spike from channel M1\n",
      "time :62.840000000004224\n",
      "spike :62.848839999999996\n",
      "removed spike from channel M1\n",
      "time :113.35999999999459\n",
      "spike :113.36023999999999\n",
      "removed spike from channel M1\n",
      "time :113.35999999999459\n",
      "spike :113.36963999999999\n",
      "removed spike from channel M1\n",
      "time :113.35999999999459\n",
      "spike :113.37031999999999\n",
      "removed spike from channel M1\n",
      "time :118.97999999999347\n",
      "spike :118.99216\n",
      "removed spike from channel M1\n",
      "time :118.97999999999347\n",
      "spike :118.99252\n",
      "removed spike from channel M1\n",
      "time :62.54000000000418\n",
      "spike :62.54656\n",
      "removed spike from channel M2\n",
      "time :62.54000000000418\n",
      "spike :62.54732\n",
      "removed spike from channel M2\n",
      "time :62.840000000004224\n",
      "spike :62.848879999999994\n",
      "removed spike from channel M2\n",
      "time :113.35999999999459\n",
      "spike :113.36027999999999\n",
      "removed spike from channel M2\n",
      "time :113.35999999999459\n",
      "spike :113.36963999999999\n",
      "removed spike from channel M2\n",
      "time :113.35999999999459\n",
      "spike :113.37052\n",
      "removed spike from channel M2\n",
      "time :113.35999999999459\n",
      "spike :113.37504\n",
      "removed spike from channel M2\n",
      "time :118.97999999999347\n",
      "spike :118.99159999999999\n",
      "removed spike from channel M2\n",
      "time :118.97999999999347\n",
      "spike :118.99268\n",
      "removed spike from channel M2\n",
      "time :62.54000000000418\n",
      "spike :62.5466\n",
      "removed spike from channel M3\n",
      "time :62.54000000000418\n",
      "spike :62.54732\n",
      "removed spike from channel M3\n",
      "time :62.840000000004224\n",
      "spike :62.848839999999996\n",
      "removed spike from channel M3\n",
      "time :113.35999999999459\n",
      "spike :113.36023999999999\n",
      "removed spike from channel M3\n",
      "time :113.35999999999459\n",
      "spike :113.36952\n",
      "removed spike from channel M3\n",
      "time :113.35999999999459\n",
      "spike :113.37024\n",
      "removed spike from channel M3\n",
      "time :118.97999999999347\n",
      "spike :118.99212\n",
      "removed spike from channel M3\n",
      "time :118.97999999999347\n",
      "spike :118.99264\n",
      "removed spike from channel M3\n",
      "time :62.54000000000418\n",
      "spike :62.54664\n",
      "removed spike from channel M4\n",
      "time :62.54000000000418\n",
      "spike :62.54728\n",
      "removed spike from channel M4\n",
      "time :113.35999999999459\n",
      "spike :113.36027999999999\n",
      "removed spike from channel M4\n",
      "time :113.35999999999459\n",
      "spike :113.36967999999999\n",
      "removed spike from channel M4\n",
      "time :113.35999999999459\n",
      "spike :113.37052\n",
      "removed spike from channel M4\n",
      "time :118.97999999999347\n",
      "spike :118.99159999999999\n",
      "removed spike from channel M4\n",
      "time :118.97999999999347\n",
      "spike :118.99248\n",
      "removed spike from channel M4\n",
      "time :62.54000000000418\n",
      "spike :62.546319999999994\n",
      "removed spike from channel K6\n",
      "time :62.54000000000418\n",
      "spike :62.54728\n",
      "removed spike from channel K6\n",
      "time :62.840000000004224\n",
      "spike :62.848839999999996\n",
      "removed spike from channel K6\n",
      "time :113.35999999999459\n",
      "spike :113.36023999999999\n",
      "removed spike from channel K6\n",
      "time :113.35999999999459\n",
      "spike :113.36963999999999\n",
      "removed spike from channel K6\n",
      "time :113.35999999999459\n",
      "spike :113.37048\n",
      "removed spike from channel K6\n",
      "time :118.97999999999347\n",
      "spike :118.99155999999999\n",
      "removed spike from channel K6\n",
      "time :118.97999999999347\n",
      "spike :118.99264\n",
      "removed spike from channel K6\n",
      "time :62.54000000000418\n",
      "spike :62.54664\n",
      "removed spike from channel N1\n",
      "time :62.54000000000418\n",
      "spike :62.5472\n",
      "removed spike from channel N1\n",
      "time :113.35999999999459\n",
      "spike :113.36032\n",
      "removed spike from channel N1\n",
      "time :113.35999999999459\n",
      "spike :113.36959999999999\n",
      "removed spike from channel N1\n",
      "time :113.35999999999459\n",
      "spike :113.37012\n",
      "removed spike from channel N1\n",
      "time :118.97999999999347\n",
      "spike :118.99159999999999\n",
      "removed spike from channel N1\n",
      "time :118.97999999999347\n",
      "spike :118.99243999999999\n",
      "removed spike from channel N1\n",
      "time :62.54000000000418\n",
      "spike :62.546519999999994\n",
      "removed spike from channel N2\n",
      "time :113.35999999999459\n",
      "spike :113.36963999999999\n",
      "removed spike from channel N2\n",
      "time :118.97999999999347\n",
      "spike :118.99159999999999\n",
      "removed spike from channel N2\n",
      "time :62.54000000000418\n",
      "spike :62.5466\n",
      "removed spike from channel N3\n",
      "time :62.54000000000418\n",
      "spike :62.54732\n",
      "removed spike from channel N3\n",
      "time :62.840000000004224\n",
      "spike :62.848879999999994\n",
      "removed spike from channel N3\n",
      "time :113.35999999999459\n",
      "spike :113.36055999999999\n",
      "removed spike from channel N3\n",
      "time :113.35999999999459\n",
      "spike :113.36112\n",
      "removed spike from channel N3\n",
      "time :113.35999999999459\n",
      "spike :113.36955999999999\n",
      "removed spike from channel N3\n",
      "time :113.35999999999459\n",
      "spike :113.37052\n",
      "removed spike from channel N3\n",
      "time :118.97999999999347\n",
      "spike :118.99192\n",
      "removed spike from channel N3\n",
      "time :118.97999999999347\n",
      "spike :118.99279999999999\n",
      "removed spike from channel N3\n",
      "time :62.54000000000418\n",
      "spike :62.5466\n",
      "removed spike from channel J8\n",
      "time :62.54000000000418\n",
      "spike :62.547239999999995\n",
      "removed spike from channel J8\n",
      "time :62.840000000004224\n",
      "spike :62.848839999999996\n",
      "removed spike from channel J8\n",
      "time :113.35999999999459\n",
      "spike :113.36027999999999\n",
      "removed spike from channel J8\n",
      "time :113.35999999999459\n",
      "spike :113.36972\n",
      "removed spike from channel J8\n",
      "time :113.35999999999459\n",
      "spike :113.37028\n",
      "removed spike from channel J8\n",
      "time :118.97999999999347\n",
      "spike :118.99159999999999\n",
      "removed spike from channel J8\n",
      "time :118.97999999999347\n",
      "spike :118.99264\n",
      "removed spike from channel J8\n",
      "time :62.54000000000418\n",
      "spike :62.54656\n",
      "removed spike from channel L6\n",
      "time :62.54000000000418\n",
      "spike :62.54748\n",
      "removed spike from channel L6\n",
      "time :62.840000000004224\n",
      "spike :62.848839999999996\n",
      "removed spike from channel L6\n",
      "time :113.35999999999459\n",
      "spike :113.36027999999999\n",
      "removed spike from channel L6\n",
      "time :113.35999999999459\n",
      "spike :113.36116\n",
      "removed spike from channel L6\n",
      "time :113.35999999999459\n",
      "spike :113.36952\n",
      "removed spike from channel L6\n",
      "time :113.35999999999459\n",
      "spike :113.37056\n",
      "removed spike from channel L6\n",
      "time :118.97999999999347\n",
      "spike :118.99212\n",
      "removed spike from channel L6\n",
      "time :118.97999999999347\n",
      "spike :118.99268\n",
      "removed spike from channel L6\n",
      "time :62.54000000000418\n",
      "spike :62.5464\n",
      "removed spike from channel O1\n",
      "time :62.54000000000418\n",
      "spike :62.54732\n",
      "removed spike from channel O1\n",
      "time :62.840000000004224\n",
      "spike :62.848839999999996\n",
      "removed spike from channel O1\n",
      "time :113.35999999999459\n",
      "spike :113.36027999999999\n",
      "removed spike from channel O1\n",
      "time :113.35999999999459\n",
      "spike :113.36112\n",
      "removed spike from channel O1\n",
      "time :113.35999999999459\n",
      "spike :113.36963999999999\n",
      "removed spike from channel O1\n",
      "time :113.35999999999459\n",
      "spike :113.37052\n",
      "removed spike from channel O1\n",
      "time :113.35999999999459\n",
      "spike :113.3744\n",
      "removed spike from channel O1\n",
      "time :118.97999999999347\n",
      "spike :118.99208\n",
      "removed spike from channel O1\n",
      "time :118.97999999999347\n",
      "spike :118.99268\n",
      "removed spike from channel O1\n",
      "time :62.54000000000418\n",
      "spike :62.5466\n",
      "removed spike from channel O2\n",
      "time :62.54000000000418\n",
      "spike :62.54752\n",
      "removed spike from channel O2\n",
      "time :62.840000000004224\n",
      "spike :62.848879999999994\n",
      "removed spike from channel O2\n",
      "time :113.35999999999459\n",
      "spike :113.36032\n",
      "removed spike from channel O2\n",
      "time :113.35999999999459\n",
      "spike :113.36112\n",
      "removed spike from channel O2\n",
      "time :113.35999999999459\n",
      "spike :113.36959999999999\n",
      "removed spike from channel O2\n",
      "time :113.35999999999459\n",
      "spike :113.37056\n",
      "removed spike from channel O2\n",
      "time :113.35999999999459\n",
      "spike :113.37443999999999\n",
      "removed spike from channel O2\n",
      "time :118.97999999999347\n",
      "spike :118.99212\n",
      "removed spike from channel O2\n",
      "time :118.97999999999347\n",
      "spike :118.99275999999999\n",
      "removed spike from channel O2\n",
      "time :62.54000000000418\n",
      "spike :62.5464\n",
      "removed spike from channel N4\n",
      "time :62.54000000000418\n",
      "spike :62.54728\n",
      "removed spike from channel N4\n",
      "time :62.840000000004224\n",
      "spike :62.8488\n",
      "removed spike from channel N4\n",
      "time :113.35999999999459\n",
      "spike :113.36023999999999\n",
      "removed spike from channel N4\n",
      "time :113.35999999999459\n",
      "spike :113.36955999999999\n",
      "removed spike from channel N4\n",
      "time :113.35999999999459\n",
      "spike :113.37043999999999\n",
      "removed spike from channel N4\n",
      "time :118.97999999999347\n",
      "spike :118.99208\n",
      "removed spike from channel N4\n",
      "time :118.97999999999347\n",
      "spike :118.99264\n",
      "removed spike from channel N4\n",
      "time :62.54000000000418\n",
      "spike :62.546519999999994\n",
      "removed spike from channel P1\n",
      "time :62.54000000000418\n",
      "spike :62.54732\n",
      "removed spike from channel P1\n",
      "time :62.840000000004224\n",
      "spike :62.84892\n",
      "removed spike from channel P1\n",
      "time :113.35999999999459\n",
      "spike :113.36027999999999\n",
      "removed spike from channel P1\n",
      "time :113.35999999999459\n",
      "spike :113.36108\n",
      "removed spike from channel P1\n",
      "time :113.35999999999459\n",
      "spike :113.36967999999999\n",
      "removed spike from channel P1\n",
      "time :113.35999999999459\n",
      "spike :113.37052\n",
      "removed spike from channel P1\n",
      "time :118.97999999999347\n",
      "spike :118.99163999999999\n",
      "removed spike from channel P1\n",
      "time :118.97999999999347\n",
      "spike :118.9926\n",
      "removed spike from channel P1\n",
      "time :62.54000000000418\n",
      "spike :62.54656\n",
      "removed spike from channel P2\n",
      "time :62.54000000000418\n",
      "spike :62.54732\n",
      "removed spike from channel P2\n",
      "time :62.840000000004224\n",
      "spike :62.848839999999996\n",
      "removed spike from channel P2\n",
      "time :113.35999999999459\n",
      "spike :113.36063999999999\n",
      "removed spike from channel P2\n",
      "time :113.35999999999459\n",
      "spike :113.36112\n",
      "removed spike from channel P2\n",
      "time :113.35999999999459\n",
      "spike :113.36955999999999\n",
      "removed spike from channel P2\n",
      "time :113.35999999999459\n",
      "spike :113.37052\n",
      "removed spike from channel P2\n",
      "time :113.35999999999459\n",
      "spike :113.37504\n",
      "removed spike from channel P2\n",
      "time :118.97999999999347\n",
      "spike :118.99159999999999\n",
      "removed spike from channel P2\n",
      "time :118.97999999999347\n",
      "spike :118.99268\n",
      "removed spike from channel P2\n",
      "time :62.54000000000418\n",
      "spike :62.54656\n",
      "removed spike from channel O3\n",
      "time :113.35999999999459\n",
      "spike :113.36967999999999\n",
      "removed spike from channel O3\n",
      "time :118.97999999999347\n",
      "spike :118.99159999999999\n",
      "removed spike from channel O3\n",
      "time :62.54000000000418\n",
      "spike :62.5466\n",
      "removed spike from channel R2\n",
      "time :62.54000000000418\n",
      "spike :62.547439999999995\n",
      "removed spike from channel R2\n",
      "time :62.840000000004224\n",
      "spike :62.848839999999996\n",
      "removed spike from channel R2\n",
      "time :113.35999999999459\n",
      "spike :113.36027999999999\n",
      "removed spike from channel R2\n",
      "time :113.35999999999459\n",
      "spike :113.36131999999999\n",
      "removed spike from channel R2\n",
      "time :113.35999999999459\n",
      "spike :113.36967999999999\n",
      "removed spike from channel R2\n",
      "time :113.35999999999459\n",
      "spike :113.37056\n",
      "removed spike from channel R2\n",
      "time :113.35999999999459\n",
      "spike :113.3744\n",
      "removed spike from channel R2\n",
      "time :118.97999999999347\n",
      "spike :118.99208\n",
      "removed spike from channel R2\n",
      "time :118.97999999999347\n",
      "spike :118.99271999999999\n",
      "removed spike from channel R2\n",
      "time :62.54000000000418\n",
      "spike :62.54656\n",
      "removed spike from channel R3\n",
      "time :62.54000000000418\n",
      "spike :62.54716\n",
      "removed spike from channel R3\n",
      "time :62.840000000004224\n",
      "spike :62.848879999999994\n",
      "removed spike from channel R3\n",
      "time :113.35999999999459\n",
      "spike :113.36027999999999\n",
      "removed spike from channel R3\n",
      "time :113.35999999999459\n",
      "spike :113.36963999999999\n",
      "removed spike from channel R3\n",
      "time :113.35999999999459\n",
      "spike :113.3702\n",
      "removed spike from channel R3\n",
      "time :118.97999999999347\n",
      "spike :118.99159999999999\n",
      "removed spike from channel R3\n",
      "time :118.97999999999347\n",
      "spike :118.99248\n",
      "removed spike from channel R3\n",
      "time :62.54000000000418\n",
      "spike :62.54664\n",
      "removed spike from channel P3\n",
      "time :62.54000000000418\n",
      "spike :62.54732\n",
      "removed spike from channel P3\n",
      "time :62.840000000004224\n",
      "spike :62.8488\n",
      "removed spike from channel P3\n",
      "time :113.35999999999459\n",
      "spike :113.36023999999999\n",
      "removed spike from channel P3\n",
      "time :113.35999999999459\n",
      "spike :113.36108\n",
      "removed spike from channel P3\n",
      "time :113.35999999999459\n",
      "spike :113.36963999999999\n",
      "removed spike from channel P3\n",
      "time :113.35999999999459\n",
      "spike :113.37056\n",
      "removed spike from channel P3\n",
      "time :113.35999999999459\n",
      "spike :113.37516\n",
      "removed spike from channel P3\n",
      "time :118.97999999999347\n",
      "spike :118.99159999999999\n",
      "removed spike from channel P3\n",
      "time :118.97999999999347\n",
      "spike :118.99268\n",
      "removed spike from channel P3\n",
      "time :62.54000000000418\n",
      "spike :62.5468\n",
      "removed spike from channel K7\n",
      "time :62.54000000000418\n",
      "spike :62.547399999999996\n",
      "removed spike from channel K7\n",
      "time :62.840000000004224\n",
      "spike :62.848839999999996\n",
      "removed spike from channel K7\n",
      "time :113.35999999999459\n",
      "spike :113.36023999999999\n",
      "removed spike from channel K7\n",
      "time :113.35999999999459\n",
      "spike :113.36112\n",
      "removed spike from channel K7\n",
      "time :113.35999999999459\n",
      "spike :113.36959999999999\n",
      "removed spike from channel K7\n",
      "time :113.35999999999459\n",
      "spike :113.37056\n",
      "removed spike from channel K7\n",
      "time :118.97999999999347\n",
      "spike :118.99208\n",
      "removed spike from channel K7\n",
      "time :118.97999999999347\n",
      "spike :118.99268\n",
      "removed spike from channel K7\n",
      "time :62.54000000000418\n",
      "spike :62.5464\n",
      "removed spike from channel M5\n",
      "time :62.54000000000418\n",
      "spike :62.54732\n",
      "removed spike from channel M5\n",
      "time :62.840000000004224\n",
      "spike :62.84956\n",
      "removed spike from channel M5\n",
      "time :113.35999999999459\n",
      "spike :113.36023999999999\n",
      "removed spike from channel M5\n",
      "time :113.35999999999459\n",
      "spike :113.36108\n",
      "removed spike from channel M5\n",
      "time :113.35999999999459\n",
      "spike :113.36952\n",
      "removed spike from channel M5\n",
      "time :113.35999999999459\n",
      "spike :113.37048\n",
      "removed spike from channel M5\n",
      "time :118.97999999999347\n",
      "spike :118.99203999999999\n",
      "removed spike from channel M5\n",
      "time :118.97999999999347\n",
      "spike :118.99268\n",
      "removed spike from channel M5\n",
      "time :62.54000000000418\n",
      "spike :62.54656\n",
      "removed spike from channel P4\n",
      "time :62.54000000000418\n",
      "spike :62.547399999999996\n",
      "removed spike from channel P4\n",
      "time :62.840000000004224\n",
      "spike :62.84892\n",
      "removed spike from channel P4\n",
      "time :113.35999999999459\n",
      "spike :113.36032\n",
      "removed spike from channel P4\n",
      "time :113.35999999999459\n",
      "spike :113.36112\n",
      "removed spike from channel P4\n",
      "time :113.35999999999459\n",
      "spike :113.36967999999999\n",
      "removed spike from channel P4\n",
      "time :113.35999999999459\n",
      "spike :113.37052\n",
      "removed spike from channel P4\n",
      "time :113.35999999999459\n",
      "spike :113.37436\n",
      "removed spike from channel P4\n",
      "time :118.97999999999347\n",
      "spike :118.99163999999999\n",
      "removed spike from channel P4\n",
      "time :118.97999999999347\n",
      "spike :118.99264\n",
      "removed spike from channel P4\n",
      "time :62.54000000000418\n",
      "spike :62.54644\n",
      "removed spike from channel O4\n",
      "time :62.54000000000418\n",
      "spike :62.54732\n",
      "removed spike from channel O4\n",
      "time :62.840000000004224\n",
      "spike :62.848839999999996\n",
      "removed spike from channel O4\n",
      "time :113.35999999999459\n",
      "spike :113.36027999999999\n",
      "removed spike from channel O4\n",
      "time :113.35999999999459\n",
      "spike :113.36963999999999\n",
      "removed spike from channel O4\n",
      "time :113.35999999999459\n",
      "spike :113.37052\n",
      "removed spike from channel O4\n",
      "time :118.97999999999347\n",
      "spike :118.99159999999999\n",
      "removed spike from channel O4\n",
      "time :118.97999999999347\n",
      "spike :118.99268\n",
      "removed spike from channel O4\n",
      "time :62.54000000000418\n",
      "spike :62.54664\n",
      "removed spike from channel L7\n",
      "time :62.54000000000418\n",
      "spike :62.54736\n",
      "removed spike from channel L7\n",
      "time :62.54000000000418\n",
      "spike :62.55408\n",
      "removed spike from channel L7\n",
      "time :62.840000000004224\n",
      "spike :62.8488\n",
      "removed spike from channel L7\n",
      "time :113.35999999999459\n",
      "spike :113.36055999999999\n",
      "removed spike from channel L7\n",
      "time :113.35999999999459\n",
      "spike :113.36108\n",
      "removed spike from channel L7\n",
      "time :113.35999999999459\n",
      "spike :113.36972\n",
      "removed spike from channel L7\n",
      "time :113.35999999999459\n",
      "spike :113.3706\n",
      "removed spike from channel L7\n",
      "time :113.35999999999459\n",
      "spike :113.37519999999999\n",
      "removed spike from channel L7\n",
      "time :118.97999999999347\n",
      "spike :118.99212\n",
      "removed spike from channel L7\n",
      "time :118.97999999999347\n",
      "spike :118.99271999999999\n",
      "removed spike from channel L7\n",
      "time :62.54000000000418\n",
      "spike :62.54644\n",
      "removed spike from channel R4\n",
      "time :62.54000000000418\n",
      "spike :62.547399999999996\n",
      "removed spike from channel R4\n",
      "time :62.840000000004224\n",
      "spike :62.848839999999996\n",
      "removed spike from channel R4\n",
      "time :113.35999999999459\n",
      "spike :113.36027999999999\n",
      "removed spike from channel R4\n",
      "time :113.35999999999459\n",
      "spike :113.36108\n",
      "removed spike from channel R4\n",
      "time :113.35999999999459\n",
      "spike :113.36959999999999\n",
      "removed spike from channel R4\n",
      "time :113.35999999999459\n",
      "spike :113.3706\n",
      "removed spike from channel R4\n",
      "time :113.35999999999459\n",
      "spike :113.37556\n",
      "removed spike from channel R4\n",
      "time :118.97999999999347\n",
      "spike :118.99212\n",
      "removed spike from channel R4\n",
      "time :118.97999999999347\n",
      "spike :118.99268\n",
      "removed spike from channel R4\n",
      "time :62.54000000000418\n",
      "spike :62.546319999999994\n",
      "removed spike from channel O5\n",
      "time :62.54000000000418\n",
      "spike :62.54736\n",
      "removed spike from channel O5\n",
      "time :62.840000000004224\n",
      "spike :62.848879999999994\n",
      "removed spike from channel O5\n",
      "time :113.35999999999459\n",
      "spike :113.36063999999999\n",
      "removed spike from channel O5\n",
      "time :113.35999999999459\n",
      "spike :113.36967999999999\n",
      "removed spike from channel O5\n",
      "time :113.35999999999459\n",
      "spike :113.37043999999999\n",
      "removed spike from channel O5\n",
      "time :118.97999999999347\n",
      "spike :118.99159999999999\n",
      "removed spike from channel O5\n",
      "time :118.97999999999347\n",
      "spike :118.99256\n",
      "removed spike from channel O5\n",
      "time :62.54000000000418\n",
      "spike :62.546519999999994\n",
      "removed spike from channel N5\n",
      "time :62.54000000000418\n",
      "spike :62.54732\n",
      "removed spike from channel N5\n",
      "time :62.840000000004224\n",
      "spike :62.8488\n",
      "removed spike from channel N5\n",
      "time :113.35999999999459\n",
      "spike :113.36027999999999\n",
      "removed spike from channel N5\n",
      "time :113.35999999999459\n",
      "spike :113.36108\n",
      "removed spike from channel N5\n",
      "time :113.35999999999459\n",
      "spike :113.36967999999999\n",
      "removed spike from channel N5\n",
      "time :113.35999999999459\n",
      "spike :113.37052\n",
      "removed spike from channel N5\n",
      "time :118.97999999999347\n",
      "spike :118.99155999999999\n",
      "removed spike from channel N5\n",
      "time :118.97999999999347\n",
      "spike :118.99268\n",
      "removed spike from channel N5\n",
      "time :62.54000000000418\n",
      "spike :62.54656\n",
      "removed spike from channel R5\n",
      "time :62.54000000000418\n",
      "spike :62.54736\n",
      "removed spike from channel R5\n",
      "time :62.840000000004224\n",
      "spike :62.84892\n",
      "removed spike from channel R5\n",
      "time :113.35999999999459\n",
      "spike :113.36063999999999\n",
      "removed spike from channel R5\n",
      "time :113.35999999999459\n",
      "spike :113.36116\n",
      "removed spike from channel R5\n",
      "time :113.35999999999459\n",
      "spike :113.36959999999999\n",
      "removed spike from channel R5\n",
      "time :113.35999999999459\n",
      "spike :113.37052\n",
      "removed spike from channel R5\n",
      "time :113.35999999999459\n",
      "spike :113.375\n",
      "removed spike from channel R5\n",
      "time :118.97999999999347\n",
      "spike :118.99216\n",
      "removed spike from channel R5\n",
      "time :118.97999999999347\n",
      "spike :118.99271999999999\n",
      "removed spike from channel R5\n",
      "time :62.54000000000418\n",
      "spike :62.54636\n",
      "removed spike from channel P5\n",
      "time :62.54000000000418\n",
      "spike :62.547439999999995\n",
      "removed spike from channel P5\n",
      "time :62.840000000004224\n",
      "spike :62.848839999999996\n",
      "removed spike from channel P5\n",
      "time :113.35999999999459\n",
      "spike :113.36036\n",
      "removed spike from channel P5\n",
      "time :113.35999999999459\n",
      "spike :113.36103999999999\n",
      "removed spike from channel P5\n",
      "time :113.35999999999459\n",
      "spike :113.36952\n",
      "removed spike from channel P5\n",
      "time :113.35999999999459\n",
      "spike :113.37052\n",
      "removed spike from channel P5\n",
      "time :118.97999999999347\n",
      "spike :118.99208\n",
      "removed spike from channel P5\n",
      "time :118.97999999999347\n",
      "spike :118.99264\n",
      "removed spike from channel P5\n",
      "time :62.54000000000418\n",
      "spike :62.54656\n",
      "removed spike from channel N6\n",
      "time :62.54000000000418\n",
      "spike :62.547399999999996\n",
      "removed spike from channel N6\n",
      "time :62.840000000004224\n",
      "spike :62.8488\n",
      "removed spike from channel N6\n",
      "time :113.35999999999459\n",
      "spike :113.36027999999999\n",
      "removed spike from channel N6\n",
      "time :113.35999999999459\n",
      "spike :113.36112\n",
      "removed spike from channel N6\n",
      "time :113.35999999999459\n",
      "spike :113.36952\n",
      "removed spike from channel N6\n",
      "time :113.35999999999459\n",
      "spike :113.37056\n",
      "removed spike from channel N6\n",
      "time :113.35999999999459\n",
      "spike :113.37504\n",
      "removed spike from channel N6\n",
      "time :118.97999999999347\n",
      "spike :118.99208\n",
      "removed spike from channel N6\n",
      "time :118.97999999999347\n",
      "spike :118.99271999999999\n",
      "removed spike from channel N6\n",
      "time :62.54000000000418\n",
      "spike :62.5464\n",
      "removed spike from channel M6\n",
      "time :113.35999999999459\n",
      "spike :113.36963999999999\n",
      "removed spike from channel M6\n",
      "time :118.97999999999347\n",
      "spike :118.99159999999999\n",
      "removed spike from channel M6\n",
      "time :62.54000000000418\n",
      "spike :62.546479999999995\n",
      "removed spike from channel P6\n",
      "time :62.54000000000418\n",
      "spike :62.547399999999996\n",
      "removed spike from channel P6\n",
      "time :62.840000000004224\n",
      "spike :62.848839999999996\n",
      "removed spike from channel P6\n",
      "time :113.35999999999459\n",
      "spike :113.36067999999999\n",
      "removed spike from channel P6\n",
      "time :113.35999999999459\n",
      "spike :113.36116\n",
      "removed spike from channel P6\n",
      "time :113.35999999999459\n",
      "spike :113.36972\n",
      "removed spike from channel P6\n",
      "time :113.35999999999459\n",
      "spike :113.37052\n",
      "removed spike from channel P6\n",
      "time :118.97999999999347\n",
      "spike :118.99184\n",
      "removed spike from channel P6\n",
      "time :118.97999999999347\n",
      "spike :118.99268\n",
      "removed spike from channel P6\n",
      "time :62.54000000000418\n",
      "spike :62.546519999999994\n",
      "removed spike from channel O6\n",
      "time :62.54000000000418\n",
      "spike :62.547399999999996\n",
      "removed spike from channel O6\n",
      "time :62.840000000004224\n",
      "spike :62.848839999999996\n",
      "removed spike from channel O6\n",
      "time :113.35999999999459\n",
      "spike :113.36027999999999\n",
      "removed spike from channel O6\n",
      "time :113.35999999999459\n",
      "spike :113.36955999999999\n",
      "removed spike from channel O6\n",
      "time :113.35999999999459\n",
      "spike :113.37048\n",
      "removed spike from channel O6\n",
      "time :118.97999999999347\n",
      "spike :118.99159999999999\n",
      "removed spike from channel O6\n",
      "time :118.97999999999347\n",
      "spike :118.99264\n",
      "removed spike from channel O6\n",
      "time :62.54000000000418\n",
      "spike :62.5464\n",
      "removed spike from channel M7\n",
      "time :62.54000000000418\n",
      "spike :62.54732\n",
      "removed spike from channel M7\n",
      "time :62.840000000004224\n",
      "spike :62.848839999999996\n",
      "removed spike from channel M7\n",
      "time :113.35999999999459\n",
      "spike :113.36055999999999\n",
      "removed spike from channel M7\n",
      "time :113.35999999999459\n",
      "spike :113.36955999999999\n",
      "removed spike from channel M7\n",
      "time :113.35999999999459\n",
      "spike :113.37052\n",
      "removed spike from channel M7\n",
      "time :118.97999999999347\n",
      "spike :118.99159999999999\n",
      "removed spike from channel M7\n",
      "time :118.97999999999347\n",
      "spike :118.99268\n",
      "removed spike from channel M7\n",
      "time :62.54000000000418\n",
      "spike :62.546519999999994\n",
      "removed spike from channel R6\n",
      "time :62.54000000000418\n",
      "spike :62.54752\n",
      "removed spike from channel R6\n",
      "time :62.54000000000418\n",
      "spike :62.55216\n",
      "removed spike from channel R6\n",
      "time :62.840000000004224\n",
      "spike :62.84892\n",
      "removed spike from channel R6\n",
      "time :62.840000000004224\n",
      "spike :62.849639999999994\n",
      "removed spike from channel R6\n",
      "time :62.840000000004224\n",
      "spike :62.854119999999995\n",
      "removed spike from channel R6\n",
      "time :113.35999999999459\n",
      "spike :113.36027999999999\n",
      "removed spike from channel R6\n",
      "time :113.35999999999459\n",
      "spike :113.36128\n",
      "removed spike from channel R6\n",
      "time :113.35999999999459\n",
      "spike :113.36955999999999\n",
      "removed spike from channel R6\n",
      "time :113.35999999999459\n",
      "spike :113.3706\n",
      "removed spike from channel R6\n",
      "time :113.35999999999459\n",
      "spike :113.375\n",
      "removed spike from channel R6\n",
      "time :113.35999999999459\n",
      "spike :113.37572\n",
      "removed spike from channel R6\n",
      "time :118.97999999999347\n",
      "spike :118.99192\n",
      "removed spike from channel R6\n",
      "time :118.97999999999347\n",
      "spike :118.99275999999999\n",
      "removed spike from channel R6\n",
      "time :118.97999999999347\n",
      "spike :118.99816\n",
      "removed spike from channel R6\n",
      "time :62.54000000000418\n",
      "spike :62.546479999999995\n",
      "removed spike from channel O7\n",
      "time :62.54000000000418\n",
      "spike :62.547079999999994\n",
      "removed spike from channel O7\n",
      "time :113.35999999999459\n",
      "spike :113.36027999999999\n",
      "removed spike from channel O7\n",
      "time :113.35999999999459\n",
      "spike :113.36955999999999\n",
      "removed spike from channel O7\n",
      "time :118.97999999999347\n",
      "spike :118.99159999999999\n",
      "removed spike from channel O7\n",
      "time :62.54000000000418\n",
      "spike :62.54644\n",
      "removed spike from channel N7\n",
      "time :62.54000000000418\n",
      "spike :62.54728\n",
      "removed spike from channel N7\n",
      "time :62.840000000004224\n",
      "spike :62.848839999999996\n",
      "removed spike from channel N7\n",
      "time :113.35999999999459\n",
      "spike :113.36027999999999\n",
      "removed spike from channel N7\n",
      "time :113.35999999999459\n",
      "spike :113.36103999999999\n",
      "removed spike from channel N7\n",
      "time :113.35999999999459\n",
      "spike :113.36955999999999\n",
      "removed spike from channel N7\n",
      "time :113.35999999999459\n",
      "spike :113.37048\n",
      "removed spike from channel N7\n",
      "time :118.97999999999347\n",
      "spike :118.9922\n",
      "removed spike from channel N7\n",
      "time :118.97999999999347\n",
      "spike :118.9926\n",
      "removed spike from channel N7\n",
      "time :62.54000000000418\n",
      "spike :62.546479999999995\n",
      "removed spike from channel R7\n",
      "time :62.54000000000418\n",
      "spike :62.547439999999995\n",
      "removed spike from channel R7\n",
      "time :62.840000000004224\n",
      "spike :62.84896\n",
      "removed spike from channel R7\n",
      "time :113.35999999999459\n",
      "spike :113.36072\n",
      "removed spike from channel R7\n",
      "time :113.35999999999459\n",
      "spike :113.36112\n",
      "removed spike from channel R7\n",
      "time :113.35999999999459\n",
      "spike :113.36955999999999\n",
      "removed spike from channel R7\n",
      "time :113.35999999999459\n",
      "spike :113.37056\n",
      "removed spike from channel R7\n",
      "time :113.35999999999459\n",
      "spike :113.375\n",
      "removed spike from channel R7\n",
      "time :118.97999999999347\n",
      "spike :118.99192\n",
      "removed spike from channel R7\n",
      "time :118.97999999999347\n",
      "spike :118.99268\n",
      "removed spike from channel R7\n",
      "time :62.54000000000418\n",
      "spike :62.54644\n",
      "removed spike from channel P7\n",
      "time :62.54000000000418\n",
      "spike :62.54736\n",
      "removed spike from channel P7\n",
      "time :62.840000000004224\n",
      "spike :62.848879999999994\n",
      "removed spike from channel P7\n",
      "time :113.35999999999459\n",
      "spike :113.36063999999999\n",
      "removed spike from channel P7\n",
      "time :113.35999999999459\n",
      "spike :113.36112\n",
      "removed spike from channel P7\n",
      "time :113.35999999999459\n",
      "spike :113.36952\n",
      "removed spike from channel P7\n",
      "time :113.35999999999459\n",
      "spike :113.37052\n",
      "removed spike from channel P7\n",
      "time :113.35999999999459\n",
      "spike :113.37516\n",
      "removed spike from channel P7\n",
      "time :118.97999999999347\n",
      "spike :118.99159999999999\n",
      "removed spike from channel P7\n",
      "time :118.97999999999347\n",
      "spike :118.99275999999999\n",
      "removed spike from channel P7\n",
      "time :62.54000000000418\n",
      "spike :62.546479999999995\n",
      "removed spike from channel N8\n",
      "time :62.54000000000418\n",
      "spike :62.54736\n",
      "removed spike from channel N8\n",
      "time :62.840000000004224\n",
      "spike :62.8488\n",
      "removed spike from channel N8\n",
      "time :113.35999999999459\n",
      "spike :113.36059999999999\n",
      "removed spike from channel N8\n",
      "time :113.35999999999459\n",
      "spike :113.36128\n",
      "removed spike from channel N8\n",
      "time :113.35999999999459\n",
      "spike :113.36972\n",
      "removed spike from channel N8\n",
      "time :113.35999999999459\n",
      "spike :113.37056\n",
      "removed spike from channel N8\n",
      "time :113.35999999999459\n",
      "spike :113.37523999999999\n",
      "removed spike from channel N8\n",
      "time :118.97999999999347\n",
      "spike :118.99216\n",
      "removed spike from channel N8\n",
      "time :118.97999999999347\n",
      "spike :118.99268\n",
      "removed spike from channel N8\n",
      "time :62.54000000000418\n",
      "spike :62.54644\n",
      "removed spike from channel M8\n",
      "time :62.54000000000418\n",
      "spike :62.54728\n",
      "removed spike from channel M8\n",
      "time :62.840000000004224\n",
      "spike :62.848879999999994\n",
      "removed spike from channel M8\n",
      "time :113.35999999999459\n",
      "spike :113.36023999999999\n",
      "removed spike from channel M8\n",
      "time :113.35999999999459\n",
      "spike :113.36959999999999\n",
      "removed spike from channel M8\n",
      "time :113.35999999999459\n",
      "spike :113.37052\n",
      "removed spike from channel M8\n",
      "time :118.97999999999347\n",
      "spike :118.9922\n",
      "removed spike from channel M8\n",
      "time :118.97999999999347\n",
      "spike :118.99268\n",
      "removed spike from channel M8\n",
      "time :62.54000000000418\n",
      "spike :62.54656\n",
      "removed spike from channel P8\n",
      "time :62.54000000000418\n",
      "spike :62.54728\n",
      "removed spike from channel P8\n",
      "time :62.840000000004224\n",
      "spike :62.848839999999996\n",
      "removed spike from channel P8\n",
      "time :113.35999999999459\n",
      "spike :113.36023999999999\n",
      "removed spike from channel P8\n",
      "time :113.35999999999459\n",
      "spike :113.36955999999999\n",
      "removed spike from channel P8\n",
      "time :113.35999999999459\n",
      "spike :113.37048\n",
      "removed spike from channel P8\n",
      "time :118.97999999999347\n",
      "spike :118.99208\n",
      "removed spike from channel P8\n",
      "time :118.97999999999347\n",
      "spike :118.99256\n",
      "removed spike from channel P8\n",
      "time :62.54000000000418\n",
      "spike :62.54644\n",
      "removed spike from channel O8\n",
      "time :62.54000000000418\n",
      "spike :62.54728\n",
      "removed spike from channel O8\n",
      "time :62.840000000004224\n",
      "spike :62.84876\n",
      "removed spike from channel O8\n",
      "time :113.35999999999459\n",
      "spike :113.36055999999999\n",
      "removed spike from channel O8\n",
      "time :113.35999999999459\n",
      "spike :113.36952\n",
      "removed spike from channel O8\n",
      "time :113.35999999999459\n",
      "spike :113.37052\n",
      "removed spike from channel O8\n",
      "time :118.97999999999347\n",
      "spike :118.99212\n",
      "removed spike from channel O8\n",
      "time :118.97999999999347\n",
      "spike :118.99264\n",
      "removed spike from channel O8\n",
      "time :62.54000000000418\n",
      "spike :62.5466\n",
      "removed spike from channel L8\n",
      "time :62.54000000000418\n",
      "spike :62.547439999999995\n",
      "removed spike from channel L8\n",
      "time :62.840000000004224\n",
      "spike :62.848839999999996\n",
      "removed spike from channel L8\n",
      "time :113.35999999999459\n",
      "spike :113.36059999999999\n",
      "removed spike from channel L8\n",
      "time :113.35999999999459\n",
      "spike :113.36108\n",
      "removed spike from channel L8\n",
      "time :113.35999999999459\n",
      "spike :113.36959999999999\n",
      "removed spike from channel L8\n",
      "time :113.35999999999459\n",
      "spike :113.37052\n",
      "removed spike from channel L8\n",
      "time :118.97999999999347\n",
      "spike :118.99199999999999\n",
      "removed spike from channel L8\n",
      "time :118.97999999999347\n",
      "spike :118.99268\n",
      "removed spike from channel L8\n",
      "time :62.54000000000418\n",
      "spike :62.54656\n",
      "removed spike from channel R8\n",
      "time :62.54000000000418\n",
      "spike :62.54752\n",
      "removed spike from channel R8\n",
      "time :62.840000000004224\n",
      "spike :62.8488\n",
      "removed spike from channel R8\n",
      "time :113.35999999999459\n",
      "spike :113.36027999999999\n",
      "removed spike from channel R8\n",
      "time :113.35999999999459\n",
      "spike :113.3612\n",
      "removed spike from channel R8\n",
      "time :113.35999999999459\n",
      "spike :113.36959999999999\n",
      "removed spike from channel R8\n",
      "time :113.35999999999459\n",
      "spike :113.37056\n",
      "removed spike from channel R8\n",
      "time :113.35999999999459\n",
      "spike :113.37491999999999\n",
      "removed spike from channel R8\n",
      "time :118.97999999999347\n",
      "spike :118.99216\n",
      "removed spike from channel R8\n",
      "time :118.97999999999347\n",
      "spike :118.99271999999999\n",
      "removed spike from channel R8\n",
      "time :62.54000000000418\n",
      "spike :62.546519999999994\n",
      "removed spike from channel K9\n",
      "time :62.54000000000418\n",
      "spike :62.5472\n",
      "removed spike from channel K9\n",
      "time :62.840000000004224\n",
      "spike :62.848879999999994\n",
      "removed spike from channel K9\n",
      "time :113.35999999999459\n",
      "spike :113.36023999999999\n",
      "removed spike from channel K9\n",
      "time :113.35999999999459\n",
      "spike :113.36959999999999\n",
      "removed spike from channel K9\n",
      "time :113.35999999999459\n",
      "spike :113.3702\n",
      "removed spike from channel K9\n",
      "time :118.97999999999347\n",
      "spike :118.99159999999999\n",
      "removed spike from channel K9\n",
      "time :118.97999999999347\n",
      "spike :118.99248\n",
      "removed spike from channel K9\n",
      "time :62.54000000000418\n",
      "spike :62.546519999999994\n",
      "removed spike from channel K8\n",
      "time :62.54000000000418\n",
      "spike :62.547439999999995\n",
      "removed spike from channel K8\n",
      "time :62.840000000004224\n",
      "spike :62.84892\n",
      "removed spike from channel K8\n",
      "time :113.35999999999459\n",
      "spike :113.36027999999999\n",
      "removed spike from channel K8\n",
      "time :113.35999999999459\n",
      "spike :113.36103999999999\n",
      "removed spike from channel K8\n",
      "time :113.35999999999459\n",
      "spike :113.36955999999999\n",
      "removed spike from channel K8\n",
      "time :113.35999999999459\n",
      "spike :113.37056\n",
      "removed spike from channel K8\n",
      "time :113.35999999999459\n",
      "spike :113.37512\n",
      "removed spike from channel K8\n",
      "time :118.97999999999347\n",
      "spike :118.99212\n",
      "removed spike from channel K8\n",
      "time :118.97999999999347\n",
      "spike :118.99264\n",
      "removed spike from channel K8\n",
      "time :62.54000000000418\n",
      "spike :62.5464\n",
      "removed spike from channel R9\n",
      "time :62.54000000000418\n",
      "spike :62.547439999999995\n",
      "removed spike from channel R9\n",
      "time :62.840000000004224\n",
      "spike :62.848839999999996\n",
      "removed spike from channel R9\n",
      "time :113.35999999999459\n",
      "spike :113.36027999999999\n",
      "removed spike from channel R9\n",
      "time :113.35999999999459\n",
      "spike :113.36116\n",
      "removed spike from channel R9\n",
      "time :113.35999999999459\n",
      "spike :113.36952\n",
      "removed spike from channel R9\n",
      "time :113.35999999999459\n",
      "spike :113.37056\n",
      "removed spike from channel R9\n",
      "time :113.35999999999459\n",
      "spike :113.37512\n",
      "removed spike from channel R9\n",
      "time :118.97999999999347\n",
      "spike :118.99195999999999\n",
      "removed spike from channel R9\n",
      "time :118.97999999999347\n",
      "spike :118.99271999999999\n",
      "removed spike from channel R9\n",
      "time :62.54000000000418\n",
      "spike :62.54664\n",
      "removed spike from channel L9\n",
      "time :62.54000000000418\n",
      "spike :62.54736\n",
      "removed spike from channel L9\n",
      "time :62.840000000004224\n",
      "spike :62.84892\n",
      "removed spike from channel L9\n",
      "time :113.35999999999459\n",
      "spike :113.36023999999999\n",
      "removed spike from channel L9\n",
      "time :113.35999999999459\n",
      "spike :113.36108\n",
      "removed spike from channel L9\n",
      "time :113.35999999999459\n",
      "spike :113.36959999999999\n",
      "removed spike from channel L9\n",
      "time :113.35999999999459\n",
      "spike :113.37048\n",
      "removed spike from channel L9\n",
      "time :113.35999999999459\n",
      "spike :113.37487999999999\n",
      "removed spike from channel L9\n",
      "time :118.97999999999347\n",
      "spike :118.99159999999999\n",
      "removed spike from channel L9\n",
      "time :118.97999999999347\n",
      "spike :118.99271999999999\n",
      "removed spike from channel L9\n",
      "time :62.54000000000418\n",
      "spike :62.546519999999994\n",
      "removed spike from channel O9\n",
      "time :62.54000000000418\n",
      "spike :62.547399999999996\n",
      "removed spike from channel O9\n",
      "time :62.840000000004224\n",
      "spike :62.84876\n",
      "removed spike from channel O9\n",
      "time :113.35999999999459\n",
      "spike :113.36027999999999\n",
      "removed spike from channel O9\n",
      "time :113.35999999999459\n",
      "spike :113.36108\n",
      "removed spike from channel O9\n",
      "time :113.35999999999459\n",
      "spike :113.36959999999999\n",
      "removed spike from channel O9\n",
      "time :113.35999999999459\n",
      "spike :113.37056\n",
      "removed spike from channel O9\n",
      "time :113.35999999999459\n",
      "spike :113.37443999999999\n",
      "removed spike from channel O9\n",
      "time :118.97999999999347\n",
      "spike :118.99192\n",
      "removed spike from channel O9\n",
      "time :118.97999999999347\n",
      "spike :118.99268\n",
      "removed spike from channel O9\n",
      "time :62.54000000000418\n",
      "spike :62.54656\n",
      "removed spike from channel P9\n",
      "time :62.54000000000418\n",
      "spike :62.54728\n",
      "removed spike from channel P9\n",
      "time :62.840000000004224\n",
      "spike :62.8488\n",
      "removed spike from channel P9\n",
      "time :113.35999999999459\n",
      "spike :113.36023999999999\n",
      "removed spike from channel P9\n",
      "time :113.35999999999459\n",
      "spike :113.36103999999999\n",
      "removed spike from channel P9\n",
      "time :113.35999999999459\n",
      "spike :113.36955999999999\n",
      "removed spike from channel P9\n",
      "time :113.35999999999459\n",
      "spike :113.37052\n",
      "removed spike from channel P9\n",
      "time :113.35999999999459\n",
      "spike :113.37443999999999\n",
      "removed spike from channel P9\n",
      "time :118.97999999999347\n",
      "spike :118.99216\n",
      "removed spike from channel P9\n",
      "time :118.97999999999347\n",
      "spike :118.99271999999999\n",
      "removed spike from channel P9\n",
      "time :62.54000000000418\n",
      "spike :62.546519999999994\n",
      "removed spike from channel M9\n",
      "time :62.54000000000418\n",
      "spike :62.547239999999995\n",
      "removed spike from channel M9\n",
      "time :62.840000000004224\n",
      "spike :62.8488\n",
      "removed spike from channel M9\n",
      "time :113.35999999999459\n",
      "spike :113.36027999999999\n",
      "removed spike from channel M9\n",
      "time :113.35999999999459\n",
      "spike :113.36963999999999\n",
      "removed spike from channel M9\n",
      "time :113.35999999999459\n",
      "spike :113.37039999999999\n",
      "removed spike from channel M9\n",
      "time :118.97999999999347\n",
      "spike :118.99155999999999\n",
      "removed spike from channel M9\n",
      "time :118.97999999999347\n",
      "spike :118.99256\n",
      "removed spike from channel M9\n",
      "time :62.54000000000418\n",
      "spike :62.54644\n",
      "removed spike from channel N9\n",
      "time :62.54000000000418\n",
      "spike :62.547439999999995\n",
      "removed spike from channel N9\n",
      "time :62.840000000004224\n",
      "spike :62.8488\n",
      "removed spike from channel N9\n",
      "time :113.35999999999459\n",
      "spike :113.36027999999999\n",
      "removed spike from channel N9\n",
      "time :113.35999999999459\n",
      "spike :113.36972\n",
      "removed spike from channel N9\n",
      "time :113.35999999999459\n",
      "spike :113.37056\n",
      "removed spike from channel N9\n",
      "time :113.35999999999459\n",
      "spike :113.37504\n",
      "removed spike from channel N9\n",
      "time :118.97999999999347\n",
      "spike :118.99216\n",
      "removed spike from channel N9\n",
      "time :118.97999999999347\n",
      "spike :118.99271999999999\n",
      "removed spike from channel N9\n",
      "time :62.54000000000418\n",
      "spike :62.5464\n",
      "removed spike from channel P10\n",
      "time :62.54000000000418\n",
      "spike :62.547239999999995\n",
      "removed spike from channel P10\n",
      "time :62.840000000004224\n",
      "spike :62.8488\n",
      "removed spike from channel P10\n",
      "time :113.35999999999459\n",
      "spike :113.36027999999999\n",
      "removed spike from channel P10\n",
      "time :113.35999999999459\n",
      "spike :113.36963999999999\n",
      "removed spike from channel P10\n",
      "time :113.35999999999459\n",
      "spike :113.37052\n",
      "removed spike from channel P10\n",
      "time :113.35999999999459\n",
      "spike :113.37443999999999\n",
      "removed spike from channel P10\n",
      "time :118.97999999999347\n",
      "spike :118.99195999999999\n",
      "removed spike from channel P10\n",
      "time :118.97999999999347\n",
      "spike :118.99264\n",
      "removed spike from channel P10\n",
      "time :62.54000000000418\n",
      "spike :62.546479999999995\n",
      "removed spike from channel R10\n",
      "time :62.54000000000418\n",
      "spike :62.547399999999996\n",
      "removed spike from channel R10\n",
      "time :62.840000000004224\n",
      "spike :62.849039999999995\n",
      "removed spike from channel R10\n",
      "time :113.35999999999459\n",
      "spike :113.36027999999999\n",
      "removed spike from channel R10\n",
      "time :113.35999999999459\n",
      "spike :113.36108\n",
      "removed spike from channel R10\n",
      "time :113.35999999999459\n",
      "spike :113.36952\n",
      "removed spike from channel R10\n",
      "time :113.35999999999459\n",
      "spike :113.37052\n",
      "removed spike from channel R10\n",
      "time :113.35999999999459\n",
      "spike :113.3744\n",
      "removed spike from channel R10\n",
      "time :118.97999999999347\n",
      "spike :118.99159999999999\n",
      "removed spike from channel R10\n",
      "time :118.97999999999347\n",
      "spike :118.99268\n",
      "removed spike from channel R10\n",
      "time :62.54000000000418\n",
      "spike :62.54656\n",
      "removed spike from channel N10\n",
      "time :62.54000000000418\n",
      "spike :62.54736\n",
      "removed spike from channel N10\n",
      "time :62.840000000004224\n",
      "spike :62.848839999999996\n",
      "removed spike from channel N10\n",
      "time :113.35999999999459\n",
      "spike :113.36032\n",
      "removed spike from channel N10\n",
      "time :113.35999999999459\n",
      "spike :113.36959999999999\n",
      "removed spike from channel N10\n",
      "time :113.35999999999459\n",
      "spike :113.37052\n",
      "removed spike from channel N10\n",
      "time :113.35999999999459\n",
      "spike :113.37443999999999\n",
      "removed spike from channel N10\n",
      "time :118.97999999999347\n",
      "spike :118.99216\n",
      "removed spike from channel N10\n",
      "time :118.97999999999347\n",
      "spike :118.99268\n",
      "removed spike from channel N10\n",
      "time :62.54000000000418\n",
      "spike :62.546519999999994\n",
      "removed spike from channel O10\n",
      "time :113.35999999999459\n",
      "spike :113.36023999999999\n",
      "removed spike from channel O10\n",
      "time :113.35999999999459\n",
      "spike :113.36963999999999\n",
      "removed spike from channel O10\n",
      "time :118.97999999999347\n",
      "spike :118.99159999999999\n",
      "removed spike from channel O10\n",
      "time :62.54000000000418\n",
      "spike :62.5466\n",
      "removed spike from channel R11\n",
      "time :62.54000000000418\n",
      "spike :62.54736\n",
      "removed spike from channel R11\n",
      "time :62.840000000004224\n",
      "spike :62.84872\n",
      "removed spike from channel R11\n",
      "time :113.35999999999459\n",
      "spike :113.36023999999999\n",
      "removed spike from channel R11\n",
      "time :113.35999999999459\n",
      "spike :113.36108\n",
      "removed spike from channel R11\n",
      "time :113.35999999999459\n",
      "spike :113.36967999999999\n",
      "removed spike from channel R11\n",
      "time :113.35999999999459\n",
      "spike :113.37039999999999\n",
      "removed spike from channel R11\n",
      "time :118.97999999999347\n",
      "spike :118.99159999999999\n",
      "removed spike from channel R11\n",
      "time :118.97999999999347\n",
      "spike :118.99264\n",
      "removed spike from channel R11\n",
      "time :62.54000000000418\n",
      "spike :62.5466\n",
      "removed spike from channel M10\n",
      "time :62.54000000000418\n",
      "spike :62.54736\n",
      "removed spike from channel M10\n",
      "time :62.840000000004224\n",
      "spike :62.848879999999994\n",
      "removed spike from channel M10\n",
      "time :113.35999999999459\n",
      "spike :113.36023999999999\n",
      "removed spike from channel M10\n",
      "time :113.35999999999459\n",
      "spike :113.36108\n",
      "removed spike from channel M10\n",
      "time :113.35999999999459\n",
      "spike :113.36967999999999\n",
      "removed spike from channel M10\n",
      "time :113.35999999999459\n",
      "spike :113.37048\n",
      "removed spike from channel M10\n",
      "time :118.97999999999347\n",
      "spike :118.99159999999999\n",
      "removed spike from channel M10\n",
      "time :118.97999999999347\n",
      "spike :118.99264\n",
      "removed spike from channel M10\n",
      "time :62.54000000000418\n",
      "spike :62.5468\n",
      "removed spike from channel O11\n",
      "time :62.54000000000418\n",
      "spike :62.54736\n",
      "removed spike from channel O11\n",
      "time :62.840000000004224\n",
      "spike :62.848839999999996\n",
      "removed spike from channel O11\n",
      "time :113.35999999999459\n",
      "spike :113.36059999999999\n",
      "removed spike from channel O11\n",
      "time :113.35999999999459\n",
      "spike :113.36108\n",
      "removed spike from channel O11\n",
      "time :113.35999999999459\n",
      "spike :113.36955999999999\n",
      "removed spike from channel O11\n",
      "time :113.35999999999459\n",
      "spike :113.37052\n",
      "removed spike from channel O11\n",
      "time :113.35999999999459\n",
      "spike :113.37508\n",
      "removed spike from channel O11\n",
      "time :118.97999999999347\n",
      "spike :118.99208\n",
      "removed spike from channel O11\n",
      "time :118.97999999999347\n",
      "spike :118.99268\n",
      "removed spike from channel O11\n",
      "time :62.54000000000418\n",
      "spike :62.546519999999994\n",
      "removed spike from channel P11\n",
      "time :62.54000000000418\n",
      "spike :62.547439999999995\n",
      "removed spike from channel P11\n",
      "time :62.840000000004224\n",
      "spike :62.8488\n",
      "removed spike from channel P11\n",
      "time :113.35999999999459\n",
      "spike :113.36067999999999\n",
      "removed spike from channel P11\n",
      "time :113.35999999999459\n",
      "spike :113.36103999999999\n",
      "removed spike from channel P11\n",
      "time :113.35999999999459\n",
      "spike :113.36955999999999\n",
      "removed spike from channel P11\n",
      "time :113.35999999999459\n",
      "spike :113.3706\n",
      "removed spike from channel P11\n",
      "time :118.97999999999347\n",
      "spike :118.9922\n",
      "removed spike from channel P11\n",
      "time :118.97999999999347\n",
      "spike :118.99271999999999\n",
      "removed spike from channel P11\n",
      "time :62.54000000000418\n",
      "spike :62.54672\n",
      "removed spike from channel M11\n",
      "time :62.54000000000418\n",
      "spike :62.547399999999996\n",
      "removed spike from channel M11\n",
      "time :62.840000000004224\n",
      "spike :62.848839999999996\n",
      "removed spike from channel M11\n",
      "time :113.35999999999459\n",
      "spike :113.36059999999999\n",
      "removed spike from channel M11\n",
      "time :113.35999999999459\n",
      "spike :113.36108\n",
      "removed spike from channel M11\n",
      "time :113.35999999999459\n",
      "spike :113.36967999999999\n",
      "removed spike from channel M11\n",
      "time :113.35999999999459\n",
      "spike :113.37052\n",
      "removed spike from channel M11\n",
      "time :118.97999999999347\n",
      "spike :118.99216\n",
      "removed spike from channel M11\n",
      "time :118.97999999999347\n",
      "spike :118.99268\n",
      "removed spike from channel M11\n",
      "time :62.54000000000418\n",
      "spike :62.546519999999994\n",
      "removed spike from channel N11\n",
      "time :62.54000000000418\n",
      "spike :62.54732\n",
      "removed spike from channel N11\n",
      "time :62.840000000004224\n",
      "spike :62.848879999999994\n",
      "removed spike from channel N11\n",
      "time :113.35999999999459\n",
      "spike :113.36023999999999\n",
      "removed spike from channel N11\n",
      "time :113.35999999999459\n",
      "spike :113.36103999999999\n",
      "removed spike from channel N11\n",
      "time :113.35999999999459\n",
      "spike :113.36967999999999\n",
      "removed spike from channel N11\n",
      "time :113.35999999999459\n",
      "spike :113.37056\n",
      "removed spike from channel N11\n",
      "time :113.35999999999459\n",
      "spike :113.37447999999999\n",
      "removed spike from channel N11\n",
      "time :118.97999999999347\n",
      "spike :118.99199999999999\n",
      "removed spike from channel N11\n",
      "time :118.97999999999347\n",
      "spike :118.99268\n",
      "removed spike from channel N11\n",
      "time :62.54000000000418\n",
      "spike :62.54656\n",
      "removed spike from channel P12\n",
      "time :113.35999999999459\n",
      "spike :113.36959999999999\n",
      "removed spike from channel P12\n",
      "time :118.97999999999347\n",
      "spike :118.99159999999999\n",
      "removed spike from channel P12\n",
      "time :62.54000000000418\n",
      "spike :62.546519999999994\n",
      "removed spike from channel R12\n",
      "time :62.54000000000418\n",
      "spike :62.54716\n",
      "removed spike from channel R12\n",
      "time :113.35999999999459\n",
      "spike :113.36032\n",
      "removed spike from channel R12\n",
      "time :113.35999999999459\n",
      "spike :113.36955999999999\n",
      "removed spike from channel R12\n",
      "time :113.35999999999459\n",
      "spike :113.37012\n",
      "removed spike from channel R12\n",
      "time :118.97999999999347\n",
      "spike :118.99163999999999\n",
      "removed spike from channel R12\n",
      "time :62.54000000000418\n",
      "spike :62.54656\n",
      "removed spike from channel N12\n",
      "time :62.54000000000418\n",
      "spike :62.547399999999996\n",
      "removed spike from channel N12\n",
      "time :62.840000000004224\n",
      "spike :62.8488\n",
      "removed spike from channel N12\n",
      "time :62.840000000004224\n",
      "spike :62.849599999999995\n",
      "removed spike from channel N12\n",
      "time :113.35999999999459\n",
      "spike :113.36027999999999\n",
      "removed spike from channel N12\n",
      "time :113.35999999999459\n",
      "spike :113.36108\n",
      "removed spike from channel N12\n",
      "time :113.35999999999459\n",
      "spike :113.36967999999999\n",
      "removed spike from channel N12\n",
      "time :113.35999999999459\n",
      "spike :113.37052\n",
      "removed spike from channel N12\n",
      "time :113.35999999999459\n",
      "spike :113.37496\n",
      "removed spike from channel N12\n",
      "time :118.97999999999347\n",
      "spike :118.99216\n",
      "removed spike from channel N12\n",
      "time :118.97999999999347\n",
      "spike :118.99268\n",
      "removed spike from channel N12\n",
      "time :62.54000000000418\n",
      "spike :62.5464\n",
      "removed spike from channel O12\n",
      "time :62.54000000000418\n",
      "spike :62.54728\n",
      "removed spike from channel O12\n",
      "time :62.840000000004224\n",
      "spike :62.84876\n",
      "removed spike from channel O12\n",
      "time :113.35999999999459\n",
      "spike :113.36027999999999\n",
      "removed spike from channel O12\n",
      "time :113.35999999999459\n",
      "spike :113.36099999999999\n",
      "removed spike from channel O12\n",
      "time :113.35999999999459\n",
      "spike :113.36955999999999\n",
      "removed spike from channel O12\n",
      "time :113.35999999999459\n",
      "spike :113.37048\n",
      "removed spike from channel O12\n",
      "time :113.35999999999459\n",
      "spike :113.37443999999999\n",
      "removed spike from channel O12\n",
      "time :118.97999999999347\n",
      "spike :118.99192\n",
      "removed spike from channel O12\n",
      "time :118.97999999999347\n",
      "spike :118.99256\n",
      "removed spike from channel O12\n",
      "time :62.54000000000418\n",
      "spike :62.54644\n",
      "removed spike from channel R13\n",
      "time :62.54000000000418\n",
      "spike :62.547399999999996\n",
      "removed spike from channel R13\n",
      "time :62.840000000004224\n",
      "spike :62.848839999999996\n",
      "removed spike from channel R13\n",
      "time :113.35999999999459\n",
      "spike :113.36032\n",
      "removed spike from channel R13\n",
      "time :113.35999999999459\n",
      "spike :113.36108\n",
      "removed spike from channel R13\n",
      "time :113.35999999999459\n",
      "spike :113.36967999999999\n",
      "removed spike from channel R13\n",
      "time :113.35999999999459\n",
      "spike :113.37052\n",
      "removed spike from channel R13\n",
      "time :113.35999999999459\n",
      "spike :113.37443999999999\n",
      "removed spike from channel R13\n",
      "time :118.97999999999347\n",
      "spike :118.99163999999999\n",
      "removed spike from channel R13\n",
      "time :118.97999999999347\n",
      "spike :118.99271999999999\n",
      "removed spike from channel R13\n",
      "time :62.54000000000418\n",
      "spike :62.5466\n",
      "removed spike from channel L10\n",
      "time :62.54000000000418\n",
      "spike :62.54748\n",
      "removed spike from channel L10\n",
      "time :62.840000000004224\n",
      "spike :62.84876\n",
      "removed spike from channel L10\n",
      "time :113.35999999999459\n",
      "spike :113.36032\n",
      "removed spike from channel L10\n",
      "time :113.35999999999459\n",
      "spike :113.36108\n",
      "removed spike from channel L10\n",
      "time :113.35999999999459\n",
      "spike :113.36972\n",
      "removed spike from channel L10\n",
      "time :113.35999999999459\n",
      "spike :113.37056\n",
      "removed spike from channel L10\n",
      "time :113.35999999999459\n",
      "spike :113.37496\n",
      "removed spike from channel L10\n",
      "time :118.97999999999347\n",
      "spike :118.99203999999999\n",
      "removed spike from channel L10\n",
      "time :118.97999999999347\n",
      "spike :118.99271999999999\n",
      "removed spike from channel L10\n",
      "time :62.54000000000418\n",
      "spike :62.54656\n",
      "removed spike from channel O13\n",
      "time :62.54000000000418\n",
      "spike :62.547439999999995\n",
      "removed spike from channel O13\n",
      "time :62.840000000004224\n",
      "spike :62.848839999999996\n",
      "removed spike from channel O13\n",
      "time :113.35999999999459\n",
      "spike :113.36055999999999\n",
      "removed spike from channel O13\n",
      "time :113.35999999999459\n",
      "spike :113.36103999999999\n",
      "removed spike from channel O13\n",
      "time :113.35999999999459\n",
      "spike :113.36955999999999\n",
      "removed spike from channel O13\n",
      "time :113.35999999999459\n",
      "spike :113.37056\n",
      "removed spike from channel O13\n",
      "time :113.35999999999459\n",
      "spike :113.375\n",
      "removed spike from channel O13\n",
      "time :118.97999999999347\n",
      "spike :118.99208\n",
      "removed spike from channel O13\n",
      "time :118.97999999999347\n",
      "spike :118.99275999999999\n",
      "removed spike from channel O13\n",
      "time :62.54000000000418\n",
      "spike :62.54656\n",
      "removed spike from channel P13\n",
      "time :62.54000000000418\n",
      "spike :62.547439999999995\n",
      "removed spike from channel P13\n",
      "time :62.840000000004224\n",
      "spike :62.848839999999996\n",
      "removed spike from channel P13\n",
      "time :113.35999999999459\n",
      "spike :113.36036\n",
      "removed spike from channel P13\n",
      "time :113.35999999999459\n",
      "spike :113.36108\n",
      "removed spike from channel P13\n",
      "time :113.35999999999459\n",
      "spike :113.36972\n",
      "removed spike from channel P13\n",
      "time :113.35999999999459\n",
      "spike :113.3706\n",
      "removed spike from channel P13\n",
      "time :113.35999999999459\n",
      "spike :113.37447999999999\n",
      "removed spike from channel P13\n",
      "time :118.97999999999347\n",
      "spike :118.99208\n",
      "removed spike from channel P13\n",
      "time :118.97999999999347\n",
      "spike :118.99279999999999\n",
      "removed spike from channel P13\n",
      "time :62.54000000000418\n",
      "spike :62.546479999999995\n",
      "removed spike from channel L11\n",
      "time :62.54000000000418\n",
      "spike :62.54736\n",
      "removed spike from channel L11\n",
      "time :62.840000000004224\n",
      "spike :62.84892\n",
      "removed spike from channel L11\n",
      "time :113.35999999999459\n",
      "spike :113.36023999999999\n",
      "removed spike from channel L11\n",
      "time :113.35999999999459\n",
      "spike :113.36112\n",
      "removed spike from channel L11\n",
      "time :113.35999999999459\n",
      "spike :113.36955999999999\n",
      "removed spike from channel L11\n",
      "time :113.35999999999459\n",
      "spike :113.37056\n",
      "removed spike from channel L11\n",
      "time :113.35999999999459\n",
      "spike :113.37508\n",
      "removed spike from channel L11\n",
      "time :118.97999999999347\n",
      "spike :118.99224\n",
      "removed spike from channel L11\n",
      "time :118.97999999999347\n",
      "spike :118.99271999999999\n",
      "removed spike from channel L11\n",
      "time :62.54000000000418\n",
      "spike :62.5466\n",
      "removed spike from channel J9\n",
      "time :62.54000000000418\n",
      "spike :62.547439999999995\n",
      "removed spike from channel J9\n",
      "time :62.840000000004224\n",
      "spike :62.8488\n",
      "removed spike from channel J9\n",
      "time :113.35999999999459\n",
      "spike :113.36027999999999\n",
      "removed spike from channel J9\n",
      "time :113.35999999999459\n",
      "spike :113.36112\n",
      "removed spike from channel J9\n",
      "time :113.35999999999459\n",
      "spike :113.36955999999999\n",
      "removed spike from channel J9\n",
      "time :113.35999999999459\n",
      "spike :113.37052\n",
      "removed spike from channel J9\n",
      "time :113.35999999999459\n",
      "spike :113.3744\n",
      "removed spike from channel J9\n",
      "time :118.97999999999347\n",
      "spike :118.99184\n",
      "removed spike from channel J9\n",
      "time :118.97999999999347\n",
      "spike :118.99275999999999\n",
      "removed spike from channel J9\n",
      "time :62.54000000000418\n",
      "spike :62.546519999999994\n",
      "removed spike from channel P14\n",
      "time :113.35999999999459\n",
      "spike :113.36967999999999\n",
      "removed spike from channel P14\n",
      "time :118.97999999999347\n",
      "spike :118.99155999999999\n",
      "removed spike from channel P14\n",
      "time :62.54000000000418\n",
      "spike :62.546519999999994\n",
      "removed spike from channel R14\n",
      "time :62.54000000000418\n",
      "spike :62.54736\n",
      "removed spike from channel R14\n",
      "time :62.840000000004224\n",
      "spike :62.84896\n",
      "removed spike from channel R14\n",
      "time :113.35999999999459\n",
      "spike :113.36059999999999\n",
      "removed spike from channel R14\n",
      "time :113.35999999999459\n",
      "spike :113.36103999999999\n",
      "removed spike from channel R14\n",
      "time :113.35999999999459\n",
      "spike :113.36972\n",
      "removed spike from channel R14\n",
      "time :113.35999999999459\n",
      "spike :113.37052\n",
      "removed spike from channel R14\n",
      "time :113.35999999999459\n",
      "spike :113.37436\n",
      "removed spike from channel R14\n",
      "time :118.97999999999347\n",
      "spike :118.99199999999999\n",
      "removed spike from channel R14\n",
      "time :118.97999999999347\n",
      "spike :118.99271999999999\n",
      "removed spike from channel R14\n",
      "time :62.54000000000418\n",
      "spike :62.546519999999994\n",
      "removed spike from channel N13\n",
      "time :62.54000000000418\n",
      "spike :62.54736\n",
      "removed spike from channel N13\n",
      "time :62.840000000004224\n",
      "spike :62.84876\n",
      "removed spike from channel N13\n",
      "time :113.35999999999459\n",
      "spike :113.36027999999999\n",
      "removed spike from channel N13\n",
      "time :113.35999999999459\n",
      "spike :113.36099999999999\n",
      "removed spike from channel N13\n",
      "time :113.35999999999459\n",
      "spike :113.36952\n",
      "removed spike from channel N13\n",
      "time :113.35999999999459\n",
      "spike :113.37052\n",
      "removed spike from channel N13\n",
      "time :118.97999999999347\n",
      "spike :118.99216\n",
      "removed spike from channel N13\n",
      "time :118.97999999999347\n",
      "spike :118.99268\n",
      "removed spike from channel N13\n",
      "time :62.54000000000418\n",
      "spike :62.54644\n",
      "removed spike from channel R15\n",
      "time :62.54000000000418\n",
      "spike :62.54752\n",
      "removed spike from channel R15\n",
      "time :62.840000000004224\n",
      "spike :62.8488\n",
      "removed spike from channel R15\n",
      "time :113.35999999999459\n",
      "spike :113.36027999999999\n",
      "removed spike from channel R15\n",
      "time :113.35999999999459\n",
      "spike :113.36112\n",
      "removed spike from channel R15\n",
      "time :113.35999999999459\n",
      "spike :113.36944\n",
      "removed spike from channel R15\n",
      "time :113.35999999999459\n",
      "spike :113.3706\n",
      "removed spike from channel R15\n",
      "time :113.35999999999459\n",
      "spike :113.37491999999999\n",
      "removed spike from channel R15\n",
      "time :118.97999999999347\n",
      "spike :118.99203999999999\n",
      "removed spike from channel R15\n",
      "time :118.97999999999347\n",
      "spike :118.99275999999999\n",
      "removed spike from channel R15\n",
      "time :62.54000000000418\n",
      "spike :62.5466\n",
      "removed spike from channel P16\n",
      "time :62.54000000000418\n",
      "spike :62.547439999999995\n",
      "removed spike from channel P16\n",
      "time :62.840000000004224\n",
      "spike :62.84896\n",
      "removed spike from channel P16\n",
      "time :62.840000000004224\n",
      "spike :62.849639999999994\n",
      "removed spike from channel P16\n",
      "time :113.35999999999459\n",
      "spike :113.36063999999999\n",
      "removed spike from channel P16\n",
      "time :113.35999999999459\n",
      "spike :113.36112\n",
      "removed spike from channel P16\n",
      "time :113.35999999999459\n",
      "spike :113.36955999999999\n",
      "removed spike from channel P16\n",
      "time :113.35999999999459\n",
      "spike :113.37056\n",
      "removed spike from channel P16\n",
      "time :113.35999999999459\n",
      "spike :113.37432\n",
      "removed spike from channel P16\n",
      "time :118.97999999999347\n",
      "spike :118.99203999999999\n",
      "removed spike from channel P16\n",
      "time :118.97999999999347\n",
      "spike :118.99279999999999\n",
      "removed spike from channel P16\n",
      "time :62.54000000000418\n",
      "spike :62.546519999999994\n",
      "removed spike from channel P15\n",
      "time :62.54000000000418\n",
      "spike :62.547439999999995\n",
      "removed spike from channel P15\n",
      "time :62.840000000004224\n",
      "spike :62.84892\n",
      "removed spike from channel P15\n",
      "time :113.35999999999459\n",
      "spike :113.36036\n",
      "removed spike from channel P15\n",
      "time :113.35999999999459\n",
      "spike :113.36108\n",
      "removed spike from channel P15\n",
      "time :113.35999999999459\n",
      "spike :113.36955999999999\n",
      "removed spike from channel P15\n",
      "time :113.35999999999459\n",
      "spike :113.37056\n",
      "removed spike from channel P15\n",
      "time :113.35999999999459\n",
      "spike :113.37516\n",
      "removed spike from channel P15\n",
      "time :118.97999999999347\n",
      "spike :118.99163999999999\n",
      "removed spike from channel P15\n",
      "time :118.97999999999347\n",
      "spike :118.99275999999999\n",
      "removed spike from channel P15\n",
      "time :62.54000000000418\n",
      "spike :62.546519999999994\n",
      "removed spike from channel O15\n",
      "time :62.54000000000418\n",
      "spike :62.5472\n",
      "removed spike from channel O15\n",
      "time :62.840000000004224\n",
      "spike :62.8488\n",
      "removed spike from channel O15\n",
      "time :113.35999999999459\n",
      "spike :113.36032\n",
      "removed spike from channel O15\n",
      "time :113.35999999999459\n",
      "spike :113.36959999999999\n",
      "removed spike from channel O15\n",
      "time :113.35999999999459\n",
      "spike :113.3702\n",
      "removed spike from channel O15\n",
      "time :118.97999999999347\n",
      "spike :118.99163999999999\n",
      "removed spike from channel O15\n",
      "time :118.97999999999347\n",
      "spike :118.99256\n",
      "removed spike from channel O15\n",
      "time :62.54000000000418\n",
      "spike :62.54656\n",
      "removed spike from channel O14\n",
      "time :62.54000000000418\n",
      "spike :62.547439999999995\n",
      "removed spike from channel O14\n",
      "time :62.840000000004224\n",
      "spike :62.848839999999996\n",
      "removed spike from channel O14\n",
      "time :113.35999999999459\n",
      "spike :113.36048\n",
      "removed spike from channel O14\n",
      "time :113.35999999999459\n",
      "spike :113.36103999999999\n",
      "removed spike from channel O14\n",
      "time :113.35999999999459\n",
      "spike :113.36976\n",
      "removed spike from channel O14\n",
      "time :113.35999999999459\n",
      "spike :113.37056\n",
      "removed spike from channel O14\n",
      "time :118.97999999999347\n",
      "spike :118.99159999999999\n",
      "removed spike from channel O14\n",
      "time :118.97999999999347\n",
      "spike :118.99271999999999\n",
      "removed spike from channel O14\n",
      "time :62.54000000000418\n",
      "spike :62.546319999999994\n",
      "removed spike from channel M12\n",
      "time :62.54000000000418\n",
      "spike :62.547439999999995\n",
      "removed spike from channel M12\n",
      "time :62.840000000004224\n",
      "spike :62.848839999999996\n",
      "removed spike from channel M12\n",
      "time :113.35999999999459\n",
      "spike :113.36023999999999\n",
      "removed spike from channel M12\n",
      "time :113.35999999999459\n",
      "spike :113.36108\n",
      "removed spike from channel M12\n",
      "time :113.35999999999459\n",
      "spike :113.36952\n",
      "removed spike from channel M12\n",
      "time :113.35999999999459\n",
      "spike :113.37056\n",
      "removed spike from channel M12\n",
      "time :113.35999999999459\n",
      "spike :113.37443999999999\n",
      "removed spike from channel M12\n",
      "time :118.97999999999347\n",
      "spike :118.99203999999999\n",
      "removed spike from channel M12\n",
      "time :118.97999999999347\n",
      "spike :118.99275999999999\n",
      "removed spike from channel M12\n",
      "time :62.54000000000418\n",
      "spike :62.54656\n",
      "removed spike from channel O16\n",
      "time :62.54000000000418\n",
      "spike :62.547439999999995\n",
      "removed spike from channel O16\n",
      "time :62.840000000004224\n",
      "spike :62.84876\n",
      "removed spike from channel O16\n",
      "time :113.35999999999459\n",
      "spike :113.36027999999999\n",
      "removed spike from channel O16\n",
      "time :113.35999999999459\n",
      "spike :113.36108\n",
      "removed spike from channel O16\n",
      "time :113.35999999999459\n",
      "spike :113.36952\n",
      "removed spike from channel O16\n",
      "time :113.35999999999459\n",
      "spike :113.37056\n",
      "removed spike from channel O16\n",
      "time :113.35999999999459\n",
      "spike :113.37436\n",
      "removed spike from channel O16\n",
      "time :118.97999999999347\n",
      "spike :118.99208\n",
      "removed spike from channel O16\n",
      "time :118.97999999999347\n",
      "spike :118.99271999999999\n",
      "removed spike from channel O16\n",
      "time :118.97999999999347\n",
      "spike :118.99712\n",
      "removed spike from channel O16\n",
      "time :62.54000000000418\n",
      "spike :62.546479999999995\n",
      "removed spike from channel N14\n",
      "time :62.54000000000418\n",
      "spike :62.547399999999996\n",
      "removed spike from channel N14\n",
      "time :62.840000000004224\n",
      "spike :62.848839999999996\n",
      "removed spike from channel N14\n",
      "time :113.35999999999459\n",
      "spike :113.36076\n",
      "removed spike from channel N14\n",
      "time :113.35999999999459\n",
      "spike :113.36959999999999\n",
      "removed spike from channel N14\n",
      "time :113.35999999999459\n",
      "spike :113.37048\n",
      "removed spike from channel N14\n",
      "time :118.97999999999347\n",
      "spike :118.99216\n",
      "removed spike from channel N14\n",
      "time :118.97999999999347\n",
      "spike :118.99268\n",
      "removed spike from channel N14\n",
      "time :62.54000000000418\n",
      "spike :62.546519999999994\n",
      "removed spike from channel K10\n",
      "time :62.54000000000418\n",
      "spike :62.54748\n",
      "removed spike from channel K10\n",
      "time :62.840000000004224\n",
      "spike :62.8488\n",
      "removed spike from channel K10\n",
      "time :113.35999999999459\n",
      "spike :113.36032\n",
      "removed spike from channel K10\n",
      "time :113.35999999999459\n",
      "spike :113.36108\n",
      "removed spike from channel K10\n",
      "time :113.35999999999459\n",
      "spike :113.36948\n",
      "removed spike from channel K10\n",
      "time :113.35999999999459\n",
      "spike :113.37056\n",
      "removed spike from channel K10\n",
      "time :113.35999999999459\n",
      "spike :113.37447999999999\n",
      "removed spike from channel K10\n",
      "time :118.97999999999347\n",
      "spike :118.99155999999999\n",
      "removed spike from channel K10\n",
      "time :118.97999999999347\n",
      "spike :118.99279999999999\n",
      "removed spike from channel K10\n",
      "time :62.54000000000418\n",
      "spike :62.546519999999994\n",
      "removed spike from channel N16\n",
      "time :62.54000000000418\n",
      "spike :62.54748\n",
      "removed spike from channel N16\n",
      "time :62.840000000004224\n",
      "spike :62.848839999999996\n",
      "removed spike from channel N16\n",
      "time :62.840000000004224\n",
      "spike :62.84956\n",
      "removed spike from channel N16\n",
      "time :113.35999999999459\n",
      "spike :113.36032\n",
      "removed spike from channel N16\n",
      "time :113.35999999999459\n",
      "spike :113.36108\n",
      "removed spike from channel N16\n",
      "time :113.35999999999459\n",
      "spike :113.36955999999999\n",
      "removed spike from channel N16\n",
      "time :113.35999999999459\n",
      "spike :113.3706\n",
      "removed spike from channel N16\n",
      "time :113.35999999999459\n",
      "spike :113.37432\n",
      "removed spike from channel N16\n",
      "time :118.97999999999347\n",
      "spike :118.99208\n",
      "removed spike from channel N16\n",
      "time :118.97999999999347\n",
      "spike :118.99275999999999\n",
      "removed spike from channel N16\n",
      "time :62.54000000000418\n",
      "spike :62.5466\n",
      "removed spike from channel N15\n",
      "time :62.54000000000418\n",
      "spike :62.547439999999995\n",
      "removed spike from channel N15\n",
      "time :62.840000000004224\n",
      "spike :62.8488\n",
      "removed spike from channel N15\n",
      "time :113.35999999999459\n",
      "spike :113.36059999999999\n",
      "removed spike from channel N15\n",
      "time :113.35999999999459\n",
      "spike :113.36112\n",
      "removed spike from channel N15\n",
      "time :113.35999999999459\n",
      "spike :113.36952\n",
      "removed spike from channel N15\n",
      "time :113.35999999999459\n",
      "spike :113.37056\n",
      "removed spike from channel N15\n",
      "time :113.35999999999459\n",
      "spike :113.37491999999999\n",
      "removed spike from channel N15\n",
      "time :118.97999999999347\n",
      "spike :118.99192\n",
      "removed spike from channel N15\n",
      "time :118.97999999999347\n",
      "spike :118.99271999999999\n",
      "removed spike from channel N15\n",
      "time :62.54000000000418\n",
      "spike :62.546519999999994\n",
      "removed spike from channel M13\n",
      "time :62.54000000000418\n",
      "spike :62.547239999999995\n",
      "removed spike from channel M13\n",
      "time :62.840000000004224\n",
      "spike :62.848839999999996\n",
      "removed spike from channel M13\n",
      "time :113.35999999999459\n",
      "spike :113.36032\n",
      "removed spike from channel M13\n",
      "time :113.35999999999459\n",
      "spike :113.36099999999999\n",
      "removed spike from channel M13\n",
      "time :113.35999999999459\n",
      "spike :113.36959999999999\n",
      "removed spike from channel M13\n",
      "time :113.35999999999459\n",
      "spike :113.3706\n",
      "removed spike from channel M13\n",
      "time :118.97999999999347\n",
      "spike :118.99159999999999\n",
      "removed spike from channel M13\n",
      "time :118.97999999999347\n",
      "spike :118.99271999999999\n",
      "removed spike from channel M13\n",
      "time :62.54000000000418\n",
      "spike :62.54656\n",
      "removed spike from channel K11\n",
      "time :62.54000000000418\n",
      "spike :62.547399999999996\n",
      "removed spike from channel K11\n",
      "time :62.840000000004224\n",
      "spike :62.8488\n",
      "removed spike from channel K11\n",
      "time :113.35999999999459\n",
      "spike :113.36032\n",
      "removed spike from channel K11\n",
      "time :113.35999999999459\n",
      "spike :113.36108\n",
      "removed spike from channel K11\n",
      "time :113.35999999999459\n",
      "spike :113.36967999999999\n",
      "removed spike from channel K11\n",
      "time :113.35999999999459\n",
      "spike :113.37052\n",
      "removed spike from channel K11\n",
      "time :118.97999999999347\n",
      "spike :118.99159999999999\n",
      "removed spike from channel K11\n",
      "time :118.97999999999347\n",
      "spike :118.99271999999999\n",
      "removed spike from channel K11\n",
      "time :62.54000000000418\n",
      "spike :62.546519999999994\n",
      "removed spike from channel M15\n",
      "time :62.54000000000418\n",
      "spike :62.547439999999995\n",
      "removed spike from channel M15\n",
      "time :62.54000000000418\n",
      "spike :62.55316\n",
      "removed spike from channel M15\n",
      "time :62.840000000004224\n",
      "spike :62.8488\n",
      "removed spike from channel M15\n",
      "time :62.840000000004224\n",
      "spike :62.84956\n",
      "removed spike from channel M15\n",
      "time :113.35999999999459\n",
      "spike :113.36027999999999\n",
      "removed spike from channel M15\n",
      "time :113.35999999999459\n",
      "spike :113.36124\n",
      "removed spike from channel M15\n",
      "time :113.35999999999459\n",
      "spike :113.36955999999999\n",
      "removed spike from channel M15\n",
      "time :113.35999999999459\n",
      "spike :113.3706\n",
      "removed spike from channel M15\n",
      "time :113.35999999999459\n",
      "spike :113.37487999999999\n",
      "removed spike from channel M15\n",
      "time :113.35999999999459\n",
      "spike :113.37576\n",
      "removed spike from channel M15\n",
      "time :118.97999999999347\n",
      "spike :118.99195999999999\n",
      "removed spike from channel M15\n",
      "time :118.97999999999347\n",
      "spike :118.99275999999999\n",
      "removed spike from channel M15\n",
      "time :118.97999999999347\n",
      "spike :118.99731999999999\n",
      "removed spike from channel M15\n",
      "time :62.54000000000418\n",
      "spike :62.546519999999994\n",
      "removed spike from channel M14\n",
      "time :62.54000000000418\n",
      "spike :62.54736\n",
      "removed spike from channel M14\n",
      "time :62.840000000004224\n",
      "spike :62.848839999999996\n",
      "removed spike from channel M14\n",
      "time :113.35999999999459\n",
      "spike :113.36059999999999\n",
      "removed spike from channel M14\n",
      "time :113.35999999999459\n",
      "spike :113.36959999999999\n",
      "removed spike from channel M14\n",
      "time :113.35999999999459\n",
      "spike :113.37056\n",
      "removed spike from channel M14\n",
      "time :118.97999999999347\n",
      "spike :118.99195999999999\n",
      "removed spike from channel M14\n",
      "time :118.97999999999347\n",
      "spike :118.99268\n",
      "removed spike from channel M14\n",
      "time :62.54000000000418\n",
      "spike :62.546519999999994\n",
      "removed spike from channel L12\n",
      "time :62.54000000000418\n",
      "spike :62.547399999999996\n",
      "removed spike from channel L12\n",
      "time :62.840000000004224\n",
      "spike :62.848839999999996\n",
      "removed spike from channel L12\n",
      "time :113.35999999999459\n",
      "spike :113.36027999999999\n",
      "removed spike from channel L12\n",
      "time :113.35999999999459\n",
      "spike :113.36108\n",
      "removed spike from channel L12\n",
      "time :113.35999999999459\n",
      "spike :113.36955999999999\n",
      "removed spike from channel L12\n",
      "time :113.35999999999459\n",
      "spike :113.37052\n",
      "removed spike from channel L12\n",
      "time :113.35999999999459\n",
      "spike :113.37472\n",
      "removed spike from channel L12\n",
      "time :118.97999999999347\n",
      "spike :118.99208\n",
      "removed spike from channel L12\n",
      "time :118.97999999999347\n",
      "spike :118.99268\n",
      "removed spike from channel L12\n",
      "time :118.97999999999347\n",
      "spike :118.99664\n",
      "removed spike from channel L12\n",
      "time :62.54000000000418\n",
      "spike :62.546519999999994\n",
      "removed spike from channel M16\n",
      "time :62.54000000000418\n",
      "spike :62.547439999999995\n",
      "removed spike from channel M16\n",
      "time :62.54000000000418\n",
      "spike :62.552\n",
      "removed spike from channel M16\n",
      "time :62.54000000000418\n",
      "spike :62.55336\n",
      "removed spike from channel M16\n",
      "time :62.840000000004224\n",
      "spike :62.848839999999996\n",
      "removed spike from channel M16\n",
      "time :62.840000000004224\n",
      "spike :62.849639999999994\n",
      "removed spike from channel M16\n",
      "time :113.35999999999459\n",
      "spike :113.36023999999999\n",
      "removed spike from channel M16\n",
      "time :113.35999999999459\n",
      "spike :113.36116\n",
      "removed spike from channel M16\n",
      "time :113.35999999999459\n",
      "spike :113.36955999999999\n",
      "removed spike from channel M16\n",
      "time :113.35999999999459\n",
      "spike :113.3706\n",
      "removed spike from channel M16\n",
      "time :113.35999999999459\n",
      "spike :113.37504\n",
      "removed spike from channel M16\n",
      "time :113.35999999999459\n",
      "spike :113.37552\n",
      "removed spike from channel M16\n",
      "time :118.97999999999347\n",
      "spike :118.99212\n",
      "removed spike from channel M16\n",
      "time :118.97999999999347\n",
      "spike :118.99279999999999\n",
      "removed spike from channel M16\n",
      "time :118.97999999999347\n",
      "spike :118.9978\n",
      "removed spike from channel M16\n",
      "time :62.54000000000418\n",
      "spike :62.54656\n",
      "removed spike from channel L14\n",
      "time :113.35999999999459\n",
      "spike :113.36023999999999\n",
      "removed spike from channel L14\n",
      "time :113.35999999999459\n",
      "spike :113.36959999999999\n",
      "removed spike from channel L14\n",
      "time :118.97999999999347\n",
      "spike :118.99163999999999\n",
      "removed spike from channel L14\n",
      "time :62.54000000000418\n",
      "spike :62.546519999999994\n",
      "removed spike from channel L13\n",
      "time :62.54000000000418\n",
      "spike :62.547439999999995\n",
      "removed spike from channel L13\n",
      "time :62.840000000004224\n",
      "spike :62.848839999999996\n",
      "removed spike from channel L13\n",
      "time :113.35999999999459\n",
      "spike :113.36027999999999\n",
      "removed spike from channel L13\n",
      "time :113.35999999999459\n",
      "spike :113.36108\n",
      "removed spike from channel L13\n",
      "time :113.35999999999459\n",
      "spike :113.36959999999999\n",
      "removed spike from channel L13\n",
      "time :113.35999999999459\n",
      "spike :113.3706\n",
      "removed spike from channel L13\n",
      "time :113.35999999999459\n",
      "spike :113.37504\n",
      "removed spike from channel L13\n",
      "time :118.97999999999347\n",
      "spike :118.99203999999999\n",
      "removed spike from channel L13\n",
      "time :118.97999999999347\n",
      "spike :118.99271999999999\n",
      "removed spike from channel L13\n",
      "time :62.54000000000418\n",
      "spike :62.54636\n",
      "removed spike from channel L16\n",
      "time :62.54000000000418\n",
      "spike :62.54748\n",
      "removed spike from channel L16\n",
      "time :62.840000000004224\n",
      "spike :62.8488\n",
      "removed spike from channel L16\n",
      "time :62.840000000004224\n",
      "spike :62.849599999999995\n",
      "removed spike from channel L16\n",
      "time :113.35999999999459\n",
      "spike :113.36032\n",
      "removed spike from channel L16\n",
      "time :113.35999999999459\n",
      "spike :113.36108\n",
      "removed spike from channel L16\n",
      "time :113.35999999999459\n",
      "spike :113.36955999999999\n",
      "removed spike from channel L16\n",
      "time :113.35999999999459\n",
      "spike :113.3706\n",
      "removed spike from channel L16\n",
      "time :113.35999999999459\n",
      "spike :113.3744\n",
      "removed spike from channel L16\n",
      "time :118.97999999999347\n",
      "spike :118.99224\n",
      "removed spike from channel L16\n",
      "time :118.97999999999347\n",
      "spike :118.99275999999999\n",
      "removed spike from channel L16\n",
      "time :62.54000000000418\n",
      "spike :62.54644\n",
      "removed spike from channel L15\n",
      "time :62.54000000000418\n",
      "spike :62.54736\n",
      "removed spike from channel L15\n",
      "time :62.840000000004224\n",
      "spike :62.848839999999996\n",
      "removed spike from channel L15\n",
      "time :113.35999999999459\n",
      "spike :113.36032\n",
      "removed spike from channel L15\n",
      "time :113.35999999999459\n",
      "spike :113.36963999999999\n",
      "removed spike from channel L15\n",
      "time :113.35999999999459\n",
      "spike :113.3706\n",
      "removed spike from channel L15\n",
      "time :113.35999999999459\n",
      "spike :113.37443999999999\n",
      "removed spike from channel L15\n",
      "time :118.97999999999347\n",
      "spike :118.99199999999999\n",
      "removed spike from channel L15\n",
      "time :118.97999999999347\n",
      "spike :118.99275999999999\n",
      "removed spike from channel L15\n",
      "time :62.54000000000418\n",
      "spike :62.546519999999994\n",
      "removed spike from channel K13\n",
      "time :62.54000000000418\n",
      "spike :62.547399999999996\n",
      "removed spike from channel K13\n",
      "time :62.840000000004224\n",
      "spike :62.84892\n",
      "removed spike from channel K13\n",
      "time :113.35999999999459\n",
      "spike :113.36027999999999\n",
      "removed spike from channel K13\n",
      "time :113.35999999999459\n",
      "spike :113.36103999999999\n",
      "removed spike from channel K13\n",
      "time :113.35999999999459\n",
      "spike :113.36952\n",
      "removed spike from channel K13\n",
      "time :113.35999999999459\n",
      "spike :113.37056\n",
      "removed spike from channel K13\n",
      "time :113.35999999999459\n",
      "spike :113.375\n",
      "removed spike from channel K13\n",
      "time :118.97999999999347\n",
      "spike :118.99195999999999\n",
      "removed spike from channel K13\n",
      "time :118.97999999999347\n",
      "spike :118.99275999999999\n",
      "removed spike from channel K13\n",
      "time :62.54000000000418\n",
      "spike :62.546479999999995\n",
      "removed spike from channel K12\n",
      "time :113.35999999999459\n",
      "spike :113.36027999999999\n",
      "removed spike from channel K12\n",
      "time :113.35999999999459\n",
      "spike :113.36955999999999\n",
      "removed spike from channel K12\n",
      "time :118.97999999999347\n",
      "spike :118.99155999999999\n",
      "removed spike from channel K12\n",
      "time :62.54000000000418\n",
      "spike :62.546479999999995\n",
      "removed spike from channel K15\n",
      "time :62.54000000000418\n",
      "spike :62.547079999999994\n",
      "removed spike from channel K15\n",
      "time :113.35999999999459\n",
      "spike :113.36023999999999\n",
      "removed spike from channel K15\n",
      "time :113.35999999999459\n",
      "spike :113.36955999999999\n",
      "removed spike from channel K15\n",
      "time :113.35999999999459\n",
      "spike :113.37016\n",
      "removed spike from channel K15\n",
      "time :118.97999999999347\n",
      "spike :118.99155999999999\n",
      "removed spike from channel K15\n",
      "time :62.54000000000418\n",
      "spike :62.54656\n",
      "removed spike from channel K14\n",
      "time :62.54000000000418\n",
      "spike :62.54732\n",
      "removed spike from channel K14\n",
      "time :62.840000000004224\n",
      "spike :62.8488\n",
      "removed spike from channel K14\n",
      "time :113.35999999999459\n",
      "spike :113.36059999999999\n",
      "removed spike from channel K14\n",
      "time :113.35999999999459\n",
      "spike :113.36103999999999\n",
      "removed spike from channel K14\n",
      "time :113.35999999999459\n",
      "spike :113.36967999999999\n",
      "removed spike from channel K14\n",
      "time :113.35999999999459\n",
      "spike :113.3706\n",
      "removed spike from channel K14\n",
      "time :113.35999999999459\n",
      "spike :113.37443999999999\n",
      "removed spike from channel K14\n",
      "time :118.97999999999347\n",
      "spike :118.99192\n",
      "removed spike from channel K14\n",
      "time :118.97999999999347\n",
      "spike :118.99279999999999\n",
      "removed spike from channel K14\n",
      "time :62.54000000000418\n",
      "spike :62.54636\n",
      "removed spike from channel J12\n",
      "time :62.54000000000418\n",
      "spike :62.547399999999996\n",
      "removed spike from channel J12\n",
      "time :62.840000000004224\n",
      "spike :62.84896\n",
      "removed spike from channel J12\n",
      "time :113.35999999999459\n",
      "spike :113.36023999999999\n",
      "removed spike from channel J12\n",
      "time :113.35999999999459\n",
      "spike :113.36108\n",
      "removed spike from channel J12\n",
      "time :113.35999999999459\n",
      "spike :113.36959999999999\n",
      "removed spike from channel J12\n",
      "time :113.35999999999459\n",
      "spike :113.37056\n",
      "removed spike from channel J12\n",
      "time :113.35999999999459\n",
      "spike :113.375\n",
      "removed spike from channel J12\n",
      "time :118.97999999999347\n",
      "spike :118.99199999999999\n",
      "removed spike from channel J12\n",
      "time :118.97999999999347\n",
      "spike :118.99275999999999\n",
      "removed spike from channel J12\n",
      "time :62.54000000000418\n",
      "spike :62.54656\n",
      "removed spike from channel K16\n",
      "time :62.54000000000418\n",
      "spike :62.547439999999995\n",
      "removed spike from channel K16\n",
      "time :62.840000000004224\n",
      "spike :62.8488\n",
      "removed spike from channel K16\n",
      "time :113.35999999999459\n",
      "spike :113.36063999999999\n",
      "removed spike from channel K16\n",
      "time :113.35999999999459\n",
      "spike :113.36112\n",
      "removed spike from channel K16\n",
      "time :113.35999999999459\n",
      "spike :113.36955999999999\n",
      "removed spike from channel K16\n",
      "time :113.35999999999459\n",
      "spike :113.37056\n",
      "removed spike from channel K16\n",
      "time :113.35999999999459\n",
      "spike :113.37491999999999\n",
      "removed spike from channel K16\n",
      "time :118.97999999999347\n",
      "spike :118.99195999999999\n",
      "removed spike from channel K16\n",
      "time :118.97999999999347\n",
      "spike :118.99279999999999\n",
      "removed spike from channel K16\n",
      "time :62.54000000000418\n",
      "spike :62.546519999999994\n",
      "removed spike from channel J14\n",
      "time :62.54000000000418\n",
      "spike :62.547399999999996\n",
      "removed spike from channel J14\n",
      "time :62.840000000004224\n",
      "spike :62.848839999999996\n",
      "removed spike from channel J14\n",
      "time :113.35999999999459\n",
      "spike :113.36032\n",
      "removed spike from channel J14\n",
      "time :113.35999999999459\n",
      "spike :113.36103999999999\n",
      "removed spike from channel J14\n",
      "time :113.35999999999459\n",
      "spike :113.36955999999999\n",
      "removed spike from channel J14\n",
      "time :113.35999999999459\n",
      "spike :113.3706\n",
      "removed spike from channel J14\n",
      "time :113.35999999999459\n",
      "spike :113.37512\n",
      "removed spike from channel J14\n",
      "time :118.97999999999347\n",
      "spike :118.99199999999999\n",
      "removed spike from channel J14\n",
      "time :118.97999999999347\n",
      "spike :118.99275999999999\n",
      "removed spike from channel J14\n",
      "time :62.54000000000418\n",
      "spike :62.546519999999994\n",
      "removed spike from channel J13\n",
      "time :62.54000000000418\n",
      "spike :62.54752\n",
      "removed spike from channel J13\n",
      "time :62.840000000004224\n",
      "spike :62.8488\n",
      "removed spike from channel J13\n",
      "time :113.35999999999459\n",
      "spike :113.36036\n",
      "removed spike from channel J13\n",
      "time :113.35999999999459\n",
      "spike :113.36108\n",
      "removed spike from channel J13\n",
      "time :113.35999999999459\n",
      "spike :113.36967999999999\n",
      "removed spike from channel J13\n",
      "time :113.35999999999459\n",
      "spike :113.3706\n",
      "removed spike from channel J13\n",
      "time :113.35999999999459\n",
      "spike :113.37447999999999\n",
      "removed spike from channel J13\n",
      "time :118.97999999999347\n",
      "spike :118.99195999999999\n",
      "removed spike from channel J13\n",
      "time :118.97999999999347\n",
      "spike :118.99271999999999\n",
      "removed spike from channel J13\n",
      "time :62.54000000000418\n",
      "spike :62.546519999999994\n",
      "removed spike from channel J16\n",
      "time :62.54000000000418\n",
      "spike :62.54748\n",
      "removed spike from channel J16\n",
      "time :62.840000000004224\n",
      "spike :62.8488\n",
      "removed spike from channel J16\n",
      "time :113.35999999999459\n",
      "spike :113.36027999999999\n",
      "removed spike from channel J16\n",
      "time :113.35999999999459\n",
      "spike :113.36116\n",
      "removed spike from channel J16\n",
      "time :113.35999999999459\n",
      "spike :113.36955999999999\n",
      "removed spike from channel J16\n",
      "time :113.35999999999459\n",
      "spike :113.3706\n",
      "removed spike from channel J16\n",
      "time :113.35999999999459\n",
      "spike :113.37447999999999\n",
      "removed spike from channel J16\n",
      "time :118.97999999999347\n",
      "spike :118.99159999999999\n",
      "removed spike from channel J16\n",
      "time :118.97999999999347\n",
      "spike :118.99271999999999\n",
      "removed spike from channel J16\n",
      "time :62.54000000000418\n",
      "spike :62.546519999999994\n",
      "removed spike from channel J15\n",
      "time :62.54000000000418\n",
      "spike :62.54736\n",
      "removed spike from channel J15\n",
      "time :62.840000000004224\n",
      "spike :62.848839999999996\n",
      "removed spike from channel J15\n",
      "time :113.35999999999459\n",
      "spike :113.36027999999999\n",
      "removed spike from channel J15\n",
      "time :113.35999999999459\n",
      "spike :113.36103999999999\n",
      "removed spike from channel J15\n",
      "time :113.35999999999459\n",
      "spike :113.36959999999999\n",
      "removed spike from channel J15\n",
      "time :113.35999999999459\n",
      "spike :113.37056\n",
      "removed spike from channel J15\n",
      "time :113.35999999999459\n",
      "spike :113.375\n",
      "removed spike from channel J15\n",
      "time :118.97999999999347\n",
      "spike :118.99163999999999\n",
      "removed spike from channel J15\n",
      "time :118.97999999999347\n",
      "spike :118.99268\n",
      "removed spike from channel J15\n",
      "time :62.54000000000418\n",
      "spike :62.54644\n",
      "removed spike from channel J10\n",
      "time :62.54000000000418\n",
      "spike :62.547399999999996\n",
      "removed spike from channel J10\n",
      "time :62.840000000004224\n",
      "spike :62.8488\n",
      "removed spike from channel J10\n",
      "time :113.35999999999459\n",
      "spike :113.36023999999999\n",
      "removed spike from channel J10\n",
      "time :113.35999999999459\n",
      "spike :113.36103999999999\n",
      "removed spike from channel J10\n",
      "time :113.35999999999459\n",
      "spike :113.36963999999999\n",
      "removed spike from channel J10\n",
      "time :113.35999999999459\n",
      "spike :113.37056\n",
      "removed spike from channel J10\n",
      "time :113.35999999999459\n",
      "spike :113.37447999999999\n",
      "removed spike from channel J10\n",
      "time :118.97999999999347\n",
      "spike :118.99199999999999\n",
      "removed spike from channel J10\n",
      "time :118.97999999999347\n",
      "spike :118.99271999999999\n",
      "removed spike from channel J10\n",
      "time :62.54000000000418\n",
      "spike :62.5466\n",
      "removed spike from channel J11\n",
      "time :62.54000000000418\n",
      "spike :62.54736\n",
      "removed spike from channel J11\n",
      "time :62.840000000004224\n",
      "spike :62.8488\n",
      "removed spike from channel J11\n",
      "time :113.35999999999459\n",
      "spike :113.36027999999999\n",
      "removed spike from channel J11\n",
      "time :113.35999999999459\n",
      "spike :113.36108\n",
      "removed spike from channel J11\n",
      "time :113.35999999999459\n",
      "spike :113.36963999999999\n",
      "removed spike from channel J11\n",
      "time :113.35999999999459\n",
      "spike :113.37052\n",
      "removed spike from channel J11\n",
      "time :113.35999999999459\n",
      "spike :113.37443999999999\n",
      "removed spike from channel J11\n",
      "time :118.97999999999347\n",
      "spike :118.99212\n",
      "removed spike from channel J11\n",
      "time :118.97999999999347\n",
      "spike :118.99275999999999\n",
      "removed spike from channel J11\n",
      "time :62.54000000000418\n",
      "spike :62.5466\n",
      "removed spike from channel H11\n",
      "time :62.54000000000418\n",
      "spike :62.54732\n",
      "removed spike from channel H11\n",
      "time :62.840000000004224\n",
      "spike :62.848839999999996\n",
      "removed spike from channel H11\n",
      "time :113.35999999999459\n",
      "spike :113.36027999999999\n",
      "removed spike from channel H11\n",
      "time :113.35999999999459\n",
      "spike :113.36967999999999\n",
      "removed spike from channel H11\n",
      "time :113.35999999999459\n",
      "spike :113.37052\n",
      "removed spike from channel H11\n",
      "time :118.97999999999347\n",
      "spike :118.99159999999999\n",
      "removed spike from channel H11\n",
      "time :118.97999999999347\n",
      "spike :118.99268\n",
      "removed spike from channel H11\n",
      "time :62.54000000000418\n",
      "spike :62.5464\n",
      "removed spike from channel H10\n",
      "time :62.54000000000418\n",
      "spike :62.547399999999996\n",
      "removed spike from channel H10\n",
      "time :62.840000000004224\n",
      "spike :62.84896\n",
      "removed spike from channel H10\n",
      "time :113.35999999999459\n",
      "spike :113.36027999999999\n",
      "removed spike from channel H10\n",
      "time :113.35999999999459\n",
      "spike :113.36112\n",
      "removed spike from channel H10\n",
      "time :113.35999999999459\n",
      "spike :113.36963999999999\n",
      "removed spike from channel H10\n",
      "time :113.35999999999459\n",
      "spike :113.37056\n",
      "removed spike from channel H10\n",
      "time :113.35999999999459\n",
      "spike :113.37487999999999\n",
      "removed spike from channel H10\n",
      "time :118.97999999999347\n",
      "spike :118.99203999999999\n",
      "removed spike from channel H10\n",
      "time :118.97999999999347\n",
      "spike :118.99275999999999\n",
      "removed spike from channel H10\n",
      "time :62.54000000000418\n",
      "spike :62.546519999999994\n",
      "removed spike from channel H15\n",
      "time :62.54000000000418\n",
      "spike :62.547239999999995\n",
      "removed spike from channel H15\n",
      "time :62.840000000004224\n",
      "spike :62.848839999999996\n",
      "removed spike from channel H15\n",
      "time :113.35999999999459\n",
      "spike :113.36027999999999\n",
      "removed spike from channel H15\n",
      "time :113.35999999999459\n",
      "spike :113.36955999999999\n",
      "removed spike from channel H15\n",
      "time :113.35999999999459\n",
      "spike :113.37031999999999\n",
      "removed spike from channel H15\n",
      "time :118.97999999999347\n",
      "spike :118.99159999999999\n",
      "removed spike from channel H15\n",
      "time :118.97999999999347\n",
      "spike :118.9926\n",
      "removed spike from channel H15\n",
      "time :62.54000000000418\n",
      "spike :62.54656\n",
      "removed spike from channel H16\n",
      "time :62.54000000000418\n",
      "spike :62.54748\n",
      "removed spike from channel H16\n",
      "time :62.840000000004224\n",
      "spike :62.848839999999996\n",
      "removed spike from channel H16\n",
      "time :113.35999999999459\n",
      "spike :113.36027999999999\n",
      "removed spike from channel H16\n",
      "time :113.35999999999459\n",
      "spike :113.36112\n",
      "removed spike from channel H16\n",
      "time :113.35999999999459\n",
      "spike :113.36955999999999\n",
      "removed spike from channel H16\n",
      "time :113.35999999999459\n",
      "spike :113.37056\n",
      "removed spike from channel H16\n",
      "time :113.35999999999459\n",
      "spike :113.3744\n",
      "removed spike from channel H16\n",
      "time :118.97999999999347\n",
      "spike :118.99216\n",
      "removed spike from channel H16\n",
      "time :118.97999999999347\n",
      "spike :118.99271999999999\n",
      "removed spike from channel H16\n",
      "time :62.54000000000418\n",
      "spike :62.546479999999995\n",
      "removed spike from channel H13\n",
      "time :62.54000000000418\n",
      "spike :62.547439999999995\n",
      "removed spike from channel H13\n",
      "time :62.840000000004224\n",
      "spike :62.84876\n",
      "removed spike from channel H13\n",
      "time :62.840000000004224\n",
      "spike :62.84956\n",
      "removed spike from channel H13\n",
      "time :113.35999999999459\n",
      "spike :113.36036\n",
      "removed spike from channel H13\n",
      "time :113.35999999999459\n",
      "spike :113.36112\n",
      "removed spike from channel H13\n",
      "time :113.35999999999459\n",
      "spike :113.36952\n",
      "removed spike from channel H13\n",
      "time :113.35999999999459\n",
      "spike :113.37052\n",
      "removed spike from channel H13\n",
      "time :113.35999999999459\n",
      "spike :113.37451999999999\n",
      "removed spike from channel H13\n",
      "time :118.97999999999347\n",
      "spike :118.99155999999999\n",
      "removed spike from channel H13\n",
      "time :118.97999999999347\n",
      "spike :118.99268\n",
      "removed spike from channel H13\n",
      "time :62.54000000000418\n",
      "spike :62.546519999999994\n",
      "removed spike from channel H14\n",
      "time :62.54000000000418\n",
      "spike :62.54736\n",
      "removed spike from channel H14\n",
      "time :62.54000000000418\n",
      "spike :62.553439999999995\n",
      "removed spike from channel H14\n",
      "time :62.840000000004224\n",
      "spike :62.8488\n",
      "removed spike from channel H14\n",
      "time :113.35999999999459\n",
      "spike :113.36027999999999\n",
      "removed spike from channel H14\n",
      "time :113.35999999999459\n",
      "spike :113.36108\n",
      "removed spike from channel H14\n",
      "time :113.35999999999459\n",
      "spike :113.36955999999999\n",
      "removed spike from channel H14\n",
      "time :113.35999999999459\n",
      "spike :113.37056\n",
      "removed spike from channel H14\n",
      "time :113.35999999999459\n",
      "spike :113.37451999999999\n",
      "removed spike from channel H14\n",
      "time :118.97999999999347\n",
      "spike :118.99163999999999\n",
      "removed spike from channel H14\n",
      "time :118.97999999999347\n",
      "spike :118.99271999999999\n",
      "removed spike from channel H14\n",
      "time :62.54000000000418\n",
      "spike :62.546479999999995\n",
      "removed spike from channel G16\n",
      "time :62.54000000000418\n",
      "spike :62.5472\n",
      "removed spike from channel G16\n",
      "time :62.840000000004224\n",
      "spike :62.8488\n",
      "removed spike from channel G16\n",
      "time :113.35999999999459\n",
      "spike :113.36027999999999\n",
      "removed spike from channel G16\n",
      "time :113.35999999999459\n",
      "spike :113.36959999999999\n",
      "removed spike from channel G16\n",
      "time :113.35999999999459\n",
      "spike :113.3702\n",
      "removed spike from channel G16\n",
      "time :118.97999999999347\n",
      "spike :118.99159999999999\n",
      "removed spike from channel G16\n",
      "time :118.97999999999347\n",
      "spike :118.99256\n",
      "removed spike from channel G16\n",
      "time :62.54000000000418\n",
      "spike :62.54656\n",
      "removed spike from channel H12\n",
      "time :62.54000000000418\n",
      "spike :62.547239999999995\n",
      "removed spike from channel H12\n",
      "time :62.840000000004224\n",
      "spike :62.84892\n",
      "removed spike from channel H12\n",
      "time :113.35999999999459\n",
      "spike :113.36027999999999\n",
      "removed spike from channel H12\n",
      "time :113.35999999999459\n",
      "spike :113.36967999999999\n",
      "removed spike from channel H12\n",
      "time :113.35999999999459\n",
      "spike :113.3702\n",
      "removed spike from channel H12\n",
      "time :118.97999999999347\n",
      "spike :118.99155999999999\n",
      "removed spike from channel H12\n",
      "time :118.97999999999347\n",
      "spike :118.99264\n",
      "removed spike from channel H12\n",
      "time :62.54000000000418\n",
      "spike :62.54644\n",
      "removed spike from channel G14\n",
      "time :62.54000000000418\n",
      "spike :62.547439999999995\n",
      "removed spike from channel G14\n",
      "time :62.840000000004224\n",
      "spike :62.848879999999994\n",
      "removed spike from channel G14\n",
      "time :113.35999999999459\n",
      "spike :113.36023999999999\n",
      "removed spike from channel G14\n",
      "time :113.35999999999459\n",
      "spike :113.36112\n",
      "removed spike from channel G14\n",
      "time :113.35999999999459\n",
      "spike :113.36955999999999\n",
      "removed spike from channel G14\n",
      "time :113.35999999999459\n",
      "spike :113.37056\n",
      "removed spike from channel G14\n",
      "time :113.35999999999459\n",
      "spike :113.37443999999999\n",
      "removed spike from channel G14\n",
      "time :118.97999999999347\n",
      "spike :118.99163999999999\n",
      "removed spike from channel G14\n",
      "time :118.97999999999347\n",
      "spike :118.99275999999999\n",
      "removed spike from channel G14\n",
      "time :62.54000000000418\n",
      "spike :62.54656\n",
      "removed spike from channel G15\n",
      "time :113.35999999999459\n",
      "spike :113.36027999999999\n",
      "removed spike from channel G15\n",
      "time :113.35999999999459\n",
      "spike :113.36967999999999\n",
      "removed spike from channel G15\n",
      "time :118.97999999999347\n",
      "spike :118.99159999999999\n",
      "removed spike from channel G15\n"
     ]
    }
   ],
   "source": [
    "spikedic_MAD, kicked_out = remove_artefact_spikes(spikes=spikedic_MAD, recording_length=timelengthrecording_s)"
   ]
  },
  {
   "cell_type": "code",
   "execution_count": 119,
   "id": "edf71fe1",
   "metadata": {},
   "outputs": [
    {
     "data": {
      "text/plain": [
       "[439468,\n",
       " 1453618,\n",
       " 1911206,\n",
       " 2181411,\n",
       " 2259021,\n",
       " 2259103,\n",
       " 2259379,\n",
       " 2259791,\n",
       " 2665089,\n",
       " 2665188,\n",
       " 2665503,\n",
       " 2665755]"
      ]
     },
     "execution_count": 119,
     "metadata": {},
     "output_type": "execute_result"
    }
   ],
   "source": [
    "spikedic_MAD['G13']"
   ]
  },
  {
   "cell_type": "code",
   "execution_count": 120,
   "id": "b6bbfe4e",
   "metadata": {},
   "outputs": [
    {
     "data": {
      "text/plain": [
       "[1563663,\n",
       " 1563686,\n",
       " 1563800,\n",
       " 1571218,\n",
       " 2834016,\n",
       " 2834028,\n",
       " 2834243,\n",
       " 2834265,\n",
       " 2834389,\n",
       " 2974800,\n",
       " 2974819,\n",
       " 2974964]"
      ]
     },
     "execution_count": 120,
     "metadata": {},
     "output_type": "execute_result"
    }
   ],
   "source": [
    "kicked_out['G13']"
   ]
  },
  {
   "cell_type": "code",
   "execution_count": 121,
   "id": "e2c609f2",
   "metadata": {},
   "outputs": [
    {
     "data": {
      "text/plain": [
       "'\\nactive_channels = 0\\nspikedic_seconds = {}\\nfor key in spikedic_MAD:\\n    relevant_factor = timelengthrecording_s*0.05\\n    if len(spikedic_MAD[key])>relevant_factor:\\n        sec_array = np.asarray(spikedic_MAD[key])*tick*scale_factor_for_second\\n        spikedic_seconds[key]=sec_array\\n        active_channels += 1\\nspikearray_seconds = np.asarray(list(spikedic_seconds.values()))  \\n'"
      ]
     },
     "execution_count": 121,
     "metadata": {},
     "output_type": "execute_result"
    }
   ],
   "source": [
    "# to use when only relevant channels shall be plotted\n",
    "'''\n",
    "active_channels = 0\n",
    "spikedic_seconds = {}\n",
    "for key in spikedic_MAD:\n",
    "    relevant_factor = timelengthrecording_s*0.05\n",
    "    if len(spikedic_MAD[key])>relevant_factor:\n",
    "        sec_array = np.asarray(spikedic_MAD[key])*tick*scale_factor_for_second\n",
    "        spikedic_seconds[key]=sec_array\n",
    "        active_channels += 1\n",
    "spikearray_seconds = np.asarray(list(spikedic_seconds.values()))  \n",
    "'''\n",
    "\n",
    "# to use when all channels shall be plotted\n",
    "active_channels = 0\n",
    "spikedic_seconds = {}\n",
    "for key in spikedic_MAD:\n",
    "    sec_array = np.asarray(spikedic_MAD[key])*tick*scale_factor_for_second\n",
    "    spikedic_seconds[key]=sec_array\n",
    "    active_channels += 1\n",
    "spikearray_seconds = np.asarray(list(spikedic_seconds.values()))  \n"
   ]
  },
  {
   "cell_type": "code",
   "execution_count": 122,
   "id": "3a318979",
   "metadata": {},
   "outputs": [],
   "source": [
    "# for kicked out spikes\n",
    "\n",
    "active_channels = 0\n",
    "spikedic_seconds_kicked = {}\n",
    "for key in kicked_out:\n",
    "    sec_array = np.asarray(kicked_out[key])*tick*scale_factor_for_second\n",
    "    spikedic_seconds_kicked[key]=sec_array\n",
    "    active_channels += 1\n",
    "spikearray_seconds_kicked = np.asarray(list(spikedic_seconds_kicked.values()))  "
   ]
  },
  {
   "cell_type": "code",
   "execution_count": 123,
   "id": "c151ab86",
   "metadata": {},
   "outputs": [
    {
     "data": {
      "text/plain": [
       "array([ 17.57872,  58.14472,  76.44824,  87.25644,  90.36084,  90.36412,\n",
       "        90.37516,  90.39164, 106.60356, 106.60752, 106.62012, 106.6302 ])"
      ]
     },
     "execution_count": 123,
     "metadata": {},
     "output_type": "execute_result"
    }
   ],
   "source": [
    "spikedic_seconds['G13']"
   ]
  },
  {
   "cell_type": "code",
   "execution_count": 124,
   "id": "b4974673",
   "metadata": {},
   "outputs": [
    {
     "data": {
      "text/plain": [
       "array([array([ 17.57872,  58.14472,  76.44824,  87.25644,  90.36084,  90.36412,\n",
       "               90.37516,  90.39164, 106.60356, 106.60752, 106.62012, 106.6302 ]),\n",
       "       array([], dtype=float64), array([76.44784]),\n",
       "       array([ 63.44876,  76.448  ,  87.25652,  90.33176,  90.34516,  90.35156,\n",
       "               90.35428,  90.35916,  90.36308,  90.36544,  90.37072,  90.37472,\n",
       "               90.37972,  90.38444,  90.39052,  90.392  ,  90.40056,  90.41052,\n",
       "               90.49644,  90.49912,  90.5018 ,  90.53196,  90.5578 ,  90.56164,\n",
       "               90.5648 ,  90.58936,  90.62692,  90.6292 ,  90.67216,  90.84996,\n",
       "               90.85628, 106.5894 , 106.60288, 106.60616, 106.60712, 106.61136,\n",
       "              106.6168 , 106.61896, 106.62908, 106.6356 , 106.6418 , 106.64748,\n",
       "              106.66428, 106.68476, 106.6902 , 106.693  , 106.70096, 106.72456,\n",
       "              106.76444, 106.78352, 106.83484, 106.8866 , 106.88952, 106.9332 ]),\n",
       "       array([ 76.44772,  90.35444,  90.357  ,  90.35876,  90.36244,  90.37048,\n",
       "               90.37524, 106.60536, 106.6062 ])                                ,\n",
       "       array([33.23956, 65.41948, 76.44772, 76.44844, 77.86852, 83.77656,\n",
       "              87.2568 , 90.36476, 90.37496])                             ,\n",
       "       array([76.44824, 87.2564 ]),\n",
       "       array([28.1968 , 76.4482 , 77.86848, 87.25644]),\n",
       "       array([ 76.44776,  87.25644,  90.34528,  90.34852,  90.35296,  90.35872,\n",
       "               90.66848,  90.7206 ,  90.7276 ,  90.7746 ,  90.84152,  90.8596 ,\n",
       "              106.60488, 106.6092 , 106.61284, 106.61732, 106.78136, 106.78468,\n",
       "              106.82224, 106.8796 ])                                           ,\n",
       "       array([76.44792]), array([87.25644]), array([76.44776]),\n",
       "       array([ 2.76768,  2.9784 , 28.19608, 28.19704, 33.2398 , 33.24056,\n",
       "              40.3792 , 56.061  , 76.44788, 76.44876, 76.45332, 77.86848,\n",
       "              77.86904, 77.87388, 82.27484, 87.25648, 87.25728, 87.52936,\n",
       "              87.5302 ])                                                 ,\n",
       "       array([76.44796, 77.86836, 87.25648]),\n",
       "       array([33.23976, 76.44768, 87.25652]), array([], dtype=float64),\n",
       "       array([], dtype=float64), array([], dtype=float64),\n",
       "       array([76.44828, 87.25648]), array([63.63252, 76.4478 , 87.25644]),\n",
       "       array([76.44776]), array([76.44824, 87.25668]),\n",
       "       array([], dtype=float64), array([], dtype=float64),\n",
       "       array([76.44828]), array([], dtype=float64),\n",
       "       array([], dtype=float64), array([76.44824]),\n",
       "       array([], dtype=float64), array([], dtype=float64),\n",
       "       array([], dtype=float64), array([], dtype=float64),\n",
       "       array([76.44824]), array([], dtype=float64), array([76.44824]),\n",
       "       array([], dtype=float64), array([], dtype=float64),\n",
       "       array([76.44832]), array([76.4478]), array([76.44824]),\n",
       "       array([76.4478]), array([76.44772]), array([76.44824]),\n",
       "       array([], dtype=float64), array([76.44824]), array([76.44788]),\n",
       "       array([], dtype=float64), array([76.44824]),\n",
       "       array([33.2396 , 76.4482 , 76.44848, 77.869  , 82.2748 , 87.2564 ,\n",
       "              87.52948])                                                 ,\n",
       "       array([76.44828]), array([], dtype=float64), array([76.44824]),\n",
       "       array([76.44776]), array([76.44776]), array([76.44776]),\n",
       "       array([], dtype=float64), array([], dtype=float64),\n",
       "       array([76.44832]), array([76.4478 , 82.27484, 87.25644]),\n",
       "       array([76.4478]), array([], dtype=float64), array([76.44788]),\n",
       "       array([ 76.44788,  89.6648 , 105.04764]), array([76.44824]),\n",
       "       array([], dtype=float64), array([], dtype=float64),\n",
       "       array([], dtype=float64), array([], dtype=float64),\n",
       "       array([], dtype=float64), array([76.44772]),\n",
       "       array([], dtype=float64), array([76.44776]),\n",
       "       array([76.44824, 87.25648]), array([], dtype=float64),\n",
       "       array([15.7058 , 76.44816]), array([], dtype=float64),\n",
       "       array([76.44792]), array([76.44784]), array([76.4478]),\n",
       "       array([], dtype=float64), array([76.44832, 87.25648]),\n",
       "       array([65.82708, 76.44828]), array([76.44796]), array([76.44848]),\n",
       "       array([], dtype=float64), array([76.44828]),\n",
       "       array([], dtype=float64),\n",
       "       array([  0.79212,  24.18684,  43.19104,  43.48708,  68.81352,  68.8188 ,\n",
       "               76.4478 ,  77.25888,  81.4158 ,  85.9532 ,  89.50528,  99.86204,\n",
       "              111.37428])                                                      ,\n",
       "       array([], dtype=float64), array([], dtype=float64),\n",
       "       array([76.44788, 87.25672]), array([], dtype=float64),\n",
       "       array([], dtype=float64), array([], dtype=float64),\n",
       "       array([], dtype=float64), array([85.25248]),\n",
       "       array([  0.78168,   4.50084,  38.57712, 104.75104, 110.72532]),\n",
       "       array([], dtype=float64), array([], dtype=float64),\n",
       "       array([ 7.04196, 76.44776]), array([27.7618]),\n",
       "       array([  0.79636,   0.83232,   4.49844,  12.31568,  12.33468,  17.08704,\n",
       "               28.4582 ,  32.28596,  36.89488,  38.57292,  42.77632,  43.18244,\n",
       "               43.52776,  48.24636,  51.97328,  59.72484,  81.41168,  85.94524,\n",
       "               85.96692,  89.51004,  90.47916,  95.06684,  95.07016,  99.32172,\n",
       "               99.33244, 111.01736, 111.36156, 115.3556 , 115.84792, 119.93524]),\n",
       "       array([  0.781  ,   4.49824,   5.17364,   5.1902 ,   5.19856,   8.13236,\n",
       "                8.14012,   8.48648,  12.31924,  12.32232,  12.37196,  12.68116,\n",
       "               12.97472,  17.03072,  17.08248,  20.4262 ,  20.436  ,  20.45168,\n",
       "               24.17556,  24.1876 ,  24.20768,  27.76916,  32.26796,  32.29444,\n",
       "               32.87564,  32.90436,  36.8594 ,  36.86272,  36.86928,  36.88912,\n",
       "               38.56844,  38.5818 ,  42.77644,  42.78784,  43.18692,  43.47512,\n",
       "               47.73924,  47.7776 ,  47.79288,  48.2406 ,  48.2486 ,  51.97572,\n",
       "               52.00292,  52.0192 ,  52.37492,  56.03572,  56.0384 ,  56.05432,\n",
       "               56.3998 ,  59.72164,  59.78612,  63.69852,  63.72204,  64.1654 ,\n",
       "               64.65032,  64.65692,  68.80856,  68.81964,  68.83752,  69.07316,\n",
       "               72.96364,  77.25348,  77.27928,  77.29548,  81.41032,  81.45064,\n",
       "               81.86124,  85.94884,  85.9596 ,  85.971  ,  89.49368,  89.51676,\n",
       "               90.39828,  90.41612,  95.07064,  95.53428,  95.54864,  99.3228 ,\n",
       "               99.33328,  99.81624,  99.81912,  99.85392, 100.29532, 104.74336,\n",
       "              104.75488, 105.12616, 106.61896, 106.62956, 111.0208 , 111.02376,\n",
       "              111.03144, 111.04884, 111.36652, 111.37456, 111.3784 , 115.34212,\n",
       "              115.83464, 119.93888])                                           ,\n",
       "       array([76.44772]), array([76.4478]), array([95.0974]),\n",
       "       array([ 12.31412,  24.1728 ,  32.26704,  47.73592, 111.02156, 115.33388]),\n",
       "       array([  0.79216,   0.8316 ,   4.54248,   8.4826 ,  12.31824,  12.97752,\n",
       "               17.03068,  17.05024,  20.42424,  24.17476,  24.2124 ,  27.7572 ,\n",
       "               32.26696,  32.85724,  36.8554 ,  36.86684,  42.7758 ,  43.46568,\n",
       "               43.52832,  47.73992,  51.97432,  56.04644,  59.72136,  59.78672,\n",
       "               64.16292,  68.80444,  68.83096,  69.0726 ,  72.96268,  73.36648,\n",
       "               76.44784,  77.24936,  77.29444,  81.40944,  81.85668,  89.49964,\n",
       "               95.07696,  95.10232,  99.31872,  99.32112,  99.8544 , 100.28776,\n",
       "              104.74224, 104.74744, 105.10892, 106.7236 , 111.01664, 111.01924,\n",
       "              111.02524, 111.3694 , 115.3372 , 115.35036, 119.91536])          ,\n",
       "       array([  0.831  ,   4.54316,  32.28476,  32.85724,  42.77556,  51.99008,\n",
       "               59.7184 ,  73.36652,  89.4904 ,  95.08352,  95.54388, 105.10892,\n",
       "              106.61616])                                                      ,\n",
       "       array([], dtype=float64), array([ 38.58124, 115.33724]),\n",
       "       array([  0.77688,   0.77832,   0.78456,   0.79576,   0.8252 ,   0.82868,\n",
       "                0.8328 ,   4.50336,   4.53284,   5.17368,   5.17676,   5.20564,\n",
       "                8.12948,   8.16476,   8.46764,  12.31432,  12.32344,  12.66512,\n",
       "               12.66836,  12.6728 ,  12.6786 ,  12.97296,  12.9756 ,  12.98504,\n",
       "               17.02884,  17.0352 ,  17.06768,  17.06776,  17.08048,  20.42168,\n",
       "               20.42952,  20.45348,  20.51888,  20.52168,  20.53332,  24.17136,\n",
       "               24.18124,  24.21   ,  24.22684,  27.75456,  27.77376,  27.83436,\n",
       "               28.44344,  32.26504,  32.27296,  32.85408,  32.85776,  32.86   ,\n",
       "               36.85584,  36.88744,  38.57676,  38.58252,  38.59816,  38.60776,\n",
       "               38.68852,  38.70064,  42.7736 ,  42.7814 ,  42.82372,  43.178  ,\n",
       "               43.19328,  43.52128,  47.73568,  47.74568,  47.77516,  48.24972,\n",
       "               48.254  ,  51.97264,  51.97968,  51.98428,  52.00576,  52.01828,\n",
       "               52.02228,  52.38056,  52.40408,  56.03436,  56.05292,  56.0658 ,\n",
       "               56.37792,  56.40232,  56.40552,  56.4192 ,  59.7144 ,  59.71792,\n",
       "               59.77452,  63.69104,  63.69532,  63.70216,  63.73976,  64.15308,\n",
       "               64.157  ,  64.65492,  64.66144,  68.801  ,  68.80464,  68.81308,\n",
       "               68.83616,  68.853  ,  69.06796,  72.95876,  72.98108,  73.00692,\n",
       "               73.01364,  73.36156,  77.24808,  77.25044,  77.25836,  77.29792,\n",
       "               81.40668,  81.41428,  81.85668,  81.86252,  85.94528,  85.95376,\n",
       "               86.01112,  89.48936,  89.49124,  89.4986 ,  89.5494 ,  90.01352,\n",
       "               90.04112,  90.38176,  90.38828,  90.393  ,  90.40632,  90.417  ,\n",
       "               90.47544,  95.06416,  95.08532,  95.09648,  95.10712,  95.52648,\n",
       "               95.52948,  95.53536,  95.54144,  99.3178 ,  99.3276 ,  99.35668,\n",
       "               99.81628,  99.84744, 100.23544, 100.28388, 104.74   , 104.7478 ,\n",
       "              104.76168, 104.7972 , 105.11364, 105.12404, 106.6146 , 106.66104,\n",
       "              106.71916, 106.72028, 111.01556, 111.36792, 111.37592, 115.33436,\n",
       "              115.34216, 115.3546 , 115.37708, 115.84128, 115.85208, 119.91168,\n",
       "              119.91352, 119.92104, 119.944  , 119.96144])                     ,\n",
       "       array([  0.77976,   4.4964 ,   4.50728,   4.5464 ,   5.17336,   5.18148,\n",
       "                5.1952 ,   8.13   ,   8.13424,   8.13836,   8.16028,   8.46704,\n",
       "               12.31452,  12.31724,  12.67544,  12.97444,  12.98516,  17.02912,\n",
       "               17.03524,  17.03984,  17.05028,  17.0564 ,  17.07368,  17.0762 ,\n",
       "               17.08064,  20.4242 ,  20.42476,  20.43596,  20.44408,  20.5184 ,\n",
       "               20.52532,  24.16728,  24.17188,  24.17444,  24.20704,  24.77972,\n",
       "               27.75408,  27.75768,  27.75812,  27.76792,  27.7742 ,  28.43472,\n",
       "               28.45644,  28.46012,  32.25872,  32.267  ,  32.2888 ,  32.86212,\n",
       "               32.90148,  36.85448,  36.85748,  36.8604 ,  36.86488,  36.90168,\n",
       "               38.57676,  38.58236,  38.59424,  38.60848,  38.66084,  38.69872,\n",
       "               38.70192,  42.7712 ,  42.82348,  42.82668,  43.17996,  43.19432,\n",
       "               43.521  ,  47.73928,  47.74504,  47.75328,  51.9716 ,  51.97472,\n",
       "               51.98   ,  51.99916,  52.0116 ,  52.37444,  52.39432,  56.03368,\n",
       "               56.03764,  56.04276,  56.05616,  56.08416,  56.39712,  59.7178 ,\n",
       "               59.72144,  59.73136,  59.78144,  59.78444,  63.69332,  63.69804,\n",
       "               63.72144,  63.73428,  64.15552,  64.65544,  64.65936,  68.81316,\n",
       "               68.81808,  68.83296,  69.06684,  69.06968,  69.07696,  72.95812,\n",
       "               72.96236,  72.9716 ,  72.98592,  73.007  ,  73.2456 ,  73.35792,\n",
       "               73.36868,  77.24868,  77.25144,  77.28476,  77.30064,  81.40624,\n",
       "               81.40944,  81.41868,  81.44876,  81.82992,  81.83664,  81.85416,\n",
       "               85.93968,  85.94456,  85.97244,  89.48948,  89.49232,  90.00548,\n",
       "               90.00808,  90.39276,  90.4748 ,  95.06416,  95.07888,  95.08808,\n",
       "               95.09236,  95.09792,  95.5304 ,  95.5392 ,  99.32144,  99.33064,\n",
       "               99.34088,  99.36912,  99.3722 ,  99.81624, 100.23188, 100.28388,\n",
       "              104.7426 , 104.75068, 104.76052, 104.7908 , 104.82224, 105.1134 ,\n",
       "              106.61664, 106.628  , 106.71088, 106.72496, 111.01924, 111.02524,\n",
       "              111.02944, 111.03908, 111.04372, 111.062  , 111.07928, 111.37464,\n",
       "              111.85356, 115.33372, 115.3374 , 115.34216, 115.34644, 115.35984,\n",
       "              115.84332, 119.91156, 119.93432, 119.97556])                     ,\n",
       "       array([  0.77584,   5.15396,   5.191  ,   8.12944,  12.9522 ,  17.05568,\n",
       "               20.42416,  20.51184,  36.84932,  42.76704,  42.77148,  42.95444,\n",
       "               47.73044,  52.01512,  56.03356,  56.39472,  56.40688,  59.71684,\n",
       "               63.81604,  64.15504,  77.24848,  77.251  ,  95.08836,  95.52116,\n",
       "               99.31692, 100.2834 , 104.73264, 104.82204, 111.01556, 115.33376,\n",
       "              115.8418 ])                                                      ,\n",
       "       array([], dtype=float64), array([], dtype=float64),\n",
       "       array([30.51488]), array([], dtype=float64),\n",
       "       array([  4.49264,   4.54312,  12.97948,  20.43596,  38.69496,  63.69332,\n",
       "               81.40596,  85.94284,  95.52688,  99.3646 , 119.9076 ])          ,\n",
       "       array([  0.77168,   0.77368,   0.77992,   0.78312,   0.80924,   0.82716,\n",
       "                0.8416 ,   4.48996,   4.49248,   4.49772,   4.51108,   4.53964,\n",
       "                4.54248,   4.55276,   4.5622 ,   5.17432,   5.17672,   5.18748,\n",
       "                8.12104,   8.12264,   8.12948,   8.14512,   8.4686 ,   8.47672,\n",
       "                8.48064,   8.48356,  12.31268,  12.31876,  12.351  ,  12.66368,\n",
       "               12.66604,  12.67728,  12.9752 ,  17.0234 ,  17.03404,  17.0352 ,\n",
       "               17.07176,  17.49472,  20.41952,  20.4236 ,  20.43648,  20.52244,\n",
       "               20.52404,  24.16876,  24.1708 ,  24.17624,  24.19044,  24.21012,\n",
       "               24.2224 ,  27.75188,  27.754  ,  27.76996,  27.83364,  27.8364 ,\n",
       "               27.84968,  28.44012,  28.44204,  28.45224,  28.45416,  28.46644,\n",
       "               32.2592 ,  32.26196,  32.268  ,  32.27016,  32.30012,  32.35224,\n",
       "               32.8794 ,  32.8822 ,  32.89272,  32.90772,  33.38972,  36.8502 ,\n",
       "               36.85436,  36.85976,  36.87004,  36.88228,  38.58568,  38.58804,\n",
       "               38.59896,  38.69208,  38.69372,  42.76872,  42.77116,  42.77684,\n",
       "               42.77892,  42.7866 ,  42.8032 ,  42.83768,  42.8402 ,  43.17464,\n",
       "               43.18444,  43.18704,  43.20016,  43.4676 ,  43.51416,  43.52792,\n",
       "               47.73532,  47.74104,  47.75816,  47.78108,  47.7898 ,  47.79312,\n",
       "               48.22648,  48.22864,  48.24408,  51.96848,  51.97468,  51.97664,\n",
       "               51.9794 ,  51.9874 ,  52.00332,  52.00628,  52.019  ,  52.39248,\n",
       "               52.39428,  52.40504,  56.03144,  56.03356,  56.03904,  56.0416 ,\n",
       "               56.05336,  56.39404,  56.39592,  56.41008,  59.71644,  59.72252,\n",
       "               59.72504,  59.73284,  59.74752,  59.77748,  59.78032,  59.79364,\n",
       "               63.69056,  63.69336,  63.69372,  63.69856,  63.7126 ,  63.72464,\n",
       "               64.1526 ,  64.16356,  64.16584,  64.70508,  64.70728,  68.80036,\n",
       "               68.80236,  68.80816,  68.8214 ,  68.8238 ,  68.83984,  69.0632 ,\n",
       "               69.065  ,  69.07344,  69.07644,  72.9546 ,  72.96232,  72.972  ,\n",
       "               72.993  ,  73.00332,  73.00636,  73.3568 ,  73.3588 ,  73.36776,\n",
       "               77.24644,  77.254  ,  77.26496,  77.28224,  77.28484,  77.2894 ,\n",
       "               77.29732,  81.40332,  81.40588,  81.81772,  81.82   ,  81.845  ,\n",
       "               81.86588,  81.86844,  85.94068,  85.94892,  85.95976,  85.97212,\n",
       "               85.9858 ,  89.48484,  89.48712,  89.49348,  89.49572,  89.51392,\n",
       "               89.51904,  89.53588,  90.39228,  90.39452,  90.40136,  90.41736,\n",
       "               90.47228,  90.48256,  90.48512,  95.0624 ,  95.06444,  95.07   ,\n",
       "               95.08332,  95.08832,  95.09604,  95.52688,  95.52912,  95.53032,\n",
       "               95.53692,  99.31336,  99.31676,  99.32548,  99.32996,  99.35848,\n",
       "               99.82384,  99.82624,  99.84308,  99.84544, 100.24348, 100.24552,\n",
       "              100.27152, 100.27384, 100.28644, 104.73592, 104.73792, 104.74316,\n",
       "              104.74592, 104.76864, 105.11224, 105.11492, 105.12492, 106.61496,\n",
       "              106.61672, 106.62384, 106.6426 , 106.70504, 106.70792, 106.71828,\n",
       "              111.01516, 111.02112, 111.02372, 111.03992, 111.04592, 111.05212,\n",
       "              111.36052, 111.36496, 111.36692, 115.33048, 115.333  , 115.33944,\n",
       "              115.3484 , 115.37352, 115.83768, 115.83976, 115.84852, 115.85272,\n",
       "              119.90764, 119.91112, 119.91676, 119.95812])                     ,\n",
       "       array([  0.77592,   0.78356,   0.79124,   0.82784,   4.49268,  20.42176,\n",
       "               20.52648,  20.53008,  24.17232,  27.75448,  27.76176,  28.4588 ,\n",
       "               36.85128,  36.85464,  38.59788,  38.70064,  42.77176,  43.517  ,\n",
       "               47.73148,  47.7358 ,  47.77956,  47.78484,  51.97208,  56.03008,\n",
       "               56.03432,  63.69408,  64.165  ,  72.9588 ,  73.01364,  77.2482 ,\n",
       "               77.30156,  81.40628,  85.9442 ,  95.0646 ,  95.08536,  99.33236,\n",
       "               99.35956, 104.74676, 106.71568, 111.01228, 111.01664, 111.04   ,\n",
       "              115.334  ])                                                      ,\n",
       "       array([], dtype=float64), array([], dtype=float64),\n",
       "       array([  5.18632,  24.17052,  32.27664,  48.24004,  51.96544,  52.0098 ,\n",
       "               52.01384,  56.4048 ,  56.40872,  63.68932,  72.96904,  81.39944,\n",
       "               85.47056,  95.066  , 104.73808])                                ,\n",
       "       array([  0.7632 ,   0.77104,   0.77476,   0.78244,   0.78548,   0.82524,\n",
       "                0.83096,   1.20924,   4.488  ,   4.49268,   4.49816,   4.549  ,\n",
       "                4.5534 ,   5.17812,   5.18184,   5.18696,   5.19044,   8.12408,\n",
       "                8.12424,   8.1294 ,   8.12976,   8.13492,   8.14008,   8.15288,\n",
       "                8.15624,   8.46772,   8.4736 ,   8.47652,   8.4792 ,   8.48552,\n",
       "                8.4908 ,  12.30628,  12.30928,  12.31208,  12.3134 ,  12.31864,\n",
       "               12.32844,  12.35088,  12.66356,  12.66732,  12.6696 ,  12.6722 ,\n",
       "               12.67644,  12.68644,  12.98724,  12.99016,  17.01496,  17.02296,\n",
       "               17.02572,  17.03212,  17.03528,  17.0482 ,  17.07476,  17.07804,\n",
       "               17.08068,  17.08816,  20.40784,  20.41164,  20.41584,  20.41744,\n",
       "               20.42388,  20.42852,  20.43176,  20.44132,  20.44428,  20.46024,\n",
       "               20.51156,  20.52052,  20.52656,  20.52956,  20.53336,  20.53696,\n",
       "               24.15888,  24.16156,  24.16612,  24.18124,  24.19796,  24.21708,\n",
       "               24.22116,  27.74096,  27.74416,  27.74896,  27.75588,  27.76048,\n",
       "               27.76316,  27.83888,  27.84216,  27.85132,  28.44924,  28.45212,\n",
       "               28.4542 ,  28.45756,  28.4676 ,  28.781  ,  32.2514 ,  32.2538 ,\n",
       "               32.25796,  32.26176,  32.26568,  32.27104,  32.33608,  32.36072,\n",
       "               32.88656,  32.89044,  32.8974 ,  32.90084,  36.84044,  36.85008,\n",
       "               36.8546 ,  36.86204,  36.86924,  36.88564,  36.88696,  36.89044,\n",
       "               38.58832,  38.59248,  38.59604,  38.60644,  38.68884,  38.69404,\n",
       "               38.70124,  38.70176,  38.70524,  42.762  ,  42.76652,  42.77212,\n",
       "               42.77792,  42.78932,  42.7928 ,  42.7936 ,  42.80324,  43.169  ,\n",
       "               43.1758 ,  43.17892,  43.18236,  43.19108,  43.48612,  43.4964 ,\n",
       "               43.50224,  43.51296,  43.51684,  43.51944,  43.52388,  47.72236,\n",
       "               47.72896,  47.73144,  47.74076,  47.74248,  47.78148,  47.78628,\n",
       "               47.78848,  47.79252,  48.23868,  48.24564,  48.2556 ,  51.96552,\n",
       "               51.97056,  51.9776 ,  51.9884 ,  51.99316,  52.01032,  52.01388,\n",
       "               52.01832,  52.329  ,  52.39092,  52.39528,  52.40272,  56.02008,\n",
       "               56.02292,  56.03156,  56.0336 ,  56.03992,  56.06508,  56.07136,\n",
       "               56.10672,  56.36152,  56.37736,  56.39668,  56.40168,  56.4056 ,\n",
       "               59.7062 ,  59.7112 ,  59.71312,  59.71712,  59.72012,  59.729  ,\n",
       "               59.74004,  59.77304,  59.78504,  59.79432,  63.67892,  63.68584,\n",
       "               63.68888,  63.6932 ,  63.69336,  63.69848,  63.69924,  63.7072 ,\n",
       "               63.7162 ,  63.73708,  63.74008,  64.15616,  64.15996,  64.66828,\n",
       "               64.67776,  64.68328,  64.69916,  68.79068,  68.79556,  68.80052,\n",
       "               68.80336,  68.80764,  68.86664,  69.0502 ,  69.05528,  69.07172,\n",
       "               72.94932,  72.9556 ,  72.95988,  72.96116,  72.96596,  72.96824,\n",
       "               72.99788,  73.00328,  73.00796,  73.33072,  73.35088,  73.35544,\n",
       "               73.35892,  73.35924,  73.36464,  77.23992,  77.244  ,  77.24712,\n",
       "               77.25592,  77.26048,  77.27024,  77.27544,  77.28832,  77.2926 ,\n",
       "               77.29792,  77.31472,  81.39448,  81.39652,  81.3994 ,  81.40264,\n",
       "               81.40532,  81.41092,  81.44252,  81.44828,  81.83852,  81.84508,\n",
       "               81.85796,  81.86068,  85.93212,  85.93904,  85.94624,  85.95112,\n",
       "               85.96472,  85.97944,  85.9838 ,  89.47824,  89.48292,  89.486  ,\n",
       "               89.48856,  89.49548,  89.5148 ,  89.52196,  89.53312,  89.53596,\n",
       "               89.53692,  90.02872,  90.07352,  90.39844,  90.40448,  90.40932,\n",
       "               90.42336,  90.46412,  90.4702 ,  90.4732 ,  90.48004,  90.48468,\n",
       "               95.0534 ,  95.06224,  95.06552,  95.07688,  95.0884 ,  95.09176,\n",
       "               95.10236,  95.14652,  95.524  ,  95.52988,  99.30516,  99.31344,\n",
       "               99.3154 ,  99.32296,  99.3284 ,  99.35912,  99.36876,  99.37276,\n",
       "               99.83036,  99.83608,  99.83864,  99.84228,  99.84652,  99.85024,\n",
       "               99.8544 , 100.26512, 100.27164, 100.27344, 100.28076, 100.28484,\n",
       "              100.29412, 104.73544, 104.738  , 104.73844, 104.74276, 104.74984,\n",
       "              104.76016, 104.77348, 104.77756, 105.11216, 105.1174 , 105.11744,\n",
       "              105.1208 , 105.12568, 105.13264, 106.61672, 106.62048, 106.62384,\n",
       "              106.6312 , 106.63712, 106.64244, 106.6496 , 106.68708, 106.71168,\n",
       "              106.7152 , 111.00436, 111.01272, 111.0376 , 111.03844, 111.05188,\n",
       "              111.05756, 111.06076, 111.06492, 111.34852, 111.356  , 111.36168,\n",
       "              111.36588, 111.36592, 111.3694 , 111.3716 , 111.37472, 111.38124,\n",
       "              115.32352, 115.32932, 115.33   , 115.33016, 115.34476, 115.3586 ,\n",
       "              115.38032, 115.38424, 115.39632, 115.84848, 115.8522 , 119.90164,\n",
       "              119.90376, 119.90744, 119.91208, 119.91916, 119.92416, 119.93444,\n",
       "              119.9422 , 119.97528])                                           ,\n",
       "       array([  0.77492,   0.82528,   4.48752,   4.4928 ,   4.50328,   5.1838 ,\n",
       "                8.11972,   8.16888,  12.30952,  12.31416,  12.67552,  12.98132,\n",
       "               17.02828,  20.41708,  20.4318 ,  20.5206 ,  24.1724 ,  24.217  ,\n",
       "               27.74784,  27.81056,  28.45884,  32.26276,  32.26576,  32.27204,\n",
       "               32.8988 ,  38.69952,  42.7688 ,  42.77156,  43.18392,  43.49936,\n",
       "               47.73468,  47.78524,  48.2388 ,  51.5626 ,  51.96412,  51.96624,\n",
       "               51.9736 ,  52.01388,  56.40196,  59.71328,  59.71992,  63.69484,\n",
       "               63.72912,  72.9526 ,  72.96116,  73.00968,  73.35996,  77.24724,\n",
       "               77.29288,  81.40552,  81.41508,  85.93956,  85.94372,  89.48324,\n",
       "               89.48616,  89.48964,  90.3896 ,  90.4048 ,  99.31288,  99.31704,\n",
       "               99.32628,  99.37108,  99.82852,  99.83372, 100.27192, 104.73324,\n",
       "              104.73764, 104.74092, 104.83992, 106.61108, 106.61708, 106.71208,\n",
       "              111.37472, 115.32808, 115.33584, 119.91216, 119.95804])          ,\n",
       "       array([  0.829  ,  12.31712,  12.3378 ,  12.67988,  20.42492,  20.43512,\n",
       "               27.84092,  42.77488,  59.7874 ,  72.96112,  76.44824,  77.25836,\n",
       "               81.40452,  85.98508,  87.25668,  95.524  ,  95.54376, 100.28836,\n",
       "              104.76184, 111.0482 , 115.3318 ])                                ,\n",
       "       array([], dtype=float64),\n",
       "       array([  0.77504,   0.78744,   0.82316,   0.8278 ,   4.47532,   4.47884,\n",
       "                5.18632,   5.19552,   8.12464,   8.47372,  12.29416,  12.2972 ,\n",
       "               12.30176,  12.3282 ,  12.66324,  12.6666 ,  12.6722 ,  12.6764 ,\n",
       "               12.98784,  17.02588,  17.03904,  17.077  ,  20.4052 ,  20.4144 ,\n",
       "               20.41744,  20.44524,  20.52712,  24.1554 ,  24.15716,  24.1646 ,\n",
       "               24.17084,  24.22024,  27.738  ,  27.7432 ,  27.75136,  27.83632,\n",
       "               27.84328,  32.24312,  32.24916,  32.2526 ,  32.25624,  32.25856,\n",
       "               32.26304,  32.88612,  36.83848,  36.84552,  36.85012,  36.85376,\n",
       "               42.75804,  42.78292,  43.17576,  43.178  ,  43.47408,  47.72404,\n",
       "               47.7258 ,  47.78628,  48.24008,  51.95508,  51.96924,  51.9884 ,\n",
       "               52.01388,  52.3848 ,  56.01692,  56.02632,  56.05476,  56.41308,\n",
       "               56.41828,  59.71144,  59.7164 ,  59.73788,  59.7892 ,  63.6764 ,\n",
       "               63.68048,  63.68588,  63.68892,  63.69332,  63.6992 ,  63.73716,\n",
       "               64.67668,  64.69868,  68.79644,  68.822  ,  68.83172,  69.03816,\n",
       "               69.05056,  72.94376,  72.94792,  72.95168,  72.95496,  72.95812,\n",
       "               73.003  ,  73.00716,  73.33032,  76.4482 ,  77.2346 ,  77.29324,\n",
       "               77.41852,  77.869  ,  81.39968,  81.41124,  81.84968,  81.858  ,\n",
       "               87.25644,  88.13608,  89.47408,  89.482  ,  89.53084,  89.97692,\n",
       "               89.98672,  90.47028,  90.47496,  95.05164,  95.10232,  95.53184,\n",
       "               99.31012,  99.32932,  99.84056, 100.2664 , 100.26992, 100.28452,\n",
       "              104.72336, 104.7316 , 104.7352 , 105.11276, 105.30588, 106.62   ,\n",
       "              106.62396, 106.708  , 106.71456, 111.00168, 111.01196, 111.354  ,\n",
       "              115.31904, 115.32736, 115.386  , 115.85644, 119.89688, 119.90764,\n",
       "              119.96084])                                                      ,\n",
       "       array([  0.766  ,   0.76912,   0.77488,   0.77636,   0.83088,   0.83484,\n",
       "                4.47912,   4.48628,   4.4948 ,   4.49488,   4.50652,   4.54956,\n",
       "                4.552  ,   4.56148,   5.18336,   5.1864 ,   5.19144,   5.1954 ,\n",
       "                8.11996,   8.12416,   8.12548,   8.1312 ,   8.13552,   8.14056,\n",
       "                8.14772,   8.46456,   8.46864,   8.47996,   8.48664,  12.29732,\n",
       "               12.30516,  12.31268,  12.31444,  12.33248,  12.65956,  12.66744,\n",
       "               12.67216,  12.67744,  12.67972,  12.68268,  12.6866 ,  12.98464,\n",
       "               12.98804,  17.01804,  17.02164,  17.02668,  17.03524,  17.03888,\n",
       "               17.07924,  17.08752,  20.40404,  20.41116,  20.41464,  20.41836,\n",
       "               20.42084,  20.4232 ,  20.436  ,  20.445  ,  20.4492 ,  20.52196,\n",
       "               20.52788,  20.53348,  24.15436,  24.1636 ,  24.16612,  24.17164,\n",
       "               24.19964,  24.22432,  27.738  ,  27.74528,  27.7484 ,  27.74852,\n",
       "               27.75332,  27.7566 ,  27.76712,  27.77252,  27.8388 ,  27.84292,\n",
       "               27.84616,  27.84884,  28.45112,  28.45444,  28.45984,  32.25348,\n",
       "               32.263  ,  32.26664,  32.2848 ,  32.30796,  32.36544,  32.88704,\n",
       "               32.88952,  32.89688,  32.90308,  32.90628,  36.8418 ,  36.84536,\n",
       "               36.84812,  36.854  ,  36.85596,  38.58952,  38.59352,  38.59864,\n",
       "               38.60092,  38.60544,  38.68944,  38.69456,  38.70052,  38.70056,\n",
       "               38.7032 ,  42.76528,  42.77164,  42.77416,  42.77876,  42.80924,\n",
       "               43.16924,  43.17952,  43.18664,  43.4828 ,  43.486  ,  43.49232,\n",
       "               43.51468,  47.72572,  47.72796,  47.72904,  47.73572,  47.7418 ,\n",
       "               47.7436 ,  47.78672,  47.7916 ,  48.24008,  48.24372,  51.95508,\n",
       "               51.96016,  51.96236,  51.96588,  51.97044,  51.98264,  51.98888,\n",
       "               52.00632,  52.01928,  52.38488,  52.38704,  52.3904 ,  52.39572,\n",
       "               52.39864,  52.40808,  56.01972,  56.02844,  56.02856,  56.0344 ,\n",
       "               56.06432,  56.3974 ,  56.40056,  56.40544,  56.40976,  56.41252,\n",
       "               59.70756,  59.7202 ,  59.76104,  59.78668,  59.79   ,  59.79256,\n",
       "               63.67668,  63.68116,  63.68548,  63.68888,  63.695  ,  63.70108,\n",
       "               63.73424,  63.73836,  63.74104,  64.15688,  64.15932,  64.16524,\n",
       "               64.16792,  64.17172,  64.67828,  64.685  ,  68.78672,  68.79636,\n",
       "               68.79848,  68.80428,  68.82208,  69.05404,  69.05644,  69.064  ,\n",
       "               69.06824,  69.07432,  69.07756,  69.08284,  72.93944,  72.95088,\n",
       "               72.95924,  72.96092,  72.9728 ,  73.0076 ,  73.33584,  73.35112,\n",
       "               73.3594 ,  73.36248,  73.36276,  76.44792,  77.23992,  77.24188,\n",
       "               77.24764,  77.25084,  77.25464,  77.2844 ,  77.2878 ,  77.29416,\n",
       "               77.3042 ,  81.39732,  81.39984,  81.40536,  81.40632,  81.42912,\n",
       "               81.44816,  81.4522 ,  81.84016,  81.84376,  81.8508 ,  81.85884,\n",
       "               85.92528,  85.93584,  85.94296,  85.94512,  85.97996,  85.98944,\n",
       "               89.47464,  89.4808 ,  89.49128,  89.50448,  89.52768,  89.53108,\n",
       "               90.40384,  90.41784,  90.47284,  90.48308,  95.0586 ,  95.06528,\n",
       "               95.06688,  95.0872 ,  95.0974 ,  95.10516,  95.51004,  95.5198 ,\n",
       "               95.52572,  95.5318 ,  95.53776,  99.30204,  99.3088 ,  99.31688,\n",
       "               99.319  ,  99.36504,  99.36904,  99.37276,  99.82796,  99.83604,\n",
       "               99.84228,  99.85012, 100.26612, 100.27484, 100.28132, 100.28456,\n",
       "              100.29076, 104.7214 , 104.72912, 104.73152, 104.73776, 104.78236,\n",
       "              105.115  , 105.11876, 105.12436, 106.62504, 106.63056, 106.6348 ,\n",
       "              106.6354 , 106.64804, 106.71388, 106.7172 , 106.71992, 110.99912,\n",
       "              111.00448, 111.0094 , 111.01572, 111.04108, 111.05244, 111.06048,\n",
       "              111.06948, 111.34272, 111.35284, 111.36804, 115.31916, 115.3248 ,\n",
       "              115.32724, 115.33244, 115.33668, 115.34684, 115.3504 , 115.3838 ,\n",
       "              115.38656, 115.84692, 115.84812, 115.85216, 115.85688, 115.86072,\n",
       "              119.89364, 119.90396, 119.908  , 119.91276, 119.91412, 119.91952,\n",
       "              119.9618 , 119.9638 , 119.975  ])                                ,\n",
       "       array([36.8564 , 38.59288, 43.1736 , 51.96096, 72.9496 , 72.96188,\n",
       "              76.44828, 77.3016 , 87.25648, 89.49176, 95.06748, 95.517  ]),\n",
       "       array([], dtype=float64), array([20.48428]),\n",
       "       array([ 8.48264, 12.30136, 36.84744, 68.78668, 73.00736, 89.98152,\n",
       "              99.37112])                                                 ,\n",
       "       array([ 12.30508,  28.45408,  32.25168,  32.2538 ,  36.85256,  37.23348,\n",
       "               38.59768,  43.18104,  47.72576,  51.97   ,  56.02392,  59.70692,\n",
       "               63.68388,  68.80276,  81.84492,  90.47464,  95.067  ,  99.30876,\n",
       "              100.27632, 105.115  , 111.0094 , 115.33252])                     ,\n",
       "       array([], dtype=float64), array([], dtype=float64),\n",
       "       array([], dtype=float64), array([], dtype=float64),\n",
       "       array([], dtype=float64), array([76.44788]),\n",
       "       array([], dtype=float64), array([76.44776]),\n",
       "       array([], dtype=float64), array([], dtype=float64),\n",
       "       array([], dtype=float64), array([], dtype=float64),\n",
       "       array([], dtype=float64), array([], dtype=float64),\n",
       "       array([87.25644]), array([], dtype=float64),\n",
       "       array([], dtype=float64), array([], dtype=float64),\n",
       "       array([74.48828]), array([], dtype=float64),\n",
       "       array([], dtype=float64), array([76.44828]), array([76.4482]),\n",
       "       array([], dtype=float64), array([], dtype=float64),\n",
       "       array([77.80688]), array([76.44824, 94.41748]), array([1.89156]),\n",
       "       array([], dtype=float64), array([56.97384, 76.44828]),\n",
       "       array([76.44824]), array([], dtype=float64),\n",
       "       array([33.2398 , 76.44828, 76.44852, 77.86848, 87.25668, 87.52932]),\n",
       "       array([], dtype=float64), array([], dtype=float64),\n",
       "       array([76.44828]), array([76.4478]), array([], dtype=float64),\n",
       "       array([], dtype=float64), array([], dtype=float64),\n",
       "       array([], dtype=float64), array([76.4478]), array([76.4478]),\n",
       "       array([], dtype=float64), array([], dtype=float64),\n",
       "       array([76.4482]), array([], dtype=float64),\n",
       "       array([ 76.44776, 105.18484]), array([76.44776]),\n",
       "       array([], dtype=float64), array([], dtype=float64),\n",
       "       array([], dtype=float64), array([76.44828]),\n",
       "       array([ 90.39756, 106.58548, 106.59008, 106.59348, 106.60296]),\n",
       "       array([], dtype=float64),\n",
       "       array([ 90.3966 ,  90.4022 ,  90.40736, 106.565  , 106.59452]),\n",
       "       array([106.58532]),\n",
       "       array([ 26.35332,  90.3886 ,  90.39096,  90.39676,  90.39768,  90.39792,\n",
       "               90.40272,  90.40728,  90.41484,  90.42956, 106.56688, 106.57044,\n",
       "              106.574  , 106.57696, 106.5808 , 106.58204, 106.58584, 106.58932,\n",
       "              106.5934 , 106.59396, 106.59452, 106.59884, 106.59916, 106.60376,\n",
       "              106.60884, 106.61724])                                           ,\n",
       "       array([ 76.44768,  90.39088,  90.3936 ,  90.394  ,  90.397  ,  90.40192,\n",
       "               90.402  ,  90.4072 ,  90.42016,  90.45704,  90.5022 ,  90.50248,\n",
       "              106.56496, 106.5666 , 106.56988, 106.5738 , 106.5742 , 106.57748,\n",
       "              106.58092, 106.58184, 106.58552, 106.59024, 106.59376, 106.59452,\n",
       "              106.59524, 106.5986 , 106.60308, 106.60404, 106.60448, 106.60812,\n",
       "              106.60928, 106.68652])                                           ,\n",
       "       array([ 90.3804 ,  90.38428,  90.3868 ,  90.39644,  90.40332,  90.50752,\n",
       "              106.57876, 106.58508, 106.58548, 106.58944, 106.59   , 106.59288,\n",
       "              106.59824, 106.60188, 106.60296, 106.6074 , 106.61128, 106.612  ,\n",
       "              106.61572, 106.62068, 106.62604])                                ,\n",
       "       array([ 23.35928,  90.38768,  90.38808,  90.3968 ,  90.4028 ,  90.4036 ,\n",
       "               90.40784,  90.41816, 106.57772, 106.5812 , 106.58532, 106.58944,\n",
       "              106.59304, 106.594  , 106.59504, 106.59828, 106.6024 , 106.61152,\n",
       "              106.626  ])                                                      ,\n",
       "       array([], dtype=float64), array([], dtype=float64),\n",
       "       array([ 23.34796,  23.35644,  23.36084,  76.44772,  77.8684 ,  87.25644,\n",
       "               90.3846 ,  90.3874 ,  90.39072,  90.3916 ,  90.39676,  90.39776,\n",
       "               90.40256,  90.40324,  90.40744,  90.40812,  90.41288,  90.42644,\n",
       "               90.42888,  90.43552,  90.448  ,  90.50992, 103.51292, 106.56776,\n",
       "              106.5716 , 106.57572, 106.57896, 106.57924, 106.58184, 106.58524,\n",
       "              106.5864 , 106.58992, 106.59028, 106.59392, 106.59428, 106.59828,\n",
       "              106.603  , 106.6036 , 106.60804, 106.61236, 106.61332, 106.61732,\n",
       "              106.62192, 106.62612, 106.6336 , 106.63844, 106.64488, 106.65896]),\n",
       "       array([  9.72896,   9.7404 ,   9.75124,   9.84124,  90.39116,  90.3942 ,\n",
       "               90.39648,  90.4028 ,  90.4078 ,  90.41376,  90.4178 , 106.57376,\n",
       "              106.57776, 106.5812 , 106.58584, 106.58652, 106.59048, 106.5944 ,\n",
       "              106.59452, 106.59532, 106.59888, 106.60968])                     ,\n",
       "       array([ 76.44776,  90.3998 ,  90.40312,  90.40672,  90.4068 ,  90.40744,\n",
       "               90.41184,  90.41296,  90.4174 ,  90.41884,  90.42572,  90.45232,\n",
       "               90.48312, 106.55376, 106.55776, 106.56236, 106.5652 , 106.56528,\n",
       "              106.56972, 106.57676, 106.58136, 106.5892 , 106.59084, 106.59404,\n",
       "              106.5946 , 106.59584, 106.59968, 106.60524, 106.60944, 106.61656,\n",
       "              106.62264])                                                      ,\n",
       "       array([ 76.4478 ,  87.25668,  90.3804 , 106.58552, 106.59332]),\n",
       "       array([ 76.44828,  90.38556,  90.389  ,  90.39272,  90.39948,  90.40836,\n",
       "               90.41528,  90.42168,  90.42672,  90.434  , 106.56572, 106.57216,\n",
       "              106.57612, 106.57996, 106.58384, 106.58748, 106.5914 , 106.59256,\n",
       "              106.59644, 106.59692, 106.60152, 106.60728, 106.61152, 106.62388]),\n",
       "       array([ 76.4478 ,  87.25672,  90.38504,  90.389  ,  90.39536,  90.402  ,\n",
       "               90.40836,  90.41392,  90.41716,  90.422  ,  90.42664,  90.44888,\n",
       "               90.45416,  95.28904,  95.3032 ,  95.33556,  95.33808,  95.3654 ,\n",
       "              106.5656 , 106.56836, 106.56904, 106.57148, 106.57436, 106.57872,\n",
       "              106.5792 , 106.57964, 106.58408, 106.59232, 106.59596, 106.59684,\n",
       "              106.60228, 106.606  , 106.60652, 106.61124, 106.61188, 106.62052,\n",
       "              106.63252])                                                      ,\n",
       "       array([ 76.44784,  90.381  ,  90.38676,  90.39944,  90.4296 , 106.58544,\n",
       "              106.59276, 106.5934 , 106.59372, 106.59764, 106.60228, 106.60728,\n",
       "              106.61176, 106.61508, 106.621  ])                                ,\n",
       "       array([ 76.44824, 106.61172]), array([], dtype=float64),\n",
       "       array([ 76.44776,  90.40028,  90.40416,  90.40436,  90.40796,  90.41312,\n",
       "               90.41616,  90.42064,  90.42192,  90.42664,  90.45532, 106.551  ,\n",
       "              106.55608, 106.55864, 106.56276, 106.56852, 106.57404, 106.57516,\n",
       "              106.58304, 106.58764, 106.592  , 106.59596, 106.61728, 106.62888,\n",
       "              106.65896, 106.6782 ])                                           ,\n",
       "       array([ 90.38132,  90.38596,  90.38872,  90.39208,  90.39328,  90.39592,\n",
       "               90.39908,  90.40788,  90.41316,  90.41572,  90.42748,  90.4396 ,\n",
       "              106.5724 , 106.57608, 106.57992, 106.58312, 106.5876 , 106.59124,\n",
       "              106.59176, 106.59548, 106.59596, 106.59956, 106.60412, 106.60464,\n",
       "              106.60804, 106.61372, 106.62268])                                ,\n",
       "       array([ 76.44784,  90.40036, 106.55892, 106.5634 ]),\n",
       "       array([76.44836]), array([ 76.44824,  90.40556, 106.56268]),\n",
       "       array([], dtype=float64),\n",
       "       array([ 76.44772,  90.39332,  90.3966 ,  90.4002 ,  90.40876, 106.56832,\n",
       "              106.5762 , 106.57976, 106.58768, 106.59292, 106.59716])          ,\n",
       "       array([ 57.30984,  76.44776,  90.38032,  90.38044,  90.3838 ,  90.38676,\n",
       "               90.39028,  90.39088,  90.39576,  90.39876,  90.39988,  90.4042 ,\n",
       "               90.40784,  90.4142 ,  90.42056,  90.42896,  90.43784,  90.44632,\n",
       "               90.4698 ,  90.50368,  90.50896,  90.51352, 106.58096, 106.5854 ,\n",
       "              106.58632, 106.58976, 106.59004, 106.59336, 106.59428, 106.59808,\n",
       "              106.6016 , 106.60236, 106.60288, 106.60704, 106.611  , 106.61168,\n",
       "              106.61564, 106.61712, 106.62116, 106.62628, 106.63648, 106.65152,\n",
       "              106.69644])                                                      ,\n",
       "       array([76.44836]),\n",
       "       array([ 90.38612,  90.38956,  90.39004,  90.39312, 106.5838 , 106.58756,\n",
       "              106.5886 , 106.59184, 106.5966 ])                                ,\n",
       "       array([76.4482]), array([76.44832, 87.25648]),\n",
       "       array([65.3076 , 76.44824]),\n",
       "       array([ 90.37716,  90.3814 ,  90.38628,  90.38664,  90.38708,  90.39272,\n",
       "               90.39664,  90.40012,  90.40456,  90.40836,  90.41616,  90.4396 ,\n",
       "               90.45364,  90.46192,  90.4702 ,  90.47432,  90.5148 , 106.58144,\n",
       "              106.58336, 106.5872 , 106.59084, 106.59264, 106.59468, 106.59944,\n",
       "              106.60332, 106.60412, 106.60736, 106.613  , 106.61848, 106.62372]),\n",
       "       array([ 76.44828,  80.48176, 106.58996]),\n",
       "       array([ 76.44772,  77.86848,  87.25648, 106.59216, 106.59584]),\n",
       "       array([  9.95308,  76.44824,  90.3818 ,  90.3858 ,  90.38904,  90.39384,\n",
       "               90.40096,  90.40552, 106.58772, 106.59148, 106.5918 , 106.5952 ,\n",
       "              106.60016, 106.60056, 106.60468, 106.61   , 106.62312, 106.63408]),\n",
       "       array([ 76.44824,  90.37436,  90.37808,  90.38088,  90.38312,  90.38576,\n",
       "               90.39132,  90.3958 ,  90.39944,  90.42892,  90.53796,  90.54068,\n",
       "              106.58496, 106.58676, 106.58996, 106.59356, 106.59404, 106.59852,\n",
       "              106.6024 , 106.60608, 106.60712, 106.60768, 106.61172, 106.62084,\n",
       "              106.62204, 106.70052, 106.72852])                                ,\n",
       "       array([76.44776, 87.25644, 87.52976]), array([], dtype=float64),\n",
       "       array([ 76.44784,  90.3716 ,  90.37784,  90.38088,  90.38156,  90.3878 ,\n",
       "               90.39268,  90.39748,  90.40556,  90.41504,  90.42056,  90.43852,\n",
       "               90.44812,  90.463  ,  90.47016,  90.50704,  90.51088,  90.51452,\n",
       "              106.58524, 106.59024, 106.59364, 106.59732, 106.59744, 106.5982 ,\n",
       "              106.60244, 106.60376, 106.60688, 106.60952, 106.61564, 106.61648,\n",
       "              106.62128, 106.62272, 106.63084, 106.63844])                     ,\n",
       "       array([76.44776, 77.8684 ]),\n",
       "       array([ 76.4478 ,  90.37344,  90.38376,  90.38932,  90.39496,  90.40728,\n",
       "               90.41316, 106.58832, 106.59224, 106.59528, 106.59888, 106.59892,\n",
       "              106.603  , 106.6074 , 106.62444])                                ,\n",
       "       array([ 76.44824,  81.47748,  90.36648,  90.37172,  90.37536,  90.38084,\n",
       "               90.38164,  90.38628,  90.38708,  90.39204,  90.397  ,  90.39804,\n",
       "               90.40416,  90.42192,  90.48404,  90.51008,  90.5138 , 106.5904 ,\n",
       "              106.5936 , 106.59716, 106.5974 , 106.59804, 106.60332, 106.60816,\n",
       "              106.60884, 106.6146 , 106.61572, 106.62064, 106.622  , 106.62596,\n",
       "              106.63024, 106.63556, 106.6418 , 106.64972, 106.65724, 106.7064 ]),\n",
       "       array([], dtype=float64), array([], dtype=float64),\n",
       "       array([ 76.44824,  90.368  ,  90.37224,  90.37232,  90.37532,  90.37764,\n",
       "               90.38048,  90.38096,  90.38336,  90.38696,  90.38804,  90.39276,\n",
       "               90.39308,  90.39748,  90.3978 ,  90.4034 ,  90.40436,  90.41072,\n",
       "               90.41132,  90.41672,  90.41784,  90.42668,  90.4312 ,  90.448  ,\n",
       "               90.4702 ,  90.48004,  90.50644,  90.51112,  90.5428 , 106.59148,\n",
       "              106.5942 , 106.59756, 106.60048, 106.60468, 106.6086 , 106.60944,\n",
       "              106.6156 , 106.61576, 106.622  , 106.6264 , 106.62724, 106.63524,\n",
       "              106.63572, 106.64108, 106.65012, 106.65872, 106.6628 , 106.7096 ]),\n",
       "       array([ 76.44824,  90.3864 ,  90.40332, 106.59088, 106.5938 , 106.59768,\n",
       "              106.626  , 106.63548])                                           ,\n",
       "       array([76.4484, 87.2566]),\n",
       "       array([ 57.10372,  76.44776,  90.36616,  90.36764,  90.3726 ,  90.37308,\n",
       "               90.37984,  90.38648,  90.39252,  90.39744,  90.39892,  90.41032,\n",
       "              106.59372, 106.59768, 106.60112, 106.60796, 106.609  , 106.61292,\n",
       "              106.61672, 106.62132, 106.62608, 106.631  , 106.63176, 106.63556,\n",
       "              106.64192, 106.6504 , 106.6564 ])                                ,\n",
       "       array([ 76.44828,  90.37528,  90.38056,  90.38692,  90.39296,  90.39768,\n",
       "               90.40416, 106.5908 , 106.59384, 106.59768, 106.60352, 106.60816,\n",
       "              106.609  , 106.61656, 106.62128, 106.62528, 106.62628, 106.63076,\n",
       "              106.63112, 106.63544, 106.63592, 106.64136, 106.66864])          ,\n",
       "       array([69.17972, 76.44772, 87.2566 ]),\n",
       "       array([ 90.36476,  90.3656 ,  90.36808,  90.37024,  90.37444,  90.37492,\n",
       "               90.38084,  90.3858 ,  90.39492, 106.59464, 106.59772, 106.60084,\n",
       "              106.60424, 106.60908, 106.61348, 106.61764, 106.62308, 106.62604,\n",
       "              106.63196, 106.6328 , 106.65636])                                ,\n",
       "       array([], dtype=float64), array([ 76.4478 , 106.58996]),\n",
       "       array([], dtype=float64), array([106.61556]),\n",
       "       array([ 90.35792,  90.36096,  90.36476,  90.36964, 106.60068, 106.603  ,\n",
       "              106.60812, 106.60828, 106.61168, 106.61556, 106.63076])          ,\n",
       "       array([76.44824]),\n",
       "       array([ 47.15952,  48.40992,  76.44824,  87.2564 ,  90.36444,  90.36804,\n",
       "               90.3752 ,  90.38372,  90.38816,  90.39316, 106.59088, 106.59376,\n",
       "              106.60356, 106.61264, 106.61672, 106.62064, 106.63016, 106.63108,\n",
       "              106.63488])                                                      ,\n",
       "       array([ 76.4478 ,  90.36088,  90.36428,  90.36696,  90.37224,  90.37268,\n",
       "               90.37952,  90.3842 ,  90.39332,  90.3984 ,  90.48004, 106.59968,\n",
       "              106.60376, 106.60752, 106.60812, 106.61144, 106.6126 , 106.61696,\n",
       "              106.62064, 106.62132, 106.63   , 106.63116, 106.63536, 106.63568,\n",
       "              106.63996])                                                      ,\n",
       "       array([], dtype=float64), array([], dtype=float64),\n",
       "       array([ 87.25668,  90.35732,  90.35936,  90.36084,  90.36444,  90.37012,\n",
       "               90.3752 ,  90.39092,  90.40328, 106.60392, 106.61072, 106.61832,\n",
       "              106.621  , 106.62912, 106.63552])                                ,\n",
       "       array([], dtype=float64)], dtype=object)"
      ]
     },
     "execution_count": 124,
     "metadata": {},
     "output_type": "execute_result"
    }
   ],
   "source": [
    "spikearray_seconds"
   ]
  },
  {
   "cell_type": "code",
   "execution_count": 125,
   "id": "08c589e9",
   "metadata": {},
   "outputs": [
    {
     "data": {
      "text/plain": [
       "numpy.ndarray"
      ]
     },
     "execution_count": 125,
     "metadata": {},
     "output_type": "execute_result"
    }
   ],
   "source": [
    "type(spikearray_seconds[0])"
   ]
  },
  {
   "cell_type": "code",
   "execution_count": 126,
   "id": "d35cdd45",
   "metadata": {},
   "outputs": [],
   "source": [
    "#ss = remove_artefact_spikes(spikes = spikearray_seconds, recording_length=timelengthrecording_s)"
   ]
  },
  {
   "cell_type": "code",
   "execution_count": 127,
   "id": "58feeb23",
   "metadata": {},
   "outputs": [],
   "source": [
    "#t = [i.tolist() for i in spikearray_seconds]"
   ]
  },
  {
   "cell_type": "code",
   "execution_count": 128,
   "id": "2e401916",
   "metadata": {},
   "outputs": [
    {
     "data": {
      "text/plain": [
       "12"
      ]
     },
     "execution_count": 128,
     "metadata": {},
     "output_type": "execute_result"
    }
   ],
   "source": [
    "len(spikedic_MAD['G13'])"
   ]
  },
  {
   "cell_type": "code",
   "execution_count": 129,
   "id": "b7ee1d8b",
   "metadata": {},
   "outputs": [
    {
     "data": {
      "text/plain": [
       "6.02"
      ]
     },
     "execution_count": 129,
     "metadata": {},
     "output_type": "execute_result"
    }
   ],
   "source": [
    "relevant_factor"
   ]
  },
  {
   "cell_type": "code",
   "execution_count": 130,
   "id": "76abec63",
   "metadata": {},
   "outputs": [],
   "source": [
    "# get a 1-D array with every detected spike\n",
    "scale_factor_for_milisecond = 1e-03\n",
    "full_spike_list = []\n",
    "full_spike_list_seconds = []\n",
    "for key in spikedic_MAD:\n",
    "    if len(spikedic_MAD[key])>relevant_factor:\n",
    "        x = list(np.asarray(spikedic_MAD[key])*scale_factor_for_milisecond*tick)\n",
    "        full_spike_list = full_spike_list + x\n",
    "\n",
    "        xs = list(np.asarray(spikedic_MAD[key])*scale_factor_for_second*tick)\n",
    "        full_spike_list_seconds = full_spike_list_seconds + xs\n",
    "full_spikes = sorted(full_spike_list)\n",
    "full_spikes_seconds = sorted(full_spike_list_seconds)"
   ]
  },
  {
   "cell_type": "code",
   "execution_count": null,
   "id": "6763fa80",
   "metadata": {},
   "outputs": [],
   "source": []
  },
  {
   "cell_type": "code",
   "execution_count": 131,
   "id": "7761e1b1",
   "metadata": {},
   "outputs": [],
   "source": [
    "mean_fr_whole_recording = np.around((len(full_spikes_seconds) / timelengthrecording_s), 3)"
   ]
  },
  {
   "cell_type": "code",
   "execution_count": 132,
   "id": "cc831352",
   "metadata": {},
   "outputs": [
    {
     "data": {
      "text/plain": [
       "22.807"
      ]
     },
     "execution_count": 132,
     "metadata": {},
     "output_type": "execute_result"
    }
   ],
   "source": [
    "mean_fr_whole_recording"
   ]
  },
  {
   "cell_type": "code",
   "execution_count": 133,
   "id": "1c43ae57",
   "metadata": {
    "jupyter": {
     "outputs_hidden": true
    },
    "tags": []
   },
   "outputs": [
    {
     "data": {
      "text/plain": [
       "(2746, 2746)"
      ]
     },
     "execution_count": 133,
     "metadata": {},
     "output_type": "execute_result"
    }
   ],
   "source": [
    "len(full_spikes_seconds), len(full_spikes)"
   ]
  },
  {
   "cell_type": "code",
   "execution_count": 134,
   "id": "cc04ce26",
   "metadata": {},
   "outputs": [],
   "source": [
    " #define bins \n",
    "binsize = 0.005 #seconds\n",
    "#bins= np.arange(0, timelengthrecording_s+binsize, binsize)\n",
    "\n",
    "# make a histogram \n",
    "#full_spikes_binned = np.histogram(full_spikes_seconds, bins)[0]\n",
    "\n",
    "\n",
    "#trial of population burst plot as inspired by Andrea Corna\n",
    "bins = int(timelengthrecording_s / binsize)+1\n",
    "\n",
    "firing_rate_histogram = np.histogram(full_spikes_seconds, bins=bins)\n",
    "firing_rate = firing_rate_histogram[0]*200 #conversion to hertz\n",
    "#firing_rate = firing_rate_histogram[0]"
   ]
  },
  {
   "cell_type": "code",
   "execution_count": 135,
   "id": "ab1754cb",
   "metadata": {},
   "outputs": [
    {
     "data": {
      "text/plain": [
       "24080"
      ]
     },
     "execution_count": 135,
     "metadata": {},
     "output_type": "execute_result"
    }
   ],
   "source": [
    "bins\n"
   ]
  },
  {
   "cell_type": "code",
   "execution_count": 136,
   "id": "ddaacd3c",
   "metadata": {},
   "outputs": [
    {
     "data": {
      "text/plain": [
       "24080"
      ]
     },
     "execution_count": 136,
     "metadata": {},
     "output_type": "execute_result"
    }
   ],
   "source": [
    "len(firing_rate_histogram[0])"
   ]
  },
  {
   "cell_type": "code",
   "execution_count": 137,
   "id": "f3118591",
   "metadata": {},
   "outputs": [
    {
     "data": {
      "text/plain": [
       "2746"
      ]
     },
     "execution_count": 137,
     "metadata": {},
     "output_type": "execute_result"
    }
   ],
   "source": [
    "len(full_spikes_seconds)"
   ]
  },
  {
   "cell_type": "code",
   "execution_count": null,
   "id": "21db6682",
   "metadata": {},
   "outputs": [],
   "source": []
  },
  {
   "cell_type": "code",
   "execution_count": 138,
   "id": "bcd4e257",
   "metadata": {},
   "outputs": [
    {
     "data": {
      "text/plain": [
       "(array([2, 3, 9, ..., 4, 0, 3]),\n",
       " array([  0.7632    ,   0.76815068,   0.77310136, ..., 119.96565864,\n",
       "        119.97060932, 119.97556   ]))"
      ]
     },
     "execution_count": 138,
     "metadata": {},
     "output_type": "execute_result"
    }
   ],
   "source": [
    "firing_rate_histogram"
   ]
  },
  {
   "cell_type": "code",
   "execution_count": 139,
   "id": "3267b4ff",
   "metadata": {},
   "outputs": [
    {
     "data": {
      "text/plain": [
       "array([2, 3, 9, 5, 5, 3, 2, 0, 0, 1, 0, 0, 5, 9, 2, 1, 0, 0, 0, 0, 0, 0,\n",
       "       0, 0, 0, 0, 0, 0, 0, 0, 0, 0, 0, 0, 0, 0, 0, 0, 0, 0, 0, 0, 0, 0,\n",
       "       0, 0, 0, 0, 0, 0, 0, 0, 0, 0, 0, 0, 0, 0, 0, 0, 0, 0, 0, 0, 0, 0,\n",
       "       0, 0, 0, 0, 0, 0, 0, 0, 0, 0, 0, 0, 0, 0, 0, 0, 0, 0, 0, 0, 0, 0,\n",
       "       0, 0, 1, 0, 0, 0, 0, 0, 0, 0, 0, 0, 0, 0, 0, 0, 0, 0, 0, 0, 0, 0,\n",
       "       0, 0, 0, 0, 0, 0, 0, 0, 0, 0, 0, 0, 0, 0, 0, 0, 0, 0, 0, 0, 0, 0,\n",
       "       0, 0, 0, 0, 0, 0, 0, 0, 0, 0, 0, 0, 0, 0, 0, 0, 0, 0, 0, 0, 0, 0,\n",
       "       0, 0, 0, 0, 0, 0, 0, 0, 0, 0, 0, 0, 0, 0, 0, 0, 0, 0, 0, 0, 0, 0,\n",
       "       0, 0, 0, 0, 0, 0, 0, 0, 0, 0, 0, 0, 0, 0, 0, 0, 0, 0, 0, 0, 0, 0,\n",
       "       0, 0, 0, 0, 0, 0, 0, 0, 0, 0, 0, 0, 0, 0, 0, 0, 0, 0, 0, 0, 0, 0,\n",
       "       0, 0, 0, 0, 0, 0, 0, 0, 0, 0, 0, 0, 0, 0, 0, 0, 0, 0, 0, 0, 0, 0,\n",
       "       0, 0, 0, 0, 0, 0, 0, 0, 0, 0, 0, 0, 0, 0, 0, 0, 0, 0, 0, 0, 0, 0,\n",
       "       0, 0, 0, 0, 0, 0, 0, 0, 0, 0, 0, 0, 0, 0, 0, 0, 0, 0, 0, 0, 0, 0,\n",
       "       0, 0, 0, 0, 0, 0, 0, 0, 0, 0, 0, 0, 0, 0, 0, 0, 0, 0, 0, 0, 0, 0,\n",
       "       0, 0, 0, 0, 0, 0, 0, 0, 0, 0, 0, 0, 0, 0, 0, 0, 0, 0, 0, 0, 0, 0,\n",
       "       0, 0, 0, 0, 0, 0, 0, 0, 0, 0, 0, 0, 0, 0, 0, 0, 0, 0, 0, 0, 0, 0,\n",
       "       0, 0, 0, 0, 0, 0, 0, 0, 0, 0, 0, 0, 0, 0, 0, 0, 0, 0, 0, 0, 0, 0,\n",
       "       0, 0, 0, 0, 0, 0, 0, 0, 0, 0, 0, 0, 0, 0, 0, 0, 0, 0, 0, 0, 0, 0,\n",
       "       0, 0, 0, 0, 0, 0, 0, 0, 1, 0, 0, 0, 0, 0, 0, 0, 0, 0, 0, 0, 0, 0,\n",
       "       0, 0, 0, 0, 0, 0, 0, 0, 0, 0, 0, 0, 0, 0, 0, 0, 0, 0, 0, 0, 0, 0,\n",
       "       0, 0, 0, 0, 0, 0, 0, 1, 0, 0, 0, 0, 0, 0, 0, 0, 0, 0, 0, 0, 0, 0,\n",
       "       0, 0, 0, 0, 0, 0, 0, 0, 0, 0, 0, 0, 0, 0, 0, 0, 0, 0, 0, 0, 0, 0,\n",
       "       0, 0, 0, 0, 0, 0, 0, 0, 0, 0, 0, 0, 0, 0, 0, 0])"
      ]
     },
     "execution_count": 139,
     "metadata": {},
     "output_type": "execute_result"
    }
   ],
   "source": [
    "firing_rate_histogram[0][:500]\n"
   ]
  },
  {
   "cell_type": "code",
   "execution_count": 140,
   "id": "3166d4d9",
   "metadata": {},
   "outputs": [],
   "source": [
    "def gaussian_smoothing(y, window_size=10, sigma=500):\n",
    "\n",
    "    filt = signal.gaussian(window_size, sigma)\n",
    "\n",
    "    return signal.convolve(y, filt, mode='same')\n"
   ]
  },
  {
   "cell_type": "code",
   "execution_count": 141,
   "id": "b6e900bc",
   "metadata": {},
   "outputs": [],
   "source": [
    "# using firing rate histogram already conversed to hertz\n",
    "\n",
    "N = int(1/binsize) # für eine Sekunde, das Sliding window, also letztlich number of bins\n",
    "plot_N = int(0.01/binsize)\n",
    "# gaussian smmothing fo the firing rate and moving average\n",
    "fr_gau = gaussian_smoothing(firing_rate)\n",
    "plot_fr_gau = gaussian_smoothing(firing_rate)\n",
    "\n",
    "ma_fr_gau = np.convolve(fr_gau, np.ones(N)/N, mode='full')\n",
    "plotting_ma_fr_gau = np.convolve(fr_gau, np.ones(plot_N)/plot_N, mode='full')\n"
   ]
  },
  {
   "cell_type": "code",
   "execution_count": 142,
   "id": "5e77904f",
   "metadata": {},
   "outputs": [
    {
     "data": {
      "text/plain": [
       "array([4799.90960127, 5399.93010089, 5799.9491006 , 5799.96910021,\n",
       "       5799.96590022, 5999.93140083, 5599.90920118, 4999.88470188,\n",
       "       4199.88430199, 4999.84230281, 4399.89300156, 3999.93800076,\n",
       "       3599.97900013, 3599.98940008, 3599.98540018, 3399.9791001 ,\n",
       "       3399.95110044, 3399.90950139, 2399.91480161,  599.97890039,\n",
       "        199.99190016,    0.        ,    0.        ,    0.        ,\n",
       "          0.        ,    0.        ,    0.        ,    0.        ,\n",
       "          0.        ,    0.        ,    0.        ,    0.        ,\n",
       "          0.        ,    0.        ,    0.        ,    0.        ,\n",
       "          0.        ,    0.        ,    0.        ,    0.        ,\n",
       "          0.        ,    0.        ,    0.        ,    0.        ,\n",
       "          0.        ,    0.        ,    0.        ,    0.        ,\n",
       "          0.        ,    0.        ,    0.        ,    0.        ,\n",
       "          0.        ,    0.        ,    0.        ,    0.        ,\n",
       "          0.        ,    0.        ,    0.        ,    0.        ,\n",
       "          0.        ,    0.        ,    0.        ,    0.        ,\n",
       "          0.        ,    0.        ,    0.        ,    0.        ,\n",
       "          0.        ,    0.        ,    0.        ,    0.        ,\n",
       "          0.        ,    0.        ,    0.        ,    0.        ,\n",
       "          0.        ,    0.        ,    0.        ,    0.        ,\n",
       "          0.        ,    0.        ,    0.        ,    0.        ,\n",
       "          0.        ,    0.        ,  199.99190016,  199.99510006,\n",
       "        199.99750002,  199.9991    ,  199.9999    ,  199.9999    ,\n",
       "        199.9991    ,  199.99750002,  199.99510006,  199.99190016,\n",
       "          0.        ,    0.        ,    0.        ,    0.        ,\n",
       "          0.        ,    0.        ,    0.        ,    0.        ,\n",
       "          0.        ,    0.        ,    0.        ,    0.        ,\n",
       "          0.        ,    0.        ,    0.        ,    0.        ,\n",
       "          0.        ,    0.        ,    0.        ,    0.        ,\n",
       "          0.        ,    0.        ,    0.        ,    0.        ,\n",
       "          0.        ,    0.        ,    0.        ,    0.        ,\n",
       "          0.        ,    0.        ,    0.        ,    0.        ,\n",
       "          0.        ,    0.        ,    0.        ,    0.        ,\n",
       "          0.        ,    0.        ,    0.        ,    0.        ,\n",
       "          0.        ,    0.        ,    0.        ,    0.        ,\n",
       "          0.        ,    0.        ,    0.        ,    0.        ,\n",
       "          0.        ,    0.        ,    0.        ,    0.        ,\n",
       "          0.        ,    0.        ,    0.        ,    0.        ,\n",
       "          0.        ,    0.        ,    0.        ,    0.        ,\n",
       "          0.        ,    0.        ,    0.        ,    0.        ,\n",
       "          0.        ,    0.        ,    0.        ,    0.        ,\n",
       "          0.        ,    0.        ,    0.        ,    0.        ,\n",
       "          0.        ,    0.        ,    0.        ,    0.        ,\n",
       "          0.        ,    0.        ,    0.        ,    0.        ,\n",
       "          0.        ,    0.        ,    0.        ,    0.        ,\n",
       "          0.        ,    0.        ,    0.        ,    0.        ,\n",
       "          0.        ,    0.        ,    0.        ,    0.        ,\n",
       "          0.        ,    0.        ,    0.        ,    0.        ,\n",
       "          0.        ,    0.        ,    0.        ,    0.        ,\n",
       "          0.        ,    0.        ,    0.        ,    0.        ,\n",
       "          0.        ,    0.        ,    0.        ,    0.        ,\n",
       "          0.        ,    0.        ,    0.        ,    0.        ,\n",
       "          0.        ,    0.        ,    0.        ,    0.        ,\n",
       "          0.        ,    0.        ,    0.        ,    0.        ,\n",
       "          0.        ,    0.        ,    0.        ,    0.        ,\n",
       "          0.        ,    0.        ,    0.        ,    0.        ,\n",
       "          0.        ,    0.        ,    0.        ,    0.        ,\n",
       "          0.        ,    0.        ,    0.        ,    0.        ,\n",
       "          0.        ,    0.        ,    0.        ,    0.        ,\n",
       "          0.        ,    0.        ,    0.        ,    0.        ,\n",
       "          0.        ,    0.        ,    0.        ,    0.        ,\n",
       "          0.        ,    0.        ,    0.        ,    0.        ,\n",
       "          0.        ,    0.        ,    0.        ,    0.        ,\n",
       "          0.        ,    0.        ,    0.        ,    0.        ,\n",
       "          0.        ,    0.        ,    0.        ,    0.        ,\n",
       "          0.        ,    0.        ,    0.        ,    0.        ,\n",
       "          0.        ,    0.        ,    0.        ,    0.        ,\n",
       "          0.        ,    0.        ,    0.        ,    0.        ,\n",
       "          0.        ,    0.        ,    0.        ,    0.        ,\n",
       "          0.        ,    0.        ,    0.        ,    0.        ,\n",
       "          0.        ,    0.        ,    0.        ,    0.        ,\n",
       "          0.        ,    0.        ,    0.        ,    0.        ,\n",
       "          0.        ,    0.        ,    0.        ,    0.        ,\n",
       "          0.        ,    0.        ,    0.        ,    0.        ,\n",
       "          0.        ,    0.        ,    0.        ,    0.        ])"
      ]
     },
     "execution_count": 142,
     "metadata": {},
     "output_type": "execute_result"
    }
   ],
   "source": [
    "fr_gau[:300]"
   ]
  },
  {
   "cell_type": "code",
   "execution_count": 143,
   "id": "e6947291",
   "metadata": {
    "scrolled": true
   },
   "outputs": [
    {
     "data": {
      "application/vnd.jupyter.widget-view+json": {
       "model_id": "199470e6dd8246daa6765608c2ebdcd2",
       "version_major": 2,
       "version_minor": 0
      },
      "text/plain": [
       "Canvas(toolbar=Toolbar(toolitems=[('Home', 'Reset original view', 'home', 'home'), ('Back', 'Back to previous …"
      ]
     },
     "metadata": {},
     "output_type": "display_data"
    },
    {
     "data": {
      "text/plain": [
       "[<matplotlib.lines.Line2D at 0x7fd32f72dd10>]"
      ]
     },
     "execution_count": 143,
     "metadata": {},
     "output_type": "execute_result"
    },
    {
     "data": {
      "text/plain": [
       "Text(0, 0.5, 'Firing Rate [Hz]')"
      ]
     },
     "execution_count": 143,
     "metadata": {},
     "output_type": "execute_result"
    },
    {
     "data": {
      "text/plain": [
       "[<matplotlib.lines.Line2D at 0x7fd32ba5ccd0>]"
      ]
     },
     "execution_count": 143,
     "metadata": {},
     "output_type": "execute_result"
    },
    {
     "data": {
      "text/plain": [
       "[<matplotlib.lines.Line2D at 0x7fd32ba71110>]"
      ]
     },
     "execution_count": 143,
     "metadata": {},
     "output_type": "execute_result"
    }
   ],
   "source": [
    "fig = plt.figure(figsize = (10,6))\n",
    "gs = fig.add_gridspec(3, hspace = 0, height_ratios=[1,1,1])\n",
    "axs = gs.subplots(sharex=False, sharey=False)\n",
    "axs[0].plot(ma_fr_gau, color= 'black', linewidth=0.5)\n",
    "axs[0].set_ylabel('Firing Rate [Hz]')\n",
    "axs[1].plot(fr_gau, color = 'red', linewidth=0.5)\n",
    "axs[2].plot(plotting_ma_fr_gau)"
   ]
  },
  {
   "cell_type": "code",
   "execution_count": 144,
   "id": "7161ca4e",
   "metadata": {},
   "outputs": [],
   "source": [
    "# we look for the mean of the MA as threshold\n",
    "# we arrange this mean in an array for plotting\n",
    "mean_ma_fr_gau = np.mean(ma_fr_gau)\n",
    "std_ma_fr_gau = np.std(ma_fr_gau)\n",
    "network_burst_threshold = mean_ma_fr_gau\n",
    "shape_for_threshold = np.shape(ma_fr_gau)\n",
    "network_burst_threshold_array = np.full(shape_for_threshold, network_burst_threshold)\n",
    "    "
   ]
  },
  {
   "cell_type": "code",
   "execution_count": 145,
   "id": "97c291ab",
   "metadata": {},
   "outputs": [
    {
     "data": {
      "text/plain": [
       "array([225.61513067, 225.61513067, 225.61513067, ..., 225.61513067,\n",
       "       225.61513067, 225.61513067])"
      ]
     },
     "execution_count": 145,
     "metadata": {},
     "output_type": "execute_result"
    }
   ],
   "source": [
    "network_burst_threshold_array"
   ]
  },
  {
   "cell_type": "code",
   "execution_count": 146,
   "id": "a0a87d95",
   "metadata": {},
   "outputs": [],
   "source": [
    "#network_burst_threshold = 1*std_ma_fr_gau"
   ]
  },
  {
   "cell_type": "code",
   "execution_count": 147,
   "id": "4a0634ed",
   "metadata": {},
   "outputs": [],
   "source": [
    "# now we identify the burts from the network and will extract an array with \n",
    "# tuples containing the burst start and end times\n",
    "bursts= []\n",
    "burst_start = []\n",
    "burst_seconds_start = []\n",
    "burst_end = []\n",
    "burst_seconds_end = []\n",
    "for index in range(0, len(ma_fr_gau[:-N])):\n",
    "    if ma_fr_gau[index+N] > network_burst_threshold:\n",
    "        if ma_fr_gau[index+N-1] <= network_burst_threshold:\n",
    "            burst_start.append(index)\n",
    "        if index == 0:\n",
    "            burst_start.append(0)\n",
    "            #burst_seconds_start.append((index+N)*0.005)\n",
    "    else:\n",
    "        if (ma_fr_gau[index+N-1] > network_burst_threshold) and (len(burst_start)>0):\n",
    "            if index+N > len(ma_fr_gau):\n",
    "                ending = len(ma_fr_gau)\n",
    "            else: \n",
    "                ending = index + N\n",
    "\n",
    "            burst_end.append(ending)\n",
    "            #burst_seconds_end.append((ending)*0.005)\n",
    "bursts = list(zip(burst_start, burst_end))\n",
    "    "
   ]
  },
  {
   "cell_type": "code",
   "execution_count": 148,
   "id": "fc100ac3",
   "metadata": {},
   "outputs": [],
   "source": [
    "for i in burst_start:\n",
    "    burst_seconds_start.append(firing_rate_histogram[1][i])\n",
    "for i in burst_end:\n",
    "    if i >= len(firing_rate_histogram[1]):\n",
    "        burst_seconds_end.append(firing_rate_histogram[1][-1])\n",
    "    else:\n",
    "        burst_seconds_end.append(firing_rate_histogram[1][i])\n",
    "\n",
    "bursts_seconds = list(zip(burst_seconds_start, burst_seconds_end))\n",
    "# bursts sind jetzt im 5ms bin   \n"
   ]
  },
  {
   "cell_type": "code",
   "execution_count": 149,
   "id": "7a1b16be",
   "metadata": {},
   "outputs": [],
   "source": [
    "def zoom_signal(fr, spiketimes, start_in_seconds, stop_in_seconds):\n",
    "    \n",
    "    '''\n",
    "    for zooming in on the plot below\n",
    "    '''\n",
    "    \n",
    "    start = start_in_seconds*200\n",
    "    stop = stop_in_seconds*200\n",
    "    \n",
    "    cutted_fr_array = fr[start:stop+1]\n",
    "    \n",
    "    cutted_spiketimes = []\n",
    "    for channel_spikes in spiketimes:\n",
    "        s = [y for y in channel_spikes if stop_in_seconds > y >= start_in_seconds]\n",
    "        cutted_spiketimes.append(s)\n",
    "        \n",
    "    return cutted_fr_array, cutted_spiketimes\n",
    "        \n",
    "        \n",
    "        \n",
    "        \n",
    "    \n",
    "    \n",
    "    "
   ]
  },
  {
   "cell_type": "code",
   "execution_count": 150,
   "id": "4a45ecf8",
   "metadata": {},
   "outputs": [],
   "source": [
    "a, b = zoom_signal(fr=fr_gau, spiketimes=spikearray_seconds, start_in_seconds=14, stop_in_seconds=30)"
   ]
  },
  {
   "cell_type": "code",
   "execution_count": 151,
   "id": "6f431c4e",
   "metadata": {},
   "outputs": [
    {
     "data": {
      "text/plain": [
       "120.39999999999999"
      ]
     },
     "execution_count": 151,
     "metadata": {},
     "output_type": "execute_result"
    }
   ],
   "source": [
    "timelengthrecording_s"
   ]
  },
  {
   "cell_type": "code",
   "execution_count": 153,
   "id": "2c40480c",
   "metadata": {},
   "outputs": [
    {
     "data": {
      "application/vnd.jupyter.widget-view+json": {
       "model_id": "932dc367e0254631b08bed6bd0cac217",
       "version_major": 2,
       "version_minor": 0
      },
      "text/plain": [
       "Canvas(toolbar=Toolbar(toolitems=[('Home', 'Reset original view', 'home', 'home'), ('Back', 'Back to previous …"
      ]
     },
     "metadata": {},
     "output_type": "display_data"
    },
    {
     "data": {
      "text/plain": [
       "[<matplotlib.lines.Line2D at 0x7fd31640a410>]"
      ]
     },
     "execution_count": 153,
     "metadata": {},
     "output_type": "execute_result"
    },
    {
     "data": {
      "text/plain": [
       "Text(0, 0.5, 'Firing Rate [Hz]')"
      ]
     },
     "execution_count": 153,
     "metadata": {},
     "output_type": "execute_result"
    },
    {
     "data": {
      "text/plain": [
       "(0.0, 10000.0)"
      ]
     },
     "execution_count": 153,
     "metadata": {},
     "output_type": "execute_result"
    },
    {
     "data": {
      "text/plain": [
       "(0.0, 10000.0)"
      ]
     },
     "execution_count": 153,
     "metadata": {},
     "output_type": "execute_result"
    },
    {
     "data": {
      "text/plain": [
       "[<matplotlib.lines.Line2D at 0x7fd316ee4a50>]"
      ]
     },
     "execution_count": 153,
     "metadata": {},
     "output_type": "execute_result"
    },
    {
     "data": {
      "text/plain": [
       "[<matplotlib.lines.Line2D at 0x7fd316ee4e50>]"
      ]
     },
     "execution_count": 153,
     "metadata": {},
     "output_type": "execute_result"
    },
    {
     "data": {
      "text/plain": [
       "[<matplotlib.collections.EventCollection at 0x7fd316f02310>,\n",
       " <matplotlib.collections.EventCollection at 0x7fd316f028d0>,\n",
       " <matplotlib.collections.EventCollection at 0x7fd316f02b90>,\n",
       " <matplotlib.collections.EventCollection at 0x7fd316f02e90>,\n",
       " <matplotlib.collections.EventCollection at 0x7fd316f09fd0>,\n",
       " <matplotlib.collections.EventCollection at 0x7fd3171da590>,\n",
       " <matplotlib.collections.EventCollection at 0x7fd3171dab10>,\n",
       " <matplotlib.collections.EventCollection at 0x7fd3171dae10>,\n",
       " <matplotlib.collections.EventCollection at 0x7fd3171e7210>,\n",
       " <matplotlib.collections.EventCollection at 0x7fd3171da5d0>,\n",
       " <matplotlib.collections.EventCollection at 0x7fd3171e7c50>,\n",
       " <matplotlib.collections.EventCollection at 0x7fd3171e7f50>,\n",
       " <matplotlib.collections.EventCollection at 0x7fd3171f5290>,\n",
       " <matplotlib.collections.EventCollection at 0x7fd3171f5a10>,\n",
       " <matplotlib.collections.EventCollection at 0x7fd3171f5b90>,\n",
       " <matplotlib.collections.EventCollection at 0x7fd3171f5e10>,\n",
       " <matplotlib.collections.EventCollection at 0x7fd3171fe150>,\n",
       " <matplotlib.collections.EventCollection at 0x7fd3171fe410>,\n",
       " <matplotlib.collections.EventCollection at 0x7fd3171fe6d0>,\n",
       " <matplotlib.collections.EventCollection at 0x7fd3171fea10>,\n",
       " <matplotlib.collections.EventCollection at 0x7fd3171fed90>,\n",
       " <matplotlib.collections.EventCollection at 0x7fd31720f0d0>,\n",
       " <matplotlib.collections.EventCollection at 0x7fd31720f410>,\n",
       " <matplotlib.collections.EventCollection at 0x7fd31720f6d0>,\n",
       " <matplotlib.collections.EventCollection at 0x7fd31720f990>,\n",
       " <matplotlib.collections.EventCollection at 0x7fd31720fc90>,\n",
       " <matplotlib.collections.EventCollection at 0x7fd31720ff50>,\n",
       " <matplotlib.collections.EventCollection at 0x7fd31721e250>,\n",
       " <matplotlib.collections.EventCollection at 0x7fd31721e550>,\n",
       " <matplotlib.collections.EventCollection at 0x7fd31721e810>,\n",
       " <matplotlib.collections.EventCollection at 0x7fd31721ead0>,\n",
       " <matplotlib.collections.EventCollection at 0x7fd31721ed90>,\n",
       " <matplotlib.collections.EventCollection at 0x7fd31722b090>,\n",
       " <matplotlib.collections.EventCollection at 0x7fd31722b390>,\n",
       " <matplotlib.collections.EventCollection at 0x7fd31722b650>,\n",
       " <matplotlib.collections.EventCollection at 0x7fd31722b950>,\n",
       " <matplotlib.collections.EventCollection at 0x7fd31722bc10>,\n",
       " <matplotlib.collections.EventCollection at 0x7fd31722bed0>,\n",
       " <matplotlib.collections.EventCollection at 0x7fd317239210>,\n",
       " <matplotlib.collections.EventCollection at 0x7fd317239510>,\n",
       " <matplotlib.collections.EventCollection at 0x7fd317239810>,\n",
       " <matplotlib.collections.EventCollection at 0x7fd317239b10>,\n",
       " <matplotlib.collections.EventCollection at 0x7fd317239e10>,\n",
       " <matplotlib.collections.EventCollection at 0x7fd317248150>,\n",
       " <matplotlib.collections.EventCollection at 0x7fd317248410>,\n",
       " <matplotlib.collections.EventCollection at 0x7fd317248710>,\n",
       " <matplotlib.collections.EventCollection at 0x7fd317248a10>,\n",
       " <matplotlib.collections.EventCollection at 0x7fd317248cd0>,\n",
       " <matplotlib.collections.EventCollection at 0x7fd317248fd0>,\n",
       " <matplotlib.collections.EventCollection at 0x7fd3172564d0>,\n",
       " <matplotlib.collections.EventCollection at 0x7fd3172567d0>,\n",
       " <matplotlib.collections.EventCollection at 0x7fd317256a90>,\n",
       " <matplotlib.collections.EventCollection at 0x7fd317256d90>,\n",
       " <matplotlib.collections.EventCollection at 0x7fd3172630d0>,\n",
       " <matplotlib.collections.EventCollection at 0x7fd3172633d0>,\n",
       " <matplotlib.collections.EventCollection at 0x7fd3172636d0>,\n",
       " <matplotlib.collections.EventCollection at 0x7fd317263990>,\n",
       " <matplotlib.collections.EventCollection at 0x7fd317263c50>,\n",
       " <matplotlib.collections.EventCollection at 0x7fd317263f50>,\n",
       " <matplotlib.collections.EventCollection at 0x7fd317273310>,\n",
       " <matplotlib.collections.EventCollection at 0x7fd317273610>,\n",
       " <matplotlib.collections.EventCollection at 0x7fd3172738d0>,\n",
       " <matplotlib.collections.EventCollection at 0x7fd317273bd0>,\n",
       " <matplotlib.collections.EventCollection at 0x7fd317273f50>,\n",
       " <matplotlib.collections.EventCollection at 0x7fd317280290>,\n",
       " <matplotlib.collections.EventCollection at 0x7fd317280550>,\n",
       " <matplotlib.collections.EventCollection at 0x7fd317280810>,\n",
       " <matplotlib.collections.EventCollection at 0x7fd317280ad0>,\n",
       " <matplotlib.collections.EventCollection at 0x7fd317280d90>,\n",
       " <matplotlib.collections.EventCollection at 0x7fd317291090>,\n",
       " <matplotlib.collections.EventCollection at 0x7fd317291390>,\n",
       " <matplotlib.collections.EventCollection at 0x7fd317291650>,\n",
       " <matplotlib.collections.EventCollection at 0x7fd317291950>,\n",
       " <matplotlib.collections.EventCollection at 0x7fd317291c90>,\n",
       " <matplotlib.collections.EventCollection at 0x7fd317291f50>,\n",
       " <matplotlib.collections.EventCollection at 0x7fd31729f2d0>,\n",
       " <matplotlib.collections.EventCollection at 0x7fd31729f590>,\n",
       " <matplotlib.collections.EventCollection at 0x7fd31729f890>,\n",
       " <matplotlib.collections.EventCollection at 0x7fd31729fb90>,\n",
       " <matplotlib.collections.EventCollection at 0x7fd31729fe90>,\n",
       " <matplotlib.collections.EventCollection at 0x7fd3172af190>,\n",
       " <matplotlib.collections.EventCollection at 0x7fd3172af4d0>,\n",
       " <matplotlib.collections.EventCollection at 0x7fd3172af810>,\n",
       " <matplotlib.collections.EventCollection at 0x7fd3172afb10>,\n",
       " <matplotlib.collections.EventCollection at 0x7fd3172afe10>,\n",
       " <matplotlib.collections.EventCollection at 0x7fd3172bd110>,\n",
       " <matplotlib.collections.EventCollection at 0x7fd3172bd410>,\n",
       " <matplotlib.collections.EventCollection at 0x7fd3172bd6d0>,\n",
       " <matplotlib.collections.EventCollection at 0x7fd3172bdcd0>,\n",
       " <matplotlib.collections.EventCollection at 0x7fd3172bdf90>,\n",
       " <matplotlib.collections.EventCollection at 0x7fd3172cb290>,\n",
       " <matplotlib.collections.EventCollection at 0x7fd3172cb5d0>,\n",
       " <matplotlib.collections.EventCollection at 0x7fd3172cb890>,\n",
       " <matplotlib.collections.EventCollection at 0x7fd3172cbb50>,\n",
       " <matplotlib.collections.EventCollection at 0x7fd3172cbe10>,\n",
       " <matplotlib.collections.EventCollection at 0x7fd3172da110>,\n",
       " <matplotlib.collections.EventCollection at 0x7fd3172da410>,\n",
       " <matplotlib.collections.EventCollection at 0x7fd3172da850>,\n",
       " <matplotlib.collections.EventCollection at 0x7fd3172dab10>,\n",
       " <matplotlib.collections.EventCollection at 0x7fd3172dadd0>,\n",
       " <matplotlib.collections.EventCollection at 0x7fd3172e9150>,\n",
       " <matplotlib.collections.EventCollection at 0x7fd3172e9450>,\n",
       " <matplotlib.collections.EventCollection at 0x7fd3172e9e90>,\n",
       " <matplotlib.collections.EventCollection at 0x7fd3172fea50>,\n",
       " <matplotlib.collections.EventCollection at 0x7fd3172fed50>,\n",
       " <matplotlib.collections.EventCollection at 0x7fd317308090>,\n",
       " <matplotlib.collections.EventCollection at 0x7fd317308390>,\n",
       " <matplotlib.collections.EventCollection at 0x7fd317308810>,\n",
       " <matplotlib.collections.EventCollection at 0x7fd317314850>,\n",
       " <matplotlib.collections.EventCollection at 0x7fd317314e50>,\n",
       " <matplotlib.collections.EventCollection at 0x7fd31731d150>,\n",
       " <matplotlib.collections.EventCollection at 0x7fd31731d490>,\n",
       " <matplotlib.collections.EventCollection at 0x7fd31733b190>,\n",
       " <matplotlib.collections.EventCollection at 0x7fd31734ffd0>,\n",
       " <matplotlib.collections.EventCollection at 0x7fd317357a90>,\n",
       " <matplotlib.collections.EventCollection at 0x7fd317357d50>,\n",
       " <matplotlib.collections.EventCollection at 0x7fd317363050>,\n",
       " <matplotlib.collections.EventCollection at 0x7fd317363350>,\n",
       " <matplotlib.collections.EventCollection at 0x7fd317363610>,\n",
       " <matplotlib.collections.EventCollection at 0x7fd317363b90>,\n",
       " <matplotlib.collections.EventCollection at 0x7fd31738bf50>,\n",
       " <matplotlib.collections.EventCollection at 0x7fd317393d10>,\n",
       " <matplotlib.collections.EventCollection at 0x7fd317393fd0>,\n",
       " <matplotlib.collections.EventCollection at 0x7fd31739e2d0>,\n",
       " <matplotlib.collections.EventCollection at 0x7fd31739e950>,\n",
       " <matplotlib.collections.EventCollection at 0x7fd3173d6b10>,\n",
       " <matplotlib.collections.EventCollection at 0x7fd3173e8190>,\n",
       " <matplotlib.collections.EventCollection at 0x7fd3173e8990>,\n",
       " <matplotlib.collections.EventCollection at 0x7fd3173e8c50>,\n",
       " <matplotlib.collections.EventCollection at 0x7fd317405290>,\n",
       " <matplotlib.collections.EventCollection at 0x7fd317431550>,\n",
       " <matplotlib.collections.EventCollection at 0x7fd317431b10>,\n",
       " <matplotlib.collections.EventCollection at 0x7fd317431dd0>,\n",
       " <matplotlib.collections.EventCollection at 0x7fd31743c110>,\n",
       " <matplotlib.collections.EventCollection at 0x7fd31743c5d0>,\n",
       " <matplotlib.collections.EventCollection at 0x7fd31743ce10>,\n",
       " <matplotlib.collections.EventCollection at 0x7fd31744b110>,\n",
       " <matplotlib.collections.EventCollection at 0x7fd31744b3d0>,\n",
       " <matplotlib.collections.EventCollection at 0x7fd31744b690>,\n",
       " <matplotlib.collections.EventCollection at 0x7fd31744b950>,\n",
       " <matplotlib.collections.EventCollection at 0x7fd31744bc10>,\n",
       " <matplotlib.collections.EventCollection at 0x7fd31744bf10>,\n",
       " <matplotlib.collections.EventCollection at 0x7fd31745a210>,\n",
       " <matplotlib.collections.EventCollection at 0x7fd31745a510>,\n",
       " <matplotlib.collections.EventCollection at 0x7fd31745a7d0>,\n",
       " <matplotlib.collections.EventCollection at 0x7fd31745aa90>,\n",
       " <matplotlib.collections.EventCollection at 0x7fd31745ad50>,\n",
       " <matplotlib.collections.EventCollection at 0x7fd317469050>,\n",
       " <matplotlib.collections.EventCollection at 0x7fd317469310>,\n",
       " <matplotlib.collections.EventCollection at 0x7fd3174695d0>,\n",
       " <matplotlib.collections.EventCollection at 0x7fd3174698d0>,\n",
       " <matplotlib.collections.EventCollection at 0x7fd317469b90>,\n",
       " <matplotlib.collections.EventCollection at 0x7fd317469e50>,\n",
       " <matplotlib.collections.EventCollection at 0x7fd317478150>,\n",
       " <matplotlib.collections.EventCollection at 0x7fd317478450>,\n",
       " <matplotlib.collections.EventCollection at 0x7fd317478710>,\n",
       " <matplotlib.collections.EventCollection at 0x7fd3174789d0>,\n",
       " <matplotlib.collections.EventCollection at 0x7fd317478cd0>,\n",
       " <matplotlib.collections.EventCollection at 0x7fd317478fd0>,\n",
       " <matplotlib.collections.EventCollection at 0x7fd3174872d0>,\n",
       " <matplotlib.collections.EventCollection at 0x7fd317487590>,\n",
       " <matplotlib.collections.EventCollection at 0x7fd317487890>,\n",
       " <matplotlib.collections.EventCollection at 0x7fd317487bd0>,\n",
       " <matplotlib.collections.EventCollection at 0x7fd317487ed0>,\n",
       " <matplotlib.collections.EventCollection at 0x7fd3174951d0>,\n",
       " <matplotlib.collections.EventCollection at 0x7fd317495510>,\n",
       " <matplotlib.collections.EventCollection at 0x7fd317495810>,\n",
       " <matplotlib.collections.EventCollection at 0x7fd317495ad0>,\n",
       " <matplotlib.collections.EventCollection at 0x7fd317495f50>,\n",
       " <matplotlib.collections.EventCollection at 0x7fd3174a3250>,\n",
       " <matplotlib.collections.EventCollection at 0x7fd3174a3510>,\n",
       " <matplotlib.collections.EventCollection at 0x7fd3174a3810>,\n",
       " <matplotlib.collections.EventCollection at 0x7fd3174a3b10>,\n",
       " <matplotlib.collections.EventCollection at 0x7fd3174a3dd0>,\n",
       " <matplotlib.collections.EventCollection at 0x7fd3174b20d0>,\n",
       " <matplotlib.collections.EventCollection at 0x7fd3174b2390>,\n",
       " <matplotlib.collections.EventCollection at 0x7fd3174b2650>,\n",
       " <matplotlib.collections.EventCollection at 0x7fd3174b2950>,\n",
       " <matplotlib.collections.EventCollection at 0x7fd3174b2c50>,\n",
       " <matplotlib.collections.EventCollection at 0x7fd3174b2f10>,\n",
       " <matplotlib.collections.EventCollection at 0x7fd3174c2210>,\n",
       " <matplotlib.collections.EventCollection at 0x7fd3174c2510>,\n",
       " <matplotlib.collections.EventCollection at 0x7fd3174c27d0>,\n",
       " <matplotlib.collections.EventCollection at 0x7fd3174c2b10>,\n",
       " <matplotlib.collections.EventCollection at 0x7fd3174c2e10>,\n",
       " <matplotlib.collections.EventCollection at 0x7fd3174d1110>,\n",
       " <matplotlib.collections.EventCollection at 0x7fd3174d13d0>,\n",
       " <matplotlib.collections.EventCollection at 0x7fd3174d1690>,\n",
       " <matplotlib.collections.EventCollection at 0x7fd3174d1990>,\n",
       " <matplotlib.collections.EventCollection at 0x7fd3174d1dd0>,\n",
       " <matplotlib.collections.EventCollection at 0x7fd3174e00d0>,\n",
       " <matplotlib.collections.EventCollection at 0x7fd3174e0510>,\n",
       " <matplotlib.collections.EventCollection at 0x7fd3174e0810>,\n",
       " <matplotlib.collections.EventCollection at 0x7fd3174eb190>,\n",
       " <matplotlib.collections.EventCollection at 0x7fd3174ebc50>,\n",
       " <matplotlib.collections.EventCollection at 0x7fd3174f7490>,\n",
       " <matplotlib.collections.EventCollection at 0x7fd3174f7c10>,\n",
       " <matplotlib.collections.EventCollection at 0x7fd3174f7ed0>,\n",
       " <matplotlib.collections.EventCollection at 0x7fd3175011d0>,\n",
       " <matplotlib.collections.EventCollection at 0x7fd31750d0d0>,\n",
       " <matplotlib.collections.EventCollection at 0x7fd31750d910>,\n",
       " <matplotlib.collections.EventCollection at 0x7fd3175173d0>,\n",
       " <matplotlib.collections.EventCollection at 0x7fd317517810>,\n",
       " <matplotlib.collections.EventCollection at 0x7fd317523110>,\n",
       " <matplotlib.collections.EventCollection at 0x7fd317523d10>,\n",
       " <matplotlib.collections.EventCollection at 0x7fd31752f3d0>,\n",
       " <matplotlib.collections.EventCollection at 0x7fd31752f710>,\n",
       " <matplotlib.collections.EventCollection at 0x7fd31752f9d0>,\n",
       " <matplotlib.collections.EventCollection at 0x7fd31753a350>,\n",
       " <matplotlib.collections.EventCollection at 0x7fd31753acd0>,\n",
       " <matplotlib.collections.EventCollection at 0x7fd3175450d0>,\n",
       " <matplotlib.collections.EventCollection at 0x7fd3175453d0>,\n",
       " <matplotlib.collections.EventCollection at 0x7fd317545750>,\n",
       " <matplotlib.collections.EventCollection at 0x7fd317545a10>,\n",
       " <matplotlib.collections.EventCollection at 0x7fd317545f90>,\n",
       " <matplotlib.collections.EventCollection at 0x7fd317553d50>,\n",
       " <matplotlib.collections.EventCollection at 0x7fd31755e090>,\n",
       " <matplotlib.collections.EventCollection at 0x7fd31755e590>,\n",
       " <matplotlib.collections.EventCollection at 0x7fd31755e890>,\n",
       " <matplotlib.collections.EventCollection at 0x7fd31755ebd0>,\n",
       " <matplotlib.collections.EventCollection at 0x7fd31755ef10>,\n",
       " <matplotlib.collections.EventCollection at 0x7fd31756c990>,\n",
       " <matplotlib.collections.EventCollection at 0x7fd31756cd10>,\n",
       " <matplotlib.collections.EventCollection at 0x7fd317577190>,\n",
       " <matplotlib.collections.EventCollection at 0x7fd3175778d0>,\n",
       " <matplotlib.collections.EventCollection at 0x7fd317581290>,\n",
       " <matplotlib.collections.EventCollection at 0x7fd317581610>,\n",
       " <matplotlib.collections.EventCollection at 0x7fd3175818d0>,\n",
       " <matplotlib.collections.EventCollection at 0x7fd31758f450>,\n",
       " <matplotlib.collections.EventCollection at 0x7fd31758f790>,\n",
       " <matplotlib.collections.EventCollection at 0x7fd31758fe10>,\n",
       " <matplotlib.collections.EventCollection at 0x7fd31759ca10>,\n",
       " <matplotlib.collections.EventCollection at 0x7fd31759ccd0>,\n",
       " <matplotlib.collections.EventCollection at 0x7fd31759cf90>,\n",
       " <matplotlib.collections.EventCollection at 0x7fd3175a6e90>,\n",
       " <matplotlib.collections.EventCollection at 0x7fd3175b03d0>,\n",
       " <matplotlib.collections.EventCollection at 0x7fd3175b0710>,\n",
       " <matplotlib.collections.EventCollection at 0x7fd3175bb0d0>,\n",
       " <matplotlib.collections.EventCollection at 0x7fd3175bb950>,\n",
       " <matplotlib.collections.EventCollection at 0x7fd3175bbcd0>,\n",
       " <matplotlib.collections.EventCollection at 0x7fd3175c9510>,\n",
       " <matplotlib.collections.EventCollection at 0x7fd3175c97d0>,\n",
       " <matplotlib.collections.EventCollection at 0x7fd3175c9b10>,\n",
       " <matplotlib.collections.EventCollection at 0x7fd3175c9dd0>,\n",
       " <matplotlib.collections.EventCollection at 0x7fd3175d5110>,\n",
       " <matplotlib.collections.EventCollection at 0x7fd3175d5690>,\n",
       " <matplotlib.collections.EventCollection at 0x7fd3175d5990>,\n",
       " <matplotlib.collections.EventCollection at 0x7fd3175e1150>,\n",
       " <matplotlib.collections.EventCollection at 0x7fd3175e1a50>,\n",
       " <matplotlib.collections.EventCollection at 0x7fd3175e1d10>,\n",
       " <matplotlib.collections.EventCollection at 0x7fd3175e1fd0>,\n",
       " <matplotlib.collections.EventCollection at 0x7fd3175ee690>]"
      ]
     },
     "execution_count": 153,
     "metadata": {},
     "output_type": "execute_result"
    },
    {
     "data": {
      "text/plain": [
       "Text(0, 0.5, 'MEA Channels')"
      ]
     },
     "execution_count": 153,
     "metadata": {},
     "output_type": "execute_result"
    },
    {
     "data": {
      "text/plain": [
       "<matplotlib.patches.Polygon at 0x7fd316f021d0>"
      ]
     },
     "execution_count": 153,
     "metadata": {},
     "output_type": "execute_result"
    },
    {
     "data": {
      "text/plain": [
       "<matplotlib.patches.Polygon at 0x7fd316f02290>"
      ]
     },
     "execution_count": 153,
     "metadata": {},
     "output_type": "execute_result"
    },
    {
     "data": {
      "text/plain": [
       "<matplotlib.patches.Polygon at 0x7fd316f02150>"
      ]
     },
     "execution_count": 153,
     "metadata": {},
     "output_type": "execute_result"
    },
    {
     "data": {
      "text/plain": [
       "<matplotlib.patches.Polygon at 0x7fd316eb3a10>"
      ]
     },
     "execution_count": 153,
     "metadata": {},
     "output_type": "execute_result"
    },
    {
     "data": {
      "text/plain": [
       "<matplotlib.patches.Polygon at 0x7fd317600390>"
      ]
     },
     "execution_count": 153,
     "metadata": {},
     "output_type": "execute_result"
    },
    {
     "data": {
      "text/plain": [
       "<matplotlib.patches.Polygon at 0x7fd317600310>"
      ]
     },
     "execution_count": 153,
     "metadata": {},
     "output_type": "execute_result"
    },
    {
     "data": {
      "text/plain": [
       "<matplotlib.patches.Polygon at 0x7fd317600910>"
      ]
     },
     "execution_count": 153,
     "metadata": {},
     "output_type": "execute_result"
    },
    {
     "data": {
      "text/plain": [
       "<matplotlib.patches.Polygon at 0x7fd3175eea50>"
      ]
     },
     "execution_count": 153,
     "metadata": {},
     "output_type": "execute_result"
    },
    {
     "data": {
      "text/plain": [
       "<matplotlib.patches.Polygon at 0x7fd317600d90>"
      ]
     },
     "execution_count": 153,
     "metadata": {},
     "output_type": "execute_result"
    },
    {
     "data": {
      "text/plain": [
       "<matplotlib.patches.Polygon at 0x7fd317600b10>"
      ]
     },
     "execution_count": 153,
     "metadata": {},
     "output_type": "execute_result"
    },
    {
     "data": {
      "text/plain": [
       "<matplotlib.patches.Polygon at 0x7fd317600f50>"
      ]
     },
     "execution_count": 153,
     "metadata": {},
     "output_type": "execute_result"
    },
    {
     "data": {
      "text/plain": [
       "<matplotlib.patches.Polygon at 0x7fd317600d50>"
      ]
     },
     "execution_count": 153,
     "metadata": {},
     "output_type": "execute_result"
    },
    {
     "data": {
      "text/plain": [
       "<matplotlib.patches.Polygon at 0x7fd3175ee710>"
      ]
     },
     "execution_count": 153,
     "metadata": {},
     "output_type": "execute_result"
    },
    {
     "data": {
      "text/plain": [
       "<matplotlib.patches.Polygon at 0x7fd3176002d0>"
      ]
     },
     "execution_count": 153,
     "metadata": {},
     "output_type": "execute_result"
    },
    {
     "data": {
      "text/plain": [
       "<matplotlib.patches.Polygon at 0x7fd31760cb10>"
      ]
     },
     "execution_count": 153,
     "metadata": {},
     "output_type": "execute_result"
    },
    {
     "data": {
      "text/plain": [
       "<matplotlib.patches.Polygon at 0x7fd31760cd90>"
      ]
     },
     "execution_count": 153,
     "metadata": {},
     "output_type": "execute_result"
    },
    {
     "data": {
      "text/plain": [
       "<matplotlib.patches.Polygon at 0x7fd31760cfd0>"
      ]
     },
     "execution_count": 153,
     "metadata": {},
     "output_type": "execute_result"
    },
    {
     "data": {
      "text/plain": [
       "<matplotlib.patches.Polygon at 0x7fd31760cd10>"
      ]
     },
     "execution_count": 153,
     "metadata": {},
     "output_type": "execute_result"
    },
    {
     "data": {
      "text/plain": [
       "<matplotlib.patches.Polygon at 0x7fd317600690>"
      ]
     },
     "execution_count": 153,
     "metadata": {},
     "output_type": "execute_result"
    },
    {
     "data": {
      "text/plain": [
       "<matplotlib.patches.Polygon at 0x7fd3175ee050>"
      ]
     },
     "execution_count": 153,
     "metadata": {},
     "output_type": "execute_result"
    },
    {
     "data": {
      "text/plain": [
       "<matplotlib.patches.Polygon at 0x7fd31760c1d0>"
      ]
     },
     "execution_count": 153,
     "metadata": {},
     "output_type": "execute_result"
    },
    {
     "data": {
      "text/plain": [
       "<matplotlib.patches.Polygon at 0x7fd31760ca50>"
      ]
     },
     "execution_count": 153,
     "metadata": {},
     "output_type": "execute_result"
    },
    {
     "data": {
      "text/plain": [
       "<matplotlib.patches.Polygon at 0x7fd31761dd50>"
      ]
     },
     "execution_count": 153,
     "metadata": {},
     "output_type": "execute_result"
    },
    {
     "data": {
      "text/plain": [
       "<matplotlib.patches.Polygon at 0x7fd31761dfd0>"
      ]
     },
     "execution_count": 153,
     "metadata": {},
     "output_type": "execute_result"
    },
    {
     "data": {
      "text/plain": [
       "<matplotlib.patches.Polygon at 0x7fd31760cf50>"
      ]
     },
     "execution_count": 153,
     "metadata": {},
     "output_type": "execute_result"
    },
    {
     "data": {
      "text/plain": [
       "<matplotlib.patches.Polygon at 0x7fd31761ded0>"
      ]
     },
     "execution_count": 153,
     "metadata": {},
     "output_type": "execute_result"
    },
    {
     "data": {
      "text/plain": [
       "<matplotlib.patches.Polygon at 0x7fd31760cf10>"
      ]
     },
     "execution_count": 153,
     "metadata": {},
     "output_type": "execute_result"
    },
    {
     "data": {
      "text/plain": [
       "<matplotlib.patches.Polygon at 0x7fd31760c190>"
      ]
     },
     "execution_count": 153,
     "metadata": {},
     "output_type": "execute_result"
    },
    {
     "data": {
      "text/plain": [
       "<matplotlib.patches.Polygon at 0x7fd31762cb50>"
      ]
     },
     "execution_count": 153,
     "metadata": {},
     "output_type": "execute_result"
    },
    {
     "data": {
      "text/plain": [
       "<matplotlib.patches.Polygon at 0x7fd31762c1d0>"
      ]
     },
     "execution_count": 153,
     "metadata": {},
     "output_type": "execute_result"
    },
    {
     "data": {
      "text/plain": [
       "<matplotlib.patches.Polygon at 0x7fd31761d890>"
      ]
     },
     "execution_count": 153,
     "metadata": {},
     "output_type": "execute_result"
    },
    {
     "data": {
      "text/plain": [
       "<matplotlib.patches.Polygon at 0x7fd31761df50>"
      ]
     },
     "execution_count": 153,
     "metadata": {},
     "output_type": "execute_result"
    },
    {
     "data": {
      "text/plain": [
       "<matplotlib.patches.Polygon at 0x7fd31762cfd0>"
      ]
     },
     "execution_count": 153,
     "metadata": {},
     "output_type": "execute_result"
    },
    {
     "data": {
      "text/plain": [
       "<matplotlib.patches.Polygon at 0x7fd316f02350>"
      ]
     },
     "execution_count": 153,
     "metadata": {},
     "output_type": "execute_result"
    },
    {
     "data": {
      "text/plain": [
       "<matplotlib.patches.Polygon at 0x7fd3176408d0>"
      ]
     },
     "execution_count": 153,
     "metadata": {},
     "output_type": "execute_result"
    },
    {
     "data": {
      "text/plain": [
       "<matplotlib.patches.Polygon at 0x7fd317640b10>"
      ]
     },
     "execution_count": 153,
     "metadata": {},
     "output_type": "execute_result"
    },
    {
     "data": {
      "text/plain": [
       "<matplotlib.patches.Polygon at 0x7fd317640c90>"
      ]
     },
     "execution_count": 153,
     "metadata": {},
     "output_type": "execute_result"
    },
    {
     "data": {
      "text/plain": [
       "<matplotlib.patches.Polygon at 0x7fd317640fd0>"
      ]
     },
     "execution_count": 153,
     "metadata": {},
     "output_type": "execute_result"
    },
    {
     "data": {
      "text/plain": [
       "<matplotlib.patches.Polygon at 0x7fd317640ed0>"
      ]
     },
     "execution_count": 153,
     "metadata": {},
     "output_type": "execute_result"
    },
    {
     "data": {
      "text/plain": [
       "<matplotlib.patches.Polygon at 0x7fd317640b90>"
      ]
     },
     "execution_count": 153,
     "metadata": {},
     "output_type": "execute_result"
    },
    {
     "data": {
      "text/plain": [
       "<matplotlib.patches.Polygon at 0x7fd31762c610>"
      ]
     },
     "execution_count": 153,
     "metadata": {},
     "output_type": "execute_result"
    },
    {
     "data": {
      "text/plain": [
       "<matplotlib.patches.Polygon at 0x7fd31761da90>"
      ]
     },
     "execution_count": 153,
     "metadata": {},
     "output_type": "execute_result"
    },
    {
     "data": {
      "text/plain": [
       "<matplotlib.patches.Polygon at 0x7fd317640ad0>"
      ]
     },
     "execution_count": 153,
     "metadata": {},
     "output_type": "execute_result"
    },
    {
     "data": {
      "text/plain": [
       "<matplotlib.patches.Polygon at 0x7fd317600110>"
      ]
     },
     "execution_count": 153,
     "metadata": {},
     "output_type": "execute_result"
    },
    {
     "data": {
      "text/plain": [
       "<matplotlib.patches.Polygon at 0x7fd317649fd0>"
      ]
     },
     "execution_count": 153,
     "metadata": {},
     "output_type": "execute_result"
    },
    {
     "data": {
      "text/plain": [
       "<matplotlib.patches.Polygon at 0x7fd317640810>"
      ]
     },
     "execution_count": 153,
     "metadata": {},
     "output_type": "execute_result"
    },
    {
     "data": {
      "text/plain": [
       "<matplotlib.patches.Polygon at 0x7fd317649ed0>"
      ]
     },
     "execution_count": 153,
     "metadata": {},
     "output_type": "execute_result"
    },
    {
     "data": {
      "text/plain": [
       "<matplotlib.patches.Polygon at 0x7fd31761d610>"
      ]
     },
     "execution_count": 153,
     "metadata": {},
     "output_type": "execute_result"
    },
    {
     "data": {
      "text/plain": [
       "<matplotlib.patches.Polygon at 0x7fd31766a810>"
      ]
     },
     "execution_count": 153,
     "metadata": {},
     "output_type": "execute_result"
    },
    {
     "data": {
      "text/plain": [
       "<matplotlib.patches.Polygon at 0x7fd31766ab10>"
      ]
     },
     "execution_count": 153,
     "metadata": {},
     "output_type": "execute_result"
    },
    {
     "data": {
      "text/plain": [
       "<matplotlib.patches.Polygon at 0x7fd31766a990>"
      ]
     },
     "execution_count": 153,
     "metadata": {},
     "output_type": "execute_result"
    },
    {
     "data": {
      "text/plain": [
       "<matplotlib.patches.Polygon at 0x7fd31766afd0>"
      ]
     },
     "execution_count": 153,
     "metadata": {},
     "output_type": "execute_result"
    },
    {
     "data": {
      "text/plain": [
       "<matplotlib.patches.Polygon at 0x7fd31766aad0>"
      ]
     },
     "execution_count": 153,
     "metadata": {},
     "output_type": "execute_result"
    },
    {
     "data": {
      "text/plain": [
       "<matplotlib.patches.Polygon at 0x7fd31766ad50>"
      ]
     },
     "execution_count": 153,
     "metadata": {},
     "output_type": "execute_result"
    },
    {
     "data": {
      "text/plain": [
       "<matplotlib.patches.Polygon at 0x7fd31766af10>"
      ]
     },
     "execution_count": 153,
     "metadata": {},
     "output_type": "execute_result"
    },
    {
     "data": {
      "text/plain": [
       "<matplotlib.patches.Polygon at 0x7fd317649a50>"
      ]
     },
     "execution_count": 153,
     "metadata": {},
     "output_type": "execute_result"
    },
    {
     "data": {
      "text/plain": [
       "<matplotlib.patches.Polygon at 0x7fd31766bb10>"
      ]
     },
     "execution_count": 153,
     "metadata": {},
     "output_type": "execute_result"
    },
    {
     "data": {
      "text/plain": [
       "<matplotlib.patches.Polygon at 0x7fd317649810>"
      ]
     },
     "execution_count": 153,
     "metadata": {},
     "output_type": "execute_result"
    },
    {
     "data": {
      "text/plain": [
       "<matplotlib.patches.Polygon at 0x7fd31766aed0>"
      ]
     },
     "execution_count": 153,
     "metadata": {},
     "output_type": "execute_result"
    },
    {
     "data": {
      "text/plain": [
       "<matplotlib.patches.Polygon at 0x7fd31766a710>"
      ]
     },
     "execution_count": 153,
     "metadata": {},
     "output_type": "execute_result"
    },
    {
     "data": {
      "text/plain": [
       "<matplotlib.patches.Polygon at 0x7fd3176873d0>"
      ]
     },
     "execution_count": 153,
     "metadata": {},
     "output_type": "execute_result"
    },
    {
     "data": {
      "text/plain": [
       "<matplotlib.patches.Polygon at 0x7fd3176875d0>"
      ]
     },
     "execution_count": 153,
     "metadata": {},
     "output_type": "execute_result"
    },
    {
     "data": {
      "text/plain": [
       "<matplotlib.patches.Polygon at 0x7fd3176878d0>"
      ]
     },
     "execution_count": 153,
     "metadata": {},
     "output_type": "execute_result"
    },
    {
     "data": {
      "text/plain": [
       "<matplotlib.patches.Polygon at 0x7fd317687590>"
      ]
     },
     "execution_count": 153,
     "metadata": {},
     "output_type": "execute_result"
    },
    {
     "data": {
      "text/plain": [
       "<matplotlib.patches.Polygon at 0x7fd317687d50>"
      ]
     },
     "execution_count": 153,
     "metadata": {},
     "output_type": "execute_result"
    },
    {
     "data": {
      "text/plain": [
       "<matplotlib.patches.Polygon at 0x7fd317687b10>"
      ]
     },
     "execution_count": 153,
     "metadata": {},
     "output_type": "execute_result"
    },
    {
     "data": {
      "text/plain": [
       "<matplotlib.patches.Polygon at 0x7fd317687c10>"
      ]
     },
     "execution_count": 153,
     "metadata": {},
     "output_type": "execute_result"
    },
    {
     "data": {
      "text/plain": [
       "<matplotlib.patches.Polygon at 0x7fd317687f50>"
      ]
     },
     "execution_count": 153,
     "metadata": {},
     "output_type": "execute_result"
    },
    {
     "data": {
      "text/plain": [
       "<matplotlib.patches.Polygon at 0x7fd317687fd0>"
      ]
     },
     "execution_count": 153,
     "metadata": {},
     "output_type": "execute_result"
    },
    {
     "data": {
      "text/plain": [
       "<matplotlib.patches.Polygon at 0x7fd3176868d0>"
      ]
     },
     "execution_count": 153,
     "metadata": {},
     "output_type": "execute_result"
    },
    {
     "data": {
      "text/plain": [
       "<matplotlib.patches.Polygon at 0x7fd317686b10>"
      ]
     },
     "execution_count": 153,
     "metadata": {},
     "output_type": "execute_result"
    },
    {
     "data": {
      "text/plain": [
       "<matplotlib.patches.Polygon at 0x7fd316eb30d0>"
      ]
     },
     "execution_count": 153,
     "metadata": {},
     "output_type": "execute_result"
    },
    {
     "data": {
      "text/plain": [
       "<matplotlib.patches.Polygon at 0x7fd317686f90>"
      ]
     },
     "execution_count": 153,
     "metadata": {},
     "output_type": "execute_result"
    },
    {
     "data": {
      "text/plain": [
       "<matplotlib.patches.Polygon at 0x7fd3176869d0>"
      ]
     },
     "execution_count": 153,
     "metadata": {},
     "output_type": "execute_result"
    },
    {
     "data": {
      "text/plain": [
       "<matplotlib.patches.Polygon at 0x7fd317687f10>"
      ]
     },
     "execution_count": 153,
     "metadata": {},
     "output_type": "execute_result"
    },
    {
     "data": {
      "text/plain": [
       "<matplotlib.patches.Polygon at 0x7fd3176a6650>"
      ]
     },
     "execution_count": 153,
     "metadata": {},
     "output_type": "execute_result"
    },
    {
     "data": {
      "text/plain": [
       "<matplotlib.patches.Polygon at 0x7fd3176a61d0>"
      ]
     },
     "execution_count": 153,
     "metadata": {},
     "output_type": "execute_result"
    },
    {
     "data": {
      "text/plain": [
       "<matplotlib.patches.Polygon at 0x7fd317687810>"
      ]
     },
     "execution_count": 153,
     "metadata": {},
     "output_type": "execute_result"
    },
    {
     "data": {
      "text/plain": [
       "<matplotlib.patches.Polygon at 0x7fd317686a90>"
      ]
     },
     "execution_count": 153,
     "metadata": {},
     "output_type": "execute_result"
    },
    {
     "data": {
      "text/plain": [
       "<matplotlib.patches.Polygon at 0x7fd3176a6fd0>"
      ]
     },
     "execution_count": 153,
     "metadata": {},
     "output_type": "execute_result"
    },
    {
     "data": {
      "text/plain": [
       "<matplotlib.patches.Polygon at 0x7fd317686f50>"
      ]
     },
     "execution_count": 153,
     "metadata": {},
     "output_type": "execute_result"
    },
    {
     "data": {
      "text/plain": [
       "<matplotlib.patches.Polygon at 0x7fd3176a6190>"
      ]
     },
     "execution_count": 153,
     "metadata": {},
     "output_type": "execute_result"
    },
    {
     "data": {
      "text/plain": [
       "<matplotlib.patches.Polygon at 0x7fd3176a6c90>"
      ]
     },
     "execution_count": 153,
     "metadata": {},
     "output_type": "execute_result"
    },
    {
     "data": {
      "text/plain": [
       "<matplotlib.patches.Polygon at 0x7fd3176005d0>"
      ]
     },
     "execution_count": 153,
     "metadata": {},
     "output_type": "execute_result"
    },
    {
     "data": {
      "text/plain": [
       "<matplotlib.patches.Polygon at 0x7fd3176a6a50>"
      ]
     },
     "execution_count": 153,
     "metadata": {},
     "output_type": "execute_result"
    },
    {
     "data": {
      "text/plain": [
       "<matplotlib.patches.Polygon at 0x7fd3176a5c90>"
      ]
     },
     "execution_count": 153,
     "metadata": {},
     "output_type": "execute_result"
    },
    {
     "data": {
      "text/plain": [
       "<matplotlib.patches.Polygon at 0x7fd3176a5f90>"
      ]
     },
     "execution_count": 153,
     "metadata": {},
     "output_type": "execute_result"
    },
    {
     "data": {
      "text/plain": [
       "<matplotlib.patches.Polygon at 0x7fd3176a59d0>"
      ]
     },
     "execution_count": 153,
     "metadata": {},
     "output_type": "execute_result"
    },
    {
     "data": {
      "text/plain": [
       "<matplotlib.patches.Polygon at 0x7fd3176a5610>"
      ]
     },
     "execution_count": 153,
     "metadata": {},
     "output_type": "execute_result"
    },
    {
     "data": {
      "text/plain": [
       "<matplotlib.patches.Polygon at 0x7fd3176a5c10>"
      ]
     },
     "execution_count": 153,
     "metadata": {},
     "output_type": "execute_result"
    }
   ],
   "source": [
    "# logarhitmic y scale\n",
    "\n",
    "fig = plt.figure(figsize = (10,6))\n",
    "gs = fig.add_gridspec(3, hspace = 0, height_ratios=[1,1,5])\n",
    "axs = gs.subplots(sharex=False, sharey=False)\n",
    "axs[0].plot(fr_gau, color= 'black', linewidth=0.5)\n",
    "axs[0].set_ylabel('Firing Rate [Hz]')\n",
    "#axs[0].set_yscale('symlog')\n",
    "axs[0].set_ylim(0, 10000)\n",
    "axs[1].set_ylim(0, 10000)\n",
    "axs[1].plot(ma_fr_gau, color = 'black', linewidth=0.5)\n",
    "axs[1].plot(network_burst_threshold_array, color='red', linewidth = 0.5)\n",
    "axs[2].eventplot(spikearray_seconds, color = 'black', linewidths = 0.5,\n",
    "                 linelengths = 1, colors = 'black')\n",
    "#axs[2].eventplot(spikearray_seconds_kicked, color = 'red', linewidths = 0.5,\n",
    " #                linelengths = 1, colors = 'red')\n",
    "axs[2].set_ylabel('MEA Channels')\n",
    "\n",
    "for ax in axs:\n",
    "    for i in bursts_seconds:\n",
    "        axs[2].axvspan(i[0], i[1], facecolor = '#5B89A6', alpha = 0.3)\n",
    "#fig.savefig(filename+ '__raster_firingrate_plot.pdf', dpi=300)\n",
    "#fig.savefig(filename+ '__raster_firingrate_plot.eps', dpi=300)\n",
    "#fig.savefig(filename+ '__raster_firingrate_plot.svg', dpi=300)\n",
    "\n",
    "\n"
   ]
  },
  {
   "cell_type": "code",
   "execution_count": null,
   "id": "93d7ec29-9a2f-4ad0-b787-62a6c8a72fbe",
   "metadata": {},
   "outputs": [],
   "source": []
  },
  {
   "cell_type": "code",
   "execution_count": null,
   "id": "0d940a2c-b251-41f0-a50e-96e33e0032df",
   "metadata": {},
   "outputs": [],
   "source": []
  },
  {
   "cell_type": "code",
   "execution_count": 154,
   "id": "fbdde40b",
   "metadata": {
    "scrolled": true
   },
   "outputs": [
    {
     "data": {
      "application/vnd.jupyter.widget-view+json": {
       "model_id": "80b049cd08bb46669b96656dc395f81e",
       "version_major": 2,
       "version_minor": 0
      },
      "text/plain": [
       "Canvas(toolbar=Toolbar(toolitems=[('Home', 'Reset original view', 'home', 'home'), ('Back', 'Back to previous …"
      ]
     },
     "metadata": {},
     "output_type": "display_data"
    },
    {
     "data": {
      "text/plain": [
       "[<matplotlib.lines.Line2D at 0x7fd316410710>]"
      ]
     },
     "execution_count": 154,
     "metadata": {},
     "output_type": "execute_result"
    },
    {
     "data": {
      "text/plain": [
       "Text(0, 0.5, 'Firing Rate [Hz]')"
      ]
     },
     "execution_count": 154,
     "metadata": {},
     "output_type": "execute_result"
    },
    {
     "data": {
      "text/plain": [
       "[<matplotlib.collections.EventCollection at 0x7fd318c75d50>,\n",
       " <matplotlib.collections.EventCollection at 0x7fd318c86350>,\n",
       " <matplotlib.collections.EventCollection at 0x7fd318c86690>,\n",
       " <matplotlib.collections.EventCollection at 0x7fd318c86990>,\n",
       " <matplotlib.collections.EventCollection at 0x7fd318c97a10>,\n",
       " <matplotlib.collections.EventCollection at 0x7fd318c97f50>,\n",
       " <matplotlib.collections.EventCollection at 0x7fd318c9f4d0>,\n",
       " <matplotlib.collections.EventCollection at 0x7fd318c9f810>,\n",
       " <matplotlib.collections.EventCollection at 0x7fd318c9fbd0>,\n",
       " <matplotlib.collections.EventCollection at 0x7fd318c97f90>,\n",
       " <matplotlib.collections.EventCollection at 0x7fd318d9a650>,\n",
       " <matplotlib.collections.EventCollection at 0x7fd318d9a950>,\n",
       " <matplotlib.collections.EventCollection at 0x7fd31641aa50>,\n",
       " <matplotlib.collections.EventCollection at 0x7fd318daa1d0>,\n",
       " <matplotlib.collections.EventCollection at 0x7fd318daa550>,\n",
       " <matplotlib.collections.EventCollection at 0x7fd318daa8d0>,\n",
       " <matplotlib.collections.EventCollection at 0x7fd318daab90>,\n",
       " <matplotlib.collections.EventCollection at 0x7fd318daae50>,\n",
       " <matplotlib.collections.EventCollection at 0x7fd318db6150>,\n",
       " <matplotlib.collections.EventCollection at 0x7fd318db6490>,\n",
       " <matplotlib.collections.EventCollection at 0x7fd318db6810>,\n",
       " <matplotlib.collections.EventCollection at 0x7fd318db6b10>,\n",
       " <matplotlib.collections.EventCollection at 0x7fd318db6e50>,\n",
       " <matplotlib.collections.EventCollection at 0x7fd318dc6150>,\n",
       " <matplotlib.collections.EventCollection at 0x7fd318dc6410>,\n",
       " <matplotlib.collections.EventCollection at 0x7fd318dc6710>,\n",
       " <matplotlib.collections.EventCollection at 0x7fd318dc68d0>,\n",
       " <matplotlib.collections.EventCollection at 0x7fd318dc6bd0>,\n",
       " <matplotlib.collections.EventCollection at 0x7fd318dc6ed0>,\n",
       " <matplotlib.collections.EventCollection at 0x7fd318dd31d0>,\n",
       " <matplotlib.collections.EventCollection at 0x7fd318dd3490>,\n",
       " <matplotlib.collections.EventCollection at 0x7fd318dd3750>,\n",
       " <matplotlib.collections.EventCollection at 0x7fd318dd3a10>,\n",
       " <matplotlib.collections.EventCollection at 0x7fd318dd3d10>,\n",
       " <matplotlib.collections.EventCollection at 0x7fd318dd3fd0>,\n",
       " <matplotlib.collections.EventCollection at 0x7fd318de2310>,\n",
       " <matplotlib.collections.EventCollection at 0x7fd318de25d0>,\n",
       " <matplotlib.collections.EventCollection at 0x7fd318de2890>,\n",
       " <matplotlib.collections.EventCollection at 0x7fd318de2b90>,\n",
       " <matplotlib.collections.EventCollection at 0x7fd318de2e90>,\n",
       " <matplotlib.collections.EventCollection at 0x7fd318df21d0>,\n",
       " <matplotlib.collections.EventCollection at 0x7fd318df24d0>,\n",
       " <matplotlib.collections.EventCollection at 0x7fd318df27d0>,\n",
       " <matplotlib.collections.EventCollection at 0x7fd318df2ad0>,\n",
       " <matplotlib.collections.EventCollection at 0x7fd318df2d90>,\n",
       " <matplotlib.collections.EventCollection at 0x7fd318e000d0>,\n",
       " <matplotlib.collections.EventCollection at 0x7fd318e003d0>,\n",
       " <matplotlib.collections.EventCollection at 0x7fd318e00690>,\n",
       " <matplotlib.collections.EventCollection at 0x7fd318e00990>,\n",
       " <matplotlib.collections.EventCollection at 0x7fd318e00e50>,\n",
       " <matplotlib.collections.EventCollection at 0x7fd318e0d190>,\n",
       " <matplotlib.collections.EventCollection at 0x7fd318e0d450>,\n",
       " <matplotlib.collections.EventCollection at 0x7fd318e0d750>,\n",
       " <matplotlib.collections.EventCollection at 0x7fd318e0da50>,\n",
       " <matplotlib.collections.EventCollection at 0x7fd318e0dd50>,\n",
       " <matplotlib.collections.EventCollection at 0x7fd318e1e090>,\n",
       " <matplotlib.collections.EventCollection at 0x7fd318e1e350>,\n",
       " <matplotlib.collections.EventCollection at 0x7fd318e1e610>,\n",
       " <matplotlib.collections.EventCollection at 0x7fd318e1e910>,\n",
       " <matplotlib.collections.EventCollection at 0x7fd318e1ec90>,\n",
       " <matplotlib.collections.EventCollection at 0x7fd318e1ef90>,\n",
       " <matplotlib.collections.EventCollection at 0x7fd318e2d290>,\n",
       " <matplotlib.collections.EventCollection at 0x7fd318e2d590>,\n",
       " <matplotlib.collections.EventCollection at 0x7fd318e2d910>,\n",
       " <matplotlib.collections.EventCollection at 0x7fd318e2dc10>,\n",
       " <matplotlib.collections.EventCollection at 0x7fd318e2ded0>,\n",
       " <matplotlib.collections.EventCollection at 0x7fd318e3b1d0>,\n",
       " <matplotlib.collections.EventCollection at 0x7fd318e3b490>,\n",
       " <matplotlib.collections.EventCollection at 0x7fd318e3b750>,\n",
       " <matplotlib.collections.EventCollection at 0x7fd318e3ba10>,\n",
       " <matplotlib.collections.EventCollection at 0x7fd318e3bd10>,\n",
       " <matplotlib.collections.EventCollection at 0x7fd318e3bfd0>,\n",
       " <matplotlib.collections.EventCollection at 0x7fd318e4c310>,\n",
       " <matplotlib.collections.EventCollection at 0x7fd318e4c650>,\n",
       " <matplotlib.collections.EventCollection at 0x7fd318e4c910>,\n",
       " <matplotlib.collections.EventCollection at 0x7fd318e4cc50>,\n",
       " <matplotlib.collections.EventCollection at 0x7fd318e4cf10>,\n",
       " <matplotlib.collections.EventCollection at 0x7fd318e59250>,\n",
       " <matplotlib.collections.EventCollection at 0x7fd318e59550>,\n",
       " <matplotlib.collections.EventCollection at 0x7fd318e59850>,\n",
       " <matplotlib.collections.EventCollection at 0x7fd318e59b10>,\n",
       " <matplotlib.collections.EventCollection at 0x7fd318e59e50>,\n",
       " <matplotlib.collections.EventCollection at 0x7fd318e681d0>,\n",
       " <matplotlib.collections.EventCollection at 0x7fd318e684d0>,\n",
       " <matplotlib.collections.EventCollection at 0x7fd318e687d0>,\n",
       " <matplotlib.collections.EventCollection at 0x7fd318e68a90>,\n",
       " <matplotlib.collections.EventCollection at 0x7fd318e68d90>,\n",
       " <matplotlib.collections.EventCollection at 0x7fd318e77090>,\n",
       " <matplotlib.collections.EventCollection at 0x7fd318e77690>,\n",
       " <matplotlib.collections.EventCollection at 0x7fd318e77950>,\n",
       " <matplotlib.collections.EventCollection at 0x7fd318e77c10>,\n",
       " <matplotlib.collections.EventCollection at 0x7fd318e77f50>,\n",
       " <matplotlib.collections.EventCollection at 0x7fd318e84250>,\n",
       " <matplotlib.collections.EventCollection at 0x7fd318e84510>,\n",
       " <matplotlib.collections.EventCollection at 0x7fd318e847d0>,\n",
       " <matplotlib.collections.EventCollection at 0x7fd318e84a90>,\n",
       " <matplotlib.collections.EventCollection at 0x7fd318e84d90>,\n",
       " <matplotlib.collections.EventCollection at 0x7fd318e94210>,\n",
       " <matplotlib.collections.EventCollection at 0x7fd318e944d0>,\n",
       " <matplotlib.collections.EventCollection at 0x7fd318e94790>,\n",
       " <matplotlib.collections.EventCollection at 0x7fd318e94ad0>,\n",
       " <matplotlib.collections.EventCollection at 0x7fd318e94dd0>,\n",
       " <matplotlib.collections.EventCollection at 0x7fd318ea2850>,\n",
       " <matplotlib.collections.EventCollection at 0x7fd318eb6410>,\n",
       " <matplotlib.collections.EventCollection at 0x7fd318eb6710>,\n",
       " <matplotlib.collections.EventCollection at 0x7fd318eb6a10>,\n",
       " <matplotlib.collections.EventCollection at 0x7fd318eb6d10>,\n",
       " <matplotlib.collections.EventCollection at 0x7fd318ec21d0>,\n",
       " <matplotlib.collections.EventCollection at 0x7fd318ecc210>,\n",
       " <matplotlib.collections.EventCollection at 0x7fd318ecc810>,\n",
       " <matplotlib.collections.EventCollection at 0x7fd318eccad0>,\n",
       " <matplotlib.collections.EventCollection at 0x7fd318ecce10>,\n",
       " <matplotlib.collections.EventCollection at 0x7fd318eeab10>,\n",
       " <matplotlib.collections.EventCollection at 0x7fd318f05990>,\n",
       " <matplotlib.collections.EventCollection at 0x7fd318f0f450>,\n",
       " <matplotlib.collections.EventCollection at 0x7fd318f0f710>,\n",
       " <matplotlib.collections.EventCollection at 0x7fd318f0f9d0>,\n",
       " <matplotlib.collections.EventCollection at 0x7fd318f0fcd0>,\n",
       " <matplotlib.collections.EventCollection at 0x7fd318f0ff90>,\n",
       " <matplotlib.collections.EventCollection at 0x7fd318f1e550>,\n",
       " <matplotlib.collections.EventCollection at 0x7fd318f42910>,\n",
       " <matplotlib.collections.EventCollection at 0x7fd318f4b6d0>,\n",
       " <matplotlib.collections.EventCollection at 0x7fd318f4b990>,\n",
       " <matplotlib.collections.EventCollection at 0x7fd318f4bc50>,\n",
       " <matplotlib.collections.EventCollection at 0x7fd318f57310>,\n",
       " <matplotlib.collections.EventCollection at 0x7fd318f8b4d0>,\n",
       " <matplotlib.collections.EventCollection at 0x7fd318f96b10>,\n",
       " <matplotlib.collections.EventCollection at 0x7fd318f9f350>,\n",
       " <matplotlib.collections.EventCollection at 0x7fd318f9f610>,\n",
       " <matplotlib.collections.EventCollection at 0x7fd318fb2c10>,\n",
       " <matplotlib.collections.EventCollection at 0x7fd318fe0ed0>,\n",
       " <matplotlib.collections.EventCollection at 0x7fd318fea4d0>,\n",
       " <matplotlib.collections.EventCollection at 0x7fd318fea790>,\n",
       " <matplotlib.collections.EventCollection at 0x7fd318feaa90>,\n",
       " <matplotlib.collections.EventCollection at 0x7fd318feaf50>,\n",
       " <matplotlib.collections.EventCollection at 0x7fd318ff67d0>,\n",
       " <matplotlib.collections.EventCollection at 0x7fd318ff6a90>,\n",
       " <matplotlib.collections.EventCollection at 0x7fd318ff6d50>,\n",
       " <matplotlib.collections.EventCollection at 0x7fd319003050>,\n",
       " <matplotlib.collections.EventCollection at 0x7fd319003310>,\n",
       " <matplotlib.collections.EventCollection at 0x7fd3190035d0>,\n",
       " <matplotlib.collections.EventCollection at 0x7fd3190038d0>,\n",
       " <matplotlib.collections.EventCollection at 0x7fd319003b90>,\n",
       " <matplotlib.collections.EventCollection at 0x7fd319003e90>,\n",
       " <matplotlib.collections.EventCollection at 0x7fd319011190>,\n",
       " <matplotlib.collections.EventCollection at 0x7fd319011450>,\n",
       " <matplotlib.collections.EventCollection at 0x7fd319011710>,\n",
       " <matplotlib.collections.EventCollection at 0x7fd3190119d0>,\n",
       " <matplotlib.collections.EventCollection at 0x7fd319011c90>,\n",
       " <matplotlib.collections.EventCollection at 0x7fd319011f50>,\n",
       " <matplotlib.collections.EventCollection at 0x7fd319021290>,\n",
       " <matplotlib.collections.EventCollection at 0x7fd319021550>,\n",
       " <matplotlib.collections.EventCollection at 0x7fd319021810>,\n",
       " <matplotlib.collections.EventCollection at 0x7fd319021ad0>,\n",
       " <matplotlib.collections.EventCollection at 0x7fd319021dd0>,\n",
       " <matplotlib.collections.EventCollection at 0x7fd31902f0d0>,\n",
       " <matplotlib.collections.EventCollection at 0x7fd31902f390>,\n",
       " <matplotlib.collections.EventCollection at 0x7fd31902f690>,\n",
       " <matplotlib.collections.EventCollection at 0x7fd31902f990>,\n",
       " <matplotlib.collections.EventCollection at 0x7fd31902fc50>,\n",
       " <matplotlib.collections.EventCollection at 0x7fd31902ff10>,\n",
       " <matplotlib.collections.EventCollection at 0x7fd319040250>,\n",
       " <matplotlib.collections.EventCollection at 0x7fd319040590>,\n",
       " <matplotlib.collections.EventCollection at 0x7fd319040890>,\n",
       " <matplotlib.collections.EventCollection at 0x7fd319040b50>,\n",
       " <matplotlib.collections.EventCollection at 0x7fd319040e90>,\n",
       " <matplotlib.collections.EventCollection at 0x7fd31904f1d0>,\n",
       " <matplotlib.collections.EventCollection at 0x7fd31904f490>,\n",
       " <matplotlib.collections.EventCollection at 0x7fd31904f910>,\n",
       " <matplotlib.collections.EventCollection at 0x7fd31904fbd0>,\n",
       " <matplotlib.collections.EventCollection at 0x7fd31904fe90>,\n",
       " <matplotlib.collections.EventCollection at 0x7fd31905e1d0>,\n",
       " <matplotlib.collections.EventCollection at 0x7fd31905e4d0>,\n",
       " <matplotlib.collections.EventCollection at 0x7fd31905e790>,\n",
       " <matplotlib.collections.EventCollection at 0x7fd31905ea50>,\n",
       " <matplotlib.collections.EventCollection at 0x7fd31905ed10>,\n",
       " <matplotlib.collections.EventCollection at 0x7fd31905efd0>,\n",
       " <matplotlib.collections.EventCollection at 0x7fd31906d310>,\n",
       " <matplotlib.collections.EventCollection at 0x7fd31906d610>,\n",
       " <matplotlib.collections.EventCollection at 0x7fd31906d8d0>,\n",
       " <matplotlib.collections.EventCollection at 0x7fd31906db90>,\n",
       " <matplotlib.collections.EventCollection at 0x7fd31906de90>,\n",
       " <matplotlib.collections.EventCollection at 0x7fd31907e190>,\n",
       " <matplotlib.collections.EventCollection at 0x7fd31907e4d0>,\n",
       " <matplotlib.collections.EventCollection at 0x7fd31907e7d0>,\n",
       " <matplotlib.collections.EventCollection at 0x7fd31907ea90>,\n",
       " <matplotlib.collections.EventCollection at 0x7fd31907ed50>,\n",
       " <matplotlib.collections.EventCollection at 0x7fd31908d050>,\n",
       " <matplotlib.collections.EventCollection at 0x7fd31908d350>,\n",
       " <matplotlib.collections.EventCollection at 0x7fd31908d790>,\n",
       " <matplotlib.collections.EventCollection at 0x7fd31908da50>,\n",
       " <matplotlib.collections.EventCollection at 0x7fd31908de90>,\n",
       " <matplotlib.collections.EventCollection at 0x7fd31909b1d0>,\n",
       " <matplotlib.collections.EventCollection at 0x7fd31909bb10>,\n",
       " <matplotlib.collections.EventCollection at 0x7fd3190a4610>,\n",
       " <matplotlib.collections.EventCollection at 0x7fd3190a4e10>,\n",
       " <matplotlib.collections.EventCollection at 0x7fd3190b15d0>,\n",
       " <matplotlib.collections.EventCollection at 0x7fd3190b1890>,\n",
       " <matplotlib.collections.EventCollection at 0x7fd3190b1b50>,\n",
       " <matplotlib.collections.EventCollection at 0x7fd3190bfa50>,\n",
       " <matplotlib.collections.EventCollection at 0x7fd3190c82d0>,\n",
       " <matplotlib.collections.EventCollection at 0x7fd3190c8d50>,\n",
       " <matplotlib.collections.EventCollection at 0x7fd3190d21d0>,\n",
       " <matplotlib.collections.EventCollection at 0x7fd3190d2a90>,\n",
       " <matplotlib.collections.EventCollection at 0x7fd3190de6d0>,\n",
       " <matplotlib.collections.EventCollection at 0x7fd3190ded50>,\n",
       " <matplotlib.collections.EventCollection at 0x7fd3190ea0d0>,\n",
       " <matplotlib.collections.EventCollection at 0x7fd3190ea390>,\n",
       " <matplotlib.collections.EventCollection at 0x7fd3190eacd0>,\n",
       " <matplotlib.collections.EventCollection at 0x7fd3190f6690>,\n",
       " <matplotlib.collections.EventCollection at 0x7fd3190f6a50>,\n",
       " <matplotlib.collections.EventCollection at 0x7fd3190f6d50>,\n",
       " <matplotlib.collections.EventCollection at 0x7fd319103110>,\n",
       " <matplotlib.collections.EventCollection at 0x7fd3191033d0>,\n",
       " <matplotlib.collections.EventCollection at 0x7fd319103950>,\n",
       " <matplotlib.collections.EventCollection at 0x7fd31910e710>,\n",
       " <matplotlib.collections.EventCollection at 0x7fd31910ea10>,\n",
       " <matplotlib.collections.EventCollection at 0x7fd31910ef10>,\n",
       " <matplotlib.collections.EventCollection at 0x7fd31911a250>,\n",
       " <matplotlib.collections.EventCollection at 0x7fd31911a590>,\n",
       " <matplotlib.collections.EventCollection at 0x7fd31911a8d0>,\n",
       " <matplotlib.collections.EventCollection at 0x7fd319127350>,\n",
       " <matplotlib.collections.EventCollection at 0x7fd3191276d0>,\n",
       " <matplotlib.collections.EventCollection at 0x7fd319127b10>,\n",
       " <matplotlib.collections.EventCollection at 0x7fd319134290>,\n",
       " <matplotlib.collections.EventCollection at 0x7fd319134c10>,\n",
       " <matplotlib.collections.EventCollection at 0x7fd319134f90>,\n",
       " <matplotlib.collections.EventCollection at 0x7fd319140290>,\n",
       " <matplotlib.collections.EventCollection at 0x7fd319140dd0>,\n",
       " <matplotlib.collections.EventCollection at 0x7fd31914b150>,\n",
       " <matplotlib.collections.EventCollection at 0x7fd31914b7d0>,\n",
       " <matplotlib.collections.EventCollection at 0x7fd3191563d0>,\n",
       " <matplotlib.collections.EventCollection at 0x7fd319156690>,\n",
       " <matplotlib.collections.EventCollection at 0x7fd319156950>,\n",
       " <matplotlib.collections.EventCollection at 0x7fd319163850>,\n",
       " <matplotlib.collections.EventCollection at 0x7fd319163d50>,\n",
       " <matplotlib.collections.EventCollection at 0x7fd31916e0d0>,\n",
       " <matplotlib.collections.EventCollection at 0x7fd31916ea50>,\n",
       " <matplotlib.collections.EventCollection at 0x7fd319178310>,\n",
       " <matplotlib.collections.EventCollection at 0x7fd319178690>,\n",
       " <matplotlib.collections.EventCollection at 0x7fd319178e90>,\n",
       " <matplotlib.collections.EventCollection at 0x7fd319185190>,\n",
       " <matplotlib.collections.EventCollection at 0x7fd3191854d0>,\n",
       " <matplotlib.collections.EventCollection at 0x7fd319185790>,\n",
       " <matplotlib.collections.EventCollection at 0x7fd319185a90>,\n",
       " <matplotlib.collections.EventCollection at 0x7fd319193050>,\n",
       " <matplotlib.collections.EventCollection at 0x7fd319193350>,\n",
       " <matplotlib.collections.EventCollection at 0x7fd319193ad0>,\n",
       " <matplotlib.collections.EventCollection at 0x7fd31919e410>,\n",
       " <matplotlib.collections.EventCollection at 0x7fd31919e6d0>,\n",
       " <matplotlib.collections.EventCollection at 0x7fd31919e990>,\n",
       " <matplotlib.collections.EventCollection at 0x7fd3191ab050>]"
      ]
     },
     "execution_count": 154,
     "metadata": {},
     "output_type": "execute_result"
    },
    {
     "data": {
      "text/plain": [
       "Text(0, 0.5, 'Relevant Channels')"
      ]
     },
     "execution_count": 154,
     "metadata": {},
     "output_type": "execute_result"
    },
    {
     "data": {
      "text/plain": [
       "Text(0.5, 0.98, '2021-05-17_cortex_div11_aCSF_ID046_30µMNE_spont_1')"
      ]
     },
     "execution_count": 154,
     "metadata": {},
     "output_type": "execute_result"
    }
   ],
   "source": [
    "fig = plt.figure(figsize = (10,6))\n",
    "gs = fig.add_gridspec(2, hspace = 0, height_ratios=[2,5])\n",
    "axs = gs.subplots(sharex=False, sharey=False)\n",
    "axs[0].plot(ma_fr_gau, color= 'black')\n",
    "axs[0].set_ylabel('Firing Rate [Hz]')\n",
    "axs[1].eventplot(spikearray_seconds, color = 'black', linewidths = 0.5,\n",
    "                 linelengths = 1, colors = 'black')\n",
    "axs[1].set_ylabel('Relevant Channels')\n",
    "fig.suptitle(filename)\n",
    "\n",
    "#for ax in axs:\n",
    "#    for i in bursts_seconds:\n",
    "#        axs[1].axvspan(i[0], i[1], facecolor = '#5B89A6', alpha = 0.3)\n",
    "#fig.savefig(filename+ '__raster_firingrate_plot_solo.png', dpi=300)"
   ]
  },
  {
   "cell_type": "code",
   "execution_count": 155,
   "id": "84702eeb",
   "metadata": {},
   "outputs": [],
   "source": [
    "# identify the longest burst and longest interburst-interval\n"
   ]
  },
  {
   "cell_type": "code",
   "execution_count": 156,
   "id": "4f329f60",
   "metadata": {},
   "outputs": [],
   "source": [
    "#longest bursts:\n",
    "\n",
    "longest_burst = 0\n",
    "longest_burst_i = 0\n",
    "for i in bursts_seconds:\n",
    "    burstinterval = i[1]-i[0]\n",
    "    if burstinterval > longest_burst:\n",
    "        longest_burst = burstinterval\n",
    "        longest_burst_i = i"
   ]
  },
  {
   "cell_type": "code",
   "execution_count": 157,
   "id": "213bfd48",
   "metadata": {},
   "outputs": [],
   "source": [
    "# longest_interburst interval:\n",
    "\n",
    "longest_ibi = 0\n",
    "longest_ibi_times = (0, 0)\n",
    "\n",
    "for i in range(1, len(bursts_seconds)-1):\n",
    "    ibi = bursts_seconds[i+1][0] - bursts_seconds[i][1]\n",
    "    if ibi > longest_ibi:\n",
    "        longest_ibi = ibi\n",
    "        longest_ibi_times = ((bursts_seconds[i][1]), (bursts_seconds[i+1][0])) "
   ]
  },
  {
   "cell_type": "code",
   "execution_count": 158,
   "id": "30cf0616",
   "metadata": {},
   "outputs": [
    {
     "data": {
      "text/plain": [
       "(65.15668698172757, 67.83005385880399)"
      ]
     },
     "execution_count": 158,
     "metadata": {},
     "output_type": "execute_result"
    }
   ],
   "source": [
    "longest_ibi_times"
   ]
  },
  {
   "cell_type": "code",
   "execution_count": 159,
   "id": "4acd8694",
   "metadata": {},
   "outputs": [
    {
     "data": {
      "application/vnd.jupyter.widget-view+json": {
       "model_id": "082be602cc6a4b4eaa0359ea795e99da",
       "version_major": 2,
       "version_minor": 0
      },
      "text/plain": [
       "Canvas(toolbar=Toolbar(toolitems=[('Home', 'Reset original view', 'home', 'home'), ('Back', 'Back to previous …"
      ]
     },
     "metadata": {},
     "output_type": "display_data"
    },
    {
     "data": {
      "text/plain": [
       "[<matplotlib.lines.Line2D at 0x7fd319b6ac90>]"
      ]
     },
     "execution_count": 159,
     "metadata": {},
     "output_type": "execute_result"
    },
    {
     "data": {
      "text/plain": [
       "Text(0, 0.5, 'Firing Rate [Hz]')"
      ]
     },
     "execution_count": 159,
     "metadata": {},
     "output_type": "execute_result"
    },
    {
     "data": {
      "text/plain": [
       "[<matplotlib.collections.EventCollection at 0x7fd31af9e510>,\n",
       " <matplotlib.collections.EventCollection at 0x7fd31af9eb50>,\n",
       " <matplotlib.collections.EventCollection at 0x7fd31af9ee90>,\n",
       " <matplotlib.collections.EventCollection at 0x7fd31af9e990>,\n",
       " <matplotlib.collections.EventCollection at 0x7fd31b09ffd0>,\n",
       " <matplotlib.collections.EventCollection at 0x7fd31b0ab5d0>,\n",
       " <matplotlib.collections.EventCollection at 0x7fd31b0aba90>,\n",
       " <matplotlib.collections.EventCollection at 0x7fd31b0abdd0>,\n",
       " <matplotlib.collections.EventCollection at 0x7fd31b0b81d0>,\n",
       " <matplotlib.collections.EventCollection at 0x7fd31b0ab550>,\n",
       " <matplotlib.collections.EventCollection at 0x7fd31b0b8c10>,\n",
       " <matplotlib.collections.EventCollection at 0x7fd31b0b8f10>,\n",
       " <matplotlib.collections.EventCollection at 0x7fd31b0c2250>,\n",
       " <matplotlib.collections.EventCollection at 0x7fd31b0c29d0>,\n",
       " <matplotlib.collections.EventCollection at 0x7fd31b0c2d50>,\n",
       " <matplotlib.collections.EventCollection at 0x7fd31b0d0050>,\n",
       " <matplotlib.collections.EventCollection at 0x7fd31b0d0310>,\n",
       " <matplotlib.collections.EventCollection at 0x7fd31b0d05d0>,\n",
       " <matplotlib.collections.EventCollection at 0x7fd31b0d0890>,\n",
       " <matplotlib.collections.EventCollection at 0x7fd31b0d0bd0>,\n",
       " <matplotlib.collections.EventCollection at 0x7fd31b0d0f50>,\n",
       " <matplotlib.collections.EventCollection at 0x7fd31b0e0290>,\n",
       " <matplotlib.collections.EventCollection at 0x7fd31b0e05d0>,\n",
       " <matplotlib.collections.EventCollection at 0x7fd31b0e0890>,\n",
       " <matplotlib.collections.EventCollection at 0x7fd31b0e0b50>,\n",
       " <matplotlib.collections.EventCollection at 0x7fd31b0e0e50>,\n",
       " <matplotlib.collections.EventCollection at 0x7fd31b0ec150>,\n",
       " <matplotlib.collections.EventCollection at 0x7fd31b0ec410>,\n",
       " <matplotlib.collections.EventCollection at 0x7fd31b0ec710>,\n",
       " <matplotlib.collections.EventCollection at 0x7fd31b0ec9d0>,\n",
       " <matplotlib.collections.EventCollection at 0x7fd31b0ecc90>,\n",
       " <matplotlib.collections.EventCollection at 0x7fd31b0ecf50>,\n",
       " <matplotlib.collections.EventCollection at 0x7fd31b0fb250>,\n",
       " <matplotlib.collections.EventCollection at 0x7fd31b0fb550>,\n",
       " <matplotlib.collections.EventCollection at 0x7fd31b0fb810>,\n",
       " <matplotlib.collections.EventCollection at 0x7fd31b0fbb10>,\n",
       " <matplotlib.collections.EventCollection at 0x7fd31b0fbdd0>,\n",
       " <matplotlib.collections.EventCollection at 0x7fd31b1090d0>,\n",
       " <matplotlib.collections.EventCollection at 0x7fd31b1093d0>,\n",
       " <matplotlib.collections.EventCollection at 0x7fd31b1096d0>,\n",
       " <matplotlib.collections.EventCollection at 0x7fd31b1099d0>,\n",
       " <matplotlib.collections.EventCollection at 0x7fd31b109cd0>,\n",
       " <matplotlib.collections.EventCollection at 0x7fd31b109fd0>,\n",
       " <matplotlib.collections.EventCollection at 0x7fd31b119310>,\n",
       " <matplotlib.collections.EventCollection at 0x7fd31b1195d0>,\n",
       " <matplotlib.collections.EventCollection at 0x7fd31b1198d0>,\n",
       " <matplotlib.collections.EventCollection at 0x7fd31b119bd0>,\n",
       " <matplotlib.collections.EventCollection at 0x7fd31b119e90>,\n",
       " <matplotlib.collections.EventCollection at 0x7fd31b1261d0>,\n",
       " <matplotlib.collections.EventCollection at 0x7fd31b126690>,\n",
       " <matplotlib.collections.EventCollection at 0x7fd31b126990>,\n",
       " <matplotlib.collections.EventCollection at 0x7fd31b126c50>,\n",
       " <matplotlib.collections.EventCollection at 0x7fd31b126f50>,\n",
       " <matplotlib.collections.EventCollection at 0x7fd31b135290>,\n",
       " <matplotlib.collections.EventCollection at 0x7fd31b135590>,\n",
       " <matplotlib.collections.EventCollection at 0x7fd31b135890>,\n",
       " <matplotlib.collections.EventCollection at 0x7fd31b135b50>,\n",
       " <matplotlib.collections.EventCollection at 0x7fd31b135e10>,\n",
       " <matplotlib.collections.EventCollection at 0x7fd31b146150>,\n",
       " <matplotlib.collections.EventCollection at 0x7fd31b1464d0>,\n",
       " <matplotlib.collections.EventCollection at 0x7fd31b1467d0>,\n",
       " <matplotlib.collections.EventCollection at 0x7fd31b146a90>,\n",
       " <matplotlib.collections.EventCollection at 0x7fd31b146d90>,\n",
       " <matplotlib.collections.EventCollection at 0x7fd31b153150>,\n",
       " <matplotlib.collections.EventCollection at 0x7fd31b153450>,\n",
       " <matplotlib.collections.EventCollection at 0x7fd31b153710>,\n",
       " <matplotlib.collections.EventCollection at 0x7fd31b1539d0>,\n",
       " <matplotlib.collections.EventCollection at 0x7fd31b153c90>,\n",
       " <matplotlib.collections.EventCollection at 0x7fd31b153f50>,\n",
       " <matplotlib.collections.EventCollection at 0x7fd31b164250>,\n",
       " <matplotlib.collections.EventCollection at 0x7fd31b164550>,\n",
       " <matplotlib.collections.EventCollection at 0x7fd31b164810>,\n",
       " <matplotlib.collections.EventCollection at 0x7fd31b164b10>,\n",
       " <matplotlib.collections.EventCollection at 0x7fd31b164e50>,\n",
       " <matplotlib.collections.EventCollection at 0x7fd31b172150>,\n",
       " <matplotlib.collections.EventCollection at 0x7fd31b172490>,\n",
       " <matplotlib.collections.EventCollection at 0x7fd31b172750>,\n",
       " <matplotlib.collections.EventCollection at 0x7fd31b172a50>,\n",
       " <matplotlib.collections.EventCollection at 0x7fd31b172d50>,\n",
       " <matplotlib.collections.EventCollection at 0x7fd31b181090>,\n",
       " <matplotlib.collections.EventCollection at 0x7fd3267be090>,\n",
       " <matplotlib.collections.EventCollection at 0x7fd326d25650>,\n",
       " <matplotlib.collections.EventCollection at 0x7fd325f891d0>,\n",
       " <matplotlib.collections.EventCollection at 0x7fd327857690>,\n",
       " <matplotlib.collections.EventCollection at 0x7fd327862d50>,\n",
       " <matplotlib.collections.EventCollection at 0x7fd323dab3d0>,\n",
       " <matplotlib.collections.EventCollection at 0x7fd32a212b90>,\n",
       " <matplotlib.collections.EventCollection at 0x7fd32a152050>,\n",
       " <matplotlib.collections.EventCollection at 0x7fd32a36b910>,\n",
       " <matplotlib.collections.EventCollection at 0x7fd327876690>,\n",
       " <matplotlib.collections.EventCollection at 0x7fd327816dd0>,\n",
       " <matplotlib.collections.EventCollection at 0x7fd322408090>,\n",
       " <matplotlib.collections.EventCollection at 0x7fd3277bd810>,\n",
       " <matplotlib.collections.EventCollection at 0x7fd3159a1790>,\n",
       " <matplotlib.collections.EventCollection at 0x7fd3159dcd90>,\n",
       " <matplotlib.collections.EventCollection at 0x7fd315a30d10>,\n",
       " <matplotlib.collections.EventCollection at 0x7fd315a8d290>,\n",
       " <matplotlib.collections.EventCollection at 0x7fd315aa7790>,\n",
       " <matplotlib.collections.EventCollection at 0x7fd315ab5810>,\n",
       " <matplotlib.collections.EventCollection at 0x7fd315ac1fd0>,\n",
       " <matplotlib.collections.EventCollection at 0x7fd315adb890>,\n",
       " <matplotlib.collections.EventCollection at 0x7fd315af5250>,\n",
       " <matplotlib.collections.EventCollection at 0x7fd315b35e90>,\n",
       " <matplotlib.collections.EventCollection at 0x7fd3155c8050>,\n",
       " <matplotlib.collections.EventCollection at 0x7fd315c64c50>,\n",
       " <matplotlib.collections.EventCollection at 0x7fd315c829d0>,\n",
       " <matplotlib.collections.EventCollection at 0x7fd315c99bd0>,\n",
       " <matplotlib.collections.EventCollection at 0x7fd315cc57d0>,\n",
       " <matplotlib.collections.EventCollection at 0x7fd315d39dd0>,\n",
       " <matplotlib.collections.EventCollection at 0x7fd315d73c50>,\n",
       " <matplotlib.collections.EventCollection at 0x7fd315d8b910>,\n",
       " <matplotlib.collections.EventCollection at 0x7fd315dacc90>,\n",
       " <matplotlib.collections.EventCollection at 0x7fd3160235d0>,\n",
       " <matplotlib.collections.EventCollection at 0x7fd3161a1a50>,\n",
       " <matplotlib.collections.EventCollection at 0x7fd32ba71a90>,\n",
       " <matplotlib.collections.EventCollection at 0x7fd31622a850>,\n",
       " <matplotlib.collections.EventCollection at 0x7fd327888c50>,\n",
       " <matplotlib.collections.EventCollection at 0x7fd316236150>,\n",
       " <matplotlib.collections.EventCollection at 0x7fd314177e50>,\n",
       " <matplotlib.collections.EventCollection at 0x7fd314180350>,\n",
       " <matplotlib.collections.EventCollection at 0x7fd316408110>,\n",
       " <matplotlib.collections.EventCollection at 0x7fd316409950>,\n",
       " <matplotlib.collections.EventCollection at 0x7fd316400590>,\n",
       " <matplotlib.collections.EventCollection at 0x7fd316400890>,\n",
       " <matplotlib.collections.EventCollection at 0x7fd316400ad0>,\n",
       " <matplotlib.collections.EventCollection at 0x7fd31b281a10>,\n",
       " <matplotlib.collections.EventCollection at 0x7fd31b294110>,\n",
       " <matplotlib.collections.EventCollection at 0x7fd31b294990>,\n",
       " <matplotlib.collections.EventCollection at 0x7fd31b294cd0>,\n",
       " <matplotlib.collections.EventCollection at 0x7fd31b2af390>,\n",
       " <matplotlib.collections.EventCollection at 0x7fd31b2dd6d0>,\n",
       " <matplotlib.collections.EventCollection at 0x7fd31b2ddd10>,\n",
       " <matplotlib.collections.EventCollection at 0x7fd31b2e8090>,\n",
       " <matplotlib.collections.EventCollection at 0x7fd31b2e8410>,\n",
       " <matplotlib.collections.EventCollection at 0x7fd31b2e8950>,\n",
       " <matplotlib.collections.EventCollection at 0x7fd31b2f2250>,\n",
       " <matplotlib.collections.EventCollection at 0x7fd31b2f2590>,\n",
       " <matplotlib.collections.EventCollection at 0x7fd31b2f28d0>,\n",
       " <matplotlib.collections.EventCollection at 0x7fd31b2f2c10>,\n",
       " <matplotlib.collections.EventCollection at 0x7fd31b2f2f50>,\n",
       " <matplotlib.collections.EventCollection at 0x7fd31b2ff2d0>,\n",
       " <matplotlib.collections.EventCollection at 0x7fd31b2ff650>,\n",
       " <matplotlib.collections.EventCollection at 0x7fd31b2ff990>,\n",
       " <matplotlib.collections.EventCollection at 0x7fd31b2ffd10>,\n",
       " <matplotlib.collections.EventCollection at 0x7fd31b30d090>,\n",
       " <matplotlib.collections.EventCollection at 0x7fd31b30d3d0>,\n",
       " <matplotlib.collections.EventCollection at 0x7fd31b30d710>,\n",
       " <matplotlib.collections.EventCollection at 0x7fd31b30da50>,\n",
       " <matplotlib.collections.EventCollection at 0x7fd31b30dd90>,\n",
       " <matplotlib.collections.EventCollection at 0x7fd31b31b110>,\n",
       " <matplotlib.collections.EventCollection at 0x7fd31b31b490>,\n",
       " <matplotlib.collections.EventCollection at 0x7fd31b31b7d0>,\n",
       " <matplotlib.collections.EventCollection at 0x7fd31b31bb10>,\n",
       " <matplotlib.collections.EventCollection at 0x7fd31b31be50>,\n",
       " <matplotlib.collections.EventCollection at 0x7fd31b328210>,\n",
       " <matplotlib.collections.EventCollection at 0x7fd31b328550>,\n",
       " <matplotlib.collections.EventCollection at 0x7fd31b328890>,\n",
       " <matplotlib.collections.EventCollection at 0x7fd31b328c10>,\n",
       " <matplotlib.collections.EventCollection at 0x7fd31b328f90>,\n",
       " <matplotlib.collections.EventCollection at 0x7fd31b336310>,\n",
       " <matplotlib.collections.EventCollection at 0x7fd31b336650>,\n",
       " <matplotlib.collections.EventCollection at 0x7fd31b3369d0>,\n",
       " <matplotlib.collections.EventCollection at 0x7fd31b336d90>,\n",
       " <matplotlib.collections.EventCollection at 0x7fd31b341150>,\n",
       " <matplotlib.collections.EventCollection at 0x7fd31b341490>,\n",
       " <matplotlib.collections.EventCollection at 0x7fd31b341850>,\n",
       " <matplotlib.collections.EventCollection at 0x7fd31b341bd0>,\n",
       " <matplotlib.collections.EventCollection at 0x7fd31b341f10>,\n",
       " <matplotlib.collections.EventCollection at 0x7fd31b34d450>,\n",
       " <matplotlib.collections.EventCollection at 0x7fd31b34d790>,\n",
       " <matplotlib.collections.EventCollection at 0x7fd31b34dad0>,\n",
       " <matplotlib.collections.EventCollection at 0x7fd31b34de50>,\n",
       " <matplotlib.collections.EventCollection at 0x7fd31b35c210>,\n",
       " <matplotlib.collections.EventCollection at 0x7fd31b35c550>,\n",
       " <matplotlib.collections.EventCollection at 0x7fd31b35c890>,\n",
       " <matplotlib.collections.EventCollection at 0x7fd31b35cbd0>,\n",
       " <matplotlib.collections.EventCollection at 0x7fd31b35cf10>,\n",
       " <matplotlib.collections.EventCollection at 0x7fd31b3692d0>,\n",
       " <matplotlib.collections.EventCollection at 0x7fd31b369650>,\n",
       " <matplotlib.collections.EventCollection at 0x7fd31b369990>,\n",
       " <matplotlib.collections.EventCollection at 0x7fd31b369cd0>,\n",
       " <matplotlib.collections.EventCollection at 0x7fd31b376090>,\n",
       " <matplotlib.collections.EventCollection at 0x7fd31b3763d0>,\n",
       " <matplotlib.collections.EventCollection at 0x7fd31b376790>,\n",
       " <matplotlib.collections.EventCollection at 0x7fd31b376b10>,\n",
       " <matplotlib.collections.EventCollection at 0x7fd31b376e50>,\n",
       " <matplotlib.collections.EventCollection at 0x7fd31b3841d0>,\n",
       " <matplotlib.collections.EventCollection at 0x7fd31b384510>,\n",
       " <matplotlib.collections.EventCollection at 0x7fd31b384890>,\n",
       " <matplotlib.collections.EventCollection at 0x7fd31b384d50>,\n",
       " <matplotlib.collections.EventCollection at 0x7fd31b38f0d0>,\n",
       " <matplotlib.collections.EventCollection at 0x7fd31b38f590>,\n",
       " <matplotlib.collections.EventCollection at 0x7fd31b38f910>,\n",
       " <matplotlib.collections.EventCollection at 0x7fd31b39a310>,\n",
       " <matplotlib.collections.EventCollection at 0x7fd31b39ae50>,\n",
       " <matplotlib.collections.EventCollection at 0x7fd31b3a5710>,\n",
       " <matplotlib.collections.EventCollection at 0x7fd31b3a5f10>,\n",
       " <matplotlib.collections.EventCollection at 0x7fd31b3b0290>,\n",
       " <matplotlib.collections.EventCollection at 0x7fd31b3b05d0>,\n",
       " <matplotlib.collections.EventCollection at 0x7fd31b3bc550>,\n",
       " <matplotlib.collections.EventCollection at 0x7fd31b3bce10>,\n",
       " <matplotlib.collections.EventCollection at 0x7fd31b3c6950>,\n",
       " <matplotlib.collections.EventCollection at 0x7fd31b3c6e10>,\n",
       " <matplotlib.collections.EventCollection at 0x7fd31b3d0790>,\n",
       " <matplotlib.collections.EventCollection at 0x7fd31b3da450>,\n",
       " <matplotlib.collections.EventCollection at 0x7fd31b3dab50>,\n",
       " <matplotlib.collections.EventCollection at 0x7fd31b3daf10>,\n",
       " <matplotlib.collections.EventCollection at 0x7fd31b3e7290>,\n",
       " <matplotlib.collections.EventCollection at 0x7fd31b3e7c50>,\n",
       " <matplotlib.collections.EventCollection at 0x7fd31b3f2690>,\n",
       " <matplotlib.collections.EventCollection at 0x7fd31b3f2ad0>,\n",
       " <matplotlib.collections.EventCollection at 0x7fd31b3f2e50>,\n",
       " <matplotlib.collections.EventCollection at 0x7fd31b3fe290>,\n",
       " <matplotlib.collections.EventCollection at 0x7fd31b3fe5d0>,\n",
       " <matplotlib.collections.EventCollection at 0x7fd31b3febd0>,\n",
       " <matplotlib.collections.EventCollection at 0x7fd31b409a10>,\n",
       " <matplotlib.collections.EventCollection at 0x7fd31b409d90>,\n",
       " <matplotlib.collections.EventCollection at 0x7fd31b411350>,\n",
       " <matplotlib.collections.EventCollection at 0x7fd31b4116d0>,\n",
       " <matplotlib.collections.EventCollection at 0x7fd31b411a90>,\n",
       " <matplotlib.collections.EventCollection at 0x7fd31b411e50>,\n",
       " <matplotlib.collections.EventCollection at 0x7fd31b41e950>,\n",
       " <matplotlib.collections.EventCollection at 0x7fd31b41ed50>,\n",
       " <matplotlib.collections.EventCollection at 0x7fd31b42a250>,\n",
       " <matplotlib.collections.EventCollection at 0x7fd31b42aa10>,\n",
       " <matplotlib.collections.EventCollection at 0x7fd31b434450>,\n",
       " <matplotlib.collections.EventCollection at 0x7fd31b434850>,\n",
       " <matplotlib.collections.EventCollection at 0x7fd31b434b90>,\n",
       " <matplotlib.collections.EventCollection at 0x7fd31b440790>,\n",
       " <matplotlib.collections.EventCollection at 0x7fd31b440b50>,\n",
       " <matplotlib.collections.EventCollection at 0x7fd31b44b290>,\n",
       " <matplotlib.collections.EventCollection at 0x7fd31b44bed0>,\n",
       " <matplotlib.collections.EventCollection at 0x7fd31b455250>,\n",
       " <matplotlib.collections.EventCollection at 0x7fd31b455590>,\n",
       " <matplotlib.collections.EventCollection at 0x7fd31b461510>,\n",
       " <matplotlib.collections.EventCollection at 0x7fd31b461a90>,\n",
       " <matplotlib.collections.EventCollection at 0x7fd31b461e50>,\n",
       " <matplotlib.collections.EventCollection at 0x7fd31b46c890>,\n",
       " <matplotlib.collections.EventCollection at 0x7fd31b4761d0>,\n",
       " <matplotlib.collections.EventCollection at 0x7fd31b4765d0>,\n",
       " <matplotlib.collections.EventCollection at 0x7fd31b476e50>,\n",
       " <matplotlib.collections.EventCollection at 0x7fd31b47f1d0>,\n",
       " <matplotlib.collections.EventCollection at 0x7fd31b47f590>,\n",
       " <matplotlib.collections.EventCollection at 0x7fd31b47f8d0>,\n",
       " <matplotlib.collections.EventCollection at 0x7fd31b47fc50>,\n",
       " <matplotlib.collections.EventCollection at 0x7fd31b48c290>,\n",
       " <matplotlib.collections.EventCollection at 0x7fd31b48c610>,\n",
       " <matplotlib.collections.EventCollection at 0x7fd31b48ce10>,\n",
       " <matplotlib.collections.EventCollection at 0x7fd31b4987d0>,\n",
       " <matplotlib.collections.EventCollection at 0x7fd31b498b10>,\n",
       " <matplotlib.collections.EventCollection at 0x7fd31b498e50>,\n",
       " <matplotlib.collections.EventCollection at 0x7fd31b4a5590>]"
      ]
     },
     "execution_count": 159,
     "metadata": {},
     "output_type": "execute_result"
    },
    {
     "data": {
      "text/plain": [
       "Text(0, 0.5, 'Relevant Channels')"
      ]
     },
     "execution_count": 159,
     "metadata": {},
     "output_type": "execute_result"
    },
    {
     "data": {
      "text/plain": [
       "<matplotlib.patches.Polygon at 0x7fd31af9e050>"
      ]
     },
     "execution_count": 159,
     "metadata": {},
     "output_type": "execute_result"
    },
    {
     "data": {
      "text/plain": [
       "<matplotlib.patches.Polygon at 0x7fd31af7f990>"
      ]
     },
     "execution_count": 159,
     "metadata": {},
     "output_type": "execute_result"
    },
    {
     "data": {
      "text/plain": [
       "<matplotlib.patches.Polygon at 0x7fd31af9e3d0>"
      ]
     },
     "execution_count": 159,
     "metadata": {},
     "output_type": "execute_result"
    },
    {
     "data": {
      "text/plain": [
       "<matplotlib.patches.Polygon at 0x7fd31af9e4d0>"
      ]
     },
     "execution_count": 159,
     "metadata": {},
     "output_type": "execute_result"
    },
    {
     "data": {
      "text/plain": [
       "<matplotlib.patches.Polygon at 0x7fd31af9e410>"
      ]
     },
     "execution_count": 159,
     "metadata": {},
     "output_type": "execute_result"
    },
    {
     "data": {
      "text/plain": [
       "<matplotlib.patches.Polygon at 0x7fd31b4a5ed0>"
      ]
     },
     "execution_count": 159,
     "metadata": {},
     "output_type": "execute_result"
    },
    {
     "data": {
      "text/plain": [
       "<matplotlib.patches.Polygon at 0x7fd31b4b8910>"
      ]
     },
     "execution_count": 159,
     "metadata": {},
     "output_type": "execute_result"
    },
    {
     "data": {
      "text/plain": [
       "<matplotlib.patches.Polygon at 0x7fd31b4a5a10>"
      ]
     },
     "execution_count": 159,
     "metadata": {},
     "output_type": "execute_result"
    },
    {
     "data": {
      "text/plain": [
       "<matplotlib.patches.Polygon at 0x7fd31b4b8f10>"
      ]
     },
     "execution_count": 159,
     "metadata": {},
     "output_type": "execute_result"
    },
    {
     "data": {
      "text/plain": [
       "<matplotlib.patches.Polygon at 0x7fd31b4b8d50>"
      ]
     },
     "execution_count": 159,
     "metadata": {},
     "output_type": "execute_result"
    },
    {
     "data": {
      "text/plain": [
       "<matplotlib.patches.Polygon at 0x7fd31b4a5e90>"
      ]
     },
     "execution_count": 159,
     "metadata": {},
     "output_type": "execute_result"
    },
    {
     "data": {
      "text/plain": [
       "<matplotlib.patches.Polygon at 0x7fd31b4c2110>"
      ]
     },
     "execution_count": 159,
     "metadata": {},
     "output_type": "execute_result"
    },
    {
     "data": {
      "text/plain": [
       "<matplotlib.patches.Polygon at 0x7fd31b4c2150>"
      ]
     },
     "execution_count": 159,
     "metadata": {},
     "output_type": "execute_result"
    },
    {
     "data": {
      "text/plain": [
       "<matplotlib.patches.Polygon at 0x7fd319b5e9d0>"
      ]
     },
     "execution_count": 159,
     "metadata": {},
     "output_type": "execute_result"
    },
    {
     "data": {
      "text/plain": [
       "<matplotlib.patches.Polygon at 0x7fd31b4c2dd0>"
      ]
     },
     "execution_count": 159,
     "metadata": {},
     "output_type": "execute_result"
    },
    {
     "data": {
      "text/plain": [
       "<matplotlib.patches.Polygon at 0x7fd31b4c2d50>"
      ]
     },
     "execution_count": 159,
     "metadata": {},
     "output_type": "execute_result"
    },
    {
     "data": {
      "text/plain": [
       "<matplotlib.patches.Polygon at 0x7fd31b4c2d10>"
      ]
     },
     "execution_count": 159,
     "metadata": {},
     "output_type": "execute_result"
    },
    {
     "data": {
      "text/plain": [
       "<matplotlib.patches.Polygon at 0x7fd31b4a5c10>"
      ]
     },
     "execution_count": 159,
     "metadata": {},
     "output_type": "execute_result"
    },
    {
     "data": {
      "text/plain": [
       "<matplotlib.patches.Polygon at 0x7fd31b4c2fd0>"
      ]
     },
     "execution_count": 159,
     "metadata": {},
     "output_type": "execute_result"
    },
    {
     "data": {
      "text/plain": [
       "<matplotlib.patches.Polygon at 0x7fd31b4d6a90>"
      ]
     },
     "execution_count": 159,
     "metadata": {},
     "output_type": "execute_result"
    },
    {
     "data": {
      "text/plain": [
       "<matplotlib.patches.Polygon at 0x7fd31b4d6910>"
      ]
     },
     "execution_count": 159,
     "metadata": {},
     "output_type": "execute_result"
    },
    {
     "data": {
      "text/plain": [
       "<matplotlib.patches.Polygon at 0x7fd31b4d6f90>"
      ]
     },
     "execution_count": 159,
     "metadata": {},
     "output_type": "execute_result"
    },
    {
     "data": {
      "text/plain": [
       "<matplotlib.patches.Polygon at 0x7fd31b4c2ad0>"
      ]
     },
     "execution_count": 159,
     "metadata": {},
     "output_type": "execute_result"
    },
    {
     "data": {
      "text/plain": [
       "<matplotlib.patches.Polygon at 0x7fd31b4c2810>"
      ]
     },
     "execution_count": 159,
     "metadata": {},
     "output_type": "execute_result"
    },
    {
     "data": {
      "text/plain": [
       "<matplotlib.patches.Polygon at 0x7fd31b4d6ed0>"
      ]
     },
     "execution_count": 159,
     "metadata": {},
     "output_type": "execute_result"
    },
    {
     "data": {
      "text/plain": [
       "<matplotlib.patches.Polygon at 0x7fd31b4e85d0>"
      ]
     },
     "execution_count": 159,
     "metadata": {},
     "output_type": "execute_result"
    },
    {
     "data": {
      "text/plain": [
       "<matplotlib.patches.Polygon at 0x7fd31b4e8bd0>"
      ]
     },
     "execution_count": 159,
     "metadata": {},
     "output_type": "execute_result"
    },
    {
     "data": {
      "text/plain": [
       "<matplotlib.patches.Polygon at 0x7fd31b4e8f10>"
      ]
     },
     "execution_count": 159,
     "metadata": {},
     "output_type": "execute_result"
    },
    {
     "data": {
      "text/plain": [
       "<matplotlib.patches.Polygon at 0x7fd31b4e8b90>"
      ]
     },
     "execution_count": 159,
     "metadata": {},
     "output_type": "execute_result"
    },
    {
     "data": {
      "text/plain": [
       "<matplotlib.patches.Polygon at 0x7fd31b4e8b10>"
      ]
     },
     "execution_count": 159,
     "metadata": {},
     "output_type": "execute_result"
    },
    {
     "data": {
      "text/plain": [
       "<matplotlib.patches.Polygon at 0x7fd31b4e86d0>"
      ]
     },
     "execution_count": 159,
     "metadata": {},
     "output_type": "execute_result"
    },
    {
     "data": {
      "text/plain": [
       "<matplotlib.patches.Polygon at 0x7fd31b4ec510>"
      ]
     },
     "execution_count": 159,
     "metadata": {},
     "output_type": "execute_result"
    },
    {
     "data": {
      "text/plain": [
       "<matplotlib.patches.Polygon at 0x7fd31b4ec790>"
      ]
     },
     "execution_count": 159,
     "metadata": {},
     "output_type": "execute_result"
    },
    {
     "data": {
      "text/plain": [
       "<matplotlib.patches.Polygon at 0x7fd31b4ece10>"
      ]
     },
     "execution_count": 159,
     "metadata": {},
     "output_type": "execute_result"
    },
    {
     "data": {
      "text/plain": [
       "<matplotlib.patches.Polygon at 0x7fd31b4ecfd0>"
      ]
     },
     "execution_count": 159,
     "metadata": {},
     "output_type": "execute_result"
    },
    {
     "data": {
      "text/plain": [
       "<matplotlib.patches.Polygon at 0x7fd31b4ec0d0>"
      ]
     },
     "execution_count": 159,
     "metadata": {},
     "output_type": "execute_result"
    },
    {
     "data": {
      "text/plain": [
       "<matplotlib.patches.Polygon at 0x7fd31b4ecd50>"
      ]
     },
     "execution_count": 159,
     "metadata": {},
     "output_type": "execute_result"
    },
    {
     "data": {
      "text/plain": [
       "<matplotlib.patches.Polygon at 0x7fd31b4fa890>"
      ]
     },
     "execution_count": 159,
     "metadata": {},
     "output_type": "execute_result"
    },
    {
     "data": {
      "text/plain": [
       "<matplotlib.patches.Polygon at 0x7fd31b4fa6d0>"
      ]
     },
     "execution_count": 159,
     "metadata": {},
     "output_type": "execute_result"
    },
    {
     "data": {
      "text/plain": [
       "<matplotlib.patches.Polygon at 0x7fd31b4fad90>"
      ]
     },
     "execution_count": 159,
     "metadata": {},
     "output_type": "execute_result"
    },
    {
     "data": {
      "text/plain": [
       "<matplotlib.patches.Polygon at 0x7fd31b4faa90>"
      ]
     },
     "execution_count": 159,
     "metadata": {},
     "output_type": "execute_result"
    },
    {
     "data": {
      "text/plain": [
       "<matplotlib.patches.Polygon at 0x7fd31b4ecb50>"
      ]
     },
     "execution_count": 159,
     "metadata": {},
     "output_type": "execute_result"
    },
    {
     "data": {
      "text/plain": [
       "<matplotlib.patches.Polygon at 0x7fd31b4ecd90>"
      ]
     },
     "execution_count": 159,
     "metadata": {},
     "output_type": "execute_result"
    },
    {
     "data": {
      "text/plain": [
       "<matplotlib.patches.Polygon at 0x7fd31b4facd0>"
      ]
     },
     "execution_count": 159,
     "metadata": {},
     "output_type": "execute_result"
    },
    {
     "data": {
      "text/plain": [
       "<matplotlib.patches.Polygon at 0x7fd31b512610>"
      ]
     },
     "execution_count": 159,
     "metadata": {},
     "output_type": "execute_result"
    },
    {
     "data": {
      "text/plain": [
       "<matplotlib.patches.Polygon at 0x7fd31b512890>"
      ]
     },
     "execution_count": 159,
     "metadata": {},
     "output_type": "execute_result"
    },
    {
     "data": {
      "text/plain": [
       "<matplotlib.patches.Polygon at 0x7fd31b512f10>"
      ]
     },
     "execution_count": 159,
     "metadata": {},
     "output_type": "execute_result"
    },
    {
     "data": {
      "text/plain": [
       "<matplotlib.patches.Polygon at 0x7fd31b4faf50>"
      ]
     },
     "execution_count": 159,
     "metadata": {},
     "output_type": "execute_result"
    },
    {
     "data": {
      "text/plain": [
       "<matplotlib.patches.Polygon at 0x7fd31b4fa290>"
      ]
     },
     "execution_count": 159,
     "metadata": {},
     "output_type": "execute_result"
    },
    {
     "data": {
      "text/plain": [
       "<matplotlib.patches.Polygon at 0x7fd31b512c50>"
      ]
     },
     "execution_count": 159,
     "metadata": {},
     "output_type": "execute_result"
    },
    {
     "data": {
      "text/plain": [
       "<matplotlib.patches.Polygon at 0x7fd31b518990>"
      ]
     },
     "execution_count": 159,
     "metadata": {},
     "output_type": "execute_result"
    },
    {
     "data": {
      "text/plain": [
       "<matplotlib.patches.Polygon at 0x7fd31b518c10>"
      ]
     },
     "execution_count": 159,
     "metadata": {},
     "output_type": "execute_result"
    },
    {
     "data": {
      "text/plain": [
       "<matplotlib.patches.Polygon at 0x7fd31b518dd0>"
      ]
     },
     "execution_count": 159,
     "metadata": {},
     "output_type": "execute_result"
    },
    {
     "data": {
      "text/plain": [
       "<matplotlib.patches.Polygon at 0x7fd31b518f50>"
      ]
     },
     "execution_count": 159,
     "metadata": {},
     "output_type": "execute_result"
    },
    {
     "data": {
      "text/plain": [
       "<matplotlib.patches.Polygon at 0x7fd31b5188d0>"
      ]
     },
     "execution_count": 159,
     "metadata": {},
     "output_type": "execute_result"
    },
    {
     "data": {
      "text/plain": [
       "<matplotlib.patches.Polygon at 0x7fd31b518d50>"
      ]
     },
     "execution_count": 159,
     "metadata": {},
     "output_type": "execute_result"
    },
    {
     "data": {
      "text/plain": [
       "<matplotlib.patches.Polygon at 0x7fd31b518d90>"
      ]
     },
     "execution_count": 159,
     "metadata": {},
     "output_type": "execute_result"
    },
    {
     "data": {
      "text/plain": [
       "<matplotlib.patches.Polygon at 0x7fd31b523b10>"
      ]
     },
     "execution_count": 159,
     "metadata": {},
     "output_type": "execute_result"
    },
    {
     "data": {
      "text/plain": [
       "<matplotlib.patches.Polygon at 0x7fd31b523990>"
      ]
     },
     "execution_count": 159,
     "metadata": {},
     "output_type": "execute_result"
    },
    {
     "data": {
      "text/plain": [
       "<matplotlib.patches.Polygon at 0x7fd31b523c10>"
      ]
     },
     "execution_count": 159,
     "metadata": {},
     "output_type": "execute_result"
    },
    {
     "data": {
      "text/plain": [
       "<matplotlib.patches.Polygon at 0x7fd31b518cd0>"
      ]
     },
     "execution_count": 159,
     "metadata": {},
     "output_type": "execute_result"
    },
    {
     "data": {
      "text/plain": [
       "<matplotlib.patches.Polygon at 0x7fd31b518d10>"
      ]
     },
     "execution_count": 159,
     "metadata": {},
     "output_type": "execute_result"
    },
    {
     "data": {
      "text/plain": [
       "<matplotlib.patches.Polygon at 0x7fd31b5353d0>"
      ]
     },
     "execution_count": 159,
     "metadata": {},
     "output_type": "execute_result"
    },
    {
     "data": {
      "text/plain": [
       "<matplotlib.patches.Polygon at 0x7fd31b535a50>"
      ]
     },
     "execution_count": 159,
     "metadata": {},
     "output_type": "execute_result"
    },
    {
     "data": {
      "text/plain": [
       "<matplotlib.patches.Polygon at 0x7fd31b535d10>"
      ]
     },
     "execution_count": 159,
     "metadata": {},
     "output_type": "execute_result"
    },
    {
     "data": {
      "text/plain": [
       "<matplotlib.patches.Polygon at 0x7fd31b535c10>"
      ]
     },
     "execution_count": 159,
     "metadata": {},
     "output_type": "execute_result"
    },
    {
     "data": {
      "text/plain": [
       "<matplotlib.patches.Polygon at 0x7fd31b523fd0>"
      ]
     },
     "execution_count": 159,
     "metadata": {},
     "output_type": "execute_result"
    },
    {
     "data": {
      "text/plain": [
       "<matplotlib.patches.Polygon at 0x7fd31b523d50>"
      ]
     },
     "execution_count": 159,
     "metadata": {},
     "output_type": "execute_result"
    },
    {
     "data": {
      "text/plain": [
       "<matplotlib.patches.Polygon at 0x7fd31b535dd0>"
      ]
     },
     "execution_count": 159,
     "metadata": {},
     "output_type": "execute_result"
    },
    {
     "data": {
      "text/plain": [
       "<matplotlib.patches.Polygon at 0x7fd31b53c9d0>"
      ]
     },
     "execution_count": 159,
     "metadata": {},
     "output_type": "execute_result"
    },
    {
     "data": {
      "text/plain": [
       "<matplotlib.patches.Polygon at 0x7fd31b53cb90>"
      ]
     },
     "execution_count": 159,
     "metadata": {},
     "output_type": "execute_result"
    },
    {
     "data": {
      "text/plain": [
       "<matplotlib.patches.Polygon at 0x7fd31b53ce10>"
      ]
     },
     "execution_count": 159,
     "metadata": {},
     "output_type": "execute_result"
    },
    {
     "data": {
      "text/plain": [
       "<matplotlib.patches.Polygon at 0x7fd31b53cf90>"
      ]
     },
     "execution_count": 159,
     "metadata": {},
     "output_type": "execute_result"
    },
    {
     "data": {
      "text/plain": [
       "<matplotlib.patches.Polygon at 0x7fd31b552350>"
      ]
     },
     "execution_count": 159,
     "metadata": {},
     "output_type": "execute_result"
    },
    {
     "data": {
      "text/plain": [
       "<matplotlib.patches.Polygon at 0x7fd31b552650>"
      ]
     },
     "execution_count": 159,
     "metadata": {},
     "output_type": "execute_result"
    },
    {
     "data": {
      "text/plain": [
       "<matplotlib.patches.Polygon at 0x7fd31b5524d0>"
      ]
     },
     "execution_count": 159,
     "metadata": {},
     "output_type": "execute_result"
    },
    {
     "data": {
      "text/plain": [
       "<matplotlib.patches.Polygon at 0x7fd31b552750>"
      ]
     },
     "execution_count": 159,
     "metadata": {},
     "output_type": "execute_result"
    },
    {
     "data": {
      "text/plain": [
       "<matplotlib.patches.Polygon at 0x7fd31b552e10>"
      ]
     },
     "execution_count": 159,
     "metadata": {},
     "output_type": "execute_result"
    },
    {
     "data": {
      "text/plain": [
       "<matplotlib.patches.Polygon at 0x7fd31b552d10>"
      ]
     },
     "execution_count": 159,
     "metadata": {},
     "output_type": "execute_result"
    },
    {
     "data": {
      "text/plain": [
       "<matplotlib.patches.Polygon at 0x7fd31b5520d0>"
      ]
     },
     "execution_count": 159,
     "metadata": {},
     "output_type": "execute_result"
    },
    {
     "data": {
      "text/plain": [
       "<matplotlib.patches.Polygon at 0x7fd31b552fd0>"
      ]
     },
     "execution_count": 159,
     "metadata": {},
     "output_type": "execute_result"
    },
    {
     "data": {
      "text/plain": [
       "<matplotlib.patches.Polygon at 0x7fd31b55c850>"
      ]
     },
     "execution_count": 159,
     "metadata": {},
     "output_type": "execute_result"
    },
    {
     "data": {
      "text/plain": [
       "<matplotlib.patches.Polygon at 0x7fd31b55ca90>"
      ]
     },
     "execution_count": 159,
     "metadata": {},
     "output_type": "execute_result"
    },
    {
     "data": {
      "text/plain": [
       "<matplotlib.patches.Polygon at 0x7fd31b55cd50>"
      ]
     },
     "execution_count": 159,
     "metadata": {},
     "output_type": "execute_result"
    },
    {
     "data": {
      "text/plain": [
       "<matplotlib.patches.Polygon at 0x7fd31b55cb90>"
      ]
     },
     "execution_count": 159,
     "metadata": {},
     "output_type": "execute_result"
    },
    {
     "data": {
      "text/plain": [
       "<matplotlib.patches.Polygon at 0x7fd31b5521d0>"
      ]
     },
     "execution_count": 159,
     "metadata": {},
     "output_type": "execute_result"
    },
    {
     "data": {
      "text/plain": [
       "<matplotlib.patches.Polygon at 0x7fd31b56d450>"
      ]
     },
     "execution_count": 159,
     "metadata": {},
     "output_type": "execute_result"
    },
    {
     "data": {
      "text/plain": [
       "<matplotlib.patches.Polygon at 0x7fd31b56d750>"
      ]
     },
     "execution_count": 159,
     "metadata": {},
     "output_type": "execute_result"
    },
    {
     "data": {
      "text/plain": [
       "<matplotlib.patches.Polygon at 0x7fd31b56da10>"
      ]
     },
     "execution_count": 159,
     "metadata": {},
     "output_type": "execute_result"
    },
    {
     "data": {
      "text/plain": [
       "<matplotlib.patches.Polygon at 0x7fd31b56dc10>"
      ]
     },
     "execution_count": 159,
     "metadata": {},
     "output_type": "execute_result"
    },
    {
     "data": {
      "text/plain": [
       "<matplotlib.patches.Polygon at 0x7fd31b56df10>"
      ]
     },
     "execution_count": 159,
     "metadata": {},
     "output_type": "execute_result"
    },
    {
     "data": {
      "text/plain": [
       "<matplotlib.patches.Polygon at 0x7fd31b56d190>"
      ]
     },
     "execution_count": 159,
     "metadata": {},
     "output_type": "execute_result"
    },
    {
     "data": {
      "text/plain": [
       "<matplotlib.patches.Polygon at 0x7fd31b56dc50>"
      ]
     },
     "execution_count": 159,
     "metadata": {},
     "output_type": "execute_result"
    },
    {
     "data": {
      "text/plain": [
       "<matplotlib.patches.Polygon at 0x7fd31b56db90>"
      ]
     },
     "execution_count": 159,
     "metadata": {},
     "output_type": "execute_result"
    },
    {
     "data": {
      "text/plain": [
       "<matplotlib.patches.Polygon at 0x7fd31b57c950>"
      ]
     },
     "execution_count": 159,
     "metadata": {},
     "output_type": "execute_result"
    },
    {
     "data": {
      "text/plain": [
       "<matplotlib.patches.Polygon at 0x7fd31b57cb10>"
      ]
     },
     "execution_count": 159,
     "metadata": {},
     "output_type": "execute_result"
    },
    {
     "data": {
      "text/plain": [
       "<matplotlib.patches.Polygon at 0x7fd31b57ce50>"
      ]
     },
     "execution_count": 159,
     "metadata": {},
     "output_type": "execute_result"
    },
    {
     "data": {
      "text/plain": [
       "<matplotlib.patches.Polygon at 0x7fd31b57cfd0>"
      ]
     },
     "execution_count": 159,
     "metadata": {},
     "output_type": "execute_result"
    },
    {
     "data": {
      "text/plain": [
       "<matplotlib.patches.Polygon at 0x7fd31b57ca90>"
      ]
     },
     "execution_count": 159,
     "metadata": {},
     "output_type": "execute_result"
    },
    {
     "data": {
      "text/plain": [
       "<matplotlib.patches.Polygon at 0x7fd31b58b1d0>"
      ]
     },
     "execution_count": 159,
     "metadata": {},
     "output_type": "execute_result"
    },
    {
     "data": {
      "text/plain": [
       "<matplotlib.patches.Polygon at 0x7fd31b58b890>"
      ]
     },
     "execution_count": 159,
     "metadata": {},
     "output_type": "execute_result"
    },
    {
     "data": {
      "text/plain": [
       "<matplotlib.patches.Polygon at 0x7fd31b58bad0>"
      ]
     },
     "execution_count": 159,
     "metadata": {},
     "output_type": "execute_result"
    },
    {
     "data": {
      "text/plain": [
       "<matplotlib.patches.Polygon at 0x7fd31b58b950>"
      ]
     },
     "execution_count": 159,
     "metadata": {},
     "output_type": "execute_result"
    },
    {
     "data": {
      "text/plain": [
       "<matplotlib.patches.Polygon at 0x7fd31b58bfd0>"
      ]
     },
     "execution_count": 159,
     "metadata": {},
     "output_type": "execute_result"
    },
    {
     "data": {
      "text/plain": [
       "<matplotlib.patches.Polygon at 0x7fd31b57c990>"
      ]
     },
     "execution_count": 159,
     "metadata": {},
     "output_type": "execute_result"
    },
    {
     "data": {
      "text/plain": [
       "<matplotlib.patches.Polygon at 0x7fd31b58bd50>"
      ]
     },
     "execution_count": 159,
     "metadata": {},
     "output_type": "execute_result"
    },
    {
     "data": {
      "text/plain": [
       "<matplotlib.patches.Polygon at 0x7fd31b58ba10>"
      ]
     },
     "execution_count": 159,
     "metadata": {},
     "output_type": "execute_result"
    },
    {
     "data": {
      "text/plain": [
       "<matplotlib.patches.Polygon at 0x7fd31b59f610>"
      ]
     },
     "execution_count": 159,
     "metadata": {},
     "output_type": "execute_result"
    },
    {
     "data": {
      "text/plain": [
       "<matplotlib.patches.Polygon at 0x7fd31b59f890>"
      ]
     },
     "execution_count": 159,
     "metadata": {},
     "output_type": "execute_result"
    },
    {
     "data": {
      "text/plain": [
       "<matplotlib.patches.Polygon at 0x7fd31b59ff50>"
      ]
     },
     "execution_count": 159,
     "metadata": {},
     "output_type": "execute_result"
    },
    {
     "data": {
      "text/plain": [
       "<matplotlib.patches.Polygon at 0x7fd31b58bbd0>"
      ]
     },
     "execution_count": 159,
     "metadata": {},
     "output_type": "execute_result"
    },
    {
     "data": {
      "text/plain": [
       "<matplotlib.patches.Polygon at 0x7fd31b58bf50>"
      ]
     },
     "execution_count": 159,
     "metadata": {},
     "output_type": "execute_result"
    },
    {
     "data": {
      "text/plain": [
       "<matplotlib.patches.Polygon at 0x7fd31b59fc50>"
      ]
     },
     "execution_count": 159,
     "metadata": {},
     "output_type": "execute_result"
    },
    {
     "data": {
      "text/plain": [
       "<matplotlib.patches.Polygon at 0x7fd31b5a0990>"
      ]
     },
     "execution_count": 159,
     "metadata": {},
     "output_type": "execute_result"
    },
    {
     "data": {
      "text/plain": [
       "<matplotlib.patches.Polygon at 0x7fd31b5a0c10>"
      ]
     },
     "execution_count": 159,
     "metadata": {},
     "output_type": "execute_result"
    },
    {
     "data": {
      "text/plain": [
       "<matplotlib.patches.Polygon at 0x7fd31b5a0e50>"
      ]
     },
     "execution_count": 159,
     "metadata": {},
     "output_type": "execute_result"
    },
    {
     "data": {
      "text/plain": [
       "<matplotlib.patches.Polygon at 0x7fd31b5a0110>"
      ]
     },
     "execution_count": 159,
     "metadata": {},
     "output_type": "execute_result"
    },
    {
     "data": {
      "text/plain": [
       "<matplotlib.patches.Polygon at 0x7fd31b535990>"
      ]
     },
     "execution_count": 159,
     "metadata": {},
     "output_type": "execute_result"
    },
    {
     "data": {
      "text/plain": [
       "<matplotlib.patches.Polygon at 0x7fd31b5b2050>"
      ]
     },
     "execution_count": 159,
     "metadata": {},
     "output_type": "execute_result"
    },
    {
     "data": {
      "text/plain": [
       "<matplotlib.patches.Polygon at 0x7fd31b5b2090>"
      ]
     },
     "execution_count": 159,
     "metadata": {},
     "output_type": "execute_result"
    },
    {
     "data": {
      "text/plain": [
       "<matplotlib.patches.Polygon at 0x7fd31b5b2a90>"
      ]
     },
     "execution_count": 159,
     "metadata": {},
     "output_type": "execute_result"
    },
    {
     "data": {
      "text/plain": [
       "<matplotlib.patches.Polygon at 0x7fd31b5b2910>"
      ]
     },
     "execution_count": 159,
     "metadata": {},
     "output_type": "execute_result"
    },
    {
     "data": {
      "text/plain": [
       "<matplotlib.patches.Polygon at 0x7fd31b5b2d10>"
      ]
     },
     "execution_count": 159,
     "metadata": {},
     "output_type": "execute_result"
    },
    {
     "data": {
      "text/plain": [
       "<matplotlib.patches.Polygon at 0x7fd31b5b27d0>"
      ]
     },
     "execution_count": 159,
     "metadata": {},
     "output_type": "execute_result"
    },
    {
     "data": {
      "text/plain": [
       "<matplotlib.patches.Polygon at 0x7fd31b5b2fd0>"
      ]
     },
     "execution_count": 159,
     "metadata": {},
     "output_type": "execute_result"
    },
    {
     "data": {
      "text/plain": [
       "<matplotlib.patches.Polygon at 0x7fd31b5b2d90>"
      ]
     },
     "execution_count": 159,
     "metadata": {},
     "output_type": "execute_result"
    },
    {
     "data": {
      "text/plain": [
       "<matplotlib.patches.Polygon at 0x7fd31b5bea50>"
      ]
     },
     "execution_count": 159,
     "metadata": {},
     "output_type": "execute_result"
    },
    {
     "data": {
      "text/plain": [
       "<matplotlib.patches.Polygon at 0x7fd31b5be8d0>"
      ]
     },
     "execution_count": 159,
     "metadata": {},
     "output_type": "execute_result"
    },
    {
     "data": {
      "text/plain": [
       "<matplotlib.patches.Polygon at 0x7fd31b5b2cd0>"
      ]
     },
     "execution_count": 159,
     "metadata": {},
     "output_type": "execute_result"
    },
    {
     "data": {
      "text/plain": [
       "<matplotlib.patches.Polygon at 0x7fd31b5beb50>"
      ]
     },
     "execution_count": 159,
     "metadata": {},
     "output_type": "execute_result"
    },
    {
     "data": {
      "text/plain": [
       "<matplotlib.patches.Polygon at 0x7fd31b5bef90>"
      ]
     },
     "execution_count": 159,
     "metadata": {},
     "output_type": "execute_result"
    },
    {
     "data": {
      "text/plain": [
       "<matplotlib.patches.Polygon at 0x7fd31b5be790>"
      ]
     },
     "execution_count": 159,
     "metadata": {},
     "output_type": "execute_result"
    },
    {
     "data": {
      "text/plain": [
       "<matplotlib.patches.Polygon at 0x7fd31b5cb590>"
      ]
     },
     "execution_count": 159,
     "metadata": {},
     "output_type": "execute_result"
    },
    {
     "data": {
      "text/plain": [
       "<matplotlib.patches.Polygon at 0x7fd31b5cb810>"
      ]
     },
     "execution_count": 159,
     "metadata": {},
     "output_type": "execute_result"
    },
    {
     "data": {
      "text/plain": [
       "<matplotlib.patches.Polygon at 0x7fd31b5cba90>"
      ]
     },
     "execution_count": 159,
     "metadata": {},
     "output_type": "execute_result"
    },
    {
     "data": {
      "text/plain": [
       "<matplotlib.patches.Polygon at 0x7fd31b5cb190>"
      ]
     },
     "execution_count": 159,
     "metadata": {},
     "output_type": "execute_result"
    },
    {
     "data": {
      "text/plain": [
       "<matplotlib.patches.Polygon at 0x7fd31b5cbf90>"
      ]
     },
     "execution_count": 159,
     "metadata": {},
     "output_type": "execute_result"
    },
    {
     "data": {
      "text/plain": [
       "<matplotlib.patches.Polygon at 0x7fd31b5db5d0>"
      ]
     },
     "execution_count": 159,
     "metadata": {},
     "output_type": "execute_result"
    },
    {
     "data": {
      "text/plain": [
       "<matplotlib.patches.Polygon at 0x7fd31b5db550>"
      ]
     },
     "execution_count": 159,
     "metadata": {},
     "output_type": "execute_result"
    },
    {
     "data": {
      "text/plain": [
       "<matplotlib.patches.Polygon at 0x7fd31b5db8d0>"
      ]
     },
     "execution_count": 159,
     "metadata": {},
     "output_type": "execute_result"
    },
    {
     "data": {
      "text/plain": [
       "<matplotlib.patches.Polygon at 0x7fd31b5dbbd0>"
      ]
     },
     "execution_count": 159,
     "metadata": {},
     "output_type": "execute_result"
    },
    {
     "data": {
      "text/plain": [
       "<matplotlib.patches.Polygon at 0x7fd31b5dbed0>"
      ]
     },
     "execution_count": 159,
     "metadata": {},
     "output_type": "execute_result"
    },
    {
     "data": {
      "text/plain": [
       "<matplotlib.patches.Polygon at 0x7fd31b5dbb10>"
      ]
     },
     "execution_count": 159,
     "metadata": {},
     "output_type": "execute_result"
    },
    {
     "data": {
      "text/plain": [
       "<matplotlib.patches.Polygon at 0x7fd31b5db750>"
      ]
     },
     "execution_count": 159,
     "metadata": {},
     "output_type": "execute_result"
    },
    {
     "data": {
      "text/plain": [
       "<matplotlib.patches.Polygon at 0x7fd31b5ef410>"
      ]
     },
     "execution_count": 159,
     "metadata": {},
     "output_type": "execute_result"
    },
    {
     "data": {
      "text/plain": [
       "<matplotlib.patches.Polygon at 0x7fd31b5ef690>"
      ]
     },
     "execution_count": 159,
     "metadata": {},
     "output_type": "execute_result"
    },
    {
     "data": {
      "text/plain": [
       "<matplotlib.patches.Polygon at 0x7fd31b5ef910>"
      ]
     },
     "execution_count": 159,
     "metadata": {},
     "output_type": "execute_result"
    },
    {
     "data": {
      "text/plain": [
       "<matplotlib.patches.Polygon at 0x7fd31b5effd0>"
      ]
     },
     "execution_count": 159,
     "metadata": {},
     "output_type": "execute_result"
    },
    {
     "data": {
      "text/plain": [
       "<matplotlib.patches.Polygon at 0x7fd31b5db090>"
      ]
     },
     "execution_count": 159,
     "metadata": {},
     "output_type": "execute_result"
    },
    {
     "data": {
      "text/plain": [
       "<matplotlib.patches.Polygon at 0x7fd31b5dbd90>"
      ]
     },
     "execution_count": 159,
     "metadata": {},
     "output_type": "execute_result"
    },
    {
     "data": {
      "text/plain": [
       "<matplotlib.patches.Polygon at 0x7fd31b5ef250>"
      ]
     },
     "execution_count": 159,
     "metadata": {},
     "output_type": "execute_result"
    },
    {
     "data": {
      "text/plain": [
       "<matplotlib.patches.Polygon at 0x7fd31b5ff5d0>"
      ]
     },
     "execution_count": 159,
     "metadata": {},
     "output_type": "execute_result"
    },
    {
     "data": {
      "text/plain": [
       "<matplotlib.patches.Polygon at 0x7fd31b5ff850>"
      ]
     },
     "execution_count": 159,
     "metadata": {},
     "output_type": "execute_result"
    },
    {
     "data": {
      "text/plain": [
       "<matplotlib.patches.Polygon at 0x7fd31b5ffed0>"
      ]
     },
     "execution_count": 159,
     "metadata": {},
     "output_type": "execute_result"
    },
    {
     "data": {
      "text/plain": [
       "<matplotlib.patches.Polygon at 0x7fd31b5ffe10>"
      ]
     },
     "execution_count": 159,
     "metadata": {},
     "output_type": "execute_result"
    },
    {
     "data": {
      "text/plain": [
       "<matplotlib.patches.Polygon at 0x7fd31b59fe50>"
      ]
     },
     "execution_count": 159,
     "metadata": {},
     "output_type": "execute_result"
    },
    {
     "data": {
      "text/plain": [
       "<matplotlib.patches.Polygon at 0x7fd31b5ffe50>"
      ]
     },
     "execution_count": 159,
     "metadata": {},
     "output_type": "execute_result"
    },
    {
     "data": {
      "text/plain": [
       "<matplotlib.patches.Polygon at 0x7fd31b60f910>"
      ]
     },
     "execution_count": 159,
     "metadata": {},
     "output_type": "execute_result"
    },
    {
     "data": {
      "text/plain": [
       "<matplotlib.patches.Polygon at 0x7fd31b60fbd0>"
      ]
     },
     "execution_count": 159,
     "metadata": {},
     "output_type": "execute_result"
    },
    {
     "data": {
      "text/plain": [
       "<matplotlib.patches.Polygon at 0x7fd31b60f890>"
      ]
     },
     "execution_count": 159,
     "metadata": {},
     "output_type": "execute_result"
    },
    {
     "data": {
      "text/plain": [
       "<matplotlib.patches.Polygon at 0x7fd31b60fa90>"
      ]
     },
     "execution_count": 159,
     "metadata": {},
     "output_type": "execute_result"
    },
    {
     "data": {
      "text/plain": [
       "<matplotlib.patches.Polygon at 0x7fd31b60f950>"
      ]
     },
     "execution_count": 159,
     "metadata": {},
     "output_type": "execute_result"
    },
    {
     "data": {
      "text/plain": [
       "<matplotlib.patches.Polygon at 0x7fd31b60fa50>"
      ]
     },
     "execution_count": 159,
     "metadata": {},
     "output_type": "execute_result"
    },
    {
     "data": {
      "text/plain": [
       "<matplotlib.patches.Polygon at 0x7fd31b617890>"
      ]
     },
     "execution_count": 159,
     "metadata": {},
     "output_type": "execute_result"
    },
    {
     "data": {
      "text/plain": [
       "<matplotlib.patches.Polygon at 0x7fd31b617ad0>"
      ]
     },
     "execution_count": 159,
     "metadata": {},
     "output_type": "execute_result"
    },
    {
     "data": {
      "text/plain": [
       "<matplotlib.patches.Polygon at 0x7fd31b60ff10>"
      ]
     },
     "execution_count": 159,
     "metadata": {},
     "output_type": "execute_result"
    },
    {
     "data": {
      "text/plain": [
       "<matplotlib.patches.Polygon at 0x7fd31b617fd0>"
      ]
     },
     "execution_count": 159,
     "metadata": {},
     "output_type": "execute_result"
    },
    {
     "data": {
      "text/plain": [
       "<matplotlib.patches.Polygon at 0x7fd31b60ffd0>"
      ]
     },
     "execution_count": 159,
     "metadata": {},
     "output_type": "execute_result"
    },
    {
     "data": {
      "text/plain": [
       "<matplotlib.patches.Polygon at 0x7fd31b617a50>"
      ]
     },
     "execution_count": 159,
     "metadata": {},
     "output_type": "execute_result"
    },
    {
     "data": {
      "text/plain": [
       "<matplotlib.patches.Polygon at 0x7fd31b62d750>"
      ]
     },
     "execution_count": 159,
     "metadata": {},
     "output_type": "execute_result"
    },
    {
     "data": {
      "text/plain": [
       "<matplotlib.patches.Polygon at 0x7fd31b62d990>"
      ]
     },
     "execution_count": 159,
     "metadata": {},
     "output_type": "execute_result"
    },
    {
     "data": {
      "text/plain": [
       "<matplotlib.patches.Polygon at 0x7fd31b62d910>"
      ]
     },
     "execution_count": 159,
     "metadata": {},
     "output_type": "execute_result"
    },
    {
     "data": {
      "text/plain": [
       "<matplotlib.patches.Polygon at 0x7fd31b62de50>"
      ]
     },
     "execution_count": 159,
     "metadata": {},
     "output_type": "execute_result"
    },
    {
     "data": {
      "text/plain": [
       "<matplotlib.patches.Polygon at 0x7fd31b62df50>"
      ]
     },
     "execution_count": 159,
     "metadata": {},
     "output_type": "execute_result"
    },
    {
     "data": {
      "text/plain": [
       "<matplotlib.patches.Polygon at 0x7fd31b62d210>"
      ]
     },
     "execution_count": 159,
     "metadata": {},
     "output_type": "execute_result"
    },
    {
     "data": {
      "text/plain": [
       "<matplotlib.patches.Polygon at 0x7fd31b62d4d0>"
      ]
     },
     "execution_count": 159,
     "metadata": {},
     "output_type": "execute_result"
    },
    {
     "data": {
      "text/plain": [
       "<matplotlib.patches.Polygon at 0x7fd31b62f990>"
      ]
     },
     "execution_count": 159,
     "metadata": {},
     "output_type": "execute_result"
    },
    {
     "data": {
      "text/plain": [
       "<matplotlib.patches.Polygon at 0x7fd31b62fc10>"
      ]
     },
     "execution_count": 159,
     "metadata": {},
     "output_type": "execute_result"
    },
    {
     "data": {
      "text/plain": [
       "<matplotlib.patches.Polygon at 0x7fd31b62fa50>"
      ]
     },
     "execution_count": 159,
     "metadata": {},
     "output_type": "execute_result"
    },
    {
     "data": {
      "text/plain": [
       "<matplotlib.patches.Polygon at 0x7fd31b62f110>"
      ]
     },
     "execution_count": 159,
     "metadata": {},
     "output_type": "execute_result"
    }
   ],
   "source": [
    "fig = plt.figure(figsize = (20,8))\n",
    "gs = fig.add_gridspec(2, hspace = 0, height_ratios=[1,5])\n",
    "axs = gs.subplots(sharex=False, sharey=False)\n",
    "axs[0].plot(ma_fr_gau, color= 'black')\n",
    "axs[0].set_ylabel('Firing Rate [Hz]')\n",
    "axs[1].eventplot(spikearray_seconds, color = 'black', linewidths = 0.5, linelengths = 1)\n",
    "axs[1].set_ylabel('Relevant Channels')\n",
    "\n",
    "for ax in axs:\n",
    "    for i in bursts_seconds:\n",
    "        axs[1].axvspan(i[0], i[1], facecolor = '#118C8C', alpha = 0.3)\n",
    "        axs[1].axvspan(longest_burst_i[0], longest_burst_i[1], facecolor = '#F2727D', alpha = 0.2, label = 'longest network burst')\n",
    "        axs[1].axvspan(longest_ibi_times[0], longest_ibi_times[1], facecolor = '#D7D7D9', alpha = 0.1, ls =':')\n",
    "        \n",
    "#fig.savefig(filename+'raster_and_FR_plot.png', dpi=300)\n",
    "        \n"
   ]
  },
  {
   "cell_type": "code",
   "execution_count": 167,
   "id": "e2a0a623",
   "metadata": {},
   "outputs": [],
   "source": [
    "# next, we want to isolate these two areas for a spade analysis"
   ]
  },
  {
   "cell_type": "code",
   "execution_count": 177,
   "id": "3bf0d1a5",
   "metadata": {},
   "outputs": [],
   "source": [
    "def subdivide_spiketrain(spiketrain, sub_start = 0, sub_stop = 10, tick=tick, scale_factor_for_second=1e-06):\n",
    "    '''\n",
    "    Excpects: \n",
    "        a spiketrain with tick datapoints\n",
    "        default ticks are 40\n",
    "        default scale_factor_for_seconds = 1e-06\n",
    "        provide the start and stop of the desired sub in seconds\n",
    "    \n",
    "    Does:\n",
    "        converts the desired seconds into data ticks\n",
    "        checks if the spikes of the given spiketrain is in the desired subs\n",
    "        substracts the starting time -->\n",
    "        \n",
    "    Returns:\n",
    "        a spiketrain dictionary that again starts from zero\n",
    "    \n",
    "    '''\n",
    "    sub_start_tick = sub_start / (tick*scale_factor_for_second)\n",
    "    sub_stop_tick = sub_stop / (tick*scale_factor_for_second)\n",
    "    sub_spiketrain = {}\n",
    "  \n",
    "    for key in spiketrain: \n",
    "        list_per_key = []\n",
    "        for i in spiketrain[key]:\n",
    "            if (i>=sub_start_tick ) & (i<sub_stop_tick):\n",
    "                list_per_key.append(int(i-sub_start_tick))\n",
    "        sub_spiketrain[key]=list_per_key\n",
    "\n",
    "    return sub_spiketrain"
   ]
  },
  {
   "cell_type": "code",
   "execution_count": 178,
   "id": "9a4c1865",
   "metadata": {},
   "outputs": [
    {
     "data": {
      "text/plain": [
       "[0.7632,\n",
       " 3.530629785714286,\n",
       " 7.154527107973422,\n",
       " 11.332900523255814,\n",
       " 16.06079935215947,\n",
       " 19.43716270431894,\n",
       " 23.189777691029903,\n",
       " 26.774069578073092,\n",
       " 31.279187833887047,\n",
       " 35.87341831893688,\n",
       " 37.62100814784053,\n",
       " 41.79443088372093,\n",
       " 46.75996232392026,\n",
       " 50.98784253322259,\n",
       " 55.05730100166113,\n",
       " 58.74555715614618,\n",
       " 62.706100677740864,\n",
       " 67.83005385880399,\n",
       " 71.97872319767441,\n",
       " 75.46400149667774,\n",
       " 80.42953293687708,\n",
       " 84.97425662790698,\n",
       " 88.51399240033223,\n",
       " 94.08845740697674,\n",
       " 98.34109101328903,\n",
       " 103.76208495847176,\n",
       " 105.57403361960132,\n",
       " 110.03954644019933,\n",
       " 114.35158819933555,\n",
       " 118.94086800498339]"
      ]
     },
     "execution_count": 178,
     "metadata": {},
     "output_type": "execute_result"
    }
   ],
   "source": [
    "burst_seconds_start"
   ]
  },
  {
   "cell_type": "code",
   "execution_count": 179,
   "id": "21220ace",
   "metadata": {},
   "outputs": [
    {
     "data": {
      "text/plain": [
       "[1.7879906362126246,\n",
       " 6.1544898687707645,\n",
       " 9.154601586378737,\n",
       " 13.674571880398672,\n",
       " 18.04107111295681,\n",
       " 21.452089220930233,\n",
       " 25.170049451827243,\n",
       " 29.199902485049837,\n",
       " 33.85849180232558,\n",
       " 37.84873940033223,\n",
       " 39.606230588039864,\n",
       " 44.45294572259136,\n",
       " 48.784790199335546,\n",
       " 53.01762108803987,\n",
       " 57.37421896179402,\n",
       " 60.72582891694352,\n",
       " 65.15668698172757,\n",
       " 69.85983241362126,\n",
       " 74.01840311129568,\n",
       " 78.27598739700997,\n",
       " 82.81080972923588,\n",
       " 86.93472567109634,\n",
       " 91.5091534385382,\n",
       " 96.49943827574751,\n",
       " 101.24713982225914,\n",
       " 105.816616910299,\n",
       " 107.70282576245847,\n",
       " 112.34161236212624,\n",
       " 116.37146539534884,\n",
       " 119.97556]"
      ]
     },
     "execution_count": 179,
     "metadata": {},
     "output_type": "execute_result"
    }
   ],
   "source": [
    "burst_seconds_end"
   ]
  },
  {
   "cell_type": "code",
   "execution_count": 180,
   "id": "53ac0b39",
   "metadata": {},
   "outputs": [],
   "source": [
    "st_longest_burst = subdivide_spiketrain(spikedic_MAD, longest_burst_i[0], longest_burst_i[1])"
   ]
  },
  {
   "cell_type": "code",
   "execution_count": 181,
   "id": "eb37edb5",
   "metadata": {},
   "outputs": [],
   "source": [
    "st_longest_ibi = subdivide_spiketrain(spikedic_MAD, longest_ibi_times[0], longest_ibi_times[1])"
   ]
  },
  {
   "cell_type": "code",
   "execution_count": 182,
   "id": "d626b105",
   "metadata": {},
   "outputs": [
    {
     "data": {
      "text/plain": [
       "2.9951610382059783"
      ]
     },
     "execution_count": 182,
     "metadata": {},
     "output_type": "execute_result"
    }
   ],
   "source": [
    "longest_burst"
   ]
  },
  {
   "cell_type": "code",
   "execution_count": 165,
   "id": "3e9a11c0",
   "metadata": {},
   "outputs": [],
   "source": [
    "# in the next step, we want to find the firing rates for every channel in hertz for these subdivisions\n",
    "\n",
    "longest_burst_firingrate_dic = {}\n",
    "\n",
    "for key in st_longest_burst:\n",
    "    fr_channel = len(st_longest_burst[key])/longest_burst # i.e, number of spikes divided by duration -> results in number per second\n",
    "    longest_burst_firingrate_dic[key] = fr_channel"
   ]
  },
  {
   "cell_type": "code",
   "execution_count": 166,
   "id": "44165a12",
   "metadata": {},
   "outputs": [],
   "source": [
    "# same is done for the longest interburst interval\n",
    "\n",
    "longest_ibi_firingrate_dic = {}\n",
    "\n",
    "for key in st_longest_ibi:\n",
    "    fr_channel = len(st_longest_ibi[key])/longest_ibi # i.e, number of spikes divided by duration -> results in number per second\n",
    "    longest_ibi_firingrate_dic[key] = fr_channel"
   ]
  },
  {
   "cell_type": "code",
   "execution_count": 167,
   "id": "1fc36ada",
   "metadata": {},
   "outputs": [],
   "source": [
    "# and lastly for the whole recording\n",
    "\n",
    "whole_recording_firingrate_dic = {}\n",
    "\n",
    "for key in spikedic_MAD:\n",
    "    fr_channel = len(spikedic_MAD[key])/timelengthrecording_s # i.e, number of spikes divided by duration -> results in number per second\n",
    "    whole_recording_firingrate_dic[key] = fr_channel"
   ]
  },
  {
   "cell_type": "code",
   "execution_count": 168,
   "id": "83461814",
   "metadata": {},
   "outputs": [],
   "source": [
    "# next we plot this on a mea array:\n",
    "\n",
    "mea_array=np.empty((16,16,))\n",
    "mea_array[:]=np.nan\n",
    "columnlist =['A','B','C','D','E','F','G','H','J','K','L','M','N','O','P','R']\n",
    "df = pd.DataFrame(data=mea_array,columns=columnlist)\n",
    "df.index+=1\n",
    "\n",
    "df1 = pd.DataFrame(data=mea_array,columns=columnlist)\n",
    "df1.index+=1\n",
    "\n",
    "df2 = pd.DataFrame(data=mea_array,columns=columnlist)\n",
    "df2.index+=1\n"
   ]
  },
  {
   "cell_type": "code",
   "execution_count": 169,
   "id": "e5d6a8e9",
   "metadata": {},
   "outputs": [],
   "source": [
    "# function to fill the dataframe with the \n",
    "\n",
    "def get_dict_values(df, dic):\n",
    "    \n",
    "    for i in df.columns:\n",
    "        for j in range(0, 16):\n",
    "            keystring = i+str(df.index[j])\n",
    "            #print(keystring)\n",
    "            if keystring in dic.keys():\n",
    "                df.loc[df.index[j],i]=dic[keystring]\n",
    "            \n",
    "                \n",
    "    \n",
    "    return df"
   ]
  },
  {
   "cell_type": "code",
   "execution_count": 170,
   "id": "365c28b5",
   "metadata": {},
   "outputs": [],
   "source": [
    "use_df_copy = df.copy()\n",
    "use_df_copy1 = df1.copy()\n",
    "use_df_copy2 = df2.copy()"
   ]
  },
  {
   "cell_type": "code",
   "execution_count": 171,
   "id": "dd76bc30",
   "metadata": {},
   "outputs": [],
   "source": [
    "#the dataframe for burst\n",
    "\n",
    "\n",
    "df_fr_burst = get_dict_values(use_df_copy, longest_burst_firingrate_dic)"
   ]
  },
  {
   "cell_type": "code",
   "execution_count": 172,
   "id": "33445d23",
   "metadata": {},
   "outputs": [
    {
     "data": {
      "text/html": [
       "<div>\n",
       "<style scoped>\n",
       "    .dataframe tbody tr th:only-of-type {\n",
       "        vertical-align: middle;\n",
       "    }\n",
       "\n",
       "    .dataframe tbody tr th {\n",
       "        vertical-align: top;\n",
       "    }\n",
       "\n",
       "    .dataframe thead th {\n",
       "        text-align: right;\n",
       "    }\n",
       "</style>\n",
       "<table border=\"1\" class=\"dataframe\">\n",
       "  <thead>\n",
       "    <tr style=\"text-align: right;\">\n",
       "      <th></th>\n",
       "      <th>A</th>\n",
       "      <th>B</th>\n",
       "      <th>C</th>\n",
       "      <th>D</th>\n",
       "      <th>E</th>\n",
       "      <th>F</th>\n",
       "      <th>G</th>\n",
       "      <th>H</th>\n",
       "      <th>J</th>\n",
       "      <th>K</th>\n",
       "      <th>L</th>\n",
       "      <th>M</th>\n",
       "      <th>N</th>\n",
       "      <th>O</th>\n",
       "      <th>P</th>\n",
       "      <th>R</th>\n",
       "    </tr>\n",
       "  </thead>\n",
       "  <tbody>\n",
       "    <tr>\n",
       "      <th>1</th>\n",
       "      <td>NaN</td>\n",
       "      <td>0.0</td>\n",
       "      <td>0.000000</td>\n",
       "      <td>0.000000</td>\n",
       "      <td>0.000000</td>\n",
       "      <td>0.000000</td>\n",
       "      <td>0.333872</td>\n",
       "      <td>0.000000</td>\n",
       "      <td>0.000000</td>\n",
       "      <td>0.000000</td>\n",
       "      <td>2.337103</td>\n",
       "      <td>0.333872</td>\n",
       "      <td>0.000000</td>\n",
       "      <td>0.000000</td>\n",
       "      <td>0.000000</td>\n",
       "      <td>NaN</td>\n",
       "    </tr>\n",
       "    <tr>\n",
       "      <th>2</th>\n",
       "      <td>0.0</td>\n",
       "      <td>0.0</td>\n",
       "      <td>0.333872</td>\n",
       "      <td>0.000000</td>\n",
       "      <td>0.000000</td>\n",
       "      <td>1.335487</td>\n",
       "      <td>0.333872</td>\n",
       "      <td>2.003231</td>\n",
       "      <td>4.674206</td>\n",
       "      <td>7.011309</td>\n",
       "      <td>3.338719</td>\n",
       "      <td>0.333872</td>\n",
       "      <td>0.000000</td>\n",
       "      <td>0.000000</td>\n",
       "      <td>0.000000</td>\n",
       "      <td>0.000000</td>\n",
       "    </tr>\n",
       "    <tr>\n",
       "      <th>3</th>\n",
       "      <td>0.0</td>\n",
       "      <td>0.0</td>\n",
       "      <td>0.000000</td>\n",
       "      <td>0.000000</td>\n",
       "      <td>0.000000</td>\n",
       "      <td>0.667744</td>\n",
       "      <td>0.000000</td>\n",
       "      <td>4.006462</td>\n",
       "      <td>0.000000</td>\n",
       "      <td>1.669359</td>\n",
       "      <td>0.333872</td>\n",
       "      <td>0.000000</td>\n",
       "      <td>0.000000</td>\n",
       "      <td>0.000000</td>\n",
       "      <td>0.000000</td>\n",
       "      <td>0.000000</td>\n",
       "    </tr>\n",
       "    <tr>\n",
       "      <th>4</th>\n",
       "      <td>0.0</td>\n",
       "      <td>0.0</td>\n",
       "      <td>0.000000</td>\n",
       "      <td>0.000000</td>\n",
       "      <td>0.000000</td>\n",
       "      <td>0.000000</td>\n",
       "      <td>0.000000</td>\n",
       "      <td>0.000000</td>\n",
       "      <td>0.000000</td>\n",
       "      <td>0.000000</td>\n",
       "      <td>0.000000</td>\n",
       "      <td>0.000000</td>\n",
       "      <td>0.000000</td>\n",
       "      <td>0.000000</td>\n",
       "      <td>0.000000</td>\n",
       "      <td>0.000000</td>\n",
       "    </tr>\n",
       "    <tr>\n",
       "      <th>5</th>\n",
       "      <td>0.0</td>\n",
       "      <td>0.0</td>\n",
       "      <td>0.000000</td>\n",
       "      <td>0.000000</td>\n",
       "      <td>0.000000</td>\n",
       "      <td>0.000000</td>\n",
       "      <td>0.000000</td>\n",
       "      <td>0.000000</td>\n",
       "      <td>0.000000</td>\n",
       "      <td>0.000000</td>\n",
       "      <td>0.000000</td>\n",
       "      <td>0.000000</td>\n",
       "      <td>0.000000</td>\n",
       "      <td>0.000000</td>\n",
       "      <td>0.000000</td>\n",
       "      <td>0.000000</td>\n",
       "    </tr>\n",
       "    <tr>\n",
       "      <th>6</th>\n",
       "      <td>0.0</td>\n",
       "      <td>0.0</td>\n",
       "      <td>0.000000</td>\n",
       "      <td>0.000000</td>\n",
       "      <td>0.000000</td>\n",
       "      <td>0.000000</td>\n",
       "      <td>0.000000</td>\n",
       "      <td>0.000000</td>\n",
       "      <td>0.000000</td>\n",
       "      <td>0.000000</td>\n",
       "      <td>0.000000</td>\n",
       "      <td>0.000000</td>\n",
       "      <td>0.000000</td>\n",
       "      <td>0.000000</td>\n",
       "      <td>0.000000</td>\n",
       "      <td>0.000000</td>\n",
       "    </tr>\n",
       "    <tr>\n",
       "      <th>7</th>\n",
       "      <td>0.0</td>\n",
       "      <td>0.0</td>\n",
       "      <td>0.000000</td>\n",
       "      <td>0.333872</td>\n",
       "      <td>0.000000</td>\n",
       "      <td>0.000000</td>\n",
       "      <td>0.000000</td>\n",
       "      <td>0.000000</td>\n",
       "      <td>0.000000</td>\n",
       "      <td>0.000000</td>\n",
       "      <td>0.000000</td>\n",
       "      <td>0.000000</td>\n",
       "      <td>0.000000</td>\n",
       "      <td>0.000000</td>\n",
       "      <td>0.000000</td>\n",
       "      <td>0.000000</td>\n",
       "    </tr>\n",
       "    <tr>\n",
       "      <th>8</th>\n",
       "      <td>0.0</td>\n",
       "      <td>0.0</td>\n",
       "      <td>0.000000</td>\n",
       "      <td>0.000000</td>\n",
       "      <td>0.000000</td>\n",
       "      <td>0.000000</td>\n",
       "      <td>0.000000</td>\n",
       "      <td>0.000000</td>\n",
       "      <td>0.000000</td>\n",
       "      <td>0.000000</td>\n",
       "      <td>0.000000</td>\n",
       "      <td>0.000000</td>\n",
       "      <td>0.000000</td>\n",
       "      <td>0.000000</td>\n",
       "      <td>0.000000</td>\n",
       "      <td>0.000000</td>\n",
       "    </tr>\n",
       "    <tr>\n",
       "      <th>9</th>\n",
       "      <td>0.0</td>\n",
       "      <td>0.0</td>\n",
       "      <td>0.000000</td>\n",
       "      <td>0.000000</td>\n",
       "      <td>0.000000</td>\n",
       "      <td>0.000000</td>\n",
       "      <td>0.000000</td>\n",
       "      <td>0.000000</td>\n",
       "      <td>0.000000</td>\n",
       "      <td>0.000000</td>\n",
       "      <td>0.000000</td>\n",
       "      <td>0.000000</td>\n",
       "      <td>0.000000</td>\n",
       "      <td>0.000000</td>\n",
       "      <td>0.000000</td>\n",
       "      <td>0.000000</td>\n",
       "    </tr>\n",
       "    <tr>\n",
       "      <th>10</th>\n",
       "      <td>0.0</td>\n",
       "      <td>0.0</td>\n",
       "      <td>0.000000</td>\n",
       "      <td>0.000000</td>\n",
       "      <td>0.000000</td>\n",
       "      <td>0.000000</td>\n",
       "      <td>0.000000</td>\n",
       "      <td>0.000000</td>\n",
       "      <td>0.000000</td>\n",
       "      <td>0.000000</td>\n",
       "      <td>0.333872</td>\n",
       "      <td>0.000000</td>\n",
       "      <td>0.333872</td>\n",
       "      <td>0.000000</td>\n",
       "      <td>0.000000</td>\n",
       "      <td>0.000000</td>\n",
       "    </tr>\n",
       "    <tr>\n",
       "      <th>11</th>\n",
       "      <td>0.0</td>\n",
       "      <td>0.0</td>\n",
       "      <td>0.000000</td>\n",
       "      <td>0.000000</td>\n",
       "      <td>0.000000</td>\n",
       "      <td>0.000000</td>\n",
       "      <td>0.000000</td>\n",
       "      <td>0.000000</td>\n",
       "      <td>0.000000</td>\n",
       "      <td>0.000000</td>\n",
       "      <td>1.335487</td>\n",
       "      <td>2.003231</td>\n",
       "      <td>2.337103</td>\n",
       "      <td>3.004847</td>\n",
       "      <td>3.672591</td>\n",
       "      <td>1.001616</td>\n",
       "    </tr>\n",
       "    <tr>\n",
       "      <th>12</th>\n",
       "      <td>0.0</td>\n",
       "      <td>0.0</td>\n",
       "      <td>0.000000</td>\n",
       "      <td>0.000000</td>\n",
       "      <td>0.000000</td>\n",
       "      <td>0.000000</td>\n",
       "      <td>0.000000</td>\n",
       "      <td>0.000000</td>\n",
       "      <td>0.667744</td>\n",
       "      <td>0.000000</td>\n",
       "      <td>3.672591</td>\n",
       "      <td>6.677437</td>\n",
       "      <td>5.341950</td>\n",
       "      <td>2.337103</td>\n",
       "      <td>0.000000</td>\n",
       "      <td>0.000000</td>\n",
       "    </tr>\n",
       "    <tr>\n",
       "      <th>13</th>\n",
       "      <td>0.0</td>\n",
       "      <td>0.0</td>\n",
       "      <td>0.000000</td>\n",
       "      <td>0.000000</td>\n",
       "      <td>0.000000</td>\n",
       "      <td>0.667744</td>\n",
       "      <td>1.335487</td>\n",
       "      <td>2.003231</td>\n",
       "      <td>2.003231</td>\n",
       "      <td>5.008078</td>\n",
       "      <td>5.675822</td>\n",
       "      <td>5.675822</td>\n",
       "      <td>4.006462</td>\n",
       "      <td>3.004847</td>\n",
       "      <td>3.672591</td>\n",
       "      <td>4.006462</td>\n",
       "    </tr>\n",
       "    <tr>\n",
       "      <th>14</th>\n",
       "      <td>0.0</td>\n",
       "      <td>0.0</td>\n",
       "      <td>0.000000</td>\n",
       "      <td>0.000000</td>\n",
       "      <td>0.000000</td>\n",
       "      <td>2.003231</td>\n",
       "      <td>2.670975</td>\n",
       "      <td>3.338719</td>\n",
       "      <td>3.338719</td>\n",
       "      <td>9.348412</td>\n",
       "      <td>0.000000</td>\n",
       "      <td>2.003231</td>\n",
       "      <td>1.335487</td>\n",
       "      <td>1.335487</td>\n",
       "      <td>0.000000</td>\n",
       "      <td>3.338719</td>\n",
       "    </tr>\n",
       "    <tr>\n",
       "      <th>15</th>\n",
       "      <td>0.0</td>\n",
       "      <td>0.0</td>\n",
       "      <td>0.000000</td>\n",
       "      <td>0.000000</td>\n",
       "      <td>3.338719</td>\n",
       "      <td>9.348412</td>\n",
       "      <td>0.000000</td>\n",
       "      <td>1.335487</td>\n",
       "      <td>3.004847</td>\n",
       "      <td>0.000000</td>\n",
       "      <td>2.003231</td>\n",
       "      <td>0.000000</td>\n",
       "      <td>0.000000</td>\n",
       "      <td>0.000000</td>\n",
       "      <td>0.333872</td>\n",
       "      <td>0.333872</td>\n",
       "    </tr>\n",
       "    <tr>\n",
       "      <th>16</th>\n",
       "      <td>NaN</td>\n",
       "      <td>0.0</td>\n",
       "      <td>0.000000</td>\n",
       "      <td>0.000000</td>\n",
       "      <td>0.000000</td>\n",
       "      <td>0.000000</td>\n",
       "      <td>0.000000</td>\n",
       "      <td>0.000000</td>\n",
       "      <td>0.000000</td>\n",
       "      <td>0.000000</td>\n",
       "      <td>0.000000</td>\n",
       "      <td>0.000000</td>\n",
       "      <td>0.000000</td>\n",
       "      <td>0.000000</td>\n",
       "      <td>0.000000</td>\n",
       "      <td>NaN</td>\n",
       "    </tr>\n",
       "  </tbody>\n",
       "</table>\n",
       "</div>"
      ],
      "text/plain": [
       "      A    B         C         D         E         F         G         H  \\\n",
       "1   NaN  0.0  0.000000  0.000000  0.000000  0.000000  0.333872  0.000000   \n",
       "2   0.0  0.0  0.333872  0.000000  0.000000  1.335487  0.333872  2.003231   \n",
       "3   0.0  0.0  0.000000  0.000000  0.000000  0.667744  0.000000  4.006462   \n",
       "4   0.0  0.0  0.000000  0.000000  0.000000  0.000000  0.000000  0.000000   \n",
       "5   0.0  0.0  0.000000  0.000000  0.000000  0.000000  0.000000  0.000000   \n",
       "6   0.0  0.0  0.000000  0.000000  0.000000  0.000000  0.000000  0.000000   \n",
       "7   0.0  0.0  0.000000  0.333872  0.000000  0.000000  0.000000  0.000000   \n",
       "8   0.0  0.0  0.000000  0.000000  0.000000  0.000000  0.000000  0.000000   \n",
       "9   0.0  0.0  0.000000  0.000000  0.000000  0.000000  0.000000  0.000000   \n",
       "10  0.0  0.0  0.000000  0.000000  0.000000  0.000000  0.000000  0.000000   \n",
       "11  0.0  0.0  0.000000  0.000000  0.000000  0.000000  0.000000  0.000000   \n",
       "12  0.0  0.0  0.000000  0.000000  0.000000  0.000000  0.000000  0.000000   \n",
       "13  0.0  0.0  0.000000  0.000000  0.000000  0.667744  1.335487  2.003231   \n",
       "14  0.0  0.0  0.000000  0.000000  0.000000  2.003231  2.670975  3.338719   \n",
       "15  0.0  0.0  0.000000  0.000000  3.338719  9.348412  0.000000  1.335487   \n",
       "16  NaN  0.0  0.000000  0.000000  0.000000  0.000000  0.000000  0.000000   \n",
       "\n",
       "           J         K         L         M         N         O         P  \\\n",
       "1   0.000000  0.000000  2.337103  0.333872  0.000000  0.000000  0.000000   \n",
       "2   4.674206  7.011309  3.338719  0.333872  0.000000  0.000000  0.000000   \n",
       "3   0.000000  1.669359  0.333872  0.000000  0.000000  0.000000  0.000000   \n",
       "4   0.000000  0.000000  0.000000  0.000000  0.000000  0.000000  0.000000   \n",
       "5   0.000000  0.000000  0.000000  0.000000  0.000000  0.000000  0.000000   \n",
       "6   0.000000  0.000000  0.000000  0.000000  0.000000  0.000000  0.000000   \n",
       "7   0.000000  0.000000  0.000000  0.000000  0.000000  0.000000  0.000000   \n",
       "8   0.000000  0.000000  0.000000  0.000000  0.000000  0.000000  0.000000   \n",
       "9   0.000000  0.000000  0.000000  0.000000  0.000000  0.000000  0.000000   \n",
       "10  0.000000  0.000000  0.333872  0.000000  0.333872  0.000000  0.000000   \n",
       "11  0.000000  0.000000  1.335487  2.003231  2.337103  3.004847  3.672591   \n",
       "12  0.667744  0.000000  3.672591  6.677437  5.341950  2.337103  0.000000   \n",
       "13  2.003231  5.008078  5.675822  5.675822  4.006462  3.004847  3.672591   \n",
       "14  3.338719  9.348412  0.000000  2.003231  1.335487  1.335487  0.000000   \n",
       "15  3.004847  0.000000  2.003231  0.000000  0.000000  0.000000  0.333872   \n",
       "16  0.000000  0.000000  0.000000  0.000000  0.000000  0.000000  0.000000   \n",
       "\n",
       "           R  \n",
       "1        NaN  \n",
       "2   0.000000  \n",
       "3   0.000000  \n",
       "4   0.000000  \n",
       "5   0.000000  \n",
       "6   0.000000  \n",
       "7   0.000000  \n",
       "8   0.000000  \n",
       "9   0.000000  \n",
       "10  0.000000  \n",
       "11  1.001616  \n",
       "12  0.000000  \n",
       "13  4.006462  \n",
       "14  3.338719  \n",
       "15  0.333872  \n",
       "16       NaN  "
      ]
     },
     "execution_count": 172,
     "metadata": {},
     "output_type": "execute_result"
    }
   ],
   "source": [
    "df_fr_burst"
   ]
  },
  {
   "cell_type": "code",
   "execution_count": 173,
   "id": "c346bc26",
   "metadata": {},
   "outputs": [],
   "source": [
    "# data frame for interburst interval\n",
    "df_fr_ibi = get_dict_values(use_df_copy1, longest_ibi_firingrate_dic)"
   ]
  },
  {
   "cell_type": "code",
   "execution_count": 174,
   "id": "ad649dd6",
   "metadata": {},
   "outputs": [
    {
     "data": {
      "text/html": [
       "<div>\n",
       "<style scoped>\n",
       "    .dataframe tbody tr th:only-of-type {\n",
       "        vertical-align: middle;\n",
       "    }\n",
       "\n",
       "    .dataframe tbody tr th {\n",
       "        vertical-align: top;\n",
       "    }\n",
       "\n",
       "    .dataframe thead th {\n",
       "        text-align: right;\n",
       "    }\n",
       "</style>\n",
       "<table border=\"1\" class=\"dataframe\">\n",
       "  <thead>\n",
       "    <tr style=\"text-align: right;\">\n",
       "      <th></th>\n",
       "      <th>A</th>\n",
       "      <th>B</th>\n",
       "      <th>C</th>\n",
       "      <th>D</th>\n",
       "      <th>E</th>\n",
       "      <th>F</th>\n",
       "      <th>G</th>\n",
       "      <th>H</th>\n",
       "      <th>J</th>\n",
       "      <th>K</th>\n",
       "      <th>L</th>\n",
       "      <th>M</th>\n",
       "      <th>N</th>\n",
       "      <th>O</th>\n",
       "      <th>P</th>\n",
       "      <th>R</th>\n",
       "    </tr>\n",
       "  </thead>\n",
       "  <tbody>\n",
       "    <tr>\n",
       "      <th>1</th>\n",
       "      <td>NaN</td>\n",
       "      <td>0.0</td>\n",
       "      <td>0.000000</td>\n",
       "      <td>0.000000</td>\n",
       "      <td>0.000000</td>\n",
       "      <td>0.000000</td>\n",
       "      <td>0.333872</td>\n",
       "      <td>0.000000</td>\n",
       "      <td>0.000000</td>\n",
       "      <td>0.000000</td>\n",
       "      <td>2.337103</td>\n",
       "      <td>0.333872</td>\n",
       "      <td>0.000000</td>\n",
       "      <td>0.000000</td>\n",
       "      <td>0.000000</td>\n",
       "      <td>NaN</td>\n",
       "    </tr>\n",
       "    <tr>\n",
       "      <th>2</th>\n",
       "      <td>0.0</td>\n",
       "      <td>0.0</td>\n",
       "      <td>0.333872</td>\n",
       "      <td>0.000000</td>\n",
       "      <td>0.000000</td>\n",
       "      <td>1.335487</td>\n",
       "      <td>0.333872</td>\n",
       "      <td>2.003231</td>\n",
       "      <td>4.674206</td>\n",
       "      <td>7.011309</td>\n",
       "      <td>3.338719</td>\n",
       "      <td>0.333872</td>\n",
       "      <td>0.000000</td>\n",
       "      <td>0.000000</td>\n",
       "      <td>0.000000</td>\n",
       "      <td>0.000000</td>\n",
       "    </tr>\n",
       "    <tr>\n",
       "      <th>3</th>\n",
       "      <td>0.0</td>\n",
       "      <td>0.0</td>\n",
       "      <td>0.000000</td>\n",
       "      <td>0.000000</td>\n",
       "      <td>0.000000</td>\n",
       "      <td>0.667744</td>\n",
       "      <td>0.000000</td>\n",
       "      <td>4.006462</td>\n",
       "      <td>0.000000</td>\n",
       "      <td>1.669359</td>\n",
       "      <td>0.333872</td>\n",
       "      <td>0.000000</td>\n",
       "      <td>0.000000</td>\n",
       "      <td>0.000000</td>\n",
       "      <td>0.000000</td>\n",
       "      <td>0.000000</td>\n",
       "    </tr>\n",
       "    <tr>\n",
       "      <th>4</th>\n",
       "      <td>0.0</td>\n",
       "      <td>0.0</td>\n",
       "      <td>0.000000</td>\n",
       "      <td>0.000000</td>\n",
       "      <td>0.000000</td>\n",
       "      <td>0.000000</td>\n",
       "      <td>0.000000</td>\n",
       "      <td>0.000000</td>\n",
       "      <td>0.000000</td>\n",
       "      <td>0.000000</td>\n",
       "      <td>0.000000</td>\n",
       "      <td>0.000000</td>\n",
       "      <td>0.000000</td>\n",
       "      <td>0.000000</td>\n",
       "      <td>0.000000</td>\n",
       "      <td>0.000000</td>\n",
       "    </tr>\n",
       "    <tr>\n",
       "      <th>5</th>\n",
       "      <td>0.0</td>\n",
       "      <td>0.0</td>\n",
       "      <td>0.000000</td>\n",
       "      <td>0.000000</td>\n",
       "      <td>0.000000</td>\n",
       "      <td>0.000000</td>\n",
       "      <td>0.000000</td>\n",
       "      <td>0.000000</td>\n",
       "      <td>0.000000</td>\n",
       "      <td>0.000000</td>\n",
       "      <td>0.000000</td>\n",
       "      <td>0.000000</td>\n",
       "      <td>0.000000</td>\n",
       "      <td>0.000000</td>\n",
       "      <td>0.000000</td>\n",
       "      <td>0.000000</td>\n",
       "    </tr>\n",
       "    <tr>\n",
       "      <th>6</th>\n",
       "      <td>0.0</td>\n",
       "      <td>0.0</td>\n",
       "      <td>0.000000</td>\n",
       "      <td>0.000000</td>\n",
       "      <td>0.000000</td>\n",
       "      <td>0.000000</td>\n",
       "      <td>0.000000</td>\n",
       "      <td>0.000000</td>\n",
       "      <td>0.000000</td>\n",
       "      <td>0.000000</td>\n",
       "      <td>0.000000</td>\n",
       "      <td>0.000000</td>\n",
       "      <td>0.000000</td>\n",
       "      <td>0.000000</td>\n",
       "      <td>0.000000</td>\n",
       "      <td>0.000000</td>\n",
       "    </tr>\n",
       "    <tr>\n",
       "      <th>7</th>\n",
       "      <td>0.0</td>\n",
       "      <td>0.0</td>\n",
       "      <td>0.000000</td>\n",
       "      <td>0.333872</td>\n",
       "      <td>0.000000</td>\n",
       "      <td>0.000000</td>\n",
       "      <td>0.000000</td>\n",
       "      <td>0.000000</td>\n",
       "      <td>0.000000</td>\n",
       "      <td>0.000000</td>\n",
       "      <td>0.000000</td>\n",
       "      <td>0.000000</td>\n",
       "      <td>0.000000</td>\n",
       "      <td>0.000000</td>\n",
       "      <td>0.000000</td>\n",
       "      <td>0.000000</td>\n",
       "    </tr>\n",
       "    <tr>\n",
       "      <th>8</th>\n",
       "      <td>0.0</td>\n",
       "      <td>0.0</td>\n",
       "      <td>0.000000</td>\n",
       "      <td>0.000000</td>\n",
       "      <td>0.000000</td>\n",
       "      <td>0.000000</td>\n",
       "      <td>0.000000</td>\n",
       "      <td>0.000000</td>\n",
       "      <td>0.000000</td>\n",
       "      <td>0.000000</td>\n",
       "      <td>0.000000</td>\n",
       "      <td>0.000000</td>\n",
       "      <td>0.000000</td>\n",
       "      <td>0.000000</td>\n",
       "      <td>0.000000</td>\n",
       "      <td>0.000000</td>\n",
       "    </tr>\n",
       "    <tr>\n",
       "      <th>9</th>\n",
       "      <td>0.0</td>\n",
       "      <td>0.0</td>\n",
       "      <td>0.000000</td>\n",
       "      <td>0.000000</td>\n",
       "      <td>0.000000</td>\n",
       "      <td>0.000000</td>\n",
       "      <td>0.000000</td>\n",
       "      <td>0.000000</td>\n",
       "      <td>0.000000</td>\n",
       "      <td>0.000000</td>\n",
       "      <td>0.000000</td>\n",
       "      <td>0.000000</td>\n",
       "      <td>0.000000</td>\n",
       "      <td>0.000000</td>\n",
       "      <td>0.000000</td>\n",
       "      <td>0.000000</td>\n",
       "    </tr>\n",
       "    <tr>\n",
       "      <th>10</th>\n",
       "      <td>0.0</td>\n",
       "      <td>0.0</td>\n",
       "      <td>0.000000</td>\n",
       "      <td>0.000000</td>\n",
       "      <td>0.000000</td>\n",
       "      <td>0.000000</td>\n",
       "      <td>0.000000</td>\n",
       "      <td>0.000000</td>\n",
       "      <td>0.000000</td>\n",
       "      <td>0.000000</td>\n",
       "      <td>0.333872</td>\n",
       "      <td>0.000000</td>\n",
       "      <td>0.333872</td>\n",
       "      <td>0.000000</td>\n",
       "      <td>0.000000</td>\n",
       "      <td>0.000000</td>\n",
       "    </tr>\n",
       "    <tr>\n",
       "      <th>11</th>\n",
       "      <td>0.0</td>\n",
       "      <td>0.0</td>\n",
       "      <td>0.000000</td>\n",
       "      <td>0.000000</td>\n",
       "      <td>0.000000</td>\n",
       "      <td>0.000000</td>\n",
       "      <td>0.000000</td>\n",
       "      <td>0.000000</td>\n",
       "      <td>0.000000</td>\n",
       "      <td>0.000000</td>\n",
       "      <td>1.335487</td>\n",
       "      <td>2.003231</td>\n",
       "      <td>2.337103</td>\n",
       "      <td>3.004847</td>\n",
       "      <td>3.672591</td>\n",
       "      <td>1.001616</td>\n",
       "    </tr>\n",
       "    <tr>\n",
       "      <th>12</th>\n",
       "      <td>0.0</td>\n",
       "      <td>0.0</td>\n",
       "      <td>0.000000</td>\n",
       "      <td>0.000000</td>\n",
       "      <td>0.000000</td>\n",
       "      <td>0.000000</td>\n",
       "      <td>0.000000</td>\n",
       "      <td>0.000000</td>\n",
       "      <td>0.667744</td>\n",
       "      <td>0.000000</td>\n",
       "      <td>3.672591</td>\n",
       "      <td>6.677437</td>\n",
       "      <td>5.341950</td>\n",
       "      <td>2.337103</td>\n",
       "      <td>0.000000</td>\n",
       "      <td>0.000000</td>\n",
       "    </tr>\n",
       "    <tr>\n",
       "      <th>13</th>\n",
       "      <td>0.0</td>\n",
       "      <td>0.0</td>\n",
       "      <td>0.000000</td>\n",
       "      <td>0.000000</td>\n",
       "      <td>0.000000</td>\n",
       "      <td>0.667744</td>\n",
       "      <td>1.335487</td>\n",
       "      <td>2.003231</td>\n",
       "      <td>2.003231</td>\n",
       "      <td>5.008078</td>\n",
       "      <td>5.675822</td>\n",
       "      <td>5.675822</td>\n",
       "      <td>4.006462</td>\n",
       "      <td>3.004847</td>\n",
       "      <td>3.672591</td>\n",
       "      <td>4.006462</td>\n",
       "    </tr>\n",
       "    <tr>\n",
       "      <th>14</th>\n",
       "      <td>0.0</td>\n",
       "      <td>0.0</td>\n",
       "      <td>0.000000</td>\n",
       "      <td>0.000000</td>\n",
       "      <td>0.000000</td>\n",
       "      <td>2.003231</td>\n",
       "      <td>2.670975</td>\n",
       "      <td>3.338719</td>\n",
       "      <td>3.338719</td>\n",
       "      <td>9.348412</td>\n",
       "      <td>0.000000</td>\n",
       "      <td>2.003231</td>\n",
       "      <td>1.335487</td>\n",
       "      <td>1.335487</td>\n",
       "      <td>0.000000</td>\n",
       "      <td>3.338719</td>\n",
       "    </tr>\n",
       "    <tr>\n",
       "      <th>15</th>\n",
       "      <td>0.0</td>\n",
       "      <td>0.0</td>\n",
       "      <td>0.000000</td>\n",
       "      <td>0.000000</td>\n",
       "      <td>3.338719</td>\n",
       "      <td>9.348412</td>\n",
       "      <td>0.000000</td>\n",
       "      <td>1.335487</td>\n",
       "      <td>3.004847</td>\n",
       "      <td>0.000000</td>\n",
       "      <td>2.003231</td>\n",
       "      <td>0.000000</td>\n",
       "      <td>0.000000</td>\n",
       "      <td>0.000000</td>\n",
       "      <td>0.333872</td>\n",
       "      <td>0.333872</td>\n",
       "    </tr>\n",
       "    <tr>\n",
       "      <th>16</th>\n",
       "      <td>NaN</td>\n",
       "      <td>0.0</td>\n",
       "      <td>0.000000</td>\n",
       "      <td>0.000000</td>\n",
       "      <td>0.000000</td>\n",
       "      <td>0.000000</td>\n",
       "      <td>0.000000</td>\n",
       "      <td>0.000000</td>\n",
       "      <td>0.000000</td>\n",
       "      <td>0.000000</td>\n",
       "      <td>0.000000</td>\n",
       "      <td>0.000000</td>\n",
       "      <td>0.000000</td>\n",
       "      <td>0.000000</td>\n",
       "      <td>0.000000</td>\n",
       "      <td>NaN</td>\n",
       "    </tr>\n",
       "  </tbody>\n",
       "</table>\n",
       "</div>"
      ],
      "text/plain": [
       "      A    B         C         D         E         F         G         H  \\\n",
       "1   NaN  0.0  0.000000  0.000000  0.000000  0.000000  0.333872  0.000000   \n",
       "2   0.0  0.0  0.333872  0.000000  0.000000  1.335487  0.333872  2.003231   \n",
       "3   0.0  0.0  0.000000  0.000000  0.000000  0.667744  0.000000  4.006462   \n",
       "4   0.0  0.0  0.000000  0.000000  0.000000  0.000000  0.000000  0.000000   \n",
       "5   0.0  0.0  0.000000  0.000000  0.000000  0.000000  0.000000  0.000000   \n",
       "6   0.0  0.0  0.000000  0.000000  0.000000  0.000000  0.000000  0.000000   \n",
       "7   0.0  0.0  0.000000  0.333872  0.000000  0.000000  0.000000  0.000000   \n",
       "8   0.0  0.0  0.000000  0.000000  0.000000  0.000000  0.000000  0.000000   \n",
       "9   0.0  0.0  0.000000  0.000000  0.000000  0.000000  0.000000  0.000000   \n",
       "10  0.0  0.0  0.000000  0.000000  0.000000  0.000000  0.000000  0.000000   \n",
       "11  0.0  0.0  0.000000  0.000000  0.000000  0.000000  0.000000  0.000000   \n",
       "12  0.0  0.0  0.000000  0.000000  0.000000  0.000000  0.000000  0.000000   \n",
       "13  0.0  0.0  0.000000  0.000000  0.000000  0.667744  1.335487  2.003231   \n",
       "14  0.0  0.0  0.000000  0.000000  0.000000  2.003231  2.670975  3.338719   \n",
       "15  0.0  0.0  0.000000  0.000000  3.338719  9.348412  0.000000  1.335487   \n",
       "16  NaN  0.0  0.000000  0.000000  0.000000  0.000000  0.000000  0.000000   \n",
       "\n",
       "           J         K         L         M         N         O         P  \\\n",
       "1   0.000000  0.000000  2.337103  0.333872  0.000000  0.000000  0.000000   \n",
       "2   4.674206  7.011309  3.338719  0.333872  0.000000  0.000000  0.000000   \n",
       "3   0.000000  1.669359  0.333872  0.000000  0.000000  0.000000  0.000000   \n",
       "4   0.000000  0.000000  0.000000  0.000000  0.000000  0.000000  0.000000   \n",
       "5   0.000000  0.000000  0.000000  0.000000  0.000000  0.000000  0.000000   \n",
       "6   0.000000  0.000000  0.000000  0.000000  0.000000  0.000000  0.000000   \n",
       "7   0.000000  0.000000  0.000000  0.000000  0.000000  0.000000  0.000000   \n",
       "8   0.000000  0.000000  0.000000  0.000000  0.000000  0.000000  0.000000   \n",
       "9   0.000000  0.000000  0.000000  0.000000  0.000000  0.000000  0.000000   \n",
       "10  0.000000  0.000000  0.333872  0.000000  0.333872  0.000000  0.000000   \n",
       "11  0.000000  0.000000  1.335487  2.003231  2.337103  3.004847  3.672591   \n",
       "12  0.667744  0.000000  3.672591  6.677437  5.341950  2.337103  0.000000   \n",
       "13  2.003231  5.008078  5.675822  5.675822  4.006462  3.004847  3.672591   \n",
       "14  3.338719  9.348412  0.000000  2.003231  1.335487  1.335487  0.000000   \n",
       "15  3.004847  0.000000  2.003231  0.000000  0.000000  0.000000  0.333872   \n",
       "16  0.000000  0.000000  0.000000  0.000000  0.000000  0.000000  0.000000   \n",
       "\n",
       "           R  \n",
       "1        NaN  \n",
       "2   0.000000  \n",
       "3   0.000000  \n",
       "4   0.000000  \n",
       "5   0.000000  \n",
       "6   0.000000  \n",
       "7   0.000000  \n",
       "8   0.000000  \n",
       "9   0.000000  \n",
       "10  0.000000  \n",
       "11  1.001616  \n",
       "12  0.000000  \n",
       "13  4.006462  \n",
       "14  3.338719  \n",
       "15  0.333872  \n",
       "16       NaN  "
      ]
     },
     "execution_count": 174,
     "metadata": {},
     "output_type": "execute_result"
    }
   ],
   "source": [
    "df_fr_burst"
   ]
  },
  {
   "cell_type": "code",
   "execution_count": null,
   "id": "5d8c1c95",
   "metadata": {},
   "outputs": [],
   "source": []
  },
  {
   "cell_type": "code",
   "execution_count": 199,
   "id": "889153d7",
   "metadata": {},
   "outputs": [
    {
     "data": {
      "application/vnd.jupyter.widget-view+json": {
       "model_id": "6c5055ece2b542d7b148bfe43622c856",
       "version_major": 2,
       "version_minor": 0
      },
      "text/plain": [
       "Canvas(toolbar=Toolbar(toolitems=[('Home', 'Reset original view', 'home', 'home'), ('Back', 'Back to previous …"
      ]
     },
     "metadata": {},
     "output_type": "display_data"
    },
    {
     "data": {
      "text/plain": [
       "Text(0.5, 0.98, '2021-05-17_cortex_div11_aCSF_ID046_30µMNE_spont_1')"
      ]
     },
     "execution_count": 199,
     "metadata": {},
     "output_type": "execute_result"
    },
    {
     "data": {
      "text/plain": [
       "<AxesSubplot:>"
      ]
     },
     "execution_count": 199,
     "metadata": {},
     "output_type": "execute_result"
    },
    {
     "data": {
      "text/plain": [
       "Text(0.5, 1.0, 'Firing Rate per Channel - No Burst')"
      ]
     },
     "execution_count": 199,
     "metadata": {},
     "output_type": "execute_result"
    },
    {
     "data": {
      "text/plain": [
       "<AxesSubplot:>"
      ]
     },
     "execution_count": 199,
     "metadata": {},
     "output_type": "execute_result"
    },
    {
     "data": {
      "text/plain": [
       "Text(0.5, 1.0, 'Firing Rate per Channel - Burst')"
      ]
     },
     "execution_count": 199,
     "metadata": {},
     "output_type": "execute_result"
    }
   ],
   "source": [
    "f, (ax1, ax2) = plt.subplots(1,2, figsize=(10, 4))\n",
    "\n",
    "f.suptitle(filename)\n",
    "sns.heatmap(df_fr_ibi, annot=False, linewidths=.2, ax=ax1, cmap=\"rocket_r\", vmax=7)\n",
    "ax1.set_title('Firing Rate per Channel - No Burst')\n",
    "\n",
    "\n",
    "sns.heatmap(df_fr_burst, annot=False, linewidths=.2, ax=ax2, cmap=\"rocket_r\", vmax=7)\n",
    "ax2.set_title('Firing Rate per Channel - Burst')\n",
    "\n",
    "#f.savefig(filename+'_MEA_Heatmap.png', dpi = 300)\n",
    "\n"
   ]
  },
  {
   "cell_type": "code",
   "execution_count": 200,
   "id": "5c652e64",
   "metadata": {},
   "outputs": [],
   "source": [
    "df_fr_whole = get_dict_values(use_df_copy2, whole_recording_firingrate_dic)"
   ]
  },
  {
   "cell_type": "code",
   "execution_count": 201,
   "id": "2deda97e",
   "metadata": {},
   "outputs": [
    {
     "data": {
      "text/html": [
       "<div>\n",
       "<style scoped>\n",
       "    .dataframe tbody tr th:only-of-type {\n",
       "        vertical-align: middle;\n",
       "    }\n",
       "\n",
       "    .dataframe tbody tr th {\n",
       "        vertical-align: top;\n",
       "    }\n",
       "\n",
       "    .dataframe thead th {\n",
       "        text-align: right;\n",
       "    }\n",
       "</style>\n",
       "<table border=\"1\" class=\"dataframe\">\n",
       "  <thead>\n",
       "    <tr style=\"text-align: right;\">\n",
       "      <th></th>\n",
       "      <th>A</th>\n",
       "      <th>B</th>\n",
       "      <th>C</th>\n",
       "      <th>D</th>\n",
       "      <th>E</th>\n",
       "      <th>F</th>\n",
       "      <th>G</th>\n",
       "      <th>H</th>\n",
       "      <th>J</th>\n",
       "      <th>K</th>\n",
       "      <th>L</th>\n",
       "      <th>M</th>\n",
       "      <th>N</th>\n",
       "      <th>O</th>\n",
       "      <th>P</th>\n",
       "      <th>R</th>\n",
       "    </tr>\n",
       "  </thead>\n",
       "  <tbody>\n",
       "    <tr>\n",
       "      <th>1</th>\n",
       "      <td>NaN</td>\n",
       "      <td>0.008306</td>\n",
       "      <td>0.000000</td>\n",
       "      <td>0.000000</td>\n",
       "      <td>0.000000</td>\n",
       "      <td>0.008306</td>\n",
       "      <td>0.107973</td>\n",
       "      <td>0.257475</td>\n",
       "      <td>0.091362</td>\n",
       "      <td>0.124585</td>\n",
       "      <td>1.154485</td>\n",
       "      <td>0.058140</td>\n",
       "      <td>0.000000</td>\n",
       "      <td>0.000000</td>\n",
       "      <td>0.000000</td>\n",
       "      <td>NaN</td>\n",
       "    </tr>\n",
       "    <tr>\n",
       "      <th>2</th>\n",
       "      <td>0.008306</td>\n",
       "      <td>0.000000</td>\n",
       "      <td>0.107973</td>\n",
       "      <td>0.000000</td>\n",
       "      <td>0.000000</td>\n",
       "      <td>0.813953</td>\n",
       "      <td>0.440199</td>\n",
       "      <td>1.428571</td>\n",
       "      <td>2.126246</td>\n",
       "      <td>3.106312</td>\n",
       "      <td>2.616279</td>\n",
       "      <td>0.182724</td>\n",
       "      <td>0.000000</td>\n",
       "      <td>0.000000</td>\n",
       "      <td>0.000000</td>\n",
       "      <td>0.008306</td>\n",
       "    </tr>\n",
       "    <tr>\n",
       "      <th>3</th>\n",
       "      <td>0.016611</td>\n",
       "      <td>0.016611</td>\n",
       "      <td>0.000000</td>\n",
       "      <td>0.000000</td>\n",
       "      <td>0.041528</td>\n",
       "      <td>0.249169</td>\n",
       "      <td>0.049834</td>\n",
       "      <td>1.378738</td>\n",
       "      <td>0.357143</td>\n",
       "      <td>0.639535</td>\n",
       "      <td>0.099668</td>\n",
       "      <td>0.000000</td>\n",
       "      <td>0.008306</td>\n",
       "      <td>0.000000</td>\n",
       "      <td>0.000000</td>\n",
       "      <td>0.000000</td>\n",
       "    </tr>\n",
       "    <tr>\n",
       "      <th>4</th>\n",
       "      <td>0.016611</td>\n",
       "      <td>0.008306</td>\n",
       "      <td>0.008306</td>\n",
       "      <td>0.008306</td>\n",
       "      <td>0.008306</td>\n",
       "      <td>0.008306</td>\n",
       "      <td>0.008306</td>\n",
       "      <td>0.016611</td>\n",
       "      <td>0.000000</td>\n",
       "      <td>0.174419</td>\n",
       "      <td>0.000000</td>\n",
       "      <td>0.000000</td>\n",
       "      <td>0.000000</td>\n",
       "      <td>0.000000</td>\n",
       "      <td>0.000000</td>\n",
       "      <td>0.008306</td>\n",
       "    </tr>\n",
       "    <tr>\n",
       "      <th>5</th>\n",
       "      <td>0.008306</td>\n",
       "      <td>0.000000</td>\n",
       "      <td>0.000000</td>\n",
       "      <td>0.016611</td>\n",
       "      <td>0.000000</td>\n",
       "      <td>0.016611</td>\n",
       "      <td>0.008306</td>\n",
       "      <td>0.000000</td>\n",
       "      <td>0.000000</td>\n",
       "      <td>0.000000</td>\n",
       "      <td>0.008306</td>\n",
       "      <td>0.008306</td>\n",
       "      <td>0.000000</td>\n",
       "      <td>0.000000</td>\n",
       "      <td>0.016611</td>\n",
       "      <td>0.008306</td>\n",
       "    </tr>\n",
       "    <tr>\n",
       "      <th>6</th>\n",
       "      <td>0.000000</td>\n",
       "      <td>0.000000</td>\n",
       "      <td>0.000000</td>\n",
       "      <td>0.008306</td>\n",
       "      <td>0.000000</td>\n",
       "      <td>0.008306</td>\n",
       "      <td>0.000000</td>\n",
       "      <td>0.000000</td>\n",
       "      <td>0.000000</td>\n",
       "      <td>0.000000</td>\n",
       "      <td>0.008306</td>\n",
       "      <td>0.000000</td>\n",
       "      <td>0.008306</td>\n",
       "      <td>0.008306</td>\n",
       "      <td>0.016611</td>\n",
       "      <td>0.049834</td>\n",
       "    </tr>\n",
       "    <tr>\n",
       "      <th>7</th>\n",
       "      <td>0.008306</td>\n",
       "      <td>0.000000</td>\n",
       "      <td>0.008306</td>\n",
       "      <td>0.024917</td>\n",
       "      <td>0.000000</td>\n",
       "      <td>0.000000</td>\n",
       "      <td>0.016611</td>\n",
       "      <td>0.000000</td>\n",
       "      <td>0.008306</td>\n",
       "      <td>0.000000</td>\n",
       "      <td>0.008306</td>\n",
       "      <td>0.000000</td>\n",
       "      <td>0.000000</td>\n",
       "      <td>0.000000</td>\n",
       "      <td>0.008306</td>\n",
       "      <td>0.008306</td>\n",
       "    </tr>\n",
       "    <tr>\n",
       "      <th>8</th>\n",
       "      <td>0.008306</td>\n",
       "      <td>0.008306</td>\n",
       "      <td>0.000000</td>\n",
       "      <td>0.008306</td>\n",
       "      <td>0.024917</td>\n",
       "      <td>0.000000</td>\n",
       "      <td>0.008306</td>\n",
       "      <td>0.000000</td>\n",
       "      <td>0.000000</td>\n",
       "      <td>0.000000</td>\n",
       "      <td>0.008306</td>\n",
       "      <td>0.000000</td>\n",
       "      <td>0.000000</td>\n",
       "      <td>0.000000</td>\n",
       "      <td>0.000000</td>\n",
       "      <td>0.008306</td>\n",
       "    </tr>\n",
       "    <tr>\n",
       "      <th>9</th>\n",
       "      <td>0.008306</td>\n",
       "      <td>0.058140</td>\n",
       "      <td>0.008306</td>\n",
       "      <td>0.000000</td>\n",
       "      <td>0.008306</td>\n",
       "      <td>0.000000</td>\n",
       "      <td>0.008306</td>\n",
       "      <td>0.000000</td>\n",
       "      <td>0.016611</td>\n",
       "      <td>0.000000</td>\n",
       "      <td>0.000000</td>\n",
       "      <td>0.000000</td>\n",
       "      <td>0.000000</td>\n",
       "      <td>0.016611</td>\n",
       "      <td>0.008306</td>\n",
       "      <td>0.008306</td>\n",
       "    </tr>\n",
       "    <tr>\n",
       "      <th>10</th>\n",
       "      <td>0.008306</td>\n",
       "      <td>0.008306</td>\n",
       "      <td>0.008306</td>\n",
       "      <td>0.000000</td>\n",
       "      <td>0.008306</td>\n",
       "      <td>0.000000</td>\n",
       "      <td>0.000000</td>\n",
       "      <td>0.008306</td>\n",
       "      <td>0.000000</td>\n",
       "      <td>0.008306</td>\n",
       "      <td>0.041528</td>\n",
       "      <td>0.008306</td>\n",
       "      <td>0.041528</td>\n",
       "      <td>0.000000</td>\n",
       "      <td>0.000000</td>\n",
       "      <td>0.008306</td>\n",
       "    </tr>\n",
       "    <tr>\n",
       "      <th>11</th>\n",
       "      <td>0.008306</td>\n",
       "      <td>0.008306</td>\n",
       "      <td>0.008306</td>\n",
       "      <td>0.000000</td>\n",
       "      <td>0.008306</td>\n",
       "      <td>0.000000</td>\n",
       "      <td>0.008306</td>\n",
       "      <td>0.000000</td>\n",
       "      <td>0.016611</td>\n",
       "      <td>0.024917</td>\n",
       "      <td>0.124585</td>\n",
       "      <td>0.174419</td>\n",
       "      <td>0.157807</td>\n",
       "      <td>0.215947</td>\n",
       "      <td>0.265781</td>\n",
       "      <td>0.041528</td>\n",
       "    </tr>\n",
       "    <tr>\n",
       "      <th>12</th>\n",
       "      <td>0.008306</td>\n",
       "      <td>0.000000</td>\n",
       "      <td>0.008306</td>\n",
       "      <td>0.000000</td>\n",
       "      <td>0.008306</td>\n",
       "      <td>0.016611</td>\n",
       "      <td>0.000000</td>\n",
       "      <td>0.000000</td>\n",
       "      <td>0.066445</td>\n",
       "      <td>0.000000</td>\n",
       "      <td>0.224252</td>\n",
       "      <td>0.357143</td>\n",
       "      <td>0.398671</td>\n",
       "      <td>0.182724</td>\n",
       "      <td>0.000000</td>\n",
       "      <td>0.000000</td>\n",
       "    </tr>\n",
       "    <tr>\n",
       "      <th>13</th>\n",
       "      <td>0.000000</td>\n",
       "      <td>0.000000</td>\n",
       "      <td>0.000000</td>\n",
       "      <td>0.024917</td>\n",
       "      <td>0.008306</td>\n",
       "      <td>0.074751</td>\n",
       "      <td>0.099668</td>\n",
       "      <td>0.157807</td>\n",
       "      <td>0.191030</td>\n",
       "      <td>0.299003</td>\n",
       "      <td>0.282392</td>\n",
       "      <td>0.249169</td>\n",
       "      <td>0.224252</td>\n",
       "      <td>0.199336</td>\n",
       "      <td>0.307309</td>\n",
       "      <td>0.257475</td>\n",
       "    </tr>\n",
       "    <tr>\n",
       "      <th>14</th>\n",
       "      <td>0.008306</td>\n",
       "      <td>0.000000</td>\n",
       "      <td>0.000000</td>\n",
       "      <td>0.024917</td>\n",
       "      <td>0.008306</td>\n",
       "      <td>0.074751</td>\n",
       "      <td>0.124585</td>\n",
       "      <td>0.207641</td>\n",
       "      <td>0.224252</td>\n",
       "      <td>0.398671</td>\n",
       "      <td>0.000000</td>\n",
       "      <td>0.149502</td>\n",
       "      <td>0.074751</td>\n",
       "      <td>0.091362</td>\n",
       "      <td>0.000000</td>\n",
       "      <td>0.215947</td>\n",
       "    </tr>\n",
       "    <tr>\n",
       "      <th>15</th>\n",
       "      <td>0.000000</td>\n",
       "      <td>0.016611</td>\n",
       "      <td>0.016611</td>\n",
       "      <td>0.024917</td>\n",
       "      <td>0.166113</td>\n",
       "      <td>0.448505</td>\n",
       "      <td>0.000000</td>\n",
       "      <td>0.091362</td>\n",
       "      <td>0.174419</td>\n",
       "      <td>0.000000</td>\n",
       "      <td>0.124585</td>\n",
       "      <td>0.041528</td>\n",
       "      <td>0.016611</td>\n",
       "      <td>0.000000</td>\n",
       "      <td>0.024917</td>\n",
       "      <td>0.033223</td>\n",
       "    </tr>\n",
       "    <tr>\n",
       "      <th>16</th>\n",
       "      <td>NaN</td>\n",
       "      <td>0.008306</td>\n",
       "      <td>0.000000</td>\n",
       "      <td>0.157807</td>\n",
       "      <td>0.033223</td>\n",
       "      <td>0.008306</td>\n",
       "      <td>0.000000</td>\n",
       "      <td>0.008306</td>\n",
       "      <td>0.024917</td>\n",
       "      <td>0.016611</td>\n",
       "      <td>0.016611</td>\n",
       "      <td>0.024917</td>\n",
       "      <td>0.016611</td>\n",
       "      <td>0.008306</td>\n",
       "      <td>0.008306</td>\n",
       "      <td>NaN</td>\n",
       "    </tr>\n",
       "  </tbody>\n",
       "</table>\n",
       "</div>"
      ],
      "text/plain": [
       "           A         B         C         D         E         F         G  \\\n",
       "1        NaN  0.008306  0.000000  0.000000  0.000000  0.008306  0.107973   \n",
       "2   0.008306  0.000000  0.107973  0.000000  0.000000  0.813953  0.440199   \n",
       "3   0.016611  0.016611  0.000000  0.000000  0.041528  0.249169  0.049834   \n",
       "4   0.016611  0.008306  0.008306  0.008306  0.008306  0.008306  0.008306   \n",
       "5   0.008306  0.000000  0.000000  0.016611  0.000000  0.016611  0.008306   \n",
       "6   0.000000  0.000000  0.000000  0.008306  0.000000  0.008306  0.000000   \n",
       "7   0.008306  0.000000  0.008306  0.024917  0.000000  0.000000  0.016611   \n",
       "8   0.008306  0.008306  0.000000  0.008306  0.024917  0.000000  0.008306   \n",
       "9   0.008306  0.058140  0.008306  0.000000  0.008306  0.000000  0.008306   \n",
       "10  0.008306  0.008306  0.008306  0.000000  0.008306  0.000000  0.000000   \n",
       "11  0.008306  0.008306  0.008306  0.000000  0.008306  0.000000  0.008306   \n",
       "12  0.008306  0.000000  0.008306  0.000000  0.008306  0.016611  0.000000   \n",
       "13  0.000000  0.000000  0.000000  0.024917  0.008306  0.074751  0.099668   \n",
       "14  0.008306  0.000000  0.000000  0.024917  0.008306  0.074751  0.124585   \n",
       "15  0.000000  0.016611  0.016611  0.024917  0.166113  0.448505  0.000000   \n",
       "16       NaN  0.008306  0.000000  0.157807  0.033223  0.008306  0.000000   \n",
       "\n",
       "           H         J         K         L         M         N         O  \\\n",
       "1   0.257475  0.091362  0.124585  1.154485  0.058140  0.000000  0.000000   \n",
       "2   1.428571  2.126246  3.106312  2.616279  0.182724  0.000000  0.000000   \n",
       "3   1.378738  0.357143  0.639535  0.099668  0.000000  0.008306  0.000000   \n",
       "4   0.016611  0.000000  0.174419  0.000000  0.000000  0.000000  0.000000   \n",
       "5   0.000000  0.000000  0.000000  0.008306  0.008306  0.000000  0.000000   \n",
       "6   0.000000  0.000000  0.000000  0.008306  0.000000  0.008306  0.008306   \n",
       "7   0.000000  0.008306  0.000000  0.008306  0.000000  0.000000  0.000000   \n",
       "8   0.000000  0.000000  0.000000  0.008306  0.000000  0.000000  0.000000   \n",
       "9   0.000000  0.016611  0.000000  0.000000  0.000000  0.000000  0.016611   \n",
       "10  0.008306  0.000000  0.008306  0.041528  0.008306  0.041528  0.000000   \n",
       "11  0.000000  0.016611  0.024917  0.124585  0.174419  0.157807  0.215947   \n",
       "12  0.000000  0.066445  0.000000  0.224252  0.357143  0.398671  0.182724   \n",
       "13  0.157807  0.191030  0.299003  0.282392  0.249169  0.224252  0.199336   \n",
       "14  0.207641  0.224252  0.398671  0.000000  0.149502  0.074751  0.091362   \n",
       "15  0.091362  0.174419  0.000000  0.124585  0.041528  0.016611  0.000000   \n",
       "16  0.008306  0.024917  0.016611  0.016611  0.024917  0.016611  0.008306   \n",
       "\n",
       "           P         R  \n",
       "1   0.000000       NaN  \n",
       "2   0.000000  0.008306  \n",
       "3   0.000000  0.000000  \n",
       "4   0.000000  0.008306  \n",
       "5   0.016611  0.008306  \n",
       "6   0.016611  0.049834  \n",
       "7   0.008306  0.008306  \n",
       "8   0.000000  0.008306  \n",
       "9   0.008306  0.008306  \n",
       "10  0.000000  0.008306  \n",
       "11  0.265781  0.041528  \n",
       "12  0.000000  0.000000  \n",
       "13  0.307309  0.257475  \n",
       "14  0.000000  0.215947  \n",
       "15  0.024917  0.033223  \n",
       "16  0.008306       NaN  "
      ]
     },
     "execution_count": 201,
     "metadata": {},
     "output_type": "execute_result"
    }
   ],
   "source": [
    "df_fr_whole"
   ]
  },
  {
   "cell_type": "code",
   "execution_count": 202,
   "id": "ef2c5f51",
   "metadata": {},
   "outputs": [
    {
     "data": {
      "text/plain": [
       "'\\nsum_mean_frs = 0\\nnumber_of_fr = 0\\nfor key in whole_recording_firingrate_dic:\\n    if whole_recording_firingrate_dic[key] > 0:\\n        sum_mean_frs += whole_recording_firingrate_dic[key]\\n        number_of_fr += 1\\n\\nmean_fr_whole_recording = np.around((sum_mean_frs/number_of_fr), 4)\\n'"
      ]
     },
     "execution_count": 202,
     "metadata": {},
     "output_type": "execute_result"
    }
   ],
   "source": [
    "'''\n",
    "sum_mean_frs = 0\n",
    "number_of_fr = 0\n",
    "for key in whole_recording_firingrate_dic:\n",
    "    if whole_recording_firingrate_dic[key] > 0:\n",
    "        sum_mean_frs += whole_recording_firingrate_dic[key]\n",
    "        number_of_fr += 1\n",
    "\n",
    "mean_fr_whole_recording = np.around((sum_mean_frs/number_of_fr), 4)\n",
    "'''"
   ]
  },
  {
   "cell_type": "code",
   "execution_count": 203,
   "id": "92848747",
   "metadata": {},
   "outputs": [
    {
     "data": {
      "text/plain": [
       "22.807"
      ]
     },
     "execution_count": 203,
     "metadata": {},
     "output_type": "execute_result"
    }
   ],
   "source": [
    "mean_fr_whole_recording"
   ]
  },
  {
   "cell_type": "code",
   "execution_count": 204,
   "id": "a30e23dd",
   "metadata": {},
   "outputs": [
    {
     "data": {
      "application/vnd.jupyter.widget-view+json": {
       "model_id": "595b6d8b32734f23938c432d72033a55",
       "version_major": 2,
       "version_minor": 0
      },
      "text/plain": [
       "Canvas(toolbar=Toolbar(toolitems=[('Home', 'Reset original view', 'home', 'home'), ('Back', 'Back to previous …"
      ]
     },
     "metadata": {},
     "output_type": "display_data"
    },
    {
     "data": {
      "text/plain": [
       "<AxesSubplot:>"
      ]
     },
     "execution_count": 204,
     "metadata": {},
     "output_type": "execute_result"
    },
    {
     "data": {
      "text/plain": [
       "Text(0.5, 1.0, 'Fr Channel2021-05-17_cortex_div11_aCSF_ID046_30µMNE_spont_1 Mean FR Active: 22.807, active channels: 252')"
      ]
     },
     "execution_count": 204,
     "metadata": {},
     "output_type": "execute_result"
    },
    {
     "ename": "AttributeError",
     "evalue": "__delete__",
     "output_type": "error",
     "traceback": [
      "\u001b[0;31m---------------------------------------------------------------------------\u001b[0m",
      "\u001b[0;31mAttributeError\u001b[0m                            Traceback (most recent call last)",
      "\u001b[0;32m/var/folders/xc/rhr6x9qn6sb5xp5ypm3zr0xm0000gn/T/ipykernel_3357/3847012298.py\u001b[0m in \u001b[0;36m<module>\u001b[0;34m\u001b[0m\n\u001b[1;32m      4\u001b[0m \u001b[0max\u001b[0m\u001b[0;34m.\u001b[0m\u001b[0mset_title\u001b[0m\u001b[0;34m(\u001b[0m\u001b[0;34m'Fr Channel'\u001b[0m \u001b[0;34m+\u001b[0m \u001b[0mfilename\u001b[0m \u001b[0;34m+\u001b[0m \u001b[0;34m' Mean FR Active: {}, active channels: {}'\u001b[0m\u001b[0;34m.\u001b[0m\u001b[0mformat\u001b[0m\u001b[0;34m(\u001b[0m\u001b[0mmean_fr_whole_recording\u001b[0m\u001b[0;34m,\u001b[0m \u001b[0mactive_channels\u001b[0m\u001b[0;34m)\u001b[0m\u001b[0;34m)\u001b[0m\u001b[0;34m\u001b[0m\u001b[0;34m\u001b[0m\u001b[0m\n\u001b[1;32m      5\u001b[0m \u001b[0;34m\u001b[0m\u001b[0m\n\u001b[0;32m----> 6\u001b[0;31m \u001b[0mf\u001b[0m\u001b[0;34m.\u001b[0m\u001b[0msavefig\u001b[0m\u001b[0;34m(\u001b[0m\u001b[0mfilename\u001b[0m\u001b[0;34m+\u001b[0m\u001b[0;34m'whole_MEA_Heatmap.png'\u001b[0m\u001b[0;34m,\u001b[0m \u001b[0mdpi\u001b[0m \u001b[0;34m=\u001b[0m \u001b[0;36m300\u001b[0m\u001b[0;34m)\u001b[0m\u001b[0;34m\u001b[0m\u001b[0;34m\u001b[0m\u001b[0m\n\u001b[0m",
      "\u001b[0;32m/opt/anaconda3/lib/python3.7/site-packages/matplotlib/figure.py\u001b[0m in \u001b[0;36msavefig\u001b[0;34m(self, fname, transparent, **kwargs)\u001b[0m\n\u001b[1;32m   2309\u001b[0m                 \u001b[0mpatch\u001b[0m\u001b[0;34m.\u001b[0m\u001b[0mset_edgecolor\u001b[0m\u001b[0;34m(\u001b[0m\u001b[0;34m'none'\u001b[0m\u001b[0;34m)\u001b[0m\u001b[0;34m\u001b[0m\u001b[0;34m\u001b[0m\u001b[0m\n\u001b[1;32m   2310\u001b[0m \u001b[0;34m\u001b[0m\u001b[0m\n\u001b[0;32m-> 2311\u001b[0;31m         \u001b[0mself\u001b[0m\u001b[0;34m.\u001b[0m\u001b[0mcanvas\u001b[0m\u001b[0;34m.\u001b[0m\u001b[0mprint_figure\u001b[0m\u001b[0;34m(\u001b[0m\u001b[0mfname\u001b[0m\u001b[0;34m,\u001b[0m \u001b[0;34m**\u001b[0m\u001b[0mkwargs\u001b[0m\u001b[0;34m)\u001b[0m\u001b[0;34m\u001b[0m\u001b[0;34m\u001b[0m\u001b[0m\n\u001b[0m\u001b[1;32m   2312\u001b[0m \u001b[0;34m\u001b[0m\u001b[0m\n\u001b[1;32m   2313\u001b[0m         \u001b[0;32mif\u001b[0m \u001b[0mtransparent\u001b[0m\u001b[0;34m:\u001b[0m\u001b[0;34m\u001b[0m\u001b[0;34m\u001b[0m\u001b[0m\n",
      "\u001b[0;32m/opt/anaconda3/lib/python3.7/site-packages/matplotlib/backend_bases.py\u001b[0m in \u001b[0;36mprint_figure\u001b[0;34m(self, filename, dpi, facecolor, edgecolor, orientation, format, bbox_inches, pad_inches, bbox_extra_artists, backend, **kwargs)\u001b[0m\n\u001b[1;32m   2223\u001b[0m                 \u001b[0mself\u001b[0m\u001b[0;34m.\u001b[0m\u001b[0mfigure\u001b[0m\u001b[0;34m.\u001b[0m\u001b[0mset_edgecolor\u001b[0m\u001b[0;34m(\u001b[0m\u001b[0morigedgecolor\u001b[0m\u001b[0;34m)\u001b[0m\u001b[0;34m\u001b[0m\u001b[0;34m\u001b[0m\u001b[0m\n\u001b[1;32m   2224\u001b[0m                 \u001b[0mself\u001b[0m\u001b[0;34m.\u001b[0m\u001b[0mfigure\u001b[0m\u001b[0;34m.\u001b[0m\u001b[0mset_canvas\u001b[0m\u001b[0;34m(\u001b[0m\u001b[0mself\u001b[0m\u001b[0;34m)\u001b[0m\u001b[0;34m\u001b[0m\u001b[0;34m\u001b[0m\u001b[0m\n\u001b[0;32m-> 2225\u001b[0;31m             \u001b[0;32mreturn\u001b[0m \u001b[0mresult\u001b[0m\u001b[0;34m\u001b[0m\u001b[0;34m\u001b[0m\u001b[0m\n\u001b[0m\u001b[1;32m   2226\u001b[0m \u001b[0;34m\u001b[0m\u001b[0m\n\u001b[1;32m   2227\u001b[0m     \u001b[0;34m@\u001b[0m\u001b[0mclassmethod\u001b[0m\u001b[0;34m\u001b[0m\u001b[0;34m\u001b[0m\u001b[0m\n",
      "\u001b[0;32m/opt/anaconda3/lib/python3.7/contextlib.py\u001b[0m in \u001b[0;36m__exit__\u001b[0;34m(self, type, value, traceback)\u001b[0m\n\u001b[1;32m    117\u001b[0m         \u001b[0;32mif\u001b[0m \u001b[0mtype\u001b[0m \u001b[0;32mis\u001b[0m \u001b[0;32mNone\u001b[0m\u001b[0;34m:\u001b[0m\u001b[0;34m\u001b[0m\u001b[0;34m\u001b[0m\u001b[0m\n\u001b[1;32m    118\u001b[0m             \u001b[0;32mtry\u001b[0m\u001b[0;34m:\u001b[0m\u001b[0;34m\u001b[0m\u001b[0;34m\u001b[0m\u001b[0m\n\u001b[0;32m--> 119\u001b[0;31m                 \u001b[0mnext\u001b[0m\u001b[0;34m(\u001b[0m\u001b[0mself\u001b[0m\u001b[0;34m.\u001b[0m\u001b[0mgen\u001b[0m\u001b[0;34m)\u001b[0m\u001b[0;34m\u001b[0m\u001b[0;34m\u001b[0m\u001b[0m\n\u001b[0m\u001b[1;32m    120\u001b[0m             \u001b[0;32mexcept\u001b[0m \u001b[0mStopIteration\u001b[0m\u001b[0;34m:\u001b[0m\u001b[0;34m\u001b[0m\u001b[0;34m\u001b[0m\u001b[0m\n\u001b[1;32m    121\u001b[0m                 \u001b[0;32mreturn\u001b[0m \u001b[0;32mFalse\u001b[0m\u001b[0;34m\u001b[0m\u001b[0;34m\u001b[0m\u001b[0m\n",
      "\u001b[0;32m/opt/anaconda3/lib/python3.7/site-packages/matplotlib/cbook/__init__.py\u001b[0m in \u001b[0;36m_setattr_cm\u001b[0;34m(obj, **kwargs)\u001b[0m\n\u001b[1;32m   2082\u001b[0m         \u001b[0;32mfor\u001b[0m \u001b[0mattr\u001b[0m\u001b[0;34m,\u001b[0m \u001b[0morig\u001b[0m \u001b[0;32min\u001b[0m \u001b[0morigs\u001b[0m\u001b[0;34m.\u001b[0m\u001b[0mitems\u001b[0m\u001b[0;34m(\u001b[0m\u001b[0;34m)\u001b[0m\u001b[0;34m:\u001b[0m\u001b[0;34m\u001b[0m\u001b[0;34m\u001b[0m\u001b[0m\n\u001b[1;32m   2083\u001b[0m             \u001b[0;32mif\u001b[0m \u001b[0morig\u001b[0m \u001b[0;32mis\u001b[0m \u001b[0msentinel\u001b[0m\u001b[0;34m:\u001b[0m\u001b[0;34m\u001b[0m\u001b[0;34m\u001b[0m\u001b[0m\n\u001b[0;32m-> 2084\u001b[0;31m                 \u001b[0mdelattr\u001b[0m\u001b[0;34m(\u001b[0m\u001b[0mobj\u001b[0m\u001b[0;34m,\u001b[0m \u001b[0mattr\u001b[0m\u001b[0;34m)\u001b[0m\u001b[0;34m\u001b[0m\u001b[0;34m\u001b[0m\u001b[0m\n\u001b[0m\u001b[1;32m   2085\u001b[0m             \u001b[0;32melse\u001b[0m\u001b[0;34m:\u001b[0m\u001b[0;34m\u001b[0m\u001b[0;34m\u001b[0m\u001b[0m\n\u001b[1;32m   2086\u001b[0m                 \u001b[0msetattr\u001b[0m\u001b[0;34m(\u001b[0m\u001b[0mobj\u001b[0m\u001b[0;34m,\u001b[0m \u001b[0mattr\u001b[0m\u001b[0;34m,\u001b[0m \u001b[0morig\u001b[0m\u001b[0;34m)\u001b[0m\u001b[0;34m\u001b[0m\u001b[0;34m\u001b[0m\u001b[0m\n",
      "\u001b[0;31mAttributeError\u001b[0m: __delete__"
     ]
    }
   ],
   "source": [
    "f, ax = plt.subplots(1, 1, figsize = (12,10))\n",
    "\n",
    "sns.heatmap(df_fr_whole, annot=False, linewidths=.5, ax=ax, cmap=\"rocket_r\")\n",
    "ax.set_title('Fr Channel' + filename + ' Mean FR Active: {}, active channels: {}'.format(mean_fr_whole_recording, active_channels))\n",
    "\n",
    "f.savefig(filename+'whole_MEA_Heatmap.png', dpi = 300)"
   ]
  },
  {
   "cell_type": "code",
   "execution_count": 56,
   "id": "4ef9bf6c",
   "metadata": {},
   "outputs": [],
   "source": [
    "np.save(filename+'sub_recording_BURST.npy', st_longest_burst)\n",
    "np.save(filename+'sub_recording_NON-BURST.npy', st_longest_ibi)"
   ]
  },
  {
   "cell_type": "code",
   "execution_count": 57,
   "id": "b6af57e3",
   "metadata": {},
   "outputs": [
    {
     "data": {
      "text/plain": [
       "'2021-05-17_cortex_div11_aCSF_ID046_30µMNorepinephrine_spont_1_analyzed_on_03082021'"
      ]
     },
     "execution_count": 57,
     "metadata": {},
     "output_type": "execute_result"
    }
   ],
   "source": [
    "filename"
   ]
  },
  {
   "cell_type": "code",
   "execution_count": 58,
   "id": "2e37e2dd",
   "metadata": {},
   "outputs": [],
   "source": [
    "#overviewframe_ac = pd.DataFrame(columns=['aCSF', 'aCSF + 30µM Nor', 'rewash aCSF', 'hCSF', 'hCSF + CNQX'], index=['DIV8', 'DIV11'])"
   ]
  },
  {
   "cell_type": "code",
   "execution_count": 59,
   "id": "aa663bfc",
   "metadata": {},
   "outputs": [],
   "source": [
    "#overviewframe_fr = pd.DataFrame(columns=['aCSF', 'aCSF + 30µM Nor', 'rewash aCSF', 'hCSF', 'hCSF + CNQX'], index=['DIV8', 'DIV11'])"
   ]
  },
  {
   "cell_type": "code",
   "execution_count": 60,
   "id": "6c2156b8",
   "metadata": {},
   "outputs": [],
   "source": [
    "#overviewframe_fr.iloc[0, 4]=mean_fr_whole_recording"
   ]
  },
  {
   "cell_type": "code",
   "execution_count": 61,
   "id": "d4cf6f1f",
   "metadata": {},
   "outputs": [],
   "source": [
    "#overviewframe_ac.iloc[0, 4]=active_channels"
   ]
  },
  {
   "cell_type": "code",
   "execution_count": 62,
   "id": "423ef8ba",
   "metadata": {},
   "outputs": [],
   "source": [
    "#overviewframe_fr"
   ]
  },
  {
   "cell_type": "code",
   "execution_count": 63,
   "id": "0a0e3861",
   "metadata": {},
   "outputs": [
    {
     "ename": "NameError",
     "evalue": "name 'overviewframe_ac' is not defined",
     "output_type": "error",
     "traceback": [
      "\u001b[1;31m---------------------------------------------------------------------------\u001b[0m",
      "\u001b[1;31mNameError\u001b[0m                                 Traceback (most recent call last)",
      "\u001b[1;32m<ipython-input-63-2512df3c7b82>\u001b[0m in \u001b[0;36m<module>\u001b[1;34m\u001b[0m\n\u001b[1;32m----> 1\u001b[1;33m \u001b[0moverviewframe_ac\u001b[0m\u001b[1;33m\u001b[0m\u001b[1;33m\u001b[0m\u001b[0m\n\u001b[0m",
      "\u001b[1;31mNameError\u001b[0m: name 'overviewframe_ac' is not defined"
     ]
    }
   ],
   "source": [
    "overviewframe_ac"
   ]
  },
  {
   "cell_type": "code",
   "execution_count": null,
   "id": "5aad0a0a",
   "metadata": {},
   "outputs": [],
   "source": []
  },
  {
   "cell_type": "code",
   "execution_count": 64,
   "id": "52f2e62b",
   "metadata": {},
   "outputs": [
    {
     "data": {
      "text/plain": [
       "(61.80625938870431, 64.49437591362125)"
      ]
     },
     "execution_count": 64,
     "metadata": {},
     "output_type": "execute_result"
    }
   ],
   "source": [
    "longest_burst_i"
   ]
  },
  {
   "cell_type": "markdown",
   "id": "d72b2cf2",
   "metadata": {},
   "source": [
    "# Subdivision of a Burst of Interest\n",
    "\n",
    "In the next part we take a Network Burst and plot it on a small scale to see how the spikes develop. \n",
    "\n",
    "Further, we will divide it in 200ms parts to see how the spikes will develop temporarily over the MEA Grid."
   ]
  },
  {
   "cell_type": "code",
   "execution_count": 206,
   "id": "fe64f649",
   "metadata": {},
   "outputs": [
    {
     "data": {
      "application/vnd.jupyter.widget-view+json": {
       "model_id": "da05de1f197a4c44b551898365811d1f",
       "version_major": 2,
       "version_minor": 0
      },
      "text/plain": [
       "Canvas(toolbar=Toolbar(toolitems=[('Home', 'Reset original view', 'home', 'home'), ('Back', 'Back to previous …"
      ]
     },
     "metadata": {},
     "output_type": "display_data"
    },
    {
     "data": {
      "text/plain": [
       "[<matplotlib.lines.Line2D at 0x7fd2e4974bd0>]"
      ]
     },
     "execution_count": 206,
     "metadata": {},
     "output_type": "execute_result"
    },
    {
     "data": {
      "text/plain": [
       "Text(0, 0.5, 'Firing Rate [Hz]')"
      ]
     },
     "execution_count": 206,
     "metadata": {},
     "output_type": "execute_result"
    },
    {
     "data": {
      "text/plain": [
       "[<matplotlib.collections.EventCollection at 0x7fd2e4371150>,\n",
       " <matplotlib.collections.EventCollection at 0x7fd2e45acd90>,\n",
       " <matplotlib.collections.EventCollection at 0x7fd2e45c0090>,\n",
       " <matplotlib.collections.EventCollection at 0x7fd2e45c0450>,\n",
       " <matplotlib.collections.EventCollection at 0x7fd2e45cf550>,\n",
       " <matplotlib.collections.EventCollection at 0x7fd2e45cfb10>,\n",
       " <matplotlib.collections.EventCollection at 0x7fd2e45cffd0>,\n",
       " <matplotlib.collections.EventCollection at 0x7fd2e45d8350>,\n",
       " <matplotlib.collections.EventCollection at 0x7fd2e45d8710>,\n",
       " <matplotlib.collections.EventCollection at 0x7fd2e45cfa90>,\n",
       " <matplotlib.collections.EventCollection at 0x7fd2e45ff190>,\n",
       " <matplotlib.collections.EventCollection at 0x7fd2e45ff490>,\n",
       " <matplotlib.collections.EventCollection at 0x7fd2e45ff790>,\n",
       " <matplotlib.collections.EventCollection at 0x7fd2e45fff50>,\n",
       " <matplotlib.collections.EventCollection at 0x7fd2e460a2d0>,\n",
       " <matplotlib.collections.EventCollection at 0x7fd2e460a610>,\n",
       " <matplotlib.collections.EventCollection at 0x7fd2e460a8d0>,\n",
       " <matplotlib.collections.EventCollection at 0x7fd2e460ab90>,\n",
       " <matplotlib.collections.EventCollection at 0x7fd2e460ae50>,\n",
       " <matplotlib.collections.EventCollection at 0x7fd2e46191d0>,\n",
       " <matplotlib.collections.EventCollection at 0x7fd2e4619550>,\n",
       " <matplotlib.collections.EventCollection at 0x7fd2e4358150>,\n",
       " <matplotlib.collections.EventCollection at 0x7fd2e4619990>,\n",
       " <matplotlib.collections.EventCollection at 0x7fd2e4619c50>,\n",
       " <matplotlib.collections.EventCollection at 0x7fd2e4619f10>,\n",
       " <matplotlib.collections.EventCollection at 0x7fd2e4628250>,\n",
       " <matplotlib.collections.EventCollection at 0x7fd2e4628510>,\n",
       " <matplotlib.collections.EventCollection at 0x7fd2e46287d0>,\n",
       " <matplotlib.collections.EventCollection at 0x7fd2e4628ad0>,\n",
       " <matplotlib.collections.EventCollection at 0x7fd2e4628d90>,\n",
       " <matplotlib.collections.EventCollection at 0x7fd2e4635090>,\n",
       " <matplotlib.collections.EventCollection at 0x7fd2e4635350>,\n",
       " <matplotlib.collections.EventCollection at 0x7fd2e4635610>,\n",
       " <matplotlib.collections.EventCollection at 0x7fd2e4635910>,\n",
       " <matplotlib.collections.EventCollection at 0x7fd2e4635bd0>,\n",
       " <matplotlib.collections.EventCollection at 0x7fd2e4635ed0>,\n",
       " <matplotlib.collections.EventCollection at 0x7fd2e49a21d0>,\n",
       " <matplotlib.collections.EventCollection at 0x7fd2e49a2490>,\n",
       " <matplotlib.collections.EventCollection at 0x7fd2e49a2790>,\n",
       " <matplotlib.collections.EventCollection at 0x7fd2e49a2a90>,\n",
       " <matplotlib.collections.EventCollection at 0x7fd2e49a2d90>,\n",
       " <matplotlib.collections.EventCollection at 0x7fd2e49b10d0>,\n",
       " <matplotlib.collections.EventCollection at 0x7fd2e49b13d0>,\n",
       " <matplotlib.collections.EventCollection at 0x7fd2e49b16d0>,\n",
       " <matplotlib.collections.EventCollection at 0x7fd2e49b1990>,\n",
       " <matplotlib.collections.EventCollection at 0x7fd2e49b1c90>,\n",
       " <matplotlib.collections.EventCollection at 0x7fd2e49b1f90>,\n",
       " <matplotlib.collections.EventCollection at 0x7fd2e49be290>,\n",
       " <matplotlib.collections.EventCollection at 0x7fd2e49be590>,\n",
       " <matplotlib.collections.EventCollection at 0x7fd2e49bea50>,\n",
       " <matplotlib.collections.EventCollection at 0x7fd2e49bed50>,\n",
       " <matplotlib.collections.EventCollection at 0x7fd2e49bef10>,\n",
       " <matplotlib.collections.EventCollection at 0x7fd2e49ce290>,\n",
       " <matplotlib.collections.EventCollection at 0x7fd2e49ce590>,\n",
       " <matplotlib.collections.EventCollection at 0x7fd2e49ce890>,\n",
       " <matplotlib.collections.EventCollection at 0x7fd2e49ceb90>,\n",
       " <matplotlib.collections.EventCollection at 0x7fd2e49cee50>,\n",
       " <matplotlib.collections.EventCollection at 0x7fd2e49dd150>,\n",
       " <matplotlib.collections.EventCollection at 0x7fd2e49dd450>,\n",
       " <matplotlib.collections.EventCollection at 0x7fd2e49dd7d0>,\n",
       " <matplotlib.collections.EventCollection at 0x7fd2e49ddad0>,\n",
       " <matplotlib.collections.EventCollection at 0x7fd2e49ddd90>,\n",
       " <matplotlib.collections.EventCollection at 0x7fd2e49eb0d0>,\n",
       " <matplotlib.collections.EventCollection at 0x7fd2e49eb450>,\n",
       " <matplotlib.collections.EventCollection at 0x7fd2e49eb750>,\n",
       " <matplotlib.collections.EventCollection at 0x7fd2e49eba10>,\n",
       " <matplotlib.collections.EventCollection at 0x7fd2e49ebcd0>,\n",
       " <matplotlib.collections.EventCollection at 0x7fd2e49ebf90>,\n",
       " <matplotlib.collections.EventCollection at 0x7fd2e49fd290>,\n",
       " <matplotlib.collections.EventCollection at 0x7fd2e49fd550>,\n",
       " <matplotlib.collections.EventCollection at 0x7fd2e49fd850>,\n",
       " <matplotlib.collections.EventCollection at 0x7fd2e49fdb10>,\n",
       " <matplotlib.collections.EventCollection at 0x7fd2e49fde10>,\n",
       " <matplotlib.collections.EventCollection at 0x7fd2e4a0b190>,\n",
       " <matplotlib.collections.EventCollection at 0x7fd2e4a0b450>,\n",
       " <matplotlib.collections.EventCollection at 0x7fd2e4a0b790>,\n",
       " <matplotlib.collections.EventCollection at 0x7fd2e4a0ba50>,\n",
       " <matplotlib.collections.EventCollection at 0x7fd2e4a0bd50>,\n",
       " <matplotlib.collections.EventCollection at 0x7fd2e4a19090>,\n",
       " <matplotlib.collections.EventCollection at 0x7fd2e4a19390>,\n",
       " <matplotlib.collections.EventCollection at 0x7fd2e4a19650>,\n",
       " <matplotlib.collections.EventCollection at 0x7fd2e4a19990>,\n",
       " <matplotlib.collections.EventCollection at 0x7fd2e4a19cd0>,\n",
       " <matplotlib.collections.EventCollection at 0x7fd2e4a19fd0>,\n",
       " <matplotlib.collections.EventCollection at 0x7fd2e4a29310>,\n",
       " <matplotlib.collections.EventCollection at 0x7fd2e4a295d0>,\n",
       " <matplotlib.collections.EventCollection at 0x7fd2e4a298d0>,\n",
       " <matplotlib.collections.EventCollection at 0x7fd2e4a29b90>,\n",
       " <matplotlib.collections.EventCollection at 0x7fd2e4a371d0>,\n",
       " <matplotlib.collections.EventCollection at 0x7fd2e4a37490>,\n",
       " <matplotlib.collections.EventCollection at 0x7fd2e4a37750>,\n",
       " <matplotlib.collections.EventCollection at 0x7fd2e4a37a90>,\n",
       " <matplotlib.collections.EventCollection at 0x7fd2e4a37d50>,\n",
       " <matplotlib.collections.EventCollection at 0x7fd2e4a45050>,\n",
       " <matplotlib.collections.EventCollection at 0x7fd2e4a45310>,\n",
       " <matplotlib.collections.EventCollection at 0x7fd2e4a455d0>,\n",
       " <matplotlib.collections.EventCollection at 0x7fd2e4a458d0>,\n",
       " <matplotlib.collections.EventCollection at 0x7fd2e4a45d10>,\n",
       " <matplotlib.collections.EventCollection at 0x7fd2e4a45fd0>,\n",
       " <matplotlib.collections.EventCollection at 0x7fd2e4a552d0>,\n",
       " <matplotlib.collections.EventCollection at 0x7fd2e4a55610>,\n",
       " <matplotlib.collections.EventCollection at 0x7fd2e4a55910>,\n",
       " <matplotlib.collections.EventCollection at 0x7fd2e4a61390>,\n",
       " <matplotlib.collections.EventCollection at 0x7fd2e4a6cf10>,\n",
       " <matplotlib.collections.EventCollection at 0x7fd2e4a76250>,\n",
       " <matplotlib.collections.EventCollection at 0x7fd2e4a76550>,\n",
       " <matplotlib.collections.EventCollection at 0x7fd2e4a76850>,\n",
       " <matplotlib.collections.EventCollection at 0x7fd2e4a76cd0>,\n",
       " <matplotlib.collections.EventCollection at 0x7fd2e4a83d10>,\n",
       " <matplotlib.collections.EventCollection at 0x7fd2e4a8d350>,\n",
       " <matplotlib.collections.EventCollection at 0x7fd2e4a8d610>,\n",
       " <matplotlib.collections.EventCollection at 0x7fd2e4a8d950>,\n",
       " <matplotlib.collections.EventCollection at 0x7fd2e4aa9650>,\n",
       " <matplotlib.collections.EventCollection at 0x7fd2e4ac54d0>,\n",
       " <matplotlib.collections.EventCollection at 0x7fd2e4ac5f50>,\n",
       " <matplotlib.collections.EventCollection at 0x7fd2e4acf250>,\n",
       " <matplotlib.collections.EventCollection at 0x7fd2e4acf510>,\n",
       " <matplotlib.collections.EventCollection at 0x7fd2e4acf810>,\n",
       " <matplotlib.collections.EventCollection at 0x7fd2e4acfad0>,\n",
       " <matplotlib.collections.EventCollection at 0x7fd2e4add090>,\n",
       " <matplotlib.collections.EventCollection at 0x7fd2e4b01450>,\n",
       " <matplotlib.collections.EventCollection at 0x7fd2e4b0a210>,\n",
       " <matplotlib.collections.EventCollection at 0x7fd2e4b0a4d0>,\n",
       " <matplotlib.collections.EventCollection at 0x7fd2e4b0a790>,\n",
       " <matplotlib.collections.EventCollection at 0x7fd2e4b0ae10>,\n",
       " <matplotlib.collections.EventCollection at 0x7fd2e4b45fd0>,\n",
       " <matplotlib.collections.EventCollection at 0x7fd2e4b56650>,\n",
       " <matplotlib.collections.EventCollection at 0x7fd2e4b56e50>,\n",
       " <matplotlib.collections.EventCollection at 0x7fd2e4b60150>,\n",
       " <matplotlib.collections.EventCollection at 0x7fd2e4b73750>,\n",
       " <matplotlib.collections.EventCollection at 0x7fd2e4ba0a10>,\n",
       " <matplotlib.collections.EventCollection at 0x7fd2e4ba0fd0>,\n",
       " <matplotlib.collections.EventCollection at 0x7fd2e4bab2d0>,\n",
       " <matplotlib.collections.EventCollection at 0x7fd2e4bab5d0>,\n",
       " <matplotlib.collections.EventCollection at 0x7fd2e4baba90>,\n",
       " <matplotlib.collections.EventCollection at 0x7fd2e4bb5310>,\n",
       " <matplotlib.collections.EventCollection at 0x7fd2e4bb55d0>,\n",
       " <matplotlib.collections.EventCollection at 0x7fd2e4bb5890>,\n",
       " <matplotlib.collections.EventCollection at 0x7fd2e4bb5b50>,\n",
       " <matplotlib.collections.EventCollection at 0x7fd2e4bb5e10>,\n",
       " <matplotlib.collections.EventCollection at 0x7fd2e4bc6110>,\n",
       " <matplotlib.collections.EventCollection at 0x7fd2e4bc6410>,\n",
       " <matplotlib.collections.EventCollection at 0x7fd2e4bc66d0>,\n",
       " <matplotlib.collections.EventCollection at 0x7fd2e4bc69d0>,\n",
       " <matplotlib.collections.EventCollection at 0x7fd2e4bc6c90>,\n",
       " <matplotlib.collections.EventCollection at 0x7fd2e4bc6f50>,\n",
       " <matplotlib.collections.EventCollection at 0x7fd2e4bd4250>,\n",
       " <matplotlib.collections.EventCollection at 0x7fd2e4bd4510>,\n",
       " <matplotlib.collections.EventCollection at 0x7fd2e4bd47d0>,\n",
       " <matplotlib.collections.EventCollection at 0x7fd2e4bd4a90>,\n",
       " <matplotlib.collections.EventCollection at 0x7fd2e4bd4d90>,\n",
       " <matplotlib.collections.EventCollection at 0x7fd2e4be4090>,\n",
       " <matplotlib.collections.EventCollection at 0x7fd2e4be4350>,\n",
       " <matplotlib.collections.EventCollection at 0x7fd2e4be4610>,\n",
       " <matplotlib.collections.EventCollection at 0x7fd2e4be4910>,\n",
       " <matplotlib.collections.EventCollection at 0x7fd2e4be4bd0>,\n",
       " <matplotlib.collections.EventCollection at 0x7fd2e4be4e90>,\n",
       " <matplotlib.collections.EventCollection at 0x7fd2e4bf41d0>,\n",
       " <matplotlib.collections.EventCollection at 0x7fd2e4bf44d0>,\n",
       " <matplotlib.collections.EventCollection at 0x7fd2e4bf4790>,\n",
       " <matplotlib.collections.EventCollection at 0x7fd2e4bf4a50>,\n",
       " <matplotlib.collections.EventCollection at 0x7fd2e4bf4d50>,\n",
       " <matplotlib.collections.EventCollection at 0x7fd2e4c010d0>,\n",
       " <matplotlib.collections.EventCollection at 0x7fd2e4c013d0>,\n",
       " <matplotlib.collections.EventCollection at 0x7fd2e4c01690>,\n",
       " <matplotlib.collections.EventCollection at 0x7fd2e4c019d0>,\n",
       " <matplotlib.collections.EventCollection at 0x7fd2e4c01cd0>,\n",
       " <matplotlib.collections.EventCollection at 0x7fd2e4c01f90>,\n",
       " <matplotlib.collections.EventCollection at 0x7fd2e4c12450>,\n",
       " <matplotlib.collections.EventCollection at 0x7fd2e4c12710>,\n",
       " <matplotlib.collections.EventCollection at 0x7fd2e4c129d0>,\n",
       " <matplotlib.collections.EventCollection at 0x7fd2e4c12cd0>,\n",
       " <matplotlib.collections.EventCollection at 0x7fd2e4c12fd0>,\n",
       " <matplotlib.collections.EventCollection at 0x7fd2e4c1f2d0>,\n",
       " <matplotlib.collections.EventCollection at 0x7fd2e4c1f590>,\n",
       " <matplotlib.collections.EventCollection at 0x7fd2e4c1f850>,\n",
       " <matplotlib.collections.EventCollection at 0x7fd2e4c1fb10>,\n",
       " <matplotlib.collections.EventCollection at 0x7fd2e4c1fe10>,\n",
       " <matplotlib.collections.EventCollection at 0x7fd2e4c30150>,\n",
       " <matplotlib.collections.EventCollection at 0x7fd2e4c30410>,\n",
       " <matplotlib.collections.EventCollection at 0x7fd2e4c306d0>,\n",
       " <matplotlib.collections.EventCollection at 0x7fd2e4c309d0>,\n",
       " <matplotlib.collections.EventCollection at 0x7fd2e4c30c90>,\n",
       " <matplotlib.collections.EventCollection at 0x7fd2e4c30fd0>,\n",
       " <matplotlib.collections.EventCollection at 0x7fd2e4c41310>,\n",
       " <matplotlib.collections.EventCollection at 0x7fd2e4c415d0>,\n",
       " <matplotlib.collections.EventCollection at 0x7fd2e4c41890>,\n",
       " <matplotlib.collections.EventCollection at 0x7fd2e4c41b50>,\n",
       " <matplotlib.collections.EventCollection at 0x7fd2e4c41e50>,\n",
       " <matplotlib.collections.EventCollection at 0x7fd2e4c4f2d0>,\n",
       " <matplotlib.collections.EventCollection at 0x7fd2e4c4f590>,\n",
       " <matplotlib.collections.EventCollection at 0x7fd2e4c4f9d0>,\n",
       " <matplotlib.collections.EventCollection at 0x7fd2e4c4fcd0>,\n",
       " <matplotlib.collections.EventCollection at 0x7fd2e4c5d650>,\n",
       " <matplotlib.collections.EventCollection at 0x7fd2e4c66150>,\n",
       " <matplotlib.collections.EventCollection at 0x7fd2e4c66950>,\n",
       " <matplotlib.collections.EventCollection at 0x7fd2e4c72110>,\n",
       " <matplotlib.collections.EventCollection at 0x7fd2e4c723d0>,\n",
       " <matplotlib.collections.EventCollection at 0x7fd2e4c72690>,\n",
       " <matplotlib.collections.EventCollection at 0x7fd2e4c7e590>,\n",
       " <matplotlib.collections.EventCollection at 0x7fd2e4c7edd0>,\n",
       " <matplotlib.collections.EventCollection at 0x7fd2e4c8a890>,\n",
       " <matplotlib.collections.EventCollection at 0x7fd2e4c8acd0>,\n",
       " <matplotlib.collections.EventCollection at 0x7fd2e4c945d0>,\n",
       " <matplotlib.collections.EventCollection at 0x7fd2e4c9e210>,\n",
       " <matplotlib.collections.EventCollection at 0x7fd2e4c9e890>,\n",
       " <matplotlib.collections.EventCollection at 0x7fd2e4c9ebd0>,\n",
       " <matplotlib.collections.EventCollection at 0x7fd2e4c9ee90>,\n",
       " <matplotlib.collections.EventCollection at 0x7fd2e4cad810>,\n",
       " <matplotlib.collections.EventCollection at 0x7fd2e4cb61d0>,\n",
       " <matplotlib.collections.EventCollection at 0x7fd2e4cb6590>,\n",
       " <matplotlib.collections.EventCollection at 0x7fd2e4cb6890>,\n",
       " <matplotlib.collections.EventCollection at 0x7fd2e4cb6c10>,\n",
       " <matplotlib.collections.EventCollection at 0x7fd2e4cb6ed0>,\n",
       " <matplotlib.collections.EventCollection at 0x7fd2e4cc5490>,\n",
       " <matplotlib.collections.EventCollection at 0x7fd2e4ccd250>,\n",
       " <matplotlib.collections.EventCollection at 0x7fd2e4ccd550>,\n",
       " <matplotlib.collections.EventCollection at 0x7fd2e4ccda50>,\n",
       " <matplotlib.collections.EventCollection at 0x7fd2e4ccdd50>,\n",
       " <matplotlib.collections.EventCollection at 0x7fd2e4cdc0d0>,\n",
       " <matplotlib.collections.EventCollection at 0x7fd2e4cdc410>,\n",
       " <matplotlib.collections.EventCollection at 0x7fd2e4cdce50>,\n",
       " <matplotlib.collections.EventCollection at 0x7fd2e4cea210>,\n",
       " <matplotlib.collections.EventCollection at 0x7fd2e4cea650>,\n",
       " <matplotlib.collections.EventCollection at 0x7fd2e4cead90>,\n",
       " <matplotlib.collections.EventCollection at 0x7fd2e4cf5750>,\n",
       " <matplotlib.collections.EventCollection at 0x7fd2e4cf5ad0>,\n",
       " <matplotlib.collections.EventCollection at 0x7fd2e4cf5d90>,\n",
       " <matplotlib.collections.EventCollection at 0x7fd2e4d03910>,\n",
       " <matplotlib.collections.EventCollection at 0x7fd2e4d03c50>,\n",
       " <matplotlib.collections.EventCollection at 0x7fd2e4d0c310>,\n",
       " <matplotlib.collections.EventCollection at 0x7fd2e4d0ced0>,\n",
       " <matplotlib.collections.EventCollection at 0x7fd2e4d181d0>,\n",
       " <matplotlib.collections.EventCollection at 0x7fd2e4d18490>,\n",
       " <matplotlib.collections.EventCollection at 0x7fd2e4d25390>,\n",
       " <matplotlib.collections.EventCollection at 0x7fd2e4d25890>,\n",
       " <matplotlib.collections.EventCollection at 0x7fd2e4d25bd0>,\n",
       " <matplotlib.collections.EventCollection at 0x7fd2e4d2f590>,\n",
       " <matplotlib.collections.EventCollection at 0x7fd2e4d2fe10>,\n",
       " <matplotlib.collections.EventCollection at 0x7fd2e4d3a1d0>,\n",
       " <matplotlib.collections.EventCollection at 0x7fd2e4d3a9d0>,\n",
       " <matplotlib.collections.EventCollection at 0x7fd2e4d3ac90>,\n",
       " <matplotlib.collections.EventCollection at 0x7fd2e4d3afd0>,\n",
       " <matplotlib.collections.EventCollection at 0x7fd2e4d462d0>,\n",
       " <matplotlib.collections.EventCollection at 0x7fd2e4d465d0>,\n",
       " <matplotlib.collections.EventCollection at 0x7fd2e4d46b50>,\n",
       " <matplotlib.collections.EventCollection at 0x7fd2e4d46e50>,\n",
       " <matplotlib.collections.EventCollection at 0x7fd2e4d56610>,\n",
       " <matplotlib.collections.EventCollection at 0x7fd2e4d56f10>,\n",
       " <matplotlib.collections.EventCollection at 0x7fd2e4d5f210>,\n",
       " <matplotlib.collections.EventCollection at 0x7fd2e4d5f4d0>,\n",
       " <matplotlib.collections.EventCollection at 0x7fd2e4d5fb50>]"
      ]
     },
     "execution_count": 206,
     "metadata": {},
     "output_type": "execute_result"
    },
    {
     "data": {
      "text/plain": [
       "Text(0, 0.5, 'Relevant Channels')"
      ]
     },
     "execution_count": 206,
     "metadata": {},
     "output_type": "execute_result"
    },
    {
     "data": {
      "text/plain": [
       "<matplotlib.patches.Polygon at 0x7fd2e4551490>"
      ]
     },
     "execution_count": 206,
     "metadata": {},
     "output_type": "execute_result"
    },
    {
     "data": {
      "text/plain": [
       "<matplotlib.patches.Polygon at 0x7fd2e4d5ff50>"
      ]
     },
     "execution_count": 206,
     "metadata": {},
     "output_type": "execute_result"
    },
    {
     "data": {
      "text/plain": [
       "<matplotlib.patches.Polygon at 0x7fd2e4371ed0>"
      ]
     },
     "execution_count": 206,
     "metadata": {},
     "output_type": "execute_result"
    },
    {
     "data": {
      "text/plain": [
       "<matplotlib.patches.Polygon at 0x7fd2e4d7a450>"
      ]
     },
     "execution_count": 206,
     "metadata": {},
     "output_type": "execute_result"
    },
    {
     "data": {
      "text/plain": [
       "<matplotlib.patches.Polygon at 0x7fd2e4d7a590>"
      ]
     },
     "execution_count": 206,
     "metadata": {},
     "output_type": "execute_result"
    },
    {
     "data": {
      "text/plain": [
       "<matplotlib.patches.Polygon at 0x7fd2e4d7a290>"
      ]
     },
     "execution_count": 206,
     "metadata": {},
     "output_type": "execute_result"
    },
    {
     "data": {
      "text/plain": [
       "<matplotlib.patches.Polygon at 0x7fd2e4d7ad50>"
      ]
     },
     "execution_count": 206,
     "metadata": {},
     "output_type": "execute_result"
    },
    {
     "data": {
      "text/plain": [
       "<matplotlib.patches.Polygon at 0x7fd2e4d7af10>"
      ]
     },
     "execution_count": 206,
     "metadata": {},
     "output_type": "execute_result"
    },
    {
     "data": {
      "text/plain": [
       "<matplotlib.patches.Polygon at 0x7fd2e4d7ac50>"
      ]
     },
     "execution_count": 206,
     "metadata": {},
     "output_type": "execute_result"
    },
    {
     "data": {
      "text/plain": [
       "<matplotlib.patches.Polygon at 0x7fd2e4d7ab10>"
      ]
     },
     "execution_count": 206,
     "metadata": {},
     "output_type": "execute_result"
    },
    {
     "data": {
      "text/plain": [
       "<matplotlib.patches.Polygon at 0x7fd2e4d7af50>"
      ]
     },
     "execution_count": 206,
     "metadata": {},
     "output_type": "execute_result"
    },
    {
     "data": {
      "text/plain": [
       "<matplotlib.patches.Polygon at 0x7fd2e4d7ab90>"
      ]
     },
     "execution_count": 206,
     "metadata": {},
     "output_type": "execute_result"
    },
    {
     "data": {
      "text/plain": [
       "<matplotlib.patches.Polygon at 0x7fd2e4d7f810>"
      ]
     },
     "execution_count": 206,
     "metadata": {},
     "output_type": "execute_result"
    },
    {
     "data": {
      "text/plain": [
       "<matplotlib.patches.Polygon at 0x7fd2e4946e10>"
      ]
     },
     "execution_count": 206,
     "metadata": {},
     "output_type": "execute_result"
    },
    {
     "data": {
      "text/plain": [
       "<matplotlib.patches.Polygon at 0x7fd2e4d7f710>"
      ]
     },
     "execution_count": 206,
     "metadata": {},
     "output_type": "execute_result"
    },
    {
     "data": {
      "text/plain": [
       "<matplotlib.patches.Polygon at 0x7fd2e4d7fd50>"
      ]
     },
     "execution_count": 206,
     "metadata": {},
     "output_type": "execute_result"
    },
    {
     "data": {
      "text/plain": [
       "<matplotlib.patches.Polygon at 0x7fd2e4d7ffd0>"
      ]
     },
     "execution_count": 206,
     "metadata": {},
     "output_type": "execute_result"
    },
    {
     "data": {
      "text/plain": [
       "<matplotlib.patches.Polygon at 0x7fd2e4d7fc50>"
      ]
     },
     "execution_count": 206,
     "metadata": {},
     "output_type": "execute_result"
    },
    {
     "data": {
      "text/plain": [
       "<matplotlib.patches.Polygon at 0x7fd2e3589dd0>"
      ]
     },
     "execution_count": 206,
     "metadata": {},
     "output_type": "execute_result"
    },
    {
     "data": {
      "text/plain": [
       "<matplotlib.patches.Polygon at 0x7fd2e4d8dad0>"
      ]
     },
     "execution_count": 206,
     "metadata": {},
     "output_type": "execute_result"
    },
    {
     "data": {
      "text/plain": [
       "<matplotlib.patches.Polygon at 0x7fd2e4d8da10>"
      ]
     },
     "execution_count": 206,
     "metadata": {},
     "output_type": "execute_result"
    },
    {
     "data": {
      "text/plain": [
       "<matplotlib.patches.Polygon at 0x7fd2e4d8ded0>"
      ]
     },
     "execution_count": 206,
     "metadata": {},
     "output_type": "execute_result"
    },
    {
     "data": {
      "text/plain": [
       "<matplotlib.patches.Polygon at 0x7fd2e4d8dd90>"
      ]
     },
     "execution_count": 206,
     "metadata": {},
     "output_type": "execute_result"
    },
    {
     "data": {
      "text/plain": [
       "<matplotlib.patches.Polygon at 0x7fd2e4d7ff50>"
      ]
     },
     "execution_count": 206,
     "metadata": {},
     "output_type": "execute_result"
    },
    {
     "data": {
      "text/plain": [
       "<matplotlib.patches.Polygon at 0x7fd2e4d8d6d0>"
      ]
     },
     "execution_count": 206,
     "metadata": {},
     "output_type": "execute_result"
    },
    {
     "data": {
      "text/plain": [
       "<matplotlib.patches.Polygon at 0x7fd2e4d9f950>"
      ]
     },
     "execution_count": 206,
     "metadata": {},
     "output_type": "execute_result"
    },
    {
     "data": {
      "text/plain": [
       "<matplotlib.patches.Polygon at 0x7fd2e4d9fb10>"
      ]
     },
     "execution_count": 206,
     "metadata": {},
     "output_type": "execute_result"
    },
    {
     "data": {
      "text/plain": [
       "<matplotlib.patches.Polygon at 0x7fd2e4d9fdd0>"
      ]
     },
     "execution_count": 206,
     "metadata": {},
     "output_type": "execute_result"
    },
    {
     "data": {
      "text/plain": [
       "<matplotlib.patches.Polygon at 0x7fd2e4d9fa10>"
      ]
     },
     "execution_count": 206,
     "metadata": {},
     "output_type": "execute_result"
    },
    {
     "data": {
      "text/plain": [
       "<matplotlib.patches.Polygon at 0x7fd2e4d9ff90>"
      ]
     },
     "execution_count": 206,
     "metadata": {},
     "output_type": "execute_result"
    },
    {
     "data": {
      "text/plain": [
       "<matplotlib.patches.Polygon at 0x7fd2e4d9f690>"
      ]
     },
     "execution_count": 206,
     "metadata": {},
     "output_type": "execute_result"
    },
    {
     "data": {
      "text/plain": [
       "<matplotlib.patches.Polygon at 0x7fd2e4d9fd10>"
      ]
     },
     "execution_count": 206,
     "metadata": {},
     "output_type": "execute_result"
    },
    {
     "data": {
      "text/plain": [
       "<matplotlib.patches.Polygon at 0x7fd2e4d7f690>"
      ]
     },
     "execution_count": 206,
     "metadata": {},
     "output_type": "execute_result"
    },
    {
     "data": {
      "text/plain": [
       "<matplotlib.patches.Polygon at 0x7fd2e4d7fb10>"
      ]
     },
     "execution_count": 206,
     "metadata": {},
     "output_type": "execute_result"
    },
    {
     "data": {
      "text/plain": [
       "<matplotlib.patches.Polygon at 0x7fd2e4db6dd0>"
      ]
     },
     "execution_count": 206,
     "metadata": {},
     "output_type": "execute_result"
    },
    {
     "data": {
      "text/plain": [
       "<matplotlib.patches.Polygon at 0x7fd2e4db6f10>"
      ]
     },
     "execution_count": 206,
     "metadata": {},
     "output_type": "execute_result"
    },
    {
     "data": {
      "text/plain": [
       "<matplotlib.patches.Polygon at 0x7fd2e4db6250>"
      ]
     },
     "execution_count": 206,
     "metadata": {},
     "output_type": "execute_result"
    },
    {
     "data": {
      "text/plain": [
       "<matplotlib.patches.Polygon at 0x7fd2e4db6d50>"
      ]
     },
     "execution_count": 206,
     "metadata": {},
     "output_type": "execute_result"
    },
    {
     "data": {
      "text/plain": [
       "<matplotlib.patches.Polygon at 0x7fd2e4d7f8d0>"
      ]
     },
     "execution_count": 206,
     "metadata": {},
     "output_type": "execute_result"
    },
    {
     "data": {
      "text/plain": [
       "<matplotlib.patches.Polygon at 0x7fd2e4db9950>"
      ]
     },
     "execution_count": 206,
     "metadata": {},
     "output_type": "execute_result"
    },
    {
     "data": {
      "text/plain": [
       "<matplotlib.patches.Polygon at 0x7fd2e4db9b90>"
      ]
     },
     "execution_count": 206,
     "metadata": {},
     "output_type": "execute_result"
    },
    {
     "data": {
      "text/plain": [
       "<matplotlib.patches.Polygon at 0x7fd2e4db9dd0>"
      ]
     },
     "execution_count": 206,
     "metadata": {},
     "output_type": "execute_result"
    },
    {
     "data": {
      "text/plain": [
       "<matplotlib.patches.Polygon at 0x7fd2e4db9d90>"
      ]
     },
     "execution_count": 206,
     "metadata": {},
     "output_type": "execute_result"
    },
    {
     "data": {
      "text/plain": [
       "<matplotlib.patches.Polygon at 0x7fd2e4db9f50>"
      ]
     },
     "execution_count": 206,
     "metadata": {},
     "output_type": "execute_result"
    },
    {
     "data": {
      "text/plain": [
       "<matplotlib.patches.Polygon at 0x7fd2e4dcd110>"
      ]
     },
     "execution_count": 206,
     "metadata": {},
     "output_type": "execute_result"
    },
    {
     "data": {
      "text/plain": [
       "<matplotlib.patches.Polygon at 0x7fd2e4dcd710>"
      ]
     },
     "execution_count": 206,
     "metadata": {},
     "output_type": "execute_result"
    },
    {
     "data": {
      "text/plain": [
       "<matplotlib.patches.Polygon at 0x7fd2e4d9f210>"
      ]
     },
     "execution_count": 206,
     "metadata": {},
     "output_type": "execute_result"
    },
    {
     "data": {
      "text/plain": [
       "<matplotlib.patches.Polygon at 0x7fd2e4db9250>"
      ]
     },
     "execution_count": 206,
     "metadata": {},
     "output_type": "execute_result"
    },
    {
     "data": {
      "text/plain": [
       "<matplotlib.patches.Polygon at 0x7fd2e4dcddd0>"
      ]
     },
     "execution_count": 206,
     "metadata": {},
     "output_type": "execute_result"
    },
    {
     "data": {
      "text/plain": [
       "<matplotlib.patches.Polygon at 0x7fd2e4dcdf10>"
      ]
     },
     "execution_count": 206,
     "metadata": {},
     "output_type": "execute_result"
    },
    {
     "data": {
      "text/plain": [
       "<matplotlib.patches.Polygon at 0x7fd2e4db9cd0>"
      ]
     },
     "execution_count": 206,
     "metadata": {},
     "output_type": "execute_result"
    },
    {
     "data": {
      "text/plain": [
       "<matplotlib.patches.Polygon at 0x7fd2e4dcda50>"
      ]
     },
     "execution_count": 206,
     "metadata": {},
     "output_type": "execute_result"
    },
    {
     "data": {
      "text/plain": [
       "<matplotlib.patches.Polygon at 0x7fd2e4dcdf50>"
      ]
     },
     "execution_count": 206,
     "metadata": {},
     "output_type": "execute_result"
    },
    {
     "data": {
      "text/plain": [
       "<matplotlib.patches.Polygon at 0x7fd2e4dcd3d0>"
      ]
     },
     "execution_count": 206,
     "metadata": {},
     "output_type": "execute_result"
    },
    {
     "data": {
      "text/plain": [
       "<matplotlib.patches.Polygon at 0x7fd2e4dcdd90>"
      ]
     },
     "execution_count": 206,
     "metadata": {},
     "output_type": "execute_result"
    },
    {
     "data": {
      "text/plain": [
       "<matplotlib.patches.Polygon at 0x7fd2e4de6dd0>"
      ]
     },
     "execution_count": 206,
     "metadata": {},
     "output_type": "execute_result"
    },
    {
     "data": {
      "text/plain": [
       "<matplotlib.patches.Polygon at 0x7fd2e4de6f10>"
      ]
     },
     "execution_count": 206,
     "metadata": {},
     "output_type": "execute_result"
    },
    {
     "data": {
      "text/plain": [
       "<matplotlib.patches.Polygon at 0x7fd2e4de6650>"
      ]
     },
     "execution_count": 206,
     "metadata": {},
     "output_type": "execute_result"
    },
    {
     "data": {
      "text/plain": [
       "<matplotlib.patches.Polygon at 0x7fd2e4de6d90>"
      ]
     },
     "execution_count": 206,
     "metadata": {},
     "output_type": "execute_result"
    },
    {
     "data": {
      "text/plain": [
       "<matplotlib.patches.Polygon at 0x7fd2e4df1710>"
      ]
     },
     "execution_count": 206,
     "metadata": {},
     "output_type": "execute_result"
    },
    {
     "data": {
      "text/plain": [
       "<matplotlib.patches.Polygon at 0x7fd2e4df1950>"
      ]
     },
     "execution_count": 206,
     "metadata": {},
     "output_type": "execute_result"
    },
    {
     "data": {
      "text/plain": [
       "<matplotlib.patches.Polygon at 0x7fd2e4d8d450>"
      ]
     },
     "execution_count": 206,
     "metadata": {},
     "output_type": "execute_result"
    },
    {
     "data": {
      "text/plain": [
       "<matplotlib.patches.Polygon at 0x7fd2e4df1dd0>"
      ]
     },
     "execution_count": 206,
     "metadata": {},
     "output_type": "execute_result"
    },
    {
     "data": {
      "text/plain": [
       "<matplotlib.patches.Polygon at 0x7fd2e4df1f10>"
      ]
     },
     "execution_count": 206,
     "metadata": {},
     "output_type": "execute_result"
    },
    {
     "data": {
      "text/plain": [
       "<matplotlib.patches.Polygon at 0x7fd2e4df1f90>"
      ]
     },
     "execution_count": 206,
     "metadata": {},
     "output_type": "execute_result"
    },
    {
     "data": {
      "text/plain": [
       "<matplotlib.patches.Polygon at 0x7fd2e4df1250>"
      ]
     },
     "execution_count": 206,
     "metadata": {},
     "output_type": "execute_result"
    },
    {
     "data": {
      "text/plain": [
       "<matplotlib.patches.Polygon at 0x7fd2e4df1cd0>"
      ]
     },
     "execution_count": 206,
     "metadata": {},
     "output_type": "execute_result"
    },
    {
     "data": {
      "text/plain": [
       "<matplotlib.patches.Polygon at 0x7fd2e4de6610>"
      ]
     },
     "execution_count": 206,
     "metadata": {},
     "output_type": "execute_result"
    },
    {
     "data": {
      "text/plain": [
       "<matplotlib.patches.Polygon at 0x7fd2e4e06b90>"
      ]
     },
     "execution_count": 206,
     "metadata": {},
     "output_type": "execute_result"
    },
    {
     "data": {
      "text/plain": [
       "<matplotlib.patches.Polygon at 0x7fd2e4e06dd0>"
      ]
     },
     "execution_count": 206,
     "metadata": {},
     "output_type": "execute_result"
    },
    {
     "data": {
      "text/plain": [
       "<matplotlib.patches.Polygon at 0x7fd2e4e06d90>"
      ]
     },
     "execution_count": 206,
     "metadata": {},
     "output_type": "execute_result"
    },
    {
     "data": {
      "text/plain": [
       "<matplotlib.patches.Polygon at 0x7fd2e4e06fd0>"
      ]
     },
     "execution_count": 206,
     "metadata": {},
     "output_type": "execute_result"
    },
    {
     "data": {
      "text/plain": [
       "<matplotlib.patches.Polygon at 0x7fd2e4e06f10>"
      ]
     },
     "execution_count": 206,
     "metadata": {},
     "output_type": "execute_result"
    },
    {
     "data": {
      "text/plain": [
       "<matplotlib.patches.Polygon at 0x7fd2e4e06490>"
      ]
     },
     "execution_count": 206,
     "metadata": {},
     "output_type": "execute_result"
    },
    {
     "data": {
      "text/plain": [
       "<matplotlib.patches.Polygon at 0x7fd2e4e13950>"
      ]
     },
     "execution_count": 206,
     "metadata": {},
     "output_type": "execute_result"
    },
    {
     "data": {
      "text/plain": [
       "<matplotlib.patches.Polygon at 0x7fd2e4e13b90>"
      ]
     },
     "execution_count": 206,
     "metadata": {},
     "output_type": "execute_result"
    },
    {
     "data": {
      "text/plain": [
       "<matplotlib.patches.Polygon at 0x7fd2e4e13dd0>"
      ]
     },
     "execution_count": 206,
     "metadata": {},
     "output_type": "execute_result"
    },
    {
     "data": {
      "text/plain": [
       "<matplotlib.patches.Polygon at 0x7fd2e4e13f10>"
      ]
     },
     "execution_count": 206,
     "metadata": {},
     "output_type": "execute_result"
    },
    {
     "data": {
      "text/plain": [
       "<matplotlib.patches.Polygon at 0x7fd2e4e13b10>"
      ]
     },
     "execution_count": 206,
     "metadata": {},
     "output_type": "execute_result"
    },
    {
     "data": {
      "text/plain": [
       "<matplotlib.patches.Polygon at 0x7fd2e4e13250>"
      ]
     },
     "execution_count": 206,
     "metadata": {},
     "output_type": "execute_result"
    },
    {
     "data": {
      "text/plain": [
       "<matplotlib.patches.Polygon at 0x7fd2e4db6210>"
      ]
     },
     "execution_count": 206,
     "metadata": {},
     "output_type": "execute_result"
    },
    {
     "data": {
      "text/plain": [
       "<matplotlib.patches.Polygon at 0x7fd2e4e21950>"
      ]
     },
     "execution_count": 206,
     "metadata": {},
     "output_type": "execute_result"
    },
    {
     "data": {
      "text/plain": [
       "<matplotlib.patches.Polygon at 0x7fd2e4e21b90>"
      ]
     },
     "execution_count": 206,
     "metadata": {},
     "output_type": "execute_result"
    },
    {
     "data": {
      "text/plain": [
       "<matplotlib.patches.Polygon at 0x7fd2e4e21250>"
      ]
     },
     "execution_count": 206,
     "metadata": {},
     "output_type": "execute_result"
    },
    {
     "data": {
      "text/plain": [
       "<matplotlib.patches.Polygon at 0x7fd2e4e21d50>"
      ]
     },
     "execution_count": 206,
     "metadata": {},
     "output_type": "execute_result"
    },
    {
     "data": {
      "text/plain": [
       "<matplotlib.patches.Polygon at 0x7fd2e4e21d90>"
      ]
     },
     "execution_count": 206,
     "metadata": {},
     "output_type": "execute_result"
    },
    {
     "data": {
      "text/plain": [
       "<matplotlib.patches.Polygon at 0x7fd2e4e21f50>"
      ]
     },
     "execution_count": 206,
     "metadata": {},
     "output_type": "execute_result"
    },
    {
     "data": {
      "text/plain": [
       "<matplotlib.patches.Polygon at 0x7fd2e4e21ed0>"
      ]
     },
     "execution_count": 206,
     "metadata": {},
     "output_type": "execute_result"
    },
    {
     "data": {
      "text/plain": [
       "<matplotlib.patches.Polygon at 0x7fd2e4d5f290>"
      ]
     },
     "execution_count": 206,
     "metadata": {},
     "output_type": "execute_result"
    },
    {
     "data": {
      "text/plain": [
       "<matplotlib.patches.Polygon at 0x7fd2e4e33b90>"
      ]
     },
     "execution_count": 206,
     "metadata": {},
     "output_type": "execute_result"
    },
    {
     "data": {
      "text/plain": [
       "<matplotlib.patches.Polygon at 0x7fd2e4d9fd50>"
      ]
     },
     "execution_count": 206,
     "metadata": {},
     "output_type": "execute_result"
    },
    {
     "data": {
      "text/plain": [
       "<matplotlib.patches.Polygon at 0x7fd2e4e33e50>"
      ]
     },
     "execution_count": 206,
     "metadata": {},
     "output_type": "execute_result"
    },
    {
     "data": {
      "text/plain": [
       "<matplotlib.patches.Polygon at 0x7fd2e4e33250>"
      ]
     },
     "execution_count": 206,
     "metadata": {},
     "output_type": "execute_result"
    },
    {
     "data": {
      "text/plain": [
       "<matplotlib.patches.Polygon at 0x7fd2e4e33f90>"
      ]
     },
     "execution_count": 206,
     "metadata": {},
     "output_type": "execute_result"
    },
    {
     "data": {
      "text/plain": [
       "<matplotlib.patches.Polygon at 0x7fd2e4e33f10>"
      ]
     },
     "execution_count": 206,
     "metadata": {},
     "output_type": "execute_result"
    },
    {
     "data": {
      "text/plain": [
       "<matplotlib.patches.Polygon at 0x7fd2e4e3a950>"
      ]
     },
     "execution_count": 206,
     "metadata": {},
     "output_type": "execute_result"
    },
    {
     "data": {
      "text/plain": [
       "<matplotlib.patches.Polygon at 0x7fd2e4db6f90>"
      ]
     },
     "execution_count": 206,
     "metadata": {},
     "output_type": "execute_result"
    },
    {
     "data": {
      "text/plain": [
       "<matplotlib.patches.Polygon at 0x7fd2e4e3add0>"
      ]
     },
     "execution_count": 206,
     "metadata": {},
     "output_type": "execute_result"
    },
    {
     "data": {
      "text/plain": [
       "<matplotlib.patches.Polygon at 0x7fd2e4e3ad90>"
      ]
     },
     "execution_count": 206,
     "metadata": {},
     "output_type": "execute_result"
    },
    {
     "data": {
      "text/plain": [
       "<matplotlib.patches.Polygon at 0x7fd2e4e3ad10>"
      ]
     },
     "execution_count": 206,
     "metadata": {},
     "output_type": "execute_result"
    },
    {
     "data": {
      "text/plain": [
       "<matplotlib.patches.Polygon at 0x7fd2e4e3af50>"
      ]
     },
     "execution_count": 206,
     "metadata": {},
     "output_type": "execute_result"
    },
    {
     "data": {
      "text/plain": [
       "<matplotlib.patches.Polygon at 0x7fd2e4e3af90>"
      ]
     },
     "execution_count": 206,
     "metadata": {},
     "output_type": "execute_result"
    },
    {
     "data": {
      "text/plain": [
       "<matplotlib.patches.Polygon at 0x7fd2e4e51950>"
      ]
     },
     "execution_count": 206,
     "metadata": {},
     "output_type": "execute_result"
    },
    {
     "data": {
      "text/plain": [
       "<matplotlib.patches.Polygon at 0x7fd2e4e51b90>"
      ]
     },
     "execution_count": 206,
     "metadata": {},
     "output_type": "execute_result"
    },
    {
     "data": {
      "text/plain": [
       "<matplotlib.patches.Polygon at 0x7fd2e4e51dd0>"
      ]
     },
     "execution_count": 206,
     "metadata": {},
     "output_type": "execute_result"
    },
    {
     "data": {
      "text/plain": [
       "<matplotlib.patches.Polygon at 0x7fd2e4e51f10>"
      ]
     },
     "execution_count": 206,
     "metadata": {},
     "output_type": "execute_result"
    },
    {
     "data": {
      "text/plain": [
       "<matplotlib.patches.Polygon at 0x7fd2e4e51250>"
      ]
     },
     "execution_count": 206,
     "metadata": {},
     "output_type": "execute_result"
    },
    {
     "data": {
      "text/plain": [
       "<matplotlib.patches.Polygon at 0x7fd2e4e51f50>"
      ]
     },
     "execution_count": 206,
     "metadata": {},
     "output_type": "execute_result"
    },
    {
     "data": {
      "text/plain": [
       "<matplotlib.patches.Polygon at 0x7fd2e4e51b10>"
      ]
     },
     "execution_count": 206,
     "metadata": {},
     "output_type": "execute_result"
    },
    {
     "data": {
      "text/plain": [
       "<matplotlib.patches.Polygon at 0x7fd2e4e58950>"
      ]
     },
     "execution_count": 206,
     "metadata": {},
     "output_type": "execute_result"
    },
    {
     "data": {
      "text/plain": [
       "<matplotlib.patches.Polygon at 0x7fd2e4e33d50>"
      ]
     },
     "execution_count": 206,
     "metadata": {},
     "output_type": "execute_result"
    },
    {
     "data": {
      "text/plain": [
       "<matplotlib.patches.Polygon at 0x7fd2e4e3ab10>"
      ]
     },
     "execution_count": 206,
     "metadata": {},
     "output_type": "execute_result"
    },
    {
     "data": {
      "text/plain": [
       "<matplotlib.patches.Polygon at 0x7fd2e4e58f10>"
      ]
     },
     "execution_count": 206,
     "metadata": {},
     "output_type": "execute_result"
    },
    {
     "data": {
      "text/plain": [
       "<matplotlib.patches.Polygon at 0x7fd2e4e51d90>"
      ]
     },
     "execution_count": 206,
     "metadata": {},
     "output_type": "execute_result"
    },
    {
     "data": {
      "text/plain": [
       "<matplotlib.patches.Polygon at 0x7fd2e4e58250>"
      ]
     },
     "execution_count": 206,
     "metadata": {},
     "output_type": "execute_result"
    },
    {
     "data": {
      "text/plain": [
       "<matplotlib.patches.Polygon at 0x7fd2e4e58450>"
      ]
     },
     "execution_count": 206,
     "metadata": {},
     "output_type": "execute_result"
    },
    {
     "data": {
      "text/plain": [
       "<matplotlib.patches.Polygon at 0x7fd2e4e69990>"
      ]
     },
     "execution_count": 206,
     "metadata": {},
     "output_type": "execute_result"
    },
    {
     "data": {
      "text/plain": [
       "<matplotlib.patches.Polygon at 0x7fd2e4e69b90>"
      ]
     },
     "execution_count": 206,
     "metadata": {},
     "output_type": "execute_result"
    },
    {
     "data": {
      "text/plain": [
       "<matplotlib.patches.Polygon at 0x7fd2e4e69dd0>"
      ]
     },
     "execution_count": 206,
     "metadata": {},
     "output_type": "execute_result"
    },
    {
     "data": {
      "text/plain": [
       "<matplotlib.patches.Polygon at 0x7fd2e4e69d90>"
      ]
     },
     "execution_count": 206,
     "metadata": {},
     "output_type": "execute_result"
    },
    {
     "ename": "AttributeError",
     "evalue": "__delete__",
     "output_type": "error",
     "traceback": [
      "\u001b[0;31m---------------------------------------------------------------------------\u001b[0m",
      "\u001b[0;31mAttributeError\u001b[0m                            Traceback (most recent call last)",
      "\u001b[0;32m/var/folders/xc/rhr6x9qn6sb5xp5ypm3zr0xm0000gn/T/ipykernel_3357/1689639705.py\u001b[0m in \u001b[0;36m<module>\u001b[0;34m\u001b[0m\n\u001b[1;32m     25\u001b[0m                       )\n\u001b[1;32m     26\u001b[0m \u001b[0;34m\u001b[0m\u001b[0m\n\u001b[0;32m---> 27\u001b[0;31m \u001b[0mfig\u001b[0m\u001b[0;34m.\u001b[0m\u001b[0msavefig\u001b[0m\u001b[0;34m(\u001b[0m\u001b[0mfilename\u001b[0m\u001b[0;34m+\u001b[0m\u001b[0;34m'raster_and_FR_plot_10082021_b25.png'\u001b[0m\u001b[0;34m,\u001b[0m \u001b[0mdpi\u001b[0m\u001b[0;34m=\u001b[0m\u001b[0;36m300\u001b[0m\u001b[0;34m,\u001b[0m \u001b[0mbbox_inches\u001b[0m \u001b[0;34m=\u001b[0m \u001b[0;34m'tight'\u001b[0m\u001b[0;34m)\u001b[0m\u001b[0;34m\u001b[0m\u001b[0;34m\u001b[0m\u001b[0m\n\u001b[0m",
      "\u001b[0;32m/opt/anaconda3/lib/python3.7/site-packages/matplotlib/figure.py\u001b[0m in \u001b[0;36msavefig\u001b[0;34m(self, fname, transparent, **kwargs)\u001b[0m\n\u001b[1;32m   2309\u001b[0m                 \u001b[0mpatch\u001b[0m\u001b[0;34m.\u001b[0m\u001b[0mset_edgecolor\u001b[0m\u001b[0;34m(\u001b[0m\u001b[0;34m'none'\u001b[0m\u001b[0;34m)\u001b[0m\u001b[0;34m\u001b[0m\u001b[0;34m\u001b[0m\u001b[0m\n\u001b[1;32m   2310\u001b[0m \u001b[0;34m\u001b[0m\u001b[0m\n\u001b[0;32m-> 2311\u001b[0;31m         \u001b[0mself\u001b[0m\u001b[0;34m.\u001b[0m\u001b[0mcanvas\u001b[0m\u001b[0;34m.\u001b[0m\u001b[0mprint_figure\u001b[0m\u001b[0;34m(\u001b[0m\u001b[0mfname\u001b[0m\u001b[0;34m,\u001b[0m \u001b[0;34m**\u001b[0m\u001b[0mkwargs\u001b[0m\u001b[0;34m)\u001b[0m\u001b[0;34m\u001b[0m\u001b[0;34m\u001b[0m\u001b[0m\n\u001b[0m\u001b[1;32m   2312\u001b[0m \u001b[0;34m\u001b[0m\u001b[0m\n\u001b[1;32m   2313\u001b[0m         \u001b[0;32mif\u001b[0m \u001b[0mtransparent\u001b[0m\u001b[0;34m:\u001b[0m\u001b[0;34m\u001b[0m\u001b[0;34m\u001b[0m\u001b[0m\n",
      "\u001b[0;32m/opt/anaconda3/lib/python3.7/site-packages/matplotlib/backend_bases.py\u001b[0m in \u001b[0;36mprint_figure\u001b[0;34m(self, filename, dpi, facecolor, edgecolor, orientation, format, bbox_inches, pad_inches, bbox_extra_artists, backend, **kwargs)\u001b[0m\n\u001b[1;32m   2223\u001b[0m                 \u001b[0mself\u001b[0m\u001b[0;34m.\u001b[0m\u001b[0mfigure\u001b[0m\u001b[0;34m.\u001b[0m\u001b[0mset_edgecolor\u001b[0m\u001b[0;34m(\u001b[0m\u001b[0morigedgecolor\u001b[0m\u001b[0;34m)\u001b[0m\u001b[0;34m\u001b[0m\u001b[0;34m\u001b[0m\u001b[0m\n\u001b[1;32m   2224\u001b[0m                 \u001b[0mself\u001b[0m\u001b[0;34m.\u001b[0m\u001b[0mfigure\u001b[0m\u001b[0;34m.\u001b[0m\u001b[0mset_canvas\u001b[0m\u001b[0;34m(\u001b[0m\u001b[0mself\u001b[0m\u001b[0;34m)\u001b[0m\u001b[0;34m\u001b[0m\u001b[0;34m\u001b[0m\u001b[0m\n\u001b[0;32m-> 2225\u001b[0;31m             \u001b[0;32mreturn\u001b[0m \u001b[0mresult\u001b[0m\u001b[0;34m\u001b[0m\u001b[0;34m\u001b[0m\u001b[0m\n\u001b[0m\u001b[1;32m   2226\u001b[0m \u001b[0;34m\u001b[0m\u001b[0m\n\u001b[1;32m   2227\u001b[0m     \u001b[0;34m@\u001b[0m\u001b[0mclassmethod\u001b[0m\u001b[0;34m\u001b[0m\u001b[0;34m\u001b[0m\u001b[0m\n",
      "\u001b[0;32m/opt/anaconda3/lib/python3.7/contextlib.py\u001b[0m in \u001b[0;36m__exit__\u001b[0;34m(self, type, value, traceback)\u001b[0m\n\u001b[1;32m    117\u001b[0m         \u001b[0;32mif\u001b[0m \u001b[0mtype\u001b[0m \u001b[0;32mis\u001b[0m \u001b[0;32mNone\u001b[0m\u001b[0;34m:\u001b[0m\u001b[0;34m\u001b[0m\u001b[0;34m\u001b[0m\u001b[0m\n\u001b[1;32m    118\u001b[0m             \u001b[0;32mtry\u001b[0m\u001b[0;34m:\u001b[0m\u001b[0;34m\u001b[0m\u001b[0;34m\u001b[0m\u001b[0m\n\u001b[0;32m--> 119\u001b[0;31m                 \u001b[0mnext\u001b[0m\u001b[0;34m(\u001b[0m\u001b[0mself\u001b[0m\u001b[0;34m.\u001b[0m\u001b[0mgen\u001b[0m\u001b[0;34m)\u001b[0m\u001b[0;34m\u001b[0m\u001b[0;34m\u001b[0m\u001b[0m\n\u001b[0m\u001b[1;32m    120\u001b[0m             \u001b[0;32mexcept\u001b[0m \u001b[0mStopIteration\u001b[0m\u001b[0;34m:\u001b[0m\u001b[0;34m\u001b[0m\u001b[0;34m\u001b[0m\u001b[0m\n\u001b[1;32m    121\u001b[0m                 \u001b[0;32mreturn\u001b[0m \u001b[0;32mFalse\u001b[0m\u001b[0;34m\u001b[0m\u001b[0;34m\u001b[0m\u001b[0m\n",
      "\u001b[0;32m/opt/anaconda3/lib/python3.7/site-packages/matplotlib/cbook/__init__.py\u001b[0m in \u001b[0;36m_setattr_cm\u001b[0;34m(obj, **kwargs)\u001b[0m\n\u001b[1;32m   2082\u001b[0m         \u001b[0;32mfor\u001b[0m \u001b[0mattr\u001b[0m\u001b[0;34m,\u001b[0m \u001b[0morig\u001b[0m \u001b[0;32min\u001b[0m \u001b[0morigs\u001b[0m\u001b[0;34m.\u001b[0m\u001b[0mitems\u001b[0m\u001b[0;34m(\u001b[0m\u001b[0;34m)\u001b[0m\u001b[0;34m:\u001b[0m\u001b[0;34m\u001b[0m\u001b[0;34m\u001b[0m\u001b[0m\n\u001b[1;32m   2083\u001b[0m             \u001b[0;32mif\u001b[0m \u001b[0morig\u001b[0m \u001b[0;32mis\u001b[0m \u001b[0msentinel\u001b[0m\u001b[0;34m:\u001b[0m\u001b[0;34m\u001b[0m\u001b[0;34m\u001b[0m\u001b[0m\n\u001b[0;32m-> 2084\u001b[0;31m                 \u001b[0mdelattr\u001b[0m\u001b[0;34m(\u001b[0m\u001b[0mobj\u001b[0m\u001b[0;34m,\u001b[0m \u001b[0mattr\u001b[0m\u001b[0;34m)\u001b[0m\u001b[0;34m\u001b[0m\u001b[0;34m\u001b[0m\u001b[0m\n\u001b[0m\u001b[1;32m   2085\u001b[0m             \u001b[0;32melse\u001b[0m\u001b[0;34m:\u001b[0m\u001b[0;34m\u001b[0m\u001b[0;34m\u001b[0m\u001b[0m\n\u001b[1;32m   2086\u001b[0m                 \u001b[0msetattr\u001b[0m\u001b[0;34m(\u001b[0m\u001b[0mobj\u001b[0m\u001b[0;34m,\u001b[0m \u001b[0mattr\u001b[0m\u001b[0;34m,\u001b[0m \u001b[0morig\u001b[0m\u001b[0;34m)\u001b[0m\u001b[0;34m\u001b[0m\u001b[0;34m\u001b[0m\u001b[0m\n",
      "\u001b[0;31mAttributeError\u001b[0m: __delete__"
     ]
    }
   ],
   "source": [
    "# we plot the beginning figure -> burst of interest is in yellow\n",
    "\n",
    "# we choose the burst we want to plot and get start and end time in seconds\n",
    "burst_of_interest = 26\n",
    "b_of_interest_start = burst_seconds_start[burst_of_interest]\n",
    "b_of_interest_end = burst_seconds_end[burst_of_interest]\n",
    "\n",
    "\n",
    "\n",
    "fig = plt.figure(figsize = (10,4))\n",
    "gs = fig.add_gridspec(2, hspace = 0, height_ratios=[1,5])\n",
    "axs = gs.subplots(sharex=False, sharey=False)\n",
    "axs[0].plot(ma_fr_gau, color= 'black')\n",
    "axs[0].set_ylabel('Firing Rate [Hz]')\n",
    "axs[1].eventplot(spikearray_seconds, color = 'black', linewidths = 0.5, linelengths = 1)\n",
    "axs[1].set_ylabel('Relevant Channels')\n",
    "\n",
    "for ax in axs:\n",
    "    for i in bursts_seconds:\n",
    "        axs[1].axvspan(i[0], i[1], facecolor = '#118C8C', alpha = 0.3)\n",
    "        \n",
    "        axs[1].axvspan(b_of_interest_start, \n",
    "                       b_of_interest_end, facecolor = '#F2CD5E', alpha = 0.2, \n",
    "                       label = 'longest network burst'\n",
    "                      )\n",
    "        \n",
    "fig.savefig(filename+'raster_and_FR_plot_10082021_b25.png', dpi=300, bbox_inches = 'tight')"
   ]
  },
  {
   "cell_type": "code",
   "execution_count": 207,
   "id": "6867d1a2",
   "metadata": {},
   "outputs": [],
   "source": [
    "# in the spikearray_seconds we have every spike used in the whole recording block\n",
    "# we will now filter them to be in the time region of interest and create burst_of_interest_array\n",
    "\n",
    "boi_array = []\n",
    "\n",
    "for i in spikearray_seconds:\n",
    "    channel_array_list = []\n",
    "    for j in i:\n",
    "        if (j >= b_of_interest_start) and (j <= b_of_interest_end):\n",
    "            channel_array_list.append(j)\n",
    "    channel_array = np.asarray(channel_array_list)\n",
    "    boi_array.append(channel_array)\n",
    "\n",
    "boi_array = np.asarray(boi_array)"
   ]
  },
  {
   "cell_type": "code",
   "execution_count": 208,
   "id": "209fe6f8",
   "metadata": {},
   "outputs": [
    {
     "data": {
      "application/vnd.jupyter.widget-view+json": {
       "model_id": "aa0163aac03a4d0e9470fadf6c7d4f55",
       "version_major": 2,
       "version_minor": 0
      },
      "text/plain": [
       "Canvas(toolbar=Toolbar(toolitems=[('Home', 'Reset original view', 'home', 'home'), ('Back', 'Back to previous …"
      ]
     },
     "metadata": {},
     "output_type": "display_data"
    },
    {
     "data": {
      "text/plain": [
       "[<matplotlib.lines.Line2D at 0x7fd2e34d0190>]"
      ]
     },
     "execution_count": 208,
     "metadata": {},
     "output_type": "execute_result"
    },
    {
     "data": {
      "text/plain": [
       "Text(0, 0.5, 'Firing Rate [Hz]')"
      ]
     },
     "execution_count": 208,
     "metadata": {},
     "output_type": "execute_result"
    },
    {
     "data": {
      "text/plain": [
       "[<matplotlib.collections.EventCollection at 0x7fd34092c450>,\n",
       " <matplotlib.collections.EventCollection at 0x7fd32a1627d0>,\n",
       " <matplotlib.collections.EventCollection at 0x7fd3224c7290>,\n",
       " <matplotlib.collections.EventCollection at 0x7fd32248fc90>,\n",
       " <matplotlib.collections.EventCollection at 0x7fd2e671ac50>,\n",
       " <matplotlib.collections.EventCollection at 0x7fd2e6723210>,\n",
       " <matplotlib.collections.EventCollection at 0x7fd2e6723810>,\n",
       " <matplotlib.collections.EventCollection at 0x7fd2e6723bd0>,\n",
       " <matplotlib.collections.EventCollection at 0x7fd2e6723fd0>,\n",
       " <matplotlib.collections.EventCollection at 0x7fd2e6723250>,\n",
       " <matplotlib.collections.EventCollection at 0x7fd2e672db90>,\n",
       " <matplotlib.collections.EventCollection at 0x7fd2e672df10>,\n",
       " <matplotlib.collections.EventCollection at 0x7fd2e67342d0>,\n",
       " <matplotlib.collections.EventCollection at 0x7fd2e6734ad0>,\n",
       " <matplotlib.collections.EventCollection at 0x7fd2e6734ed0>,\n",
       " <matplotlib.collections.EventCollection at 0x7fd2e673f310>,\n",
       " <matplotlib.collections.EventCollection at 0x7fd2e673f650>,\n",
       " <matplotlib.collections.EventCollection at 0x7fd2e673f990>,\n",
       " <matplotlib.collections.EventCollection at 0x7fd2e673fcd0>,\n",
       " <matplotlib.collections.EventCollection at 0x7fd2e67490d0>,\n",
       " <matplotlib.collections.EventCollection at 0x7fd2e67494d0>,\n",
       " <matplotlib.collections.EventCollection at 0x7fd2e6749850>,\n",
       " <matplotlib.collections.EventCollection at 0x7fd2e6749c10>,\n",
       " <matplotlib.collections.EventCollection at 0x7fd2e6749f50>,\n",
       " <matplotlib.collections.EventCollection at 0x7fd2e6818290>,\n",
       " <matplotlib.collections.EventCollection at 0x7fd2e6818610>,\n",
       " <matplotlib.collections.EventCollection at 0x7fd2e6818950>,\n",
       " <matplotlib.collections.EventCollection at 0x7fd2e6818c90>,\n",
       " <matplotlib.collections.EventCollection at 0x7fd2e6818f50>,\n",
       " <matplotlib.collections.EventCollection at 0x7fd2e68222d0>,\n",
       " <matplotlib.collections.EventCollection at 0x7fd2e6822610>,\n",
       " <matplotlib.collections.EventCollection at 0x7fd2e6822950>,\n",
       " <matplotlib.collections.EventCollection at 0x7fd2e6822c90>,\n",
       " <matplotlib.collections.EventCollection at 0x7fd2e6822fd0>,\n",
       " <matplotlib.collections.EventCollection at 0x7fd2e682d390>,\n",
       " <matplotlib.collections.EventCollection at 0x7fd2e682d710>,\n",
       " <matplotlib.collections.EventCollection at 0x7fd2e682da50>,\n",
       " <matplotlib.collections.EventCollection at 0x7fd2e682dd90>,\n",
       " <matplotlib.collections.EventCollection at 0x7fd2e6839150>,\n",
       " <matplotlib.collections.EventCollection at 0x7fd2e68394d0>,\n",
       " <matplotlib.collections.EventCollection at 0x7fd2e6839850>,\n",
       " <matplotlib.collections.EventCollection at 0x7fd2e6839bd0>,\n",
       " <matplotlib.collections.EventCollection at 0x7fd2e6839f50>,\n",
       " <matplotlib.collections.EventCollection at 0x7fd2e6848310>,\n",
       " <matplotlib.collections.EventCollection at 0x7fd2e6848650>,\n",
       " <matplotlib.collections.EventCollection at 0x7fd2e6848990>,\n",
       " <matplotlib.collections.EventCollection at 0x7fd2e6848d10>,\n",
       " <matplotlib.collections.EventCollection at 0x7fd2e6854050>,\n",
       " <matplotlib.collections.EventCollection at 0x7fd2e6854410>,\n",
       " <matplotlib.collections.EventCollection at 0x7fd2e6854950>,\n",
       " <matplotlib.collections.EventCollection at 0x7fd2e6854cd0>,\n",
       " <matplotlib.collections.EventCollection at 0x7fd2e6854fd0>,\n",
       " <matplotlib.collections.EventCollection at 0x7fd2e68613d0>,\n",
       " <matplotlib.collections.EventCollection at 0x7fd2e6861750>,\n",
       " <matplotlib.collections.EventCollection at 0x7fd2e6861ad0>,\n",
       " <matplotlib.collections.EventCollection at 0x7fd2e6861e50>,\n",
       " <matplotlib.collections.EventCollection at 0x7fd2e686e1d0>,\n",
       " <matplotlib.collections.EventCollection at 0x7fd2e686e510>,\n",
       " <matplotlib.collections.EventCollection at 0x7fd2e686e890>,\n",
       " <matplotlib.collections.EventCollection at 0x7fd2e686ec90>,\n",
       " <matplotlib.collections.EventCollection at 0x7fd2e686efd0>,\n",
       " <matplotlib.collections.EventCollection at 0x7fd2e687a390>,\n",
       " <matplotlib.collections.EventCollection at 0x7fd2e687a710>,\n",
       " <matplotlib.collections.EventCollection at 0x7fd2e687ab10>,\n",
       " <matplotlib.collections.EventCollection at 0x7fd2e687ae90>,\n",
       " <matplotlib.collections.EventCollection at 0x7fd2e6886210>,\n",
       " <matplotlib.collections.EventCollection at 0x7fd2e6886550>,\n",
       " <matplotlib.collections.EventCollection at 0x7fd2e6886890>,\n",
       " <matplotlib.collections.EventCollection at 0x7fd2e6886bd0>,\n",
       " <matplotlib.collections.EventCollection at 0x7fd2e6886f10>,\n",
       " <matplotlib.collections.EventCollection at 0x7fd2e68952d0>,\n",
       " <matplotlib.collections.EventCollection at 0x7fd2e6895610>,\n",
       " <matplotlib.collections.EventCollection at 0x7fd2e6895990>,\n",
       " <matplotlib.collections.EventCollection at 0x7fd2e6895d50>,\n",
       " <matplotlib.collections.EventCollection at 0x7fd2e68a30d0>,\n",
       " <matplotlib.collections.EventCollection at 0x7fd2e68a3490>,\n",
       " <matplotlib.collections.EventCollection at 0x7fd2e68a37d0>,\n",
       " <matplotlib.collections.EventCollection at 0x7fd2e68a3b50>,\n",
       " <matplotlib.collections.EventCollection at 0x7fd2e68a3ed0>,\n",
       " <matplotlib.collections.EventCollection at 0x7fd2e68af290>,\n",
       " <matplotlib.collections.EventCollection at 0x7fd2e68af5d0>,\n",
       " <matplotlib.collections.EventCollection at 0x7fd2e68af990>,\n",
       " <matplotlib.collections.EventCollection at 0x7fd2e68afd50>,\n",
       " <matplotlib.collections.EventCollection at 0x7fd2e68bd110>,\n",
       " <matplotlib.collections.EventCollection at 0x7fd2e68bd490>,\n",
       " <matplotlib.collections.EventCollection at 0x7fd2e68bd7d0>,\n",
       " <matplotlib.collections.EventCollection at 0x7fd2e68bdb50>,\n",
       " <matplotlib.collections.EventCollection at 0x7fd2e68bde90>,\n",
       " <matplotlib.collections.EventCollection at 0x7fd2e68ca550>,\n",
       " <matplotlib.collections.EventCollection at 0x7fd2e68ca890>,\n",
       " <matplotlib.collections.EventCollection at 0x7fd2e68cabd0>,\n",
       " <matplotlib.collections.EventCollection at 0x7fd2e68caf90>,\n",
       " <matplotlib.collections.EventCollection at 0x7fd2e6a02310>,\n",
       " <matplotlib.collections.EventCollection at 0x7fd2e6a02650>,\n",
       " <matplotlib.collections.EventCollection at 0x7fd2e6a02990>,\n",
       " <matplotlib.collections.EventCollection at 0x7fd2e6a02cd0>,\n",
       " <matplotlib.collections.EventCollection at 0x7fd2e6a0e090>,\n",
       " <matplotlib.collections.EventCollection at 0x7fd2e6a0e550>,\n",
       " <matplotlib.collections.EventCollection at 0x7fd2e6a0e890>,\n",
       " <matplotlib.collections.EventCollection at 0x7fd2e6a0ebd0>,\n",
       " <matplotlib.collections.EventCollection at 0x7fd2e6a0ef90>,\n",
       " <matplotlib.collections.EventCollection at 0x7fd2e6a1c350>,\n",
       " <matplotlib.collections.EventCollection at 0x7fd2e6a1ce10>,\n",
       " <matplotlib.collections.EventCollection at 0x7fd2e6a30a50>,\n",
       " <matplotlib.collections.EventCollection at 0x7fd2e6a30dd0>,\n",
       " <matplotlib.collections.EventCollection at 0x7fd2e6a3a190>,\n",
       " <matplotlib.collections.EventCollection at 0x7fd2e6a3a510>,\n",
       " <matplotlib.collections.EventCollection at 0x7fd2e6a3aa10>,\n",
       " <matplotlib.collections.EventCollection at 0x7fd2e6a47ad0>,\n",
       " <matplotlib.collections.EventCollection at 0x7fd2e6a4e190>,\n",
       " <matplotlib.collections.EventCollection at 0x7fd2e6a4e4d0>,\n",
       " <matplotlib.collections.EventCollection at 0x7fd2e6a4e890>,\n",
       " <matplotlib.collections.EventCollection at 0x7fd2e6a6c610>,\n",
       " <matplotlib.collections.EventCollection at 0x7fd2e6a86510>,\n",
       " <matplotlib.collections.EventCollection at 0x7fd2e6a86fd0>,\n",
       " <matplotlib.collections.EventCollection at 0x7fd2e6a91390>,\n",
       " <matplotlib.collections.EventCollection at 0x7fd2e6a916d0>,\n",
       " <matplotlib.collections.EventCollection at 0x7fd2e6a91a50>,\n",
       " <matplotlib.collections.EventCollection at 0x7fd2e6a91d90>,\n",
       " <matplotlib.collections.EventCollection at 0x7fd2e6a9e3d0>,\n",
       " <matplotlib.collections.EventCollection at 0x7fd2e6ac1810>,\n",
       " <matplotlib.collections.EventCollection at 0x7fd2e6acb650>,\n",
       " <matplotlib.collections.EventCollection at 0x7fd2e6acb990>,\n",
       " <matplotlib.collections.EventCollection at 0x7fd2e6acbcd0>,\n",
       " <matplotlib.collections.EventCollection at 0x7fd2e6ad6410>,\n",
       " <matplotlib.collections.EventCollection at 0x7fd2e6b0a650>,\n",
       " <matplotlib.collections.EventCollection at 0x7fd2e6b15d10>,\n",
       " <matplotlib.collections.EventCollection at 0x7fd2e6b205d0>,\n",
       " <matplotlib.collections.EventCollection at 0x7fd2e6b20910>,\n",
       " <matplotlib.collections.EventCollection at 0x7fd2e6b33f90>,\n",
       " <matplotlib.collections.EventCollection at 0x7fd2e6b65310>,\n",
       " <matplotlib.collections.EventCollection at 0x7fd2e6b65950>,\n",
       " <matplotlib.collections.EventCollection at 0x7fd2e6b65c90>,\n",
       " <matplotlib.collections.EventCollection at 0x7fd2e6b65fd0>,\n",
       " <matplotlib.collections.EventCollection at 0x7fd2e6b72590>,\n",
       " <matplotlib.collections.EventCollection at 0x7fd2e6b72e50>,\n",
       " <matplotlib.collections.EventCollection at 0x7fd2e6b7b1d0>,\n",
       " <matplotlib.collections.EventCollection at 0x7fd2e6b7b510>,\n",
       " <matplotlib.collections.EventCollection at 0x7fd2e6b7b850>,\n",
       " <matplotlib.collections.EventCollection at 0x7fd2e6b7bb90>,\n",
       " <matplotlib.collections.EventCollection at 0x7fd2e6b7bed0>,\n",
       " <matplotlib.collections.EventCollection at 0x7fd2e6b8a290>,\n",
       " <matplotlib.collections.EventCollection at 0x7fd2e6b8a5d0>,\n",
       " <matplotlib.collections.EventCollection at 0x7fd2e6b8a950>,\n",
       " <matplotlib.collections.EventCollection at 0x7fd2e6b8ac90>,\n",
       " <matplotlib.collections.EventCollection at 0x7fd2e6b8afd0>,\n",
       " <matplotlib.collections.EventCollection at 0x7fd2e6b97350>,\n",
       " <matplotlib.collections.EventCollection at 0x7fd2e6b97690>,\n",
       " <matplotlib.collections.EventCollection at 0x7fd2e6b979d0>,\n",
       " <matplotlib.collections.EventCollection at 0x7fd2e6b97d10>,\n",
       " <matplotlib.collections.EventCollection at 0x7fd2e6ba50d0>,\n",
       " <matplotlib.collections.EventCollection at 0x7fd2e6ba5410>,\n",
       " <matplotlib.collections.EventCollection at 0x7fd2e6ba5750>,\n",
       " <matplotlib.collections.EventCollection at 0x7fd2e6ba5a90>,\n",
       " <matplotlib.collections.EventCollection at 0x7fd2e6ba5e10>,\n",
       " <matplotlib.collections.EventCollection at 0x7fd2e6bb2190>,\n",
       " <matplotlib.collections.EventCollection at 0x7fd2e6bb24d0>,\n",
       " <matplotlib.collections.EventCollection at 0x7fd2e6bb2850>,\n",
       " <matplotlib.collections.EventCollection at 0x7fd2e6bb2bd0>,\n",
       " <matplotlib.collections.EventCollection at 0x7fd2e6bb2f10>,\n",
       " <matplotlib.collections.EventCollection at 0x7fd2e6bc0290>,\n",
       " <matplotlib.collections.EventCollection at 0x7fd2e6bc0610>,\n",
       " <matplotlib.collections.EventCollection at 0x7fd2e6bc09d0>,\n",
       " <matplotlib.collections.EventCollection at 0x7fd2e6bc0d50>,\n",
       " <matplotlib.collections.EventCollection at 0x7fd2e6bcd0d0>,\n",
       " <matplotlib.collections.EventCollection at 0x7fd2e6bcd490>,\n",
       " <matplotlib.collections.EventCollection at 0x7fd2e6bcd810>,\n",
       " <matplotlib.collections.EventCollection at 0x7fd2e6bcdb50>,\n",
       " <matplotlib.collections.EventCollection at 0x7fd2e6bd8090>,\n",
       " <matplotlib.collections.EventCollection at 0x7fd2e6bd83d0>,\n",
       " <matplotlib.collections.EventCollection at 0x7fd2e6bd8710>,\n",
       " <matplotlib.collections.EventCollection at 0x7fd2e6bd8a90>,\n",
       " <matplotlib.collections.EventCollection at 0x7fd2e6bd8e10>,\n",
       " <matplotlib.collections.EventCollection at 0x7fd2e6be5190>,\n",
       " <matplotlib.collections.EventCollection at 0x7fd2e6be54d0>,\n",
       " <matplotlib.collections.EventCollection at 0x7fd2e6be5810>,\n",
       " <matplotlib.collections.EventCollection at 0x7fd2e6be5b50>,\n",
       " <matplotlib.collections.EventCollection at 0x7fd2e6be5ed0>,\n",
       " <matplotlib.collections.EventCollection at 0x7fd2e6bf2290>,\n",
       " <matplotlib.collections.EventCollection at 0x7fd2e6bf25d0>,\n",
       " <matplotlib.collections.EventCollection at 0x7fd2e6bf2910>,\n",
       " <matplotlib.collections.EventCollection at 0x7fd2e6bf2c90>,\n",
       " <matplotlib.collections.EventCollection at 0x7fd2e6bf2fd0>,\n",
       " <matplotlib.collections.EventCollection at 0x7fd2e6c013d0>,\n",
       " <matplotlib.collections.EventCollection at 0x7fd2e6c01750>,\n",
       " <matplotlib.collections.EventCollection at 0x7fd2e6c01a90>,\n",
       " <matplotlib.collections.EventCollection at 0x7fd2e6c01dd0>,\n",
       " <matplotlib.collections.EventCollection at 0x7fd2e6c0f150>,\n",
       " <matplotlib.collections.EventCollection at 0x7fd2e6c0f4d0>,\n",
       " <matplotlib.collections.EventCollection at 0x7fd2e6c0f990>,\n",
       " <matplotlib.collections.EventCollection at 0x7fd2e6c0fcd0>,\n",
       " <matplotlib.collections.EventCollection at 0x7fd2e6c1a1d0>,\n",
       " <matplotlib.collections.EventCollection at 0x7fd2e6c1a550>,\n",
       " <matplotlib.collections.EventCollection at 0x7fd2e6c1af10>,\n",
       " <matplotlib.collections.EventCollection at 0x7fd2e6c23a90>,\n",
       " <matplotlib.collections.EventCollection at 0x7fd2e6c2f350>,\n",
       " <matplotlib.collections.EventCollection at 0x7fd2e6c2fb50>,\n",
       " <matplotlib.collections.EventCollection at 0x7fd2e6c2fe90>,\n",
       " <matplotlib.collections.EventCollection at 0x7fd2e6c3c210>,\n",
       " <matplotlib.collections.EventCollection at 0x7fd2e6c45190>,\n",
       " <matplotlib.collections.EventCollection at 0x7fd2e6c45a50>,\n",
       " <matplotlib.collections.EventCollection at 0x7fd2e6c4f590>,\n",
       " <matplotlib.collections.EventCollection at 0x7fd2e6c4fa50>,\n",
       " <matplotlib.collections.EventCollection at 0x7fd2e6c5a3d0>,\n",
       " <matplotlib.collections.EventCollection at 0x7fd2e6c63090>,\n",
       " <matplotlib.collections.EventCollection at 0x7fd2e6c63790>,\n",
       " <matplotlib.collections.EventCollection at 0x7fd2e6c63b50>,\n",
       " <matplotlib.collections.EventCollection at 0x7fd2e6c63e90>,\n",
       " <matplotlib.collections.EventCollection at 0x7fd2e6c71890>,\n",
       " <matplotlib.collections.EventCollection at 0x7fd2e6c792d0>,\n",
       " <matplotlib.collections.EventCollection at 0x7fd2e6c79710>,\n",
       " <matplotlib.collections.EventCollection at 0x7fd2e6c79a90>,\n",
       " <matplotlib.collections.EventCollection at 0x7fd2e6c79e90>,\n",
       " <matplotlib.collections.EventCollection at 0x7fd2e6c88210>,\n",
       " <matplotlib.collections.EventCollection at 0x7fd2e6c88810>,\n",
       " <matplotlib.collections.EventCollection at 0x7fd2e6c93650>,\n",
       " <matplotlib.collections.EventCollection at 0x7fd2e6c939d0>,\n",
       " <matplotlib.collections.EventCollection at 0x7fd2e6c93f50>,\n",
       " <matplotlib.collections.EventCollection at 0x7fd2e6c9c310>,\n",
       " <matplotlib.collections.EventCollection at 0x7fd2e6c9c6d0>,\n",
       " <matplotlib.collections.EventCollection at 0x7fd2e6c9ca90>,\n",
       " <matplotlib.collections.EventCollection at 0x7fd2e6caa590>,\n",
       " <matplotlib.collections.EventCollection at 0x7fd2e6caa990>,\n",
       " <matplotlib.collections.EventCollection at 0x7fd2e6caae50>,\n",
       " <matplotlib.collections.EventCollection at 0x7fd2e6cb5650>,\n",
       " <matplotlib.collections.EventCollection at 0x7fd2e6cbf090>,\n",
       " <matplotlib.collections.EventCollection at 0x7fd2e6cbf490>,\n",
       " <matplotlib.collections.EventCollection at 0x7fd2e6cbf7d0>,\n",
       " <matplotlib.collections.EventCollection at 0x7fd2e6cc93d0>,\n",
       " <matplotlib.collections.EventCollection at 0x7fd2e6cc9790>,\n",
       " <matplotlib.collections.EventCollection at 0x7fd2e6cc9e90>,\n",
       " <matplotlib.collections.EventCollection at 0x7fd2e6cd7b10>,\n",
       " <matplotlib.collections.EventCollection at 0x7fd2e6cd7e50>,\n",
       " <matplotlib.collections.EventCollection at 0x7fd2e6cdd1d0>,\n",
       " <matplotlib.collections.EventCollection at 0x7fd2e6ce9150>,\n",
       " <matplotlib.collections.EventCollection at 0x7fd2e6ce96d0>,\n",
       " <matplotlib.collections.EventCollection at 0x7fd2e6ce9a10>,\n",
       " <matplotlib.collections.EventCollection at 0x7fd2e6cf43d0>,\n",
       " <matplotlib.collections.EventCollection at 0x7fd2e6cf4c50>,\n",
       " <matplotlib.collections.EventCollection at 0x7fd2e6cf4fd0>,\n",
       " <matplotlib.collections.EventCollection at 0x7fd2e6d01810>,\n",
       " <matplotlib.collections.EventCollection at 0x7fd2e6d01ad0>,\n",
       " <matplotlib.collections.EventCollection at 0x7fd2e6d01e10>,\n",
       " <matplotlib.collections.EventCollection at 0x7fd2e6d0e110>,\n",
       " <matplotlib.collections.EventCollection at 0x7fd2e6d0e410>,\n",
       " <matplotlib.collections.EventCollection at 0x7fd2e6d0e990>,\n",
       " <matplotlib.collections.EventCollection at 0x7fd2e6d0ec90>,\n",
       " <matplotlib.collections.EventCollection at 0x7fd2e6d1b450>,\n",
       " <matplotlib.collections.EventCollection at 0x7fd2e6d1bd50>,\n",
       " <matplotlib.collections.EventCollection at 0x7fd2e6d25050>,\n",
       " <matplotlib.collections.EventCollection at 0x7fd2e6d25310>,\n",
       " <matplotlib.collections.EventCollection at 0x7fd2e6d25990>]"
      ]
     },
     "execution_count": 208,
     "metadata": {},
     "output_type": "execute_result"
    },
    {
     "data": {
      "text/plain": [
       "Text(0, 0.5, 'Relevant Channels')"
      ]
     },
     "execution_count": 208,
     "metadata": {},
     "output_type": "execute_result"
    }
   ],
   "source": [
    "# we can plot this subpart of the array\n",
    "\n",
    "fig = plt.figure(figsize = (10,4))\n",
    "gs = fig.add_gridspec(2, hspace = 0, height_ratios=[1,5])\n",
    "axs = gs.subplots(sharex=False, sharey=False)\n",
    "axs[0].plot(ma_fr_gau, color= 'black')\n",
    "axs[0].set_ylabel('Firing Rate [Hz]')\n",
    "axs[1].eventplot(spikearray_seconds, color = 'black', linewidths = 0.5, linelengths = 1)\n",
    "axs[1].set_ylabel('Relevant Channels')\n"
   ]
  },
  {
   "cell_type": "code",
   "execution_count": 209,
   "id": "d0f5740d",
   "metadata": {},
   "outputs": [
    {
     "data": {
      "application/vnd.jupyter.widget-view+json": {
       "model_id": "f0f5352697cd460ea471465b09a3804d",
       "version_major": 2,
       "version_minor": 0
      },
      "text/plain": [
       "Canvas(toolbar=Toolbar(toolitems=[('Home', 'Reset original view', 'home', 'home'), ('Back', 'Back to previous …"
      ]
     },
     "metadata": {},
     "output_type": "display_data"
    }
   ],
   "source": [
    "fig, ax = plt.subplots(1, 1, figsize = (10,4))\n",
    "\n",
    "ax = plt.eventplot(boi_array, color = 'black', linewidths = 0.5, linelengths= 2)"
   ]
  },
  {
   "cell_type": "code",
   "execution_count": 210,
   "id": "6dc14712",
   "metadata": {},
   "outputs": [],
   "source": [
    "# we use the subdivide function to get the st of the burst of interest\n",
    "\n",
    "st_burst_of_interest = subdivide_spiketrain(spikedic_MAD, b_of_interest_start, b_of_interest_end)"
   ]
  },
  {
   "cell_type": "code",
   "execution_count": 222,
   "id": "ca24be03",
   "metadata": {},
   "outputs": [],
   "source": [
    "# we now want to make heatmaps to picture the activity to observe the spatial propagation\n",
    "\n",
    "# define how much time of the st you want to observe\n",
    "heatmap_window = 0.05 # in seconds\n",
    "\n",
    "# make start and endpoints for each of these time-windows:\n",
    "\n",
    "time_windows = []\n",
    "\n",
    "# start of the subdivision = rounded start of the burst of interest\n",
    "i = np.round(b_of_interest_start, 4)\n",
    "\n",
    "# for every iteration, add the desired heatmap window\n",
    "while i < b_of_interest_end:\n",
    "    start = i\n",
    "    stop = np.round(i+heatmap_window, 4)\n",
    "    i = i + heatmap_window \n",
    "    if stop > b_of_interest_end:\n",
    "        stop = b_of_interest_end\n",
    "    time_windows.append((start, stop))\n"
   ]
  },
  {
   "cell_type": "code",
   "execution_count": 223,
   "id": "da31db0b",
   "metadata": {},
   "outputs": [
    {
     "data": {
      "text/plain": [
       "105.57403361960132"
      ]
     },
     "execution_count": 223,
     "metadata": {},
     "output_type": "execute_result"
    }
   ],
   "source": [
    "b_of_interest_start"
   ]
  },
  {
   "cell_type": "code",
   "execution_count": 224,
   "id": "4b051763",
   "metadata": {},
   "outputs": [
    {
     "data": {
      "text/plain": [
       "[(105.574, 105.624),\n",
       " (105.624, 105.674),\n",
       " (105.67399999999999, 105.724),\n",
       " (105.72399999999999, 105.774),\n",
       " (105.77399999999999, 105.824),\n",
       " (105.82399999999998, 105.874),\n",
       " (105.87399999999998, 105.924),\n",
       " (105.92399999999998, 105.974),\n",
       " (105.97399999999998, 106.024),\n",
       " (106.02399999999997, 106.074),\n",
       " (106.07399999999997, 106.124),\n",
       " (106.12399999999997, 106.174),\n",
       " (106.17399999999996, 106.224),\n",
       " (106.22399999999996, 106.274),\n",
       " (106.27399999999996, 106.324),\n",
       " (106.32399999999996, 106.374),\n",
       " (106.37399999999995, 106.424),\n",
       " (106.42399999999995, 106.474),\n",
       " (106.47399999999995, 106.524),\n",
       " (106.52399999999994, 106.574),\n",
       " (106.57399999999994, 106.624),\n",
       " (106.62399999999994, 106.674),\n",
       " (106.67399999999994, 106.724),\n",
       " (106.72399999999993, 106.774),\n",
       " (106.77399999999993, 106.824),\n",
       " (106.82399999999993, 106.874),\n",
       " (106.87399999999992, 106.924),\n",
       " (106.92399999999992, 106.974),\n",
       " (106.97399999999992, 107.024),\n",
       " (107.02399999999992, 107.074),\n",
       " (107.07399999999991, 107.124),\n",
       " (107.12399999999991, 107.174),\n",
       " (107.17399999999991, 107.224),\n",
       " (107.2239999999999, 107.274),\n",
       " (107.2739999999999, 107.324),\n",
       " (107.3239999999999, 107.374),\n",
       " (107.3739999999999, 107.424),\n",
       " (107.4239999999999, 107.474),\n",
       " (107.47399999999989, 107.524),\n",
       " (107.52399999999989, 107.574),\n",
       " (107.57399999999988, 107.624),\n",
       " (107.62399999999988, 107.674),\n",
       " (107.67399999999988, 107.70282576245847)]"
      ]
     },
     "execution_count": 224,
     "metadata": {},
     "output_type": "execute_result"
    }
   ],
   "source": [
    "time_windows"
   ]
  },
  {
   "cell_type": "code",
   "execution_count": 225,
   "id": "854f12ec",
   "metadata": {},
   "outputs": [],
   "source": [
    "#time_windows = time_windows[3:]"
   ]
  },
  {
   "cell_type": "code",
   "execution_count": 226,
   "id": "ab761a36",
   "metadata": {},
   "outputs": [
    {
     "data": {
      "application/vnd.jupyter.widget-view+json": {
       "model_id": "2013a20403c445eeae511bcdec7ef79c",
       "version_major": 2,
       "version_minor": 0
      },
      "text/plain": [
       "Canvas(toolbar=Toolbar(toolitems=[('Home', 'Reset original view', 'home', 'home'), ('Back', 'Back to previous …"
      ]
     },
     "metadata": {},
     "output_type": "display_data"
    }
   ],
   "source": [
    "fig, ax = plt.subplots(1, 1, figsize = (10,4))\n",
    "\n",
    "ax = plt.eventplot(boi_array, color = 'black', linewidths = 0.5, linelengths= 2)\n",
    "ax = plt.axvspan(b_of_interest_start, \n",
    "                       b_of_interest_end, facecolor = '#F2CD5E', alpha = 0.2, \n",
    "                       label = 'longest network burst'\n",
    "                      )\n",
    "\n",
    "# plot the lines for the subdivisions\n",
    "for i in time_windows:\n",
    "    ax = plt.axvline(i[0])\n",
    "    \n",
    "    \n",
    "#fig.savefig('interesting_burst_10082021_b21.png', dpi=300, bbox_inches = 'tight')\n"
   ]
  },
  {
   "cell_type": "code",
   "execution_count": 227,
   "id": "a9de12cd",
   "metadata": {},
   "outputs": [
    {
     "data": {
      "text/plain": [
       "43"
      ]
     },
     "execution_count": 227,
     "metadata": {},
     "output_type": "execute_result"
    }
   ],
   "source": [
    "# we can now\n",
    "len(time_windows)"
   ]
  },
  {
   "cell_type": "code",
   "execution_count": 228,
   "id": "26ae057d",
   "metadata": {},
   "outputs": [],
   "source": [
    "# we will now create a dictionary with key = starts of the subdivision\n",
    "# and values = dictionary  of the corresponding spiketrains\n",
    "\n",
    "subdivided_boi_st = {}\n",
    "subdivided_boi_fr = {}\n",
    "\n",
    "for i in time_windows:\n",
    "    #empty dic for firing rates\n",
    "    fr_subs = {}\n",
    "    \n",
    "    # get the spiketrains for the time subpart\n",
    "    st = subdivide_spiketrain(spikedic_MAD, i[0], i[1])\n",
    "    \n",
    "    # assign the subdivided dictionary to the subdivision dictionary\n",
    "    subdivided_boi_st[i[0]] = st\n",
    "    \n",
    "    # for firing rate, we calculate the fr for each channel\n",
    "    for key in st:\n",
    "        fr = len(st[key]) / (i[1]-i[0])\n",
    "        \n",
    "        #assign the firing rate to that key\n",
    "        fr_subs[key] = fr\n",
    "     \n",
    "    # the value for the subdivision key is that used subdic, which is emptied in the next loop\n",
    "    subdivided_boi_fr[i[0]] = fr_subs\n",
    "        \n",
    "    \n",
    "    "
   ]
  },
  {
   "cell_type": "code",
   "execution_count": 229,
   "id": "3afef762",
   "metadata": {},
   "outputs": [],
   "source": [
    "# how many subplots we want to create\n",
    "number_of_heatmaps = len(time_windows)\n",
    "\n",
    "number_columns = int(number_of_heatmaps / 2)\n",
    "\n",
    "\n"
   ]
  },
  {
   "cell_type": "code",
   "execution_count": 230,
   "id": "c2a48d42",
   "metadata": {},
   "outputs": [],
   "source": [
    "# for plotting with sns heatmap we need a df first \n",
    "\n",
    "# this is done as empty df:\n",
    "\n",
    "mea_array=np.empty((16,16,))\n",
    "mea_array[:]=np.nan\n",
    "columnlist =['A','B','C','D','E','F','G','H','J','K','L','M','N','O','P','R']\n",
    "df = pd.DataFrame(data=mea_array,columns=columnlist)\n",
    "df.index+=1\n"
   ]
  },
  {
   "cell_type": "code",
   "execution_count": 231,
   "id": "6d072c26",
   "metadata": {},
   "outputs": [
    {
     "data": {
      "text/html": [
       "<div>\n",
       "<style scoped>\n",
       "    .dataframe tbody tr th:only-of-type {\n",
       "        vertical-align: middle;\n",
       "    }\n",
       "\n",
       "    .dataframe tbody tr th {\n",
       "        vertical-align: top;\n",
       "    }\n",
       "\n",
       "    .dataframe thead th {\n",
       "        text-align: right;\n",
       "    }\n",
       "</style>\n",
       "<table border=\"1\" class=\"dataframe\">\n",
       "  <thead>\n",
       "    <tr style=\"text-align: right;\">\n",
       "      <th></th>\n",
       "      <th>A</th>\n",
       "      <th>B</th>\n",
       "      <th>C</th>\n",
       "      <th>D</th>\n",
       "      <th>E</th>\n",
       "      <th>F</th>\n",
       "      <th>G</th>\n",
       "      <th>H</th>\n",
       "      <th>J</th>\n",
       "      <th>K</th>\n",
       "      <th>L</th>\n",
       "      <th>M</th>\n",
       "      <th>N</th>\n",
       "      <th>O</th>\n",
       "      <th>P</th>\n",
       "      <th>R</th>\n",
       "    </tr>\n",
       "  </thead>\n",
       "  <tbody>\n",
       "    <tr>\n",
       "      <th>1</th>\n",
       "      <td>NaN</td>\n",
       "      <td>NaN</td>\n",
       "      <td>NaN</td>\n",
       "      <td>NaN</td>\n",
       "      <td>NaN</td>\n",
       "      <td>NaN</td>\n",
       "      <td>NaN</td>\n",
       "      <td>NaN</td>\n",
       "      <td>NaN</td>\n",
       "      <td>NaN</td>\n",
       "      <td>NaN</td>\n",
       "      <td>NaN</td>\n",
       "      <td>NaN</td>\n",
       "      <td>NaN</td>\n",
       "      <td>NaN</td>\n",
       "      <td>NaN</td>\n",
       "    </tr>\n",
       "    <tr>\n",
       "      <th>2</th>\n",
       "      <td>NaN</td>\n",
       "      <td>NaN</td>\n",
       "      <td>NaN</td>\n",
       "      <td>NaN</td>\n",
       "      <td>NaN</td>\n",
       "      <td>NaN</td>\n",
       "      <td>NaN</td>\n",
       "      <td>NaN</td>\n",
       "      <td>NaN</td>\n",
       "      <td>NaN</td>\n",
       "      <td>NaN</td>\n",
       "      <td>NaN</td>\n",
       "      <td>NaN</td>\n",
       "      <td>NaN</td>\n",
       "      <td>NaN</td>\n",
       "      <td>NaN</td>\n",
       "    </tr>\n",
       "    <tr>\n",
       "      <th>3</th>\n",
       "      <td>NaN</td>\n",
       "      <td>NaN</td>\n",
       "      <td>NaN</td>\n",
       "      <td>NaN</td>\n",
       "      <td>NaN</td>\n",
       "      <td>NaN</td>\n",
       "      <td>NaN</td>\n",
       "      <td>NaN</td>\n",
       "      <td>NaN</td>\n",
       "      <td>NaN</td>\n",
       "      <td>NaN</td>\n",
       "      <td>NaN</td>\n",
       "      <td>NaN</td>\n",
       "      <td>NaN</td>\n",
       "      <td>NaN</td>\n",
       "      <td>NaN</td>\n",
       "    </tr>\n",
       "    <tr>\n",
       "      <th>4</th>\n",
       "      <td>NaN</td>\n",
       "      <td>NaN</td>\n",
       "      <td>NaN</td>\n",
       "      <td>NaN</td>\n",
       "      <td>NaN</td>\n",
       "      <td>NaN</td>\n",
       "      <td>NaN</td>\n",
       "      <td>NaN</td>\n",
       "      <td>NaN</td>\n",
       "      <td>NaN</td>\n",
       "      <td>NaN</td>\n",
       "      <td>NaN</td>\n",
       "      <td>NaN</td>\n",
       "      <td>NaN</td>\n",
       "      <td>NaN</td>\n",
       "      <td>NaN</td>\n",
       "    </tr>\n",
       "    <tr>\n",
       "      <th>5</th>\n",
       "      <td>NaN</td>\n",
       "      <td>NaN</td>\n",
       "      <td>NaN</td>\n",
       "      <td>NaN</td>\n",
       "      <td>NaN</td>\n",
       "      <td>NaN</td>\n",
       "      <td>NaN</td>\n",
       "      <td>NaN</td>\n",
       "      <td>NaN</td>\n",
       "      <td>NaN</td>\n",
       "      <td>NaN</td>\n",
       "      <td>NaN</td>\n",
       "      <td>NaN</td>\n",
       "      <td>NaN</td>\n",
       "      <td>NaN</td>\n",
       "      <td>NaN</td>\n",
       "    </tr>\n",
       "    <tr>\n",
       "      <th>6</th>\n",
       "      <td>NaN</td>\n",
       "      <td>NaN</td>\n",
       "      <td>NaN</td>\n",
       "      <td>NaN</td>\n",
       "      <td>NaN</td>\n",
       "      <td>NaN</td>\n",
       "      <td>NaN</td>\n",
       "      <td>NaN</td>\n",
       "      <td>NaN</td>\n",
       "      <td>NaN</td>\n",
       "      <td>NaN</td>\n",
       "      <td>NaN</td>\n",
       "      <td>NaN</td>\n",
       "      <td>NaN</td>\n",
       "      <td>NaN</td>\n",
       "      <td>NaN</td>\n",
       "    </tr>\n",
       "    <tr>\n",
       "      <th>7</th>\n",
       "      <td>NaN</td>\n",
       "      <td>NaN</td>\n",
       "      <td>NaN</td>\n",
       "      <td>NaN</td>\n",
       "      <td>NaN</td>\n",
       "      <td>NaN</td>\n",
       "      <td>NaN</td>\n",
       "      <td>NaN</td>\n",
       "      <td>NaN</td>\n",
       "      <td>NaN</td>\n",
       "      <td>NaN</td>\n",
       "      <td>NaN</td>\n",
       "      <td>NaN</td>\n",
       "      <td>NaN</td>\n",
       "      <td>NaN</td>\n",
       "      <td>NaN</td>\n",
       "    </tr>\n",
       "    <tr>\n",
       "      <th>8</th>\n",
       "      <td>NaN</td>\n",
       "      <td>NaN</td>\n",
       "      <td>NaN</td>\n",
       "      <td>NaN</td>\n",
       "      <td>NaN</td>\n",
       "      <td>NaN</td>\n",
       "      <td>NaN</td>\n",
       "      <td>NaN</td>\n",
       "      <td>NaN</td>\n",
       "      <td>NaN</td>\n",
       "      <td>NaN</td>\n",
       "      <td>NaN</td>\n",
       "      <td>NaN</td>\n",
       "      <td>NaN</td>\n",
       "      <td>NaN</td>\n",
       "      <td>NaN</td>\n",
       "    </tr>\n",
       "    <tr>\n",
       "      <th>9</th>\n",
       "      <td>NaN</td>\n",
       "      <td>NaN</td>\n",
       "      <td>NaN</td>\n",
       "      <td>NaN</td>\n",
       "      <td>NaN</td>\n",
       "      <td>NaN</td>\n",
       "      <td>NaN</td>\n",
       "      <td>NaN</td>\n",
       "      <td>NaN</td>\n",
       "      <td>NaN</td>\n",
       "      <td>NaN</td>\n",
       "      <td>NaN</td>\n",
       "      <td>NaN</td>\n",
       "      <td>NaN</td>\n",
       "      <td>NaN</td>\n",
       "      <td>NaN</td>\n",
       "    </tr>\n",
       "    <tr>\n",
       "      <th>10</th>\n",
       "      <td>NaN</td>\n",
       "      <td>NaN</td>\n",
       "      <td>NaN</td>\n",
       "      <td>NaN</td>\n",
       "      <td>NaN</td>\n",
       "      <td>NaN</td>\n",
       "      <td>NaN</td>\n",
       "      <td>NaN</td>\n",
       "      <td>NaN</td>\n",
       "      <td>NaN</td>\n",
       "      <td>NaN</td>\n",
       "      <td>NaN</td>\n",
       "      <td>NaN</td>\n",
       "      <td>NaN</td>\n",
       "      <td>NaN</td>\n",
       "      <td>NaN</td>\n",
       "    </tr>\n",
       "    <tr>\n",
       "      <th>11</th>\n",
       "      <td>NaN</td>\n",
       "      <td>NaN</td>\n",
       "      <td>NaN</td>\n",
       "      <td>NaN</td>\n",
       "      <td>NaN</td>\n",
       "      <td>NaN</td>\n",
       "      <td>NaN</td>\n",
       "      <td>NaN</td>\n",
       "      <td>NaN</td>\n",
       "      <td>NaN</td>\n",
       "      <td>NaN</td>\n",
       "      <td>NaN</td>\n",
       "      <td>NaN</td>\n",
       "      <td>NaN</td>\n",
       "      <td>NaN</td>\n",
       "      <td>NaN</td>\n",
       "    </tr>\n",
       "    <tr>\n",
       "      <th>12</th>\n",
       "      <td>NaN</td>\n",
       "      <td>NaN</td>\n",
       "      <td>NaN</td>\n",
       "      <td>NaN</td>\n",
       "      <td>NaN</td>\n",
       "      <td>NaN</td>\n",
       "      <td>NaN</td>\n",
       "      <td>NaN</td>\n",
       "      <td>NaN</td>\n",
       "      <td>NaN</td>\n",
       "      <td>NaN</td>\n",
       "      <td>NaN</td>\n",
       "      <td>NaN</td>\n",
       "      <td>NaN</td>\n",
       "      <td>NaN</td>\n",
       "      <td>NaN</td>\n",
       "    </tr>\n",
       "    <tr>\n",
       "      <th>13</th>\n",
       "      <td>NaN</td>\n",
       "      <td>NaN</td>\n",
       "      <td>NaN</td>\n",
       "      <td>NaN</td>\n",
       "      <td>NaN</td>\n",
       "      <td>NaN</td>\n",
       "      <td>NaN</td>\n",
       "      <td>NaN</td>\n",
       "      <td>NaN</td>\n",
       "      <td>NaN</td>\n",
       "      <td>NaN</td>\n",
       "      <td>NaN</td>\n",
       "      <td>NaN</td>\n",
       "      <td>NaN</td>\n",
       "      <td>NaN</td>\n",
       "      <td>NaN</td>\n",
       "    </tr>\n",
       "    <tr>\n",
       "      <th>14</th>\n",
       "      <td>NaN</td>\n",
       "      <td>NaN</td>\n",
       "      <td>NaN</td>\n",
       "      <td>NaN</td>\n",
       "      <td>NaN</td>\n",
       "      <td>NaN</td>\n",
       "      <td>NaN</td>\n",
       "      <td>NaN</td>\n",
       "      <td>NaN</td>\n",
       "      <td>NaN</td>\n",
       "      <td>NaN</td>\n",
       "      <td>NaN</td>\n",
       "      <td>NaN</td>\n",
       "      <td>NaN</td>\n",
       "      <td>NaN</td>\n",
       "      <td>NaN</td>\n",
       "    </tr>\n",
       "    <tr>\n",
       "      <th>15</th>\n",
       "      <td>NaN</td>\n",
       "      <td>NaN</td>\n",
       "      <td>NaN</td>\n",
       "      <td>NaN</td>\n",
       "      <td>NaN</td>\n",
       "      <td>NaN</td>\n",
       "      <td>NaN</td>\n",
       "      <td>NaN</td>\n",
       "      <td>NaN</td>\n",
       "      <td>NaN</td>\n",
       "      <td>NaN</td>\n",
       "      <td>NaN</td>\n",
       "      <td>NaN</td>\n",
       "      <td>NaN</td>\n",
       "      <td>NaN</td>\n",
       "      <td>NaN</td>\n",
       "    </tr>\n",
       "    <tr>\n",
       "      <th>16</th>\n",
       "      <td>NaN</td>\n",
       "      <td>NaN</td>\n",
       "      <td>NaN</td>\n",
       "      <td>NaN</td>\n",
       "      <td>NaN</td>\n",
       "      <td>NaN</td>\n",
       "      <td>NaN</td>\n",
       "      <td>NaN</td>\n",
       "      <td>NaN</td>\n",
       "      <td>NaN</td>\n",
       "      <td>NaN</td>\n",
       "      <td>NaN</td>\n",
       "      <td>NaN</td>\n",
       "      <td>NaN</td>\n",
       "      <td>NaN</td>\n",
       "      <td>NaN</td>\n",
       "    </tr>\n",
       "  </tbody>\n",
       "</table>\n",
       "</div>"
      ],
      "text/plain": [
       "     A   B   C   D   E   F   G   H   J   K   L   M   N   O   P   R\n",
       "1  NaN NaN NaN NaN NaN NaN NaN NaN NaN NaN NaN NaN NaN NaN NaN NaN\n",
       "2  NaN NaN NaN NaN NaN NaN NaN NaN NaN NaN NaN NaN NaN NaN NaN NaN\n",
       "3  NaN NaN NaN NaN NaN NaN NaN NaN NaN NaN NaN NaN NaN NaN NaN NaN\n",
       "4  NaN NaN NaN NaN NaN NaN NaN NaN NaN NaN NaN NaN NaN NaN NaN NaN\n",
       "5  NaN NaN NaN NaN NaN NaN NaN NaN NaN NaN NaN NaN NaN NaN NaN NaN\n",
       "6  NaN NaN NaN NaN NaN NaN NaN NaN NaN NaN NaN NaN NaN NaN NaN NaN\n",
       "7  NaN NaN NaN NaN NaN NaN NaN NaN NaN NaN NaN NaN NaN NaN NaN NaN\n",
       "8  NaN NaN NaN NaN NaN NaN NaN NaN NaN NaN NaN NaN NaN NaN NaN NaN\n",
       "9  NaN NaN NaN NaN NaN NaN NaN NaN NaN NaN NaN NaN NaN NaN NaN NaN\n",
       "10 NaN NaN NaN NaN NaN NaN NaN NaN NaN NaN NaN NaN NaN NaN NaN NaN\n",
       "11 NaN NaN NaN NaN NaN NaN NaN NaN NaN NaN NaN NaN NaN NaN NaN NaN\n",
       "12 NaN NaN NaN NaN NaN NaN NaN NaN NaN NaN NaN NaN NaN NaN NaN NaN\n",
       "13 NaN NaN NaN NaN NaN NaN NaN NaN NaN NaN NaN NaN NaN NaN NaN NaN\n",
       "14 NaN NaN NaN NaN NaN NaN NaN NaN NaN NaN NaN NaN NaN NaN NaN NaN\n",
       "15 NaN NaN NaN NaN NaN NaN NaN NaN NaN NaN NaN NaN NaN NaN NaN NaN\n",
       "16 NaN NaN NaN NaN NaN NaN NaN NaN NaN NaN NaN NaN NaN NaN NaN NaN"
      ]
     },
     "execution_count": 231,
     "metadata": {},
     "output_type": "execute_result"
    }
   ],
   "source": [
    "df"
   ]
  },
  {
   "cell_type": "code",
   "execution_count": 232,
   "id": "dfb4b614",
   "metadata": {},
   "outputs": [
    {
     "data": {
      "application/vnd.jupyter.widget-view+json": {
       "model_id": "0b2693f33bb34d2ca7b49f568366c594",
       "version_major": 2,
       "version_minor": 0
      },
      "text/plain": [
       "Canvas(toolbar=Toolbar(toolitems=[('Home', 'Reset original view', 'home', 'home'), ('Back', 'Back to previous …"
      ]
     },
     "metadata": {},
     "output_type": "display_data"
    },
    {
     "data": {
      "text/plain": [
       "Text(0.5, 0.98, 'Burst Propagation from 105.574 to 107.7028')"
      ]
     },
     "execution_count": 232,
     "metadata": {},
     "output_type": "execute_result"
    },
    {
     "data": {
      "text/plain": [
       "[Text(0.5, 1.0, '0 ms')]"
      ]
     },
     "execution_count": 232,
     "metadata": {},
     "output_type": "execute_result"
    },
    {
     "data": {
      "text/plain": [
       "[Text(0.5, 1.0, '50 ms')]"
      ]
     },
     "execution_count": 232,
     "metadata": {},
     "output_type": "execute_result"
    },
    {
     "data": {
      "text/plain": [
       "[Text(0.5, 1.0, '100 ms')]"
      ]
     },
     "execution_count": 232,
     "metadata": {},
     "output_type": "execute_result"
    },
    {
     "data": {
      "text/plain": [
       "[Text(0.5, 1.0, '150 ms')]"
      ]
     },
     "execution_count": 232,
     "metadata": {},
     "output_type": "execute_result"
    },
    {
     "data": {
      "text/plain": [
       "[Text(0.5, 1.0, '200 ms')]"
      ]
     },
     "execution_count": 232,
     "metadata": {},
     "output_type": "execute_result"
    },
    {
     "data": {
      "text/plain": [
       "[Text(0.5, 1.0, '250 ms')]"
      ]
     },
     "execution_count": 232,
     "metadata": {},
     "output_type": "execute_result"
    },
    {
     "data": {
      "text/plain": [
       "[Text(0.5, 1.0, '300 ms')]"
      ]
     },
     "execution_count": 232,
     "metadata": {},
     "output_type": "execute_result"
    },
    {
     "data": {
      "text/plain": [
       "[Text(0.5, 1.0, '350 ms')]"
      ]
     },
     "execution_count": 232,
     "metadata": {},
     "output_type": "execute_result"
    },
    {
     "data": {
      "text/plain": [
       "[Text(0.5, 1.0, '400 ms')]"
      ]
     },
     "execution_count": 232,
     "metadata": {},
     "output_type": "execute_result"
    },
    {
     "data": {
      "text/plain": [
       "[Text(0.5, 1.0, '450 ms')]"
      ]
     },
     "execution_count": 232,
     "metadata": {},
     "output_type": "execute_result"
    },
    {
     "ename": "IndexError",
     "evalue": "index 10 is out of bounds for GridSpec with size 10",
     "output_type": "error",
     "traceback": [
      "\u001b[0;31m---------------------------------------------------------------------------\u001b[0m",
      "\u001b[0;31mIndexError\u001b[0m                                Traceback (most recent call last)",
      "\u001b[0;32m/var/folders/xc/rhr6x9qn6sb5xp5ypm3zr0xm0000gn/T/ipykernel_3357/854289153.py\u001b[0m in \u001b[0;36m<module>\u001b[0;34m\u001b[0m\n\u001b[1;32m     25\u001b[0m     \u001b[0mplotframe_filled\u001b[0m \u001b[0;34m=\u001b[0m \u001b[0mget_dict_values\u001b[0m\u001b[0;34m(\u001b[0m\u001b[0mplotframe\u001b[0m\u001b[0;34m,\u001b[0m \u001b[0mfr_dic\u001b[0m\u001b[0;34m)\u001b[0m\u001b[0;34m\u001b[0m\u001b[0;34m\u001b[0m\u001b[0m\n\u001b[1;32m     26\u001b[0m \u001b[0;34m\u001b[0m\u001b[0m\n\u001b[0;32m---> 27\u001b[0;31m     \u001b[0maxs\u001b[0m\u001b[0;34m.\u001b[0m\u001b[0mappend\u001b[0m\u001b[0;34m(\u001b[0m\u001b[0mfig\u001b[0m\u001b[0;34m.\u001b[0m\u001b[0madd_subplot\u001b[0m\u001b[0;34m(\u001b[0m\u001b[0mgs1\u001b[0m\u001b[0;34m[\u001b[0m\u001b[0mi\u001b[0m\u001b[0;34m-\u001b[0m\u001b[0;36m1\u001b[0m\u001b[0;34m]\u001b[0m\u001b[0;34m)\u001b[0m\u001b[0;34m)\u001b[0m\u001b[0;34m\u001b[0m\u001b[0;34m\u001b[0m\u001b[0m\n\u001b[0m\u001b[1;32m     28\u001b[0m     \u001b[0;31m# plot the heatmap\u001b[0m\u001b[0;34m\u001b[0m\u001b[0;34m\u001b[0m\u001b[0;34m\u001b[0m\u001b[0m\n\u001b[1;32m     29\u001b[0m     \u001b[0;31m#sns.heatmap(plotframe_filled, annot=False, linewidths=.5, ax=axstring, cmap=\"YlOrRd\")\u001b[0m\u001b[0;34m\u001b[0m\u001b[0;34m\u001b[0m\u001b[0;34m\u001b[0m\u001b[0m\n",
      "\u001b[0;32m/opt/anaconda3/lib/python3.7/site-packages/matplotlib/gridspec.py\u001b[0m in \u001b[0;36m__getitem__\u001b[0;34m(self, key)\u001b[0m\n\u001b[1;32m    238\u001b[0m                 (nrows, ncols))\n\u001b[1;32m    239\u001b[0m         \u001b[0;32melse\u001b[0m\u001b[0;34m:\u001b[0m  \u001b[0;31m# Single key\u001b[0m\u001b[0;34m\u001b[0m\u001b[0;34m\u001b[0m\u001b[0m\n\u001b[0;32m--> 240\u001b[0;31m             \u001b[0mnum1\u001b[0m\u001b[0;34m,\u001b[0m \u001b[0mnum2\u001b[0m \u001b[0;34m=\u001b[0m \u001b[0m_normalize\u001b[0m\u001b[0;34m(\u001b[0m\u001b[0mkey\u001b[0m\u001b[0;34m,\u001b[0m \u001b[0mnrows\u001b[0m \u001b[0;34m*\u001b[0m \u001b[0mncols\u001b[0m\u001b[0;34m,\u001b[0m \u001b[0;32mNone\u001b[0m\u001b[0;34m)\u001b[0m\u001b[0;34m\u001b[0m\u001b[0;34m\u001b[0m\u001b[0m\n\u001b[0m\u001b[1;32m    241\u001b[0m \u001b[0;34m\u001b[0m\u001b[0m\n\u001b[1;32m    242\u001b[0m         \u001b[0;32mreturn\u001b[0m \u001b[0mSubplotSpec\u001b[0m\u001b[0;34m(\u001b[0m\u001b[0mself\u001b[0m\u001b[0;34m,\u001b[0m \u001b[0mnum1\u001b[0m\u001b[0;34m,\u001b[0m \u001b[0mnum2\u001b[0m\u001b[0;34m)\u001b[0m\u001b[0;34m\u001b[0m\u001b[0;34m\u001b[0m\u001b[0m\n",
      "\u001b[0;32m/opt/anaconda3/lib/python3.7/site-packages/matplotlib/gridspec.py\u001b[0m in \u001b[0;36m_normalize\u001b[0;34m(key, size, axis)\u001b[0m\n\u001b[1;32m    226\u001b[0m                                      f\"axis {axis} with size {size}\")\n\u001b[1;32m    227\u001b[0m                 \u001b[0;32melse\u001b[0m\u001b[0;34m:\u001b[0m  \u001b[0;31m# flat index\u001b[0m\u001b[0;34m\u001b[0m\u001b[0;34m\u001b[0m\u001b[0m\n\u001b[0;32m--> 228\u001b[0;31m                     raise IndexError(f\"index {orig_key} is out of bounds for \"\n\u001b[0m\u001b[1;32m    229\u001b[0m                                      f\"GridSpec with size {size}\")\n\u001b[1;32m    230\u001b[0m \u001b[0;34m\u001b[0m\u001b[0m\n",
      "\u001b[0;31mIndexError\u001b[0m: index 10 is out of bounds for GridSpec with size 10"
     ]
    }
   ],
   "source": [
    "fig = plt.figure(figsize=(20,8))\n",
    "\n",
    "fig.tight_layout()\n",
    "fig.suptitle('Burst Propagation from ' + \n",
    "             str(np.round(b_of_interest_start, 4))+ ' to ' + \n",
    "             str(np.round(b_of_interest_end, 4)))\n",
    "gs1 = gridspec.GridSpec(2, 5)\n",
    "\n",
    "#countries = [\"Country \" + str(i) for i in range(1, 26)]\n",
    "axs = []\n",
    "time_intra_burst = 0\n",
    "\n",
    "for i in range(1, len(time_windows)+1):\n",
    "    \n",
    "\n",
    "    plotframe = copy.deepcopy(df)\n",
    "    \n",
    "    # get the key for the fr_dic from the time windows:\n",
    "    key = time_windows[i-1][0] # substract one because we start the for range at 1\n",
    "    \n",
    "    #extract the corresponding fr_dic\n",
    "    fr_dic = subdivided_boi_fr[key]\n",
    "    \n",
    "    # fill the dataframe\n",
    "    plotframe_filled = get_dict_values(plotframe, fr_dic)\n",
    "    \n",
    "    axs.append(fig.add_subplot(gs1[i-1]))\n",
    "    # plot the heatmap\n",
    "    #sns.heatmap(plotframe_filled, annot=False, linewidths=.5, ax=axstring, cmap=\"YlOrRd\")\n",
    "\n",
    "\n",
    "    axs[-1] = sns.heatmap(plotframe_filled, \n",
    "                          annot=False, vmin=0, vmax = 20, cmap='flare', \n",
    "                          cbar = False, linewidths=0.1)\n",
    "    \n",
    "    \n",
    "    plt.setp(axs[-1], \n",
    "             title=str(int(time_intra_burst)) + ' ms')\n",
    "    \n",
    "    time_intra_burst += (heatmap_window*1000)\n",
    "\n",
    "fig.savefig('divided_burst_spatial_10082021_b25.png', dpi=300, bbox_inches = 'tight')\n",
    "\n"
   ]
  },
  {
   "cell_type": "markdown",
   "id": "98c07b8a",
   "metadata": {},
   "source": [
    "## we can try what happens if we zoom in further"
   ]
  },
  {
   "cell_type": "code",
   "execution_count": 233,
   "id": "aac35a1a",
   "metadata": {},
   "outputs": [],
   "source": [
    "b_of_interest_start = 106.5\n",
    "b_of_interest_end = 106.85"
   ]
  },
  {
   "cell_type": "code",
   "execution_count": 234,
   "id": "234c5ede",
   "metadata": {
    "scrolled": true
   },
   "outputs": [
    {
     "data": {
      "application/vnd.jupyter.widget-view+json": {
       "model_id": "494b600acabb47c1985edb24f87b69bb",
       "version_major": 2,
       "version_minor": 0
      },
      "text/plain": [
       "Canvas(toolbar=Toolbar(toolitems=[('Home', 'Reset original view', 'home', 'home'), ('Back', 'Back to previous …"
      ]
     },
     "metadata": {},
     "output_type": "display_data"
    },
    {
     "ename": "AttributeError",
     "evalue": "__delete__",
     "output_type": "error",
     "traceback": [
      "\u001b[0;31m---------------------------------------------------------------------------\u001b[0m",
      "\u001b[0;31mAttributeError\u001b[0m                            Traceback (most recent call last)",
      "\u001b[0;32m/var/folders/xc/rhr6x9qn6sb5xp5ypm3zr0xm0000gn/T/ipykernel_3357/3296568978.py\u001b[0m in \u001b[0;36m<module>\u001b[0;34m\u001b[0m\n\u001b[1;32m     12\u001b[0m \u001b[0;34m\u001b[0m\u001b[0m\n\u001b[1;32m     13\u001b[0m \u001b[0;34m\u001b[0m\u001b[0m\n\u001b[0;32m---> 14\u001b[0;31m \u001b[0mfig\u001b[0m\u001b[0;34m.\u001b[0m\u001b[0msavefig\u001b[0m\u001b[0;34m(\u001b[0m\u001b[0;34m'interesting_burst_10082021_b25.png'\u001b[0m\u001b[0;34m,\u001b[0m \u001b[0mdpi\u001b[0m\u001b[0;34m=\u001b[0m\u001b[0;36m300\u001b[0m\u001b[0;34m,\u001b[0m \u001b[0mbbox_inches\u001b[0m \u001b[0;34m=\u001b[0m \u001b[0;34m'tight'\u001b[0m\u001b[0;34m)\u001b[0m\u001b[0;34m\u001b[0m\u001b[0;34m\u001b[0m\u001b[0m\n\u001b[0m",
      "\u001b[0;32m/opt/anaconda3/lib/python3.7/site-packages/matplotlib/figure.py\u001b[0m in \u001b[0;36msavefig\u001b[0;34m(self, fname, transparent, **kwargs)\u001b[0m\n\u001b[1;32m   2309\u001b[0m                 \u001b[0mpatch\u001b[0m\u001b[0;34m.\u001b[0m\u001b[0mset_edgecolor\u001b[0m\u001b[0;34m(\u001b[0m\u001b[0;34m'none'\u001b[0m\u001b[0;34m)\u001b[0m\u001b[0;34m\u001b[0m\u001b[0;34m\u001b[0m\u001b[0m\n\u001b[1;32m   2310\u001b[0m \u001b[0;34m\u001b[0m\u001b[0m\n\u001b[0;32m-> 2311\u001b[0;31m         \u001b[0mself\u001b[0m\u001b[0;34m.\u001b[0m\u001b[0mcanvas\u001b[0m\u001b[0;34m.\u001b[0m\u001b[0mprint_figure\u001b[0m\u001b[0;34m(\u001b[0m\u001b[0mfname\u001b[0m\u001b[0;34m,\u001b[0m \u001b[0;34m**\u001b[0m\u001b[0mkwargs\u001b[0m\u001b[0;34m)\u001b[0m\u001b[0;34m\u001b[0m\u001b[0;34m\u001b[0m\u001b[0m\n\u001b[0m\u001b[1;32m   2312\u001b[0m \u001b[0;34m\u001b[0m\u001b[0m\n\u001b[1;32m   2313\u001b[0m         \u001b[0;32mif\u001b[0m \u001b[0mtransparent\u001b[0m\u001b[0;34m:\u001b[0m\u001b[0;34m\u001b[0m\u001b[0;34m\u001b[0m\u001b[0m\n",
      "\u001b[0;32m/opt/anaconda3/lib/python3.7/site-packages/matplotlib/backend_bases.py\u001b[0m in \u001b[0;36mprint_figure\u001b[0;34m(self, filename, dpi, facecolor, edgecolor, orientation, format, bbox_inches, pad_inches, bbox_extra_artists, backend, **kwargs)\u001b[0m\n\u001b[1;32m   2223\u001b[0m                 \u001b[0mself\u001b[0m\u001b[0;34m.\u001b[0m\u001b[0mfigure\u001b[0m\u001b[0;34m.\u001b[0m\u001b[0mset_edgecolor\u001b[0m\u001b[0;34m(\u001b[0m\u001b[0morigedgecolor\u001b[0m\u001b[0;34m)\u001b[0m\u001b[0;34m\u001b[0m\u001b[0;34m\u001b[0m\u001b[0m\n\u001b[1;32m   2224\u001b[0m                 \u001b[0mself\u001b[0m\u001b[0;34m.\u001b[0m\u001b[0mfigure\u001b[0m\u001b[0;34m.\u001b[0m\u001b[0mset_canvas\u001b[0m\u001b[0;34m(\u001b[0m\u001b[0mself\u001b[0m\u001b[0;34m)\u001b[0m\u001b[0;34m\u001b[0m\u001b[0;34m\u001b[0m\u001b[0m\n\u001b[0;32m-> 2225\u001b[0;31m             \u001b[0;32mreturn\u001b[0m \u001b[0mresult\u001b[0m\u001b[0;34m\u001b[0m\u001b[0;34m\u001b[0m\u001b[0m\n\u001b[0m\u001b[1;32m   2226\u001b[0m \u001b[0;34m\u001b[0m\u001b[0m\n\u001b[1;32m   2227\u001b[0m     \u001b[0;34m@\u001b[0m\u001b[0mclassmethod\u001b[0m\u001b[0;34m\u001b[0m\u001b[0;34m\u001b[0m\u001b[0m\n",
      "\u001b[0;32m/opt/anaconda3/lib/python3.7/contextlib.py\u001b[0m in \u001b[0;36m__exit__\u001b[0;34m(self, type, value, traceback)\u001b[0m\n\u001b[1;32m    117\u001b[0m         \u001b[0;32mif\u001b[0m \u001b[0mtype\u001b[0m \u001b[0;32mis\u001b[0m \u001b[0;32mNone\u001b[0m\u001b[0;34m:\u001b[0m\u001b[0;34m\u001b[0m\u001b[0;34m\u001b[0m\u001b[0m\n\u001b[1;32m    118\u001b[0m             \u001b[0;32mtry\u001b[0m\u001b[0;34m:\u001b[0m\u001b[0;34m\u001b[0m\u001b[0;34m\u001b[0m\u001b[0m\n\u001b[0;32m--> 119\u001b[0;31m                 \u001b[0mnext\u001b[0m\u001b[0;34m(\u001b[0m\u001b[0mself\u001b[0m\u001b[0;34m.\u001b[0m\u001b[0mgen\u001b[0m\u001b[0;34m)\u001b[0m\u001b[0;34m\u001b[0m\u001b[0;34m\u001b[0m\u001b[0m\n\u001b[0m\u001b[1;32m    120\u001b[0m             \u001b[0;32mexcept\u001b[0m \u001b[0mStopIteration\u001b[0m\u001b[0;34m:\u001b[0m\u001b[0;34m\u001b[0m\u001b[0;34m\u001b[0m\u001b[0m\n\u001b[1;32m    121\u001b[0m                 \u001b[0;32mreturn\u001b[0m \u001b[0;32mFalse\u001b[0m\u001b[0;34m\u001b[0m\u001b[0;34m\u001b[0m\u001b[0m\n",
      "\u001b[0;32m/opt/anaconda3/lib/python3.7/site-packages/matplotlib/cbook/__init__.py\u001b[0m in \u001b[0;36m_setattr_cm\u001b[0;34m(obj, **kwargs)\u001b[0m\n\u001b[1;32m   2082\u001b[0m         \u001b[0;32mfor\u001b[0m \u001b[0mattr\u001b[0m\u001b[0;34m,\u001b[0m \u001b[0morig\u001b[0m \u001b[0;32min\u001b[0m \u001b[0morigs\u001b[0m\u001b[0;34m.\u001b[0m\u001b[0mitems\u001b[0m\u001b[0;34m(\u001b[0m\u001b[0;34m)\u001b[0m\u001b[0;34m:\u001b[0m\u001b[0;34m\u001b[0m\u001b[0;34m\u001b[0m\u001b[0m\n\u001b[1;32m   2083\u001b[0m             \u001b[0;32mif\u001b[0m \u001b[0morig\u001b[0m \u001b[0;32mis\u001b[0m \u001b[0msentinel\u001b[0m\u001b[0;34m:\u001b[0m\u001b[0;34m\u001b[0m\u001b[0;34m\u001b[0m\u001b[0m\n\u001b[0;32m-> 2084\u001b[0;31m                 \u001b[0mdelattr\u001b[0m\u001b[0;34m(\u001b[0m\u001b[0mobj\u001b[0m\u001b[0;34m,\u001b[0m \u001b[0mattr\u001b[0m\u001b[0;34m)\u001b[0m\u001b[0;34m\u001b[0m\u001b[0;34m\u001b[0m\u001b[0m\n\u001b[0m\u001b[1;32m   2085\u001b[0m             \u001b[0;32melse\u001b[0m\u001b[0;34m:\u001b[0m\u001b[0;34m\u001b[0m\u001b[0;34m\u001b[0m\u001b[0m\n\u001b[1;32m   2086\u001b[0m                 \u001b[0msetattr\u001b[0m\u001b[0;34m(\u001b[0m\u001b[0mobj\u001b[0m\u001b[0;34m,\u001b[0m \u001b[0mattr\u001b[0m\u001b[0;34m,\u001b[0m \u001b[0morig\u001b[0m\u001b[0;34m)\u001b[0m\u001b[0;34m\u001b[0m\u001b[0;34m\u001b[0m\u001b[0m\n",
      "\u001b[0;31mAttributeError\u001b[0m: __delete__"
     ]
    }
   ],
   "source": [
    "fig, ax = plt.subplots(1, 1, figsize = (10,4))\n",
    "\n",
    "ax = plt.eventplot(boi_array, color = 'black', linewidths = 0.5, linelengths= 2)\n",
    "ax = plt.axvspan(b_of_interest_start, \n",
    "                       b_of_interest_end, facecolor = '#F2CD5E', alpha = 0.2, \n",
    "                       label = 'longest network burst'\n",
    "                      )\n",
    "\n",
    "# plot the lines for the subdivisions\n",
    "for i in time_windows:\n",
    "    ax = plt.axvline(i[0])\n",
    "    \n",
    "    \n",
    "fig.savefig('interesting_burst_10082021_b25.png', dpi=300, bbox_inches = 'tight')"
   ]
  },
  {
   "cell_type": "code",
   "execution_count": 235,
   "id": "c92f153e",
   "metadata": {},
   "outputs": [],
   "source": [
    "# we now want to make heatmaps to picture the activity to observe the spatial propagation\n",
    "\n",
    "# let us make the heatmap window generic, so the burst is always subdivied into 10 subplots\n",
    "observed_time = b_of_interest_end-b_of_interest_start\n",
    "\n",
    "heatmap_window = observed_time/10 # in seconds\n",
    "\n",
    "# make start and endpoints for each of these time-windows:\n",
    "\n",
    "time_windows = []\n",
    "\n",
    "# start of the subdivision = rounded start of the burst of interest\n",
    "i = np.round(b_of_interest_start, 4)\n",
    "\n",
    "# for every iteration, add the desired heatmap window\n",
    "while i < b_of_interest_end:\n",
    "    start = i\n",
    "    stop = np.round(i+heatmap_window, 4)\n",
    "    i = i + heatmap_window \n",
    "    if stop > b_of_interest_end:\n",
    "        stop = b_of_interest_end\n",
    "    time_windows.append((start, stop))\n"
   ]
  },
  {
   "cell_type": "code",
   "execution_count": 236,
   "id": "bf218cc1",
   "metadata": {},
   "outputs": [
    {
     "data": {
      "text/plain": [
       "[(106.5, 106.535),\n",
       " (106.535, 106.57),\n",
       " (106.57, 106.605),\n",
       " (106.60499999999999, 106.64),\n",
       " (106.63999999999999, 106.675),\n",
       " (106.67499999999998, 106.71),\n",
       " (106.70999999999998, 106.745),\n",
       " (106.74499999999998, 106.78),\n",
       " (106.77999999999997, 106.815),\n",
       " (106.81499999999997, 106.85),\n",
       " (106.84999999999997, 106.85)]"
      ]
     },
     "execution_count": 236,
     "metadata": {},
     "output_type": "execute_result"
    }
   ],
   "source": [
    "time_windows"
   ]
  },
  {
   "cell_type": "code",
   "execution_count": 237,
   "id": "381b4691",
   "metadata": {},
   "outputs": [],
   "source": [
    "# we again obtain the array of that burst\n",
    "# in the spikearray_seconds we have every spike used in the whole recording block\n",
    "# we will now filter them to be in the time region of interest and create burst_of_interest_array\n",
    "\n",
    "boi_array = []\n",
    "\n",
    "for i in spikearray_seconds:\n",
    "    channel_array_list = []\n",
    "    for j in i:\n",
    "        if (j >= b_of_interest_start) and (j <= b_of_interest_end):\n",
    "            channel_array_list.append(j)\n",
    "    channel_array = np.asarray(channel_array_list)\n",
    "    boi_array.append(channel_array)\n",
    "\n",
    "boi_array = np.asarray(boi_array)"
   ]
  },
  {
   "cell_type": "code",
   "execution_count": 238,
   "id": "7f64e34b",
   "metadata": {},
   "outputs": [
    {
     "data": {
      "text/plain": [
       "106.85"
      ]
     },
     "execution_count": 238,
     "metadata": {},
     "output_type": "execute_result"
    }
   ],
   "source": [
    "b_of_interest_end"
   ]
  },
  {
   "cell_type": "code",
   "execution_count": 239,
   "id": "cafec633",
   "metadata": {},
   "outputs": [
    {
     "data": {
      "application/vnd.jupyter.widget-view+json": {
       "model_id": "5e5e3b37d6604386938172af72bd15ad",
       "version_major": 2,
       "version_minor": 0
      },
      "text/plain": [
       "Canvas(toolbar=Toolbar(toolitems=[('Home', 'Reset original view', 'home', 'home'), ('Back', 'Back to previous …"
      ]
     },
     "metadata": {},
     "output_type": "display_data"
    },
    {
     "ename": "AttributeError",
     "evalue": "__delete__",
     "output_type": "error",
     "traceback": [
      "\u001b[0;31m---------------------------------------------------------------------------\u001b[0m",
      "\u001b[0;31mAttributeError\u001b[0m                            Traceback (most recent call last)",
      "\u001b[0;32m/var/folders/xc/rhr6x9qn6sb5xp5ypm3zr0xm0000gn/T/ipykernel_3357/4006236744.py\u001b[0m in \u001b[0;36m<module>\u001b[0;34m\u001b[0m\n\u001b[1;32m     12\u001b[0m \u001b[0;34m\u001b[0m\u001b[0m\n\u001b[1;32m     13\u001b[0m \u001b[0;34m\u001b[0m\u001b[0m\n\u001b[0;32m---> 14\u001b[0;31m \u001b[0mfig\u001b[0m\u001b[0;34m.\u001b[0m\u001b[0msavefig\u001b[0m\u001b[0;34m(\u001b[0m\u001b[0;34m'interesting_burst_zoomed_10082021_b25.png'\u001b[0m\u001b[0;34m,\u001b[0m \u001b[0mdpi\u001b[0m\u001b[0;34m=\u001b[0m\u001b[0;36m300\u001b[0m\u001b[0;34m,\u001b[0m \u001b[0mbbox_inches\u001b[0m \u001b[0;34m=\u001b[0m \u001b[0;34m'tight'\u001b[0m\u001b[0;34m)\u001b[0m\u001b[0;34m\u001b[0m\u001b[0;34m\u001b[0m\u001b[0m\n\u001b[0m",
      "\u001b[0;32m/opt/anaconda3/lib/python3.7/site-packages/matplotlib/figure.py\u001b[0m in \u001b[0;36msavefig\u001b[0;34m(self, fname, transparent, **kwargs)\u001b[0m\n\u001b[1;32m   2309\u001b[0m                 \u001b[0mpatch\u001b[0m\u001b[0;34m.\u001b[0m\u001b[0mset_edgecolor\u001b[0m\u001b[0;34m(\u001b[0m\u001b[0;34m'none'\u001b[0m\u001b[0;34m)\u001b[0m\u001b[0;34m\u001b[0m\u001b[0;34m\u001b[0m\u001b[0m\n\u001b[1;32m   2310\u001b[0m \u001b[0;34m\u001b[0m\u001b[0m\n\u001b[0;32m-> 2311\u001b[0;31m         \u001b[0mself\u001b[0m\u001b[0;34m.\u001b[0m\u001b[0mcanvas\u001b[0m\u001b[0;34m.\u001b[0m\u001b[0mprint_figure\u001b[0m\u001b[0;34m(\u001b[0m\u001b[0mfname\u001b[0m\u001b[0;34m,\u001b[0m \u001b[0;34m**\u001b[0m\u001b[0mkwargs\u001b[0m\u001b[0;34m)\u001b[0m\u001b[0;34m\u001b[0m\u001b[0;34m\u001b[0m\u001b[0m\n\u001b[0m\u001b[1;32m   2312\u001b[0m \u001b[0;34m\u001b[0m\u001b[0m\n\u001b[1;32m   2313\u001b[0m         \u001b[0;32mif\u001b[0m \u001b[0mtransparent\u001b[0m\u001b[0;34m:\u001b[0m\u001b[0;34m\u001b[0m\u001b[0;34m\u001b[0m\u001b[0m\n",
      "\u001b[0;32m/opt/anaconda3/lib/python3.7/site-packages/matplotlib/backend_bases.py\u001b[0m in \u001b[0;36mprint_figure\u001b[0;34m(self, filename, dpi, facecolor, edgecolor, orientation, format, bbox_inches, pad_inches, bbox_extra_artists, backend, **kwargs)\u001b[0m\n\u001b[1;32m   2223\u001b[0m                 \u001b[0mself\u001b[0m\u001b[0;34m.\u001b[0m\u001b[0mfigure\u001b[0m\u001b[0;34m.\u001b[0m\u001b[0mset_edgecolor\u001b[0m\u001b[0;34m(\u001b[0m\u001b[0morigedgecolor\u001b[0m\u001b[0;34m)\u001b[0m\u001b[0;34m\u001b[0m\u001b[0;34m\u001b[0m\u001b[0m\n\u001b[1;32m   2224\u001b[0m                 \u001b[0mself\u001b[0m\u001b[0;34m.\u001b[0m\u001b[0mfigure\u001b[0m\u001b[0;34m.\u001b[0m\u001b[0mset_canvas\u001b[0m\u001b[0;34m(\u001b[0m\u001b[0mself\u001b[0m\u001b[0;34m)\u001b[0m\u001b[0;34m\u001b[0m\u001b[0;34m\u001b[0m\u001b[0m\n\u001b[0;32m-> 2225\u001b[0;31m             \u001b[0;32mreturn\u001b[0m \u001b[0mresult\u001b[0m\u001b[0;34m\u001b[0m\u001b[0;34m\u001b[0m\u001b[0m\n\u001b[0m\u001b[1;32m   2226\u001b[0m \u001b[0;34m\u001b[0m\u001b[0m\n\u001b[1;32m   2227\u001b[0m     \u001b[0;34m@\u001b[0m\u001b[0mclassmethod\u001b[0m\u001b[0;34m\u001b[0m\u001b[0;34m\u001b[0m\u001b[0m\n",
      "\u001b[0;32m/opt/anaconda3/lib/python3.7/contextlib.py\u001b[0m in \u001b[0;36m__exit__\u001b[0;34m(self, type, value, traceback)\u001b[0m\n\u001b[1;32m    117\u001b[0m         \u001b[0;32mif\u001b[0m \u001b[0mtype\u001b[0m \u001b[0;32mis\u001b[0m \u001b[0;32mNone\u001b[0m\u001b[0;34m:\u001b[0m\u001b[0;34m\u001b[0m\u001b[0;34m\u001b[0m\u001b[0m\n\u001b[1;32m    118\u001b[0m             \u001b[0;32mtry\u001b[0m\u001b[0;34m:\u001b[0m\u001b[0;34m\u001b[0m\u001b[0;34m\u001b[0m\u001b[0m\n\u001b[0;32m--> 119\u001b[0;31m                 \u001b[0mnext\u001b[0m\u001b[0;34m(\u001b[0m\u001b[0mself\u001b[0m\u001b[0;34m.\u001b[0m\u001b[0mgen\u001b[0m\u001b[0;34m)\u001b[0m\u001b[0;34m\u001b[0m\u001b[0;34m\u001b[0m\u001b[0m\n\u001b[0m\u001b[1;32m    120\u001b[0m             \u001b[0;32mexcept\u001b[0m \u001b[0mStopIteration\u001b[0m\u001b[0;34m:\u001b[0m\u001b[0;34m\u001b[0m\u001b[0;34m\u001b[0m\u001b[0m\n\u001b[1;32m    121\u001b[0m                 \u001b[0;32mreturn\u001b[0m \u001b[0;32mFalse\u001b[0m\u001b[0;34m\u001b[0m\u001b[0;34m\u001b[0m\u001b[0m\n",
      "\u001b[0;32m/opt/anaconda3/lib/python3.7/site-packages/matplotlib/cbook/__init__.py\u001b[0m in \u001b[0;36m_setattr_cm\u001b[0;34m(obj, **kwargs)\u001b[0m\n\u001b[1;32m   2082\u001b[0m         \u001b[0;32mfor\u001b[0m \u001b[0mattr\u001b[0m\u001b[0;34m,\u001b[0m \u001b[0morig\u001b[0m \u001b[0;32min\u001b[0m \u001b[0morigs\u001b[0m\u001b[0;34m.\u001b[0m\u001b[0mitems\u001b[0m\u001b[0;34m(\u001b[0m\u001b[0;34m)\u001b[0m\u001b[0;34m:\u001b[0m\u001b[0;34m\u001b[0m\u001b[0;34m\u001b[0m\u001b[0m\n\u001b[1;32m   2083\u001b[0m             \u001b[0;32mif\u001b[0m \u001b[0morig\u001b[0m \u001b[0;32mis\u001b[0m \u001b[0msentinel\u001b[0m\u001b[0;34m:\u001b[0m\u001b[0;34m\u001b[0m\u001b[0;34m\u001b[0m\u001b[0m\n\u001b[0;32m-> 2084\u001b[0;31m                 \u001b[0mdelattr\u001b[0m\u001b[0;34m(\u001b[0m\u001b[0mobj\u001b[0m\u001b[0;34m,\u001b[0m \u001b[0mattr\u001b[0m\u001b[0;34m)\u001b[0m\u001b[0;34m\u001b[0m\u001b[0;34m\u001b[0m\u001b[0m\n\u001b[0m\u001b[1;32m   2085\u001b[0m             \u001b[0;32melse\u001b[0m\u001b[0;34m:\u001b[0m\u001b[0;34m\u001b[0m\u001b[0;34m\u001b[0m\u001b[0m\n\u001b[1;32m   2086\u001b[0m                 \u001b[0msetattr\u001b[0m\u001b[0;34m(\u001b[0m\u001b[0mobj\u001b[0m\u001b[0;34m,\u001b[0m \u001b[0mattr\u001b[0m\u001b[0;34m,\u001b[0m \u001b[0morig\u001b[0m\u001b[0;34m)\u001b[0m\u001b[0;34m\u001b[0m\u001b[0;34m\u001b[0m\u001b[0m\n",
      "\u001b[0;31mAttributeError\u001b[0m: __delete__"
     ]
    }
   ],
   "source": [
    "fig, ax = plt.subplots(1, 1, figsize = (10,4))\n",
    "\n",
    "ax = plt.eventplot(boi_array, color = 'black', linewidths = 0.5, linelengths= 2)\n",
    "ax = plt.axvspan(b_of_interest_start, \n",
    "                       b_of_interest_end, facecolor = '#F2CD5E', alpha = 0.2, \n",
    "                       label = 'longest network burst'\n",
    "                      )\n",
    "\n",
    "# plot the lines for the subdivisions\n",
    "for i in time_windows:\n",
    "    ax = plt.axvline(i[0])\n",
    "    \n",
    "    \n",
    "fig.savefig('interesting_burst_zoomed_10082021_b25.png', dpi=300, bbox_inches = 'tight')"
   ]
  },
  {
   "cell_type": "code",
   "execution_count": 240,
   "id": "44e81685",
   "metadata": {},
   "outputs": [],
   "source": [
    "# we will now create a dictionary with key = starts of the subdivision\n",
    "# and values = dictionary  of the corresponding spiketrains\n",
    "\n",
    "subdivided_boi_st = {}\n",
    "subdivided_boi_fr = {}\n",
    "\n",
    "for i in time_windows:\n",
    "    #empty dic for firing rates\n",
    "    fr_subs = {}\n",
    "    \n",
    "    # get the spiketrains for the time subpart\n",
    "    st = subdivide_spiketrain(spikedic_MAD, i[0], i[1])\n",
    "    \n",
    "    # assign the subdivided dictionary to the subdivision dictionary\n",
    "    subdivided_boi_st[i[0]] = st\n",
    "    \n",
    "    # for firing rate, we calculate the fr for each channel\n",
    "    for key in st:\n",
    "        fr = len(st[key]) / (i[1]-i[0])\n",
    "        \n",
    "        #assign the firing rate to that key\n",
    "        fr_subs[key] = fr\n",
    "     \n",
    "    # the value for the subdivision key is that used subdic, which is emptied in the next loop\n",
    "    subdivided_boi_fr[i[0]] = fr_subs\n",
    "        "
   ]
  },
  {
   "cell_type": "code",
   "execution_count": 241,
   "id": "4fcce1c3",
   "metadata": {},
   "outputs": [],
   "source": [
    "time_windows = time_windows[:10]"
   ]
  },
  {
   "cell_type": "code",
   "execution_count": 244,
   "id": "966beac2",
   "metadata": {},
   "outputs": [
    {
     "data": {
      "application/vnd.jupyter.widget-view+json": {
       "model_id": "9aabe0158e6e4f728f33621adab2379f",
       "version_major": 2,
       "version_minor": 0
      },
      "text/plain": [
       "Canvas(toolbar=Toolbar(toolitems=[('Home', 'Reset original view', 'home', 'home'), ('Back', 'Back to previous …"
      ]
     },
     "metadata": {},
     "output_type": "display_data"
    },
    {
     "data": {
      "text/plain": [
       "Text(0.5, 0.98, 'Burst Propagation from 106.5 to 106.85')"
      ]
     },
     "execution_count": 244,
     "metadata": {},
     "output_type": "execute_result"
    },
    {
     "data": {
      "text/plain": [
       "[Text(0.5, 1.0, '0 ms')]"
      ]
     },
     "execution_count": 244,
     "metadata": {},
     "output_type": "execute_result"
    },
    {
     "data": {
      "text/plain": [
       "[Text(0.5, 1.0, '34 ms')]"
      ]
     },
     "execution_count": 244,
     "metadata": {},
     "output_type": "execute_result"
    },
    {
     "data": {
      "text/plain": [
       "[Text(0.5, 1.0, '69 ms')]"
      ]
     },
     "execution_count": 244,
     "metadata": {},
     "output_type": "execute_result"
    },
    {
     "data": {
      "text/plain": [
       "[Text(0.5, 1.0, '104 ms')]"
      ]
     },
     "execution_count": 244,
     "metadata": {},
     "output_type": "execute_result"
    },
    {
     "data": {
      "text/plain": [
       "[Text(0.5, 1.0, '139 ms')]"
      ]
     },
     "execution_count": 244,
     "metadata": {},
     "output_type": "execute_result"
    },
    {
     "data": {
      "text/plain": [
       "[Text(0.5, 1.0, '174 ms')]"
      ]
     },
     "execution_count": 244,
     "metadata": {},
     "output_type": "execute_result"
    },
    {
     "data": {
      "text/plain": [
       "[Text(0.5, 1.0, '209 ms')]"
      ]
     },
     "execution_count": 244,
     "metadata": {},
     "output_type": "execute_result"
    },
    {
     "data": {
      "text/plain": [
       "[Text(0.5, 1.0, '244 ms')]"
      ]
     },
     "execution_count": 244,
     "metadata": {},
     "output_type": "execute_result"
    },
    {
     "data": {
      "text/plain": [
       "[Text(0.5, 1.0, '279 ms')]"
      ]
     },
     "execution_count": 244,
     "metadata": {},
     "output_type": "execute_result"
    },
    {
     "data": {
      "text/plain": [
       "[Text(0.5, 1.0, '314 ms')]"
      ]
     },
     "execution_count": 244,
     "metadata": {},
     "output_type": "execute_result"
    },
    {
     "ename": "AttributeError",
     "evalue": "__delete__",
     "output_type": "error",
     "traceback": [
      "\u001b[0;31m---------------------------------------------------------------------------\u001b[0m",
      "\u001b[0;31mAttributeError\u001b[0m                            Traceback (most recent call last)",
      "\u001b[0;32m/var/folders/xc/rhr6x9qn6sb5xp5ypm3zr0xm0000gn/T/ipykernel_3357/2932715766.py\u001b[0m in \u001b[0;36m<module>\u001b[0;34m\u001b[0m\n\u001b[1;32m     40\u001b[0m     \u001b[0mtime_intra_burst\u001b[0m \u001b[0;34m+=\u001b[0m \u001b[0;34m(\u001b[0m\u001b[0mheatmap_window\u001b[0m\u001b[0;34m*\u001b[0m\u001b[0;36m1000\u001b[0m\u001b[0;34m)\u001b[0m\u001b[0;34m\u001b[0m\u001b[0;34m\u001b[0m\u001b[0m\n\u001b[1;32m     41\u001b[0m \u001b[0;34m\u001b[0m\u001b[0m\n\u001b[0;32m---> 42\u001b[0;31m \u001b[0mfig\u001b[0m\u001b[0;34m.\u001b[0m\u001b[0msavefig\u001b[0m\u001b[0;34m(\u001b[0m\u001b[0;34m'divided_burst_spatial_zoomed_10082021_b25.png'\u001b[0m\u001b[0;34m,\u001b[0m \u001b[0mdpi\u001b[0m\u001b[0;34m=\u001b[0m\u001b[0;36m300\u001b[0m\u001b[0;34m,\u001b[0m \u001b[0mbbox_inches\u001b[0m \u001b[0;34m=\u001b[0m \u001b[0;34m'tight'\u001b[0m\u001b[0;34m)\u001b[0m\u001b[0;34m\u001b[0m\u001b[0;34m\u001b[0m\u001b[0m\n\u001b[0m",
      "\u001b[0;32m/opt/anaconda3/lib/python3.7/site-packages/matplotlib/figure.py\u001b[0m in \u001b[0;36msavefig\u001b[0;34m(self, fname, transparent, **kwargs)\u001b[0m\n\u001b[1;32m   2309\u001b[0m                 \u001b[0mpatch\u001b[0m\u001b[0;34m.\u001b[0m\u001b[0mset_edgecolor\u001b[0m\u001b[0;34m(\u001b[0m\u001b[0;34m'none'\u001b[0m\u001b[0;34m)\u001b[0m\u001b[0;34m\u001b[0m\u001b[0;34m\u001b[0m\u001b[0m\n\u001b[1;32m   2310\u001b[0m \u001b[0;34m\u001b[0m\u001b[0m\n\u001b[0;32m-> 2311\u001b[0;31m         \u001b[0mself\u001b[0m\u001b[0;34m.\u001b[0m\u001b[0mcanvas\u001b[0m\u001b[0;34m.\u001b[0m\u001b[0mprint_figure\u001b[0m\u001b[0;34m(\u001b[0m\u001b[0mfname\u001b[0m\u001b[0;34m,\u001b[0m \u001b[0;34m**\u001b[0m\u001b[0mkwargs\u001b[0m\u001b[0;34m)\u001b[0m\u001b[0;34m\u001b[0m\u001b[0;34m\u001b[0m\u001b[0m\n\u001b[0m\u001b[1;32m   2312\u001b[0m \u001b[0;34m\u001b[0m\u001b[0m\n\u001b[1;32m   2313\u001b[0m         \u001b[0;32mif\u001b[0m \u001b[0mtransparent\u001b[0m\u001b[0;34m:\u001b[0m\u001b[0;34m\u001b[0m\u001b[0;34m\u001b[0m\u001b[0m\n",
      "\u001b[0;32m/opt/anaconda3/lib/python3.7/site-packages/matplotlib/backend_bases.py\u001b[0m in \u001b[0;36mprint_figure\u001b[0;34m(self, filename, dpi, facecolor, edgecolor, orientation, format, bbox_inches, pad_inches, bbox_extra_artists, backend, **kwargs)\u001b[0m\n\u001b[1;32m   2223\u001b[0m                 \u001b[0mself\u001b[0m\u001b[0;34m.\u001b[0m\u001b[0mfigure\u001b[0m\u001b[0;34m.\u001b[0m\u001b[0mset_edgecolor\u001b[0m\u001b[0;34m(\u001b[0m\u001b[0morigedgecolor\u001b[0m\u001b[0;34m)\u001b[0m\u001b[0;34m\u001b[0m\u001b[0;34m\u001b[0m\u001b[0m\n\u001b[1;32m   2224\u001b[0m                 \u001b[0mself\u001b[0m\u001b[0;34m.\u001b[0m\u001b[0mfigure\u001b[0m\u001b[0;34m.\u001b[0m\u001b[0mset_canvas\u001b[0m\u001b[0;34m(\u001b[0m\u001b[0mself\u001b[0m\u001b[0;34m)\u001b[0m\u001b[0;34m\u001b[0m\u001b[0;34m\u001b[0m\u001b[0m\n\u001b[0;32m-> 2225\u001b[0;31m             \u001b[0;32mreturn\u001b[0m \u001b[0mresult\u001b[0m\u001b[0;34m\u001b[0m\u001b[0;34m\u001b[0m\u001b[0m\n\u001b[0m\u001b[1;32m   2226\u001b[0m \u001b[0;34m\u001b[0m\u001b[0m\n\u001b[1;32m   2227\u001b[0m     \u001b[0;34m@\u001b[0m\u001b[0mclassmethod\u001b[0m\u001b[0;34m\u001b[0m\u001b[0;34m\u001b[0m\u001b[0m\n",
      "\u001b[0;32m/opt/anaconda3/lib/python3.7/contextlib.py\u001b[0m in \u001b[0;36m__exit__\u001b[0;34m(self, type, value, traceback)\u001b[0m\n\u001b[1;32m    117\u001b[0m         \u001b[0;32mif\u001b[0m \u001b[0mtype\u001b[0m \u001b[0;32mis\u001b[0m \u001b[0;32mNone\u001b[0m\u001b[0;34m:\u001b[0m\u001b[0;34m\u001b[0m\u001b[0;34m\u001b[0m\u001b[0m\n\u001b[1;32m    118\u001b[0m             \u001b[0;32mtry\u001b[0m\u001b[0;34m:\u001b[0m\u001b[0;34m\u001b[0m\u001b[0;34m\u001b[0m\u001b[0m\n\u001b[0;32m--> 119\u001b[0;31m                 \u001b[0mnext\u001b[0m\u001b[0;34m(\u001b[0m\u001b[0mself\u001b[0m\u001b[0;34m.\u001b[0m\u001b[0mgen\u001b[0m\u001b[0;34m)\u001b[0m\u001b[0;34m\u001b[0m\u001b[0;34m\u001b[0m\u001b[0m\n\u001b[0m\u001b[1;32m    120\u001b[0m             \u001b[0;32mexcept\u001b[0m \u001b[0mStopIteration\u001b[0m\u001b[0;34m:\u001b[0m\u001b[0;34m\u001b[0m\u001b[0;34m\u001b[0m\u001b[0m\n\u001b[1;32m    121\u001b[0m                 \u001b[0;32mreturn\u001b[0m \u001b[0;32mFalse\u001b[0m\u001b[0;34m\u001b[0m\u001b[0;34m\u001b[0m\u001b[0m\n",
      "\u001b[0;32m/opt/anaconda3/lib/python3.7/site-packages/matplotlib/cbook/__init__.py\u001b[0m in \u001b[0;36m_setattr_cm\u001b[0;34m(obj, **kwargs)\u001b[0m\n\u001b[1;32m   2082\u001b[0m         \u001b[0;32mfor\u001b[0m \u001b[0mattr\u001b[0m\u001b[0;34m,\u001b[0m \u001b[0morig\u001b[0m \u001b[0;32min\u001b[0m \u001b[0morigs\u001b[0m\u001b[0;34m.\u001b[0m\u001b[0mitems\u001b[0m\u001b[0;34m(\u001b[0m\u001b[0;34m)\u001b[0m\u001b[0;34m:\u001b[0m\u001b[0;34m\u001b[0m\u001b[0;34m\u001b[0m\u001b[0m\n\u001b[1;32m   2083\u001b[0m             \u001b[0;32mif\u001b[0m \u001b[0morig\u001b[0m \u001b[0;32mis\u001b[0m \u001b[0msentinel\u001b[0m\u001b[0;34m:\u001b[0m\u001b[0;34m\u001b[0m\u001b[0;34m\u001b[0m\u001b[0m\n\u001b[0;32m-> 2084\u001b[0;31m                 \u001b[0mdelattr\u001b[0m\u001b[0;34m(\u001b[0m\u001b[0mobj\u001b[0m\u001b[0;34m,\u001b[0m \u001b[0mattr\u001b[0m\u001b[0;34m)\u001b[0m\u001b[0;34m\u001b[0m\u001b[0;34m\u001b[0m\u001b[0m\n\u001b[0m\u001b[1;32m   2085\u001b[0m             \u001b[0;32melse\u001b[0m\u001b[0;34m:\u001b[0m\u001b[0;34m\u001b[0m\u001b[0;34m\u001b[0m\u001b[0m\n\u001b[1;32m   2086\u001b[0m                 \u001b[0msetattr\u001b[0m\u001b[0;34m(\u001b[0m\u001b[0mobj\u001b[0m\u001b[0;34m,\u001b[0m \u001b[0mattr\u001b[0m\u001b[0;34m,\u001b[0m \u001b[0morig\u001b[0m\u001b[0;34m)\u001b[0m\u001b[0;34m\u001b[0m\u001b[0;34m\u001b[0m\u001b[0m\n",
      "\u001b[0;31mAttributeError\u001b[0m: __delete__"
     ]
    }
   ],
   "source": [
    "fig = plt.figure(figsize=(20,8))\n",
    "\n",
    "fig.tight_layout()\n",
    "fig.suptitle('Burst Propagation from ' + \n",
    "             str(np.round(b_of_interest_start, 4))+ ' to ' + \n",
    "             str(np.round(b_of_interest_end, 4)))\n",
    "gs1 = gridspec.GridSpec(2, 5)\n",
    "\n",
    "#countries = [\"Country \" + str(i) for i in range(1, 26)]\n",
    "axs = []\n",
    "time_intra_burst = 0\n",
    "\n",
    "for i in range(1, len(time_windows)+1):\n",
    "    \n",
    "\n",
    "    plotframe = copy.deepcopy(df)\n",
    "    \n",
    "    # get the key for the fr_dic from the time windows:\n",
    "    key = time_windows[i-1][0] # substract one because we start the for range at 1\n",
    "    \n",
    "    #extract the corresponding fr_dic\n",
    "    fr_dic = subdivided_boi_fr[key]\n",
    "    \n",
    "    # fill the dataframe\n",
    "    plotframe_filled = get_dict_values(plotframe, fr_dic)\n",
    "    \n",
    "    axs.append(fig.add_subplot(gs1[i-1]))\n",
    "    # plot the heatmap\n",
    "    #sns.heatmap(plotframe_filled, annot=False, linewidths=.5, ax=axstring, cmap=\"YlOrRd\")\n",
    "\n",
    "\n",
    "    axs[-1] = sns.heatmap(plotframe_filled, \n",
    "                          annot=False, vmin=0, cmap='rocket_r', \n",
    "                          cbar = False, linewidths=0.1)\n",
    "    \n",
    "    \n",
    "    plt.setp(axs[-1], \n",
    "             title=str(int(time_intra_burst)) + ' ms')\n",
    "    \n",
    "    time_intra_burst += (heatmap_window*1000)\n",
    "\n",
    "fig.savefig('divided_burst_spatial_zoomed_10082021_b25.png', dpi=300, bbox_inches = 'tight')"
   ]
  },
  {
   "cell_type": "code",
   "execution_count": null,
   "id": "74fbde72",
   "metadata": {},
   "outputs": [],
   "source": []
  }
 ],
 "metadata": {
  "kernelspec": {
   "display_name": "Python 3 (ipykernel)",
   "language": "python",
   "name": "python3"
  },
  "language_info": {
   "codemirror_mode": {
    "name": "ipython",
    "version": 3
   },
   "file_extension": ".py",
   "mimetype": "text/x-python",
   "name": "python",
   "nbconvert_exporter": "python",
   "pygments_lexer": "ipython3",
   "version": "3.7.8"
  },
  "widgets": {
   "application/vnd.jupyter.widget-state+json": {
    "state": {
     "11c5550e9cda405cb94016cb53c96fa8": {
      "model_module": "@jupyter-widgets/base",
      "model_module_version": "2.0.0",
      "model_name": "LayoutModel",
      "state": {}
     },
     "22caa69d43b6417698812d876f5081d5": {
      "model_module": "@jupyter-widgets/base",
      "model_module_version": "2.0.0",
      "model_name": "LayoutModel",
      "state": {}
     },
     "51ded152af804301a2b4aa031b676e3e": {
      "model_module": "jupyter-matplotlib",
      "model_module_version": "2.0.0",
      "model_name": "MPLCanvasModel",
      "state": {
       "_cursor": "pointer",
       "_figure_label": "Figure",
       "_height": 0,
       "_image_mode": "full",
       "_message": "",
       "_model_module": "jupyter-matplotlib",
       "_model_name": "MPLCanvasModel",
       "_rubberband_height": 0,
       "_rubberband_width": 0,
       "_rubberband_x": 0,
       "_rubberband_y": 0,
       "_view_name": "ErrorWidgetView",
       "_width": 0,
       "error": {},
       "footer_visible": true,
       "header_visible": true,
       "layout": "IPY_MODEL_11c5550e9cda405cb94016cb53c96fa8",
       "msg": "Failed to load model class 'MPLCanvasModel' from module 'jupyter-matplotlib'",
       "resizable": true,
       "toolbar": "IPY_MODEL_9d395897d8024d998a18f816f8c0d072",
       "toolbar_position": "left",
       "toolbar_visible": true
      }
     },
     "9d395897d8024d998a18f816f8c0d072": {
      "model_module": "jupyter-matplotlib",
      "model_module_version": "2.0.0",
      "model_name": "ToolbarModel",
      "state": {
       "_current_action": "",
       "_model_module": "jupyter-matplotlib",
       "_model_name": "ToolbarModel",
       "_view_name": "ErrorWidgetView",
       "button_style": "",
       "collapsed": true,
       "error": {},
       "layout": "IPY_MODEL_22caa69d43b6417698812d876f5081d5",
       "msg": "Failed to load model class 'ToolbarModel' from module 'jupyter-matplotlib'",
       "orientation": "vertical",
       "toolitems": [
        [
         "Home",
         "Reset original view",
         "home",
         "home"
        ],
        [
         "Back",
         "Back to previous view",
         "arrow-left",
         "back"
        ],
        [
         "Forward",
         "Forward to next view",
         "arrow-right",
         "forward"
        ],
        [
         "Pan",
         "Left button pans, Right button zooms\nx/y fixes axis, CTRL fixes aspect",
         "arrows",
         "pan"
        ],
        [
         "Zoom",
         "Zoom to rectangle\nx/y fixes axis, CTRL fixes aspect",
         "square-o",
         "zoom"
        ],
        [
         "Download",
         "Download plot",
         "floppy-o",
         "save_figure"
        ]
       ]
      }
     }
    },
    "version_major": 2,
    "version_minor": 0
   }
  }
 },
 "nbformat": 4,
 "nbformat_minor": 5
}
