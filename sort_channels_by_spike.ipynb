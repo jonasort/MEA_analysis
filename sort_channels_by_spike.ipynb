{
 "cells": [
  {
   "cell_type": "code",
   "execution_count": 1,
   "id": "c1fcbf18-05ff-4ec7-8886-bd300a365fc5",
   "metadata": {},
   "outputs": [],
   "source": [
    "\n",
    "import os\n",
    "import sys\n",
    "import numpy as np\n",
    "import neo\n",
    "import pandas as pd\n",
    "import h5py\n",
    "import ast\n",
    "import McsPy\n",
    "import sys, importlib, os\n",
    "import McsPy.McsData\n",
    "import McsPy.McsCMOS\n",
    "from McsPy import ureg, Q_\n",
    "import matplotlib.pyplot as plt\n",
    "from scipy.signal import butter, lfilter, freqz, find_peaks, correlate, gaussian, filtfilt\n",
    "from scipy import stats\n",
    "from scipy import signal\n",
    "from scipy import stats\n",
    "from scipy import signal\n",
    "from IPython.core.interactiveshell import InteractiveShell\n",
    "InteractiveShell.ast_node_interactivity = 'all'\n",
    "import numpy as np\n",
    "from sklearn.mixture import GaussianMixture\n",
    "from sklearn.decomposition import PCA\n",
    "from sklearn.preprocessing import StandardScaler\n",
    "import McsPy\n",
    "import McsPy.McsData\n",
    "from McsPy import ureg, Q_\n",
    "import matplotlib.pyplot as plt\n",
    "\n",
    "import warnings\n",
    "warnings.filterwarnings('ignore')\n",
    "\n",
    "import scipy\n",
    "import time\n",
    "import glob\n",
    "from pathlib import Path\n",
    "from datetime import datetime\n",
    "import matplotlib.pyplot as plt\n",
    "import matplotlib.gridspec as gridspec\n",
    "import pandas as pd\n",
    "import seaborn as sns\n",
    "import copy\n",
    "import pickle\n",
    "import fnmatch\n",
    "\n",
    "# Plotting\n",
    "import matplotlib.pyplot as plt\n",
    "from matplotlib.pyplot import cm\n",
    "import seaborn as sns\n",
    "#networkx\n",
    "import plotly.graph_objects as go\n",
    "import networkx as nx\n",
    "import matplotlib.patches as mpatche"
   ]
  },
  {
   "cell_type": "code",
   "execution_count": 2,
   "id": "20cf396d-175e-4c30-8f67-67e1133ed5c0",
   "metadata": {},
   "outputs": [],
   "source": [
    "os.chdir('/Users/jonas/Documents/DATA/MEA_DATA_Aachen_sample/output__old/2021-05-17_cortex_div11_aCSF_ID046_30µMNE_spont_1')"
   ]
  },
  {
   "cell_type": "code",
   "execution_count": 3,
   "id": "0004b746-358c-4a7d-8259-d52af1d88528",
   "metadata": {},
   "outputs": [],
   "source": [
    "pkl_list = glob.glob('*.pkl')"
   ]
  },
  {
   "cell_type": "code",
   "execution_count": 4,
   "id": "f5673621-8d2f-459e-84e7-1e3725f7adc3",
   "metadata": {},
   "outputs": [
    {
     "data": {
      "text/plain": [
       "dict_keys(['filename', 'slice_id', 'medium', 'drug', 'stimulation', 'tissue', 'recording_date', 'info_dics_subrecordings', 'recordings_date', 'timelengthrecording_s', 'scale_factor_for_second', 'tick'])"
      ]
     },
     "execution_count": 4,
     "metadata": {},
     "output_type": "execute_result"
    }
   ],
   "source": [
    "MAIN_RECORDING_DICTIONARY = pickle.load(\n",
    "    open(pkl_list[0], \n",
    "         \"rb\"))\n",
    "\n",
    "\n",
    "\n",
    "MAIN_RECORDING_DICTIONARY['Infos_Recording'].keys()\n",
    "tick = MAIN_RECORDING_DICTIONARY['Infos_Recording']['tick']\n",
    "timelengthrecording_s = MAIN_RECORDING_DICTIONARY['Infos_Recording']['timelengthrecording_s']\n",
    "scale_factor_for_second = MAIN_RECORDING_DICTIONARY['Infos_Recording']['scale_factor_for_second']\n",
    "scale_factor_for_milisecond = scale_factor_for_second/1000\n",
    "spikedic_MAD = MAIN_RECORDING_DICTIONARY['spikedic_MAD']\n",
    "\n",
    "\n",
    "network_bursts_seconds = MAIN_RECORDING_DICTIONARY['network_bursts_seconds']\n",
    "spikedic_MAD = MAIN_RECORDING_DICTIONARY['spikedic_MAD']\n",
    "fr_dic = MAIN_RECORDING_DICTIONARY['fr_dic']\n",
    "isi_dictionary = MAIN_RECORDING_DICTIONARY['isi_dictionary']\n",
    "isi_average_dic = MAIN_RECORDING_DICTIONARY['isi_average_dic']\n",
    "Infos_Recording = MAIN_RECORDING_DICTIONARY['Infos_Recording']\n",
    "Infos_Analysis = MAIN_RECORDING_DICTIONARY['Infos_Analysis']\n",
    "Infos_Anatomy = MAIN_RECORDING_DICTIONARY['Infos_Anatomy']\n",
    "Bursts = MAIN_RECORDING_DICTIONARY['Bursts']\n",
    "Interburst_Intervals = MAIN_RECORDING_DICTIONARY['Interburst-Intervals']\n",
    "bursting_time_per_channel = MAIN_RECORDING_DICTIONARY['bursting_time_per_channel']\n",
    "bursts_per_channel = MAIN_RECORDING_DICTIONARY['bursts_per_channel']\n",
    "burst_connections = MAIN_RECORDING_DICTIONARY['burst_connections']\n",
    "Basics = MAIN_RECORDING_DICTIONARY['Basics']\n",
    "inverted_layerdic = Infos_Anatomy['layerdic_invert']\n",
    "layerdic = Infos_Anatomy['layerdic']\n",
    "scale_factor_for_second = 1e-06\n",
    "timelengthrecording_s = Infos_Recording['timelengthrecording_s']\n",
    "\n",
    "infos_dic_subrecordings = Infos_Recording['info_dics_subrecordings']\n",
    "throwkey = list(infos_dic_subrecordings.keys())[0]\n",
    "subrec_infos = infos_dic_subrecordings[throwkey]"
   ]
  },
  {
   "cell_type": "markdown",
   "id": "2e2b4c12-5324-4c04-946f-deccf5c2ee8e",
   "metadata": {},
   "source": [
    "## Create a function to sort the appearance of spikes in a network event"
   ]
  },
  {
   "cell_type": "code",
   "execution_count": 5,
   "id": "2065fd7f-5faf-439a-bffd-ade06d4fa373",
   "metadata": {},
   "outputs": [],
   "source": [
    "def sort_channels_by_leading_spike(spikedic, start_seconds, stop_seconds, scalefactor_for_second, tick):\n",
    "    \n",
    "        # first only find the relevant spikes for the searched time\n",
    "        spikedic_only_relevant_spikes = {}\n",
    "        for key in spikedic:\n",
    "            spike_list = []\n",
    "            for i in spikedic[key]:\n",
    "                if start_seconds < (i*tick*scalefactor_for_second) < stop_seconds:\n",
    "                    spike_list.append(i)\n",
    "                spikedic_only_relevant_spikes[key] = spike_list\n",
    "                \n",
    "        #return spikedic_only_relevant_spikes\n",
    "        # second: make a list of tuples with (first spike, channellabel)\n",
    "        \n",
    "        sortlist = []\n",
    "        for key in spikedic_only_relevant_spikes:\n",
    "            if len(spikedic_only_relevant_spikes[key]) > 0:\n",
    "                   sortlist.append((spikedic_only_relevant_spikes[key][0], key))\n",
    "                   \n",
    "        #return sortlist\n",
    "        # sort this list\n",
    "        sortlist.sort(key=lambda x: x[0])\n",
    "        \n",
    "        return sortlist\n",
    "        \n",
    "        \n",
    "        \n"
   ]
  },
  {
   "cell_type": "code",
   "execution_count": 6,
   "id": "a03e1414-bb62-47ea-a682-026269ed6c02",
   "metadata": {},
   "outputs": [],
   "source": [
    "d = sort_channels_by_leading_spike(spikedic = spikedic_MAD,\n",
    "                                   start_seconds=network_bursts_seconds[15][0],\n",
    "                                   stop_seconds=network_bursts_seconds[15][1],\n",
    "                                   scalefactor_for_second=scale_factor_for_second,\n",
    "                                   tick = tick)"
   ]
  },
  {
   "cell_type": "code",
   "execution_count": 7,
   "id": "318c4c43-e06e-4d8c-85cd-1e95562845ab",
   "metadata": {},
   "outputs": [
    {
     "data": {
      "text/plain": [
       "[(1492655, 'K2'),\n",
       " (1492673, 'M2'),\n",
       " (1492689, 'L2'),\n",
       " (1492786, 'L1'),\n",
       " (1492832, 'K3'),\n",
       " (1492860, 'H3'),\n",
       " (1492911, 'J2'),\n",
       " (1492921, 'H1'),\n",
       " (1492945, 'H2'),\n",
       " (1492960, 'G1'),\n",
       " (1493034, 'G2'),\n",
       " (1493041, 'F2'),\n",
       " (1493121, 'F3'),\n",
       " (1494685, 'K4')]"
      ]
     },
     "execution_count": 7,
     "metadata": {},
     "output_type": "execute_result"
    }
   ],
   "source": [
    "d"
   ]
  },
  {
   "cell_type": "markdown",
   "id": "3af2c89c-4433-440e-8d1e-ed6aef2b784f",
   "metadata": {},
   "source": [
    "## funktion: für alle vorhandenen netzwerkbursts ab start burst die zeit zum ersten spike pro kanal und diese dann nach mean sorten + spikeplot"
   ]
  },
  {
   "cell_type": "code",
   "execution_count": 8,
   "id": "b7e19ebb-644c-419e-a213-54deab53fdcd",
   "metadata": {},
   "outputs": [],
   "source": [
    "def sort_channels_by_leading_spike_in_networkburst(spikedic, networkbursttimes_in_seconds, scale_factor_for_second, tick):\n",
    "    \n",
    "        # for each channel: \n",
    "        \n",
    "        \n",
    "        spikedic_times_start_after_networkburst_ms = {}\n",
    "        for key in spikedic:\n",
    "            start_list = []\n",
    "            for i in networkbursttimes_in_seconds:\n",
    "                start_ms = i[0]*1000\n",
    "                stop_ms = i[1]*1000\n",
    "                nb_spikelist = []\n",
    "                #print(start_ms)\n",
    "                \n",
    "                for i in spikedic[key]:\n",
    "                    #print(i)\n",
    "                    s = i*tick*scale_factor_for_second*1000\n",
    "                    if start_ms < s < stop_ms:\n",
    "                        nb_spikelist.append(s)\n",
    "                if len(nb_spikelist)>0:\n",
    "                    first_spike_after_networkburst_start_ms = nb_spikelist[0]\n",
    "                    diff_to_first_spike_ms = first_spike_after_networkburst_start_ms - start_ms\n",
    "                    start_list.append(diff_to_first_spike_ms)\n",
    "        \n",
    "            spikedic_times_start_after_networkburst_ms[key] = start_list\n",
    "            \n",
    "        # return spikedic_times_start_after_networkburst_ms\n",
    "        \n",
    "        \n",
    "        # second sort them after the mean difference in ms after start\n",
    "        sortlist = []\n",
    "        for key in spikedic_times_start_after_networkburst_ms:\n",
    "            if len(spikedic_times_start_after_networkburst_ms[key]) > 0:\n",
    "                   sortlist.append((np.mean(spikedic_times_start_after_networkburst_ms[key]), \n",
    "                                    np.std(spikedic_times_start_after_networkburst_ms[key]),\n",
    "                                    key))\n",
    "\n",
    "                    \n",
    "                    \n",
    "        # sort this list \n",
    "        \n",
    "        sortlist.sort(key=lambda x: x[0])\n",
    "\n",
    "        return sortlist, spikedic_times_start_after_networkburst_ms\n",
    "        \n",
    "        \n",
    "        \n",
    "        \n",
    "        \n",
    "        \n",
    "        # sorted list of tuples mit (mean_time_from_networkburst_start, std, channellabel)\n",
    "        "
   ]
  },
  {
   "cell_type": "code",
   "execution_count": 22,
   "id": "d69ad792-1c82-41f5-b383-a7925275e82b",
   "metadata": {},
   "outputs": [],
   "source": [
    "f, x = sort_channels_by_leading_spike_in_networkburst(spikedic = spikedic_MAD,\n",
    "                                                   networkbursttimes_in_seconds=network_bursts_seconds[:],\n",
    "                                                   scale_factor_for_second=scale_factor_for_second,\n",
    "                                                   tick = tick)"
   ]
  },
  {
   "cell_type": "code",
   "execution_count": 23,
   "id": "bd9a5e9a-84ff-479d-b084-e2d074e9ef3e",
   "metadata": {},
   "outputs": [],
   "source": [
    "def get_df_from_first_spike_dic(spikedic):\n",
    "    \n",
    "    \n",
    "    inverted_dic = {}\n",
    "    \n",
    "    for key in spikedic:\n",
    "        mean = np.mean(spikedic[key])\n",
    "        for i in spikedic[key]:\n",
    "            inverted_dic[i]=(key, mean)\n",
    "            \n",
    "    df = pd.DataFrame(data=list(inverted_dic.items()),columns=['spiketime', 'tuple'])\n",
    "    df = df.assign(**dict(zip('cm', df.tuple.str)))\n",
    "    #df = df.assign(channel = lambda df: df.tuple[0])\n",
    "    #df = df.assign(mean = lambda df: df.tuple[1])\n",
    "    df = df.sort_values(by='m')\n",
    "            \n",
    "    return inverted_dic , df"
   ]
  },
  {
   "cell_type": "code",
   "execution_count": 24,
   "id": "bc4aa0dd-4693-4ef3-b1fd-d08b5e15a16d",
   "metadata": {},
   "outputs": [],
   "source": [
    "iv, i = get_df_from_first_spike_dic(x)"
   ]
  },
  {
   "cell_type": "code",
   "execution_count": 25,
   "id": "e2ae93ea-44bb-4dcb-ba4f-f142b8c04e9e",
   "metadata": {},
   "outputs": [
    {
     "data": {
      "text/html": [
       "<div>\n",
       "<style scoped>\n",
       "    .dataframe tbody tr th:only-of-type {\n",
       "        vertical-align: middle;\n",
       "    }\n",
       "\n",
       "    .dataframe tbody tr th {\n",
       "        vertical-align: top;\n",
       "    }\n",
       "\n",
       "    .dataframe thead th {\n",
       "        text-align: right;\n",
       "    }\n",
       "</style>\n",
       "<table border=\"1\" class=\"dataframe\">\n",
       "  <thead>\n",
       "    <tr style=\"text-align: right;\">\n",
       "      <th></th>\n",
       "      <th>spiketime</th>\n",
       "      <th>tuple</th>\n",
       "      <th>c</th>\n",
       "      <th>m</th>\n",
       "    </tr>\n",
       "  </thead>\n",
       "  <tbody>\n",
       "    <tr>\n",
       "      <th>73</th>\n",
       "      <td>656.069483</td>\n",
       "      <td>(E3, 682.9441530612205)</td>\n",
       "      <td>E3</td>\n",
       "      <td>682.944153</td>\n",
       "    </tr>\n",
       "    <tr>\n",
       "      <th>72</th>\n",
       "      <td>914.694850</td>\n",
       "      <td>(E3, 682.9441530612205)</td>\n",
       "      <td>E3</td>\n",
       "      <td>682.944153</td>\n",
       "    </tr>\n",
       "    <tr>\n",
       "      <th>71</th>\n",
       "      <td>862.048944</td>\n",
       "      <td>(E3, 682.9441530612205)</td>\n",
       "      <td>E3</td>\n",
       "      <td>682.944153</td>\n",
       "    </tr>\n",
       "    <tr>\n",
       "      <th>70</th>\n",
       "      <td>321.671213</td>\n",
       "      <td>(E3, 682.9441530612205)</td>\n",
       "      <td>E3</td>\n",
       "      <td>682.944153</td>\n",
       "    </tr>\n",
       "    <tr>\n",
       "      <th>69</th>\n",
       "      <td>18.480000</td>\n",
       "      <td>(E3, 682.9441530612205)</td>\n",
       "      <td>E3</td>\n",
       "      <td>682.944153</td>\n",
       "    </tr>\n",
       "    <tr>\n",
       "      <th>...</th>\n",
       "      <td>...</td>\n",
       "      <td>...</td>\n",
       "      <td>...</td>\n",
       "      <td>...</td>\n",
       "    </tr>\n",
       "    <tr>\n",
       "      <th>30</th>\n",
       "      <td>1866.549257</td>\n",
       "      <td>(R6, 1217.0934252491606)</td>\n",
       "      <td>R6</td>\n",
       "      <td>1217.093425</td>\n",
       "    </tr>\n",
       "    <tr>\n",
       "      <th>50</th>\n",
       "      <td>1429.409993</td>\n",
       "      <td>(B9, 1259.51673887043)</td>\n",
       "      <td>B9</td>\n",
       "      <td>1259.516739</td>\n",
       "    </tr>\n",
       "    <tr>\n",
       "      <th>49</th>\n",
       "      <td>1866.349257</td>\n",
       "      <td>(B9, 1259.51673887043)</td>\n",
       "      <td>B9</td>\n",
       "      <td>1259.516739</td>\n",
       "    </tr>\n",
       "    <tr>\n",
       "      <th>19</th>\n",
       "      <td>1866.309257</td>\n",
       "      <td>(F13, 1314.0361837209202)</td>\n",
       "      <td>F13</td>\n",
       "      <td>1314.036184</td>\n",
       "    </tr>\n",
       "    <tr>\n",
       "      <th>447</th>\n",
       "      <td>2352.779862</td>\n",
       "      <td>(R5, 1453.6081478405201)</td>\n",
       "      <td>R5</td>\n",
       "      <td>1453.608148</td>\n",
       "    </tr>\n",
       "  </tbody>\n",
       "</table>\n",
       "<p>534 rows × 4 columns</p>\n",
       "</div>"
      ],
      "text/plain": [
       "       spiketime                      tuple    c            m\n",
       "73    656.069483    (E3, 682.9441530612205)   E3   682.944153\n",
       "72    914.694850    (E3, 682.9441530612205)   E3   682.944153\n",
       "71    862.048944    (E3, 682.9441530612205)   E3   682.944153\n",
       "70    321.671213    (E3, 682.9441530612205)   E3   682.944153\n",
       "69     18.480000    (E3, 682.9441530612205)   E3   682.944153\n",
       "..           ...                        ...  ...          ...\n",
       "30   1866.549257   (R6, 1217.0934252491606)   R6  1217.093425\n",
       "50   1429.409993     (B9, 1259.51673887043)   B9  1259.516739\n",
       "49   1866.349257     (B9, 1259.51673887043)   B9  1259.516739\n",
       "19   1866.309257  (F13, 1314.0361837209202)  F13  1314.036184\n",
       "447  2352.779862   (R5, 1453.6081478405201)   R5  1453.608148\n",
       "\n",
       "[534 rows x 4 columns]"
      ]
     },
     "execution_count": 25,
     "metadata": {},
     "output_type": "execute_result"
    }
   ],
   "source": [
    "i"
   ]
  },
  {
   "cell_type": "code",
   "execution_count": 26,
   "id": "d6afe65b-7d12-45d5-9670-52224835d2da",
   "metadata": {},
   "outputs": [],
   "source": [
    "from ipywidgets import interact, interactive, fixed, interact_manual\n",
    "import ipywidgets as widgets\n",
    "\n",
    "import matplotlib.pyplot as plt\n",
    "%matplotlib widget"
   ]
  },
  {
   "cell_type": "code",
   "execution_count": 27,
   "id": "325cdb85-143b-425d-9584-00b89cb02d3e",
   "metadata": {},
   "outputs": [
    {
     "data": {
      "application/vnd.jupyter.widget-view+json": {
       "model_id": "606b6a1547c444c1b6e72618f53a7762",
       "version_major": 2,
       "version_minor": 0
      },
      "text/plain": [
       "Canvas(toolbar=Toolbar(toolitems=[('Home', 'Reset original view', 'home', 'home'), ('Back', 'Back to previous …"
      ]
     },
     "metadata": {},
     "output_type": "display_data"
    },
    {
     "data": {
      "text/plain": [
       "<AxesSubplot:xlabel='spiketime', ylabel='c'>"
      ]
     },
     "execution_count": 27,
     "metadata": {},
     "output_type": "execute_result"
    },
    {
     "data": {
      "text/plain": [
       "<AxesSubplot:xlabel='spiketime', ylabel='c'>"
      ]
     },
     "execution_count": 27,
     "metadata": {},
     "output_type": "execute_result"
    },
    {
     "data": {
      "text/plain": [
       "[Text(0, 0.5, '')]"
      ]
     },
     "execution_count": 27,
     "metadata": {},
     "output_type": "execute_result"
    }
   ],
   "source": [
    "import seaborn as sns\n",
    "import matplotlib.pyplot as plt\n",
    "\n",
    "sns.set_theme(style=\"ticks\")\n",
    "\n",
    "# Initialize the figure with a logarithmic x axis\n",
    "f, ax = plt.subplots(figsize=(16, 16))\n",
    "\n",
    "# Load the example planets dataset\n",
    "\n",
    "# Plot the orbital period with horizontal boxes\n",
    "sns.boxplot(x='spiketime', y='c', data=i,\n",
    "            width=.6, palette=\"vlag\")\n",
    "\n",
    "# Add in points to show each observation\n",
    "\n",
    "sns.swarmplot(x='spiketime', y='c', data=i,\n",
    "              size=4, color=\".3\", linewidth=0)\n",
    "\n",
    "# Tweak the visual presentation\n",
    "ax.xaxis.grid(True)\n",
    "ax.set(ylabel=\"\")\n",
    "#sns.despine(trim=True, left=True)\n",
    "\n"
   ]
  },
  {
   "cell_type": "code",
   "execution_count": 15,
   "id": "65e26a50-544d-4a55-badd-f880010246f4",
   "metadata": {},
   "outputs": [
    {
     "ename": "KeyError",
     "evalue": "1",
     "output_type": "error",
     "traceback": [
      "\u001b[0;31m---------------------------------------------------------------------------\u001b[0m",
      "\u001b[0;31mKeyError\u001b[0m                                  Traceback (most recent call last)",
      "\u001b[0;32m/var/folders/xc/rhr6x9qn6sb5xp5ypm3zr0xm0000gn/T/ipykernel_1108/3861752273.py\u001b[0m in \u001b[0;36m<module>\u001b[0;34m\u001b[0m\n\u001b[1;32m      1\u001b[0m data_with_ave = i.assign(\n\u001b[0;32m----> 2\u001b[0;31m     average = i.groupby(1).mean())\n\u001b[0m",
      "\u001b[0;32m/opt/anaconda3/lib/python3.7/site-packages/pandas/core/frame.py\u001b[0m in \u001b[0;36mgroupby\u001b[0;34m(self, by, axis, level, as_index, sort, group_keys, squeeze, observed, dropna)\u001b[0m\n\u001b[1;32m   7639\u001b[0m             \u001b[0msqueeze\u001b[0m\u001b[0;34m=\u001b[0m\u001b[0msqueeze\u001b[0m\u001b[0;34m,\u001b[0m  \u001b[0;31m# type: ignore[arg-type]\u001b[0m\u001b[0;34m\u001b[0m\u001b[0;34m\u001b[0m\u001b[0m\n\u001b[1;32m   7640\u001b[0m             \u001b[0mobserved\u001b[0m\u001b[0;34m=\u001b[0m\u001b[0mobserved\u001b[0m\u001b[0;34m,\u001b[0m\u001b[0;34m\u001b[0m\u001b[0;34m\u001b[0m\u001b[0m\n\u001b[0;32m-> 7641\u001b[0;31m             \u001b[0mdropna\u001b[0m\u001b[0;34m=\u001b[0m\u001b[0mdropna\u001b[0m\u001b[0;34m,\u001b[0m\u001b[0;34m\u001b[0m\u001b[0;34m\u001b[0m\u001b[0m\n\u001b[0m\u001b[1;32m   7642\u001b[0m         )\n\u001b[1;32m   7643\u001b[0m \u001b[0;34m\u001b[0m\u001b[0m\n",
      "\u001b[0;32m/opt/anaconda3/lib/python3.7/site-packages/pandas/core/groupby/groupby.py\u001b[0m in \u001b[0;36m__init__\u001b[0;34m(self, obj, keys, axis, level, grouper, exclusions, selection, as_index, sort, group_keys, squeeze, observed, mutated, dropna)\u001b[0m\n\u001b[1;32m    895\u001b[0m                 \u001b[0mobserved\u001b[0m\u001b[0;34m=\u001b[0m\u001b[0mobserved\u001b[0m\u001b[0;34m,\u001b[0m\u001b[0;34m\u001b[0m\u001b[0;34m\u001b[0m\u001b[0m\n\u001b[1;32m    896\u001b[0m                 \u001b[0mmutated\u001b[0m\u001b[0;34m=\u001b[0m\u001b[0mself\u001b[0m\u001b[0;34m.\u001b[0m\u001b[0mmutated\u001b[0m\u001b[0;34m,\u001b[0m\u001b[0;34m\u001b[0m\u001b[0;34m\u001b[0m\u001b[0m\n\u001b[0;32m--> 897\u001b[0;31m                 \u001b[0mdropna\u001b[0m\u001b[0;34m=\u001b[0m\u001b[0mself\u001b[0m\u001b[0;34m.\u001b[0m\u001b[0mdropna\u001b[0m\u001b[0;34m,\u001b[0m\u001b[0;34m\u001b[0m\u001b[0;34m\u001b[0m\u001b[0m\n\u001b[0m\u001b[1;32m    898\u001b[0m             )\n\u001b[1;32m    899\u001b[0m \u001b[0;34m\u001b[0m\u001b[0m\n",
      "\u001b[0;32m/opt/anaconda3/lib/python3.7/site-packages/pandas/core/groupby/grouper.py\u001b[0m in \u001b[0;36mget_grouper\u001b[0;34m(obj, key, axis, level, sort, observed, mutated, validate, dropna)\u001b[0m\n\u001b[1;32m    860\u001b[0m                 \u001b[0min_axis\u001b[0m\u001b[0;34m,\u001b[0m \u001b[0mlevel\u001b[0m\u001b[0;34m,\u001b[0m \u001b[0mgpr\u001b[0m \u001b[0;34m=\u001b[0m \u001b[0;32mFalse\u001b[0m\u001b[0;34m,\u001b[0m \u001b[0mgpr\u001b[0m\u001b[0;34m,\u001b[0m \u001b[0;32mNone\u001b[0m\u001b[0;34m\u001b[0m\u001b[0;34m\u001b[0m\u001b[0m\n\u001b[1;32m    861\u001b[0m             \u001b[0;32melse\u001b[0m\u001b[0;34m:\u001b[0m\u001b[0;34m\u001b[0m\u001b[0;34m\u001b[0m\u001b[0m\n\u001b[0;32m--> 862\u001b[0;31m                 \u001b[0;32mraise\u001b[0m \u001b[0mKeyError\u001b[0m\u001b[0;34m(\u001b[0m\u001b[0mgpr\u001b[0m\u001b[0;34m)\u001b[0m\u001b[0;34m\u001b[0m\u001b[0;34m\u001b[0m\u001b[0m\n\u001b[0m\u001b[1;32m    863\u001b[0m         \u001b[0;32melif\u001b[0m \u001b[0misinstance\u001b[0m\u001b[0;34m(\u001b[0m\u001b[0mgpr\u001b[0m\u001b[0;34m,\u001b[0m \u001b[0mGrouper\u001b[0m\u001b[0;34m)\u001b[0m \u001b[0;32mand\u001b[0m \u001b[0mgpr\u001b[0m\u001b[0;34m.\u001b[0m\u001b[0mkey\u001b[0m \u001b[0;32mis\u001b[0m \u001b[0;32mnot\u001b[0m \u001b[0;32mNone\u001b[0m\u001b[0;34m:\u001b[0m\u001b[0;34m\u001b[0m\u001b[0;34m\u001b[0m\u001b[0m\n\u001b[1;32m    864\u001b[0m             \u001b[0;31m# Add key to exclusions\u001b[0m\u001b[0;34m\u001b[0m\u001b[0;34m\u001b[0m\u001b[0;34m\u001b[0m\u001b[0m\n",
      "\u001b[0;31mKeyError\u001b[0m: 1"
     ]
    }
   ],
   "source": [
    "data_with_ave = i.assign(\n",
    "    average = i.groupby(1).mean())"
   ]
  },
  {
   "cell_type": "code",
   "execution_count": 185,
   "id": "e82ecdbd-4bc6-4567-8a25-a2b152c22fd8",
   "metadata": {},
   "outputs": [
    {
     "data": {
      "text/plain": [
       "<pandas.core.groupby.generic.DataFrameGroupBy object at 0x7ff137f40bd0>"
      ]
     },
     "execution_count": 185,
     "metadata": {},
     "output_type": "execute_result"
    }
   ],
   "source": [
    "i.groupby(1)\n"
   ]
  },
  {
   "cell_type": "code",
   "execution_count": 186,
   "id": "d5d29f39-3dbd-415c-9785-d1a8460ec7ad",
   "metadata": {},
   "outputs": [
    {
     "data": {
      "text/html": [
       "<div>\n",
       "<style scoped>\n",
       "    .dataframe tbody tr th:only-of-type {\n",
       "        vertical-align: middle;\n",
       "    }\n",
       "\n",
       "    .dataframe tbody tr th {\n",
       "        vertical-align: top;\n",
       "    }\n",
       "\n",
       "    .dataframe thead th {\n",
       "        text-align: right;\n",
       "    }\n",
       "</style>\n",
       "<table border=\"1\" class=\"dataframe\">\n",
       "  <thead>\n",
       "    <tr style=\"text-align: right;\">\n",
       "      <th></th>\n",
       "      <th>0</th>\n",
       "      <th>1</th>\n",
       "    </tr>\n",
       "  </thead>\n",
       "  <tbody>\n",
       "    <tr>\n",
       "      <th>256</th>\n",
       "      <td>2.800000</td>\n",
       "      <td>L2</td>\n",
       "    </tr>\n",
       "    <tr>\n",
       "      <th>196</th>\n",
       "      <td>7.840000</td>\n",
       "      <td>K2</td>\n",
       "    </tr>\n",
       "    <tr>\n",
       "      <th>156</th>\n",
       "      <td>8.480000</td>\n",
       "      <td>J2</td>\n",
       "    </tr>\n",
       "    <tr>\n",
       "      <th>215</th>\n",
       "      <td>11.720000</td>\n",
       "      <td>K3</td>\n",
       "    </tr>\n",
       "    <tr>\n",
       "      <th>239</th>\n",
       "      <td>11.840000</td>\n",
       "      <td>L1</td>\n",
       "    </tr>\n",
       "    <tr>\n",
       "      <th>...</th>\n",
       "      <td>...</td>\n",
       "      <td>...</td>\n",
       "    </tr>\n",
       "    <tr>\n",
       "      <th>9</th>\n",
       "      <td>1866.309257</td>\n",
       "      <td>F13</td>\n",
       "    </tr>\n",
       "    <tr>\n",
       "      <th>28</th>\n",
       "      <td>1866.349257</td>\n",
       "      <td>B9</td>\n",
       "    </tr>\n",
       "    <tr>\n",
       "      <th>20</th>\n",
       "      <td>1866.509257</td>\n",
       "      <td>D14</td>\n",
       "    </tr>\n",
       "    <tr>\n",
       "      <th>16</th>\n",
       "      <td>1866.549257</td>\n",
       "      <td>R6</td>\n",
       "    </tr>\n",
       "    <tr>\n",
       "      <th>295</th>\n",
       "      <td>2352.779862</td>\n",
       "      <td>R5</td>\n",
       "    </tr>\n",
       "  </tbody>\n",
       "</table>\n",
       "<p>304 rows × 2 columns</p>\n",
       "</div>"
      ],
      "text/plain": [
       "               0    1\n",
       "256     2.800000   L2\n",
       "196     7.840000   K2\n",
       "156     8.480000   J2\n",
       "215    11.720000   K3\n",
       "239    11.840000   L1\n",
       "..           ...  ...\n",
       "9    1866.309257  F13\n",
       "28   1866.349257   B9\n",
       "20   1866.509257  D14\n",
       "16   1866.549257   R6\n",
       "295  2352.779862   R5\n",
       "\n",
       "[304 rows x 2 columns]"
      ]
     },
     "execution_count": 186,
     "metadata": {},
     "output_type": "execute_result"
    }
   ],
   "source": [
    "i"
   ]
  },
  {
   "cell_type": "code",
   "execution_count": null,
   "id": "4c3c7142-60be-4952-a3e2-22f95f21c760",
   "metadata": {},
   "outputs": [],
   "source": []
  }
 ],
 "metadata": {
  "kernelspec": {
   "display_name": "Python 3 (ipykernel)",
   "language": "python",
   "name": "python3"
  },
  "language_info": {
   "codemirror_mode": {
    "name": "ipython",
    "version": 3
   },
   "file_extension": ".py",
   "mimetype": "text/x-python",
   "name": "python",
   "nbconvert_exporter": "python",
   "pygments_lexer": "ipython3",
   "version": "3.7.8"
  },
  "widgets": {
   "application/vnd.jupyter.widget-state+json": {
    "state": {
     "0d0a1534f62a4560b6cce74b2b576d4d": {
      "model_module": "@jupyter-widgets/base",
      "model_module_version": "1.2.0",
      "model_name": "LayoutModel",
      "state": {}
     },
     "239195fb357141da8e701e6a9338a71a": {
      "model_module": "@jupyter-widgets/base",
      "model_module_version": "1.2.0",
      "model_name": "LayoutModel",
      "state": {}
     },
     "739a7dfad2914d2db29cb26cc4483f98": {
      "model_module": "@jupyter-widgets/base",
      "model_module_version": "1.2.0",
      "model_name": "LayoutModel",
      "state": {}
     },
     "7fdb9d8536244964ac779666ae88e760": {
      "model_module": "@jupyter-widgets/base",
      "model_module_version": "1.2.0",
      "model_name": "LayoutModel",
      "state": {}
     },
     "9129f59a2e5e4f1ca619fb28773031cf": {
      "model_module": "@jupyter-widgets/base",
      "model_module_version": "1.2.0",
      "model_name": "LayoutModel",
      "state": {}
     },
     "93596685c70e4868a41a9fd8f9ab09d2": {
      "model_module": "@jupyter-widgets/base",
      "model_module_version": "1.2.0",
      "model_name": "LayoutModel",
      "state": {}
     },
     "96a2f83255594c6e85be295da9a19849": {
      "model_module": "@jupyter-widgets/base",
      "model_module_version": "1.2.0",
      "model_name": "LayoutModel",
      "state": {}
     },
     "af4f775d092841c19cb347e23f8a1615": {
      "model_module": "@jupyter-widgets/base",
      "model_module_version": "1.2.0",
      "model_name": "LayoutModel",
      "state": {}
     }
    },
    "version_major": 2,
    "version_minor": 0
   }
  }
 },
 "nbformat": 4,
 "nbformat_minor": 5
}
