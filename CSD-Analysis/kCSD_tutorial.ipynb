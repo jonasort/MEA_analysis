{
 "cells": [
  {
   "cell_type": "code",
   "execution_count": 59,
   "id": "3003fdd2-510f-4ef9-a0a9-d5114ec74254",
   "metadata": {},
   "outputs": [],
   "source": [
    "%matplotlib inline\n",
    "import numpy as np\n",
    "csd_at = np.mgrid[0.:3.2:16j,                                                                                                                                                           \n",
    "                  0.:3.2:16j]\n",
    "csd_x, csd_y = csd_at"
   ]
  },
  {
   "cell_type": "code",
   "execution_count": 85,
   "id": "bdcac6c5-29e0-4380-80c6-cf97875d46e9",
   "metadata": {},
   "outputs": [
    {
     "data": {
      "text/plain": [
       "(16, 16)"
      ]
     },
     "execution_count": 85,
     "metadata": {},
     "output_type": "execute_result"
    }
   ],
   "source": [
    "csd_y.shape"
   ]
  },
  {
   "cell_type": "code",
   "execution_count": 61,
   "id": "8840a5b0-cdf7-4304-9bf5-202fa49bf5ad",
   "metadata": {},
   "outputs": [],
   "source": [
    "from kcsd import csd_profile as CSD\n",
    "CSD_PROFILE = CSD.gauss_2d_large\n",
    "true_csd = CSD_PROFILE(csd_at, seed=13) "
   ]
  },
  {
   "cell_type": "code",
   "execution_count": 62,
   "id": "9c2aa67e-f1a9-4e30-86a1-5294475733e4",
   "metadata": {},
   "outputs": [
    {
     "data": {
      "text/plain": [
       "<function kcsd.validation.csd_profile.gauss_2d_large(csd_at, seed=0)>"
      ]
     },
     "execution_count": 62,
     "metadata": {},
     "output_type": "execute_result"
    }
   ],
   "source": [
    "CSD_PROFILE"
   ]
  },
  {
   "cell_type": "code",
   "execution_count": 63,
   "id": "cd436903-f79f-418b-96a7-c36043d72b7a",
   "metadata": {},
   "outputs": [
    {
     "data": {
      "text/plain": [
       "(16, 16)"
      ]
     },
     "execution_count": 63,
     "metadata": {},
     "output_type": "execute_result"
    }
   ],
   "source": [
    "true_csd.shape"
   ]
  },
  {
   "cell_type": "code",
   "execution_count": 89,
   "id": "015be963-3e93-4720-b187-3b711e3fc010",
   "metadata": {},
   "outputs": [
    {
     "data": {
      "text/plain": [
       "array([[-3.50133360e-02,  8.37612406e-03,  7.46264307e-02,\n",
       "         1.20133816e-01,  1.25733901e-01,  1.02583008e-01,\n",
       "         7.06351882e-02,  4.28093531e-02,  2.33109339e-02,\n",
       "         1.15007084e-02,  5.15511936e-03,  2.10106066e-03,\n",
       "         7.78785278e-04,  2.62550577e-04,  8.05094022e-05,\n",
       "         2.24560560e-05],\n",
       "       [-6.04376822e-01, -5.10683863e-01, -3.02399645e-01,\n",
       "        -1.10869437e-01, -5.53515402e-03,  2.66781895e-02,\n",
       "         2.51796078e-02,  1.59926390e-02,  8.47709463e-03,\n",
       "         3.98993454e-03,  1.70197360e-03,  6.62416728e-04,\n",
       "         2.35888624e-04,  7.69946839e-05,  2.30686112e-05,\n",
       "         6.35136048e-06],\n",
       "       [-8.94068148e-01, -7.72720570e-01, -5.11045799e-01,\n",
       "        -2.75155877e-01, -1.37014587e-01, -7.33274508e-02,\n",
       "        -4.36973759e-02, -2.66594107e-02, -1.53833572e-02,\n",
       "        -8.09995549e-03, -3.84884909e-03, -1.64673732e-03,\n",
       "        -6.34438370e-04, -2.20195574e-04, -6.88711543e-05,\n",
       "        -1.94169151e-05],\n",
       "       [-4.73026982e-01, -3.45649181e-01, -2.01731905e-01,\n",
       "        -1.39686082e-01, -1.32357889e-01, -1.19956932e-01,\n",
       "        -9.06082875e-02, -5.85927467e-02, -3.36025891e-02,\n",
       "        -1.73435707e-02, -8.08412653e-03, -3.40470742e-03,\n",
       "        -1.29579889e-03, -4.45712961e-04, -1.38570927e-04,\n",
       "        -3.89417167e-05],\n",
       "       [-2.28486436e-02,  1.15119303e-01,  1.59189975e-01,\n",
       "         6.96308181e-02, -4.48923209e-02, -9.36197058e-02,\n",
       "        -8.43249556e-02, -5.68728027e-02, -3.28251268e-02,\n",
       "        -1.69135714e-02, -7.86209158e-03, -3.30319171e-03,\n",
       "        -1.25475160e-03, -4.30977244e-04, -1.33860281e-04,\n",
       "        -3.75983401e-05],\n",
       "       [ 6.83035247e-02,  1.55894012e-01,  1.67638865e-01,\n",
       "         8.79875361e-02, -3.47849384e-03, -4.56206344e-02,\n",
       "        -4.56208719e-02, -3.15312390e-02, -1.83272591e-02,\n",
       "        -9.47081333e-03, -4.41063931e-03, -1.85575941e-03,\n",
       "        -7.05718374e-04, -2.42599042e-04, -7.53928875e-05,\n",
       "        -2.11825762e-05],\n",
       "       [ 3.09186188e-02,  5.55014496e-02,  5.68841904e-02,\n",
       "         3.13718890e-02,  2.70228939e-03, -1.11176101e-02,\n",
       "        -1.21620432e-02, -8.67559022e-03, -5.14379843e-03,\n",
       "        -2.69920931e-03, -1.27264414e-03, -5.40749580e-04,\n",
       "        -2.07213072e-04, -7.16340629e-05, -2.23461945e-05,\n",
       "        -6.29121383e-06],\n",
       "       [ 1.68102731e-02,  2.02217988e-02,  1.94676900e-02,\n",
       "         1.43439016e-02,  8.31815466e-03,  4.16558979e-03,\n",
       "         1.99833773e-03,  9.43913963e-04,  4.21610302e-04,\n",
       "         1.71588960e-04,  6.27552834e-05,  2.06059636e-05,\n",
       "         6.11147100e-06,  1.66024327e-06,  4.23509282e-07,\n",
       "         1.04996042e-07],\n",
       "       [ 1.19023236e-02,  1.27177076e-02,  1.22200803e-02,\n",
       "         1.05237280e-02,  8.18267751e-03,  5.80091228e-03,\n",
       "         3.76267277e-03,  2.22882298e-03,  1.20271195e-03,\n",
       "         5.90562505e-04,  2.63809914e-04,  1.07217342e-04,\n",
       "         3.96492898e-05,  1.33427656e-05,  4.08630938e-06,\n",
       "         1.13898053e-06],\n",
       "       [ 6.44029582e-03,  6.86916718e-03,  6.65391651e-03,\n",
       "         5.85298560e-03,  4.67693840e-03,  3.39640162e-03,\n",
       "         2.24189243e-03,  1.34499127e-03,  7.33325927e-04,\n",
       "         3.63358819e-04,  1.63620914e-04,  6.69597579e-05,\n",
       "         2.49039536e-05,  8.41798928e-06,  2.58606240e-06,\n",
       "         7.22043949e-07],\n",
       "       [ 2.79774053e-03,  2.99051262e-03,  2.90424845e-03,\n",
       "         2.56255122e-03,  2.05431758e-03,  1.49632219e-03,\n",
       "         9.90258250e-04,  5.95440954e-04,  3.25309426e-04,\n",
       "         1.61481809e-04,  7.28318085e-05,  2.98463054e-05,\n",
       "         1.11130520e-05,  3.75967646e-06,  1.15569382e-06,\n",
       "         3.22783165e-07],\n",
       "       [ 1.06051677e-03,  1.13419423e-03,  1.10206537e-03,\n",
       "         9.72921025e-04,  7.80366257e-04,  5.68683188e-04,\n",
       "         3.76524831e-04,  2.26500133e-04,  1.23792739e-04,\n",
       "         6.14715270e-05,  2.77335326e-05,  1.13681279e-05,\n",
       "         4.23375249e-06,  1.43256681e-06,  4.40410162e-07,\n",
       "         1.23013531e-07],\n",
       "       [ 3.61961682e-04,  3.87140303e-04,  3.76204120e-04,\n",
       "         3.32145303e-04,  2.66429385e-04,  1.94171553e-04,\n",
       "         1.28569688e-04,  7.73465791e-05,  4.22759328e-05,\n",
       "         2.09939850e-05,  9.47209804e-06,  3.88281886e-06,\n",
       "         1.44609804e-06,  4.89325700e-07,  1.50434693e-07,\n",
       "         4.20191909e-08],\n",
       "       [ 1.12080820e-04,  1.19878446e-04,  1.16493100e-04,\n",
       "         1.02851019e-04,  8.25023456e-05,  6.01275205e-05,\n",
       "         3.98134304e-05,  2.39516375e-05,  1.30915217e-05,\n",
       "         6.50121253e-06,  2.93324211e-06,  1.20240500e-06,\n",
       "         4.47819454e-07,  1.51532035e-07,  4.65859844e-08,\n",
       "         1.30123405e-08],\n",
       "       [ 3.15265896e-05,  3.37199660e-05,  3.27677446e-05,\n",
       "         2.89304548e-05,  2.32066932e-05,  1.69129960e-05,\n",
       "         1.11989453e-05,  6.73725504e-06,  3.68246088e-06,\n",
       "         1.82870050e-06,  8.25080486e-07,  3.38220040e-07,\n",
       "         1.25965509e-07,  4.26239062e-08,  1.31040076e-08,\n",
       "         3.66019577e-09],\n",
       "       [ 8.05686151e-06,  8.61739605e-06,  8.37404895e-06,\n",
       "         7.39340037e-06,  5.93064928e-06,  4.32224665e-06,\n",
       "         2.86197700e-06,  1.72175764e-06,  9.41081393e-07,\n",
       "         4.67338588e-07,  2.10855719e-07,  8.64347570e-08,\n",
       "         3.21914644e-08,  1.08928705e-08,  3.34883101e-09,\n",
       "         9.35391489e-10]])"
      ]
     },
     "execution_count": 89,
     "metadata": {},
     "output_type": "execute_result"
    }
   ],
   "source": [
    "true_csd"
   ]
  },
  {
   "cell_type": "code",
   "execution_count": 64,
   "id": "39e1003e-6a9c-4832-9575-7097c1313dbb",
   "metadata": {},
   "outputs": [
    {
     "data": {
      "text/plain": [
       "<AxesSubplot:title={'center':'True CSD'}, xlabel='X (mm)', ylabel='Y (mm)'>"
      ]
     },
     "execution_count": 64,
     "metadata": {},
     "output_type": "execute_result"
    },
    {
     "data": {
      "image/png": "[encoded data removed]",
      "text/plain": [
       "<Figure size 504x504 with 2 Axes>"
      ]
     },
     "metadata": {
      "needs_background": "light"
     },
     "output_type": "display_data"
    }
   ],
   "source": [
    "import matplotlib.pyplot as plt\n",
    "import matplotlib.cm as cm\n",
    "\n",
    "def make_plot(xx, yy, zz, title='True CSD', cmap=cm.bwr):\n",
    "    fig = plt.figure(figsize=(7, 7))\n",
    "    ax = plt.subplot(111)\n",
    "    ax.set_aspect('equal')\n",
    "    t_max = np.max(np.abs(zz))\n",
    "    levels = np.linspace(-1 * t_max, t_max, 32)\n",
    "    im = ax.contourf(xx, yy, zz, levels=levels, cmap=cmap)\n",
    "    ax.set_xlabel('X (mm)')\n",
    "    ax.set_ylabel('Y (mm)')\n",
    "    ax.set_title(title)\n",
    "    ticks = np.linspace(-1 * t_max, t_max, 3, endpoint=True)\n",
    "    plt.colorbar(im, orientation='horizontal', format='%.2f', ticks=ticks)\n",
    "    return ax\n",
    "make_plot(csd_x, csd_y, true_csd, title='True CSD', cmap=cm.bwr)"
   ]
  },
  {
   "cell_type": "code",
   "execution_count": 72,
   "id": "2fc7102d-5200-4811-b644-b3b38c539db3",
   "metadata": {},
   "outputs": [],
   "source": [
    "ele_x, ele_y = np.mgrid[0.00: 3.2: 16j,\n",
    "                        0.00: 3.2: 16j]\n",
    "ele_pos = np.vstack((ele_x.flatten(), ele_y.flatten())).T"
   ]
  },
  {
   "cell_type": "code",
   "execution_count": 88,
   "id": "f55245a3-1ab4-433f-8668-bbc81dd86b13",
   "metadata": {},
   "outputs": [
    {
     "data": {
      "text/plain": [
       "array([[-3.50133360e-02,  8.37612406e-03,  7.46264307e-02,\n",
       "         1.20133816e-01,  1.25733901e-01,  1.02583008e-01,\n",
       "         7.06351882e-02,  4.28093531e-02,  2.33109339e-02,\n",
       "         1.15007084e-02,  5.15511936e-03,  2.10106066e-03,\n",
       "         7.78785278e-04,  2.62550577e-04,  8.05094022e-05,\n",
       "         2.24560560e-05],\n",
       "       [-6.04376822e-01, -5.10683863e-01, -3.02399645e-01,\n",
       "        -1.10869437e-01, -5.53515402e-03,  2.66781895e-02,\n",
       "         2.51796078e-02,  1.59926390e-02,  8.47709463e-03,\n",
       "         3.98993454e-03,  1.70197360e-03,  6.62416728e-04,\n",
       "         2.35888624e-04,  7.69946839e-05,  2.30686112e-05,\n",
       "         6.35136048e-06],\n",
       "       [-8.94068148e-01, -7.72720570e-01, -5.11045799e-01,\n",
       "        -2.75155877e-01, -1.37014587e-01, -7.33274508e-02,\n",
       "        -4.36973759e-02, -2.66594107e-02, -1.53833572e-02,\n",
       "        -8.09995549e-03, -3.84884909e-03, -1.64673732e-03,\n",
       "        -6.34438370e-04, -2.20195574e-04, -6.88711543e-05,\n",
       "        -1.94169151e-05],\n",
       "       [-4.73026982e-01, -3.45649181e-01, -2.01731905e-01,\n",
       "        -1.39686082e-01, -1.32357889e-01, -1.19956932e-01,\n",
       "        -9.06082875e-02, -5.85927467e-02, -3.36025891e-02,\n",
       "        -1.73435707e-02, -8.08412653e-03, -3.40470742e-03,\n",
       "        -1.29579889e-03, -4.45712961e-04, -1.38570927e-04,\n",
       "        -3.89417167e-05],\n",
       "       [-2.28486436e-02,  1.15119303e-01,  1.59189975e-01,\n",
       "         6.96308181e-02, -4.48923209e-02, -9.36197058e-02,\n",
       "        -8.43249556e-02, -5.68728027e-02, -3.28251268e-02,\n",
       "        -1.69135714e-02, -7.86209158e-03, -3.30319171e-03,\n",
       "        -1.25475160e-03, -4.30977244e-04, -1.33860281e-04,\n",
       "        -3.75983401e-05],\n",
       "       [ 6.83035247e-02,  1.55894012e-01,  1.67638865e-01,\n",
       "         8.79875361e-02, -3.47849384e-03, -4.56206344e-02,\n",
       "        -4.56208719e-02, -3.15312390e-02, -1.83272591e-02,\n",
       "        -9.47081333e-03, -4.41063931e-03, -1.85575941e-03,\n",
       "        -7.05718374e-04, -2.42599042e-04, -7.53928875e-05,\n",
       "        -2.11825762e-05],\n",
       "       [ 3.09186188e-02,  5.55014496e-02,  5.68841904e-02,\n",
       "         3.13718890e-02,  2.70228939e-03, -1.11176101e-02,\n",
       "        -1.21620432e-02, -8.67559022e-03, -5.14379843e-03,\n",
       "        -2.69920931e-03, -1.27264414e-03, -5.40749580e-04,\n",
       "        -2.07213072e-04, -7.16340629e-05, -2.23461945e-05,\n",
       "        -6.29121383e-06],\n",
       "       [ 1.68102731e-02,  2.02217988e-02,  1.94676900e-02,\n",
       "         1.43439016e-02,  8.31815466e-03,  4.16558979e-03,\n",
       "         1.99833773e-03,  9.43913963e-04,  4.21610302e-04,\n",
       "         1.71588960e-04,  6.27552834e-05,  2.06059636e-05,\n",
       "         6.11147100e-06,  1.66024327e-06,  4.23509282e-07,\n",
       "         1.04996042e-07],\n",
       "       [ 1.19023236e-02,  1.27177076e-02,  1.22200803e-02,\n",
       "         1.05237280e-02,  8.18267751e-03,  5.80091228e-03,\n",
       "         3.76267277e-03,  2.22882298e-03,  1.20271195e-03,\n",
       "         5.90562505e-04,  2.63809914e-04,  1.07217342e-04,\n",
       "         3.96492898e-05,  1.33427656e-05,  4.08630938e-06,\n",
       "         1.13898053e-06],\n",
       "       [ 6.44029582e-03,  6.86916718e-03,  6.65391651e-03,\n",
       "         5.85298560e-03,  4.67693840e-03,  3.39640162e-03,\n",
       "         2.24189243e-03,  1.34499127e-03,  7.33325927e-04,\n",
       "         3.63358819e-04,  1.63620914e-04,  6.69597579e-05,\n",
       "         2.49039536e-05,  8.41798928e-06,  2.58606240e-06,\n",
       "         7.22043949e-07],\n",
       "       [ 2.79774053e-03,  2.99051262e-03,  2.90424845e-03,\n",
       "         2.56255122e-03,  2.05431758e-03,  1.49632219e-03,\n",
       "         9.90258250e-04,  5.95440954e-04,  3.25309426e-04,\n",
       "         1.61481809e-04,  7.28318085e-05,  2.98463054e-05,\n",
       "         1.11130520e-05,  3.75967646e-06,  1.15569382e-06,\n",
       "         3.22783165e-07],\n",
       "       [ 1.06051677e-03,  1.13419423e-03,  1.10206537e-03,\n",
       "         9.72921025e-04,  7.80366257e-04,  5.68683188e-04,\n",
       "         3.76524831e-04,  2.26500133e-04,  1.23792739e-04,\n",
       "         6.14715270e-05,  2.77335326e-05,  1.13681279e-05,\n",
       "         4.23375249e-06,  1.43256681e-06,  4.40410162e-07,\n",
       "         1.23013531e-07],\n",
       "       [ 3.61961682e-04,  3.87140303e-04,  3.76204120e-04,\n",
       "         3.32145303e-04,  2.66429385e-04,  1.94171553e-04,\n",
       "         1.28569688e-04,  7.73465791e-05,  4.22759328e-05,\n",
       "         2.09939850e-05,  9.47209804e-06,  3.88281886e-06,\n",
       "         1.44609804e-06,  4.89325700e-07,  1.50434693e-07,\n",
       "         4.20191909e-08],\n",
       "       [ 1.12080820e-04,  1.19878446e-04,  1.16493100e-04,\n",
       "         1.02851019e-04,  8.25023456e-05,  6.01275205e-05,\n",
       "         3.98134304e-05,  2.39516375e-05,  1.30915217e-05,\n",
       "         6.50121253e-06,  2.93324211e-06,  1.20240500e-06,\n",
       "         4.47819454e-07,  1.51532035e-07,  4.65859844e-08,\n",
       "         1.30123405e-08],\n",
       "       [ 3.15265896e-05,  3.37199660e-05,  3.27677446e-05,\n",
       "         2.89304548e-05,  2.32066932e-05,  1.69129960e-05,\n",
       "         1.11989453e-05,  6.73725504e-06,  3.68246088e-06,\n",
       "         1.82870050e-06,  8.25080486e-07,  3.38220040e-07,\n",
       "         1.25965509e-07,  4.26239062e-08,  1.31040076e-08,\n",
       "         3.66019577e-09],\n",
       "       [ 8.05686151e-06,  8.61739605e-06,  8.37404895e-06,\n",
       "         7.39340037e-06,  5.93064928e-06,  4.32224665e-06,\n",
       "         2.86197700e-06,  1.72175764e-06,  9.41081393e-07,\n",
       "         4.67338588e-07,  2.10855719e-07,  8.64347570e-08,\n",
       "         3.21914644e-08,  1.08928705e-08,  3.34883101e-09,\n",
       "         9.35391489e-10]])"
      ]
     },
     "execution_count": 88,
     "metadata": {},
     "output_type": "execute_result"
    }
   ],
   "source": [
    "true_csd"
   ]
  },
  {
   "cell_type": "code",
   "execution_count": 74,
   "id": "19f4fe7a-0d23-47c9-8352-00ca145debf8",
   "metadata": {},
   "outputs": [],
   "source": [
    "from scipy.integrate import simps\n",
    "\n",
    "def integrate_2d(csd_at, true_csd, ele_pos, h, csd_lims):\n",
    "    csd_x, csd_y = csd_at\n",
    "    xlin = csd_lims[0]                                                                                                                                                                                      \n",
    "    ylin = csd_lims[1]                                                                                                                                                                                      \n",
    "    Ny = ylin.shape[0]                                                                                                                                                                                      \n",
    "    m = np.sqrt((ele_pos[0] - csd_x)**2 + (ele_pos[1] - csd_y)**2)                                                                                                           \n",
    "    m[m < 0.0000001] = 0.0000001\n",
    "    y = np.arcsinh(2 * h / m) * true_csd\n",
    "    integral_1D = np.zeros(Ny)                                        \n",
    "    for i in range(Ny):                                                  \n",
    "        integral_1D[i] = simps(y[:, i], ylin)\n",
    "    integral = simps(integral_1D, xlin)\n",
    "    return integral\n",
    "\n",
    "def forward_method(ele_pos, csd_at, true_csd):\n",
    "    pots = np.zeros(ele_pos.shape[0])\n",
    "    xlin = csd_at[0, :, 0]\n",
    "    ylin = csd_at[1, 0, :]\n",
    "    h = 50.  # distance between the electrode plane and the midslice\n",
    "    sigma = 1.0 # S/m\n",
    "    for ii in range(ele_pos.shape[0]):                                                                                                                                                                      \n",
    "        pots[ii] = integrate_2d(csd_at, true_csd,                                                                                                                                                         \n",
    "                                [ele_pos[ii][0], ele_pos[ii][1]], h,                                                                                                                                      \n",
    "                                [xlin, ylin])\n",
    "    pots /= 2 * np.pi * sigma\n",
    "    return pots\n",
    "\n",
    "pots = forward_method(ele_pos, csd_at, true_csd)"
   ]
  },
  {
   "cell_type": "code",
   "execution_count": 82,
   "id": "c5a578db-1afb-4633-bfcd-408795f3a8da",
   "metadata": {},
   "outputs": [
    {
     "data": {
      "text/plain": [
       "(2, 16, 16)"
      ]
     },
     "execution_count": 82,
     "metadata": {},
     "output_type": "execute_result"
    }
   ],
   "source": [
    "csd_at.shape"
   ]
  },
  {
   "cell_type": "code",
   "execution_count": 79,
   "id": "9d2b4970-1bb2-473e-837f-30a0502cf145",
   "metadata": {},
   "outputs": [
    {
     "data": {
      "text/plain": [
       "<matplotlib.collections.PathCollection at 0x1643f3afd90>"
      ]
     },
     "execution_count": 79,
     "metadata": {},
     "output_type": "execute_result"
    },
    {
     "data": {
      "image/png": "[encoded data removed]",
      "text/plain": [
       "<Figure size 504x504 with 2 Axes>"
      ]
     },
     "metadata": {
      "needs_background": "light"
     },
     "output_type": "display_data"
    }
   ],
   "source": [
    "\n",
    "\n",
    "from scipy.interpolate import griddata\n",
    "\n",
    "def grid(x, y, z):                                                                                                                                                                    \n",
    "    x = x.flatten()                                                                                                                                                                                             \n",
    "    y = y.flatten()                                                                                                                                                                                             \n",
    "    z = z.flatten()                                                                                                                                                                                             \n",
    "    xi, yi = np.mgrid[min(x):max(x):np.complex(0, 1000),                                                                                                                                                        \n",
    "                      min(y):max(y):np.complex(0, 1000)]                                                                                                                                                        \n",
    "    zi = griddata((x, y), z, (xi, yi), method='linear')                                                                                                                                                         \n",
    "    return xi, yi, zi\n",
    "\n",
    "pot_X, pot_Y, pot_Z = grid(ele_pos[:, 0], ele_pos[:, 1], pots)\n",
    "ax = make_plot(pot_X, pot_Y, pot_Z, title='Interpolated potentials', cmap=cm.PRGn)\n",
    "ax.scatter(ele_pos[:, 0], ele_pos[:, 1], 10, c='k')\n",
    "\n"
   ]
  },
  {
   "cell_type": "code",
   "execution_count": 81,
   "id": "04f438b2-b475-4c94-98d9-ff103ef06d7f",
   "metadata": {},
   "outputs": [
    {
     "data": {
      "text/plain": [
       "(256,)"
      ]
     },
     "execution_count": 81,
     "metadata": {},
     "output_type": "execute_result"
    }
   ],
   "source": [
    "pots.shape"
   ]
  },
  {
   "cell_type": "code",
   "execution_count": null,
   "id": "995ac61a-0895-45dd-8f04-3db34aee0459",
   "metadata": {},
   "outputs": [],
   "source": []
  }
 ],
 "metadata": {
  "kernelspec": {
   "display_name": "Python 3",
   "language": "python",
   "name": "python3"
  },
  "language_info": {
   "codemirror_mode": {
    "name": "ipython",
    "version": 3
   },
   "file_extension": ".py",
   "mimetype": "text/x-python",
   "name": "python",
   "nbconvert_exporter": "python",
   "pygments_lexer": "ipython3",
   "version": "3.8.3"
  }
 },
 "nbformat": 4,
 "nbformat_minor": 5
}
