{
 "cells": [
  {
   "cell_type": "code",
   "execution_count": null,
   "id": "bff68ab5-82c4-4037-9fc8-3a3ca989ddcf",
   "metadata": {},
   "outputs": [],
   "source": [
    "\"A16\", \"B16\", \"C16\", \"D16\", \"E16\", \"F16\", \"G16\", \"H16\", \"I16\", \"K16\", \"L16\", \"M16\", \"N16\", \"O16\", \"P16\", \"R16\","
   ]
  }
 ],
 "metadata": {
  "kernelspec": {
   "display_name": "Python 3",
   "language": "python",
   "name": "python3"
  },
  "language_info": {
   "codemirror_mode": {
    "name": "ipython",
    "version": 3
   },
   "file_extension": ".py",
   "mimetype": "text/x-python",
   "name": "python",
   "nbconvert_exporter": "python",
   "pygments_lexer": "ipython3",
   "version": "3.8.3"
  }
 },
 "nbformat": 4,
 "nbformat_minor": 5
}
