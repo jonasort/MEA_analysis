{
 "cells": [
  {
   "cell_type": "code",
   "execution_count": 112,
   "id": "363bd152-820c-4803-a9ed-1568f205b8b3",
   "metadata": {},
   "outputs": [],
   "source": [
    "#import spikeinterface modules\n",
    "import spikeinterface as si\n",
    "import spikeinterface.extractors as se\n",
    "import spikeinterface.toolkit as st\n",
    "import spikeinterface.sorters as ss\n",
    "import spikeinterface.comparison as sc\n",
    "import spikeinterface.widgets as sw\n",
    "import numpy as np\n",
    "from numpy import asarray\n",
    "import glob\n",
    "import pickle\n",
    "\n",
    "#import everything else\n",
    "import os\n",
    "import sys\n",
    "import numpy as np\n",
    "import neo\n",
    "import pandas as pd\n",
    "import scipy\n",
    "\n",
    "# MCS\n",
    "import McsPy\n",
    "import McsPy.McsData\n",
    "import McsPy.McsCMOS\n",
    "from McsPy import ureg, Q_\n",
    "\n",
    "# Plotting\n",
    "import matplotlib.pyplot as plt\n",
    "from matplotlib.pyplot import cm\n",
    "import seaborn as sns\n",
    "\n",
    "#SK Learn\n",
    "from sklearn.mixture import GaussianMixture\n",
    "from sklearn.decomposition import PCA\n",
    "from sklearn.preprocessing import StandardScaler\n",
    "from sklearn.preprocessing import MinMaxScaler\n",
    "\n",
    "#networkx\n",
    "import plotly.graph_objects as go\n",
    "import networkx as nx\n",
    "import matplotlib.patches as mpatches\n",
    "\n",
    "\n",
    "#statsmodels\n",
    "import statsmodels.api as sm\n",
    "import statsmodels.formula.api as smf\n",
    "import statsmodels.graphics.api as smg\n",
    "from patsy import dmatrices\n",
    "\n",
    "from time import strftime\n",
    "pd.options.display.max_columns = None\n",
    "%matplotlib inline\n",
    "\n"
   ]
  },
  {
   "cell_type": "code",
   "execution_count": 2,
   "id": "566c53ae-63f7-4aaf-bbd8-6fd41f6c5e24",
   "metadata": {},
   "outputs": [],
   "source": [
    "working_directory = r\"D:\\Files_Reutlingen_Jenny\\19-04-16\\190416_paper\\analysis_01_HCx_GFP_B_aCSF_base\"\n",
    "\n",
    "output_directory = r\"D:\\Files_Reutlingen_Jenny\\19-04-16\\190416_paper\\analysis_01_HCx_GFP_B_aCSF_base\""
   ]
  },
  {
   "cell_type": "code",
   "execution_count": 3,
   "id": "2e7ceac8-486e-467a-8953-e3edfbd5242d",
   "metadata": {},
   "outputs": [],
   "source": [
    "os.chdir(working_directory)"
   ]
  },
  {
   "cell_type": "code",
   "execution_count": 4,
   "id": "3afdb379-5501-4c45-be35-652262912413",
   "metadata": {},
   "outputs": [],
   "source": [
    "filename= '01_HCx_GFP_B_aCSF_base'"
   ]
  },
  {
   "cell_type": "code",
   "execution_count": 5,
   "id": "e04d0bcb-f9c4-4214-954e-55edef4d3f12",
   "metadata": {},
   "outputs": [],
   "source": [
    "#load the main recording dic\n",
    "MAIN_RECORDING_DICTIONARY = pickle.load(open(os.path.join(output_directory+'\\\\MAIN_RECORDING_Dictionary_'+filename+'.pkl'), \"rb\"))"
   ]
  },
  {
   "cell_type": "code",
   "execution_count": 6,
   "id": "0f7c76e6-b800-41cd-bf08-cdc2b2ac54d8",
   "metadata": {},
   "outputs": [
    {
     "data": {
      "text/plain": [
       "dict_keys(['spikedic_MAD', 'network_bursts_seconds', 'fr_dic', 'isi_dictionary', 'isi_average_dic', 'Infos_Recording', 'Infos_Analysis', 'Infos_Anatomy', 'Bursts', 'Interburst-Intervals', 'bursting_time_per_channel', 'bursts_per_channel', 'burst_connections', 'GRAPH_shared_bursts', 'Basics'])"
      ]
     },
     "execution_count": 6,
     "metadata": {},
     "output_type": "execute_result"
    }
   ],
   "source": [
    "MAIN_RECORDING_DICTIONARY.keys()"
   ]
  },
  {
   "cell_type": "code",
   "execution_count": 119,
   "id": "9827ad1e-29c3-48ea-9f2c-57ef9e550e72",
   "metadata": {},
   "outputs": [],
   "source": [
    "network_bursts_seconds = MAIN_RECORDING_DICTIONARY['network_bursts_seconds']\n",
    "spikedic_MAD = MAIN_RECORDING_DICTIONARY['spikedic_MAD']\n",
    "fr_dic = MAIN_RECORDING_DICTIONARY['fr_dic']\n",
    "isi_dictionary = MAIN_RECORDING_DICTIONARY['isi_dictionary']\n",
    "isi_average_dic = MAIN_RECORDING_DICTIONARY['isi_average_dic']\n",
    "Infos_Recording = MAIN_RECORDING_DICTIONARY['Infos_Recording']\n",
    "Infos_Analysis = MAIN_RECORDING_DICTIONARY['Infos_Analysis']\n",
    "Infos_Anatomy = MAIN_RECORDING_DICTIONARY['Infos_Anatomy']\n",
    "Bursts = MAIN_RECORDING_DICTIONARY['Bursts']\n",
    "Interburst_Intervals = MAIN_RECORDING_DICTIONARY['Interburst-Intervals']\n",
    "bursting_time_per_channel = MAIN_RECORDING_DICTIONARY['bursting_time_per_channel']\n",
    "bursts_per_channel = MAIN_RECORDING_DICTIONARY['bursts_per_channel']\n",
    "burst_connections = MAIN_RECORDING_DICTIONARY['burst_connections']\n",
    "Basics = MAIN_RECORDING_DICTIONARY['Basics']\n",
    "inverted_layerdic = Infos_Anatomy['layerdic_invert']\n",
    "layerdic = Infos_Anatomy['layerdic']"
   ]
  },
  {
   "cell_type": "code",
   "execution_count": null,
   "id": "9f5b6105-d9ff-4adb-bb49-3cb70001072c",
   "metadata": {},
   "outputs": [],
   "source": []
  },
  {
   "cell_type": "code",
   "execution_count": 8,
   "id": "8c445e45-07c6-4316-b098-d23255c1a2ca",
   "metadata": {
    "tags": []
   },
   "outputs": [],
   "source": []
  },
  {
   "cell_type": "code",
   "execution_count": 9,
   "id": "cbc0d743-0e1b-484e-9b19-6b9092c3571c",
   "metadata": {},
   "outputs": [],
   "source": [
    "def get_values_per_layer(input_dic, inverted_layerdic, layerdic):\n",
    "    \n",
    "    value_per_layer_dic = {}\n",
    "    interims_dic = {}\n",
    "    \n",
    "    \n",
    "    for key in input_dic:\n",
    "        try:\n",
    "            \n",
    "            corresponding_layer = inverted_layerdic[key]\n",
    "            interims_dic[key] = (input_dic[key], corresponding_layer)\n",
    "        except:\n",
    "            print('Channel Missing')\n",
    "            \n",
    "    for key in layerdic:\n",
    "        \n",
    "        \n",
    "        layerlist = []\n",
    "        for key2 in interims_dic:\n",
    "            if interims_dic[key2][1] == key:\n",
    "                layerlist.append(interims_dic[key2][0])\n",
    "                \n",
    "        if len(layerlist) > 0:\n",
    "\n",
    "            try:\n",
    "                layerlist = [j for i in layerlist for j in i]\n",
    "            except:\n",
    "                pass\n",
    "\n",
    "        if len(layerlist) == 0:\n",
    "            pass\n",
    "        else:\n",
    "            layer_array = np.asarray(layerlist)\n",
    "            value_per_layer_dic[key] = layer_array\n",
    "        \n",
    "    return value_per_layer_dic"
   ]
  },
  {
   "cell_type": "markdown",
   "id": "5d4ace04-b0fb-4b7e-92fe-95b0f2d437ac",
   "metadata": {},
   "source": [
    "# we retrieve data per layer"
   ]
  },
  {
   "cell_type": "code",
   "execution_count": 47,
   "id": "e08b1ad2-60d6-4326-a6f8-cbee99955d5f",
   "metadata": {},
   "outputs": [
    {
     "ename": "AttributeError",
     "evalue": "'dict_values' object has no attribute 'items'",
     "output_type": "error",
     "traceback": [
      "\u001b[1;31m---------------------------------------------------------------------------\u001b[0m",
      "\u001b[1;31mAttributeError\u001b[0m                            Traceback (most recent call last)",
      "\u001b[1;32m<ipython-input-47-dc18b31f08c4>\u001b[0m in \u001b[0;36m<module>\u001b[1;34m\u001b[0m\n\u001b[1;32m----> 1\u001b[1;33m \u001b[1;33m[\u001b[0m\u001b[0mbursts_per_channel\u001b[0m\u001b[1;33m.\u001b[0m\u001b[0mvalues\u001b[0m\u001b[1;33m(\u001b[0m\u001b[1;33m)\u001b[0m\u001b[1;33m.\u001b[0m\u001b[0mitems\u001b[0m\u001b[1;33m(\u001b[0m\u001b[1;33m)\u001b[0m\u001b[1;33m]\u001b[0m\u001b[1;33m\u001b[0m\u001b[1;33m\u001b[0m\u001b[0m\n\u001b[0m",
      "\u001b[1;31mAttributeError\u001b[0m: 'dict_values' object has no attribute 'items'"
     ]
    }
   ],
   "source": [
    "[bursts_per_channel.values().items()]"
   ]
  },
  {
   "cell_type": "code",
   "execution_count": 11,
   "id": "4caa932d-a8c1-4b68-b14f-c61f8537ad11",
   "metadata": {},
   "outputs": [],
   "source": [
    "network_bursts_seconds = MAIN_RECORDING_DICTIONARY['network_bursts_seconds']\n",
    "spikedic_MAD = MAIN_RECORDING_DICTIONARY['spikedic_MAD']\n",
    "fr_dic = MAIN_RECORDING_DICTIONARY['fr_dic']\n",
    "isi_dictionary = MAIN_RECORDING_DICTIONARY['isi_dictionary']\n",
    "isi_average_dic = MAIN_RECORDING_DICTIONARY['isi_average_dic']\n",
    "Infos_Recording = MAIN_RECORDING_DICTIONARY['Infos_Recording']\n",
    "Infos_Analysis = MAIN_RECORDING_DICTIONARY['Infos_Analysis']\n",
    "Infos_Anatomy = MAIN_RECORDING_DICTIONARY['Infos_Anatomy']\n",
    "Bursts = MAIN_RECORDING_DICTIONARY['Bursts']\n",
    "Interburst_Intervals = MAIN_RECORDING_DICTIONARY['Interburst-Intervals']\n",
    "bursting_time_per_channel = MAIN_RECORDING_DICTIONARY['bursting_time_per_channel']\n",
    "bursts_per_channel = MAIN_RECORDING_DICTIONARY['bursts_per_channel']\n",
    "burst_connections = MAIN_RECORDING_DICTIONARY['burst_connections']\n",
    "Basics = MAIN_RECORDING_DICTIONARY['Basics']"
   ]
  },
  {
   "cell_type": "code",
   "execution_count": 12,
   "id": "3895e7d1-c605-41f7-9abb-c90eca3fb71e",
   "metadata": {
    "tags": []
   },
   "outputs": [
    {
     "name": "stdout",
     "output_type": "stream",
     "text": [
      "Channel Missing\n",
      "Channel Missing\n",
      "Channel Missing\n",
      "Channel Missing\n",
      "Channel Missing\n",
      "Channel Missing\n",
      "Channel Missing\n",
      "Channel Missing\n",
      "Channel Missing\n",
      "Channel Missing\n"
     ]
    }
   ],
   "source": [
    "fr_per_layer = get_values_per_layer(fr_dic, inverted_layerdic, layerdic)\n",
    "isi_per_layer = get_values_per_layer(isi_dictionary, inverted_layerdic, layerdic)\n",
    "bursts_channel_per_layer = get_values_per_layer(bursts_per_channel, inverted_layerdic, layerdic)\n",
    "bursting_time_per_channel_per_layer = get_values_per_layer(bursting_time_per_channel, inverted_layerdic, layerdic)\n",
    "interburst_intervals_per_layer = get_values_per_layer(Interburst_Intervals, inverted_layerdic, layerdic)\n"
   ]
  },
  {
   "cell_type": "code",
   "execution_count": 14,
   "id": "a4494f8a-963d-47ca-b90c-9918c11bd873",
   "metadata": {},
   "outputs": [],
   "source": [
    "def get_basic_stats_per_layer(somedic_per_layer):\n",
    "\n",
    "    mean_stats_layer = {}\n",
    "    std_stats_layer = {}\n",
    "    median_stats_layer = {}\n",
    "    \n",
    "    \n",
    "    for key in somedic_per_layer:\n",
    "        mean_stats_layer[key] = np.mean(somedic_per_layer[key])\n",
    "        std_stats_layer[key] = np.std(somedic_per_layer[key])\n",
    "        median_stats_layer[key] = np.median(somedic_per_layer[key])\n",
    "        \n",
    "        \n",
    "    return mean_stats_layer, std_stats_layer, median_stats_layer\n"
   ]
  },
  {
   "cell_type": "code",
   "execution_count": 15,
   "id": "b4066b4b-a206-461c-94e4-ddb6dc52d175",
   "metadata": {},
   "outputs": [],
   "source": [
    "fr_mean_layer, fr_std_layer, fr_median_layer = get_basic_stats_per_layer(fr_per_layer)\n",
    "isi_mean_layer, isi_std_layer, isi_median_layer = get_basic_stats_per_layer(isi_per_layer)\n",
    "burst_per_channel_mean_layer, burst_per_channel_std_layer, burst_per_channel_median_layer = get_basic_stats_per_layer(bursts_channel_per_layer)\n",
    "burst_time_per_channel_mean_layer, burst_time_per_channel_std_layer, burst_time_per_channel_median_layer = get_basic_stats_per_layer(bursting_time_per_channel_per_layer)\n",
    "interburst_intervals_per_layer_mean, interburst_intervals_per_layer_std, interburst_intervals_per_layer_median = get_basic_stats_per_layer(interburst_intervals_per_layer)"
   ]
  },
  {
   "cell_type": "code",
   "execution_count": 20,
   "id": "c5307e2a-6c6d-4e38-9c76-68bd2024c3f5",
   "metadata": {},
   "outputs": [],
   "source": [
    "integrated_df = pd.DataFrame(columns=[\"filename\", \"recording_date\", \"timelength_recording_s\", \"medium\", \"drug\", \"firingrate_whole\", \"active_channels\", \n",
    "                                      \"isi_threshold_base\", \"number_of_bursts\", \"isi_average\", \"ibi_average\", \"firingrate_layer1_mean\", \"firingrate_layer1_median\",\n",
    "                                      \"firingrate_layer1_std\", \"isi_layer1_mean\", \"isi_layer1_median\", \"isi_layer1_std\", \"bursts_per_channel_layer1_mean\", \n",
    "                                      \"bursts_per_channel_layer1_median\", \"bursts_per_channel_layer1_std\", \"firingrate_layer2-3_mean\", \"firingrate_layer2-3_median\", \n",
    "                                      \"firingrate_layer2-3_std\", \"isi_layer2-3_mean\", \"isi_layer2-3_median\", \"isi_layer2-3_std\", \"bursts_per_channel_layer2-3_mean\", \n",
    "                                      \"bursts_per_channel_layer2-3_median\", \"bursts_per_channel_layer2-3_std\", \"firingrate_layer4_mean\", \"firingrate_layer4_median\", \n",
    "                                      \"firingrate_layer4_std\", \"isi_layer4_mean\", \"isi_layer4_median\", \"isi_layer4_std\", \"bursts_per_channel_layer4_mean\", \n",
    "                                      \"bursts_per_channel_layer4_median\", \"bursts_per_channel_layer4_std\", \"firingrate_layer5-6_mean\", \"firingrate_layer5-6_median\", \n",
    "                                      \"firingrate_layer5-6_std\", \"isi_layer5-6_mean\", \"isi_layer5-6_median\", \"isi_layer5-6_std\", \"bursts_per_channel_layer5-6_mean\", \n",
    "                                      \"bursts_per_channel_layer5-6_median\", \"bursts_per_channel_layer5-6_std\", \"firingrate_whitematter_mean\", \"firingrate_whitematter_median\", \n",
    "                                      \"firingrate_whitematter_std\", \"isi_whitematter_mean\", \"isi_whitematter_median\", \"isi_whitematter_std\", \"bursts_per_channel_whitematter_mean\", \n",
    "                                      \"bursts_per_channel_whitematter_median\", \"bursts_per_channel_whitematter_std\"])\n",
    "                                      "
   ]
  },
  {
   "cell_type": "code",
   "execution_count": 27,
   "id": "d7bfcc34-9710-4349-83ef-33a08bbced90",
   "metadata": {
    "collapsed": true,
    "jupyter": {
     "outputs_hidden": true
    },
    "tags": []
   },
   "outputs": [
    {
     "data": {
      "text/plain": [
       "{'info_dics_subrecordings': {'0_to_120': {'tick': 40,\n",
       "   'timelengthrecording_s': 1800.0,\n",
       "   'first_recording_timepoint': 0,\n",
       "   'scale_factor_for_second': 1e-06,\n",
       "   'network_burst_threshold_basline': 387.93417704353266},\n",
       "  '1080_to_1200': {'tick': 40,\n",
       "   'timelengthrecording_s': 1800.0,\n",
       "   'first_recording_timepoint': 0,\n",
       "   'scale_factor_for_second': 1e-06,\n",
       "   'network_burst_threshold_basline': 434.5020267678358},\n",
       "  '1200_to_1320': {'tick': 40,\n",
       "   'timelengthrecording_s': 1800.0,\n",
       "   'first_recording_timepoint': 0,\n",
       "   'scale_factor_for_second': 1e-06,\n",
       "   'network_burst_threshold_basline': 409.35223004803476},\n",
       "  '120_to_240': {'tick': 40,\n",
       "   'timelengthrecording_s': 1800.0,\n",
       "   'first_recording_timepoint': 0,\n",
       "   'scale_factor_for_second': 1e-06,\n",
       "   'network_burst_threshold_basline': 382.541912766984},\n",
       "  '1320_to_1440': {'tick': 40,\n",
       "   'timelengthrecording_s': 1800.0,\n",
       "   'first_recording_timepoint': 0,\n",
       "   'scale_factor_for_second': 1e-06,\n",
       "   'network_burst_threshold_basline': 413.79426715901957},\n",
       "  '1440_to_1560': {'tick': 40,\n",
       "   'timelengthrecording_s': 1800.0,\n",
       "   'first_recording_timepoint': 0,\n",
       "   'scale_factor_for_second': 1e-06,\n",
       "   'network_burst_threshold_basline': 406.5018760683226},\n",
       "  '1560_to_1680': {'tick': 40,\n",
       "   'timelengthrecording_s': 1800.0,\n",
       "   'first_recording_timepoint': 0,\n",
       "   'scale_factor_for_second': 1e-06,\n",
       "   'network_burst_threshold_basline': 382.5341886772549},\n",
       "  '1680_to_1800': {'tick': 40,\n",
       "   'timelengthrecording_s': 1800.0,\n",
       "   'first_recording_timepoint': 0,\n",
       "   'scale_factor_for_second': 1e-06,\n",
       "   'network_burst_threshold_basline': 397.48134298732907},\n",
       "  '240_to_360': {'tick': 40,\n",
       "   'timelengthrecording_s': 1800.0,\n",
       "   'first_recording_timepoint': 0,\n",
       "   'scale_factor_for_second': 1e-06,\n",
       "   'network_burst_threshold_basline': 386.85304600403657},\n",
       "  '360_to_480': {'tick': 40,\n",
       "   'timelengthrecording_s': 1800.0,\n",
       "   'first_recording_timepoint': 0,\n",
       "   'scale_factor_for_second': 1e-06,\n",
       "   'network_burst_threshold_basline': 368.6588297529505},\n",
       "  '480_to_600': {'tick': 40,\n",
       "   'timelengthrecording_s': 1800.0,\n",
       "   'first_recording_timepoint': 0,\n",
       "   'scale_factor_for_second': 1e-06,\n",
       "   'network_burst_threshold_basline': 492.3829752936174},\n",
       "  '600_to_720': {'tick': 40,\n",
       "   'timelengthrecording_s': 1800.0,\n",
       "   'first_recording_timepoint': 0,\n",
       "   'scale_factor_for_second': 1e-06,\n",
       "   'network_burst_threshold_basline': 454.55128170507896},\n",
       "  '720_to_840': {'tick': 40,\n",
       "   'timelengthrecording_s': 1800.0,\n",
       "   'first_recording_timepoint': 0,\n",
       "   'scale_factor_for_second': 1e-06,\n",
       "   'network_burst_threshold_basline': 458.1813054855337},\n",
       "  '840_to_960': {'tick': 40,\n",
       "   'timelengthrecording_s': 1800.0,\n",
       "   'first_recording_timepoint': 0,\n",
       "   'scale_factor_for_second': 1e-06,\n",
       "   'network_burst_threshold_basline': 460.99043314762145},\n",
       "  '960_to_1080': {'tick': 40,\n",
       "   'timelengthrecording_s': 1800.0,\n",
       "   'first_recording_timepoint': 0,\n",
       "   'scale_factor_for_second': 1e-06,\n",
       "   'network_burst_threshold_basline': 440.09915600055774}},\n",
       " 'recordings_date': '16.04.2019',\n",
       " 'scale_factor_for_second': 1e-06,\n",
       " 'tick': 40,\n",
       " 'timelengthrecording_s': 1800.0}"
      ]
     },
     "execution_count": 27,
     "metadata": {},
     "output_type": "execute_result"
    }
   ],
   "source": [
    "MAIN_RECORDING_DICTIONARY['Infos_Recording']"
   ]
  },
  {
   "cell_type": "code",
   "execution_count": 91,
   "id": "51b03473-22b9-483d-aa14-f8b9907db881",
   "metadata": {},
   "outputs": [],
   "source": [
    "dictionary_for_dataframe = {}\n",
    "\n",
    "\n",
    "# fill up all basic recoding infos\n",
    "dictionary_for_dataframe[\"filename\"] = filename\n",
    "dictionary_for_dataframe[\"recording_date\"] = Infos_Recording[\"recordings_date\"]\n",
    "dictionary_for_dataframe[\"timelength_recording_s\"] = Infos_Recording[\"timelengthrecording_s\"]\n",
    "dictionary_for_dataframe[\"medium\"] = 'aCSF_baseline'\n",
    "dictionary_for_dataframe[\"drug\"] = 'none'\n",
    "dictionary_for_dataframe[\"drug_concentration_µM\"] = 0\n",
    "dictionary_for_dataframe[\"firingrate_whole_Hz\"] = Basics[\"mean_fr_whole_recording\"]\n",
    "dictionary_for_dataframe[\"active_channels\"] = Basics[\"active_channels\"]\n",
    "\n",
    "\n",
    "# \n",
    "dictionary_for_dataframe[\"isi_burst_threshold_µs\"] = Infos_Analysis[\"isi_burst_threshold_base\"]\n",
    "dictionary_for_dataframe[\"number_of_bursts\"] = np.sum(list(bursts_per_channel.values()))\n",
    "dictionary_for_dataframe[\"isi_average\"] = np.mean(list(MAIN_RECORDING_DICTIONARY[\"isi_average_dic\"].values()))\n",
    "\n",
    "ibi_list = list(MAIN_RECORDING_DICTIONARY[\"Interburst-Intervals\"].values())\n",
    "dictionary_for_dataframe[\"ibi_average\"] = np.mean(np.sum(ibi_list))\n",
    "\n",
    "# add up information per layer\n",
    "for key in layerdic:\n",
    "    if key in fr_mean_layer.keys():\n",
    "        dictionary_for_dataframe[\"firingrate_\"+key+\"_mean\"] = fr_mean_layer[key]\n",
    "        dictionary_for_dataframe[\"firingrate_\"+key+\"_median\"] = fr_median_layer[key]\n",
    "        dictionary_for_dataframe[\"firingrate_\"+key+\"_std\"] = fr_std_layer[key]\n",
    "        dictionary_for_dataframe[\"isi_\"+key+\"_mean\"] = isi_mean_layer[key]\n",
    "        dictionary_for_dataframe[\"isi_\"+key+\"_median\"] = isi_median_layer[key]\n",
    "        dictionary_for_dataframe[\"isi_\"+key+\"_std\"] = isi_std_layer[key]\n",
    "        dictionary_for_dataframe[\"bursts_per_channel_\"+key+\"_mean\"] = burst_per_channel_mean_layer[key]\n",
    "        dictionary_for_dataframe[\"bursts_per_channel_\"+key+\"_median\"] = burst_per_channel_median_layer[key]\n",
    "        dictionary_for_dataframe[\"bursts_per_channel_\"+key+\"_std\"] = burst_per_channel_std_layer[key]\n",
    "        dictionary_for_dataframe[\"bursts_time_per_channel_\"+key+\"_mean\"] = burst_time_per_channel_mean_layer[key]\n",
    "        dictionary_for_dataframe[\"bursts_time_per_channel_\"+key+\"_median\"] = burst_time_per_channel_median_layer[key]\n",
    "        dictionary_for_dataframe[\"bursts_time_per_channel_\"+key+\"_std\"] = burst_per_channel_std_layer[key]\n",
    "        dictionary_for_dataframe[\"interburst_intervals_\"+key+\"_mean\"] = interburst_intervals_per_layer_mean[key]\n",
    "        dictionary_for_dataframe[\"interburst_intervals_\"+key+\"_median\"] = interburst_intervals_per_layer_median[key]\n",
    "        dictionary_for_dataframe[\"interburst_intervals_\"+key+\"_std\"] = interburst_intervals_per_layer_std[key]\n",
    "    else:\n",
    "        dictionary_for_dataframe[\"firingrate_\"+key+\"_mean\"] = np.nan\n",
    "        dictionary_for_dataframe[\"firingrate_\"+key+\"_median\"] = np.nan\n",
    "        dictionary_for_dataframe[\"firingrate_\"+key+\"_std\"] = np.nan\n",
    "        dictionary_for_dataframe[\"isi_\"+key+\"_mean\"] = np.nan\n",
    "        dictionary_for_dataframe[\"isi_\"+key+\"_median\"] = np.nan\n",
    "        dictionary_for_dataframe[\"isi_\"+key+\"_std\"] = np.nan\n",
    "        dictionary_for_dataframe[\"bursts_per_channel_\"+key+\"_mean\"] = np.nan\n",
    "        dictionary_for_dataframe[\"bursts_per_channel_\"+key+\"_median\"] = np.nan\n",
    "        dictionary_for_dataframe[\"bursts_per_channel_\"+key+\"_std\"] = np.nan\n",
    "        dictionary_for_dataframe[\"bursts_time_per_channel_\"+key+\"_mean\"] = np.nan\n",
    "        dictionary_for_dataframe[\"bursts_time_per_channel_\"+key+\"_median\"] = np.nan\n",
    "        dictionary_for_dataframe[\"bursts_time_per_channel_\"+key+\"_std\"] = np.nan\n",
    "        dictionary_for_dataframe[\"interburst_intervals_\"+key+\"_mean\"] = np.nan\n",
    "        dictionary_for_dataframe[\"interburst_intervals_\"+key+\"_median\"] = np.nan\n",
    "        dictionary_for_dataframe[\"interburst_intervals_\"+key+\"_std\"] = np.nan\n",
    "    \n",
    "\n",
    "\n",
    "\n",
    "\n",
    "\n",
    "\n"
   ]
  },
  {
   "cell_type": "code",
   "execution_count": 100,
   "id": "8206501c-adf1-497e-8014-f0d23d420f05",
   "metadata": {},
   "outputs": [],
   "source": [
    "columns = list(dictionary_for_dataframe.keys())"
   ]
  },
  {
   "cell_type": "code",
   "execution_count": 101,
   "id": "9ef9c78b-aeda-41f2-981c-d956b02d7d2c",
   "metadata": {
    "collapsed": true,
    "jupyter": {
     "outputs_hidden": true
    },
    "tags": []
   },
   "outputs": [
    {
     "data": {
      "text/plain": [
       "['filename',\n",
       " 'recording_date',\n",
       " 'timelength_recording_s',\n",
       " 'medium',\n",
       " 'drug',\n",
       " 'drug_concentration_µM',\n",
       " 'firingrate_whole_Hz',\n",
       " 'active_channels',\n",
       " 'isi_burst_threshold_µs',\n",
       " 'number_of_bursts',\n",
       " 'isi_average',\n",
       " 'ibi_average',\n",
       " 'firingrate_layer1_mean',\n",
       " 'firingrate_layer1_median',\n",
       " 'firingrate_layer1_std',\n",
       " 'isi_layer1_mean',\n",
       " 'isi_layer1_median',\n",
       " 'isi_layer1_std',\n",
       " 'bursts_per_channel_layer1_mean',\n",
       " 'bursts_per_channel_layer1_median',\n",
       " 'bursts_per_channel_layer1_std',\n",
       " 'bursts_time_per_channel_layer1_mean',\n",
       " 'bursts_time_per_channel_layer1_median',\n",
       " 'bursts_time_per_channel_layer1_std',\n",
       " 'interburst_intervals_layer1_mean',\n",
       " 'interburst_intervals_layer1_median',\n",
       " 'interburst_intervals_layer1_std',\n",
       " 'firingrate_layer2-3_mean',\n",
       " 'firingrate_layer2-3_median',\n",
       " 'firingrate_layer2-3_std',\n",
       " 'isi_layer2-3_mean',\n",
       " 'isi_layer2-3_median',\n",
       " 'isi_layer2-3_std',\n",
       " 'bursts_per_channel_layer2-3_mean',\n",
       " 'bursts_per_channel_layer2-3_median',\n",
       " 'bursts_per_channel_layer2-3_std',\n",
       " 'bursts_time_per_channel_layer2-3_mean',\n",
       " 'bursts_time_per_channel_layer2-3_median',\n",
       " 'bursts_time_per_channel_layer2-3_std',\n",
       " 'interburst_intervals_layer2-3_mean',\n",
       " 'interburst_intervals_layer2-3_median',\n",
       " 'interburst_intervals_layer2-3_std',\n",
       " 'firingrate_layer4_mean',\n",
       " 'firingrate_layer4_median',\n",
       " 'firingrate_layer4_std',\n",
       " 'isi_layer4_mean',\n",
       " 'isi_layer4_median',\n",
       " 'isi_layer4_std',\n",
       " 'bursts_per_channel_layer4_mean',\n",
       " 'bursts_per_channel_layer4_median',\n",
       " 'bursts_per_channel_layer4_std',\n",
       " 'bursts_time_per_channel_layer4_mean',\n",
       " 'bursts_time_per_channel_layer4_median',\n",
       " 'bursts_time_per_channel_layer4_std',\n",
       " 'interburst_intervals_layer4_mean',\n",
       " 'interburst_intervals_layer4_median',\n",
       " 'interburst_intervals_layer4_std',\n",
       " 'firingrate_layer5-6_mean',\n",
       " 'firingrate_layer5-6_median',\n",
       " 'firingrate_layer5-6_std',\n",
       " 'isi_layer5-6_mean',\n",
       " 'isi_layer5-6_median',\n",
       " 'isi_layer5-6_std',\n",
       " 'bursts_per_channel_layer5-6_mean',\n",
       " 'bursts_per_channel_layer5-6_median',\n",
       " 'bursts_per_channel_layer5-6_std',\n",
       " 'bursts_time_per_channel_layer5-6_mean',\n",
       " 'bursts_time_per_channel_layer5-6_median',\n",
       " 'bursts_time_per_channel_layer5-6_std',\n",
       " 'interburst_intervals_layer5-6_mean',\n",
       " 'interburst_intervals_layer5-6_median',\n",
       " 'interburst_intervals_layer5-6_std',\n",
       " 'firingrate_whitematter_mean',\n",
       " 'firingrate_whitematter_median',\n",
       " 'firingrate_whitematter_std',\n",
       " 'isi_whitematter_mean',\n",
       " 'isi_whitematter_median',\n",
       " 'isi_whitematter_std',\n",
       " 'bursts_per_channel_whitematter_mean',\n",
       " 'bursts_per_channel_whitematter_median',\n",
       " 'bursts_per_channel_whitematter_std',\n",
       " 'bursts_time_per_channel_whitematter_mean',\n",
       " 'bursts_time_per_channel_whitematter_median',\n",
       " 'bursts_time_per_channel_whitematter_std',\n",
       " 'interburst_intervals_whitematter_mean',\n",
       " 'interburst_intervals_whitematter_median',\n",
       " 'interburst_intervals_whitematter_std']"
      ]
     },
     "execution_count": 101,
     "metadata": {},
     "output_type": "execute_result"
    }
   ],
   "source": [
    "columns"
   ]
  },
  {
   "cell_type": "code",
   "execution_count": 107,
   "id": "e8552028-b7a7-40a7-acdf-e31c7dfed366",
   "metadata": {
    "tags": []
   },
   "outputs": [],
   "source": [
    "df = pd.DataFrame.from_records([dictionary_for_dataframe])"
   ]
  },
  {
   "cell_type": "code",
   "execution_count": 113,
   "id": "7308c597-22ea-4e0d-83ff-37553a2f3f8f",
   "metadata": {},
   "outputs": [
    {
     "data": {
      "text/html": [
       "<div>\n",
       "<style scoped>\n",
       "    .dataframe tbody tr th:only-of-type {\n",
       "        vertical-align: middle;\n",
       "    }\n",
       "\n",
       "    .dataframe tbody tr th {\n",
       "        vertical-align: top;\n",
       "    }\n",
       "\n",
       "    .dataframe thead th {\n",
       "        text-align: right;\n",
       "    }\n",
       "</style>\n",
       "<table border=\"1\" class=\"dataframe\">\n",
       "  <thead>\n",
       "    <tr style=\"text-align: right;\">\n",
       "      <th></th>\n",
       "      <th>filename</th>\n",
       "      <th>recording_date</th>\n",
       "      <th>timelength_recording_s</th>\n",
       "      <th>medium</th>\n",
       "      <th>drug</th>\n",
       "      <th>drug_concentration_µM</th>\n",
       "      <th>firingrate_whole_Hz</th>\n",
       "      <th>active_channels</th>\n",
       "      <th>isi_burst_threshold_µs</th>\n",
       "      <th>number_of_bursts</th>\n",
       "      <th>isi_average</th>\n",
       "      <th>ibi_average</th>\n",
       "      <th>firingrate_layer1_mean</th>\n",
       "      <th>firingrate_layer1_median</th>\n",
       "      <th>firingrate_layer1_std</th>\n",
       "      <th>isi_layer1_mean</th>\n",
       "      <th>isi_layer1_median</th>\n",
       "      <th>isi_layer1_std</th>\n",
       "      <th>bursts_per_channel_layer1_mean</th>\n",
       "      <th>bursts_per_channel_layer1_median</th>\n",
       "      <th>bursts_per_channel_layer1_std</th>\n",
       "      <th>bursts_time_per_channel_layer1_mean</th>\n",
       "      <th>bursts_time_per_channel_layer1_median</th>\n",
       "      <th>bursts_time_per_channel_layer1_std</th>\n",
       "      <th>interburst_intervals_layer1_mean</th>\n",
       "      <th>interburst_intervals_layer1_median</th>\n",
       "      <th>interburst_intervals_layer1_std</th>\n",
       "      <th>firingrate_layer2-3_mean</th>\n",
       "      <th>firingrate_layer2-3_median</th>\n",
       "      <th>firingrate_layer2-3_std</th>\n",
       "      <th>isi_layer2-3_mean</th>\n",
       "      <th>isi_layer2-3_median</th>\n",
       "      <th>isi_layer2-3_std</th>\n",
       "      <th>bursts_per_channel_layer2-3_mean</th>\n",
       "      <th>bursts_per_channel_layer2-3_median</th>\n",
       "      <th>bursts_per_channel_layer2-3_std</th>\n",
       "      <th>bursts_time_per_channel_layer2-3_mean</th>\n",
       "      <th>bursts_time_per_channel_layer2-3_median</th>\n",
       "      <th>bursts_time_per_channel_layer2-3_std</th>\n",
       "      <th>interburst_intervals_layer2-3_mean</th>\n",
       "      <th>interburst_intervals_layer2-3_median</th>\n",
       "      <th>interburst_intervals_layer2-3_std</th>\n",
       "      <th>firingrate_layer4_mean</th>\n",
       "      <th>firingrate_layer4_median</th>\n",
       "      <th>firingrate_layer4_std</th>\n",
       "      <th>isi_layer4_mean</th>\n",
       "      <th>isi_layer4_median</th>\n",
       "      <th>isi_layer4_std</th>\n",
       "      <th>bursts_per_channel_layer4_mean</th>\n",
       "      <th>bursts_per_channel_layer4_median</th>\n",
       "      <th>bursts_per_channel_layer4_std</th>\n",
       "      <th>bursts_time_per_channel_layer4_mean</th>\n",
       "      <th>bursts_time_per_channel_layer4_median</th>\n",
       "      <th>bursts_time_per_channel_layer4_std</th>\n",
       "      <th>interburst_intervals_layer4_mean</th>\n",
       "      <th>interburst_intervals_layer4_median</th>\n",
       "      <th>interburst_intervals_layer4_std</th>\n",
       "      <th>firingrate_layer5-6_mean</th>\n",
       "      <th>firingrate_layer5-6_median</th>\n",
       "      <th>firingrate_layer5-6_std</th>\n",
       "      <th>isi_layer5-6_mean</th>\n",
       "      <th>isi_layer5-6_median</th>\n",
       "      <th>isi_layer5-6_std</th>\n",
       "      <th>bursts_per_channel_layer5-6_mean</th>\n",
       "      <th>bursts_per_channel_layer5-6_median</th>\n",
       "      <th>bursts_per_channel_layer5-6_std</th>\n",
       "      <th>bursts_time_per_channel_layer5-6_mean</th>\n",
       "      <th>bursts_time_per_channel_layer5-6_median</th>\n",
       "      <th>bursts_time_per_channel_layer5-6_std</th>\n",
       "      <th>interburst_intervals_layer5-6_mean</th>\n",
       "      <th>interburst_intervals_layer5-6_median</th>\n",
       "      <th>interburst_intervals_layer5-6_std</th>\n",
       "      <th>firingrate_whitematter_mean</th>\n",
       "      <th>firingrate_whitematter_median</th>\n",
       "      <th>firingrate_whitematter_std</th>\n",
       "      <th>isi_whitematter_mean</th>\n",
       "      <th>isi_whitematter_median</th>\n",
       "      <th>isi_whitematter_std</th>\n",
       "      <th>bursts_per_channel_whitematter_mean</th>\n",
       "      <th>bursts_per_channel_whitematter_median</th>\n",
       "      <th>bursts_per_channel_whitematter_std</th>\n",
       "      <th>bursts_time_per_channel_whitematter_mean</th>\n",
       "      <th>bursts_time_per_channel_whitematter_median</th>\n",
       "      <th>bursts_time_per_channel_whitematter_std</th>\n",
       "      <th>interburst_intervals_whitematter_mean</th>\n",
       "      <th>interburst_intervals_whitematter_median</th>\n",
       "      <th>interburst_intervals_whitematter_std</th>\n",
       "    </tr>\n",
       "  </thead>\n",
       "  <tbody>\n",
       "    <tr>\n",
       "      <th>0</th>\n",
       "      <td>01_HCx_GFP_B_aCSF_base</td>\n",
       "      <td>16.04.2019</td>\n",
       "      <td>1800.0</td>\n",
       "      <td>aCSF_baseline</td>\n",
       "      <td>none</td>\n",
       "      <td>0</td>\n",
       "      <td>1262.617</td>\n",
       "      <td>214</td>\n",
       "      <td>85000.0</td>\n",
       "      <td>112543</td>\n",
       "      <td>1239.786036</td>\n",
       "      <td>2.744302e+06</td>\n",
       "      <td>NaN</td>\n",
       "      <td>NaN</td>\n",
       "      <td>NaN</td>\n",
       "      <td>NaN</td>\n",
       "      <td>NaN</td>\n",
       "      <td>NaN</td>\n",
       "      <td>NaN</td>\n",
       "      <td>NaN</td>\n",
       "      <td>NaN</td>\n",
       "      <td>NaN</td>\n",
       "      <td>NaN</td>\n",
       "      <td>NaN</td>\n",
       "      <td>NaN</td>\n",
       "      <td>NaN</td>\n",
       "      <td>NaN</td>\n",
       "      <td>1.141068</td>\n",
       "      <td>0.434444</td>\n",
       "      <td>1.510069</td>\n",
       "      <td>859.442262</td>\n",
       "      <td>23.12</td>\n",
       "      <td>5689.155017</td>\n",
       "      <td>91.435897</td>\n",
       "      <td>18.0</td>\n",
       "      <td>163.730672</td>\n",
       "      <td>19.812354</td>\n",
       "      <td>2.6224</td>\n",
       "      <td>163.730672</td>\n",
       "      <td>1.105896e+07</td>\n",
       "      <td>3638800.0</td>\n",
       "      <td>4.216964e+07</td>\n",
       "      <td>2.099259</td>\n",
       "      <td>1.271111</td>\n",
       "      <td>2.161931</td>\n",
       "      <td>469.691894</td>\n",
       "      <td>44.6</td>\n",
       "      <td>3574.694738</td>\n",
       "      <td>200.055556</td>\n",
       "      <td>72.5</td>\n",
       "      <td>264.42106</td>\n",
       "      <td>42.310231</td>\n",
       "      <td>14.94656</td>\n",
       "      <td>264.42106</td>\n",
       "      <td>6.575026e+06</td>\n",
       "      <td>2553320.0</td>\n",
       "      <td>2.499530e+07</td>\n",
       "      <td>7.336927</td>\n",
       "      <td>5.930556</td>\n",
       "      <td>6.198606</td>\n",
       "      <td>135.951579</td>\n",
       "      <td>27.48</td>\n",
       "      <td>699.434997</td>\n",
       "      <td>657.322785</td>\n",
       "      <td>472.5</td>\n",
       "      <td>600.594339</td>\n",
       "      <td>175.888646</td>\n",
       "      <td>126.18366</td>\n",
       "      <td>600.594339</td>\n",
       "      <td>2.271555e+06</td>\n",
       "      <td>802520.0</td>\n",
       "      <td>9.122485e+06</td>\n",
       "      <td>0.253667</td>\n",
       "      <td>0.018889</td>\n",
       "      <td>0.605566</td>\n",
       "      <td>3590.348132</td>\n",
       "      <td>86.6</td>\n",
       "      <td>20545.268807</td>\n",
       "      <td>22.314286</td>\n",
       "      <td>0.0</td>\n",
       "      <td>76.328153</td>\n",
       "      <td>4.073313</td>\n",
       "      <td>0.0</td>\n",
       "      <td>76.328153</td>\n",
       "      <td>8.592031e+06</td>\n",
       "      <td>5529180.0</td>\n",
       "      <td>1.996539e+07</td>\n",
       "    </tr>\n",
       "  </tbody>\n",
       "</table>\n",
       "</div>"
      ],
      "text/plain": [
       "                 filename recording_date  timelength_recording_s  \\\n",
       "0  01_HCx_GFP_B_aCSF_base     16.04.2019                  1800.0   \n",
       "\n",
       "          medium  drug  drug_concentration_µM  firingrate_whole_Hz  \\\n",
       "0  aCSF_baseline  none                      0             1262.617   \n",
       "\n",
       "   active_channels  isi_burst_threshold_µs  number_of_bursts  isi_average  \\\n",
       "0              214                 85000.0            112543  1239.786036   \n",
       "\n",
       "    ibi_average  firingrate_layer1_mean  firingrate_layer1_median  \\\n",
       "0  2.744302e+06                     NaN                       NaN   \n",
       "\n",
       "   firingrate_layer1_std  isi_layer1_mean  isi_layer1_median  isi_layer1_std  \\\n",
       "0                    NaN              NaN                NaN             NaN   \n",
       "\n",
       "   bursts_per_channel_layer1_mean  bursts_per_channel_layer1_median  \\\n",
       "0                             NaN                               NaN   \n",
       "\n",
       "   bursts_per_channel_layer1_std  bursts_time_per_channel_layer1_mean  \\\n",
       "0                            NaN                                  NaN   \n",
       "\n",
       "   bursts_time_per_channel_layer1_median  bursts_time_per_channel_layer1_std  \\\n",
       "0                                    NaN                                 NaN   \n",
       "\n",
       "   interburst_intervals_layer1_mean  interburst_intervals_layer1_median  \\\n",
       "0                               NaN                                 NaN   \n",
       "\n",
       "   interburst_intervals_layer1_std  firingrate_layer2-3_mean  \\\n",
       "0                              NaN                  1.141068   \n",
       "\n",
       "   firingrate_layer2-3_median  firingrate_layer2-3_std  isi_layer2-3_mean  \\\n",
       "0                    0.434444                 1.510069         859.442262   \n",
       "\n",
       "   isi_layer2-3_median  isi_layer2-3_std  bursts_per_channel_layer2-3_mean  \\\n",
       "0                23.12       5689.155017                         91.435897   \n",
       "\n",
       "   bursts_per_channel_layer2-3_median  bursts_per_channel_layer2-3_std  \\\n",
       "0                                18.0                       163.730672   \n",
       "\n",
       "   bursts_time_per_channel_layer2-3_mean  \\\n",
       "0                              19.812354   \n",
       "\n",
       "   bursts_time_per_channel_layer2-3_median  \\\n",
       "0                                   2.6224   \n",
       "\n",
       "   bursts_time_per_channel_layer2-3_std  interburst_intervals_layer2-3_mean  \\\n",
       "0                            163.730672                        1.105896e+07   \n",
       "\n",
       "   interburst_intervals_layer2-3_median  interburst_intervals_layer2-3_std  \\\n",
       "0                             3638800.0                       4.216964e+07   \n",
       "\n",
       "   firingrate_layer4_mean  firingrate_layer4_median  firingrate_layer4_std  \\\n",
       "0                2.099259                  1.271111               2.161931   \n",
       "\n",
       "   isi_layer4_mean  isi_layer4_median  isi_layer4_std  \\\n",
       "0       469.691894               44.6     3574.694738   \n",
       "\n",
       "   bursts_per_channel_layer4_mean  bursts_per_channel_layer4_median  \\\n",
       "0                      200.055556                              72.5   \n",
       "\n",
       "   bursts_per_channel_layer4_std  bursts_time_per_channel_layer4_mean  \\\n",
       "0                      264.42106                            42.310231   \n",
       "\n",
       "   bursts_time_per_channel_layer4_median  bursts_time_per_channel_layer4_std  \\\n",
       "0                               14.94656                           264.42106   \n",
       "\n",
       "   interburst_intervals_layer4_mean  interburst_intervals_layer4_median  \\\n",
       "0                      6.575026e+06                           2553320.0   \n",
       "\n",
       "   interburst_intervals_layer4_std  firingrate_layer5-6_mean  \\\n",
       "0                     2.499530e+07                  7.336927   \n",
       "\n",
       "   firingrate_layer5-6_median  firingrate_layer5-6_std  isi_layer5-6_mean  \\\n",
       "0                    5.930556                 6.198606         135.951579   \n",
       "\n",
       "   isi_layer5-6_median  isi_layer5-6_std  bursts_per_channel_layer5-6_mean  \\\n",
       "0                27.48        699.434997                        657.322785   \n",
       "\n",
       "   bursts_per_channel_layer5-6_median  bursts_per_channel_layer5-6_std  \\\n",
       "0                               472.5                       600.594339   \n",
       "\n",
       "   bursts_time_per_channel_layer5-6_mean  \\\n",
       "0                             175.888646   \n",
       "\n",
       "   bursts_time_per_channel_layer5-6_median  \\\n",
       "0                                126.18366   \n",
       "\n",
       "   bursts_time_per_channel_layer5-6_std  interburst_intervals_layer5-6_mean  \\\n",
       "0                            600.594339                        2.271555e+06   \n",
       "\n",
       "   interburst_intervals_layer5-6_median  interburst_intervals_layer5-6_std  \\\n",
       "0                              802520.0                       9.122485e+06   \n",
       "\n",
       "   firingrate_whitematter_mean  firingrate_whitematter_median  \\\n",
       "0                     0.253667                       0.018889   \n",
       "\n",
       "   firingrate_whitematter_std  isi_whitematter_mean  isi_whitematter_median  \\\n",
       "0                    0.605566           3590.348132                    86.6   \n",
       "\n",
       "   isi_whitematter_std  bursts_per_channel_whitematter_mean  \\\n",
       "0         20545.268807                            22.314286   \n",
       "\n",
       "   bursts_per_channel_whitematter_median  bursts_per_channel_whitematter_std  \\\n",
       "0                                    0.0                           76.328153   \n",
       "\n",
       "   bursts_time_per_channel_whitematter_mean  \\\n",
       "0                                  4.073313   \n",
       "\n",
       "   bursts_time_per_channel_whitematter_median  \\\n",
       "0                                         0.0   \n",
       "\n",
       "   bursts_time_per_channel_whitematter_std  \\\n",
       "0                                76.328153   \n",
       "\n",
       "   interburst_intervals_whitematter_mean  \\\n",
       "0                           8.592031e+06   \n",
       "\n",
       "   interburst_intervals_whitematter_median  \\\n",
       "0                                5529180.0   \n",
       "\n",
       "   interburst_intervals_whitematter_std  \n",
       "0                          1.996539e+07  "
      ]
     },
     "execution_count": 113,
     "metadata": {},
     "output_type": "execute_result"
    }
   ],
   "source": [
    "df"
   ]
  },
  {
   "cell_type": "code",
   "execution_count": 88,
   "id": "4b2f5d33-b1e9-4763-b4fa-bfae7387aa61",
   "metadata": {},
   "outputs": [],
   "source": [
    "re = np.mean(np.sum(ibi_list))"
   ]
  },
  {
   "cell_type": "code",
   "execution_count": 90,
   "id": "d5461f08-d93d-4494-964f-04073f58c59b",
   "metadata": {
    "tags": []
   },
   "outputs": [
    {
     "data": {
      "text/plain": [
       "2744301.9703916037"
      ]
     },
     "execution_count": 90,
     "metadata": {},
     "output_type": "execute_result"
    }
   ],
   "source": [
    "re"
   ]
  },
  {
   "cell_type": "code",
   "execution_count": 67,
   "id": "88376f15-0c4a-464c-a88b-3aaafb3a0a32",
   "metadata": {},
   "outputs": [
    {
     "name": "stdout",
     "output_type": "stream",
     "text": [
      "no\n",
      "yes\n",
      "yes\n",
      "yes\n",
      "yes\n"
     ]
    }
   ],
   "source": [
    "for key in layerdic:\n",
    "    if key in fr_mean_layer.keys():\n",
    "        dictionary_for_dataframe[\"firingrate_\"+key+\"_mean\"] = fr_mean_layer[key]\n",
    "        dictionary_for_dataframe[\"firingrate_\"+key+\"_median\"] = fr_median_layer[key]\n",
    "        dictionary_for_dataframe[\"firingrate_\"+key+\"_std\"] = fr_std_layer[key]\n",
    "        dictionary_for_dataframe[\"isi_\"+key+\"_mean\"] = isi_mean_layer[key]\n",
    "        dictionary_for_dataframe[\"isi_\"+key+\"_median\"] = isi_median_layer[key]\n",
    "        dictionary_for_dataframe[\"isi_\"+key+\"_std\"] = isi_std_layer[key]\n",
    "        dictionary_for_dataframe[\"bursts_per_channel_\"+key+\"_mean\"] = burst_per_channel_mean_layer[key]\n",
    "        dictionary_for_dataframe[\"bursts_per_channel_\"+key+\"_median\"] = burst_per_channel_median_layer[key]\n",
    "        dictionary_for_dataframe[\"bursts_per_channel_\"+key+\"_std\"] = burst_per_channel_std_layer[key]\n",
    "        dictionary_for_dataframe[\"bursts_time_per_channel_\"+key+\"_mean\"] = burst_time_per_channel_mean_layer[key]\n",
    "        dictionary_for_dataframe[\"bursts_time_per_channel_\"+key+\"_median\"] = burst_time_per_channel_median_layer[key]\n",
    "        dictionary_for_dataframe[\"bursts_time_per_channel_\"+key+\"_std\"] = burst_per_channel_std_layer[key]\n",
    "        dictionary_for_dataframe[\"interburst_intervals_\"+key+\"_mean\"] = interburst_intervals_per_layer_mean[key]\n",
    "        dictionary_for_dataframe[\"interburst_intervals_\"+key+\"_median\"] = interburst_intervals_per_layer_median[key]\n",
    "        dictionary_for_dataframe[\"interburst_intervals_\"+key+\"_std\"] = interburst_intervals_per_layer_std[key]\n",
    "    else:\n",
    "        dictionary_for_dataframe[\"firingrate_\"+key+\"_mean\"] = np.nan\n",
    "        dictionary_for_dataframe[\"firingrate_\"+key+\"_median\"] = np.nan\n",
    "        dictionary_for_dataframe[\"firingrate_\"+key+\"_std\"] = np.nan\n",
    "        dictionary_for_dataframe[\"isi_\"+key+\"_mean\"] = np.nan\n",
    "        dictionary_for_dataframe[\"isi_\"+key+\"_median\"] = np.nan\n",
    "        dictionary_for_dataframe[\"isi_\"+key+\"_std\"] = np.nan\n",
    "        dictionary_for_dataframe[\"bursts_per_channel_\"+key+\"_mean\"] = np.nan\n",
    "        dictionary_for_dataframe[\"bursts_per_channel_\"+key+\"_median\"] = np.nan\n",
    "        dictionary_for_dataframe[\"bursts_per_channel_\"+key+\"_std\"] = np.nan\n",
    "        dictionary_for_dataframe[\"bursts_time_per_channel_\"+key+\"_mean\"] = np.nan\n",
    "        dictionary_for_dataframe[\"bursts_time_per_channel_\"+key+\"_median\"] = np.nan\n",
    "        dictionary_for_dataframe[\"bursts_time_per_channel_\"+key+\"_std\"] = np.nan\n",
    "        dictionary_for_dataframe[\"interburst_intervals_\"+key+\"_mean\"] = np.nan\n",
    "        dictionary_for_dataframe[\"interburst_intervals_\"+key+\"_median\"] = np.nan\n",
    "        dictionary_for_dataframe[\"interburst_intervals_\"+key+\"_std\"] = np.nan\n"
   ]
  },
  {
   "cell_type": "code",
   "execution_count": 65,
   "id": "2dd28f5f-5f03-474d-93f3-e5d7cfb3b1f8",
   "metadata": {
    "tags": []
   },
   "outputs": [
    {
     "data": {
      "text/plain": [
       "{'layer2-3': 1.1410683760683762,\n",
       " 'layer4': 2.0992592592592594,\n",
       " 'layer5-6': 7.336926863572434,\n",
       " 'whitematter': 0.2536666666666667}"
      ]
     },
     "execution_count": 65,
     "metadata": {},
     "output_type": "execute_result"
    }
   ],
   "source": [
    "\"firingrate_layer1_mean\", \"firingrate_layer1_median\",\n",
    "                                      \"firingrate_layer1_std\", \"isi_layer1_mean\", \"isi_layer1_median\", \"isi_layer1_std\", \"bursts_per_channel_layer1_mean\", \n",
    "                                      \"bursts_per_channel_layer1_median\", \"bursts_per_channel_layer1_std\""
   ]
  },
  {
   "cell_type": "code",
   "execution_count": null,
   "id": "4198af94-d684-42d7-b66f-43295ba41ea8",
   "metadata": {},
   "outputs": [],
   "source": [
    "\n",
    "\n",
    "                                      \"firingrate_layer1_mean\", \"firingrate_layer1_median\",\n",
    "                                      \"firingrate_layer1_std\", \"isi_layer1_mean\", \"isi_layer1_median\", \"isi_layer1_std\", \"bursts_per_channel_layer1_mean\", \n",
    "                                      \"bursts_per_channel_layer1_median\", \"bursts_per_channel_layer1_std\", \"firingrate_layer2-3_mean\", \"firingrate_layer2-3_median\", \n",
    "                                      \"firingrate_layer2-3_std\", \"isi_layer2-3_mean\", \"isi_layer2-3_median\", \"isi_layer2-3_std\", \"bursts_per_channel_layer2-3_mean\", \n",
    "                                      \"bursts_per_channel_layer2-3_median\", \"bursts_per_channel_layer2-3_std\", \"firingrate_layer4_mean\", \"firingrate_layer4_median\", \n",
    "                                      \"firingrate_layer4_std\", \"isi_layer4_mean\", \"isi_layer4_median\", \"isi_layer4_std\", \"bursts_per_channel_layer4_mean\", \n",
    "                                      \"bursts_per_channel_layer4_median\", \"bursts_per_channel_layer4_std\", \"firingrate_layer5-6_mean\", \"firingrate_layer5-6_median\", \n",
    "                                      \"firingrate_layer5-6_std\", \"isi_layer5-6_mean\", \"isi_layer5-6_median\", \"isi_layer5-6_std\", \"bursts_per_channel_layer5-6_mean\", \n",
    "                                      \"bursts_per_channel_layer5-6_median\", \"bursts_per_channel_layer5-6_std\", \"firingrate_whitematter_mean\", \"firingrate_whitematter_median\", \n",
    "                                      \"firingrate_whitematter_std\", \"isi_whitematter_mean\", \"isi_whitematter_median\", \"isi_whitematter_std\", \"bursts_per_channel_whitematter_mean\", \n",
    "                                      \"bursts_per_channel_whitematter_median\", \"bursts_per_channel_whitematter_std\""
   ]
  },
  {
   "cell_type": "markdown",
   "id": "57fe227e-9ff1-46ef-b31d-49d958fc300b",
   "metadata": {},
   "source": [
    "### Iteration through all MAIN Recording_Dics\n",
    "\n",
    "Von hier kann über alle vorhanden Main-Recording Dics iteriert werden und nach Berechnung der jeweiligen Werte dann der DF aufgefüllt werden."
   ]
  },
  {
   "cell_type": "code",
   "execution_count": 117,
   "id": "3eb61a72-7d15-485b-a6fe-4aaf45571c46",
   "metadata": {
    "collapsed": true,
    "jupyter": {
     "outputs_hidden": true
    },
    "tags": []
   },
   "outputs": [
    {
     "data": {
      "text/plain": [
       "[(5.84, 6.675),\n",
       " (6.71, 6.875),\n",
       " (22.005, 22.885),\n",
       " (91.93, 92.205),\n",
       " (137.235, 137.745),\n",
       " (226.35500000000002, 227.88),\n",
       " (242.125, 242.805),\n",
       " (262.3, 262.84000000000003),\n",
       " (277.725, 277.99),\n",
       " (372.05, 373.345),\n",
       " (391.685, 391.825),\n",
       " (434.07, 434.69),\n",
       " (509.33500000000004, 527.26),\n",
       " (527.82, 531.815),\n",
       " (532.015, 532.41),\n",
       " (532.64, 532.665),\n",
       " (536.565, 537.395),\n",
       " (542.795, 543.535),\n",
       " (545.41, 546.285),\n",
       " (558.585, 559.41),\n",
       " (572.3000000000001, 573.57),\n",
       " (585.12, 585.29),\n",
       " (585.34, 585.44),\n",
       " (593.76, 595.645),\n",
       " (603.25, 603.315),\n",
       " (606.96, 609.25),\n",
       " (612.575, 612.6750000000001),\n",
       " (615.83, 616.03),\n",
       " (616.0500000000001, 616.065),\n",
       " (619.415, 619.975),\n",
       " (622.835, 623.025),\n",
       " (623.205, 623.6800000000001),\n",
       " (626.32, 627.335),\n",
       " (629.645, 629.99),\n",
       " (630.0550000000001, 630.75),\n",
       " (636.9350000000001, 638.1),\n",
       " (640.57, 641.1750000000001),\n",
       " (641.445, 642.525),\n",
       " (645.96, 646.02),\n",
       " (646.04, 646.0500000000001),\n",
       " (648.515, 649.44),\n",
       " (654.87, 656.575),\n",
       " (656.945, 658.27),\n",
       " (659.335, 660.36),\n",
       " (660.97, 662.615),\n",
       " (668.495, 669.74),\n",
       " (677.19, 677.915),\n",
       " (678.91, 679.89),\n",
       " (680.4, 681.3050000000001),\n",
       " (683.02, 683.0550000000001),\n",
       " (683.085, 683.325),\n",
       " (688.26, 689.25),\n",
       " (690.445, 690.64),\n",
       " (690.7, 690.745),\n",
       " (690.825, 690.855),\n",
       " (690.9, 690.915),\n",
       " (694.9350000000001, 695.145),\n",
       " (696.79, 698.36),\n",
       " (699.48, 700.605),\n",
       " (707.815, 708.795),\n",
       " (713.95, 715.065),\n",
       " (721.69, 722.5500000000001),\n",
       " (729.325, 730.19),\n",
       " (731.33, 732.015),\n",
       " (733.32, 733.79),\n",
       " (734.59, 735.36),\n",
       " (738.755, 739.395),\n",
       " (745.015, 745.3050000000001),\n",
       " (748.24, 749.355),\n",
       " (752.53, 753.035),\n",
       " (765.25, 766.215),\n",
       " (767.07, 769.095),\n",
       " (780.6850000000001, 781.07),\n",
       " (782.5500000000001, 783.005),\n",
       " (783.895, 784.995),\n",
       " (785.6800000000001, 786.5500000000001),\n",
       " (787.365, 788.385),\n",
       " (788.97, 789.6750000000001),\n",
       " (790.975, 792.13),\n",
       " (792.46, 793.79),\n",
       " (794.575, 795.24),\n",
       " (796.755, 797.995),\n",
       " (811.005, 811.0450000000001),\n",
       " (812.495, 813.015),\n",
       " (813.915, 815.62),\n",
       " (818.335, 818.775),\n",
       " (822.075, 822.77),\n",
       " (823.98, 825.29),\n",
       " (826.52, 826.895),\n",
       " (828.3000000000001, 829.09),\n",
       " (829.135, 829.165),\n",
       " (829.2, 829.245),\n",
       " (829.535, 831.0600000000001),\n",
       " (831.6750000000001, 831.7950000000001),\n",
       " (833.345, 834.335),\n",
       " (837.0, 838.01),\n",
       " (840.71, 841.4300000000001),\n",
       " (841.485, 841.505),\n",
       " (846.325, 846.85),\n",
       " (850.165, 850.4),\n",
       " (851.9300000000001, 853.035),\n",
       " (854.345, 856.895),\n",
       " (858.025, 859.38),\n",
       " (862.62, 863.79),\n",
       " (865.0600000000001, 865.59),\n",
       " (868.85, 869.4300000000001),\n",
       " (874.96, 875.9200000000001),\n",
       " (876.9, 877.915),\n",
       " (879.875, 879.9350000000001),\n",
       " (881.575, 883.775),\n",
       " (885.59, 886.36),\n",
       " (887.165, 888.1750000000001),\n",
       " (888.86, 890.215),\n",
       " (890.74, 891.725),\n",
       " (893.39, 894.165),\n",
       " (895.8100000000001, 896.165),\n",
       " (899.61, 900.0450000000001),\n",
       " (901.075, 901.215),\n",
       " (901.27, 901.45),\n",
       " (905.94, 906.955),\n",
       " (909.455, 909.87),\n",
       " (911.145, 911.37),\n",
       " (915.8000000000001, 916.4350000000001),\n",
       " (917.915, 919.0),\n",
       " (922.095, 922.325),\n",
       " (924.0, 924.485),\n",
       " (926.735, 927.6700000000001),\n",
       " (940.35, 940.5450000000001),\n",
       " (940.595, 940.6),\n",
       " (944.575, 944.66),\n",
       " (944.69, 944.71),\n",
       " (946.915, 947.2950000000001),\n",
       " (947.625, 950.035),\n",
       " (951.33, 951.77),\n",
       " (952.84, 953.63),\n",
       " (957.095, 959.73),\n",
       " (962.715, 963.035),\n",
       " (965.135, 965.66),\n",
       " (969.405, 969.9200000000001),\n",
       " (976.275, 977.4200000000001),\n",
       " (977.4350000000001, 977.475),\n",
       " (981.61, 982.405),\n",
       " (982.83, 983.48),\n",
       " (983.5, 983.705),\n",
       " (984.5550000000001, 986.465),\n",
       " (997.99, 999.02),\n",
       " (1001.775, 1002.385),\n",
       " (1003.035, 1003.84),\n",
       " (1005.365, 1006.515),\n",
       " (1007.945, 1008.25),\n",
       " (1011.2950000000001, 1012.25),\n",
       " (1015.38, 1015.695),\n",
       " (1015.715, 1015.74),\n",
       " (1016.105, 1016.5600000000001),\n",
       " (1019.8100000000001, 1021.445),\n",
       " (1022.27, 1022.585),\n",
       " (1028.925, 1029.515),\n",
       " (1031.055, 1031.4950000000001),\n",
       " (1043.205, 1043.79),\n",
       " (1047.84, 1048.9),\n",
       " (1051.28, 1052.135),\n",
       " (1074.335, 1075.92),\n",
       " (1079.035, 1080.155),\n",
       " (1080.22, 1080.9),\n",
       " (1083.16, 1084.105),\n",
       " (1090.125, 1090.405),\n",
       " (1091.7, 1092.98),\n",
       " (1098.15, 1098.56),\n",
       " (1116.265, 1116.8500000000001),\n",
       " (1123.68, 1125.925),\n",
       " (1133.49, 1134.2350000000001),\n",
       " (1136.595, 1137.2350000000001),\n",
       " (1140.56, 1141.855),\n",
       " (1150.655, 1151.815),\n",
       " (1154.8, 1155.415),\n",
       " (1159.785, 1160.45),\n",
       " (1169.58, 1170.925),\n",
       " (1174.185, 1174.2350000000001),\n",
       " (1174.52, 1174.63),\n",
       " (1175.765, 1176.99),\n",
       " (1177.51, 1177.925),\n",
       " (1186.22, 1187.26),\n",
       " (1191.38, 1191.6000000000001),\n",
       " (1196.305, 1197.29),\n",
       " (1215.655, 1216.58),\n",
       " (1224.2450000000001, 1224.29),\n",
       " (1224.315, 1225.33),\n",
       " (1230.22, 1230.3),\n",
       " (1237.31, 1237.795),\n",
       " (1244.9850000000001, 1245.0),\n",
       " (1245.045, 1245.06),\n",
       " (1245.53, 1245.885),\n",
       " (1271.155, 1271.705),\n",
       " (1274.38, 1274.55),\n",
       " (1277.75, 1278.3600000000001),\n",
       " (1288.435, 1289.49),\n",
       " (1298.8500000000001, 1299.005),\n",
       " (1316.03, 1316.15),\n",
       " (1338.385, 1338.72),\n",
       " (1341.8500000000001, 1342.715),\n",
       " (1362.125, 1363.825),\n",
       " (1373.33, 1374.4950000000001),\n",
       " (1388.93, 1389.825),\n",
       " (1402.905, 1402.9950000000001),\n",
       " (1410.43, 1411.825),\n",
       " (1424.67, 1425.2),\n",
       " (1430.055, 1430.68),\n",
       " (1431.26, 1431.97),\n",
       " (1438.23, 1438.27),\n",
       " (1448.945, 1449.815),\n",
       " (1452.515, 1453.66),\n",
       " (1464.3600000000001, 1465.8600000000001),\n",
       " (1474.4, 1475.09),\n",
       " (1483.415, 1483.55),\n",
       " (1483.67, 1485.69),\n",
       " (1485.8600000000001, 1486.065),\n",
       " (1486.365, 1486.98),\n",
       " (1494.13, 1495.385),\n",
       " (1507.855, 1508.595),\n",
       " (1518.39, 1519.215),\n",
       " (1524.915, 1525.665),\n",
       " (1535.935, 1537.15),\n",
       " (1539.44, 1539.885),\n",
       " (1539.915, 1539.955),\n",
       " (1542.075, 1542.75),\n",
       " (1598.66, 1599.415),\n",
       " (1654.2450000000001, 1654.555),\n",
       " (1654.575, 1654.615),\n",
       " (1654.68, 1654.9650000000001),\n",
       " (1680.26, 1680.38),\n",
       " (1688.645, 1689.415),\n",
       " (1693.14, 1693.365),\n",
       " (1704.03, 1704.075),\n",
       " (1704.095, 1704.515),\n",
       " (1739.6000000000001, 1740.53),\n",
       " (1773.7150000000001, 1775.195),\n",
       " (1784.3400000000001, 1784.395),\n",
       " (1784.405, 1784.54),\n",
       " (1784.83, 1784.925),\n",
       " (1794.17, 1794.89)]"
      ]
     },
     "execution_count": 117,
     "metadata": {},
     "output_type": "execute_result"
    }
   ],
   "source": [
    "network_bursts_seconds"
   ]
  },
  {
   "cell_type": "code",
   "execution_count": 116,
   "id": "86895aa8-9a1e-40e1-869f-b4f61db16c2e",
   "metadata": {},
   "outputs": [
    {
     "data": {
      "text/plain": [
       "1797.45292"
      ]
     },
     "execution_count": 116,
     "metadata": {},
     "output_type": "execute_result"
    }
   ],
   "source": [
    "max(Bursts['R12'])[0]*1e-06"
   ]
  },
  {
   "cell_type": "code",
   "execution_count": 17,
   "id": "853c5a3c-ae9c-4cbb-b585-83d02d11080c",
   "metadata": {
    "tags": []
   },
   "outputs": [
    {
     "data": {
      "text/plain": [
       "{'layer2-3': 19.812353846153844,\n",
       " 'layer4': 42.31023111111111,\n",
       " 'layer5-6': 175.88864607594937,\n",
       " 'whitematter': 4.073313142857143}"
      ]
     },
     "execution_count": 17,
     "metadata": {},
     "output_type": "execute_result"
    }
   ],
   "source": [
    "burst_time_per_channel_mean_layer"
   ]
  },
  {
   "cell_type": "markdown",
   "id": "a0183ff9-70ab-462f-91af-138db18f7512",
   "metadata": {},
   "source": [
    "## We first need to find all possibe MAIN_RECORDING_DICTIONARIES."
   ]
  },
  {
   "cell_type": "markdown",
   "id": "01d40624-7e6d-4882-8534-6215ecd62b7f",
   "metadata": {},
   "source": [
    "### Iterate through all channels and find the MAIN Recoding Dics.\n",
    "\n"
   ]
  },
  {
   "cell_type": "code",
   "execution_count": 18,
   "id": "3cfb472c-b7f5-4cf3-8beb-bf51989cada5",
   "metadata": {},
   "outputs": [],
   "source": [
    "folderlist = glob.glob('*MAIN_RECORDING_Dictionary_*.pkl')"
   ]
  },
  {
   "cell_type": "code",
   "execution_count": 19,
   "id": "4c390d0c-2ba1-4559-91bc-1ab06caac8b9",
   "metadata": {},
   "outputs": [
    {
     "data": {
      "text/plain": [
       "['MAIN_RECORDING_Dictionary_01_HCx_GFP_B_aCSF_base.pkl']"
      ]
     },
     "execution_count": 19,
     "metadata": {},
     "output_type": "execute_result"
    }
   ],
   "source": [
    "folderlist\n"
   ]
  },
  {
   "cell_type": "code",
   "execution_count": 21,
   "id": "0247f346-8015-4f2a-a2b8-7eb3d9ceb46a",
   "metadata": {},
   "outputs": [],
   "source": [
    "isi_dictionary = MAIN_RECORDING_DICTIONARY['isi_dictionary']\n",
    "fr_dic = MAIN_RECORDING_DICTIONARY['fr_dic']\n"
   ]
  },
  {
   "cell_type": "code",
   "execution_count": 22,
   "id": "9232ced8-8370-488e-b831-d9751cf9ec75",
   "metadata": {},
   "outputs": [],
   "source": [
    "Infos_antomy = MAIN_RECORDING_DICTIONARY['Infos_Anatomy']\n"
   ]
  },
  {
   "cell_type": "code",
   "execution_count": 57,
   "id": "fccf2a95-9861-4c36-bd19-115d8ea773e1",
   "metadata": {},
   "outputs": [],
   "source": [
    "inverted_layerdic = Infos_antomy['layerdic_invert']\n",
    "layerdic = Infos_antomy['layerdic']\n"
   ]
  },
  {
   "cell_type": "code",
   "execution_count": 147,
   "id": "aec8edcd-6907-4b95-aee9-1230399b9391",
   "metadata": {},
   "outputs": [],
   "source": [
    "def get_values_per_layer(input_dic, inverted_layerdic, layerdic):\n",
    "    \n",
    "    value_per_layer_dic = {}\n",
    "    interims_dic = {}\n",
    "    \n",
    "    \n",
    "    for key in input_dic:\n",
    "        try:\n",
    "            \n",
    "            corresponding_layer = inverted_layerdic[key]\n",
    "            interims_dic[key] = (input_dic[key], corresponding_layer)\n",
    "        except:\n",
    "            print('Channel Missing')\n",
    "            \n",
    "    for key in layerdic:\n",
    "        \n",
    "        \n",
    "        layerlist = []\n",
    "        for key2 in interims_dic:\n",
    "            if interims_dic[key2][1] == key:\n",
    "                layerlist.append(interims_dic[key2][0])\n",
    "                \n",
    "        layerlist = [j for i in layerlist for j in i]\n",
    "        \n",
    "        if len(layerlist) == 0:\n",
    "            pass\n",
    "        else:\n",
    "            layer_array = np.asarray(layerlist)\n",
    "            value_per_layer_dic[key] = layer_array\n",
    "        \n",
    "    return value_per_layer_dic\n",
    "                \n",
    "\n",
    "\n",
    "    \n"
   ]
  },
  {
   "cell_type": "code",
   "execution_count": 148,
   "id": "d6253c2d-92fd-4a4f-85a5-79319c3142c0",
   "metadata": {},
   "outputs": [
    {
     "name": "stdout",
     "output_type": "stream",
     "text": [
      "Channel Missing\n",
      "Channel Missing\n"
     ]
    }
   ],
   "source": [
    "d = get_values_per_layer(isi_dictionary, inverted_layerdic, layerdic)"
   ]
  },
  {
   "cell_type": "code",
   "execution_count": 149,
   "id": "9b843493-1c42-48f7-8b15-66743a6b8832",
   "metadata": {},
   "outputs": [],
   "source": [
    "# make dictionary into two array like objects for ploting\n",
    "\n",
    "data = []\n",
    "lables = []\n",
    "\n",
    "for key, value in d.items():\n",
    "    \n",
    "    \n",
    "    data.append(value)\n",
    "    lables.append(key)"
   ]
  },
  {
   "cell_type": "code",
   "execution_count": 152,
   "id": "eb5b85be-6b43-4e3d-a7ce-57314c2e1675",
   "metadata": {
    "tags": []
   },
   "outputs": [
    {
     "data": {
      "text/plain": [
       "{'layer2-3': array([2373.6 , 2524.6 , 1518.4 , ...,  551.52,   14.56, 4268.88]),\n",
       " 'layer4': array([1.2200000e+01, 1.2720000e+01, 1.5320000e+01, ..., 1.5626272e+05,\n",
       "        1.0281464e+05, 3.7527080e+04]),\n",
       " 'layer5-6': array([20.079999999999984, 25.32000000000002, 402.67999999999995, ...,\n",
       "        45.11999999987893, 2.480000000214204, 46.76000000000931],\n",
       "       dtype=object),\n",
       " 'whitematter': array([ 12116.56,  10249.36,  21967.32, ..., 101710.76,  60686.72,\n",
       "         39763.4 ])}"
      ]
     },
     "execution_count": 152,
     "metadata": {},
     "output_type": "execute_result"
    }
   ],
   "source": [
    "d"
   ]
  },
  {
   "cell_type": "code",
   "execution_count": 144,
   "id": "22b571ed-70ba-41f2-b060-e109db08ba68",
   "metadata": {},
   "outputs": [
    {
     "data": {
      "text/plain": [
       "[array([], dtype=float64),\n",
       " array([2373.6 , 2524.6 , 1518.4 , ...,  551.52,   14.56, 4268.88]),\n",
       " array([1.2200000e+01, 1.2720000e+01, 1.5320000e+01, ..., 1.5626272e+05,\n",
       "        1.0281464e+05, 3.7527080e+04]),\n",
       " array([20.079999999999984, 25.32000000000002, 402.67999999999995, ...,\n",
       "        45.11999999987893, 2.480000000214204, 46.76000000000931],\n",
       "       dtype=object),\n",
       " array([ 12116.56,  10249.36,  21967.32, ..., 101710.76,  60686.72,\n",
       "         39763.4 ])]"
      ]
     },
     "execution_count": 144,
     "metadata": {},
     "output_type": "execute_result"
    }
   ],
   "source": [
    "data"
   ]
  },
  {
   "cell_type": "code",
   "execution_count": 135,
   "id": "866be4da-3891-4a4e-b1ab-36a3756f69cf",
   "metadata": {
    "tags": []
   },
   "outputs": [
    {
     "data": {
      "text/plain": [
       "5"
      ]
     },
     "execution_count": 135,
     "metadata": {},
     "output_type": "execute_result"
    }
   ],
   "source": [
    "len(data)"
   ]
  },
  {
   "cell_type": "code",
   "execution_count": 114,
   "id": "1fb42be7-b87b-4b7a-ba0e-8dbb54a60f8f",
   "metadata": {},
   "outputs": [],
   "source": [
    "dd = [j for i in data for j in i]\n",
    "\n"
   ]
  },
  {
   "cell_type": "code",
   "execution_count": 115,
   "id": "774e125c-4f15-4555-8a10-b41e01a9d720",
   "metadata": {},
   "outputs": [
    {
     "data": {
      "text/plain": [
       "250"
      ]
     },
     "execution_count": 115,
     "metadata": {},
     "output_type": "execute_result"
    }
   ],
   "source": [
    "len(dd)"
   ]
  },
  {
   "cell_type": "code",
   "execution_count": 1,
   "id": "d8709185-d7e3-466e-90ea-33785a39257d",
   "metadata": {},
   "outputs": [
    {
     "data": {
      "text/plain": [
       "<Figure size 360x720 with 0 Axes>"
      ]
     },
     "metadata": {},
     "output_type": "display_data"
    },
    {
     "data": {
      "image/png": "[encoded data removed]",
      "text/plain": [
       "<Figure size 600x400 with 5 Axes>"
      ]
     },
     "metadata": {
      "needs_background": "light"
     },
     "output_type": "display_data"
    }
   ],
   "source": [
    "from sklearn.model_selection import train_test_split\n",
    "from sktime.clustering import TimeSeriesKMeans\n",
    "from sktime.clustering.evaluation._plot_clustering import plot_cluster_algorithm\n",
    "from sktime.datasets import load_arrow_head\n",
    "\n",
    "X, y = load_arrow_head(return_X_y=True)\n",
    "X_train, X_test, y_train, y_test = train_test_split(X, y)\n",
    "\n",
    "k_means = TimeSeriesKMeans(n_clusters=5, init_algorithm=\"forgy\", metric=\"dtw\")\n",
    "k_means.fit(X_train)\n",
    "plot_cluster_algorithm(k_means, X_test, k_means.n_clusters)"
   ]
  },
  {
   "cell_type": "code",
   "execution_count": 7,
   "id": "ac1d6034-e9c5-42a4-a99a-2465e2d6cee1",
   "metadata": {
    "tags": []
   },
   "outputs": [
    {
     "data": {
      "text/plain": [
       "158"
      ]
     },
     "execution_count": 7,
     "metadata": {},
     "output_type": "execute_result"
    }
   ],
   "source": [
    "len(X_train)"
   ]
  },
  {
   "cell_type": "code",
   "execution_count": 10,
   "id": "d7a8c93b-6baf-4a92-a954-e1d2fd8bde91",
   "metadata": {},
   "outputs": [
    {
     "data": {
      "text/plain": [
       "5"
      ]
     },
     "execution_count": 10,
     "metadata": {},
     "output_type": "execute_result"
    }
   ],
   "source": [
    "k_means.n_clusters"
   ]
  },
  {
   "cell_type": "code",
   "execution_count": null,
   "id": "b755f95b-9156-4876-8aee-d7893f4133f3",
   "metadata": {},
   "outputs": [],
   "source": []
  }
 ],
 "metadata": {
  "kernelspec": {
   "display_name": "Python 3",
   "language": "python",
   "name": "python3"
  },
  "language_info": {
   "codemirror_mode": {
    "name": "ipython",
    "version": 3
   },
   "file_extension": ".py",
   "mimetype": "text/x-python",
   "name": "python",
   "nbconvert_exporter": "python",
   "pygments_lexer": "ipython3",
   "version": "3.8.3"
  }
 },
 "nbformat": 4,
 "nbformat_minor": 5
}
