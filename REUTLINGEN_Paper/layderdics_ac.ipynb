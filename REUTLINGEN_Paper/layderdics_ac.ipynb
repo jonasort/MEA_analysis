{
 "cells": [
  {
   "cell_type": "code",
   "execution_count": 6,
   "id": "c8e1e2ef",
   "metadata": {},
   "outputs": [],
   "source": [
    "# ID034\n",
    "layerdic = {'layer1':[], \n",
    "\n",
    "            'layer2-3': ['A9', 'A10', 'A11', 'A12', 'A13', 'A14', 'A15', 'B9', 'B10', 'B11', 'B12', 'B13', 'B14', 'B15',\n",
    "                        'B16', 'C10', 'C11', 'C12', 'C13', 'C14', 'C15', 'C16',  'D11', 'D12', 'D13', 'D14', 'D15', 'D16',\n",
    "                        'E12', 'E13', 'E14', 'E15', 'E16', 'F13', 'F14', 'F15', 'F16', 'G13', 'G14', 'G15', 'G16', 'H14',\n",
    "                        'H15', 'H16', 'J15', 'J16', 'K16'],\n",
    "\n",
    "           'layer4':    ['A8', 'B7', 'B8', 'C8', 'C9', 'D8', 'D9', 'D10', 'E9', 'E10', 'E11', 'F10', 'F11', 'F12',\n",
    "                        'G11', 'G12', 'H12', 'H13', 'J12', 'J13', 'J14', 'K13', 'K14', 'K15', 'L14', 'L15', 'L16', 'M16',\n",
    "                        'M16', 'N16'],\n",
    "\n",
    "\n",
    "           'layer5-6':  ['B2', 'B3', 'B4', 'B5', 'B6', 'C2', 'C3', 'C4', 'C5', 'C6', 'C7',\n",
    "                        'D3', 'D4', 'D5', 'D6', 'D7', 'E3', 'E4', 'E5', 'E6', 'E7', 'E8', 'F4', 'F5', 'F6', 'F7', 'F8', 'F9',\n",
    "                        'G5', 'G6', 'G7', 'G8', 'G9', 'G10', 'H5', 'H6', 'H7', 'H8', 'H9', 'H10', 'H11', 'J6', 'J7', \n",
    "                        'J8', 'J9', 'J10', 'J11',  'K6', 'K7', 'K8', 'K9', 'K10', 'K11', 'K12',  'L7', 'L8', 'L9', 'L10', \n",
    "                        'L11', 'L12', 'L13', 'M8', 'M9', 'M10', 'M11', 'M12', 'M13', 'M14',  'N8', 'N9', 'N10', 'N11', \n",
    "                        'N12', 'N13', 'N14', 'N15',  'O8', 'O9', 'O10', 'O11', 'O12', 'O13', 'O14', 'O15', 'O16', \n",
    "                        'P9', 'P10', 'P11', 'P12', 'P13', 'P14', 'P15', 'P16', 'R9', 'R10', 'R11', 'R12', 'R13', \n",
    "                        'R14', 'R15', 'R16'\n",
    "                        ],\n",
    "\n",
    "           'whitematter':['B1', 'C1', 'D1', 'D2', 'E1', 'E2', 'F1', 'F2', 'F3', 'G1', 'G2', 'G3', 'G4', 'H1', 'H2', 'H3', 'H4',\n",
    "                         'J1', 'J2', 'J3', 'J4', 'J5', 'K1', 'K2', 'K3', 'K4', 'K5', 'L1', 'L2', 'L3', 'L4', 'L5', 'L6', 'L1', \n",
    "                         'L2', 'L3', 'L4', 'L5', 'L6', 'M7', 'N2', 'N3', 'N4', 'N5', 'N6', 'N7', 'O2', 'O3', 'O4', 'O5', 'O6', \n",
    "                         'O7',  'P2', 'P3', 'P4', 'P5', 'P6', 'P7', 'R2', 'R3', 'R4', 'R5', 'R6', 'R7', 'R8' ],\n",
    "\n",
    "           'nan':['A2', 'A3', 'A4', 'A5', 'A6', 'A7', 'N1', 'O1', 'P1']}"
   ]
  },
  {
   "cell_type": "code",
   "execution_count": 7,
   "id": "0bae5eaa",
   "metadata": {},
   "outputs": [
    {
     "data": {
      "text/plain": [
       "('R2', 'R3', 'R4', 'R5', 'R6', 'R7', 'R8')"
      ]
     },
     "execution_count": 7,
     "metadata": {},
     "output_type": "execute_result"
    }
   ],
   "source": [
    "'R2', 'R3', 'R4', 'R5', 'R6', 'R7', 'R8'"
   ]
  },
  {
   "cell_type": "code",
   "execution_count": null,
   "id": "095f11e4",
   "metadata": {},
   "outputs": [],
   "source": []
  },
  {
   "cell_type": "code",
   "execution_count": null,
   "id": "6d0b2169",
   "metadata": {},
   "outputs": [],
   "source": []
  },
  {
   "cell_type": "code",
   "execution_count": null,
   "id": "b4729e21",
   "metadata": {},
   "outputs": [],
   "source": []
  },
  {
   "cell_type": "code",
   "execution_count": null,
   "id": "12b863eb",
   "metadata": {},
   "outputs": [],
   "source": []
  },
  {
   "cell_type": "code",
   "execution_count": null,
   "id": "a855cf57",
   "metadata": {},
   "outputs": [],
   "source": []
  },
  {
   "cell_type": "code",
   "execution_count": null,
   "id": "22c65d14",
   "metadata": {},
   "outputs": [],
   "source": []
  },
  {
   "cell_type": "code",
   "execution_count": 8,
   "id": "f41a0e43",
   "metadata": {},
   "outputs": [
    {
     "name": "stdout",
     "output_type": "stream",
     "text": [
      "252\n"
     ]
    }
   ],
   "source": [
    "# this line checks if the number of values is correct\n",
    "\n",
    "print(sum([len(layerdic[x]) for x in layerdic if isinstance(layerdic[x], list)]))"
   ]
  },
  {
   "cell_type": "code",
   "execution_count": null,
   "id": "44e15c27",
   "metadata": {},
   "outputs": [],
   "source": [
    "def invert_layerdic(layer_dic):\n",
    "    \n",
    "    '''\n",
    "    Expects a dictionary with key = layer, value = list of channellabels\n",
    "    \n",
    "    Returns a dictionary with key = channellabels, value = layer\n",
    "    '''\n",
    "    layerdic_invert = {}\n",
    "\n",
    "    for key in layerdic:\n",
    "        for i in layerdic[key]:\n",
    "            layerdic_invert[i]=key\n",
    "            \n",
    "            \n",
    "    return layerdic_invert"
   ]
  }
 ],
 "metadata": {
  "kernelspec": {
   "display_name": "Python 3",
   "language": "python",
   "name": "python3"
  },
  "language_info": {
   "codemirror_mode": {
    "name": "ipython",
    "version": 3
   },
   "file_extension": ".py",
   "mimetype": "text/x-python",
   "name": "python",
   "nbconvert_exporter": "python",
   "pygments_lexer": "ipython3",
   "version": "3.8.3"
  }
 },
 "nbformat": 4,
 "nbformat_minor": 5
}
