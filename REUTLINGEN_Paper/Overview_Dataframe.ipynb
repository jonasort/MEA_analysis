{
 "cells": [
  {
   "cell_type": "code",
   "execution_count": 1,
   "id": "12cc8444",
   "metadata": {},
   "outputs": [],
   "source": [
    "import os\n",
    "import pandas as pd\n",
    "import numpy as np"
   ]
  },
  {
   "cell_type": "code",
   "execution_count": 2,
   "id": "65078927",
   "metadata": {},
   "outputs": [],
   "source": [
    "overview_df = pd.DataFrame(columns=['filename', 'loc', 'recording_date', 'id', 'medium', 'drug', \n",
    "                   'stimulation', 'length', 'network_activity', 'active_channels', 'average_fr',\n",
    "                  'average_ISI', 'bursting_channels', 'average_IBI', 'fr_1', 'fr_2-3', 'fr_4', 'fr_5-6', 'bursting_rate_1', \n",
    "                    'bursting_rate_2-3', 'bursting_rate_4', 'bursting_rate_5-6'])"
   ]
  },
  {
   "cell_type": "code",
   "execution_count": 3,
   "id": "76c92873",
   "metadata": {},
   "outputs": [
    {
     "data": {
      "text/html": [
       "<div>\n",
       "<style scoped>\n",
       "    .dataframe tbody tr th:only-of-type {\n",
       "        vertical-align: middle;\n",
       "    }\n",
       "\n",
       "    .dataframe tbody tr th {\n",
       "        vertical-align: top;\n",
       "    }\n",
       "\n",
       "    .dataframe thead th {\n",
       "        text-align: right;\n",
       "    }\n",
       "</style>\n",
       "<table border=\"1\" class=\"dataframe\">\n",
       "  <thead>\n",
       "    <tr style=\"text-align: right;\">\n",
       "      <th></th>\n",
       "      <th>filename</th>\n",
       "      <th>loc</th>\n",
       "      <th>recording_date</th>\n",
       "      <th>id</th>\n",
       "      <th>medium</th>\n",
       "      <th>drug</th>\n",
       "      <th>stimulation</th>\n",
       "      <th>length</th>\n",
       "      <th>network_activity</th>\n",
       "      <th>active_channels</th>\n",
       "      <th>...</th>\n",
       "      <th>bursting_channels</th>\n",
       "      <th>average_IBI</th>\n",
       "      <th>fr_1</th>\n",
       "      <th>fr_2-3</th>\n",
       "      <th>fr_4</th>\n",
       "      <th>fr_5-6</th>\n",
       "      <th>bursting_rate_1</th>\n",
       "      <th>bursting_rate_2-3</th>\n",
       "      <th>bursting_rate_4</th>\n",
       "      <th>bursting_rate_5-6</th>\n",
       "    </tr>\n",
       "  </thead>\n",
       "  <tbody>\n",
       "  </tbody>\n",
       "</table>\n",
       "<p>0 rows × 22 columns</p>\n",
       "</div>"
      ],
      "text/plain": [
       "Empty DataFrame\n",
       "Columns: [filename, loc, recording_date, id, medium, drug, stimulation, length, network_activity, active_channels, average_fr, average_ISI, bursting_channels, average_IBI, fr_1, fr_2-3, fr_4, fr_5-6, bursting_rate_1, bursting_rate_2-3, bursting_rate_4, bursting_rate_5-6]\n",
       "Index: []\n",
       "\n",
       "[0 rows x 22 columns]"
      ]
     },
     "execution_count": 3,
     "metadata": {},
     "output_type": "execute_result"
    }
   ],
   "source": [
    "overview_df"
   ]
  },
  {
   "cell_type": "code",
   "execution_count": 9,
   "id": "6b0dbf92",
   "metadata": {},
   "outputs": [],
   "source": [
    "overview_df.loc['test']['filename']=2"
   ]
  },
  {
   "cell_type": "code",
   "execution_count": 14,
   "id": "9e551ef0",
   "metadata": {},
   "outputs": [],
   "source": [
    "np.save('overview_dataframe.npy', overview_df)"
   ]
  },
  {
   "cell_type": "code",
   "execution_count": 13,
   "id": "dc52efec",
   "metadata": {},
   "outputs": [
    {
     "data": {
      "text/plain": [
       "'C:\\\\Users\\\\User\\\\Documents\\\\JO\\\\gitkraken\\\\MEA_analysis\\\\REUTLINGEN_Paper'"
      ]
     },
     "execution_count": 13,
     "metadata": {},
     "output_type": "execute_result"
    }
   ],
   "source": [
    "os.getcwd()"
   ]
  },
  {
   "cell_type": "code",
   "execution_count": 12,
   "id": "77c6cef5",
   "metadata": {},
   "outputs": [
    {
     "data": {
      "text/html": [
       "<div>\n",
       "<style scoped>\n",
       "    .dataframe tbody tr th:only-of-type {\n",
       "        vertical-align: middle;\n",
       "    }\n",
       "\n",
       "    .dataframe tbody tr th {\n",
       "        vertical-align: top;\n",
       "    }\n",
       "\n",
       "    .dataframe thead th {\n",
       "        text-align: right;\n",
       "    }\n",
       "</style>\n",
       "<table border=\"1\" class=\"dataframe\">\n",
       "  <thead>\n",
       "    <tr style=\"text-align: right;\">\n",
       "      <th></th>\n",
       "      <th>filename</th>\n",
       "      <th>loc</th>\n",
       "      <th>recording_date</th>\n",
       "      <th>id</th>\n",
       "      <th>medium</th>\n",
       "      <th>drug</th>\n",
       "      <th>stimulation</th>\n",
       "      <th>length</th>\n",
       "      <th>network_activity</th>\n",
       "      <th>active_channels</th>\n",
       "      <th>...</th>\n",
       "      <th>bursting_channels</th>\n",
       "      <th>average_IBI</th>\n",
       "      <th>fr_1</th>\n",
       "      <th>fr_2-3</th>\n",
       "      <th>fr_4</th>\n",
       "      <th>fr_5-6</th>\n",
       "      <th>bursting_rate_1</th>\n",
       "      <th>bursting_rate_2-3</th>\n",
       "      <th>bursting_rate_4</th>\n",
       "      <th>bursting_rate_5-6</th>\n",
       "    </tr>\n",
       "  </thead>\n",
       "  <tbody>\n",
       "    <tr>\n",
       "      <th>test</th>\n",
       "      <td>2</td>\n",
       "      <td>1</td>\n",
       "      <td>1</td>\n",
       "      <td>1</td>\n",
       "      <td>1</td>\n",
       "      <td>1</td>\n",
       "      <td>1</td>\n",
       "      <td>1</td>\n",
       "      <td>1</td>\n",
       "      <td>1</td>\n",
       "      <td>...</td>\n",
       "      <td>1</td>\n",
       "      <td>1</td>\n",
       "      <td>1</td>\n",
       "      <td>1</td>\n",
       "      <td>1</td>\n",
       "      <td>1</td>\n",
       "      <td>1</td>\n",
       "      <td>1</td>\n",
       "      <td>1</td>\n",
       "      <td>1</td>\n",
       "    </tr>\n",
       "  </tbody>\n",
       "</table>\n",
       "<p>1 rows × 22 columns</p>\n",
       "</div>"
      ],
      "text/plain": [
       "     filename loc recording_date id medium drug stimulation length  \\\n",
       "test        2   1              1  1      1    1           1      1   \n",
       "\n",
       "     network_activity active_channels  ... bursting_channels average_IBI fr_1  \\\n",
       "test                1               1  ...                 1           1    1   \n",
       "\n",
       "     fr_2-3 fr_4 fr_5-6 bursting_rate_1 bursting_rate_2-3 bursting_rate_4  \\\n",
       "test      1    1      1               1                 1               1   \n",
       "\n",
       "     bursting_rate_5-6  \n",
       "test                 1  \n",
       "\n",
       "[1 rows x 22 columns]"
      ]
     },
     "execution_count": 12,
     "metadata": {},
     "output_type": "execute_result"
    }
   ],
   "source": [
    "overview_df"
   ]
  },
  {
   "cell_type": "code",
   "execution_count": 17,
   "id": "d0ac7a37",
   "metadata": {},
   "outputs": [],
   "source": [
    "overview_df.to_excel('overview_df2.xlsx')"
   ]
  },
  {
   "cell_type": "code",
   "execution_count": null,
   "id": "c1c01bbe",
   "metadata": {},
   "outputs": [],
   "source": []
  }
 ],
 "metadata": {
  "kernelspec": {
   "display_name": "Python 3",
   "language": "python",
   "name": "python3"
  },
  "language_info": {
   "codemirror_mode": {
    "name": "ipython",
    "version": 3
   },
   "file_extension": ".py",
   "mimetype": "text/x-python",
   "name": "python",
   "nbconvert_exporter": "python",
   "pygments_lexer": "ipython3",
   "version": "3.8.3"
  }
 },
 "nbformat": 4,
 "nbformat_minor": 5
}
