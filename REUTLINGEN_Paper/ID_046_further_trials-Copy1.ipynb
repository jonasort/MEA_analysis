{
 "cells": [
  {
   "cell_type": "code",
   "execution_count": 1,
   "id": "d9839cac",
   "metadata": {},
   "outputs": [],
   "source": [
    "scriptdirectory = r\"C:/Users/User/Documents/JO/gitkraken/MEA_analysis/Tübingen_Branch\"\n",
    "\n",
    "output_directory = r\"D:\\MEA_DATA_Aachen\\ANALYZED\\ID046_analysiert_22102021\\analysis_26102021\"\n",
    "filename = \"2021-05-17_cortex_div11_aCSF_ID046_30µMNorepinephrine_spont_1\"\n",
    "\n",
    "temp_dir = r\"D:\\MEA_DATA_Aachen\\ANALYZED\\ID046_analysiert_22102021\\2021-05-17_cortex_div11_aCSF_ID046_30µMNorepinephrine_spont_1_from_0_to_120_analyzed_on_26102021\""
   ]
  },
  {
   "cell_type": "code",
   "execution_count": 78,
   "id": "0a2a8755",
   "metadata": {},
   "outputs": [],
   "source": [
    "import os\n",
    "os.chdir(scriptdirectory)"
   ]
  },
  {
   "cell_type": "code",
   "execution_count": 79,
   "id": "c28f5dc3",
   "metadata": {},
   "outputs": [],
   "source": [
    "import sys\n",
    "import numpy as np\n",
    "import pandas as pd\n",
    "import importlib\n",
    "\n",
    "import McsPy\n",
    "import McsPy.McsData\n",
    "import McsPy.McsCMOS\n",
    "from McsPy import ureg, Q_\n",
    "\n",
    "import matplotlib.pyplot as plt\n",
    "import matplotlib.gridspec as gridspec\n",
    "\n",
    "from scipy.signal import butter, lfilter, freqz, find_peaks, correlate, gaussian, filtfilt\n",
    "from scipy import stats\n",
    "from scipy import signal\n",
    "\n",
    "from sklearn.mixture import GaussianMixture\n",
    "from sklearn.decomposition import PCA\n",
    "from sklearn.preprocessing import StandardScaler\n",
    "\n",
    "from Butterworth_Filter import butter_bandpass, butter_bandpass_filter\n",
    "\n",
    "import glob\n",
    "from plot_signal_and_spikes import plot_signal_and_spikes_from_bandpassfilteredsignal\n",
    "import time\n",
    "\n",
    "from neo.core import AnalogSignal\n",
    "import quantities as pq\n",
    "\n",
    "from elephant.spectral import welch_psd\n",
    "from elephant.current_source_density import estimate_csd\n",
    "import pickle\n",
    "\n",
    "%matplotlib notebook"
   ]
  },
  {
   "cell_type": "code",
   "execution_count": 80,
   "id": "380d8ff1-aa8d-438a-9ec0-2899dd16b263",
   "metadata": {},
   "outputs": [],
   "source": [
    "os.chdir(output_directory)"
   ]
  },
  {
   "cell_type": "code",
   "execution_count": 81,
   "id": "bc9b787b",
   "metadata": {},
   "outputs": [],
   "source": [
    "MAIN_RECORDING_DICTIONARY = pickle.load(open(os.path.join(output_directory+'\\\\MAIN_RECORDING_Dictionary_'+filename+'.pkl'), \"rb\"))"
   ]
  },
  {
   "cell_type": "code",
   "execution_count": 82,
   "id": "1178b9c2",
   "metadata": {},
   "outputs": [
    {
     "data": {
      "text/plain": [
       "dict_keys(['spikedic_MAD', 'network_bursts_seconds', 'fr_dic', 'isi_dictionary', 'isi_average_dic', 'isi_std_dic', 'Infos_Recording', 'Infos_Analysis', 'Infos_Anatomy', 'Basics', 'Bursts', 'Interburst-Intervals', 'bursting_time_per_channel', 'bursts_per_channel', 'burst_connections', 'GRAPH_shared_bursts'])"
      ]
     },
     "execution_count": 82,
     "metadata": {},
     "output_type": "execute_result"
    }
   ],
   "source": [
    "MAIN_RECORDING_DICTIONARY.keys()"
   ]
  },
  {
   "cell_type": "code",
   "execution_count": 83,
   "id": "dda10516-2950-42e3-b85d-2fd503a76580",
   "metadata": {},
   "outputs": [],
   "source": [
    "network_bursts_seconds = MAIN_RECORDING_DICTIONARY['network_bursts_seconds']\n",
    "spikedic_MAD = MAIN_RECORDING_DICTIONARY['spikedic_MAD']\n",
    "fr_dic = MAIN_RECORDING_DICTIONARY['fr_dic']\n",
    "isi_dictionary = MAIN_RECORDING_DICTIONARY['isi_dictionary']\n",
    "isi_average_dic = MAIN_RECORDING_DICTIONARY['isi_average_dic']\n",
    "Infos_Recording = MAIN_RECORDING_DICTIONARY['Infos_Recording']\n",
    "Infos_Analysis = MAIN_RECORDING_DICTIONARY['Infos_Analysis']\n",
    "Infos_Anatomy = MAIN_RECORDING_DICTIONARY['Infos_Anatomy']\n",
    "Bursts = MAIN_RECORDING_DICTIONARY['Bursts']\n",
    "Interburst_Intervals = MAIN_RECORDING_DICTIONARY['Interburst-Intervals']\n",
    "bursting_time_per_channel = MAIN_RECORDING_DICTIONARY['bursting_time_per_channel']\n",
    "bursts_per_channel = MAIN_RECORDING_DICTIONARY['bursts_per_channel']\n",
    "burst_connections = MAIN_RECORDING_DICTIONARY['burst_connections']\n",
    "Basics = MAIN_RECORDING_DICTIONARY['Basics']\n",
    "inverted_layerdic = Infos_Anatomy['layerdic_invert']\n",
    "layerdic = Infos_Anatomy['layerdic']\n",
    "tick = 40\n",
    "scale_factor_for_second = 1e-06"
   ]
  },
  {
   "cell_type": "code",
   "execution_count": 118,
   "id": "1de3064a-29f0-4926-b62b-a80651e54b86",
   "metadata": {},
   "outputs": [],
   "source": [
    "# ID034\n",
    "layerdic = {'layer1':[], \n",
    "\n",
    "            'layer2-3': ['A9', 'A10', 'A11', 'A12', 'A13', 'A14', 'A15', 'B9', 'B10', 'B11', 'B12', 'B13', 'B14', 'B15',\n",
    "                        'B16', 'C10', 'C11', 'C12', 'C13', 'C14', 'C15', 'C16',  'D11', 'D12', 'D13', 'D14', 'D15', 'D16',\n",
    "                        'E12', 'E13', 'E14', 'E15', 'E16', 'F13', 'F14', 'F15', 'F16', 'G13', 'G14', 'G15', 'G16', 'H14',\n",
    "                        'H15', 'H16', 'J15', 'J16', 'K16'],\n",
    "\n",
    "           'layer4':    ['A8', 'B7', 'B8', 'C8', 'C9', 'D8', 'D9', 'D10', 'E9', 'E10', 'E11', 'F10', 'F11', 'F12',\n",
    "                        'G11', 'G12', 'H12', 'H13', 'J12', 'J13', 'J14', 'K13', 'K14', 'K15', 'L14', 'L15', 'L16', 'M16',\n",
    "                        'M16', 'N16'],\n",
    "\n",
    "\n",
    "           'layer5-6':  ['B2', 'B3', 'B4', 'B5', 'B6', 'C2', 'C3', 'C4', 'C5', 'C6', 'C7',\n",
    "                        'D3', 'D4', 'D5', 'D6', 'D7', 'E3', 'E4', 'E5', 'E6', 'E7', 'E8', 'F4', 'F5', 'F6', 'F7', 'F8', 'F9',\n",
    "                        'G5', 'G6', 'G7', 'G8', 'G9', 'G10', 'H5', 'H6', 'H7', 'H8', 'H9', 'H10', 'H11', 'J6', 'J7', \n",
    "                        'J8', 'J9', 'J10', 'J11',  'K6', 'K7', 'K8', 'K9', 'K10', 'K11', 'K12',  'L7', 'L8', 'L9', 'L10', \n",
    "                        'L11', 'L12', 'L13', 'M8', 'M9', 'M10', 'M11', 'M12', 'M13', 'M14',  'N8', 'N9', 'N10', 'N11', \n",
    "                        'N12', 'N13', 'N14', 'N15',  'O8', 'O9', 'O10', 'O11', 'O12', 'O13', 'O14', 'O15', 'O16', \n",
    "                        'P9', 'P10', 'P11', 'P12', 'P13', 'P14', 'P15', 'P16', 'R9', 'R10', 'R11', 'R12', 'R13', \n",
    "                        'R14', 'R15'\n",
    "                        ],\n",
    "\n",
    "           'whitematter':['B1', 'C1', 'D1', 'D2', 'E1', 'E2', 'F1', 'F2', 'F3', 'G1', 'G2', 'G3', 'G4', 'H1', 'H2', 'H3', 'H4',\n",
    "                         'J1', 'J2', 'J3', 'J4', 'J5', 'K1', 'K2', 'K3', 'K4', 'K5', 'L1', 'L2', 'L3', 'L4', 'L5', 'L6', 'L1', \n",
    "                         'L2', 'L3', 'L4', 'L5', 'L6', 'M7', 'N2', 'N3', 'N4', 'N5', 'N6', 'N7', 'O2', 'O3', 'O4', 'O5', 'O6', \n",
    "                         'O7',  'P2', 'P3', 'P4', 'P5', 'P6', 'P7', 'R2', 'R3', 'R4', 'R5', 'R6', 'R7', 'R8' ],\n",
    "\n",
    "           'not_on_slice':['A2', 'A3', 'A4', 'A5', 'A6', 'A7', 'N1', 'O1', 'P1']}\n"
   ]
  },
  {
   "cell_type": "code",
   "execution_count": 119,
   "id": "9885e9ec-975f-4cd4-9995-58708f1745e9",
   "metadata": {},
   "outputs": [],
   "source": [
    "def invert_layerdic(layer_dic):\n",
    "    \n",
    "    '''\n",
    "    Expects a dictionary with key = layer, value = list of channellabels\n",
    "    \n",
    "    Returns a dictionary with key = channellabels, value = layer\n",
    "    '''\n",
    "    layerdic_invert = {}\n",
    "\n",
    "    for key in layerdic:\n",
    "        for i in layerdic[key]:\n",
    "            layerdic_invert[i]=key\n",
    "            \n",
    "            \n",
    "    return layerdic_invert"
   ]
  },
  {
   "cell_type": "code",
   "execution_count": 120,
   "id": "856d4886-cb5b-47a0-b071-8a95a5fe2c63",
   "metadata": {},
   "outputs": [],
   "source": [
    "inverted_layerdic = invert_layerdic(layerdic)"
   ]
  },
  {
   "cell_type": "markdown",
   "id": "a6476ed9",
   "metadata": {},
   "source": [
    "### Import of all Custom Functions"
   ]
  },
  {
   "cell_type": "code",
   "execution_count": null,
   "id": "410e9a36-ef32-4c13-a2ff-31e0894bb0ca",
   "metadata": {},
   "outputs": [],
   "source": []
  },
  {
   "cell_type": "code",
   "execution_count": 88,
   "id": "fe719710",
   "metadata": {},
   "outputs": [],
   "source": [
    "\n",
    "def get_channel_infos(filedirectory, meafile):\n",
    "    channel_raw_data = McsPy.McsData.RawData(os.path.join(filedirectory, \n",
    "                                                          meafile))\n",
    "    print(channel_raw_data.recordings)\n",
    "    print(channel_raw_data.comment)\n",
    "    print(channel_raw_data.date)\n",
    "    print(channel_raw_data.clr_date)\n",
    "    print(channel_raw_data.date_in_clr_ticks)\n",
    "    print(channel_raw_data.file_guid)\n",
    "    print(channel_raw_data.mea_name)\n",
    "    print(channel_raw_data.mea_sn)\n",
    "    print(channel_raw_data.mea_layout)\n",
    "    print(channel_raw_data.program_name)\n",
    "    print(channel_raw_data.program_version)\n",
    "    analognumber = len(channel_raw_data.recordings[0].analog_streams.keys())\n",
    "    print('In total '+ str(analognumber) \n",
    "          + \" analog_streams were identified.\\n\")\n",
    "    for i in range(len(channel_raw_data.recordings[0].analog_streams.keys())):\n",
    "        keylist = []\n",
    "        stream = channel_raw_data.recordings[0].analog_streams[i]\n",
    "        for key in stream.channel_infos.keys():\n",
    "                keylist.append(key)\n",
    "        channel_id = keylist[0]\n",
    "        datapoints = channel_raw_data.recordings[0].analog_streams[i].channel_data.shape[1]\n",
    "        samplingfrequency = stream.channel_infos[channel_id].sampling_frequency\n",
    "        ticks = stream.channel_infos[channel_id].info['Tick']\n",
    "        time = stream.get_channel_sample_timestamps(channel_id)\n",
    "        scale_factor_for_second = Q_(1,time[1]).to(ureg.s).magnitude\n",
    "        time_in_sec = time[0] * scale_factor_for_second\n",
    "        timelengthrecording_ms = time[0][-1]+ticks\n",
    "        timelengthrecording_s = (time[0][-1]+ticks)*scale_factor_for_second\n",
    "        print(\"analog_stream Nr. \" + str(i) + \": \")\n",
    "        print(\"datapoints measured = \" + str(datapoints))\n",
    "        print(\"sampling frequency = \" + str(samplingfrequency))\n",
    "        print(\"ticks = \" + str(ticks))\n",
    "        print(\"total recordingtime is: \" \n",
    "              + str(timelengthrecording_s) + \"seconds \\n\")\n",
    "\n",
    "\n",
    "\n",
    "\n",
    "def get_MEA_Signal(analog_stream, channel_idx, from_in_s=0, to_in_s=None):\n",
    "    '''\n",
    "    Extracts one Channels (channel_idx) Sginal \n",
    "    \n",
    "    :param analog_stream = the analogstream from one recording\n",
    "    :param channel_idx   = the channel index of the channel where you \n",
    "                            extract the values from\n",
    "    :param from_in_s     = starting point of the range you want to observe \n",
    "                            in seconds\n",
    "    :param to_in_s       = ending point of the range you want to observe. \n",
    "                            Default is None (i.e. whole range)\n",
    "    \n",
    "    Returns: the signal in uV, time stamps in sec, the sampling frequency\n",
    "    \n",
    "    \n",
    "    '''\n",
    "    ids = [c.channel_id for c in analog_stream.channel_infos.values()]\n",
    "    channel_id = ids[channel_idx]\n",
    "    channel_info = analog_stream.channel_infos[channel_id]\n",
    "    sampling_frequency = channel_info.sampling_frequency.magnitude\n",
    "\n",
    "    # get start and end index\n",
    "    from_idx = max(0, int(from_in_s * sampling_frequency))\n",
    "    if to_in_s is None:\n",
    "        to_idx = analog_stream.channel_data.shape[1]\n",
    "    else:\n",
    "        to_idx = min(\n",
    "            analog_stream.channel_data.shape[1], \n",
    "            int(to_in_s * sampling_frequency)\n",
    "            )\n",
    "\n",
    "    # get the timestamps for each sample\n",
    "    time = analog_stream.get_channel_sample_timestamps(\n",
    "        channel_id, from_idx, to_idx\n",
    "        )\n",
    "\n",
    "    # scale time to seconds:\n",
    "    scale_factor_for_second = Q_(1,time[1]).to(ureg.s).magnitude\n",
    "    time_in_sec = time[0] * scale_factor_for_second\n",
    "\n",
    "    # get the signal\n",
    "    signal = analog_stream.get_channel_in_range(channel_id, from_idx, to_idx)\n",
    "\n",
    "    # scale signal to µV:\n",
    "    scale_factor_for_uV = Q_(1,signal[1]).to(ureg.uV).magnitude\n",
    "    signal_in_uV = signal[0] * scale_factor_for_uV\n",
    "    \n",
    "    return signal_in_uV, time_in_sec, sampling_frequency, scale_factor_for_second\n",
    "\n",
    "\n",
    "def get_MEA_Channel_labels(np_analog_for_filter):\n",
    "    '''\n",
    "    Gives a List of all MEA Channel Labels (e.g. R12) in the order they appear\n",
    "    within the recording.\n",
    "    \n",
    "    :param analogstream_data = an numpy array shape(channels, data)\n",
    "    \n",
    "    '''\n",
    "    labellist = []\n",
    "    for i in range(0, len(np_analog_for_filter)):\n",
    "        #channel_idx = i\n",
    "        ids = [c.channel_id for c in analog_stream_0.channel_infos.values()]\n",
    "        channel_id = ids[i]\n",
    "        channel_info = analog_stream_0.channel_infos[channel_id]\n",
    "        #print(channel_info.info['Label'])\n",
    "        labellist.append(channel_info.info['Label'])\n",
    "    return labellist\n",
    "    \n",
    "\n",
    "def detect_threshold_crossings(signal, fs, threshold, dead_time):\n",
    "    \"\"\"\n",
    "    Detect threshold crossings in a signal with dead time and return \n",
    "    them as an array\n",
    "\n",
    "    The signal transitions from a sample above the threshold to a sample \n",
    "    below the threshold for a detection and\n",
    "    the last detection has to be more than dead_time apart \n",
    "    from the current one.\n",
    "\n",
    "    :param signal: The signal as a 1-dimensional numpy array\n",
    "    :param fs: The sampling frequency in Hz\n",
    "    :param threshold: The threshold for the signal\n",
    "    :param dead_time: The dead time in seconds.\n",
    "    \"\"\"\n",
    "    dead_time_idx = dead_time * fs\n",
    "    threshold_crossings = np.diff(\n",
    "        (signal <= threshold).astype(int) > 0).nonzero()[0]\n",
    "    distance_sufficient = np.insert(\n",
    "        np.diff(threshold_crossings) >= dead_time_idx, 0, True\n",
    "        )\n",
    "    while not np.all(distance_sufficient):\n",
    "        # repeatedly remove all threshold crossings that violate the dead_time\n",
    "        threshold_crossings = threshold_crossings[distance_sufficient]\n",
    "        distance_sufficient = np.insert(\n",
    "            np.diff(threshold_crossings) >= dead_time_idx, 0, True\n",
    "            )\n",
    "    return threshold_crossings\n",
    "\n",
    "\n",
    "def get_next_minimum(signal, index, max_samples_to_search):\n",
    "    \"\"\"\n",
    "    Returns the index of the next minimum in the signal after an index\n",
    "\n",
    "    :param signal: The signal as a 1-dimensional numpy array\n",
    "    :param index: The scalar index\n",
    "    :param max_samples_to_search: The number of samples to search for a \n",
    "                                    minimum after the index\n",
    "    \"\"\"\n",
    "    search_end_idx = min(index + max_samples_to_search, signal.shape[0])\n",
    "    min_idx = np.argmin(signal[index:search_end_idx])\n",
    "    return index + min_idx\n",
    "\n",
    "\n",
    "def align_to_minimum(signal, fs, threshold_crossings, search_range, first_time_stamp=0):\n",
    "    \"\"\"\n",
    "    Returns the index of the next negative spike peak for all threshold crossings\n",
    "\n",
    "    :param signal: The signal as a 1-dimensional numpy array\n",
    "    :param fs: The sampling frequency in Hz\n",
    "    :param threshold_crossings: The array of indices where the signal \n",
    "                                crossed the detection threshold\n",
    "    :param search_range: The maximum duration in seconds to search for the \n",
    "                         minimum after each crossing\n",
    "    \"\"\"\n",
    "    search_end = int(search_range*fs)\n",
    "    aligned_spikes = [get_next_minimum(signal, t, search_end) for t in threshold_crossings]\n",
    "    return np.array(aligned_spikes)\n",
    "\n",
    "\n",
    "def find_triggers(dset_trigger, tick):\n",
    "    \n",
    "    for i in range(0,len(dset_trigger)-1):\n",
    "        trigger_n=i\n",
    "        Trigger_An=dset_trigger[trigger_n]\n",
    "        diff_An=np.diff(Trigger_An)\n",
    "        peaks, _ = find_peaks(diff_An, height = 2000) #MEA60=0.75\n",
    "        peaks_off, _ = find_peaks(-diff_An, height = 2000) #\"\"\n",
    "        if len(peaks)>=0:\n",
    "            break\n",
    "    \n",
    "    if trigger_n ==0:\n",
    "        odd_peaks= peaks\n",
    "        odd_peaks_off= peaks_off\n",
    "    else:\n",
    "        odd_peaks=peaks\n",
    "        odd_peaks_off=peaks_off\n",
    "    #x=np.arange(len(Trigger_An))*tick\n",
    "    #plt.plot(x, Trigger_An)\n",
    "    return odd_peaks, odd_peaks_off, diff_An\n",
    "\n",
    "def spike_on_off(trigger_on, trigger_off, spikedic, tick):\n",
    "    \"\"\"\n",
    "    Takes the dictionary with all spikes and sorts them into either a dictionary for\n",
    "    spikes while trigger on (=ONdic) or off (=OFFdic)\n",
    "    \n",
    "    :param trigger_on =basically created through the find_triggers function \n",
    "                        and marks points were stimulation is turned on\n",
    "    :param trigger_off =see trigger_on but for stimulation off\n",
    "    :spikedic = dictionary of spikes for each electrode\n",
    "    :tick\n",
    "    \"\"\"\n",
    "    on=[]\n",
    "    off=[]\n",
    "    ONdic ={}\n",
    "    OFFdic={}\n",
    "    Trigger_An=[]\n",
    "    Trigger_Aus=[]\n",
    "    \n",
    "    if len(trigger_off)==0:\n",
    "        Trigger_An=[]\n",
    "    elif trigger_off[len(trigger_off)-1]>trigger_on[len(trigger_on)-1]:\n",
    "        Trigger_An=trigger_on*tick\n",
    "    else:\n",
    "        Trigger_An=[]\n",
    "        for n in range(0,len(trigger_on)-1):\n",
    "            Trigger_An.append(trigger_on[n]*tick)   \n",
    "        Trigger_An=np.array(Trigger_An)\n",
    "\n",
    "            \n",
    "    if len(trigger_on)==0:\n",
    "        Trigger_Aus=[]\n",
    "    elif trigger_off[0]>trigger_on[0]:\n",
    "        Trigger_Aus=trigger_off*tick\n",
    "    else:\n",
    "        Trigger_Aus=[]\n",
    "        for n in range(1,len(trigger_off)):\n",
    "            Trigger_Aus.append(trigger_off[n]*tick)\n",
    "        Trigger_Aus=np.array(Trigger_Aus)\n",
    "    \n",
    "    Trigger_Aus2=np.insert(Trigger_Aus,0,0)\n",
    "    \n",
    "    for key in spikedic:\n",
    "        ON = []\n",
    "        OFF = []\n",
    "        for i in spikedic[key]: #i mit 40 multiplizieren, da Trigger an und aus mit Tick multipliziert sind\n",
    "            if len(Trigger_An)==0:\n",
    "                OFF.append(i)\n",
    "            if any(Trigger_An[foo] < i*tick < Trigger_Aus[foo]  for foo in np.arange(len(Trigger_Aus)-1)):\n",
    "                ON.append(i)\n",
    "            elif any(Trigger_Aus2[foo]  < i*tick < Trigger_An[foo]  for foo in np.arange(len(Trigger_An))):\n",
    "                OFF.append(i)\n",
    "        ONdic[key]=np.asarray(ON)\n",
    "        OFFdic[key]=np.asarray(OFF)\n",
    "    \n",
    "    return ONdic, OFFdic\n",
    "\n",
    "\n",
    "def extract_waveforms(signal, fs, spikes_idx, pre, post):\n",
    "    \"\"\"\n",
    "    Extract spike waveforms as signal cutouts around each spike index as a spikes x samples numpy array\n",
    "\n",
    "    :param signal: The signal as a 1-dimensional numpy array\n",
    "    :param fs: The sampling frequency in Hz\n",
    "    :param spikes_idx: The sample index of all spikes as a 1-dim numpy array\n",
    "    :param pre: The duration of the cutout before the spike in seconds\n",
    "    :param post: The duration of the cutout after the spike in seconds\n",
    "    \"\"\"\n",
    "    cutouts = []\n",
    "    pre_idx = int(pre * fs)\n",
    "    post_idx = int(post * fs)\n",
    "    for index in spikes_idx:\n",
    "        if index-pre_idx >= 0 and index+post_idx <= signal.shape[0]:\n",
    "            cutout = signal[int((index-pre_idx)):int((index+post_idx))]\n",
    "            cutouts.append(cutout)\n",
    "    if len(cutouts)>0:\n",
    "        return np.stack(cutouts)\n",
    "    \n",
    "    \n",
    "def plot_waveforms(cutouts, fs, pre, post, n=100, color='k', show=True):\n",
    "    \"\"\"\n",
    "    Plot an overlay of spike cutouts\n",
    "\n",
    "    :param cutouts: A spikes x samples array of cutouts\n",
    "    :param fs: The sampling frequency in Hz\n",
    "    :param pre: The duration of the cutout before the spike in seconds\n",
    "    :param post: The duration of the cutout after the spike in seconds\n",
    "    :param n: The number of cutouts to plot, or None to plot all. Default: 100\n",
    "    :param color: The line color as a pyplot line/marker style. Default: 'k'=black\n",
    "    :param show: Set this to False to disable showing the plot. Default: True\n",
    "    \"\"\"\n",
    "    if n is None:\n",
    "        n = cutouts.shape[0]\n",
    "    n = min(n, cutouts.shape[0])\n",
    "    time_in_us = np.arange(-pre*1000, post*1000, 1e3/fs)\n",
    "    if show:\n",
    "        _ = plt.figure(figsize=(12,6))\n",
    "\n",
    "    for i in range(n):\n",
    "        _ = plt.plot(time_in_us, cutouts[i,]*1e6, color, linewidth=1, alpha=0.3)\n",
    "        _ = plt.xlabel('Time (%s)' % ureg.ms)\n",
    "        _ = plt.ylabel('Voltage (%s)' % ureg.uV)\n",
    "        _ = plt.title('Cutouts')\n",
    "\n",
    "    if show:\n",
    "        plt.show()\n",
    "\n",
    "        \n",
    "def butter_lowpass_filter(data, cutoff, fs, order):\n",
    "\n",
    "    normal_cutoff = cutoff / nyq\n",
    "    # Get the filter coefficients \n",
    "    b, a = butter(order, normal_cutoff, btype='low', analog=False)\n",
    "    y = filtfilt(b, a, data)\n",
    "    return y\n",
    "\n",
    "\n",
    "\n",
    "def subdivide_spiketrain(spiketrain, sub_start = 0, sub_stop = 10, tick=40, scale_factor_for_second=1e-06):\n",
    "    '''\n",
    "    Excpects: \n",
    "        a spiketrain with tick datapoints\n",
    "        default ticks are 40\n",
    "        default scale_factor_for_seconds = 1e-06\n",
    "        provide the start and stop of the desired sub in seconds\n",
    "    \n",
    "    Does:\n",
    "        converts the desired seconds into data ticks\n",
    "        checks if the spikes of the given spiketrain is in the desired subs\n",
    "        substracts the starting time -->\n",
    "        \n",
    "    Returns:\n",
    "        a spiketrain dictionary that again starts from zero\n",
    "    \n",
    "    '''\n",
    "    sub_start_tick = sub_start / (tick*scale_factor_for_second)\n",
    "    sub_stop_tick = sub_stop / (tick*scale_factor_for_second)\n",
    "    sub_spiketrain = {}\n",
    "  \n",
    "    for key in spiketrain: \n",
    "        list_per_key = []\n",
    "        for i in spiketrain[key]:\n",
    "            if (i>=sub_start_tick ) & (i<sub_stop_tick):\n",
    "                list_per_key.append(int(i-sub_start_tick))\n",
    "        sub_spiketrain[key]=list_per_key\n",
    "\n",
    "    return sub_spiketrain"
   ]
  },
  {
   "cell_type": "markdown",
   "id": "4b87c0d1-7707-4bd8-b397-5a491b9599d0",
   "metadata": {},
   "source": [
    "### Find channels that are bursting during network bursts\n"
   ]
  },
  {
   "cell_type": "code",
   "execution_count": 89,
   "id": "f9bae348-824d-4ccf-89de-f23e89da9276",
   "metadata": {},
   "outputs": [
    {
     "data": {
      "text/plain": [
       "[]"
      ]
     },
     "execution_count": 89,
     "metadata": {},
     "output_type": "execute_result"
    }
   ],
   "source": [
    "Bursts['R12'] #µseconds"
   ]
  },
  {
   "cell_type": "code",
   "execution_count": 90,
   "id": "443a0e22-57e2-436e-8267-1e444ecf1520",
   "metadata": {},
   "outputs": [
    {
     "data": {
      "text/plain": [
       "2974791"
      ]
     },
     "execution_count": 90,
     "metadata": {},
     "output_type": "execute_result"
    }
   ],
   "source": [
    "spikedic_MAD['R12'][-1] #ticks"
   ]
  },
  {
   "cell_type": "code",
   "execution_count": 91,
   "id": "6172a095-8b8c-4829-964c-5f5310db53c6",
   "metadata": {},
   "outputs": [
    {
     "data": {
      "text/plain": [
       "(114.41099635215947, 116.35166267774086)"
      ]
     },
     "execution_count": 91,
     "metadata": {},
     "output_type": "execute_result"
    }
   ],
   "source": [
    "network_bursts_seconds[-1] #seconds"
   ]
  },
  {
   "cell_type": "code",
   "execution_count": 92,
   "id": "2cb56718",
   "metadata": {},
   "outputs": [],
   "source": [
    "tick = 40"
   ]
  },
  {
   "cell_type": "code",
   "execution_count": 93,
   "id": "eeacbd84",
   "metadata": {},
   "outputs": [],
   "source": [
    "length = []\n",
    "\n",
    "for i in network_bursts_seconds:\n",
    "    diff = i[1] - i[0]\n",
    "    length.append(diff)"
   ]
  },
  {
   "cell_type": "code",
   "execution_count": 94,
   "id": "08170619",
   "metadata": {},
   "outputs": [
    {
     "data": {
      "text/plain": [
       "3.173385496677753"
      ]
     },
     "execution_count": 94,
     "metadata": {},
     "output_type": "execute_result"
    }
   ],
   "source": [
    "np.max(length)"
   ]
  },
  {
   "cell_type": "code",
   "execution_count": 95,
   "id": "37e97817",
   "metadata": {},
   "outputs": [
    {
     "data": {
      "text/plain": [
       "29"
      ]
     },
     "execution_count": 95,
     "metadata": {},
     "output_type": "execute_result"
    }
   ],
   "source": [
    "len(network_bursts_seconds)"
   ]
  },
  {
   "cell_type": "code",
   "execution_count": 96,
   "id": "6ab63114",
   "metadata": {},
   "outputs": [
    {
     "data": {
      "text/plain": [
       "(1.9395740186733876, 0.42798656792412326, 1.9258142873754167)"
      ]
     },
     "execution_count": 96,
     "metadata": {},
     "output_type": "execute_result"
    }
   ],
   "source": [
    "np.mean(length), np.std(length), np.median(length)"
   ]
  },
  {
   "cell_type": "markdown",
   "id": "cadac4c8",
   "metadata": {},
   "source": [
    "We want to find every channel that does burst during a network burst. Further, we need for every network burst the amount of active channels (via Spikedic_MAD). The LFP will be extracted in a later step. For this, we will need the raw data."
   ]
  },
  {
   "cell_type": "code",
   "execution_count": 97,
   "id": "cf607c6c",
   "metadata": {},
   "outputs": [],
   "source": [
    "filename= '2021-05-17T11-28-41__cortex_div11_aCSF_ID046_30µMNorepinephrine_spont_1'"
   ]
  },
  {
   "cell_type": "code",
   "execution_count": 98,
   "id": "a44f7438",
   "metadata": {},
   "outputs": [],
   "source": [
    "filebase = filename.split('__')[1]"
   ]
  },
  {
   "cell_type": "code",
   "execution_count": 99,
   "id": "bc47868a",
   "metadata": {},
   "outputs": [
    {
     "data": {
      "text/plain": [
       "[]"
      ]
     },
     "execution_count": 99,
     "metadata": {},
     "output_type": "execute_result"
    }
   ],
   "source": [
    "glob.glob('*lowpass*.npy')"
   ]
  },
  {
   "cell_type": "code",
   "execution_count": 100,
   "id": "9441d896",
   "metadata": {},
   "outputs": [],
   "source": [
    "os.chdir(temp_dir)"
   ]
  },
  {
   "cell_type": "code",
   "execution_count": 101,
   "id": "81cf35aa",
   "metadata": {},
   "outputs": [
    {
     "data": {
      "text/plain": [
       "'D:\\\\MEA_DATA_Aachen\\\\ANALYZED\\\\ID046_analysiert_22102021\\\\2021-05-17_cortex_div11_aCSF_ID046_30µMNorepinephrine_spont_1_from_0_to_120_analyzed_on_26102021'"
      ]
     },
     "execution_count": 101,
     "metadata": {},
     "output_type": "execute_result"
    }
   ],
   "source": [
    "temp_dir"
   ]
  },
  {
   "cell_type": "code",
   "execution_count": 102,
   "id": "6ad38e2a",
   "metadata": {},
   "outputs": [],
   "source": [
    "lowpassfile = glob.glob('*lowpass*.npy')[0]\n",
    "bandpassfile = glob.glob('*bandpass*.npy')[0]\n",
    "\n",
    "lfp_down_file = glob.glob('*LFP_DOWNS*.npy')[1]\n",
    "lfp_up_file = glob.glob('*LFP_UPS*.npy')[1]\n",
    "\n",
    "lfp_amp_down_file = glob.glob('*LFP_Amplitudes_DOWNS*.npy')[0]\n",
    "lfp_amp_up_file = glob.glob('*LFP_Amplitudes_UPS*.npy')[0]\n",
    "\n",
    "cs_lfp_down_file = glob.glob('*cs_lfp_down*.npy')[0]\n",
    "cs_lfp_up_file = glob.glob('*cs_lfp_up*.npy')[0]\n",
    "\n",
    "cs_lfp_amp_down_file = glob.glob('*cs_lfp_amp*down*.npy')[0]\n",
    "cs_lfp_amp_up_file = glob.glob('*cs_lfp_amp*up*.npy')[0]"
   ]
  },
  {
   "cell_type": "code",
   "execution_count": 24,
   "id": "68f9726c",
   "metadata": {},
   "outputs": [
    {
     "data": {
      "text/plain": [
       "'2021-05-17_cortex_div11_aCSF_ID046_30µMNorepinephrine_spont_1_0_120_LFP_DOWNS.npy'"
      ]
     },
     "execution_count": 24,
     "metadata": {},
     "output_type": "execute_result"
    }
   ],
   "source": [
    "lfp_down_file\n"
   ]
  },
  {
   "cell_type": "code",
   "execution_count": 25,
   "id": "f084fd51",
   "metadata": {},
   "outputs": [],
   "source": [
    "# bandpass and lowpass signal\n",
    "lowpass_dic = np.load(lowpassfile, allow_pickle=True).item()\n",
    "bandpass_dic = np.load(bandpassfile, allow_pickle=True).item()\n",
    "\n",
    "# lfp deviations\n",
    "lfp_downs = np.load(lfp_down_file, allow_pickle=True).item()\n",
    "lfp_ups = np.load(lfp_up_file, allow_pickle=True).item()\n",
    "\n",
    "# lfp amplitudes\n",
    "lfp_amplit_downs = np.load(lfp_amp_down_file, allow_pickle=True).item()\n",
    "lfp_amplit_ups = np.load(lfp_amp_up_file, allow_pickle=True).item()\n",
    "\n",
    "\n",
    "\n",
    "# cs lfp deviations\n",
    "cs_lfp_downs = np.load(cs_lfp_down_file, allow_pickle=True).item()\n",
    "cs_lfp_ups = np.load(cs_lfp_up_file, allow_pickle=True).item()\n",
    "\n",
    "# cs lfp amplitudes\n",
    "cs_lfp_amplit_downs = np.load(cs_lfp_amp_down_file, allow_pickle=True).item()\n",
    "cs_lfp_amplit_ups = np.load(cs_lfp_amp_up_file, allow_pickle=True).item()"
   ]
  },
  {
   "cell_type": "code",
   "execution_count": null,
   "id": "c075633d",
   "metadata": {},
   "outputs": [],
   "source": []
  },
  {
   "cell_type": "markdown",
   "id": "55405a9d",
   "metadata": {
    "jupyter": {
     "outputs_hidden": true
    },
    "tags": []
   },
   "source": [
    "hier fehlen leider die neuen Dics, weil sie nicht gespeichert wurden"
   ]
  },
  {
   "cell_type": "code",
   "execution_count": 28,
   "id": "19049cde",
   "metadata": {
    "scrolled": true
   },
   "outputs": [
    {
     "data": {
      "text/plain": [
       "'2021-05-17T11-28-41__cortex_div11_aCSF_ID046_30µMNorepinephrine_spont_1'"
      ]
     },
     "execution_count": 28,
     "metadata": {},
     "output_type": "execute_result"
    }
   ],
   "source": [
    "filename\n"
   ]
  },
  {
   "cell_type": "code",
   "execution_count": 29,
   "id": "6ad7687e",
   "metadata": {},
   "outputs": [],
   "source": [
    "start, stop = 0, 120"
   ]
  },
  {
   "cell_type": "code",
   "execution_count": 30,
   "id": "3e694c52",
   "metadata": {},
   "outputs": [],
   "source": [
    "channel_look = 'F15'"
   ]
  },
  {
   "cell_type": "code",
   "execution_count": 31,
   "id": "0f3a2eee",
   "metadata": {},
   "outputs": [],
   "source": [
    "second_cut = lowpass_dic[channel_look].shape[0]"
   ]
  },
  {
   "cell_type": "code",
   "execution_count": 32,
   "id": "b5f278a7",
   "metadata": {},
   "outputs": [],
   "source": [
    "lowpass_sig = lowpass_dic[channel_look]\n",
    "bandpass_sig = bandpass_dic[channel_look]\n",
    "down_cross = lfp_downs[channel_look]\n",
    "up_cross = lfp_ups[channel_look]\n",
    "spikes = spikedic_MAD[channel_look]\n",
    "channel_bursts = Bursts[channel_look]\n",
    "\n",
    "cs_down_cross = cs_lfp_downs[channel_look]\n",
    "cs_up_cross = cs_lfp_ups[channel_look]"
   ]
  },
  {
   "cell_type": "code",
   "execution_count": 33,
   "id": "da27587d",
   "metadata": {},
   "outputs": [
    {
     "data": {
      "text/plain": [
       "[(90.4776, 90.77992), (106.71768, 107.01487999999999)]"
      ]
     },
     "execution_count": 33,
     "metadata": {},
     "output_type": "execute_result"
    }
   ],
   "source": [
    "up_cross"
   ]
  },
  {
   "cell_type": "code",
   "execution_count": 34,
   "id": "50dc55d7",
   "metadata": {},
   "outputs": [],
   "source": [
    "# scale helper functions to get the right unit\n",
    "scale_to_sec = lambda x: x*tick*scale_factor_for_second\n",
    "scaleburst_to_sec = lambda x: x*scale_factor_for_second\n",
    "scale_to_ticks = lambda x: x/ (tick*scale_factor_for_second)"
   ]
  },
  {
   "cell_type": "code",
   "execution_count": 35,
   "id": "2bc32131",
   "metadata": {},
   "outputs": [],
   "source": [
    "spikes = list(map(scale_to_sec, spikes))\n",
    "\n",
    "# cut spikes for the observed part\n",
    "spikes = [x for x in spikes if start <= x <= stop]"
   ]
  },
  {
   "cell_type": "code",
   "execution_count": 36,
   "id": "b664a61f",
   "metadata": {
    "scrolled": true,
    "tags": []
   },
   "outputs": [
    {
     "data": {
      "text/plain": [
       "[(90331760, 90410520),\n",
       " (90496440, 90672160),\n",
       " (106589400, 106933200),\n",
       " (113360600, 113370600)]"
      ]
     },
     "execution_count": 36,
     "metadata": {},
     "output_type": "execute_result"
    }
   ],
   "source": [
    "channel_bursts"
   ]
  },
  {
   "cell_type": "code",
   "execution_count": 37,
   "id": "7968a760",
   "metadata": {},
   "outputs": [],
   "source": [
    "#channel_bursts = list(map(scale_to_sec, channel_bursts))\n",
    "channel_bursts_sec = []\n",
    "for i in channel_bursts:\n",
    "    first = scaleburst_to_sec(i[0])\n",
    "    second = scaleburst_to_sec(i[1])\n",
    "    new = (first, second)\n",
    "    channel_bursts_sec.append(new)"
   ]
  },
  {
   "cell_type": "code",
   "execution_count": 120,
   "id": "5f6ad8dc",
   "metadata": {
    "tags": []
   },
   "outputs": [
    {
     "data": {
      "text/plain": [
       "[(90.33176, 90.41051999999999),\n",
       " (90.49643999999999, 90.67215999999999),\n",
       " (106.5894, 106.9332),\n",
       " (113.36059999999999, 113.3706)]"
      ]
     },
     "execution_count": 120,
     "metadata": {},
     "output_type": "execute_result"
    }
   ],
   "source": [
    "channel_bursts_sec"
   ]
  },
  {
   "cell_type": "code",
   "execution_count": 121,
   "id": "f0dded01",
   "metadata": {},
   "outputs": [],
   "source": [
    "# to cut the low pass signal\n",
    "networkburst_tick = list(map(scale_to_ticks, network_bursts_seconds[0]))\n",
    "networkburst_tick_start, netwokrburst_tick_stop = int(networkburst_tick[0]), int(networkburst_tick[1])"
   ]
  },
  {
   "cell_type": "code",
   "execution_count": 46,
   "id": "b0a16800",
   "metadata": {},
   "outputs": [],
   "source": [
    "# cut the low pass signal\n",
    "network_burst_lowpass_cut = lowpass_sig[networkburst_tick_start:netwokrburst_tick_stop]"
   ]
  },
  {
   "cell_type": "code",
   "execution_count": 47,
   "id": "cabdbdd9",
   "metadata": {},
   "outputs": [],
   "source": [
    "# to cut the bursts and networkbursts\n",
    "\n",
    "cut_network_bursts_seconds = list(filter(lambda x: start < x[0] < stop, network_bursts_seconds))\n",
    "cut_channel_bursts_seconds = list(filter(lambda x: start < x[0] < stop, channel_bursts_sec))"
   ]
  },
  {
   "cell_type": "code",
   "execution_count": 48,
   "id": "60d6b965",
   "metadata": {
    "tags": []
   },
   "outputs": [
    {
     "name": "stdout",
     "output_type": "stream",
     "text": [
      "Channel F15, at (0.7632, 1.7830399568106312), mean: -0.16937125608042608 with std 2.8111601907655848\n",
      "Channel F15, at (4.198971504983389, 5.520802905315615), mean: -0.5933934091996161 with std 3.0733813666521717\n",
      "Channel F15, at (7.510976024916944, 9.134798868770764), mean: -0.36977167438955577 with std 3.0099683525861223\n",
      "Channel F15, at (11.694300119601328, 13.664670521594685), mean: 0.05298240131281912 with std 2.572275636541489\n",
      "Channel F15, at (16.12020750498339, 18.02621907475083), mean: -0.2653725870704486 with std 2.6911630870660685\n",
      "Channel F15, at (19.486669498338873, 21.437237182724253), mean: 0.2959285544691534 with std 2.647550087563668\n",
      "Channel F15, at (23.249185843853823, 25.160148093023256), mean: -0.282151772847112 with std 2.988297562010397\n",
      "Channel F15, at (26.87308316611296, 28.784045415282392), mean: 0.1674191102723491 with std 2.617286849889964\n",
      "Channel F15, at (31.393053460132894, 33.28916367109635), mean: 0.4258209700629328 with std 3.282520433731624\n",
      "Channel F15, at (36.24966995348837, 37.63487377408637), mean: 0.3597341265711268 with std 2.8461929077618904\n",
      "Channel F15, at (37.734873774086374, 39.591378549833884), mean: 0.03839012579236877 with std 2.926334234233559\n",
      "Channel F15, at (42.190485235880395, 44.18560903488372), mean: -0.13517301586764494 with std 2.7401693992225233\n",
      "Channel F15, at (46.824321156146176, 48.75013544352159), mean: 0.32961769505625566 with std 2.7480352828215038\n",
      "Channel F15, at (51.03239864784053, 53.00276904983389), mean: 0.3441560595256112 with std 3.0362295746809127\n",
      "Channel F15, at (55.418700598006644, 57.05737548006645), mean: -0.0035990293141215488 with std 2.9518681071429653\n",
      "Channel F15, at (58.81981734717608, 60.71592755813953), mean: -0.020744984763306183 with std 3.061788828180054\n",
      "Channel F15, at (61.562493735880395, 64.73587923255815), mean: -0.22412664446316158 with std 9.951873876418565\n",
      "Channel F15, at (68.08748918770765, 69.82022697840532), mean: -0.08106011701043314 with std 3.136389916206497\n",
      "Channel F15, at (72.03813135049833, 73.98374835548172), mean: -0.5441961166060391 with std 2.983213450015891\n",
      "Channel F15, at (75.47390285548173, 78.27103671760797), mean: -0.2934779472859163 with std 3.532476676324983\n",
      "Channel F15, at (80.8651927242525, 82.4246567358804), mean: 0.3877923043885952 with std 3.4155598535753833\n",
      "Channel F15, at (88.6823155, 91.49430140033223), mean: 0.8963740987021498 with std 32.863192942665066\n",
      "Channel F15, at (94.13796420099668, 96.10338392358804), mean: 0.13704651809124926 with std 2.6544921608782333\n",
      "Channel F15, at (98.40544984551495, 100.84613479069768), mean: -0.23797650882011095 with std 3.035115639573557\n",
      "Channel F15, at (103.85614786710964, 105.50373769601329), mean: 0.15746066506272882 with std 2.6682194852155856\n",
      "Channel F15, at (105.60373769601328, 107.6780723654485), mean: 0.7457035471117721 with std 37.937681563436186\n",
      "Channel F15, at (110.08905323421926, 112.04952227740864), mean: 0.38193145324907773 with std 2.8452574859131428\n",
      "Channel F15, at (112.3762671179402, 114.39614431395349), mean: -0.10692521028566414 with std 6.975323733089963\n",
      "Channel F15, at (114.41099635215947, 116.35166267774086), mean: 0.2827033850751807 with std 2.7554455431722165\n",
      "Channel F15 total, mean: -0.03195077538345987 with std 7.8901941299268525\n"
     ]
    }
   ],
   "source": [
    "\n",
    "for networkburst in network_bursts_seconds:\n",
    "    networkburst_tick = list(map(scale_to_ticks, networkburst))\n",
    "    networkburst_tick_start, netwokrburst_tick_stop = int(networkburst_tick[0]), int(networkburst_tick[1])\n",
    "    network_burst_lowpass_cut = lowpass_sig[networkburst_tick_start:netwokrburst_tick_stop]\n",
    "                             \n",
    "    mean_lowpass_cut = np.mean(network_burst_lowpass_cut)\n",
    "    std_lowpass_cut = np.std(network_burst_lowpass_cut)\n",
    "    \n",
    "    print('Channel {}, at {}, mean: {} with std {}'.format(\n",
    "        channel_look, networkburst, mean_lowpass_cut, std_lowpass_cut ))\n",
    "\n",
    "mean_channel = np.mean(lowpass_sig)\n",
    "std_channel = np.std(lowpass_sig)\n",
    "print('Channel {} total, mean: {} with std {}'.format(\n",
    "        channel_look, mean_channel, std_channel))\n",
    "    "
   ]
  },
  {
   "cell_type": "code",
   "execution_count": 49,
   "id": "0c04c59b",
   "metadata": {},
   "outputs": [
    {
     "data": {
      "text/plain": [
       "3000001"
      ]
     },
     "execution_count": 49,
     "metadata": {},
     "output_type": "execute_result"
    }
   ],
   "source": [
    "len(lowpass_sig)"
   ]
  },
  {
   "cell_type": "code",
   "execution_count": 50,
   "id": "63e4608f",
   "metadata": {},
   "outputs": [],
   "source": [
    "tick_micro = 0.00004\n",
    "time_in_sec = np.arange(start, stop+tick_micro, tick_micro)"
   ]
  },
  {
   "cell_type": "code",
   "execution_count": 51,
   "id": "271d1928-7114-4bfd-9066-f99fcd9c3202",
   "metadata": {},
   "outputs": [
    {
     "data": {
      "text/plain": [
       "3000001"
      ]
     },
     "execution_count": 51,
     "metadata": {},
     "output_type": "execute_result"
    }
   ],
   "source": [
    "len(time_in_sec)"
   ]
  },
  {
   "cell_type": "code",
   "execution_count": 52,
   "id": "0433f1f9",
   "metadata": {},
   "outputs": [
    {
     "data": {
      "text/plain": [
       "[(0.7632, 1.7830399568106312),\n",
       " (4.198971504983389, 5.520802905315615),\n",
       " (7.510976024916944, 9.134798868770764),\n",
       " (11.694300119601328, 13.664670521594685),\n",
       " (16.12020750498339, 18.02621907475083),\n",
       " (19.486669498338873, 21.437237182724253),\n",
       " (23.249185843853823, 25.160148093023256),\n",
       " (26.87308316611296, 28.784045415282392),\n",
       " (31.393053460132894, 33.28916367109635),\n",
       " (36.24966995348837, 37.63487377408637),\n",
       " (37.734873774086374, 39.591378549833884),\n",
       " (42.190485235880395, 44.18560903488372),\n",
       " (46.824321156146176, 48.75013544352159),\n",
       " (51.03239864784053, 53.00276904983389),\n",
       " (55.418700598006644, 57.05737548006645),\n",
       " (58.81981734717608, 60.71592755813953),\n",
       " (61.562493735880395, 64.73587923255815),\n",
       " (68.08748918770765, 69.82022697840532),\n",
       " (72.03813135049833, 73.98374835548172),\n",
       " (75.47390285548173, 78.27103671760797),\n",
       " (80.8651927242525, 82.4246567358804),\n",
       " (88.6823155, 91.49430140033223),\n",
       " (94.13796420099668, 96.10338392358804),\n",
       " (98.40544984551495, 100.84613479069768),\n",
       " (103.85614786710964, 105.50373769601329),\n",
       " (105.60373769601328, 107.6780723654485),\n",
       " (110.08905323421926, 112.04952227740864),\n",
       " (112.3762671179402, 114.39614431395349),\n",
       " (114.41099635215947, 116.35166267774086)]"
      ]
     },
     "execution_count": 52,
     "metadata": {},
     "output_type": "execute_result"
    }
   ],
   "source": [
    "network_bursts_seconds"
   ]
  },
  {
   "cell_type": "code",
   "execution_count": 53,
   "id": "820d0891",
   "metadata": {},
   "outputs": [
    {
     "name": "stdout",
     "output_type": "stream",
     "text": [
      "Lowpass mean of F15 at  (114.41099635215947, 116.35166267774086) is -0.03195077538345987\n"
     ]
    }
   ],
   "source": [
    "channel_mean = np.mean(lowpass_sig)\n",
    "print('Lowpass mean of {} at  {} is '.format(channel_look, networkburst)+str(channel_mean))"
   ]
  },
  {
   "cell_type": "code",
   "execution_count": 54,
   "id": "ad9cda4a",
   "metadata": {},
   "outputs": [
    {
     "data": {
      "text/plain": [
       "7.8901941299268525"
      ]
     },
     "execution_count": 54,
     "metadata": {},
     "output_type": "execute_result"
    }
   ],
   "source": [
    "np.std(lowpass_sig)"
   ]
  },
  {
   "cell_type": "code",
   "execution_count": 55,
   "id": "da6a68a2",
   "metadata": {},
   "outputs": [],
   "source": [
    "lfp_mean = np.mean(lowpass_sig)"
   ]
  },
  {
   "cell_type": "code",
   "execution_count": 56,
   "id": "e28291e0",
   "metadata": {},
   "outputs": [],
   "source": [
    "lfp_threshold = 3*np.std(lowpass_sig)"
   ]
  },
  {
   "cell_type": "code",
   "execution_count": 57,
   "id": "d7735955",
   "metadata": {},
   "outputs": [
    {
     "data": {
      "text/plain": [
       "71011770.83992405"
      ]
     },
     "execution_count": 57,
     "metadata": {},
     "output_type": "execute_result"
    }
   ],
   "source": [
    "time_in_sec.shape[0] * lfp_threshold"
   ]
  },
  {
   "cell_type": "code",
   "execution_count": 58,
   "id": "ec78b974",
   "metadata": {},
   "outputs": [],
   "source": [
    "threshold_line = np.linspace(lfp_threshold, lfp_threshold, len(time_in_sec))"
   ]
  },
  {
   "cell_type": "code",
   "execution_count": 59,
   "id": "37f791cb",
   "metadata": {},
   "outputs": [],
   "source": [
    "convolved_signal = np.convolve(lowpass_sig, np.ones(3000)/3000, mode='full')"
   ]
  },
  {
   "cell_type": "code",
   "execution_count": 60,
   "id": "cb73873a",
   "metadata": {},
   "outputs": [
    {
     "data": {
      "text/plain": [
       "3003000"
      ]
     },
     "execution_count": 60,
     "metadata": {},
     "output_type": "execute_result"
    }
   ],
   "source": [
    "len(convolved_signal)"
   ]
  },
  {
   "cell_type": "code",
   "execution_count": 61,
   "id": "241fc27a",
   "metadata": {},
   "outputs": [],
   "source": [
    "cs = convolved_signal[:3000001]"
   ]
  },
  {
   "cell_type": "code",
   "execution_count": 62,
   "id": "db607b96",
   "metadata": {},
   "outputs": [],
   "source": [
    "cs_threshold_line = np.linspace(2*np.std(cs), 2*np.std(cs), len(time_in_sec))"
   ]
  },
  {
   "cell_type": "code",
   "execution_count": 63,
   "id": "6c009df7",
   "metadata": {},
   "outputs": [
    {
     "data": {
      "text/plain": [
       "3000001"
      ]
     },
     "execution_count": 63,
     "metadata": {},
     "output_type": "execute_result"
    }
   ],
   "source": [
    "len(time_in_sec)\n"
   ]
  },
  {
   "cell_type": "code",
   "execution_count": 64,
   "id": "20a9ab5f",
   "metadata": {},
   "outputs": [
    {
     "data": {
      "application/javascript": [
       "/* Put everything inside the global mpl namespace */\n",
       "/* global mpl */\n",
       "window.mpl = {};\n",
       "\n",
       "mpl.get_websocket_type = function () {\n",
       "    if (typeof WebSocket !== 'undefined') {\n",
       "        return WebSocket;\n",
       "    } else if (typeof MozWebSocket !== 'undefined') {\n",
       "        return MozWebSocket;\n",
       "    } else {\n",
       "        alert(\n",
       "            'Your browser does not have WebSocket support. ' +\n",
       "                'Please try Chrome, Safari or Firefox ≥ 6. ' +\n",
       "                'Firefox 4 and 5 are also supported but you ' +\n",
       "                'have to enable WebSockets in about:config.'\n",
       "        );\n",
       "    }\n",
       "};\n",
       "\n",
       "mpl.figure = function (figure_id, websocket, ondownload, parent_element) {\n",
       "    this.id = figure_id;\n",
       "\n",
       "    this.ws = websocket;\n",
       "\n",
       "    this.supports_binary = this.ws.binaryType !== undefined;\n",
       "\n",
       "    if (!this.supports_binary) {\n",
       "        var warnings = document.getElementById('mpl-warnings');\n",
       "        if (warnings) {\n",
       "            warnings.style.display = 'block';\n",
       "            warnings.textContent =\n",
       "                'This browser does not support binary websocket messages. ' +\n",
       "                'Performance may be slow.';\n",
       "        }\n",
       "    }\n",
       "\n",
       "    this.imageObj = new Image();\n",
       "\n",
       "    this.context = undefined;\n",
       "    this.message = undefined;\n",
       "    this.canvas = undefined;\n",
       "    this.rubberband_canvas = undefined;\n",
       "    this.rubberband_context = undefined;\n",
       "    this.format_dropdown = undefined;\n",
       "\n",
       "    this.image_mode = 'full';\n",
       "\n",
       "    this.root = document.createElement('div');\n",
       "    this.root.setAttribute('style', 'display: inline-block');\n",
       "    this._root_extra_style(this.root);\n",
       "\n",
       "    parent_element.appendChild(this.root);\n",
       "\n",
       "    this._init_header(this);\n",
       "    this._init_canvas(this);\n",
       "    this._init_toolbar(this);\n",
       "\n",
       "    var fig = this;\n",
       "\n",
       "    this.waiting = false;\n",
       "\n",
       "    this.ws.onopen = function () {\n",
       "        fig.send_message('supports_binary', { value: fig.supports_binary });\n",
       "        fig.send_message('send_image_mode', {});\n",
       "        if (fig.ratio !== 1) {\n",
       "            fig.send_message('set_dpi_ratio', { dpi_ratio: fig.ratio });\n",
       "        }\n",
       "        fig.send_message('refresh', {});\n",
       "    };\n",
       "\n",
       "    this.imageObj.onload = function () {\n",
       "        if (fig.image_mode === 'full') {\n",
       "            // Full images could contain transparency (where diff images\n",
       "            // almost always do), so we need to clear the canvas so that\n",
       "            // there is no ghosting.\n",
       "            fig.context.clearRect(0, 0, fig.canvas.width, fig.canvas.height);\n",
       "        }\n",
       "        fig.context.drawImage(fig.imageObj, 0, 0);\n",
       "    };\n",
       "\n",
       "    this.imageObj.onunload = function () {\n",
       "        fig.ws.close();\n",
       "    };\n",
       "\n",
       "    this.ws.onmessage = this._make_on_message_function(this);\n",
       "\n",
       "    this.ondownload = ondownload;\n",
       "};\n",
       "\n",
       "mpl.figure.prototype._init_header = function () {\n",
       "    var titlebar = document.createElement('div');\n",
       "    titlebar.classList =\n",
       "        'ui-dialog-titlebar ui-widget-header ui-corner-all ui-helper-clearfix';\n",
       "    var titletext = document.createElement('div');\n",
       "    titletext.classList = 'ui-dialog-title';\n",
       "    titletext.setAttribute(\n",
       "        'style',\n",
       "        'width: 100%; text-align: center; padding: 3px;'\n",
       "    );\n",
       "    titlebar.appendChild(titletext);\n",
       "    this.root.appendChild(titlebar);\n",
       "    this.header = titletext;\n",
       "};\n",
       "\n",
       "mpl.figure.prototype._canvas_extra_style = function (_canvas_div) {};\n",
       "\n",
       "mpl.figure.prototype._root_extra_style = function (_canvas_div) {};\n",
       "\n",
       "mpl.figure.prototype._init_canvas = function () {\n",
       "    var fig = this;\n",
       "\n",
       "    var canvas_div = (this.canvas_div = document.createElement('div'));\n",
       "    canvas_div.setAttribute(\n",
       "        'style',\n",
       "        'border: 1px solid #ddd;' +\n",
       "            'box-sizing: content-box;' +\n",
       "            'clear: both;' +\n",
       "            'min-height: 1px;' +\n",
       "            'min-width: 1px;' +\n",
       "            'outline: 0;' +\n",
       "            'overflow: hidden;' +\n",
       "            'position: relative;' +\n",
       "            'resize: both;'\n",
       "    );\n",
       "\n",
       "    function on_keyboard_event_closure(name) {\n",
       "        return function (event) {\n",
       "            return fig.key_event(event, name);\n",
       "        };\n",
       "    }\n",
       "\n",
       "    canvas_div.addEventListener(\n",
       "        'keydown',\n",
       "        on_keyboard_event_closure('key_press')\n",
       "    );\n",
       "    canvas_div.addEventListener(\n",
       "        'keyup',\n",
       "        on_keyboard_event_closure('key_release')\n",
       "    );\n",
       "\n",
       "    this._canvas_extra_style(canvas_div);\n",
       "    this.root.appendChild(canvas_div);\n",
       "\n",
       "    var canvas = (this.canvas = document.createElement('canvas'));\n",
       "    canvas.classList.add('mpl-canvas');\n",
       "    canvas.setAttribute('style', 'box-sizing: content-box;');\n",
       "\n",
       "    this.context = canvas.getContext('2d');\n",
       "\n",
       "    var backingStore =\n",
       "        this.context.backingStorePixelRatio ||\n",
       "        this.context.webkitBackingStorePixelRatio ||\n",
       "        this.context.mozBackingStorePixelRatio ||\n",
       "        this.context.msBackingStorePixelRatio ||\n",
       "        this.context.oBackingStorePixelRatio ||\n",
       "        this.context.backingStorePixelRatio ||\n",
       "        1;\n",
       "\n",
       "    this.ratio = (window.devicePixelRatio || 1) / backingStore;\n",
       "\n",
       "    var rubberband_canvas = (this.rubberband_canvas = document.createElement(\n",
       "        'canvas'\n",
       "    ));\n",
       "    rubberband_canvas.setAttribute(\n",
       "        'style',\n",
       "        'box-sizing: content-box; position: absolute; left: 0; top: 0; z-index: 1;'\n",
       "    );\n",
       "\n",
       "    // Apply a ponyfill if ResizeObserver is not implemented by browser.\n",
       "    if (this.ResizeObserver === undefined) {\n",
       "        if (window.ResizeObserver !== undefined) {\n",
       "            this.ResizeObserver = window.ResizeObserver;\n",
       "        } else {\n",
       "            var obs = _JSXTOOLS_RESIZE_OBSERVER({});\n",
       "            this.ResizeObserver = obs.ResizeObserver;\n",
       "        }\n",
       "    }\n",
       "\n",
       "    this.resizeObserverInstance = new this.ResizeObserver(function (entries) {\n",
       "        var nentries = entries.length;\n",
       "        for (var i = 0; i < nentries; i++) {\n",
       "            var entry = entries[i];\n",
       "            var width, height;\n",
       "            if (entry.contentBoxSize) {\n",
       "                if (entry.contentBoxSize instanceof Array) {\n",
       "                    // Chrome 84 implements new version of spec.\n",
       "                    width = entry.contentBoxSize[0].inlineSize;\n",
       "                    height = entry.contentBoxSize[0].blockSize;\n",
       "                } else {\n",
       "                    // Firefox implements old version of spec.\n",
       "                    width = entry.contentBoxSize.inlineSize;\n",
       "                    height = entry.contentBoxSize.blockSize;\n",
       "                }\n",
       "            } else {\n",
       "                // Chrome <84 implements even older version of spec.\n",
       "                width = entry.contentRect.width;\n",
       "                height = entry.contentRect.height;\n",
       "            }\n",
       "\n",
       "            // Keep the size of the canvas and rubber band canvas in sync with\n",
       "            // the canvas container.\n",
       "            if (entry.devicePixelContentBoxSize) {\n",
       "                // Chrome 84 implements new version of spec.\n",
       "                canvas.setAttribute(\n",
       "                    'width',\n",
       "                    entry.devicePixelContentBoxSize[0].inlineSize\n",
       "                );\n",
       "                canvas.setAttribute(\n",
       "                    'height',\n",
       "                    entry.devicePixelContentBoxSize[0].blockSize\n",
       "                );\n",
       "            } else {\n",
       "                canvas.setAttribute('width', width * fig.ratio);\n",
       "                canvas.setAttribute('height', height * fig.ratio);\n",
       "            }\n",
       "            canvas.setAttribute(\n",
       "                'style',\n",
       "                'width: ' + width + 'px; height: ' + height + 'px;'\n",
       "            );\n",
       "\n",
       "            rubberband_canvas.setAttribute('width', width);\n",
       "            rubberband_canvas.setAttribute('height', height);\n",
       "\n",
       "            // And update the size in Python. We ignore the initial 0/0 size\n",
       "            // that occurs as the element is placed into the DOM, which should\n",
       "            // otherwise not happen due to the minimum size styling.\n",
       "            if (fig.ws.readyState == 1 && width != 0 && height != 0) {\n",
       "                fig.request_resize(width, height);\n",
       "            }\n",
       "        }\n",
       "    });\n",
       "    this.resizeObserverInstance.observe(canvas_div);\n",
       "\n",
       "    function on_mouse_event_closure(name) {\n",
       "        return function (event) {\n",
       "            return fig.mouse_event(event, name);\n",
       "        };\n",
       "    }\n",
       "\n",
       "    rubberband_canvas.addEventListener(\n",
       "        'mousedown',\n",
       "        on_mouse_event_closure('button_press')\n",
       "    );\n",
       "    rubberband_canvas.addEventListener(\n",
       "        'mouseup',\n",
       "        on_mouse_event_closure('button_release')\n",
       "    );\n",
       "    rubberband_canvas.addEventListener(\n",
       "        'dblclick',\n",
       "        on_mouse_event_closure('dblclick')\n",
       "    );\n",
       "    // Throttle sequential mouse events to 1 every 20ms.\n",
       "    rubberband_canvas.addEventListener(\n",
       "        'mousemove',\n",
       "        on_mouse_event_closure('motion_notify')\n",
       "    );\n",
       "\n",
       "    rubberband_canvas.addEventListener(\n",
       "        'mouseenter',\n",
       "        on_mouse_event_closure('figure_enter')\n",
       "    );\n",
       "    rubberband_canvas.addEventListener(\n",
       "        'mouseleave',\n",
       "        on_mouse_event_closure('figure_leave')\n",
       "    );\n",
       "\n",
       "    canvas_div.addEventListener('wheel', function (event) {\n",
       "        if (event.deltaY < 0) {\n",
       "            event.step = 1;\n",
       "        } else {\n",
       "            event.step = -1;\n",
       "        }\n",
       "        on_mouse_event_closure('scroll')(event);\n",
       "    });\n",
       "\n",
       "    canvas_div.appendChild(canvas);\n",
       "    canvas_div.appendChild(rubberband_canvas);\n",
       "\n",
       "    this.rubberband_context = rubberband_canvas.getContext('2d');\n",
       "    this.rubberband_context.strokeStyle = '#000000';\n",
       "\n",
       "    this._resize_canvas = function (width, height, forward) {\n",
       "        if (forward) {\n",
       "            canvas_div.style.width = width + 'px';\n",
       "            canvas_div.style.height = height + 'px';\n",
       "        }\n",
       "    };\n",
       "\n",
       "    // Disable right mouse context menu.\n",
       "    this.rubberband_canvas.addEventListener('contextmenu', function (_e) {\n",
       "        event.preventDefault();\n",
       "        return false;\n",
       "    });\n",
       "\n",
       "    function set_focus() {\n",
       "        canvas.focus();\n",
       "        canvas_div.focus();\n",
       "    }\n",
       "\n",
       "    window.setTimeout(set_focus, 100);\n",
       "};\n",
       "\n",
       "mpl.figure.prototype._init_toolbar = function () {\n",
       "    var fig = this;\n",
       "\n",
       "    var toolbar = document.createElement('div');\n",
       "    toolbar.classList = 'mpl-toolbar';\n",
       "    this.root.appendChild(toolbar);\n",
       "\n",
       "    function on_click_closure(name) {\n",
       "        return function (_event) {\n",
       "            return fig.toolbar_button_onclick(name);\n",
       "        };\n",
       "    }\n",
       "\n",
       "    function on_mouseover_closure(tooltip) {\n",
       "        return function (event) {\n",
       "            if (!event.currentTarget.disabled) {\n",
       "                return fig.toolbar_button_onmouseover(tooltip);\n",
       "            }\n",
       "        };\n",
       "    }\n",
       "\n",
       "    fig.buttons = {};\n",
       "    var buttonGroup = document.createElement('div');\n",
       "    buttonGroup.classList = 'mpl-button-group';\n",
       "    for (var toolbar_ind in mpl.toolbar_items) {\n",
       "        var name = mpl.toolbar_items[toolbar_ind][0];\n",
       "        var tooltip = mpl.toolbar_items[toolbar_ind][1];\n",
       "        var image = mpl.toolbar_items[toolbar_ind][2];\n",
       "        var method_name = mpl.toolbar_items[toolbar_ind][3];\n",
       "\n",
       "        if (!name) {\n",
       "            /* Instead of a spacer, we start a new button group. */\n",
       "            if (buttonGroup.hasChildNodes()) {\n",
       "                toolbar.appendChild(buttonGroup);\n",
       "            }\n",
       "            buttonGroup = document.createElement('div');\n",
       "            buttonGroup.classList = 'mpl-button-group';\n",
       "            continue;\n",
       "        }\n",
       "\n",
       "        var button = (fig.buttons[name] = document.createElement('button'));\n",
       "        button.classList = 'mpl-widget';\n",
       "        button.setAttribute('role', 'button');\n",
       "        button.setAttribute('aria-disabled', 'false');\n",
       "        button.addEventListener('click', on_click_closure(method_name));\n",
       "        button.addEventListener('mouseover', on_mouseover_closure(tooltip));\n",
       "\n",
       "        var icon_img = document.createElement('img');\n",
       "        icon_img.src = '_images/' + image + '.png';\n",
       "        icon_img.srcset = '_images/' + image + '_large.png 2x';\n",
       "        icon_img.alt = tooltip;\n",
       "        button.appendChild(icon_img);\n",
       "\n",
       "        buttonGroup.appendChild(button);\n",
       "    }\n",
       "\n",
       "    if (buttonGroup.hasChildNodes()) {\n",
       "        toolbar.appendChild(buttonGroup);\n",
       "    }\n",
       "\n",
       "    var fmt_picker = document.createElement('select');\n",
       "    fmt_picker.classList = 'mpl-widget';\n",
       "    toolbar.appendChild(fmt_picker);\n",
       "    this.format_dropdown = fmt_picker;\n",
       "\n",
       "    for (var ind in mpl.extensions) {\n",
       "        var fmt = mpl.extensions[ind];\n",
       "        var option = document.createElement('option');\n",
       "        option.selected = fmt === mpl.default_extension;\n",
       "        option.innerHTML = fmt;\n",
       "        fmt_picker.appendChild(option);\n",
       "    }\n",
       "\n",
       "    var status_bar = document.createElement('span');\n",
       "    status_bar.classList = 'mpl-message';\n",
       "    toolbar.appendChild(status_bar);\n",
       "    this.message = status_bar;\n",
       "};\n",
       "\n",
       "mpl.figure.prototype.request_resize = function (x_pixels, y_pixels) {\n",
       "    // Request matplotlib to resize the figure. Matplotlib will then trigger a resize in the client,\n",
       "    // which will in turn request a refresh of the image.\n",
       "    this.send_message('resize', { width: x_pixels, height: y_pixels });\n",
       "};\n",
       "\n",
       "mpl.figure.prototype.send_message = function (type, properties) {\n",
       "    properties['type'] = type;\n",
       "    properties['figure_id'] = this.id;\n",
       "    this.ws.send(JSON.stringify(properties));\n",
       "};\n",
       "\n",
       "mpl.figure.prototype.send_draw_message = function () {\n",
       "    if (!this.waiting) {\n",
       "        this.waiting = true;\n",
       "        this.ws.send(JSON.stringify({ type: 'draw', figure_id: this.id }));\n",
       "    }\n",
       "};\n",
       "\n",
       "mpl.figure.prototype.handle_save = function (fig, _msg) {\n",
       "    var format_dropdown = fig.format_dropdown;\n",
       "    var format = format_dropdown.options[format_dropdown.selectedIndex].value;\n",
       "    fig.ondownload(fig, format);\n",
       "};\n",
       "\n",
       "mpl.figure.prototype.handle_resize = function (fig, msg) {\n",
       "    var size = msg['size'];\n",
       "    if (size[0] !== fig.canvas.width || size[1] !== fig.canvas.height) {\n",
       "        fig._resize_canvas(size[0], size[1], msg['forward']);\n",
       "        fig.send_message('refresh', {});\n",
       "    }\n",
       "};\n",
       "\n",
       "mpl.figure.prototype.handle_rubberband = function (fig, msg) {\n",
       "    var x0 = msg['x0'] / fig.ratio;\n",
       "    var y0 = (fig.canvas.height - msg['y0']) / fig.ratio;\n",
       "    var x1 = msg['x1'] / fig.ratio;\n",
       "    var y1 = (fig.canvas.height - msg['y1']) / fig.ratio;\n",
       "    x0 = Math.floor(x0) + 0.5;\n",
       "    y0 = Math.floor(y0) + 0.5;\n",
       "    x1 = Math.floor(x1) + 0.5;\n",
       "    y1 = Math.floor(y1) + 0.5;\n",
       "    var min_x = Math.min(x0, x1);\n",
       "    var min_y = Math.min(y0, y1);\n",
       "    var width = Math.abs(x1 - x0);\n",
       "    var height = Math.abs(y1 - y0);\n",
       "\n",
       "    fig.rubberband_context.clearRect(\n",
       "        0,\n",
       "        0,\n",
       "        fig.canvas.width / fig.ratio,\n",
       "        fig.canvas.height / fig.ratio\n",
       "    );\n",
       "\n",
       "    fig.rubberband_context.strokeRect(min_x, min_y, width, height);\n",
       "};\n",
       "\n",
       "mpl.figure.prototype.handle_figure_label = function (fig, msg) {\n",
       "    // Updates the figure title.\n",
       "    fig.header.textContent = msg['label'];\n",
       "};\n",
       "\n",
       "mpl.figure.prototype.handle_cursor = function (fig, msg) {\n",
       "    var cursor = msg['cursor'];\n",
       "    switch (cursor) {\n",
       "        case 0:\n",
       "            cursor = 'pointer';\n",
       "            break;\n",
       "        case 1:\n",
       "            cursor = 'default';\n",
       "            break;\n",
       "        case 2:\n",
       "            cursor = 'crosshair';\n",
       "            break;\n",
       "        case 3:\n",
       "            cursor = 'move';\n",
       "            break;\n",
       "    }\n",
       "    fig.rubberband_canvas.style.cursor = cursor;\n",
       "};\n",
       "\n",
       "mpl.figure.prototype.handle_message = function (fig, msg) {\n",
       "    fig.message.textContent = msg['message'];\n",
       "};\n",
       "\n",
       "mpl.figure.prototype.handle_draw = function (fig, _msg) {\n",
       "    // Request the server to send over a new figure.\n",
       "    fig.send_draw_message();\n",
       "};\n",
       "\n",
       "mpl.figure.prototype.handle_image_mode = function (fig, msg) {\n",
       "    fig.image_mode = msg['mode'];\n",
       "};\n",
       "\n",
       "mpl.figure.prototype.handle_history_buttons = function (fig, msg) {\n",
       "    for (var key in msg) {\n",
       "        if (!(key in fig.buttons)) {\n",
       "            continue;\n",
       "        }\n",
       "        fig.buttons[key].disabled = !msg[key];\n",
       "        fig.buttons[key].setAttribute('aria-disabled', !msg[key]);\n",
       "    }\n",
       "};\n",
       "\n",
       "mpl.figure.prototype.handle_navigate_mode = function (fig, msg) {\n",
       "    if (msg['mode'] === 'PAN') {\n",
       "        fig.buttons['Pan'].classList.add('active');\n",
       "        fig.buttons['Zoom'].classList.remove('active');\n",
       "    } else if (msg['mode'] === 'ZOOM') {\n",
       "        fig.buttons['Pan'].classList.remove('active');\n",
       "        fig.buttons['Zoom'].classList.add('active');\n",
       "    } else {\n",
       "        fig.buttons['Pan'].classList.remove('active');\n",
       "        fig.buttons['Zoom'].classList.remove('active');\n",
       "    }\n",
       "};\n",
       "\n",
       "mpl.figure.prototype.updated_canvas_event = function () {\n",
       "    // Called whenever the canvas gets updated.\n",
       "    this.send_message('ack', {});\n",
       "};\n",
       "\n",
       "// A function to construct a web socket function for onmessage handling.\n",
       "// Called in the figure constructor.\n",
       "mpl.figure.prototype._make_on_message_function = function (fig) {\n",
       "    return function socket_on_message(evt) {\n",
       "        if (evt.data instanceof Blob) {\n",
       "            var img = evt.data;\n",
       "            if (img.type !== 'image/png') {\n",
       "                /* FIXME: We get \"Resource interpreted as Image but\n",
       "                 * transferred with MIME type text/plain:\" errors on\n",
       "                 * Chrome.  But how to set the MIME type?  It doesn't seem\n",
       "                 * to be part of the websocket stream */\n",
       "                img.type = 'image/png';\n",
       "            }\n",
       "\n",
       "            /* Free the memory for the previous frames */\n",
       "            if (fig.imageObj.src) {\n",
       "                (window.URL || window.webkitURL).revokeObjectURL(\n",
       "                    fig.imageObj.src\n",
       "                );\n",
       "            }\n",
       "\n",
       "            fig.imageObj.src = (window.URL || window.webkitURL).createObjectURL(\n",
       "                img\n",
       "            );\n",
       "            fig.updated_canvas_event();\n",
       "            fig.waiting = false;\n",
       "            return;\n",
       "        } else if (\n",
       "            typeof evt.data === 'string' &&\n",
       "            evt.data.slice(0, 21) === 'data:image/png;base64'\n",
       "        ) {\n",
       "            fig.imageObj.src = evt.data;\n",
       "            fig.updated_canvas_event();\n",
       "            fig.waiting = false;\n",
       "            return;\n",
       "        }\n",
       "\n",
       "        var msg = JSON.parse(evt.data);\n",
       "        var msg_type = msg['type'];\n",
       "\n",
       "        // Call the  \"handle_{type}\" callback, which takes\n",
       "        // the figure and JSON message as its only arguments.\n",
       "        try {\n",
       "            var callback = fig['handle_' + msg_type];\n",
       "        } catch (e) {\n",
       "            console.log(\n",
       "                \"No handler for the '\" + msg_type + \"' message type: \",\n",
       "                msg\n",
       "            );\n",
       "            return;\n",
       "        }\n",
       "\n",
       "        if (callback) {\n",
       "            try {\n",
       "                // console.log(\"Handling '\" + msg_type + \"' message: \", msg);\n",
       "                callback(fig, msg);\n",
       "            } catch (e) {\n",
       "                console.log(\n",
       "                    \"Exception inside the 'handler_\" + msg_type + \"' callback:\",\n",
       "                    e,\n",
       "                    e.stack,\n",
       "                    msg\n",
       "                );\n",
       "            }\n",
       "        }\n",
       "    };\n",
       "};\n",
       "\n",
       "// from http://stackoverflow.com/questions/1114465/getting-mouse-location-in-canvas\n",
       "mpl.findpos = function (e) {\n",
       "    //this section is from http://www.quirksmode.org/js/events_properties.html\n",
       "    var targ;\n",
       "    if (!e) {\n",
       "        e = window.event;\n",
       "    }\n",
       "    if (e.target) {\n",
       "        targ = e.target;\n",
       "    } else if (e.srcElement) {\n",
       "        targ = e.srcElement;\n",
       "    }\n",
       "    if (targ.nodeType === 3) {\n",
       "        // defeat Safari bug\n",
       "        targ = targ.parentNode;\n",
       "    }\n",
       "\n",
       "    // pageX,Y are the mouse positions relative to the document\n",
       "    var boundingRect = targ.getBoundingClientRect();\n",
       "    var x = e.pageX - (boundingRect.left + document.body.scrollLeft);\n",
       "    var y = e.pageY - (boundingRect.top + document.body.scrollTop);\n",
       "\n",
       "    return { x: x, y: y };\n",
       "};\n",
       "\n",
       "/*\n",
       " * return a copy of an object with only non-object keys\n",
       " * we need this to avoid circular references\n",
       " * http://stackoverflow.com/a/24161582/3208463\n",
       " */\n",
       "function simpleKeys(original) {\n",
       "    return Object.keys(original).reduce(function (obj, key) {\n",
       "        if (typeof original[key] !== 'object') {\n",
       "            obj[key] = original[key];\n",
       "        }\n",
       "        return obj;\n",
       "    }, {});\n",
       "}\n",
       "\n",
       "mpl.figure.prototype.mouse_event = function (event, name) {\n",
       "    var canvas_pos = mpl.findpos(event);\n",
       "\n",
       "    if (name === 'button_press') {\n",
       "        this.canvas.focus();\n",
       "        this.canvas_div.focus();\n",
       "    }\n",
       "\n",
       "    var x = canvas_pos.x * this.ratio;\n",
       "    var y = canvas_pos.y * this.ratio;\n",
       "\n",
       "    this.send_message(name, {\n",
       "        x: x,\n",
       "        y: y,\n",
       "        button: event.button,\n",
       "        step: event.step,\n",
       "        guiEvent: simpleKeys(event),\n",
       "    });\n",
       "\n",
       "    /* This prevents the web browser from automatically changing to\n",
       "     * the text insertion cursor when the button is pressed.  We want\n",
       "     * to control all of the cursor setting manually through the\n",
       "     * 'cursor' event from matplotlib */\n",
       "    event.preventDefault();\n",
       "    return false;\n",
       "};\n",
       "\n",
       "mpl.figure.prototype._key_event_extra = function (_event, _name) {\n",
       "    // Handle any extra behaviour associated with a key event\n",
       "};\n",
       "\n",
       "mpl.figure.prototype.key_event = function (event, name) {\n",
       "    // Prevent repeat events\n",
       "    if (name === 'key_press') {\n",
       "        if (event.key === this._key) {\n",
       "            return;\n",
       "        } else {\n",
       "            this._key = event.key;\n",
       "        }\n",
       "    }\n",
       "    if (name === 'key_release') {\n",
       "        this._key = null;\n",
       "    }\n",
       "\n",
       "    var value = '';\n",
       "    if (event.ctrlKey && event.key !== 'Control') {\n",
       "        value += 'ctrl+';\n",
       "    }\n",
       "    else if (event.altKey && event.key !== 'Alt') {\n",
       "        value += 'alt+';\n",
       "    }\n",
       "    else if (event.shiftKey && event.key !== 'Shift') {\n",
       "        value += 'shift+';\n",
       "    }\n",
       "\n",
       "    value += 'k' + event.key;\n",
       "\n",
       "    this._key_event_extra(event, name);\n",
       "\n",
       "    this.send_message(name, { key: value, guiEvent: simpleKeys(event) });\n",
       "    return false;\n",
       "};\n",
       "\n",
       "mpl.figure.prototype.toolbar_button_onclick = function (name) {\n",
       "    if (name === 'download') {\n",
       "        this.handle_save(this, null);\n",
       "    } else {\n",
       "        this.send_message('toolbar_button', { name: name });\n",
       "    }\n",
       "};\n",
       "\n",
       "mpl.figure.prototype.toolbar_button_onmouseover = function (tooltip) {\n",
       "    this.message.textContent = tooltip;\n",
       "};\n",
       "\n",
       "///////////////// REMAINING CONTENT GENERATED BY embed_js.py /////////////////\n",
       "// prettier-ignore\n",
       "var _JSXTOOLS_RESIZE_OBSERVER=function(A){var t,i=new WeakMap,n=new WeakMap,a=new WeakMap,r=new WeakMap,o=new Set;function s(e){if(!(this instanceof s))throw new TypeError(\"Constructor requires 'new' operator\");i.set(this,e)}function h(){throw new TypeError(\"Function is not a constructor\")}function c(e,t,i,n){e=0 in arguments?Number(arguments[0]):0,t=1 in arguments?Number(arguments[1]):0,i=2 in arguments?Number(arguments[2]):0,n=3 in arguments?Number(arguments[3]):0,this.right=(this.x=this.left=e)+(this.width=i),this.bottom=(this.y=this.top=t)+(this.height=n),Object.freeze(this)}function d(){t=requestAnimationFrame(d);var s=new WeakMap,p=new Set;o.forEach((function(t){r.get(t).forEach((function(i){var r=t instanceof window.SVGElement,o=a.get(t),d=r?0:parseFloat(o.paddingTop),f=r?0:parseFloat(o.paddingRight),l=r?0:parseFloat(o.paddingBottom),u=r?0:parseFloat(o.paddingLeft),g=r?0:parseFloat(o.borderTopWidth),m=r?0:parseFloat(o.borderRightWidth),w=r?0:parseFloat(o.borderBottomWidth),b=u+f,F=d+l,v=(r?0:parseFloat(o.borderLeftWidth))+m,W=g+w,y=r?0:t.offsetHeight-W-t.clientHeight,E=r?0:t.offsetWidth-v-t.clientWidth,R=b+v,z=F+W,M=r?t.width:parseFloat(o.width)-R-E,O=r?t.height:parseFloat(o.height)-z-y;if(n.has(t)){var k=n.get(t);if(k[0]===M&&k[1]===O)return}n.set(t,[M,O]);var S=Object.create(h.prototype);S.target=t,S.contentRect=new c(u,d,M,O),s.has(i)||(s.set(i,[]),p.add(i)),s.get(i).push(S)}))})),p.forEach((function(e){i.get(e).call(e,s.get(e),e)}))}return s.prototype.observe=function(i){if(i instanceof window.Element){r.has(i)||(r.set(i,new Set),o.add(i),a.set(i,window.getComputedStyle(i)));var n=r.get(i);n.has(this)||n.add(this),cancelAnimationFrame(t),t=requestAnimationFrame(d)}},s.prototype.unobserve=function(i){if(i instanceof window.Element&&r.has(i)){var n=r.get(i);n.has(this)&&(n.delete(this),n.size||(r.delete(i),o.delete(i))),n.size||r.delete(i),o.size||cancelAnimationFrame(t)}},A.DOMRectReadOnly=c,A.ResizeObserver=s,A.ResizeObserverEntry=h,A}; // eslint-disable-line\n",
       "mpl.toolbar_items = [[\"Home\", \"Reset original view\", \"fa fa-home icon-home\", \"home\"], [\"Back\", \"Back to previous view\", \"fa fa-arrow-left icon-arrow-left\", \"back\"], [\"Forward\", \"Forward to next view\", \"fa fa-arrow-right icon-arrow-right\", \"forward\"], [\"\", \"\", \"\", \"\"], [\"Pan\", \"Left button pans, Right button zooms\\nx/y fixes axis, CTRL fixes aspect\", \"fa fa-arrows icon-move\", \"pan\"], [\"Zoom\", \"Zoom to rectangle\\nx/y fixes axis, CTRL fixes aspect\", \"fa fa-square-o icon-check-empty\", \"zoom\"], [\"\", \"\", \"\", \"\"], [\"Download\", \"Download plot\", \"fa fa-floppy-o icon-save\", \"download\"]];\n",
       "\n",
       "mpl.extensions = [\"eps\", \"jpeg\", \"pgf\", \"pdf\", \"png\", \"ps\", \"raw\", \"svg\", \"tif\"];\n",
       "\n",
       "mpl.default_extension = \"png\";/* global mpl */\n",
       "\n",
       "var comm_websocket_adapter = function (comm) {\n",
       "    // Create a \"websocket\"-like object which calls the given IPython comm\n",
       "    // object with the appropriate methods. Currently this is a non binary\n",
       "    // socket, so there is still some room for performance tuning.\n",
       "    var ws = {};\n",
       "\n",
       "    ws.binaryType = comm.kernel.ws.binaryType;\n",
       "    ws.readyState = comm.kernel.ws.readyState;\n",
       "    function updateReadyState(_event) {\n",
       "        if (comm.kernel.ws) {\n",
       "            ws.readyState = comm.kernel.ws.readyState;\n",
       "        } else {\n",
       "            ws.readyState = 3; // Closed state.\n",
       "        }\n",
       "    }\n",
       "    comm.kernel.ws.addEventListener('open', updateReadyState);\n",
       "    comm.kernel.ws.addEventListener('close', updateReadyState);\n",
       "    comm.kernel.ws.addEventListener('error', updateReadyState);\n",
       "\n",
       "    ws.close = function () {\n",
       "        comm.close();\n",
       "    };\n",
       "    ws.send = function (m) {\n",
       "        //console.log('sending', m);\n",
       "        comm.send(m);\n",
       "    };\n",
       "    // Register the callback with on_msg.\n",
       "    comm.on_msg(function (msg) {\n",
       "        //console.log('receiving', msg['content']['data'], msg);\n",
       "        var data = msg['content']['data'];\n",
       "        if (data['blob'] !== undefined) {\n",
       "            data = {\n",
       "                data: new Blob(msg['buffers'], { type: data['blob'] }),\n",
       "            };\n",
       "        }\n",
       "        // Pass the mpl event to the overridden (by mpl) onmessage function.\n",
       "        ws.onmessage(data);\n",
       "    });\n",
       "    return ws;\n",
       "};\n",
       "\n",
       "mpl.mpl_figure_comm = function (comm, msg) {\n",
       "    // This is the function which gets called when the mpl process\n",
       "    // starts-up an IPython Comm through the \"matplotlib\" channel.\n",
       "\n",
       "    var id = msg.content.data.id;\n",
       "    // Get hold of the div created by the display call when the Comm\n",
       "    // socket was opened in Python.\n",
       "    var element = document.getElementById(id);\n",
       "    var ws_proxy = comm_websocket_adapter(comm);\n",
       "\n",
       "    function ondownload(figure, _format) {\n",
       "        window.open(figure.canvas.toDataURL());\n",
       "    }\n",
       "\n",
       "    var fig = new mpl.figure(id, ws_proxy, ondownload, element);\n",
       "\n",
       "    // Call onopen now - mpl needs it, as it is assuming we've passed it a real\n",
       "    // web socket which is closed, not our websocket->open comm proxy.\n",
       "    ws_proxy.onopen();\n",
       "\n",
       "    fig.parent_element = element;\n",
       "    fig.cell_info = mpl.find_output_cell(\"<div id='\" + id + \"'></div>\");\n",
       "    if (!fig.cell_info) {\n",
       "        console.error('Failed to find cell for figure', id, fig);\n",
       "        return;\n",
       "    }\n",
       "    fig.cell_info[0].output_area.element.on(\n",
       "        'cleared',\n",
       "        { fig: fig },\n",
       "        fig._remove_fig_handler\n",
       "    );\n",
       "};\n",
       "\n",
       "mpl.figure.prototype.handle_close = function (fig, msg) {\n",
       "    var width = fig.canvas.width / fig.ratio;\n",
       "    fig.cell_info[0].output_area.element.off(\n",
       "        'cleared',\n",
       "        fig._remove_fig_handler\n",
       "    );\n",
       "    fig.resizeObserverInstance.unobserve(fig.canvas_div);\n",
       "\n",
       "    // Update the output cell to use the data from the current canvas.\n",
       "    fig.push_to_output();\n",
       "    var dataURL = fig.canvas.toDataURL();\n",
       "    // Re-enable the keyboard manager in IPython - without this line, in FF,\n",
       "    // the notebook keyboard shortcuts fail.\n",
       "    IPython.keyboard_manager.enable();\n",
       "    fig.parent_element.innerHTML =\n",
       "        '<img src=\"' + dataURL + '\" width=\"' + width + '\">';\n",
       "    fig.close_ws(fig, msg);\n",
       "};\n",
       "\n",
       "mpl.figure.prototype.close_ws = function (fig, msg) {\n",
       "    fig.send_message('closing', msg);\n",
       "    // fig.ws.close()\n",
       "};\n",
       "\n",
       "mpl.figure.prototype.push_to_output = function (_remove_interactive) {\n",
       "    // Turn the data on the canvas into data in the output cell.\n",
       "    var width = this.canvas.width / this.ratio;\n",
       "    var dataURL = this.canvas.toDataURL();\n",
       "    this.cell_info[1]['text/html'] =\n",
       "        '<img src=\"' + dataURL + '\" width=\"' + width + '\">';\n",
       "};\n",
       "\n",
       "mpl.figure.prototype.updated_canvas_event = function () {\n",
       "    // Tell IPython that the notebook contents must change.\n",
       "    IPython.notebook.set_dirty(true);\n",
       "    this.send_message('ack', {});\n",
       "    var fig = this;\n",
       "    // Wait a second, then push the new image to the DOM so\n",
       "    // that it is saved nicely (might be nice to debounce this).\n",
       "    setTimeout(function () {\n",
       "        fig.push_to_output();\n",
       "    }, 1000);\n",
       "};\n",
       "\n",
       "mpl.figure.prototype._init_toolbar = function () {\n",
       "    var fig = this;\n",
       "\n",
       "    var toolbar = document.createElement('div');\n",
       "    toolbar.classList = 'btn-toolbar';\n",
       "    this.root.appendChild(toolbar);\n",
       "\n",
       "    function on_click_closure(name) {\n",
       "        return function (_event) {\n",
       "            return fig.toolbar_button_onclick(name);\n",
       "        };\n",
       "    }\n",
       "\n",
       "    function on_mouseover_closure(tooltip) {\n",
       "        return function (event) {\n",
       "            if (!event.currentTarget.disabled) {\n",
       "                return fig.toolbar_button_onmouseover(tooltip);\n",
       "            }\n",
       "        };\n",
       "    }\n",
       "\n",
       "    fig.buttons = {};\n",
       "    var buttonGroup = document.createElement('div');\n",
       "    buttonGroup.classList = 'btn-group';\n",
       "    var button;\n",
       "    for (var toolbar_ind in mpl.toolbar_items) {\n",
       "        var name = mpl.toolbar_items[toolbar_ind][0];\n",
       "        var tooltip = mpl.toolbar_items[toolbar_ind][1];\n",
       "        var image = mpl.toolbar_items[toolbar_ind][2];\n",
       "        var method_name = mpl.toolbar_items[toolbar_ind][3];\n",
       "\n",
       "        if (!name) {\n",
       "            /* Instead of a spacer, we start a new button group. */\n",
       "            if (buttonGroup.hasChildNodes()) {\n",
       "                toolbar.appendChild(buttonGroup);\n",
       "            }\n",
       "            buttonGroup = document.createElement('div');\n",
       "            buttonGroup.classList = 'btn-group';\n",
       "            continue;\n",
       "        }\n",
       "\n",
       "        button = fig.buttons[name] = document.createElement('button');\n",
       "        button.classList = 'btn btn-default';\n",
       "        button.href = '#';\n",
       "        button.title = name;\n",
       "        button.innerHTML = '<i class=\"fa ' + image + ' fa-lg\"></i>';\n",
       "        button.addEventListener('click', on_click_closure(method_name));\n",
       "        button.addEventListener('mouseover', on_mouseover_closure(tooltip));\n",
       "        buttonGroup.appendChild(button);\n",
       "    }\n",
       "\n",
       "    if (buttonGroup.hasChildNodes()) {\n",
       "        toolbar.appendChild(buttonGroup);\n",
       "    }\n",
       "\n",
       "    // Add the status bar.\n",
       "    var status_bar = document.createElement('span');\n",
       "    status_bar.classList = 'mpl-message pull-right';\n",
       "    toolbar.appendChild(status_bar);\n",
       "    this.message = status_bar;\n",
       "\n",
       "    // Add the close button to the window.\n",
       "    var buttongrp = document.createElement('div');\n",
       "    buttongrp.classList = 'btn-group inline pull-right';\n",
       "    button = document.createElement('button');\n",
       "    button.classList = 'btn btn-mini btn-primary';\n",
       "    button.href = '#';\n",
       "    button.title = 'Stop Interaction';\n",
       "    button.innerHTML = '<i class=\"fa fa-power-off icon-remove icon-large\"></i>';\n",
       "    button.addEventListener('click', function (_evt) {\n",
       "        fig.handle_close(fig, {});\n",
       "    });\n",
       "    button.addEventListener(\n",
       "        'mouseover',\n",
       "        on_mouseover_closure('Stop Interaction')\n",
       "    );\n",
       "    buttongrp.appendChild(button);\n",
       "    var titlebar = this.root.querySelector('.ui-dialog-titlebar');\n",
       "    titlebar.insertBefore(buttongrp, titlebar.firstChild);\n",
       "};\n",
       "\n",
       "mpl.figure.prototype._remove_fig_handler = function (event) {\n",
       "    var fig = event.data.fig;\n",
       "    if (event.target !== this) {\n",
       "        // Ignore bubbled events from children.\n",
       "        return;\n",
       "    }\n",
       "    fig.close_ws(fig, {});\n",
       "};\n",
       "\n",
       "mpl.figure.prototype._root_extra_style = function (el) {\n",
       "    el.style.boxSizing = 'content-box'; // override notebook setting of border-box.\n",
       "};\n",
       "\n",
       "mpl.figure.prototype._canvas_extra_style = function (el) {\n",
       "    // this is important to make the div 'focusable\n",
       "    el.setAttribute('tabindex', 0);\n",
       "    // reach out to IPython and tell the keyboard manager to turn it's self\n",
       "    // off when our div gets focus\n",
       "\n",
       "    // location in version 3\n",
       "    if (IPython.notebook.keyboard_manager) {\n",
       "        IPython.notebook.keyboard_manager.register_events(el);\n",
       "    } else {\n",
       "        // location in version 2\n",
       "        IPython.keyboard_manager.register_events(el);\n",
       "    }\n",
       "};\n",
       "\n",
       "mpl.figure.prototype._key_event_extra = function (event, _name) {\n",
       "    var manager = IPython.notebook.keyboard_manager;\n",
       "    if (!manager) {\n",
       "        manager = IPython.keyboard_manager;\n",
       "    }\n",
       "\n",
       "    // Check for shift+enter\n",
       "    if (event.shiftKey && event.which === 13) {\n",
       "        this.canvas_div.blur();\n",
       "        // select the cell after this one\n",
       "        var index = IPython.notebook.find_cell_index(this.cell_info[0]);\n",
       "        IPython.notebook.select(index + 1);\n",
       "    }\n",
       "};\n",
       "\n",
       "mpl.figure.prototype.handle_save = function (fig, _msg) {\n",
       "    fig.ondownload(fig, null);\n",
       "};\n",
       "\n",
       "mpl.find_output_cell = function (html_output) {\n",
       "    // Return the cell and output element which can be found *uniquely* in the notebook.\n",
       "    // Note - this is a bit hacky, but it is done because the \"notebook_saving.Notebook\"\n",
       "    // IPython event is triggered only after the cells have been serialised, which for\n",
       "    // our purposes (turning an active figure into a static one), is too late.\n",
       "    var cells = IPython.notebook.get_cells();\n",
       "    var ncells = cells.length;\n",
       "    for (var i = 0; i < ncells; i++) {\n",
       "        var cell = cells[i];\n",
       "        if (cell.cell_type === 'code') {\n",
       "            for (var j = 0; j < cell.output_area.outputs.length; j++) {\n",
       "                var data = cell.output_area.outputs[j];\n",
       "                if (data.data) {\n",
       "                    // IPython >= 3 moved mimebundle to data attribute of output\n",
       "                    data = data.data;\n",
       "                }\n",
       "                if (data['text/html'] === html_output) {\n",
       "                    return [cell, data, j];\n",
       "                }\n",
       "            }\n",
       "        }\n",
       "    }\n",
       "};\n",
       "\n",
       "// Register the function which deals with the matplotlib target/channel.\n",
       "// The kernel may be null if the page has been refreshed.\n",
       "if (IPython.notebook.kernel !== null) {\n",
       "    IPython.notebook.kernel.comm_manager.register_target(\n",
       "        'matplotlib',\n",
       "        mpl.mpl_figure_comm\n",
       "    );\n",
       "}\n"
      ],
      "text/plain": [
       "<IPython.core.display.Javascript object>"
      ]
     },
     "metadata": {},
     "output_type": "display_data"
    },
    {
     "data": {
      "text/html": [
       "<img src=\"data:image/png;base64,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\" width=\"1000\">"
      ],
      "text/plain": [
       "<IPython.core.display.HTML object>"
      ]
     },
     "metadata": {},
     "output_type": "display_data"
    },
    {
     "name": "stderr",
     "output_type": "stream",
     "text": [
      "<ipython-input-64-d78263ff79cf>:6: UserWarning: color is redundantly defined by the 'color' keyword argument and the fmt string \"ro\" (-> color='r'). The keyword argument will take precedence.\n",
      "  ax.plot(spikes, [-30]*np.asarray(spikes).shape[0], 'ro', ms=2, c=\"#D9580D\")\n"
     ]
    }
   ],
   "source": [
    "fig, ax = plt.subplots(1, 1, figsize = (10,4))\n",
    "\n",
    "\n",
    "ax.plot(time_in_sec[:second_cut], bandpass_sig, c = '#048ABF',  linewidth = 0.5)\n",
    "ax.plot(time_in_sec[:second_cut], lowpass_sig, c = '#D904B5',  linewidth = 1)\n",
    "ax.plot(spikes, [-30]*np.asarray(spikes).shape[0], 'ro', ms=2, c=\"#D9580D\")\n",
    "ax.plot(time_in_sec, cs_threshold_line, c = '#D904B5', linewidth = 0.5 )\n",
    "ax.plot(time_in_sec, -cs_threshold_line, c = '#D904B5', linewidth = 0.5 )\n",
    "#ax.plot(time_in_sec, -threshold_line, c = '#D904B5', linewidth = 0.5 )\n",
    "#ax.plot(time_in_sec, cs, c = '#263140',  linewidth = 1)\n",
    "\n",
    "\n",
    "for i in cut_network_bursts_seconds:\n",
    "    ax = plt.axvspan(i[0], i[1], .0, .5, color= '#C1D96C', alpha = 0.4)\n",
    "for i in cs_down_cross:\n",
    "    ax = plt.axvspan(i[0], i[1], color='#5D7CA6', alpha=0.2)\n",
    "for i in cs_up_cross:\n",
    "    ax = plt.axvspan(i[0], i[1], color='#BF214B', alpha=0.2)\n",
    "for i in cut_channel_bursts_seconds:\n",
    "    ax = plt.axvspan(i[0], i[1], .1, .15, color= '#D9580D', alpha = 0.4)"
   ]
  },
  {
   "cell_type": "code",
   "execution_count": 65,
   "id": "f4e961e4",
   "metadata": {},
   "outputs": [
    {
     "data": {
      "text/plain": [
       "[(90.4776, 90.77992), (106.71768, 107.01487999999999)]"
      ]
     },
     "execution_count": 65,
     "metadata": {},
     "output_type": "execute_result"
    }
   ],
   "source": [
    "lfp_ups[channel_look]"
   ]
  },
  {
   "cell_type": "code",
   "execution_count": 66,
   "id": "688f0ba0",
   "metadata": {},
   "outputs": [
    {
     "data": {
      "text/plain": [
       "[94.3231968110303, 77.1519002906229]"
      ]
     },
     "execution_count": 66,
     "metadata": {},
     "output_type": "execute_result"
    }
   ],
   "source": [
    "lfp_amplit_ups[channel_look]"
   ]
  },
  {
   "cell_type": "code",
   "execution_count": 67,
   "id": "1f2e7470",
   "metadata": {},
   "outputs": [],
   "source": [
    "Infos_Anatomy = MAIN_RECORDING_DICTIONARY['Infos_Anatomy']\n"
   ]
  },
  {
   "cell_type": "code",
   "execution_count": 68,
   "id": "33c1a9f2",
   "metadata": {
    "tags": []
   },
   "outputs": [
    {
     "data": {
      "text/plain": [
       "{'G13': [-73.13643627472727, -84.58607139186829],\n",
       " 'G12': [-41.712318681314144, -36.769194766316936],\n",
       " 'F16': [-57.170623632418234, -36.45822650323897],\n",
       " 'F15': [-189.19374702595235, -226.7304560141054],\n",
       " 'F14': [-34.831037762163014, -76.36191036242164],\n",
       " 'F13': [-30.00746321289154, -37.06850433535183],\n",
       " 'F12': [-19.856881786041736],\n",
       " 'E16': [],\n",
       " 'E15': [-54.61631350935918, -41.992304839437345],\n",
       " 'E14': [],\n",
       " 'E13': [],\n",
       " 'G11': [-26.402153365608378],\n",
       " 'D16': [],\n",
       " 'D15': [],\n",
       " 'D14': [],\n",
       " 'H9': [],\n",
       " 'F11': [],\n",
       " 'C16': [],\n",
       " 'C15': [],\n",
       " 'D13': [],\n",
       " 'B16': [],\n",
       " 'B15': [],\n",
       " 'C14': [],\n",
       " 'A15': [],\n",
       " 'A14': [],\n",
       " 'B14': [],\n",
       " 'G10': [],\n",
       " 'E12': [],\n",
       " 'B13': [],\n",
       " 'C13': [],\n",
       " 'F10': [],\n",
       " 'A13': [],\n",
       " 'C12': [],\n",
       " 'D12': [],\n",
       " 'A12': [],\n",
       " 'B12': [-24.700836947475597],\n",
       " 'D11': [],\n",
       " 'E11': [],\n",
       " 'B11': [],\n",
       " 'C11': [],\n",
       " 'E10': [],\n",
       " 'A11': [],\n",
       " 'C10': [],\n",
       " 'D10': [],\n",
       " 'A10': [],\n",
       " 'B10': [],\n",
       " 'D9': [],\n",
       " 'E9': [],\n",
       " 'B9': [],\n",
       " 'C9': [],\n",
       " 'F9': [],\n",
       " 'A9': [],\n",
       " 'G8': [],\n",
       " 'G9': [],\n",
       " 'A8': [],\n",
       " 'F8': [],\n",
       " 'C8': [],\n",
       " 'B8': [],\n",
       " 'E8': [],\n",
       " 'D8': [],\n",
       " 'B7': [],\n",
       " 'A7': [],\n",
       " 'D7': [],\n",
       " 'C7': [],\n",
       " 'A6': [],\n",
       " 'E7': [],\n",
       " 'C6': [],\n",
       " 'B6': [],\n",
       " 'E6': [],\n",
       " 'D6': [],\n",
       " 'B5': [],\n",
       " 'A5': [],\n",
       " 'D5': [],\n",
       " 'C5': [],\n",
       " 'A4': [],\n",
       " 'F7': [],\n",
       " 'C4': [],\n",
       " 'B4': [],\n",
       " 'F6': [],\n",
       " 'H8': [],\n",
       " 'B3': [],\n",
       " 'A3': [],\n",
       " 'D4': [],\n",
       " 'A2': [],\n",
       " 'B2': [],\n",
       " 'B1': [],\n",
       " 'C3': [],\n",
       " 'C2': [],\n",
       " 'C1': [],\n",
       " 'E5': [],\n",
       " 'G7': [],\n",
       " 'D3': [],\n",
       " 'D2': [],\n",
       " 'D1': [],\n",
       " 'G6': [],\n",
       " 'E4': [],\n",
       " 'E3': [],\n",
       " 'E2': [],\n",
       " 'E1': [],\n",
       " 'F5': [],\n",
       " 'F4': [],\n",
       " 'F3': [],\n",
       " 'F2': [],\n",
       " 'F1': [],\n",
       " 'G5': [],\n",
       " 'G4': [],\n",
       " 'G3': [-28.52191723693109],\n",
       " 'G2': [],\n",
       " 'G1': [],\n",
       " 'H5': [],\n",
       " 'H4': [-181.17491569054928,\n",
       "  -258.2146481251775,\n",
       "  -237.1131749319798,\n",
       "  -211.4131266623168,\n",
       "  -195.5609440856604,\n",
       "  -212.27659566018986,\n",
       "  -188.45697863829787,\n",
       "  -178.95373569413331,\n",
       "  -198.69688190210485,\n",
       "  -210.58453710408264,\n",
       "  -193.23751718636197,\n",
       "  -204.10306609571728,\n",
       "  -175.35620574351674,\n",
       "  -186.37043665784714,\n",
       "  -180.19577879216314],\n",
       " 'H3': [-41.99430209244687,\n",
       "  -49.46889457875892,\n",
       "  -39.87353515677233,\n",
       "  -45.295540380799174,\n",
       "  -45.66806269468892,\n",
       "  -39.701811116145144],\n",
       " 'H2': [],\n",
       " 'H1': [],\n",
       " 'H6': [],\n",
       " 'H7': [],\n",
       " 'J7': [],\n",
       " 'J6': [],\n",
       " 'J1': [],\n",
       " 'J2': [-27.354610687102745],\n",
       " 'J3': [-35.52614573986023,\n",
       "  -45.69739013073112,\n",
       "  -38.59980626894943,\n",
       "  -42.66330675113133,\n",
       "  -45.61834113375623,\n",
       "  -46.48395447400175,\n",
       "  -39.96297902200888,\n",
       "  -47.39820067306858,\n",
       "  -34.80748530754305,\n",
       "  -39.90290604248858,\n",
       "  -42.40511470770269,\n",
       "  -31.791093240258004],\n",
       " 'J4': [],\n",
       " 'J5': [],\n",
       " 'K1': [],\n",
       " 'K2': [],\n",
       " 'K3': [],\n",
       " 'K4': [],\n",
       " 'K5': [],\n",
       " 'L1': [],\n",
       " 'L2': [],\n",
       " 'L3': [],\n",
       " 'L4': [],\n",
       " 'L5': [],\n",
       " 'M1': [],\n",
       " 'M2': [],\n",
       " 'M3': [],\n",
       " 'M4': [],\n",
       " 'K6': [],\n",
       " 'N1': [],\n",
       " 'N2': [],\n",
       " 'N3': [],\n",
       " 'J8': [],\n",
       " 'L6': [],\n",
       " 'O1': [],\n",
       " 'O2': [],\n",
       " 'N4': [],\n",
       " 'P1': [-50.92777125138894],\n",
       " 'P2': [],\n",
       " 'O3': [],\n",
       " 'R2': [],\n",
       " 'R3': [],\n",
       " 'P3': [],\n",
       " 'K7': [],\n",
       " 'M5': [],\n",
       " 'P4': [],\n",
       " 'O4': [],\n",
       " 'L7': [],\n",
       " 'R4': [],\n",
       " 'O5': [],\n",
       " 'N5': [],\n",
       " 'R5': [],\n",
       " 'P5': [],\n",
       " 'N6': [],\n",
       " 'M6': [],\n",
       " 'P6': [],\n",
       " 'O6': [],\n",
       " 'M7': [],\n",
       " 'R6': [],\n",
       " 'O7': [],\n",
       " 'N7': [],\n",
       " 'R7': [],\n",
       " 'P7': [],\n",
       " 'N8': [-20.925788318200233, -25.15218409797871],\n",
       " 'M8': [-22.76304244147555],\n",
       " 'P8': [-19.14910482657786, -20.495943331246455],\n",
       " 'O8': [-24.004003804871108],\n",
       " 'L8': [],\n",
       " 'R8': [-19.5529045772884],\n",
       " 'K9': [],\n",
       " 'K8': [],\n",
       " 'R9': [-25.076537361114163, -33.11525580856793],\n",
       " 'L9': [-29.142359782855518, -40.07282144884195],\n",
       " 'O9': [-41.73634024811843, -49.000126363580414],\n",
       " 'P9': [-33.1108541549664, -41.95375915474176],\n",
       " 'M9': [],\n",
       " 'N9': [-35.31649930606052, -49.48947645113538],\n",
       " 'P10': [-29.87226264017698, -32.153094028204116],\n",
       " 'R10': [-53.88568068399928, -60.9610638270033],\n",
       " 'N10': [-83.44462209780197, -114.79530822946865],\n",
       " 'O10': [-40.243542934811785],\n",
       " 'R11': [-164.50630862737242, -185.0853868122864],\n",
       " 'M10': [-71.16718714292682, -97.33901320676858],\n",
       " 'O11': [-328.085862136015, -371.5991911711582],\n",
       " 'P11': [-221.96649962999822, -265.793037962023],\n",
       " 'M11': [-205.24961010825322, -253.12537123332487],\n",
       " 'N11': [-290.8961323800566, -374.24861863558],\n",
       " 'P12': [-57.245669534181125, -56.449092681846345],\n",
       " 'R12': [],\n",
       " 'N12': [-838.0500364226045, -768.6829186275621],\n",
       " 'O12': [-368.9780545713744, -288.36836861481805],\n",
       " 'R13': [-582.1176973861544, -426.7219246823073],\n",
       " 'L10': [-53.16027341099414, -64.88055938591616],\n",
       " 'O13': [-332.0416988210631, -228.77631582959717],\n",
       " 'P13': [-858.4050636220936, -597.0953242792468],\n",
       " 'L11': [-122.2445494468759, -150.64216188112147],\n",
       " 'J9': [],\n",
       " 'P14': [],\n",
       " 'R14': [-574.4425601062453, -409.92831461351767],\n",
       " 'N13': [-294.49157749961324, -233.92452374422714],\n",
       " 'R15': [-26.852136185861777, -25.90612063408153],\n",
       " 'P16': [-26.76880195750196, -23.215244478017546],\n",
       " 'P15': [-101.38571597289847, -91.93518140203464],\n",
       " 'O15': [-39.90573592810775, -36.89527799234761],\n",
       " 'O14': [-169.12111840587013, -144.32739567450554],\n",
       " 'M12': [-713.5143677803103, -774.6440749614351],\n",
       " 'O16': [-29.788610531671413, -24.54467297082351, -20.21655955189102],\n",
       " 'N14': [-189.29231872828396, -173.78138692906202],\n",
       " 'K10': [-42.25522520945584, -41.41969804088184],\n",
       " 'N16': [-32.53105425406104, -28.99040284770687],\n",
       " 'N15': [-61.47100475138178, -57.80924838396914],\n",
       " 'M13': [-802.6934452315255, -758.4834223303285],\n",
       " 'K11': [-76.26062749903996, -85.81078842148214],\n",
       " 'M15': [-68.95934062832205, -63.33684363923288],\n",
       " 'M14': [-63.14044105113977, -62.010961809133086],\n",
       " 'L12': [-341.4903141186255, -382.3678038591857],\n",
       " 'M16': [-29.50759264966397, -25.950275246546102],\n",
       " 'L14': [],\n",
       " 'L13': [-659.1222903191855, -620.7660031204302],\n",
       " 'L16': [-29.795499392934275, -22.0730440855722, -25.169255633171524],\n",
       " 'L15': [-26.996568890998123,\n",
       "  -28.523806970263692,\n",
       "  -27.18419375119714,\n",
       "  -28.304835972872976,\n",
       "  -25.669040905178132],\n",
       " 'K13': [-404.8312707385892, -432.0932629332703],\n",
       " 'K12': [],\n",
       " 'K15': [-60.83795589541226, -63.60592612928321],\n",
       " 'K14': [-800.0044034715884, -697.5040271501537],\n",
       " 'J12': [-100.38846088428964, -110.50185468180135],\n",
       " 'K16': [-20.149914360794696],\n",
       " 'J14': [-523.7202461766644, -420.94854129204447],\n",
       " 'J13': [-229.91373186838868, -235.12928510325912],\n",
       " 'J16': [],\n",
       " 'J15': [-643.5953461287032, -470.1747195524171],\n",
       " 'J10': [-30.40922013698633, -31.58962522119399],\n",
       " 'J11': [-47.367714145925866, -55.445366741575945],\n",
       " 'H11': [-32.66946979096849, -39.08151373566473],\n",
       " 'H10': [],\n",
       " 'H15': [-175.79466897361604, -137.39087022781217],\n",
       " 'H16': [-55.10724491258343, -38.18386308389173],\n",
       " 'H13': [-133.6673052268627, -139.1742083793904],\n",
       " 'H14': [-311.6274469882752, -311.7572613008093],\n",
       " 'G16': [-27.240215350145142, -39.23292373343073],\n",
       " 'H12': [-35.180437401000916],\n",
       " 'G14': [-171.85281942025162, -210.63121935691493],\n",
       " 'G15': [-44.299452345949874]}"
      ]
     },
     "execution_count": 68,
     "metadata": {},
     "output_type": "execute_result"
    }
   ],
   "source": [
    "lfp_amplit_downs"
   ]
  },
  {
   "cell_type": "code",
   "execution_count": 69,
   "id": "f3ceadad",
   "metadata": {
    "tags": []
   },
   "outputs": [
    {
     "data": {
      "text/plain": [
       "{'G13': [36.03636974496932, 39.07186664302314, 22.67604620481971],\n",
       " 'G12': [22.980018481810465],\n",
       " 'F16': [26.738885580923956],\n",
       " 'F15': [94.3231968110303, 77.1519002906229],\n",
       " 'F14': [33.53526167162847],\n",
       " 'F13': [188.57531654597278, 18.774707490689455],\n",
       " 'F12': [],\n",
       " 'E16': [],\n",
       " 'E15': [19.983837761186926, 24.292663883002394],\n",
       " 'E14': [18.850081988677307],\n",
       " 'E13': [],\n",
       " 'G11': [178.7013293678884],\n",
       " 'D16': [208.3974285380888],\n",
       " 'D15': [186.68048082628513],\n",
       " 'D14': [187.3384696675739],\n",
       " 'H9': [],\n",
       " 'F11': [],\n",
       " 'C16': [],\n",
       " 'C15': [],\n",
       " 'D13': [],\n",
       " 'B16': [183.74791212734948],\n",
       " 'B15': [],\n",
       " 'C14': [],\n",
       " 'A15': [],\n",
       " 'A14': [176.03314754434962],\n",
       " 'B14': [177.84132008138786, 20.222745871920434],\n",
       " 'G10': [],\n",
       " 'E12': [175.97497637605184],\n",
       " 'B13': [],\n",
       " 'C13': [],\n",
       " 'F10': [],\n",
       " 'A13': [177.96059588773852],\n",
       " 'C12': [],\n",
       " 'D12': [],\n",
       " 'A12': [],\n",
       " 'B12': [20.16162555512611],\n",
       " 'D11': [],\n",
       " 'E11': [],\n",
       " 'B11': [],\n",
       " 'C11': [],\n",
       " 'E10': [],\n",
       " 'A11': [182.64613514959765],\n",
       " 'C10': [],\n",
       " 'D10': [173.63103480560463],\n",
       " 'A10': [],\n",
       " 'B10': [172.41991394508037],\n",
       " 'D9': [],\n",
       " 'E9': [],\n",
       " 'B9': [178.65664731878536],\n",
       " 'C9': [177.14951373202888],\n",
       " 'F9': [180.09970110686822],\n",
       " 'A9': [178.90952666988898],\n",
       " 'G8': [],\n",
       " 'G9': [178.42304602311427],\n",
       " 'A8': [],\n",
       " 'F8': [],\n",
       " 'C8': [],\n",
       " 'B8': [],\n",
       " 'E8': [181.7372896751803],\n",
       " 'D8': [],\n",
       " 'B7': [174.38499386779174],\n",
       " 'A7': [176.6065493442186],\n",
       " 'D7': [178.59959088955145],\n",
       " 'C7': [],\n",
       " 'A6': [175.0142985599414],\n",
       " 'E7': [175.0443870777135],\n",
       " 'C6': [174.5188025541548],\n",
       " 'B6': [],\n",
       " 'E6': [],\n",
       " 'D6': [173.1318850866507],\n",
       " 'B5': [],\n",
       " 'A5': [],\n",
       " 'D5': [],\n",
       " 'C5': [],\n",
       " 'A4': [],\n",
       " 'F7': [],\n",
       " 'C4': [],\n",
       " 'B4': [175.39242384877002],\n",
       " 'F6': [],\n",
       " 'H8': [],\n",
       " 'B3': [172.30669799737296],\n",
       " 'A3': [175.97538461302128],\n",
       " 'D4': [177.03962975530524],\n",
       " 'A2': [175.72315510963827],\n",
       " 'B2': [],\n",
       " 'B1': [175.58430099303183],\n",
       " 'C3': [178.92415007721334],\n",
       " 'C2': [],\n",
       " 'C1': [],\n",
       " 'E5': [],\n",
       " 'G7': [184.27064674251378],\n",
       " 'D3': [179.37063403525977],\n",
       " 'D2': [],\n",
       " 'D1': [],\n",
       " 'G6': [],\n",
       " 'E4': [],\n",
       " 'E3': [179.46791565942812],\n",
       " 'E2': [],\n",
       " 'E1': [],\n",
       " 'F5': [],\n",
       " 'F4': [181.13860949202575],\n",
       " 'F3': [],\n",
       " 'F2': [],\n",
       " 'F1': [],\n",
       " 'G5': [176.3698813481283],\n",
       " 'G4': [],\n",
       " 'G3': [],\n",
       " 'G2': [],\n",
       " 'G1': [],\n",
       " 'H5': [],\n",
       " 'H4': [201.6317339231682,\n",
       "  194.1767651388596,\n",
       "  196.2629807235383,\n",
       "  187.7263028197712,\n",
       "  193.92849089634817,\n",
       "  194.01636905517722,\n",
       "  261.9272608453612,\n",
       "  241.64971317681062],\n",
       " 'H3': [],\n",
       " 'H2': [],\n",
       " 'H1': [179.48405618913603],\n",
       " 'H6': [],\n",
       " 'H7': [189.01869193195196],\n",
       " 'J7': [180.70188392510363],\n",
       " 'J6': [],\n",
       " 'J1': [],\n",
       " 'J2': [],\n",
       " 'J3': [],\n",
       " 'J4': [],\n",
       " 'J5': [],\n",
       " 'K1': [],\n",
       " 'K2': [],\n",
       " 'K3': [],\n",
       " 'K4': [186.37443648783517],\n",
       " 'K5': [],\n",
       " 'L1': [],\n",
       " 'L2': [],\n",
       " 'L3': [],\n",
       " 'L4': [],\n",
       " 'L5': [],\n",
       " 'M1': [],\n",
       " 'M2': [],\n",
       " 'M3': [],\n",
       " 'M4': [],\n",
       " 'K6': [],\n",
       " 'N1': [],\n",
       " 'N2': [],\n",
       " 'N3': [],\n",
       " 'J8': [],\n",
       " 'L6': [],\n",
       " 'O1': [],\n",
       " 'O2': [],\n",
       " 'N4': [],\n",
       " 'P1': [23.321003490823045, 20.877542666377142],\n",
       " 'P2': [],\n",
       " 'O3': [],\n",
       " 'R2': [],\n",
       " 'R3': [],\n",
       " 'P3': [183.06223124239983],\n",
       " 'K7': [],\n",
       " 'M5': [185.63774596610645],\n",
       " 'P4': [],\n",
       " 'O4': [],\n",
       " 'L7': [],\n",
       " 'R4': [],\n",
       " 'O5': [],\n",
       " 'N5': [],\n",
       " 'R5': [185.194669583078],\n",
       " 'P5': [],\n",
       " 'N6': [],\n",
       " 'M6': [],\n",
       " 'P6': [],\n",
       " 'O6': [],\n",
       " 'M7': [184.82953184230308],\n",
       " 'R6': [190.70775624411158],\n",
       " 'O7': [],\n",
       " 'N7': [],\n",
       " 'R7': [],\n",
       " 'P7': [186.11674554202423],\n",
       " 'N8': [183.7418913039139],\n",
       " 'M8': [],\n",
       " 'P8': [],\n",
       " 'O8': [184.96917827039857],\n",
       " 'L8': [182.43328121743338],\n",
       " 'R8': [],\n",
       " 'K9': [],\n",
       " 'K8': [],\n",
       " 'R9': [185.96637560437887],\n",
       " 'L9': [],\n",
       " 'O9': [22.814146758456115, 23.63337405417818],\n",
       " 'P9': [18.761031224121393],\n",
       " 'M9': [],\n",
       " 'N9': [19.076320045623174, 22.061916268233112],\n",
       " 'P10': [25.814622717226463, 29.309477032456478],\n",
       " 'R10': [26.331578087614584, 32.04881054194595],\n",
       " 'N10': [38.172484810266475, 46.81011782348103],\n",
       " 'O10': [],\n",
       " 'R11': [78.78751280031135, 91.85409905404188],\n",
       " 'M10': [34.74838439694927, 40.347246340368635],\n",
       " 'O11': [132.0832569753685, 139.45247182297263],\n",
       " 'P11': [103.43399042737383, 116.92014220490802],\n",
       " 'M11': [95.69631945216071, 96.29193648918455],\n",
       " 'N11': [132.33368511539675, 140.4551484825511],\n",
       " 'P12': [38.588528497314456, 32.6166059208875],\n",
       " 'R12': [],\n",
       " 'N12': [305.4404385607726, 243.69208940082027],\n",
       " 'O12': [188.99195540611169, 155.20741813177432],\n",
       " 'R13': [194.8678841053246, 159.30284021836562],\n",
       " 'L10': [35.41823009368124, 31.54257393724011],\n",
       " 'O13': [112.0943033411044, 108.59036326480212],\n",
       " 'P13': [290.6666921352693, 217.2058245290299],\n",
       " 'L11': [64.99281145755361, 63.53179807384023],\n",
       " 'J9': [],\n",
       " 'P14': [],\n",
       " 'R14': [206.12812278204584, 189.12101845673092],\n",
       " 'N13': [169.77287256665122, 130.77801745126015],\n",
       " 'R15': [53.62608826740395, 65.67870583348298],\n",
       " 'P16': [74.49934031182785, 58.22199905302011],\n",
       " 'P15': [310.9159495363193, 252.083064342708],\n",
       " 'O15': [65.03099261029243, 55.48105857628987],\n",
       " 'O14': [550.8127060518718, 414.95684757670506],\n",
       " 'M12': [280.16792665835663, 272.5119822370842],\n",
       " 'O16': [89.29842028548397, 68.78133023834778],\n",
       " 'N14': [612.3777147733092, 501.12151652606303],\n",
       " 'K10': [20.814689215735513, 22.87707802958371],\n",
       " 'N16': [89.7376052057777, 79.4926823374285],\n",
       " 'N15': [196.64980461518792, 168.74150128135074],\n",
       " 'M13': [303.19578924703035, 286.9130135861111],\n",
       " 'K11': [46.00640204523953, 40.72000327203227],\n",
       " 'M15': [214.94266428811542, 195.1249836923219],\n",
       " 'M14': [190.64811620958886, 200.3457242553127],\n",
       " 'L12': [158.74786012046758, 145.9074139617588],\n",
       " 'M16': [85.79813842476685, 80.2440790172986],\n",
       " 'L14': [],\n",
       " 'L13': [221.0875182544926, 208.1807981815851],\n",
       " 'L16': [80.1441640568596, 72.8688424165373],\n",
       " 'L15': [107.98169315647313, 93.01697458979312],\n",
       " 'K13': [179.78470761194794, 163.30340867257658],\n",
       " 'K12': [],\n",
       " 'K15': [50.65577975479424, 45.037721989522026],\n",
       " 'K14': [304.7921594505875, 232.43413297791267],\n",
       " 'J12': [52.66609254074781, 52.03318813620694],\n",
       " 'K16': [53.314904540917325, 51.40316924473081],\n",
       " 'J14': [216.3931777114773, 150.87882068003597],\n",
       " 'J13': [114.28992673666431, 100.07860274979777],\n",
       " 'J16': [24.2145390668662],\n",
       " 'J15': [270.99753943042765, 176.3066494049387],\n",
       " 'J10': [17.29840995457165],\n",
       " 'J11': [27.372112017745337, 22.847778355750165, 26.199903944557605],\n",
       " 'H11': [],\n",
       " 'H10': [179.20120917719814],\n",
       " 'H15': [113.00610526990752, 70.75631714935064],\n",
       " 'H16': [26.00456710620266, 23.05846008090972],\n",
       " 'H13': [64.56480883309992, 57.954829308641735],\n",
       " 'H14': [147.76608374130805, 118.26372494575855],\n",
       " 'G16': [32.326778436571736, 59.81497252836557],\n",
       " 'H12': [32.65585133564521, 64.74458059183993],\n",
       " 'G14': [83.34130585058534, 81.52737879917966],\n",
       " 'G15': [74.4095143697873,\n",
       "  53.90104959284344,\n",
       "  56.419321704712225,\n",
       "  92.4077552243919]}"
      ]
     },
     "execution_count": 69,
     "metadata": {},
     "output_type": "execute_result"
    }
   ],
   "source": [
    "lfp_amplit_ups"
   ]
  },
  {
   "cell_type": "code",
   "execution_count": 64,
   "id": "6113ba00",
   "metadata": {},
   "outputs": [],
   "source": [
    "def find_network_burst_components(network_bursts_seconds, \n",
    "                                  Bursts, spikedic_MAD, ups, \n",
    "                                  up_amplitudes, downs, \n",
    "                                  down_amplitudes, inverted_layerdic):\n",
    "    \n",
    "    '''\n",
    "    ______________________\n",
    "    parameters\n",
    "    \n",
    "    network_bursts_seconds : list of tuples\n",
    "        tuples are all filtered network bursts (i.e., the gaussian smoothed firing rate that\n",
    "        crosses the mean of the smoothed firing rate)\n",
    "        \n",
    "        tuple(a, b) with a = burststart, b = burststop in seconds\n",
    "        \n",
    "    \n",
    "    Bursts : dict\n",
    "        key = channellabel\n",
    "        value = list of tuples (a, b) with a = burststart, b = burststop in µseconds\n",
    "        \n",
    "    spikedic_MAD : dict\n",
    "    \n",
    "        key = channellabel\n",
    "        value = list of spikes in ticks --> times tick and scale_factor_second_to_receive\n",
    "            the spikes in seconds\n",
    "            \n",
    "    _______________________\n",
    "    returns\n",
    "        \n",
    "    network_bursts_dictionary : dict\n",
    "        key = tuple (a, b) with a = networkburststart, b = networkburststop in seconds\n",
    "        \n",
    "        value = tuple (a,b,c) with a=the number of single channel bursting channels,\n",
    "                b = the number of active (i.e., spiking) channels, and c = array of all \n",
    "                single channel bursting channels\n",
    "                \n",
    "    relevant_relevant_channels : list\n",
    "    \n",
    "        list with all channels that are active at any network burst\n",
    "        can be used to filter the original signal when extracting the LFP\n",
    "    \n",
    "    \n",
    "    '''\n",
    "\n",
    "\n",
    "\n",
    "\n",
    "\n",
    "    \n",
    "    network_bursts_dictionary = {}\n",
    "    # relevant channels is basically all channels that burst at any time in one list\n",
    "    relevant_channels = []\n",
    "\n",
    "    for i in network_bursts_seconds:\n",
    "        \n",
    "        network_features_dic = {}\n",
    "        \n",
    "        network_key = str(i)\n",
    "        burst_list = []\n",
    "        bursting_channels = []\n",
    "        active_channels = []\n",
    "        \n",
    "        # get all channels that burst while the network burst is going on\n",
    "        total_number_burst_starts = 0\n",
    "        total_number_burst_ends = 0\n",
    "        for key in Bursts:   \n",
    "            for b in Bursts[key]:\n",
    "                # if either start or end of single channel burst is within the network burst\n",
    "                burst_start = b[0]*1e-06\n",
    "                burst_stop = b[1]*1e-06\n",
    "                   \n",
    "                    \n",
    "                # every burst that starts and every burst that stops\n",
    "                # is counted into the bursting channels and for the\n",
    "                # total number of bursts\n",
    "               \n",
    "                if i[0] <= burst_start <= i[1]:\n",
    "                    bursting_channels.append(key)\n",
    "                    relevant_channels.append(key)\n",
    "                    total_number_burst_starts +=1\n",
    "                    \n",
    "                    \n",
    "                if i[0] <= burst_stop <= i[1]:\n",
    "                    bursting_channels.append(key)\n",
    "                    relevant_channels.append(key)\n",
    "                    total_number_burst_ends +=1\n",
    "        \n",
    "        # all channels that have a spike\n",
    "        spikecount = 0\n",
    "        for key in spikedic_MAD:\n",
    "            for s in spikedic_MAD[key]:\n",
    "                s = s*tick*1e-06\n",
    "                if i[0] <= s <= i[1]:\n",
    "                    spikecount += 1\n",
    "                    active_channels.append(key)\n",
    "                    \n",
    "        \n",
    "        # extract all channels that show a lfp up deviation here\n",
    "        # with the index the amplitudes are retrieved\n",
    "        # and added to the list to calculate the mean amplitude \n",
    "        lfp_up_list = []\n",
    "        lfp_up_amplitudes = []\n",
    "        for key in ups:\n",
    "            for up in ups[key]:\n",
    "                up_start = up[0]\n",
    "                up_stop = up[1]\n",
    "                up_index = ups[key].index(up)\n",
    "                if (i[0] <= up_start <= i[1]) or (i[0] <= up_stop <= i[1]):\n",
    "                    lfp_up_list.append(key)\n",
    "                    amplitude = lfp_amplit_ups[key][up_index]\n",
    "                    lfp_up_amplitudes.append(amplitude)\n",
    "        average_up = np.mean(lfp_up_amplitudes)            \n",
    "        \n",
    "        # extract all channels that show a lfp down deviation here\n",
    "        # with the index the amplitudes are retrieved\n",
    "        # and added to the list to calculate the mean amplitude \n",
    "        lfp_down_list = []                          \n",
    "        lfp_down_amplitudes = []\n",
    "        for key in downs:\n",
    "            for down in downs[key]:\n",
    "                down_start = down[0]\n",
    "                down_stop = down[1]\n",
    "                down_index = downs[key].index(down)\n",
    "                if (i[0] <= down_start <= i[1]) or (i[0] <=down_stop <= i[1]):\n",
    "                    lfp_down_list.append(key)\n",
    "                    amplitude = lfp_amplit_downs[key][down_index]\n",
    "                    lfp_down_amplitudes.append(amplitude)\n",
    "        average_down = np.mean(lfp_down_amplitudes)\n",
    "        \n",
    "        \n",
    "        networkburst_layerlist = []\n",
    "        for c in active_channels:\n",
    "            try:\n",
    "                layer = inverted_layerdic[c]\n",
    "                networkburst_layerlist.append(layer)\n",
    "            except:\n",
    "                print('Layer for channel {} missing.'.format(c))\n",
    "        \n",
    "        \n",
    "        # time_length networkburst\n",
    "        nb_start = i[0]\n",
    "        nb_stop = i[1]\n",
    "        timelength_networkburst = nb_stop - nb_start\n",
    "        network_features_dic['timelength_network_burst_s'] = timelength_networkburst\n",
    "        \n",
    "        \n",
    "        # add features to the dictionary\n",
    "        # bursting channels\n",
    "        bursting_channels = np.unique(bursting_channels)\n",
    "        network_features_dic['bursting_channels'] = bursting_channels\n",
    "        \n",
    "        # number of bursting channels\n",
    "        n_bursting_channels = len(bursting_channels)\n",
    "        network_features_dic['number_of_bursting_channels'] = n_bursting_channels\n",
    "        \n",
    "        # number of bursting channels\n",
    "        network_features_dic['number_burst_starts'] = total_number_burst_starts\n",
    "        network_features_dic['number_burst_ends'] = total_number_burst_starts\n",
    "        \n",
    "        #active channels\n",
    "        active_channels = np.unique(active_channels)\n",
    "        network_features_dic['active_channels'] = active_channels\n",
    "        \n",
    "        #number of active channels\n",
    "        n_active_channels = len(active_channels)\n",
    "        network_features_dic['number_of_active_channels'] = n_active_channels\n",
    "        \n",
    "        #total number of spikes \n",
    "        network_features_dic['number_of_spikes'] = spikecount\n",
    "        \n",
    "        # firing rate networkburst\n",
    "        firing_rate_networkburst = spikecount/timelength_networkburst\n",
    "        network_features_dic['firing_rate_Hz'] = firing_rate_networkburst\n",
    "        \n",
    "        #up lfps:\n",
    "        network_features_dic['channels_lfp_up'] = np.unique(lfp_up_list)\n",
    "        network_features_dic['number_channels_with_lfp_up'] = len(np.unique(lfp_up_list))\n",
    "        network_features_dic['mean_up_lfp_amplitude'] = average_up\n",
    "        \n",
    "        #down lfps:\n",
    "        network_features_dic['channels_lfp_down'] = np.unique(lfp_down_list)\n",
    "        network_features_dic['number_channels_with_lfp_down'] = len(np.unique(lfp_down_list))\n",
    "        network_features_dic['mean_down_lfp_amplitude'] = average_down\n",
    "        \n",
    "        #anatomy_registration\n",
    "        network_features_dic['n_layer1_channels'] = networkburst_layerlist.count(\"layer1\")\n",
    "        network_features_dic['n_layer2-3_channels'] = networkburst_layerlist.count(\"layer2-3\")\n",
    "        network_features_dic['n_layer4_channels'] = networkburst_layerlist.count(\"layer4\")\n",
    "        network_features_dic['n_layer5-6_channels'] = networkburst_layerlist.count(\"layer5-6\")\n",
    "        network_features_dic['n_whitematter_channels'] = networkburst_layerlist.count(\"whitematter\")\n",
    "        \n",
    "        \n",
    "        \n",
    "        network_bursts_dictionary[network_key] = (network_features_dic)\n",
    "    \n",
    "    return network_bursts_dictionary, relevant_channels\n",
    "        "
   ]
  },
  {
   "cell_type": "markdown",
   "id": "d7ea6081",
   "metadata": {},
   "source": [
    "in die obige Funktion muss folgendes rein, bzw. es muss folgenden gemacht werden:\n",
    "- jeder Netzwerkburst wird zum key\n",
    "- als value wird ein dictionary mit folgenden Werten:\n",
    "- anzahl spikes\n",
    "- anzahl bursts\n",
    "- anzahl active channels\n",
    "- anzahl bursting channels\n",
    "- anzahl lfp ups\n",
    "- mean amplitude lfp ups\n",
    "- anzahl lfp downs\n",
    "- mean amplitude lfp downs\n",
    "- length der lfp ups and downs\n",
    "- spannend auch wieviele der spikes sind burst spikes und wieviel single spikes\n",
    "\n",
    "###### im DF dazu: \n",
    "- anzahl der beteiligten channels pro layer\n",
    "- ggf. auch prozentual\n",
    "\n",
    "\n",
    "###### im Anschluss\n",
    "für jeden Netzworkburst eine Heatmap mit der Ausbreitung\n",
    "- das alles muss pro recording für die 120 sekunden Untereinheit gemacht werden\n",
    "- vorteil ist, das geht alles in einen dataframe, ist also nicht schlimm, dass es ggf. nacheinander kommt.\n",
    "\n",
    "\n",
    "###### ich kann nicht mehr\n",
    "im dataframe werden damit auch erstmal völlig wertfrei alle quatsch network bursts (also nur 1 channel oder ähnliches) aufgenommen. das ist nicht schlimm, da im Anschluss alles gefiltert werden kann. \n",
    "\n",
    "###### Idee für später: \n",
    "-das Burst verhalten eines Channels zu charakterisieren (periodisch, sporadisch, anzahl units, layer)"
   ]
  },
  {
   "cell_type": "code",
   "execution_count": 65,
   "id": "55250d9d",
   "metadata": {
    "collapsed": true,
    "jupyter": {
     "outputs_hidden": true
    },
    "tags": []
   },
   "outputs": [
    {
     "name": "stderr",
     "output_type": "stream",
     "text": [
      "C:\\Users\\User\\anaconda3\\lib\\site-packages\\numpy\\core\\fromnumeric.py:3419: RuntimeWarning: Mean of empty slice.\n",
      "  return _methods._mean(a, axis=axis, dtype=dtype,\n",
      "C:\\Users\\User\\anaconda3\\lib\\site-packages\\numpy\\core\\_methods.py:188: RuntimeWarning: invalid value encountered in double_scalars\n",
      "  ret = ret.dtype.type(ret / rcount)\n"
     ]
    },
    {
     "name": "stdout",
     "output_type": "stream",
     "text": [
      "Layer for channel J2 missing.\n",
      "Layer for channel J2 missing.\n",
      "Layer for channel J2 missing.\n",
      "Layer for channel J2 missing.\n",
      "Layer for channel J2 missing.\n",
      "Layer for channel J2 missing.\n",
      "Layer for channel J2 missing.\n",
      "Layer for channel J3 missing.\n",
      "Layer for channel J3 missing.\n",
      "Layer for channel J3 missing.\n",
      "Layer for channel J3 missing.\n",
      "Layer for channel J1 missing.\n",
      "Layer for channel J1 missing.\n",
      "Layer for channel J2 missing.\n",
      "Layer for channel J2 missing.\n",
      "Layer for channel J2 missing.\n",
      "Layer for channel J2 missing.\n",
      "Layer for channel J2 missing.\n",
      "Layer for channel J2 missing.\n",
      "Layer for channel J2 missing.\n",
      "Layer for channel J2 missing.\n",
      "Layer for channel J2 missing.\n",
      "Layer for channel J2 missing.\n",
      "Layer for channel J2 missing.\n",
      "Layer for channel J3 missing.\n",
      "Layer for channel J2 missing.\n",
      "Layer for channel J2 missing.\n",
      "Layer for channel J2 missing.\n",
      "Layer for channel J2 missing.\n",
      "Layer for channel J2 missing.\n",
      "Layer for channel J2 missing.\n",
      "Layer for channel J2 missing.\n",
      "Layer for channel J2 missing.\n",
      "Layer for channel J1 missing.\n",
      "Layer for channel J2 missing.\n",
      "Layer for channel J2 missing.\n",
      "Layer for channel J2 missing.\n",
      "Layer for channel J2 missing.\n",
      "Layer for channel J2 missing.\n",
      "Layer for channel J2 missing.\n",
      "Layer for channel J2 missing.\n",
      "Layer for channel J2 missing.\n",
      "Layer for channel J2 missing.\n",
      "Layer for channel J2 missing.\n",
      "Layer for channel J2 missing.\n",
      "Layer for channel J2 missing.\n",
      "Layer for channel J1 missing.\n",
      "Layer for channel J2 missing.\n",
      "Layer for channel J2 missing.\n",
      "Layer for channel J2 missing.\n",
      "Layer for channel J2 missing.\n",
      "Layer for channel J2 missing.\n",
      "Layer for channel J3 missing.\n",
      "Layer for channel J3 missing.\n",
      "Layer for channel J3 missing.\n",
      "Layer for channel J2 missing.\n",
      "Layer for channel J2 missing.\n",
      "Layer for channel J2 missing.\n",
      "Layer for channel J2 missing.\n",
      "Layer for channel J2 missing.\n",
      "Layer for channel J2 missing.\n",
      "Layer for channel J3 missing.\n",
      "Layer for channel J2 missing.\n",
      "Layer for channel J2 missing.\n",
      "Layer for channel J2 missing.\n",
      "Layer for channel J2 missing.\n",
      "Layer for channel J2 missing.\n",
      "Layer for channel J2 missing.\n",
      "Layer for channel J2 missing.\n",
      "Layer for channel J2 missing.\n",
      "Layer for channel J2 missing.\n",
      "Layer for channel J2 missing.\n",
      "Layer for channel J2 missing.\n",
      "Layer for channel J3 missing.\n",
      "Layer for channel J3 missing.\n",
      "Layer for channel J3 missing.\n",
      "Layer for channel J2 missing.\n",
      "Layer for channel J2 missing.\n",
      "Layer for channel J2 missing.\n",
      "Layer for channel J2 missing.\n",
      "Layer for channel J2 missing.\n",
      "Layer for channel J2 missing.\n",
      "Layer for channel J2 missing.\n",
      "Layer for channel J2 missing.\n",
      "Layer for channel J2 missing.\n",
      "Layer for channel J2 missing.\n",
      "Layer for channel J2 missing.\n",
      "Layer for channel J2 missing.\n",
      "Layer for channel J2 missing.\n",
      "Layer for channel J2 missing.\n",
      "Layer for channel J2 missing.\n",
      "Layer for channel J3 missing.\n",
      "Layer for channel J3 missing.\n",
      "Layer for channel J1 missing.\n",
      "Layer for channel J2 missing.\n",
      "Layer for channel J2 missing.\n",
      "Layer for channel J2 missing.\n",
      "Layer for channel J2 missing.\n",
      "Layer for channel J2 missing.\n",
      "Layer for channel J3 missing.\n",
      "Layer for channel J3 missing.\n",
      "Layer for channel J2 missing.\n",
      "Layer for channel J2 missing.\n",
      "Layer for channel J2 missing.\n",
      "Layer for channel J2 missing.\n",
      "Layer for channel J2 missing.\n",
      "Layer for channel J2 missing.\n",
      "Layer for channel J2 missing.\n",
      "Layer for channel J2 missing.\n",
      "Layer for channel J2 missing.\n",
      "Layer for channel J2 missing.\n",
      "Layer for channel J2 missing.\n",
      "Layer for channel J2 missing.\n",
      "Layer for channel J2 missing.\n",
      "Layer for channel J2 missing.\n",
      "Layer for channel J2 missing.\n",
      "Layer for channel J3 missing.\n",
      "Layer for channel J3 missing.\n",
      "Layer for channel J2 missing.\n",
      "Layer for channel J2 missing.\n",
      "Layer for channel J2 missing.\n",
      "Layer for channel J2 missing.\n",
      "Layer for channel J2 missing.\n",
      "Layer for channel J2 missing.\n",
      "Layer for channel J2 missing.\n",
      "Layer for channel J2 missing.\n",
      "Layer for channel J2 missing.\n",
      "Layer for channel J3 missing.\n",
      "Layer for channel J3 missing.\n",
      "Layer for channel J3 missing.\n",
      "Layer for channel J3 missing.\n",
      "Layer for channel J2 missing.\n",
      "Layer for channel J2 missing.\n",
      "Layer for channel J2 missing.\n",
      "Layer for channel J2 missing.\n",
      "Layer for channel J2 missing.\n",
      "Layer for channel J2 missing.\n",
      "Layer for channel J2 missing.\n",
      "Layer for channel J2 missing.\n",
      "Layer for channel J2 missing.\n",
      "Layer for channel J2 missing.\n",
      "Layer for channel J2 missing.\n",
      "Layer for channel J3 missing.\n",
      "Layer for channel J2 missing.\n",
      "Layer for channel J2 missing.\n",
      "Layer for channel J2 missing.\n",
      "Layer for channel J2 missing.\n",
      "Layer for channel J2 missing.\n",
      "Layer for channel J2 missing.\n",
      "Layer for channel J2 missing.\n",
      "Layer for channel J2 missing.\n",
      "Layer for channel J3 missing.\n",
      "Layer for channel J3 missing.\n",
      "Layer for channel J2 missing.\n",
      "Layer for channel J2 missing.\n",
      "Layer for channel J2 missing.\n",
      "Layer for channel J2 missing.\n",
      "Layer for channel J2 missing.\n",
      "Layer for channel J2 missing.\n",
      "Layer for channel J2 missing.\n",
      "Layer for channel J2 missing.\n",
      "Layer for channel J7 missing.\n",
      "Layer for channel J7 missing.\n",
      "Layer for channel J7 missing.\n",
      "Layer for channel J6 missing.\n",
      "Layer for channel J6 missing.\n",
      "Layer for channel J6 missing.\n",
      "Layer for channel J1 missing.\n",
      "Layer for channel J1 missing.\n",
      "Layer for channel J1 missing.\n",
      "Layer for channel J1 missing.\n",
      "Layer for channel J2 missing.\n",
      "Layer for channel J2 missing.\n",
      "Layer for channel J2 missing.\n",
      "Layer for channel J2 missing.\n",
      "Layer for channel J2 missing.\n",
      "Layer for channel J2 missing.\n",
      "Layer for channel J2 missing.\n",
      "Layer for channel J2 missing.\n",
      "Layer for channel J2 missing.\n",
      "Layer for channel J2 missing.\n",
      "Layer for channel J2 missing.\n",
      "Layer for channel J2 missing.\n",
      "Layer for channel J2 missing.\n",
      "Layer for channel J2 missing.\n",
      "Layer for channel J3 missing.\n",
      "Layer for channel J3 missing.\n",
      "Layer for channel J3 missing.\n",
      "Layer for channel J3 missing.\n",
      "Layer for channel J3 missing.\n",
      "Layer for channel J4 missing.\n",
      "Layer for channel J4 missing.\n",
      "Layer for channel J4 missing.\n",
      "Layer for channel J5 missing.\n",
      "Layer for channel J5 missing.\n",
      "Layer for channel J5 missing.\n",
      "Layer for channel J8 missing.\n",
      "Layer for channel J8 missing.\n",
      "Layer for channel J8 missing.\n",
      "Layer for channel J9 missing.\n",
      "Layer for channel J9 missing.\n",
      "Layer for channel J9 missing.\n",
      "Layer for channel J12 missing.\n",
      "Layer for channel J12 missing.\n",
      "Layer for channel J12 missing.\n",
      "Layer for channel J14 missing.\n",
      "Layer for channel J14 missing.\n",
      "Layer for channel J14 missing.\n",
      "Layer for channel J13 missing.\n",
      "Layer for channel J13 missing.\n",
      "Layer for channel J13 missing.\n",
      "Layer for channel J16 missing.\n",
      "Layer for channel J16 missing.\n",
      "Layer for channel J16 missing.\n",
      "Layer for channel J15 missing.\n",
      "Layer for channel J15 missing.\n",
      "Layer for channel J15 missing.\n",
      "Layer for channel J10 missing.\n",
      "Layer for channel J10 missing.\n",
      "Layer for channel J10 missing.\n",
      "Layer for channel J11 missing.\n",
      "Layer for channel J11 missing.\n",
      "Layer for channel J11 missing.\n",
      "Layer for channel J2 missing.\n",
      "Layer for channel J2 missing.\n",
      "Layer for channel J2 missing.\n",
      "Layer for channel J2 missing.\n",
      "Layer for channel J2 missing.\n",
      "Layer for channel J2 missing.\n",
      "Layer for channel J2 missing.\n",
      "Layer for channel J2 missing.\n",
      "Layer for channel J2 missing.\n",
      "Layer for channel J2 missing.\n",
      "Layer for channel J16 missing.\n",
      "Layer for channel J2 missing.\n",
      "Layer for channel J2 missing.\n",
      "Layer for channel J2 missing.\n",
      "Layer for channel J2 missing.\n",
      "Layer for channel J2 missing.\n",
      "Layer for channel J2 missing.\n",
      "Layer for channel J2 missing.\n",
      "Layer for channel J2 missing.\n",
      "Layer for channel J2 missing.\n",
      "Layer for channel J3 missing.\n",
      "Layer for channel J3 missing.\n",
      "Layer for channel J2 missing.\n",
      "Layer for channel J2 missing.\n",
      "Layer for channel J2 missing.\n",
      "Layer for channel J2 missing.\n",
      "Layer for channel J2 missing.\n",
      "Layer for channel J2 missing.\n",
      "Layer for channel J2 missing.\n",
      "Layer for channel J3 missing.\n",
      "Layer for channel J3 missing.\n",
      "Layer for channel J9 missing.\n",
      "Layer for channel J12 missing.\n",
      "Layer for channel J14 missing.\n",
      "Layer for channel J13 missing.\n",
      "Layer for channel J16 missing.\n",
      "Layer for channel J11 missing.\n",
      "Layer for channel J1 missing.\n",
      "Layer for channel J2 missing.\n",
      "Layer for channel J2 missing.\n",
      "Layer for channel J2 missing.\n",
      "Layer for channel J2 missing.\n",
      "Layer for channel J2 missing.\n",
      "Layer for channel J2 missing.\n",
      "Layer for channel J2 missing.\n",
      "Layer for channel J3 missing.\n",
      "Layer for channel J2 missing.\n",
      "Layer for channel J2 missing.\n",
      "Layer for channel J2 missing.\n",
      "Layer for channel J2 missing.\n",
      "Layer for channel J2 missing.\n",
      "Layer for channel J2 missing.\n",
      "Layer for channel J2 missing.\n",
      "Layer for channel J2 missing.\n",
      "Layer for channel J2 missing.\n",
      "Layer for channel J2 missing.\n",
      "Layer for channel J2 missing.\n",
      "Layer for channel J2 missing.\n",
      "Layer for channel J2 missing.\n",
      "Layer for channel J2 missing.\n",
      "Layer for channel J12 missing.\n",
      "Layer for channel J12 missing.\n",
      "Layer for channel J14 missing.\n",
      "Layer for channel J14 missing.\n",
      "Layer for channel J14 missing.\n",
      "Layer for channel J14 missing.\n",
      "Layer for channel J14 missing.\n",
      "Layer for channel J14 missing.\n",
      "Layer for channel J14 missing.\n",
      "Layer for channel J14 missing.\n",
      "Layer for channel J14 missing.\n",
      "Layer for channel J14 missing.\n",
      "Layer for channel J13 missing.\n",
      "Layer for channel J13 missing.\n",
      "Layer for channel J13 missing.\n",
      "Layer for channel J13 missing.\n",
      "Layer for channel J13 missing.\n",
      "Layer for channel J13 missing.\n",
      "Layer for channel J15 missing.\n",
      "Layer for channel J15 missing.\n",
      "Layer for channel J15 missing.\n",
      "Layer for channel J15 missing.\n",
      "Layer for channel J15 missing.\n",
      "Layer for channel J15 missing.\n",
      "Layer for channel J15 missing.\n",
      "Layer for channel J15 missing.\n",
      "Layer for channel J15 missing.\n",
      "Layer for channel J1 missing.\n",
      "Layer for channel J2 missing.\n",
      "Layer for channel J2 missing.\n",
      "Layer for channel J2 missing.\n",
      "Layer for channel J2 missing.\n",
      "Layer for channel J2 missing.\n",
      "Layer for channel J2 missing.\n",
      "Layer for channel J2 missing.\n",
      "Layer for channel J2 missing.\n",
      "Layer for channel J2 missing.\n",
      "Layer for channel J2 missing.\n",
      "Layer for channel J3 missing.\n",
      "Layer for channel J3 missing.\n",
      "Layer for channel J1 missing.\n",
      "Layer for channel J2 missing.\n",
      "Layer for channel J2 missing.\n",
      "Layer for channel J2 missing.\n",
      "Layer for channel J2 missing.\n",
      "Layer for channel J2 missing.\n",
      "Layer for channel J2 missing.\n",
      "Layer for channel J2 missing.\n",
      "Layer for channel J2 missing.\n",
      "Layer for channel J2 missing.\n",
      "Layer for channel J2 missing.\n",
      "Layer for channel J2 missing.\n",
      "Layer for channel J2 missing.\n",
      "Layer for channel J2 missing.\n",
      "Layer for channel J2 missing.\n",
      "Layer for channel J3 missing.\n",
      "Layer for channel J3 missing.\n",
      "Layer for channel J2 missing.\n",
      "Layer for channel J2 missing.\n",
      "Layer for channel J2 missing.\n",
      "Layer for channel J2 missing.\n",
      "Layer for channel J2 missing.\n",
      "Layer for channel J2 missing.\n",
      "Layer for channel J2 missing.\n",
      "Layer for channel J2 missing.\n",
      "Layer for channel J3 missing.\n",
      "Layer for channel J2 missing.\n",
      "Layer for channel J2 missing.\n",
      "Layer for channel J2 missing.\n",
      "Layer for channel J2 missing.\n",
      "Layer for channel J2 missing.\n",
      "Layer for channel J2 missing.\n",
      "Layer for channel J2 missing.\n",
      "Layer for channel J3 missing.\n",
      "Layer for channel J9 missing.\n",
      "Layer for channel J12 missing.\n",
      "Layer for channel J12 missing.\n",
      "Layer for channel J12 missing.\n",
      "Layer for channel J12 missing.\n",
      "Layer for channel J12 missing.\n",
      "Layer for channel J14 missing.\n",
      "Layer for channel J14 missing.\n",
      "Layer for channel J14 missing.\n",
      "Layer for channel J14 missing.\n",
      "Layer for channel J14 missing.\n",
      "Layer for channel J14 missing.\n",
      "Layer for channel J14 missing.\n",
      "Layer for channel J14 missing.\n",
      "Layer for channel J14 missing.\n",
      "Layer for channel J14 missing.\n",
      "Layer for channel J14 missing.\n",
      "Layer for channel J14 missing.\n",
      "Layer for channel J14 missing.\n",
      "Layer for channel J14 missing.\n",
      "Layer for channel J14 missing.\n",
      "Layer for channel J13 missing.\n",
      "Layer for channel J13 missing.\n",
      "Layer for channel J13 missing.\n",
      "Layer for channel J13 missing.\n",
      "Layer for channel J13 missing.\n",
      "Layer for channel J13 missing.\n",
      "Layer for channel J13 missing.\n",
      "Layer for channel J13 missing.\n",
      "Layer for channel J13 missing.\n",
      "Layer for channel J13 missing.\n",
      "Layer for channel J13 missing.\n",
      "Layer for channel J13 missing.\n",
      "Layer for channel J13 missing.\n",
      "Layer for channel J13 missing.\n",
      "Layer for channel J13 missing.\n",
      "Layer for channel J13 missing.\n",
      "Layer for channel J15 missing.\n",
      "Layer for channel J15 missing.\n",
      "Layer for channel J15 missing.\n",
      "Layer for channel J15 missing.\n",
      "Layer for channel J15 missing.\n",
      "Layer for channel J15 missing.\n",
      "Layer for channel J15 missing.\n",
      "Layer for channel J15 missing.\n",
      "Layer for channel J15 missing.\n",
      "Layer for channel J15 missing.\n",
      "Layer for channel J15 missing.\n",
      "Layer for channel J15 missing.\n",
      "Layer for channel J11 missing.\n",
      "Layer for channel J2 missing.\n",
      "Layer for channel J2 missing.\n",
      "Layer for channel J2 missing.\n",
      "Layer for channel J2 missing.\n",
      "Layer for channel J2 missing.\n",
      "Layer for channel J2 missing.\n",
      "Layer for channel J2 missing.\n",
      "Layer for channel J2 missing.\n",
      "Layer for channel J2 missing.\n",
      "Layer for channel J3 missing.\n",
      "Layer for channel J3 missing.\n",
      "Layer for channel J3 missing.\n",
      "Layer for channel J7 missing.\n",
      "Layer for channel J7 missing.\n",
      "Layer for channel J7 missing.\n",
      "Layer for channel J7 missing.\n",
      "Layer for channel J6 missing.\n",
      "Layer for channel J6 missing.\n",
      "Layer for channel J6 missing.\n",
      "Layer for channel J1 missing.\n",
      "Layer for channel J1 missing.\n",
      "Layer for channel J1 missing.\n",
      "Layer for channel J2 missing.\n",
      "Layer for channel J2 missing.\n",
      "Layer for channel J2 missing.\n",
      "Layer for channel J2 missing.\n",
      "Layer for channel J3 missing.\n",
      "Layer for channel J3 missing.\n",
      "Layer for channel J3 missing.\n",
      "Layer for channel J3 missing.\n",
      "Layer for channel J4 missing.\n",
      "Layer for channel J4 missing.\n",
      "Layer for channel J4 missing.\n",
      "Layer for channel J5 missing.\n",
      "Layer for channel J5 missing.\n",
      "Layer for channel J5 missing.\n",
      "Layer for channel J5 missing.\n",
      "Layer for channel J8 missing.\n",
      "Layer for channel J8 missing.\n",
      "Layer for channel J8 missing.\n",
      "Layer for channel J9 missing.\n",
      "Layer for channel J9 missing.\n",
      "Layer for channel J9 missing.\n",
      "Layer for channel J9 missing.\n",
      "Layer for channel J9 missing.\n",
      "Layer for channel J12 missing.\n",
      "Layer for channel J12 missing.\n",
      "Layer for channel J12 missing.\n",
      "Layer for channel J12 missing.\n",
      "Layer for channel J12 missing.\n",
      "Layer for channel J14 missing.\n",
      "Layer for channel J14 missing.\n",
      "Layer for channel J14 missing.\n",
      "Layer for channel J14 missing.\n",
      "Layer for channel J14 missing.\n",
      "Layer for channel J13 missing.\n",
      "Layer for channel J13 missing.\n",
      "Layer for channel J13 missing.\n",
      "Layer for channel J13 missing.\n",
      "Layer for channel J13 missing.\n",
      "Layer for channel J16 missing.\n",
      "Layer for channel J16 missing.\n",
      "Layer for channel J16 missing.\n",
      "Layer for channel J16 missing.\n",
      "Layer for channel J16 missing.\n",
      "Layer for channel J15 missing.\n",
      "Layer for channel J15 missing.\n",
      "Layer for channel J15 missing.\n",
      "Layer for channel J15 missing.\n",
      "Layer for channel J15 missing.\n",
      "Layer for channel J10 missing.\n",
      "Layer for channel J10 missing.\n",
      "Layer for channel J10 missing.\n",
      "Layer for channel J10 missing.\n",
      "Layer for channel J10 missing.\n",
      "Layer for channel J11 missing.\n",
      "Layer for channel J11 missing.\n",
      "Layer for channel J11 missing.\n",
      "Layer for channel J11 missing.\n",
      "Layer for channel J11 missing.\n",
      "Layer for channel J2 missing.\n",
      "Layer for channel J2 missing.\n",
      "Layer for channel J2 missing.\n",
      "Layer for channel J2 missing.\n",
      "Layer for channel J2 missing.\n",
      "Layer for channel J2 missing.\n",
      "Layer for channel J2 missing.\n",
      "Layer for channel J2 missing.\n",
      "Layer for channel J2 missing.\n",
      "Layer for channel J3 missing.\n"
     ]
    }
   ],
   "source": [
    "network_bursts_dictionary, asb = find_network_burst_components(network_bursts_seconds, \n",
    "                                  Bursts, spikedic_MAD, lfp_ups, \n",
    "                                  lfp_amplit_ups, lfp_downs,\n",
    "                                  lfp_amplit_downs, inverted_layerdic)"
   ]
  },
  {
   "cell_type": "code",
   "execution_count": 38,
   "id": "632a4201-9dde-499f-81c5-fb6d5f009458",
   "metadata": {},
   "outputs": [
    {
     "data": {
      "text/plain": [
       "[(0.7632, 1.7830399568106312),\n",
       " (4.198971504983389, 5.520802905315615),\n",
       " (7.510976024916944, 9.134798868770764),\n",
       " (11.694300119601328, 13.664670521594685),\n",
       " (16.12020750498339, 18.02621907475083),\n",
       " (19.486669498338873, 21.437237182724253),\n",
       " (23.249185843853823, 25.160148093023256),\n",
       " (26.87308316611296, 28.784045415282392),\n",
       " (31.393053460132894, 33.28916367109635),\n",
       " (36.24966995348837, 37.63487377408637),\n",
       " (37.734873774086374, 39.591378549833884),\n",
       " (42.190485235880395, 44.18560903488372),\n",
       " (46.824321156146176, 48.75013544352159),\n",
       " (51.03239864784053, 53.00276904983389),\n",
       " (55.418700598006644, 57.05737548006645),\n",
       " (58.81981734717608, 60.71592755813953),\n",
       " (61.562493735880395, 64.73587923255815),\n",
       " (68.08748918770765, 69.82022697840532),\n",
       " (72.03813135049833, 73.98374835548172),\n",
       " (75.47390285548173, 78.27103671760797),\n",
       " (80.8651927242525, 82.4246567358804),\n",
       " (88.6823155, 91.49430140033223),\n",
       " (94.13796420099668, 96.10338392358804),\n",
       " (98.40544984551495, 100.84613479069768),\n",
       " (103.85614786710964, 105.50373769601329),\n",
       " (105.60373769601328, 107.6780723654485),\n",
       " (110.08905323421926, 112.04952227740864),\n",
       " (112.3762671179402, 114.39614431395349),\n",
       " (114.41099635215947, 116.35166267774086)]"
      ]
     },
     "execution_count": 38,
     "metadata": {},
     "output_type": "execute_result"
    }
   ],
   "source": [
    "network_bursts_seconds"
   ]
  },
  {
   "cell_type": "code",
   "execution_count": 39,
   "id": "bd56cda0-0e94-4b35-9d12-3a8705df89fb",
   "metadata": {},
   "outputs": [],
   "source": [
    "i = network_bursts_seconds[21]"
   ]
  },
  {
   "cell_type": "code",
   "execution_count": 43,
   "id": "a00f11f2-7858-41db-be2b-b86ddc43ccd5",
   "metadata": {},
   "outputs": [],
   "source": [
    "network_bursts_dictionary = {}\n",
    "# relevant channels is basically all channels that burst at any time in one list\n",
    "relevant_channels = []"
   ]
  },
  {
   "cell_type": "code",
   "execution_count": 103,
   "id": "88d98502-4e70-49c4-8e69-e2276fc29800",
   "metadata": {},
   "outputs": [
    {
     "name": "stdout",
     "output_type": "stream",
     "text": [
      "Working on networkburst   (114.41099635215947, 116.35166267774086)\n"
     ]
    }
   ],
   "source": [
    "print('Working on networkburst  ', i)\n",
    "network_features_dic = {}\n",
    "\n",
    "network_key = str(i)\n",
    "burst_list = []\n",
    "bursting_channels = []\n",
    "active_channels = []"
   ]
  },
  {
   "cell_type": "code",
   "execution_count": 104,
   "id": "2ba89843-4015-485b-9512-c44fcfb91251",
   "metadata": {},
   "outputs": [],
   "source": [
    "total_number_burst_starts = 0\n",
    "total_number_burst_ends = 0\n",
    "for key in Bursts:   \n",
    "    for b in Bursts[key]:\n",
    "        # if either start or end of single channel burst is within the network burst\n",
    "        burst_start = b[0]*1e-06\n",
    "        burst_stop = b[1]*1e-06\n",
    "\n",
    "\n",
    "        # every burst that starts and every burst that stops\n",
    "        # is counted into the bursting channels and for the\n",
    "        # total number of bursts\n",
    "\n",
    "        if i[0] <= burst_start <= i[1]:\n",
    "            bursting_channels.append(key)\n",
    "            relevant_channels.append(key)\n",
    "            total_number_burst_starts +=1\n",
    "\n",
    "\n",
    "        if i[0] <= burst_stop <= i[1]:\n",
    "            bursting_channels.append(key)\n",
    "            relevant_channels.append(key)\n",
    "            total_number_burst_ends +=1"
   ]
  },
  {
   "cell_type": "code",
   "execution_count": 105,
   "id": "2e4cbcf7-906e-47b1-b542-3501ee4c68cc",
   "metadata": {},
   "outputs": [],
   "source": [
    " # all channels that have a spike\n",
    "spikecount = 0\n",
    "for key in spikedic_MAD:\n",
    "    for s in spikedic_MAD[key]:\n",
    "        s = s*tick*1e-06\n",
    "        if i[0] <= s <= i[1]:\n",
    "            spikecount += 1\n",
    "            active_channels.append(key)"
   ]
  },
  {
   "cell_type": "code",
   "execution_count": 106,
   "id": "53d24b7c-abdf-4291-82a7-126cade52a52",
   "metadata": {
    "collapsed": true,
    "jupyter": {
     "outputs_hidden": true
    },
    "tags": []
   },
   "outputs": [
    {
     "data": {
      "text/plain": [
       "['F3',\n",
       " 'F3',\n",
       " 'F2',\n",
       " 'F2',\n",
       " 'G3',\n",
       " 'G2',\n",
       " 'G2',\n",
       " 'H4',\n",
       " 'H3',\n",
       " 'H3',\n",
       " 'H3',\n",
       " 'H3',\n",
       " 'H3',\n",
       " 'H3',\n",
       " 'H2',\n",
       " 'H2',\n",
       " 'H2',\n",
       " 'H2',\n",
       " 'H2',\n",
       " 'H2',\n",
       " 'H1',\n",
       " 'H1',\n",
       " 'J2',\n",
       " 'J2',\n",
       " 'J2',\n",
       " 'J2',\n",
       " 'J2',\n",
       " 'J2',\n",
       " 'J2',\n",
       " 'J2',\n",
       " 'J2',\n",
       " 'J3',\n",
       " 'K2',\n",
       " 'K2',\n",
       " 'K2',\n",
       " 'K2',\n",
       " 'K2',\n",
       " 'K2',\n",
       " 'K2',\n",
       " 'K2',\n",
       " 'K2',\n",
       " 'K2',\n",
       " 'K2',\n",
       " 'K3',\n",
       " 'K3',\n",
       " 'K4',\n",
       " 'L1',\n",
       " 'L1',\n",
       " 'L1',\n",
       " 'L1',\n",
       " 'L2',\n",
       " 'L2',\n",
       " 'L2',\n",
       " 'L2',\n",
       " 'L2',\n",
       " 'L2',\n",
       " 'L2',\n",
       " 'L2',\n",
       " 'L2',\n",
       " 'L2',\n",
       " 'L2',\n",
       " 'L2',\n",
       " 'L2',\n",
       " 'L2',\n",
       " 'M2']"
      ]
     },
     "execution_count": 106,
     "metadata": {},
     "output_type": "execute_result"
    }
   ],
   "source": [
    "active_channels"
   ]
  },
  {
   "cell_type": "code",
   "execution_count": 107,
   "id": "9866ad4c-d0f9-4093-816c-a259af6b289f",
   "metadata": {},
   "outputs": [],
   "source": [
    "ups = lfp_ups\n",
    "downs = lfp_downs\n",
    "up_amplitudes = lfp_amplit_ups\n",
    "down_amplitudes = lfp_amplit_downs"
   ]
  },
  {
   "cell_type": "code",
   "execution_count": 108,
   "id": "47f5e036-96c4-4556-86fe-3e0682d88e6f",
   "metadata": {},
   "outputs": [],
   "source": [
    "# extract all channels that show a lfp up deviation here\n",
    "# with the index the amplitudes are retrieved\n",
    "# and added to the list to calculate the mean amplitude \n",
    "lfp_up_list = []\n",
    "lfp_up_amplitudes = []\n",
    "for key in ups:\n",
    "    for up in ups[key]:\n",
    "        up_start = up[0]\n",
    "        up_stop = up[1]\n",
    "        up_index = ups[key].index(up)\n",
    "        if (i[0] <= up_start <= i[1]) or (i[0] <= up_stop <= i[1]):\n",
    "            lfp_up_list.append(key)\n",
    "            amplitude = up_amplitudes[key][up_index]\n",
    "            lfp_up_amplitudes.append(amplitude)\n",
    "average_up = np.nanmean(lfp_up_amplitudes)            \n",
    "\n",
    "# extract all channels that show a lfp down deviation here\n",
    "# with the index the amplitudes are retrieved\n",
    "# and added to the list to calculate the mean amplitude \n",
    "lfp_down_list = []                          \n",
    "lfp_down_amplitudes = []\n",
    "for key in downs:\n",
    "    for down in downs[key]:\n",
    "        down_start = down[0]\n",
    "        down_stop = down[1]\n",
    "        down_index = downs[key].index(down)\n",
    "        if (i[0] <= down_start <= i[1]) or (i[0] <=down_stop <= i[1]):\n",
    "            lfp_down_list.append(key)\n",
    "            amplitude = down_amplitudes[key][down_index]\n",
    "            lfp_down_amplitudes.append(amplitude)\n",
    "average_down = np.nanmean(lfp_down_amplitudes)\n",
    "\n",
    "\n",
    "#active channels\n",
    "active_channels = np.unique(active_channels)\n",
    "network_features_dic['active_channels'] = active_channels"
   ]
  },
  {
   "cell_type": "code",
   "execution_count": 109,
   "id": "2c47643a-1de9-4681-b1e5-e45a2ff9b14b",
   "metadata": {},
   "outputs": [
    {
     "name": "stdout",
     "output_type": "stream",
     "text": [
      "Layer for channel M2 missing.\n"
     ]
    }
   ],
   "source": [
    "networkburst_layerlist = []\n",
    "for c in active_channels:\n",
    "    try:\n",
    "        layer = inverted_layerdic[c]\n",
    "        networkburst_layerlist.append(layer)\n",
    "    except:\n",
    "        print('Layer for channel {} missing.'.format(c))"
   ]
  },
  {
   "cell_type": "code",
   "execution_count": 110,
   "id": "6a0faf53-c950-4459-8f57-3b917d586f98",
   "metadata": {
    "tags": []
   },
   "outputs": [
    {
     "data": {
      "text/plain": [
       "['whitematter',\n",
       " 'whitematter',\n",
       " 'whitematter',\n",
       " 'whitematter',\n",
       " 'whitematter',\n",
       " 'whitematter',\n",
       " 'whitematter',\n",
       " 'whitematter',\n",
       " 'whitematter',\n",
       " 'whitematter',\n",
       " 'whitematter',\n",
       " 'whitematter',\n",
       " 'whitematter',\n",
       " 'whitematter',\n",
       " 'whitematter']"
      ]
     },
     "execution_count": 110,
     "metadata": {},
     "output_type": "execute_result"
    }
   ],
   "source": [
    "networkburst_layerlist"
   ]
  },
  {
   "cell_type": "code",
   "execution_count": 111,
   "id": "beae6f4a-aece-4071-bd2d-b9139d19a869",
   "metadata": {},
   "outputs": [],
   "source": [
    "# time_length networkburst\n",
    "nb_start = i[0]\n",
    "nb_stop = i[1]\n",
    "timelength_networkburst = nb_stop - nb_start\n",
    "network_features_dic['timelength_network_burst_s'] = timelength_networkburst"
   ]
  },
  {
   "cell_type": "code",
   "execution_count": 112,
   "id": "46205933-3953-470b-ac26-4456c2ecebe0",
   "metadata": {},
   "outputs": [],
   "source": [
    " #dictionary with spikes for the now calculated networkburst per channel\n",
    "spikes_per_channel_networkburst = {}\n",
    "\n",
    "#dictionary with number of spikes for the now calculated networkburst per channel\n",
    "number_spikes_per_channel_networkburst = {}\n",
    "\n",
    "# dictionary for firing rate per channel per networkburst\n",
    "fr_per_channel_networkburst = {}"
   ]
  },
  {
   "cell_type": "code",
   "execution_count": 113,
   "id": "89145559-58a8-4115-baba-41c76c17cca4",
   "metadata": {},
   "outputs": [],
   "source": [
    "# filter all spikes that occur in this networkburst\n",
    "for key in spikedic_MAD:\n",
    "    spikelist = []\n",
    "    for s in spikedic_MAD[key]:\n",
    "        s = s*tick*1e-06\n",
    "        if i[0] <= s <= i[1]:\n",
    "            spikelist.append(s)\n",
    "    spikes_per_channel_networkburst[key] = spikelist\n",
    "    number_spikes_per_channel_networkburst[key] = len(spikelist)\n",
    "    fr_per_channel_networkburst[key]= len(spikelist)/timelength_networkburst"
   ]
  },
  {
   "cell_type": "code",
   "execution_count": 114,
   "id": "eed6767e-8192-43ba-8ea3-52c9b6bd5569",
   "metadata": {
    "collapsed": true,
    "jupyter": {
     "outputs_hidden": true
    },
    "tags": []
   },
   "outputs": [
    {
     "data": {
      "text/plain": [
       "{'G13': 0.0,\n",
       " 'G12': 0.0,\n",
       " 'F16': 0.0,\n",
       " 'F15': 0.0,\n",
       " 'F14': 0.0,\n",
       " 'F13': 0.0,\n",
       " 'F12': 0.0,\n",
       " 'E16': 0.0,\n",
       " 'E15': 0.0,\n",
       " 'E14': 0.0,\n",
       " 'E13': 0.0,\n",
       " 'G11': 0.0,\n",
       " 'D16': 0.0,\n",
       " 'D15': 0.0,\n",
       " 'D14': 0.0,\n",
       " 'H9': 0.0,\n",
       " 'F11': 0.0,\n",
       " 'C16': 0.0,\n",
       " 'C15': 0.0,\n",
       " 'D13': 0.0,\n",
       " 'B16': 0.0,\n",
       " 'B15': 0.0,\n",
       " 'C14': 0.0,\n",
       " 'A15': 0.0,\n",
       " 'A14': 0.0,\n",
       " 'B14': 0.0,\n",
       " 'G10': 0.0,\n",
       " 'E12': 0.0,\n",
       " 'B13': 0.0,\n",
       " 'C13': 0.0,\n",
       " 'F10': 0.0,\n",
       " 'A13': 0.0,\n",
       " 'C12': 0.0,\n",
       " 'D12': 0.0,\n",
       " 'A12': 0.0,\n",
       " 'B12': 0.0,\n",
       " 'D11': 0.0,\n",
       " 'E11': 0.0,\n",
       " 'B11': 0.0,\n",
       " 'C11': 0.0,\n",
       " 'E10': 0.0,\n",
       " 'A11': 0.0,\n",
       " 'C10': 0.0,\n",
       " 'D10': 0.0,\n",
       " 'A10': 0.0,\n",
       " 'B10': 0.0,\n",
       " 'D9': 0.0,\n",
       " 'E9': 0.0,\n",
       " 'B9': 0.0,\n",
       " 'C9': 0.0,\n",
       " 'F9': 0.0,\n",
       " 'A9': 0.0,\n",
       " 'G8': 0.0,\n",
       " 'G9': 0.0,\n",
       " 'A8': 0.0,\n",
       " 'F8': 0.0,\n",
       " 'C8': 0.0,\n",
       " 'B8': 0.0,\n",
       " 'E8': 0.0,\n",
       " 'D8': 0.0,\n",
       " 'B7': 0.0,\n",
       " 'A7': 0.0,\n",
       " 'D7': 0.0,\n",
       " 'C7': 0.0,\n",
       " 'A6': 0.0,\n",
       " 'E7': 0.0,\n",
       " 'C6': 0.0,\n",
       " 'B6': 0.0,\n",
       " 'E6': 0.0,\n",
       " 'D6': 0.0,\n",
       " 'B5': 0.0,\n",
       " 'A5': 0.0,\n",
       " 'D5': 0.0,\n",
       " 'C5': 0.0,\n",
       " 'A4': 0.0,\n",
       " 'F7': 0.0,\n",
       " 'C4': 0.0,\n",
       " 'B4': 0.0,\n",
       " 'F6': 0.0,\n",
       " 'H8': 0.0,\n",
       " 'B3': 0.0,\n",
       " 'A3': 0.0,\n",
       " 'D4': 0.0,\n",
       " 'A2': 0.0,\n",
       " 'B2': 0.0,\n",
       " 'B1': 0.0,\n",
       " 'C3': 0.0,\n",
       " 'C2': 0.0,\n",
       " 'C1': 0.0,\n",
       " 'E5': 0.0,\n",
       " 'G7': 0.0,\n",
       " 'D3': 0.0,\n",
       " 'D2': 0.0,\n",
       " 'D1': 0.0,\n",
       " 'G6': 0.0,\n",
       " 'E4': 0.0,\n",
       " 'E3': 0.0,\n",
       " 'E2': 0.0,\n",
       " 'E1': 0.0,\n",
       " 'F5': 0.0,\n",
       " 'F4': 0.0,\n",
       " 'F3': 1.0305738671488696,\n",
       " 'F2': 1.0305738671488696,\n",
       " 'F1': 0.0,\n",
       " 'G5': 0.0,\n",
       " 'G4': 0.0,\n",
       " 'G3': 0.5152869335744348,\n",
       " 'G2': 1.0305738671488696,\n",
       " 'G1': 0.0,\n",
       " 'H5': 0.0,\n",
       " 'H4': 0.5152869335744348,\n",
       " 'H3': 3.0917216014466087,\n",
       " 'H2': 3.0917216014466087,\n",
       " 'H1': 1.0305738671488696,\n",
       " 'H6': 0.0,\n",
       " 'H7': 0.0,\n",
       " 'J7': 0.0,\n",
       " 'J6': 0.0,\n",
       " 'J1': 0.0,\n",
       " 'J2': 4.6375824021699135,\n",
       " 'J3': 0.5152869335744348,\n",
       " 'J4': 0.0,\n",
       " 'J5': 0.0,\n",
       " 'K1': 0.0,\n",
       " 'K2': 5.668156269318783,\n",
       " 'K3': 1.0305738671488696,\n",
       " 'K4': 0.5152869335744348,\n",
       " 'K5': 0.0,\n",
       " 'L1': 2.061147734297739,\n",
       " 'L2': 7.214017070042088,\n",
       " 'L3': 0.0,\n",
       " 'L4': 0.0,\n",
       " 'L5': 0.0,\n",
       " 'M1': 0.0,\n",
       " 'M2': 0.5152869335744348,\n",
       " 'M3': 0.0,\n",
       " 'M4': 0.0,\n",
       " 'K6': 0.0,\n",
       " 'N1': 0.0,\n",
       " 'N2': 0.0,\n",
       " 'N3': 0.0,\n",
       " 'J8': 0.0,\n",
       " 'L6': 0.0,\n",
       " 'O1': 0.0,\n",
       " 'O2': 0.0,\n",
       " 'N4': 0.0,\n",
       " 'P1': 0.0,\n",
       " 'P2': 0.0,\n",
       " 'O3': 0.0,\n",
       " 'R2': 0.0,\n",
       " 'R3': 0.0,\n",
       " 'P3': 0.0,\n",
       " 'K7': 0.0,\n",
       " 'M5': 0.0,\n",
       " 'P4': 0.0,\n",
       " 'O4': 0.0,\n",
       " 'L7': 0.0,\n",
       " 'R4': 0.0,\n",
       " 'O5': 0.0,\n",
       " 'N5': 0.0,\n",
       " 'R5': 0.0,\n",
       " 'P5': 0.0,\n",
       " 'N6': 0.0,\n",
       " 'M6': 0.0,\n",
       " 'P6': 0.0,\n",
       " 'O6': 0.0,\n",
       " 'M7': 0.0,\n",
       " 'R6': 0.0,\n",
       " 'O7': 0.0,\n",
       " 'N7': 0.0,\n",
       " 'R7': 0.0,\n",
       " 'P7': 0.0,\n",
       " 'N8': 0.0,\n",
       " 'M8': 0.0,\n",
       " 'P8': 0.0,\n",
       " 'O8': 0.0,\n",
       " 'L8': 0.0,\n",
       " 'R8': 0.0,\n",
       " 'K9': 0.0,\n",
       " 'K8': 0.0,\n",
       " 'R9': 0.0,\n",
       " 'L9': 0.0,\n",
       " 'O9': 0.0,\n",
       " 'P9': 0.0,\n",
       " 'M9': 0.0,\n",
       " 'N9': 0.0,\n",
       " 'P10': 0.0,\n",
       " 'R10': 0.0,\n",
       " 'N10': 0.0,\n",
       " 'O10': 0.0,\n",
       " 'R11': 0.0,\n",
       " 'M10': 0.0,\n",
       " 'O11': 0.0,\n",
       " 'P11': 0.0,\n",
       " 'M11': 0.0,\n",
       " 'N11': 0.0,\n",
       " 'P12': 0.0,\n",
       " 'R12': 0.0,\n",
       " 'N12': 0.0,\n",
       " 'O12': 0.0,\n",
       " 'R13': 0.0,\n",
       " 'L10': 0.0,\n",
       " 'O13': 0.0,\n",
       " 'P13': 0.0,\n",
       " 'L11': 0.0,\n",
       " 'J9': 0.0,\n",
       " 'P14': 0.0,\n",
       " 'R14': 0.0,\n",
       " 'N13': 0.0,\n",
       " 'R15': 0.0,\n",
       " 'P16': 0.0,\n",
       " 'P15': 0.0,\n",
       " 'O15': 0.0,\n",
       " 'O14': 0.0,\n",
       " 'M12': 0.0,\n",
       " 'O16': 0.0,\n",
       " 'N14': 0.0,\n",
       " 'K10': 0.0,\n",
       " 'N16': 0.0,\n",
       " 'N15': 0.0,\n",
       " 'M13': 0.0,\n",
       " 'K11': 0.0,\n",
       " 'M15': 0.0,\n",
       " 'M14': 0.0,\n",
       " 'L12': 0.0,\n",
       " 'M16': 0.0,\n",
       " 'L14': 0.0,\n",
       " 'L13': 0.0,\n",
       " 'L16': 0.0,\n",
       " 'L15': 0.0,\n",
       " 'K13': 0.0,\n",
       " 'K12': 0.0,\n",
       " 'K15': 0.0,\n",
       " 'K14': 0.0,\n",
       " 'J12': 0.0,\n",
       " 'K16': 0.0,\n",
       " 'J14': 0.0,\n",
       " 'J13': 0.0,\n",
       " 'J16': 0.0,\n",
       " 'J15': 0.0,\n",
       " 'J10': 0.0,\n",
       " 'J11': 0.0,\n",
       " 'H11': 0.0,\n",
       " 'H10': 0.0,\n",
       " 'H15': 0.0,\n",
       " 'H16': 0.0,\n",
       " 'H13': 0.0,\n",
       " 'H14': 0.0,\n",
       " 'G16': 0.0,\n",
       " 'H12': 0.0,\n",
       " 'G14': 0.0,\n",
       " 'G15': 0.0}"
      ]
     },
     "execution_count": 114,
     "metadata": {},
     "output_type": "execute_result"
    }
   ],
   "source": [
    "fr_per_channel_networkburst"
   ]
  },
  {
   "cell_type": "code",
   "execution_count": 116,
   "id": "980865fd-4489-4381-b44f-32b8e83276f4",
   "metadata": {},
   "outputs": [],
   "source": [
    "to_discard, isi_per_channel_networkburst = get_isi_singlechannel(\n",
    "                                        spikes_per_channel_networkburst,\n",
    "                                        tick = tick)"
   ]
  },
  {
   "cell_type": "code",
   "execution_count": 115,
   "id": "b71f1ba1-e97b-425c-9a96-53b345f05dfe",
   "metadata": {},
   "outputs": [],
   "source": [
    "# now the parameters above are calculated for the layers\n",
    "spikes_per_layer_networkburst = {}\n",
    "\n",
    "isi_mean_per_layer_networkburst = {}\n",
    "isi_std_per_layer_networkburst = {}"
   ]
  },
  {
   "cell_type": "code",
   "execution_count": 123,
   "id": "d57c415d-d820-4b9c-88af-03ad6711b45d",
   "metadata": {
    "tags": []
   },
   "outputs": [
    {
     "name": "stderr",
     "output_type": "stream",
     "text": [
      "C:\\Users\\User\\anaconda3\\lib\\site-packages\\numpy\\core\\fromnumeric.py:3419: RuntimeWarning: Mean of empty slice.\n",
      "  return _methods._mean(a, axis=axis, dtype=dtype,\n",
      "C:\\Users\\User\\anaconda3\\lib\\site-packages\\numpy\\core\\_methods.py:188: RuntimeWarning: invalid value encountered in double_scalars\n",
      "  ret = ret.dtype.type(ret / rcount)\n",
      "C:\\Users\\User\\anaconda3\\lib\\site-packages\\numpy\\core\\_methods.py:261: RuntimeWarning: Degrees of freedom <= 0 for slice\n",
      "  ret = _var(a, axis=axis, dtype=dtype, out=out, ddof=ddof,\n",
      "C:\\Users\\User\\anaconda3\\lib\\site-packages\\numpy\\core\\_methods.py:221: RuntimeWarning: invalid value encountered in true_divide\n",
      "  arrmean = um.true_divide(arrmean, div, out=arrmean, casting='unsafe',\n",
      "C:\\Users\\User\\anaconda3\\lib\\site-packages\\numpy\\core\\_methods.py:253: RuntimeWarning: invalid value encountered in double_scalars\n",
      "  ret = ret.dtype.type(ret / rcount)\n"
     ]
    }
   ],
   "source": [
    "for key in layerdic:\n",
    "    tmp_layerlist_isi = []\n",
    "    tmp_layerlist_spikes = []\n",
    "    for c in layerdic[key]:\n",
    "        tmp_layerlist_spikes.append(number_spikes_per_channel_networkburst[c])\n",
    "        try:\n",
    "            tmp_layerlist_isi.append(list(isi_per_channel_networkburst[c]))\n",
    "        except:\n",
    "            pass\n",
    "    # flatten the resulting lists of list\n",
    "    tmp_layerlist_isi = [x for y in tmp_layerlist_isi for x in y]\n",
    "\n",
    "\n",
    "    # add information to the corresponding dictionary\n",
    "    spikes_per_layer_networkburst[key] = sum(tmp_layerlist_spikes)\n",
    "    isi_mean_per_layer_networkburst[key] = np.mean(tmp_layerlist_isi)\n",
    "    isi_std_per_layer_networkburst[key] = np.std(tmp_layerlist_isi)"
   ]
  },
  {
   "cell_type": "code",
   "execution_count": 124,
   "id": "78c3a734-3c0e-421a-92eb-d34dd1977f26",
   "metadata": {},
   "outputs": [
    {
     "data": {
      "text/plain": [
       "{'layer1': 0,\n",
       " 'layer2-3': 0,\n",
       " 'layer4': 0,\n",
       " 'layer5-6': 0,\n",
       " 'whitematter': 82,\n",
       " 'not_on_slice': 0}"
      ]
     },
     "execution_count": 124,
     "metadata": {},
     "output_type": "execute_result"
    }
   ],
   "source": [
    "spikes_per_layer_networkburst"
   ]
  },
  {
   "cell_type": "code",
   "execution_count": 125,
   "id": "8e4597c9-7541-415b-ad91-d6ffbe6464de",
   "metadata": {},
   "outputs": [
    {
     "data": {
      "text/plain": [
       "{'layer1': nan,\n",
       " 'layer2-3': nan,\n",
       " 'layer4': nan,\n",
       " 'layer5-6': nan,\n",
       " 'whitematter': 3.5384369230769064,\n",
       " 'not_on_slice': nan}"
      ]
     },
     "execution_count": 125,
     "metadata": {},
     "output_type": "execute_result"
    }
   ],
   "source": [
    "isi_mean_per_layer_networkburst"
   ]
  },
  {
   "cell_type": "code",
   "execution_count": 126,
   "id": "493f621c-8f5f-46fd-995b-e1340098ec8c",
   "metadata": {},
   "outputs": [
    {
     "data": {
      "text/plain": [
       "{'layer1': nan,\n",
       " 'layer2-3': nan,\n",
       " 'layer4': nan,\n",
       " 'layer5-6': nan,\n",
       " 'whitematter': 6.986665834233961,\n",
       " 'not_on_slice': nan}"
      ]
     },
     "execution_count": 126,
     "metadata": {},
     "output_type": "execute_result"
    }
   ],
   "source": [
    "isi_std_per_layer_networkburst"
   ]
  },
  {
   "cell_type": "code",
   "execution_count": null,
   "id": "f1031c3d-62dc-499a-b546-44c2c78e0b5e",
   "metadata": {},
   "outputs": [],
   "source": []
  },
  {
   "cell_type": "code",
   "execution_count": null,
   "id": "51e50518-1215-4ead-998c-b0150e85acb8",
   "metadata": {},
   "outputs": [],
   "source": []
  },
  {
   "cell_type": "code",
   "execution_count": null,
   "id": "da7bc048-582c-4ad6-b063-4d2b86c89ade",
   "metadata": {},
   "outputs": [],
   "source": []
  },
  {
   "cell_type": "code",
   "execution_count": null,
   "id": "d44f01f1-00e7-4d7f-94db-575fe2f58c92",
   "metadata": {},
   "outputs": [],
   "source": []
  },
  {
   "cell_type": "code",
   "execution_count": null,
   "id": "9fdbd380-9df8-4562-81eb-5c231da3b214",
   "metadata": {},
   "outputs": [],
   "source": []
  },
  {
   "cell_type": "code",
   "execution_count": null,
   "id": "35f582c2-6c54-4f32-9b7e-7d19a6e89500",
   "metadata": {},
   "outputs": [],
   "source": []
  },
  {
   "cell_type": "code",
   "execution_count": null,
   "id": "9f778155-61a0-4a31-bc78-bf78a61c6609",
   "metadata": {},
   "outputs": [],
   "source": []
  },
  {
   "cell_type": "code",
   "execution_count": null,
   "id": "8e317aaf-c52a-422b-b66a-a26c2b2875b9",
   "metadata": {},
   "outputs": [],
   "source": []
  },
  {
   "cell_type": "code",
   "execution_count": null,
   "id": "4809e9f5-9d92-49e4-8d0c-9ea438e366eb",
   "metadata": {},
   "outputs": [],
   "source": []
  },
  {
   "cell_type": "code",
   "execution_count": null,
   "id": "4aec288d-413b-4996-84c1-423a4ed4d6a0",
   "metadata": {},
   "outputs": [],
   "source": []
  },
  {
   "cell_type": "code",
   "execution_count": null,
   "id": "bcaa639c-cbf9-4c12-976f-ffe52c4d2082",
   "metadata": {},
   "outputs": [],
   "source": []
  },
  {
   "cell_type": "code",
   "execution_count": 66,
   "id": "cbccc065-7dae-41ed-848d-b63ac066a578",
   "metadata": {},
   "outputs": [],
   "source": [
    "\n",
    "def get_isi_singlechannel(spikedic, tick):\n",
    "    '''\n",
    "    Parameters\n",
    "    ----------\n",
    "    spikedic : dictionary with all detected spikes for a channel\n",
    "        DESCRIPTION.\n",
    "\n",
    "    Returns\n",
    "    -------\n",
    "    isidic : keys = channels, values = List of tuples where tuple[0]=detected spike and tuple[1]=isi to the next detected spike\n",
    "    isi_alone_dic : keys = channels, values = list of isi alone in microseconds!\n",
    "    CAVE returns are in microseconds\n",
    "    '''\n",
    "    \n",
    "    isidic ={}     \n",
    "    isilist = []\n",
    "    isi_alone_dic = {}\n",
    "    isislist =[]\n",
    "\n",
    "    for key in spikedic:\n",
    "        isilist = []\n",
    "        isislist = []\n",
    "        if len(spikedic[key])>=2:\n",
    "            for i in range(0, (len(spikedic[key])-1)):\n",
    "                isi = spikedic[key][i]*tick, (spikedic[key][i+1]-spikedic[key][i])*tick #CL tick für beide dazu\n",
    "                isi_alone = (spikedic[key][i+1]-spikedic[key][i])*tick\n",
    "                isilist.append(isi)\n",
    "                isislist.append(isi_alone)\n",
    "        isidic[key]=isilist\n",
    "        isi_alone_dic[key]=isislist\n",
    "        \n",
    "    return isidic, isi_alone_dic"
   ]
  },
  {
   "cell_type": "code",
   "execution_count": 68,
   "id": "bb637df9-d154-4834-b575-02458b735fd0",
   "metadata": {},
   "outputs": [],
   "source": [
    "# get the interspike_intervals for every networkburst per channel\n",
    "to_discard, isi_per_channel_networkburst = get_isi_singlechannel(\n",
    "                                        spikes_per_channel_networkburst,\n",
    "                                        tick = tick)"
   ]
  },
  {
   "cell_type": "code",
   "execution_count": 70,
   "id": "f14e89be-fe90-43a2-b382-176b915fd2c6",
   "metadata": {},
   "outputs": [
    {
     "data": {
      "text/plain": [
       "{'G13': [0.13120000000014898, 0.4415999999997666, 0.6592000000000553],\n",
       " 'G12': [],\n",
       " 'F16': [],\n",
       " 'F15': [0.5359999999996035,\n",
       "  0.2559999999999718,\n",
       "  0.10880000000042855,\n",
       "  0.19519999999999982,\n",
       "  0.15679999999974825,\n",
       "  0.09439999999983684,\n",
       "  0.21119999999996253,\n",
       "  0.16000000000019554,\n",
       "  0.1999999999998181,\n",
       "  0.1888000000002421,\n",
       "  0.24319999999988795,\n",
       "  0.05920000000003256,\n",
       "  0.3424000000001115,\n",
       "  0.3983999999996968,\n",
       "  3.436800000000062,\n",
       "  0.10719999999992069,\n",
       "  0.10720000000048913,\n",
       "  1.2063999999998032,\n",
       "  1.0336000000000922,\n",
       "  0.1535999999998694,\n",
       "  0.12639999999976226,\n",
       "  0.9824000000003252,\n",
       "  1.502399999999966,\n",
       "  0.09119999999995798,\n",
       "  1.7183999999997468,\n",
       "  7.112000000000194,\n",
       "  0.25280000000009295],\n",
       " 'F14': [0.10240000000010241,\n",
       "  0.07039999999960855,\n",
       "  0.14720000000011169,\n",
       "  0.3216000000003305,\n",
       "  0.1903999999996131],\n",
       " 'F13': [0.4080000000004702],\n",
       " 'F12': [],\n",
       " 'E16': [],\n",
       " 'E15': [0.1295999999996411,\n",
       "  0.17760000000009768,\n",
       "  0.2303999999998041,\n",
       "  12.390400000000454,\n",
       "  2.084799999999518,\n",
       "  0.2800000000002001,\n",
       "  1.8799999999998818,\n",
       "  2.676800000000412,\n",
       "  0.7231999999999061],\n",
       " 'E14': [],\n",
       " 'E13': [],\n",
       " 'G11': [],\n",
       " 'D16': [],\n",
       " 'D15': [],\n",
       " 'D14': [],\n",
       " 'H9': [],\n",
       " 'F11': [],\n",
       " 'C16': [],\n",
       " 'C15': [],\n",
       " 'D13': [],\n",
       " 'B16': [],\n",
       " 'B15': [],\n",
       " 'C14': [],\n",
       " 'A15': [],\n",
       " 'A14': [],\n",
       " 'B14': [],\n",
       " 'G10': [],\n",
       " 'E12': [],\n",
       " 'B13': [],\n",
       " 'C13': [],\n",
       " 'F10': [],\n",
       " 'A13': [],\n",
       " 'C12': [],\n",
       " 'D12': [],\n",
       " 'A12': [],\n",
       " 'B12': [],\n",
       " 'D11': [],\n",
       " 'E11': [],\n",
       " 'B11': [],\n",
       " 'C11': [],\n",
       " 'E10': [],\n",
       " 'A11': [],\n",
       " 'C10': [],\n",
       " 'D10': [],\n",
       " 'A10': [],\n",
       " 'B10': [],\n",
       " 'D9': [],\n",
       " 'E9': [],\n",
       " 'B9': [],\n",
       " 'C9': [],\n",
       " 'F9': [],\n",
       " 'A9': [],\n",
       " 'G8': [],\n",
       " 'G9': [],\n",
       " 'A8': [],\n",
       " 'F8': [],\n",
       " 'C8': [],\n",
       " 'B8': [],\n",
       " 'E8': [],\n",
       " 'D8': [],\n",
       " 'B7': [],\n",
       " 'A7': [],\n",
       " 'D7': [],\n",
       " 'C7': [],\n",
       " 'A6': [],\n",
       " 'E7': [],\n",
       " 'C6': [],\n",
       " 'B6': [],\n",
       " 'E6': [],\n",
       " 'D6': [],\n",
       " 'B5': [],\n",
       " 'A5': [],\n",
       " 'D5': [],\n",
       " 'C5': [],\n",
       " 'A4': [],\n",
       " 'F7': [],\n",
       " 'C4': [],\n",
       " 'B4': [],\n",
       " 'F6': [],\n",
       " 'H8': [],\n",
       " 'B3': [],\n",
       " 'A3': [],\n",
       " 'D4': [],\n",
       " 'A2': [],\n",
       " 'B2': [],\n",
       " 'B1': [],\n",
       " 'C3': [],\n",
       " 'C2': [],\n",
       " 'C1': [],\n",
       " 'E5': [],\n",
       " 'G7': [],\n",
       " 'D3': [],\n",
       " 'D2': [],\n",
       " 'D1': [],\n",
       " 'G6': [],\n",
       " 'E4': [],\n",
       " 'E3': [],\n",
       " 'E2': [],\n",
       " 'E1': [],\n",
       " 'F5': [],\n",
       " 'F4': [],\n",
       " 'F3': [38.76480000000015],\n",
       " 'F2': [0.9231999999997242, 35.26080000000036, 0.7135999999997011],\n",
       " 'F1': [],\n",
       " 'G5': [],\n",
       " 'G4': [],\n",
       " 'G3': [],\n",
       " 'G2': [],\n",
       " 'G1': [],\n",
       " 'H5': [],\n",
       " 'H4': [],\n",
       " 'H3': [0.07519999999999527,\n",
       "  0.29440000000022337,\n",
       "  2.0319999999998117,\n",
       "  18.564800000000332,\n",
       "  1.1039999999997008,\n",
       "  13.625600000000304,\n",
       "  0.2607999999997901,\n",
       "  0.1888000000002421,\n",
       "  0.5327999999997246,\n",
       "  0.4272000000003118,\n",
       "  2.337599999999611],\n",
       " 'H2': [0.1135999999996784,\n",
       "  20.526399999999967,\n",
       "  0.10400000000004184,\n",
       "  15.38720000000012,\n",
       "  3.281600000000253],\n",
       " 'H1': [],\n",
       " 'H6': [],\n",
       " 'H7': [],\n",
       " 'J7': [],\n",
       " 'J6': [],\n",
       " 'J1': [],\n",
       " 'J2': [0.09119999999995798,\n",
       "  0.2544000000000324,\n",
       "  0.08960000000001855,\n",
       "  0.7280000000002929,\n",
       "  0.20479999999963638,\n",
       "  0.6736000000000786,\n",
       "  34.25600000000031,\n",
       "  0.08960000000001855,\n",
       "  0.27359999999987394,\n",
       "  0.6400000000002137,\n",
       "  2.1967999999998256,\n",
       "  0.41119999999978063,\n",
       "  0.10240000000010241],\n",
       " 'J3': [],\n",
       " 'J4': [],\n",
       " 'J5': [],\n",
       " 'K1': [],\n",
       " 'K2': [0.18719999999973425,\n",
       "  0.1231999999998834,\n",
       "  0.10240000000010241,\n",
       "  0.27680000000032123,\n",
       "  0.7727999999997337,\n",
       "  0.2863999999999578,\n",
       "  0.44640000000015334,\n",
       "  0.11360000000024684,\n",
       "  0.03839999999968313,\n",
       "  19.671999999999912,\n",
       "  1.792000000000371,\n",
       "  12.996799999999666,\n",
       "  0.24159999999994852,\n",
       "  0.1936000000000604,\n",
       "  0.5616000000003396,\n",
       "  1.6303999999996677,\n",
       "  0.24319999999988795,\n",
       "  0.12000000000000455,\n",
       "  0.2736000000004424,\n",
       "  0.18559999999979482],\n",
       " 'K3': [0.11680000000012569,\n",
       "  0.1391999999998461,\n",
       "  35.99840000000029,\n",
       "  0.6079999999997199],\n",
       " 'K4': [],\n",
       " 'K5': [],\n",
       " 'L1': [0.3167999999999438,\n",
       "  1.9535999999999376,\n",
       "  17.843199999999797,\n",
       "  0.39199999999993906,\n",
       "  19.342400000000453,\n",
       "  0.18719999999973425],\n",
       " 'L2': [0.24640000000033524,\n",
       "  0.41919999999947777,\n",
       "  0.5280000000004748,\n",
       "  0.9279999999995425,\n",
       "  0.1360000000005357,\n",
       "  34.91039999999998,\n",
       "  0.5599999999998317,\n",
       "  2.1999999999997044,\n",
       "  0.40960000000040964],\n",
       " 'L3': [],\n",
       " 'L4': [],\n",
       " 'L5': [],\n",
       " 'M1': [],\n",
       " 'M2': [],\n",
       " 'M3': [],\n",
       " 'M4': [],\n",
       " 'K6': [],\n",
       " 'N1': [],\n",
       " 'N2': [],\n",
       " 'N3': [],\n",
       " 'J8': [],\n",
       " 'L6': [],\n",
       " 'O1': [],\n",
       " 'O2': [],\n",
       " 'N4': [],\n",
       " 'P1': [],\n",
       " 'P2': [],\n",
       " 'O3': [],\n",
       " 'R2': [],\n",
       " 'R3': [],\n",
       " 'P3': [],\n",
       " 'K7': [],\n",
       " 'M5': [],\n",
       " 'P4': [],\n",
       " 'O4': [],\n",
       " 'L7': [],\n",
       " 'R4': [],\n",
       " 'O5': [],\n",
       " 'N5': [],\n",
       " 'R5': [],\n",
       " 'P5': [],\n",
       " 'N6': [],\n",
       " 'M6': [],\n",
       " 'P6': [],\n",
       " 'O6': [],\n",
       " 'M7': [],\n",
       " 'R6': [],\n",
       " 'O7': [],\n",
       " 'N7': [],\n",
       " 'R7': [],\n",
       " 'P7': [],\n",
       " 'N8': [],\n",
       " 'M8': [],\n",
       " 'P8': [],\n",
       " 'O8': [],\n",
       " 'L8': [],\n",
       " 'R8': [],\n",
       " 'K9': [],\n",
       " 'K8': [],\n",
       " 'R9': [],\n",
       " 'L9': [],\n",
       " 'O9': [],\n",
       " 'P9': [],\n",
       " 'M9': [],\n",
       " 'N9': [],\n",
       " 'P10': [],\n",
       " 'R10': [],\n",
       " 'N10': [],\n",
       " 'O10': [],\n",
       " 'R11': [0.22400000000004638, 0.20640000000014425],\n",
       " 'M10': [],\n",
       " 'O11': [0.09439999999983684,\n",
       "  0.23200000000031196,\n",
       "  0.036799999999743704,\n",
       "  0.009600000000205,\n",
       "  0.19200000000012096,\n",
       "  0.18239999999991596,\n",
       "  0.3023999999999205,\n",
       "  0.5887999999998783],\n",
       " 'P11': [0.10879999999986012,\n",
       "  0.01599999999996271,\n",
       "  0.12000000000000455,\n",
       "  0.19679999999993925,\n",
       "  0.0032000000004472895,\n",
       "  0.20799999999951524,\n",
       "  0.5184000000002698,\n",
       "  1.4751999999998588,\n",
       "  1.8064000000003944,\n",
       "  0.011199999999575994],\n",
       " 'M11': [0.15519999999980882,\n",
       "  0.10080000000016298,\n",
       "  0.38560000000018135,\n",
       "  0.27519999999981337,\n",
       "  4.168000000000234],\n",
       " 'N11': [0.016000000000531145,\n",
       "  0.3487999999998692,\n",
       "  0.2400000000000091,\n",
       "  0.03199999999992542,\n",
       "  0.1695999999998321,\n",
       "  0.4128000000002885],\n",
       " 'P12': [],\n",
       " 'R12': [],\n",
       " 'N12': [0.11200000000030741,\n",
       "  0.1328000000000884,\n",
       "  0.03519999999980428,\n",
       "  0.20640000000014425,\n",
       "  0.03999999999962256,\n",
       "  0.19200000000012096,\n",
       "  0.02720000000010714,\n",
       "  0.16799999999989268,\n",
       "  0.02720000000010714,\n",
       "  0.19040000000018154,\n",
       "  0.5423999999999296,\n",
       "  0.09759999999971569,\n",
       "  0.2656000000001768,\n",
       "  0.49919999999985976,\n",
       "  2.4768000000000256],\n",
       " 'O12': [0.12159999999994398,\n",
       "  0.09119999999995798,\n",
       "  0.25280000000009295,\n",
       "  0.1999999999998181,\n",
       "  0.23840000000006967,\n",
       "  0.16160000000013497],\n",
       " 'R13': [0.1328000000000884,\n",
       "  0.1439999999996644,\n",
       "  0.0031999999998788553,\n",
       "  0.02560000000016771,\n",
       "  0.17600000000015825,\n",
       "  0.04480000000000928,\n",
       "  0.17760000000009768,\n",
       "  0.05760000000009313,\n",
       "  0.27519999999981337,\n",
       "  1.0640000000000782,\n",
       "  1.231999999999971],\n",
       " 'L10': [],\n",
       " 'O13': [0.13759999999990669,\n",
       "  0.1488000000000511,\n",
       "  0.2703999999999951,\n",
       "  0.35520000000019536,\n",
       "  0.2767999999997528,\n",
       "  0.2559999999999718,\n",
       "  0.20159999999975753,\n",
       "  0.2912000000003445],\n",
       " 'P13': [0.1584000000002561,\n",
       "  0.2544000000000324,\n",
       "  0.2656000000001768,\n",
       "  0.2544000000000324,\n",
       "  0.22239999999953852,\n",
       "  0.12960000000020955,\n",
       "  0.1936000000000604,\n",
       "  0.18559999999979482,\n",
       "  0.8896000000004278,\n",
       "  0.21119999999996253],\n",
       " 'L11': [0.2303999999998041, 0.5072000000001253, 1.2063999999998032],\n",
       " 'J9': [],\n",
       " 'P14': [],\n",
       " 'R14': [0.15519999999980882,\n",
       "  0.008000000000265572,\n",
       "  0.14400000000023283,\n",
       "  0.2063999999995758,\n",
       "  0.12159999999994398,\n",
       "  0.1792000000000371,\n",
       "  0.05120000000033542,\n",
       "  0.18879999999967367,\n",
       "  1.147200000000339],\n",
       " 'N13': [0.18559999999979482,\n",
       "  0.11039999999979955,\n",
       "  0.13440000000002783,\n",
       "  0.04799999999988813,\n",
       "  0.10559999999998126,\n",
       "  0.1264000000003307,\n",
       "  0.35199999999974807,\n",
       "  0.21119999999996253,\n",
       "  0.10240000000010241,\n",
       "  0.4704000000003816,\n",
       "  0.4847999999998365],\n",
       " 'R15': [],\n",
       " 'P16': [],\n",
       " 'P15': [],\n",
       " 'O15': [],\n",
       " 'O14': [0.13119999999958054, 0.14400000000023283, 0.3424000000001115],\n",
       " 'M12': [0.004799999999818283,\n",
       "  0.13440000000002783,\n",
       "  0.11840000000006512,\n",
       "  0.14079999999978554,\n",
       "  0.024000000000228283,\n",
       "  0.19519999999999982,\n",
       "  0.12000000000000455,\n",
       "  0.04480000000000928,\n",
       "  0.1728000000002794,\n",
       "  0.14559999999960382,\n",
       "  0.2544000000000324,\n",
       "  0.2544000000000324,\n",
       "  0.33599999999978536,\n",
       "  0.35520000000019536,\n",
       "  0.33920000000023265,\n",
       "  0.939199999999687,\n",
       "  1.3552000000004227,\n",
       "  0.21119999999996253,\n",
       "  0.18239999999991596],\n",
       " 'O16': [],\n",
       " 'N14': [0.13760000000047512, 0.019199999999841566, 0.1231999999998834],\n",
       " 'K10': [],\n",
       " 'N16': [],\n",
       " 'N15': [],\n",
       " 'M13': [0.16960000000040054,\n",
       "  0.19519999999999982,\n",
       "  0.014400000000023283,\n",
       "  0.01759999999990214,\n",
       "  0.2255999999999858,\n",
       "  0.15679999999974825,\n",
       "  0.13920000000041455,\n",
       "  0.17759999999952925,\n",
       "  0.1520000000004984,\n",
       "  0.3119999999995571,\n",
       "  0.937600000000316,\n",
       "  0.5615999999997712,\n",
       "  0.3311999999999671,\n",
       "  0.3311999999999671,\n",
       "  0.16480000000001382,\n",
       "  1.6192000000000917],\n",
       " 'K11': [],\n",
       " 'M15': [],\n",
       " 'M14': [0.1599999999996271,\n",
       "  0.12960000000020955,\n",
       "  0.19200000000012096,\n",
       "  0.28480000000001837,\n",
       "  0.18239999999991596],\n",
       " 'L12': [0.1488000000000511,\n",
       "  0.11199999999973898,\n",
       "  0.08960000000001855,\n",
       "  0.10559999999998126,\n",
       "  0.22240000000010696,\n",
       "  0.1792000000000371,\n",
       "  0.14560000000017226,\n",
       "  1.179199999999696,\n",
       "  4.361600000000294,\n",
       "  0.10879999999986012],\n",
       " 'M16': [],\n",
       " 'L14': [],\n",
       " 'L13': [0.24959999999964566,\n",
       "  0.12159999999994398,\n",
       "  0.02720000000010714,\n",
       "  0.2496000000002141,\n",
       "  0.19519999999999982,\n",
       "  0.19200000000012096,\n",
       "  0.3231999999997015,\n",
       "  0.3791999999998552,\n",
       "  0.22080000000016753,\n",
       "  0.7184000000000879,\n",
       "  0.3840000000002419,\n",
       "  0.595199999999636,\n",
       "  0.2863999999999578,\n",
       "  1.4751999999998588,\n",
       "  0.15360000000043783,\n",
       "  0.14559999999960382],\n",
       " 'L16': [],\n",
       " 'L15': [0.41279999999972006,\n",
       "  0.22240000000010696,\n",
       "  0.2255999999999858,\n",
       "  0.49280000000010205,\n",
       "  0.23519999999962238],\n",
       " 'K13': [0.2096000000000231,\n",
       "  0.14560000000017226,\n",
       "  0.21919999999965967,\n",
       "  0.03199999999992542,\n",
       "  0.18560000000036325,\n",
       "  0.03199999999992542,\n",
       "  0.19839999999987867,\n",
       "  0.19839999999987867,\n",
       "  0.04160000000013042,\n",
       "  0.24479999999982738,\n",
       "  0.7104000000003907,\n",
       "  2.484799999999723,\n",
       "  1.0416000000003578,\n",
       "  0.14879999999948268],\n",
       " 'K12': [],\n",
       " 'K15': [],\n",
       " 'K14': [0.1695999999998321,\n",
       "  0.0032000000004472895,\n",
       "  0.12000000000000455,\n",
       "  0.09279999999989741,\n",
       "  0.1135999999996784,\n",
       "  0.01920000000041,\n",
       "  0.09599999999977626,\n",
       "  0.14400000000023283,\n",
       "  0.043199999999501415,\n",
       "  0.1888000000002421,\n",
       "  0.012800000000083855,\n",
       "  0.17600000000015825,\n",
       "  0.012799999999515421,\n",
       "  0.22400000000004638,\n",
       "  0.038400000000251566,\n",
       "  0.2544000000000324,\n",
       "  0.02399999999965985,\n",
       "  0.21600000000034925,\n",
       "  0.04480000000000928,\n",
       "  0.3535999999996875,\n",
       "  0.18079999999997654,\n",
       "  0.6720000000001392,\n",
       "  0.88799999999992,\n",
       "  0.3936000000004469,\n",
       "  1.0559999999998126,\n",
       "  0.18719999999973425,\n",
       "  1.2672000000003436],\n",
       " 'J12': [0.6767999999999574],\n",
       " 'K16': [],\n",
       " 'J14': [0.05920000000003256,\n",
       "  0.19839999999987867,\n",
       "  0.01920000000041,\n",
       "  0.2703999999999951,\n",
       "  0.26559999999960837,\n",
       "  0.24159999999994852,\n",
       "  0.19679999999993925,\n",
       "  0.05920000000003256,\n",
       "  0.45600000000035834],\n",
       " 'J13': [0.21120000000053096,\n",
       "  0.25439999999946394,\n",
       "  0.24160000000051696,\n",
       "  0.18879999999967367,\n",
       "  0.25919999999985066],\n",
       " 'J16': [],\n",
       " 'J15': [0.03360000000043328,\n",
       "  0.09919999999965512,\n",
       "  0.0864000000001397,\n",
       "  0.16799999999989268,\n",
       "  0.019199999999841566,\n",
       "  0.23680000000013024,\n",
       "  0.19839999999987867,\n",
       "  0.36480000000040036],\n",
       " 'J10': [],\n",
       " 'J11': [],\n",
       " 'H11': [],\n",
       " 'H10': [],\n",
       " 'H15': [0.12159999999994398, 0.15199999999992997, 0.19519999999999982],\n",
       " 'H16': [],\n",
       " 'H13': [0.1439999999996644,\n",
       "  0.2863999999999578,\n",
       "  0.3408000000001721,\n",
       "  0.17760000000009768,\n",
       "  0.1999999999998181],\n",
       " 'H14': [0.13599999999996726,\n",
       "  0.10719999999992069,\n",
       "  0.21119999999996253,\n",
       "  0.017600000000470573,\n",
       "  0.27359999999987394,\n",
       "  0.18719999999973425,\n",
       "  0.36480000000040036,\n",
       "  0.20319999999969696,\n",
       "  3.2656000000002905],\n",
       " 'G16': [],\n",
       " 'H12': [],\n",
       " 'G14': [0.08159999999975298,\n",
       "  0.05920000000003256,\n",
       "  0.14400000000023283,\n",
       "  0.22719999999992524,\n",
       "  0.20319999999969696,\n",
       "  0.6288000000000693,\n",
       "  0.4944000000000415],\n",
       " 'G15': []}"
      ]
     },
     "execution_count": 70,
     "metadata": {},
     "output_type": "execute_result"
    }
   ],
   "source": [
    "isi_per_channel_networkburst"
   ]
  },
  {
   "cell_type": "code",
   "execution_count": null,
   "id": "0eb634b2-9d2d-4f26-b796-719a9c7dde49",
   "metadata": {},
   "outputs": [],
   "source": []
  },
  {
   "cell_type": "code",
   "execution_count": null,
   "id": "cde10899-fc3d-4a47-a1a0-1f953f959630",
   "metadata": {},
   "outputs": [],
   "source": []
  },
  {
   "cell_type": "code",
   "execution_count": null,
   "id": "ba2cb853-d2a9-4f4c-b23a-b08add1d407d",
   "metadata": {},
   "outputs": [],
   "source": []
  },
  {
   "cell_type": "code",
   "execution_count": null,
   "id": "29db10e9-b881-4685-b99d-6f18f58038b2",
   "metadata": {},
   "outputs": [],
   "source": []
  },
  {
   "cell_type": "code",
   "execution_count": 66,
   "id": "a86a7f2c",
   "metadata": {},
   "outputs": [
    {
     "data": {
      "text/plain": [
       "dict_keys(['spikedic_MAD', 'network_bursts_seconds', 'fr_dic', 'isi_dictionary', 'isi_average_dic', 'isi_std_dic', 'Infos_Recording', 'Infos_Analysis', 'Infos_Anatomy', 'Basics', 'Bursts', 'Interburst-Intervals', 'bursting_time_per_channel', 'bursts_per_channel', 'burst_connections', 'GRAPH_shared_bursts'])"
      ]
     },
     "execution_count": 66,
     "metadata": {},
     "output_type": "execute_result"
    }
   ],
   "source": [
    "MAIN_RECORDING_DICTIONARY.keys()\n"
   ]
  },
  {
   "cell_type": "code",
   "execution_count": null,
   "id": "18daaced",
   "metadata": {},
   "outputs": [],
   "source": [
    "\n",
    "                                      "
   ]
  },
  {
   "cell_type": "code",
   "execution_count": 67,
   "id": "cea8b963",
   "metadata": {},
   "outputs": [],
   "source": [
    "dictionary_for_dataframe = {}\n",
    "\n",
    "df = pd.DataFrame.from_records([dictionary_for_dataframe])\n",
    "\n",
    "for key in network_bursts_dictionary:\n",
    "    dictionary_for_dataframe[\"network_burst_seconds\"] = key\n",
    "    dictionary_for_dataframe[\"timelength_network_burst_s\"] = network_bursts_dictionary[key][\"timelength_network_burst_s\"]\n",
    "    dictionary_for_dataframe[\"bursting_channels\"] = network_bursts_dictionary[key][\"bursting_channels\"]\n",
    "    dictionary_for_dataframe[\"number_of_bursting_channels\"] = network_bursts_dictionary[key][\"number_of_bursting_channels\"]\n",
    "    dictionary_for_dataframe[\"number_burst_starts\"] = network_bursts_dictionary[key][\"number_burst_starts\"]\n",
    "    dictionary_for_dataframe[\"number_burst_ends\"] = network_bursts_dictionary[key][\"number_burst_ends\"]\n",
    "    dictionary_for_dataframe[\"active_channels_total\"] = network_bursts_dictionary[key][\"active_channels\"]\n",
    "    dictionary_for_dataframe[\"number_of_active_channels\"] = network_bursts_dictionary[key][\"number_of_active_channels\"]\n",
    "    dictionary_for_dataframe[\"number_of_spikes\"] = network_bursts_dictionary[key][\"number_of_spikes\"]\n",
    "    dictionary_for_dataframe[\"channels_lfp_up\"] = network_bursts_dictionary[key][\"channels_lfp_up\"]\n",
    "    dictionary_for_dataframe[\"number_channels_with_lfp_up\"] = network_bursts_dictionary[key][\"number_channels_with_lfp_up\"]\n",
    "    dictionary_for_dataframe[\"mean_up_lfp_amplitude\"] = network_bursts_dictionary[key][\"mean_up_lfp_amplitude\"]\n",
    "    dictionary_for_dataframe[\"channels_lfp_down\"] = network_bursts_dictionary[key][\"channels_lfp_down\"]\n",
    "    dictionary_for_dataframe[\"number_channels_with_lfp_down\"] = network_bursts_dictionary[key][\"number_channels_with_lfp_down\"]\n",
    "    dictionary_for_dataframe[\"mean_down_lfp_amplitude\"] = network_bursts_dictionary[key][\"mean_down_lfp_amplitude\"]\n",
    "    dictionary_for_dataframe[\"n_layer1_channels\"] = network_bursts_dictionary[key][\"n_layer1_channels\"]\n",
    "    dictionary_for_dataframe[\"n_layer2-3_channels\"] = network_bursts_dictionary[key][\"n_layer2-3_channels\"]\n",
    "    dictionary_for_dataframe[\"n_layer4_channels\"] = network_bursts_dictionary[key][\"n_layer4_channels\"]\n",
    "    dictionary_for_dataframe[\"n_layer5-6_channels\"] = network_bursts_dictionary[key][\"n_layer5-6_channels\"]\n",
    "    dictionary_for_dataframe[\"n_whitematter_channels\"] = network_bursts_dictionary[key][\"n_whitematter_channels\"]\n",
    "    \n",
    "\n",
    "\n",
    "    # fill up all basic recoding infos\n",
    "    dictionary_for_dataframe[\"filename\"] = filename\n",
    "    dictionary_for_dataframe[\"recording_date\"] = Infos_Recording[\"recordings_date\"]\n",
    "    dictionary_for_dataframe[\"timelength_recording_s\"] = Infos_Recording[\"timelengthrecording_s\"]\n",
    "    dictionary_for_dataframe[\"medium\"] = 'aCSF_baseline'\n",
    "    dictionary_for_dataframe[\"drug\"] = 'norepinephrine'\n",
    "    dictionary_for_dataframe[\"drug_concentration_µM\"] = 30\n",
    "    dictionary_for_dataframe[\"firingrate_whole_Hz\"] = Basics[\"mean_fr_whole_recording\"]\n",
    "    dictionary_for_dataframe[\"active_channels\"] = Basics[\"active_channels\"]\n",
    "\n",
    "    df = df.append(pd.DataFrame.from_records([dictionary_for_dataframe]))"
   ]
  },
  {
   "cell_type": "code",
   "execution_count": 68,
   "id": "ac73f626",
   "metadata": {},
   "outputs": [
    {
     "data": {
      "text/plain": [
       "dict_keys(['network_burst_seconds', 'timelength_network_burst_s', 'bursting_channels', 'number_of_bursting_channels', 'number_burst_starts', 'number_burst_ends', 'active_channels_total', 'number_of_active_channels', 'number_of_spikes', 'channels_lfp_up', 'number_channels_with_lfp_up', 'mean_up_lfp_amplitude', 'channels_lfp_down', 'number_channels_with_lfp_down', 'mean_down_lfp_amplitude', 'n_layer1_channels', 'n_layer2-3_channels', 'n_layer4_channels', 'n_layer5-6_channels', 'n_whitematter_channels', 'filename', 'recording_date', 'timelength_recording_s', 'medium', 'drug', 'drug_concentration_µM', 'firingrate_whole_Hz', 'active_channels'])"
      ]
     },
     "execution_count": 68,
     "metadata": {},
     "output_type": "execute_result"
    }
   ],
   "source": [
    "dictionary_for_dataframe.keys()"
   ]
  },
  {
   "cell_type": "code",
   "execution_count": 69,
   "id": "2c5e1b01",
   "metadata": {},
   "outputs": [],
   "source": [
    "integrated_df = pd.DataFrame(columns=['network_burst_seconds', 'bursting_channels', \n",
    "                                      'number_of_bursting_channels', 'number_burst_starts', \n",
    "                                      'number_burst_ends', 'active_channels', 'number_of_active_channels', \n",
    "                                      'number_of_spikes', 'channels_lfp_up', 'number_channels_with_lfp_up', \n",
    "                                      'mean_up_lfp_amplitude', 'channels_lfp_down', \n",
    "                                      'number_channels_with_lfp_down', 'mean_down_lfp_amplitude', \n",
    "                                      'n_layer1_channels', 'n_layer2-3_channels', 'n_layer4_channels', \n",
    "                                      'n_layer5-6_channels', 'n_whitematter_channels', 'filename', \n",
    "                                      'recording_date', 'timelength_recording_s', 'medium', 'drug', \n",
    "                                      'drug_concentration_µM', 'firingrate_whole_Hz'])"
   ]
  },
  {
   "cell_type": "code",
   "execution_count": 70,
   "id": "6b8e06ad",
   "metadata": {},
   "outputs": [],
   "source": [
    "from IPython.display import display\n",
    "pd.options.display.max_columns = None"
   ]
  },
  {
   "cell_type": "code",
   "execution_count": 71,
   "id": "918ff50d",
   "metadata": {},
   "outputs": [],
   "source": [
    "import plotly.express as px\n"
   ]
  },
  {
   "cell_type": "code",
   "execution_count": 76,
   "id": "25b8d775",
   "metadata": {},
   "outputs": [
    {
     "data": {
      "text/plain": [
       "29"
      ]
     },
     "execution_count": 76,
     "metadata": {},
     "output_type": "execute_result"
    }
   ],
   "source": [
    "len(df)"
   ]
  },
  {
   "cell_type": "code",
   "execution_count": 73,
   "id": "385257c9",
   "metadata": {},
   "outputs": [],
   "source": [
    "df_filtered = df.loc[(df['number_of_active_channels']<250)]"
   ]
  },
  {
   "cell_type": "code",
   "execution_count": 78,
   "id": "7c331c40",
   "metadata": {
    "scrolled": true,
    "tags": []
   },
   "outputs": [
    {
     "data": {
      "text/html": [
       "<div>\n",
       "<style scoped>\n",
       "    .dataframe tbody tr th:only-of-type {\n",
       "        vertical-align: middle;\n",
       "    }\n",
       "\n",
       "    .dataframe tbody tr th {\n",
       "        vertical-align: top;\n",
       "    }\n",
       "\n",
       "    .dataframe thead th {\n",
       "        text-align: right;\n",
       "    }\n",
       "</style>\n",
       "<table border=\"1\" class=\"dataframe\">\n",
       "  <thead>\n",
       "    <tr style=\"text-align: right;\">\n",
       "      <th></th>\n",
       "      <th>network_burst_seconds</th>\n",
       "      <th>timelength_network_burst_s</th>\n",
       "      <th>bursting_channels</th>\n",
       "      <th>number_of_bursting_channels</th>\n",
       "      <th>number_burst_starts</th>\n",
       "      <th>number_burst_ends</th>\n",
       "      <th>active_channels_total</th>\n",
       "      <th>number_of_active_channels</th>\n",
       "      <th>number_of_spikes</th>\n",
       "      <th>channels_lfp_up</th>\n",
       "      <th>number_channels_with_lfp_up</th>\n",
       "      <th>mean_up_lfp_amplitude</th>\n",
       "      <th>channels_lfp_down</th>\n",
       "      <th>number_channels_with_lfp_down</th>\n",
       "      <th>mean_down_lfp_amplitude</th>\n",
       "      <th>n_layer1_channels</th>\n",
       "      <th>n_layer2-3_channels</th>\n",
       "      <th>n_layer4_channels</th>\n",
       "      <th>n_layer5-6_channels</th>\n",
       "      <th>n_whitematter_channels</th>\n",
       "      <th>filename</th>\n",
       "      <th>recording_date</th>\n",
       "      <th>timelength_recording_s</th>\n",
       "      <th>medium</th>\n",
       "      <th>drug</th>\n",
       "      <th>drug_concentration_µM</th>\n",
       "      <th>firingrate_whole_Hz</th>\n",
       "      <th>active_channels</th>\n",
       "    </tr>\n",
       "  </thead>\n",
       "  <tbody>\n",
       "    <tr>\n",
       "      <th>0</th>\n",
       "      <td>(0.7632, 1.7830399568106312)</td>\n",
       "      <td>1.019840</td>\n",
       "      <td>[H3, J2, J3, K2, L1, L2]</td>\n",
       "      <td>6</td>\n",
       "      <td>6</td>\n",
       "      <td>6</td>\n",
       "      <td>[C2, E3, F2, F3, G1, G2, H1, H2, H3, J2, J3, K...</td>\n",
       "      <td>16</td>\n",
       "      <td>49</td>\n",
       "      <td>[]</td>\n",
       "      <td>0</td>\n",
       "      <td>NaN</td>\n",
       "      <td>[]</td>\n",
       "      <td>0</td>\n",
       "      <td>NaN</td>\n",
       "      <td>0</td>\n",
       "      <td>23</td>\n",
       "      <td>11</td>\n",
       "      <td>4</td>\n",
       "      <td>0</td>\n",
       "      <td>2021-05-17T11-28-41__cortex_div11_aCSF_ID046_3...</td>\n",
       "      <td>2021-05-07</td>\n",
       "      <td>120.4</td>\n",
       "      <td>aCSF_baseline</td>\n",
       "      <td>norepinephrine</td>\n",
       "      <td>30</td>\n",
       "      <td>42.467</td>\n",
       "      <td>226</td>\n",
       "    </tr>\n",
       "    <tr>\n",
       "      <th>0</th>\n",
       "      <td>(4.198971504983389, 5.520802905315615)</td>\n",
       "      <td>1.321831</td>\n",
       "      <td>[J2, K2, L2]</td>\n",
       "      <td>3</td>\n",
       "      <td>5</td>\n",
       "      <td>5</td>\n",
       "      <td>[E3, F2, F3, G1, G2, H1, H2, H3, J1, J2, J3, K...</td>\n",
       "      <td>16</td>\n",
       "      <td>65</td>\n",
       "      <td>[]</td>\n",
       "      <td>0</td>\n",
       "      <td>NaN</td>\n",
       "      <td>[]</td>\n",
       "      <td>0</td>\n",
       "      <td>NaN</td>\n",
       "      <td>0</td>\n",
       "      <td>39</td>\n",
       "      <td>10</td>\n",
       "      <td>2</td>\n",
       "      <td>0</td>\n",
       "      <td>2021-05-17T11-28-41__cortex_div11_aCSF_ID046_3...</td>\n",
       "      <td>2021-05-07</td>\n",
       "      <td>120.4</td>\n",
       "      <td>aCSF_baseline</td>\n",
       "      <td>norepinephrine</td>\n",
       "      <td>30</td>\n",
       "      <td>42.467</td>\n",
       "      <td>226</td>\n",
       "    </tr>\n",
       "    <tr>\n",
       "      <th>0</th>\n",
       "      <td>(7.510976024916944, 9.134798868770764)</td>\n",
       "      <td>1.623823</td>\n",
       "      <td>[H2, J2, K2, L2]</td>\n",
       "      <td>4</td>\n",
       "      <td>7</td>\n",
       "      <td>7</td>\n",
       "      <td>[F2, G2, H1, H2, H3, J2, K2, K3, L1, L2, M1]</td>\n",
       "      <td>11</td>\n",
       "      <td>51</td>\n",
       "      <td>[]</td>\n",
       "      <td>0</td>\n",
       "      <td>NaN</td>\n",
       "      <td>[]</td>\n",
       "      <td>0</td>\n",
       "      <td>NaN</td>\n",
       "      <td>0</td>\n",
       "      <td>36</td>\n",
       "      <td>7</td>\n",
       "      <td>0</td>\n",
       "      <td>0</td>\n",
       "      <td>2021-05-17T11-28-41__cortex_div11_aCSF_ID046_3...</td>\n",
       "      <td>2021-05-07</td>\n",
       "      <td>120.4</td>\n",
       "      <td>aCSF_baseline</td>\n",
       "      <td>norepinephrine</td>\n",
       "      <td>30</td>\n",
       "      <td>42.467</td>\n",
       "      <td>226</td>\n",
       "    </tr>\n",
       "    <tr>\n",
       "      <th>0</th>\n",
       "      <td>(11.694300119601328, 13.664670521594685)</td>\n",
       "      <td>1.970370</td>\n",
       "      <td>[H3, K2, L1, L2]</td>\n",
       "      <td>4</td>\n",
       "      <td>7</td>\n",
       "      <td>7</td>\n",
       "      <td>[F2, F3, G2, G3, H1, H2, H3, J1, J2, K2, K3, K...</td>\n",
       "      <td>16</td>\n",
       "      <td>80</td>\n",
       "      <td>[]</td>\n",
       "      <td>0</td>\n",
       "      <td>NaN</td>\n",
       "      <td>[]</td>\n",
       "      <td>0</td>\n",
       "      <td>NaN</td>\n",
       "      <td>0</td>\n",
       "      <td>50</td>\n",
       "      <td>20</td>\n",
       "      <td>2</td>\n",
       "      <td>0</td>\n",
       "      <td>2021-05-17T11-28-41__cortex_div11_aCSF_ID046_3...</td>\n",
       "      <td>2021-05-07</td>\n",
       "      <td>120.4</td>\n",
       "      <td>aCSF_baseline</td>\n",
       "      <td>norepinephrine</td>\n",
       "      <td>30</td>\n",
       "      <td>42.467</td>\n",
       "      <td>226</td>\n",
       "    </tr>\n",
       "    <tr>\n",
       "      <th>0</th>\n",
       "      <td>(16.12020750498339, 18.02621907475083)</td>\n",
       "      <td>1.906012</td>\n",
       "      <td>[H2, H3, J2, K2, L2]</td>\n",
       "      <td>5</td>\n",
       "      <td>5</td>\n",
       "      <td>5</td>\n",
       "      <td>[F2, F3, G13, G2, H1, H2, H3, J2, K2, K3, L1, L2]</td>\n",
       "      <td>12</td>\n",
       "      <td>46</td>\n",
       "      <td>[]</td>\n",
       "      <td>0</td>\n",
       "      <td>NaN</td>\n",
       "      <td>[]</td>\n",
       "      <td>0</td>\n",
       "      <td>NaN</td>\n",
       "      <td>0</td>\n",
       "      <td>30</td>\n",
       "      <td>9</td>\n",
       "      <td>2</td>\n",
       "      <td>0</td>\n",
       "      <td>2021-05-17T11-28-41__cortex_div11_aCSF_ID046_3...</td>\n",
       "      <td>2021-05-07</td>\n",
       "      <td>120.4</td>\n",
       "      <td>aCSF_baseline</td>\n",
       "      <td>norepinephrine</td>\n",
       "      <td>30</td>\n",
       "      <td>42.467</td>\n",
       "      <td>226</td>\n",
       "    </tr>\n",
       "    <tr>\n",
       "      <th>0</th>\n",
       "      <td>(19.486669498338873, 21.437237182724253)</td>\n",
       "      <td>1.950568</td>\n",
       "      <td>[H2, H3, K2, L1, L2]</td>\n",
       "      <td>5</td>\n",
       "      <td>5</td>\n",
       "      <td>5</td>\n",
       "      <td>[F2, G2, H1, H2, H3, J1, J2, J3, K2, K3, K4, L...</td>\n",
       "      <td>14</td>\n",
       "      <td>66</td>\n",
       "      <td>[]</td>\n",
       "      <td>0</td>\n",
       "      <td>NaN</td>\n",
       "      <td>[]</td>\n",
       "      <td>0</td>\n",
       "      <td>NaN</td>\n",
       "      <td>0</td>\n",
       "      <td>44</td>\n",
       "      <td>13</td>\n",
       "      <td>0</td>\n",
       "      <td>0</td>\n",
       "      <td>2021-05-17T11-28-41__cortex_div11_aCSF_ID046_3...</td>\n",
       "      <td>2021-05-07</td>\n",
       "      <td>120.4</td>\n",
       "      <td>aCSF_baseline</td>\n",
       "      <td>norepinephrine</td>\n",
       "      <td>30</td>\n",
       "      <td>42.467</td>\n",
       "      <td>226</td>\n",
       "    </tr>\n",
       "    <tr>\n",
       "      <th>0</th>\n",
       "      <td>(23.249185843853823, 25.160148093023256)</td>\n",
       "      <td>1.910962</td>\n",
       "      <td>[H2, H3, J2, K2, L1, L2]</td>\n",
       "      <td>6</td>\n",
       "      <td>6</td>\n",
       "      <td>6</td>\n",
       "      <td>[C2, F2, G2, G3, H2, H3, J2, J3, K1, K2, K3, L...</td>\n",
       "      <td>15</td>\n",
       "      <td>48</td>\n",
       "      <td>[H4]</td>\n",
       "      <td>1</td>\n",
       "      <td>201.631734</td>\n",
       "      <td>[H3, J3]</td>\n",
       "      <td>2</td>\n",
       "      <td>-38.760224</td>\n",
       "      <td>0</td>\n",
       "      <td>26</td>\n",
       "      <td>10</td>\n",
       "      <td>5</td>\n",
       "      <td>0</td>\n",
       "      <td>2021-05-17T11-28-41__cortex_div11_aCSF_ID046_3...</td>\n",
       "      <td>2021-05-07</td>\n",
       "      <td>120.4</td>\n",
       "      <td>aCSF_baseline</td>\n",
       "      <td>norepinephrine</td>\n",
       "      <td>30</td>\n",
       "      <td>42.467</td>\n",
       "      <td>226</td>\n",
       "    </tr>\n",
       "    <tr>\n",
       "      <th>0</th>\n",
       "      <td>(26.87308316611296, 28.784045415282392)</td>\n",
       "      <td>1.910962</td>\n",
       "      <td>[H2, J2, K2, L2]</td>\n",
       "      <td>4</td>\n",
       "      <td>6</td>\n",
       "      <td>6</td>\n",
       "      <td>[D16, E16, F2, F3, F4, G2, H2, H3, J2, J3, K2,...</td>\n",
       "      <td>16</td>\n",
       "      <td>73</td>\n",
       "      <td>[]</td>\n",
       "      <td>0</td>\n",
       "      <td>NaN</td>\n",
       "      <td>[]</td>\n",
       "      <td>0</td>\n",
       "      <td>NaN</td>\n",
       "      <td>0</td>\n",
       "      <td>47</td>\n",
       "      <td>7</td>\n",
       "      <td>2</td>\n",
       "      <td>3</td>\n",
       "      <td>2021-05-17T11-28-41__cortex_div11_aCSF_ID046_3...</td>\n",
       "      <td>2021-05-07</td>\n",
       "      <td>120.4</td>\n",
       "      <td>aCSF_baseline</td>\n",
       "      <td>norepinephrine</td>\n",
       "      <td>30</td>\n",
       "      <td>42.467</td>\n",
       "      <td>226</td>\n",
       "    </tr>\n",
       "    <tr>\n",
       "      <th>0</th>\n",
       "      <td>(31.393053460132894, 33.28916367109635)</td>\n",
       "      <td>1.896110</td>\n",
       "      <td>[J2, K2, L1, L2]</td>\n",
       "      <td>4</td>\n",
       "      <td>7</td>\n",
       "      <td>7</td>\n",
       "      <td>[B9, D14, D16, F13, F2, F3, G1, G2, G3, H2, H3...</td>\n",
       "      <td>19</td>\n",
       "      <td>73</td>\n",
       "      <td>[]</td>\n",
       "      <td>0</td>\n",
       "      <td>NaN</td>\n",
       "      <td>[]</td>\n",
       "      <td>0</td>\n",
       "      <td>NaN</td>\n",
       "      <td>0</td>\n",
       "      <td>45</td>\n",
       "      <td>12</td>\n",
       "      <td>3</td>\n",
       "      <td>3</td>\n",
       "      <td>2021-05-17T11-28-41__cortex_div11_aCSF_ID046_3...</td>\n",
       "      <td>2021-05-07</td>\n",
       "      <td>120.4</td>\n",
       "      <td>aCSF_baseline</td>\n",
       "      <td>norepinephrine</td>\n",
       "      <td>30</td>\n",
       "      <td>42.467</td>\n",
       "      <td>226</td>\n",
       "    </tr>\n",
       "    <tr>\n",
       "      <th>0</th>\n",
       "      <td>(36.24966995348837, 37.63487377408637)</td>\n",
       "      <td>1.385204</td>\n",
       "      <td>[F2, H2, J2, K2, L1, L2]</td>\n",
       "      <td>6</td>\n",
       "      <td>6</td>\n",
       "      <td>6</td>\n",
       "      <td>[F2, F3, G2, H1, H2, H3, J2, J3, K2, L1, L2, L...</td>\n",
       "      <td>14</td>\n",
       "      <td>43</td>\n",
       "      <td>[H4]</td>\n",
       "      <td>1</td>\n",
       "      <td>194.176765</td>\n",
       "      <td>[H4, J3]</td>\n",
       "      <td>2</td>\n",
       "      <td>-164.741231</td>\n",
       "      <td>0</td>\n",
       "      <td>27</td>\n",
       "      <td>8</td>\n",
       "      <td>1</td>\n",
       "      <td>0</td>\n",
       "      <td>2021-05-17T11-28-41__cortex_div11_aCSF_ID046_3...</td>\n",
       "      <td>2021-05-07</td>\n",
       "      <td>120.4</td>\n",
       "      <td>aCSF_baseline</td>\n",
       "      <td>norepinephrine</td>\n",
       "      <td>30</td>\n",
       "      <td>42.467</td>\n",
       "      <td>226</td>\n",
       "    </tr>\n",
       "    <tr>\n",
       "      <th>0</th>\n",
       "      <td>(37.734873774086374, 39.591378549833884)</td>\n",
       "      <td>1.856505</td>\n",
       "      <td>[H2, H3, K2, L2]</td>\n",
       "      <td>4</td>\n",
       "      <td>6</td>\n",
       "      <td>6</td>\n",
       "      <td>[E3, F2, F3, H2, H3, H4, J1, J2, J3, K2, K3, L...</td>\n",
       "      <td>14</td>\n",
       "      <td>48</td>\n",
       "      <td>[]</td>\n",
       "      <td>0</td>\n",
       "      <td>NaN</td>\n",
       "      <td>[H4]</td>\n",
       "      <td>1</td>\n",
       "      <td>-195.560944</td>\n",
       "      <td>0</td>\n",
       "      <td>29</td>\n",
       "      <td>8</td>\n",
       "      <td>3</td>\n",
       "      <td>0</td>\n",
       "      <td>2021-05-17T11-28-41__cortex_div11_aCSF_ID046_3...</td>\n",
       "      <td>2021-05-07</td>\n",
       "      <td>120.4</td>\n",
       "      <td>aCSF_baseline</td>\n",
       "      <td>norepinephrine</td>\n",
       "      <td>30</td>\n",
       "      <td>42.467</td>\n",
       "      <td>226</td>\n",
       "    </tr>\n",
       "    <tr>\n",
       "      <th>0</th>\n",
       "      <td>(42.190485235880395, 44.18560903488372)</td>\n",
       "      <td>1.995124</td>\n",
       "      <td>[J2, K2, L2]</td>\n",
       "      <td>3</td>\n",
       "      <td>7</td>\n",
       "      <td>7</td>\n",
       "      <td>[C2, F2, F3, G1, G2, H1, H2, H3, J2, J3, K2, K...</td>\n",
       "      <td>17</td>\n",
       "      <td>89</td>\n",
       "      <td>[H4]</td>\n",
       "      <td>1</td>\n",
       "      <td>196.262981</td>\n",
       "      <td>[]</td>\n",
       "      <td>0</td>\n",
       "      <td>NaN</td>\n",
       "      <td>0</td>\n",
       "      <td>53</td>\n",
       "      <td>14</td>\n",
       "      <td>5</td>\n",
       "      <td>0</td>\n",
       "      <td>2021-05-17T11-28-41__cortex_div11_aCSF_ID046_3...</td>\n",
       "      <td>2021-05-07</td>\n",
       "      <td>120.4</td>\n",
       "      <td>aCSF_baseline</td>\n",
       "      <td>norepinephrine</td>\n",
       "      <td>30</td>\n",
       "      <td>42.467</td>\n",
       "      <td>226</td>\n",
       "    </tr>\n",
       "    <tr>\n",
       "      <th>0</th>\n",
       "      <td>(46.824321156146176, 48.75013544352159)</td>\n",
       "      <td>1.925814</td>\n",
       "      <td>[J2, J3, K2, L2]</td>\n",
       "      <td>4</td>\n",
       "      <td>4</td>\n",
       "      <td>4</td>\n",
       "      <td>[F2, F3, G2, G3, H1, H13, H2, H3, J2, J3, K1, ...</td>\n",
       "      <td>16</td>\n",
       "      <td>63</td>\n",
       "      <td>[]</td>\n",
       "      <td>0</td>\n",
       "      <td>NaN</td>\n",
       "      <td>[]</td>\n",
       "      <td>0</td>\n",
       "      <td>NaN</td>\n",
       "      <td>0</td>\n",
       "      <td>35</td>\n",
       "      <td>12</td>\n",
       "      <td>3</td>\n",
       "      <td>0</td>\n",
       "      <td>2021-05-17T11-28-41__cortex_div11_aCSF_ID046_3...</td>\n",
       "      <td>2021-05-07</td>\n",
       "      <td>120.4</td>\n",
       "      <td>aCSF_baseline</td>\n",
       "      <td>norepinephrine</td>\n",
       "      <td>30</td>\n",
       "      <td>42.467</td>\n",
       "      <td>226</td>\n",
       "    </tr>\n",
       "    <tr>\n",
       "      <th>0</th>\n",
       "      <td>(51.03239864784053, 53.00276904983389)</td>\n",
       "      <td>1.970370</td>\n",
       "      <td>[H2, H3, J2, K2, K3, L1, L2]</td>\n",
       "      <td>7</td>\n",
       "      <td>9</td>\n",
       "      <td>9</td>\n",
       "      <td>[F2, F3, G1, G2, H1, H2, H3, J2, J3, K1, K2, K...</td>\n",
       "      <td>16</td>\n",
       "      <td>77</td>\n",
       "      <td>[]</td>\n",
       "      <td>0</td>\n",
       "      <td>NaN</td>\n",
       "      <td>[H4, J3]</td>\n",
       "      <td>2</td>\n",
       "      <td>-138.750141</td>\n",
       "      <td>0</td>\n",
       "      <td>51</td>\n",
       "      <td>13</td>\n",
       "      <td>1</td>\n",
       "      <td>0</td>\n",
       "      <td>2021-05-17T11-28-41__cortex_div11_aCSF_ID046_3...</td>\n",
       "      <td>2021-05-07</td>\n",
       "      <td>120.4</td>\n",
       "      <td>aCSF_baseline</td>\n",
       "      <td>norepinephrine</td>\n",
       "      <td>30</td>\n",
       "      <td>42.467</td>\n",
       "      <td>226</td>\n",
       "    </tr>\n",
       "    <tr>\n",
       "      <th>0</th>\n",
       "      <td>(55.418700598006644, 57.05737548006645)</td>\n",
       "      <td>1.638675</td>\n",
       "      <td>[H2, H3, J2, K2, L2]</td>\n",
       "      <td>5</td>\n",
       "      <td>7</td>\n",
       "      <td>7</td>\n",
       "      <td>[D16, F2, G2, H1, H2, H3, J2, J3, K1, K2, K3, ...</td>\n",
       "      <td>15</td>\n",
       "      <td>65</td>\n",
       "      <td>[]</td>\n",
       "      <td>0</td>\n",
       "      <td>NaN</td>\n",
       "      <td>[J3]</td>\n",
       "      <td>1</td>\n",
       "      <td>-42.663307</td>\n",
       "      <td>0</td>\n",
       "      <td>42</td>\n",
       "      <td>12</td>\n",
       "      <td>0</td>\n",
       "      <td>1</td>\n",
       "      <td>2021-05-17T11-28-41__cortex_div11_aCSF_ID046_3...</td>\n",
       "      <td>2021-05-07</td>\n",
       "      <td>120.4</td>\n",
       "      <td>aCSF_baseline</td>\n",
       "      <td>norepinephrine</td>\n",
       "      <td>30</td>\n",
       "      <td>42.467</td>\n",
       "      <td>226</td>\n",
       "    </tr>\n",
       "    <tr>\n",
       "      <th>0</th>\n",
       "      <td>(58.81981734717608, 60.71592755813953)</td>\n",
       "      <td>1.896110</td>\n",
       "      <td>[H2, J2, K2, L1, L2]</td>\n",
       "      <td>5</td>\n",
       "      <td>5</td>\n",
       "      <td>5</td>\n",
       "      <td>[F2, F3, G1, G2, H1, H2, H3, J2, K2, K3, K4, L...</td>\n",
       "      <td>14</td>\n",
       "      <td>47</td>\n",
       "      <td>[H4]</td>\n",
       "      <td>1</td>\n",
       "      <td>187.726303</td>\n",
       "      <td>[]</td>\n",
       "      <td>0</td>\n",
       "      <td>NaN</td>\n",
       "      <td>0</td>\n",
       "      <td>30</td>\n",
       "      <td>8</td>\n",
       "      <td>1</td>\n",
       "      <td>0</td>\n",
       "      <td>2021-05-17T11-28-41__cortex_div11_aCSF_ID046_3...</td>\n",
       "      <td>2021-05-07</td>\n",
       "      <td>120.4</td>\n",
       "      <td>aCSF_baseline</td>\n",
       "      <td>norepinephrine</td>\n",
       "      <td>30</td>\n",
       "      <td>42.467</td>\n",
       "      <td>226</td>\n",
       "    </tr>\n",
       "    <tr>\n",
       "      <th>0</th>\n",
       "      <td>(68.08748918770765, 69.82022697840532)</td>\n",
       "      <td>1.732738</td>\n",
       "      <td>[H3, J2, K2, L2]</td>\n",
       "      <td>4</td>\n",
       "      <td>6</td>\n",
       "      <td>6</td>\n",
       "      <td>[C2, F2, G2, H2, H3, J16, J2, K2, L1, L2, M1, M2]</td>\n",
       "      <td>12</td>\n",
       "      <td>60</td>\n",
       "      <td>[G15, G16, H4]</td>\n",
       "      <td>3</td>\n",
       "      <td>88.641458</td>\n",
       "      <td>[H4, J3]</td>\n",
       "      <td>2</td>\n",
       "      <td>-141.981075</td>\n",
       "      <td>0</td>\n",
       "      <td>34</td>\n",
       "      <td>13</td>\n",
       "      <td>2</td>\n",
       "      <td>0</td>\n",
       "      <td>2021-05-17T11-28-41__cortex_div11_aCSF_ID046_3...</td>\n",
       "      <td>2021-05-07</td>\n",
       "      <td>120.4</td>\n",
       "      <td>aCSF_baseline</td>\n",
       "      <td>norepinephrine</td>\n",
       "      <td>30</td>\n",
       "      <td>42.467</td>\n",
       "      <td>226</td>\n",
       "    </tr>\n",
       "    <tr>\n",
       "      <th>0</th>\n",
       "      <td>(72.03813135049833, 73.98374835548172)</td>\n",
       "      <td>1.945617</td>\n",
       "      <td>[H2, H3, J2, K2, L1, L2]</td>\n",
       "      <td>6</td>\n",
       "      <td>8</td>\n",
       "      <td>8</td>\n",
       "      <td>[F2, G1, G2, H2, H3, J2, J3, K1, K2, K3, K4, L...</td>\n",
       "      <td>15</td>\n",
       "      <td>71</td>\n",
       "      <td>[]</td>\n",
       "      <td>0</td>\n",
       "      <td>NaN</td>\n",
       "      <td>[]</td>\n",
       "      <td>0</td>\n",
       "      <td>NaN</td>\n",
       "      <td>0</td>\n",
       "      <td>51</td>\n",
       "      <td>9</td>\n",
       "      <td>0</td>\n",
       "      <td>0</td>\n",
       "      <td>2021-05-17T11-28-41__cortex_div11_aCSF_ID046_3...</td>\n",
       "      <td>2021-05-07</td>\n",
       "      <td>120.4</td>\n",
       "      <td>aCSF_baseline</td>\n",
       "      <td>norepinephrine</td>\n",
       "      <td>30</td>\n",
       "      <td>42.467</td>\n",
       "      <td>226</td>\n",
       "    </tr>\n",
       "    <tr>\n",
       "      <th>0</th>\n",
       "      <td>(75.47390285548173, 78.27103671760797)</td>\n",
       "      <td>2.797134</td>\n",
       "      <td>[H2, H3, J2, K2, L2]</td>\n",
       "      <td>5</td>\n",
       "      <td>5</td>\n",
       "      <td>5</td>\n",
       "      <td>[A10, A11, A12, A14, A2, A3, A4, A5, A7, A8, A...</td>\n",
       "      <td>126</td>\n",
       "      <td>187</td>\n",
       "      <td>[G15]</td>\n",
       "      <td>1</td>\n",
       "      <td>56.419322</td>\n",
       "      <td>[H3, J3]</td>\n",
       "      <td>2</td>\n",
       "      <td>-44.715937</td>\n",
       "      <td>0</td>\n",
       "      <td>46</td>\n",
       "      <td>15</td>\n",
       "      <td>81</td>\n",
       "      <td>30</td>\n",
       "      <td>2021-05-17T11-28-41__cortex_div11_aCSF_ID046_3...</td>\n",
       "      <td>2021-05-07</td>\n",
       "      <td>120.4</td>\n",
       "      <td>aCSF_baseline</td>\n",
       "      <td>norepinephrine</td>\n",
       "      <td>30</td>\n",
       "      <td>42.467</td>\n",
       "      <td>226</td>\n",
       "    </tr>\n",
       "    <tr>\n",
       "      <th>0</th>\n",
       "      <td>(80.8651927242525, 82.4246567358804)</td>\n",
       "      <td>1.559464</td>\n",
       "      <td>[H2, J2, K2, L2]</td>\n",
       "      <td>4</td>\n",
       "      <td>6</td>\n",
       "      <td>6</td>\n",
       "      <td>[B9, C2, D16, E8, F2, F3, G2, H2, H3, J1, J2, ...</td>\n",
       "      <td>20</td>\n",
       "      <td>63</td>\n",
       "      <td>[]</td>\n",
       "      <td>0</td>\n",
       "      <td>NaN</td>\n",
       "      <td>[H3, J3]</td>\n",
       "      <td>2</td>\n",
       "      <td>-43.635868</td>\n",
       "      <td>0</td>\n",
       "      <td>38</td>\n",
       "      <td>10</td>\n",
       "      <td>5</td>\n",
       "      <td>1</td>\n",
       "      <td>2021-05-17T11-28-41__cortex_div11_aCSF_ID046_3...</td>\n",
       "      <td>2021-05-07</td>\n",
       "      <td>120.4</td>\n",
       "      <td>aCSF_baseline</td>\n",
       "      <td>norepinephrine</td>\n",
       "      <td>30</td>\n",
       "      <td>42.467</td>\n",
       "      <td>226</td>\n",
       "    </tr>\n",
       "    <tr>\n",
       "      <th>0</th>\n",
       "      <td>(88.6823155, 91.49430140033223)</td>\n",
       "      <td>2.811986</td>\n",
       "      <td>[E15, F14, F15, G13, G14, H13, H14, H15, H3, J...</td>\n",
       "      <td>37</td>\n",
       "      <td>43</td>\n",
       "      <td>43</td>\n",
       "      <td>[C2, D7, E15, F13, F14, F15, F2, F3, G1, G13, ...</td>\n",
       "      <td>56</td>\n",
       "      <td>442</td>\n",
       "      <td>[E15, F15, F16, G13, G14, H13, H14, H15, H16, ...</td>\n",
       "      <td>61</td>\n",
       "      <td>132.126580</td>\n",
       "      <td>[E15, F13, F14, F15, F16, G12, G13, G14, H11, ...</td>\n",
       "      <td>70</td>\n",
       "      <td>-186.381509</td>\n",
       "      <td>0</td>\n",
       "      <td>53</td>\n",
       "      <td>17</td>\n",
       "      <td>287</td>\n",
       "      <td>44</td>\n",
       "      <td>2021-05-17T11-28-41__cortex_div11_aCSF_ID046_3...</td>\n",
       "      <td>2021-05-07</td>\n",
       "      <td>120.4</td>\n",
       "      <td>aCSF_baseline</td>\n",
       "      <td>norepinephrine</td>\n",
       "      <td>30</td>\n",
       "      <td>42.467</td>\n",
       "      <td>226</td>\n",
       "    </tr>\n",
       "    <tr>\n",
       "      <th>0</th>\n",
       "      <td>(94.13796420099668, 96.10338392358804)</td>\n",
       "      <td>1.965420</td>\n",
       "      <td>[H2, H3, J2, K2, L2, P13]</td>\n",
       "      <td>6</td>\n",
       "      <td>9</td>\n",
       "      <td>9</td>\n",
       "      <td>[F2, F3, G1, G2, G4, H1, H2, H3, J1, J2, J3, K...</td>\n",
       "      <td>20</td>\n",
       "      <td>76</td>\n",
       "      <td>[]</td>\n",
       "      <td>0</td>\n",
       "      <td>NaN</td>\n",
       "      <td>[H3]</td>\n",
       "      <td>1</td>\n",
       "      <td>-45.668063</td>\n",
       "      <td>0</td>\n",
       "      <td>40</td>\n",
       "      <td>15</td>\n",
       "      <td>8</td>\n",
       "      <td>0</td>\n",
       "      <td>2021-05-17T11-28-41__cortex_div11_aCSF_ID046_3...</td>\n",
       "      <td>2021-05-07</td>\n",
       "      <td>120.4</td>\n",
       "      <td>aCSF_baseline</td>\n",
       "      <td>norepinephrine</td>\n",
       "      <td>30</td>\n",
       "      <td>42.467</td>\n",
       "      <td>226</td>\n",
       "    </tr>\n",
       "    <tr>\n",
       "      <th>0</th>\n",
       "      <td>(98.40544984551495, 100.84613479069768)</td>\n",
       "      <td>2.440685</td>\n",
       "      <td>[H2, J2, K2, K3, L2]</td>\n",
       "      <td>5</td>\n",
       "      <td>11</td>\n",
       "      <td>11</td>\n",
       "      <td>[C2, F2, F3, G2, H1, H2, H3, J1, J2, J3, K2, K...</td>\n",
       "      <td>17</td>\n",
       "      <td>101</td>\n",
       "      <td>[]</td>\n",
       "      <td>0</td>\n",
       "      <td>NaN</td>\n",
       "      <td>[]</td>\n",
       "      <td>0</td>\n",
       "      <td>NaN</td>\n",
       "      <td>0</td>\n",
       "      <td>63</td>\n",
       "      <td>18</td>\n",
       "      <td>3</td>\n",
       "      <td>0</td>\n",
       "      <td>2021-05-17T11-28-41__cortex_div11_aCSF_ID046_3...</td>\n",
       "      <td>2021-05-07</td>\n",
       "      <td>120.4</td>\n",
       "      <td>aCSF_baseline</td>\n",
       "      <td>norepinephrine</td>\n",
       "      <td>30</td>\n",
       "      <td>42.467</td>\n",
       "      <td>226</td>\n",
       "    </tr>\n",
       "    <tr>\n",
       "      <th>0</th>\n",
       "      <td>(103.85614786710964, 105.50373769601329)</td>\n",
       "      <td>1.647590</td>\n",
       "      <td>[H2, H3, J2, K2, L2]</td>\n",
       "      <td>5</td>\n",
       "      <td>6</td>\n",
       "      <td>6</td>\n",
       "      <td>[D7, E3, F2, G1, G2, H1, H2, H3, J2, J3, K1, K...</td>\n",
       "      <td>18</td>\n",
       "      <td>67</td>\n",
       "      <td>[]</td>\n",
       "      <td>0</td>\n",
       "      <td>NaN</td>\n",
       "      <td>[]</td>\n",
       "      <td>0</td>\n",
       "      <td>NaN</td>\n",
       "      <td>0</td>\n",
       "      <td>42</td>\n",
       "      <td>13</td>\n",
       "      <td>3</td>\n",
       "      <td>0</td>\n",
       "      <td>2021-05-17T11-28-41__cortex_div11_aCSF_ID046_3...</td>\n",
       "      <td>2021-05-07</td>\n",
       "      <td>120.4</td>\n",
       "      <td>aCSF_baseline</td>\n",
       "      <td>norepinephrine</td>\n",
       "      <td>30</td>\n",
       "      <td>42.467</td>\n",
       "      <td>226</td>\n",
       "    </tr>\n",
       "    <tr>\n",
       "      <th>0</th>\n",
       "      <td>(105.60373769601328, 107.6780723654485)</td>\n",
       "      <td>2.074335</td>\n",
       "      <td>[E15, F15, G13, G14, H13, H14, H15, H3, J12, J...</td>\n",
       "      <td>38</td>\n",
       "      <td>39</td>\n",
       "      <td>39</td>\n",
       "      <td>[E15, F14, F15, F2, G1, G13, G14, G2, H10, H13...</td>\n",
       "      <td>56</td>\n",
       "      <td>505</td>\n",
       "      <td>[E15, F13, F14, F15, G12, G13, G14, H12, H13, ...</td>\n",
       "      <td>64</td>\n",
       "      <td>108.468876</td>\n",
       "      <td>[E15, F12, F13, F14, F15, F16, G11, G12, G13, ...</td>\n",
       "      <td>73</td>\n",
       "      <td>-170.762145</td>\n",
       "      <td>0</td>\n",
       "      <td>30</td>\n",
       "      <td>7</td>\n",
       "      <td>377</td>\n",
       "      <td>33</td>\n",
       "      <td>2021-05-17T11-28-41__cortex_div11_aCSF_ID046_3...</td>\n",
       "      <td>2021-05-07</td>\n",
       "      <td>120.4</td>\n",
       "      <td>aCSF_baseline</td>\n",
       "      <td>norepinephrine</td>\n",
       "      <td>30</td>\n",
       "      <td>42.467</td>\n",
       "      <td>226</td>\n",
       "    </tr>\n",
       "    <tr>\n",
       "      <th>0</th>\n",
       "      <td>(110.08905323421926, 112.04952227740864)</td>\n",
       "      <td>1.960469</td>\n",
       "      <td>[F2, H2, J2, K2, L2]</td>\n",
       "      <td>5</td>\n",
       "      <td>6</td>\n",
       "      <td>6</td>\n",
       "      <td>[C2, E3, F2, F3, G2, G3, H1, H2, H3, J2, J3, K...</td>\n",
       "      <td>17</td>\n",
       "      <td>75</td>\n",
       "      <td>[]</td>\n",
       "      <td>0</td>\n",
       "      <td>NaN</td>\n",
       "      <td>[J3]</td>\n",
       "      <td>1</td>\n",
       "      <td>-42.405115</td>\n",
       "      <td>0</td>\n",
       "      <td>43</td>\n",
       "      <td>16</td>\n",
       "      <td>4</td>\n",
       "      <td>0</td>\n",
       "      <td>2021-05-17T11-28-41__cortex_div11_aCSF_ID046_3...</td>\n",
       "      <td>2021-05-07</td>\n",
       "      <td>120.4</td>\n",
       "      <td>aCSF_baseline</td>\n",
       "      <td>norepinephrine</td>\n",
       "      <td>30</td>\n",
       "      <td>42.467</td>\n",
       "      <td>226</td>\n",
       "    </tr>\n",
       "    <tr>\n",
       "      <th>0</th>\n",
       "      <td>(114.41099635215947, 116.35166267774086)</td>\n",
       "      <td>1.940666</td>\n",
       "      <td>[H2, H3, J2, K2, L2]</td>\n",
       "      <td>5</td>\n",
       "      <td>7</td>\n",
       "      <td>7</td>\n",
       "      <td>[F2, F3, G2, G3, H1, H2, H3, H4, J2, J3, K2, K...</td>\n",
       "      <td>16</td>\n",
       "      <td>65</td>\n",
       "      <td>[B12]</td>\n",
       "      <td>1</td>\n",
       "      <td>20.161626</td>\n",
       "      <td>[H4, J3]</td>\n",
       "      <td>2</td>\n",
       "      <td>-105.993436</td>\n",
       "      <td>0</td>\n",
       "      <td>40</td>\n",
       "      <td>12</td>\n",
       "      <td>3</td>\n",
       "      <td>0</td>\n",
       "      <td>2021-05-17T11-28-41__cortex_div11_aCSF_ID046_3...</td>\n",
       "      <td>2021-05-07</td>\n",
       "      <td>120.4</td>\n",
       "      <td>aCSF_baseline</td>\n",
       "      <td>norepinephrine</td>\n",
       "      <td>30</td>\n",
       "      <td>42.467</td>\n",
       "      <td>226</td>\n",
       "    </tr>\n",
       "  </tbody>\n",
       "</table>\n",
       "</div>"
      ],
      "text/plain": [
       "                      network_burst_seconds  timelength_network_burst_s  \\\n",
       "0              (0.7632, 1.7830399568106312)                    1.019840   \n",
       "0    (4.198971504983389, 5.520802905315615)                    1.321831   \n",
       "0    (7.510976024916944, 9.134798868770764)                    1.623823   \n",
       "0  (11.694300119601328, 13.664670521594685)                    1.970370   \n",
       "0    (16.12020750498339, 18.02621907475083)                    1.906012   \n",
       "0  (19.486669498338873, 21.437237182724253)                    1.950568   \n",
       "0  (23.249185843853823, 25.160148093023256)                    1.910962   \n",
       "0   (26.87308316611296, 28.784045415282392)                    1.910962   \n",
       "0   (31.393053460132894, 33.28916367109635)                    1.896110   \n",
       "0    (36.24966995348837, 37.63487377408637)                    1.385204   \n",
       "0  (37.734873774086374, 39.591378549833884)                    1.856505   \n",
       "0   (42.190485235880395, 44.18560903488372)                    1.995124   \n",
       "0   (46.824321156146176, 48.75013544352159)                    1.925814   \n",
       "0    (51.03239864784053, 53.00276904983389)                    1.970370   \n",
       "0   (55.418700598006644, 57.05737548006645)                    1.638675   \n",
       "0    (58.81981734717608, 60.71592755813953)                    1.896110   \n",
       "0    (68.08748918770765, 69.82022697840532)                    1.732738   \n",
       "0    (72.03813135049833, 73.98374835548172)                    1.945617   \n",
       "0    (75.47390285548173, 78.27103671760797)                    2.797134   \n",
       "0      (80.8651927242525, 82.4246567358804)                    1.559464   \n",
       "0           (88.6823155, 91.49430140033223)                    2.811986   \n",
       "0    (94.13796420099668, 96.10338392358804)                    1.965420   \n",
       "0   (98.40544984551495, 100.84613479069768)                    2.440685   \n",
       "0  (103.85614786710964, 105.50373769601329)                    1.647590   \n",
       "0   (105.60373769601328, 107.6780723654485)                    2.074335   \n",
       "0  (110.08905323421926, 112.04952227740864)                    1.960469   \n",
       "0  (114.41099635215947, 116.35166267774086)                    1.940666   \n",
       "\n",
       "                                   bursting_channels  \\\n",
       "0                           [H3, J2, J3, K2, L1, L2]   \n",
       "0                                       [J2, K2, L2]   \n",
       "0                                   [H2, J2, K2, L2]   \n",
       "0                                   [H3, K2, L1, L2]   \n",
       "0                               [H2, H3, J2, K2, L2]   \n",
       "0                               [H2, H3, K2, L1, L2]   \n",
       "0                           [H2, H3, J2, K2, L1, L2]   \n",
       "0                                   [H2, J2, K2, L2]   \n",
       "0                                   [J2, K2, L1, L2]   \n",
       "0                           [F2, H2, J2, K2, L1, L2]   \n",
       "0                                   [H2, H3, K2, L2]   \n",
       "0                                       [J2, K2, L2]   \n",
       "0                                   [J2, J3, K2, L2]   \n",
       "0                       [H2, H3, J2, K2, K3, L1, L2]   \n",
       "0                               [H2, H3, J2, K2, L2]   \n",
       "0                               [H2, J2, K2, L1, L2]   \n",
       "0                                   [H3, J2, K2, L2]   \n",
       "0                           [H2, H3, J2, K2, L1, L2]   \n",
       "0                               [H2, H3, J2, K2, L2]   \n",
       "0                                   [H2, J2, K2, L2]   \n",
       "0  [E15, F14, F15, G13, G14, H13, H14, H15, H3, J...   \n",
       "0                          [H2, H3, J2, K2, L2, P13]   \n",
       "0                               [H2, J2, K2, K3, L2]   \n",
       "0                               [H2, H3, J2, K2, L2]   \n",
       "0  [E15, F15, G13, G14, H13, H14, H15, H3, J12, J...   \n",
       "0                               [F2, H2, J2, K2, L2]   \n",
       "0                               [H2, H3, J2, K2, L2]   \n",
       "\n",
       "   number_of_bursting_channels  number_burst_starts  number_burst_ends  \\\n",
       "0                            6                    6                  6   \n",
       "0                            3                    5                  5   \n",
       "0                            4                    7                  7   \n",
       "0                            4                    7                  7   \n",
       "0                            5                    5                  5   \n",
       "0                            5                    5                  5   \n",
       "0                            6                    6                  6   \n",
       "0                            4                    6                  6   \n",
       "0                            4                    7                  7   \n",
       "0                            6                    6                  6   \n",
       "0                            4                    6                  6   \n",
       "0                            3                    7                  7   \n",
       "0                            4                    4                  4   \n",
       "0                            7                    9                  9   \n",
       "0                            5                    7                  7   \n",
       "0                            5                    5                  5   \n",
       "0                            4                    6                  6   \n",
       "0                            6                    8                  8   \n",
       "0                            5                    5                  5   \n",
       "0                            4                    6                  6   \n",
       "0                           37                   43                 43   \n",
       "0                            6                    9                  9   \n",
       "0                            5                   11                 11   \n",
       "0                            5                    6                  6   \n",
       "0                           38                   39                 39   \n",
       "0                            5                    6                  6   \n",
       "0                            5                    7                  7   \n",
       "\n",
       "                               active_channels_total  \\\n",
       "0  [C2, E3, F2, F3, G1, G2, H1, H2, H3, J2, J3, K...   \n",
       "0  [E3, F2, F3, G1, G2, H1, H2, H3, J1, J2, J3, K...   \n",
       "0       [F2, G2, H1, H2, H3, J2, K2, K3, L1, L2, M1]   \n",
       "0  [F2, F3, G2, G3, H1, H2, H3, J1, J2, K2, K3, K...   \n",
       "0  [F2, F3, G13, G2, H1, H2, H3, J2, K2, K3, L1, L2]   \n",
       "0  [F2, G2, H1, H2, H3, J1, J2, J3, K2, K3, K4, L...   \n",
       "0  [C2, F2, G2, G3, H2, H3, J2, J3, K1, K2, K3, L...   \n",
       "0  [D16, E16, F2, F3, F4, G2, H2, H3, J2, J3, K2,...   \n",
       "0  [B9, D14, D16, F13, F2, F3, G1, G2, G3, H2, H3...   \n",
       "0  [F2, F3, G2, H1, H2, H3, J2, J3, K2, L1, L2, L...   \n",
       "0  [E3, F2, F3, H2, H3, H4, J1, J2, J3, K2, K3, L...   \n",
       "0  [C2, F2, F3, G1, G2, H1, H2, H3, J2, J3, K2, K...   \n",
       "0  [F2, F3, G2, G3, H1, H13, H2, H3, J2, J3, K1, ...   \n",
       "0  [F2, F3, G1, G2, H1, H2, H3, J2, J3, K1, K2, K...   \n",
       "0  [D16, F2, G2, H1, H2, H3, J2, J3, K1, K2, K3, ...   \n",
       "0  [F2, F3, G1, G2, H1, H2, H3, J2, K2, K3, K4, L...   \n",
       "0  [C2, F2, G2, H2, H3, J16, J2, K2, L1, L2, M1, M2]   \n",
       "0  [F2, G1, G2, H2, H3, J2, J3, K1, K2, K3, K4, L...   \n",
       "0  [A10, A11, A12, A14, A2, A3, A4, A5, A7, A8, A...   \n",
       "0  [B9, C2, D16, E8, F2, F3, G2, H2, H3, J1, J2, ...   \n",
       "0  [C2, D7, E15, F13, F14, F15, F2, F3, G1, G13, ...   \n",
       "0  [F2, F3, G1, G2, G4, H1, H2, H3, J1, J2, J3, K...   \n",
       "0  [C2, F2, F3, G2, H1, H2, H3, J1, J2, J3, K2, K...   \n",
       "0  [D7, E3, F2, G1, G2, H1, H2, H3, J2, J3, K1, K...   \n",
       "0  [E15, F14, F15, F2, G1, G13, G14, G2, H10, H13...   \n",
       "0  [C2, E3, F2, F3, G2, G3, H1, H2, H3, J2, J3, K...   \n",
       "0  [F2, F3, G2, G3, H1, H2, H3, H4, J2, J3, K2, K...   \n",
       "\n",
       "   number_of_active_channels  number_of_spikes  \\\n",
       "0                         16                49   \n",
       "0                         16                65   \n",
       "0                         11                51   \n",
       "0                         16                80   \n",
       "0                         12                46   \n",
       "0                         14                66   \n",
       "0                         15                48   \n",
       "0                         16                73   \n",
       "0                         19                73   \n",
       "0                         14                43   \n",
       "0                         14                48   \n",
       "0                         17                89   \n",
       "0                         16                63   \n",
       "0                         16                77   \n",
       "0                         15                65   \n",
       "0                         14                47   \n",
       "0                         12                60   \n",
       "0                         15                71   \n",
       "0                        126               187   \n",
       "0                         20                63   \n",
       "0                         56               442   \n",
       "0                         20                76   \n",
       "0                         17               101   \n",
       "0                         18                67   \n",
       "0                         56               505   \n",
       "0                         17                75   \n",
       "0                         16                65   \n",
       "\n",
       "                                     channels_lfp_up  \\\n",
       "0                                                 []   \n",
       "0                                                 []   \n",
       "0                                                 []   \n",
       "0                                                 []   \n",
       "0                                                 []   \n",
       "0                                                 []   \n",
       "0                                               [H4]   \n",
       "0                                                 []   \n",
       "0                                                 []   \n",
       "0                                               [H4]   \n",
       "0                                                 []   \n",
       "0                                               [H4]   \n",
       "0                                                 []   \n",
       "0                                                 []   \n",
       "0                                                 []   \n",
       "0                                               [H4]   \n",
       "0                                     [G15, G16, H4]   \n",
       "0                                                 []   \n",
       "0                                              [G15]   \n",
       "0                                                 []   \n",
       "0  [E15, F15, F16, G13, G14, H13, H14, H15, H16, ...   \n",
       "0                                                 []   \n",
       "0                                                 []   \n",
       "0                                                 []   \n",
       "0  [E15, F13, F14, F15, G12, G13, G14, H12, H13, ...   \n",
       "0                                                 []   \n",
       "0                                              [B12]   \n",
       "\n",
       "   number_channels_with_lfp_up  mean_up_lfp_amplitude  \\\n",
       "0                            0                    NaN   \n",
       "0                            0                    NaN   \n",
       "0                            0                    NaN   \n",
       "0                            0                    NaN   \n",
       "0                            0                    NaN   \n",
       "0                            0                    NaN   \n",
       "0                            1             201.631734   \n",
       "0                            0                    NaN   \n",
       "0                            0                    NaN   \n",
       "0                            1             194.176765   \n",
       "0                            0                    NaN   \n",
       "0                            1             196.262981   \n",
       "0                            0                    NaN   \n",
       "0                            0                    NaN   \n",
       "0                            0                    NaN   \n",
       "0                            1             187.726303   \n",
       "0                            3              88.641458   \n",
       "0                            0                    NaN   \n",
       "0                            1              56.419322   \n",
       "0                            0                    NaN   \n",
       "0                           61             132.126580   \n",
       "0                            0                    NaN   \n",
       "0                            0                    NaN   \n",
       "0                            0                    NaN   \n",
       "0                           64             108.468876   \n",
       "0                            0                    NaN   \n",
       "0                            1              20.161626   \n",
       "\n",
       "                                   channels_lfp_down  \\\n",
       "0                                                 []   \n",
       "0                                                 []   \n",
       "0                                                 []   \n",
       "0                                                 []   \n",
       "0                                                 []   \n",
       "0                                                 []   \n",
       "0                                           [H3, J3]   \n",
       "0                                                 []   \n",
       "0                                                 []   \n",
       "0                                           [H4, J3]   \n",
       "0                                               [H4]   \n",
       "0                                                 []   \n",
       "0                                                 []   \n",
       "0                                           [H4, J3]   \n",
       "0                                               [J3]   \n",
       "0                                                 []   \n",
       "0                                           [H4, J3]   \n",
       "0                                                 []   \n",
       "0                                           [H3, J3]   \n",
       "0                                           [H3, J3]   \n",
       "0  [E15, F13, F14, F15, F16, G12, G13, G14, H11, ...   \n",
       "0                                               [H3]   \n",
       "0                                                 []   \n",
       "0                                                 []   \n",
       "0  [E15, F12, F13, F14, F15, F16, G11, G12, G13, ...   \n",
       "0                                               [J3]   \n",
       "0                                           [H4, J3]   \n",
       "\n",
       "   number_channels_with_lfp_down  mean_down_lfp_amplitude  n_layer1_channels  \\\n",
       "0                              0                      NaN                  0   \n",
       "0                              0                      NaN                  0   \n",
       "0                              0                      NaN                  0   \n",
       "0                              0                      NaN                  0   \n",
       "0                              0                      NaN                  0   \n",
       "0                              0                      NaN                  0   \n",
       "0                              2               -38.760224                  0   \n",
       "0                              0                      NaN                  0   \n",
       "0                              0                      NaN                  0   \n",
       "0                              2              -164.741231                  0   \n",
       "0                              1              -195.560944                  0   \n",
       "0                              0                      NaN                  0   \n",
       "0                              0                      NaN                  0   \n",
       "0                              2              -138.750141                  0   \n",
       "0                              1               -42.663307                  0   \n",
       "0                              0                      NaN                  0   \n",
       "0                              2              -141.981075                  0   \n",
       "0                              0                      NaN                  0   \n",
       "0                              2               -44.715937                  0   \n",
       "0                              2               -43.635868                  0   \n",
       "0                             70              -186.381509                  0   \n",
       "0                              1               -45.668063                  0   \n",
       "0                              0                      NaN                  0   \n",
       "0                              0                      NaN                  0   \n",
       "0                             73              -170.762145                  0   \n",
       "0                              1               -42.405115                  0   \n",
       "0                              2              -105.993436                  0   \n",
       "\n",
       "   n_layer2-3_channels  n_layer4_channels  n_layer5-6_channels  \\\n",
       "0                   23                 11                    4   \n",
       "0                   39                 10                    2   \n",
       "0                   36                  7                    0   \n",
       "0                   50                 20                    2   \n",
       "0                   30                  9                    2   \n",
       "0                   44                 13                    0   \n",
       "0                   26                 10                    5   \n",
       "0                   47                  7                    2   \n",
       "0                   45                 12                    3   \n",
       "0                   27                  8                    1   \n",
       "0                   29                  8                    3   \n",
       "0                   53                 14                    5   \n",
       "0                   35                 12                    3   \n",
       "0                   51                 13                    1   \n",
       "0                   42                 12                    0   \n",
       "0                   30                  8                    1   \n",
       "0                   34                 13                    2   \n",
       "0                   51                  9                    0   \n",
       "0                   46                 15                   81   \n",
       "0                   38                 10                    5   \n",
       "0                   53                 17                  287   \n",
       "0                   40                 15                    8   \n",
       "0                   63                 18                    3   \n",
       "0                   42                 13                    3   \n",
       "0                   30                  7                  377   \n",
       "0                   43                 16                    4   \n",
       "0                   40                 12                    3   \n",
       "\n",
       "   n_whitematter_channels                                           filename  \\\n",
       "0                       0  2021-05-17T11-28-41__cortex_div11_aCSF_ID046_3...   \n",
       "0                       0  2021-05-17T11-28-41__cortex_div11_aCSF_ID046_3...   \n",
       "0                       0  2021-05-17T11-28-41__cortex_div11_aCSF_ID046_3...   \n",
       "0                       0  2021-05-17T11-28-41__cortex_div11_aCSF_ID046_3...   \n",
       "0                       0  2021-05-17T11-28-41__cortex_div11_aCSF_ID046_3...   \n",
       "0                       0  2021-05-17T11-28-41__cortex_div11_aCSF_ID046_3...   \n",
       "0                       0  2021-05-17T11-28-41__cortex_div11_aCSF_ID046_3...   \n",
       "0                       3  2021-05-17T11-28-41__cortex_div11_aCSF_ID046_3...   \n",
       "0                       3  2021-05-17T11-28-41__cortex_div11_aCSF_ID046_3...   \n",
       "0                       0  2021-05-17T11-28-41__cortex_div11_aCSF_ID046_3...   \n",
       "0                       0  2021-05-17T11-28-41__cortex_div11_aCSF_ID046_3...   \n",
       "0                       0  2021-05-17T11-28-41__cortex_div11_aCSF_ID046_3...   \n",
       "0                       0  2021-05-17T11-28-41__cortex_div11_aCSF_ID046_3...   \n",
       "0                       0  2021-05-17T11-28-41__cortex_div11_aCSF_ID046_3...   \n",
       "0                       1  2021-05-17T11-28-41__cortex_div11_aCSF_ID046_3...   \n",
       "0                       0  2021-05-17T11-28-41__cortex_div11_aCSF_ID046_3...   \n",
       "0                       0  2021-05-17T11-28-41__cortex_div11_aCSF_ID046_3...   \n",
       "0                       0  2021-05-17T11-28-41__cortex_div11_aCSF_ID046_3...   \n",
       "0                      30  2021-05-17T11-28-41__cortex_div11_aCSF_ID046_3...   \n",
       "0                       1  2021-05-17T11-28-41__cortex_div11_aCSF_ID046_3...   \n",
       "0                      44  2021-05-17T11-28-41__cortex_div11_aCSF_ID046_3...   \n",
       "0                       0  2021-05-17T11-28-41__cortex_div11_aCSF_ID046_3...   \n",
       "0                       0  2021-05-17T11-28-41__cortex_div11_aCSF_ID046_3...   \n",
       "0                       0  2021-05-17T11-28-41__cortex_div11_aCSF_ID046_3...   \n",
       "0                      33  2021-05-17T11-28-41__cortex_div11_aCSF_ID046_3...   \n",
       "0                       0  2021-05-17T11-28-41__cortex_div11_aCSF_ID046_3...   \n",
       "0                       0  2021-05-17T11-28-41__cortex_div11_aCSF_ID046_3...   \n",
       "\n",
       "  recording_date  timelength_recording_s         medium            drug  \\\n",
       "0     2021-05-07                   120.4  aCSF_baseline  norepinephrine   \n",
       "0     2021-05-07                   120.4  aCSF_baseline  norepinephrine   \n",
       "0     2021-05-07                   120.4  aCSF_baseline  norepinephrine   \n",
       "0     2021-05-07                   120.4  aCSF_baseline  norepinephrine   \n",
       "0     2021-05-07                   120.4  aCSF_baseline  norepinephrine   \n",
       "0     2021-05-07                   120.4  aCSF_baseline  norepinephrine   \n",
       "0     2021-05-07                   120.4  aCSF_baseline  norepinephrine   \n",
       "0     2021-05-07                   120.4  aCSF_baseline  norepinephrine   \n",
       "0     2021-05-07                   120.4  aCSF_baseline  norepinephrine   \n",
       "0     2021-05-07                   120.4  aCSF_baseline  norepinephrine   \n",
       "0     2021-05-07                   120.4  aCSF_baseline  norepinephrine   \n",
       "0     2021-05-07                   120.4  aCSF_baseline  norepinephrine   \n",
       "0     2021-05-07                   120.4  aCSF_baseline  norepinephrine   \n",
       "0     2021-05-07                   120.4  aCSF_baseline  norepinephrine   \n",
       "0     2021-05-07                   120.4  aCSF_baseline  norepinephrine   \n",
       "0     2021-05-07                   120.4  aCSF_baseline  norepinephrine   \n",
       "0     2021-05-07                   120.4  aCSF_baseline  norepinephrine   \n",
       "0     2021-05-07                   120.4  aCSF_baseline  norepinephrine   \n",
       "0     2021-05-07                   120.4  aCSF_baseline  norepinephrine   \n",
       "0     2021-05-07                   120.4  aCSF_baseline  norepinephrine   \n",
       "0     2021-05-07                   120.4  aCSF_baseline  norepinephrine   \n",
       "0     2021-05-07                   120.4  aCSF_baseline  norepinephrine   \n",
       "0     2021-05-07                   120.4  aCSF_baseline  norepinephrine   \n",
       "0     2021-05-07                   120.4  aCSF_baseline  norepinephrine   \n",
       "0     2021-05-07                   120.4  aCSF_baseline  norepinephrine   \n",
       "0     2021-05-07                   120.4  aCSF_baseline  norepinephrine   \n",
       "0     2021-05-07                   120.4  aCSF_baseline  norepinephrine   \n",
       "\n",
       "   drug_concentration_µM  firingrate_whole_Hz  active_channels  \n",
       "0                     30               42.467              226  \n",
       "0                     30               42.467              226  \n",
       "0                     30               42.467              226  \n",
       "0                     30               42.467              226  \n",
       "0                     30               42.467              226  \n",
       "0                     30               42.467              226  \n",
       "0                     30               42.467              226  \n",
       "0                     30               42.467              226  \n",
       "0                     30               42.467              226  \n",
       "0                     30               42.467              226  \n",
       "0                     30               42.467              226  \n",
       "0                     30               42.467              226  \n",
       "0                     30               42.467              226  \n",
       "0                     30               42.467              226  \n",
       "0                     30               42.467              226  \n",
       "0                     30               42.467              226  \n",
       "0                     30               42.467              226  \n",
       "0                     30               42.467              226  \n",
       "0                     30               42.467              226  \n",
       "0                     30               42.467              226  \n",
       "0                     30               42.467              226  \n",
       "0                     30               42.467              226  \n",
       "0                     30               42.467              226  \n",
       "0                     30               42.467              226  \n",
       "0                     30               42.467              226  \n",
       "0                     30               42.467              226  \n",
       "0                     30               42.467              226  "
      ]
     },
     "execution_count": 78,
     "metadata": {},
     "output_type": "execute_result"
    }
   ],
   "source": [
    "df_filtered"
   ]
  },
  {
   "cell_type": "code",
   "execution_count": 84,
   "id": "5c27e869",
   "metadata": {},
   "outputs": [],
   "source": [
    "df = df_filtered[[ 'number_of_bursting_channels', 'number_burst_starts',  \n",
    "                                      'number_of_spikes',  'number_channels_with_lfp_up', \n",
    "                                      'number_channels_with_lfp_down' \n",
    "                                      ]]"
   ]
  },
  {
   "cell_type": "code",
   "execution_count": 85,
   "id": "349621fe",
   "metadata": {},
   "outputs": [
    {
     "data": {
      "text/html": [
       "<div>\n",
       "<style scoped>\n",
       "    .dataframe tbody tr th:only-of-type {\n",
       "        vertical-align: middle;\n",
       "    }\n",
       "\n",
       "    .dataframe tbody tr th {\n",
       "        vertical-align: top;\n",
       "    }\n",
       "\n",
       "    .dataframe thead th {\n",
       "        text-align: right;\n",
       "    }\n",
       "</style>\n",
       "<table border=\"1\" class=\"dataframe\">\n",
       "  <thead>\n",
       "    <tr style=\"text-align: right;\">\n",
       "      <th></th>\n",
       "      <th>number_of_bursting_channels</th>\n",
       "      <th>number_burst_starts</th>\n",
       "      <th>number_of_spikes</th>\n",
       "      <th>number_channels_with_lfp_up</th>\n",
       "      <th>number_channels_with_lfp_down</th>\n",
       "    </tr>\n",
       "  </thead>\n",
       "  <tbody>\n",
       "    <tr>\n",
       "      <th>0</th>\n",
       "      <td>6</td>\n",
       "      <td>6</td>\n",
       "      <td>49</td>\n",
       "      <td>0</td>\n",
       "      <td>0</td>\n",
       "    </tr>\n",
       "    <tr>\n",
       "      <th>0</th>\n",
       "      <td>3</td>\n",
       "      <td>5</td>\n",
       "      <td>65</td>\n",
       "      <td>0</td>\n",
       "      <td>0</td>\n",
       "    </tr>\n",
       "    <tr>\n",
       "      <th>0</th>\n",
       "      <td>4</td>\n",
       "      <td>7</td>\n",
       "      <td>51</td>\n",
       "      <td>0</td>\n",
       "      <td>0</td>\n",
       "    </tr>\n",
       "    <tr>\n",
       "      <th>0</th>\n",
       "      <td>4</td>\n",
       "      <td>7</td>\n",
       "      <td>80</td>\n",
       "      <td>0</td>\n",
       "      <td>0</td>\n",
       "    </tr>\n",
       "    <tr>\n",
       "      <th>0</th>\n",
       "      <td>5</td>\n",
       "      <td>5</td>\n",
       "      <td>46</td>\n",
       "      <td>0</td>\n",
       "      <td>0</td>\n",
       "    </tr>\n",
       "    <tr>\n",
       "      <th>0</th>\n",
       "      <td>5</td>\n",
       "      <td>5</td>\n",
       "      <td>66</td>\n",
       "      <td>0</td>\n",
       "      <td>0</td>\n",
       "    </tr>\n",
       "    <tr>\n",
       "      <th>0</th>\n",
       "      <td>6</td>\n",
       "      <td>6</td>\n",
       "      <td>48</td>\n",
       "      <td>1</td>\n",
       "      <td>2</td>\n",
       "    </tr>\n",
       "    <tr>\n",
       "      <th>0</th>\n",
       "      <td>4</td>\n",
       "      <td>6</td>\n",
       "      <td>73</td>\n",
       "      <td>0</td>\n",
       "      <td>0</td>\n",
       "    </tr>\n",
       "    <tr>\n",
       "      <th>0</th>\n",
       "      <td>4</td>\n",
       "      <td>7</td>\n",
       "      <td>73</td>\n",
       "      <td>0</td>\n",
       "      <td>0</td>\n",
       "    </tr>\n",
       "    <tr>\n",
       "      <th>0</th>\n",
       "      <td>6</td>\n",
       "      <td>6</td>\n",
       "      <td>43</td>\n",
       "      <td>1</td>\n",
       "      <td>2</td>\n",
       "    </tr>\n",
       "    <tr>\n",
       "      <th>0</th>\n",
       "      <td>4</td>\n",
       "      <td>6</td>\n",
       "      <td>48</td>\n",
       "      <td>0</td>\n",
       "      <td>1</td>\n",
       "    </tr>\n",
       "    <tr>\n",
       "      <th>0</th>\n",
       "      <td>3</td>\n",
       "      <td>7</td>\n",
       "      <td>89</td>\n",
       "      <td>1</td>\n",
       "      <td>0</td>\n",
       "    </tr>\n",
       "    <tr>\n",
       "      <th>0</th>\n",
       "      <td>4</td>\n",
       "      <td>4</td>\n",
       "      <td>63</td>\n",
       "      <td>0</td>\n",
       "      <td>0</td>\n",
       "    </tr>\n",
       "    <tr>\n",
       "      <th>0</th>\n",
       "      <td>7</td>\n",
       "      <td>9</td>\n",
       "      <td>77</td>\n",
       "      <td>0</td>\n",
       "      <td>2</td>\n",
       "    </tr>\n",
       "    <tr>\n",
       "      <th>0</th>\n",
       "      <td>5</td>\n",
       "      <td>7</td>\n",
       "      <td>65</td>\n",
       "      <td>0</td>\n",
       "      <td>1</td>\n",
       "    </tr>\n",
       "    <tr>\n",
       "      <th>0</th>\n",
       "      <td>5</td>\n",
       "      <td>5</td>\n",
       "      <td>47</td>\n",
       "      <td>1</td>\n",
       "      <td>0</td>\n",
       "    </tr>\n",
       "    <tr>\n",
       "      <th>0</th>\n",
       "      <td>4</td>\n",
       "      <td>6</td>\n",
       "      <td>60</td>\n",
       "      <td>3</td>\n",
       "      <td>2</td>\n",
       "    </tr>\n",
       "    <tr>\n",
       "      <th>0</th>\n",
       "      <td>6</td>\n",
       "      <td>8</td>\n",
       "      <td>71</td>\n",
       "      <td>0</td>\n",
       "      <td>0</td>\n",
       "    </tr>\n",
       "    <tr>\n",
       "      <th>0</th>\n",
       "      <td>5</td>\n",
       "      <td>5</td>\n",
       "      <td>187</td>\n",
       "      <td>1</td>\n",
       "      <td>2</td>\n",
       "    </tr>\n",
       "    <tr>\n",
       "      <th>0</th>\n",
       "      <td>4</td>\n",
       "      <td>6</td>\n",
       "      <td>63</td>\n",
       "      <td>0</td>\n",
       "      <td>2</td>\n",
       "    </tr>\n",
       "    <tr>\n",
       "      <th>0</th>\n",
       "      <td>37</td>\n",
       "      <td>43</td>\n",
       "      <td>442</td>\n",
       "      <td>61</td>\n",
       "      <td>70</td>\n",
       "    </tr>\n",
       "    <tr>\n",
       "      <th>0</th>\n",
       "      <td>6</td>\n",
       "      <td>9</td>\n",
       "      <td>76</td>\n",
       "      <td>0</td>\n",
       "      <td>1</td>\n",
       "    </tr>\n",
       "    <tr>\n",
       "      <th>0</th>\n",
       "      <td>5</td>\n",
       "      <td>11</td>\n",
       "      <td>101</td>\n",
       "      <td>0</td>\n",
       "      <td>0</td>\n",
       "    </tr>\n",
       "    <tr>\n",
       "      <th>0</th>\n",
       "      <td>5</td>\n",
       "      <td>6</td>\n",
       "      <td>67</td>\n",
       "      <td>0</td>\n",
       "      <td>0</td>\n",
       "    </tr>\n",
       "    <tr>\n",
       "      <th>0</th>\n",
       "      <td>38</td>\n",
       "      <td>39</td>\n",
       "      <td>505</td>\n",
       "      <td>64</td>\n",
       "      <td>73</td>\n",
       "    </tr>\n",
       "    <tr>\n",
       "      <th>0</th>\n",
       "      <td>5</td>\n",
       "      <td>6</td>\n",
       "      <td>75</td>\n",
       "      <td>0</td>\n",
       "      <td>1</td>\n",
       "    </tr>\n",
       "    <tr>\n",
       "      <th>0</th>\n",
       "      <td>5</td>\n",
       "      <td>7</td>\n",
       "      <td>65</td>\n",
       "      <td>1</td>\n",
       "      <td>2</td>\n",
       "    </tr>\n",
       "  </tbody>\n",
       "</table>\n",
       "</div>"
      ],
      "text/plain": [
       "   number_of_bursting_channels  number_burst_starts  number_of_spikes  \\\n",
       "0                            6                    6                49   \n",
       "0                            3                    5                65   \n",
       "0                            4                    7                51   \n",
       "0                            4                    7                80   \n",
       "0                            5                    5                46   \n",
       "0                            5                    5                66   \n",
       "0                            6                    6                48   \n",
       "0                            4                    6                73   \n",
       "0                            4                    7                73   \n",
       "0                            6                    6                43   \n",
       "0                            4                    6                48   \n",
       "0                            3                    7                89   \n",
       "0                            4                    4                63   \n",
       "0                            7                    9                77   \n",
       "0                            5                    7                65   \n",
       "0                            5                    5                47   \n",
       "0                            4                    6                60   \n",
       "0                            6                    8                71   \n",
       "0                            5                    5               187   \n",
       "0                            4                    6                63   \n",
       "0                           37                   43               442   \n",
       "0                            6                    9                76   \n",
       "0                            5                   11               101   \n",
       "0                            5                    6                67   \n",
       "0                           38                   39               505   \n",
       "0                            5                    6                75   \n",
       "0                            5                    7                65   \n",
       "\n",
       "   number_channels_with_lfp_up  number_channels_with_lfp_down  \n",
       "0                            0                              0  \n",
       "0                            0                              0  \n",
       "0                            0                              0  \n",
       "0                            0                              0  \n",
       "0                            0                              0  \n",
       "0                            0                              0  \n",
       "0                            1                              2  \n",
       "0                            0                              0  \n",
       "0                            0                              0  \n",
       "0                            1                              2  \n",
       "0                            0                              1  \n",
       "0                            1                              0  \n",
       "0                            0                              0  \n",
       "0                            0                              2  \n",
       "0                            0                              1  \n",
       "0                            1                              0  \n",
       "0                            3                              2  \n",
       "0                            0                              0  \n",
       "0                            1                              2  \n",
       "0                            0                              2  \n",
       "0                           61                             70  \n",
       "0                            0                              1  \n",
       "0                            0                              0  \n",
       "0                            0                              0  \n",
       "0                           64                             73  \n",
       "0                            0                              1  \n",
       "0                            1                              2  "
      ]
     },
     "execution_count": 85,
     "metadata": {},
     "output_type": "execute_result"
    }
   ],
   "source": [
    "df"
   ]
  },
  {
   "cell_type": "code",
   "execution_count": 86,
   "id": "abd185c4",
   "metadata": {},
   "outputs": [
    {
     "data": {
      "application/vnd.plotly.v1+json": {
       "config": {
        "plotlyServerURL": "https://plot.ly"
       },
       "data": [
        {
         "dimensions": [
          {
           "axis": {
            "matches": true
           },
           "label": "number_of_bursting_channels",
           "values": [
            6,
            3,
            4,
            4,
            5,
            5,
            6,
            4,
            4,
            6,
            4,
            3,
            4,
            7,
            5,
            5,
            4,
            6,
            5,
            4,
            37,
            6,
            5,
            5,
            38,
            5,
            5
           ]
          },
          {
           "axis": {
            "matches": true
           },
           "label": "number_burst_starts",
           "values": [
            6,
            5,
            7,
            7,
            5,
            5,
            6,
            6,
            7,
            6,
            6,
            7,
            4,
            9,
            7,
            5,
            6,
            8,
            5,
            6,
            43,
            9,
            11,
            6,
            39,
            6,
            7
           ]
          },
          {
           "axis": {
            "matches": true
           },
           "label": "number_of_spikes",
           "values": [
            49,
            65,
            51,
            80,
            46,
            66,
            48,
            73,
            73,
            43,
            48,
            89,
            63,
            77,
            65,
            47,
            60,
            71,
            187,
            63,
            442,
            76,
            101,
            67,
            505,
            75,
            65
           ]
          },
          {
           "axis": {
            "matches": true
           },
           "label": "number_channels_with_lfp_up",
           "values": [
            0,
            0,
            0,
            0,
            0,
            0,
            1,
            0,
            0,
            1,
            0,
            1,
            0,
            0,
            0,
            1,
            3,
            0,
            1,
            0,
            61,
            0,
            0,
            0,
            64,
            0,
            1
           ]
          },
          {
           "axis": {
            "matches": true
           },
           "label": "number_channels_with_lfp_down",
           "values": [
            0,
            0,
            0,
            0,
            0,
            0,
            2,
            0,
            0,
            2,
            1,
            0,
            0,
            2,
            1,
            0,
            2,
            0,
            2,
            2,
            70,
            1,
            0,
            0,
            73,
            1,
            2
           ]
          }
         ],
         "hovertemplate": "%{xaxis.title.text}=%{x}<br>%{yaxis.title.text}=%{y}<extra></extra>",
         "legendgroup": "",
         "marker": {
          "color": "#636efa",
          "symbol": "circle"
         },
         "name": "",
         "showlegend": false,
         "type": "splom"
        }
       ],
       "layout": {
        "dragmode": "select",
        "height": 1600,
        "legend": {
         "tracegroupgap": 0
        },
        "margin": {
         "t": 60
        },
        "template": {
         "data": {
          "bar": [
           {
            "error_x": {
             "color": "#2a3f5f"
            },
            "error_y": {
             "color": "#2a3f5f"
            },
            "marker": {
             "line": {
              "color": "#E5ECF6",
              "width": 0.5
             }
            },
            "type": "bar"
           }
          ],
          "barpolar": [
           {
            "marker": {
             "line": {
              "color": "#E5ECF6",
              "width": 0.5
             }
            },
            "type": "barpolar"
           }
          ],
          "carpet": [
           {
            "aaxis": {
             "endlinecolor": "#2a3f5f",
             "gridcolor": "white",
             "linecolor": "white",
             "minorgridcolor": "white",
             "startlinecolor": "#2a3f5f"
            },
            "baxis": {
             "endlinecolor": "#2a3f5f",
             "gridcolor": "white",
             "linecolor": "white",
             "minorgridcolor": "white",
             "startlinecolor": "#2a3f5f"
            },
            "type": "carpet"
           }
          ],
          "choropleth": [
           {
            "colorbar": {
             "outlinewidth": 0,
             "ticks": ""
            },
            "type": "choropleth"
           }
          ],
          "contour": [
           {
            "colorbar": {
             "outlinewidth": 0,
             "ticks": ""
            },
            "colorscale": [
             [
              0,
              "#0d0887"
             ],
             [
              0.1111111111111111,
              "#46039f"
             ],
             [
              0.2222222222222222,
              "#7201a8"
             ],
             [
              0.3333333333333333,
              "#9c179e"
             ],
             [
              0.4444444444444444,
              "#bd3786"
             ],
             [
              0.5555555555555556,
              "#d8576b"
             ],
             [
              0.6666666666666666,
              "#ed7953"
             ],
             [
              0.7777777777777778,
              "#fb9f3a"
             ],
             [
              0.8888888888888888,
              "#fdca26"
             ],
             [
              1,
              "#f0f921"
             ]
            ],
            "type": "contour"
           }
          ],
          "contourcarpet": [
           {
            "colorbar": {
             "outlinewidth": 0,
             "ticks": ""
            },
            "type": "contourcarpet"
           }
          ],
          "heatmap": [
           {
            "colorbar": {
             "outlinewidth": 0,
             "ticks": ""
            },
            "colorscale": [
             [
              0,
              "#0d0887"
             ],
             [
              0.1111111111111111,
              "#46039f"
             ],
             [
              0.2222222222222222,
              "#7201a8"
             ],
             [
              0.3333333333333333,
              "#9c179e"
             ],
             [
              0.4444444444444444,
              "#bd3786"
             ],
             [
              0.5555555555555556,
              "#d8576b"
             ],
             [
              0.6666666666666666,
              "#ed7953"
             ],
             [
              0.7777777777777778,
              "#fb9f3a"
             ],
             [
              0.8888888888888888,
              "#fdca26"
             ],
             [
              1,
              "#f0f921"
             ]
            ],
            "type": "heatmap"
           }
          ],
          "heatmapgl": [
           {
            "colorbar": {
             "outlinewidth": 0,
             "ticks": ""
            },
            "colorscale": [
             [
              0,
              "#0d0887"
             ],
             [
              0.1111111111111111,
              "#46039f"
             ],
             [
              0.2222222222222222,
              "#7201a8"
             ],
             [
              0.3333333333333333,
              "#9c179e"
             ],
             [
              0.4444444444444444,
              "#bd3786"
             ],
             [
              0.5555555555555556,
              "#d8576b"
             ],
             [
              0.6666666666666666,
              "#ed7953"
             ],
             [
              0.7777777777777778,
              "#fb9f3a"
             ],
             [
              0.8888888888888888,
              "#fdca26"
             ],
             [
              1,
              "#f0f921"
             ]
            ],
            "type": "heatmapgl"
           }
          ],
          "histogram": [
           {
            "marker": {
             "colorbar": {
              "outlinewidth": 0,
              "ticks": ""
             }
            },
            "type": "histogram"
           }
          ],
          "histogram2d": [
           {
            "colorbar": {
             "outlinewidth": 0,
             "ticks": ""
            },
            "colorscale": [
             [
              0,
              "#0d0887"
             ],
             [
              0.1111111111111111,
              "#46039f"
             ],
             [
              0.2222222222222222,
              "#7201a8"
             ],
             [
              0.3333333333333333,
              "#9c179e"
             ],
             [
              0.4444444444444444,
              "#bd3786"
             ],
             [
              0.5555555555555556,
              "#d8576b"
             ],
             [
              0.6666666666666666,
              "#ed7953"
             ],
             [
              0.7777777777777778,
              "#fb9f3a"
             ],
             [
              0.8888888888888888,
              "#fdca26"
             ],
             [
              1,
              "#f0f921"
             ]
            ],
            "type": "histogram2d"
           }
          ],
          "histogram2dcontour": [
           {
            "colorbar": {
             "outlinewidth": 0,
             "ticks": ""
            },
            "colorscale": [
             [
              0,
              "#0d0887"
             ],
             [
              0.1111111111111111,
              "#46039f"
             ],
             [
              0.2222222222222222,
              "#7201a8"
             ],
             [
              0.3333333333333333,
              "#9c179e"
             ],
             [
              0.4444444444444444,
              "#bd3786"
             ],
             [
              0.5555555555555556,
              "#d8576b"
             ],
             [
              0.6666666666666666,
              "#ed7953"
             ],
             [
              0.7777777777777778,
              "#fb9f3a"
             ],
             [
              0.8888888888888888,
              "#fdca26"
             ],
             [
              1,
              "#f0f921"
             ]
            ],
            "type": "histogram2dcontour"
           }
          ],
          "mesh3d": [
           {
            "colorbar": {
             "outlinewidth": 0,
             "ticks": ""
            },
            "type": "mesh3d"
           }
          ],
          "parcoords": [
           {
            "line": {
             "colorbar": {
              "outlinewidth": 0,
              "ticks": ""
             }
            },
            "type": "parcoords"
           }
          ],
          "pie": [
           {
            "automargin": true,
            "type": "pie"
           }
          ],
          "scatter": [
           {
            "marker": {
             "colorbar": {
              "outlinewidth": 0,
              "ticks": ""
             }
            },
            "type": "scatter"
           }
          ],
          "scatter3d": [
           {
            "line": {
             "colorbar": {
              "outlinewidth": 0,
              "ticks": ""
             }
            },
            "marker": {
             "colorbar": {
              "outlinewidth": 0,
              "ticks": ""
             }
            },
            "type": "scatter3d"
           }
          ],
          "scattercarpet": [
           {
            "marker": {
             "colorbar": {
              "outlinewidth": 0,
              "ticks": ""
             }
            },
            "type": "scattercarpet"
           }
          ],
          "scattergeo": [
           {
            "marker": {
             "colorbar": {
              "outlinewidth": 0,
              "ticks": ""
             }
            },
            "type": "scattergeo"
           }
          ],
          "scattergl": [
           {
            "marker": {
             "colorbar": {
              "outlinewidth": 0,
              "ticks": ""
             }
            },
            "type": "scattergl"
           }
          ],
          "scattermapbox": [
           {
            "marker": {
             "colorbar": {
              "outlinewidth": 0,
              "ticks": ""
             }
            },
            "type": "scattermapbox"
           }
          ],
          "scatterpolar": [
           {
            "marker": {
             "colorbar": {
              "outlinewidth": 0,
              "ticks": ""
             }
            },
            "type": "scatterpolar"
           }
          ],
          "scatterpolargl": [
           {
            "marker": {
             "colorbar": {
              "outlinewidth": 0,
              "ticks": ""
             }
            },
            "type": "scatterpolargl"
           }
          ],
          "scatterternary": [
           {
            "marker": {
             "colorbar": {
              "outlinewidth": 0,
              "ticks": ""
             }
            },
            "type": "scatterternary"
           }
          ],
          "surface": [
           {
            "colorbar": {
             "outlinewidth": 0,
             "ticks": ""
            },
            "colorscale": [
             [
              0,
              "#0d0887"
             ],
             [
              0.1111111111111111,
              "#46039f"
             ],
             [
              0.2222222222222222,
              "#7201a8"
             ],
             [
              0.3333333333333333,
              "#9c179e"
             ],
             [
              0.4444444444444444,
              "#bd3786"
             ],
             [
              0.5555555555555556,
              "#d8576b"
             ],
             [
              0.6666666666666666,
              "#ed7953"
             ],
             [
              0.7777777777777778,
              "#fb9f3a"
             ],
             [
              0.8888888888888888,
              "#fdca26"
             ],
             [
              1,
              "#f0f921"
             ]
            ],
            "type": "surface"
           }
          ],
          "table": [
           {
            "cells": {
             "fill": {
              "color": "#EBF0F8"
             },
             "line": {
              "color": "white"
             }
            },
            "header": {
             "fill": {
              "color": "#C8D4E3"
             },
             "line": {
              "color": "white"
             }
            },
            "type": "table"
           }
          ]
         },
         "layout": {
          "annotationdefaults": {
           "arrowcolor": "#2a3f5f",
           "arrowhead": 0,
           "arrowwidth": 1
          },
          "autotypenumbers": "strict",
          "coloraxis": {
           "colorbar": {
            "outlinewidth": 0,
            "ticks": ""
           }
          },
          "colorscale": {
           "diverging": [
            [
             0,
             "#8e0152"
            ],
            [
             0.1,
             "#c51b7d"
            ],
            [
             0.2,
             "#de77ae"
            ],
            [
             0.3,
             "#f1b6da"
            ],
            [
             0.4,
             "#fde0ef"
            ],
            [
             0.5,
             "#f7f7f7"
            ],
            [
             0.6,
             "#e6f5d0"
            ],
            [
             0.7,
             "#b8e186"
            ],
            [
             0.8,
             "#7fbc41"
            ],
            [
             0.9,
             "#4d9221"
            ],
            [
             1,
             "#276419"
            ]
           ],
           "sequential": [
            [
             0,
             "#0d0887"
            ],
            [
             0.1111111111111111,
             "#46039f"
            ],
            [
             0.2222222222222222,
             "#7201a8"
            ],
            [
             0.3333333333333333,
             "#9c179e"
            ],
            [
             0.4444444444444444,
             "#bd3786"
            ],
            [
             0.5555555555555556,
             "#d8576b"
            ],
            [
             0.6666666666666666,
             "#ed7953"
            ],
            [
             0.7777777777777778,
             "#fb9f3a"
            ],
            [
             0.8888888888888888,
             "#fdca26"
            ],
            [
             1,
             "#f0f921"
            ]
           ],
           "sequentialminus": [
            [
             0,
             "#0d0887"
            ],
            [
             0.1111111111111111,
             "#46039f"
            ],
            [
             0.2222222222222222,
             "#7201a8"
            ],
            [
             0.3333333333333333,
             "#9c179e"
            ],
            [
             0.4444444444444444,
             "#bd3786"
            ],
            [
             0.5555555555555556,
             "#d8576b"
            ],
            [
             0.6666666666666666,
             "#ed7953"
            ],
            [
             0.7777777777777778,
             "#fb9f3a"
            ],
            [
             0.8888888888888888,
             "#fdca26"
            ],
            [
             1,
             "#f0f921"
            ]
           ]
          },
          "colorway": [
           "#636efa",
           "#EF553B",
           "#00cc96",
           "#ab63fa",
           "#FFA15A",
           "#19d3f3",
           "#FF6692",
           "#B6E880",
           "#FF97FF",
           "#FECB52"
          ],
          "font": {
           "color": "#2a3f5f"
          },
          "geo": {
           "bgcolor": "white",
           "lakecolor": "white",
           "landcolor": "#E5ECF6",
           "showlakes": true,
           "showland": true,
           "subunitcolor": "white"
          },
          "hoverlabel": {
           "align": "left"
          },
          "hovermode": "closest",
          "mapbox": {
           "style": "light"
          },
          "paper_bgcolor": "white",
          "plot_bgcolor": "#E5ECF6",
          "polar": {
           "angularaxis": {
            "gridcolor": "white",
            "linecolor": "white",
            "ticks": ""
           },
           "bgcolor": "#E5ECF6",
           "radialaxis": {
            "gridcolor": "white",
            "linecolor": "white",
            "ticks": ""
           }
          },
          "scene": {
           "xaxis": {
            "backgroundcolor": "#E5ECF6",
            "gridcolor": "white",
            "gridwidth": 2,
            "linecolor": "white",
            "showbackground": true,
            "ticks": "",
            "zerolinecolor": "white"
           },
           "yaxis": {
            "backgroundcolor": "#E5ECF6",
            "gridcolor": "white",
            "gridwidth": 2,
            "linecolor": "white",
            "showbackground": true,
            "ticks": "",
            "zerolinecolor": "white"
           },
           "zaxis": {
            "backgroundcolor": "#E5ECF6",
            "gridcolor": "white",
            "gridwidth": 2,
            "linecolor": "white",
            "showbackground": true,
            "ticks": "",
            "zerolinecolor": "white"
           }
          },
          "shapedefaults": {
           "line": {
            "color": "#2a3f5f"
           }
          },
          "ternary": {
           "aaxis": {
            "gridcolor": "white",
            "linecolor": "white",
            "ticks": ""
           },
           "baxis": {
            "gridcolor": "white",
            "linecolor": "white",
            "ticks": ""
           },
           "bgcolor": "#E5ECF6",
           "caxis": {
            "gridcolor": "white",
            "linecolor": "white",
            "ticks": ""
           }
          },
          "title": {
           "x": 0.05
          },
          "xaxis": {
           "automargin": true,
           "gridcolor": "white",
           "linecolor": "white",
           "ticks": "",
           "title": {
            "standoff": 15
           },
           "zerolinecolor": "white",
           "zerolinewidth": 2
          },
          "yaxis": {
           "automargin": true,
           "gridcolor": "white",
           "linecolor": "white",
           "ticks": "",
           "title": {
            "standoff": 15
           },
           "zerolinecolor": "white",
           "zerolinewidth": 2
          }
         }
        },
        "width": 1200
       }
      },
      "text/html": [
       "<div>                            <div id=\"b376a504-46d3-4b51-870b-c843a608c9c8\" class=\"plotly-graph-div\" style=\"height:1600px; width:1200px;\"></div>            <script type=\"text/javascript\">                require([\"plotly\"], function(Plotly) {                    window.PLOTLYENV=window.PLOTLYENV || {};                                    if (document.getElementById(\"b376a504-46d3-4b51-870b-c843a608c9c8\")) {                    Plotly.newPlot(                        \"b376a504-46d3-4b51-870b-c843a608c9c8\",                        [{\"dimensions\": [{\"axis\": {\"matches\": true}, \"label\": \"number_of_bursting_channels\", \"values\": [6, 3, 4, 4, 5, 5, 6, 4, 4, 6, 4, 3, 4, 7, 5, 5, 4, 6, 5, 4, 37, 6, 5, 5, 38, 5, 5]}, {\"axis\": {\"matches\": true}, \"label\": \"number_burst_starts\", \"values\": [6, 5, 7, 7, 5, 5, 6, 6, 7, 6, 6, 7, 4, 9, 7, 5, 6, 8, 5, 6, 43, 9, 11, 6, 39, 6, 7]}, {\"axis\": {\"matches\": true}, \"label\": \"number_of_spikes\", \"values\": [49, 65, 51, 80, 46, 66, 48, 73, 73, 43, 48, 89, 63, 77, 65, 47, 60, 71, 187, 63, 442, 76, 101, 67, 505, 75, 65]}, {\"axis\": {\"matches\": true}, \"label\": \"number_channels_with_lfp_up\", \"values\": [0, 0, 0, 0, 0, 0, 1, 0, 0, 1, 0, 1, 0, 0, 0, 1, 3, 0, 1, 0, 61, 0, 0, 0, 64, 0, 1]}, {\"axis\": {\"matches\": true}, \"label\": \"number_channels_with_lfp_down\", \"values\": [0, 0, 0, 0, 0, 0, 2, 0, 0, 2, 1, 0, 0, 2, 1, 0, 2, 0, 2, 2, 70, 1, 0, 0, 73, 1, 2]}], \"hovertemplate\": \"%{xaxis.title.text}=%{x}<br>%{yaxis.title.text}=%{y}<extra></extra>\", \"legendgroup\": \"\", \"marker\": {\"color\": \"#636efa\", \"symbol\": \"circle\"}, \"name\": \"\", \"showlegend\": false, \"type\": \"splom\"}],                        {\"dragmode\": \"select\", \"height\": 1600, \"legend\": {\"tracegroupgap\": 0}, \"margin\": {\"t\": 60}, \"template\": {\"data\": {\"bar\": [{\"error_x\": {\"color\": \"#2a3f5f\"}, \"error_y\": {\"color\": \"#2a3f5f\"}, \"marker\": {\"line\": {\"color\": \"#E5ECF6\", \"width\": 0.5}}, \"type\": \"bar\"}], \"barpolar\": [{\"marker\": {\"line\": {\"color\": \"#E5ECF6\", \"width\": 0.5}}, \"type\": \"barpolar\"}], \"carpet\": [{\"aaxis\": {\"endlinecolor\": \"#2a3f5f\", \"gridcolor\": \"white\", \"linecolor\": \"white\", \"minorgridcolor\": \"white\", \"startlinecolor\": \"#2a3f5f\"}, \"baxis\": {\"endlinecolor\": \"#2a3f5f\", \"gridcolor\": \"white\", \"linecolor\": \"white\", \"minorgridcolor\": \"white\", \"startlinecolor\": \"#2a3f5f\"}, \"type\": \"carpet\"}], \"choropleth\": [{\"colorbar\": {\"outlinewidth\": 0, \"ticks\": \"\"}, \"type\": \"choropleth\"}], \"contour\": [{\"colorbar\": {\"outlinewidth\": 0, \"ticks\": \"\"}, \"colorscale\": [[0.0, \"#0d0887\"], [0.1111111111111111, \"#46039f\"], [0.2222222222222222, \"#7201a8\"], [0.3333333333333333, \"#9c179e\"], [0.4444444444444444, \"#bd3786\"], [0.5555555555555556, \"#d8576b\"], [0.6666666666666666, \"#ed7953\"], [0.7777777777777778, \"#fb9f3a\"], [0.8888888888888888, \"#fdca26\"], [1.0, \"#f0f921\"]], \"type\": \"contour\"}], \"contourcarpet\": [{\"colorbar\": {\"outlinewidth\": 0, \"ticks\": \"\"}, \"type\": \"contourcarpet\"}], \"heatmap\": [{\"colorbar\": {\"outlinewidth\": 0, \"ticks\": \"\"}, \"colorscale\": [[0.0, \"#0d0887\"], [0.1111111111111111, \"#46039f\"], [0.2222222222222222, \"#7201a8\"], [0.3333333333333333, \"#9c179e\"], [0.4444444444444444, \"#bd3786\"], [0.5555555555555556, \"#d8576b\"], [0.6666666666666666, \"#ed7953\"], [0.7777777777777778, \"#fb9f3a\"], [0.8888888888888888, \"#fdca26\"], [1.0, \"#f0f921\"]], \"type\": \"heatmap\"}], \"heatmapgl\": [{\"colorbar\": {\"outlinewidth\": 0, \"ticks\": \"\"}, \"colorscale\": [[0.0, \"#0d0887\"], [0.1111111111111111, \"#46039f\"], [0.2222222222222222, \"#7201a8\"], [0.3333333333333333, \"#9c179e\"], [0.4444444444444444, \"#bd3786\"], [0.5555555555555556, \"#d8576b\"], [0.6666666666666666, \"#ed7953\"], [0.7777777777777778, \"#fb9f3a\"], [0.8888888888888888, \"#fdca26\"], [1.0, \"#f0f921\"]], \"type\": \"heatmapgl\"}], \"histogram\": [{\"marker\": {\"colorbar\": {\"outlinewidth\": 0, \"ticks\": \"\"}}, \"type\": \"histogram\"}], \"histogram2d\": [{\"colorbar\": {\"outlinewidth\": 0, \"ticks\": \"\"}, \"colorscale\": [[0.0, \"#0d0887\"], [0.1111111111111111, \"#46039f\"], [0.2222222222222222, \"#7201a8\"], [0.3333333333333333, \"#9c179e\"], [0.4444444444444444, \"#bd3786\"], [0.5555555555555556, \"#d8576b\"], [0.6666666666666666, \"#ed7953\"], [0.7777777777777778, \"#fb9f3a\"], [0.8888888888888888, \"#fdca26\"], [1.0, \"#f0f921\"]], \"type\": \"histogram2d\"}], \"histogram2dcontour\": [{\"colorbar\": {\"outlinewidth\": 0, \"ticks\": \"\"}, \"colorscale\": [[0.0, \"#0d0887\"], [0.1111111111111111, \"#46039f\"], [0.2222222222222222, \"#7201a8\"], [0.3333333333333333, \"#9c179e\"], [0.4444444444444444, \"#bd3786\"], [0.5555555555555556, \"#d8576b\"], [0.6666666666666666, \"#ed7953\"], [0.7777777777777778, \"#fb9f3a\"], [0.8888888888888888, \"#fdca26\"], [1.0, \"#f0f921\"]], \"type\": \"histogram2dcontour\"}], \"mesh3d\": [{\"colorbar\": {\"outlinewidth\": 0, \"ticks\": \"\"}, \"type\": \"mesh3d\"}], \"parcoords\": [{\"line\": {\"colorbar\": {\"outlinewidth\": 0, \"ticks\": \"\"}}, \"type\": \"parcoords\"}], \"pie\": [{\"automargin\": true, \"type\": \"pie\"}], \"scatter\": [{\"marker\": {\"colorbar\": {\"outlinewidth\": 0, \"ticks\": \"\"}}, \"type\": \"scatter\"}], \"scatter3d\": [{\"line\": {\"colorbar\": {\"outlinewidth\": 0, \"ticks\": \"\"}}, \"marker\": {\"colorbar\": {\"outlinewidth\": 0, \"ticks\": \"\"}}, \"type\": \"scatter3d\"}], \"scattercarpet\": [{\"marker\": {\"colorbar\": {\"outlinewidth\": 0, \"ticks\": \"\"}}, \"type\": \"scattercarpet\"}], \"scattergeo\": [{\"marker\": {\"colorbar\": {\"outlinewidth\": 0, \"ticks\": \"\"}}, \"type\": \"scattergeo\"}], \"scattergl\": [{\"marker\": {\"colorbar\": {\"outlinewidth\": 0, \"ticks\": \"\"}}, \"type\": \"scattergl\"}], \"scattermapbox\": [{\"marker\": {\"colorbar\": {\"outlinewidth\": 0, \"ticks\": \"\"}}, \"type\": \"scattermapbox\"}], \"scatterpolar\": [{\"marker\": {\"colorbar\": {\"outlinewidth\": 0, \"ticks\": \"\"}}, \"type\": \"scatterpolar\"}], \"scatterpolargl\": [{\"marker\": {\"colorbar\": {\"outlinewidth\": 0, \"ticks\": \"\"}}, \"type\": \"scatterpolargl\"}], \"scatterternary\": [{\"marker\": {\"colorbar\": {\"outlinewidth\": 0, \"ticks\": \"\"}}, \"type\": \"scatterternary\"}], \"surface\": [{\"colorbar\": {\"outlinewidth\": 0, \"ticks\": \"\"}, \"colorscale\": [[0.0, \"#0d0887\"], [0.1111111111111111, \"#46039f\"], [0.2222222222222222, \"#7201a8\"], [0.3333333333333333, \"#9c179e\"], [0.4444444444444444, \"#bd3786\"], [0.5555555555555556, \"#d8576b\"], [0.6666666666666666, \"#ed7953\"], [0.7777777777777778, \"#fb9f3a\"], [0.8888888888888888, \"#fdca26\"], [1.0, \"#f0f921\"]], \"type\": \"surface\"}], \"table\": [{\"cells\": {\"fill\": {\"color\": \"#EBF0F8\"}, \"line\": {\"color\": \"white\"}}, \"header\": {\"fill\": {\"color\": \"#C8D4E3\"}, \"line\": {\"color\": \"white\"}}, \"type\": \"table\"}]}, \"layout\": {\"annotationdefaults\": {\"arrowcolor\": \"#2a3f5f\", \"arrowhead\": 0, \"arrowwidth\": 1}, \"autotypenumbers\": \"strict\", \"coloraxis\": {\"colorbar\": {\"outlinewidth\": 0, \"ticks\": \"\"}}, \"colorscale\": {\"diverging\": [[0, \"#8e0152\"], [0.1, \"#c51b7d\"], [0.2, \"#de77ae\"], [0.3, \"#f1b6da\"], [0.4, \"#fde0ef\"], [0.5, \"#f7f7f7\"], [0.6, \"#e6f5d0\"], [0.7, \"#b8e186\"], [0.8, \"#7fbc41\"], [0.9, \"#4d9221\"], [1, \"#276419\"]], \"sequential\": [[0.0, \"#0d0887\"], [0.1111111111111111, \"#46039f\"], [0.2222222222222222, \"#7201a8\"], [0.3333333333333333, \"#9c179e\"], [0.4444444444444444, \"#bd3786\"], [0.5555555555555556, \"#d8576b\"], [0.6666666666666666, \"#ed7953\"], [0.7777777777777778, \"#fb9f3a\"], [0.8888888888888888, \"#fdca26\"], [1.0, \"#f0f921\"]], \"sequentialminus\": [[0.0, \"#0d0887\"], [0.1111111111111111, \"#46039f\"], [0.2222222222222222, \"#7201a8\"], [0.3333333333333333, \"#9c179e\"], [0.4444444444444444, \"#bd3786\"], [0.5555555555555556, \"#d8576b\"], [0.6666666666666666, \"#ed7953\"], [0.7777777777777778, \"#fb9f3a\"], [0.8888888888888888, \"#fdca26\"], [1.0, \"#f0f921\"]]}, \"colorway\": [\"#636efa\", \"#EF553B\", \"#00cc96\", \"#ab63fa\", \"#FFA15A\", \"#19d3f3\", \"#FF6692\", \"#B6E880\", \"#FF97FF\", \"#FECB52\"], \"font\": {\"color\": \"#2a3f5f\"}, \"geo\": {\"bgcolor\": \"white\", \"lakecolor\": \"white\", \"landcolor\": \"#E5ECF6\", \"showlakes\": true, \"showland\": true, \"subunitcolor\": \"white\"}, \"hoverlabel\": {\"align\": \"left\"}, \"hovermode\": \"closest\", \"mapbox\": {\"style\": \"light\"}, \"paper_bgcolor\": \"white\", \"plot_bgcolor\": \"#E5ECF6\", \"polar\": {\"angularaxis\": {\"gridcolor\": \"white\", \"linecolor\": \"white\", \"ticks\": \"\"}, \"bgcolor\": \"#E5ECF6\", \"radialaxis\": {\"gridcolor\": \"white\", \"linecolor\": \"white\", \"ticks\": \"\"}}, \"scene\": {\"xaxis\": {\"backgroundcolor\": \"#E5ECF6\", \"gridcolor\": \"white\", \"gridwidth\": 2, \"linecolor\": \"white\", \"showbackground\": true, \"ticks\": \"\", \"zerolinecolor\": \"white\"}, \"yaxis\": {\"backgroundcolor\": \"#E5ECF6\", \"gridcolor\": \"white\", \"gridwidth\": 2, \"linecolor\": \"white\", \"showbackground\": true, \"ticks\": \"\", \"zerolinecolor\": \"white\"}, \"zaxis\": {\"backgroundcolor\": \"#E5ECF6\", \"gridcolor\": \"white\", \"gridwidth\": 2, \"linecolor\": \"white\", \"showbackground\": true, \"ticks\": \"\", \"zerolinecolor\": \"white\"}}, \"shapedefaults\": {\"line\": {\"color\": \"#2a3f5f\"}}, \"ternary\": {\"aaxis\": {\"gridcolor\": \"white\", \"linecolor\": \"white\", \"ticks\": \"\"}, \"baxis\": {\"gridcolor\": \"white\", \"linecolor\": \"white\", \"ticks\": \"\"}, \"bgcolor\": \"#E5ECF6\", \"caxis\": {\"gridcolor\": \"white\", \"linecolor\": \"white\", \"ticks\": \"\"}}, \"title\": {\"x\": 0.05}, \"xaxis\": {\"automargin\": true, \"gridcolor\": \"white\", \"linecolor\": \"white\", \"ticks\": \"\", \"title\": {\"standoff\": 15}, \"zerolinecolor\": \"white\", \"zerolinewidth\": 2}, \"yaxis\": {\"automargin\": true, \"gridcolor\": \"white\", \"linecolor\": \"white\", \"ticks\": \"\", \"title\": {\"standoff\": 15}, \"zerolinecolor\": \"white\", \"zerolinewidth\": 2}}}, \"width\": 1200},                        {\"responsive\": true}                    ).then(function(){\n",
       "                            \n",
       "var gd = document.getElementById('b376a504-46d3-4b51-870b-c843a608c9c8');\n",
       "var x = new MutationObserver(function (mutations, observer) {{\n",
       "        var display = window.getComputedStyle(gd).display;\n",
       "        if (!display || display === 'none') {{\n",
       "            console.log([gd, 'removed!']);\n",
       "            Plotly.purge(gd);\n",
       "            observer.disconnect();\n",
       "        }}\n",
       "}});\n",
       "\n",
       "// Listen for the removal of the full notebook cells\n",
       "var notebookContainer = gd.closest('#notebook-container');\n",
       "if (notebookContainer) {{\n",
       "    x.observe(notebookContainer, {childList: true});\n",
       "}}\n",
       "\n",
       "// Listen for the clearing of the current output cell\n",
       "var outputEl = gd.closest('.output');\n",
       "if (outputEl) {{\n",
       "    x.observe(outputEl, {childList: true});\n",
       "}}\n",
       "\n",
       "                        })                };                });            </script>        </div>"
      ]
     },
     "metadata": {},
     "output_type": "display_data"
    }
   ],
   "source": [
    "fig = px.scatter_matrix(df,\n",
    "width=1200, height=1600)\n",
    "fig.show()"
   ]
  },
  {
   "cell_type": "code",
   "execution_count": 127,
   "id": "09e48b95",
   "metadata": {},
   "outputs": [
    {
     "data": {
      "application/vnd.plotly.v1+json": {
       "config": {
        "plotlyServerURL": "https://plot.ly"
       },
       "data": [
        {
         "hovertemplate": "number_of_bursting_channels=%{x}<br>number_of_spikes=%{y}<br>number_burst_starts=%{marker.size}<br>number_channels_with_lfp_up=%{marker.color}<extra></extra>",
         "legendgroup": "",
         "marker": {
          "color": [
           0,
           0,
           0,
           0,
           0,
           0,
           1,
           0,
           0,
           1,
           0,
           1,
           0,
           0,
           0,
           1,
           53,
           3,
           0,
           1,
           0,
           61,
           0,
           0,
           0,
           64,
           0,
           4,
           1
          ],
          "coloraxis": "coloraxis",
          "size": [
           6,
           5,
           7,
           7,
           5,
           5,
           6,
           6,
           7,
           6,
           6,
           7,
           4,
           9,
           7,
           5,
           11,
           6,
           8,
           5,
           6,
           43,
           9,
           11,
           6,
           39,
           6,
           178,
           7
          ],
          "sizemode": "area",
          "sizeref": 0.445,
          "symbol": "circle"
         },
         "mode": "markers",
         "name": "",
         "orientation": "v",
         "showlegend": false,
         "type": "scatter",
         "x": [
          6,
          3,
          4,
          4,
          5,
          5,
          6,
          4,
          4,
          6,
          4,
          3,
          4,
          7,
          5,
          5,
          8,
          4,
          6,
          5,
          4,
          37,
          6,
          5,
          5,
          38,
          5,
          178,
          5
         ],
         "xaxis": "x",
         "y": [
          49,
          65,
          51,
          80,
          46,
          66,
          48,
          73,
          73,
          43,
          48,
          89,
          63,
          77,
          65,
          47,
          846,
          60,
          71,
          187,
          63,
          442,
          76,
          101,
          67,
          505,
          75,
          1037,
          65
         ],
         "yaxis": "y"
        }
       ],
       "layout": {
        "coloraxis": {
         "colorbar": {
          "title": {
           "text": "number_channels_with_lfp_up"
          }
         },
         "colorscale": [
          [
           0,
           "#0d0887"
          ],
          [
           0.1111111111111111,
           "#46039f"
          ],
          [
           0.2222222222222222,
           "#7201a8"
          ],
          [
           0.3333333333333333,
           "#9c179e"
          ],
          [
           0.4444444444444444,
           "#bd3786"
          ],
          [
           0.5555555555555556,
           "#d8576b"
          ],
          [
           0.6666666666666666,
           "#ed7953"
          ],
          [
           0.7777777777777778,
           "#fb9f3a"
          ],
          [
           0.8888888888888888,
           "#fdca26"
          ],
          [
           1,
           "#f0f921"
          ]
         ]
        },
        "legend": {
         "itemsizing": "constant",
         "tracegroupgap": 0
        },
        "margin": {
         "t": 60
        },
        "template": {
         "data": {
          "bar": [
           {
            "error_x": {
             "color": "#2a3f5f"
            },
            "error_y": {
             "color": "#2a3f5f"
            },
            "marker": {
             "line": {
              "color": "#E5ECF6",
              "width": 0.5
             }
            },
            "type": "bar"
           }
          ],
          "barpolar": [
           {
            "marker": {
             "line": {
              "color": "#E5ECF6",
              "width": 0.5
             }
            },
            "type": "barpolar"
           }
          ],
          "carpet": [
           {
            "aaxis": {
             "endlinecolor": "#2a3f5f",
             "gridcolor": "white",
             "linecolor": "white",
             "minorgridcolor": "white",
             "startlinecolor": "#2a3f5f"
            },
            "baxis": {
             "endlinecolor": "#2a3f5f",
             "gridcolor": "white",
             "linecolor": "white",
             "minorgridcolor": "white",
             "startlinecolor": "#2a3f5f"
            },
            "type": "carpet"
           }
          ],
          "choropleth": [
           {
            "colorbar": {
             "outlinewidth": 0,
             "ticks": ""
            },
            "type": "choropleth"
           }
          ],
          "contour": [
           {
            "colorbar": {
             "outlinewidth": 0,
             "ticks": ""
            },
            "colorscale": [
             [
              0,
              "#0d0887"
             ],
             [
              0.1111111111111111,
              "#46039f"
             ],
             [
              0.2222222222222222,
              "#7201a8"
             ],
             [
              0.3333333333333333,
              "#9c179e"
             ],
             [
              0.4444444444444444,
              "#bd3786"
             ],
             [
              0.5555555555555556,
              "#d8576b"
             ],
             [
              0.6666666666666666,
              "#ed7953"
             ],
             [
              0.7777777777777778,
              "#fb9f3a"
             ],
             [
              0.8888888888888888,
              "#fdca26"
             ],
             [
              1,
              "#f0f921"
             ]
            ],
            "type": "contour"
           }
          ],
          "contourcarpet": [
           {
            "colorbar": {
             "outlinewidth": 0,
             "ticks": ""
            },
            "type": "contourcarpet"
           }
          ],
          "heatmap": [
           {
            "colorbar": {
             "outlinewidth": 0,
             "ticks": ""
            },
            "colorscale": [
             [
              0,
              "#0d0887"
             ],
             [
              0.1111111111111111,
              "#46039f"
             ],
             [
              0.2222222222222222,
              "#7201a8"
             ],
             [
              0.3333333333333333,
              "#9c179e"
             ],
             [
              0.4444444444444444,
              "#bd3786"
             ],
             [
              0.5555555555555556,
              "#d8576b"
             ],
             [
              0.6666666666666666,
              "#ed7953"
             ],
             [
              0.7777777777777778,
              "#fb9f3a"
             ],
             [
              0.8888888888888888,
              "#fdca26"
             ],
             [
              1,
              "#f0f921"
             ]
            ],
            "type": "heatmap"
           }
          ],
          "heatmapgl": [
           {
            "colorbar": {
             "outlinewidth": 0,
             "ticks": ""
            },
            "colorscale": [
             [
              0,
              "#0d0887"
             ],
             [
              0.1111111111111111,
              "#46039f"
             ],
             [
              0.2222222222222222,
              "#7201a8"
             ],
             [
              0.3333333333333333,
              "#9c179e"
             ],
             [
              0.4444444444444444,
              "#bd3786"
             ],
             [
              0.5555555555555556,
              "#d8576b"
             ],
             [
              0.6666666666666666,
              "#ed7953"
             ],
             [
              0.7777777777777778,
              "#fb9f3a"
             ],
             [
              0.8888888888888888,
              "#fdca26"
             ],
             [
              1,
              "#f0f921"
             ]
            ],
            "type": "heatmapgl"
           }
          ],
          "histogram": [
           {
            "marker": {
             "colorbar": {
              "outlinewidth": 0,
              "ticks": ""
             }
            },
            "type": "histogram"
           }
          ],
          "histogram2d": [
           {
            "colorbar": {
             "outlinewidth": 0,
             "ticks": ""
            },
            "colorscale": [
             [
              0,
              "#0d0887"
             ],
             [
              0.1111111111111111,
              "#46039f"
             ],
             [
              0.2222222222222222,
              "#7201a8"
             ],
             [
              0.3333333333333333,
              "#9c179e"
             ],
             [
              0.4444444444444444,
              "#bd3786"
             ],
             [
              0.5555555555555556,
              "#d8576b"
             ],
             [
              0.6666666666666666,
              "#ed7953"
             ],
             [
              0.7777777777777778,
              "#fb9f3a"
             ],
             [
              0.8888888888888888,
              "#fdca26"
             ],
             [
              1,
              "#f0f921"
             ]
            ],
            "type": "histogram2d"
           }
          ],
          "histogram2dcontour": [
           {
            "colorbar": {
             "outlinewidth": 0,
             "ticks": ""
            },
            "colorscale": [
             [
              0,
              "#0d0887"
             ],
             [
              0.1111111111111111,
              "#46039f"
             ],
             [
              0.2222222222222222,
              "#7201a8"
             ],
             [
              0.3333333333333333,
              "#9c179e"
             ],
             [
              0.4444444444444444,
              "#bd3786"
             ],
             [
              0.5555555555555556,
              "#d8576b"
             ],
             [
              0.6666666666666666,
              "#ed7953"
             ],
             [
              0.7777777777777778,
              "#fb9f3a"
             ],
             [
              0.8888888888888888,
              "#fdca26"
             ],
             [
              1,
              "#f0f921"
             ]
            ],
            "type": "histogram2dcontour"
           }
          ],
          "mesh3d": [
           {
            "colorbar": {
             "outlinewidth": 0,
             "ticks": ""
            },
            "type": "mesh3d"
           }
          ],
          "parcoords": [
           {
            "line": {
             "colorbar": {
              "outlinewidth": 0,
              "ticks": ""
             }
            },
            "type": "parcoords"
           }
          ],
          "pie": [
           {
            "automargin": true,
            "type": "pie"
           }
          ],
          "scatter": [
           {
            "marker": {
             "colorbar": {
              "outlinewidth": 0,
              "ticks": ""
             }
            },
            "type": "scatter"
           }
          ],
          "scatter3d": [
           {
            "line": {
             "colorbar": {
              "outlinewidth": 0,
              "ticks": ""
             }
            },
            "marker": {
             "colorbar": {
              "outlinewidth": 0,
              "ticks": ""
             }
            },
            "type": "scatter3d"
           }
          ],
          "scattercarpet": [
           {
            "marker": {
             "colorbar": {
              "outlinewidth": 0,
              "ticks": ""
             }
            },
            "type": "scattercarpet"
           }
          ],
          "scattergeo": [
           {
            "marker": {
             "colorbar": {
              "outlinewidth": 0,
              "ticks": ""
             }
            },
            "type": "scattergeo"
           }
          ],
          "scattergl": [
           {
            "marker": {
             "colorbar": {
              "outlinewidth": 0,
              "ticks": ""
             }
            },
            "type": "scattergl"
           }
          ],
          "scattermapbox": [
           {
            "marker": {
             "colorbar": {
              "outlinewidth": 0,
              "ticks": ""
             }
            },
            "type": "scattermapbox"
           }
          ],
          "scatterpolar": [
           {
            "marker": {
             "colorbar": {
              "outlinewidth": 0,
              "ticks": ""
             }
            },
            "type": "scatterpolar"
           }
          ],
          "scatterpolargl": [
           {
            "marker": {
             "colorbar": {
              "outlinewidth": 0,
              "ticks": ""
             }
            },
            "type": "scatterpolargl"
           }
          ],
          "scatterternary": [
           {
            "marker": {
             "colorbar": {
              "outlinewidth": 0,
              "ticks": ""
             }
            },
            "type": "scatterternary"
           }
          ],
          "surface": [
           {
            "colorbar": {
             "outlinewidth": 0,
             "ticks": ""
            },
            "colorscale": [
             [
              0,
              "#0d0887"
             ],
             [
              0.1111111111111111,
              "#46039f"
             ],
             [
              0.2222222222222222,
              "#7201a8"
             ],
             [
              0.3333333333333333,
              "#9c179e"
             ],
             [
              0.4444444444444444,
              "#bd3786"
             ],
             [
              0.5555555555555556,
              "#d8576b"
             ],
             [
              0.6666666666666666,
              "#ed7953"
             ],
             [
              0.7777777777777778,
              "#fb9f3a"
             ],
             [
              0.8888888888888888,
              "#fdca26"
             ],
             [
              1,
              "#f0f921"
             ]
            ],
            "type": "surface"
           }
          ],
          "table": [
           {
            "cells": {
             "fill": {
              "color": "#EBF0F8"
             },
             "line": {
              "color": "white"
             }
            },
            "header": {
             "fill": {
              "color": "#C8D4E3"
             },
             "line": {
              "color": "white"
             }
            },
            "type": "table"
           }
          ]
         },
         "layout": {
          "annotationdefaults": {
           "arrowcolor": "#2a3f5f",
           "arrowhead": 0,
           "arrowwidth": 1
          },
          "autotypenumbers": "strict",
          "coloraxis": {
           "colorbar": {
            "outlinewidth": 0,
            "ticks": ""
           }
          },
          "colorscale": {
           "diverging": [
            [
             0,
             "#8e0152"
            ],
            [
             0.1,
             "#c51b7d"
            ],
            [
             0.2,
             "#de77ae"
            ],
            [
             0.3,
             "#f1b6da"
            ],
            [
             0.4,
             "#fde0ef"
            ],
            [
             0.5,
             "#f7f7f7"
            ],
            [
             0.6,
             "#e6f5d0"
            ],
            [
             0.7,
             "#b8e186"
            ],
            [
             0.8,
             "#7fbc41"
            ],
            [
             0.9,
             "#4d9221"
            ],
            [
             1,
             "#276419"
            ]
           ],
           "sequential": [
            [
             0,
             "#0d0887"
            ],
            [
             0.1111111111111111,
             "#46039f"
            ],
            [
             0.2222222222222222,
             "#7201a8"
            ],
            [
             0.3333333333333333,
             "#9c179e"
            ],
            [
             0.4444444444444444,
             "#bd3786"
            ],
            [
             0.5555555555555556,
             "#d8576b"
            ],
            [
             0.6666666666666666,
             "#ed7953"
            ],
            [
             0.7777777777777778,
             "#fb9f3a"
            ],
            [
             0.8888888888888888,
             "#fdca26"
            ],
            [
             1,
             "#f0f921"
            ]
           ],
           "sequentialminus": [
            [
             0,
             "#0d0887"
            ],
            [
             0.1111111111111111,
             "#46039f"
            ],
            [
             0.2222222222222222,
             "#7201a8"
            ],
            [
             0.3333333333333333,
             "#9c179e"
            ],
            [
             0.4444444444444444,
             "#bd3786"
            ],
            [
             0.5555555555555556,
             "#d8576b"
            ],
            [
             0.6666666666666666,
             "#ed7953"
            ],
            [
             0.7777777777777778,
             "#fb9f3a"
            ],
            [
             0.8888888888888888,
             "#fdca26"
            ],
            [
             1,
             "#f0f921"
            ]
           ]
          },
          "colorway": [
           "#636efa",
           "#EF553B",
           "#00cc96",
           "#ab63fa",
           "#FFA15A",
           "#19d3f3",
           "#FF6692",
           "#B6E880",
           "#FF97FF",
           "#FECB52"
          ],
          "font": {
           "color": "#2a3f5f"
          },
          "geo": {
           "bgcolor": "white",
           "lakecolor": "white",
           "landcolor": "#E5ECF6",
           "showlakes": true,
           "showland": true,
           "subunitcolor": "white"
          },
          "hoverlabel": {
           "align": "left"
          },
          "hovermode": "closest",
          "mapbox": {
           "style": "light"
          },
          "paper_bgcolor": "white",
          "plot_bgcolor": "#E5ECF6",
          "polar": {
           "angularaxis": {
            "gridcolor": "white",
            "linecolor": "white",
            "ticks": ""
           },
           "bgcolor": "#E5ECF6",
           "radialaxis": {
            "gridcolor": "white",
            "linecolor": "white",
            "ticks": ""
           }
          },
          "scene": {
           "xaxis": {
            "backgroundcolor": "#E5ECF6",
            "gridcolor": "white",
            "gridwidth": 2,
            "linecolor": "white",
            "showbackground": true,
            "ticks": "",
            "zerolinecolor": "white"
           },
           "yaxis": {
            "backgroundcolor": "#E5ECF6",
            "gridcolor": "white",
            "gridwidth": 2,
            "linecolor": "white",
            "showbackground": true,
            "ticks": "",
            "zerolinecolor": "white"
           },
           "zaxis": {
            "backgroundcolor": "#E5ECF6",
            "gridcolor": "white",
            "gridwidth": 2,
            "linecolor": "white",
            "showbackground": true,
            "ticks": "",
            "zerolinecolor": "white"
           }
          },
          "shapedefaults": {
           "line": {
            "color": "#2a3f5f"
           }
          },
          "ternary": {
           "aaxis": {
            "gridcolor": "white",
            "linecolor": "white",
            "ticks": ""
           },
           "baxis": {
            "gridcolor": "white",
            "linecolor": "white",
            "ticks": ""
           },
           "bgcolor": "#E5ECF6",
           "caxis": {
            "gridcolor": "white",
            "linecolor": "white",
            "ticks": ""
           }
          },
          "title": {
           "x": 0.05
          },
          "xaxis": {
           "automargin": true,
           "gridcolor": "white",
           "linecolor": "white",
           "ticks": "",
           "title": {
            "standoff": 15
           },
           "zerolinecolor": "white",
           "zerolinewidth": 2
          },
          "yaxis": {
           "automargin": true,
           "gridcolor": "white",
           "linecolor": "white",
           "ticks": "",
           "title": {
            "standoff": 15
           },
           "zerolinecolor": "white",
           "zerolinewidth": 2
          }
         }
        },
        "title": {
         "text": "4 Features Representation"
        },
        "xaxis": {
         "anchor": "y",
         "domain": [
          0,
          1
         ],
         "title": {
          "text": "number_of_bursting_channels"
         }
        },
        "yaxis": {
         "anchor": "x",
         "domain": [
          0,
          1
         ],
         "title": {
          "text": "number_of_spikes"
         }
        }
       }
      },
      "text/html": [
       "<div>                            <div id=\"235c3ff6-99cd-4bc8-a154-5cd2366fc2d3\" class=\"plotly-graph-div\" style=\"height:525px; width:100%;\"></div>            <script type=\"text/javascript\">                require([\"plotly\"], function(Plotly) {                    window.PLOTLYENV=window.PLOTLYENV || {};                                    if (document.getElementById(\"235c3ff6-99cd-4bc8-a154-5cd2366fc2d3\")) {                    Plotly.newPlot(                        \"235c3ff6-99cd-4bc8-a154-5cd2366fc2d3\",                        [{\"hovertemplate\": \"number_of_bursting_channels=%{x}<br>number_of_spikes=%{y}<br>number_burst_starts=%{marker.size}<br>number_channels_with_lfp_up=%{marker.color}<extra></extra>\", \"legendgroup\": \"\", \"marker\": {\"color\": [0, 0, 0, 0, 0, 0, 1, 0, 0, 1, 0, 1, 0, 0, 0, 1, 53, 3, 0, 1, 0, 61, 0, 0, 0, 64, 0, 4, 1], \"coloraxis\": \"coloraxis\", \"size\": [6, 5, 7, 7, 5, 5, 6, 6, 7, 6, 6, 7, 4, 9, 7, 5, 11, 6, 8, 5, 6, 43, 9, 11, 6, 39, 6, 178, 7], \"sizemode\": \"area\", \"sizeref\": 0.445, \"symbol\": \"circle\"}, \"mode\": \"markers\", \"name\": \"\", \"orientation\": \"v\", \"showlegend\": false, \"type\": \"scatter\", \"x\": [6, 3, 4, 4, 5, 5, 6, 4, 4, 6, 4, 3, 4, 7, 5, 5, 8, 4, 6, 5, 4, 37, 6, 5, 5, 38, 5, 178, 5], \"xaxis\": \"x\", \"y\": [49, 65, 51, 80, 46, 66, 48, 73, 73, 43, 48, 89, 63, 77, 65, 47, 846, 60, 71, 187, 63, 442, 76, 101, 67, 505, 75, 1037, 65], \"yaxis\": \"y\"}],                        {\"coloraxis\": {\"colorbar\": {\"title\": {\"text\": \"number_channels_with_lfp_up\"}}, \"colorscale\": [[0.0, \"#0d0887\"], [0.1111111111111111, \"#46039f\"], [0.2222222222222222, \"#7201a8\"], [0.3333333333333333, \"#9c179e\"], [0.4444444444444444, \"#bd3786\"], [0.5555555555555556, \"#d8576b\"], [0.6666666666666666, \"#ed7953\"], [0.7777777777777778, \"#fb9f3a\"], [0.8888888888888888, \"#fdca26\"], [1.0, \"#f0f921\"]]}, \"legend\": {\"itemsizing\": \"constant\", \"tracegroupgap\": 0}, \"margin\": {\"t\": 60}, \"template\": {\"data\": {\"bar\": [{\"error_x\": {\"color\": \"#2a3f5f\"}, \"error_y\": {\"color\": \"#2a3f5f\"}, \"marker\": {\"line\": {\"color\": \"#E5ECF6\", \"width\": 0.5}}, \"type\": \"bar\"}], \"barpolar\": [{\"marker\": {\"line\": {\"color\": \"#E5ECF6\", \"width\": 0.5}}, \"type\": \"barpolar\"}], \"carpet\": [{\"aaxis\": {\"endlinecolor\": \"#2a3f5f\", \"gridcolor\": \"white\", \"linecolor\": \"white\", \"minorgridcolor\": \"white\", \"startlinecolor\": \"#2a3f5f\"}, \"baxis\": {\"endlinecolor\": \"#2a3f5f\", \"gridcolor\": \"white\", \"linecolor\": \"white\", \"minorgridcolor\": \"white\", \"startlinecolor\": \"#2a3f5f\"}, \"type\": \"carpet\"}], \"choropleth\": [{\"colorbar\": {\"outlinewidth\": 0, \"ticks\": \"\"}, \"type\": \"choropleth\"}], \"contour\": [{\"colorbar\": {\"outlinewidth\": 0, \"ticks\": \"\"}, \"colorscale\": [[0.0, \"#0d0887\"], [0.1111111111111111, \"#46039f\"], [0.2222222222222222, \"#7201a8\"], [0.3333333333333333, \"#9c179e\"], [0.4444444444444444, \"#bd3786\"], [0.5555555555555556, \"#d8576b\"], [0.6666666666666666, \"#ed7953\"], [0.7777777777777778, \"#fb9f3a\"], [0.8888888888888888, \"#fdca26\"], [1.0, \"#f0f921\"]], \"type\": \"contour\"}], \"contourcarpet\": [{\"colorbar\": {\"outlinewidth\": 0, \"ticks\": \"\"}, \"type\": \"contourcarpet\"}], \"heatmap\": [{\"colorbar\": {\"outlinewidth\": 0, \"ticks\": \"\"}, \"colorscale\": [[0.0, \"#0d0887\"], [0.1111111111111111, \"#46039f\"], [0.2222222222222222, \"#7201a8\"], [0.3333333333333333, \"#9c179e\"], [0.4444444444444444, \"#bd3786\"], [0.5555555555555556, \"#d8576b\"], [0.6666666666666666, \"#ed7953\"], [0.7777777777777778, \"#fb9f3a\"], [0.8888888888888888, \"#fdca26\"], [1.0, \"#f0f921\"]], \"type\": \"heatmap\"}], \"heatmapgl\": [{\"colorbar\": {\"outlinewidth\": 0, \"ticks\": \"\"}, \"colorscale\": [[0.0, \"#0d0887\"], [0.1111111111111111, \"#46039f\"], [0.2222222222222222, \"#7201a8\"], [0.3333333333333333, \"#9c179e\"], [0.4444444444444444, \"#bd3786\"], [0.5555555555555556, \"#d8576b\"], [0.6666666666666666, \"#ed7953\"], [0.7777777777777778, \"#fb9f3a\"], [0.8888888888888888, \"#fdca26\"], [1.0, \"#f0f921\"]], \"type\": \"heatmapgl\"}], \"histogram\": [{\"marker\": {\"colorbar\": {\"outlinewidth\": 0, \"ticks\": \"\"}}, \"type\": \"histogram\"}], \"histogram2d\": [{\"colorbar\": {\"outlinewidth\": 0, \"ticks\": \"\"}, \"colorscale\": [[0.0, \"#0d0887\"], [0.1111111111111111, \"#46039f\"], [0.2222222222222222, \"#7201a8\"], [0.3333333333333333, \"#9c179e\"], [0.4444444444444444, \"#bd3786\"], [0.5555555555555556, \"#d8576b\"], [0.6666666666666666, \"#ed7953\"], [0.7777777777777778, \"#fb9f3a\"], [0.8888888888888888, \"#fdca26\"], [1.0, \"#f0f921\"]], \"type\": \"histogram2d\"}], \"histogram2dcontour\": [{\"colorbar\": {\"outlinewidth\": 0, \"ticks\": \"\"}, \"colorscale\": [[0.0, \"#0d0887\"], [0.1111111111111111, \"#46039f\"], [0.2222222222222222, \"#7201a8\"], [0.3333333333333333, \"#9c179e\"], [0.4444444444444444, \"#bd3786\"], [0.5555555555555556, \"#d8576b\"], [0.6666666666666666, \"#ed7953\"], [0.7777777777777778, \"#fb9f3a\"], [0.8888888888888888, \"#fdca26\"], [1.0, \"#f0f921\"]], \"type\": \"histogram2dcontour\"}], \"mesh3d\": [{\"colorbar\": {\"outlinewidth\": 0, \"ticks\": \"\"}, \"type\": \"mesh3d\"}], \"parcoords\": [{\"line\": {\"colorbar\": {\"outlinewidth\": 0, \"ticks\": \"\"}}, \"type\": \"parcoords\"}], \"pie\": [{\"automargin\": true, \"type\": \"pie\"}], \"scatter\": [{\"marker\": {\"colorbar\": {\"outlinewidth\": 0, \"ticks\": \"\"}}, \"type\": \"scatter\"}], \"scatter3d\": [{\"line\": {\"colorbar\": {\"outlinewidth\": 0, \"ticks\": \"\"}}, \"marker\": {\"colorbar\": {\"outlinewidth\": 0, \"ticks\": \"\"}}, \"type\": \"scatter3d\"}], \"scattercarpet\": [{\"marker\": {\"colorbar\": {\"outlinewidth\": 0, \"ticks\": \"\"}}, \"type\": \"scattercarpet\"}], \"scattergeo\": [{\"marker\": {\"colorbar\": {\"outlinewidth\": 0, \"ticks\": \"\"}}, \"type\": \"scattergeo\"}], \"scattergl\": [{\"marker\": {\"colorbar\": {\"outlinewidth\": 0, \"ticks\": \"\"}}, \"type\": \"scattergl\"}], \"scattermapbox\": [{\"marker\": {\"colorbar\": {\"outlinewidth\": 0, \"ticks\": \"\"}}, \"type\": \"scattermapbox\"}], \"scatterpolar\": [{\"marker\": {\"colorbar\": {\"outlinewidth\": 0, \"ticks\": \"\"}}, \"type\": \"scatterpolar\"}], \"scatterpolargl\": [{\"marker\": {\"colorbar\": {\"outlinewidth\": 0, \"ticks\": \"\"}}, \"type\": \"scatterpolargl\"}], \"scatterternary\": [{\"marker\": {\"colorbar\": {\"outlinewidth\": 0, \"ticks\": \"\"}}, \"type\": \"scatterternary\"}], \"surface\": [{\"colorbar\": {\"outlinewidth\": 0, \"ticks\": \"\"}, \"colorscale\": [[0.0, \"#0d0887\"], [0.1111111111111111, \"#46039f\"], [0.2222222222222222, \"#7201a8\"], [0.3333333333333333, \"#9c179e\"], [0.4444444444444444, \"#bd3786\"], [0.5555555555555556, \"#d8576b\"], [0.6666666666666666, \"#ed7953\"], [0.7777777777777778, \"#fb9f3a\"], [0.8888888888888888, \"#fdca26\"], [1.0, \"#f0f921\"]], \"type\": \"surface\"}], \"table\": [{\"cells\": {\"fill\": {\"color\": \"#EBF0F8\"}, \"line\": {\"color\": \"white\"}}, \"header\": {\"fill\": {\"color\": \"#C8D4E3\"}, \"line\": {\"color\": \"white\"}}, \"type\": \"table\"}]}, \"layout\": {\"annotationdefaults\": {\"arrowcolor\": \"#2a3f5f\", \"arrowhead\": 0, \"arrowwidth\": 1}, \"autotypenumbers\": \"strict\", \"coloraxis\": {\"colorbar\": {\"outlinewidth\": 0, \"ticks\": \"\"}}, \"colorscale\": {\"diverging\": [[0, \"#8e0152\"], [0.1, \"#c51b7d\"], [0.2, \"#de77ae\"], [0.3, \"#f1b6da\"], [0.4, \"#fde0ef\"], [0.5, \"#f7f7f7\"], [0.6, \"#e6f5d0\"], [0.7, \"#b8e186\"], [0.8, \"#7fbc41\"], [0.9, \"#4d9221\"], [1, \"#276419\"]], \"sequential\": [[0.0, \"#0d0887\"], [0.1111111111111111, \"#46039f\"], [0.2222222222222222, \"#7201a8\"], [0.3333333333333333, \"#9c179e\"], [0.4444444444444444, \"#bd3786\"], [0.5555555555555556, \"#d8576b\"], [0.6666666666666666, \"#ed7953\"], [0.7777777777777778, \"#fb9f3a\"], [0.8888888888888888, \"#fdca26\"], [1.0, \"#f0f921\"]], \"sequentialminus\": [[0.0, \"#0d0887\"], [0.1111111111111111, \"#46039f\"], [0.2222222222222222, \"#7201a8\"], [0.3333333333333333, \"#9c179e\"], [0.4444444444444444, \"#bd3786\"], [0.5555555555555556, \"#d8576b\"], [0.6666666666666666, \"#ed7953\"], [0.7777777777777778, \"#fb9f3a\"], [0.8888888888888888, \"#fdca26\"], [1.0, \"#f0f921\"]]}, \"colorway\": [\"#636efa\", \"#EF553B\", \"#00cc96\", \"#ab63fa\", \"#FFA15A\", \"#19d3f3\", \"#FF6692\", \"#B6E880\", \"#FF97FF\", \"#FECB52\"], \"font\": {\"color\": \"#2a3f5f\"}, \"geo\": {\"bgcolor\": \"white\", \"lakecolor\": \"white\", \"landcolor\": \"#E5ECF6\", \"showlakes\": true, \"showland\": true, \"subunitcolor\": \"white\"}, \"hoverlabel\": {\"align\": \"left\"}, \"hovermode\": \"closest\", \"mapbox\": {\"style\": \"light\"}, \"paper_bgcolor\": \"white\", \"plot_bgcolor\": \"#E5ECF6\", \"polar\": {\"angularaxis\": {\"gridcolor\": \"white\", \"linecolor\": \"white\", \"ticks\": \"\"}, \"bgcolor\": \"#E5ECF6\", \"radialaxis\": {\"gridcolor\": \"white\", \"linecolor\": \"white\", \"ticks\": \"\"}}, \"scene\": {\"xaxis\": {\"backgroundcolor\": \"#E5ECF6\", \"gridcolor\": \"white\", \"gridwidth\": 2, \"linecolor\": \"white\", \"showbackground\": true, \"ticks\": \"\", \"zerolinecolor\": \"white\"}, \"yaxis\": {\"backgroundcolor\": \"#E5ECF6\", \"gridcolor\": \"white\", \"gridwidth\": 2, \"linecolor\": \"white\", \"showbackground\": true, \"ticks\": \"\", \"zerolinecolor\": \"white\"}, \"zaxis\": {\"backgroundcolor\": \"#E5ECF6\", \"gridcolor\": \"white\", \"gridwidth\": 2, \"linecolor\": \"white\", \"showbackground\": true, \"ticks\": \"\", \"zerolinecolor\": \"white\"}}, \"shapedefaults\": {\"line\": {\"color\": \"#2a3f5f\"}}, \"ternary\": {\"aaxis\": {\"gridcolor\": \"white\", \"linecolor\": \"white\", \"ticks\": \"\"}, \"baxis\": {\"gridcolor\": \"white\", \"linecolor\": \"white\", \"ticks\": \"\"}, \"bgcolor\": \"#E5ECF6\", \"caxis\": {\"gridcolor\": \"white\", \"linecolor\": \"white\", \"ticks\": \"\"}}, \"title\": {\"x\": 0.05}, \"xaxis\": {\"automargin\": true, \"gridcolor\": \"white\", \"linecolor\": \"white\", \"ticks\": \"\", \"title\": {\"standoff\": 15}, \"zerolinecolor\": \"white\", \"zerolinewidth\": 2}, \"yaxis\": {\"automargin\": true, \"gridcolor\": \"white\", \"linecolor\": \"white\", \"ticks\": \"\", \"title\": {\"standoff\": 15}, \"zerolinecolor\": \"white\", \"zerolinewidth\": 2}}}, \"title\": {\"text\": \"4 Features Representation\"}, \"xaxis\": {\"anchor\": \"y\", \"domain\": [0.0, 1.0], \"title\": {\"text\": \"number_of_bursting_channels\"}}, \"yaxis\": {\"anchor\": \"x\", \"domain\": [0.0, 1.0], \"title\": {\"text\": \"number_of_spikes\"}}},                        {\"responsive\": true}                    ).then(function(){\n",
       "                            \n",
       "var gd = document.getElementById('235c3ff6-99cd-4bc8-a154-5cd2366fc2d3');\n",
       "var x = new MutationObserver(function (mutations, observer) {{\n",
       "        var display = window.getComputedStyle(gd).display;\n",
       "        if (!display || display === 'none') {{\n",
       "            console.log([gd, 'removed!']);\n",
       "            Plotly.purge(gd);\n",
       "            observer.disconnect();\n",
       "        }}\n",
       "}});\n",
       "\n",
       "// Listen for the removal of the full notebook cells\n",
       "var notebookContainer = gd.closest('#notebook-container');\n",
       "if (notebookContainer) {{\n",
       "    x.observe(notebookContainer, {childList: true});\n",
       "}}\n",
       "\n",
       "// Listen for the clearing of the current output cell\n",
       "var outputEl = gd.closest('.output');\n",
       "if (outputEl) {{\n",
       "    x.observe(outputEl, {childList: true});\n",
       "}}\n",
       "\n",
       "                        })                };                });            </script>        </div>"
      ]
     },
     "metadata": {},
     "output_type": "display_data"
    }
   ],
   "source": [
    "fig1 = px.scatter(df, x=\"number_of_bursting_channels\", y=\"number_of_spikes\", color=\"number_channels_with_lfp_up\",\n",
    "                 size=\"number_burst_starts\")\n",
    "fig1.update_layout(title=\"4 Features Representation\")\n",
    "fig1.show()"
   ]
  },
  {
   "cell_type": "code",
   "execution_count": 93,
   "id": "27f17f37",
   "metadata": {},
   "outputs": [
    {
     "data": {
      "application/vnd.plotly.v1+json": {
       "config": {
        "plotlyServerURL": "https://plot.ly"
       },
       "data": [
        {
         "hovertemplate": "number_of_bursting_channels=%{x}<br>number_channels_with_lfp_up=%{y}<br>number_channels_with_lfp_down=%{z}<br>number_of_spikes=%{marker.size}<br>number_burst_starts=%{marker.color}<extra></extra>",
         "legendgroup": "",
         "marker": {
          "color": [
           6,
           5,
           7,
           7,
           5,
           5,
           6,
           6,
           7,
           6,
           6,
           7,
           4,
           9,
           7,
           5,
           11,
           6,
           8,
           5,
           6,
           43,
           9,
           11,
           6,
           39,
           6,
           178,
           7
          ],
          "coloraxis": "coloraxis",
          "size": [
           49,
           65,
           51,
           80,
           46,
           66,
           48,
           73,
           73,
           43,
           48,
           89,
           63,
           77,
           65,
           47,
           846,
           60,
           71,
           187,
           63,
           442,
           76,
           101,
           67,
           505,
           75,
           1037,
           65
          ],
          "sizemode": "area",
          "sizeref": 2.5925,
          "symbol": "circle"
         },
         "mode": "markers",
         "name": "",
         "scene": "scene",
         "showlegend": false,
         "type": "scatter3d",
         "x": [
          6,
          3,
          4,
          4,
          5,
          5,
          6,
          4,
          4,
          6,
          4,
          3,
          4,
          7,
          5,
          5,
          8,
          4,
          6,
          5,
          4,
          37,
          6,
          5,
          5,
          38,
          5,
          178,
          5
         ],
         "y": [
          0,
          0,
          0,
          0,
          0,
          0,
          1,
          0,
          0,
          1,
          0,
          1,
          0,
          0,
          0,
          1,
          53,
          3,
          0,
          1,
          0,
          61,
          0,
          0,
          0,
          64,
          0,
          4,
          1
         ],
         "z": [
          0,
          0,
          0,
          0,
          0,
          0,
          2,
          0,
          0,
          2,
          1,
          0,
          0,
          2,
          1,
          0,
          5,
          2,
          0,
          2,
          2,
          70,
          1,
          0,
          0,
          73,
          1,
          4,
          2
         ]
        }
       ],
       "layout": {
        "coloraxis": {
         "colorbar": {
          "title": {
           "text": "number_burst_starts"
          }
         },
         "colorscale": [
          [
           0,
           "#0d0887"
          ],
          [
           0.1111111111111111,
           "#46039f"
          ],
          [
           0.2222222222222222,
           "#7201a8"
          ],
          [
           0.3333333333333333,
           "#9c179e"
          ],
          [
           0.4444444444444444,
           "#bd3786"
          ],
          [
           0.5555555555555556,
           "#d8576b"
          ],
          [
           0.6666666666666666,
           "#ed7953"
          ],
          [
           0.7777777777777778,
           "#fb9f3a"
          ],
          [
           0.8888888888888888,
           "#fdca26"
          ],
          [
           1,
           "#f0f921"
          ]
         ]
        },
        "legend": {
         "itemsizing": "constant",
         "tracegroupgap": 0
        },
        "margin": {
         "t": 60
        },
        "scene": {
         "domain": {
          "x": [
           0,
           1
          ],
          "y": [
           0,
           1
          ]
         },
         "xaxis": {
          "title": {
           "text": "number_of_bursting_channels"
          }
         },
         "yaxis": {
          "title": {
           "text": "number_channels_with_lfp_up"
          }
         },
         "zaxis": {
          "title": {
           "text": "number_channels_with_lfp_down"
          }
         }
        },
        "template": {
         "data": {
          "bar": [
           {
            "error_x": {
             "color": "#2a3f5f"
            },
            "error_y": {
             "color": "#2a3f5f"
            },
            "marker": {
             "line": {
              "color": "#E5ECF6",
              "width": 0.5
             }
            },
            "type": "bar"
           }
          ],
          "barpolar": [
           {
            "marker": {
             "line": {
              "color": "#E5ECF6",
              "width": 0.5
             }
            },
            "type": "barpolar"
           }
          ],
          "carpet": [
           {
            "aaxis": {
             "endlinecolor": "#2a3f5f",
             "gridcolor": "white",
             "linecolor": "white",
             "minorgridcolor": "white",
             "startlinecolor": "#2a3f5f"
            },
            "baxis": {
             "endlinecolor": "#2a3f5f",
             "gridcolor": "white",
             "linecolor": "white",
             "minorgridcolor": "white",
             "startlinecolor": "#2a3f5f"
            },
            "type": "carpet"
           }
          ],
          "choropleth": [
           {
            "colorbar": {
             "outlinewidth": 0,
             "ticks": ""
            },
            "type": "choropleth"
           }
          ],
          "contour": [
           {
            "colorbar": {
             "outlinewidth": 0,
             "ticks": ""
            },
            "colorscale": [
             [
              0,
              "#0d0887"
             ],
             [
              0.1111111111111111,
              "#46039f"
             ],
             [
              0.2222222222222222,
              "#7201a8"
             ],
             [
              0.3333333333333333,
              "#9c179e"
             ],
             [
              0.4444444444444444,
              "#bd3786"
             ],
             [
              0.5555555555555556,
              "#d8576b"
             ],
             [
              0.6666666666666666,
              "#ed7953"
             ],
             [
              0.7777777777777778,
              "#fb9f3a"
             ],
             [
              0.8888888888888888,
              "#fdca26"
             ],
             [
              1,
              "#f0f921"
             ]
            ],
            "type": "contour"
           }
          ],
          "contourcarpet": [
           {
            "colorbar": {
             "outlinewidth": 0,
             "ticks": ""
            },
            "type": "contourcarpet"
           }
          ],
          "heatmap": [
           {
            "colorbar": {
             "outlinewidth": 0,
             "ticks": ""
            },
            "colorscale": [
             [
              0,
              "#0d0887"
             ],
             [
              0.1111111111111111,
              "#46039f"
             ],
             [
              0.2222222222222222,
              "#7201a8"
             ],
             [
              0.3333333333333333,
              "#9c179e"
             ],
             [
              0.4444444444444444,
              "#bd3786"
             ],
             [
              0.5555555555555556,
              "#d8576b"
             ],
             [
              0.6666666666666666,
              "#ed7953"
             ],
             [
              0.7777777777777778,
              "#fb9f3a"
             ],
             [
              0.8888888888888888,
              "#fdca26"
             ],
             [
              1,
              "#f0f921"
             ]
            ],
            "type": "heatmap"
           }
          ],
          "heatmapgl": [
           {
            "colorbar": {
             "outlinewidth": 0,
             "ticks": ""
            },
            "colorscale": [
             [
              0,
              "#0d0887"
             ],
             [
              0.1111111111111111,
              "#46039f"
             ],
             [
              0.2222222222222222,
              "#7201a8"
             ],
             [
              0.3333333333333333,
              "#9c179e"
             ],
             [
              0.4444444444444444,
              "#bd3786"
             ],
             [
              0.5555555555555556,
              "#d8576b"
             ],
             [
              0.6666666666666666,
              "#ed7953"
             ],
             [
              0.7777777777777778,
              "#fb9f3a"
             ],
             [
              0.8888888888888888,
              "#fdca26"
             ],
             [
              1,
              "#f0f921"
             ]
            ],
            "type": "heatmapgl"
           }
          ],
          "histogram": [
           {
            "marker": {
             "colorbar": {
              "outlinewidth": 0,
              "ticks": ""
             }
            },
            "type": "histogram"
           }
          ],
          "histogram2d": [
           {
            "colorbar": {
             "outlinewidth": 0,
             "ticks": ""
            },
            "colorscale": [
             [
              0,
              "#0d0887"
             ],
             [
              0.1111111111111111,
              "#46039f"
             ],
             [
              0.2222222222222222,
              "#7201a8"
             ],
             [
              0.3333333333333333,
              "#9c179e"
             ],
             [
              0.4444444444444444,
              "#bd3786"
             ],
             [
              0.5555555555555556,
              "#d8576b"
             ],
             [
              0.6666666666666666,
              "#ed7953"
             ],
             [
              0.7777777777777778,
              "#fb9f3a"
             ],
             [
              0.8888888888888888,
              "#fdca26"
             ],
             [
              1,
              "#f0f921"
             ]
            ],
            "type": "histogram2d"
           }
          ],
          "histogram2dcontour": [
           {
            "colorbar": {
             "outlinewidth": 0,
             "ticks": ""
            },
            "colorscale": [
             [
              0,
              "#0d0887"
             ],
             [
              0.1111111111111111,
              "#46039f"
             ],
             [
              0.2222222222222222,
              "#7201a8"
             ],
             [
              0.3333333333333333,
              "#9c179e"
             ],
             [
              0.4444444444444444,
              "#bd3786"
             ],
             [
              0.5555555555555556,
              "#d8576b"
             ],
             [
              0.6666666666666666,
              "#ed7953"
             ],
             [
              0.7777777777777778,
              "#fb9f3a"
             ],
             [
              0.8888888888888888,
              "#fdca26"
             ],
             [
              1,
              "#f0f921"
             ]
            ],
            "type": "histogram2dcontour"
           }
          ],
          "mesh3d": [
           {
            "colorbar": {
             "outlinewidth": 0,
             "ticks": ""
            },
            "type": "mesh3d"
           }
          ],
          "parcoords": [
           {
            "line": {
             "colorbar": {
              "outlinewidth": 0,
              "ticks": ""
             }
            },
            "type": "parcoords"
           }
          ],
          "pie": [
           {
            "automargin": true,
            "type": "pie"
           }
          ],
          "scatter": [
           {
            "marker": {
             "colorbar": {
              "outlinewidth": 0,
              "ticks": ""
             }
            },
            "type": "scatter"
           }
          ],
          "scatter3d": [
           {
            "line": {
             "colorbar": {
              "outlinewidth": 0,
              "ticks": ""
             }
            },
            "marker": {
             "colorbar": {
              "outlinewidth": 0,
              "ticks": ""
             }
            },
            "type": "scatter3d"
           }
          ],
          "scattercarpet": [
           {
            "marker": {
             "colorbar": {
              "outlinewidth": 0,
              "ticks": ""
             }
            },
            "type": "scattercarpet"
           }
          ],
          "scattergeo": [
           {
            "marker": {
             "colorbar": {
              "outlinewidth": 0,
              "ticks": ""
             }
            },
            "type": "scattergeo"
           }
          ],
          "scattergl": [
           {
            "marker": {
             "colorbar": {
              "outlinewidth": 0,
              "ticks": ""
             }
            },
            "type": "scattergl"
           }
          ],
          "scattermapbox": [
           {
            "marker": {
             "colorbar": {
              "outlinewidth": 0,
              "ticks": ""
             }
            },
            "type": "scattermapbox"
           }
          ],
          "scatterpolar": [
           {
            "marker": {
             "colorbar": {
              "outlinewidth": 0,
              "ticks": ""
             }
            },
            "type": "scatterpolar"
           }
          ],
          "scatterpolargl": [
           {
            "marker": {
             "colorbar": {
              "outlinewidth": 0,
              "ticks": ""
             }
            },
            "type": "scatterpolargl"
           }
          ],
          "scatterternary": [
           {
            "marker": {
             "colorbar": {
              "outlinewidth": 0,
              "ticks": ""
             }
            },
            "type": "scatterternary"
           }
          ],
          "surface": [
           {
            "colorbar": {
             "outlinewidth": 0,
             "ticks": ""
            },
            "colorscale": [
             [
              0,
              "#0d0887"
             ],
             [
              0.1111111111111111,
              "#46039f"
             ],
             [
              0.2222222222222222,
              "#7201a8"
             ],
             [
              0.3333333333333333,
              "#9c179e"
             ],
             [
              0.4444444444444444,
              "#bd3786"
             ],
             [
              0.5555555555555556,
              "#d8576b"
             ],
             [
              0.6666666666666666,
              "#ed7953"
             ],
             [
              0.7777777777777778,
              "#fb9f3a"
             ],
             [
              0.8888888888888888,
              "#fdca26"
             ],
             [
              1,
              "#f0f921"
             ]
            ],
            "type": "surface"
           }
          ],
          "table": [
           {
            "cells": {
             "fill": {
              "color": "#EBF0F8"
             },
             "line": {
              "color": "white"
             }
            },
            "header": {
             "fill": {
              "color": "#C8D4E3"
             },
             "line": {
              "color": "white"
             }
            },
            "type": "table"
           }
          ]
         },
         "layout": {
          "annotationdefaults": {
           "arrowcolor": "#2a3f5f",
           "arrowhead": 0,
           "arrowwidth": 1
          },
          "autotypenumbers": "strict",
          "coloraxis": {
           "colorbar": {
            "outlinewidth": 0,
            "ticks": ""
           }
          },
          "colorscale": {
           "diverging": [
            [
             0,
             "#8e0152"
            ],
            [
             0.1,
             "#c51b7d"
            ],
            [
             0.2,
             "#de77ae"
            ],
            [
             0.3,
             "#f1b6da"
            ],
            [
             0.4,
             "#fde0ef"
            ],
            [
             0.5,
             "#f7f7f7"
            ],
            [
             0.6,
             "#e6f5d0"
            ],
            [
             0.7,
             "#b8e186"
            ],
            [
             0.8,
             "#7fbc41"
            ],
            [
             0.9,
             "#4d9221"
            ],
            [
             1,
             "#276419"
            ]
           ],
           "sequential": [
            [
             0,
             "#0d0887"
            ],
            [
             0.1111111111111111,
             "#46039f"
            ],
            [
             0.2222222222222222,
             "#7201a8"
            ],
            [
             0.3333333333333333,
             "#9c179e"
            ],
            [
             0.4444444444444444,
             "#bd3786"
            ],
            [
             0.5555555555555556,
             "#d8576b"
            ],
            [
             0.6666666666666666,
             "#ed7953"
            ],
            [
             0.7777777777777778,
             "#fb9f3a"
            ],
            [
             0.8888888888888888,
             "#fdca26"
            ],
            [
             1,
             "#f0f921"
            ]
           ],
           "sequentialminus": [
            [
             0,
             "#0d0887"
            ],
            [
             0.1111111111111111,
             "#46039f"
            ],
            [
             0.2222222222222222,
             "#7201a8"
            ],
            [
             0.3333333333333333,
             "#9c179e"
            ],
            [
             0.4444444444444444,
             "#bd3786"
            ],
            [
             0.5555555555555556,
             "#d8576b"
            ],
            [
             0.6666666666666666,
             "#ed7953"
            ],
            [
             0.7777777777777778,
             "#fb9f3a"
            ],
            [
             0.8888888888888888,
             "#fdca26"
            ],
            [
             1,
             "#f0f921"
            ]
           ]
          },
          "colorway": [
           "#636efa",
           "#EF553B",
           "#00cc96",
           "#ab63fa",
           "#FFA15A",
           "#19d3f3",
           "#FF6692",
           "#B6E880",
           "#FF97FF",
           "#FECB52"
          ],
          "font": {
           "color": "#2a3f5f"
          },
          "geo": {
           "bgcolor": "white",
           "lakecolor": "white",
           "landcolor": "#E5ECF6",
           "showlakes": true,
           "showland": true,
           "subunitcolor": "white"
          },
          "hoverlabel": {
           "align": "left"
          },
          "hovermode": "closest",
          "mapbox": {
           "style": "light"
          },
          "paper_bgcolor": "white",
          "plot_bgcolor": "#E5ECF6",
          "polar": {
           "angularaxis": {
            "gridcolor": "white",
            "linecolor": "white",
            "ticks": ""
           },
           "bgcolor": "#E5ECF6",
           "radialaxis": {
            "gridcolor": "white",
            "linecolor": "white",
            "ticks": ""
           }
          },
          "scene": {
           "xaxis": {
            "backgroundcolor": "#E5ECF6",
            "gridcolor": "white",
            "gridwidth": 2,
            "linecolor": "white",
            "showbackground": true,
            "ticks": "",
            "zerolinecolor": "white"
           },
           "yaxis": {
            "backgroundcolor": "#E5ECF6",
            "gridcolor": "white",
            "gridwidth": 2,
            "linecolor": "white",
            "showbackground": true,
            "ticks": "",
            "zerolinecolor": "white"
           },
           "zaxis": {
            "backgroundcolor": "#E5ECF6",
            "gridcolor": "white",
            "gridwidth": 2,
            "linecolor": "white",
            "showbackground": true,
            "ticks": "",
            "zerolinecolor": "white"
           }
          },
          "shapedefaults": {
           "line": {
            "color": "#2a3f5f"
           }
          },
          "ternary": {
           "aaxis": {
            "gridcolor": "white",
            "linecolor": "white",
            "ticks": ""
           },
           "baxis": {
            "gridcolor": "white",
            "linecolor": "white",
            "ticks": ""
           },
           "bgcolor": "#E5ECF6",
           "caxis": {
            "gridcolor": "white",
            "linecolor": "white",
            "ticks": ""
           }
          },
          "title": {
           "x": 0.05
          },
          "xaxis": {
           "automargin": true,
           "gridcolor": "white",
           "linecolor": "white",
           "ticks": "",
           "title": {
            "standoff": 15
           },
           "zerolinecolor": "white",
           "zerolinewidth": 2
          },
          "yaxis": {
           "automargin": true,
           "gridcolor": "white",
           "linecolor": "white",
           "ticks": "",
           "title": {
            "standoff": 15
           },
           "zerolinecolor": "white",
           "zerolinewidth": 2
          }
         }
        },
        "title": {
         "text": "5 Features Representation"
        }
       }
      },
      "text/html": [
       "<div>                            <div id=\"d5627d5c-5693-4530-8f85-112437f69d6e\" class=\"plotly-graph-div\" style=\"height:525px; width:100%;\"></div>            <script type=\"text/javascript\">                require([\"plotly\"], function(Plotly) {                    window.PLOTLYENV=window.PLOTLYENV || {};                                    if (document.getElementById(\"d5627d5c-5693-4530-8f85-112437f69d6e\")) {                    Plotly.newPlot(                        \"d5627d5c-5693-4530-8f85-112437f69d6e\",                        [{\"hovertemplate\": \"number_of_bursting_channels=%{x}<br>number_channels_with_lfp_up=%{y}<br>number_channels_with_lfp_down=%{z}<br>number_of_spikes=%{marker.size}<br>number_burst_starts=%{marker.color}<extra></extra>\", \"legendgroup\": \"\", \"marker\": {\"color\": [6, 5, 7, 7, 5, 5, 6, 6, 7, 6, 6, 7, 4, 9, 7, 5, 11, 6, 8, 5, 6, 43, 9, 11, 6, 39, 6, 178, 7], \"coloraxis\": \"coloraxis\", \"size\": [49, 65, 51, 80, 46, 66, 48, 73, 73, 43, 48, 89, 63, 77, 65, 47, 846, 60, 71, 187, 63, 442, 76, 101, 67, 505, 75, 1037, 65], \"sizemode\": \"area\", \"sizeref\": 2.5925, \"symbol\": \"circle\"}, \"mode\": \"markers\", \"name\": \"\", \"scene\": \"scene\", \"showlegend\": false, \"type\": \"scatter3d\", \"x\": [6, 3, 4, 4, 5, 5, 6, 4, 4, 6, 4, 3, 4, 7, 5, 5, 8, 4, 6, 5, 4, 37, 6, 5, 5, 38, 5, 178, 5], \"y\": [0, 0, 0, 0, 0, 0, 1, 0, 0, 1, 0, 1, 0, 0, 0, 1, 53, 3, 0, 1, 0, 61, 0, 0, 0, 64, 0, 4, 1], \"z\": [0, 0, 0, 0, 0, 0, 2, 0, 0, 2, 1, 0, 0, 2, 1, 0, 5, 2, 0, 2, 2, 70, 1, 0, 0, 73, 1, 4, 2]}],                        {\"coloraxis\": {\"colorbar\": {\"title\": {\"text\": \"number_burst_starts\"}}, \"colorscale\": [[0.0, \"#0d0887\"], [0.1111111111111111, \"#46039f\"], [0.2222222222222222, \"#7201a8\"], [0.3333333333333333, \"#9c179e\"], [0.4444444444444444, \"#bd3786\"], [0.5555555555555556, \"#d8576b\"], [0.6666666666666666, \"#ed7953\"], [0.7777777777777778, \"#fb9f3a\"], [0.8888888888888888, \"#fdca26\"], [1.0, \"#f0f921\"]]}, \"legend\": {\"itemsizing\": \"constant\", \"tracegroupgap\": 0}, \"margin\": {\"t\": 60}, \"scene\": {\"domain\": {\"x\": [0.0, 1.0], \"y\": [0.0, 1.0]}, \"xaxis\": {\"title\": {\"text\": \"number_of_bursting_channels\"}}, \"yaxis\": {\"title\": {\"text\": \"number_channels_with_lfp_up\"}}, \"zaxis\": {\"title\": {\"text\": \"number_channels_with_lfp_down\"}}}, \"template\": {\"data\": {\"bar\": [{\"error_x\": {\"color\": \"#2a3f5f\"}, \"error_y\": {\"color\": \"#2a3f5f\"}, \"marker\": {\"line\": {\"color\": \"#E5ECF6\", \"width\": 0.5}}, \"type\": \"bar\"}], \"barpolar\": [{\"marker\": {\"line\": {\"color\": \"#E5ECF6\", \"width\": 0.5}}, \"type\": \"barpolar\"}], \"carpet\": [{\"aaxis\": {\"endlinecolor\": \"#2a3f5f\", \"gridcolor\": \"white\", \"linecolor\": \"white\", \"minorgridcolor\": \"white\", \"startlinecolor\": \"#2a3f5f\"}, \"baxis\": {\"endlinecolor\": \"#2a3f5f\", \"gridcolor\": \"white\", \"linecolor\": \"white\", \"minorgridcolor\": \"white\", \"startlinecolor\": \"#2a3f5f\"}, \"type\": \"carpet\"}], \"choropleth\": [{\"colorbar\": {\"outlinewidth\": 0, \"ticks\": \"\"}, \"type\": \"choropleth\"}], \"contour\": [{\"colorbar\": {\"outlinewidth\": 0, \"ticks\": \"\"}, \"colorscale\": [[0.0, \"#0d0887\"], [0.1111111111111111, \"#46039f\"], [0.2222222222222222, \"#7201a8\"], [0.3333333333333333, \"#9c179e\"], [0.4444444444444444, \"#bd3786\"], [0.5555555555555556, \"#d8576b\"], [0.6666666666666666, \"#ed7953\"], [0.7777777777777778, \"#fb9f3a\"], [0.8888888888888888, \"#fdca26\"], [1.0, \"#f0f921\"]], \"type\": \"contour\"}], \"contourcarpet\": [{\"colorbar\": {\"outlinewidth\": 0, \"ticks\": \"\"}, \"type\": \"contourcarpet\"}], \"heatmap\": [{\"colorbar\": {\"outlinewidth\": 0, \"ticks\": \"\"}, \"colorscale\": [[0.0, \"#0d0887\"], [0.1111111111111111, \"#46039f\"], [0.2222222222222222, \"#7201a8\"], [0.3333333333333333, \"#9c179e\"], [0.4444444444444444, \"#bd3786\"], [0.5555555555555556, \"#d8576b\"], [0.6666666666666666, \"#ed7953\"], [0.7777777777777778, \"#fb9f3a\"], [0.8888888888888888, \"#fdca26\"], [1.0, \"#f0f921\"]], \"type\": \"heatmap\"}], \"heatmapgl\": [{\"colorbar\": {\"outlinewidth\": 0, \"ticks\": \"\"}, \"colorscale\": [[0.0, \"#0d0887\"], [0.1111111111111111, \"#46039f\"], [0.2222222222222222, \"#7201a8\"], [0.3333333333333333, \"#9c179e\"], [0.4444444444444444, \"#bd3786\"], [0.5555555555555556, \"#d8576b\"], [0.6666666666666666, \"#ed7953\"], [0.7777777777777778, \"#fb9f3a\"], [0.8888888888888888, \"#fdca26\"], [1.0, \"#f0f921\"]], \"type\": \"heatmapgl\"}], \"histogram\": [{\"marker\": {\"colorbar\": {\"outlinewidth\": 0, \"ticks\": \"\"}}, \"type\": \"histogram\"}], \"histogram2d\": [{\"colorbar\": {\"outlinewidth\": 0, \"ticks\": \"\"}, \"colorscale\": [[0.0, \"#0d0887\"], [0.1111111111111111, \"#46039f\"], [0.2222222222222222, \"#7201a8\"], [0.3333333333333333, \"#9c179e\"], [0.4444444444444444, \"#bd3786\"], [0.5555555555555556, \"#d8576b\"], [0.6666666666666666, \"#ed7953\"], [0.7777777777777778, \"#fb9f3a\"], [0.8888888888888888, \"#fdca26\"], [1.0, \"#f0f921\"]], \"type\": \"histogram2d\"}], \"histogram2dcontour\": [{\"colorbar\": {\"outlinewidth\": 0, \"ticks\": \"\"}, \"colorscale\": [[0.0, \"#0d0887\"], [0.1111111111111111, \"#46039f\"], [0.2222222222222222, \"#7201a8\"], [0.3333333333333333, \"#9c179e\"], [0.4444444444444444, \"#bd3786\"], [0.5555555555555556, \"#d8576b\"], [0.6666666666666666, \"#ed7953\"], [0.7777777777777778, \"#fb9f3a\"], [0.8888888888888888, \"#fdca26\"], [1.0, \"#f0f921\"]], \"type\": \"histogram2dcontour\"}], \"mesh3d\": [{\"colorbar\": {\"outlinewidth\": 0, \"ticks\": \"\"}, \"type\": \"mesh3d\"}], \"parcoords\": [{\"line\": {\"colorbar\": {\"outlinewidth\": 0, \"ticks\": \"\"}}, \"type\": \"parcoords\"}], \"pie\": [{\"automargin\": true, \"type\": \"pie\"}], \"scatter\": [{\"marker\": {\"colorbar\": {\"outlinewidth\": 0, \"ticks\": \"\"}}, \"type\": \"scatter\"}], \"scatter3d\": [{\"line\": {\"colorbar\": {\"outlinewidth\": 0, \"ticks\": \"\"}}, \"marker\": {\"colorbar\": {\"outlinewidth\": 0, \"ticks\": \"\"}}, \"type\": \"scatter3d\"}], \"scattercarpet\": [{\"marker\": {\"colorbar\": {\"outlinewidth\": 0, \"ticks\": \"\"}}, \"type\": \"scattercarpet\"}], \"scattergeo\": [{\"marker\": {\"colorbar\": {\"outlinewidth\": 0, \"ticks\": \"\"}}, \"type\": \"scattergeo\"}], \"scattergl\": [{\"marker\": {\"colorbar\": {\"outlinewidth\": 0, \"ticks\": \"\"}}, \"type\": \"scattergl\"}], \"scattermapbox\": [{\"marker\": {\"colorbar\": {\"outlinewidth\": 0, \"ticks\": \"\"}}, \"type\": \"scattermapbox\"}], \"scatterpolar\": [{\"marker\": {\"colorbar\": {\"outlinewidth\": 0, \"ticks\": \"\"}}, \"type\": \"scatterpolar\"}], \"scatterpolargl\": [{\"marker\": {\"colorbar\": {\"outlinewidth\": 0, \"ticks\": \"\"}}, \"type\": \"scatterpolargl\"}], \"scatterternary\": [{\"marker\": {\"colorbar\": {\"outlinewidth\": 0, \"ticks\": \"\"}}, \"type\": \"scatterternary\"}], \"surface\": [{\"colorbar\": {\"outlinewidth\": 0, \"ticks\": \"\"}, \"colorscale\": [[0.0, \"#0d0887\"], [0.1111111111111111, \"#46039f\"], [0.2222222222222222, \"#7201a8\"], [0.3333333333333333, \"#9c179e\"], [0.4444444444444444, \"#bd3786\"], [0.5555555555555556, \"#d8576b\"], [0.6666666666666666, \"#ed7953\"], [0.7777777777777778, \"#fb9f3a\"], [0.8888888888888888, \"#fdca26\"], [1.0, \"#f0f921\"]], \"type\": \"surface\"}], \"table\": [{\"cells\": {\"fill\": {\"color\": \"#EBF0F8\"}, \"line\": {\"color\": \"white\"}}, \"header\": {\"fill\": {\"color\": \"#C8D4E3\"}, \"line\": {\"color\": \"white\"}}, \"type\": \"table\"}]}, \"layout\": {\"annotationdefaults\": {\"arrowcolor\": \"#2a3f5f\", \"arrowhead\": 0, \"arrowwidth\": 1}, \"autotypenumbers\": \"strict\", \"coloraxis\": {\"colorbar\": {\"outlinewidth\": 0, \"ticks\": \"\"}}, \"colorscale\": {\"diverging\": [[0, \"#8e0152\"], [0.1, \"#c51b7d\"], [0.2, \"#de77ae\"], [0.3, \"#f1b6da\"], [0.4, \"#fde0ef\"], [0.5, \"#f7f7f7\"], [0.6, \"#e6f5d0\"], [0.7, \"#b8e186\"], [0.8, \"#7fbc41\"], [0.9, \"#4d9221\"], [1, \"#276419\"]], \"sequential\": [[0.0, \"#0d0887\"], [0.1111111111111111, \"#46039f\"], [0.2222222222222222, \"#7201a8\"], [0.3333333333333333, \"#9c179e\"], [0.4444444444444444, \"#bd3786\"], [0.5555555555555556, \"#d8576b\"], [0.6666666666666666, \"#ed7953\"], [0.7777777777777778, \"#fb9f3a\"], [0.8888888888888888, \"#fdca26\"], [1.0, \"#f0f921\"]], \"sequentialminus\": [[0.0, \"#0d0887\"], [0.1111111111111111, \"#46039f\"], [0.2222222222222222, \"#7201a8\"], [0.3333333333333333, \"#9c179e\"], [0.4444444444444444, \"#bd3786\"], [0.5555555555555556, \"#d8576b\"], [0.6666666666666666, \"#ed7953\"], [0.7777777777777778, \"#fb9f3a\"], [0.8888888888888888, \"#fdca26\"], [1.0, \"#f0f921\"]]}, \"colorway\": [\"#636efa\", \"#EF553B\", \"#00cc96\", \"#ab63fa\", \"#FFA15A\", \"#19d3f3\", \"#FF6692\", \"#B6E880\", \"#FF97FF\", \"#FECB52\"], \"font\": {\"color\": \"#2a3f5f\"}, \"geo\": {\"bgcolor\": \"white\", \"lakecolor\": \"white\", \"landcolor\": \"#E5ECF6\", \"showlakes\": true, \"showland\": true, \"subunitcolor\": \"white\"}, \"hoverlabel\": {\"align\": \"left\"}, \"hovermode\": \"closest\", \"mapbox\": {\"style\": \"light\"}, \"paper_bgcolor\": \"white\", \"plot_bgcolor\": \"#E5ECF6\", \"polar\": {\"angularaxis\": {\"gridcolor\": \"white\", \"linecolor\": \"white\", \"ticks\": \"\"}, \"bgcolor\": \"#E5ECF6\", \"radialaxis\": {\"gridcolor\": \"white\", \"linecolor\": \"white\", \"ticks\": \"\"}}, \"scene\": {\"xaxis\": {\"backgroundcolor\": \"#E5ECF6\", \"gridcolor\": \"white\", \"gridwidth\": 2, \"linecolor\": \"white\", \"showbackground\": true, \"ticks\": \"\", \"zerolinecolor\": \"white\"}, \"yaxis\": {\"backgroundcolor\": \"#E5ECF6\", \"gridcolor\": \"white\", \"gridwidth\": 2, \"linecolor\": \"white\", \"showbackground\": true, \"ticks\": \"\", \"zerolinecolor\": \"white\"}, \"zaxis\": {\"backgroundcolor\": \"#E5ECF6\", \"gridcolor\": \"white\", \"gridwidth\": 2, \"linecolor\": \"white\", \"showbackground\": true, \"ticks\": \"\", \"zerolinecolor\": \"white\"}}, \"shapedefaults\": {\"line\": {\"color\": \"#2a3f5f\"}}, \"ternary\": {\"aaxis\": {\"gridcolor\": \"white\", \"linecolor\": \"white\", \"ticks\": \"\"}, \"baxis\": {\"gridcolor\": \"white\", \"linecolor\": \"white\", \"ticks\": \"\"}, \"bgcolor\": \"#E5ECF6\", \"caxis\": {\"gridcolor\": \"white\", \"linecolor\": \"white\", \"ticks\": \"\"}}, \"title\": {\"x\": 0.05}, \"xaxis\": {\"automargin\": true, \"gridcolor\": \"white\", \"linecolor\": \"white\", \"ticks\": \"\", \"title\": {\"standoff\": 15}, \"zerolinecolor\": \"white\", \"zerolinewidth\": 2}, \"yaxis\": {\"automargin\": true, \"gridcolor\": \"white\", \"linecolor\": \"white\", \"ticks\": \"\", \"title\": {\"standoff\": 15}, \"zerolinecolor\": \"white\", \"zerolinewidth\": 2}}}, \"title\": {\"text\": \"5 Features Representation\"}},                        {\"responsive\": true}                    ).then(function(){\n",
       "                            \n",
       "var gd = document.getElementById('d5627d5c-5693-4530-8f85-112437f69d6e');\n",
       "var x = new MutationObserver(function (mutations, observer) {{\n",
       "        var display = window.getComputedStyle(gd).display;\n",
       "        if (!display || display === 'none') {{\n",
       "            console.log([gd, 'removed!']);\n",
       "            Plotly.purge(gd);\n",
       "            observer.disconnect();\n",
       "        }}\n",
       "}});\n",
       "\n",
       "// Listen for the removal of the full notebook cells\n",
       "var notebookContainer = gd.closest('#notebook-container');\n",
       "if (notebookContainer) {{\n",
       "    x.observe(notebookContainer, {childList: true});\n",
       "}}\n",
       "\n",
       "// Listen for the clearing of the current output cell\n",
       "var outputEl = gd.closest('.output');\n",
       "if (outputEl) {{\n",
       "    x.observe(outputEl, {childList: true});\n",
       "}}\n",
       "\n",
       "                        })                };                });            </script>        </div>"
      ]
     },
     "metadata": {},
     "output_type": "display_data"
    }
   ],
   "source": [
    "fig2 = px.scatter_3d(df, x=\"number_of_bursting_channels\", y=\"number_channels_with_lfp_up\",z=\"number_channels_with_lfp_down\",\n",
    "                     color=\"number_burst_starts\",size=\"number_of_spikes\")\n",
    "fig2.update_layout(title=\"5 Features Representation\")\n",
    "fig2.show()"
   ]
  },
  {
   "cell_type": "code",
   "execution_count": 101,
   "id": "0b18b3f8",
   "metadata": {},
   "outputs": [],
   "source": [
    "df = pd.DataFrame.from_records([dictionary_for_dataframe])"
   ]
  },
  {
   "cell_type": "code",
   "execution_count": 124,
   "id": "b624dd5e",
   "metadata": {},
   "outputs": [],
   "source": [
    "os.chdir(output_directory)"
   ]
  },
  {
   "cell_type": "code",
   "execution_count": 125,
   "id": "687a30a8",
   "metadata": {},
   "outputs": [],
   "source": [
    "df.to_excel(filename + '_excel_try.xlsx', engine='xlsxwriter')"
   ]
  },
  {
   "cell_type": "code",
   "execution_count": 119,
   "id": "145ef01c",
   "metadata": {},
   "outputs": [],
   "source": [
    "df.to_csv(filename + '_excel_try.csv')"
   ]
  },
  {
   "cell_type": "code",
   "execution_count": 121,
   "id": "dd307fb9",
   "metadata": {},
   "outputs": [
    {
     "data": {
      "text/plain": [
       "'D:\\\\MEA_DATA_Aachen\\\\ANALYZED\\\\ID046_analysiert_22102021\\\\analysis_26102021'"
      ]
     },
     "execution_count": 121,
     "metadata": {},
     "output_type": "execute_result"
    }
   ],
   "source": [
    "output_directory"
   ]
  },
  {
   "cell_type": "code",
   "execution_count": null,
   "id": "c4bb2478",
   "metadata": {},
   "outputs": [],
   "source": []
  },
  {
   "cell_type": "code",
   "execution_count": 164,
   "id": "9ab95805",
   "metadata": {},
   "outputs": [
    {
     "data": {
      "application/javascript": [
       "/* Put everything inside the global mpl namespace */\n",
       "/* global mpl */\n",
       "window.mpl = {};\n",
       "\n",
       "mpl.get_websocket_type = function () {\n",
       "    if (typeof WebSocket !== 'undefined') {\n",
       "        return WebSocket;\n",
       "    } else if (typeof MozWebSocket !== 'undefined') {\n",
       "        return MozWebSocket;\n",
       "    } else {\n",
       "        alert(\n",
       "            'Your browser does not have WebSocket support. ' +\n",
       "                'Please try Chrome, Safari or Firefox ≥ 6. ' +\n",
       "                'Firefox 4 and 5 are also supported but you ' +\n",
       "                'have to enable WebSockets in about:config.'\n",
       "        );\n",
       "    }\n",
       "};\n",
       "\n",
       "mpl.figure = function (figure_id, websocket, ondownload, parent_element) {\n",
       "    this.id = figure_id;\n",
       "\n",
       "    this.ws = websocket;\n",
       "\n",
       "    this.supports_binary = this.ws.binaryType !== undefined;\n",
       "\n",
       "    if (!this.supports_binary) {\n",
       "        var warnings = document.getElementById('mpl-warnings');\n",
       "        if (warnings) {\n",
       "            warnings.style.display = 'block';\n",
       "            warnings.textContent =\n",
       "                'This browser does not support binary websocket messages. ' +\n",
       "                'Performance may be slow.';\n",
       "        }\n",
       "    }\n",
       "\n",
       "    this.imageObj = new Image();\n",
       "\n",
       "    this.context = undefined;\n",
       "    this.message = undefined;\n",
       "    this.canvas = undefined;\n",
       "    this.rubberband_canvas = undefined;\n",
       "    this.rubberband_context = undefined;\n",
       "    this.format_dropdown = undefined;\n",
       "\n",
       "    this.image_mode = 'full';\n",
       "\n",
       "    this.root = document.createElement('div');\n",
       "    this.root.setAttribute('style', 'display: inline-block');\n",
       "    this._root_extra_style(this.root);\n",
       "\n",
       "    parent_element.appendChild(this.root);\n",
       "\n",
       "    this._init_header(this);\n",
       "    this._init_canvas(this);\n",
       "    this._init_toolbar(this);\n",
       "\n",
       "    var fig = this;\n",
       "\n",
       "    this.waiting = false;\n",
       "\n",
       "    this.ws.onopen = function () {\n",
       "        fig.send_message('supports_binary', { value: fig.supports_binary });\n",
       "        fig.send_message('send_image_mode', {});\n",
       "        if (fig.ratio !== 1) {\n",
       "            fig.send_message('set_dpi_ratio', { dpi_ratio: fig.ratio });\n",
       "        }\n",
       "        fig.send_message('refresh', {});\n",
       "    };\n",
       "\n",
       "    this.imageObj.onload = function () {\n",
       "        if (fig.image_mode === 'full') {\n",
       "            // Full images could contain transparency (where diff images\n",
       "            // almost always do), so we need to clear the canvas so that\n",
       "            // there is no ghosting.\n",
       "            fig.context.clearRect(0, 0, fig.canvas.width, fig.canvas.height);\n",
       "        }\n",
       "        fig.context.drawImage(fig.imageObj, 0, 0);\n",
       "    };\n",
       "\n",
       "    this.imageObj.onunload = function () {\n",
       "        fig.ws.close();\n",
       "    };\n",
       "\n",
       "    this.ws.onmessage = this._make_on_message_function(this);\n",
       "\n",
       "    this.ondownload = ondownload;\n",
       "};\n",
       "\n",
       "mpl.figure.prototype._init_header = function () {\n",
       "    var titlebar = document.createElement('div');\n",
       "    titlebar.classList =\n",
       "        'ui-dialog-titlebar ui-widget-header ui-corner-all ui-helper-clearfix';\n",
       "    var titletext = document.createElement('div');\n",
       "    titletext.classList = 'ui-dialog-title';\n",
       "    titletext.setAttribute(\n",
       "        'style',\n",
       "        'width: 100%; text-align: center; padding: 3px;'\n",
       "    );\n",
       "    titlebar.appendChild(titletext);\n",
       "    this.root.appendChild(titlebar);\n",
       "    this.header = titletext;\n",
       "};\n",
       "\n",
       "mpl.figure.prototype._canvas_extra_style = function (_canvas_div) {};\n",
       "\n",
       "mpl.figure.prototype._root_extra_style = function (_canvas_div) {};\n",
       "\n",
       "mpl.figure.prototype._init_canvas = function () {\n",
       "    var fig = this;\n",
       "\n",
       "    var canvas_div = (this.canvas_div = document.createElement('div'));\n",
       "    canvas_div.setAttribute(\n",
       "        'style',\n",
       "        'border: 1px solid #ddd;' +\n",
       "            'box-sizing: content-box;' +\n",
       "            'clear: both;' +\n",
       "            'min-height: 1px;' +\n",
       "            'min-width: 1px;' +\n",
       "            'outline: 0;' +\n",
       "            'overflow: hidden;' +\n",
       "            'position: relative;' +\n",
       "            'resize: both;'\n",
       "    );\n",
       "\n",
       "    function on_keyboard_event_closure(name) {\n",
       "        return function (event) {\n",
       "            return fig.key_event(event, name);\n",
       "        };\n",
       "    }\n",
       "\n",
       "    canvas_div.addEventListener(\n",
       "        'keydown',\n",
       "        on_keyboard_event_closure('key_press')\n",
       "    );\n",
       "    canvas_div.addEventListener(\n",
       "        'keyup',\n",
       "        on_keyboard_event_closure('key_release')\n",
       "    );\n",
       "\n",
       "    this._canvas_extra_style(canvas_div);\n",
       "    this.root.appendChild(canvas_div);\n",
       "\n",
       "    var canvas = (this.canvas = document.createElement('canvas'));\n",
       "    canvas.classList.add('mpl-canvas');\n",
       "    canvas.setAttribute('style', 'box-sizing: content-box;');\n",
       "\n",
       "    this.context = canvas.getContext('2d');\n",
       "\n",
       "    var backingStore =\n",
       "        this.context.backingStorePixelRatio ||\n",
       "        this.context.webkitBackingStorePixelRatio ||\n",
       "        this.context.mozBackingStorePixelRatio ||\n",
       "        this.context.msBackingStorePixelRatio ||\n",
       "        this.context.oBackingStorePixelRatio ||\n",
       "        this.context.backingStorePixelRatio ||\n",
       "        1;\n",
       "\n",
       "    this.ratio = (window.devicePixelRatio || 1) / backingStore;\n",
       "\n",
       "    var rubberband_canvas = (this.rubberband_canvas = document.createElement(\n",
       "        'canvas'\n",
       "    ));\n",
       "    rubberband_canvas.setAttribute(\n",
       "        'style',\n",
       "        'box-sizing: content-box; position: absolute; left: 0; top: 0; z-index: 1;'\n",
       "    );\n",
       "\n",
       "    // Apply a ponyfill if ResizeObserver is not implemented by browser.\n",
       "    if (this.ResizeObserver === undefined) {\n",
       "        if (window.ResizeObserver !== undefined) {\n",
       "            this.ResizeObserver = window.ResizeObserver;\n",
       "        } else {\n",
       "            var obs = _JSXTOOLS_RESIZE_OBSERVER({});\n",
       "            this.ResizeObserver = obs.ResizeObserver;\n",
       "        }\n",
       "    }\n",
       "\n",
       "    this.resizeObserverInstance = new this.ResizeObserver(function (entries) {\n",
       "        var nentries = entries.length;\n",
       "        for (var i = 0; i < nentries; i++) {\n",
       "            var entry = entries[i];\n",
       "            var width, height;\n",
       "            if (entry.contentBoxSize) {\n",
       "                if (entry.contentBoxSize instanceof Array) {\n",
       "                    // Chrome 84 implements new version of spec.\n",
       "                    width = entry.contentBoxSize[0].inlineSize;\n",
       "                    height = entry.contentBoxSize[0].blockSize;\n",
       "                } else {\n",
       "                    // Firefox implements old version of spec.\n",
       "                    width = entry.contentBoxSize.inlineSize;\n",
       "                    height = entry.contentBoxSize.blockSize;\n",
       "                }\n",
       "            } else {\n",
       "                // Chrome <84 implements even older version of spec.\n",
       "                width = entry.contentRect.width;\n",
       "                height = entry.contentRect.height;\n",
       "            }\n",
       "\n",
       "            // Keep the size of the canvas and rubber band canvas in sync with\n",
       "            // the canvas container.\n",
       "            if (entry.devicePixelContentBoxSize) {\n",
       "                // Chrome 84 implements new version of spec.\n",
       "                canvas.setAttribute(\n",
       "                    'width',\n",
       "                    entry.devicePixelContentBoxSize[0].inlineSize\n",
       "                );\n",
       "                canvas.setAttribute(\n",
       "                    'height',\n",
       "                    entry.devicePixelContentBoxSize[0].blockSize\n",
       "                );\n",
       "            } else {\n",
       "                canvas.setAttribute('width', width * fig.ratio);\n",
       "                canvas.setAttribute('height', height * fig.ratio);\n",
       "            }\n",
       "            canvas.setAttribute(\n",
       "                'style',\n",
       "                'width: ' + width + 'px; height: ' + height + 'px;'\n",
       "            );\n",
       "\n",
       "            rubberband_canvas.setAttribute('width', width);\n",
       "            rubberband_canvas.setAttribute('height', height);\n",
       "\n",
       "            // And update the size in Python. We ignore the initial 0/0 size\n",
       "            // that occurs as the element is placed into the DOM, which should\n",
       "            // otherwise not happen due to the minimum size styling.\n",
       "            if (fig.ws.readyState == 1 && width != 0 && height != 0) {\n",
       "                fig.request_resize(width, height);\n",
       "            }\n",
       "        }\n",
       "    });\n",
       "    this.resizeObserverInstance.observe(canvas_div);\n",
       "\n",
       "    function on_mouse_event_closure(name) {\n",
       "        return function (event) {\n",
       "            return fig.mouse_event(event, name);\n",
       "        };\n",
       "    }\n",
       "\n",
       "    rubberband_canvas.addEventListener(\n",
       "        'mousedown',\n",
       "        on_mouse_event_closure('button_press')\n",
       "    );\n",
       "    rubberband_canvas.addEventListener(\n",
       "        'mouseup',\n",
       "        on_mouse_event_closure('button_release')\n",
       "    );\n",
       "    rubberband_canvas.addEventListener(\n",
       "        'dblclick',\n",
       "        on_mouse_event_closure('dblclick')\n",
       "    );\n",
       "    // Throttle sequential mouse events to 1 every 20ms.\n",
       "    rubberband_canvas.addEventListener(\n",
       "        'mousemove',\n",
       "        on_mouse_event_closure('motion_notify')\n",
       "    );\n",
       "\n",
       "    rubberband_canvas.addEventListener(\n",
       "        'mouseenter',\n",
       "        on_mouse_event_closure('figure_enter')\n",
       "    );\n",
       "    rubberband_canvas.addEventListener(\n",
       "        'mouseleave',\n",
       "        on_mouse_event_closure('figure_leave')\n",
       "    );\n",
       "\n",
       "    canvas_div.addEventListener('wheel', function (event) {\n",
       "        if (event.deltaY < 0) {\n",
       "            event.step = 1;\n",
       "        } else {\n",
       "            event.step = -1;\n",
       "        }\n",
       "        on_mouse_event_closure('scroll')(event);\n",
       "    });\n",
       "\n",
       "    canvas_div.appendChild(canvas);\n",
       "    canvas_div.appendChild(rubberband_canvas);\n",
       "\n",
       "    this.rubberband_context = rubberband_canvas.getContext('2d');\n",
       "    this.rubberband_context.strokeStyle = '#000000';\n",
       "\n",
       "    this._resize_canvas = function (width, height, forward) {\n",
       "        if (forward) {\n",
       "            canvas_div.style.width = width + 'px';\n",
       "            canvas_div.style.height = height + 'px';\n",
       "        }\n",
       "    };\n",
       "\n",
       "    // Disable right mouse context menu.\n",
       "    this.rubberband_canvas.addEventListener('contextmenu', function (_e) {\n",
       "        event.preventDefault();\n",
       "        return false;\n",
       "    });\n",
       "\n",
       "    function set_focus() {\n",
       "        canvas.focus();\n",
       "        canvas_div.focus();\n",
       "    }\n",
       "\n",
       "    window.setTimeout(set_focus, 100);\n",
       "};\n",
       "\n",
       "mpl.figure.prototype._init_toolbar = function () {\n",
       "    var fig = this;\n",
       "\n",
       "    var toolbar = document.createElement('div');\n",
       "    toolbar.classList = 'mpl-toolbar';\n",
       "    this.root.appendChild(toolbar);\n",
       "\n",
       "    function on_click_closure(name) {\n",
       "        return function (_event) {\n",
       "            return fig.toolbar_button_onclick(name);\n",
       "        };\n",
       "    }\n",
       "\n",
       "    function on_mouseover_closure(tooltip) {\n",
       "        return function (event) {\n",
       "            if (!event.currentTarget.disabled) {\n",
       "                return fig.toolbar_button_onmouseover(tooltip);\n",
       "            }\n",
       "        };\n",
       "    }\n",
       "\n",
       "    fig.buttons = {};\n",
       "    var buttonGroup = document.createElement('div');\n",
       "    buttonGroup.classList = 'mpl-button-group';\n",
       "    for (var toolbar_ind in mpl.toolbar_items) {\n",
       "        var name = mpl.toolbar_items[toolbar_ind][0];\n",
       "        var tooltip = mpl.toolbar_items[toolbar_ind][1];\n",
       "        var image = mpl.toolbar_items[toolbar_ind][2];\n",
       "        var method_name = mpl.toolbar_items[toolbar_ind][3];\n",
       "\n",
       "        if (!name) {\n",
       "            /* Instead of a spacer, we start a new button group. */\n",
       "            if (buttonGroup.hasChildNodes()) {\n",
       "                toolbar.appendChild(buttonGroup);\n",
       "            }\n",
       "            buttonGroup = document.createElement('div');\n",
       "            buttonGroup.classList = 'mpl-button-group';\n",
       "            continue;\n",
       "        }\n",
       "\n",
       "        var button = (fig.buttons[name] = document.createElement('button'));\n",
       "        button.classList = 'mpl-widget';\n",
       "        button.setAttribute('role', 'button');\n",
       "        button.setAttribute('aria-disabled', 'false');\n",
       "        button.addEventListener('click', on_click_closure(method_name));\n",
       "        button.addEventListener('mouseover', on_mouseover_closure(tooltip));\n",
       "\n",
       "        var icon_img = document.createElement('img');\n",
       "        icon_img.src = '_images/' + image + '.png';\n",
       "        icon_img.srcset = '_images/' + image + '_large.png 2x';\n",
       "        icon_img.alt = tooltip;\n",
       "        button.appendChild(icon_img);\n",
       "\n",
       "        buttonGroup.appendChild(button);\n",
       "    }\n",
       "\n",
       "    if (buttonGroup.hasChildNodes()) {\n",
       "        toolbar.appendChild(buttonGroup);\n",
       "    }\n",
       "\n",
       "    var fmt_picker = document.createElement('select');\n",
       "    fmt_picker.classList = 'mpl-widget';\n",
       "    toolbar.appendChild(fmt_picker);\n",
       "    this.format_dropdown = fmt_picker;\n",
       "\n",
       "    for (var ind in mpl.extensions) {\n",
       "        var fmt = mpl.extensions[ind];\n",
       "        var option = document.createElement('option');\n",
       "        option.selected = fmt === mpl.default_extension;\n",
       "        option.innerHTML = fmt;\n",
       "        fmt_picker.appendChild(option);\n",
       "    }\n",
       "\n",
       "    var status_bar = document.createElement('span');\n",
       "    status_bar.classList = 'mpl-message';\n",
       "    toolbar.appendChild(status_bar);\n",
       "    this.message = status_bar;\n",
       "};\n",
       "\n",
       "mpl.figure.prototype.request_resize = function (x_pixels, y_pixels) {\n",
       "    // Request matplotlib to resize the figure. Matplotlib will then trigger a resize in the client,\n",
       "    // which will in turn request a refresh of the image.\n",
       "    this.send_message('resize', { width: x_pixels, height: y_pixels });\n",
       "};\n",
       "\n",
       "mpl.figure.prototype.send_message = function (type, properties) {\n",
       "    properties['type'] = type;\n",
       "    properties['figure_id'] = this.id;\n",
       "    this.ws.send(JSON.stringify(properties));\n",
       "};\n",
       "\n",
       "mpl.figure.prototype.send_draw_message = function () {\n",
       "    if (!this.waiting) {\n",
       "        this.waiting = true;\n",
       "        this.ws.send(JSON.stringify({ type: 'draw', figure_id: this.id }));\n",
       "    }\n",
       "};\n",
       "\n",
       "mpl.figure.prototype.handle_save = function (fig, _msg) {\n",
       "    var format_dropdown = fig.format_dropdown;\n",
       "    var format = format_dropdown.options[format_dropdown.selectedIndex].value;\n",
       "    fig.ondownload(fig, format);\n",
       "};\n",
       "\n",
       "mpl.figure.prototype.handle_resize = function (fig, msg) {\n",
       "    var size = msg['size'];\n",
       "    if (size[0] !== fig.canvas.width || size[1] !== fig.canvas.height) {\n",
       "        fig._resize_canvas(size[0], size[1], msg['forward']);\n",
       "        fig.send_message('refresh', {});\n",
       "    }\n",
       "};\n",
       "\n",
       "mpl.figure.prototype.handle_rubberband = function (fig, msg) {\n",
       "    var x0 = msg['x0'] / fig.ratio;\n",
       "    var y0 = (fig.canvas.height - msg['y0']) / fig.ratio;\n",
       "    var x1 = msg['x1'] / fig.ratio;\n",
       "    var y1 = (fig.canvas.height - msg['y1']) / fig.ratio;\n",
       "    x0 = Math.floor(x0) + 0.5;\n",
       "    y0 = Math.floor(y0) + 0.5;\n",
       "    x1 = Math.floor(x1) + 0.5;\n",
       "    y1 = Math.floor(y1) + 0.5;\n",
       "    var min_x = Math.min(x0, x1);\n",
       "    var min_y = Math.min(y0, y1);\n",
       "    var width = Math.abs(x1 - x0);\n",
       "    var height = Math.abs(y1 - y0);\n",
       "\n",
       "    fig.rubberband_context.clearRect(\n",
       "        0,\n",
       "        0,\n",
       "        fig.canvas.width / fig.ratio,\n",
       "        fig.canvas.height / fig.ratio\n",
       "    );\n",
       "\n",
       "    fig.rubberband_context.strokeRect(min_x, min_y, width, height);\n",
       "};\n",
       "\n",
       "mpl.figure.prototype.handle_figure_label = function (fig, msg) {\n",
       "    // Updates the figure title.\n",
       "    fig.header.textContent = msg['label'];\n",
       "};\n",
       "\n",
       "mpl.figure.prototype.handle_cursor = function (fig, msg) {\n",
       "    var cursor = msg['cursor'];\n",
       "    switch (cursor) {\n",
       "        case 0:\n",
       "            cursor = 'pointer';\n",
       "            break;\n",
       "        case 1:\n",
       "            cursor = 'default';\n",
       "            break;\n",
       "        case 2:\n",
       "            cursor = 'crosshair';\n",
       "            break;\n",
       "        case 3:\n",
       "            cursor = 'move';\n",
       "            break;\n",
       "    }\n",
       "    fig.rubberband_canvas.style.cursor = cursor;\n",
       "};\n",
       "\n",
       "mpl.figure.prototype.handle_message = function (fig, msg) {\n",
       "    fig.message.textContent = msg['message'];\n",
       "};\n",
       "\n",
       "mpl.figure.prototype.handle_draw = function (fig, _msg) {\n",
       "    // Request the server to send over a new figure.\n",
       "    fig.send_draw_message();\n",
       "};\n",
       "\n",
       "mpl.figure.prototype.handle_image_mode = function (fig, msg) {\n",
       "    fig.image_mode = msg['mode'];\n",
       "};\n",
       "\n",
       "mpl.figure.prototype.handle_history_buttons = function (fig, msg) {\n",
       "    for (var key in msg) {\n",
       "        if (!(key in fig.buttons)) {\n",
       "            continue;\n",
       "        }\n",
       "        fig.buttons[key].disabled = !msg[key];\n",
       "        fig.buttons[key].setAttribute('aria-disabled', !msg[key]);\n",
       "    }\n",
       "};\n",
       "\n",
       "mpl.figure.prototype.handle_navigate_mode = function (fig, msg) {\n",
       "    if (msg['mode'] === 'PAN') {\n",
       "        fig.buttons['Pan'].classList.add('active');\n",
       "        fig.buttons['Zoom'].classList.remove('active');\n",
       "    } else if (msg['mode'] === 'ZOOM') {\n",
       "        fig.buttons['Pan'].classList.remove('active');\n",
       "        fig.buttons['Zoom'].classList.add('active');\n",
       "    } else {\n",
       "        fig.buttons['Pan'].classList.remove('active');\n",
       "        fig.buttons['Zoom'].classList.remove('active');\n",
       "    }\n",
       "};\n",
       "\n",
       "mpl.figure.prototype.updated_canvas_event = function () {\n",
       "    // Called whenever the canvas gets updated.\n",
       "    this.send_message('ack', {});\n",
       "};\n",
       "\n",
       "// A function to construct a web socket function for onmessage handling.\n",
       "// Called in the figure constructor.\n",
       "mpl.figure.prototype._make_on_message_function = function (fig) {\n",
       "    return function socket_on_message(evt) {\n",
       "        if (evt.data instanceof Blob) {\n",
       "            var img = evt.data;\n",
       "            if (img.type !== 'image/png') {\n",
       "                /* FIXME: We get \"Resource interpreted as Image but\n",
       "                 * transferred with MIME type text/plain:\" errors on\n",
       "                 * Chrome.  But how to set the MIME type?  It doesn't seem\n",
       "                 * to be part of the websocket stream */\n",
       "                img.type = 'image/png';\n",
       "            }\n",
       "\n",
       "            /* Free the memory for the previous frames */\n",
       "            if (fig.imageObj.src) {\n",
       "                (window.URL || window.webkitURL).revokeObjectURL(\n",
       "                    fig.imageObj.src\n",
       "                );\n",
       "            }\n",
       "\n",
       "            fig.imageObj.src = (window.URL || window.webkitURL).createObjectURL(\n",
       "                img\n",
       "            );\n",
       "            fig.updated_canvas_event();\n",
       "            fig.waiting = false;\n",
       "            return;\n",
       "        } else if (\n",
       "            typeof evt.data === 'string' &&\n",
       "            evt.data.slice(0, 21) === 'data:image/png;base64'\n",
       "        ) {\n",
       "            fig.imageObj.src = evt.data;\n",
       "            fig.updated_canvas_event();\n",
       "            fig.waiting = false;\n",
       "            return;\n",
       "        }\n",
       "\n",
       "        var msg = JSON.parse(evt.data);\n",
       "        var msg_type = msg['type'];\n",
       "\n",
       "        // Call the  \"handle_{type}\" callback, which takes\n",
       "        // the figure and JSON message as its only arguments.\n",
       "        try {\n",
       "            var callback = fig['handle_' + msg_type];\n",
       "        } catch (e) {\n",
       "            console.log(\n",
       "                \"No handler for the '\" + msg_type + \"' message type: \",\n",
       "                msg\n",
       "            );\n",
       "            return;\n",
       "        }\n",
       "\n",
       "        if (callback) {\n",
       "            try {\n",
       "                // console.log(\"Handling '\" + msg_type + \"' message: \", msg);\n",
       "                callback(fig, msg);\n",
       "            } catch (e) {\n",
       "                console.log(\n",
       "                    \"Exception inside the 'handler_\" + msg_type + \"' callback:\",\n",
       "                    e,\n",
       "                    e.stack,\n",
       "                    msg\n",
       "                );\n",
       "            }\n",
       "        }\n",
       "    };\n",
       "};\n",
       "\n",
       "// from http://stackoverflow.com/questions/1114465/getting-mouse-location-in-canvas\n",
       "mpl.findpos = function (e) {\n",
       "    //this section is from http://www.quirksmode.org/js/events_properties.html\n",
       "    var targ;\n",
       "    if (!e) {\n",
       "        e = window.event;\n",
       "    }\n",
       "    if (e.target) {\n",
       "        targ = e.target;\n",
       "    } else if (e.srcElement) {\n",
       "        targ = e.srcElement;\n",
       "    }\n",
       "    if (targ.nodeType === 3) {\n",
       "        // defeat Safari bug\n",
       "        targ = targ.parentNode;\n",
       "    }\n",
       "\n",
       "    // pageX,Y are the mouse positions relative to the document\n",
       "    var boundingRect = targ.getBoundingClientRect();\n",
       "    var x = e.pageX - (boundingRect.left + document.body.scrollLeft);\n",
       "    var y = e.pageY - (boundingRect.top + document.body.scrollTop);\n",
       "\n",
       "    return { x: x, y: y };\n",
       "};\n",
       "\n",
       "/*\n",
       " * return a copy of an object with only non-object keys\n",
       " * we need this to avoid circular references\n",
       " * http://stackoverflow.com/a/24161582/3208463\n",
       " */\n",
       "function simpleKeys(original) {\n",
       "    return Object.keys(original).reduce(function (obj, key) {\n",
       "        if (typeof original[key] !== 'object') {\n",
       "            obj[key] = original[key];\n",
       "        }\n",
       "        return obj;\n",
       "    }, {});\n",
       "}\n",
       "\n",
       "mpl.figure.prototype.mouse_event = function (event, name) {\n",
       "    var canvas_pos = mpl.findpos(event);\n",
       "\n",
       "    if (name === 'button_press') {\n",
       "        this.canvas.focus();\n",
       "        this.canvas_div.focus();\n",
       "    }\n",
       "\n",
       "    var x = canvas_pos.x * this.ratio;\n",
       "    var y = canvas_pos.y * this.ratio;\n",
       "\n",
       "    this.send_message(name, {\n",
       "        x: x,\n",
       "        y: y,\n",
       "        button: event.button,\n",
       "        step: event.step,\n",
       "        guiEvent: simpleKeys(event),\n",
       "    });\n",
       "\n",
       "    /* This prevents the web browser from automatically changing to\n",
       "     * the text insertion cursor when the button is pressed.  We want\n",
       "     * to control all of the cursor setting manually through the\n",
       "     * 'cursor' event from matplotlib */\n",
       "    event.preventDefault();\n",
       "    return false;\n",
       "};\n",
       "\n",
       "mpl.figure.prototype._key_event_extra = function (_event, _name) {\n",
       "    // Handle any extra behaviour associated with a key event\n",
       "};\n",
       "\n",
       "mpl.figure.prototype.key_event = function (event, name) {\n",
       "    // Prevent repeat events\n",
       "    if (name === 'key_press') {\n",
       "        if (event.key === this._key) {\n",
       "            return;\n",
       "        } else {\n",
       "            this._key = event.key;\n",
       "        }\n",
       "    }\n",
       "    if (name === 'key_release') {\n",
       "        this._key = null;\n",
       "    }\n",
       "\n",
       "    var value = '';\n",
       "    if (event.ctrlKey && event.key !== 'Control') {\n",
       "        value += 'ctrl+';\n",
       "    }\n",
       "    else if (event.altKey && event.key !== 'Alt') {\n",
       "        value += 'alt+';\n",
       "    }\n",
       "    else if (event.shiftKey && event.key !== 'Shift') {\n",
       "        value += 'shift+';\n",
       "    }\n",
       "\n",
       "    value += 'k' + event.key;\n",
       "\n",
       "    this._key_event_extra(event, name);\n",
       "\n",
       "    this.send_message(name, { key: value, guiEvent: simpleKeys(event) });\n",
       "    return false;\n",
       "};\n",
       "\n",
       "mpl.figure.prototype.toolbar_button_onclick = function (name) {\n",
       "    if (name === 'download') {\n",
       "        this.handle_save(this, null);\n",
       "    } else {\n",
       "        this.send_message('toolbar_button', { name: name });\n",
       "    }\n",
       "};\n",
       "\n",
       "mpl.figure.prototype.toolbar_button_onmouseover = function (tooltip) {\n",
       "    this.message.textContent = tooltip;\n",
       "};\n",
       "\n",
       "///////////////// REMAINING CONTENT GENERATED BY embed_js.py /////////////////\n",
       "// prettier-ignore\n",
       "var _JSXTOOLS_RESIZE_OBSERVER=function(A){var t,i=new WeakMap,n=new WeakMap,a=new WeakMap,r=new WeakMap,o=new Set;function s(e){if(!(this instanceof s))throw new TypeError(\"Constructor requires 'new' operator\");i.set(this,e)}function h(){throw new TypeError(\"Function is not a constructor\")}function c(e,t,i,n){e=0 in arguments?Number(arguments[0]):0,t=1 in arguments?Number(arguments[1]):0,i=2 in arguments?Number(arguments[2]):0,n=3 in arguments?Number(arguments[3]):0,this.right=(this.x=this.left=e)+(this.width=i),this.bottom=(this.y=this.top=t)+(this.height=n),Object.freeze(this)}function d(){t=requestAnimationFrame(d);var s=new WeakMap,p=new Set;o.forEach((function(t){r.get(t).forEach((function(i){var r=t instanceof window.SVGElement,o=a.get(t),d=r?0:parseFloat(o.paddingTop),f=r?0:parseFloat(o.paddingRight),l=r?0:parseFloat(o.paddingBottom),u=r?0:parseFloat(o.paddingLeft),g=r?0:parseFloat(o.borderTopWidth),m=r?0:parseFloat(o.borderRightWidth),w=r?0:parseFloat(o.borderBottomWidth),b=u+f,F=d+l,v=(r?0:parseFloat(o.borderLeftWidth))+m,W=g+w,y=r?0:t.offsetHeight-W-t.clientHeight,E=r?0:t.offsetWidth-v-t.clientWidth,R=b+v,z=F+W,M=r?t.width:parseFloat(o.width)-R-E,O=r?t.height:parseFloat(o.height)-z-y;if(n.has(t)){var k=n.get(t);if(k[0]===M&&k[1]===O)return}n.set(t,[M,O]);var S=Object.create(h.prototype);S.target=t,S.contentRect=new c(u,d,M,O),s.has(i)||(s.set(i,[]),p.add(i)),s.get(i).push(S)}))})),p.forEach((function(e){i.get(e).call(e,s.get(e),e)}))}return s.prototype.observe=function(i){if(i instanceof window.Element){r.has(i)||(r.set(i,new Set),o.add(i),a.set(i,window.getComputedStyle(i)));var n=r.get(i);n.has(this)||n.add(this),cancelAnimationFrame(t),t=requestAnimationFrame(d)}},s.prototype.unobserve=function(i){if(i instanceof window.Element&&r.has(i)){var n=r.get(i);n.has(this)&&(n.delete(this),n.size||(r.delete(i),o.delete(i))),n.size||r.delete(i),o.size||cancelAnimationFrame(t)}},A.DOMRectReadOnly=c,A.ResizeObserver=s,A.ResizeObserverEntry=h,A}; // eslint-disable-line\n",
       "mpl.toolbar_items = [[\"Home\", \"Reset original view\", \"fa fa-home icon-home\", \"home\"], [\"Back\", \"Back to previous view\", \"fa fa-arrow-left icon-arrow-left\", \"back\"], [\"Forward\", \"Forward to next view\", \"fa fa-arrow-right icon-arrow-right\", \"forward\"], [\"\", \"\", \"\", \"\"], [\"Pan\", \"Left button pans, Right button zooms\\nx/y fixes axis, CTRL fixes aspect\", \"fa fa-arrows icon-move\", \"pan\"], [\"Zoom\", \"Zoom to rectangle\\nx/y fixes axis, CTRL fixes aspect\", \"fa fa-square-o icon-check-empty\", \"zoom\"], [\"\", \"\", \"\", \"\"], [\"Download\", \"Download plot\", \"fa fa-floppy-o icon-save\", \"download\"]];\n",
       "\n",
       "mpl.extensions = [\"eps\", \"jpeg\", \"pgf\", \"pdf\", \"png\", \"ps\", \"raw\", \"svg\", \"tif\"];\n",
       "\n",
       "mpl.default_extension = \"png\";/* global mpl */\n",
       "\n",
       "var comm_websocket_adapter = function (comm) {\n",
       "    // Create a \"websocket\"-like object which calls the given IPython comm\n",
       "    // object with the appropriate methods. Currently this is a non binary\n",
       "    // socket, so there is still some room for performance tuning.\n",
       "    var ws = {};\n",
       "\n",
       "    ws.binaryType = comm.kernel.ws.binaryType;\n",
       "    ws.readyState = comm.kernel.ws.readyState;\n",
       "    function updateReadyState(_event) {\n",
       "        if (comm.kernel.ws) {\n",
       "            ws.readyState = comm.kernel.ws.readyState;\n",
       "        } else {\n",
       "            ws.readyState = 3; // Closed state.\n",
       "        }\n",
       "    }\n",
       "    comm.kernel.ws.addEventListener('open', updateReadyState);\n",
       "    comm.kernel.ws.addEventListener('close', updateReadyState);\n",
       "    comm.kernel.ws.addEventListener('error', updateReadyState);\n",
       "\n",
       "    ws.close = function () {\n",
       "        comm.close();\n",
       "    };\n",
       "    ws.send = function (m) {\n",
       "        //console.log('sending', m);\n",
       "        comm.send(m);\n",
       "    };\n",
       "    // Register the callback with on_msg.\n",
       "    comm.on_msg(function (msg) {\n",
       "        //console.log('receiving', msg['content']['data'], msg);\n",
       "        var data = msg['content']['data'];\n",
       "        if (data['blob'] !== undefined) {\n",
       "            data = {\n",
       "                data: new Blob(msg['buffers'], { type: data['blob'] }),\n",
       "            };\n",
       "        }\n",
       "        // Pass the mpl event to the overridden (by mpl) onmessage function.\n",
       "        ws.onmessage(data);\n",
       "    });\n",
       "    return ws;\n",
       "};\n",
       "\n",
       "mpl.mpl_figure_comm = function (comm, msg) {\n",
       "    // This is the function which gets called when the mpl process\n",
       "    // starts-up an IPython Comm through the \"matplotlib\" channel.\n",
       "\n",
       "    var id = msg.content.data.id;\n",
       "    // Get hold of the div created by the display call when the Comm\n",
       "    // socket was opened in Python.\n",
       "    var element = document.getElementById(id);\n",
       "    var ws_proxy = comm_websocket_adapter(comm);\n",
       "\n",
       "    function ondownload(figure, _format) {\n",
       "        window.open(figure.canvas.toDataURL());\n",
       "    }\n",
       "\n",
       "    var fig = new mpl.figure(id, ws_proxy, ondownload, element);\n",
       "\n",
       "    // Call onopen now - mpl needs it, as it is assuming we've passed it a real\n",
       "    // web socket which is closed, not our websocket->open comm proxy.\n",
       "    ws_proxy.onopen();\n",
       "\n",
       "    fig.parent_element = element;\n",
       "    fig.cell_info = mpl.find_output_cell(\"<div id='\" + id + \"'></div>\");\n",
       "    if (!fig.cell_info) {\n",
       "        console.error('Failed to find cell for figure', id, fig);\n",
       "        return;\n",
       "    }\n",
       "    fig.cell_info[0].output_area.element.on(\n",
       "        'cleared',\n",
       "        { fig: fig },\n",
       "        fig._remove_fig_handler\n",
       "    );\n",
       "};\n",
       "\n",
       "mpl.figure.prototype.handle_close = function (fig, msg) {\n",
       "    var width = fig.canvas.width / fig.ratio;\n",
       "    fig.cell_info[0].output_area.element.off(\n",
       "        'cleared',\n",
       "        fig._remove_fig_handler\n",
       "    );\n",
       "    fig.resizeObserverInstance.unobserve(fig.canvas_div);\n",
       "\n",
       "    // Update the output cell to use the data from the current canvas.\n",
       "    fig.push_to_output();\n",
       "    var dataURL = fig.canvas.toDataURL();\n",
       "    // Re-enable the keyboard manager in IPython - without this line, in FF,\n",
       "    // the notebook keyboard shortcuts fail.\n",
       "    IPython.keyboard_manager.enable();\n",
       "    fig.parent_element.innerHTML =\n",
       "        '<img src=\"' + dataURL + '\" width=\"' + width + '\">';\n",
       "    fig.close_ws(fig, msg);\n",
       "};\n",
       "\n",
       "mpl.figure.prototype.close_ws = function (fig, msg) {\n",
       "    fig.send_message('closing', msg);\n",
       "    // fig.ws.close()\n",
       "};\n",
       "\n",
       "mpl.figure.prototype.push_to_output = function (_remove_interactive) {\n",
       "    // Turn the data on the canvas into data in the output cell.\n",
       "    var width = this.canvas.width / this.ratio;\n",
       "    var dataURL = this.canvas.toDataURL();\n",
       "    this.cell_info[1]['text/html'] =\n",
       "        '<img src=\"' + dataURL + '\" width=\"' + width + '\">';\n",
       "};\n",
       "\n",
       "mpl.figure.prototype.updated_canvas_event = function () {\n",
       "    // Tell IPython that the notebook contents must change.\n",
       "    IPython.notebook.set_dirty(true);\n",
       "    this.send_message('ack', {});\n",
       "    var fig = this;\n",
       "    // Wait a second, then push the new image to the DOM so\n",
       "    // that it is saved nicely (might be nice to debounce this).\n",
       "    setTimeout(function () {\n",
       "        fig.push_to_output();\n",
       "    }, 1000);\n",
       "};\n",
       "\n",
       "mpl.figure.prototype._init_toolbar = function () {\n",
       "    var fig = this;\n",
       "\n",
       "    var toolbar = document.createElement('div');\n",
       "    toolbar.classList = 'btn-toolbar';\n",
       "    this.root.appendChild(toolbar);\n",
       "\n",
       "    function on_click_closure(name) {\n",
       "        return function (_event) {\n",
       "            return fig.toolbar_button_onclick(name);\n",
       "        };\n",
       "    }\n",
       "\n",
       "    function on_mouseover_closure(tooltip) {\n",
       "        return function (event) {\n",
       "            if (!event.currentTarget.disabled) {\n",
       "                return fig.toolbar_button_onmouseover(tooltip);\n",
       "            }\n",
       "        };\n",
       "    }\n",
       "\n",
       "    fig.buttons = {};\n",
       "    var buttonGroup = document.createElement('div');\n",
       "    buttonGroup.classList = 'btn-group';\n",
       "    var button;\n",
       "    for (var toolbar_ind in mpl.toolbar_items) {\n",
       "        var name = mpl.toolbar_items[toolbar_ind][0];\n",
       "        var tooltip = mpl.toolbar_items[toolbar_ind][1];\n",
       "        var image = mpl.toolbar_items[toolbar_ind][2];\n",
       "        var method_name = mpl.toolbar_items[toolbar_ind][3];\n",
       "\n",
       "        if (!name) {\n",
       "            /* Instead of a spacer, we start a new button group. */\n",
       "            if (buttonGroup.hasChildNodes()) {\n",
       "                toolbar.appendChild(buttonGroup);\n",
       "            }\n",
       "            buttonGroup = document.createElement('div');\n",
       "            buttonGroup.classList = 'btn-group';\n",
       "            continue;\n",
       "        }\n",
       "\n",
       "        button = fig.buttons[name] = document.createElement('button');\n",
       "        button.classList = 'btn btn-default';\n",
       "        button.href = '#';\n",
       "        button.title = name;\n",
       "        button.innerHTML = '<i class=\"fa ' + image + ' fa-lg\"></i>';\n",
       "        button.addEventListener('click', on_click_closure(method_name));\n",
       "        button.addEventListener('mouseover', on_mouseover_closure(tooltip));\n",
       "        buttonGroup.appendChild(button);\n",
       "    }\n",
       "\n",
       "    if (buttonGroup.hasChildNodes()) {\n",
       "        toolbar.appendChild(buttonGroup);\n",
       "    }\n",
       "\n",
       "    // Add the status bar.\n",
       "    var status_bar = document.createElement('span');\n",
       "    status_bar.classList = 'mpl-message pull-right';\n",
       "    toolbar.appendChild(status_bar);\n",
       "    this.message = status_bar;\n",
       "\n",
       "    // Add the close button to the window.\n",
       "    var buttongrp = document.createElement('div');\n",
       "    buttongrp.classList = 'btn-group inline pull-right';\n",
       "    button = document.createElement('button');\n",
       "    button.classList = 'btn btn-mini btn-primary';\n",
       "    button.href = '#';\n",
       "    button.title = 'Stop Interaction';\n",
       "    button.innerHTML = '<i class=\"fa fa-power-off icon-remove icon-large\"></i>';\n",
       "    button.addEventListener('click', function (_evt) {\n",
       "        fig.handle_close(fig, {});\n",
       "    });\n",
       "    button.addEventListener(\n",
       "        'mouseover',\n",
       "        on_mouseover_closure('Stop Interaction')\n",
       "    );\n",
       "    buttongrp.appendChild(button);\n",
       "    var titlebar = this.root.querySelector('.ui-dialog-titlebar');\n",
       "    titlebar.insertBefore(buttongrp, titlebar.firstChild);\n",
       "};\n",
       "\n",
       "mpl.figure.prototype._remove_fig_handler = function (event) {\n",
       "    var fig = event.data.fig;\n",
       "    if (event.target !== this) {\n",
       "        // Ignore bubbled events from children.\n",
       "        return;\n",
       "    }\n",
       "    fig.close_ws(fig, {});\n",
       "};\n",
       "\n",
       "mpl.figure.prototype._root_extra_style = function (el) {\n",
       "    el.style.boxSizing = 'content-box'; // override notebook setting of border-box.\n",
       "};\n",
       "\n",
       "mpl.figure.prototype._canvas_extra_style = function (el) {\n",
       "    // this is important to make the div 'focusable\n",
       "    el.setAttribute('tabindex', 0);\n",
       "    // reach out to IPython and tell the keyboard manager to turn it's self\n",
       "    // off when our div gets focus\n",
       "\n",
       "    // location in version 3\n",
       "    if (IPython.notebook.keyboard_manager) {\n",
       "        IPython.notebook.keyboard_manager.register_events(el);\n",
       "    } else {\n",
       "        // location in version 2\n",
       "        IPython.keyboard_manager.register_events(el);\n",
       "    }\n",
       "};\n",
       "\n",
       "mpl.figure.prototype._key_event_extra = function (event, _name) {\n",
       "    var manager = IPython.notebook.keyboard_manager;\n",
       "    if (!manager) {\n",
       "        manager = IPython.keyboard_manager;\n",
       "    }\n",
       "\n",
       "    // Check for shift+enter\n",
       "    if (event.shiftKey && event.which === 13) {\n",
       "        this.canvas_div.blur();\n",
       "        // select the cell after this one\n",
       "        var index = IPython.notebook.find_cell_index(this.cell_info[0]);\n",
       "        IPython.notebook.select(index + 1);\n",
       "    }\n",
       "};\n",
       "\n",
       "mpl.figure.prototype.handle_save = function (fig, _msg) {\n",
       "    fig.ondownload(fig, null);\n",
       "};\n",
       "\n",
       "mpl.find_output_cell = function (html_output) {\n",
       "    // Return the cell and output element which can be found *uniquely* in the notebook.\n",
       "    // Note - this is a bit hacky, but it is done because the \"notebook_saving.Notebook\"\n",
       "    // IPython event is triggered only after the cells have been serialised, which for\n",
       "    // our purposes (turning an active figure into a static one), is too late.\n",
       "    var cells = IPython.notebook.get_cells();\n",
       "    var ncells = cells.length;\n",
       "    for (var i = 0; i < ncells; i++) {\n",
       "        var cell = cells[i];\n",
       "        if (cell.cell_type === 'code') {\n",
       "            for (var j = 0; j < cell.output_area.outputs.length; j++) {\n",
       "                var data = cell.output_area.outputs[j];\n",
       "                if (data.data) {\n",
       "                    // IPython >= 3 moved mimebundle to data attribute of output\n",
       "                    data = data.data;\n",
       "                }\n",
       "                if (data['text/html'] === html_output) {\n",
       "                    return [cell, data, j];\n",
       "                }\n",
       "            }\n",
       "        }\n",
       "    }\n",
       "};\n",
       "\n",
       "// Register the function which deals with the matplotlib target/channel.\n",
       "// The kernel may be null if the page has been refreshed.\n",
       "if (IPython.notebook.kernel !== null) {\n",
       "    IPython.notebook.kernel.comm_manager.register_target(\n",
       "        'matplotlib',\n",
       "        mpl.mpl_figure_comm\n",
       "    );\n",
       "}\n"
      ],
      "text/plain": [
       "<IPython.core.display.Javascript object>"
      ]
     },
     "metadata": {},
     "output_type": "display_data"
    },
    {
     "data": {
      "text/html": [
       "<img src=\"data:image/png;base64,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\" width=\"1000\">"
      ],
      "text/plain": [
       "<IPython.core.display.HTML object>"
      ]
     },
     "metadata": {},
     "output_type": "display_data"
    }
   ],
   "source": [
    "k = \"(19.486669498338873, 21.437237182724253)\"\n",
    "\n",
    "nb_start = float(k.split(\"(\")[1].split(\")\")[0].split(',')[0])\n",
    "nb_stop = float(k.split(\"(\")[1].split(\")\")[0].split(',')[1])\n",
    "\n",
    "limit0, limit1 = np.round(nb_start), np.ceil(nb_stop) \n",
    "\n",
    "\n",
    "# netowrkburst of interest\n",
    "nboi= network_bursts_dictionary[k]\n",
    "bursting_channels = nboi['bursting_channels']\n",
    "down_channels = list(network_bursts_dictionary[k]['channels_lfp_up'])\n",
    "up_channels = list(network_bursts_dictionary[k]['channels_lfp_up'])\n",
    "lfp_channels = up_channels + down_channels\n",
    "\n",
    "channels_of_interest = list(bursting_channels)\n",
    "\n",
    "channels_of_interest.sort()\n",
    "\n",
    "number_traces = len(channels_of_interest)\n",
    "\n",
    "fig = plt.figure(figsize=(10, number_traces))\n",
    "\n",
    "gs1 = gridspec.GridSpec(number_traces, 1)\n",
    "gs1.update(wspace=0.025, hspace=0.05) \n",
    "axs = []\n",
    "\n",
    "for i in range(1, number_traces+1):\n",
    "    \n",
    "    \n",
    "    key = channels_of_interest[i-1]\n",
    "    \n",
    "    #no get all signals to plot and the lfp_down and lfp_ups\n",
    "    bandpass_signal = bandpass_dic[key]\n",
    "    # in the lowpass_dic there are still additional returns from the old butter filter function\n",
    "    lowpass_signal = lowpass_dic[key]\n",
    "    ups = lfp_ups[key]\n",
    "    downs = lfp_downs[key]\n",
    "    \n",
    "    \n",
    "    \n",
    "    axs.append(fig.add_subplot(gs1[i-1]))\n",
    "    \n",
    "    \n",
    "    axs[-1] = plt.plot(time_in_sec, bandpass_signal, c=\"#048ABF\", linewidth = 0.5)\n",
    "    axs[-1] = plt.plot(time_in_sec, lowpass_signal, c='#F20505', linewidth=1)\n",
    "    #ax.spines['top'].set_visible(False)\n",
    "    #ax.spines['right'].set_visible(False)\n",
    "    #ax.spines['bottom'].set_visible(False)\n",
    "    #ax.spines['left'].set_visible(False)\n",
    "    #ax.get_xaxis().set_visible(False)\n",
    "    frameon = False\n",
    "    \n",
    "    ax = plt.axvspan(nb_start, nb_stop, color='#D9580D', alpha=0.2)\n",
    "    \n",
    "    for i in downs:\n",
    "        ax = plt.axvspan(i[0], i[1], color='#5D7CA6', alpha=0.2)\n",
    "    for i in ups:\n",
    "        ax = plt.axvspan(i[0], i[1], color='#BF214B', alpha=0.2)\n",
    "        \n",
    "    \n",
    "\n",
    "    # plt xlim for zooming in the time\n",
    "    plt.xlim(limit0, limit1)\n",
    "    plt.ylim(-70, 70)\n",
    "    plt.yticks(fontsize='xx-small')\n",
    "    plt.ylabel(key)\n",
    "    \n",
    "    fig.suptitle(filebase + ' lfp + banbpass from '+str(limit0)+' to '+str(limit1))"
   ]
  },
  {
   "cell_type": "code",
   "execution_count": 74,
   "id": "30cf2afb",
   "metadata": {},
   "outputs": [],
   "source": [
    "def plot_networkburst_traces(network_bursts_dictionary):\n",
    "    \n",
    "    \n",
    "    for burst in network_bursts_dictionary:\n",
    "        plt.ioff()\n",
    "        k = burst\n",
    "\n",
    "        nb_start = float(k.split(\"(\")[1].split(\")\")[0].split(',')[0])\n",
    "        nb_stop = float(k.split(\"(\")[1].split(\")\")[0].split(',')[1])\n",
    "\n",
    "        limit0, limit1 = np.around(nb_start-0.5, decimals=2), np.around(nb_stop+0.5, decimals=2)\n",
    "\n",
    "\n",
    "        # netowrkburst of interest\n",
    "        nboi= network_bursts_dictionary[k]\n",
    "        bursting_channels = nboi['bursting_channels']\n",
    "        active_channels = nboi['active_channels']\n",
    "        down_channels = list(network_bursts_dictionary[k]['channels_lfp_up'])\n",
    "        up_channels = list(network_bursts_dictionary[k]['channels_lfp_up'])\n",
    "        lfp_channels = up_channels + down_channels\n",
    "        \n",
    "   \n",
    "        channels_of_interest = list(active_channels)\n",
    "\n",
    "        channels_of_interest.sort()\n",
    "\n",
    "        number_traces = len(channels_of_interest)\n",
    "\n",
    "        fig = plt.figure(figsize=(10, number_traces))\n",
    "\n",
    "        gs1 = gridspec.GridSpec(number_traces, 1)\n",
    "        gs1.update(wspace=0.025, hspace=0.05) \n",
    "        axs = []\n",
    "\n",
    "        for i in range(1, number_traces+1):\n",
    "\n",
    "\n",
    "            key = channels_of_interest[i-1]\n",
    "\n",
    "            #no get all signals to plot and the lfp_down and lfp_ups\n",
    "            bandpass_signal = bandpass_dic[key]\n",
    "            # in the lowpass_dic there are still additional returns from the old butter filter function\n",
    "            lowpass_signal = lowpass_dic[key]\n",
    "            ups = lfp_ups[key]\n",
    "            downs = lfp_downs[key]\n",
    "\n",
    "\n",
    "\n",
    "            axs.append(fig.add_subplot(gs1[i-1]))\n",
    "\n",
    "\n",
    "            axs[-1] = plt.plot(time_in_sec, bandpass_signal, c=\"#048ABF\", linewidth = 0.5)\n",
    "            axs[-1] = plt.plot(time_in_sec, lowpass_signal, c='#F20505', linewidth=1)\n",
    "            #ax.spines['top'].set_visible(False)\n",
    "            #ax.spines['right'].set_visible(False)\n",
    "            #ax.spines['bottom'].set_visible(False)\n",
    "            #ax.spines['left'].set_visible(False)\n",
    "            #ax.get_xaxis().set_visible(False)\n",
    "            frameon = False\n",
    "\n",
    "            ax = plt.axvspan(nb_start, nb_stop, color='#C1D96C', alpha=0.1)\n",
    "\n",
    "            for i in downs:\n",
    "                ax = plt.axvspan(i[0], i[1], color='#5D7CA6', alpha=0.2)\n",
    "            for i in ups:\n",
    "                ax = plt.axvspan(i[0], i[1], color='#BF214B', alpha=0.2)\n",
    "\n",
    "\n",
    "\n",
    "            # plt xlim for zooming in the time\n",
    "            plt.xlim(limit0, limit1)\n",
    "            plt.ylim(-70, 70)\n",
    "            plt.yticks(fontsize='xx-small')\n",
    "            plt.ylabel(key)\n",
    "\n",
    "        fig.suptitle(filebase + ' network burst from '+str(limit0)+' to '+str(limit1))\n",
    "\n",
    "        fig.savefig(\n",
    "        filebase + '_lfp_and_bandpasssignal_cutout_from_' + str(limit0) +'_to_'+str(limit1)+'.png',\n",
    "        bbox_inches='tight', dpi=300)\n",
    "        plt.close()\n"
   ]
  },
  {
   "cell_type": "code",
   "execution_count": null,
   "id": "c9aaaaf0",
   "metadata": {},
   "outputs": [],
   "source": []
  },
  {
   "cell_type": "code",
   "execution_count": 95,
   "id": "503d3e5e",
   "metadata": {},
   "outputs": [],
   "source": [
    "os.chdir(output_directory)"
   ]
  },
  {
   "cell_type": "code",
   "execution_count": 96,
   "id": "3cbd5b5d",
   "metadata": {},
   "outputs": [
    {
     "data": {
      "text/plain": [
       "<matplotlib.pyplot._IoffContext at 0x288c360e760>"
      ]
     },
     "execution_count": 96,
     "metadata": {},
     "output_type": "execute_result"
    }
   ],
   "source": [
    "plt.ioff()"
   ]
  },
  {
   "cell_type": "code",
   "execution_count": 90,
   "id": "5c096f61",
   "metadata": {},
   "outputs": [
    {
     "ename": "ValueError",
     "evalue": "Image size of 3000x75300 pixels is too large. It must be less than 2^16 in each direction.",
     "output_type": "error",
     "traceback": [
      "\u001b[1;31m---------------------------------------------------------------------------\u001b[0m",
      "\u001b[1;31mValueError\u001b[0m                                Traceback (most recent call last)",
      "\u001b[1;32m<ipython-input-90-53a0d037f675>\u001b[0m in \u001b[0;36m<module>\u001b[1;34m\u001b[0m\n\u001b[1;32m----> 1\u001b[1;33m \u001b[0mplot_networkburst_traces\u001b[0m\u001b[1;33m(\u001b[0m\u001b[0mnetwork_bursts_dictionary\u001b[0m\u001b[1;33m,\u001b[0m \u001b[0minterest_channels\u001b[0m \u001b[1;33m=\u001b[0m \u001b[1;34m'active'\u001b[0m\u001b[1;33m)\u001b[0m\u001b[1;33m\u001b[0m\u001b[1;33m\u001b[0m\u001b[0m\n\u001b[0m",
      "\u001b[1;32m<ipython-input-87-4bb3ff759fe2>\u001b[0m in \u001b[0;36mplot_networkburst_traces\u001b[1;34m(network_bursts_dictionary, interest_channels)\u001b[0m\n\u001b[0;32m     80\u001b[0m         \u001b[0mfig\u001b[0m\u001b[1;33m.\u001b[0m\u001b[0msuptitle\u001b[0m\u001b[1;33m(\u001b[0m\u001b[0mfilebase\u001b[0m \u001b[1;33m+\u001b[0m \u001b[1;34m' network burst from '\u001b[0m\u001b[1;33m+\u001b[0m\u001b[0mstr\u001b[0m\u001b[1;33m(\u001b[0m\u001b[0mlimit0\u001b[0m\u001b[1;33m)\u001b[0m\u001b[1;33m+\u001b[0m\u001b[1;34m' to '\u001b[0m\u001b[1;33m+\u001b[0m\u001b[0mstr\u001b[0m\u001b[1;33m(\u001b[0m\u001b[0mlimit1\u001b[0m\u001b[1;33m)\u001b[0m\u001b[1;33m)\u001b[0m\u001b[1;33m\u001b[0m\u001b[1;33m\u001b[0m\u001b[0m\n\u001b[0;32m     81\u001b[0m \u001b[1;33m\u001b[0m\u001b[0m\n\u001b[1;32m---> 82\u001b[1;33m         fig.savefig(\n\u001b[0m\u001b[0;32m     83\u001b[0m         \u001b[0mfilebase\u001b[0m \u001b[1;33m+\u001b[0m \u001b[1;34m'_lfp_and_bandpasssignal_cutout_from_'\u001b[0m \u001b[1;33m+\u001b[0m \u001b[0mstr\u001b[0m\u001b[1;33m(\u001b[0m\u001b[0mlimit0\u001b[0m\u001b[1;33m)\u001b[0m \u001b[1;33m+\u001b[0m\u001b[1;34m'_to_'\u001b[0m\u001b[1;33m+\u001b[0m\u001b[0mstr\u001b[0m\u001b[1;33m(\u001b[0m\u001b[0mlimit1\u001b[0m\u001b[1;33m)\u001b[0m\u001b[1;33m+\u001b[0m\u001b[1;34m'.png'\u001b[0m\u001b[1;33m,\u001b[0m\u001b[1;33m\u001b[0m\u001b[1;33m\u001b[0m\u001b[0m\n\u001b[0;32m     84\u001b[0m         bbox_inches='tight', dpi=300)\n",
      "\u001b[1;32m~\\AppData\\Roaming\\Python\\Python38\\site-packages\\matplotlib\\figure.py\u001b[0m in \u001b[0;36msavefig\u001b[1;34m(self, fname, transparent, **kwargs)\u001b[0m\n\u001b[0;32m   3003\u001b[0m                 \u001b[0mpatch\u001b[0m\u001b[1;33m.\u001b[0m\u001b[0mset_edgecolor\u001b[0m\u001b[1;33m(\u001b[0m\u001b[1;34m'none'\u001b[0m\u001b[1;33m)\u001b[0m\u001b[1;33m\u001b[0m\u001b[1;33m\u001b[0m\u001b[0m\n\u001b[0;32m   3004\u001b[0m \u001b[1;33m\u001b[0m\u001b[0m\n\u001b[1;32m-> 3005\u001b[1;33m         \u001b[0mself\u001b[0m\u001b[1;33m.\u001b[0m\u001b[0mcanvas\u001b[0m\u001b[1;33m.\u001b[0m\u001b[0mprint_figure\u001b[0m\u001b[1;33m(\u001b[0m\u001b[0mfname\u001b[0m\u001b[1;33m,\u001b[0m \u001b[1;33m**\u001b[0m\u001b[0mkwargs\u001b[0m\u001b[1;33m)\u001b[0m\u001b[1;33m\u001b[0m\u001b[1;33m\u001b[0m\u001b[0m\n\u001b[0m\u001b[0;32m   3006\u001b[0m \u001b[1;33m\u001b[0m\u001b[0m\n\u001b[0;32m   3007\u001b[0m         \u001b[1;32mif\u001b[0m \u001b[0mtransparent\u001b[0m\u001b[1;33m:\u001b[0m\u001b[1;33m\u001b[0m\u001b[1;33m\u001b[0m\u001b[0m\n",
      "\u001b[1;32m~\\AppData\\Roaming\\Python\\Python38\\site-packages\\matplotlib\\backend_bases.py\u001b[0m in \u001b[0;36mprint_figure\u001b[1;34m(self, filename, dpi, facecolor, edgecolor, orientation, format, bbox_inches, pad_inches, bbox_extra_artists, backend, **kwargs)\u001b[0m\n\u001b[0;32m   2219\u001b[0m                 \u001b[1;31m# CL works.  \"tight\" also needs a draw to get the right\u001b[0m\u001b[1;33m\u001b[0m\u001b[1;33m\u001b[0m\u001b[1;33m\u001b[0m\u001b[0m\n\u001b[0;32m   2220\u001b[0m                 \u001b[1;31m# locations:\u001b[0m\u001b[1;33m\u001b[0m\u001b[1;33m\u001b[0m\u001b[1;33m\u001b[0m\u001b[0m\n\u001b[1;32m-> 2221\u001b[1;33m                 renderer = _get_renderer(\n\u001b[0m\u001b[0;32m   2222\u001b[0m                     \u001b[0mself\u001b[0m\u001b[1;33m.\u001b[0m\u001b[0mfigure\u001b[0m\u001b[1;33m,\u001b[0m\u001b[1;33m\u001b[0m\u001b[1;33m\u001b[0m\u001b[0m\n\u001b[0;32m   2223\u001b[0m                     functools.partial(\n",
      "\u001b[1;32m~\\AppData\\Roaming\\Python\\Python38\\site-packages\\matplotlib\\backend_bases.py\u001b[0m in \u001b[0;36m_get_renderer\u001b[1;34m(figure, print_method)\u001b[0m\n\u001b[0;32m   1574\u001b[0m                 figure.canvas._get_output_canvas(None, fmt), f\"print_{fmt}\")\n\u001b[0;32m   1575\u001b[0m         \u001b[1;32mtry\u001b[0m\u001b[1;33m:\u001b[0m\u001b[1;33m\u001b[0m\u001b[1;33m\u001b[0m\u001b[0m\n\u001b[1;32m-> 1576\u001b[1;33m             \u001b[0mprint_method\u001b[0m\u001b[1;33m(\u001b[0m\u001b[0mio\u001b[0m\u001b[1;33m.\u001b[0m\u001b[0mBytesIO\u001b[0m\u001b[1;33m(\u001b[0m\u001b[1;33m)\u001b[0m\u001b[1;33m)\u001b[0m\u001b[1;33m\u001b[0m\u001b[1;33m\u001b[0m\u001b[0m\n\u001b[0m\u001b[0;32m   1577\u001b[0m         \u001b[1;32mexcept\u001b[0m \u001b[0mDone\u001b[0m \u001b[1;32mas\u001b[0m \u001b[0mexc\u001b[0m\u001b[1;33m:\u001b[0m\u001b[1;33m\u001b[0m\u001b[1;33m\u001b[0m\u001b[0m\n\u001b[0;32m   1578\u001b[0m             \u001b[0mrenderer\u001b[0m\u001b[1;33m,\u001b[0m \u001b[1;33m=\u001b[0m \u001b[0mfigure\u001b[0m\u001b[1;33m.\u001b[0m\u001b[0m_cachedRenderer\u001b[0m\u001b[1;33m,\u001b[0m \u001b[1;33m=\u001b[0m \u001b[0mexc\u001b[0m\u001b[1;33m.\u001b[0m\u001b[0margs\u001b[0m\u001b[1;33m\u001b[0m\u001b[1;33m\u001b[0m\u001b[0m\n",
      "\u001b[1;32m~\\AppData\\Roaming\\Python\\Python38\\site-packages\\matplotlib\\backend_bases.py\u001b[0m in \u001b[0;36mwrapper\u001b[1;34m(*args, **kwargs)\u001b[0m\n\u001b[0;32m   1667\u001b[0m             \u001b[0mkwargs\u001b[0m\u001b[1;33m.\u001b[0m\u001b[0mpop\u001b[0m\u001b[1;33m(\u001b[0m\u001b[0marg\u001b[0m\u001b[1;33m)\u001b[0m\u001b[1;33m\u001b[0m\u001b[1;33m\u001b[0m\u001b[0m\n\u001b[0;32m   1668\u001b[0m \u001b[1;33m\u001b[0m\u001b[0m\n\u001b[1;32m-> 1669\u001b[1;33m         \u001b[1;32mreturn\u001b[0m \u001b[0mfunc\u001b[0m\u001b[1;33m(\u001b[0m\u001b[1;33m*\u001b[0m\u001b[0margs\u001b[0m\u001b[1;33m,\u001b[0m \u001b[1;33m**\u001b[0m\u001b[0mkwargs\u001b[0m\u001b[1;33m)\u001b[0m\u001b[1;33m\u001b[0m\u001b[1;33m\u001b[0m\u001b[0m\n\u001b[0m\u001b[0;32m   1670\u001b[0m \u001b[1;33m\u001b[0m\u001b[0m\n\u001b[0;32m   1671\u001b[0m     \u001b[1;32mreturn\u001b[0m \u001b[0mwrapper\u001b[0m\u001b[1;33m\u001b[0m\u001b[1;33m\u001b[0m\u001b[0m\n",
      "\u001b[1;32m~\\AppData\\Roaming\\Python\\Python38\\site-packages\\matplotlib\\backends\\backend_agg.py\u001b[0m in \u001b[0;36mprint_png\u001b[1;34m(self, filename_or_obj, metadata, pil_kwargs, *args)\u001b[0m\n\u001b[0;32m    506\u001b[0m             \u001b[1;33m*\u001b[0m\u001b[0mmetadata\u001b[0m\u001b[1;33m*\u001b[0m\u001b[1;33m,\u001b[0m \u001b[0mincluding\u001b[0m \u001b[0mthe\u001b[0m \u001b[0mdefault\u001b[0m \u001b[1;34m'Software'\u001b[0m \u001b[0mkey\u001b[0m\u001b[1;33m.\u001b[0m\u001b[1;33m\u001b[0m\u001b[1;33m\u001b[0m\u001b[0m\n\u001b[0;32m    507\u001b[0m         \"\"\"\n\u001b[1;32m--> 508\u001b[1;33m         \u001b[0mFigureCanvasAgg\u001b[0m\u001b[1;33m.\u001b[0m\u001b[0mdraw\u001b[0m\u001b[1;33m(\u001b[0m\u001b[0mself\u001b[0m\u001b[1;33m)\u001b[0m\u001b[1;33m\u001b[0m\u001b[1;33m\u001b[0m\u001b[0m\n\u001b[0m\u001b[0;32m    509\u001b[0m         mpl.image.imsave(\n\u001b[0;32m    510\u001b[0m             \u001b[0mfilename_or_obj\u001b[0m\u001b[1;33m,\u001b[0m \u001b[0mself\u001b[0m\u001b[1;33m.\u001b[0m\u001b[0mbuffer_rgba\u001b[0m\u001b[1;33m(\u001b[0m\u001b[1;33m)\u001b[0m\u001b[1;33m,\u001b[0m \u001b[0mformat\u001b[0m\u001b[1;33m=\u001b[0m\u001b[1;34m\"png\"\u001b[0m\u001b[1;33m,\u001b[0m \u001b[0morigin\u001b[0m\u001b[1;33m=\u001b[0m\u001b[1;34m\"upper\"\u001b[0m\u001b[1;33m,\u001b[0m\u001b[1;33m\u001b[0m\u001b[1;33m\u001b[0m\u001b[0m\n",
      "\u001b[1;32m~\\AppData\\Roaming\\Python\\Python38\\site-packages\\matplotlib\\backends\\backend_agg.py\u001b[0m in \u001b[0;36mdraw\u001b[1;34m(self)\u001b[0m\n\u001b[0;32m    399\u001b[0m     \u001b[1;32mdef\u001b[0m \u001b[0mdraw\u001b[0m\u001b[1;33m(\u001b[0m\u001b[0mself\u001b[0m\u001b[1;33m)\u001b[0m\u001b[1;33m:\u001b[0m\u001b[1;33m\u001b[0m\u001b[1;33m\u001b[0m\u001b[0m\n\u001b[0;32m    400\u001b[0m         \u001b[1;31m# docstring inherited\u001b[0m\u001b[1;33m\u001b[0m\u001b[1;33m\u001b[0m\u001b[1;33m\u001b[0m\u001b[0m\n\u001b[1;32m--> 401\u001b[1;33m         \u001b[0mself\u001b[0m\u001b[1;33m.\u001b[0m\u001b[0mrenderer\u001b[0m \u001b[1;33m=\u001b[0m \u001b[0mself\u001b[0m\u001b[1;33m.\u001b[0m\u001b[0mget_renderer\u001b[0m\u001b[1;33m(\u001b[0m\u001b[0mcleared\u001b[0m\u001b[1;33m=\u001b[0m\u001b[1;32mTrue\u001b[0m\u001b[1;33m)\u001b[0m\u001b[1;33m\u001b[0m\u001b[1;33m\u001b[0m\u001b[0m\n\u001b[0m\u001b[0;32m    402\u001b[0m         \u001b[1;31m# Acquire a lock on the shared font cache.\u001b[0m\u001b[1;33m\u001b[0m\u001b[1;33m\u001b[0m\u001b[1;33m\u001b[0m\u001b[0m\n\u001b[0;32m    403\u001b[0m         \u001b[1;32mwith\u001b[0m \u001b[0mRendererAgg\u001b[0m\u001b[1;33m.\u001b[0m\u001b[0mlock\u001b[0m\u001b[1;33m,\u001b[0m\u001b[0;31m \u001b[0m\u001b[0;31m\\\u001b[0m\u001b[1;33m\u001b[0m\u001b[1;33m\u001b[0m\u001b[0m\n",
      "\u001b[1;32m~\\AppData\\Roaming\\Python\\Python38\\site-packages\\matplotlib\\backends\\backend_webagg_core.py\u001b[0m in \u001b[0;36mget_renderer\u001b[1;34m(self, cleared)\u001b[0m\n\u001b[0;32m    221\u001b[0m \u001b[1;33m\u001b[0m\u001b[0m\n\u001b[0;32m    222\u001b[0m         \u001b[1;32mif\u001b[0m \u001b[0mneed_new_renderer\u001b[0m\u001b[1;33m:\u001b[0m\u001b[1;33m\u001b[0m\u001b[1;33m\u001b[0m\u001b[0m\n\u001b[1;32m--> 223\u001b[1;33m             self._renderer = backend_agg.RendererAgg(\n\u001b[0m\u001b[0;32m    224\u001b[0m                 w, h, self.figure.dpi)\n\u001b[0;32m    225\u001b[0m             \u001b[0mself\u001b[0m\u001b[1;33m.\u001b[0m\u001b[0m_lastKey\u001b[0m \u001b[1;33m=\u001b[0m \u001b[0mkey\u001b[0m\u001b[1;33m\u001b[0m\u001b[1;33m\u001b[0m\u001b[0m\n",
      "\u001b[1;32m~\\AppData\\Roaming\\Python\\Python38\\site-packages\\matplotlib\\backends\\backend_agg.py\u001b[0m in \u001b[0;36m__init__\u001b[1;34m(self, width, height, dpi)\u001b[0m\n\u001b[0;32m     89\u001b[0m         \u001b[0mself\u001b[0m\u001b[1;33m.\u001b[0m\u001b[0mwidth\u001b[0m \u001b[1;33m=\u001b[0m \u001b[0mwidth\u001b[0m\u001b[1;33m\u001b[0m\u001b[1;33m\u001b[0m\u001b[0m\n\u001b[0;32m     90\u001b[0m         \u001b[0mself\u001b[0m\u001b[1;33m.\u001b[0m\u001b[0mheight\u001b[0m \u001b[1;33m=\u001b[0m \u001b[0mheight\u001b[0m\u001b[1;33m\u001b[0m\u001b[1;33m\u001b[0m\u001b[0m\n\u001b[1;32m---> 91\u001b[1;33m         \u001b[0mself\u001b[0m\u001b[1;33m.\u001b[0m\u001b[0m_renderer\u001b[0m \u001b[1;33m=\u001b[0m \u001b[0m_RendererAgg\u001b[0m\u001b[1;33m(\u001b[0m\u001b[0mint\u001b[0m\u001b[1;33m(\u001b[0m\u001b[0mwidth\u001b[0m\u001b[1;33m)\u001b[0m\u001b[1;33m,\u001b[0m \u001b[0mint\u001b[0m\u001b[1;33m(\u001b[0m\u001b[0mheight\u001b[0m\u001b[1;33m)\u001b[0m\u001b[1;33m,\u001b[0m \u001b[0mdpi\u001b[0m\u001b[1;33m)\u001b[0m\u001b[1;33m\u001b[0m\u001b[1;33m\u001b[0m\u001b[0m\n\u001b[0m\u001b[0;32m     92\u001b[0m         \u001b[0mself\u001b[0m\u001b[1;33m.\u001b[0m\u001b[0m_filter_renderers\u001b[0m \u001b[1;33m=\u001b[0m \u001b[1;33m[\u001b[0m\u001b[1;33m]\u001b[0m\u001b[1;33m\u001b[0m\u001b[1;33m\u001b[0m\u001b[0m\n\u001b[0;32m     93\u001b[0m \u001b[1;33m\u001b[0m\u001b[0m\n",
      "\u001b[1;31mValueError\u001b[0m: Image size of 3000x75300 pixels is too large. It must be less than 2^16 in each direction."
     ]
    }
   ],
   "source": [
    "plot_networkburst_traces(network_bursts_dictionary, interest_channels = 'bursting')"
   ]
  },
  {
   "cell_type": "code",
   "execution_count": 178,
   "id": "6c34a28f",
   "metadata": {},
   "outputs": [
    {
     "data": {
      "text/plain": [
       "{'bursting_channels': array(['H2', 'H3', 'K2', 'L1', 'L2'], dtype='<U2'),\n",
       " 'number_of_bursting_channels': 5,\n",
       " 'number_burst_starts': 5,\n",
       " 'number_burst_ends': 5,\n",
       " 'active_channels': array(['F2', 'G2', 'H1', 'H2', 'H3', 'J1', 'J2', 'J3', 'K2', 'K3', 'K4',\n",
       "        'L1', 'L2', 'L5'], dtype='<U2'),\n",
       " 'number_of_active_channels': 14,\n",
       " 'number_of_spikes': 66,\n",
       " 'channels_lfp_up': array([], dtype=float64),\n",
       " 'number_channels_with_lfp_up': 0,\n",
       " 'mean_up_lfp_amplitude': nan,\n",
       " 'channels_lfp_down': array([], dtype=float64),\n",
       " 'number_channels_with_lfp_down': 0,\n",
       " 'mean_down_lfp_amplitude': nan,\n",
       " 'n_layer1_channels': 0,\n",
       " 'n_layer2-3_channels': 44,\n",
       " 'n_layer4_channels': 13,\n",
       " 'n_layer5-6_channels': 0,\n",
       " 'n_whitematter_channels': 0}"
      ]
     },
     "execution_count": 178,
     "metadata": {},
     "output_type": "execute_result"
    }
   ],
   "source": [
    "network_bursts_dictionary[k]"
   ]
  },
  {
   "cell_type": "code",
   "execution_count": 70,
   "id": "0c486bb4",
   "metadata": {},
   "outputs": [],
   "source": [
    "lfd = {}\n",
    "\n"
   ]
  },
  {
   "cell_type": "code",
   "execution_count": 71,
   "id": "2c4fa5b7",
   "metadata": {},
   "outputs": [
    {
     "data": {
      "text/plain": [
       "0"
      ]
     },
     "execution_count": 71,
     "metadata": {},
     "output_type": "execute_result"
    }
   ],
   "source": [
    "len(lfd)"
   ]
  },
  {
   "cell_type": "code",
   "execution_count": 72,
   "id": "eee3eeff",
   "metadata": {},
   "outputs": [],
   "source": [
    "lfd['G12']=[]\n"
   ]
  },
  {
   "cell_type": "code",
   "execution_count": 73,
   "id": "34b4f11c",
   "metadata": {},
   "outputs": [
    {
     "data": {
      "text/plain": [
       "1"
      ]
     },
     "execution_count": 73,
     "metadata": {},
     "output_type": "execute_result"
    }
   ],
   "source": [
    "len(lfd)\n"
   ]
  },
  {
   "cell_type": "code",
   "execution_count": null,
   "id": "6829d04d",
   "metadata": {},
   "outputs": [],
   "source": []
  }
 ],
 "metadata": {
  "kernelspec": {
   "display_name": "Python 3 (ipykernel)",
   "language": "python",
   "name": "python3"
  },
  "language_info": {
   "codemirror_mode": {
    "name": "ipython",
    "version": 3
   },
   "file_extension": ".py",
   "mimetype": "text/x-python",
   "name": "python",
   "nbconvert_exporter": "python",
   "pygments_lexer": "ipython3",
   "version": "3.8.3"
  }
 },
 "nbformat": 4,
 "nbformat_minor": 5
}
