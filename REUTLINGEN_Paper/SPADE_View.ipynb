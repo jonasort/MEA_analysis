{
 "cells": [
  {
   "cell_type": "code",
   "execution_count": 35,
   "metadata": {},
   "outputs": [],
   "source": [
    "from neo.io import NeuroExplorerIO\n",
    "import os\n",
    "import neo\n",
    "import elephant\n",
    "import numpy as np\n",
    "import pandas as pd\n",
    "import quantities as pq\n",
    "import numpy as np\n",
    "import matplotlib.pyplot as plt\n",
    "from matplotlib import pyplot\n",
    "from quantities import ms, s, Hz\n",
    "from elephant.spike_train_generation import homogeneous_poisson_process, homogeneous_gamma_process\n",
    "from elephant import neo_tools as nt\n",
    "from viziphant.rasterplot import rasterplot\n",
    "from viziphant.spade import plot_patterns\n",
    "from viziphant.spade import plot_patterns_statistics\n",
    "import seaborn as sns\n",
    "import glob\n",
    "\n",
    "%matplotlib inline"
   ]
  },
  {
   "cell_type": "code",
   "execution_count": 36,
   "metadata": {},
   "outputs": [],
   "source": [
    "datadirectory = r'D:\\Files_Reutlingen_Jenny\\19-04-16\\190416_paper\\analysis_01_HCx_GFP_B_aCSF_base\\spade_output\\results_kaggle_nsurr2000_0-60'\n",
    "filedirectory = r'D:\\Files_Reutlingen_Jenny\\19-04-16\\190416_paper\\analysis_01_HCx_GFP_B_aCSF_base'"
   ]
  },
  {
   "cell_type": "code",
   "execution_count": 37,
   "metadata": {},
   "outputs": [],
   "source": [
    "tick = 40\n",
    "scale_factor_for_second = 1e-06"
   ]
  },
  {
   "cell_type": "code",
   "execution_count": 38,
   "metadata": {},
   "outputs": [],
   "source": [
    "os.chdir(filedirectory)"
   ]
  },
  {
   "cell_type": "code",
   "execution_count": 39,
   "metadata": {},
   "outputs": [],
   "source": [
    "filelist = glob.glob('*.npy')"
   ]
  },
  {
   "cell_type": "code",
   "execution_count": 40,
   "metadata": {},
   "outputs": [
    {
     "data": {
      "text/plain": [
       "['01_HCx_GFP_B_aCSF_base_0_to_120_completerecording_full_spikedic.npy',\n",
       " '01_HCx_GFP_B_aCSF_base_burst_starts_dictionary.npy',\n",
       " '01_HCx_GFP_B_aCSF_base_burst_starts_dictionary_SPADE_0-180_binsize-5_winlen-20_dither-20_spectrum-3d#_statcor-fdr_bh.npy',\n",
       " '01_HCx_GFP_B_aCSF_base_burst_starts_dictionary_SPADE_binsize-5_winlen-20_dither-20_spectrum-3d#_statcor-fdr_bh.npy',\n",
       " '01_HCx_GFP_B_aCSF_base_whole_recording_burst_connections_dic.npy',\n",
       " 'infodics_01_HCx_GFP_B_aCSF_base_0_to_120_completerecording.npy',\n",
       " 'spiketrain_spade_190416_01_HCx_GFP_B_aCSF_20_40.npy']"
      ]
     },
     "execution_count": 40,
     "metadata": {},
     "output_type": "execute_result"
    }
   ],
   "source": [
    "filelist"
   ]
  },
  {
   "cell_type": "code",
   "execution_count": 41,
   "metadata": {},
   "outputs": [],
   "source": [
    "namebase = filelist[0].split('SPADE')[0]"
   ]
  },
  {
   "cell_type": "code",
   "execution_count": 42,
   "metadata": {},
   "outputs": [],
   "source": [
    "spadename = filelist[2]\n",
    "spikename = filelist[1]"
   ]
  },
  {
   "cell_type": "code",
   "execution_count": 43,
   "metadata": {},
   "outputs": [],
   "source": [
    "spade =  np.load(spadename,allow_pickle='TRUE').item()"
   ]
  },
  {
   "cell_type": "code",
   "execution_count": 44,
   "metadata": {},
   "outputs": [],
   "source": [
    "reloadedspikedic = np.load(spikename, allow_pickle='TRUE').item()"
   ]
  },
  {
   "cell_type": "code",
   "execution_count": 45,
   "metadata": {},
   "outputs": [],
   "source": [
    "def cut_reloaded_spikedic(spikedic, start=0, stop=180):\n",
    "\n",
    "    cutted_dic = {}\n",
    "    templist = []\n",
    "    \n",
    "    for key in spikedic:\n",
    "        templist = []\n",
    "        spikes = spikedic[key]\n",
    "        for i in spikes:\n",
    "            j = i*scale_factor_for_second # the ticks have already been applied in the burststarts\n",
    "            if (j>=start) and (j<stop):\n",
    "                templist.append(i)\n",
    "        cutted_dic[key] = templist\n",
    "        \n",
    "    return cutted_dic\n",
    "                "
   ]
  },
  {
   "cell_type": "code",
   "execution_count": 46,
   "metadata": {},
   "outputs": [],
   "source": [
    "reloadedspikedic = cut_reloaded_spikedic(reloadedspikedic)"
   ]
  },
  {
   "cell_type": "code",
   "execution_count": 47,
   "metadata": {},
   "outputs": [],
   "source": [
    "mea_array=np.empty((16,16,))\n",
    "mea_array[:]=np.nan"
   ]
  },
  {
   "cell_type": "code",
   "execution_count": 48,
   "metadata": {},
   "outputs": [
    {
     "data": {
      "text/plain": [
       "array([[nan, nan, nan, nan, nan, nan, nan, nan, nan, nan, nan, nan, nan,\n",
       "        nan, nan, nan],\n",
       "       [nan, nan, nan, nan, nan, nan, nan, nan, nan, nan, nan, nan, nan,\n",
       "        nan, nan, nan],\n",
       "       [nan, nan, nan, nan, nan, nan, nan, nan, nan, nan, nan, nan, nan,\n",
       "        nan, nan, nan],\n",
       "       [nan, nan, nan, nan, nan, nan, nan, nan, nan, nan, nan, nan, nan,\n",
       "        nan, nan, nan],\n",
       "       [nan, nan, nan, nan, nan, nan, nan, nan, nan, nan, nan, nan, nan,\n",
       "        nan, nan, nan],\n",
       "       [nan, nan, nan, nan, nan, nan, nan, nan, nan, nan, nan, nan, nan,\n",
       "        nan, nan, nan],\n",
       "       [nan, nan, nan, nan, nan, nan, nan, nan, nan, nan, nan, nan, nan,\n",
       "        nan, nan, nan],\n",
       "       [nan, nan, nan, nan, nan, nan, nan, nan, nan, nan, nan, nan, nan,\n",
       "        nan, nan, nan],\n",
       "       [nan, nan, nan, nan, nan, nan, nan, nan, nan, nan, nan, nan, nan,\n",
       "        nan, nan, nan],\n",
       "       [nan, nan, nan, nan, nan, nan, nan, nan, nan, nan, nan, nan, nan,\n",
       "        nan, nan, nan],\n",
       "       [nan, nan, nan, nan, nan, nan, nan, nan, nan, nan, nan, nan, nan,\n",
       "        nan, nan, nan],\n",
       "       [nan, nan, nan, nan, nan, nan, nan, nan, nan, nan, nan, nan, nan,\n",
       "        nan, nan, nan],\n",
       "       [nan, nan, nan, nan, nan, nan, nan, nan, nan, nan, nan, nan, nan,\n",
       "        nan, nan, nan],\n",
       "       [nan, nan, nan, nan, nan, nan, nan, nan, nan, nan, nan, nan, nan,\n",
       "        nan, nan, nan],\n",
       "       [nan, nan, nan, nan, nan, nan, nan, nan, nan, nan, nan, nan, nan,\n",
       "        nan, nan, nan],\n",
       "       [nan, nan, nan, nan, nan, nan, nan, nan, nan, nan, nan, nan, nan,\n",
       "        nan, nan, nan]])"
      ]
     },
     "execution_count": 48,
     "metadata": {},
     "output_type": "execute_result"
    }
   ],
   "source": [
    "mea_array"
   ]
  },
  {
   "cell_type": "code",
   "execution_count": 49,
   "metadata": {},
   "outputs": [],
   "source": [
    "columnlist =['A','B','C','D','E','F','G','H','I','K','L','M','N','O','P','R']"
   ]
  },
  {
   "cell_type": "code",
   "execution_count": 50,
   "metadata": {},
   "outputs": [],
   "source": [
    "df = pd.DataFrame(data=mea_array,columns=columnlist)"
   ]
  },
  {
   "cell_type": "code",
   "execution_count": 51,
   "metadata": {},
   "outputs": [],
   "source": [
    "df.index+=1"
   ]
  },
  {
   "cell_type": "code",
   "execution_count": 52,
   "metadata": {},
   "outputs": [
    {
     "data": {
      "text/html": [
       "<div>\n",
       "<style scoped>\n",
       "    .dataframe tbody tr th:only-of-type {\n",
       "        vertical-align: middle;\n",
       "    }\n",
       "\n",
       "    .dataframe tbody tr th {\n",
       "        vertical-align: top;\n",
       "    }\n",
       "\n",
       "    .dataframe thead th {\n",
       "        text-align: right;\n",
       "    }\n",
       "</style>\n",
       "<table border=\"1\" class=\"dataframe\">\n",
       "  <thead>\n",
       "    <tr style=\"text-align: right;\">\n",
       "      <th></th>\n",
       "      <th>A</th>\n",
       "      <th>B</th>\n",
       "      <th>C</th>\n",
       "      <th>D</th>\n",
       "      <th>E</th>\n",
       "      <th>F</th>\n",
       "      <th>G</th>\n",
       "      <th>H</th>\n",
       "      <th>I</th>\n",
       "      <th>K</th>\n",
       "      <th>L</th>\n",
       "      <th>M</th>\n",
       "      <th>N</th>\n",
       "      <th>O</th>\n",
       "      <th>P</th>\n",
       "      <th>R</th>\n",
       "    </tr>\n",
       "  </thead>\n",
       "  <tbody>\n",
       "    <tr>\n",
       "      <th>1</th>\n",
       "      <td>NaN</td>\n",
       "      <td>NaN</td>\n",
       "      <td>NaN</td>\n",
       "      <td>NaN</td>\n",
       "      <td>NaN</td>\n",
       "      <td>NaN</td>\n",
       "      <td>NaN</td>\n",
       "      <td>NaN</td>\n",
       "      <td>NaN</td>\n",
       "      <td>NaN</td>\n",
       "      <td>NaN</td>\n",
       "      <td>NaN</td>\n",
       "      <td>NaN</td>\n",
       "      <td>NaN</td>\n",
       "      <td>NaN</td>\n",
       "      <td>NaN</td>\n",
       "    </tr>\n",
       "    <tr>\n",
       "      <th>2</th>\n",
       "      <td>NaN</td>\n",
       "      <td>NaN</td>\n",
       "      <td>NaN</td>\n",
       "      <td>NaN</td>\n",
       "      <td>NaN</td>\n",
       "      <td>NaN</td>\n",
       "      <td>NaN</td>\n",
       "      <td>NaN</td>\n",
       "      <td>NaN</td>\n",
       "      <td>NaN</td>\n",
       "      <td>NaN</td>\n",
       "      <td>NaN</td>\n",
       "      <td>NaN</td>\n",
       "      <td>NaN</td>\n",
       "      <td>NaN</td>\n",
       "      <td>NaN</td>\n",
       "    </tr>\n",
       "    <tr>\n",
       "      <th>3</th>\n",
       "      <td>NaN</td>\n",
       "      <td>NaN</td>\n",
       "      <td>NaN</td>\n",
       "      <td>NaN</td>\n",
       "      <td>NaN</td>\n",
       "      <td>NaN</td>\n",
       "      <td>NaN</td>\n",
       "      <td>NaN</td>\n",
       "      <td>NaN</td>\n",
       "      <td>NaN</td>\n",
       "      <td>NaN</td>\n",
       "      <td>NaN</td>\n",
       "      <td>NaN</td>\n",
       "      <td>NaN</td>\n",
       "      <td>NaN</td>\n",
       "      <td>NaN</td>\n",
       "    </tr>\n",
       "    <tr>\n",
       "      <th>4</th>\n",
       "      <td>NaN</td>\n",
       "      <td>NaN</td>\n",
       "      <td>NaN</td>\n",
       "      <td>NaN</td>\n",
       "      <td>NaN</td>\n",
       "      <td>NaN</td>\n",
       "      <td>NaN</td>\n",
       "      <td>NaN</td>\n",
       "      <td>NaN</td>\n",
       "      <td>NaN</td>\n",
       "      <td>NaN</td>\n",
       "      <td>NaN</td>\n",
       "      <td>NaN</td>\n",
       "      <td>NaN</td>\n",
       "      <td>NaN</td>\n",
       "      <td>NaN</td>\n",
       "    </tr>\n",
       "    <tr>\n",
       "      <th>5</th>\n",
       "      <td>NaN</td>\n",
       "      <td>NaN</td>\n",
       "      <td>NaN</td>\n",
       "      <td>NaN</td>\n",
       "      <td>NaN</td>\n",
       "      <td>NaN</td>\n",
       "      <td>NaN</td>\n",
       "      <td>NaN</td>\n",
       "      <td>NaN</td>\n",
       "      <td>NaN</td>\n",
       "      <td>NaN</td>\n",
       "      <td>NaN</td>\n",
       "      <td>NaN</td>\n",
       "      <td>NaN</td>\n",
       "      <td>NaN</td>\n",
       "      <td>NaN</td>\n",
       "    </tr>\n",
       "    <tr>\n",
       "      <th>6</th>\n",
       "      <td>NaN</td>\n",
       "      <td>NaN</td>\n",
       "      <td>NaN</td>\n",
       "      <td>NaN</td>\n",
       "      <td>NaN</td>\n",
       "      <td>NaN</td>\n",
       "      <td>NaN</td>\n",
       "      <td>NaN</td>\n",
       "      <td>NaN</td>\n",
       "      <td>NaN</td>\n",
       "      <td>NaN</td>\n",
       "      <td>NaN</td>\n",
       "      <td>NaN</td>\n",
       "      <td>NaN</td>\n",
       "      <td>NaN</td>\n",
       "      <td>NaN</td>\n",
       "    </tr>\n",
       "    <tr>\n",
       "      <th>7</th>\n",
       "      <td>NaN</td>\n",
       "      <td>NaN</td>\n",
       "      <td>NaN</td>\n",
       "      <td>NaN</td>\n",
       "      <td>NaN</td>\n",
       "      <td>NaN</td>\n",
       "      <td>NaN</td>\n",
       "      <td>NaN</td>\n",
       "      <td>NaN</td>\n",
       "      <td>NaN</td>\n",
       "      <td>NaN</td>\n",
       "      <td>NaN</td>\n",
       "      <td>NaN</td>\n",
       "      <td>NaN</td>\n",
       "      <td>NaN</td>\n",
       "      <td>NaN</td>\n",
       "    </tr>\n",
       "    <tr>\n",
       "      <th>8</th>\n",
       "      <td>NaN</td>\n",
       "      <td>NaN</td>\n",
       "      <td>NaN</td>\n",
       "      <td>NaN</td>\n",
       "      <td>NaN</td>\n",
       "      <td>NaN</td>\n",
       "      <td>NaN</td>\n",
       "      <td>NaN</td>\n",
       "      <td>NaN</td>\n",
       "      <td>NaN</td>\n",
       "      <td>NaN</td>\n",
       "      <td>NaN</td>\n",
       "      <td>NaN</td>\n",
       "      <td>NaN</td>\n",
       "      <td>NaN</td>\n",
       "      <td>NaN</td>\n",
       "    </tr>\n",
       "    <tr>\n",
       "      <th>9</th>\n",
       "      <td>NaN</td>\n",
       "      <td>NaN</td>\n",
       "      <td>NaN</td>\n",
       "      <td>NaN</td>\n",
       "      <td>NaN</td>\n",
       "      <td>NaN</td>\n",
       "      <td>NaN</td>\n",
       "      <td>NaN</td>\n",
       "      <td>NaN</td>\n",
       "      <td>NaN</td>\n",
       "      <td>NaN</td>\n",
       "      <td>NaN</td>\n",
       "      <td>NaN</td>\n",
       "      <td>NaN</td>\n",
       "      <td>NaN</td>\n",
       "      <td>NaN</td>\n",
       "    </tr>\n",
       "    <tr>\n",
       "      <th>10</th>\n",
       "      <td>NaN</td>\n",
       "      <td>NaN</td>\n",
       "      <td>NaN</td>\n",
       "      <td>NaN</td>\n",
       "      <td>NaN</td>\n",
       "      <td>NaN</td>\n",
       "      <td>NaN</td>\n",
       "      <td>NaN</td>\n",
       "      <td>NaN</td>\n",
       "      <td>NaN</td>\n",
       "      <td>NaN</td>\n",
       "      <td>NaN</td>\n",
       "      <td>NaN</td>\n",
       "      <td>NaN</td>\n",
       "      <td>NaN</td>\n",
       "      <td>NaN</td>\n",
       "    </tr>\n",
       "    <tr>\n",
       "      <th>11</th>\n",
       "      <td>NaN</td>\n",
       "      <td>NaN</td>\n",
       "      <td>NaN</td>\n",
       "      <td>NaN</td>\n",
       "      <td>NaN</td>\n",
       "      <td>NaN</td>\n",
       "      <td>NaN</td>\n",
       "      <td>NaN</td>\n",
       "      <td>NaN</td>\n",
       "      <td>NaN</td>\n",
       "      <td>NaN</td>\n",
       "      <td>NaN</td>\n",
       "      <td>NaN</td>\n",
       "      <td>NaN</td>\n",
       "      <td>NaN</td>\n",
       "      <td>NaN</td>\n",
       "    </tr>\n",
       "    <tr>\n",
       "      <th>12</th>\n",
       "      <td>NaN</td>\n",
       "      <td>NaN</td>\n",
       "      <td>NaN</td>\n",
       "      <td>NaN</td>\n",
       "      <td>NaN</td>\n",
       "      <td>NaN</td>\n",
       "      <td>NaN</td>\n",
       "      <td>NaN</td>\n",
       "      <td>NaN</td>\n",
       "      <td>NaN</td>\n",
       "      <td>NaN</td>\n",
       "      <td>NaN</td>\n",
       "      <td>NaN</td>\n",
       "      <td>NaN</td>\n",
       "      <td>NaN</td>\n",
       "      <td>NaN</td>\n",
       "    </tr>\n",
       "    <tr>\n",
       "      <th>13</th>\n",
       "      <td>NaN</td>\n",
       "      <td>NaN</td>\n",
       "      <td>NaN</td>\n",
       "      <td>NaN</td>\n",
       "      <td>NaN</td>\n",
       "      <td>NaN</td>\n",
       "      <td>NaN</td>\n",
       "      <td>NaN</td>\n",
       "      <td>NaN</td>\n",
       "      <td>NaN</td>\n",
       "      <td>NaN</td>\n",
       "      <td>NaN</td>\n",
       "      <td>NaN</td>\n",
       "      <td>NaN</td>\n",
       "      <td>NaN</td>\n",
       "      <td>NaN</td>\n",
       "    </tr>\n",
       "    <tr>\n",
       "      <th>14</th>\n",
       "      <td>NaN</td>\n",
       "      <td>NaN</td>\n",
       "      <td>NaN</td>\n",
       "      <td>NaN</td>\n",
       "      <td>NaN</td>\n",
       "      <td>NaN</td>\n",
       "      <td>NaN</td>\n",
       "      <td>NaN</td>\n",
       "      <td>NaN</td>\n",
       "      <td>NaN</td>\n",
       "      <td>NaN</td>\n",
       "      <td>NaN</td>\n",
       "      <td>NaN</td>\n",
       "      <td>NaN</td>\n",
       "      <td>NaN</td>\n",
       "      <td>NaN</td>\n",
       "    </tr>\n",
       "    <tr>\n",
       "      <th>15</th>\n",
       "      <td>NaN</td>\n",
       "      <td>NaN</td>\n",
       "      <td>NaN</td>\n",
       "      <td>NaN</td>\n",
       "      <td>NaN</td>\n",
       "      <td>NaN</td>\n",
       "      <td>NaN</td>\n",
       "      <td>NaN</td>\n",
       "      <td>NaN</td>\n",
       "      <td>NaN</td>\n",
       "      <td>NaN</td>\n",
       "      <td>NaN</td>\n",
       "      <td>NaN</td>\n",
       "      <td>NaN</td>\n",
       "      <td>NaN</td>\n",
       "      <td>NaN</td>\n",
       "    </tr>\n",
       "    <tr>\n",
       "      <th>16</th>\n",
       "      <td>NaN</td>\n",
       "      <td>NaN</td>\n",
       "      <td>NaN</td>\n",
       "      <td>NaN</td>\n",
       "      <td>NaN</td>\n",
       "      <td>NaN</td>\n",
       "      <td>NaN</td>\n",
       "      <td>NaN</td>\n",
       "      <td>NaN</td>\n",
       "      <td>NaN</td>\n",
       "      <td>NaN</td>\n",
       "      <td>NaN</td>\n",
       "      <td>NaN</td>\n",
       "      <td>NaN</td>\n",
       "      <td>NaN</td>\n",
       "      <td>NaN</td>\n",
       "    </tr>\n",
       "  </tbody>\n",
       "</table>\n",
       "</div>"
      ],
      "text/plain": [
       "     A   B   C   D   E   F   G   H   I   K   L   M   N   O   P   R\n",
       "1  NaN NaN NaN NaN NaN NaN NaN NaN NaN NaN NaN NaN NaN NaN NaN NaN\n",
       "2  NaN NaN NaN NaN NaN NaN NaN NaN NaN NaN NaN NaN NaN NaN NaN NaN\n",
       "3  NaN NaN NaN NaN NaN NaN NaN NaN NaN NaN NaN NaN NaN NaN NaN NaN\n",
       "4  NaN NaN NaN NaN NaN NaN NaN NaN NaN NaN NaN NaN NaN NaN NaN NaN\n",
       "5  NaN NaN NaN NaN NaN NaN NaN NaN NaN NaN NaN NaN NaN NaN NaN NaN\n",
       "6  NaN NaN NaN NaN NaN NaN NaN NaN NaN NaN NaN NaN NaN NaN NaN NaN\n",
       "7  NaN NaN NaN NaN NaN NaN NaN NaN NaN NaN NaN NaN NaN NaN NaN NaN\n",
       "8  NaN NaN NaN NaN NaN NaN NaN NaN NaN NaN NaN NaN NaN NaN NaN NaN\n",
       "9  NaN NaN NaN NaN NaN NaN NaN NaN NaN NaN NaN NaN NaN NaN NaN NaN\n",
       "10 NaN NaN NaN NaN NaN NaN NaN NaN NaN NaN NaN NaN NaN NaN NaN NaN\n",
       "11 NaN NaN NaN NaN NaN NaN NaN NaN NaN NaN NaN NaN NaN NaN NaN NaN\n",
       "12 NaN NaN NaN NaN NaN NaN NaN NaN NaN NaN NaN NaN NaN NaN NaN NaN\n",
       "13 NaN NaN NaN NaN NaN NaN NaN NaN NaN NaN NaN NaN NaN NaN NaN NaN\n",
       "14 NaN NaN NaN NaN NaN NaN NaN NaN NaN NaN NaN NaN NaN NaN NaN NaN\n",
       "15 NaN NaN NaN NaN NaN NaN NaN NaN NaN NaN NaN NaN NaN NaN NaN NaN\n",
       "16 NaN NaN NaN NaN NaN NaN NaN NaN NaN NaN NaN NaN NaN NaN NaN NaN"
      ]
     },
     "execution_count": 52,
     "metadata": {},
     "output_type": "execute_result"
    }
   ],
   "source": [
    "df"
   ]
  },
  {
   "cell_type": "markdown",
   "metadata": {},
   "source": [
    "# SPADE RESULTS"
   ]
  },
  {
   "cell_type": "code",
   "execution_count": 53,
   "metadata": {},
   "outputs": [
    {
     "data": {
      "text/plain": [
       "3"
      ]
     },
     "execution_count": 53,
     "metadata": {},
     "output_type": "execute_result"
    }
   ],
   "source": [
    "len(spade['patterns'])"
   ]
  },
  {
   "cell_type": "code",
   "execution_count": 54,
   "metadata": {},
   "outputs": [
    {
     "data": {
      "text/plain": [
       "{'pvalue_spectrum': [[3, 4, 3, 0.002], [3, 4, 4, 0.001]],\n",
       " 'non_sgnf_sgnt': [(3.0, 4.0, 3.0), (3.0, 4.0, 4.0)],\n",
       " 'patterns': [{'itemset': (40, 80, 540),\n",
       "   'windows_ids': (13623, 14801, 19938, 20020, 26329),\n",
       "   'neurons': [2, 4, 27],\n",
       "   'lags': array([0., 0.]) * ms,\n",
       "   'times': array([ 68115.,  74005.,  99690., 100100., 131645.]) * ms,\n",
       "   'signature': (3, 5, 0),\n",
       "   'pvalue': 0.0},\n",
       "  {'itemset': (1580, 180, 120),\n",
       "   'windows_ids': (7992, 12236, 13457, 14369, 30997, 33599),\n",
       "   'neurons': [79, 9, 6],\n",
       "   'lags': array([0., 0.]) * ms,\n",
       "   'times': array([ 39960.,  61180.,  67285.,  71845., 154985., 167995.]) * ms,\n",
       "   'signature': (3, 6, 0),\n",
       "   'pvalue': 0.0},\n",
       "  {'itemset': (160, 180, 120),\n",
       "   'windows_ids': (3483, 6452, 9105, 15277, 19269, 21077),\n",
       "   'neurons': [8, 9, 6],\n",
       "   'lags': array([0., 0.]) * ms,\n",
       "   'times': array([ 17415.,  32260.,  45525.,  76385.,  96345., 105385.]) * ms,\n",
       "   'signature': (3, 6, 0),\n",
       "   'pvalue': 0.0}]}"
      ]
     },
     "execution_count": 54,
     "metadata": {},
     "output_type": "execute_result"
    }
   ],
   "source": [
    "spade"
   ]
  },
  {
   "cell_type": "code",
   "execution_count": 55,
   "metadata": {},
   "outputs": [],
   "source": [
    "scale_factor_for_second = 1e-06\n",
    "scale_factor_for_milisecond = 1e-03\n",
    "tick=40"
   ]
  },
  {
   "cell_type": "code",
   "execution_count": 56,
   "metadata": {},
   "outputs": [],
   "source": [
    "spikes = []\n",
    "\n",
    "for key in reloadedspikedic:\n",
    "    spikes.append(reloadedspikedic[key])\n",
    "spikearray = np.sort(np.concatenate(spikes, axis = 0))\n",
    "spikelist = list(spikearray)\n",
    "\n",
    "spikearray_sec=spikearray*scale_factor_for_second\n",
    "recordinglength = round(spikearray_sec[-1]) + 1"
   ]
  },
  {
   "cell_type": "code",
   "execution_count": 57,
   "metadata": {},
   "outputs": [],
   "source": [
    "def spikedic_to_neospiketrains(spikedic, recordinglength):\n",
    "    \n",
    "    \n",
    "\n",
    "    spiketrains = [] \n",
    "    keylist_spiketrains = []\n",
    "    for key in reloadedspikedic:\n",
    "        key_array=np.asarray(reloadedspikedic[key])\n",
    "        key_array_sec=key_array*1e-06\n",
    "        if len(key_array_sec)>2:\n",
    "            st = neo.SpikeTrain(list(key_array_sec), units='sec', t_stop=recordinglength)\n",
    "            spiketrains.append(st)\n",
    "            keylist_spiketrains.append(key)\n",
    "        \n",
    "    return spiketrains, keylist_spiketrains"
   ]
  },
  {
   "cell_type": "code",
   "execution_count": 58,
   "metadata": {},
   "outputs": [],
   "source": [
    "spiketrains, keylist_spiketrains = spikedic_to_neospiketrains(reloadedspikedic, recordinglength)"
   ]
  },
  {
   "cell_type": "code",
   "execution_count": 59,
   "metadata": {},
   "outputs": [
    {
     "data": {
      "text/plain": [
       "[SpikeTrain,\n",
       " SpikeTrain,\n",
       " SpikeTrain,\n",
       " SpikeTrain,\n",
       " SpikeTrain,\n",
       " SpikeTrain,\n",
       " SpikeTrain,\n",
       " SpikeTrain,\n",
       " SpikeTrain,\n",
       " SpikeTrain,\n",
       " SpikeTrain,\n",
       " SpikeTrain,\n",
       " SpikeTrain,\n",
       " SpikeTrain,\n",
       " SpikeTrain,\n",
       " SpikeTrain,\n",
       " SpikeTrain,\n",
       " SpikeTrain,\n",
       " SpikeTrain,\n",
       " SpikeTrain,\n",
       " SpikeTrain,\n",
       " SpikeTrain,\n",
       " SpikeTrain,\n",
       " SpikeTrain,\n",
       " SpikeTrain,\n",
       " SpikeTrain,\n",
       " SpikeTrain,\n",
       " SpikeTrain,\n",
       " SpikeTrain,\n",
       " SpikeTrain,\n",
       " SpikeTrain,\n",
       " SpikeTrain,\n",
       " SpikeTrain,\n",
       " SpikeTrain,\n",
       " SpikeTrain,\n",
       " SpikeTrain,\n",
       " SpikeTrain,\n",
       " SpikeTrain,\n",
       " SpikeTrain,\n",
       " SpikeTrain,\n",
       " SpikeTrain,\n",
       " SpikeTrain,\n",
       " SpikeTrain,\n",
       " SpikeTrain,\n",
       " SpikeTrain,\n",
       " SpikeTrain,\n",
       " SpikeTrain,\n",
       " SpikeTrain,\n",
       " SpikeTrain,\n",
       " SpikeTrain,\n",
       " SpikeTrain,\n",
       " SpikeTrain,\n",
       " SpikeTrain,\n",
       " SpikeTrain,\n",
       " SpikeTrain,\n",
       " SpikeTrain,\n",
       " SpikeTrain,\n",
       " SpikeTrain,\n",
       " SpikeTrain,\n",
       " SpikeTrain,\n",
       " SpikeTrain,\n",
       " SpikeTrain,\n",
       " SpikeTrain,\n",
       " SpikeTrain,\n",
       " SpikeTrain,\n",
       " SpikeTrain,\n",
       " SpikeTrain,\n",
       " SpikeTrain,\n",
       " SpikeTrain,\n",
       " SpikeTrain,\n",
       " SpikeTrain,\n",
       " SpikeTrain,\n",
       " SpikeTrain,\n",
       " SpikeTrain,\n",
       " SpikeTrain,\n",
       " SpikeTrain,\n",
       " SpikeTrain,\n",
       " SpikeTrain,\n",
       " SpikeTrain,\n",
       " SpikeTrain,\n",
       " SpikeTrain,\n",
       " SpikeTrain,\n",
       " SpikeTrain,\n",
       " SpikeTrain,\n",
       " SpikeTrain,\n",
       " SpikeTrain,\n",
       " SpikeTrain,\n",
       " SpikeTrain,\n",
       " SpikeTrain,\n",
       " SpikeTrain,\n",
       " SpikeTrain,\n",
       " SpikeTrain,\n",
       " SpikeTrain,\n",
       " SpikeTrain,\n",
       " SpikeTrain,\n",
       " SpikeTrain,\n",
       " SpikeTrain,\n",
       " SpikeTrain,\n",
       " SpikeTrain,\n",
       " SpikeTrain,\n",
       " SpikeTrain,\n",
       " SpikeTrain,\n",
       " SpikeTrain,\n",
       " SpikeTrain,\n",
       " SpikeTrain,\n",
       " SpikeTrain,\n",
       " SpikeTrain,\n",
       " SpikeTrain,\n",
       " SpikeTrain,\n",
       " SpikeTrain,\n",
       " SpikeTrain,\n",
       " SpikeTrain,\n",
       " SpikeTrain,\n",
       " SpikeTrain,\n",
       " SpikeTrain,\n",
       " SpikeTrain,\n",
       " SpikeTrain,\n",
       " SpikeTrain,\n",
       " SpikeTrain,\n",
       " SpikeTrain,\n",
       " SpikeTrain,\n",
       " SpikeTrain,\n",
       " SpikeTrain,\n",
       " SpikeTrain,\n",
       " SpikeTrain,\n",
       " SpikeTrain,\n",
       " SpikeTrain,\n",
       " SpikeTrain,\n",
       " SpikeTrain,\n",
       " SpikeTrain,\n",
       " SpikeTrain,\n",
       " SpikeTrain,\n",
       " SpikeTrain,\n",
       " SpikeTrain,\n",
       " SpikeTrain,\n",
       " SpikeTrain,\n",
       " SpikeTrain,\n",
       " SpikeTrain,\n",
       " SpikeTrain,\n",
       " SpikeTrain,\n",
       " SpikeTrain,\n",
       " SpikeTrain,\n",
       " SpikeTrain,\n",
       " SpikeTrain,\n",
       " SpikeTrain,\n",
       " SpikeTrain,\n",
       " SpikeTrain,\n",
       " SpikeTrain,\n",
       " SpikeTrain,\n",
       " SpikeTrain,\n",
       " SpikeTrain,\n",
       " SpikeTrain,\n",
       " SpikeTrain,\n",
       " SpikeTrain,\n",
       " SpikeTrain,\n",
       " SpikeTrain]"
      ]
     },
     "execution_count": 59,
     "metadata": {},
     "output_type": "execute_result"
    }
   ],
   "source": [
    "spiketrains"
   ]
  },
  {
   "cell_type": "code",
   "execution_count": 60,
   "metadata": {},
   "outputs": [
    {
     "data": {
      "text/plain": [
       "(<Figure size 720x576 with 3 Axes>,\n",
       " array([<AxesSubplot:title={'center':'Patterns statistics'}, xlabel='Neuronal participation in patterns', ylabel='Count'>,\n",
       "        <AxesSubplot:xlabel='Pattern occurrences', ylabel='Count'>,\n",
       "        <AxesSubplot:xlabel='Pattern size', ylabel='Count'>], dtype=object))"
      ]
     },
     "execution_count": 60,
     "metadata": {},
     "output_type": "execute_result"
    },
    {
     "data": {
      "image/png": "[encoded data removed]",
      "text/plain": [
       "<Figure size 720x576 with 3 Axes>"
      ]
     },
     "metadata": {
      "needs_background": "light"
     },
     "output_type": "display_data"
    }
   ],
   "source": [
    "plot_patterns_statistics(spade['patterns'])"
   ]
  },
  {
   "cell_type": "code",
   "execution_count": 61,
   "metadata": {},
   "outputs": [],
   "source": [
    "patterns = spade['patterns']"
   ]
  },
  {
   "cell_type": "code",
   "execution_count": 62,
   "metadata": {},
   "outputs": [
    {
     "data": {
      "text/plain": [
       "<AxesSubplot:xlabel='Time (s)', ylabel='Neuron'>"
      ]
     },
     "execution_count": 62,
     "metadata": {},
     "output_type": "execute_result"
    },
    {
     "data": {
      "image/png": "[encoded data removed]",
      "text/plain": [
       "<Figure size 432x288 with 1 Axes>"
      ]
     },
     "metadata": {
      "needs_background": "light"
     },
     "output_type": "display_data"
    }
   ],
   "source": [
    "#fig, ax = plt.subplots(1,1, figsize = (10,10))\n",
    "\n",
    "plot_patterns(spiketrains=spiketrains, patterns=patterns)\n"
   ]
  },
  {
   "cell_type": "code",
   "execution_count": 63,
   "metadata": {},
   "outputs": [
    {
     "data": {
      "text/plain": [
       "numpy.ndarray"
      ]
     },
     "execution_count": 63,
     "metadata": {},
     "output_type": "execute_result"
    }
   ],
   "source": [
    "type(spikearray_sec)"
   ]
  },
  {
   "cell_type": "code",
   "execution_count": 64,
   "metadata": {},
   "outputs": [],
   "source": [
    "def make_pattern_dic(patterns):\n",
    "    \n",
    "    patterndic = {}\n",
    "    for i in range(0, len(patterns)):\n",
    "        key='P'+str(i)\n",
    "        patterndic[key]=[(patterns[i]['neurons']),(patterns[i]['lags'])]\n",
    "        \n",
    "    \n",
    "    return patterndic"
   ]
  },
  {
   "cell_type": "code",
   "execution_count": 65,
   "metadata": {},
   "outputs": [],
   "source": [
    "patterndic = make_pattern_dic(patterns)"
   ]
  },
  {
   "cell_type": "code",
   "execution_count": 66,
   "metadata": {},
   "outputs": [
    {
     "data": {
      "text/plain": [
       "{'P0': [[2, 4, 27], array([0., 0.]) * ms],\n",
       " 'P1': [[79, 9, 6], array([0., 0.]) * ms],\n",
       " 'P2': [[8, 9, 6], array([0., 0.]) * ms]}"
      ]
     },
     "execution_count": 66,
     "metadata": {},
     "output_type": "execute_result"
    }
   ],
   "source": [
    "patterndic"
   ]
  },
  {
   "cell_type": "code",
   "execution_count": 67,
   "metadata": {},
   "outputs": [],
   "source": [
    "def patterns_to_df(df, patterndic, key):\n",
    "    \n",
    "    patterncount= (len(patterndic[key][0]))+1\n",
    "    for i in patterndic[key][0]:\n",
    "        keystring=keylist_spiketrains[i]\n",
    "        i, j = keystring[0], int(keystring[1:])\n",
    "        df.loc[j,i]=patterncount\n",
    "        df=df.fillna(0)\n",
    "        patterncount-=1\n",
    "        \n",
    "    \n",
    "    return df"
   ]
  },
  {
   "cell_type": "markdown",
   "metadata": {},
   "source": [
    "# PATTERNS SPATIAL"
   ]
  },
  {
   "cell_type": "code",
   "execution_count": 77,
   "metadata": {},
   "outputs": [
    {
     "data": {
      "text/plain": [
       "<AxesSubplot:>"
      ]
     },
     "execution_count": 77,
     "metadata": {},
     "output_type": "execute_result"
    },
    {
     "data": {
      "image/png": "[encoded data removed]",
      "text/plain": [
       "<Figure size 648x432 with 2 Axes>"
      ]
     },
     "metadata": {
      "needs_background": "light"
     },
     "output_type": "display_data"
    }
   ],
   "source": [
    "df4=df.copy()\n",
    "df_Pattern4 = patterns_to_df(df4, patterndic, 'P2')\n",
    "f, ax = plt.subplots(figsize=(9, 6))\n",
    "sns.heatmap(df_Pattern4, annot=False, linewidths=.5, ax=ax, cmap='viridis')"
   ]
  },
  {
   "cell_type": "code",
   "execution_count": 69,
   "metadata": {
    "tags": []
   },
   "outputs": [
    {
     "data": {
      "text/plain": [
       "{'P0': [[2, 4, 27], array([0., 0.]) * ms],\n",
       " 'P1': [[79, 9, 6], array([0., 0.]) * ms],\n",
       " 'P2': [[8, 9, 6], array([0., 0.]) * ms]}"
      ]
     },
     "execution_count": 69,
     "metadata": {},
     "output_type": "execute_result"
    }
   ],
   "source": [
    "patterndic"
   ]
  },
  {
   "cell_type": "code",
   "execution_count": 70,
   "metadata": {},
   "outputs": [],
   "source": [
    "def get_channel_SPADE_participation(patterndic, keylist_spiketrains):\n",
    "    \n",
    "    '''\n",
    "    Input: patterndic = Dic with keys=patternnumber, values=array of list, array[0]\n",
    "            contains the participating channels of that pattern, array[1] contains the lags in between\n",
    "            \n",
    "    Output: a dictionary with key: channel names, e.g. A1, value: int given the number of appearances\n",
    "            in any pattern \n",
    "    '''\n",
    "    \n",
    "    participation_dic={}\n",
    "    for key in patterndic:\n",
    "        for i in patterndic[key][0]:\n",
    "            pd_key=keylist_spiketrains[i]\n",
    "            if pd_key in participation_dic:\n",
    "                participation_dic[pd_key]+=1\n",
    "            else:\n",
    "                participation_dic[pd_key]=1\n",
    "    \n",
    "    return participation_dic\n",
    "        \n",
    "        \n",
    "    \n",
    "    \n",
    "    \n",
    "    "
   ]
  },
  {
   "cell_type": "code",
   "execution_count": 71,
   "metadata": {},
   "outputs": [],
   "source": [
    "pd_dic=get_channel_SPADE_participation(patterndic, keylist_spiketrains)"
   ]
  },
  {
   "cell_type": "code",
   "execution_count": 72,
   "metadata": {},
   "outputs": [
    {
     "data": {
      "text/plain": [
       "{'O10': 1, 'L9': 1, 'L8': 1, 'P16': 1, 'N7': 2, 'M8': 2, 'O6': 1}"
      ]
     },
     "execution_count": 72,
     "metadata": {},
     "output_type": "execute_result"
    }
   ],
   "source": [
    "pd_dic"
   ]
  },
  {
   "cell_type": "code",
   "execution_count": 73,
   "metadata": {},
   "outputs": [
    {
     "ename": "NameError",
     "evalue": "name 'participdic' is not defined",
     "output_type": "error",
     "traceback": [
      "\u001b[1;31m---------------------------------------------------------------------------\u001b[0m",
      "\u001b[1;31mNameError\u001b[0m                                 Traceback (most recent call last)",
      "\u001b[1;32m<ipython-input-73-494bb35c55f3>\u001b[0m in \u001b[0;36m<module>\u001b[1;34m\u001b[0m\n\u001b[1;32m----> 1\u001b[1;33m \u001b[0mparticipdic\u001b[0m\u001b[1;33m[\u001b[0m\u001b[1;34m'A2'\u001b[0m\u001b[1;33m]\u001b[0m\u001b[1;33m+=\u001b[0m\u001b[1;36m1\u001b[0m\u001b[1;33m\u001b[0m\u001b[1;33m\u001b[0m\u001b[0m\n\u001b[0m",
      "\u001b[1;31mNameError\u001b[0m: name 'participdic' is not defined"
     ]
    }
   ],
   "source": [
    "participdic['A2']+=1"
   ]
  },
  {
   "cell_type": "code",
   "execution_count": 74,
   "metadata": {},
   "outputs": [
    {
     "ename": "NameError",
     "evalue": "name 'participdic' is not defined",
     "output_type": "error",
     "traceback": [
      "\u001b[1;31m---------------------------------------------------------------------------\u001b[0m",
      "\u001b[1;31mNameError\u001b[0m                                 Traceback (most recent call last)",
      "\u001b[1;32m<ipython-input-74-b7ae8cbf4bbd>\u001b[0m in \u001b[0;36m<module>\u001b[1;34m\u001b[0m\n\u001b[1;32m----> 1\u001b[1;33m \u001b[0mparticipdic\u001b[0m\u001b[1;33m\u001b[0m\u001b[1;33m\u001b[0m\u001b[0m\n\u001b[0m",
      "\u001b[1;31mNameError\u001b[0m: name 'participdic' is not defined"
     ]
    }
   ],
   "source": [
    "participdic"
   ]
  },
  {
   "cell_type": "code",
   "execution_count": 56,
   "metadata": {},
   "outputs": [],
   "source": [
    "laglist = []"
   ]
  },
  {
   "cell_type": "code",
   "execution_count": null,
   "metadata": {},
   "outputs": [],
   "source": [
    "for i in patterns:\n",
    "    i['']"
   ]
  },
  {
   "cell_type": "code",
   "execution_count": 67,
   "metadata": {},
   "outputs": [
    {
     "data": {
      "text/plain": [
       "'N8'"
      ]
     },
     "execution_count": 67,
     "metadata": {},
     "output_type": "execute_result"
    }
   ],
   "source": [
    "keylist_spiketrains[0]"
   ]
  },
  {
   "cell_type": "code",
   "execution_count": 56,
   "metadata": {},
   "outputs": [
    {
     "data": {
      "text/plain": [
       "'D3'"
      ]
     },
     "execution_count": 56,
     "metadata": {},
     "output_type": "execute_result"
    }
   ],
   "source": [
    "keylist_spiketrains[10]"
   ]
  },
  {
   "cell_type": "code",
   "execution_count": 203,
   "metadata": {},
   "outputs": [
    {
     "data": {
      "text/plain": [
       "47"
      ]
     },
     "execution_count": 203,
     "metadata": {},
     "output_type": "execute_result"
    }
   ],
   "source": [
    "keylist_spiketrains.index('D7')"
   ]
  },
  {
   "cell_type": "code",
   "execution_count": 74,
   "metadata": {},
   "outputs": [],
   "source": [
    "layer2_3list = ['A11', 'A12', 'A13', 'A14', 'A15', 'B12', 'B13', 'B14', 'B15', 'B16', 'C12', 'C13', 'C14', 'C15', 'C16', 'D13', 'D14', 'D15', 'D16', 'E13', 'E14', 'E15', 'E16', 'F13', 'F14', 'F15', 'F16', 'G13', 'G14', 'G15', 'G16', 'H13', 'H14', 'H15', 'H16', 'I13', 'I14', 'I15', 'I16', 'K13', 'K14', 'K15', 'K16', 'L13', 'L14', 'L15', 'L16', 'M13', 'M14', 'M15', 'M16', 'N13', 'N14', 'N15', 'N16', 'O13', 'O14', 'O15', 'O16', 'P12', 'P13', 'P14', 'P15', 'P16', 'R12', 'R13', 'R14', 'R15'] "
   ]
  },
  {
   "cell_type": "code",
   "execution_count": 75,
   "metadata": {},
   "outputs": [],
   "source": [
    "layer4_list = ['A10', 'B10', 'B11', 'C11', 'D11', 'D12', 'E11', 'E12', 'F11', 'F12', 'G11', 'G12', 'H11', 'H12', 'I11', 'I12', 'K11', 'K12', 'L11', 'L12', 'M11', 'M12', 'N11', 'O10', 'O11', 'P10', 'P11', 'R10', 'R11'] "
   ]
  },
  {
   "cell_type": "code",
   "execution_count": 76,
   "metadata": {},
   "outputs": [],
   "source": [
    "layer5_6list = ['A4', 'A5', 'A6', 'A7', 'A8', 'A9', 'B4', 'B5', 'B6', 'B7', 'B8', 'B9', 'C4', 'C5', 'C6', 'C7', 'C8', 'C9', 'C10', 'D4', 'D5', 'D6', 'D7', 'D8', 'D9', 'D10', 'E4', 'E5', 'E6', 'E7', 'E8', 'E9', 'E10', 'F4', 'F5', 'F6', 'F7', 'F8', 'F9', 'F10', 'G4', 'G5', 'G6', 'G7', 'G8', 'G9', 'G10', 'H4', 'H5', 'H6', 'H7', 'H8', 'H9', 'H10', 'I4', 'I5', 'I6', 'I7', 'I8', 'I9', 'I10', 'K4', 'K5', 'K6', 'K7', 'K8', 'K9', 'K10', 'L4', 'L5', 'L6', 'L7', 'L8', 'L9', 'L10', 'M5', 'M6', 'M7', 'M8', 'M9', 'M10', 'N5', 'N6', 'N7', 'N8', 'N9', 'N10', 'O5', 'O6', 'O7', 'O8', 'O9', 'P5', 'P6', 'P7', 'P8', 'P9', 'R5', 'R6', 'R7', 'R8', 'R9']"
   ]
  },
  {
   "cell_type": "code",
   "execution_count": 77,
   "metadata": {},
   "outputs": [],
   "source": [
    "white_matter_list = ['A2', 'A3', 'B1', 'B2', 'B3', 'C1', 'C2', 'C3', 'D1', 'D2', 'D3', 'E1', 'E2', 'E3', 'F1', 'F2', 'F3', 'G1', 'G2', 'G3', 'H1', 'H2', 'H3', 'I1', 'I2', 'I3', 'K1', 'K2', 'K3', 'L1', 'L2', 'L3', 'M1', 'M2', 'M3', 'M4', 'N1', 'N2', 'N3', 'N4', 'O1', 'O2', 'O3', 'O4', 'P1', 'P2', 'P3', 'P4', 'R2', 'R3', 'R4']"
   ]
  },
  {
   "cell_type": "code",
   "execution_count": 83,
   "metadata": {},
   "outputs": [],
   "source": [
    "layer4_list.append('O12')"
   ]
  },
  {
   "cell_type": "code",
   "execution_count": null,
   "metadata": {},
   "outputs": [],
   "source": [
    "columnlist =['A','B','C','D','E','F','G','H','I','K','L','M','N','O','P','R']"
   ]
  },
  {
   "cell_type": "code",
   "execution_count": 84,
   "metadata": {},
   "outputs": [],
   "source": [
    "listdic ={} "
   ]
  },
  {
   "cell_type": "code",
   "execution_count": 90,
   "metadata": {},
   "outputs": [],
   "source": [
    "for i in white_matter_list:\n",
    "    listdic[i]=9"
   ]
  },
  {
   "cell_type": "code",
   "execution_count": 167,
   "metadata": {},
   "outputs": [],
   "source": [
    "def getlayer_firingrate(fireratedic, layerlist):\n",
    "    \n",
    "    sum_all = 0\n",
    "    n=0\n",
    "    std=0\n",
    "    mean=0\n",
    "    frlist = []\n",
    "    for i in layerlist:\n",
    "        sum_all +=fireratedic[i]\n",
    "        frlist.append(fireratedic[i])\n",
    "        n+=1\n",
    "    mean = sum_all/n\n",
    "    mean_nump=np.mean(frlist)\n",
    "    std=np.std(frlist)\n",
    "    \n",
    "    return mean, mean_nump, std"
   ]
  },
  {
   "cell_type": "code",
   "execution_count": 180,
   "metadata": {},
   "outputs": [],
   "source": [
    "mean, mean_nump, std = getlayer_firingrate(fireratedic, white_matter_list)"
   ]
  },
  {
   "cell_type": "code",
   "execution_count": 181,
   "metadata": {},
   "outputs": [
    {
     "data": {
      "text/plain": [
       "1.0565978155038407"
      ]
     },
     "execution_count": 181,
     "metadata": {},
     "output_type": "execute_result"
    }
   ],
   "source": [
    "mean"
   ]
  },
  {
   "cell_type": "code",
   "execution_count": 182,
   "metadata": {},
   "outputs": [
    {
     "data": {
      "text/plain": [
       "1.0565978155038405"
      ]
     },
     "execution_count": 182,
     "metadata": {},
     "output_type": "execute_result"
    }
   ],
   "source": [
    "mean_nump"
   ]
  },
  {
   "cell_type": "code",
   "execution_count": 183,
   "metadata": {},
   "outputs": [
    {
     "data": {
      "text/plain": [
       "2.1159404219949005"
      ]
     },
     "execution_count": 183,
     "metadata": {},
     "output_type": "execute_result"
    }
   ],
   "source": [
    "std"
   ]
  },
  {
   "cell_type": "code",
   "execution_count": null,
   "metadata": {},
   "outputs": [],
   "source": []
  }
 ],
 "metadata": {
  "kernelspec": {
   "display_name": "Python 3",
   "language": "python",
   "name": "python3"
  },
  "language_info": {
   "codemirror_mode": {
    "name": "ipython",
    "version": 3
   },
   "file_extension": ".py",
   "mimetype": "text/x-python",
   "name": "python",
   "nbconvert_exporter": "python",
   "pygments_lexer": "ipython3",
   "version": "3.8.3"
  }
 },
 "nbformat": 4,
 "nbformat_minor": 4
}
